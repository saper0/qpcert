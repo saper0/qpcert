{
 "cells": [
  {
   "cell_type": "code",
   "execution_count": 1,
   "metadata": {},
   "outputs": [],
   "source": [
    "%load_ext autoreload\n",
    "%autoreload 2"
   ]
  },
  {
   "cell_type": "code",
   "execution_count": 2,
   "metadata": {},
   "outputs": [
    {
     "name": "stderr",
     "output_type": "stream",
     "text": [
      "/ceph/ssd/students/sabanaya/miniconda3/envs/gnn_robust_certificate/lib/python3.11/site-packages/tqdm/auto.py:21: TqdmWarning: IProgress not found. Please update jupyter and ipywidgets. See https://ipywidgets.readthedocs.io/en/stable/user_install.html\n",
      "  from .autonotebook import tqdm as notebook_tqdm\n",
      "WARNING:root:Importing setup_logger directly from seml is deprecated.\n",
      "Use from seml.experiment import setup_logger instead.\n",
      "Note that seml.experiment.Experiment already includes the logger setup.\n",
      "See https://github.com/TUM-DAML/seml/blob/master/examples/example_experiment.py\n"
     ]
    }
   ],
   "source": [
    "import torch\n",
    "import numpy as np\n",
    "from exp_ntk_certify_label_binary_onenode import run"
   ]
  },
  {
   "cell_type": "code",
   "execution_count": 3,
   "metadata": {},
   "outputs": [],
   "source": [
    "seed = 0\n",
    "\n",
    "data_params = dict(\n",
    "    dataset = \"csbm\",\n",
    "    learning_setting = \"transductive\", # or \"transdructive\"\n",
    "    specification = dict(\n",
    "        classes = 2,\n",
    "        n_trn_labeled = 20, \n",
    "        n_trn_unlabeled = 0,\n",
    "        n_val = 20,\n",
    "        n_test = 10,\n",
    "        sigma = 1,\n",
    "        avg_within_class_degree = 1.58 * 2,\n",
    "        avg_between_class_degree = 0.37 * 2,\n",
    "        K = 1.5,\n",
    "        seed = 0 # used to generate the dataset & data split\n",
    "    )\n",
    ")\n",
    "\n",
    "# model_params = dict(\n",
    "#     label = \"APPNP\",\n",
    "#     model = \"APPNP\",\n",
    "#     normalization = \"sym_normalization\",\n",
    "#     alpha = 0.25,\n",
    "#     iteration = 10,\n",
    "#     depth = 1,\n",
    "#     #regularizer = 1e-8\n",
    "#     regularizer = 1,\n",
    "#     pred_method = \"svm\",\n",
    "#     activation = \"relu\"\n",
    "# )\n",
    "\n",
    "certificate_params = dict(\n",
    "    target_idx = 5,\n",
    "    n_adversarial = 10, # number adversarial nodes\n",
    "    method = \"XXT\",\n",
    "    perturbation_model = \"linf\",\n",
    "    delta = 0.25, # l0: local budget = delta * feature_dim\n",
    "    delta_absolute = True,\n",
    "    attack_nodes = \"test\"\n",
    ")\n",
    "\n",
    "verbosity_params = dict(\n",
    "    debug_lvl = \"warning\"\n",
    ")  \n",
    "\n",
    "other_params = dict(\n",
    "    device = \"cpu\",\n",
    "    debug = True,\n",
    "    dtype = torch.float64,\n",
    "    allow_tf32 = False,\n",
    "    enable_gradient = False,\n",
    "    path_gurobi_license = \"sabanaya\"\n",
    ")"
   ]
  },
  {
   "cell_type": "code",
   "execution_count": 4,
   "metadata": {},
   "outputs": [],
   "source": [
    "model_params = dict(\n",
    "    label = \"SGC\",\n",
    "    model = \"GCN\",\n",
    "    normalization = \"row_normalization\",\n",
    "    depth = 1,\n",
    "    #regularizer = 1e-8\n",
    "    regularizer = 0.001,\n",
    "    pred_method = \"svm\",\n",
    "    activation = \"linear\",\n",
    "    solver = \"qplayer\",\n",
    "    alpha_tol = 1e-4,\n",
    "    bias = False,\n",
    ")"
   ]
  },
  {
   "cell_type": "code",
   "execution_count": 5,
   "metadata": {},
   "outputs": [],
   "source": [
    "other_params[\"device\"] = \"cpu\"\n",
    "other_params[\"debug\"] = False\n",
    "certificate_params[\"n_adversarial\"] = 10\n",
    "certificate_params[\"delta\"] = 0.01\n",
    "certificate_params[\"delta_absolute\"] = True\n",
    "certificate_params[\"method\"] = \"XXT\"\n",
    "certificate_params[\"perturbation_model\"] = \"linf\"\n",
    "certificate_params[\"attack_nodes\"] = \"test\"\n",
    "other_params[\"path_gurobi_license\"] = \"sabanaya\"\n",
    "verbosity_params[\"debug_lvl\"] = \"info\"\n",
    "model_params[\"regularizer\"] = 0.01\n",
    "model_params[\"solver\"] = \"qplayer\"\n",
    "model_params[\"alpha_tol\"] = 1e-4\n",
    "model_params[\"bias\"] = False\n",
    "data_params[\"learning_setting\"] = \"transductive\""
   ]
  },
  {
   "cell_type": "markdown",
   "metadata": {},
   "source": [
    "# label binary onenode"
   ]
  },
  {
   "cell_type": "code",
   "execution_count": 6,
   "metadata": {},
   "outputs": [
    {
     "data": {
      "text/html": [
       "<pre style=\"white-space:pre;overflow-x:auto;line-height:normal;font-family:Menlo,'DejaVu Sans Mono',consolas,'Courier New',monospace\"><span style=\"color: #7fbfbf; text-decoration-color: #7fbfbf\">[05:42:07] </span><span style=\"color: #000080; text-decoration-color: #000080\">INFO    </span> Starting         <a href=\"file:///ceph/ssd/students/sabanaya/ntk-robust/exp_ntk_certify_label_binary_onenode.py\" target=\"_blank\"><span style=\"color: #7f7f7f; text-decoration-color: #7f7f7f\">exp_ntk_certify_label_binary_onenode.py</span></a><span style=\"color: #7f7f7f; text-decoration-color: #7f7f7f\">:</span><a href=\"file:///ceph/ssd/students/sabanaya/ntk-robust/exp_ntk_certify_label_binary_onenode.py#126\" target=\"_blank\"><span style=\"color: #7f7f7f; text-decoration-color: #7f7f7f\">126</span></a>\n",
       "<span style=\"color: #7fbfbf; text-decoration-color: #7fbfbf\">           </span>         experiment       <span style=\"color: #7f7f7f; text-decoration-color: #7f7f7f\">                                           </span>\n",
       "<span style=\"color: #7fbfbf; text-decoration-color: #7fbfbf\">           </span>         exp_ntk_certify_ <span style=\"color: #7f7f7f; text-decoration-color: #7f7f7f\">                                           </span>\n",
       "<span style=\"color: #7fbfbf; text-decoration-color: #7fbfbf\">           </span>         label_binary_one <span style=\"color: #7f7f7f; text-decoration-color: #7f7f7f\">                                           </span>\n",
       "<span style=\"color: #7fbfbf; text-decoration-color: #7fbfbf\">           </span>         node with        <span style=\"color: #7f7f7f; text-decoration-color: #7f7f7f\">                                           </span>\n",
       "<span style=\"color: #7fbfbf; text-decoration-color: #7fbfbf\">           </span>         configuration:   <span style=\"color: #7f7f7f; text-decoration-color: #7f7f7f\">                                           </span>\n",
       "</pre>\n"
      ],
      "text/plain": [
       "\u001b[2;36m[05:42:07]\u001b[0m\u001b[2;36m \u001b[0m\u001b[34mINFO    \u001b[0m Starting         \u001b]8;id=293588;file:///ceph/ssd/students/sabanaya/ntk-robust/exp_ntk_certify_label_binary_onenode.py\u001b\\\u001b[2mexp_ntk_certify_label_binary_onenode.py\u001b[0m\u001b]8;;\u001b\\\u001b[2m:\u001b[0m\u001b]8;id=265697;file:///ceph/ssd/students/sabanaya/ntk-robust/exp_ntk_certify_label_binary_onenode.py#126\u001b\\\u001b[2m126\u001b[0m\u001b]8;;\u001b\\\n",
       "\u001b[2;36m           \u001b[0m         experiment       \u001b[2m                                           \u001b[0m\n",
       "\u001b[2;36m           \u001b[0m         exp_ntk_certify_ \u001b[2m                                           \u001b[0m\n",
       "\u001b[2;36m           \u001b[0m         label_binary_one \u001b[2m                                           \u001b[0m\n",
       "\u001b[2;36m           \u001b[0m         node with        \u001b[2m                                           \u001b[0m\n",
       "\u001b[2;36m           \u001b[0m         configuration:   \u001b[2m                                           \u001b[0m\n"
      ]
     },
     "metadata": {},
     "output_type": "display_data"
    },
    {
     "data": {
      "text/html": [
       "<pre style=\"white-space:pre;overflow-x:auto;line-height:normal;font-family:Menlo,'DejaVu Sans Mono',consolas,'Courier New',monospace\"><span style=\"color: #7fbfbf; text-decoration-color: #7fbfbf\">           </span><span style=\"color: #000080; text-decoration-color: #000080\">INFO    </span> data_params:     <a href=\"file:///ceph/ssd/students/sabanaya/ntk-robust/exp_ntk_certify_label_binary_onenode.py\" target=\"_blank\"><span style=\"color: #7f7f7f; text-decoration-color: #7f7f7f\">exp_ntk_certify_label_binary_onenode.py</span></a><span style=\"color: #7f7f7f; text-decoration-color: #7f7f7f\">:</span><a href=\"file:///ceph/ssd/students/sabanaya/ntk-robust/exp_ntk_certify_label_binary_onenode.py#127\" target=\"_blank\"><span style=\"color: #7f7f7f; text-decoration-color: #7f7f7f\">127</span></a>\n",
       "<span style=\"color: #7fbfbf; text-decoration-color: #7fbfbf\">           </span>         <span style=\"font-weight: bold\">{</span><span style=\"color: #008000; text-decoration-color: #008000\">'dataset'</span>:      <span style=\"color: #7f7f7f; text-decoration-color: #7f7f7f\">                                           </span>\n",
       "<span style=\"color: #7fbfbf; text-decoration-color: #7fbfbf\">           </span>         <span style=\"color: #008000; text-decoration-color: #008000\">'csbm'</span>,          <span style=\"color: #7f7f7f; text-decoration-color: #7f7f7f\">                                           </span>\n",
       "<span style=\"color: #7fbfbf; text-decoration-color: #7fbfbf\">           </span>         <span style=\"color: #008000; text-decoration-color: #008000\">'learning_settin</span> <span style=\"color: #7f7f7f; text-decoration-color: #7f7f7f\">                                           </span>\n",
       "<span style=\"color: #7fbfbf; text-decoration-color: #7fbfbf\">           </span>         <span style=\"color: #008000; text-decoration-color: #008000\">g'</span>:              <span style=\"color: #7f7f7f; text-decoration-color: #7f7f7f\">                                           </span>\n",
       "<span style=\"color: #7fbfbf; text-decoration-color: #7fbfbf\">           </span>         <span style=\"color: #008000; text-decoration-color: #008000\">'transductive'</span>,  <span style=\"color: #7f7f7f; text-decoration-color: #7f7f7f\">                                           </span>\n",
       "<span style=\"color: #7fbfbf; text-decoration-color: #7fbfbf\">           </span>         <span style=\"color: #008000; text-decoration-color: #008000\">'specification'</span>: <span style=\"color: #7f7f7f; text-decoration-color: #7f7f7f\">                                           </span>\n",
       "<span style=\"color: #7fbfbf; text-decoration-color: #7fbfbf\">           </span>         <span style=\"font-weight: bold\">{</span><span style=\"color: #008000; text-decoration-color: #008000\">'classes'</span>: <span style=\"color: #008080; text-decoration-color: #008080; font-weight: bold\">2</span>,   <span style=\"color: #7f7f7f; text-decoration-color: #7f7f7f\">                                           </span>\n",
       "<span style=\"color: #7fbfbf; text-decoration-color: #7fbfbf\">           </span>         <span style=\"color: #008000; text-decoration-color: #008000\">'n_trn_labeled'</span>: <span style=\"color: #7f7f7f; text-decoration-color: #7f7f7f\">                                           </span>\n",
       "<span style=\"color: #7fbfbf; text-decoration-color: #7fbfbf\">           </span>         <span style=\"color: #008080; text-decoration-color: #008080; font-weight: bold\">20</span>,              <span style=\"color: #7f7f7f; text-decoration-color: #7f7f7f\">                                           </span>\n",
       "<span style=\"color: #7fbfbf; text-decoration-color: #7fbfbf\">           </span>         <span style=\"color: #008000; text-decoration-color: #008000\">'n_trn_unlabeled</span> <span style=\"color: #7f7f7f; text-decoration-color: #7f7f7f\">                                           </span>\n",
       "<span style=\"color: #7fbfbf; text-decoration-color: #7fbfbf\">           </span>         <span style=\"color: #008000; text-decoration-color: #008000\">'</span>: <span style=\"color: #008080; text-decoration-color: #008080; font-weight: bold\">0</span>, <span style=\"color: #008000; text-decoration-color: #008000\">'n_val'</span>:   <span style=\"color: #7f7f7f; text-decoration-color: #7f7f7f\">                                           </span>\n",
       "<span style=\"color: #7fbfbf; text-decoration-color: #7fbfbf\">           </span>         <span style=\"color: #008080; text-decoration-color: #008080; font-weight: bold\">20</span>, <span style=\"color: #008000; text-decoration-color: #008000\">'n_test'</span>:    <span style=\"color: #7f7f7f; text-decoration-color: #7f7f7f\">                                           </span>\n",
       "<span style=\"color: #7fbfbf; text-decoration-color: #7fbfbf\">           </span>         <span style=\"color: #008080; text-decoration-color: #008080; font-weight: bold\">10</span>, <span style=\"color: #008000; text-decoration-color: #008000\">'sigma'</span>: <span style=\"color: #008080; text-decoration-color: #008080; font-weight: bold\">1</span>,  <span style=\"color: #7f7f7f; text-decoration-color: #7f7f7f\">                                           </span>\n",
       "<span style=\"color: #7fbfbf; text-decoration-color: #7fbfbf\">           </span>         <span style=\"color: #008000; text-decoration-color: #008000\">'avg_within_clas</span> <span style=\"color: #7f7f7f; text-decoration-color: #7f7f7f\">                                           </span>\n",
       "<span style=\"color: #7fbfbf; text-decoration-color: #7fbfbf\">           </span>         <span style=\"color: #008000; text-decoration-color: #008000\">s_degree'</span>: <span style=\"color: #008080; text-decoration-color: #008080; font-weight: bold\">3.16</span>, <span style=\"color: #7f7f7f; text-decoration-color: #7f7f7f\">                                           </span>\n",
       "<span style=\"color: #7fbfbf; text-decoration-color: #7fbfbf\">           </span>         <span style=\"color: #008000; text-decoration-color: #008000\">'avg_between_cla</span> <span style=\"color: #7f7f7f; text-decoration-color: #7f7f7f\">                                           </span>\n",
       "<span style=\"color: #7fbfbf; text-decoration-color: #7fbfbf\">           </span>         <span style=\"color: #008000; text-decoration-color: #008000\">ss_degree'</span>:      <span style=\"color: #7f7f7f; text-decoration-color: #7f7f7f\">                                           </span>\n",
       "<span style=\"color: #7fbfbf; text-decoration-color: #7fbfbf\">           </span>         <span style=\"color: #008080; text-decoration-color: #008080; font-weight: bold\">0.74</span>, <span style=\"color: #008000; text-decoration-color: #008000\">'K'</span>: <span style=\"color: #008080; text-decoration-color: #008080; font-weight: bold\">1.5</span>,  <span style=\"color: #7f7f7f; text-decoration-color: #7f7f7f\">                                           </span>\n",
       "<span style=\"color: #7fbfbf; text-decoration-color: #7fbfbf\">           </span>         <span style=\"color: #008000; text-decoration-color: #008000\">'seed'</span>: <span style=\"color: #008080; text-decoration-color: #008080; font-weight: bold\">0</span><span style=\"font-weight: bold\">}}</span>      <span style=\"color: #7f7f7f; text-decoration-color: #7f7f7f\">                                           </span>\n",
       "</pre>\n"
      ],
      "text/plain": [
       "\u001b[2;36m          \u001b[0m\u001b[2;36m \u001b[0m\u001b[34mINFO    \u001b[0m data_params:     \u001b]8;id=312024;file:///ceph/ssd/students/sabanaya/ntk-robust/exp_ntk_certify_label_binary_onenode.py\u001b\\\u001b[2mexp_ntk_certify_label_binary_onenode.py\u001b[0m\u001b]8;;\u001b\\\u001b[2m:\u001b[0m\u001b]8;id=23923;file:///ceph/ssd/students/sabanaya/ntk-robust/exp_ntk_certify_label_binary_onenode.py#127\u001b\\\u001b[2m127\u001b[0m\u001b]8;;\u001b\\\n",
       "\u001b[2;36m           \u001b[0m         \u001b[1m{\u001b[0m\u001b[32m'dataset'\u001b[0m:      \u001b[2m                                           \u001b[0m\n",
       "\u001b[2;36m           \u001b[0m         \u001b[32m'csbm'\u001b[0m,          \u001b[2m                                           \u001b[0m\n",
       "\u001b[2;36m           \u001b[0m         \u001b[32m'learning_settin\u001b[0m \u001b[2m                                           \u001b[0m\n",
       "\u001b[2;36m           \u001b[0m         \u001b[32mg'\u001b[0m:              \u001b[2m                                           \u001b[0m\n",
       "\u001b[2;36m           \u001b[0m         \u001b[32m'transductive'\u001b[0m,  \u001b[2m                                           \u001b[0m\n",
       "\u001b[2;36m           \u001b[0m         \u001b[32m'specification'\u001b[0m: \u001b[2m                                           \u001b[0m\n",
       "\u001b[2;36m           \u001b[0m         \u001b[1m{\u001b[0m\u001b[32m'classes'\u001b[0m: \u001b[1;36m2\u001b[0m,   \u001b[2m                                           \u001b[0m\n",
       "\u001b[2;36m           \u001b[0m         \u001b[32m'n_trn_labeled'\u001b[0m: \u001b[2m                                           \u001b[0m\n",
       "\u001b[2;36m           \u001b[0m         \u001b[1;36m20\u001b[0m,              \u001b[2m                                           \u001b[0m\n",
       "\u001b[2;36m           \u001b[0m         \u001b[32m'n_trn_unlabeled\u001b[0m \u001b[2m                                           \u001b[0m\n",
       "\u001b[2;36m           \u001b[0m         \u001b[32m'\u001b[0m: \u001b[1;36m0\u001b[0m, \u001b[32m'n_val'\u001b[0m:   \u001b[2m                                           \u001b[0m\n",
       "\u001b[2;36m           \u001b[0m         \u001b[1;36m20\u001b[0m, \u001b[32m'n_test'\u001b[0m:    \u001b[2m                                           \u001b[0m\n",
       "\u001b[2;36m           \u001b[0m         \u001b[1;36m10\u001b[0m, \u001b[32m'sigma'\u001b[0m: \u001b[1;36m1\u001b[0m,  \u001b[2m                                           \u001b[0m\n",
       "\u001b[2;36m           \u001b[0m         \u001b[32m'avg_within_clas\u001b[0m \u001b[2m                                           \u001b[0m\n",
       "\u001b[2;36m           \u001b[0m         \u001b[32ms_degree'\u001b[0m: \u001b[1;36m3.16\u001b[0m, \u001b[2m                                           \u001b[0m\n",
       "\u001b[2;36m           \u001b[0m         \u001b[32m'avg_between_cla\u001b[0m \u001b[2m                                           \u001b[0m\n",
       "\u001b[2;36m           \u001b[0m         \u001b[32mss_degree'\u001b[0m:      \u001b[2m                                           \u001b[0m\n",
       "\u001b[2;36m           \u001b[0m         \u001b[1;36m0.74\u001b[0m, \u001b[32m'K'\u001b[0m: \u001b[1;36m1.5\u001b[0m,  \u001b[2m                                           \u001b[0m\n",
       "\u001b[2;36m           \u001b[0m         \u001b[32m'seed'\u001b[0m: \u001b[1;36m0\u001b[0m\u001b[1m}\u001b[0m\u001b[1m}\u001b[0m      \u001b[2m                                           \u001b[0m\n"
      ]
     },
     "metadata": {},
     "output_type": "display_data"
    },
    {
     "data": {
      "text/html": [
       "<pre style=\"white-space:pre;overflow-x:auto;line-height:normal;font-family:Menlo,'DejaVu Sans Mono',consolas,'Courier New',monospace\"><span style=\"color: #7fbfbf; text-decoration-color: #7fbfbf\">           </span><span style=\"color: #000080; text-decoration-color: #000080\">INFO    </span> model_params:    <a href=\"file:///ceph/ssd/students/sabanaya/ntk-robust/exp_ntk_certify_label_binary_onenode.py\" target=\"_blank\"><span style=\"color: #7f7f7f; text-decoration-color: #7f7f7f\">exp_ntk_certify_label_binary_onenode.py</span></a><span style=\"color: #7f7f7f; text-decoration-color: #7f7f7f\">:</span><a href=\"file:///ceph/ssd/students/sabanaya/ntk-robust/exp_ntk_certify_label_binary_onenode.py#128\" target=\"_blank\"><span style=\"color: #7f7f7f; text-decoration-color: #7f7f7f\">128</span></a>\n",
       "<span style=\"color: #7fbfbf; text-decoration-color: #7fbfbf\">           </span>         <span style=\"font-weight: bold\">{</span><span style=\"color: #008000; text-decoration-color: #008000\">'label'</span>: <span style=\"color: #008000; text-decoration-color: #008000\">'SGC'</span>, <span style=\"color: #7f7f7f; text-decoration-color: #7f7f7f\">                                           </span>\n",
       "<span style=\"color: #7fbfbf; text-decoration-color: #7fbfbf\">           </span>         <span style=\"color: #008000; text-decoration-color: #008000\">'model'</span>: <span style=\"color: #008000; text-decoration-color: #008000\">'GCN'</span>,  <span style=\"color: #7f7f7f; text-decoration-color: #7f7f7f\">                                           </span>\n",
       "<span style=\"color: #7fbfbf; text-decoration-color: #7fbfbf\">           </span>         <span style=\"color: #008000; text-decoration-color: #008000\">'normalization'</span>: <span style=\"color: #7f7f7f; text-decoration-color: #7f7f7f\">                                           </span>\n",
       "<span style=\"color: #7fbfbf; text-decoration-color: #7fbfbf\">           </span>         <span style=\"color: #008000; text-decoration-color: #008000\">'row_normalizati</span> <span style=\"color: #7f7f7f; text-decoration-color: #7f7f7f\">                                           </span>\n",
       "<span style=\"color: #7fbfbf; text-decoration-color: #7fbfbf\">           </span>         <span style=\"color: #008000; text-decoration-color: #008000\">on'</span>, <span style=\"color: #008000; text-decoration-color: #008000\">'depth'</span>: <span style=\"color: #008080; text-decoration-color: #008080; font-weight: bold\">1</span>, <span style=\"color: #7f7f7f; text-decoration-color: #7f7f7f\">                                           </span>\n",
       "<span style=\"color: #7fbfbf; text-decoration-color: #7fbfbf\">           </span>         <span style=\"color: #008000; text-decoration-color: #008000\">'regularizer'</span>:   <span style=\"color: #7f7f7f; text-decoration-color: #7f7f7f\">                                           </span>\n",
       "<span style=\"color: #7fbfbf; text-decoration-color: #7fbfbf\">           </span>         <span style=\"color: #008080; text-decoration-color: #008080; font-weight: bold\">0.01</span>,            <span style=\"color: #7f7f7f; text-decoration-color: #7f7f7f\">                                           </span>\n",
       "<span style=\"color: #7fbfbf; text-decoration-color: #7fbfbf\">           </span>         <span style=\"color: #008000; text-decoration-color: #008000\">'pred_method'</span>:   <span style=\"color: #7f7f7f; text-decoration-color: #7f7f7f\">                                           </span>\n",
       "<span style=\"color: #7fbfbf; text-decoration-color: #7fbfbf\">           </span>         <span style=\"color: #008000; text-decoration-color: #008000\">'svm'</span>,           <span style=\"color: #7f7f7f; text-decoration-color: #7f7f7f\">                                           </span>\n",
       "<span style=\"color: #7fbfbf; text-decoration-color: #7fbfbf\">           </span>         <span style=\"color: #008000; text-decoration-color: #008000\">'activation'</span>:    <span style=\"color: #7f7f7f; text-decoration-color: #7f7f7f\">                                           </span>\n",
       "<span style=\"color: #7fbfbf; text-decoration-color: #7fbfbf\">           </span>         <span style=\"color: #008000; text-decoration-color: #008000\">'linear'</span>,        <span style=\"color: #7f7f7f; text-decoration-color: #7f7f7f\">                                           </span>\n",
       "<span style=\"color: #7fbfbf; text-decoration-color: #7fbfbf\">           </span>         <span style=\"color: #008000; text-decoration-color: #008000\">'solver'</span>:        <span style=\"color: #7f7f7f; text-decoration-color: #7f7f7f\">                                           </span>\n",
       "<span style=\"color: #7fbfbf; text-decoration-color: #7fbfbf\">           </span>         <span style=\"color: #008000; text-decoration-color: #008000\">'qplayer'</span>,       <span style=\"color: #7f7f7f; text-decoration-color: #7f7f7f\">                                           </span>\n",
       "<span style=\"color: #7fbfbf; text-decoration-color: #7fbfbf\">           </span>         <span style=\"color: #008000; text-decoration-color: #008000\">'alpha_tol'</span>:     <span style=\"color: #7f7f7f; text-decoration-color: #7f7f7f\">                                           </span>\n",
       "<span style=\"color: #7fbfbf; text-decoration-color: #7fbfbf\">           </span>         <span style=\"color: #008080; text-decoration-color: #008080; font-weight: bold\">0.0001</span>, <span style=\"color: #008000; text-decoration-color: #008000\">'bias'</span>:  <span style=\"color: #7f7f7f; text-decoration-color: #7f7f7f\">                                           </span>\n",
       "<span style=\"color: #7fbfbf; text-decoration-color: #7fbfbf\">           </span>         <span style=\"color: #ff0000; text-decoration-color: #ff0000; font-style: italic\">False</span><span style=\"font-weight: bold\">}</span>           <span style=\"color: #7f7f7f; text-decoration-color: #7f7f7f\">                                           </span>\n",
       "</pre>\n"
      ],
      "text/plain": [
       "\u001b[2;36m          \u001b[0m\u001b[2;36m \u001b[0m\u001b[34mINFO    \u001b[0m model_params:    \u001b]8;id=519516;file:///ceph/ssd/students/sabanaya/ntk-robust/exp_ntk_certify_label_binary_onenode.py\u001b\\\u001b[2mexp_ntk_certify_label_binary_onenode.py\u001b[0m\u001b]8;;\u001b\\\u001b[2m:\u001b[0m\u001b]8;id=159749;file:///ceph/ssd/students/sabanaya/ntk-robust/exp_ntk_certify_label_binary_onenode.py#128\u001b\\\u001b[2m128\u001b[0m\u001b]8;;\u001b\\\n",
       "\u001b[2;36m           \u001b[0m         \u001b[1m{\u001b[0m\u001b[32m'label'\u001b[0m: \u001b[32m'SGC'\u001b[0m, \u001b[2m                                           \u001b[0m\n",
       "\u001b[2;36m           \u001b[0m         \u001b[32m'model'\u001b[0m: \u001b[32m'GCN'\u001b[0m,  \u001b[2m                                           \u001b[0m\n",
       "\u001b[2;36m           \u001b[0m         \u001b[32m'normalization'\u001b[0m: \u001b[2m                                           \u001b[0m\n",
       "\u001b[2;36m           \u001b[0m         \u001b[32m'row_normalizati\u001b[0m \u001b[2m                                           \u001b[0m\n",
       "\u001b[2;36m           \u001b[0m         \u001b[32mon'\u001b[0m, \u001b[32m'depth'\u001b[0m: \u001b[1;36m1\u001b[0m, \u001b[2m                                           \u001b[0m\n",
       "\u001b[2;36m           \u001b[0m         \u001b[32m'regularizer'\u001b[0m:   \u001b[2m                                           \u001b[0m\n",
       "\u001b[2;36m           \u001b[0m         \u001b[1;36m0.01\u001b[0m,            \u001b[2m                                           \u001b[0m\n",
       "\u001b[2;36m           \u001b[0m         \u001b[32m'pred_method'\u001b[0m:   \u001b[2m                                           \u001b[0m\n",
       "\u001b[2;36m           \u001b[0m         \u001b[32m'svm'\u001b[0m,           \u001b[2m                                           \u001b[0m\n",
       "\u001b[2;36m           \u001b[0m         \u001b[32m'activation'\u001b[0m:    \u001b[2m                                           \u001b[0m\n",
       "\u001b[2;36m           \u001b[0m         \u001b[32m'linear'\u001b[0m,        \u001b[2m                                           \u001b[0m\n",
       "\u001b[2;36m           \u001b[0m         \u001b[32m'solver'\u001b[0m:        \u001b[2m                                           \u001b[0m\n",
       "\u001b[2;36m           \u001b[0m         \u001b[32m'qplayer'\u001b[0m,       \u001b[2m                                           \u001b[0m\n",
       "\u001b[2;36m           \u001b[0m         \u001b[32m'alpha_tol'\u001b[0m:     \u001b[2m                                           \u001b[0m\n",
       "\u001b[2;36m           \u001b[0m         \u001b[1;36m0.0001\u001b[0m, \u001b[32m'bias'\u001b[0m:  \u001b[2m                                           \u001b[0m\n",
       "\u001b[2;36m           \u001b[0m         \u001b[3;91mFalse\u001b[0m\u001b[1m}\u001b[0m           \u001b[2m                                           \u001b[0m\n"
      ]
     },
     "metadata": {},
     "output_type": "display_data"
    },
    {
     "data": {
      "text/html": [
       "<pre style=\"white-space:pre;overflow-x:auto;line-height:normal;font-family:Menlo,'DejaVu Sans Mono',consolas,'Courier New',monospace\"><span style=\"color: #7fbfbf; text-decoration-color: #7fbfbf\">           </span><span style=\"color: #000080; text-decoration-color: #000080\">INFO    </span> certification_pa <a href=\"file:///ceph/ssd/students/sabanaya/ntk-robust/exp_ntk_certify_label_binary_onenode.py\" target=\"_blank\"><span style=\"color: #7f7f7f; text-decoration-color: #7f7f7f\">exp_ntk_certify_label_binary_onenode.py</span></a><span style=\"color: #7f7f7f; text-decoration-color: #7f7f7f\">:</span><a href=\"file:///ceph/ssd/students/sabanaya/ntk-robust/exp_ntk_certify_label_binary_onenode.py#129\" target=\"_blank\"><span style=\"color: #7f7f7f; text-decoration-color: #7f7f7f\">129</span></a>\n",
       "<span style=\"color: #7fbfbf; text-decoration-color: #7fbfbf\">           </span>         rams:            <span style=\"color: #7f7f7f; text-decoration-color: #7f7f7f\">                                           </span>\n",
       "<span style=\"color: #7fbfbf; text-decoration-color: #7fbfbf\">           </span>         <span style=\"font-weight: bold\">{</span><span style=\"color: #008000; text-decoration-color: #008000\">'target_idx'</span>:   <span style=\"color: #7f7f7f; text-decoration-color: #7f7f7f\">                                           </span>\n",
       "<span style=\"color: #7fbfbf; text-decoration-color: #7fbfbf\">           </span>         <span style=\"color: #008080; text-decoration-color: #008080; font-weight: bold\">5</span>,               <span style=\"color: #7f7f7f; text-decoration-color: #7f7f7f\">                                           </span>\n",
       "<span style=\"color: #7fbfbf; text-decoration-color: #7fbfbf\">           </span>         <span style=\"color: #008000; text-decoration-color: #008000\">'n_adversarial'</span>: <span style=\"color: #7f7f7f; text-decoration-color: #7f7f7f\">                                           </span>\n",
       "<span style=\"color: #7fbfbf; text-decoration-color: #7fbfbf\">           </span>         <span style=\"color: #008080; text-decoration-color: #008080; font-weight: bold\">10</span>, <span style=\"color: #008000; text-decoration-color: #008000\">'method'</span>:    <span style=\"color: #7f7f7f; text-decoration-color: #7f7f7f\">                                           </span>\n",
       "<span style=\"color: #7fbfbf; text-decoration-color: #7fbfbf\">           </span>         <span style=\"color: #008000; text-decoration-color: #008000\">'XXT'</span>,           <span style=\"color: #7f7f7f; text-decoration-color: #7f7f7f\">                                           </span>\n",
       "<span style=\"color: #7fbfbf; text-decoration-color: #7fbfbf\">           </span>         <span style=\"color: #008000; text-decoration-color: #008000\">'perturbation_mo</span> <span style=\"color: #7f7f7f; text-decoration-color: #7f7f7f\">                                           </span>\n",
       "<span style=\"color: #7fbfbf; text-decoration-color: #7fbfbf\">           </span>         <span style=\"color: #008000; text-decoration-color: #008000\">del'</span>: <span style=\"color: #008000; text-decoration-color: #008000\">'linf'</span>,    <span style=\"color: #7f7f7f; text-decoration-color: #7f7f7f\">                                           </span>\n",
       "<span style=\"color: #7fbfbf; text-decoration-color: #7fbfbf\">           </span>         <span style=\"color: #008000; text-decoration-color: #008000\">'delta'</span>: <span style=\"color: #008080; text-decoration-color: #008080; font-weight: bold\">0.01</span>,   <span style=\"color: #7f7f7f; text-decoration-color: #7f7f7f\">                                           </span>\n",
       "<span style=\"color: #7fbfbf; text-decoration-color: #7fbfbf\">           </span>         <span style=\"color: #008000; text-decoration-color: #008000\">'delta_absolute'</span> <span style=\"color: #7f7f7f; text-decoration-color: #7f7f7f\">                                           </span>\n",
       "<span style=\"color: #7fbfbf; text-decoration-color: #7fbfbf\">           </span>         : <span style=\"color: #00ff00; text-decoration-color: #00ff00; font-style: italic\">True</span>,          <span style=\"color: #7f7f7f; text-decoration-color: #7f7f7f\">                                           </span>\n",
       "<span style=\"color: #7fbfbf; text-decoration-color: #7fbfbf\">           </span>         <span style=\"color: #008000; text-decoration-color: #008000\">'attack_nodes'</span>:  <span style=\"color: #7f7f7f; text-decoration-color: #7f7f7f\">                                           </span>\n",
       "<span style=\"color: #7fbfbf; text-decoration-color: #7fbfbf\">           </span>         <span style=\"color: #008000; text-decoration-color: #008000\">'test'</span><span style=\"font-weight: bold\">}</span>          <span style=\"color: #7f7f7f; text-decoration-color: #7f7f7f\">                                           </span>\n",
       "</pre>\n"
      ],
      "text/plain": [
       "\u001b[2;36m          \u001b[0m\u001b[2;36m \u001b[0m\u001b[34mINFO    \u001b[0m certification_pa \u001b]8;id=361418;file:///ceph/ssd/students/sabanaya/ntk-robust/exp_ntk_certify_label_binary_onenode.py\u001b\\\u001b[2mexp_ntk_certify_label_binary_onenode.py\u001b[0m\u001b]8;;\u001b\\\u001b[2m:\u001b[0m\u001b]8;id=922437;file:///ceph/ssd/students/sabanaya/ntk-robust/exp_ntk_certify_label_binary_onenode.py#129\u001b\\\u001b[2m129\u001b[0m\u001b]8;;\u001b\\\n",
       "\u001b[2;36m           \u001b[0m         rams:            \u001b[2m                                           \u001b[0m\n",
       "\u001b[2;36m           \u001b[0m         \u001b[1m{\u001b[0m\u001b[32m'target_idx'\u001b[0m:   \u001b[2m                                           \u001b[0m\n",
       "\u001b[2;36m           \u001b[0m         \u001b[1;36m5\u001b[0m,               \u001b[2m                                           \u001b[0m\n",
       "\u001b[2;36m           \u001b[0m         \u001b[32m'n_adversarial'\u001b[0m: \u001b[2m                                           \u001b[0m\n",
       "\u001b[2;36m           \u001b[0m         \u001b[1;36m10\u001b[0m, \u001b[32m'method'\u001b[0m:    \u001b[2m                                           \u001b[0m\n",
       "\u001b[2;36m           \u001b[0m         \u001b[32m'XXT'\u001b[0m,           \u001b[2m                                           \u001b[0m\n",
       "\u001b[2;36m           \u001b[0m         \u001b[32m'perturbation_mo\u001b[0m \u001b[2m                                           \u001b[0m\n",
       "\u001b[2;36m           \u001b[0m         \u001b[32mdel'\u001b[0m: \u001b[32m'linf'\u001b[0m,    \u001b[2m                                           \u001b[0m\n",
       "\u001b[2;36m           \u001b[0m         \u001b[32m'delta'\u001b[0m: \u001b[1;36m0.01\u001b[0m,   \u001b[2m                                           \u001b[0m\n",
       "\u001b[2;36m           \u001b[0m         \u001b[32m'delta_absolute'\u001b[0m \u001b[2m                                           \u001b[0m\n",
       "\u001b[2;36m           \u001b[0m         : \u001b[3;92mTrue\u001b[0m,          \u001b[2m                                           \u001b[0m\n",
       "\u001b[2;36m           \u001b[0m         \u001b[32m'attack_nodes'\u001b[0m:  \u001b[2m                                           \u001b[0m\n",
       "\u001b[2;36m           \u001b[0m         \u001b[32m'test'\u001b[0m\u001b[1m}\u001b[0m          \u001b[2m                                           \u001b[0m\n"
      ]
     },
     "metadata": {},
     "output_type": "display_data"
    },
    {
     "data": {
      "text/html": [
       "<pre style=\"white-space:pre;overflow-x:auto;line-height:normal;font-family:Menlo,'DejaVu Sans Mono',consolas,'Courier New',monospace\"><span style=\"color: #7fbfbf; text-decoration-color: #7fbfbf\">           </span><span style=\"color: #000080; text-decoration-color: #000080\">INFO    </span> verbosity_params <a href=\"file:///ceph/ssd/students/sabanaya/ntk-robust/exp_ntk_certify_label_binary_onenode.py\" target=\"_blank\"><span style=\"color: #7f7f7f; text-decoration-color: #7f7f7f\">exp_ntk_certify_label_binary_onenode.py</span></a><span style=\"color: #7f7f7f; text-decoration-color: #7f7f7f\">:</span><a href=\"file:///ceph/ssd/students/sabanaya/ntk-robust/exp_ntk_certify_label_binary_onenode.py#130\" target=\"_blank\"><span style=\"color: #7f7f7f; text-decoration-color: #7f7f7f\">130</span></a>\n",
       "<span style=\"color: #7fbfbf; text-decoration-color: #7fbfbf\">           </span>         : <span style=\"font-weight: bold\">{</span><span style=\"color: #008000; text-decoration-color: #008000\">'debug_lvl'</span>:  <span style=\"color: #7f7f7f; text-decoration-color: #7f7f7f\">                                           </span>\n",
       "<span style=\"color: #7fbfbf; text-decoration-color: #7fbfbf\">           </span>         <span style=\"color: #008000; text-decoration-color: #008000\">'info'</span><span style=\"font-weight: bold\">}</span>          <span style=\"color: #7f7f7f; text-decoration-color: #7f7f7f\">                                           </span>\n",
       "</pre>\n"
      ],
      "text/plain": [
       "\u001b[2;36m          \u001b[0m\u001b[2;36m \u001b[0m\u001b[34mINFO    \u001b[0m verbosity_params \u001b]8;id=136250;file:///ceph/ssd/students/sabanaya/ntk-robust/exp_ntk_certify_label_binary_onenode.py\u001b\\\u001b[2mexp_ntk_certify_label_binary_onenode.py\u001b[0m\u001b]8;;\u001b\\\u001b[2m:\u001b[0m\u001b]8;id=280055;file:///ceph/ssd/students/sabanaya/ntk-robust/exp_ntk_certify_label_binary_onenode.py#130\u001b\\\u001b[2m130\u001b[0m\u001b]8;;\u001b\\\n",
       "\u001b[2;36m           \u001b[0m         : \u001b[1m{\u001b[0m\u001b[32m'debug_lvl'\u001b[0m:  \u001b[2m                                           \u001b[0m\n",
       "\u001b[2;36m           \u001b[0m         \u001b[32m'info'\u001b[0m\u001b[1m}\u001b[0m          \u001b[2m                                           \u001b[0m\n"
      ]
     },
     "metadata": {},
     "output_type": "display_data"
    },
    {
     "data": {
      "text/html": [
       "<pre style=\"white-space:pre;overflow-x:auto;line-height:normal;font-family:Menlo,'DejaVu Sans Mono',consolas,'Courier New',monospace\"><span style=\"color: #7fbfbf; text-decoration-color: #7fbfbf\">           </span><span style=\"color: #000080; text-decoration-color: #000080\">INFO    </span> other_params:    <a href=\"file:///ceph/ssd/students/sabanaya/ntk-robust/exp_ntk_certify_label_binary_onenode.py\" target=\"_blank\"><span style=\"color: #7f7f7f; text-decoration-color: #7f7f7f\">exp_ntk_certify_label_binary_onenode.py</span></a><span style=\"color: #7f7f7f; text-decoration-color: #7f7f7f\">:</span><a href=\"file:///ceph/ssd/students/sabanaya/ntk-robust/exp_ntk_certify_label_binary_onenode.py#131\" target=\"_blank\"><span style=\"color: #7f7f7f; text-decoration-color: #7f7f7f\">131</span></a>\n",
       "<span style=\"color: #7fbfbf; text-decoration-color: #7fbfbf\">           </span>         <span style=\"font-weight: bold\">{</span><span style=\"color: #008000; text-decoration-color: #008000\">'device'</span>:       <span style=\"color: #7f7f7f; text-decoration-color: #7f7f7f\">                                           </span>\n",
       "<span style=\"color: #7fbfbf; text-decoration-color: #7fbfbf\">           </span>         <span style=\"color: #008000; text-decoration-color: #008000\">'cpu'</span>, <span style=\"color: #008000; text-decoration-color: #008000\">'debug'</span>:  <span style=\"color: #7f7f7f; text-decoration-color: #7f7f7f\">                                           </span>\n",
       "<span style=\"color: #7fbfbf; text-decoration-color: #7fbfbf\">           </span>         <span style=\"color: #ff0000; text-decoration-color: #ff0000; font-style: italic\">False</span>, <span style=\"color: #008000; text-decoration-color: #008000\">'dtype'</span>:  <span style=\"color: #7f7f7f; text-decoration-color: #7f7f7f\">                                           </span>\n",
       "<span style=\"color: #7fbfbf; text-decoration-color: #7fbfbf\">           </span>         torch.float64,   <span style=\"color: #7f7f7f; text-decoration-color: #7f7f7f\">                                           </span>\n",
       "<span style=\"color: #7fbfbf; text-decoration-color: #7fbfbf\">           </span>         <span style=\"color: #008000; text-decoration-color: #008000\">'allow_tf32'</span>:    <span style=\"color: #7f7f7f; text-decoration-color: #7f7f7f\">                                           </span>\n",
       "<span style=\"color: #7fbfbf; text-decoration-color: #7fbfbf\">           </span>         <span style=\"color: #ff0000; text-decoration-color: #ff0000; font-style: italic\">False</span>,           <span style=\"color: #7f7f7f; text-decoration-color: #7f7f7f\">                                           </span>\n",
       "<span style=\"color: #7fbfbf; text-decoration-color: #7fbfbf\">           </span>         <span style=\"color: #008000; text-decoration-color: #008000\">'enable_gradient</span> <span style=\"color: #7f7f7f; text-decoration-color: #7f7f7f\">                                           </span>\n",
       "<span style=\"color: #7fbfbf; text-decoration-color: #7fbfbf\">           </span>         <span style=\"color: #008000; text-decoration-color: #008000\">'</span>: <span style=\"color: #ff0000; text-decoration-color: #ff0000; font-style: italic\">False</span>,        <span style=\"color: #7f7f7f; text-decoration-color: #7f7f7f\">                                           </span>\n",
       "<span style=\"color: #7fbfbf; text-decoration-color: #7fbfbf\">           </span>         <span style=\"color: #008000; text-decoration-color: #008000\">'path_gurobi_lic</span> <span style=\"color: #7f7f7f; text-decoration-color: #7f7f7f\">                                           </span>\n",
       "<span style=\"color: #7fbfbf; text-decoration-color: #7fbfbf\">           </span>         <span style=\"color: #008000; text-decoration-color: #008000\">ense'</span>:           <span style=\"color: #7f7f7f; text-decoration-color: #7f7f7f\">                                           </span>\n",
       "<span style=\"color: #7fbfbf; text-decoration-color: #7fbfbf\">           </span>         <span style=\"color: #008000; text-decoration-color: #008000\">'sabanaya'</span><span style=\"font-weight: bold\">}</span>      <span style=\"color: #7f7f7f; text-decoration-color: #7f7f7f\">                                           </span>\n",
       "</pre>\n"
      ],
      "text/plain": [
       "\u001b[2;36m          \u001b[0m\u001b[2;36m \u001b[0m\u001b[34mINFO    \u001b[0m other_params:    \u001b]8;id=680125;file:///ceph/ssd/students/sabanaya/ntk-robust/exp_ntk_certify_label_binary_onenode.py\u001b\\\u001b[2mexp_ntk_certify_label_binary_onenode.py\u001b[0m\u001b]8;;\u001b\\\u001b[2m:\u001b[0m\u001b]8;id=179761;file:///ceph/ssd/students/sabanaya/ntk-robust/exp_ntk_certify_label_binary_onenode.py#131\u001b\\\u001b[2m131\u001b[0m\u001b]8;;\u001b\\\n",
       "\u001b[2;36m           \u001b[0m         \u001b[1m{\u001b[0m\u001b[32m'device'\u001b[0m:       \u001b[2m                                           \u001b[0m\n",
       "\u001b[2;36m           \u001b[0m         \u001b[32m'cpu'\u001b[0m, \u001b[32m'debug'\u001b[0m:  \u001b[2m                                           \u001b[0m\n",
       "\u001b[2;36m           \u001b[0m         \u001b[3;91mFalse\u001b[0m, \u001b[32m'dtype'\u001b[0m:  \u001b[2m                                           \u001b[0m\n",
       "\u001b[2;36m           \u001b[0m         torch.float64,   \u001b[2m                                           \u001b[0m\n",
       "\u001b[2;36m           \u001b[0m         \u001b[32m'allow_tf32'\u001b[0m:    \u001b[2m                                           \u001b[0m\n",
       "\u001b[2;36m           \u001b[0m         \u001b[3;91mFalse\u001b[0m,           \u001b[2m                                           \u001b[0m\n",
       "\u001b[2;36m           \u001b[0m         \u001b[32m'enable_gradient\u001b[0m \u001b[2m                                           \u001b[0m\n",
       "\u001b[2;36m           \u001b[0m         \u001b[32m'\u001b[0m: \u001b[3;91mFalse\u001b[0m,        \u001b[2m                                           \u001b[0m\n",
       "\u001b[2;36m           \u001b[0m         \u001b[32m'path_gurobi_lic\u001b[0m \u001b[2m                                           \u001b[0m\n",
       "\u001b[2;36m           \u001b[0m         \u001b[32mense'\u001b[0m:           \u001b[2m                                           \u001b[0m\n",
       "\u001b[2;36m           \u001b[0m         \u001b[32m'sabanaya'\u001b[0m\u001b[1m}\u001b[0m      \u001b[2m                                           \u001b[0m\n"
      ]
     },
     "metadata": {},
     "output_type": "display_data"
    },
    {
     "data": {
      "text/html": [
       "<pre style=\"white-space:pre;overflow-x:auto;line-height:normal;font-family:Menlo,'DejaVu Sans Mono',consolas,'Courier New',monospace\"><span style=\"color: #7fbfbf; text-decoration-color: #7fbfbf\">           </span><span style=\"color: #000080; text-decoration-color: #000080\">INFO    </span> seed: <span style=\"color: #008080; text-decoration-color: #008080; font-weight: bold\">0</span>          <a href=\"file:///ceph/ssd/students/sabanaya/ntk-robust/exp_ntk_certify_label_binary_onenode.py\" target=\"_blank\"><span style=\"color: #7f7f7f; text-decoration-color: #7f7f7f\">exp_ntk_certify_label_binary_onenode.py</span></a><span style=\"color: #7f7f7f; text-decoration-color: #7f7f7f\">:</span><a href=\"file:///ceph/ssd/students/sabanaya/ntk-robust/exp_ntk_certify_label_binary_onenode.py#132\" target=\"_blank\"><span style=\"color: #7f7f7f; text-decoration-color: #7f7f7f\">132</span></a>\n",
       "</pre>\n"
      ],
      "text/plain": [
       "\u001b[2;36m          \u001b[0m\u001b[2;36m \u001b[0m\u001b[34mINFO    \u001b[0m seed: \u001b[1;36m0\u001b[0m          \u001b]8;id=841169;file:///ceph/ssd/students/sabanaya/ntk-robust/exp_ntk_certify_label_binary_onenode.py\u001b\\\u001b[2mexp_ntk_certify_label_binary_onenode.py\u001b[0m\u001b]8;;\u001b\\\u001b[2m:\u001b[0m\u001b]8;id=317184;file:///ceph/ssd/students/sabanaya/ntk-robust/exp_ntk_certify_label_binary_onenode.py#132\u001b\\\u001b[2m132\u001b[0m\u001b]8;;\u001b\\\n"
      ]
     },
     "metadata": {},
     "output_type": "display_data"
    },
    {
     "data": {
      "text/html": [
       "<pre style=\"white-space:pre;overflow-x:auto;line-height:normal;font-family:Menlo,'DejaVu Sans Mono',consolas,'Courier New',monospace\"><span style=\"color: #7fbfbf; text-decoration-color: #7fbfbf\">           </span><span style=\"color: #000080; text-decoration-color: #000080\">INFO    </span> Hostname: gpu03  <a href=\"file:///ceph/ssd/students/sabanaya/ntk-robust/exp_ntk_certify_label_binary_onenode.py\" target=\"_blank\"><span style=\"color: #7f7f7f; text-decoration-color: #7f7f7f\">exp_ntk_certify_label_binary_onenode.py</span></a><span style=\"color: #7f7f7f; text-decoration-color: #7f7f7f\">:</span><a href=\"file:///ceph/ssd/students/sabanaya/ntk-robust/exp_ntk_certify_label_binary_onenode.py#143\" target=\"_blank\"><span style=\"color: #7f7f7f; text-decoration-color: #7f7f7f\">143</span></a>\n",
       "</pre>\n"
      ],
      "text/plain": [
       "\u001b[2;36m          \u001b[0m\u001b[2;36m \u001b[0m\u001b[34mINFO    \u001b[0m Hostname: gpu03  \u001b]8;id=473209;file:///ceph/ssd/students/sabanaya/ntk-robust/exp_ntk_certify_label_binary_onenode.py\u001b\\\u001b[2mexp_ntk_certify_label_binary_onenode.py\u001b[0m\u001b]8;;\u001b\\\u001b[2m:\u001b[0m\u001b]8;id=335051;file:///ceph/ssd/students/sabanaya/ntk-robust/exp_ntk_certify_label_binary_onenode.py#143\u001b\\\u001b[2m143\u001b[0m\u001b]8;;\u001b\\\n"
      ]
     },
     "metadata": {},
     "output_type": "display_data"
    },
    {
     "name": "stdout",
     "output_type": "stream",
     "text": [
      "CSBM mu:\n",
      "[0.4330127 0.4330127 0.4330127]\n"
     ]
    },
    {
     "data": {
      "text/html": [
       "<pre style=\"white-space:pre;overflow-x:auto;line-height:normal;font-family:Menlo,'DejaVu Sans Mono',consolas,'Courier New',monospace\"><span style=\"color: #7fbfbf; text-decoration-color: #7fbfbf\">           </span><span style=\"color: #000080; text-decoration-color: #000080\">INFO    </span> <span style=\"color: #800080; text-decoration-color: #800080; font-weight: bold\">CSBM</span><span style=\"font-weight: bold\">(</span><span style=\"color: #808000; text-decoration-color: #808000\">p</span>=<span style=\"color: #008080; text-decoration-color: #008080; font-weight: bold\">0.12898</span>, <span style=\"color: #808000; text-decoration-color: #808000\">q</span>=<span style=\"color: #008080; text-decoration-color: #008080; font-weight: bold\">0.03020</span><span style=\"font-weight: bold\">)</span>                        <a href=\"file:///ceph/ssd/students/sabanaya/ntk-robust/src/data.py\" target=\"_blank\"><span style=\"color: #7f7f7f; text-decoration-color: #7f7f7f\">data.py</span></a><span style=\"color: #7f7f7f; text-decoration-color: #7f7f7f\">:</span><a href=\"file:///ceph/ssd/students/sabanaya/ntk-robust/src/data.py#33\" target=\"_blank\"><span style=\"color: #7f7f7f; text-decoration-color: #7f7f7f\">33</span></a>\n",
       "</pre>\n"
      ],
      "text/plain": [
       "\u001b[2;36m          \u001b[0m\u001b[2;36m \u001b[0m\u001b[34mINFO    \u001b[0m \u001b[1;35mCSBM\u001b[0m\u001b[1m(\u001b[0m\u001b[33mp\u001b[0m=\u001b[1;36m0\u001b[0m\u001b[1;36m.12898\u001b[0m, \u001b[33mq\u001b[0m=\u001b[1;36m0\u001b[0m\u001b[1;36m.03020\u001b[0m\u001b[1m)\u001b[0m                        \u001b]8;id=956948;file:///ceph/ssd/students/sabanaya/ntk-robust/src/data.py\u001b\\\u001b[2mdata.py\u001b[0m\u001b]8;;\u001b\\\u001b[2m:\u001b[0m\u001b]8;id=81633;file:///ceph/ssd/students/sabanaya/ntk-robust/src/data.py#33\u001b\\\u001b[2m33\u001b[0m\u001b]8;;\u001b\\\n"
      ]
     },
     "metadata": {},
     "output_type": "display_data"
    },
    {
     "name": "stdout",
     "output_type": "stream",
     "text": [
      "40 alphas found: ['0.0100', '0.0100', '0.0100', '0.0100', '0.0100', '0.0100', '0.0100', '0.0100', '0.0100', '0.0100', '0.0100', '0.0100', '0.0100', '0.0100', '0.0100', '0.0100', '0.0100', '0.0100', '0.0100', '0.0100', '0.0100', '0.0100', '0.0100', '0.0100', '0.0100', '0.0100', '0.0100', '0.0100', '0.0100', '0.0100', '0.0100', '0.0100', '0.0100', '0.0100', '0.0100', '0.0100', '0.0100', '0.0100', '0.0100', '0.0100']\n"
     ]
    },
    {
     "data": {
      "text/html": [
       "<pre style=\"white-space:pre;overflow-x:auto;line-height:normal;font-family:Menlo,'DejaVu Sans Mono',consolas,'Courier New',monospace\"><span style=\"color: #7fbfbf; text-decoration-color: #7fbfbf\">           </span><span style=\"color: #000080; text-decoration-color: #000080\">INFO    </span> Delta: <span style=\"color: #008080; text-decoration-color: #008080; font-weight: bold\">0.01</span>      <a href=\"file:///ceph/ssd/students/sabanaya/ntk-robust/exp_ntk_certify_label_binary_onenode.py\" target=\"_blank\"><span style=\"color: #7f7f7f; text-decoration-color: #7f7f7f\">exp_ntk_certify_label_binary_onenode.py</span></a><span style=\"color: #7f7f7f; text-decoration-color: #7f7f7f\">:</span><a href=\"file:///ceph/ssd/students/sabanaya/ntk-robust/exp_ntk_certify_label_binary_onenode.py#268\" target=\"_blank\"><span style=\"color: #7f7f7f; text-decoration-color: #7f7f7f\">268</span></a>\n",
       "</pre>\n"
      ],
      "text/plain": [
       "\u001b[2;36m          \u001b[0m\u001b[2;36m \u001b[0m\u001b[34mINFO    \u001b[0m Delta: \u001b[1;36m0.01\u001b[0m      \u001b]8;id=85229;file:///ceph/ssd/students/sabanaya/ntk-robust/exp_ntk_certify_label_binary_onenode.py\u001b\\\u001b[2mexp_ntk_certify_label_binary_onenode.py\u001b[0m\u001b]8;;\u001b\\\u001b[2m:\u001b[0m\u001b]8;id=184308;file:///ceph/ssd/students/sabanaya/ntk-robust/exp_ntk_certify_label_binary_onenode.py#268\u001b\\\u001b[2m268\u001b[0m\u001b]8;;\u001b\\\n"
      ]
     },
     "metadata": {},
     "output_type": "display_data"
    },
    {
     "data": {
      "text/html": [
       "<pre style=\"white-space:pre;overflow-x:auto;line-height:normal;font-family:Menlo,'DejaVu Sans Mono',consolas,'Courier New',monospace\"><span style=\"color: #7fbfbf; text-decoration-color: #7fbfbf\">           </span><span style=\"color: #000080; text-decoration-color: #000080\">INFO    </span> Test accuracy:   <a href=\"file:///ceph/ssd/students/sabanaya/ntk-robust/exp_ntk_certify_label_binary_onenode.py\" target=\"_blank\"><span style=\"color: #7f7f7f; text-decoration-color: #7f7f7f\">exp_ntk_certify_label_binary_onenode.py</span></a><span style=\"color: #7f7f7f; text-decoration-color: #7f7f7f\">:</span><a href=\"file:///ceph/ssd/students/sabanaya/ntk-robust/exp_ntk_certify_label_binary_onenode.py#271\" target=\"_blank\"><span style=\"color: #7f7f7f; text-decoration-color: #7f7f7f\">271</span></a>\n",
       "<span style=\"color: #7fbfbf; text-decoration-color: #7fbfbf\">           </span>         <span style=\"color: #008080; text-decoration-color: #008080; font-weight: bold\">1.0</span>              <span style=\"color: #7f7f7f; text-decoration-color: #7f7f7f\">                                           </span>\n",
       "</pre>\n"
      ],
      "text/plain": [
       "\u001b[2;36m          \u001b[0m\u001b[2;36m \u001b[0m\u001b[34mINFO    \u001b[0m Test accuracy:   \u001b]8;id=718009;file:///ceph/ssd/students/sabanaya/ntk-robust/exp_ntk_certify_label_binary_onenode.py\u001b\\\u001b[2mexp_ntk_certify_label_binary_onenode.py\u001b[0m\u001b]8;;\u001b\\\u001b[2m:\u001b[0m\u001b]8;id=810462;file:///ceph/ssd/students/sabanaya/ntk-robust/exp_ntk_certify_label_binary_onenode.py#271\u001b\\\u001b[2m271\u001b[0m\u001b]8;;\u001b\\\n",
       "\u001b[2;36m           \u001b[0m         \u001b[1;36m1.0\u001b[0m              \u001b[2m                                           \u001b[0m\n"
      ]
     },
     "metadata": {},
     "output_type": "display_data"
    },
    {
     "data": {
      "text/html": [
       "<pre style=\"white-space:pre;overflow-x:auto;line-height:normal;font-family:Menlo,'DejaVu Sans Mono',consolas,'Courier New',monospace\"><span style=\"color: #7fbfbf; text-decoration-color: #7fbfbf\">           </span><span style=\"color: #000080; text-decoration-color: #000080\">INFO    </span> Train accuracy:  <a href=\"file:///ceph/ssd/students/sabanaya/ntk-robust/exp_ntk_certify_label_binary_onenode.py\" target=\"_blank\"><span style=\"color: #7f7f7f; text-decoration-color: #7f7f7f\">exp_ntk_certify_label_binary_onenode.py</span></a><span style=\"color: #7f7f7f; text-decoration-color: #7f7f7f\">:</span><a href=\"file:///ceph/ssd/students/sabanaya/ntk-robust/exp_ntk_certify_label_binary_onenode.py#272\" target=\"_blank\"><span style=\"color: #7f7f7f; text-decoration-color: #7f7f7f\">272</span></a>\n",
       "<span style=\"color: #7fbfbf; text-decoration-color: #7fbfbf\">           </span>         <span style=\"color: #008080; text-decoration-color: #008080; font-weight: bold\">0.72500002384185</span> <span style=\"color: #7f7f7f; text-decoration-color: #7f7f7f\">                                           </span>\n",
       "<span style=\"color: #7fbfbf; text-decoration-color: #7fbfbf\">           </span>         <span style=\"color: #008080; text-decoration-color: #008080; font-weight: bold\">79</span>               <span style=\"color: #7f7f7f; text-decoration-color: #7f7f7f\">                                           </span>\n",
       "</pre>\n"
      ],
      "text/plain": [
       "\u001b[2;36m          \u001b[0m\u001b[2;36m \u001b[0m\u001b[34mINFO    \u001b[0m Train accuracy:  \u001b]8;id=652199;file:///ceph/ssd/students/sabanaya/ntk-robust/exp_ntk_certify_label_binary_onenode.py\u001b\\\u001b[2mexp_ntk_certify_label_binary_onenode.py\u001b[0m\u001b]8;;\u001b\\\u001b[2m:\u001b[0m\u001b]8;id=585044;file:///ceph/ssd/students/sabanaya/ntk-robust/exp_ntk_certify_label_binary_onenode.py#272\u001b\\\u001b[2m272\u001b[0m\u001b]8;;\u001b\\\n",
       "\u001b[2;36m           \u001b[0m         \u001b[1;36m0.72500002384185\u001b[0m \u001b[2m                                           \u001b[0m\n",
       "\u001b[2;36m           \u001b[0m         \u001b[1;36m79\u001b[0m               \u001b[2m                                           \u001b[0m\n"
      ]
     },
     "metadata": {},
     "output_type": "display_data"
    },
    {
     "name": "stdout",
     "output_type": "stream",
     "text": [
      "Set parameter Username\n"
     ]
    },
    {
     "data": {
      "text/html": [
       "<pre style=\"white-space:pre;overflow-x:auto;line-height:normal;font-family:Menlo,'DejaVu Sans Mono',consolas,'Courier New',monospace\"><span style=\"color: #7fbfbf; text-decoration-color: #7fbfbf\">           </span><span style=\"color: #000080; text-decoration-color: #000080\">INFO    </span> Set parameter Username                          <a href=\"file:///ceph/ssd/students/sabanaya/ntk-robust/src/utils.py\" target=\"_blank\"><span style=\"color: #7f7f7f; text-decoration-color: #7f7f7f\">utils.py</span></a><span style=\"color: #7f7f7f; text-decoration-color: #7f7f7f\">:</span><a href=\"file:///ceph/ssd/students/sabanaya/ntk-robust/src/utils.py#994\" target=\"_blank\"><span style=\"color: #7f7f7f; text-decoration-color: #7f7f7f\">994</span></a>\n",
       "</pre>\n"
      ],
      "text/plain": [
       "\u001b[2;36m          \u001b[0m\u001b[2;36m \u001b[0m\u001b[34mINFO    \u001b[0m Set parameter Username                          \u001b]8;id=893201;file:///ceph/ssd/students/sabanaya/ntk-robust/src/utils.py\u001b\\\u001b[2mutils.py\u001b[0m\u001b]8;;\u001b\\\u001b[2m:\u001b[0m\u001b]8;id=59700;file:///ceph/ssd/students/sabanaya/ntk-robust/src/utils.py#994\u001b\\\u001b[2m994\u001b[0m\u001b]8;;\u001b\\\n"
      ]
     },
     "metadata": {},
     "output_type": "display_data"
    },
    {
     "name": "stdout",
     "output_type": "stream",
     "text": [
      "Academic license - for non-commercial use only - expires 2025-04-10\n"
     ]
    },
    {
     "data": {
      "text/html": [
       "<pre style=\"white-space:pre;overflow-x:auto;line-height:normal;font-family:Menlo,'DejaVu Sans Mono',consolas,'Courier New',monospace\"><span style=\"color: #7fbfbf; text-decoration-color: #7fbfbf\">[05:42:08] </span><span style=\"color: #000080; text-decoration-color: #000080\">INFO    </span> Academic license - for non-commercial use only  <a href=\"file:///ceph/ssd/students/sabanaya/ntk-robust/src/utils.py\" target=\"_blank\"><span style=\"color: #7f7f7f; text-decoration-color: #7f7f7f\">utils.py</span></a><span style=\"color: #7f7f7f; text-decoration-color: #7f7f7f\">:</span><a href=\"file:///ceph/ssd/students/sabanaya/ntk-robust/src/utils.py#994\" target=\"_blank\"><span style=\"color: #7f7f7f; text-decoration-color: #7f7f7f\">994</span></a>\n",
       "<span style=\"color: #7fbfbf; text-decoration-color: #7fbfbf\">           </span>         - expires <span style=\"color: #008080; text-decoration-color: #008080; font-weight: bold\">2025</span>-<span style=\"color: #008080; text-decoration-color: #008080; font-weight: bold\">04</span>-<span style=\"color: #008080; text-decoration-color: #008080; font-weight: bold\">10</span>                            <span style=\"color: #7f7f7f; text-decoration-color: #7f7f7f\">            </span>\n",
       "</pre>\n"
      ],
      "text/plain": [
       "\u001b[2;36m[05:42:08]\u001b[0m\u001b[2;36m \u001b[0m\u001b[34mINFO    \u001b[0m Academic license - for non-commercial use only  \u001b]8;id=393070;file:///ceph/ssd/students/sabanaya/ntk-robust/src/utils.py\u001b\\\u001b[2mutils.py\u001b[0m\u001b]8;;\u001b\\\u001b[2m:\u001b[0m\u001b]8;id=78591;file:///ceph/ssd/students/sabanaya/ntk-robust/src/utils.py#994\u001b\\\u001b[2m994\u001b[0m\u001b]8;;\u001b\\\n",
       "\u001b[2;36m           \u001b[0m         - expires \u001b[1;36m2025\u001b[0m-\u001b[1;36m04\u001b[0m-\u001b[1;36m10\u001b[0m                            \u001b[2m            \u001b[0m\n"
      ]
     },
     "metadata": {},
     "output_type": "display_data"
    },
    {
     "name": "stdout",
     "output_type": "stream",
     "text": [
      "Warning for adding constraints: zero or small (< 1e-13) coefficients, ignored\n"
     ]
    },
    {
     "name": "stderr",
     "output_type": "stream",
     "text": [
      "/ceph/ssd/students/sabanaya/ntk-robust/src/utils.py:1023: RuntimeWarning: Chained matrix multiplications of MVars is inefficient, collect numeric terms first when building expressions\n",
      "  m.addConstr((z_*ntk_labeled)@v_ones - u + v == 1, \"eq_constraint\")\n"
     ]
    },
    {
     "data": {
      "text/html": [
       "<pre style=\"white-space:pre;overflow-x:auto;line-height:normal;font-family:Menlo,'DejaVu Sans Mono',consolas,'Courier New',monospace\"><span style=\"color: #7fbfbf; text-decoration-color: #7fbfbf\">           </span><span style=\"color: #000080; text-decoration-color: #000080\">INFO    </span> Warning for adding constraints: zero or small  <a href=\"file:///ceph/ssd/students/sabanaya/ntk-robust/src/utils.py\" target=\"_blank\"><span style=\"color: #7f7f7f; text-decoration-color: #7f7f7f\">utils.py</span></a><span style=\"color: #7f7f7f; text-decoration-color: #7f7f7f\">:</span><a href=\"file:///ceph/ssd/students/sabanaya/ntk-robust/src/utils.py#1031\" target=\"_blank\"><span style=\"color: #7f7f7f; text-decoration-color: #7f7f7f\">1031</span></a>\n",
       "<span style=\"color: #7fbfbf; text-decoration-color: #7fbfbf\">           </span>         <span style=\"font-weight: bold\">(</span>&lt; <span style=\"color: #008080; text-decoration-color: #008080; font-weight: bold\">1e-13</span><span style=\"font-weight: bold\">)</span> coefficients, ignored                <span style=\"color: #7f7f7f; text-decoration-color: #7f7f7f\">             </span>\n",
       "</pre>\n"
      ],
      "text/plain": [
       "\u001b[2;36m          \u001b[0m\u001b[2;36m \u001b[0m\u001b[34mINFO    \u001b[0m Warning for adding constraints: zero or small  \u001b]8;id=407681;file:///ceph/ssd/students/sabanaya/ntk-robust/src/utils.py\u001b\\\u001b[2mutils.py\u001b[0m\u001b]8;;\u001b\\\u001b[2m:\u001b[0m\u001b]8;id=591357;file:///ceph/ssd/students/sabanaya/ntk-robust/src/utils.py#1031\u001b\\\u001b[2m1031\u001b[0m\u001b]8;;\u001b\\\n",
       "\u001b[2;36m           \u001b[0m         \u001b[1m(\u001b[0m< \u001b[1;36m1e-13\u001b[0m\u001b[1m)\u001b[0m coefficients, ignored                \u001b[2m             \u001b[0m\n"
      ]
     },
     "metadata": {},
     "output_type": "display_data"
    },
    {
     "name": "stdout",
     "output_type": "stream",
     "text": [
      "M_u: avg 0.00, max 0.00\n",
      "M_v: avg 1.23, max 1.36\n",
      "Set parameter BestObjStop to value 0\n"
     ]
    },
    {
     "data": {
      "text/html": [
       "<pre style=\"white-space:pre;overflow-x:auto;line-height:normal;font-family:Menlo,'DejaVu Sans Mono',consolas,'Courier New',monospace\"><span style=\"color: #7fbfbf; text-decoration-color: #7fbfbf\">           </span><span style=\"color: #000080; text-decoration-color: #000080\">INFO    </span> Set parameter BestObjStop to value <span style=\"color: #008080; text-decoration-color: #008080; font-weight: bold\">0</span>           <a href=\"file:///ceph/ssd/students/sabanaya/ntk-robust/src/utils.py\" target=\"_blank\"><span style=\"color: #7f7f7f; text-decoration-color: #7f7f7f\">utils.py</span></a><span style=\"color: #7f7f7f; text-decoration-color: #7f7f7f\">:</span><a href=\"file:///ceph/ssd/students/sabanaya/ntk-robust/src/utils.py#1061\" target=\"_blank\"><span style=\"color: #7f7f7f; text-decoration-color: #7f7f7f\">1061</span></a>\n",
       "</pre>\n"
      ],
      "text/plain": [
       "\u001b[2;36m          \u001b[0m\u001b[2;36m \u001b[0m\u001b[34mINFO    \u001b[0m Set parameter BestObjStop to value \u001b[1;36m0\u001b[0m           \u001b]8;id=953058;file:///ceph/ssd/students/sabanaya/ntk-robust/src/utils.py\u001b\\\u001b[2mutils.py\u001b[0m\u001b]8;;\u001b\\\u001b[2m:\u001b[0m\u001b]8;id=48196;file:///ceph/ssd/students/sabanaya/ntk-robust/src/utils.py#1061\u001b\\\u001b[2m1061\u001b[0m\u001b]8;;\u001b\\\n"
      ]
     },
     "metadata": {},
     "output_type": "display_data"
    },
    {
     "name": "stdout",
     "output_type": "stream",
     "text": [
      "Set parameter IntegralityFocus to value 1\n"
     ]
    },
    {
     "data": {
      "text/html": [
       "<pre style=\"white-space:pre;overflow-x:auto;line-height:normal;font-family:Menlo,'DejaVu Sans Mono',consolas,'Courier New',monospace\"><span style=\"color: #7fbfbf; text-decoration-color: #7fbfbf\">           </span><span style=\"color: #000080; text-decoration-color: #000080\">INFO    </span> Set parameter IntegralityFocus to value <span style=\"color: #008080; text-decoration-color: #008080; font-weight: bold\">1</span>      <a href=\"file:///ceph/ssd/students/sabanaya/ntk-robust/src/utils.py\" target=\"_blank\"><span style=\"color: #7f7f7f; text-decoration-color: #7f7f7f\">utils.py</span></a><span style=\"color: #7f7f7f; text-decoration-color: #7f7f7f\">:</span><a href=\"file:///ceph/ssd/students/sabanaya/ntk-robust/src/utils.py#1062\" target=\"_blank\"><span style=\"color: #7f7f7f; text-decoration-color: #7f7f7f\">1062</span></a>\n",
       "</pre>\n"
      ],
      "text/plain": [
       "\u001b[2;36m          \u001b[0m\u001b[2;36m \u001b[0m\u001b[34mINFO    \u001b[0m Set parameter IntegralityFocus to value \u001b[1;36m1\u001b[0m      \u001b]8;id=66453;file:///ceph/ssd/students/sabanaya/ntk-robust/src/utils.py\u001b\\\u001b[2mutils.py\u001b[0m\u001b]8;;\u001b\\\u001b[2m:\u001b[0m\u001b]8;id=246799;file:///ceph/ssd/students/sabanaya/ntk-robust/src/utils.py#1062\u001b\\\u001b[2m1062\u001b[0m\u001b]8;;\u001b\\\n"
      ]
     },
     "metadata": {},
     "output_type": "display_data"
    },
    {
     "name": "stdout",
     "output_type": "stream",
     "text": [
      "Set parameter IntFeasTol to value 0.0001\n"
     ]
    },
    {
     "data": {
      "text/html": [
       "<pre style=\"white-space:pre;overflow-x:auto;line-height:normal;font-family:Menlo,'DejaVu Sans Mono',consolas,'Courier New',monospace\"><span style=\"color: #7fbfbf; text-decoration-color: #7fbfbf\">           </span><span style=\"color: #000080; text-decoration-color: #000080\">INFO    </span> Set parameter IntFeasTol to value <span style=\"color: #008080; text-decoration-color: #008080; font-weight: bold\">0.0001</span>       <a href=\"file:///ceph/ssd/students/sabanaya/ntk-robust/src/utils.py\" target=\"_blank\"><span style=\"color: #7f7f7f; text-decoration-color: #7f7f7f\">utils.py</span></a><span style=\"color: #7f7f7f; text-decoration-color: #7f7f7f\">:</span><a href=\"file:///ceph/ssd/students/sabanaya/ntk-robust/src/utils.py#1063\" target=\"_blank\"><span style=\"color: #7f7f7f; text-decoration-color: #7f7f7f\">1063</span></a>\n",
       "</pre>\n"
      ],
      "text/plain": [
       "\u001b[2;36m          \u001b[0m\u001b[2;36m \u001b[0m\u001b[34mINFO    \u001b[0m Set parameter IntFeasTol to value \u001b[1;36m0.0001\u001b[0m       \u001b]8;id=851009;file:///ceph/ssd/students/sabanaya/ntk-robust/src/utils.py\u001b\\\u001b[2mutils.py\u001b[0m\u001b]8;;\u001b\\\u001b[2m:\u001b[0m\u001b]8;id=991759;file:///ceph/ssd/students/sabanaya/ntk-robust/src/utils.py#1063\u001b\\\u001b[2m1063\u001b[0m\u001b]8;;\u001b\\\n"
      ]
     },
     "metadata": {},
     "output_type": "display_data"
    },
    {
     "name": "stdout",
     "output_type": "stream",
     "text": [
      "Loaded user MIP start with objective -0.0791605\n",
      "\n"
     ]
    },
    {
     "data": {
      "text/html": [
       "<pre style=\"white-space:pre;overflow-x:auto;line-height:normal;font-family:Menlo,'DejaVu Sans Mono',consolas,'Courier New',monospace\"><span style=\"color: #7fbfbf; text-decoration-color: #7fbfbf\">           </span><span style=\"color: #000080; text-decoration-color: #000080\">INFO    </span> Optimization status: <span style=\"color: #008080; text-decoration-color: #008080; font-weight: bold\">2</span>                         <a href=\"file:///ceph/ssd/students/sabanaya/ntk-robust/src/utils.py\" target=\"_blank\"><span style=\"color: #7f7f7f; text-decoration-color: #7f7f7f\">utils.py</span></a><span style=\"color: #7f7f7f; text-decoration-color: #7f7f7f\">:</span><a href=\"file:///ceph/ssd/students/sabanaya/ntk-robust/src/utils.py#1097\" target=\"_blank\"><span style=\"color: #7f7f7f; text-decoration-color: #7f7f7f\">1097</span></a>\n",
       "</pre>\n"
      ],
      "text/plain": [
       "\u001b[2;36m          \u001b[0m\u001b[2;36m \u001b[0m\u001b[34mINFO    \u001b[0m Optimization status: \u001b[1;36m2\u001b[0m                         \u001b]8;id=22078;file:///ceph/ssd/students/sabanaya/ntk-robust/src/utils.py\u001b\\\u001b[2mutils.py\u001b[0m\u001b]8;;\u001b\\\u001b[2m:\u001b[0m\u001b]8;id=622024;file:///ceph/ssd/students/sabanaya/ntk-robust/src/utils.py#1097\u001b\\\u001b[2m1097\u001b[0m\u001b]8;;\u001b\\\n"
      ]
     },
     "metadata": {},
     "output_type": "display_data"
    },
    {
     "data": {
      "text/html": [
       "<pre style=\"white-space:pre;overflow-x:auto;line-height:normal;font-family:Menlo,'DejaVu Sans Mono',consolas,'Courier New',monospace\"><span style=\"color: #7fbfbf; text-decoration-color: #7fbfbf\">           </span><span style=\"color: #000080; text-decoration-color: #000080\">INFO    </span> Original <span style=\"color: #008080; text-decoration-color: #008080; font-weight: bold\">-0.07916</span>, Opt objective <span style=\"color: #008080; text-decoration-color: #008080; font-weight: bold\">-0.07916</span>      <a href=\"file:///ceph/ssd/students/sabanaya/ntk-robust/src/utils.py\" target=\"_blank\"><span style=\"color: #7f7f7f; text-decoration-color: #7f7f7f\">utils.py</span></a><span style=\"color: #7f7f7f; text-decoration-color: #7f7f7f\">:</span><a href=\"file:///ceph/ssd/students/sabanaya/ntk-robust/src/utils.py#1129\" target=\"_blank\"><span style=\"color: #7f7f7f; text-decoration-color: #7f7f7f\">1129</span></a>\n",
       "</pre>\n"
      ],
      "text/plain": [
       "\u001b[2;36m          \u001b[0m\u001b[2;36m \u001b[0m\u001b[34mINFO    \u001b[0m Original \u001b[1;36m-0.07916\u001b[0m, Opt objective \u001b[1;36m-0.07916\u001b[0m      \u001b]8;id=573042;file:///ceph/ssd/students/sabanaya/ntk-robust/src/utils.py\u001b\\\u001b[2mutils.py\u001b[0m\u001b]8;;\u001b\\\u001b[2m:\u001b[0m\u001b]8;id=912203;file:///ceph/ssd/students/sabanaya/ntk-robust/src/utils.py#1129\u001b\\\u001b[2m1129\u001b[0m\u001b]8;;\u001b\\\n"
      ]
     },
     "metadata": {},
     "output_type": "display_data"
    },
    {
     "data": {
      "text/html": [
       "<pre style=\"white-space:pre;overflow-x:auto;line-height:normal;font-family:Menlo,'DejaVu Sans Mono',consolas,'Courier New',monospace\"><span style=\"color: #7fbfbf; text-decoration-color: #7fbfbf\">           </span><span style=\"color: #000080; text-decoration-color: #000080\">INFO    </span> Robust count <span style=\"color: #008080; text-decoration-color: #008080; font-weight: bold\">1</span> out of <span style=\"color: #008080; text-decoration-color: #008080; font-weight: bold\">1</span>                        <a href=\"file:///ceph/ssd/students/sabanaya/ntk-robust/src/utils.py\" target=\"_blank\"><span style=\"color: #7f7f7f; text-decoration-color: #7f7f7f\">utils.py</span></a><span style=\"color: #7f7f7f; text-decoration-color: #7f7f7f\">:</span><a href=\"file:///ceph/ssd/students/sabanaya/ntk-robust/src/utils.py#1146\" target=\"_blank\"><span style=\"color: #7f7f7f; text-decoration-color: #7f7f7f\">1146</span></a>\n",
       "</pre>\n"
      ],
      "text/plain": [
       "\u001b[2;36m          \u001b[0m\u001b[2;36m \u001b[0m\u001b[34mINFO    \u001b[0m Robust count \u001b[1;36m1\u001b[0m out of \u001b[1;36m1\u001b[0m                        \u001b]8;id=889719;file:///ceph/ssd/students/sabanaya/ntk-robust/src/utils.py\u001b\\\u001b[2mutils.py\u001b[0m\u001b]8;;\u001b\\\u001b[2m:\u001b[0m\u001b]8;id=294891;file:///ceph/ssd/students/sabanaya/ntk-robust/src/utils.py#1146\u001b\\\u001b[2m1146\u001b[0m\u001b]8;;\u001b\\\n"
      ]
     },
     "metadata": {},
     "output_type": "display_data"
    },
    {
     "data": {
      "text/html": [
       "<pre style=\"white-space:pre;overflow-x:auto;line-height:normal;font-family:Menlo,'DejaVu Sans Mono',consolas,'Courier New',monospace\"><span style=\"color: #7fbfbf; text-decoration-color: #7fbfbf\">           </span><span style=\"color: #000080; text-decoration-color: #000080\">INFO    </span> Certified        <a href=\"file:///ceph/ssd/students/sabanaya/ntk-robust/exp_ntk_certify_label_binary_onenode.py\" target=\"_blank\"><span style=\"color: #7f7f7f; text-decoration-color: #7f7f7f\">exp_ntk_certify_label_binary_onenode.py</span></a><span style=\"color: #7f7f7f; text-decoration-color: #7f7f7f\">:</span><a href=\"file:///ceph/ssd/students/sabanaya/ntk-robust/exp_ntk_certify_label_binary_onenode.py#283\" target=\"_blank\"><span style=\"color: #7f7f7f; text-decoration-color: #7f7f7f\">283</span></a>\n",
       "<span style=\"color: #7fbfbf; text-decoration-color: #7fbfbf\">           </span>         accuracy         <span style=\"color: #7f7f7f; text-decoration-color: #7f7f7f\">                                           </span>\n",
       "<span style=\"color: #7fbfbf; text-decoration-color: #7fbfbf\">           </span>         <span style=\"font-weight: bold\">(</span>poisoning<span style=\"font-weight: bold\">)</span>: <span style=\"color: #008080; text-decoration-color: #008080; font-weight: bold\">1.0</span> <span style=\"color: #7f7f7f; text-decoration-color: #7f7f7f\">                                           </span>\n",
       "</pre>\n"
      ],
      "text/plain": [
       "\u001b[2;36m          \u001b[0m\u001b[2;36m \u001b[0m\u001b[34mINFO    \u001b[0m Certified        \u001b]8;id=584460;file:///ceph/ssd/students/sabanaya/ntk-robust/exp_ntk_certify_label_binary_onenode.py\u001b\\\u001b[2mexp_ntk_certify_label_binary_onenode.py\u001b[0m\u001b]8;;\u001b\\\u001b[2m:\u001b[0m\u001b]8;id=328971;file:///ceph/ssd/students/sabanaya/ntk-robust/exp_ntk_certify_label_binary_onenode.py#283\u001b\\\u001b[2m283\u001b[0m\u001b]8;;\u001b\\\n",
       "\u001b[2;36m           \u001b[0m         accuracy         \u001b[2m                                           \u001b[0m\n",
       "\u001b[2;36m           \u001b[0m         \u001b[1m(\u001b[0mpoisoning\u001b[1m)\u001b[0m: \u001b[1;36m1.0\u001b[0m \u001b[2m                                           \u001b[0m\n"
      ]
     },
     "metadata": {},
     "output_type": "display_data"
    }
   ],
   "source": [
    "result = run(data_params, model_params, certificate_params, verbosity_params, other_params, seed)\n"
   ]
  }
 ],
 "metadata": {
  "kernelspec": {
   "display_name": "py311_ntk",
   "language": "python",
   "name": "python3"
  },
  "language_info": {
   "codemirror_mode": {
    "name": "ipython",
    "version": 3
   },
   "file_extension": ".py",
   "mimetype": "text/x-python",
   "name": "python",
   "nbconvert_exporter": "python",
   "pygments_lexer": "ipython3",
   "version": "3.11.8"
  }
 },
 "nbformat": 4,
 "nbformat_minor": 2
}
