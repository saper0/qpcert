{
 "cells": [
  {
   "cell_type": "code",
   "execution_count": 2,
   "metadata": {},
   "outputs": [
    {
     "name": "stdout",
     "output_type": "stream",
     "text": [
      "The autoreload extension is already loaded. To reload it, use:\n",
      "  %reload_ext autoreload\n"
     ]
    }
   ],
   "source": [
    "%load_ext autoreload\n",
    "%autoreload 2"
   ]
  },
  {
   "cell_type": "code",
   "execution_count": 14,
   "metadata": {},
   "outputs": [],
   "source": [
    "import torch\n",
    "import numpy as np\n",
    "from src.graph_models.csbm import CSBM\n",
    "from src.data import get_graph\n",
    "from common import configure_hardware\n",
    "\n",
    "seed = 0\n",
    "data_dict = dict(\n",
    "    seed = 0,\n",
    "    classes = 2,\n",
    "    n_trn_labeled = 6,\n",
    "    n_trn_unlabeled = 0,\n",
    "    n_val = 2,\n",
    "    n_test = 2,\n",
    "    sigma = 1,\n",
    "    avg_within_class_degree = 1.58 * 2,\n",
    "    avg_between_class_degree = 0.37 * 2,\n",
    "    K = 1.5,\n",
    ")\n",
    "device = \"cpu\"\n",
    "dtype = torch.float64\n",
    "device_ = configure_hardware(device, seed)\n",
    "# Sample\n",
    "X, A, y = get_graph(data_dict, sort=True)\n",
    "X = torch.tensor(X, dtype=dtype, device=device_)\n",
    "A = torch.tensor(A, dtype=dtype, device=device_)\n",
    "y = torch.tensor(y, device=device_)"
   ]
  },
  {
   "cell_type": "code",
   "execution_count": 15,
   "metadata": {},
   "outputs": [
    {
     "data": {
      "text/plain": [
       "tensor([[0., 0., 0., 1., 0., 1., 1., 0., 0., 0.],\n",
       "        [0., 0., 1., 1., 0., 1., 0., 0., 0., 0.],\n",
       "        [0., 1., 0., 1., 1., 1., 0., 1., 0., 0.],\n",
       "        [1., 1., 1., 0., 1., 1., 0., 1., 1., 0.],\n",
       "        [0., 0., 1., 1., 0., 0., 0., 0., 0., 0.],\n",
       "        [1., 1., 1., 1., 0., 0., 0., 0., 0., 0.],\n",
       "        [1., 0., 0., 0., 0., 0., 0., 1., 0., 0.],\n",
       "        [0., 0., 1., 1., 0., 0., 1., 0., 1., 1.],\n",
       "        [0., 0., 0., 1., 0., 0., 0., 1., 0., 1.],\n",
       "        [0., 0., 0., 0., 0., 0., 0., 1., 1., 0.]], dtype=torch.float64)"
      ]
     },
     "execution_count": 15,
     "metadata": {},
     "output_type": "execute_result"
    }
   ],
   "source": [
    "A"
   ]
  },
  {
   "cell_type": "code",
   "execution_count": 16,
   "metadata": {},
   "outputs": [
    {
     "data": {
      "text/plain": [
       "tensor([[-0.1687,  0.7737],\n",
       "        [ 0.4168, -1.2341],\n",
       "        [-1.7958, -1.1536],\n",
       "        [-0.4890, -2.8554],\n",
       "        [-0.7491, -1.7762],\n",
       "        [-1.2626, -1.0746],\n",
       "        [ 0.2140,  0.9420],\n",
       "        [ 1.5728,  0.4018],\n",
       "        [ 1.8968, -0.1349],\n",
       "        [ 0.8818,  1.4338]], dtype=torch.float64)"
      ]
     },
     "execution_count": 16,
     "metadata": {},
     "output_type": "execute_result"
    }
   ],
   "source": [
    "X"
   ]
  },
  {
   "cell_type": "code",
   "execution_count": 17,
   "metadata": {},
   "outputs": [],
   "source": [
    "x = X.clone().cpu()\n",
    "N, D = x.shape\n",
    "x_sorted, index_x = torch.sort(x, dim=0)\n",
    "matrix_index_for_each_node = torch.arange(N, dtype=torch.long)[:, None, None].expand(N, N, D)\n",
    "A_cpu_dense = A.cpu()\n",
    "if A.is_sparse:\n",
    "    A_cpu_dense = A_cpu_dense.to_dense()\n",
    "cum_sorted_weights = A_cpu_dense[matrix_index_for_each_node, index_x].cumsum(1)\n",
    "weight_sum_per_node = cum_sorted_weights.max(1)[0] # degree of each node (copied for each dimension in d)\n",
    "median_element = (cum_sorted_weights < (weight_sum_per_node / 2)[:, None].expand(N, N, D)).sum(1).to(A.device) #<- dimension wise median element\n",
    "\n",
    "matrix_reverse_index = torch.arange(D, dtype=torch.long)[None, :].expand(N, D).to(A.device)\n",
    "x_selected = x[ # <-- dimension wise median vector for each node\n",
    "    index_x[median_element, matrix_reverse_index],\n",
    "    matrix_reverse_index\n",
    "]\n",
    "result = weight_sum_per_node.to(A.device) * x_selected # multiply degree of a node with dimensionwise median result\n"
   ]
  },
  {
   "cell_type": "code",
   "execution_count": 28,
   "metadata": {},
   "outputs": [
    {
     "data": {
      "text/plain": [
       "tensor([[-1.4670, -3.2238],\n",
       "        [-3.7878, -3.4608],\n",
       "        [-2.4450, -6.1703],\n",
       "        [-1.1811, -7.5221],\n",
       "        [-3.5915, -5.7107],\n",
       "        [-1.9560, -4.9363],\n",
       "        [-0.3375,  0.8036],\n",
       "        [ 1.0701, -0.6743],\n",
       "        [ 2.6455,  1.2054],\n",
       "        [ 3.1457, -0.2697]], dtype=torch.float64)"
      ]
     },
     "execution_count": 28,
     "metadata": {},
     "output_type": "execute_result"
    }
   ],
   "source": [
    "result"
   ]
  },
  {
   "cell_type": "code",
   "execution_count": 19,
   "metadata": {},
   "outputs": [
    {
     "data": {
      "text/plain": [
       "torch.return_types.sort(\n",
       "values=tensor([[-1.7958, -2.8554],\n",
       "        [-1.2626, -1.7762],\n",
       "        [-0.7491, -1.2341],\n",
       "        [-0.4890, -1.1536],\n",
       "        [-0.1687, -1.0746],\n",
       "        [ 0.2140, -0.1349],\n",
       "        [ 0.4168,  0.4018],\n",
       "        [ 0.8818,  0.7737],\n",
       "        [ 1.5728,  0.9420],\n",
       "        [ 1.8968,  1.4338]], dtype=torch.float64),\n",
       "indices=tensor([[2, 3],\n",
       "        [5, 4],\n",
       "        [4, 1],\n",
       "        [3, 2],\n",
       "        [0, 5],\n",
       "        [6, 8],\n",
       "        [1, 7],\n",
       "        [9, 0],\n",
       "        [7, 6],\n",
       "        [8, 9]]))"
      ]
     },
     "execution_count": 19,
     "metadata": {},
     "output_type": "execute_result"
    }
   ],
   "source": [
    "torch.sort(X, dim=0)"
   ]
  },
  {
   "cell_type": "code",
   "execution_count": 27,
   "metadata": {},
   "outputs": [
    {
     "name": "stdout",
     "output_type": "stream",
     "text": [
      "tensor([[3., 3.],\n",
      "        [3., 3.],\n",
      "        [5., 5.],\n",
      "        [7., 7.],\n",
      "        [2., 2.],\n",
      "        [4., 4.],\n",
      "        [2., 2.],\n",
      "        [5., 5.],\n",
      "        [3., 3.],\n",
      "        [2., 2.]], dtype=torch.float64)\n"
     ]
    }
   ],
   "source": [
    "print(weight_sum_per_node)"
   ]
  },
  {
   "cell_type": "code",
   "execution_count": 24,
   "metadata": {},
   "outputs": [
    {
     "name": "stdout",
     "output_type": "stream",
     "text": [
      "tensor([[3, 4],\n",
      "        [1, 3],\n",
      "        [3, 2],\n",
      "        [4, 4],\n",
      "        [0, 0],\n",
      "        [3, 2],\n",
      "        [4, 6],\n",
      "        [5, 5],\n",
      "        [7, 6],\n",
      "        [8, 5]])\n"
     ]
    }
   ],
   "source": [
    "print(median_element)"
   ]
  },
  {
   "cell_type": "code",
   "execution_count": 25,
   "metadata": {},
   "outputs": [
    {
     "name": "stdout",
     "output_type": "stream",
     "text": [
      "tensor([[-0.4890, -1.0746],\n",
      "        [-1.2626, -1.1536],\n",
      "        [-0.4890, -1.2341],\n",
      "        [-0.1687, -1.0746],\n",
      "        [-1.7958, -2.8554],\n",
      "        [-0.4890, -1.2341],\n",
      "        [-0.1687,  0.4018],\n",
      "        [ 0.2140, -0.1349],\n",
      "        [ 0.8818,  0.4018],\n",
      "        [ 1.5728, -0.1349]], dtype=torch.float64)\n"
     ]
    }
   ],
   "source": [
    "print(x_selected)"
   ]
  },
  {
   "cell_type": "code",
   "execution_count": null,
   "metadata": {},
   "outputs": [],
   "source": []
  }
 ],
 "metadata": {
  "kernelspec": {
   "display_name": "py311_ntk",
   "language": "python",
   "name": "python3"
  },
  "language_info": {
   "codemirror_mode": {
    "name": "ipython",
    "version": 3
   },
   "file_extension": ".py",
   "mimetype": "text/x-python",
   "name": "python",
   "nbconvert_exporter": "python",
   "pygments_lexer": "ipython3",
   "version": "3.11.5"
  }
 },
 "nbformat": 4,
 "nbformat_minor": 2
}
