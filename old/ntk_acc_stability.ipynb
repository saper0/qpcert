{
 "cells": [
  {
   "cell_type": "code",
   "execution_count": 1,
   "metadata": {},
   "outputs": [],
   "source": [
    "%load_ext autoreload\n",
    "%autoreload 2"
   ]
  },
  {
   "cell_type": "code",
   "execution_count": 2,
   "metadata": {},
   "outputs": [],
   "source": [
    "from typing import Any, Dict\n",
    "\n",
    "import numpy as np\n",
    "import scipy.sparse as sp\n",
    "import torch\n",
    "import torch.nn.functional as F\n",
    "from torch_sparse import SparseTensor\n",
    "from jaxtyping import Float, Integer\n",
    "import matplotlib\n",
    "import matplotlib as mpl\n",
    "import matplotlib.pyplot as plt\n",
    "from cycler import cycler\n",
    "import os\n",
    "\n",
    "from src.graph_models.csbm import CSBM\n",
    "from src.models.common import get_diffusion\n",
    "from src.models.ntk import NTK\n",
    "from src.attacks import create_attack\n",
    "from common import configure_hardware, get_graph, \\\n",
    "    count_edges_for_idx, calc_kernel_means, plot_ntk_model_diff, plot_ntk_model_acc\n",
    "from src import utils"
   ]
  },
  {
   "cell_type": "code",
   "execution_count": 3,
   "metadata": {},
   "outputs": [],
   "source": [
    "# Data\n",
    "data_dict = dict(\n",
    "    classes = 2,\n",
    "    n = 1000,\n",
    "    n_per_class_trn = 300,\n",
    "    n_per_class_labeled = 300,\n",
    "    sigma = 1,\n",
    "    avg_within_class_degree = 1.58 * 2,\n",
    "    avg_between_class_degree = 0.37 * 2,\n",
    ")\n",
    "K = 1\n",
    "seed_l = [seed for seed in range(30)]\n",
    "# Model\n",
    "model_dict_gcn = {\n",
    "    \"label\": \"GCN\",\n",
    "    \"model\": \"GCN\",\n",
    "    \"normalization\": \"row_normalization\",\n",
    "    \"depth\": 1,\n",
    "}\n",
    "model_dict_softmedoid = {\n",
    "    \"label\": \"SoftM_T1\",\n",
    "    \"model\": \"SoftMedoid\",\n",
    "    \"normalization\": \"row_normalization\",\n",
    "    \"depth\": 1,\n",
    "    \"T\": 1\n",
    "}\n",
    "model_dict_softmedoid5 = {\n",
    "    \"label\": \"SoftM_T5\",\n",
    "    \"model\": \"SoftMedoid\",\n",
    "    \"normalization\": \"row_normalization\",\n",
    "    \"depth\": 1,\n",
    "    \"T\": 5\n",
    "}\n",
    "model_dict_l = [model_dict_gcn, model_dict_softmedoid, model_dict_softmedoid5]\n",
    "# other\n",
    "device = \"0\"\n",
    "dtype = torch.float64"
   ]
  },
  {
   "cell_type": "code",
   "execution_count": 17,
   "metadata": {},
   "outputs": [],
   "source": [
    "result_dict = dict()\n",
    "for seed in seed_l: \n",
    "    rng = np.random.Generator(np.random.PCG64(seed))\n",
    "    ntk_dict = dict()\n",
    "    device_ = configure_hardware(device, seed)\n",
    "    data_dict[\"K\"] = K\n",
    "    # Sample\n",
    "    X, A, y = get_graph(data_dict, seed=seed, sort=True)\n",
    "    X = torch.tensor(X, dtype=dtype, device=device_)\n",
    "    A = torch.tensor(A, dtype=dtype, device=device_)\n",
    "    y = torch.tensor(y, device=device_)\n",
    "    # Trn / Test Split\n",
    "    n_cls0 = sum(y == 0).cpu().item()\n",
    "    n = len(y)\n",
    "    idx_cls0 = rng.permutation(np.arange(n_cls0))\n",
    "    idx_cls1 = rng.permutation(np.arange(n_cls0, n))\n",
    "    n_trn = data_dict[\"n_per_class_trn\"]\n",
    "    n_labeled = data_dict[\"n_per_class_labeled\"]\n",
    "    idx_labeled = np.concatenate((idx_cls0[:n_labeled], idx_cls1[:n_labeled]))\n",
    "    idx_unlabeled = np.concatenate((idx_cls0[n_labeled:], idx_cls1[n_labeled:]))\n",
    "    idx_target = np.concatenate((idx_cls0[n_trn:], idx_cls1[n_trn:]))\n",
    "    for model_dict in model_dict_l:\n",
    "        # Computing NTK\n",
    "        ntk = NTK(model_dict, X, A)\n",
    "        y_pred = ntk(idx_labeled, idx_unlabeled, y)\n",
    "        acc = utils.accuracy(y_pred, y[idx_target]).cpu().item()\n",
    "        if not model_dict[\"label\"] in result_dict:\n",
    "            result_dict[model_dict[\"label\"]] = []\n",
    "            result_dict[model_dict[\"label\"]+\"_acc\"] = []\n",
    "        result_dict[model_dict[\"label\"]].append(ntk)\n",
    "        result_dict[model_dict[\"label\"]+\"_acc\"].append(acc)"
   ]
  },
  {
   "cell_type": "code",
   "execution_count": 15,
   "metadata": {},
   "outputs": [
    {
     "name": "stdout",
     "output_type": "stream",
     "text": [
      "GCN_acc: 85.56 +- 4.28\n",
      "SoftM_T1_acc: 77.72 +- 2.76\n",
      "SoftM_T5_acc: 83.37 +- 7.01\n"
     ]
    }
   ],
   "source": [
    "# With Stabilising Inverse\n",
    "for model_label, result_l in result_dict.items():\n",
    "    if not model_label.endswith(\"_acc\"):\n",
    "        continue\n",
    "    res = np.array(result_l) * 100\n",
    "    print(f\"{model_label}: {np.mean(res):.2f} +- {np.std(res):.2f}\")"
   ]
  },
  {
   "cell_type": "code",
   "execution_count": 18,
   "metadata": {},
   "outputs": [
    {
     "name": "stdout",
     "output_type": "stream",
     "text": [
      "GCN_acc: 83.59 +- 10.03\n",
      "SoftM_T1_acc: 75.18 +- 6.05\n",
      "SoftM_T5_acc: 81.98 +- 8.78\n"
     ]
    }
   ],
   "source": [
    "# Without Stabilising Inverse\n",
    "for model_label, result_l in result_dict.items():\n",
    "    if not model_label.endswith(\"_acc\"):\n",
    "        continue\n",
    "    res = np.array(result_l) * 100\n",
    "    print(f\"{model_label}: {np.mean(res):.2f} +- {np.std(res):.2f}\")"
   ]
  },
  {
   "cell_type": "code",
   "execution_count": null,
   "metadata": {},
   "outputs": [],
   "source": []
  }
 ],
 "metadata": {
  "kernelspec": {
   "display_name": "py397",
   "language": "python",
   "name": "python3"
  },
  "language_info": {
   "codemirror_mode": {
    "name": "ipython",
    "version": 3
   },
   "file_extension": ".py",
   "mimetype": "text/x-python",
   "name": "python",
   "nbconvert_exporter": "python",
   "pygments_lexer": "ipython3",
   "version": "3.11.5"
  },
  "orig_nbformat": 4
 },
 "nbformat": 4,
 "nbformat_minor": 2
}
