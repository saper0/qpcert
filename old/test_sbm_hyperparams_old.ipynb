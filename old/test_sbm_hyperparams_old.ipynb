{
 "cells": [
  {
   "cell_type": "markdown",
   "metadata": {},
   "source": [
    "# NTK hyperparams search on sbm"
   ]
  },
  {
   "cell_type": "code",
   "execution_count": 2,
   "metadata": {},
   "outputs": [],
   "source": [
    "%load_ext autoreload\n",
    "%autoreload 2"
   ]
  },
  {
   "cell_type": "code",
   "execution_count": 3,
   "metadata": {},
   "outputs": [
    {
     "ename": "ModuleNotFoundError",
     "evalue": "No module named 'exp_ntk_hyperparam'",
     "output_type": "error",
     "traceback": [
      "\u001b[0;31m---------------------------------------------------------------------------\u001b[0m",
      "\u001b[0;31mModuleNotFoundError\u001b[0m                       Traceback (most recent call last)",
      "Cell \u001b[0;32mIn[3], line 3\u001b[0m\n\u001b[1;32m      1\u001b[0m \u001b[38;5;28;01mimport\u001b[39;00m \u001b[38;5;21;01mtorch\u001b[39;00m\n\u001b[1;32m      2\u001b[0m \u001b[38;5;28;01mimport\u001b[39;00m \u001b[38;5;21;01mnumpy\u001b[39;00m \u001b[38;5;28;01mas\u001b[39;00m \u001b[38;5;21;01mnp\u001b[39;00m\n\u001b[0;32m----> 3\u001b[0m \u001b[38;5;28;01mfrom\u001b[39;00m \u001b[38;5;21;01mexp_ntk_hyperparam\u001b[39;00m \u001b[38;5;28;01mimport\u001b[39;00m run\n",
      "\u001b[0;31mModuleNotFoundError\u001b[0m: No module named 'exp_ntk_hyperparam'"
     ]
    }
   ],
   "source": [
    "import torch\n",
    "import numpy as np\n",
    "from exp_ntk_hyperparam import run"
   ]
  },
  {
   "cell_type": "code",
   "execution_count": null,
   "metadata": {},
   "outputs": [],
   "source": [
    "def get_str_l(l, precision=2):\n",
    "    l_str = []\n",
    "    for el in l:\n",
    "        l_str.append(f\"{el:.{precision}f}\")\n",
    "    return l_str\n",
    "    "
   ]
  },
  {
   "cell_type": "code",
   "execution_count": null,
   "metadata": {},
   "outputs": [],
   "source": [
    "seed = 0\n",
    "\n",
    "data_params = dict(\n",
    "    dataset = \"csbm\",\n",
    "    learning_setting = \"transductive\", # or \"transdructive\"\n",
    "    cv_folds = 4,\n",
    "    specification = dict(\n",
    "        classes = 2,\n",
    "        n_trn_labeled = 40, \n",
    "        n_trn_unlabeled = 0,\n",
    "        n_val = 40,\n",
    "        n_test = 120,\n",
    "        sigma = 1,\n",
    "        avg_within_class_degree = 1.58 * 2,\n",
    "        avg_between_class_degree = 0.37 * 2,\n",
    "        K = 1.5,\n",
    "        seed = 0 # used to generate the dataset & data split\n",
    "    )\n",
    ")\n",
    "\n",
    "model_params = dict(\n",
    "    label = \"GCN\",\n",
    "    model = \"GCN\",\n",
    "    normalization = \"row_normalization\",\n",
    "    depth = 1,\n",
    "    #regularizer = 1e-8\n",
    "    regularizer = 1,\n",
    "    pred_method = \"svm\",\n",
    "    activation = \"relu\",\n",
    ")\n",
    "\n",
    "verbosity_params = dict(\n",
    "    debug_lvl = \"warning\"\n",
    ")  \n",
    "\n",
    "other_params = dict(\n",
    "    device = \"0\",\n",
    "    dtype = \"float64\",\n",
    "    allow_tf32 = False\n",
    ")"
   ]
  },
  {
   "cell_type": "code",
   "execution_count": null,
   "metadata": {},
   "outputs": [],
   "source": [
    "def run_exp(n_seeds, data_params, model_params, verbosity_params, other_params, n_seed_l=None):\n",
    "    acc_l = []\n",
    "    min_ypred = []\n",
    "    max_ypred = []\n",
    "    cond = []\n",
    "    min_ntklabeled = []\n",
    "    max_ntklabeled = []\n",
    "    min_ntkunlabeled = []\n",
    "    max_ntkunlabeled = []\n",
    "    if n_seed_l is None:\n",
    "        seeds = [seed for seed in range(n_seeds)]\n",
    "    else:\n",
    "        seeds = n_seed_l\n",
    "    for seed in seeds:\n",
    "        data_params[\"specification\"][\"seed\"] = seed\n",
    "        res = run(data_params, model_params, verbosity_params, other_params, seed)\n",
    "        acc_l.append(res[\"accuracy\"])\n",
    "        min_ypred.append(res[\"min_ypred\"])\n",
    "        max_ypred.append(res[\"max_ypred\"])\n",
    "        min_ntklabeled.append(res[\"min_ntklabeled\"])\n",
    "        max_ntklabeled.append(res[\"max_ntklabeled\"])\n",
    "        min_ntkunlabeled.append(res[\"min_ntkunlabeled\"])\n",
    "        max_ntkunlabeled.append(res[\"max_ntkunlabeled\"])\n",
    "        cond.append(res[\"cond\"])\n",
    "    print(f\"Accuracy: {get_str_l(acc_l)}\")\n",
    "    print(f\"Accuracy Mean: {np.array(acc_l).mean()}\")\n",
    "    print(f\"Accuracy Std: {np.array(acc_l).std()}\")\n",
    "    print(f\"Min y_pred: {get_str_l(min_ypred)}\")\n",
    "    print(f\"Max y_pred: {get_str_l(max_ypred)}\")\n",
    "    print(f\"Min NTK_labeled: {get_str_l(min_ntklabeled)}\")\n",
    "    print(f\"Max NTK_labeled: {get_str_l(max_ntklabeled)}\")\n",
    "    print(f\"Min NTK_unlabeled: {get_str_l(min_ntkunlabeled)}\")\n",
    "    print(f\"Max NTK_unlabeled: {get_str_l(max_ntkunlabeled)}\")\n",
    "    print(f\"Condition: {get_str_l(cond, precision=0)}\")"
   ]
  },
  {
   "cell_type": "code",
   "execution_count": 4,
   "metadata": {},
   "outputs": [
    {
     "ename": "NameError",
     "evalue": "name 'model_params' is not defined",
     "output_type": "error",
     "traceback": [
      "\u001b[0;31m---------------------------------------------------------------------------\u001b[0m",
      "\u001b[0;31mNameError\u001b[0m                                 Traceback (most recent call last)",
      "Cell \u001b[0;32mIn[4], line 1\u001b[0m\n\u001b[0;32m----> 1\u001b[0m \u001b[43mmodel_params\u001b[49m[\u001b[38;5;124m\"\u001b[39m\u001b[38;5;124mregularizer\u001b[39m\u001b[38;5;124m\"\u001b[39m] \u001b[38;5;241m=\u001b[39m \u001b[38;5;241m0.1\u001b[39m\n\u001b[1;32m      2\u001b[0m model_params[\u001b[38;5;124m\"\u001b[39m\u001b[38;5;124mpred_method\u001b[39m\u001b[38;5;124m\"\u001b[39m] \u001b[38;5;241m=\u001b[39m \u001b[38;5;124m\"\u001b[39m\u001b[38;5;124msvm\u001b[39m\u001b[38;5;124m\"\u001b[39m\n\u001b[1;32m      3\u001b[0m model_params[\u001b[38;5;124m\"\u001b[39m\u001b[38;5;124mcache_size\u001b[39m\u001b[38;5;124m\"\u001b[39m] \u001b[38;5;241m=\u001b[39m \u001b[38;5;241m1000\u001b[39m\n",
      "\u001b[0;31mNameError\u001b[0m: name 'model_params' is not defined"
     ]
    }
   ],
   "source": [
    "model_params[\"regularizer\"] = 0.1\n",
    "model_params[\"pred_method\"] = \"svm\"\n",
    "model_params[\"cache_size\"] = 1000\n",
    "other_params[\"device\"] = 0\n",
    "seed = 0\n",
    "data_params[\"specification\"][\"seed\"] = seed\n",
    "run(data_params, model_params, verbosity_params, other_params, seed)"
   ]
  },
  {
   "cell_type": "code",
   "execution_count": 11,
   "metadata": {},
   "outputs": [
    {
     "data": {
      "text/plain": [
       "{'trn_acc': 0.8416666388511658,\n",
       " 'val_acc_l': [0.8666666746139526,\n",
       "  0.699999988079071,\n",
       "  0.7666666507720947,\n",
       "  0.8666666746139526],\n",
       " 'test_acc': 0.6720730066299438,\n",
       " 'trn_min_ypred': -1.0132856369018555,\n",
       " 'trn_max_ypred': -0.92774498462677,\n",
       " 'trn_min_ntkunlabeled': 0.017343977865629755,\n",
       " 'trn_max_ntkunlabeled': 0.3979579377862144,\n",
       " 'val_cond': [29.28596287702048,\n",
       "  28.50047210021289,\n",
       "  29.87229510654015,\n",
       "  30.21689120506808],\n",
       " 'val_min_ypred': [-1.0080808401107788,\n",
       "  -1.009164810180664,\n",
       "  -1.0047053098678589,\n",
       "  -1.0055309534072876],\n",
       " 'val_max_ypred': [-0.9614898562431335,\n",
       "  -0.9390972256660461,\n",
       "  -0.9678471088409424,\n",
       "  -0.9638925194740295],\n",
       " 'val_min_ntklabeled': [0.017790753156182348,\n",
       "  0.0174271389738226,\n",
       "  0.017426028088272472,\n",
       "  0.0175991252872458],\n",
       " 'val_max_ntklabeled': [0.4699480765241749,\n",
       "  0.4594507217073751,\n",
       "  0.4699480765241749,\n",
       "  0.48532874339337995],\n",
       " 'val_min_ntkunlabeled': [0.01655318783843405,\n",
       "  0.01655318783843405,\n",
       "  0.01655318783843405,\n",
       "  0.01655318783843405],\n",
       " 'val_max_ntkunlabeled': [0.5257314784867956,\n",
       "  0.5257314784867956,\n",
       "  0.5257314784867956,\n",
       "  0.5257314784867956],\n",
       " 'test_min_ypred': -1.0247138738632202,\n",
       " 'test_max_ypred': -0.886574923992157,\n",
       " 'test_min_ntklabeled': 0.017426028088272472,\n",
       " 'test_max_ntklabeled': 0.4699480765241749,\n",
       " 'test_min_ntkunlabeled': 0.01655318783843405,\n",
       " 'test_max_ntkunlabeled': 0.5257314784867956,\n",
       " 'test_cond': 38.78955604859958}"
      ]
     },
     "execution_count": 11,
     "metadata": {},
     "output_type": "execute_result"
    }
   ],
   "source": [
    "model_params[\"regularizer\"] = 0.1\n",
    "model_params[\"pred_method\"] = \"svm\"\n",
    "model_params[\"cache_size\"] = 1000\n",
    "data_params[\"dataset\"] = \"pubmed\"\n",
    "other_params[\"device\"] = 0\n",
    "seed = 0\n",
    "data_params[\"specification\"][\"seed\"] = seed\n",
    "run(data_params, model_params, verbosity_params, other_params, seed)"
   ]
  },
  {
   "cell_type": "markdown",
   "metadata": {},
   "source": [
    "# SVM"
   ]
  },
  {
   "cell_type": "code",
   "execution_count": 35,
   "metadata": {},
   "outputs": [
    {
     "name": "stdout",
     "output_type": "stream",
     "text": [
      "Accuracy: ['0.86', '0.87', '0.85', '0.86', '0.78', '0.79', '0.85', '0.84', '0.82', '0.82']\n",
      "Accuracy Mean: 0.8334507048130035\n",
      "Accuracy Std: 0.02933545175833569\n",
      "Min y_pred: ['-2.01', '-1.80', '-1.93', '-1.87', '-2.13', '-2.22', '-1.89', '-2.01', '-1.89', '-1.98']\n",
      "Max y_pred: ['2.04', '1.75', '2.08', '2.14', '2.47', '2.29', '2.01', '1.82', '2.00', '2.06']\n",
      "Min NTK_labeled: ['3.52', '3.30', '2.93', '3.29', '2.95', '3.51', '3.47', '1.89', '2.73', '2.61']\n",
      "Max NTK_labeled: ['142.09', '168.08', '132.09', '110.09', '72.59', '108.09', '104.09', '324.07', '74.09', '139.80']\n",
      "Min NTK_unlabeled: ['2.64', '3.17', '2.63', '2.63', '3.35', '2.63', '3.07', '3.23', '2.33', '3.04']\n",
      "Max NTK_unlabeled: ['47.54', '39.93', '38.96', '41.18', '47.54', '47.08', '33.10', '74.87', '39.56', '43.30']\n",
      "Condition: ['26316', '13169', '25396', '25245', '25365', '16955', '16290', '13427', '15812', '27280']\n"
     ]
    }
   ],
   "source": [
    "model_params[\"regularizer\"] = 0.1\n",
    "data_params[\"dataset\"] = \"cora_ml\"\n",
    "model_params[\"pred_method\"] = \"svm\"\n",
    "n_seed_l = None\n",
    "verbosity_params[\"debug_lvl\"] = \"warning\"\n",
    "n_seeds = 10\n",
    "run_exp(n_seeds, data_params, model_params, verbosity_params, other_params, n_seed_l)"
   ]
  },
  {
   "cell_type": "code",
   "execution_count": 33,
   "metadata": {},
   "outputs": [
    {
     "name": "stdout",
     "output_type": "stream",
     "text": [
      "Accuracy: ['0.78', '0.76', '0.65', '0.74', '0.72', '0.66', '0.77', '0.73', '0.72', '0.77']\n",
      "Accuracy Mean: 0.731424230337143\n",
      "Accuracy Std: 0.04095614945257118\n",
      "Min y_pred: ['-1.02', '-1.02', '-1.01', '-1.02', '-1.02', '-1.02', '-1.01', '-1.03', '-1.02', '-1.01']\n",
      "Max y_pred: ['-0.90', '-0.92', '-0.90', '-0.91', '-0.90', '-0.86', '-0.92', '-0.85', '-0.85', '-0.89']\n",
      "Min NTK_labeled: ['0.02', '0.02', '0.02', '0.02', '0.02', '0.02', '0.02', '0.02', '0.02', '0.02']\n",
      "Max NTK_labeled: ['0.50', '1.03', '0.66', '0.40', '0.96', '1.13', '0.62', '0.83', '0.59', '0.82']\n",
      "Min NTK_unlabeled: ['0.02', '0.02', '0.02', '0.02', '0.02', '0.02', '0.02', '0.02', '0.02', '0.02']\n",
      "Max NTK_unlabeled: ['0.46', '0.33', '0.27', '0.36', '0.27', '0.73', '0.25', '0.31', '0.31', '0.33']\n",
      "Condition: ['40', '47', '40', '40', '41', '44', '40', '41', '41', '43']\n"
     ]
    }
   ],
   "source": [
    "model_params[\"regularizer\"] = 0.1\n",
    "data_params[\"dataset\"] = \"pubmed\"\n",
    "model_params[\"pred_method\"] = \"svm\"\n",
    "n_seed_l = None\n",
    "n_seeds = 10\n",
    "other_params[\"device\"] = \"cpu\"\n",
    "verbosity_params[\"debug_lvl\"] = \"warning\"\n",
    "run_exp(n_seeds, data_params, model_params, verbosity_params, other_params, n_seed_l=n_seed_l)"
   ]
  },
  {
   "cell_type": "code",
   "execution_count": 37,
   "metadata": {},
   "outputs": [
    {
     "name": "stderr",
     "output_type": "stream",
     "text": [
      "/ceph/ssd/staff/gosl/.conda/envs/py311_ntk/lib/python3.11/site-packages/torch_geometric/data/in_memory_dataset.py:157: UserWarning: It is not recommended to directly access the internal storage format `data` of an 'InMemoryDataset'. If you are absolutely certain what you are doing, access the internal storage via `InMemoryDataset._data` instead to suppress this warning. Alternatively, you can access stacked individual attributes of every graph via `dataset.{attr_name}`.\n",
      "  warnings.warn(msg)\n",
      "/ceph/ssd/staff/gosl/src/ntk-robust/exp_ntk.py:162: UserWarning: To copy construct from a tensor, it is recommended to use sourceTensor.clone().detach() or sourceTensor.clone().detach().requires_grad_(True), rather than torch.tensor(sourceTensor).\n",
      "  X = torch.tensor(X, dtype=other_params[\"dtype\"], device=device)\n",
      "/ceph/ssd/staff/gosl/src/ntk-robust/exp_ntk.py:163: UserWarning: To copy construct from a tensor, it is recommended to use sourceTensor.clone().detach() or sourceTensor.clone().detach().requires_grad_(True), rather than torch.tensor(sourceTensor).\n",
      "  A = torch.tensor(A, dtype=other_params[\"dtype\"], device=device)\n"
     ]
    },
    {
     "name": "stdout",
     "output_type": "stream",
     "text": [
      "number of samples\n",
      " - labeled: 140 \n",
      " - val: 140 \n",
      " - test: 273 \n",
      " - unlabeled: 2155\n",
      "number of samples\n",
      " - labeled: 140 \n",
      " - val: 140 \n",
      " - test: 273 \n",
      " - unlabeled: 2155\n",
      "Accuracy: ['0.86', '0.84']\n",
      "Min y_pred: ['-0.61', '-0.68']\n",
      "Max y_pred: ['1.54', '2.93']\n",
      "Min NTK_labeled: ['0.55', '0.78']\n",
      "Max NTK_labeled: ['41.00', '53.00']\n",
      "Min NTK_unlabeled: ['0.52', '0.64']\n",
      "Max NTK_unlabeled: ['28.50', '28.00']\n",
      "Condition: ['931', '939']\n"
     ]
    }
   ],
   "source": [
    "model_params[\"regularizer\"] = 1\n",
    "data_params[\"dataset\"] = \"cora\"\n",
    "model_params[\"pred_method\"] = \"krr\"\n",
    "n_seeds = 2\n",
    "run_exp(n_seeds, data_params, model_params, verbosity_params, other_params)"
   ]
  }
 ],
 "metadata": {
  "kernelspec": {
   "display_name": "py311_ntk",
   "language": "python",
   "name": "python3"
  },
  "language_info": {
   "codemirror_mode": {
    "name": "ipython",
    "version": 3
   },
   "file_extension": ".py",
   "mimetype": "text/x-python",
   "name": "python",
   "nbconvert_exporter": "python",
   "pygments_lexer": "ipython3",
   "version": "3.11.5"
  }
 },
 "nbformat": 4,
 "nbformat_minor": 2
}
