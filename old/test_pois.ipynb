{
 "cells": [
  {
   "cell_type": "code",
   "execution_count": 8,
   "metadata": {},
   "outputs": [
    {
     "name": "stdout",
     "output_type": "stream",
     "text": [
      "The autoreload extension is already loaded. To reload it, use:\n",
      "  %reload_ext autoreload\n"
     ]
    }
   ],
   "source": [
    "%load_ext autoreload\n",
    "%autoreload 2"
   ]
  },
  {
   "cell_type": "code",
   "execution_count": 9,
   "metadata": {},
   "outputs": [],
   "source": [
    "import os\n",
    "os.environ[\"GRB_LICENSE_FILE\"] = \"/ceph/ssd/staff/gosl/app/gurobi.lic\"\n"
   ]
  },
  {
   "cell_type": "code",
   "execution_count": 10,
   "metadata": {},
   "outputs": [],
   "source": [
    "import torch\n",
    "import numpy as np\n",
    "from exp_ntk_certify import run"
   ]
  },
  {
   "cell_type": "code",
   "execution_count": 16,
   "metadata": {},
   "outputs": [],
   "source": [
    "seed = 0\n",
    "\n",
    "data_params = dict(\n",
    "    dataset = \"csbm\",\n",
    "    learning_setting = \"transductive\", # or \"transdructive\"\n",
    "    specification = dict(\n",
    "        classes = 2,\n",
    "        n_trn_labeled = 40, \n",
    "        n_trn_unlabeled = 0,\n",
    "        n_val = 40,\n",
    "        n_test = 120,\n",
    "        sigma = 1,\n",
    "        avg_within_class_degree = 1.58 * 2,\n",
    "        avg_between_class_degree = 0.37 * 2,\n",
    "        K = 1.5,\n",
    "        seed = 10 # used to generate the dataset & data split\n",
    "    )\n",
    ")\n",
    "\n",
    "model_params = dict(\n",
    "    label = \"GCN\",\n",
    "    model = \"GCN\",\n",
    "    normalization = \"row_normalization\",\n",
    "    depth = 1,\n",
    "    #regularizer = 1e-8\n",
    "    regularizer = 1,\n",
    "    pred_method = \"svm\",\n",
    "    activation = \"relu\"\n",
    ")\n",
    "\n",
    "certificate_params = dict(\n",
    "    n_adversarial = 1, # number adversarial nodes\n",
    "    perturbation_model = \"linf\",\n",
    "    delta = 0.01 # l0: local budget = delta * feature_dim\n",
    ")\n",
    "\n",
    "verbosity_params = dict(\n",
    "    debug_lvl = \"warning\"\n",
    ")  \n",
    "\n",
    "other_params = dict(\n",
    "    device = \"cpu\",\n",
    "    dtype = torch.float64,\n",
    "    allow_tf32 = False\n",
    ")"
   ]
  },
  {
   "cell_type": "code",
   "execution_count": 17,
   "metadata": {},
   "outputs": [
    {
     "name": "stderr",
     "output_type": "stream",
     "text": [
      "2024-04-12 15:51:57 (INFO): Starting experiment exp_ntk_certify with configuration:\n",
      "2024-04-12 15:51:57 (INFO): data_params: {'dataset': 'csbm', 'learning_setting': 'transductive', 'specification': {'classes': 2, 'n_trn_labeled': 40, 'n_trn_unlabeled': 0, 'n_val': 40, 'n_test': 120, 'sigma': 1, 'avg_within_class_degree': 3.16, 'avg_between_class_degree': 0.74, 'K': 1.5, 'seed': 10}}\n",
      "2024-04-12 15:51:57 (INFO): model_params: {'label': 'GCN', 'model': 'GCN', 'normalization': 'row_normalization', 'depth': 1, 'regularizer': 0.1, 'pred_method': 'svm', 'activation': 'relu', 'cache_size': 10000, 'solver': 'qplayer', 'alpha_tol': 0.0001, 'bias': False}\n",
      "2024-04-12 15:51:57 (INFO): certification_params: {'n_adversarial': 10, 'perturbation_model': 'linf', 'delta': 0.1, 'method': 'XXT', 'cert_method': 'ntk_bound'}\n",
      "2024-04-12 15:51:57 (INFO): verbosity_params: {'debug_lvl': 'info'}\n",
      "2024-04-12 15:51:57 (INFO): other_params: {'device': 'cpu', 'dtype': torch.float64, 'allow_tf32': False, 'debug': False}\n",
      "2024-04-12 15:51:57 (INFO): seed: 0\n",
      "2024-04-12 15:51:57 (INFO): CSBM(p=0.03176, q=0.00744)\n",
      "2024-04-12 15:51:57 (INFO): Clean accuracy 0.9583333134651184\n"
     ]
    },
    {
     "name": "stdout",
     "output_type": "stream",
     "text": [
      "CSBM mu:\n",
      "[0.28347334 0.28347334 0.28347334 0.28347334 0.28347334 0.28347334\n",
      " 0.28347334]\n",
      "50 alphas found: ['-0.0000', '0.0000', '0.1000', '0.1000', '0.1000', '0.1000', '0.1000', '0.0505', '0.1000', '-0.0000', '0.1000', '0.1000', '0.1000', '0.1000', '0.1000', '0.0000', '0.0000', '0.0000', '0.0000', '0.1000', '0.1000', '-0.0000', '0.1000', '-0.0000', '-0.0000', '-0.0000', '0.1000', '-0.0000', '0.0000', '0.1000', '0.0943', '-0.0000', '0.1000', '0.1000', '0.0331', '0.1000', '0.1000', '0.1000', '0.1000', '-0.0000', '0.1000', '-0.0000', '0.1000', '0.0000', '0.0460', '0.1000', '0.0649', '0.0000', '0.1000', '-0.0000', '0.1000', '0.1000', '0.1000', '0.0000', '0.1000', '0.1000', '-0.0000', '0.0000', '0.1000', '0.0000', '-0.0000', '0.1000', '-0.0000', '0.1000', '0.1000', '-0.0000', '-0.0000', '0.1000', '0.1000', '0.0000', '0.1000', '0.1000', '0.1000', '-0.0000', '0.1000', '0.1000', '-0.0000', '0.1000', '0.1000', '0.1000']\n"
     ]
    },
    {
     "data": {
      "text/plain": [
       "{'accuracy': 0.9583333134651184,\n",
       " 'accuracy_ub': 0.8333333134651184,\n",
       " 'accuracy_lb': 0.8666666746139526,\n",
       " 'accuracy_cert_trivial': 0.4583333333333333,\n",
       " 'accuracy_cert': 0.7166666388511658,\n",
       " 'accuracy_cert_unrobust': 0.0,\n",
       " 'min_ypred': -2.758763049992541,\n",
       " 'max_ypred': 2.3934052518099773,\n",
       " 'min_ylb': -4.55947926001372,\n",
       " 'max_ylb': 2.2478335730307677,\n",
       " 'min_yub': -1.4691490426934304,\n",
       " 'max_yub': 3.0472544185761463,\n",
       " 'avg_ntklb': 0.6691845504466394,\n",
       " 'min_ntklb': -1.130448341357895,\n",
       " 'max_ntklb': 16.423845494348328,\n",
       " 'avg_ntkub': 0.9054079136201361,\n",
       " 'min_ntkub': -0.5915455839397283,\n",
       " 'max_ntkub': 21.86134454681971,\n",
       " 'min_ntklabeled': -0.8603377072824947,\n",
       " 'max_ntklabeled': 18.529884713611803,\n",
       " 'avg_ntkunlabeled': 0.7765858675127242,\n",
       " 'min_ntkunlabeled': -0.6694073080411328,\n",
       " 'max_ntkunlabeled': 14.477873189149578,\n",
       " 'cond': 781.8929746862407}"
      ]
     },
     "execution_count": 17,
     "metadata": {},
     "output_type": "execute_result"
    }
   ],
   "source": [
    "model_params[\"cache_size\"] = 10000\n",
    "data_params[\"specification\"][\"avg_within_class_degree\"] = 1.58 * 2\n",
    "data_params[\"specification\"][\"avg_between_class_degree\"] = 0.37 * 2\n",
    "other_params[\"device\"] = \"cpu\"\n",
    "other_params[\"debug\"] = False\n",
    "certificate_params[\"n_adversarial\"] = 10\n",
    "certificate_params[\"delta\"] = 0.1\n",
    "certificate_params[\"method\"] = \"XXT\"\n",
    "certificate_params[\"perturbation_model\"] = \"linf\"\n",
    "certificate_params[\"cert_method\"] = \"ntk_bound\"\n",
    "verbosity_params[\"debug_lvl\"] = \"info\"\n",
    "model_params[\"regularizer\"] = 0.1\n",
    "model_params[\"solver\"] = \"qplayer\"\n",
    "model_params[\"alpha_tol\"] = 1e-4\n",
    "model_params[\"bias\"] = False\n",
    "data_params[\"learning_setting\"] = \"transductive\"\n",
    "run(data_params, model_params, certificate_params, verbosity_params, other_params, seed)"
   ]
  },
  {
   "cell_type": "code",
   "execution_count": 32,
   "metadata": {},
   "outputs": [
    {
     "name": "stderr",
     "output_type": "stream",
     "text": [
      "2024-04-11 16:19:24 (INFO): Starting experiment exp_ntk_certify with configuration:\n",
      "2024-04-11 16:19:24 (INFO): data_params: {'dataset': 'csbm', 'learning_setting': 'transductive', 'specification': {'classes': 2, 'n_trn_labeled': 40, 'n_trn_unlabeled': 0, 'n_val': 40, 'n_test': 120, 'sigma': 1, 'avg_within_class_degree': 3.16, 'avg_between_class_degree': 0.74, 'K': 1.5, 'seed': 10}}\n",
      "2024-04-11 16:19:24 (INFO): model_params: {'label': 'GCN', 'model': 'GCN', 'normalization': 'row_normalization', 'depth': 1, 'regularizer': 0.01, 'pred_method': 'svm', 'activation': 'relu', 'cache_size': 10000, 'solver': 'qplayer', 'alpha_tol': 1e-08, 'bias': False}\n",
      "2024-04-11 16:19:24 (INFO): certification_params: {'n_adversarial': 50, 'perturbation_model': 'linf', 'delta': 0.01, 'method': 'XXT', 'cert_method': 'ntk_bound'}\n",
      "2024-04-11 16:19:24 (INFO): verbosity_params: {'debug_lvl': 'info'}\n",
      "2024-04-11 16:19:24 (INFO): other_params: {'device': 'cpu', 'dtype': torch.float64, 'allow_tf32': False, 'debug': False}\n",
      "2024-04-11 16:19:24 (INFO): seed: 0\n",
      "2024-04-11 16:19:24 (INFO): CSBM(p=0.03176, q=0.00744)\n",
      "2024-04-11 16:19:25 (INFO): Accuracy 0.9583333134651184\n"
     ]
    },
    {
     "name": "stdout",
     "output_type": "stream",
     "text": [
      "CSBM mu:\n",
      "[0.28347334 0.28347334 0.28347334 0.28347334 0.28347334 0.28347334\n",
      " 0.28347334]\n",
      "79 alphas found: ['0.0100', '0.0100', '0.0100', '0.0100', '0.0100', '0.0100', '0.0100', '0.0100', '0.0100', '0.0100', '0.0100', '0.0100', '0.0100', '0.0100', '0.0100', '0.0100', '0.0100', '0.0100', '0.0100', '0.0100', '0.0100', '0.0100', '0.0100', '0.0100', '0.0100', '0.0100', '0.0100', '0.0100', '0.0100', '0.0100', '0.0100', '0.0100', '0.0100', '0.0100', '0.0100', '0.0100', '0.0100', '0.0100', '0.0100', '0.0100', '0.0100', '0.0100', '0.0100', '0.0100', '0.0100', '0.0100', '0.0100', '-0.0000', '0.0100', '0.0100', '0.0100', '0.0100', '0.0100', '0.0100', '0.0100', '0.0100', '0.0100', '0.0100', '0.0100', '0.0100', '0.0100', '0.0100', '0.0100', '0.0100', '0.0100', '0.0100', '0.0100', '0.0100', '0.0100', '0.0100', '0.0100', '0.0100', '0.0100', '0.0100', '0.0100', '0.0100', '0.0100', '0.0100', '0.0100', '0.0100']\n"
     ]
    },
    {
     "data": {
      "text/plain": [
       "{'accuracy': 0.9583333134651184,\n",
       " 'accuracy_ub': 0.949999988079071,\n",
       " 'accuracy_lb': 0.875,\n",
       " 'accuracy_cert_trivial': 0.03333333333333333,\n",
       " 'accuracy_cert': 0.8916666507720947,\n",
       " 'accuracy_cert_unrobust': 0.0,\n",
       " 'min_ypred': -0.8740060084083646,\n",
       " 'max_ypred': 0.5618288466640802,\n",
       " 'min_ylb': -0.9161557551719688,\n",
       " 'max_ylb': 0.5366682086876243,\n",
       " 'min_yub': -0.8320294475047423,\n",
       " 'max_yub': 0.5874174960891775,\n",
       " 'avg_ntklb': 0.7147890995803884,\n",
       " 'min_ntklb': -0.8603377072824947,\n",
       " 'max_ntklb': 18.429884713611802,\n",
       " 'avg_ntkub': 0.8326720075041864,\n",
       " 'min_ntkub': -0.8603377072824947,\n",
       " 'max_ntkub': 18.429884713611802,\n",
       " 'min_ntklabeled': -0.8603377072824947,\n",
       " 'max_ntklabeled': 18.439884713611804,\n",
       " 'avg_ntkunlabeled': 0.7765858675127242,\n",
       " 'min_ntkunlabeled': -0.6694073080411328,\n",
       " 'max_ntkunlabeled': 14.477873189149578,\n",
       " 'cond': 5678.371688934053}"
      ]
     },
     "execution_count": 32,
     "metadata": {},
     "output_type": "execute_result"
    }
   ],
   "source": [
    "model_params[\"cache_size\"] = 10000\n",
    "data_params[\"specification\"][\"avg_within_class_degree\"] = 1.58 * 2\n",
    "data_params[\"specification\"][\"avg_between_class_degree\"] = 0.37 * 2\n",
    "other_params[\"device\"] = \"cpu\"\n",
    "other_params[\"debug\"] = False\n",
    "certificate_params[\"n_adversarial\"] = 50\n",
    "certificate_params[\"delta\"] = 0.01\n",
    "certificate_params[\"method\"] = \"XXT\"\n",
    "certificate_params[\"perturbation_model\"] = \"linf\"\n",
    "certificate_params[\"cert_method\"] = \"ntk_bound\"\n",
    "verbosity_params[\"debug_lvl\"] = \"info\"\n",
    "model_params[\"regularizer\"] = 0.01\n",
    "model_params[\"solver\"] = \"qplayer\"\n",
    "model_params[\"alpha_tol\"] = 1e-8\n",
    "model_params[\"bias\"] = False\n",
    "data_params[\"learning_setting\"] = \"transductive\"\n",
    "run(data_params, model_params, certificate_params, verbosity_params, other_params, seed)"
   ]
  },
  {
   "cell_type": "code",
   "execution_count": 31,
   "metadata": {},
   "outputs": [
    {
     "name": "stderr",
     "output_type": "stream",
     "text": [
      "2024-04-11 16:19:07 (INFO): Starting experiment exp_ntk_certify with configuration:\n",
      "2024-04-11 16:19:07 (INFO): data_params: {'dataset': 'csbm', 'learning_setting': 'transductive', 'specification': {'classes': 2, 'n_trn_labeled': 40, 'n_trn_unlabeled': 0, 'n_val': 40, 'n_test': 120, 'sigma': 1, 'avg_within_class_degree': 3.16, 'avg_between_class_degree': 0.74, 'K': 1.5, 'seed': 10}}\n",
      "2024-04-11 16:19:07 (INFO): model_params: {'label': 'GCN', 'model': 'GCN', 'normalization': 'row_normalization', 'depth': 1, 'regularizer': 0.01, 'pred_method': 'svm', 'activation': 'relu', 'cache_size': 10000, 'solver': 'qplayer', 'alpha_tol': 1e-08, 'bias': False}\n",
      "2024-04-11 16:19:07 (INFO): certification_params: {'n_adversarial': 50, 'perturbation_model': 'linf', 'delta': 0.01, 'method': 'XXT', 'cert_method': 'ntk_bound'}\n",
      "2024-04-11 16:19:07 (INFO): verbosity_params: {'debug_lvl': 'info'}\n",
      "2024-04-11 16:19:07 (INFO): other_params: {'device': 'cpu', 'dtype': torch.float64, 'allow_tf32': False, 'debug': False}\n",
      "2024-04-11 16:19:07 (INFO): seed: 0\n",
      "2024-04-11 16:19:07 (INFO): CSBM(p=0.03176, q=0.00744)\n",
      "2024-04-11 16:19:07 (INFO): Accuracy 0.9583333134651184\n"
     ]
    },
    {
     "name": "stdout",
     "output_type": "stream",
     "text": [
      "CSBM mu:\n",
      "[0.28347334 0.28347334 0.28347334 0.28347334 0.28347334 0.28347334\n",
      " 0.28347334]\n",
      "79 alphas found: ['0.0100', '0.0100', '0.0100', '0.0100', '0.0100', '0.0100', '0.0100', '0.0100', '0.0100', '0.0100', '0.0100', '0.0100', '0.0100', '0.0100', '0.0100', '0.0100', '0.0100', '0.0100', '0.0100', '0.0100', '0.0100', '0.0100', '0.0100', '0.0100', '0.0100', '0.0100', '0.0100', '0.0100', '0.0100', '0.0100', '0.0100', '0.0100', '0.0100', '0.0100', '0.0100', '0.0100', '0.0100', '0.0100', '0.0100', '0.0100', '0.0100', '0.0100', '0.0100', '0.0100', '0.0100', '0.0100', '0.0100', '-0.0000', '0.0100', '0.0100', '0.0100', '0.0100', '0.0100', '0.0100', '0.0100', '0.0100', '0.0100', '0.0100', '0.0100', '0.0100', '0.0100', '0.0100', '0.0100', '0.0100', '0.0100', '0.0100', '0.0100', '0.0100', '0.0100', '0.0100', '0.0100', '0.0100', '0.0100', '0.0100', '0.0100', '0.0100', '0.0100', '0.0100', '0.0100', '0.0100']\n"
     ]
    },
    {
     "data": {
      "text/plain": [
       "{'accuracy': 0.9583333134651184,\n",
       " 'accuracy_ub': 0.949999988079071,\n",
       " 'accuracy_lb': 0.875,\n",
       " 'accuracy_cert_trivial': 0.03333333333333333,\n",
       " 'accuracy_cert': 0.8916666507720947,\n",
       " 'accuracy_cert_unrobust': 0.0,\n",
       " 'min_ypred': -0.8740060084083646,\n",
       " 'max_ypred': 0.5618288466640802,\n",
       " 'min_ylb': -0.9161557551719686,\n",
       " 'max_ylb': 0.5366682086876243,\n",
       " 'min_yub': -0.8320294475047423,\n",
       " 'max_yub': 0.5874174960891775,\n",
       " 'avg_ntklb': 0.7147890995803884,\n",
       " 'min_ntklb': -0.8603377072824947,\n",
       " 'max_ntklb': 18.429884713611802,\n",
       " 'avg_ntkub': 0.8326720075041864,\n",
       " 'min_ntkub': -0.8603377072824947,\n",
       " 'max_ntkub': 18.429884713611802,\n",
       " 'min_ntklabeled': -0.8603377072824947,\n",
       " 'max_ntklabeled': 18.439884713611804,\n",
       " 'avg_ntkunlabeled': 0.7765858675127242,\n",
       " 'min_ntkunlabeled': -0.6694073080411328,\n",
       " 'max_ntkunlabeled': 14.477873189149578,\n",
       " 'cond': 5678.371688934855}"
      ]
     },
     "execution_count": 31,
     "metadata": {},
     "output_type": "execute_result"
    }
   ],
   "source": [
    "model_params[\"cache_size\"] = 10000\n",
    "data_params[\"specification\"][\"avg_within_class_degree\"] = 1.58 * 2\n",
    "data_params[\"specification\"][\"avg_between_class_degree\"] = 0.37 * 2\n",
    "other_params[\"device\"] = \"cpu\"\n",
    "other_params[\"debug\"] = False\n",
    "certificate_params[\"n_adversarial\"] = 50\n",
    "certificate_params[\"delta\"] = 0.01\n",
    "certificate_params[\"method\"] = \"XXT\"\n",
    "certificate_params[\"perturbation_model\"] = \"linf\"\n",
    "certificate_params[\"cert_method\"] = \"ntk_bound\"\n",
    "verbosity_params[\"debug_lvl\"] = \"info\"\n",
    "model_params[\"regularizer\"] = 0.01\n",
    "model_params[\"solver\"] = \"qplayer\"\n",
    "model_params[\"alpha_tol\"] = 1e-8\n",
    "model_params[\"bias\"] = False\n",
    "data_params[\"learning_setting\"] = \"transductive\"\n",
    "run(data_params, model_params, certificate_params, verbosity_params, other_params, seed)"
   ]
  },
  {
   "cell_type": "code",
   "execution_count": null,
   "metadata": {},
   "outputs": [],
   "source": []
  },
  {
   "cell_type": "code",
   "execution_count": null,
   "metadata": {},
   "outputs": [],
   "source": []
  }
 ],
 "metadata": {
  "kernelspec": {
   "display_name": "py311_ntk",
   "language": "python",
   "name": "python3"
  },
  "language_info": {
   "codemirror_mode": {
    "name": "ipython",
    "version": 3
   },
   "file_extension": ".py",
   "mimetype": "text/x-python",
   "name": "python",
   "nbconvert_exporter": "python",
   "pygments_lexer": "ipython3",
   "version": "3.11.5"
  }
 },
 "nbformat": 4,
 "nbformat_minor": 2
}
