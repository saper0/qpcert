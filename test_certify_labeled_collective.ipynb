{
 "cells": [
  {
   "cell_type": "code",
   "execution_count": 1,
   "metadata": {},
   "outputs": [],
   "source": [
    "%load_ext autoreload\n",
    "%autoreload 2"
   ]
  },
  {
   "cell_type": "code",
   "execution_count": 2,
   "metadata": {},
   "outputs": [],
   "source": [
    "import torch\n",
    "import numpy as np\n",
    "from exp_ntk_certify_collective_label import run"
   ]
  },
  {
   "cell_type": "code",
   "execution_count": 3,
   "metadata": {},
   "outputs": [],
   "source": [
    "seed = 4\n",
    "\n",
    "data_params = dict(\n",
    "    dataset = \"cba\",\n",
    "    learning_setting = \"transductive\", # or \"transdructive\"\n",
    "    specification = dict(\n",
    "        classes = 2,\n",
    "        n_trn_labeled = 20, \n",
    "        n_trn_unlabeled = 0,\n",
    "        n_val = 20,\n",
    "        n_test = 50,\n",
    "        m = 2,\n",
    "        sigma = 1,\n",
    "        avg_within_class_degree = 1.58 * 2,\n",
    "        avg_between_class_degree = 0.37 * 2,\n",
    "        K = 1.5,\n",
    "        seed = 4 # used to generate the dataset & data split\n",
    "    )\n",
    ")\n",
    "\n",
    "model_params = dict(\n",
    "    label = \"APPNP\",\n",
    "    model = \"APPNP\",\n",
    "    normalization = \"sym_normalization\",\n",
    "    alpha = 0.1,\n",
    "    iteration = 10,\n",
    "    depth = 1,\n",
    "    #regularizer = 1e-8\n",
    "    regularizer = 20,\n",
    "    pred_method = \"svm\",\n",
    "    activation = \"relu\"\n",
    ")\n",
    "\n",
    "certificate_params = dict(\n",
    "    n_adversarial = 1, # number adversarial nodes\n",
    "    perturbation_model = \"linf\",\n",
    "    delta = 0.01 # l0: local budget = delta * feature_dim\n",
    ")\n",
    "\n",
    "verbosity_params = dict(\n",
    "    debug_lvl = \"warning\"\n",
    ")  \n",
    "\n",
    "other_params = dict(\n",
    "    device = \"cpu\",\n",
    "    dtype = torch.float64,\n",
    "    allow_tf32 = False\n",
    ")"
   ]
  },
  {
   "cell_type": "code",
   "execution_count": 28,
   "metadata": {},
   "outputs": [],
   "source": [
    "model_params = dict(\n",
    "    label = \"GCN\",\n",
    "    model = \"GCN\",\n",
    "    normalization = \"row_normalization\",\n",
    "    depth = 1,\n",
    "    #regularizer = 1e-8\n",
    "    regularizer = 0.1,\n",
    "    pred_method = \"svm\",\n",
    "    activation = \"linear\",\n",
    "    solver = \"qplayer\",\n",
    "    alpha_tol = 1e-4,\n",
    "    bias = False,\n",
    ")"
   ]
  },
  {
   "cell_type": "code",
   "execution_count": 15,
   "metadata": {},
   "outputs": [],
   "source": [
    "data_params = dict(\n",
    "    dataset = \"cora_ml_binary\",    \n",
    "    learning_setting = \"transductive\", # or \"transdructive\"\n",
    "    specification = dict(\n",
    "        n_per_class = 5,\n",
    "        fraction_test = 0.1,\n",
    "        data_dir = \"./data\",\n",
    "        make_undirected = True,\n",
    "        binary_attr = False,\n",
    "        balance_test = True,\n",
    "    )\n",
    ")"
   ]
  },
  {
   "cell_type": "code",
   "execution_count": 6,
   "metadata": {},
   "outputs": [],
   "source": [
    "data_params = dict(\n",
    "    dataset = \"polblogs\",    \n",
    "    learning_setting = \"transductive\", # or \"transdructive\"\n",
    "    specification = dict(\n",
    "        n_per_class = 5,\n",
    "        fraction_test = 0.1,\n",
    "        data_dir = \"./data\",\n",
    "        make_undirected = True,\n",
    "        binary_attr = False,\n",
    "        balance_test = True,\n",
    "    )\n",
    ")"
   ]
  },
  {
   "cell_type": "code",
   "execution_count": 4,
   "metadata": {},
   "outputs": [],
   "source": [
    "seed = 1\n",
    "data_params = dict(\n",
    "    dataset = \"citeseer_binary\",    \n",
    "    learning_setting = \"transductive\", # or \"transdructive\"\n",
    "    specification = dict(\n",
    "        n_per_class = 5,\n",
    "        fraction_test = 0.1,\n",
    "        data_dir = \"./data\",\n",
    "        make_undirected = True,\n",
    "        binary_attr = False,\n",
    "        balance_test = True,\n",
    "        seed = 1\n",
    "    )\n",
    ")\n",
    "model_params = dict(\n",
    "    label = \"GCN\",\n",
    "    model = \"GCN\",\n",
    "    normalization = \"row_normalization\",\n",
    "    depth = 2,\n",
    "    #regularizer = 1e-8\n",
    "    regularizer = 2.5,\n",
    "    pred_method = \"svm\",\n",
    "    activation = \"linear\",\n",
    "    solver = \"qplayer\",\n",
    "    alpha_tol = 1e-4,\n",
    "    bias = False,\n",
    ")"
   ]
  },
  {
   "cell_type": "code",
   "execution_count": 33,
   "metadata": {},
   "outputs": [],
   "source": [
    "other_params[\"device\"] = \"cpu\"\n",
    "other_params[\"debug\"] = False\n",
    "certificate_params[\"delta\"] = 0.1\n",
    "certificate_params[\"method\"] = \"XXT\"\n",
    "certificate_params[\"perturbation_model\"] = \"linf\"\n",
    "certificate_params[\"attack_nodes\"] = \"test\"\n",
    "other_params[\"path_gurobi_license\"] = \"/ceph/ssd/staff/gosl/app/gurobi.lic\"\n",
    "verbosity_params[\"debug_lvl\"] = \"info\"\n",
    "#model_params[\"regularizer\"] = 0.1\n",
    "model_params[\"solver\"] = \"qplayer\"\n",
    "model_params[\"alpha_tol\"] = 1e-4\n",
    "model_params[\"bias\"] = False\n",
    "data_params[\"learning_setting\"] = \"transductive\""
   ]
  },
  {
   "cell_type": "code",
   "execution_count": 8,
   "metadata": {},
   "outputs": [
    {
     "name": "stderr",
     "output_type": "stream",
     "text": [
      "2024-09-20 13:47:38 (INFO): Starting experiment exp_ntk_certify_collective_label with configuration:\n",
      "2024-09-20 13:47:38 (INFO): data_params: {'dataset': 'citeseer_binary', 'learning_setting': 'transductive', 'specification': {'n_per_class': 5, 'fraction_test': 0.1, 'data_dir': './data', 'make_undirected': True, 'binary_attr': False, 'balance_test': True, 'seed': 1}}\n",
      "2024-09-20 13:47:38 (INFO): model_params: {'label': 'GCN', 'model': 'GCN', 'normalization': 'row_normalization', 'depth': 2, 'regularizer': 2.5, 'pred_method': 'svm', 'activation': 'linear', 'solver': 'qplayer', 'alpha_tol': 0.0001, 'bias': False}\n",
      "2024-09-20 13:47:38 (INFO): certification_params: {'n_adversarial': 1, 'perturbation_model': 'linf', 'delta': 0.05, 'LogToConsole': 1, 'OutputFlag': 1, 'IntegralityFocus': 0, 'use_tight_big_M': 1, 'Presolve': 2, 'n_test': 50, 'TimeLimit': 10, 'MILP_OPTIMALITY_TOL': 1e-06, 'MILP_INT_FEAS_TOL': 1e-05, 'MILP_FEAS_TOL': 1e-06}\n",
      "2024-09-20 13:47:38 (INFO): verbosity_params: {'debug_lvl': 'info'}\n",
      "2024-09-20 13:47:38 (INFO): other_params: {'device': 'cpu', 'dtype': torch.float64, 'allow_tf32': False, 'path_gurobi_license': '/ceph/ssd/staff/gosl/app/gurobi.lic'}\n",
      "2024-09-20 13:47:38 (INFO): seed: 1\n"
     ]
    },
    {
     "name": "stdout",
     "output_type": "stream",
     "text": [
      "1e-06\n"
     ]
    },
    {
     "name": "stderr",
     "output_type": "stream",
     "text": [
      "2024-09-20 13:47:38 (INFO): Sampled 1849 edges.\n",
      "2024-09-20 13:47:38 (INFO): number of samples\n",
      " - labeled: 10 \n",
      " - val: 10 \n",
      " - test: 125 \n",
      " - unlabeled: 1094\n",
      "2024-09-20 13:47:39 (INFO): Delta: 0.05\n",
      "2024-09-20 13:47:39 (INFO): Test accuracy: 0.800000011920929\n",
      "2024-09-20 13:47:39 (INFO): Train accuracy: 1.0\n",
      "2024-09-20 13:47:39 (INFO): Using tight big-Ms.\n"
     ]
    },
    {
     "name": "stdout",
     "output_type": "stream",
     "text": [
      "20 alphas found: ['0.0056', '0.0455', '0.0537', '0.0013', '0.0159', '0.0392', '0.0350', '0.0384', '0.0558', '0.0087', '0.0135', '0.0841', '0.0084', '0.0477', '0.0167', '0.0168', '0.0237', '0.0261', '0.0084', '0.0421']\n",
      "Set parameter DualReductions to value 0\n"
     ]
    },
    {
     "name": "stderr",
     "output_type": "stream",
     "text": [
      "2024-09-20 13:47:39 (INFO): Set parameter DualReductions to value 0\n"
     ]
    },
    {
     "name": "stdout",
     "output_type": "stream",
     "text": [
      "Set parameter Presolve to value 2\n"
     ]
    },
    {
     "name": "stderr",
     "output_type": "stream",
     "text": [
      "2024-09-20 13:47:39 (INFO): Set parameter Presolve to value 2\n"
     ]
    },
    {
     "name": "stdout",
     "output_type": "stream",
     "text": [
      "Set parameter FeasibilityTol to value 0.0001\n"
     ]
    },
    {
     "name": "stderr",
     "output_type": "stream",
     "text": [
      "2024-09-20 13:47:39 (INFO): Set parameter FeasibilityTol to value 0.0001\n"
     ]
    },
    {
     "name": "stdout",
     "output_type": "stream",
     "text": [
      "Set parameter TimeLimit to value 10\n"
     ]
    },
    {
     "name": "stderr",
     "output_type": "stream",
     "text": [
      "2024-09-20 13:47:39 (INFO): Set parameter TimeLimit to value 10\n"
     ]
    },
    {
     "name": "stdout",
     "output_type": "stream",
     "text": [
      "Set parameter MIPGapAbs to value 0.99\n"
     ]
    },
    {
     "name": "stderr",
     "output_type": "stream",
     "text": [
      "2024-09-20 13:47:39 (INFO): Set parameter MIPGapAbs to value 0.99\n"
     ]
    },
    {
     "name": "stdout",
     "output_type": "stream",
     "text": [
      "Gurobi Optimizer version 11.0.1 build v11.0.1rc0 (linux64 - \"Ubuntu 22.04.4 LTS\")\n"
     ]
    },
    {
     "name": "stderr",
     "output_type": "stream",
     "text": [
      "2024-09-20 13:47:39 (INFO): Gurobi Optimizer version 11.0.1 build v11.0.1rc0 (linux64 - \"Ubuntu 22.04.4 LTS\")\n"
     ]
    },
    {
     "name": "stdout",
     "output_type": "stream",
     "text": [
      "\n"
     ]
    },
    {
     "name": "stderr",
     "output_type": "stream",
     "text": [
      "2024-09-20 13:47:39 (INFO): \n"
     ]
    },
    {
     "name": "stdout",
     "output_type": "stream",
     "text": [
      "CPU model: Intel(R) Xeon(R) CPU E5-2630 v4 @ 2.20GHz, instruction set [SSE2|AVX|AVX2]\n"
     ]
    },
    {
     "name": "stderr",
     "output_type": "stream",
     "text": [
      "2024-09-20 13:47:39 (INFO): CPU model: Intel(R) Xeon(R) CPU E5-2630 v4 @ 2.20GHz, instruction set [SSE2|AVX|AVX2]\n"
     ]
    },
    {
     "name": "stdout",
     "output_type": "stream",
     "text": [
      "Thread count: 20 physical cores, 20 logical processors, using up to 20 threads\n"
     ]
    },
    {
     "name": "stderr",
     "output_type": "stream",
     "text": [
      "2024-09-20 13:47:39 (INFO): Thread count: 20 physical cores, 20 logical processors, using up to 20 threads\n"
     ]
    },
    {
     "name": "stdout",
     "output_type": "stream",
     "text": [
      "\n"
     ]
    },
    {
     "name": "stderr",
     "output_type": "stream",
     "text": [
      "2024-09-20 13:47:39 (INFO): \n"
     ]
    },
    {
     "name": "stdout",
     "output_type": "stream",
     "text": [
      "Optimize a model with 1901 rows, 610 columns and 7760 nonzeros\n"
     ]
    },
    {
     "name": "stderr",
     "output_type": "stream",
     "text": [
      "2024-09-20 13:47:39 (INFO): Optimize a model with 1901 rows, 610 columns and 7760 nonzeros\n"
     ]
    },
    {
     "name": "stdout",
     "output_type": "stream",
     "text": [
      "Model fingerprint: 0x52567dae\n"
     ]
    },
    {
     "name": "stderr",
     "output_type": "stream",
     "text": [
      "2024-09-20 13:47:39 (INFO): Model fingerprint: 0x52567dae\n"
     ]
    },
    {
     "name": "stdout",
     "output_type": "stream",
     "text": [
      "Variable types: 480 continuous, 130 integer (110 binary)\n"
     ]
    },
    {
     "name": "stderr",
     "output_type": "stream",
     "text": [
      "2024-09-20 13:47:39 (INFO): Variable types: 480 continuous, 130 integer (110 binary)\n"
     ]
    },
    {
     "name": "stdout",
     "output_type": "stream",
     "text": [
      "Coefficient statistics:\n"
     ]
    },
    {
     "name": "stderr",
     "output_type": "stream",
     "text": [
      "2024-09-20 13:47:39 (INFO): Coefficient statistics:\n"
     ]
    },
    {
     "name": "stdout",
     "output_type": "stream",
     "text": [
      "  Matrix range     [8e-01, 4e+02]\n"
     ]
    },
    {
     "name": "stderr",
     "output_type": "stream",
     "text": [
      "2024-09-20 13:47:39 (INFO):   Matrix range     [8e-01, 4e+02]\n"
     ]
    },
    {
     "name": "stdout",
     "output_type": "stream",
     "text": [
      "  Objective range  [1e+00, 1e+00]\n"
     ]
    },
    {
     "name": "stderr",
     "output_type": "stream",
     "text": [
      "2024-09-20 13:47:39 (INFO):   Objective range  [1e+00, 1e+00]\n"
     ]
    },
    {
     "name": "stdout",
     "output_type": "stream",
     "text": [
      "  Bounds range     [1e+00, 2e+00]\n"
     ]
    },
    {
     "name": "stderr",
     "output_type": "stream",
     "text": [
      "2024-09-20 13:47:39 (INFO):   Bounds range     [1e+00, 2e+00]\n"
     ]
    },
    {
     "name": "stdout",
     "output_type": "stream",
     "text": [
      "  RHS range        [1e+00, 4e+02]\n"
     ]
    },
    {
     "name": "stderr",
     "output_type": "stream",
     "text": [
      "2024-09-20 13:47:39 (INFO):   RHS range        [1e+00, 4e+02]\n"
     ]
    },
    {
     "name": "stdout",
     "output_type": "stream",
     "text": [
      "\n"
     ]
    },
    {
     "name": "stderr",
     "output_type": "stream",
     "text": [
      "2024-09-20 13:47:39 (INFO): \n"
     ]
    },
    {
     "name": "stdout",
     "output_type": "stream",
     "text": [
      "Loaded user MIP start with objective -0\n",
      "\n",
      "Loaded user MIP start with objective -0\n"
     ]
    },
    {
     "name": "stderr",
     "output_type": "stream",
     "text": [
      "2024-09-20 13:47:39 (INFO): Loaded user MIP start with objective -0\n"
     ]
    },
    {
     "name": "stdout",
     "output_type": "stream",
     "text": [
      "\n"
     ]
    },
    {
     "name": "stderr",
     "output_type": "stream",
     "text": [
      "2024-09-20 13:47:39 (INFO): \n"
     ]
    },
    {
     "name": "stdout",
     "output_type": "stream",
     "text": [
      "Presolve removed 20 rows and 20 columns\n"
     ]
    },
    {
     "name": "stderr",
     "output_type": "stream",
     "text": [
      "2024-09-20 13:47:39 (INFO): Presolve removed 20 rows and 20 columns\n"
     ]
    },
    {
     "name": "stdout",
     "output_type": "stream",
     "text": [
      "Presolve time: 0.04s\n"
     ]
    },
    {
     "name": "stderr",
     "output_type": "stream",
     "text": [
      "2024-09-20 13:47:39 (INFO): Presolve time: 0.04s\n"
     ]
    },
    {
     "name": "stdout",
     "output_type": "stream",
     "text": [
      "Presolved: 1881 rows, 590 columns, 14520 nonzeros\n"
     ]
    },
    {
     "name": "stderr",
     "output_type": "stream",
     "text": [
      "2024-09-20 13:47:39 (INFO): Presolved: 1881 rows, 590 columns, 14520 nonzeros\n"
     ]
    },
    {
     "name": "stdout",
     "output_type": "stream",
     "text": [
      "Variable types: 480 continuous, 110 integer (110 binary)\n"
     ]
    },
    {
     "name": "stderr",
     "output_type": "stream",
     "text": [
      "2024-09-20 13:47:39 (INFO): Variable types: 480 continuous, 110 integer (110 binary)\n"
     ]
    },
    {
     "name": "stdout",
     "output_type": "stream",
     "text": [
      "Root relaxation presolved: 1831 rows, 640 columns, 13520 nonzeros\n"
     ]
    },
    {
     "name": "stderr",
     "output_type": "stream",
     "text": [
      "2024-09-20 13:47:39 (INFO): Root relaxation presolved: 1831 rows, 640 columns, 13520 nonzeros\n"
     ]
    },
    {
     "name": "stdout",
     "output_type": "stream",
     "text": [
      "\n"
     ]
    },
    {
     "name": "stderr",
     "output_type": "stream",
     "text": [
      "2024-09-20 13:47:39 (INFO): \n"
     ]
    },
    {
     "name": "stdout",
     "output_type": "stream",
     "text": [
      "\n"
     ]
    },
    {
     "name": "stderr",
     "output_type": "stream",
     "text": [
      "2024-09-20 13:47:39 (INFO): \n"
     ]
    },
    {
     "name": "stdout",
     "output_type": "stream",
     "text": [
      "Root relaxation: objective 5.000000e+01, 747 iterations, 0.07 seconds (0.06 work units)\n"
     ]
    },
    {
     "name": "stderr",
     "output_type": "stream",
     "text": [
      "2024-09-20 13:47:39 (INFO): Root relaxation: objective 5.000000e+01, 747 iterations, 0.07 seconds (0.06 work units)\n"
     ]
    },
    {
     "name": "stdout",
     "output_type": "stream",
     "text": [
      "\n"
     ]
    },
    {
     "name": "stderr",
     "output_type": "stream",
     "text": [
      "2024-09-20 13:47:39 (INFO): \n"
     ]
    },
    {
     "name": "stdout",
     "output_type": "stream",
     "text": [
      "    Nodes    |    Current Node    |     Objective Bounds      |     Work\n"
     ]
    },
    {
     "name": "stderr",
     "output_type": "stream",
     "text": [
      "2024-09-20 13:47:39 (INFO):     Nodes    |    Current Node    |     Objective Bounds      |     Work\n"
     ]
    },
    {
     "name": "stdout",
     "output_type": "stream",
     "text": [
      " Expl Unexpl |  Obj  Depth IntInf | Incumbent    BestBd   Gap | It/Node Time\n"
     ]
    },
    {
     "name": "stderr",
     "output_type": "stream",
     "text": [
      "2024-09-20 13:47:39 (INFO):  Expl Unexpl |  Obj  Depth IntInf | Incumbent    BestBd   Gap | It/Node Time\n"
     ]
    },
    {
     "name": "stdout",
     "output_type": "stream",
     "text": [
      "\n"
     ]
    },
    {
     "name": "stderr",
     "output_type": "stream",
     "text": [
      "2024-09-20 13:47:39 (INFO): \n"
     ]
    },
    {
     "name": "stdout",
     "output_type": "stream",
     "text": [
      "     0     0   50.00000    0   27   -0.00000   50.00000      -     -    0s\n"
     ]
    },
    {
     "name": "stderr",
     "output_type": "stream",
     "text": [
      "2024-09-20 13:47:39 (INFO):      0     0   50.00000    0   27   -0.00000   50.00000      -     -    0s\n"
     ]
    },
    {
     "name": "stdout",
     "output_type": "stream",
     "text": [
      "     0     0   50.00000    0   28   -0.00000   50.00000      -     -    0s\n"
     ]
    },
    {
     "name": "stderr",
     "output_type": "stream",
     "text": [
      "2024-09-20 13:47:39 (INFO):      0     0   50.00000    0   28   -0.00000   50.00000      -     -    0s\n"
     ]
    },
    {
     "name": "stdout",
     "output_type": "stream",
     "text": [
      "     0     0   50.00000    0   25   -0.00000   50.00000      -     -    0s\n"
     ]
    },
    {
     "name": "stderr",
     "output_type": "stream",
     "text": [
      "2024-09-20 13:47:40 (INFO):      0     0   50.00000    0   25   -0.00000   50.00000      -     -    0s\n"
     ]
    },
    {
     "name": "stdout",
     "output_type": "stream",
     "text": [
      "     0     0   50.00000    0   21   -0.00000   50.00000      -     -    1s\n"
     ]
    },
    {
     "name": "stderr",
     "output_type": "stream",
     "text": [
      "2024-09-20 13:47:40 (INFO):      0     0   50.00000    0   21   -0.00000   50.00000      -     -    1s\n"
     ]
    },
    {
     "name": "stdout",
     "output_type": "stream",
     "text": [
      "     0     0   50.00000    0   21   -0.00000   50.00000      -     -    1s\n"
     ]
    },
    {
     "name": "stderr",
     "output_type": "stream",
     "text": [
      "2024-09-20 13:47:40 (INFO):      0     0   50.00000    0   21   -0.00000   50.00000      -     -    1s\n"
     ]
    },
    {
     "name": "stdout",
     "output_type": "stream",
     "text": [
      "     0     0   50.00000    0   19   -0.00000   50.00000      -     -    1s\n"
     ]
    },
    {
     "name": "stderr",
     "output_type": "stream",
     "text": [
      "2024-09-20 13:47:40 (INFO):      0     0   50.00000    0   19   -0.00000   50.00000      -     -    1s\n"
     ]
    },
    {
     "name": "stdout",
     "output_type": "stream",
     "text": [
      "     0     0   50.00000    0   21   -0.00000   50.00000      -     -    1s\n"
     ]
    },
    {
     "name": "stderr",
     "output_type": "stream",
     "text": [
      "2024-09-20 13:47:40 (INFO):      0     0   50.00000    0   21   -0.00000   50.00000      -     -    1s\n"
     ]
    },
    {
     "name": "stdout",
     "output_type": "stream",
     "text": [
      "     0     0   49.99432    0   21   -0.00000   49.99432      -     -    1s\n"
     ]
    },
    {
     "name": "stderr",
     "output_type": "stream",
     "text": [
      "2024-09-20 13:47:40 (INFO):      0     0   49.99432    0   21   -0.00000   49.99432      -     -    1s\n"
     ]
    },
    {
     "name": "stdout",
     "output_type": "stream",
     "text": [
      "     0     0   49.98780    0   20   -0.00000   49.98780      -     -    1s\n"
     ]
    },
    {
     "name": "stderr",
     "output_type": "stream",
     "text": [
      "2024-09-20 13:47:40 (INFO):      0     0   49.98780    0   20   -0.00000   49.98780      -     -    1s\n"
     ]
    },
    {
     "name": "stdout",
     "output_type": "stream",
     "text": [
      "     0     0   49.86722    0   20   -0.00000   49.86722      -     -    1s\n"
     ]
    },
    {
     "name": "stderr",
     "output_type": "stream",
     "text": [
      "2024-09-20 13:47:41 (INFO):      0     0   49.86722    0   20   -0.00000   49.86722      -     -    1s\n"
     ]
    },
    {
     "name": "stdout",
     "output_type": "stream",
     "text": [
      "     0     0   48.99330    0   20   -0.00000   48.99330      -     -    2s\n"
     ]
    },
    {
     "name": "stderr",
     "output_type": "stream",
     "text": [
      "2024-09-20 13:47:41 (INFO):      0     0   48.99330    0   20   -0.00000   48.99330      -     -    2s\n"
     ]
    },
    {
     "name": "stdout",
     "output_type": "stream",
     "text": [
      "     0     2   48.99330    0   20   -0.00000   48.99330      -     -    3s\n"
     ]
    },
    {
     "name": "stderr",
     "output_type": "stream",
     "text": [
      "2024-09-20 13:47:42 (INFO):      0     2   48.99330    0   20   -0.00000   48.99330      -     -    3s\n"
     ]
    },
    {
     "name": "stdout",
     "output_type": "stream",
     "text": [
      "   617   426   48.99330   10   19   -0.00000   48.99330      -  78.4    5s\n"
     ]
    },
    {
     "name": "stderr",
     "output_type": "stream",
     "text": [
      "2024-09-20 13:47:44 (INFO):    617   426   48.99330   10   19   -0.00000   48.99330      -  78.4    5s\n"
     ]
    },
    {
     "name": "stdout",
     "output_type": "stream",
     "text": [
      "H  904   553                       3.0000000   48.99330  1533%  79.4    6s\n"
     ]
    },
    {
     "name": "stderr",
     "output_type": "stream",
     "text": [
      "2024-09-20 13:47:46 (INFO): H  904   553                       3.0000000   48.99330  1533%  79.4    6s\n"
     ]
    },
    {
     "name": "stdout",
     "output_type": "stream",
     "text": [
      "H  910   553                       5.0000000   48.99330   880%  80.3    6s\n"
     ]
    },
    {
     "name": "stderr",
     "output_type": "stream",
     "text": [
      "2024-09-20 13:47:46 (INFO): H  910   553                       5.0000000   48.99330   880%  80.3    6s\n"
     ]
    },
    {
     "name": "stdout",
     "output_type": "stream",
     "text": [
      "  2004  1181 infeasible   14         5.00000   48.99330   880%  98.8   10s\n"
     ]
    },
    {
     "name": "stderr",
     "output_type": "stream",
     "text": [
      "2024-09-20 13:47:49 (INFO):   2004  1181 infeasible   14         5.00000   48.99330   880%  98.8   10s\n"
     ]
    },
    {
     "name": "stdout",
     "output_type": "stream",
     "text": [
      "\n"
     ]
    },
    {
     "name": "stderr",
     "output_type": "stream",
     "text": [
      "2024-09-20 13:47:49 (INFO): \n"
     ]
    },
    {
     "name": "stdout",
     "output_type": "stream",
     "text": [
      "Cutting planes:\n"
     ]
    },
    {
     "name": "stderr",
     "output_type": "stream",
     "text": [
      "2024-09-20 13:47:49 (INFO): Cutting planes:\n"
     ]
    },
    {
     "name": "stdout",
     "output_type": "stream",
     "text": [
      "  Cover: 2\n"
     ]
    },
    {
     "name": "stderr",
     "output_type": "stream",
     "text": [
      "2024-09-20 13:47:49 (INFO):   Cover: 2\n"
     ]
    },
    {
     "name": "stdout",
     "output_type": "stream",
     "text": [
      "  Implied bound: 153\n"
     ]
    },
    {
     "name": "stderr",
     "output_type": "stream",
     "text": [
      "2024-09-20 13:47:49 (INFO):   Implied bound: 153\n"
     ]
    },
    {
     "name": "stdout",
     "output_type": "stream",
     "text": [
      "  MIR: 152\n"
     ]
    },
    {
     "name": "stderr",
     "output_type": "stream",
     "text": [
      "2024-09-20 13:47:49 (INFO):   MIR: 152\n"
     ]
    },
    {
     "name": "stdout",
     "output_type": "stream",
     "text": [
      "  Inf proof: 11\n"
     ]
    },
    {
     "name": "stderr",
     "output_type": "stream",
     "text": [
      "2024-09-20 13:47:49 (INFO):   Inf proof: 11\n"
     ]
    },
    {
     "name": "stdout",
     "output_type": "stream",
     "text": [
      "  RLT: 34\n"
     ]
    },
    {
     "name": "stderr",
     "output_type": "stream",
     "text": [
      "2024-09-20 13:47:49 (INFO):   RLT: 34\n"
     ]
    },
    {
     "name": "stdout",
     "output_type": "stream",
     "text": [
      "  Relax-and-lift: 7\n"
     ]
    },
    {
     "name": "stderr",
     "output_type": "stream",
     "text": [
      "2024-09-20 13:47:49 (INFO):   Relax-and-lift: 7\n"
     ]
    },
    {
     "name": "stdout",
     "output_type": "stream",
     "text": [
      "\n"
     ]
    },
    {
     "name": "stderr",
     "output_type": "stream",
     "text": [
      "2024-09-20 13:47:49 (INFO): \n"
     ]
    },
    {
     "name": "stdout",
     "output_type": "stream",
     "text": [
      "Explored 2038 nodes (207016 simplex iterations) in 10.07 seconds (6.68 work units)\n"
     ]
    },
    {
     "name": "stderr",
     "output_type": "stream",
     "text": [
      "2024-09-20 13:47:49 (INFO): Explored 2038 nodes (207016 simplex iterations) in 10.07 seconds (6.68 work units)\n"
     ]
    },
    {
     "name": "stdout",
     "output_type": "stream",
     "text": [
      "Thread count was 20 (of 20 available processors)\n"
     ]
    },
    {
     "name": "stderr",
     "output_type": "stream",
     "text": [
      "2024-09-20 13:47:49 (INFO): Thread count was 20 (of 20 available processors)\n"
     ]
    },
    {
     "name": "stdout",
     "output_type": "stream",
     "text": [
      "\n"
     ]
    },
    {
     "name": "stderr",
     "output_type": "stream",
     "text": [
      "2024-09-20 13:47:49 (INFO): \n"
     ]
    },
    {
     "name": "stdout",
     "output_type": "stream",
     "text": [
      "Solution count 3: 5 3 -0 \n"
     ]
    },
    {
     "name": "stderr",
     "output_type": "stream",
     "text": [
      "2024-09-20 13:47:49 (INFO): Solution count 3: 5 3 -0 \n"
     ]
    },
    {
     "name": "stdout",
     "output_type": "stream",
     "text": [
      "\n"
     ]
    },
    {
     "name": "stderr",
     "output_type": "stream",
     "text": [
      "2024-09-20 13:47:49 (INFO): \n"
     ]
    },
    {
     "name": "stdout",
     "output_type": "stream",
     "text": [
      "Time limit reached\n"
     ]
    },
    {
     "name": "stderr",
     "output_type": "stream",
     "text": [
      "2024-09-20 13:47:49 (INFO): Time limit reached\n"
     ]
    },
    {
     "name": "stdout",
     "output_type": "stream",
     "text": [
      "Best objective 5.000000000000e+00, best bound 4.800000000000e+01, gap 860.0000%\n"
     ]
    },
    {
     "name": "stderr",
     "output_type": "stream",
     "text": [
      "2024-09-20 13:47:49 (INFO): Best objective 5.000000000000e+00, best bound 4.800000000000e+01, gap 860.0000%\n"
     ]
    },
    {
     "name": "stdout",
     "output_type": "stream",
     "text": [
      "\n"
     ]
    },
    {
     "name": "stderr",
     "output_type": "stream",
     "text": [
      "2024-09-20 13:47:49 (INFO): \n"
     ]
    },
    {
     "name": "stdout",
     "output_type": "stream",
     "text": [
      "User-callback calls 6366, time in user-callback 0.02 sec\n"
     ]
    },
    {
     "name": "stderr",
     "output_type": "stream",
     "text": [
      "2024-09-20 13:47:49 (INFO): User-callback calls 6366, time in user-callback 0.02 sec\n",
      "2024-09-20 13:47:49 (INFO): Optimization status: 9\n",
      "2024-09-20 13:47:49 (INFO): Objective: #sign flips 5.0 out of 50\n",
      "2024-09-20 13:47:49 (INFO): Percentage of nodes certified 0.9\n",
      "2024-09-20 13:47:49 (INFO): Certified accuracy (poisoning): 0.04\n"
     ]
    },
    {
     "name": "stdout",
     "output_type": "stream",
     "text": [
      "{'accuracy_test': 0.800000011920929, 'accuracy_trn': 1.0, 'accuracy_cert_pois_robust': 0.04, 'accuracy_cert_pois_unrobust': 0, 'delta_absolute': 0.05, 'y_true_cls': [-1, 1, 1, -1, 1, -1, 1, 1, -1, 1, 1, -1, -1, 1, 1, -1, 1, -1, -1, 1, 1, 1, 1, 1, 1, 1, -1, 1, -1, -1, 1, -1, 1, -1, 1, -1, 1, -1, -1, 1, -1, 1, -1, 1, 1, 1, 1, 1, 1, -1], 'y_pred_logit': [-0.7961650623507469, 0.21509649523537, 0.9174225181688873, -0.3392225936657977, -0.104983688528696, -0.8548259204903601, -0.6004818300005844, 0.4330099711821934, -0.04995253603148986, -0.12275748979917855, 0.16878942359210647, 0.03687363509348274, -0.9106702842776544, 0.386686486926592, 0.4980068086555788, -0.8533576822897778, -0.14221926282212038, -0.7497565828423249, -1.0789112355092274, -0.07860583937059085, 0.41079996136986596, 0.9610682027987282, 0.7388849264305843, 0.15484067315260774, 0.09691966114143957, 0.05539071828929154, -0.5607244144198336, 0.3871242976998016, -0.47812410597399413, -0.5118813648796833, -0.31753381498392996, -0.07937461533638368, 0.14321147540000134, -0.5147774386656639, -0.1418792344450135, -0.27638811550948983, 0.399367772309996, -0.045349945583070594, -0.03568828210454833, 0.3389096824844342, -0.6278232307347842, 0.9705424442120633, -0.1917480415175431, -0.13193347484587736, 0.6516697443989875, -0.629734620836691, 0.64523809629108, 0.9999999999999302, 0.20929375328336652, -0.9783501600966129], 'y_worst_obj': [-0.8013313618593646, 0.12852751071629792, -0.7371870901365667, -0.25450643507150594, -0.1845646713920019, -0.884932782718618, -0.7554275403950725, 0.009164365984994203, -0.08031212068390642, -0.22580392057635937, -0.36222817360244175, 0.030569388741256733, -0.9093710732041568, 0.2018836625685033, 0.41504226432409125, -0.9343635506133616, -0.27785157991051485, -0.7384236671069464, -1.092000955322344, -0.40643676043707405, 0.043045144043290504, 0.971630584006896, 0.747685028104236, 0.2365099881007909, -0.16545631286241042, 0.20301697262451562, -0.6382558824125708, 0.027854686176599145, -0.48062111954680825, -0.5106327961432151, -0.5476001314621093, -0.2056966363305104, -0.14715165556170395, -0.48870352617733714, -0.42660690663939665, -0.13696163911023235, 0.10941386759521596, -0.22605446260702353, -0.054766328509236496, 0.0020619840856380724, -0.6473612258177532, -1.289742416338013, -0.3958191256977759, -0.3283874683301799, 0.04100001481742323, -0.59914133878706, 0.6941730954447582, 1.0, 0.2943397382652788, -0.9741595591622784], 'obj': 5.0, 'obj_bound': 48.0, 'y_is_robust': [1.0, 1.0, 0.0, 1.0, 1.0, 1.0, 1.0, 1.0, 1.0, 1.0, 0.0, 1.0, 1.0, 1.0, 1.0, 1.0, 1.0, 1.0, 1.0, 1.0, 1.0, 1.0, 1.0, 1.0, 0.0, 1.0, 1.0, 1.0, 1.0, 1.0, 1.0, 1.0, 0.0, 1.0, 1.0, 1.0, 1.0, 1.0, 1.0, 1.0, 1.0, 0.0, 1.0, 1.0, 1.0, 1.0, 1.0, 1.0, 1.0, 1.0], 'y_opt_status': 9, 'y_flip': [-0.0, -0.0, 0.0, 1.0, 1.0, 1.0, -0.0, -0.0, 1.0, -0.0, 1.0, -0.0, -0.0, 1.0, 1.0, 1.0, -0.0, 1.0, -0.0, -0.0], 'idx_train': [246, 447, 879, 555, 791, 895, 290, 198, 522, 697], 'idx_val': [1008, 806, 1134, 563, 950, 604, 672, 616, 1135, 807], 'idx_labeled': [246, 447, 879, 555, 791, 895, 290, 198, 522, 697, 1008, 806, 1134, 563, 950, 604, 672, 616, 1135, 807], 'idx_test': [1010, 404, 26, 635, 676, 491, 686, 1136, 746, 182, 162, 1235, 174, 1074, 523, 357, 507, 1110, 692, 408, 161, 323, 1164, 694, 1036, 112, 687, 377, 619, 736, 36, 270, 155, 1040, 1023, 549, 1055, 568, 1170, 871, 350, 1113, 1100, 622, 356, 84, 441, 335, 550, 45], 'data_dim': 3703, 'min_ypred': -1.0789112355092274, 'max_ypred': 0.9999999999999302, 'min_ntklabeled': 1.2937500059604645, 'max_ntklabeled': 76.86921301005799, 'avg_ntkunlabeled': 5.313414580942157, 'min_ntkunlabeled': 0.75, 'max_ntkunlabeled': 50.25, 'cond': 1.4806011844317472e+17, 'cond_regularized': 56.06648164477085}\n"
     ]
    }
   ],
   "source": [
    "# no big-M, no continous y\n",
    "certificate_params[\"delta\"] = 0.05\n",
    "certificate_params[\"LogToConsole\"] = 1\n",
    "certificate_params[\"OutputFlag\"] = 1\n",
    "certificate_params[\"IntegralityFocus\"] = 0\n",
    "certificate_params[\"use_tight_big_M\"] = 1\n",
    "certificate_params[\"Presolve\"] = 2\n",
    "certificate_params[\"n_test\"] = 50\n",
    "certificate_params[\"TimeLimit\"] = 10\n",
    "certificate_params[\"MILP_OPTIMALITY_TOL\"] = 1e-6\n",
    "print(certificate_params[\"MILP_OPTIMALITY_TOL\"])\n",
    "certificate_params[\"MILP_INT_FEAS_TOL\"] = 1e-5\n",
    "certificate_params[\"MILP_FEAS_TOL\"] = 1e-6\n",
    "#model_params[\"regularizer\"] = 1\n",
    "#certificate_params[\"save_dir\"] = \"./solutions\"\n",
    "other_params[\"path_gurobi_license\"] = \"/ceph/ssd/staff/gosl/app/gurobi.lic\"\n",
    "model_params[\"solver\"] = \"qplayer\"\n",
    "model_params[\"alpha_tol\"] = 1e-4\n",
    "model_params[\"bias\"] = False\n",
    "verbosity_params[\"debug_lvl\"] = \"info\"\n",
    "result = run(data_params, model_params, certificate_params, verbosity_params, other_params, seed)\n",
    "print(result)"
   ]
  },
  {
   "cell_type": "code",
   "execution_count": 9,
   "metadata": {},
   "outputs": [
    {
     "name": "stdout",
     "output_type": "stream",
     "text": [
      "[0 0 0 ... 1 1 1]\n",
      "40 alphas found: ['10.0000', '10.0000', '10.0000', '10.0000', '10.0000', '10.0000', '10.0000', '10.0000', '10.0000', '10.0000', '10.0000', '10.0000', '10.0000', '3.9437', '10.0000', '10.0000', '10.0000', '10.0000', '10.0000', '10.0000', '10.0000', '10.0000', '10.0000', '10.0000', '10.0000', '10.0000', '10.0000', '10.0000', '10.0000', '10.0000', '10.0000', '10.0000', '10.0000', '10.0000', '10.0000', '10.0000', '10.0000', '10.0000', '10.0000', '10.0000']\n",
      "Set parameter IntegralityFocus to value 1\n",
      "Set parameter IntFeasTol to value 0.0001\n",
      "Set parameter DualReductions to value 0\n",
      "Set parameter Presolve to value 2\n",
      "Set parameter FeasibilityTol to value 0.0001\n",
      "Set parameter OptimalityTol to value 0.0001\n",
      "Gurobi Optimizer version 11.0.1 build v11.0.1rc0 (linux64 - \"Ubuntu 22.04.4 LTS\")\n",
      "\n",
      "CPU model: Intel(R) Xeon(R) CPU E5-2630 v4 @ 2.20GHz, instruction set [SSE2|AVX|AVX2]\n",
      "Thread count: 20 physical cores, 20 logical processors, using up to 20 threads\n",
      "\n",
      "Optimize a model with 6901 rows, 1970 columns and 25820 nonzeros\n",
      "Model fingerprint: 0x6ac2c725\n",
      "Variable types: 1760 continuous, 210 integer (170 binary)\n",
      "Coefficient statistics:\n",
      "  Matrix range     [4e-01, 2e+03]\n",
      "  Objective range  [1e+00, 1e+00]\n",
      "  Bounds range     [1e+00, 1e+01]\n",
      "  RHS range        [1e+00, 2e+03]\n",
      "\n",
      "Loaded user MIP start with objective -0\n",
      "\n",
      "Loaded user MIP start with objective -0\n",
      "\n",
      "Presolve removed 40 rows and 40 columns\n",
      "Presolve time: 0.03s\n",
      "Presolved: 6861 rows, 1930 columns, 25660 nonzeros\n",
      "Variable types: 1760 continuous, 170 integer (170 binary)\n",
      "Root relaxation presolved: 6811 rows, 1980 columns, 23660 nonzeros\n",
      "\n",
      "\n",
      "Root relaxation: objective 4.999949e+01, 4270 iterations, 0.27 seconds (0.26 work units)\n",
      "\n",
      "    Nodes    |    Current Node    |     Objective Bounds      |     Work\n",
      " Expl Unexpl |  Obj  Depth IntInf | Incumbent    BestBd   Gap | It/Node Time\n",
      "\n",
      "     0     0   49.99949    0   53   -0.00000   49.99949      -     -    0s\n",
      "     0     0   49.99949    0   45   -0.00000   49.99949      -     -    1s\n",
      "     0     0   49.99949    0   45   -0.00000   49.99949      -     -    1s\n",
      "     0     0   49.99949    0   48   -0.00000   49.99949      -     -    1s\n",
      "     0     0   49.99949    0   47   -0.00000   49.99949      -     -    1s\n",
      "     0     0   49.99949    0   47   -0.00000   49.99949      -     -    2s\n",
      "     0     0   49.99949    0   47   -0.00000   49.99949      -     -    2s\n",
      "     0     2   49.00000    0   47   -0.00000   49.00000      -     -    3s\n",
      "    15    32   49.00000    4   53   -0.00000   49.00000      -  1524    5s\n",
      "   343   340   47.99670   16   36   -0.00000   49.00000      -   748   11s\n",
      "H  359   340                      10.0000000   49.00000   390%   718   11s\n",
      "H  428   340                      11.0000000   49.00000   345%   648   11s\n",
      "H  577   421                      40.0000000   49.00000  22.5%   545   13s\n",
      "  1036   852   48.99951   12   47   40.00000   49.00000  22.5%   479   17s\n",
      "  1909  1355   49.00000   10   30   40.00000   49.00000  22.5%   474   21s\n",
      "  3275  2090   47.99899   30   25   40.00000   49.00000  22.5%   440   27s\n",
      "  4153  2091   41.99935   32   47   40.00000   49.00000  22.5%   427   33s\n",
      "  4156  2093   49.00000   27   46   40.00000   49.00000  22.5%   426   35s\n",
      "  4196  2141   48.99999   16   43   40.00000   48.99999  22.5%   433   40s\n",
      "  4404  2259   48.99276   22   32   40.00000   48.99999  22.5%   445   45s\n",
      "  4431  2270   48.99283   23   32   40.00000   48.99999  22.5%   448   51s\n",
      "  5032  2663   48.99999   43   36   40.00000   48.99999  22.5%   445   56s\n",
      "  6193  2860   48.95192   25   64   40.00000   48.99999  22.5%   421   60s\n",
      "  7939  2973   48.99999   39   36   40.00000   48.99999  22.5%   390   65s\n",
      " 10637  3140 infeasible   35        40.00000   48.99999  22.5%   359   72s\n",
      " 12078  3586   44.99761   42   38   40.00000   48.99999  22.5%   346   75s\n",
      " 15702  4069 infeasible   34        40.00000   48.99999  22.5%   325   85s\n",
      " 17691  5224   48.99999   27   33   40.00000   48.99999  22.5%   316   92s\n",
      " 20114  5836   48.99270   24   31   40.00000   48.99999  22.5%   302   96s\n",
      " 24645  7207   48.99999   27   23   40.00000   48.99999  22.5%   284  104s\n",
      " 27769  7682   48.99999   29   28   40.00000   48.99999  22.5%   274  107s\n",
      " 29700  8228   48.99999   28   32   40.00000   48.99999  22.5%   270  110s\n",
      " 33730  9254   48.99999   27   24   40.00000   48.99999  22.5%   262  117s\n",
      " 35964  9833   48.99999   38   37   40.00000   48.99999  22.5%   258  120s\n",
      " 41037 11107   48.95590   27   53   40.00000   48.99999  22.5%   249  128s\n",
      " 43826 11635 infeasible   36        40.00000   48.99999  22.5%   243  132s\n",
      " 46440 12168   48.99999   32   36   40.00000   48.99999  22.5%   240  135s\n",
      " 48982 12169   47.99804   50   47   40.00000   48.99999  22.5%   238  192s\n",
      " 48988 12173   44.97186   31   48   40.00000   48.99999  22.5%   238  196s\n",
      " 48990 12174   43.99750   40   51   40.00000   48.99999  22.5%   238  201s\n",
      " 48992 12176   48.99999   33   45   40.00000   48.99999  22.5%   238  206s\n",
      " 48994 12177   47.99764   52   58   40.00000   48.99999  22.5%   238  211s\n",
      " 48996 12178   46.99229   32   48   40.00000   48.99999  22.5%   238  217s\n",
      " 49004 12193   48.99999   25   55   40.00000   48.99999  22.5%   238  220s\n",
      " 49148 12298   48.99999   30   37   40.00000   48.99999  22.5%   239  236s\n",
      " 49430 12537   43.99759   40   40   40.00000   48.99999  22.5%   240  249s\n",
      " 49763 12671   48.99999   32   32   40.00000   48.99999  22.5%   241  252s\n",
      " 51997 12433   48.99999   29   36   40.00000   48.99999  22.5%   240  256s\n",
      " 53479 12340   48.99999   40   38   40.00000   48.99999  22.5%   240  260s\n",
      " 56183 12324   41.98256   38   63   40.00000   48.99999  22.5%   240  266s\n",
      " 58325 12494   48.99999   32   36   40.00000   48.99999  22.5%   240  272s\n",
      " 59568 12588   48.99999   33   34   40.00000   48.99999  22.5%   240  275s\n",
      " 62713 12700   48.99880   43   33   40.00000   48.99999  22.5%   241  282s\n",
      " 64664 12678   48.99999   43   69   40.00000   48.99999  22.5%   240  286s\n",
      " 68298 12445   48.99491   42   43   40.00000   48.99999  22.5%   239  293s\n",
      " 69434 12755   48.99999   46   28   40.00000   48.99999  22.5%   239  297s\n",
      " 71462 12700 infeasible   50        40.00000   48.99999  22.5%   239  301s\n",
      " 73788 12772 infeasible   37        40.00000   48.99999  22.5%   239  306s\n",
      " 76762 12213   47.99114   34   31   40.00000   48.99999  22.5%   238  310s\n",
      " 80855 12177   45.99857   52   24   40.00000   48.99999  22.5%   238  318s\n",
      " 83182 12026   48.99999   45   32   40.00000   48.99999  22.5%   238  322s\n",
      " 85617 11891   48.99999   34   32   40.00000   48.99999  22.5%   238  327s\n",
      " 88201 12710 infeasible   39        40.00000   48.99999  22.5%   237  331s\n",
      " 90964 13469   48.99999   36   45   40.00000   48.99999  22.5%   237  336s\n",
      " 93638 14471   48.99999   39   43   40.00000   48.99999  22.5%   236  341s\n",
      " 96665 15691   48.99999   38   37   40.00000   48.99999  22.5%   235  348s\n",
      " 100473 16640   48.99999   40   45   40.00000   48.99999  22.5%   234  353s\n",
      " 103501 17477 infeasible   51        40.00000   48.99999  22.5%   233  357s\n",
      "\n",
      "Interrupt request received\n",
      " 106513 18199   46.99361   35   46   40.00000   48.99999  22.5%   233  363s\n",
      "\n",
      "Cutting planes:\n",
      "  Gomory: 1\n",
      "  MIR: 20\n",
      "  Flow cover: 311\n",
      "  Inf proof: 1\n",
      "  RLT: 116\n",
      "  BQP: 1\n",
      "\n",
      "Explored 109622 nodes (25417726 simplex iterations) in 363.29 seconds (518.29 work units)\n",
      "Thread count was 20 (of 20 available processors)\n",
      "\n",
      "Solution count 4: 40 11 10 -0 \n",
      "\n",
      "Solve interrupted\n",
      "Best objective 4.000000000000e+01, best bound 4.899998592535e+01, gap 22.5000%\n",
      "\n",
      "User-callback calls 269524, time in user-callback 0.50 sec\n"
     ]
    }
   ],
   "source": [
    "# no big-M, no continous y\n",
    "certificate_params[\"delta\"] = 0.15\n",
    "certificate_params[\"LogToConsole\"] = 1\n",
    "certificate_params[\"OutputFlag\"] = 1\n",
    "certificate_params[\"IntegralityFocus\"] = 1\n",
    "certificate_params[\"use_tight_big_M\"] = 1\n",
    "certificate_params[\"Presolve\"] = 2\n",
    "certificate_params[\"n_test\"] = 50\n",
    "other_params[\"path_gurobi_license\"] = \"/ceph/ssd/staff/gosl/app/gurobi.lic\"\n",
    "model_params[\"solver\"] = \"qplayer\"\n",
    "model_params[\"alpha_tol\"] = 1e-4\n",
    "model_params[\"bias\"] = False\n",
    "result = run(data_params, model_params, certificate_params, verbosity_params, other_params, seed)"
   ]
  },
  {
   "cell_type": "code",
   "execution_count": 6,
   "metadata": {},
   "outputs": [
    {
     "name": "stderr",
     "output_type": "stream",
     "text": [
      "2024-08-22 18:30:58 (INFO): Starting experiment exp_ntk_certify_collective_label with configuration:\n",
      "2024-08-22 18:30:58 (INFO): data_params: {'dataset': 'csbm', 'learning_setting': 'transductive', 'specification': {'classes': 2, 'n_trn_labeled': 20, 'n_trn_unlabeled': 0, 'n_val': 20, 'n_test': 50, 'sigma': 1, 'avg_within_class_degree': 3.16, 'avg_between_class_degree': 0.74, 'K': 1.5, 'seed': 4}}\n",
      "2024-08-22 18:30:58 (INFO): model_params: {'label': 'GCN', 'model': 'GCN', 'normalization': 'row_normalization', 'depth': 1, 'regularizer': 0.1, 'pred_method': 'svm', 'activation': 'relu', 'solver': 'qplayer', 'alpha_tol': 0.0001, 'bias': False}\n",
      "2024-08-22 18:30:58 (INFO): certification_params: {'n_adversarial': 1, 'perturbation_model': 'linf', 'delta': 0.15, 'method': 'XXT', 'attack_nodes': 'test', 'LogToConsole': 1, 'OutputFlag': 1}\n",
      "2024-08-22 18:30:58 (INFO): verbosity_params: {'debug_lvl': 'info'}\n",
      "2024-08-22 18:30:58 (INFO): other_params: {'device': 'cpu', 'dtype': torch.float64, 'allow_tf32': False, 'debug': False, 'path_gurobi_license': '/ceph/ssd/staff/gosl/app/gurobi.lic'}\n",
      "2024-08-22 18:30:58 (INFO): seed: 4\n",
      "2024-08-22 18:30:58 (INFO): CSBM(p=0.07101, q=0.01663)\n",
      "2024-08-22 18:30:58 (INFO): Delta: 0.15\n",
      "2024-08-22 18:30:58 (INFO): Test accuracy: 0.8399999737739563\n",
      "2024-08-22 18:30:58 (INFO): Train accuracy: 0.8999999761581421\n"
     ]
    },
    {
     "name": "stdout",
     "output_type": "stream",
     "text": [
      "CSBM mu:\n",
      "[0.375 0.375 0.375 0.375]\n",
      "38 alphas found: ['0.1000', '0.1000', '0.1000', '0.1000', '0.1000', '0.1000', '0.1000', '0.1000', '0.1000', '0.1000', '0.1000', '0.1000', '0.1000', '0.1000', '0.1000', '0.1000', '0.0000', '0.1000', '0.1000', '0.0989', '0.1000', '0.1000', '0.0523', '-0.0000', '0.1000', '0.1000', '0.1000', '0.1000', '0.1000', '0.1000', '0.1000', '0.1000', '0.1000', '0.1000', '0.1000', '0.1000', '0.1000', '0.1000', '0.1000', '0.1000']\n",
      "Set parameter Username\n"
     ]
    },
    {
     "name": "stderr",
     "output_type": "stream",
     "text": [
      "2024-08-22 18:30:58 (INFO): Set parameter Username\n"
     ]
    },
    {
     "name": "stdout",
     "output_type": "stream",
     "text": [
      "Academic license - for non-commercial use only - expires 2025-03-26\n"
     ]
    },
    {
     "name": "stderr",
     "output_type": "stream",
     "text": [
      "2024-08-22 18:30:58 (INFO): Academic license - for non-commercial use only - expires 2025-03-26\n"
     ]
    },
    {
     "name": "stdout",
     "output_type": "stream",
     "text": [
      "Set parameter IntegralityFocus to value 1\n"
     ]
    },
    {
     "name": "stderr",
     "output_type": "stream",
     "text": [
      "/ceph/ssd/staff/gosl/src/ntk-robust/src/utils.py:1236: RuntimeWarning: Chained matrix multiplications of MVars is inefficient, collect numeric terms first when building expressions\n",
      "  m.addConstr((z_*ntk_labeled)@v_ones - u + v == 1, \"eq_constraint\")\n",
      "2024-08-22 18:30:59 (INFO): Set parameter IntegralityFocus to value 1\n"
     ]
    },
    {
     "name": "stdout",
     "output_type": "stream",
     "text": [
      "Set parameter IntFeasTol to value 0.0001\n"
     ]
    },
    {
     "name": "stderr",
     "output_type": "stream",
     "text": [
      "2024-08-22 18:30:59 (INFO): Set parameter IntFeasTol to value 0.0001\n"
     ]
    },
    {
     "name": "stdout",
     "output_type": "stream",
     "text": [
      "Set parameter DualReductions to value 0\n"
     ]
    },
    {
     "name": "stderr",
     "output_type": "stream",
     "text": [
      "2024-08-22 18:30:59 (INFO): Set parameter DualReductions to value 0\n"
     ]
    },
    {
     "name": "stdout",
     "output_type": "stream",
     "text": [
      "Set parameter FeasibilityTol to value 0.0001\n"
     ]
    },
    {
     "name": "stderr",
     "output_type": "stream",
     "text": [
      "2024-08-22 18:30:59 (INFO): Set parameter FeasibilityTol to value 0.0001\n"
     ]
    },
    {
     "name": "stdout",
     "output_type": "stream",
     "text": [
      "Set parameter OptimalityTol to value 0.0001\n"
     ]
    },
    {
     "name": "stderr",
     "output_type": "stream",
     "text": [
      "2024-08-22 18:30:59 (INFO): Set parameter OptimalityTol to value 0.0001\n"
     ]
    },
    {
     "name": "stdout",
     "output_type": "stream",
     "text": [
      "Gurobi Optimizer version 11.0.1 build v11.0.1rc0 (linux64 - \"Ubuntu 22.04.4 LTS\")\n"
     ]
    },
    {
     "name": "stderr",
     "output_type": "stream",
     "text": [
      "2024-08-22 18:30:59 (INFO): Gurobi Optimizer version 11.0.1 build v11.0.1rc0 (linux64 - \"Ubuntu 22.04.4 LTS\")\n"
     ]
    },
    {
     "name": "stdout",
     "output_type": "stream",
     "text": [
      "\n"
     ]
    },
    {
     "name": "stderr",
     "output_type": "stream",
     "text": [
      "2024-08-22 18:30:59 (INFO): \n"
     ]
    },
    {
     "name": "stdout",
     "output_type": "stream",
     "text": [
      "CPU model: Intel(R) Xeon(R) CPU E5-2630 v4 @ 2.20GHz, instruction set [SSE2|AVX|AVX2]\n"
     ]
    },
    {
     "name": "stderr",
     "output_type": "stream",
     "text": [
      "2024-08-22 18:30:59 (INFO): CPU model: Intel(R) Xeon(R) CPU E5-2630 v4 @ 2.20GHz, instruction set [SSE2|AVX|AVX2]\n"
     ]
    },
    {
     "name": "stdout",
     "output_type": "stream",
     "text": [
      "Thread count: 20 physical cores, 20 logical processors, using up to 20 threads\n"
     ]
    },
    {
     "name": "stderr",
     "output_type": "stream",
     "text": [
      "2024-08-22 18:30:59 (INFO): Thread count: 20 physical cores, 20 logical processors, using up to 20 threads\n"
     ]
    },
    {
     "name": "stdout",
     "output_type": "stream",
     "text": [
      "\n"
     ]
    },
    {
     "name": "stderr",
     "output_type": "stream",
     "text": [
      "2024-08-22 18:30:59 (INFO): \n"
     ]
    },
    {
     "name": "stdout",
     "output_type": "stream",
     "text": [
      "Optimize a model with 6901 rows, 1970 columns and 25820 nonzeros\n"
     ]
    },
    {
     "name": "stderr",
     "output_type": "stream",
     "text": [
      "2024-08-22 18:30:59 (INFO): Optimize a model with 6901 rows, 1970 columns and 25820 nonzeros\n"
     ]
    },
    {
     "name": "stdout",
     "output_type": "stream",
     "text": [
      "Model fingerprint: 0xdbdb601e\n"
     ]
    },
    {
     "name": "stderr",
     "output_type": "stream",
     "text": [
      "2024-08-22 18:30:59 (INFO): Model fingerprint: 0xdbdb601e\n"
     ]
    },
    {
     "name": "stdout",
     "output_type": "stream",
     "text": [
      "Variable types: 1760 continuous, 210 integer (170 binary)\n"
     ]
    },
    {
     "name": "stderr",
     "output_type": "stream",
     "text": [
      "2024-08-22 18:30:59 (INFO): Variable types: 1760 continuous, 210 integer (170 binary)\n"
     ]
    },
    {
     "name": "stdout",
     "output_type": "stream",
     "text": [
      "Coefficient statistics:\n"
     ]
    },
    {
     "name": "stderr",
     "output_type": "stream",
     "text": [
      "2024-08-22 18:30:59 (INFO): Coefficient statistics:\n"
     ]
    },
    {
     "name": "stdout",
     "output_type": "stream",
     "text": [
      "  Matrix range     [6e-04, 9e+00]\n"
     ]
    },
    {
     "name": "stderr",
     "output_type": "stream",
     "text": [
      "2024-08-22 18:30:59 (INFO):   Matrix range     [6e-04, 9e+00]\n"
     ]
    },
    {
     "name": "stdout",
     "output_type": "stream",
     "text": [
      "  Objective range  [1e+00, 1e+00]\n"
     ]
    },
    {
     "name": "stderr",
     "output_type": "stream",
     "text": [
      "2024-08-22 18:30:59 (INFO):   Objective range  [1e+00, 1e+00]\n"
     ]
    },
    {
     "name": "stdout",
     "output_type": "stream",
     "text": [
      "  Bounds range     [1e-01, 1e+00]\n"
     ]
    },
    {
     "name": "stderr",
     "output_type": "stream",
     "text": [
      "2024-08-22 18:30:59 (INFO):   Bounds range     [1e-01, 1e+00]\n"
     ]
    },
    {
     "name": "stdout",
     "output_type": "stream",
     "text": [
      "  RHS range        [1e-01, 3e+01]\n"
     ]
    },
    {
     "name": "stderr",
     "output_type": "stream",
     "text": [
      "2024-08-22 18:30:59 (INFO):   RHS range        [1e-01, 3e+01]\n"
     ]
    },
    {
     "name": "stdout",
     "output_type": "stream",
     "text": [
      "\n"
     ]
    },
    {
     "name": "stderr",
     "output_type": "stream",
     "text": [
      "2024-08-22 18:30:59 (INFO): \n"
     ]
    },
    {
     "name": "stdout",
     "output_type": "stream",
     "text": [
      "Loaded user MIP start with objective -0\n",
      "\n",
      "Loaded user MIP start with objective -0\n"
     ]
    },
    {
     "name": "stderr",
     "output_type": "stream",
     "text": [
      "2024-08-22 18:30:59 (INFO): Loaded user MIP start with objective -0\n"
     ]
    },
    {
     "name": "stdout",
     "output_type": "stream",
     "text": [
      "\n"
     ]
    },
    {
     "name": "stderr",
     "output_type": "stream",
     "text": [
      "2024-08-22 18:30:59 (INFO): \n"
     ]
    },
    {
     "name": "stdout",
     "output_type": "stream",
     "text": [
      "Presolve removed 40 rows and 40 columns\n"
     ]
    },
    {
     "name": "stderr",
     "output_type": "stream",
     "text": [
      "2024-08-22 18:30:59 (INFO): Presolve removed 40 rows and 40 columns\n"
     ]
    },
    {
     "name": "stdout",
     "output_type": "stream",
     "text": [
      "Presolve time: 0.03s\n"
     ]
    },
    {
     "name": "stderr",
     "output_type": "stream",
     "text": [
      "2024-08-22 18:30:59 (INFO): Presolve time: 0.03s\n"
     ]
    },
    {
     "name": "stdout",
     "output_type": "stream",
     "text": [
      "Presolved: 6861 rows, 1930 columns, 25660 nonzeros\n"
     ]
    },
    {
     "name": "stderr",
     "output_type": "stream",
     "text": [
      "2024-08-22 18:30:59 (INFO): Presolved: 6861 rows, 1930 columns, 25660 nonzeros\n"
     ]
    },
    {
     "name": "stdout",
     "output_type": "stream",
     "text": [
      "Variable types: 1760 continuous, 170 integer (170 binary)\n"
     ]
    },
    {
     "name": "stderr",
     "output_type": "stream",
     "text": [
      "2024-08-22 18:30:59 (INFO): Variable types: 1760 continuous, 170 integer (170 binary)\n"
     ]
    },
    {
     "name": "stdout",
     "output_type": "stream",
     "text": [
      "\n"
     ]
    },
    {
     "name": "stderr",
     "output_type": "stream",
     "text": [
      "2024-08-22 18:30:59 (INFO): \n"
     ]
    },
    {
     "name": "stdout",
     "output_type": "stream",
     "text": [
      "Root relaxation: objective 5.000000e+01, 3732 iterations, 0.27 seconds (0.37 work units)\n"
     ]
    },
    {
     "name": "stderr",
     "output_type": "stream",
     "text": [
      "2024-08-22 18:30:59 (INFO): Root relaxation: objective 5.000000e+01, 3732 iterations, 0.27 seconds (0.37 work units)\n"
     ]
    },
    {
     "name": "stdout",
     "output_type": "stream",
     "text": [
      "\n"
     ]
    },
    {
     "name": "stderr",
     "output_type": "stream",
     "text": [
      "2024-08-22 18:30:59 (INFO): \n"
     ]
    },
    {
     "name": "stdout",
     "output_type": "stream",
     "text": [
      "    Nodes    |    Current Node    |     Objective Bounds      |     Work\n"
     ]
    },
    {
     "name": "stderr",
     "output_type": "stream",
     "text": [
      "2024-08-22 18:30:59 (INFO):     Nodes    |    Current Node    |     Objective Bounds      |     Work\n"
     ]
    },
    {
     "name": "stdout",
     "output_type": "stream",
     "text": [
      " Expl Unexpl |  Obj  Depth IntInf | Incumbent    BestBd   Gap | It/Node Time\n"
     ]
    },
    {
     "name": "stderr",
     "output_type": "stream",
     "text": [
      "2024-08-22 18:30:59 (INFO):  Expl Unexpl |  Obj  Depth IntInf | Incumbent    BestBd   Gap | It/Node Time\n"
     ]
    },
    {
     "name": "stdout",
     "output_type": "stream",
     "text": [
      "\n"
     ]
    },
    {
     "name": "stderr",
     "output_type": "stream",
     "text": [
      "2024-08-22 18:30:59 (INFO): \n"
     ]
    },
    {
     "name": "stdout",
     "output_type": "stream",
     "text": [
      "     0     0   50.00000    0   36   -0.00000   50.00000      -     -    0s\n"
     ]
    },
    {
     "name": "stderr",
     "output_type": "stream",
     "text": [
      "2024-08-22 18:30:59 (INFO):      0     0   50.00000    0   36   -0.00000   50.00000      -     -    0s\n"
     ]
    },
    {
     "name": "stdout",
     "output_type": "stream",
     "text": [
      "     0     0   50.00000    0   63   -0.00000   50.00000      -     -    1s\n"
     ]
    },
    {
     "name": "stderr",
     "output_type": "stream",
     "text": [
      "2024-08-22 18:31:00 (INFO):      0     0   50.00000    0   63   -0.00000   50.00000      -     -    1s\n"
     ]
    },
    {
     "name": "stdout",
     "output_type": "stream",
     "text": [
      "     0     0   50.00000    0   50   -0.00000   50.00000      -     -    1s\n"
     ]
    },
    {
     "name": "stderr",
     "output_type": "stream",
     "text": [
      "2024-08-22 18:31:01 (INFO):      0     0   50.00000    0   50   -0.00000   50.00000      -     -    1s\n"
     ]
    },
    {
     "name": "stdout",
     "output_type": "stream",
     "text": [
      "     0     0   50.00000    0   58   -0.00000   50.00000      -     -    2s\n"
     ]
    },
    {
     "name": "stderr",
     "output_type": "stream",
     "text": [
      "2024-08-22 18:31:01 (INFO):      0     0   50.00000    0   58   -0.00000   50.00000      -     -    2s\n"
     ]
    },
    {
     "name": "stdout",
     "output_type": "stream",
     "text": [
      "     0     0   50.00000    0   51   -0.00000   50.00000      -     -    2s\n"
     ]
    },
    {
     "name": "stderr",
     "output_type": "stream",
     "text": [
      "2024-08-22 18:31:02 (INFO):      0     0   50.00000    0   51   -0.00000   50.00000      -     -    2s\n"
     ]
    },
    {
     "name": "stdout",
     "output_type": "stream",
     "text": [
      "     0     0   50.00000    0   59   -0.00000   50.00000      -     -    3s\n"
     ]
    },
    {
     "name": "stderr",
     "output_type": "stream",
     "text": [
      "2024-08-22 18:31:02 (INFO):      0     0   50.00000    0   59   -0.00000   50.00000      -     -    3s\n"
     ]
    },
    {
     "name": "stdout",
     "output_type": "stream",
     "text": [
      "     0     0   50.00000    0   51   -0.00000   50.00000      -     -    3s\n"
     ]
    },
    {
     "name": "stderr",
     "output_type": "stream",
     "text": [
      "2024-08-22 18:31:03 (INFO):      0     0   50.00000    0   51   -0.00000   50.00000      -     -    3s\n"
     ]
    },
    {
     "name": "stdout",
     "output_type": "stream",
     "text": [
      "     0     0   50.00000    0   47   -0.00000   50.00000      -     -    4s\n"
     ]
    },
    {
     "name": "stderr",
     "output_type": "stream",
     "text": [
      "2024-08-22 18:31:03 (INFO):      0     0   50.00000    0   47   -0.00000   50.00000      -     -    4s\n"
     ]
    },
    {
     "name": "stdout",
     "output_type": "stream",
     "text": [
      "     0     2   50.00000    0   43   -0.00000   50.00000      -     -    4s\n"
     ]
    },
    {
     "name": "stderr",
     "output_type": "stream",
     "text": [
      "2024-08-22 18:31:03 (INFO):      0     2   50.00000    0   43   -0.00000   50.00000      -     -    4s\n"
     ]
    },
    {
     "name": "stdout",
     "output_type": "stream",
     "text": [
      "     3     8   50.00000    2   64   -0.00000   50.00000      -  1300    5s\n"
     ]
    },
    {
     "name": "stderr",
     "output_type": "stream",
     "text": [
      "2024-08-22 18:31:04 (INFO):      3     8   50.00000    2   64   -0.00000   50.00000      -  1300    5s\n"
     ]
    },
    {
     "name": "stdout",
     "output_type": "stream",
     "text": [
      "H   47    52                       1.0000000   50.00000  4900%  1121    7s\n"
     ]
    },
    {
     "name": "stderr",
     "output_type": "stream",
     "text": [
      "2024-08-22 18:31:06 (INFO): H   47    52                       1.0000000   50.00000  4900%  1121    7s\n"
     ]
    },
    {
     "name": "stdout",
     "output_type": "stream",
     "text": [
      "H   93   110                       2.0000000   50.00000  2400%   918    9s\n"
     ]
    },
    {
     "name": "stderr",
     "output_type": "stream",
     "text": [
      "2024-08-22 18:31:08 (INFO): H   93   110                       2.0000000   50.00000  2400%   918    9s\n"
     ]
    },
    {
     "name": "stdout",
     "output_type": "stream",
     "text": [
      "H  102   110                       5.0000000   50.00000   900%   883    9s\n"
     ]
    },
    {
     "name": "stderr",
     "output_type": "stream",
     "text": [
      "2024-08-22 18:31:08 (INFO): H  102   110                       5.0000000   50.00000   900%   883    9s\n"
     ]
    },
    {
     "name": "stdout",
     "output_type": "stream",
     "text": [
      "   111   131   50.00000    8   74    5.00000   50.00000   900%   851   10s\n"
     ]
    },
    {
     "name": "stderr",
     "output_type": "stream",
     "text": [
      "2024-08-22 18:31:09 (INFO):    111   131   50.00000    8   74    5.00000   50.00000   900%   851   10s\n"
     ]
    },
    {
     "name": "stdout",
     "output_type": "stream",
     "text": [
      "H  159   178                       9.0000000   50.00000   456%   869   11s\n"
     ]
    },
    {
     "name": "stderr",
     "output_type": "stream",
     "text": [
      "2024-08-22 18:31:10 (INFO): H  159   178                       9.0000000   50.00000   456%   869   11s\n"
     ]
    },
    {
     "name": "stdout",
     "output_type": "stream",
     "text": [
      "H  169   178                      11.0000000   50.00000   355%   842   11s\n"
     ]
    },
    {
     "name": "stderr",
     "output_type": "stream",
     "text": [
      "2024-08-22 18:31:10 (INFO): H  169   178                      11.0000000   50.00000   355%   842   11s\n"
     ]
    },
    {
     "name": "stdout",
     "output_type": "stream",
     "text": [
      "H  263   269                      27.0000000   50.00000  85.2%   669   15s\n"
     ]
    },
    {
     "name": "stderr",
     "output_type": "stream",
     "text": [
      "2024-08-22 18:31:15 (INFO): H  263   269                      27.0000000   50.00000  85.2%   669   15s\n"
     ]
    },
    {
     "name": "stdout",
     "output_type": "stream",
     "text": [
      "H  265   269                      29.0000000   50.00000  72.4%   665   15s\n"
     ]
    },
    {
     "name": "stderr",
     "output_type": "stream",
     "text": [
      "2024-08-22 18:31:15 (INFO): H  265   269                      29.0000000   50.00000  72.4%   665   15s\n"
     ]
    },
    {
     "name": "stdout",
     "output_type": "stream",
     "text": [
      "H  267   269                      30.0000000   50.00000  66.7%   663   15s\n"
     ]
    },
    {
     "name": "stderr",
     "output_type": "stream",
     "text": [
      "2024-08-22 18:31:15 (INFO): H  267   269                      30.0000000   50.00000  66.7%   663   15s\n"
     ]
    },
    {
     "name": "stdout",
     "output_type": "stream",
     "text": [
      "H  464   347                      31.0000000   50.00000  61.3%   537   20s\n"
     ]
    },
    {
     "name": "stderr",
     "output_type": "stream",
     "text": [
      "2024-08-22 18:31:19 (INFO): H  464   347                      31.0000000   50.00000  61.3%   537   20s\n"
     ]
    },
    {
     "name": "stdout",
     "output_type": "stream",
     "text": [
      "   984   728     cutoff   16        31.00000   50.00000  61.3%   401   25s\n"
     ]
    },
    {
     "name": "stderr",
     "output_type": "stream",
     "text": [
      "2024-08-22 18:31:24 (INFO):    984   728     cutoff   16        31.00000   50.00000  61.3%   401   25s\n"
     ]
    },
    {
     "name": "stdout",
     "output_type": "stream",
     "text": [
      "  1168   784   49.69584   12   80   31.00000   50.00000  61.3%   372   31s\n"
     ]
    },
    {
     "name": "stderr",
     "output_type": "stream",
     "text": [
      "2024-08-22 18:31:31 (INFO):   1168   784   49.69584   12   80   31.00000   50.00000  61.3%   372   31s\n"
     ]
    },
    {
     "name": "stdout",
     "output_type": "stream",
     "text": [
      "  1238   811 infeasible   28        31.00000   50.00000  61.3%   361   36s\n"
     ]
    },
    {
     "name": "stderr",
     "output_type": "stream",
     "text": [
      "2024-08-22 18:31:35 (INFO):   1238   811 infeasible   28        31.00000   50.00000  61.3%   361   36s\n"
     ]
    },
    {
     "name": "stdout",
     "output_type": "stream",
     "text": [
      "  1762  1244   47.74446   12   75   31.00000   50.00000  61.3%   314   40s\n"
     ]
    },
    {
     "name": "stderr",
     "output_type": "stream",
     "text": [
      "2024-08-22 18:31:39 (INFO):   1762  1244   47.74446   12   75   31.00000   50.00000  61.3%   314   40s\n"
     ]
    },
    {
     "name": "stdout",
     "output_type": "stream",
     "text": [
      "  3007  2053   48.76419   11  101   31.00000   50.00000  61.3%   266   45s\n"
     ]
    },
    {
     "name": "stderr",
     "output_type": "stream",
     "text": [
      "2024-08-22 18:31:44 (INFO):   3007  2053   48.76419   11  101   31.00000   50.00000  61.3%   266   45s\n"
     ]
    },
    {
     "name": "stdout",
     "output_type": "stream",
     "text": [
      "  3282  2054   32.00000   33   47   31.00000   50.00000  61.3%   259   52s\n"
     ]
    },
    {
     "name": "stderr",
     "output_type": "stream",
     "text": [
      "2024-08-22 18:31:51 (INFO):   3282  2054   32.00000   33   47   31.00000   50.00000  61.3%   259   52s\n"
     ]
    },
    {
     "name": "stdout",
     "output_type": "stream",
     "text": [
      "  3285  2056   45.59623   15   55   31.00000   50.00000  61.3%   259   55s\n"
     ]
    },
    {
     "name": "stderr",
     "output_type": "stream",
     "text": [
      "2024-08-22 18:31:54 (INFO):   3285  2056   45.59623   15   55   31.00000   50.00000  61.3%   259   55s\n"
     ]
    },
    {
     "name": "stdout",
     "output_type": "stream",
     "text": [
      "  3291  2060   49.00000    7   66   31.00000   50.00000  61.3%   259   60s\n"
     ]
    },
    {
     "name": "stderr",
     "output_type": "stream",
     "text": [
      "2024-08-22 18:31:59 (INFO):   3291  2060   49.00000    7   66   31.00000   50.00000  61.3%   259   60s\n"
     ]
    },
    {
     "name": "stdout",
     "output_type": "stream",
     "text": [
      "  3296  2066   50.00000   12   60   31.00000   50.00000  61.3%   265   65s\n"
     ]
    },
    {
     "name": "stderr",
     "output_type": "stream",
     "text": [
      "2024-08-22 18:32:04 (INFO):   3296  2066   50.00000   12   60   31.00000   50.00000  61.3%   265   65s\n"
     ]
    },
    {
     "name": "stdout",
     "output_type": "stream",
     "text": [
      "  3406  2159   48.66778   18   79   31.00000   50.00000  61.3%   273   70s\n"
     ]
    },
    {
     "name": "stderr",
     "output_type": "stream",
     "text": [
      "2024-08-22 18:32:09 (INFO):   3406  2159   48.66778   18   79   31.00000   50.00000  61.3%   273   70s\n"
     ]
    },
    {
     "name": "stdout",
     "output_type": "stream",
     "text": [
      "  3513  2209   48.99195   21   57   31.00000   50.00000  61.3%   280   77s\n"
     ]
    },
    {
     "name": "stderr",
     "output_type": "stream",
     "text": [
      "2024-08-22 18:32:16 (INFO):   3513  2209   48.99195   21   57   31.00000   50.00000  61.3%   280   77s\n"
     ]
    },
    {
     "name": "stdout",
     "output_type": "stream",
     "text": [
      "  3564  2227   48.60696   22   76   31.00000   50.00000  61.3%   281   85s\n"
     ]
    },
    {
     "name": "stderr",
     "output_type": "stream",
     "text": [
      "2024-08-22 18:32:25 (INFO):   3564  2227   48.60696   22   76   31.00000   50.00000  61.3%   281   85s\n"
     ]
    },
    {
     "name": "stdout",
     "output_type": "stream",
     "text": [
      "  3586  2229 infeasible   22        31.00000   50.00000  61.3%   283   97s\n"
     ]
    },
    {
     "name": "stderr",
     "output_type": "stream",
     "text": [
      "2024-08-22 18:32:36 (INFO):   3586  2229 infeasible   22        31.00000   50.00000  61.3%   283   97s\n"
     ]
    },
    {
     "name": "stdout",
     "output_type": "stream",
     "text": [
      "  3812  2301   41.94581   30   76   31.00000   50.00000  61.3%   278  100s\n"
     ]
    },
    {
     "name": "stderr",
     "output_type": "stream",
     "text": [
      "2024-08-22 18:32:39 (INFO):   3812  2301   41.94581   30   76   31.00000   50.00000  61.3%   278  100s\n"
     ]
    },
    {
     "name": "stdout",
     "output_type": "stream",
     "text": [
      "  5140  2428   49.94603   17   92   31.00000   49.98411  61.2%   238  105s\n"
     ]
    },
    {
     "name": "stderr",
     "output_type": "stream",
     "text": [
      "2024-08-22 18:32:44 (INFO):   5140  2428   49.94603   17   92   31.00000   49.98411  61.2%   238  105s\n"
     ]
    },
    {
     "name": "stdout",
     "output_type": "stream",
     "text": [
      "  6931  2638   42.54631   29   92   31.00000   49.92231  61.0%   206  110s\n"
     ]
    },
    {
     "name": "stderr",
     "output_type": "stream",
     "text": [
      "2024-08-22 18:32:49 (INFO):   6931  2638   42.54631   29   92   31.00000   49.92231  61.0%   206  110s\n"
     ]
    },
    {
     "name": "stdout",
     "output_type": "stream",
     "text": [
      "  8993  2566   43.57186   26   83   31.00000   49.00000  58.1%   182  115s\n"
     ]
    },
    {
     "name": "stderr",
     "output_type": "stream",
     "text": [
      "2024-08-22 18:32:54 (INFO):   8993  2566   43.57186   26   83   31.00000   49.00000  58.1%   182  115s\n"
     ]
    },
    {
     "name": "stdout",
     "output_type": "stream",
     "text": [
      " 10757  3410   40.87184   31   67   31.00000   49.00000  58.1%   175  120s\n"
     ]
    },
    {
     "name": "stderr",
     "output_type": "stream",
     "text": [
      "2024-08-22 18:32:59 (INFO):  10757  3410   40.87184   31   67   31.00000   49.00000  58.1%   175  120s\n"
     ]
    },
    {
     "name": "stdout",
     "output_type": "stream",
     "text": [
      " 12327  4174   37.31938   40   83   31.00000   49.00000  58.1%   171  125s\n"
     ]
    },
    {
     "name": "stderr",
     "output_type": "stream",
     "text": [
      "2024-08-22 18:33:04 (INFO):  12327  4174   37.31938   40   83   31.00000   49.00000  58.1%   171  125s\n"
     ]
    },
    {
     "name": "stdout",
     "output_type": "stream",
     "text": [
      " 13827  4740 infeasible   43        31.00000   49.00000  58.1%   165  135s\n"
     ]
    },
    {
     "name": "stderr",
     "output_type": "stream",
     "text": [
      "2024-08-22 18:33:14 (INFO):  13827  4740 infeasible   43        31.00000   49.00000  58.1%   165  135s\n"
     ]
    },
    {
     "name": "stdout",
     "output_type": "stream",
     "text": [
      " 15802  6024 infeasible   42        31.00000   48.93002  57.8%   157  140s\n"
     ]
    },
    {
     "name": "stderr",
     "output_type": "stream",
     "text": [
      "2024-08-22 18:33:19 (INFO):  15802  6024 infeasible   42        31.00000   48.93002  57.8%   157  140s\n"
     ]
    },
    {
     "name": "stdout",
     "output_type": "stream",
     "text": [
      " 18610  7425   36.77340   25   84   31.00000   48.81718  57.5%   149  145s\n"
     ]
    },
    {
     "name": "stderr",
     "output_type": "stream",
     "text": [
      "2024-08-22 18:33:24 (INFO):  18610  7425   36.77340   25   84   31.00000   48.81718  57.5%   149  145s\n"
     ]
    },
    {
     "name": "stdout",
     "output_type": "stream",
     "text": [
      " 22193  9099 infeasible   21        31.00000   48.66641  57.0%   139  151s\n"
     ]
    },
    {
     "name": "stderr",
     "output_type": "stream",
     "text": [
      "2024-08-22 18:33:30 (INFO):  22193  9099 infeasible   21        31.00000   48.66641  57.0%   139  151s\n"
     ]
    },
    {
     "name": "stdout",
     "output_type": "stream",
     "text": [
      " 25684 10100 infeasible   44        31.00000   48.48451  56.4%   131  155s\n"
     ]
    },
    {
     "name": "stderr",
     "output_type": "stream",
     "text": [
      "2024-08-22 18:33:35 (INFO):  25684 10100 infeasible   44        31.00000   48.48451  56.4%   131  155s\n"
     ]
    },
    {
     "name": "stdout",
     "output_type": "stream",
     "text": [
      " 28842 11606 infeasible   23        31.00000   48.22616  55.6%   125  160s\n"
     ]
    },
    {
     "name": "stderr",
     "output_type": "stream",
     "text": [
      "2024-08-22 18:33:39 (INFO):  28842 11606 infeasible   23        31.00000   48.22616  55.6%   125  160s\n"
     ]
    },
    {
     "name": "stdout",
     "output_type": "stream",
     "text": [
      " 33302 13360   44.86833   28  106   31.00000   47.87603  54.4%   118  166s\n"
     ]
    },
    {
     "name": "stderr",
     "output_type": "stream",
     "text": [
      "2024-08-22 18:33:45 (INFO):  33302 13360   44.86833   28  106   31.00000   47.87603  54.4%   118  166s\n"
     ]
    },
    {
     "name": "stdout",
     "output_type": "stream",
     "text": [
      " 37065 14939     cutoff   44        31.00000   47.70708  53.9%   114  171s\n"
     ]
    },
    {
     "name": "stderr",
     "output_type": "stream",
     "text": [
      "2024-08-22 18:33:50 (INFO):  37065 14939     cutoff   44        31.00000   47.70708  53.9%   114  171s\n"
     ]
    },
    {
     "name": "stdout",
     "output_type": "stream",
     "text": [
      " 39975 16049 infeasible   24        31.00000   47.60328  53.6%   111  175s\n"
     ]
    },
    {
     "name": "stderr",
     "output_type": "stream",
     "text": [
      "2024-08-22 18:33:54 (INFO):  39975 16049 infeasible   24        31.00000   47.60328  53.6%   111  175s\n"
     ]
    },
    {
     "name": "stdout",
     "output_type": "stream",
     "text": [
      " 45109 17688   45.88089   29   98   31.00000   47.31590  52.6%   106  180s\n"
     ]
    },
    {
     "name": "stderr",
     "output_type": "stream",
     "text": [
      "2024-08-22 18:34:00 (INFO):  45109 17688   45.88089   29   98   31.00000   47.31590  52.6%   106  180s\n"
     ]
    },
    {
     "name": "stdout",
     "output_type": "stream",
     "text": [
      " 46878 17689   39.48483   41   47   31.00000   47.18291  52.2%   105  242s\n"
     ]
    },
    {
     "name": "stderr",
     "output_type": "stream",
     "text": [
      "2024-08-22 18:35:01 (INFO):  46878 17689   39.48483   41   47   31.00000   47.18291  52.2%   105  242s\n"
     ]
    },
    {
     "name": "stdout",
     "output_type": "stream",
     "text": [
      " 46882 17692   43.31660   35  123   31.00000   47.18291  52.2%   105  245s\n"
     ]
    },
    {
     "name": "stderr",
     "output_type": "stream",
     "text": [
      "2024-08-22 18:35:04 (INFO):  46882 17692   43.31660   35  123   31.00000   47.18291  52.2%   105  245s\n"
     ]
    },
    {
     "name": "stdout",
     "output_type": "stream",
     "text": [
      " 46884 17693   41.15451   36  138   31.00000   47.18291  52.2%   105  250s\n"
     ]
    },
    {
     "name": "stderr",
     "output_type": "stream",
     "text": [
      "2024-08-22 18:35:09 (INFO):  46884 17693   41.15451   36  138   31.00000   47.18291  52.2%   105  250s\n"
     ]
    },
    {
     "name": "stdout",
     "output_type": "stream",
     "text": [
      " 46887 17695   38.65506   34  140   31.00000   47.18291  52.2%   105  256s\n"
     ]
    },
    {
     "name": "stderr",
     "output_type": "stream",
     "text": [
      "2024-08-22 18:35:15 (INFO):  46887 17695   38.65506   34  140   31.00000   47.18291  52.2%   105  256s\n"
     ]
    },
    {
     "name": "stdout",
     "output_type": "stream",
     "text": [
      " 46890 17697   35.65300   40  138   31.00000   47.18291  52.2%   105  261s\n"
     ]
    },
    {
     "name": "stderr",
     "output_type": "stream",
     "text": [
      "2024-08-22 18:35:20 (INFO):  46890 17697   35.65300   40  138   31.00000   47.18291  52.2%   105  261s\n"
     ]
    },
    {
     "name": "stdout",
     "output_type": "stream",
     "text": [
      " 46892 17698   44.78805   30  143   31.00000   47.18291  52.2%   105  265s\n"
     ]
    },
    {
     "name": "stderr",
     "output_type": "stream",
     "text": [
      "2024-08-22 18:35:24 (INFO):  46892 17698   44.78805   30  143   31.00000   47.18291  52.2%   105  265s\n"
     ]
    },
    {
     "name": "stdout",
     "output_type": "stream",
     "text": [
      " 46895 17700   44.49497   30  138   31.00000   47.18291  52.2%   105  271s\n"
     ]
    },
    {
     "name": "stderr",
     "output_type": "stream",
     "text": [
      "2024-08-22 18:35:30 (INFO):  46895 17700   44.49497   30  138   31.00000   47.18291  52.2%   105  271s\n"
     ]
    },
    {
     "name": "stdout",
     "output_type": "stream",
     "text": [
      " 46897 17702   45.95684   29  136   31.00000   47.16064  52.1%   105  275s\n"
     ]
    },
    {
     "name": "stderr",
     "output_type": "stream",
     "text": [
      "2024-08-22 18:35:35 (INFO):  46897 17702   45.95684   29  136   31.00000   47.16064  52.1%   105  275s\n"
     ]
    },
    {
     "name": "stdout",
     "output_type": "stream",
     "text": [
      " 46900 17704   46.21374   25  138   31.00000   47.11856  52.0%   105  280s\n"
     ]
    },
    {
     "name": "stderr",
     "output_type": "stream",
     "text": [
      "2024-08-22 18:35:40 (INFO):  46900 17704   46.21374   25  138   31.00000   47.11856  52.0%   105  280s\n"
     ]
    },
    {
     "name": "stdout",
     "output_type": "stream",
     "text": [
      " 46903 17706   38.07660   38  140   31.00000   47.07969  51.9%   105  286s\n"
     ]
    },
    {
     "name": "stderr",
     "output_type": "stream",
     "text": [
      "2024-08-22 18:35:45 (INFO):  46903 17706   38.07660   38  140   31.00000   47.07969  51.9%   105  286s\n"
     ]
    },
    {
     "name": "stdout",
     "output_type": "stream",
     "text": [
      " 46905 17707   38.81992   38  137   31.00000   47.06669  51.8%   105  290s\n"
     ]
    },
    {
     "name": "stderr",
     "output_type": "stream",
     "text": [
      "2024-08-22 18:35:49 (INFO):  46905 17707   38.81992   38  137   31.00000   47.06669  51.8%   105  290s\n"
     ]
    },
    {
     "name": "stdout",
     "output_type": "stream",
     "text": [
      " 46908 17709   42.00125   37  138   31.00000   47.05464  51.8%   105  295s\n"
     ]
    },
    {
     "name": "stderr",
     "output_type": "stream",
     "text": [
      "2024-08-22 18:35:54 (INFO):  46908 17709   42.00125   37  138   31.00000   47.05464  51.8%   105  295s\n"
     ]
    },
    {
     "name": "stdout",
     "output_type": "stream",
     "text": [
      " 46910 17710   40.67373   35  141   31.00000   47.04974  51.8%   105  300s\n"
     ]
    },
    {
     "name": "stderr",
     "output_type": "stream",
     "text": [
      "2024-08-22 18:35:59 (INFO):  46910 17710   40.67373   35  141   31.00000   47.04974  51.8%   105  300s\n"
     ]
    },
    {
     "name": "stdout",
     "output_type": "stream",
     "text": [
      " 46912 17712   37.31776   36  140   31.00000   46.82158  51.0%   105  306s\n"
     ]
    },
    {
     "name": "stderr",
     "output_type": "stream",
     "text": [
      "2024-08-22 18:36:05 (INFO):  46912 17712   37.31776   36  140   31.00000   46.82158  51.0%   105  306s\n"
     ]
    },
    {
     "name": "stdout",
     "output_type": "stream",
     "text": [
      " 46914 17713   44.36278   29  137   31.00000   46.69486  50.6%   105  310s\n"
     ]
    },
    {
     "name": "stderr",
     "output_type": "stream",
     "text": [
      "2024-08-22 18:36:09 (INFO):  46914 17713   44.36278   29  137   31.00000   46.69486  50.6%   105  310s\n"
     ]
    },
    {
     "name": "stdout",
     "output_type": "stream",
     "text": [
      " 46917 17715   45.33969   30  141   31.00000   46.59634  50.3%   105  316s\n"
     ]
    },
    {
     "name": "stderr",
     "output_type": "stream",
     "text": [
      "2024-08-22 18:36:15 (INFO):  46917 17715   45.33969   30  141   31.00000   46.59634  50.3%   105  316s\n"
     ]
    },
    {
     "name": "stdout",
     "output_type": "stream",
     "text": [
      " 46919 17716   34.95500   31  142   31.00000   46.57182  50.2%   105  320s\n"
     ]
    },
    {
     "name": "stderr",
     "output_type": "stream",
     "text": [
      "2024-08-22 18:36:19 (INFO):  46919 17716   34.95500   31  142   31.00000   46.57182  50.2%   105  320s\n"
     ]
    },
    {
     "name": "stdout",
     "output_type": "stream",
     "text": [
      " 46922 17718   34.69003   38  144   31.00000   46.55150  50.2%   105  325s\n"
     ]
    },
    {
     "name": "stderr",
     "output_type": "stream",
     "text": [
      "2024-08-22 18:36:25 (INFO):  46922 17718   34.69003   38  144   31.00000   46.55150  50.2%   105  325s\n"
     ]
    },
    {
     "name": "stdout",
     "output_type": "stream",
     "text": [
      " 46925 17720   44.29102   34  132   31.00000   46.47412  49.9%   105  331s\n"
     ]
    },
    {
     "name": "stderr",
     "output_type": "stream",
     "text": [
      "2024-08-22 18:36:30 (INFO):  46925 17720   44.29102   34  132   31.00000   46.47412  49.9%   105  331s\n"
     ]
    },
    {
     "name": "stdout",
     "output_type": "stream",
     "text": [
      " 46927 17722   46.11496   28  138   31.00000   46.37467  49.6%   105  335s\n"
     ]
    },
    {
     "name": "stderr",
     "output_type": "stream",
     "text": [
      "2024-08-22 18:36:34 (INFO):  46927 17722   46.11496   28  138   31.00000   46.37467  49.6%   105  335s\n"
     ]
    },
    {
     "name": "stdout",
     "output_type": "stream",
     "text": [
      " 46930 17724   37.86443   44  142   31.00000   46.34322  49.5%   105  340s\n"
     ]
    },
    {
     "name": "stderr",
     "output_type": "stream",
     "text": [
      "2024-08-22 18:36:40 (INFO):  46930 17724   37.86443   44  142   31.00000   46.34322  49.5%   105  340s\n"
     ]
    },
    {
     "name": "stdout",
     "output_type": "stream",
     "text": [
      " 46933 17726   38.44158   39  142   31.00000   46.28102  49.3%   105  346s\n"
     ]
    },
    {
     "name": "stderr",
     "output_type": "stream",
     "text": [
      "2024-08-22 18:36:45 (INFO):  46933 17726   38.44158   39  142   31.00000   46.28102  49.3%   105  346s\n"
     ]
    },
    {
     "name": "stdout",
     "output_type": "stream",
     "text": [
      " 46935 17727   39.79681   35  145   31.00000   46.27469  49.3%   105  350s\n"
     ]
    },
    {
     "name": "stderr",
     "output_type": "stream",
     "text": [
      "2024-08-22 18:36:49 (INFO):  46935 17727   39.79681   35  145   31.00000   46.27469  49.3%   105  350s\n"
     ]
    },
    {
     "name": "stdout",
     "output_type": "stream",
     "text": [
      " 46938 17729   38.73881   39  145   31.00000   46.26277  49.2%   105  355s\n"
     ]
    },
    {
     "name": "stderr",
     "output_type": "stream",
     "text": [
      "2024-08-22 18:36:54 (INFO):  46938 17729   38.73881   39  145   31.00000   46.26277  49.2%   105  355s\n"
     ]
    },
    {
     "name": "stdout",
     "output_type": "stream",
     "text": [
      " 46941 17731   40.99358   33  137   31.00000   46.18454  49.0%   105  361s\n"
     ]
    },
    {
     "name": "stderr",
     "output_type": "stream",
     "text": [
      "2024-08-22 18:37:00 (INFO):  46941 17731   40.99358   33  137   31.00000   46.18454  49.0%   105  361s\n"
     ]
    },
    {
     "name": "stdout",
     "output_type": "stream",
     "text": [
      " 46943 17732   39.41821   36  141   31.00000   46.16218  48.9%   105  365s\n"
     ]
    },
    {
     "name": "stderr",
     "output_type": "stream",
     "text": [
      "2024-08-22 18:37:04 (INFO):  46943 17732   39.41821   36  141   31.00000   46.16218  48.9%   105  365s\n"
     ]
    },
    {
     "name": "stdout",
     "output_type": "stream",
     "text": [
      " 46946 17734   44.79815   32  144   31.00000   46.15050  48.9%   105  371s\n"
     ]
    },
    {
     "name": "stderr",
     "output_type": "stream",
     "text": [
      "2024-08-22 18:37:10 (INFO):  46946 17734   44.79815   32  144   31.00000   46.15050  48.9%   105  371s\n"
     ]
    },
    {
     "name": "stdout",
     "output_type": "stream",
     "text": [
      " 46948 17736   42.87803   34  137   31.00000   46.14086  48.8%   105  375s\n"
     ]
    },
    {
     "name": "stderr",
     "output_type": "stream",
     "text": [
      "2024-08-22 18:37:14 (INFO):  46948 17736   42.87803   34  137   31.00000   46.14086  48.8%   105  375s\n"
     ]
    },
    {
     "name": "stdout",
     "output_type": "stream",
     "text": [
      " 46951 17738   38.46845   36  139   31.00000   46.11272  48.8%   105  380s\n"
     ]
    },
    {
     "name": "stderr",
     "output_type": "stream",
     "text": [
      "2024-08-22 18:37:19 (INFO):  46951 17738   38.46845   36  139   31.00000   46.11272  48.8%   105  380s\n"
     ]
    },
    {
     "name": "stdout",
     "output_type": "stream",
     "text": [
      " 46954 17740   46.09663   25  140   31.00000   46.09663  48.7%   105  386s\n"
     ]
    },
    {
     "name": "stderr",
     "output_type": "stream",
     "text": [
      "2024-08-22 18:37:25 (INFO):  46954 17740   46.09663   25  140   31.00000   46.09663  48.7%   105  386s\n"
     ]
    },
    {
     "name": "stdout",
     "output_type": "stream",
     "text": [
      " 46957 17742   41.77059   32  141   31.00000   46.09492  48.7%   105  391s\n"
     ]
    },
    {
     "name": "stderr",
     "output_type": "stream",
     "text": [
      "2024-08-22 18:37:30 (INFO):  46957 17742   41.77059   32  141   31.00000   46.09492  48.7%   105  391s\n"
     ]
    },
    {
     "name": "stdout",
     "output_type": "stream",
     "text": [
      " 46960 17744   36.97057   39  139   31.00000   46.09213  48.7%   105  396s\n"
     ]
    },
    {
     "name": "stderr",
     "output_type": "stream",
     "text": [
      "2024-08-22 18:37:35 (INFO):  46960 17744   36.97057   39  139   31.00000   46.09213  48.7%   105  396s\n"
     ]
    },
    {
     "name": "stdout",
     "output_type": "stream",
     "text": [
      " 46963 17746   36.31214   40  142   31.00000   46.09047  48.7%   105  401s\n"
     ]
    },
    {
     "name": "stderr",
     "output_type": "stream",
     "text": [
      "2024-08-22 18:37:40 (INFO):  46963 17746   36.31214   40  142   31.00000   46.09047  48.7%   105  401s\n"
     ]
    },
    {
     "name": "stdout",
     "output_type": "stream",
     "text": [
      " 46965 17747   40.58212   33  143   31.00000   46.09013  48.7%   105  405s\n"
     ]
    },
    {
     "name": "stderr",
     "output_type": "stream",
     "text": [
      "2024-08-22 18:37:44 (INFO):  46965 17747   40.58212   33  143   31.00000   46.09013  48.7%   105  405s\n"
     ]
    },
    {
     "name": "stdout",
     "output_type": "stream",
     "text": [
      " 46968 17749   42.24251   28  142   31.00000   46.08875  48.7%   105  410s\n"
     ]
    },
    {
     "name": "stderr",
     "output_type": "stream",
     "text": [
      "2024-08-22 18:37:49 (INFO):  46968 17749   42.24251   28  142   31.00000   46.08875  48.7%   105  410s\n"
     ]
    },
    {
     "name": "stdout",
     "output_type": "stream",
     "text": [
      " 46971 17751   41.06536   35  143   31.00000   46.08529  48.7%   105  415s\n"
     ]
    },
    {
     "name": "stderr",
     "output_type": "stream",
     "text": [
      "2024-08-22 18:37:54 (INFO):  46971 17751   41.06536   35  143   31.00000   46.08529  48.7%   105  415s\n"
     ]
    },
    {
     "name": "stdout",
     "output_type": "stream",
     "text": [
      " 46974 17753   36.27695   40  145   31.00000   46.08213  48.7%   105  420s\n"
     ]
    },
    {
     "name": "stderr",
     "output_type": "stream",
     "text": [
      "2024-08-22 18:37:59 (INFO):  46974 17753   36.27695   40  145   31.00000   46.08213  48.7%   105  420s\n"
     ]
    },
    {
     "name": "stdout",
     "output_type": "stream",
     "text": [
      " 46977 17755   40.84350   34  145   31.00000   46.08150  48.6%   105  425s\n"
     ]
    },
    {
     "name": "stderr",
     "output_type": "stream",
     "text": [
      "2024-08-22 18:38:04 (INFO):  46977 17755   40.84350   34  145   31.00000   46.08150  48.6%   105  425s\n"
     ]
    },
    {
     "name": "stdout",
     "output_type": "stream",
     "text": [
      " 46980 17757   37.86341   39  140   31.00000   46.07901  48.6%   105  430s\n"
     ]
    },
    {
     "name": "stderr",
     "output_type": "stream",
     "text": [
      "2024-08-22 18:38:10 (INFO):  46980 17757   37.86341   39  140   31.00000   46.07901  48.6%   105  430s\n"
     ]
    },
    {
     "name": "stdout",
     "output_type": "stream",
     "text": [
      " 46983 17759   34.90027   44  142   31.00000   46.07795  48.6%   105  436s\n"
     ]
    },
    {
     "name": "stderr",
     "output_type": "stream",
     "text": [
      "2024-08-22 18:38:15 (INFO):  46983 17759   34.90027   44  142   31.00000   46.07795  48.6%   105  436s\n"
     ]
    },
    {
     "name": "stdout",
     "output_type": "stream",
     "text": [
      " 46986 17761   38.81803   36  143   31.00000   46.06878  48.6%   105  441s\n"
     ]
    },
    {
     "name": "stderr",
     "output_type": "stream",
     "text": [
      "2024-08-22 18:38:20 (INFO):  46986 17761   38.81803   36  143   31.00000   46.06878  48.6%   105  441s\n"
     ]
    },
    {
     "name": "stdout",
     "output_type": "stream",
     "text": [
      " 46988 17762   45.98820   28  144   31.00000   46.06505  48.6%   105  445s\n"
     ]
    },
    {
     "name": "stderr",
     "output_type": "stream",
     "text": [
      "2024-08-22 18:38:24 (INFO):  46988 17762   45.98820   28  144   31.00000   46.06505  48.6%   105  445s\n"
     ]
    },
    {
     "name": "stdout",
     "output_type": "stream",
     "text": [
      " 46991 17764   33.89476   45  146   31.00000   46.06165  48.6%   105  450s\n"
     ]
    },
    {
     "name": "stderr",
     "output_type": "stream",
     "text": [
      "2024-08-22 18:38:29 (INFO):  46991 17764   33.89476   45  146   31.00000   46.06165  48.6%   105  450s\n"
     ]
    },
    {
     "name": "stdout",
     "output_type": "stream",
     "text": [
      " 46994 17766   37.81913   39  146   31.00000   46.05745  48.6%   105  455s\n"
     ]
    },
    {
     "name": "stderr",
     "output_type": "stream",
     "text": [
      "2024-08-22 18:38:34 (INFO):  46994 17766   37.81913   39  146   31.00000   46.05745  48.6%   105  455s\n"
     ]
    },
    {
     "name": "stdout",
     "output_type": "stream",
     "text": [
      " 46997 17768   45.95684   29  147   31.00000   46.05554  48.6%   105  460s\n"
     ]
    },
    {
     "name": "stderr",
     "output_type": "stream",
     "text": [
      "2024-08-22 18:38:39 (INFO):  46997 17768   45.95684   29  147   31.00000   46.05554  48.6%   105  460s\n"
     ]
    },
    {
     "name": "stdout",
     "output_type": "stream",
     "text": [
      " 47000 17770   46.05376   25  145   31.00000   46.05376  48.6%   105  465s\n"
     ]
    },
    {
     "name": "stderr",
     "output_type": "stream",
     "text": [
      "2024-08-22 18:38:44 (INFO):  47000 17770   46.05376   25  145   31.00000   46.05376  48.6%   105  465s\n"
     ]
    },
    {
     "name": "stdout",
     "output_type": "stream",
     "text": [
      " 47003 17772   38.07660   38  143   31.00000   46.05291  48.6%   105  470s\n"
     ]
    },
    {
     "name": "stderr",
     "output_type": "stream",
     "text": [
      "2024-08-22 18:38:49 (INFO):  47003 17772   38.07660   38  143   31.00000   46.05291  48.6%   105  470s\n"
     ]
    },
    {
     "name": "stdout",
     "output_type": "stream",
     "text": [
      " 47006 17774   44.07448   32  144   31.00000   46.05118  48.6%   105  475s\n"
     ]
    },
    {
     "name": "stderr",
     "output_type": "stream",
     "text": [
      "2024-08-22 18:38:54 (INFO):  47006 17774   44.07448   32  144   31.00000   46.05118  48.6%   105  475s\n"
     ]
    },
    {
     "name": "stdout",
     "output_type": "stream",
     "text": [
      " 47009 17776   39.74875   37  146   31.00000   46.04983  48.5%   105  480s\n"
     ]
    },
    {
     "name": "stderr",
     "output_type": "stream",
     "text": [
      "2024-08-22 18:38:59 (INFO):  47009 17776   39.74875   37  146   31.00000   46.04983  48.5%   105  480s\n"
     ]
    },
    {
     "name": "stdout",
     "output_type": "stream",
     "text": [
      " 47012 17778   37.31776   36  144   31.00000   46.03978  48.5%   105  485s\n"
     ]
    },
    {
     "name": "stderr",
     "output_type": "stream",
     "text": [
      "2024-08-22 18:39:04 (INFO):  47012 17778   37.31776   36  144   31.00000   46.03978  48.5%   105  485s\n"
     ]
    },
    {
     "name": "stdout",
     "output_type": "stream",
     "text": [
      " 47015 17780   44.89008   31  149   31.00000   46.03438  48.5%   105  491s\n"
     ]
    },
    {
     "name": "stderr",
     "output_type": "stream",
     "text": [
      "2024-08-22 18:39:10 (INFO):  47015 17780   44.89008   31  149   31.00000   46.03438  48.5%   105  491s\n"
     ]
    },
    {
     "name": "stdout",
     "output_type": "stream",
     "text": [
      " 47018 17782   44.41064   28  147   31.00000   46.02848  48.5%   105  495s\n"
     ]
    },
    {
     "name": "stderr",
     "output_type": "stream",
     "text": [
      "2024-08-22 18:39:14 (INFO):  47018 17782   44.41064   28  147   31.00000   46.02848  48.5%   105  495s\n"
     ]
    },
    {
     "name": "stdout",
     "output_type": "stream",
     "text": [
      " 47021 17784   45.74583   26  145   31.00000   46.02542  48.5%   105  500s\n"
     ]
    },
    {
     "name": "stderr",
     "output_type": "stream",
     "text": [
      "2024-08-22 18:39:19 (INFO):  47021 17784   45.74583   26  145   31.00000   46.02542  48.5%   105  500s\n"
     ]
    },
    {
     "name": "stdout",
     "output_type": "stream",
     "text": [
      " 47024 17786   45.69126   24  146   31.00000   46.02411  48.5%   105  505s\n"
     ]
    },
    {
     "name": "stderr",
     "output_type": "stream",
     "text": [
      "2024-08-22 18:39:24 (INFO):  47024 17786   45.69126   24  146   31.00000   46.02411  48.5%   105  505s\n"
     ]
    },
    {
     "name": "stdout",
     "output_type": "stream",
     "text": [
      " 47027 17788   46.01954   28  146   31.00000   46.01954  48.5%   105  510s\n"
     ]
    },
    {
     "name": "stderr",
     "output_type": "stream",
     "text": [
      "2024-08-22 18:39:30 (INFO):  47027 17788   46.01954   28  146   31.00000   46.01954  48.5%   105  510s\n"
     ]
    },
    {
     "name": "stdout",
     "output_type": "stream",
     "text": [
      " 47030 17790   37.86443   44  146   31.00000   46.01458  48.4%   105  516s\n"
     ]
    },
    {
     "name": "stderr",
     "output_type": "stream",
     "text": [
      "2024-08-22 18:39:35 (INFO):  47030 17790   37.86443   44  146   31.00000   46.01458  48.4%   105  516s\n"
     ]
    },
    {
     "name": "stdout",
     "output_type": "stream",
     "text": [
      " 47033 17792   38.44158   39  145   31.00000   46.01441  48.4%   105  521s\n"
     ]
    },
    {
     "name": "stderr",
     "output_type": "stream",
     "text": [
      "2024-08-22 18:39:40 (INFO):  47033 17792   38.44158   39  145   31.00000   46.01441  48.4%   105  521s\n"
     ]
    },
    {
     "name": "stdout",
     "output_type": "stream",
     "text": [
      " 47035 17794   39.79681   35  145   31.00000   46.01439  48.4%   105  526s\n"
     ]
    },
    {
     "name": "stderr",
     "output_type": "stream",
     "text": [
      "2024-08-22 18:39:45 (INFO):  47035 17794   39.79681   35  145   31.00000   46.01439  48.4%   105  526s\n"
     ]
    },
    {
     "name": "stdout",
     "output_type": "stream",
     "text": [
      " 47037 17795   42.52943   33  146   31.00000   46.01439  48.4%   105  530s\n"
     ]
    },
    {
     "name": "stderr",
     "output_type": "stream",
     "text": [
      "2024-08-22 18:39:49 (INFO):  47037 17795   42.52943   33  146   31.00000   46.01439  48.4%   105  530s\n"
     ]
    },
    {
     "name": "stdout",
     "output_type": "stream",
     "text": [
      " 47039 17796   40.48425   40  146   31.00000   46.01439  48.4%   105  535s\n"
     ]
    },
    {
     "name": "stderr",
     "output_type": "stream",
     "text": [
      "2024-08-22 18:39:54 (INFO):  47039 17796   40.48425   40  146   31.00000   46.01439  48.4%   105  535s\n"
     ]
    },
    {
     "name": "stdout",
     "output_type": "stream",
     "text": [
      " 47054 17823   43.62342   26  131   31.00000   44.87700  44.8%   106  540s\n"
     ]
    },
    {
     "name": "stderr",
     "output_type": "stream",
     "text": [
      "2024-08-22 18:39:59 (INFO):  47054 17823   43.62342   26  131   31.00000   44.87700  44.8%   106  540s\n"
     ]
    },
    {
     "name": "stdout",
     "output_type": "stream",
     "text": [
      " 47110 17865   42.34432   28  128   31.00000   44.68407  44.1%   107  545s\n"
     ]
    },
    {
     "name": "stderr",
     "output_type": "stream",
     "text": [
      "2024-08-22 18:40:04 (INFO):  47110 17865   42.34432   28  128   31.00000   44.68407  44.1%   107  545s\n"
     ]
    },
    {
     "name": "stdout",
     "output_type": "stream",
     "text": [
      " 47190 17918   40.30405   30  118   31.00000   44.68407  44.1%   108  550s\n"
     ]
    },
    {
     "name": "stderr",
     "output_type": "stream",
     "text": [
      "2024-08-22 18:40:09 (INFO):  47190 17918   40.30405   30  118   31.00000   44.68407  44.1%   108  550s\n"
     ]
    },
    {
     "name": "stdout",
     "output_type": "stream",
     "text": [
      " 47333 18006   38.57553   33  109   31.00000   44.68407  44.1%   109  555s\n"
     ]
    },
    {
     "name": "stderr",
     "output_type": "stream",
     "text": [
      "2024-08-22 18:40:15 (INFO):  47333 18006   38.57553   33  109   31.00000   44.68407  44.1%   109  555s\n"
     ]
    },
    {
     "name": "stdout",
     "output_type": "stream",
     "text": [
      " 47492 18050   37.23248   36  104   31.00000   44.68407  44.1%   110  560s\n"
     ]
    },
    {
     "name": "stderr",
     "output_type": "stream",
     "text": [
      "2024-08-22 18:40:19 (INFO):  47492 18050   37.23248   36  104   31.00000   44.68407  44.1%   110  560s\n"
     ]
    },
    {
     "name": "stdout",
     "output_type": "stream",
     "text": [
      " 47650 18074   34.59744   38  112   31.00000   44.68407  44.1%   111  566s\n"
     ]
    },
    {
     "name": "stderr",
     "output_type": "stream",
     "text": [
      "2024-08-22 18:40:25 (INFO):  47650 18074   34.59744   38  112   31.00000   44.68407  44.1%   111  566s\n"
     ]
    },
    {
     "name": "stdout",
     "output_type": "stream",
     "text": [
      " 47843 18065   34.52054   41   99   31.00000   44.68407  44.1%   113  570s\n"
     ]
    },
    {
     "name": "stderr",
     "output_type": "stream",
     "text": [
      "2024-08-22 18:40:29 (INFO):  47843 18065   34.52054   41   99   31.00000   44.68407  44.1%   113  570s\n"
     ]
    },
    {
     "name": "stdout",
     "output_type": "stream",
     "text": [
      " 48051 18092   33.90814   44   91   31.00000   44.68407  44.1%   114  575s\n"
     ]
    },
    {
     "name": "stderr",
     "output_type": "stream",
     "text": [
      "2024-08-22 18:40:34 (INFO):  48051 18092   33.90814   44   91   31.00000   44.68407  44.1%   114  575s\n"
     ]
    },
    {
     "name": "stdout",
     "output_type": "stream",
     "text": [
      " 48254 18093 infeasible   47        31.00000   43.74016  41.1%   116  591s\n"
     ]
    },
    {
     "name": "stderr",
     "output_type": "stream",
     "text": [
      "2024-08-22 18:40:50 (INFO):  48254 18093 infeasible   47        31.00000   43.74016  41.1%   116  591s\n"
     ]
    },
    {
     "name": "stdout",
     "output_type": "stream",
     "text": [
      " 48548 18209   37.89960   41  110   31.00000   43.74016  41.1%   117  596s\n"
     ]
    },
    {
     "name": "stderr",
     "output_type": "stream",
     "text": [
      "2024-08-22 18:40:56 (INFO):  48548 18209   37.89960   41  110   31.00000   43.74016  41.1%   117  596s\n"
     ]
    },
    {
     "name": "stdout",
     "output_type": "stream",
     "text": [
      " 48803 18187   33.39972   51   96   31.00000   43.74016  41.1%   119  601s\n"
     ]
    },
    {
     "name": "stderr",
     "output_type": "stream",
     "text": [
      "2024-08-22 18:41:01 (INFO):  48803 18187   33.39972   51   96   31.00000   43.74016  41.1%   119  601s\n"
     ]
    },
    {
     "name": "stdout",
     "output_type": "stream",
     "text": [
      " 49067 18186   37.97271   31  127   31.00000   43.15890  39.2%   121  607s\n"
     ]
    },
    {
     "name": "stderr",
     "output_type": "stream",
     "text": [
      "2024-08-22 18:41:06 (INFO):  49067 18186   37.97271   31  127   31.00000   43.15890  39.2%   121  607s\n"
     ]
    },
    {
     "name": "stdout",
     "output_type": "stream",
     "text": [
      " 49339 18151   37.57159   34  120   31.00000   43.15890  39.2%   122  613s\n"
     ]
    },
    {
     "name": "stderr",
     "output_type": "stream",
     "text": [
      "2024-08-22 18:41:12 (INFO):  49339 18151   37.57159   34  120   31.00000   43.15890  39.2%   122  613s\n"
     ]
    },
    {
     "name": "stdout",
     "output_type": "stream",
     "text": [
      " 49408 18186   37.45254   35  119   31.00000   43.15890  39.2%   123  616s\n"
     ]
    },
    {
     "name": "stderr",
     "output_type": "stream",
     "text": [
      "2024-08-22 18:41:15 (INFO):  49408 18186   37.45254   35  119   31.00000   43.15890  39.2%   123  616s\n"
     ]
    },
    {
     "name": "stdout",
     "output_type": "stream",
     "text": [
      " 49736 18130     cutoff   48        31.00000   42.18611  36.1%   125  621s\n"
     ]
    },
    {
     "name": "stderr",
     "output_type": "stream",
     "text": [
      "2024-08-22 18:41:20 (INFO):  49736 18130     cutoff   48        31.00000   42.18611  36.1%   125  621s\n"
     ]
    },
    {
     "name": "stdout",
     "output_type": "stream",
     "text": [
      " 49886 18122   32.92959   42  111   31.00000   42.18611  36.1%   126  627s\n"
     ]
    },
    {
     "name": "stderr",
     "output_type": "stream",
     "text": [
      "2024-08-22 18:41:26 (INFO):  49886 18122   32.92959   42  111   31.00000   42.18611  36.1%   126  627s\n"
     ]
    },
    {
     "name": "stdout",
     "output_type": "stream",
     "text": [
      " 50032 18128     cutoff   43        31.00000   42.07384  35.7%   127  630s\n"
     ]
    },
    {
     "name": "stderr",
     "output_type": "stream",
     "text": [
      "2024-08-22 18:41:29 (INFO):  50032 18128     cutoff   43        31.00000   42.07384  35.7%   127  630s\n"
     ]
    },
    {
     "name": "stdout",
     "output_type": "stream",
     "text": [
      " 50408 18098 infeasible   41        31.00000   41.92316  35.2%   130  636s\n"
     ]
    },
    {
     "name": "stderr",
     "output_type": "stream",
     "text": [
      "2024-08-22 18:41:35 (INFO):  50408 18098 infeasible   41        31.00000   41.92316  35.2%   130  636s\n"
     ]
    },
    {
     "name": "stdout",
     "output_type": "stream",
     "text": [
      " 50811 18073 infeasible   40        31.00000   41.89422  35.1%   132  642s\n"
     ]
    },
    {
     "name": "stderr",
     "output_type": "stream",
     "text": [
      "2024-08-22 18:41:42 (INFO):  50811 18073 infeasible   40        31.00000   41.89422  35.1%   132  642s\n"
     ]
    },
    {
     "name": "stdout",
     "output_type": "stream",
     "text": [
      " 50972 18069   38.11380   32  133   31.00000   41.70402  34.5%   134  646s\n"
     ]
    },
    {
     "name": "stderr",
     "output_type": "stream",
     "text": [
      "2024-08-22 18:41:45 (INFO):  50972 18069   38.11380   32  133   31.00000   41.70402  34.5%   134  646s\n"
     ]
    },
    {
     "name": "stdout",
     "output_type": "stream",
     "text": [
      " 51391 18037   35.57757   36  115   31.00000   41.66029  34.4%   136  652s\n"
     ]
    },
    {
     "name": "stderr",
     "output_type": "stream",
     "text": [
      "2024-08-22 18:41:51 (INFO):  51391 18037   35.57757   36  115   31.00000   41.66029  34.4%   136  652s\n"
     ]
    },
    {
     "name": "stdout",
     "output_type": "stream",
     "text": [
      " 51656 17968     cutoff   43        31.00000   41.59915  34.2%   137  656s\n"
     ]
    },
    {
     "name": "stderr",
     "output_type": "stream",
     "text": [
      "2024-08-22 18:41:55 (INFO):  51656 17968     cutoff   43        31.00000   41.59915  34.2%   137  656s\n"
     ]
    },
    {
     "name": "stdout",
     "output_type": "stream",
     "text": [
      " 51854 17942 infeasible   33        31.00000   41.28129  33.2%   139  660s\n"
     ]
    },
    {
     "name": "stderr",
     "output_type": "stream",
     "text": [
      "2024-08-22 18:41:59 (INFO):  51854 17942 infeasible   33        31.00000   41.28129  33.2%   139  660s\n"
     ]
    },
    {
     "name": "stdout",
     "output_type": "stream",
     "text": [
      " 52074 17882   38.92152   37  112   31.00000   41.27930  33.2%   141  669s\n"
     ]
    },
    {
     "name": "stderr",
     "output_type": "stream",
     "text": [
      "2024-08-22 18:42:09 (INFO):  52074 17882   38.92152   37  112   31.00000   41.27930  33.2%   141  669s\n"
     ]
    },
    {
     "name": "stdout",
     "output_type": "stream",
     "text": [
      " 52155 17915   35.19728   45  102   31.00000   41.21273  32.9%   141  674s\n"
     ]
    },
    {
     "name": "stderr",
     "output_type": "stream",
     "text": [
      "2024-08-22 18:42:13 (INFO):  52155 17915   35.19728   45  102   31.00000   41.21273  32.9%   141  674s\n"
     ]
    },
    {
     "name": "stdout",
     "output_type": "stream",
     "text": [
      " 52447 17872   39.22782   36  120   31.00000   41.05191  32.4%   143  678s\n"
     ]
    },
    {
     "name": "stderr",
     "output_type": "stream",
     "text": [
      "2024-08-22 18:42:17 (INFO):  52447 17872   39.22782   36  120   31.00000   41.05191  32.4%   143  678s\n"
     ]
    },
    {
     "name": "stdout",
     "output_type": "stream",
     "text": [
      " 52693 17842 infeasible   35        31.00000   40.91134  32.0%   145  683s\n"
     ]
    },
    {
     "name": "stderr",
     "output_type": "stream",
     "text": [
      "2024-08-22 18:42:22 (INFO):  52693 17842 infeasible   35        31.00000   40.91134  32.0%   145  683s\n"
     ]
    },
    {
     "name": "stdout",
     "output_type": "stream",
     "text": [
      " 52961 17837   38.09341   37   98   31.00000   40.78620  31.6%   147  687s\n"
     ]
    },
    {
     "name": "stderr",
     "output_type": "stream",
     "text": [
      "2024-08-22 18:42:26 (INFO):  52961 17837   38.09341   37   98   31.00000   40.78620  31.6%   147  687s\n"
     ]
    },
    {
     "name": "stdout",
     "output_type": "stream",
     "text": [
      " 53297 17726 infeasible   37        31.00000   40.71258  31.3%   148  692s\n"
     ]
    },
    {
     "name": "stderr",
     "output_type": "stream",
     "text": [
      "2024-08-22 18:42:32 (INFO):  53297 17726 infeasible   37        31.00000   40.71258  31.3%   148  692s\n"
     ]
    },
    {
     "name": "stdout",
     "output_type": "stream",
     "text": [
      " 53508 17706 infeasible   34        31.00000   40.52055  30.7%   150  697s\n"
     ]
    },
    {
     "name": "stderr",
     "output_type": "stream",
     "text": [
      "2024-08-22 18:42:36 (INFO):  53508 17706 infeasible   34        31.00000   40.52055  30.7%   150  697s\n"
     ]
    },
    {
     "name": "stdout",
     "output_type": "stream",
     "text": [
      " 53778 17692 infeasible   42        31.00000   40.40788  30.3%   152  702s\n"
     ]
    },
    {
     "name": "stderr",
     "output_type": "stream",
     "text": [
      "2024-08-22 18:42:41 (INFO):  53778 17692 infeasible   42        31.00000   40.40788  30.3%   152  702s\n"
     ]
    },
    {
     "name": "stdout",
     "output_type": "stream",
     "text": [
      " 54106 17623   37.38203   36  122   31.00000   40.35136  30.2%   154  709s\n"
     ]
    },
    {
     "name": "stderr",
     "output_type": "stream",
     "text": [
      "2024-08-22 18:42:48 (INFO):  54106 17623   37.38203   36  122   31.00000   40.35136  30.2%   154  709s\n"
     ]
    },
    {
     "name": "stdout",
     "output_type": "stream",
     "text": [
      " 54347 17625   38.58584   33  119   31.00000   40.19218  29.7%   156  714s\n"
     ]
    },
    {
     "name": "stderr",
     "output_type": "stream",
     "text": [
      "2024-08-22 18:42:53 (INFO):  54347 17625   38.58584   33  119   31.00000   40.19218  29.7%   156  714s\n"
     ]
    },
    {
     "name": "stdout",
     "output_type": "stream",
     "text": [
      " 54687 17534   36.24679   37  123   31.00000   40.08367  29.3%   158  719s\n"
     ]
    },
    {
     "name": "stderr",
     "output_type": "stream",
     "text": [
      "2024-08-22 18:42:58 (INFO):  54687 17534   36.24679   37  123   31.00000   40.08367  29.3%   158  719s\n"
     ]
    },
    {
     "name": "stdout",
     "output_type": "stream",
     "text": [
      " 55003 17499   36.27085   35  115   31.00000   39.97862  29.0%   160  725s\n"
     ]
    },
    {
     "name": "stderr",
     "output_type": "stream",
     "text": [
      "2024-08-22 18:43:05 (INFO):  55003 17499   36.27085   35  115   31.00000   39.97862  29.0%   160  725s\n"
     ]
    },
    {
     "name": "stdout",
     "output_type": "stream",
     "text": [
      " 55362 17441   38.54779   34  123   31.00000   39.93248  28.8%   162  732s\n"
     ]
    },
    {
     "name": "stderr",
     "output_type": "stream",
     "text": [
      "2024-08-22 18:43:11 (INFO):  55362 17441   38.54779   34  123   31.00000   39.93248  28.8%   162  732s\n"
     ]
    },
    {
     "name": "stdout",
     "output_type": "stream",
     "text": [
      " 55761 17356   37.53726   33  122   31.00000   39.77342  28.3%   165  738s\n"
     ]
    },
    {
     "name": "stderr",
     "output_type": "stream",
     "text": [
      "2024-08-22 18:43:18 (INFO):  55761 17356   37.53726   33  122   31.00000   39.77342  28.3%   165  738s\n"
     ]
    },
    {
     "name": "stdout",
     "output_type": "stream",
     "text": [
      " 56156 17266   36.04419   37  121   31.00000   39.69551  28.1%   167  745s\n"
     ]
    },
    {
     "name": "stderr",
     "output_type": "stream",
     "text": [
      "2024-08-22 18:43:24 (INFO):  56156 17266   36.04419   37  121   31.00000   39.69551  28.1%   167  745s\n"
     ]
    },
    {
     "name": "stdout",
     "output_type": "stream",
     "text": [
      " 56520 17199   36.57442   37  110   31.00000   39.58246  27.7%   169  752s\n"
     ]
    },
    {
     "name": "stderr",
     "output_type": "stream",
     "text": [
      "2024-08-22 18:43:31 (INFO):  56520 17199   36.57442   37  110   31.00000   39.58246  27.7%   169  752s\n"
     ]
    },
    {
     "name": "stdout",
     "output_type": "stream",
     "text": [
      " 56918 17190   38.26247   33  104   31.00000   39.46809  27.3%   172  758s\n"
     ]
    },
    {
     "name": "stderr",
     "output_type": "stream",
     "text": [
      "2024-08-22 18:43:37 (INFO):  56918 17190   38.26247   33  104   31.00000   39.46809  27.3%   172  758s\n"
     ]
    },
    {
     "name": "stdout",
     "output_type": "stream",
     "text": [
      " 57429 17071   32.52382   39  110   31.00000   39.32728  26.9%   174  766s\n"
     ]
    },
    {
     "name": "stderr",
     "output_type": "stream",
     "text": [
      "2024-08-22 18:43:45 (INFO):  57429 17071   32.52382   39  110   31.00000   39.32728  26.9%   174  766s\n"
     ]
    },
    {
     "name": "stdout",
     "output_type": "stream",
     "text": [
      " 57882 16937 infeasible   38        31.00000   39.22873  26.5%   177  774s\n"
     ]
    },
    {
     "name": "stderr",
     "output_type": "stream",
     "text": [
      "2024-08-22 18:43:53 (INFO):  57882 16937 infeasible   38        31.00000   39.22873  26.5%   177  774s\n"
     ]
    },
    {
     "name": "stdout",
     "output_type": "stream",
     "text": [
      " 58271 16835   35.84503   37  104   31.00000   39.12563  26.2%   180  781s\n"
     ]
    },
    {
     "name": "stderr",
     "output_type": "stream",
     "text": [
      "2024-08-22 18:44:00 (INFO):  58271 16835   35.84503   37  104   31.00000   39.12563  26.2%   180  781s\n"
     ]
    },
    {
     "name": "stdout",
     "output_type": "stream",
     "text": [
      " 58700 16756   37.63935   38   99   31.00000   38.98690  25.8%   182  789s\n"
     ]
    },
    {
     "name": "stderr",
     "output_type": "stream",
     "text": [
      "2024-08-22 18:44:08 (INFO):  58700 16756   37.63935   38   99   31.00000   38.98690  25.8%   182  789s\n"
     ]
    },
    {
     "name": "stdout",
     "output_type": "stream",
     "text": [
      " 59178 16625   33.60788   35  119   31.00000   38.87356  25.4%   185  797s\n"
     ]
    },
    {
     "name": "stderr",
     "output_type": "stream",
     "text": [
      "2024-08-22 18:44:16 (INFO):  59178 16625   33.60788   35  119   31.00000   38.87356  25.4%   185  797s\n"
     ]
    },
    {
     "name": "stdout",
     "output_type": "stream",
     "text": [
      " 59640 16496   34.55439   37  118   31.00000   38.76289  25.0%   188  807s\n"
     ]
    },
    {
     "name": "stderr",
     "output_type": "stream",
     "text": [
      "2024-08-22 18:44:26 (INFO):  59640 16496   34.55439   37  118   31.00000   38.76289  25.0%   188  807s\n"
     ]
    },
    {
     "name": "stdout",
     "output_type": "stream",
     "text": [
      " 60082 16369 infeasible   40        31.00000   38.62960  24.6%   191  816s\n"
     ]
    },
    {
     "name": "stderr",
     "output_type": "stream",
     "text": [
      "2024-08-22 18:44:35 (INFO):  60082 16369 infeasible   40        31.00000   38.62960  24.6%   191  816s\n"
     ]
    },
    {
     "name": "stdout",
     "output_type": "stream",
     "text": [
      " 60590 16231   36.37921   37  122   31.00000   38.56572  24.4%   194  827s\n"
     ]
    },
    {
     "name": "stderr",
     "output_type": "stream",
     "text": [
      "2024-08-22 18:44:46 (INFO):  60590 16231   36.37921   37  122   31.00000   38.56572  24.4%   194  827s\n"
     ]
    },
    {
     "name": "stdout",
     "output_type": "stream",
     "text": [
      " 61089 16102   35.18710   37  105   31.00000   38.38270  23.8%   197  836s\n"
     ]
    },
    {
     "name": "stderr",
     "output_type": "stream",
     "text": [
      "2024-08-22 18:44:56 (INFO):  61089 16102   35.18710   37  105   31.00000   38.38270  23.8%   197  836s\n"
     ]
    },
    {
     "name": "stdout",
     "output_type": "stream",
     "text": [
      " 61678 15916   36.76290   37  117   31.00000   38.27363  23.5%   200  847s\n"
     ]
    },
    {
     "name": "stderr",
     "output_type": "stream",
     "text": [
      "2024-08-22 18:45:07 (INFO):  61678 15916   36.76290   37  117   31.00000   38.27363  23.5%   200  847s\n"
     ]
    },
    {
     "name": "stdout",
     "output_type": "stream",
     "text": [
      " 62226 15755   34.06325   40  124   31.00000   38.15726  23.1%   203  859s\n"
     ]
    },
    {
     "name": "stderr",
     "output_type": "stream",
     "text": [
      "2024-08-22 18:45:18 (INFO):  62226 15755   34.06325   40  124   31.00000   38.15726  23.1%   203  859s\n"
     ]
    },
    {
     "name": "stdout",
     "output_type": "stream",
     "text": [
      " 62797 15564 infeasible   38        31.00000   38.03627  22.7%   207  873s\n"
     ]
    },
    {
     "name": "stderr",
     "output_type": "stream",
     "text": [
      "2024-08-22 18:45:32 (INFO):  62797 15564 infeasible   38        31.00000   38.03627  22.7%   207  873s\n"
     ]
    },
    {
     "name": "stdout",
     "output_type": "stream",
     "text": [
      " 63036 15436   32.33594   43   83   31.00000   38.01097  22.6%   208  884s\n"
     ]
    },
    {
     "name": "stderr",
     "output_type": "stream",
     "text": [
      "2024-08-22 18:45:43 (INFO):  63036 15436   32.33594   43   83   31.00000   38.01097  22.6%   208  884s\n"
     ]
    },
    {
     "name": "stdout",
     "output_type": "stream",
     "text": [
      " 63578 15238   35.73214   36  122   31.00000   37.83624  22.1%   212  895s\n"
     ]
    },
    {
     "name": "stderr",
     "output_type": "stream",
     "text": [
      "2024-08-22 18:45:54 (INFO):  63578 15238   35.73214   36  122   31.00000   37.83624  22.1%   212  895s\n"
     ]
    },
    {
     "name": "stdout",
     "output_type": "stream",
     "text": [
      " 64132 15042   36.21002   39  102   31.00000   37.71856  21.7%   215  907s\n"
     ]
    },
    {
     "name": "stderr",
     "output_type": "stream",
     "text": [
      "2024-08-22 18:46:07 (INFO):  64132 15042   36.21002   39  102   31.00000   37.71856  21.7%   215  907s\n"
     ]
    },
    {
     "name": "stdout",
     "output_type": "stream",
     "text": [
      " 64829 14799   36.22191   38  116   31.00000   37.55508  21.1%   219  922s\n"
     ]
    },
    {
     "name": "stderr",
     "output_type": "stream",
     "text": [
      "2024-08-22 18:46:22 (INFO):  64829 14799   36.22191   38  116   31.00000   37.55508  21.1%   219  922s\n"
     ]
    },
    {
     "name": "stdout",
     "output_type": "stream",
     "text": [
      " 65464 14630   33.40502   37  116   31.00000   37.33764  20.4%   223  936s\n"
     ]
    },
    {
     "name": "stderr",
     "output_type": "stream",
     "text": [
      "2024-08-22 18:46:35 (INFO):  65464 14630   33.40502   37  116   31.00000   37.33764  20.4%   223  936s\n"
     ]
    },
    {
     "name": "stdout",
     "output_type": "stream",
     "text": [
      " 66274 14344   35.14143   40   98   31.00000   37.13763  19.8%   227  948s\n"
     ]
    },
    {
     "name": "stderr",
     "output_type": "stream",
     "text": [
      "2024-08-22 18:46:48 (INFO):  66274 14344   35.14143   40   98   31.00000   37.13763  19.8%   227  948s\n"
     ]
    },
    {
     "name": "stdout",
     "output_type": "stream",
     "text": [
      " 67058 14031 infeasible   39        31.00000   36.95612  19.2%   231  964s\n"
     ]
    },
    {
     "name": "stderr",
     "output_type": "stream",
     "text": [
      "2024-08-22 18:47:04 (INFO):  67058 14031 infeasible   39        31.00000   36.95612  19.2%   231  964s\n"
     ]
    },
    {
     "name": "stdout",
     "output_type": "stream",
     "text": [
      " 67668 13752     cutoff   42        31.00000   36.78083  18.6%   235  987s\n"
     ]
    },
    {
     "name": "stderr",
     "output_type": "stream",
     "text": [
      "2024-08-22 18:47:26 (INFO):  67668 13752     cutoff   42        31.00000   36.78083  18.6%   235  987s\n"
     ]
    },
    {
     "name": "stdout",
     "output_type": "stream",
     "text": [
      " 68408 13460 infeasible   36        31.00000   36.60100  18.1%   239 1004s\n"
     ]
    },
    {
     "name": "stderr",
     "output_type": "stream",
     "text": [
      "2024-08-22 18:47:43 (INFO):  68408 13460 infeasible   36        31.00000   36.60100  18.1%   239 1004s\n"
     ]
    },
    {
     "name": "stdout",
     "output_type": "stream",
     "text": [
      " 69228 13091 infeasible   33        31.00000   36.40040  17.4%   244 1022s\n"
     ]
    },
    {
     "name": "stderr",
     "output_type": "stream",
     "text": [
      "2024-08-22 18:48:01 (INFO):  69228 13091 infeasible   33        31.00000   36.40040  17.4%   244 1022s\n"
     ]
    },
    {
     "name": "stdout",
     "output_type": "stream",
     "text": [
      " 69946 12719 infeasible   43        31.00000   36.17446  16.7%   248 1040s\n"
     ]
    },
    {
     "name": "stderr",
     "output_type": "stream",
     "text": [
      "2024-08-22 18:48:19 (INFO):  69946 12719 infeasible   43        31.00000   36.17446  16.7%   248 1040s\n"
     ]
    },
    {
     "name": "stdout",
     "output_type": "stream",
     "text": [
      " 70656 12371   32.27443   42  110   31.00000   36.01615  16.2%   253 1064s\n"
     ]
    },
    {
     "name": "stderr",
     "output_type": "stream",
     "text": [
      "2024-08-22 18:48:43 (INFO):  70656 12371   32.27443   42  110   31.00000   36.01615  16.2%   253 1064s\n"
     ]
    },
    {
     "name": "stdout",
     "output_type": "stream",
     "text": [
      " 71319 12005   34.12561   45   98   31.00000   35.79029  15.5%   258 1084s\n"
     ]
    },
    {
     "name": "stderr",
     "output_type": "stream",
     "text": [
      "2024-08-22 18:49:03 (INFO):  71319 12005   34.12561   45   98   31.00000   35.79029  15.5%   258 1084s\n"
     ]
    },
    {
     "name": "stdout",
     "output_type": "stream",
     "text": [
      " 72224 11482 infeasible   37        31.00000   35.59682  14.8%   263 1107s\n"
     ]
    },
    {
     "name": "stderr",
     "output_type": "stream",
     "text": [
      "2024-08-22 18:49:26 (INFO):  72224 11482 infeasible   37        31.00000   35.59682  14.8%   263 1107s\n"
     ]
    },
    {
     "name": "stdout",
     "output_type": "stream",
     "text": [
      " 72968 11026 infeasible   42        31.00000   35.35440  14.0%   268 1131s\n"
     ]
    },
    {
     "name": "stderr",
     "output_type": "stream",
     "text": [
      "2024-08-22 18:49:51 (INFO):  72968 11026 infeasible   42        31.00000   35.35440  14.0%   268 1131s\n"
     ]
    },
    {
     "name": "stdout",
     "output_type": "stream",
     "text": [
      " 73775 10525   33.79021   42   83   31.00000   35.18255  13.5%   274 1164s\n"
     ]
    },
    {
     "name": "stderr",
     "output_type": "stream",
     "text": [
      "2024-08-22 18:50:24 (INFO):  73775 10525   33.79021   42   83   31.00000   35.18255  13.5%   274 1164s\n"
     ]
    },
    {
     "name": "stdout",
     "output_type": "stream",
     "text": [
      " 73893 10486 infeasible   43        31.00000   35.16166  13.4%   274 1165s\n"
     ]
    },
    {
     "name": "stderr",
     "output_type": "stream",
     "text": [
      "2024-08-22 18:50:24 (INFO):  73893 10486 infeasible   43        31.00000   35.16166  13.4%   274 1165s\n"
     ]
    },
    {
     "name": "stdout",
     "output_type": "stream",
     "text": [
      " 74554  9972 infeasible   42        31.00000   34.89023  12.5%   279 1194s\n"
     ]
    },
    {
     "name": "stderr",
     "output_type": "stream",
     "text": [
      "2024-08-22 18:50:53 (INFO):  74554  9972 infeasible   42        31.00000   34.89023  12.5%   279 1194s\n"
     ]
    },
    {
     "name": "stdout",
     "output_type": "stream",
     "text": [
      " 75367  9359 infeasible   44        31.00000   34.59605  11.6%   285 1226s\n"
     ]
    },
    {
     "name": "stderr",
     "output_type": "stream",
     "text": [
      "2024-08-22 18:51:25 (INFO):  75367  9359 infeasible   44        31.00000   34.59605  11.6%   285 1226s\n"
     ]
    },
    {
     "name": "stdout",
     "output_type": "stream",
     "text": [
      " 76264  8685 infeasible   40        31.00000   34.40551  11.0%   292 1256s\n"
     ]
    },
    {
     "name": "stderr",
     "output_type": "stream",
     "text": [
      "2024-08-22 18:51:55 (INFO):  76264  8685 infeasible   40        31.00000   34.40551  11.0%   292 1256s\n"
     ]
    },
    {
     "name": "stdout",
     "output_type": "stream",
     "text": [
      " 77100  7894   32.93541   42   97   31.00000   34.00491  9.69%   299 1291s\n"
     ]
    },
    {
     "name": "stderr",
     "output_type": "stream",
     "text": [
      "2024-08-22 18:52:30 (INFO):  77100  7894   32.93541   42   97   31.00000   34.00491  9.69%   299 1291s\n"
     ]
    },
    {
     "name": "stdout",
     "output_type": "stream",
     "text": [
      " 78084  7448 infeasible   45        31.00000   33.16334  6.98%   305 1307s\n"
     ]
    },
    {
     "name": "stderr",
     "output_type": "stream",
     "text": [
      "2024-08-22 18:52:46 (INFO):  78084  7448 infeasible   45        31.00000   33.16334  6.98%   305 1307s\n"
     ]
    },
    {
     "name": "stdout",
     "output_type": "stream",
     "text": [
      "\n"
     ]
    },
    {
     "name": "stderr",
     "output_type": "stream",
     "text": [
      "2024-08-22 18:52:46 (INFO): \n"
     ]
    },
    {
     "name": "stdout",
     "output_type": "stream",
     "text": [
      "Cutting planes:\n"
     ]
    },
    {
     "name": "stderr",
     "output_type": "stream",
     "text": [
      "2024-08-22 18:52:46 (INFO): Cutting planes:\n"
     ]
    },
    {
     "name": "stdout",
     "output_type": "stream",
     "text": [
      "  Gomory: 107\n"
     ]
    },
    {
     "name": "stderr",
     "output_type": "stream",
     "text": [
      "2024-08-22 18:52:46 (INFO):   Gomory: 107\n"
     ]
    },
    {
     "name": "stdout",
     "output_type": "stream",
     "text": [
      "  Cover: 34\n"
     ]
    },
    {
     "name": "stderr",
     "output_type": "stream",
     "text": [
      "2024-08-22 18:52:46 (INFO):   Cover: 34\n"
     ]
    },
    {
     "name": "stdout",
     "output_type": "stream",
     "text": [
      "  Implied bound: 22\n"
     ]
    },
    {
     "name": "stderr",
     "output_type": "stream",
     "text": [
      "2024-08-22 18:52:46 (INFO):   Implied bound: 22\n"
     ]
    },
    {
     "name": "stdout",
     "output_type": "stream",
     "text": [
      "  Projected implied bound: 3\n"
     ]
    },
    {
     "name": "stderr",
     "output_type": "stream",
     "text": [
      "2024-08-22 18:52:46 (INFO):   Projected implied bound: 3\n"
     ]
    },
    {
     "name": "stdout",
     "output_type": "stream",
     "text": [
      "  MIR: 377\n"
     ]
    },
    {
     "name": "stderr",
     "output_type": "stream",
     "text": [
      "2024-08-22 18:52:46 (INFO):   MIR: 377\n"
     ]
    },
    {
     "name": "stdout",
     "output_type": "stream",
     "text": [
      "  Mixing: 2\n"
     ]
    },
    {
     "name": "stderr",
     "output_type": "stream",
     "text": [
      "2024-08-22 18:52:46 (INFO):   Mixing: 2\n"
     ]
    },
    {
     "name": "stdout",
     "output_type": "stream",
     "text": [
      "  StrongCG: 12\n"
     ]
    },
    {
     "name": "stderr",
     "output_type": "stream",
     "text": [
      "2024-08-22 18:52:46 (INFO):   StrongCG: 12\n"
     ]
    },
    {
     "name": "stdout",
     "output_type": "stream",
     "text": [
      "  Flow cover: 1493\n"
     ]
    },
    {
     "name": "stderr",
     "output_type": "stream",
     "text": [
      "2024-08-22 18:52:46 (INFO):   Flow cover: 1493\n"
     ]
    },
    {
     "name": "stdout",
     "output_type": "stream",
     "text": [
      "  Inf proof: 37\n"
     ]
    },
    {
     "name": "stderr",
     "output_type": "stream",
     "text": [
      "2024-08-22 18:52:46 (INFO):   Inf proof: 37\n"
     ]
    },
    {
     "name": "stdout",
     "output_type": "stream",
     "text": [
      "  RLT: 795\n"
     ]
    },
    {
     "name": "stderr",
     "output_type": "stream",
     "text": [
      "2024-08-22 18:52:46 (INFO):   RLT: 795\n"
     ]
    },
    {
     "name": "stdout",
     "output_type": "stream",
     "text": [
      "  Relax-and-lift: 95\n"
     ]
    },
    {
     "name": "stderr",
     "output_type": "stream",
     "text": [
      "2024-08-22 18:52:46 (INFO):   Relax-and-lift: 95\n"
     ]
    },
    {
     "name": "stdout",
     "output_type": "stream",
     "text": [
      "  BQP: 9\n"
     ]
    },
    {
     "name": "stderr",
     "output_type": "stream",
     "text": [
      "2024-08-22 18:52:46 (INFO):   BQP: 9\n"
     ]
    },
    {
     "name": "stdout",
     "output_type": "stream",
     "text": [
      "\n"
     ]
    },
    {
     "name": "stderr",
     "output_type": "stream",
     "text": [
      "2024-08-22 18:52:46 (INFO): \n"
     ]
    },
    {
     "name": "stdout",
     "output_type": "stream",
     "text": [
      "Explored 78216 nodes (24008055 simplex iterations) in 1307.76 seconds (1662.38 work units)\n"
     ]
    },
    {
     "name": "stderr",
     "output_type": "stream",
     "text": [
      "2024-08-22 18:52:46 (INFO): Explored 78216 nodes (24008055 simplex iterations) in 1307.76 seconds (1662.38 work units)\n"
     ]
    },
    {
     "name": "stdout",
     "output_type": "stream",
     "text": [
      "Thread count was 20 (of 20 available processors)\n"
     ]
    },
    {
     "name": "stderr",
     "output_type": "stream",
     "text": [
      "2024-08-22 18:52:46 (INFO): Thread count was 20 (of 20 available processors)\n"
     ]
    },
    {
     "name": "stdout",
     "output_type": "stream",
     "text": [
      "\n"
     ]
    },
    {
     "name": "stderr",
     "output_type": "stream",
     "text": [
      "2024-08-22 18:52:46 (INFO): \n"
     ]
    },
    {
     "name": "stdout",
     "output_type": "stream",
     "text": [
      "Solution count 10: 31 30 29 ... -0\n"
     ]
    },
    {
     "name": "stderr",
     "output_type": "stream",
     "text": [
      "2024-08-22 18:52:46 (INFO): Solution count 10: 31 30 29 ... -0\n"
     ]
    },
    {
     "name": "stdout",
     "output_type": "stream",
     "text": [
      "\n"
     ]
    },
    {
     "name": "stderr",
     "output_type": "stream",
     "text": [
      "2024-08-22 18:52:46 (INFO): \n"
     ]
    },
    {
     "name": "stdout",
     "output_type": "stream",
     "text": [
      "Optimal solution found (tolerance 1.00e-04)\n"
     ]
    },
    {
     "name": "stderr",
     "output_type": "stream",
     "text": [
      "2024-08-22 18:52:46 (INFO): Optimal solution found (tolerance 1.00e-04)\n"
     ]
    },
    {
     "name": "stdout",
     "output_type": "stream",
     "text": [
      "Best objective 3.100000000000e+01, best bound 3.100000000000e+01, gap 0.0000%\n"
     ]
    },
    {
     "name": "stderr",
     "output_type": "stream",
     "text": [
      "2024-08-22 18:52:46 (INFO): Best objective 3.100000000000e+01, best bound 3.100000000000e+01, gap 0.0000%\n"
     ]
    },
    {
     "name": "stdout",
     "output_type": "stream",
     "text": [
      "\n"
     ]
    },
    {
     "name": "stderr",
     "output_type": "stream",
     "text": [
      "2024-08-22 18:52:46 (INFO): \n"
     ]
    },
    {
     "name": "stdout",
     "output_type": "stream",
     "text": [
      "User-callback calls 495454, time in user-callback 2.40 sec\n"
     ]
    },
    {
     "name": "stderr",
     "output_type": "stream",
     "text": [
      "2024-08-22 18:52:46 (INFO): User-callback calls 495454, time in user-callback 2.40 sec\n",
      "2024-08-22 18:52:46 (INFO): Optimization status: 2\n",
      "2024-08-22 18:52:46 (INFO): Objective: #sign flips 31.0 out of 50\n",
      "2024-08-22 18:52:46 (INFO): Percentage of nodes certified 0.38\n",
      "2024-08-22 18:52:47 (INFO): Certified accuracy (poisoning): 0.38\n"
     ]
    }
   ],
   "source": [
    "# with big-M\n",
    "certificate_params[\"delta\"] = 0.15\n",
    "certificate_params[\"LogToConsole\"] = 1\n",
    "certificate_params[\"OutputFlag\"] = 1\n",
    "result = run(data_params, model_params, certificate_params, verbosity_params, other_params, seed)"
   ]
  },
  {
   "cell_type": "code",
   "execution_count": 8,
   "metadata": {},
   "outputs": [
    {
     "name": "stderr",
     "output_type": "stream",
     "text": [
      "2024-08-22 19:28:52 (INFO): Starting experiment exp_ntk_certify_collective_label with configuration:\n",
      "2024-08-22 19:28:52 (INFO): data_params: {'dataset': 'csbm', 'learning_setting': 'transductive', 'specification': {'classes': 2, 'n_trn_labeled': 20, 'n_trn_unlabeled': 0, 'n_val': 20, 'n_test': 50, 'sigma': 1, 'avg_within_class_degree': 3.16, 'avg_between_class_degree': 0.74, 'K': 1.5, 'seed': 4}}\n",
      "2024-08-22 19:28:52 (INFO): model_params: {'label': 'GCN', 'model': 'GCN', 'normalization': 'row_normalization', 'depth': 1, 'regularizer': 0.1, 'pred_method': 'svm', 'activation': 'relu', 'solver': 'qplayer', 'alpha_tol': 0.0001, 'bias': False}\n",
      "2024-08-22 19:28:52 (INFO): certification_params: {'n_adversarial': 1, 'perturbation_model': 'linf', 'delta': 0.15, 'method': 'XXT', 'attack_nodes': 'test', 'LogToConsole': 1, 'OutputFlag': 1, 'use_tight_big_M': 1}\n",
      "2024-08-22 19:28:52 (INFO): verbosity_params: {'debug_lvl': 'info'}\n",
      "2024-08-22 19:28:52 (INFO): other_params: {'device': 'cpu', 'dtype': torch.float64, 'allow_tf32': False, 'debug': False, 'path_gurobi_license': '/ceph/ssd/staff/gosl/app/gurobi.lic'}\n",
      "2024-08-22 19:28:52 (INFO): seed: 4\n",
      "2024-08-22 19:28:52 (INFO): CSBM(p=0.07101, q=0.01663)\n"
     ]
    },
    {
     "name": "stderr",
     "output_type": "stream",
     "text": [
      "2024-08-22 19:28:52 (INFO): Delta: 0.15\n",
      "2024-08-22 19:28:52 (INFO): Test accuracy: 0.8399999737739563\n",
      "2024-08-22 19:28:52 (INFO): Train accuracy: 0.8999999761581421\n"
     ]
    },
    {
     "name": "stdout",
     "output_type": "stream",
     "text": [
      "CSBM mu:\n",
      "[0.375 0.375 0.375 0.375]\n",
      "38 alphas found: ['0.1000', '0.1000', '0.1000', '0.1000', '0.1000', '0.1000', '0.1000', '0.1000', '0.1000', '0.1000', '0.1000', '0.1000', '0.1000', '0.1000', '0.1000', '0.1000', '0.0000', '0.1000', '0.1000', '0.0989', '0.1000', '0.1000', '0.0523', '-0.0000', '0.1000', '0.1000', '0.1000', '0.1000', '0.1000', '0.1000', '0.1000', '0.1000', '0.1000', '0.1000', '0.1000', '0.1000', '0.1000', '0.1000', '0.1000', '0.1000']\n"
     ]
    },
    {
     "name": "stderr",
     "output_type": "stream",
     "text": [
      "2024-08-22 19:28:52 (INFO): Using tight big-Ms.\n"
     ]
    },
    {
     "name": "stdout",
     "output_type": "stream",
     "text": [
      "Set parameter IntFeasTol to value 0.0001\n"
     ]
    },
    {
     "name": "stderr",
     "output_type": "stream",
     "text": [
      "2024-08-22 19:28:52 (INFO): Set parameter IntFeasTol to value 0.0001\n"
     ]
    },
    {
     "name": "stdout",
     "output_type": "stream",
     "text": [
      "Set parameter DualReductions to value 0\n"
     ]
    },
    {
     "name": "stderr",
     "output_type": "stream",
     "text": [
      "2024-08-22 19:28:52 (INFO): Set parameter DualReductions to value 0\n"
     ]
    },
    {
     "name": "stdout",
     "output_type": "stream",
     "text": [
      "Set parameter FeasibilityTol to value 0.0001\n"
     ]
    },
    {
     "name": "stderr",
     "output_type": "stream",
     "text": [
      "2024-08-22 19:28:52 (INFO): Set parameter FeasibilityTol to value 0.0001\n"
     ]
    },
    {
     "name": "stdout",
     "output_type": "stream",
     "text": [
      "Set parameter OptimalityTol to value 0.0001\n"
     ]
    },
    {
     "name": "stderr",
     "output_type": "stream",
     "text": [
      "2024-08-22 19:28:52 (INFO): Set parameter OptimalityTol to value 0.0001\n"
     ]
    },
    {
     "name": "stdout",
     "output_type": "stream",
     "text": [
      "Gurobi Optimizer version 11.0.1 build v11.0.1rc0 (linux64 - \"Ubuntu 22.04.4 LTS\")\n"
     ]
    },
    {
     "name": "stderr",
     "output_type": "stream",
     "text": [
      "2024-08-22 19:28:52 (INFO): Gurobi Optimizer version 11.0.1 build v11.0.1rc0 (linux64 - \"Ubuntu 22.04.4 LTS\")\n"
     ]
    },
    {
     "name": "stdout",
     "output_type": "stream",
     "text": [
      "\n"
     ]
    },
    {
     "name": "stderr",
     "output_type": "stream",
     "text": [
      "2024-08-22 19:28:52 (INFO): \n"
     ]
    },
    {
     "name": "stdout",
     "output_type": "stream",
     "text": [
      "CPU model: Intel(R) Xeon(R) CPU E5-2630 v4 @ 2.20GHz, instruction set [SSE2|AVX|AVX2]\n"
     ]
    },
    {
     "name": "stderr",
     "output_type": "stream",
     "text": [
      "2024-08-22 19:28:53 (INFO): CPU model: Intel(R) Xeon(R) CPU E5-2630 v4 @ 2.20GHz, instruction set [SSE2|AVX|AVX2]\n"
     ]
    },
    {
     "name": "stdout",
     "output_type": "stream",
     "text": [
      "Thread count: 20 physical cores, 20 logical processors, using up to 20 threads\n"
     ]
    },
    {
     "name": "stderr",
     "output_type": "stream",
     "text": [
      "2024-08-22 19:28:53 (INFO): Thread count: 20 physical cores, 20 logical processors, using up to 20 threads\n"
     ]
    },
    {
     "name": "stdout",
     "output_type": "stream",
     "text": [
      "\n"
     ]
    },
    {
     "name": "stderr",
     "output_type": "stream",
     "text": [
      "2024-08-22 19:28:53 (INFO): \n"
     ]
    },
    {
     "name": "stdout",
     "output_type": "stream",
     "text": [
      "Optimize a model with 6901 rows, 1970 columns and 25820 nonzeros\n"
     ]
    },
    {
     "name": "stderr",
     "output_type": "stream",
     "text": [
      "2024-08-22 19:28:53 (INFO): Optimize a model with 6901 rows, 1970 columns and 25820 nonzeros\n"
     ]
    },
    {
     "name": "stdout",
     "output_type": "stream",
     "text": [
      "Model fingerprint: 0xee84cbf2\n"
     ]
    },
    {
     "name": "stderr",
     "output_type": "stream",
     "text": [
      "2024-08-22 19:28:53 (INFO): Model fingerprint: 0xee84cbf2\n"
     ]
    },
    {
     "name": "stdout",
     "output_type": "stream",
     "text": [
      "Variable types: 1760 continuous, 210 integer (170 binary)\n"
     ]
    },
    {
     "name": "stderr",
     "output_type": "stream",
     "text": [
      "2024-08-22 19:28:53 (INFO): Variable types: 1760 continuous, 210 integer (170 binary)\n"
     ]
    },
    {
     "name": "stdout",
     "output_type": "stream",
     "text": [
      "Coefficient statistics:\n"
     ]
    },
    {
     "name": "stderr",
     "output_type": "stream",
     "text": [
      "2024-08-22 19:28:53 (INFO): Coefficient statistics:\n"
     ]
    },
    {
     "name": "stdout",
     "output_type": "stream",
     "text": [
      "  Matrix range     [6e-04, 9e+00]\n"
     ]
    },
    {
     "name": "stderr",
     "output_type": "stream",
     "text": [
      "2024-08-22 19:28:53 (INFO):   Matrix range     [6e-04, 9e+00]\n"
     ]
    },
    {
     "name": "stdout",
     "output_type": "stream",
     "text": [
      "  Objective range  [1e+00, 1e+00]\n"
     ]
    },
    {
     "name": "stderr",
     "output_type": "stream",
     "text": [
      "2024-08-22 19:28:53 (INFO):   Objective range  [1e+00, 1e+00]\n"
     ]
    },
    {
     "name": "stdout",
     "output_type": "stream",
     "text": [
      "  Bounds range     [1e-01, 1e+00]\n"
     ]
    },
    {
     "name": "stderr",
     "output_type": "stream",
     "text": [
      "2024-08-22 19:28:53 (INFO):   Bounds range     [1e-01, 1e+00]\n"
     ]
    },
    {
     "name": "stdout",
     "output_type": "stream",
     "text": [
      "  RHS range        [1e-01, 3e+01]\n"
     ]
    },
    {
     "name": "stderr",
     "output_type": "stream",
     "text": [
      "2024-08-22 19:28:53 (INFO):   RHS range        [1e-01, 3e+01]\n"
     ]
    },
    {
     "name": "stdout",
     "output_type": "stream",
     "text": [
      "\n"
     ]
    },
    {
     "name": "stderr",
     "output_type": "stream",
     "text": [
      "2024-08-22 19:28:53 (INFO): \n"
     ]
    },
    {
     "name": "stdout",
     "output_type": "stream",
     "text": [
      "Loaded user MIP start with objective -0\n",
      "\n",
      "Loaded user MIP start with objective -0\n"
     ]
    },
    {
     "name": "stderr",
     "output_type": "stream",
     "text": [
      "2024-08-22 19:28:53 (INFO): Loaded user MIP start with objective -0\n"
     ]
    },
    {
     "name": "stdout",
     "output_type": "stream",
     "text": [
      "\n"
     ]
    },
    {
     "name": "stderr",
     "output_type": "stream",
     "text": [
      "2024-08-22 19:28:53 (INFO): \n"
     ]
    },
    {
     "name": "stdout",
     "output_type": "stream",
     "text": [
      "Presolve removed 40 rows and 40 columns\n"
     ]
    },
    {
     "name": "stderr",
     "output_type": "stream",
     "text": [
      "2024-08-22 19:28:53 (INFO): Presolve removed 40 rows and 40 columns\n"
     ]
    },
    {
     "name": "stdout",
     "output_type": "stream",
     "text": [
      "Presolve time: 0.03s\n"
     ]
    },
    {
     "name": "stderr",
     "output_type": "stream",
     "text": [
      "2024-08-22 19:28:53 (INFO): Presolve time: 0.03s\n"
     ]
    },
    {
     "name": "stdout",
     "output_type": "stream",
     "text": [
      "Presolved: 6861 rows, 1930 columns, 25660 nonzeros\n"
     ]
    },
    {
     "name": "stderr",
     "output_type": "stream",
     "text": [
      "2024-08-22 19:28:53 (INFO): Presolved: 6861 rows, 1930 columns, 25660 nonzeros\n"
     ]
    },
    {
     "name": "stdout",
     "output_type": "stream",
     "text": [
      "Variable types: 1760 continuous, 170 integer (170 binary)\n"
     ]
    },
    {
     "name": "stderr",
     "output_type": "stream",
     "text": [
      "2024-08-22 19:28:53 (INFO): Variable types: 1760 continuous, 170 integer (170 binary)\n"
     ]
    },
    {
     "name": "stdout",
     "output_type": "stream",
     "text": [
      "\n"
     ]
    },
    {
     "name": "stderr",
     "output_type": "stream",
     "text": [
      "2024-08-22 19:28:53 (INFO): \n"
     ]
    },
    {
     "name": "stdout",
     "output_type": "stream",
     "text": [
      "Root relaxation: objective 5.000000e+01, 3732 iterations, 0.29 seconds (0.37 work units)\n"
     ]
    },
    {
     "name": "stderr",
     "output_type": "stream",
     "text": [
      "2024-08-22 19:28:53 (INFO): Root relaxation: objective 5.000000e+01, 3732 iterations, 0.29 seconds (0.37 work units)\n"
     ]
    },
    {
     "name": "stdout",
     "output_type": "stream",
     "text": [
      "\n"
     ]
    },
    {
     "name": "stderr",
     "output_type": "stream",
     "text": [
      "2024-08-22 19:28:53 (INFO): \n"
     ]
    },
    {
     "name": "stdout",
     "output_type": "stream",
     "text": [
      "    Nodes    |    Current Node    |     Objective Bounds      |     Work\n"
     ]
    },
    {
     "name": "stderr",
     "output_type": "stream",
     "text": [
      "2024-08-22 19:28:53 (INFO):     Nodes    |    Current Node    |     Objective Bounds      |     Work\n"
     ]
    },
    {
     "name": "stdout",
     "output_type": "stream",
     "text": [
      " Expl Unexpl |  Obj  Depth IntInf | Incumbent    BestBd   Gap | It/Node Time\n"
     ]
    },
    {
     "name": "stderr",
     "output_type": "stream",
     "text": [
      "2024-08-22 19:28:53 (INFO):  Expl Unexpl |  Obj  Depth IntInf | Incumbent    BestBd   Gap | It/Node Time\n"
     ]
    },
    {
     "name": "stdout",
     "output_type": "stream",
     "text": [
      "\n"
     ]
    },
    {
     "name": "stderr",
     "output_type": "stream",
     "text": [
      "2024-08-22 19:28:53 (INFO): \n"
     ]
    },
    {
     "name": "stdout",
     "output_type": "stream",
     "text": [
      "     0     0   50.00000    0   42   -0.00000   50.00000      -     -    0s\n"
     ]
    },
    {
     "name": "stderr",
     "output_type": "stream",
     "text": [
      "2024-08-22 19:28:53 (INFO):      0     0   50.00000    0   42   -0.00000   50.00000      -     -    0s\n"
     ]
    },
    {
     "name": "stdout",
     "output_type": "stream",
     "text": [
      "H    0     0                       3.0000000   50.00000  1567%     -    1s\n"
     ]
    },
    {
     "name": "stderr",
     "output_type": "stream",
     "text": [
      "2024-08-22 19:28:54 (INFO): H    0     0                       3.0000000   50.00000  1567%     -    1s\n"
     ]
    },
    {
     "name": "stdout",
     "output_type": "stream",
     "text": [
      "     0     0   50.00000    0   63    3.00000   50.00000  1567%     -    1s\n"
     ]
    },
    {
     "name": "stderr",
     "output_type": "stream",
     "text": [
      "2024-08-22 19:28:54 (INFO):      0     0   50.00000    0   63    3.00000   50.00000  1567%     -    1s\n"
     ]
    },
    {
     "name": "stdout",
     "output_type": "stream",
     "text": [
      "     0     0   50.00000    0   47    3.00000   50.00000  1567%     -    1s\n"
     ]
    },
    {
     "name": "stderr",
     "output_type": "stream",
     "text": [
      "2024-08-22 19:28:54 (INFO):      0     0   50.00000    0   47    3.00000   50.00000  1567%     -    1s\n"
     ]
    },
    {
     "name": "stdout",
     "output_type": "stream",
     "text": [
      "     0     0   50.00000    0   44    3.00000   50.00000  1567%     -    2s\n"
     ]
    },
    {
     "name": "stderr",
     "output_type": "stream",
     "text": [
      "2024-08-22 19:28:55 (INFO):      0     0   50.00000    0   44    3.00000   50.00000  1567%     -    2s\n"
     ]
    },
    {
     "name": "stdout",
     "output_type": "stream",
     "text": [
      "     0     0   50.00000    0   43    3.00000   50.00000  1567%     -    2s\n"
     ]
    },
    {
     "name": "stderr",
     "output_type": "stream",
     "text": [
      "2024-08-22 19:28:55 (INFO):      0     0   50.00000    0   43    3.00000   50.00000  1567%     -    2s\n"
     ]
    },
    {
     "name": "stdout",
     "output_type": "stream",
     "text": [
      "     0     0   50.00000    0   59    3.00000   50.00000  1567%     -    2s\n"
     ]
    },
    {
     "name": "stderr",
     "output_type": "stream",
     "text": [
      "2024-08-22 19:28:55 (INFO):      0     0   50.00000    0   59    3.00000   50.00000  1567%     -    2s\n"
     ]
    },
    {
     "name": "stdout",
     "output_type": "stream",
     "text": [
      "     0     0   50.00000    0   50    3.00000   50.00000  1567%     -    3s\n"
     ]
    },
    {
     "name": "stderr",
     "output_type": "stream",
     "text": [
      "2024-08-22 19:28:56 (INFO):      0     0   50.00000    0   50    3.00000   50.00000  1567%     -    3s\n"
     ]
    },
    {
     "name": "stdout",
     "output_type": "stream",
     "text": [
      "     0     0   50.00000    0   46    3.00000   50.00000  1567%     -    3s\n"
     ]
    },
    {
     "name": "stderr",
     "output_type": "stream",
     "text": [
      "2024-08-22 19:28:56 (INFO):      0     0   50.00000    0   46    3.00000   50.00000  1567%     -    3s\n"
     ]
    },
    {
     "name": "stdout",
     "output_type": "stream",
     "text": [
      "     0     2   50.00000    0   42    3.00000   50.00000  1567%     -    4s\n"
     ]
    },
    {
     "name": "stderr",
     "output_type": "stream",
     "text": [
      "2024-08-22 19:28:57 (INFO):      0     2   50.00000    0   42    3.00000   50.00000  1567%     -    4s\n"
     ]
    },
    {
     "name": "stdout",
     "output_type": "stream",
     "text": [
      "     3     8   50.00000    2   61    3.00000   50.00000  1567%   925    5s\n"
     ]
    },
    {
     "name": "stderr",
     "output_type": "stream",
     "text": [
      "2024-08-22 19:28:58 (INFO):      3     8   50.00000    2   61    3.00000   50.00000  1567%   925    5s\n"
     ]
    },
    {
     "name": "stdout",
     "output_type": "stream",
     "text": [
      "H   39    52                       4.0000000   50.00000  1150%  1031    6s\n"
     ]
    },
    {
     "name": "stderr",
     "output_type": "stream",
     "text": [
      "2024-08-22 19:28:59 (INFO): H   39    52                       4.0000000   50.00000  1150%  1031    6s\n"
     ]
    },
    {
     "name": "stdout",
     "output_type": "stream",
     "text": [
      "H   92   112                       6.0000000   50.00000   733%   787    8s\n"
     ]
    },
    {
     "name": "stderr",
     "output_type": "stream",
     "text": [
      "2024-08-22 19:29:01 (INFO): H   92   112                       6.0000000   50.00000   733%   787    8s\n"
     ]
    },
    {
     "name": "stdout",
     "output_type": "stream",
     "text": [
      "H  102   112                       7.0000000   50.00000   614%   749    8s\n"
     ]
    },
    {
     "name": "stderr",
     "output_type": "stream",
     "text": [
      "2024-08-22 19:29:01 (INFO): H  102   112                       7.0000000   50.00000   614%   749    8s\n"
     ]
    },
    {
     "name": "stdout",
     "output_type": "stream",
     "text": [
      "H  103   112                       8.0000000   50.00000   525%   744    8s\n"
     ]
    },
    {
     "name": "stderr",
     "output_type": "stream",
     "text": [
      "2024-08-22 19:29:01 (INFO): H  103   112                       8.0000000   50.00000   525%   744    8s\n"
     ]
    },
    {
     "name": "stdout",
     "output_type": "stream",
     "text": [
      "H  110   112                      12.0000000   50.00000   317%   720    8s\n"
     ]
    },
    {
     "name": "stderr",
     "output_type": "stream",
     "text": [
      "2024-08-22 19:29:01 (INFO): H  110   112                      12.0000000   50.00000   317%   720    8s\n"
     ]
    },
    {
     "name": "stdout",
     "output_type": "stream",
     "text": [
      "H  138   155                      30.0000000   50.00000  66.7%   727    9s\n"
     ]
    },
    {
     "name": "stderr",
     "output_type": "stream",
     "text": [
      "2024-08-22 19:29:02 (INFO): H  138   155                      30.0000000   50.00000  66.7%   727    9s\n"
     ]
    },
    {
     "name": "stdout",
     "output_type": "stream",
     "text": [
      "H  139   155                      31.0000000   50.00000  61.3%   724    9s\n"
     ]
    },
    {
     "name": "stderr",
     "output_type": "stream",
     "text": [
      "2024-08-22 19:29:02 (INFO): H  139   155                      31.0000000   50.00000  61.3%   724    9s\n"
     ]
    },
    {
     "name": "stdout",
     "output_type": "stream",
     "text": [
      "   183   211   49.99817    9   70   31.00000   50.00000  61.3%   707   12s\n"
     ]
    },
    {
     "name": "stderr",
     "output_type": "stream",
     "text": [
      "2024-08-22 19:29:05 (INFO):    183   211   49.99817    9   70   31.00000   50.00000  61.3%   707   12s\n"
     ]
    },
    {
     "name": "stdout",
     "output_type": "stream",
     "text": [
      "   358   389   48.91109   12   77   31.00000   50.00000  61.3%   524   16s\n"
     ]
    },
    {
     "name": "stderr",
     "output_type": "stream",
     "text": [
      "2024-08-22 19:29:09 (INFO):    358   389   48.91109   12   77   31.00000   50.00000  61.3%   524   16s\n"
     ]
    },
    {
     "name": "stdout",
     "output_type": "stream",
     "text": [
      "\n",
      "Interrupt request received\n",
      "\n"
     ]
    },
    {
     "name": "stderr",
     "output_type": "stream",
     "text": [
      "2024-08-22 19:29:09 (INFO): \n"
     ]
    },
    {
     "name": "stdout",
     "output_type": "stream",
     "text": [
      "Cutting planes:\n"
     ]
    },
    {
     "name": "stderr",
     "output_type": "stream",
     "text": [
      "2024-08-22 19:29:09 (INFO): Cutting planes:\n"
     ]
    },
    {
     "name": "stdout",
     "output_type": "stream",
     "text": [
      "  Gomory: 5\n"
     ]
    },
    {
     "name": "stderr",
     "output_type": "stream",
     "text": [
      "2024-08-22 19:29:09 (INFO):   Gomory: 5\n"
     ]
    },
    {
     "name": "stdout",
     "output_type": "stream",
     "text": [
      "  Cover: 2\n"
     ]
    },
    {
     "name": "stderr",
     "output_type": "stream",
     "text": [
      "2024-08-22 19:29:09 (INFO):   Cover: 2\n"
     ]
    },
    {
     "name": "stdout",
     "output_type": "stream",
     "text": [
      "  Implied bound: 57\n"
     ]
    },
    {
     "name": "stderr",
     "output_type": "stream",
     "text": [
      "2024-08-22 19:29:09 (INFO):   Implied bound: 57\n"
     ]
    },
    {
     "name": "stdout",
     "output_type": "stream",
     "text": [
      "  MIR: 470\n"
     ]
    },
    {
     "name": "stderr",
     "output_type": "stream",
     "text": [
      "2024-08-22 19:29:09 (INFO):   MIR: 470\n"
     ]
    },
    {
     "name": "stdout",
     "output_type": "stream",
     "text": [
      "  Flow cover: 85\n"
     ]
    },
    {
     "name": "stderr",
     "output_type": "stream",
     "text": [
      "2024-08-22 19:29:09 (INFO):   Flow cover: 85\n"
     ]
    },
    {
     "name": "stdout",
     "output_type": "stream",
     "text": [
      "  Inf proof: 1\n"
     ]
    },
    {
     "name": "stderr",
     "output_type": "stream",
     "text": [
      "2024-08-22 19:29:09 (INFO):   Inf proof: 1\n"
     ]
    },
    {
     "name": "stdout",
     "output_type": "stream",
     "text": [
      "  RLT: 271\n"
     ]
    },
    {
     "name": "stderr",
     "output_type": "stream",
     "text": [
      "2024-08-22 19:29:09 (INFO):   RLT: 271\n"
     ]
    },
    {
     "name": "stdout",
     "output_type": "stream",
     "text": [
      "  BQP: 2\n"
     ]
    },
    {
     "name": "stderr",
     "output_type": "stream",
     "text": [
      "2024-08-22 19:29:09 (INFO):   BQP: 2\n"
     ]
    },
    {
     "name": "stdout",
     "output_type": "stream",
     "text": [
      "\n"
     ]
    },
    {
     "name": "stderr",
     "output_type": "stream",
     "text": [
      "2024-08-22 19:29:09 (INFO): \n"
     ]
    },
    {
     "name": "stdout",
     "output_type": "stream",
     "text": [
      "Explored 632 nodes (263890 simplex iterations) in 16.98 seconds (21.89 work units)\n"
     ]
    },
    {
     "name": "stderr",
     "output_type": "stream",
     "text": [
      "2024-08-22 19:29:09 (INFO): Explored 632 nodes (263890 simplex iterations) in 16.98 seconds (21.89 work units)\n"
     ]
    },
    {
     "name": "stdout",
     "output_type": "stream",
     "text": [
      "Thread count was 20 (of 20 available processors)\n"
     ]
    },
    {
     "name": "stderr",
     "output_type": "stream",
     "text": [
      "2024-08-22 19:29:09 (INFO): Thread count was 20 (of 20 available processors)\n"
     ]
    },
    {
     "name": "stdout",
     "output_type": "stream",
     "text": [
      "\n"
     ]
    },
    {
     "name": "stderr",
     "output_type": "stream",
     "text": [
      "2024-08-22 19:29:09 (INFO): \n"
     ]
    },
    {
     "name": "stdout",
     "output_type": "stream",
     "text": [
      "Solution count 9: 31 30 12 ... -0\n"
     ]
    },
    {
     "name": "stderr",
     "output_type": "stream",
     "text": [
      "2024-08-22 19:29:09 (INFO): Solution count 9: 31 30 12 ... -0\n"
     ]
    },
    {
     "name": "stdout",
     "output_type": "stream",
     "text": [
      "\n"
     ]
    },
    {
     "name": "stderr",
     "output_type": "stream",
     "text": [
      "2024-08-22 19:29:09 (INFO): \n"
     ]
    },
    {
     "name": "stdout",
     "output_type": "stream",
     "text": [
      "Solve interrupted\n"
     ]
    },
    {
     "name": "stderr",
     "output_type": "stream",
     "text": [
      "2024-08-22 19:29:09 (INFO): Solve interrupted\n"
     ]
    },
    {
     "name": "stdout",
     "output_type": "stream",
     "text": [
      "Best objective 3.100000000000e+01, best bound 5.000000000000e+01, gap 61.2903%\n"
     ]
    },
    {
     "name": "stderr",
     "output_type": "stream",
     "text": [
      "2024-08-22 19:29:09 (INFO): Best objective 3.100000000000e+01, best bound 5.000000000000e+01, gap 61.2903%\n"
     ]
    },
    {
     "name": "stdout",
     "output_type": "stream",
     "text": [
      "\n"
     ]
    },
    {
     "name": "stderr",
     "output_type": "stream",
     "text": [
      "2024-08-22 19:29:10 (INFO): \n"
     ]
    },
    {
     "name": "stdout",
     "output_type": "stream",
     "text": [
      "User-callback calls 5299, time in user-callback 0.03 sec\n"
     ]
    },
    {
     "name": "stderr",
     "output_type": "stream",
     "text": [
      "2024-08-22 19:29:10 (INFO): User-callback calls 5299, time in user-callback 0.03 sec\n",
      "2024-08-22 19:29:10 (INFO): Optimization status: 11\n",
      "2024-08-22 19:29:10 (INFO): Objective: #sign flips 31.0 out of 50\n",
      "2024-08-22 19:29:10 (INFO): Percentage of nodes certified 0.38\n",
      "2024-08-22 19:29:10 (INFO): Certified accuracy (poisoning): 0.38\n"
     ]
    }
   ],
   "source": [
    "# with big-M and intfocus = 0\n",
    "certificate_params[\"delta\"] = 0.15\n",
    "certificate_params[\"LogToConsole\"] = 1\n",
    "certificate_params[\"OutputFlag\"] = 1\n",
    "certificate_params[\"use_tight_big_M\"] = 1\n",
    "result = run(data_params, model_params, certificate_params, verbosity_params, other_params, seed)"
   ]
  },
  {
   "cell_type": "code",
   "execution_count": null,
   "metadata": {},
   "outputs": [],
   "source": []
  }
 ],
 "metadata": {
  "kernelspec": {
   "display_name": "py311_ntk",
   "language": "python",
   "name": "python3"
  },
  "language_info": {
   "codemirror_mode": {
    "name": "ipython",
    "version": 3
   },
   "file_extension": ".py",
   "mimetype": "text/x-python",
   "name": "python",
   "nbconvert_exporter": "python",
   "pygments_lexer": "ipython3",
   "version": "3.11.5"
  }
 },
 "nbformat": 4,
 "nbformat_minor": 2
}
