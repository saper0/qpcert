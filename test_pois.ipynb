{
 "cells": [
  {
   "cell_type": "code",
   "execution_count": 1,
   "metadata": {},
   "outputs": [],
   "source": [
    "%load_ext autoreload\n",
    "%autoreload 2"
   ]
  },
  {
   "cell_type": "code",
   "execution_count": 2,
   "metadata": {},
   "outputs": [],
   "source": [
    "import os\n",
    "os.environ[\"GRB_LICENSE_FILE\"] = \"/ceph/ssd/staff/gosl/app/gurobi.lic\"\n"
   ]
  },
  {
   "cell_type": "code",
   "execution_count": 3,
   "metadata": {},
   "outputs": [],
   "source": [
    "import torch\n",
    "import numpy as np\n",
    "from exp_ntk_certify import run"
   ]
  },
  {
   "cell_type": "code",
   "execution_count": 4,
   "metadata": {},
   "outputs": [],
   "source": [
    "seed = 0\n",
    "\n",
    "data_params = dict(\n",
    "    dataset = \"csbm\",\n",
    "    learning_setting = \"transductive\", # or \"transdructive\"\n",
    "    specification = dict(\n",
    "        classes = 2,\n",
    "        n_trn_labeled = 40, \n",
    "        n_trn_unlabeled = 0,\n",
    "        n_val = 40,\n",
    "        n_test = 120,\n",
    "        sigma = 1,\n",
    "        avg_within_class_degree = 1.58 * 2,\n",
    "        avg_between_class_degree = 0.37 * 2,\n",
    "        K = 1.5,\n",
    "        seed = 10 # used to generate the dataset & data split\n",
    "    )\n",
    ")\n",
    "\n",
    "model_params = dict(\n",
    "    label = \"GCN\",\n",
    "    model = \"GCN\",\n",
    "    normalization = \"row_normalization\",\n",
    "    depth = 1,\n",
    "    #regularizer = 1e-8\n",
    "    regularizer = 1,\n",
    "    pred_method = \"svm\",\n",
    ")\n",
    "\n",
    "certificate_params = dict(\n",
    "    n_adversarial = 1, # number adversarial nodes\n",
    "    perturbation_model = \"linf\",\n",
    "    delta = 0.01 # l0: local budget = delta * feature_dim\n",
    ")\n",
    "\n",
    "verbosity_params = dict(\n",
    "    debug_lvl = \"warning\"\n",
    ")  \n",
    "\n",
    "other_params = dict(\n",
    "    device = \"cpu\",\n",
    "    dtype = torch.float64,\n",
    "    allow_tf32 = False\n",
    ")"
   ]
  },
  {
   "cell_type": "code",
   "execution_count": 21,
   "metadata": {},
   "outputs": [
    {
     "name": "stderr",
     "output_type": "stream",
     "text": [
      "2024-04-10 20:01:01 (INFO): Starting experiment exp_ntk_certify with configuration:\n",
      "2024-04-10 20:01:01 (INFO): data_params: {'dataset': 'csbm', 'learning_setting': 'transductive', 'specification': {'classes': 2, 'n_trn_labeled': 40, 'n_trn_unlabeled': 0, 'n_val': 40, 'n_test': 1000, 'sigma': 1, 'avg_within_class_degree': 3.16, 'avg_between_class_degree': 0.74, 'K': 1.5, 'seed': 10}}\n",
      "2024-04-10 20:01:01 (INFO): model_params: {'label': 'GCN', 'model': 'GCN', 'normalization': 'row_normalization', 'depth': 1, 'regularizer': 0.1, 'pred_method': 'svm', 'cache_size': 10000, 'solver': 'cvxopt', 'alpha_tol': 0.0001, 'bias': False}\n",
      "2024-04-10 20:01:01 (INFO): certification_params: {'n_adversarial': 10, 'perturbation_model': 'linf', 'delta': 0.01, 'method': 'XXT', 'cert_method': 'ntk_bound'}\n",
      "2024-04-10 20:01:01 (INFO): verbosity_params: {'debug_lvl': 'info'}\n",
      "2024-04-10 20:01:01 (INFO): other_params: {'device': 'cpu', 'dtype': torch.float64, 'allow_tf32': False, 'debug': False}\n",
      "2024-04-10 20:01:01 (INFO): seed: 0\n",
      "2024-04-10 20:01:01 (INFO): CSBM(p=0.00586, q=0.00137)\n"
     ]
    },
    {
     "name": "stdout",
     "output_type": "stream",
     "text": [
      "CSBM mu:\n",
      "[0.15990053 0.15990053 0.15990053 0.15990053 0.15990053 0.15990053\n",
      " 0.15990053 0.15990053 0.15990053 0.15990053 0.15990053 0.15990053\n",
      " 0.15990053 0.15990053 0.15990053 0.15990053 0.15990053 0.15990053\n",
      " 0.15990053 0.15990053 0.15990053 0.15990053]\n",
      "     pcost       dcost       gap    pres   dres\n",
      " 0: -2.4992e+01 -1.9608e+01  4e+02  2e+01  3e-15\n",
      " 1: -7.2995e+00 -1.6499e+01  2e+01  5e-01  2e-15\n",
      " 2: -6.5036e+00 -8.6373e+00  2e+00  2e-16  1e-15\n",
      " 3: -7.1209e+00 -7.3285e+00  2e-01  2e-16  8e-16\n",
      " 4: -7.2026e+00 -7.2121e+00  9e-03  2e-16  9e-16\n",
      " 5: -7.2068e+00 -7.2069e+00  1e-04  2e-16  9e-16\n",
      " 6: -7.2068e+00 -7.2068e+00  1e-06  2e-16  9e-16\n",
      "Optimal solution found.\n",
      "Alphas found: ['0.1000', '0.1000', '0.1000', '0.1000', '0.1000', '0.1000', '0.1000', '0.1000', '0.1000', '0.1000', '0.1000', '0.1000', '0.1000', '0.1000', '0.1000', '0.1000', '0.1000', '0.1000', '0.1000', '0.1000', '0.1000', '0.1000', '0.1000', '0.1000', '0.1000', '0.1000', '0.1000', '0.1000', '0.1000', '0.1000', '0.1000', '0.1000', '0.1000', '0.1000', '0.1000', '0.1000', '0.1000', '0.1000', '0.1000', '0.1000', '0.0404', '0.1000', '0.1000', '0.1000', '0.1000', '0.1000', '0.1000', '0.1000', '0.0632', '0.1000', '0.1000', '0.1000', '0.1000', '0.0498', '0.1000', '0.1000', '0.1000', '0.1000', '0.1000', '0.0879', '0.1000', '0.1000', '0.1000', '0.1000', '0.1000', '0.1000', '0.1000', '0.1000', '0.1000', '0.1000', '0.1000', '0.1000', '0.1000', '0.1000', '0.1000', '0.1000', '0.1000', '0.1000', '0.1000', '0.1000']\n"
     ]
    },
    {
     "name": "stderr",
     "output_type": "stream",
     "text": [
      "2024-04-10 20:01:02 (INFO): Accuracy 0.8939999938011169\n"
     ]
    },
    {
     "data": {
      "text/plain": [
       "{'accuracy': 0.8939999938011169,\n",
       " 'accuracy_ub': 0.8939999938011169,\n",
       " 'accuracy_lb': 0.8939999938011169,\n",
       " 'accuracy_cert_trivial': 0.832,\n",
       " 'accuracy_cert': 0.9919999837875366,\n",
       " 'accuracy_cert_unrobust': 0.0,\n",
       " 'min_ypred': -11.960055534497997,\n",
       " 'max_ypred': 7.135485635163351,\n",
       " 'min_ylb': -11.987543529363592,\n",
       " 'max_ylb': 7.115350191861669,\n",
       " 'min_yub': -11.932087978216561,\n",
       " 'max_yub': 7.156340273868843,\n",
       " 'avg_ntklb': 1.7510366802959214,\n",
       " 'min_ntklb': -1.1551896622894704,\n",
       " 'max_ntklb': 70.31386641662158,\n",
       " 'avg_ntkub': 1.7607389041125332,\n",
       " 'min_ntkub': -1.1551896622894704,\n",
       " 'max_ntkub': 70.31386641662158,\n",
       " 'min_ntklabeled': -0.43597282786959646,\n",
       " 'max_ntklabeled': 47.43216492058799,\n",
       " 'avg_ntkunlabeled': 1.7153253781553954,\n",
       " 'min_ntkunlabeled': -0.9129579148153149,\n",
       " 'max_ntkunlabeled': 19.497685297136297,\n",
       " 'cond': 747.1619523722733}"
      ]
     },
     "execution_count": 21,
     "metadata": {},
     "output_type": "execute_result"
    }
   ],
   "source": [
    "model_params[\"cache_size\"] = 10000\n",
    "data_params[\"specification\"][\"avg_within_class_degree\"] = 1.58 * 2\n",
    "data_params[\"specification\"][\"avg_between_class_degree\"] = 0.37 * 2\n",
    "other_params[\"device\"] = \"cpu\"\n",
    "other_params[\"debug\"] = False\n",
    "certificate_params[\"n_adversarial\"] = 10\n",
    "certificate_params[\"delta\"] = 0.01\n",
    "certificate_params[\"method\"] = \"XXT\"\n",
    "certificate_params[\"perturbation_model\"] = \"linf\"\n",
    "certificate_params[\"cert_method\"] = \"ntk_bound\"\n",
    "verbosity_params[\"debug_lvl\"] = \"info\"\n",
    "model_params[\"regularizer\"] = 0.1\n",
    "model_params[\"solver\"] = \"cvxopt\"\n",
    "model_params[\"alpha_tol\"] = 1e-4\n",
    "model_params[\"bias\"] = False\n",
    "data_params[\"learning_setting\"] = \"transductive\"\n",
    "run(data_params, model_params, certificate_params, verbosity_params, other_params, seed)"
   ]
  },
  {
   "cell_type": "code",
   "execution_count": 5,
   "metadata": {},
   "outputs": [
    {
     "name": "stderr",
     "output_type": "stream",
     "text": [
      "2024-04-10 20:03:40 (INFO): Starting experiment exp_ntk_certify with configuration:\n",
      "2024-04-10 20:03:40 (INFO): data_params: {'dataset': 'csbm', 'learning_setting': 'transductive', 'specification': {'classes': 2, 'n_trn_labeled': 40, 'n_trn_unlabeled': 0, 'n_val': 40, 'n_test': 120, 'sigma': 1, 'avg_within_class_degree': 3.16, 'avg_between_class_degree': 0.74, 'K': 1.5, 'seed': 10}}\n",
      "2024-04-10 20:03:40 (INFO): model_params: {'label': 'GCN', 'model': 'GCN', 'normalization': 'row_normalization', 'depth': 1, 'regularizer': 0.1, 'pred_method': 'svm', 'cache_size': 10000, 'solver': 'cvxopt', 'alpha_tol': 0.0001, 'bias': False}\n",
      "2024-04-10 20:03:40 (INFO): certification_params: {'n_adversarial': 10, 'perturbation_model': 'linf', 'delta': 0.01, 'method': 'XXT', 'cert_method': 'bilevel_svm'}\n",
      "2024-04-10 20:03:40 (INFO): verbosity_params: {'debug_lvl': 'info'}\n",
      "2024-04-10 20:03:40 (INFO): other_params: {'device': 'cpu', 'dtype': torch.float64, 'allow_tf32': False, 'debug': False}\n",
      "2024-04-10 20:03:40 (INFO): seed: 0\n",
      "2024-04-10 20:03:40 (INFO): CSBM(p=0.03176, q=0.00744)\n"
     ]
    },
    {
     "name": "stdout",
     "output_type": "stream",
     "text": [
      "CSBM mu:\n",
      "[0.28347334 0.28347334 0.28347334 0.28347334 0.28347334 0.28347334\n",
      " 0.28347334]\n",
      "     pcost       dcost       gap    pres   dres\n",
      " 0: -3.8826e+01 -1.7811e+01  4e+02  2e+01  2e-15\n",
      " 1: -6.7970e+00 -1.6225e+01  1e+01  3e-01  2e-15\n",
      " 2: -7.0714e+00 -8.1922e+00  1e+00  1e-02  6e-16\n",
      " 3: -7.7323e+00 -7.8267e+00  1e-01  7e-04  7e-16\n",
      " 4: -7.7894e+00 -7.7990e+00  1e-02  2e-05  8e-16\n",
      " 5: -7.7944e+00 -7.7945e+00  1e-04  2e-07  7e-16\n",
      " 6: -7.7944e+00 -7.7944e+00  1e-06  2e-09  8e-16\n",
      "Optimal solution found.\n",
      "Alphas found: ['0.1000', '0.1000', '0.1000', '0.1000', '0.1000', '0.1000', '0.1000', '0.1000', '0.1000', '0.1000', '0.1000', '0.1000', '0.1000', '0.1000', '0.1000', '0.1000', '0.1000', '0.1000', '0.1000', '0.1000', '0.1000', '0.1000', '0.1000', '0.1000', '0.1000', '0.1000', '0.1000', '0.1000', '0.1000', '0.1000', '0.1000', '0.1000', '0.1000', '0.1000', '0.1000', '0.1000', '0.1000', '0.1000', '0.1000', '0.1000', '0.1000', '0.1000', '0.0624', '0.1000', '0.1000', '0.1000', '0.1000', '0.1000', '0.1000', '0.1000', '0.1000', '0.1000', '0.1000', '0.1000', '0.1000', '0.1000', '0.1000', '0.1000', '0.1000', '0.1000', '0.1000', '0.1000', '0.1000', '0.1000', '0.1000', '0.1000', '0.1000', '0.1000', '0.1000', '0.1000', '0.1000', '0.1000', '0.1000', '0.1000', '0.1000', '0.1000', '0.1000', '0.1000', '0.1000', '0.1000']\n",
      "n_labeled  80\n",
      "ntk shapes  torch.Size([200, 200]) torch.Size([200, 200]) torch.Size([200, 200])\n",
      "y shapes  torch.Size([200]) torch.Size([120]) tensor([0, 0, 0, 0, 0, 0, 0, 0, 0, 0, 0, 0, 0, 0, 0, 0, 0, 0, 0, 0, 0, 0, 0, 0,\n",
      "        0, 0, 0, 0, 0, 0, 0, 0, 0, 0, 0, 0, 0, 0, 0, 0, 0, 0, 0, 0, 0, 0, 0, 0,\n",
      "        0, 0, 0, 0, 0, 0, 0, 0, 0, 0, 0, 0, 0, 0, 0, 0, 0, 0, 0, 0, 0, 0, 0, 0,\n",
      "        0, 0, 0, 0, 0, 0, 0, 0, 0, 0, 0, 0, 0, 0, 0, 0, 0, 0, 0, 0, 0, 0, 0, 0,\n",
      "        0, 0, 0, 1, 1, 1, 1, 1, 1, 1, 1, 1, 1, 1, 1, 1, 1, 1, 1, 1, 1, 1, 1, 1,\n",
      "        1, 1, 1, 1, 1, 1, 1, 1, 1, 1, 1, 1, 1, 1, 1, 1, 1, 1, 1, 1, 1, 1, 1, 1,\n",
      "        1, 1, 1, 1, 1, 1, 1, 1, 1, 1, 1, 1, 1, 1, 1, 1, 1, 1, 1, 1, 1, 1, 1, 1,\n",
      "        1, 1, 1, 1, 1, 1, 1, 1, 1, 1, 1, 1, 1, 1, 1, 1, 1, 1, 1, 1, 1, 1, 1, 1,\n",
      "        1, 1, 1, 1, 1, 1, 1, 1]) tensor([ -5.5825,  -2.3492,  -5.9185,  -1.9626,  -2.6238,  -3.0513,  -8.0155,\n",
      "         -2.4026,  -1.4427,  -2.2463,  -4.6078,  -2.6153,   0.2952,  -5.0034,\n",
      "         -3.3934,  -1.9008,  -3.5794,  -1.4398,  -2.7869,  -1.1488, -10.1426,\n",
      "         -0.8366,  -1.4829,  -0.5248,  -3.6056,  -4.7949,  -5.1534,  -2.6918,\n",
      "         -4.1095,  -2.9314,  -3.6367,  -0.5441,  -3.4239,  -3.7036,  -0.7858,\n",
      "         -5.0973,  -2.2551,  -2.8213,  -2.4176,  -4.5921,  -1.1317,  -4.5253,\n",
      "         -2.2907,  -2.2316,  -2.9880,  -4.4224,  -2.0151,  -2.9609,  -2.6181,\n",
      "         -3.0753,  -2.2413,  -1.7765,  -3.1022,  -0.5335,  -5.2347,  -1.5109,\n",
      "         -1.3441,  -4.2180,  -4.1761,   3.2951,   3.1194,  -0.0907,   3.3291,\n",
      "          1.1757,   0.6424,   4.7174,   1.7823,   2.2868,   0.3426,   2.1548,\n",
      "          1.5365,   2.7754,   0.4370,   0.6718,   4.6010,   2.2028,   1.9256,\n",
      "         -1.0258,  -0.0996,  -2.1963,   0.9995,   2.8737,   0.6788,   1.2701,\n",
      "          0.7515,   2.7061,   2.8737,   2.7664,   2.8221,   3.1215,   4.4080,\n",
      "          4.1328,   4.8685,   0.1162,   3.3831,   0.3176,   1.4860,   4.6467,\n",
      "          3.8262,   2.2941,   0.0587,   2.6703,  -0.0270,   2.8556,   0.2588,\n",
      "         -0.0386,   0.3503,  -0.1182,   0.3731,   3.3360,   3.6108,   2.0378,\n",
      "          1.2389,   0.6302,   2.9660,   2.7864,   5.4067,   2.0592,  -1.5008,\n",
      "          1.6091], dtype=torch.float64)\n",
      "alpha  (80,) [0.09999999 0.09999999 0.09999999 0.09999999 0.09999999 0.09999999\n",
      " 0.09999999 0.09999998 0.09999999 0.09999999 0.09999999 0.09999999\n",
      " 0.09999999 0.09999999 0.09999999 0.09999999 0.09999999 0.09999999\n",
      " 0.09999999 0.09999999 0.1        0.1        0.09999999 0.09999999\n",
      " 0.1        0.1        0.1        0.1        0.09999999 0.09999999\n",
      " 0.09999999 0.1        0.1        0.1        0.1        0.09999999\n",
      " 0.1        0.1        0.09999999 0.1        0.09999999 0.09999999\n",
      " 0.06241179 0.09999999 0.09999999 0.09999999 0.09999992 0.09999999\n",
      " 0.09999999 0.09999998 0.09999999 0.09999999 0.09999999 0.09999999\n",
      " 0.09999999 0.09999999 0.09999999 0.09999999 0.09999999 0.09999999\n",
      " 0.1        0.1        0.09999999 0.1        0.1        0.09999999\n",
      " 0.09999999 0.09999999 0.09999999 0.09999999 0.09999999 0.09999999\n",
      " 0.09999999 0.1        0.1        0.09999999 0.1        0.09999999\n",
      " 0.09999999 0.09999999]\n",
      "tensor(False)\n",
      "(80, 80) (80, 80) (80, 80)\n",
      "(120, 80) (120, 80) (120, 80)\n",
      "tensor(-5.5825, dtype=torch.float64) False\n",
      "Set parameter Username\n"
     ]
    },
    {
     "name": "stderr",
     "output_type": "stream",
     "text": [
      "2024-04-10 20:03:40 (INFO): Set parameter Username\n"
     ]
    },
    {
     "name": "stdout",
     "output_type": "stream",
     "text": [
      "Academic license - for non-commercial use only - expires 2025-03-26\n"
     ]
    },
    {
     "name": "stderr",
     "output_type": "stream",
     "text": [
      "2024-04-10 20:03:40 (INFO): Academic license - for non-commercial use only - expires 2025-03-26\n"
     ]
    },
    {
     "name": "stdout",
     "output_type": "stream",
     "text": [
      "Set parameter IntegralityFocus to value 1\n"
     ]
    },
    {
     "name": "stderr",
     "output_type": "stream",
     "text": [
      "2024-04-10 20:03:41 (INFO): Set parameter IntegralityFocus to value 1\n"
     ]
    },
    {
     "name": "stdout",
     "output_type": "stream",
     "text": [
      "Set parameter IntFeasTol to value 0.0001\n"
     ]
    },
    {
     "name": "stderr",
     "output_type": "stream",
     "text": [
      "2024-04-10 20:03:41 (INFO): Set parameter IntFeasTol to value 0.0001\n"
     ]
    },
    {
     "name": "stdout",
     "output_type": "stream",
     "text": [
      "optimization status  10\n",
      "Original  tensor(-5.5825, dtype=torch.float64)\n",
      "Obj: -1.47408\n",
      "robust_count  1\n",
      "tensor(-2.3492, dtype=torch.float64) False\n",
      "Set parameter IntegralityFocus to value 1\n"
     ]
    },
    {
     "name": "stderr",
     "output_type": "stream",
     "text": [
      "2024-04-10 20:05:00 (INFO): Set parameter IntegralityFocus to value 1\n"
     ]
    },
    {
     "name": "stdout",
     "output_type": "stream",
     "text": [
      "Set parameter IntFeasTol to value 0.0001\n"
     ]
    },
    {
     "name": "stderr",
     "output_type": "stream",
     "text": [
      "2024-04-10 20:05:00 (INFO): Set parameter IntFeasTol to value 0.0001\n"
     ]
    },
    {
     "name": "stdout",
     "output_type": "stream",
     "text": [
      "\n",
      "Interrupt request received\n",
      "optimization status  11\n",
      "robust_count  2\n",
      "tensor(-5.9185, dtype=torch.float64) False\n",
      "Set parameter IntegralityFocus to value 1\n"
     ]
    },
    {
     "name": "stderr",
     "output_type": "stream",
     "text": [
      "2024-04-10 20:05:29 (INFO): Set parameter IntegralityFocus to value 1\n"
     ]
    },
    {
     "name": "stdout",
     "output_type": "stream",
     "text": [
      "Set parameter IntFeasTol to value 0.0001\n"
     ]
    },
    {
     "name": "stderr",
     "output_type": "stream",
     "text": [
      "2024-04-10 20:05:29 (INFO): Set parameter IntFeasTol to value 0.0001\n"
     ]
    }
   ],
   "source": [
    "model_params[\"cache_size\"] = 10000\n",
    "data_params[\"specification\"][\"avg_within_class_degree\"] = 1.58 * 2\n",
    "data_params[\"specification\"][\"avg_between_class_degree\"] = 0.37 * 2\n",
    "other_params[\"device\"] = \"cpu\"\n",
    "other_params[\"debug\"] = False\n",
    "certificate_params[\"n_adversarial\"] = 10\n",
    "certificate_params[\"delta\"] = 0.01\n",
    "certificate_params[\"method\"] = \"XXT\"\n",
    "certificate_params[\"perturbation_model\"] = \"linf\"\n",
    "certificate_params[\"cert_method\"] = \"bilevel_svm\"\n",
    "verbosity_params[\"debug_lvl\"] = \"info\"\n",
    "model_params[\"regularizer\"] = 0.1\n",
    "model_params[\"solver\"] = \"cvxopt\"\n",
    "model_params[\"alpha_tol\"] = 1e-4\n",
    "model_params[\"bias\"] = False\n",
    "data_params[\"learning_setting\"] = \"transductive\"\n",
    "run(data_params, model_params, certificate_params, verbosity_params, other_params, seed)"
   ]
  },
  {
   "cell_type": "code",
   "execution_count": null,
   "metadata": {},
   "outputs": [],
   "source": []
  },
  {
   "cell_type": "code",
   "execution_count": null,
   "metadata": {},
   "outputs": [],
   "source": []
  }
 ],
 "metadata": {
  "kernelspec": {
   "display_name": "py311_ntk",
   "language": "python",
   "name": "python3"
  },
  "language_info": {
   "codemirror_mode": {
    "name": "ipython",
    "version": 3
   },
   "file_extension": ".py",
   "mimetype": "text/x-python",
   "name": "python",
   "nbconvert_exporter": "python",
   "pygments_lexer": "ipython3",
   "version": "3.11.5"
  }
 },
 "nbformat": 4,
 "nbformat_minor": 2
}
