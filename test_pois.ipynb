{
 "cells": [
  {
   "cell_type": "code",
   "execution_count": 1,
   "metadata": {},
   "outputs": [],
   "source": [
    "%load_ext autoreload\n",
    "%autoreload 2"
   ]
  },
  {
   "cell_type": "code",
   "execution_count": 2,
   "metadata": {},
   "outputs": [],
   "source": [
    "import torch\n",
    "import numpy as np\n",
    "from exp_ntk_certify import run"
   ]
  },
  {
   "cell_type": "code",
   "execution_count": 3,
   "metadata": {},
   "outputs": [],
   "source": [
    "seed = 0\n",
    "\n",
    "data_params = dict(\n",
    "    dataset = \"csbm\",\n",
    "    learning_setting = \"transductive\", # or \"transdructive\"\n",
    "    specification = dict(\n",
    "        classes = 2,\n",
    "        n_trn_labeled = 10,\n",
    "        n_trn_unlabeled = 0,\n",
    "        n_val = 10,\n",
    "        n_test = 20,\n",
    "        sigma = 1,\n",
    "        avg_within_class_degree = 1.58 * 2,\n",
    "        avg_between_class_degree = 0.37 * 2,\n",
    "        K = 1.5,\n",
    "        seed = 0 # used to generate the dataset & data split\n",
    "    )\n",
    ")\n",
    "\n",
    "model_params = dict(\n",
    "    label = \"GCN\",\n",
    "    model = \"GCN\",\n",
    "    normalization = \"row_normalization\",\n",
    "    depth = 1,\n",
    "    #regularizer = 1e-8\n",
    "    regularizer = 1,\n",
    "    pred_method = \"svm\",\n",
    ")\n",
    "\n",
    "certificate_params = dict(\n",
    "    n_adversarial = 1, # number adversarial nodes\n",
    "    perturbation_model = \"linf\",\n",
    "    delta = 0.01 # l0: local budget = delta * feature_dim\n",
    ")\n",
    "\n",
    "verbosity_params = dict(\n",
    "    debug_lvl = \"warning\"\n",
    ")  \n",
    "\n",
    "other_params = dict(\n",
    "    device = \"0\",\n",
    "    dtype = torch.float64,\n",
    "    allow_tf32 = False\n",
    ")"
   ]
  },
  {
   "cell_type": "code",
   "execution_count": 80,
   "metadata": {},
   "outputs": [
    {
     "name": "stderr",
     "output_type": "stream",
     "text": [
      "2024-04-04 20:55:23 (INFO): Starting experiment exp_ntk_certify with configuration:\n",
      "2024-04-04 20:55:23 (INFO): data_params: {'dataset': 'csbm', 'learning_setting': 'transductive', 'specification': {'classes': 2, 'n_trn_labeled': 10, 'n_trn_unlabeled': 0, 'n_val': 10, 'n_test': 20, 'sigma': 1, 'avg_within_class_degree': 3.16, 'avg_between_class_degree': 0.74, 'K': 1.5, 'seed': 0}}\n",
      "2024-04-04 20:55:23 (INFO): model_params: {'label': 'GCN', 'model': 'GCN', 'normalization': 'row_normalization', 'depth': 1, 'regularizer': 0.005, 'pred_method': 'svm', 'cache_size': 10000, 'solver': 'cvxopt', 'alpha_tol': 0.0001, 'bias': False}\n",
      "2024-04-04 20:55:23 (INFO): certification_params: {'n_adversarial': 20, 'perturbation_model': 'linf', 'delta': 0.1, 'method': 'XXT', 'cert_method': 'bilevel_svm'}\n",
      "2024-04-04 20:55:23 (INFO): verbosity_params: {'debug_lvl': 'info'}\n",
      "2024-04-04 20:55:23 (INFO): other_params: {'device': 0, 'dtype': torch.float64, 'allow_tf32': False, 'debug': True}\n",
      "2024-04-04 20:55:23 (INFO): seed: 0\n",
      "2024-04-04 20:55:23 (INFO): Currently on gpu device cuda:0\n",
      "2024-04-04 20:55:23 (INFO): CSBM(p=0.16205128205128205, q=0.03794871794871795)\n",
      "2024-04-04 20:55:23 (INFO): X.min(): -2.6365225315093994\n",
      "2024-04-04 20:55:23 (INFO): X.max(): 2.4354052543640137\n",
      "2024-04-04 20:55:23 (INFO): X_rowsum.mean(): 0.5291779556031543\n",
      "2024-04-04 20:55:23 (INFO): X_rowsum.median(): 0.2260034680366516\n",
      "2024-04-04 20:55:23 (INFO): X_rowsum.min(): -3.5669777393341064\n",
      "2024-04-04 20:55:23 (INFO): X_rowsum.max(): 4.2898465394973755\n"
     ]
    },
    {
     "name": "stdout",
     "output_type": "stream",
     "text": [
      "CSBM mu:\n",
      "[0.4330127 0.4330127 0.4330127]\n",
      "X.mean() 0.17639265186771808\n",
      "Sig.mean(): 0.36988448929507456\n",
      "Sig.min(): -1.6167828163040219\n",
      "Sig.max(): 4.644553232768731\n",
      "Depth 0\n",
      "E_der.min(): 0.05886886208169891\n",
      "E_der.max(): 1.0\n",
      "Sig.mean(): 0.5356731910240182\n",
      "Sig.min(): 0.032657908105640024\n",
      "Sig.max(): 2.149047264537059\n",
      "tensor([[ 1.3716,  0.2269,  0.3171,  ...,  0.6583,  0.1156, -0.0652],\n",
      "        [ 0.2269,  0.5839,  0.2018,  ...,  0.7162,  0.8862,  0.5957],\n",
      "        [ 0.3171,  0.2018,  0.2248,  ...,  0.3432,  0.4679,  0.2430],\n",
      "        ...,\n",
      "        [ 0.6583,  0.7162,  0.3432,  ...,  1.9889,  1.5540,  0.5962],\n",
      "        [ 0.1156,  0.8862,  0.4679,  ...,  1.5540,  2.2469,  1.2198],\n",
      "        [-0.0652,  0.5957,  0.2430,  ...,  0.5962,  1.2198,  1.0697]],\n",
      "       device='cuda:0', dtype=torch.float64)\n",
      "     pcost       dcost       gap    pres   dres\n",
      " 0: -8.4542e+00 -4.4154e-01  9e+01  1e+01  4e-16\n",
      " 1: -6.4585e-01 -2.4779e-01  5e+00  5e-01  6e-16\n",
      " 2: -7.8310e-02 -2.0507e-01  1e-01  5e-17  5e-16\n",
      " 3: -9.1857e-02 -1.0411e-01  1e-02  7e-18  5e-16\n",
      " 4: -9.9616e-02 -9.9771e-02  2e-04  5e-18  4e-16\n",
      " 5: -9.9704e-02 -9.9705e-02  2e-06  5e-18  3e-16\n",
      " 6: -9.9705e-02 -9.9705e-02  2e-08  4e-18  3e-16\n",
      "Optimal solution found.\n",
      "[0.005 0.005 0.005 0.005 0.005 0.005 0.005 0.005 0.005 0.005 0.005 0.005\n",
      " 0.005 0.005 0.005 0.005 0.005 0.005 0.005 0.005]\n",
      "[[-0.005 -0.005 -0.005 -0.005 -0.005 -0.005 -0.005 -0.005 -0.005 -0.005\n",
      "   0.005  0.005  0.005  0.005  0.005  0.005  0.005  0.005  0.005  0.005]]\n"
     ]
    },
    {
     "ename": "AssertionError",
     "evalue": "",
     "output_type": "error",
     "traceback": [
      "\u001b[0;31m---------------------------------------------------------------------------\u001b[0m",
      "\u001b[0;31mAssertionError\u001b[0m                            Traceback (most recent call last)",
      "Cell \u001b[0;32mIn[80], line 17\u001b[0m\n\u001b[1;32m     15\u001b[0m model_params[\u001b[38;5;124m\"\u001b[39m\u001b[38;5;124mbias\u001b[39m\u001b[38;5;124m\"\u001b[39m] \u001b[38;5;241m=\u001b[39m \u001b[38;5;28;01mFalse\u001b[39;00m\n\u001b[1;32m     16\u001b[0m data_params[\u001b[38;5;124m\"\u001b[39m\u001b[38;5;124mlearning_setting\u001b[39m\u001b[38;5;124m\"\u001b[39m] \u001b[38;5;241m=\u001b[39m \u001b[38;5;124m\"\u001b[39m\u001b[38;5;124mtransductive\u001b[39m\u001b[38;5;124m\"\u001b[39m\n\u001b[0;32m---> 17\u001b[0m \u001b[43mrun\u001b[49m\u001b[43m(\u001b[49m\u001b[43mdata_params\u001b[49m\u001b[43m,\u001b[49m\u001b[43m \u001b[49m\u001b[43mmodel_params\u001b[49m\u001b[43m,\u001b[49m\u001b[43m \u001b[49m\u001b[43mcertificate_params\u001b[49m\u001b[43m,\u001b[49m\u001b[43m \u001b[49m\u001b[43mverbosity_params\u001b[49m\u001b[43m,\u001b[49m\u001b[43m \u001b[49m\u001b[43mother_params\u001b[49m\u001b[43m,\u001b[49m\u001b[43m \u001b[49m\u001b[43mseed\u001b[49m\u001b[43m)\u001b[49m\n",
      "File \u001b[0;32m/ceph/ssd/staff/gosl/.conda/envs/py311_ntk/lib/python3.11/site-packages/sacred/config/captured_function.py:42\u001b[0m, in \u001b[0;36mcaptured_function\u001b[0;34m(wrapped, instance, args, kwargs)\u001b[0m\n\u001b[1;32m     40\u001b[0m \u001b[38;5;66;03m# =================== run actual function =================================\u001b[39;00m\n\u001b[1;32m     41\u001b[0m \u001b[38;5;28;01mwith\u001b[39;00m ConfigError\u001b[38;5;241m.\u001b[39mtrack(wrapped\u001b[38;5;241m.\u001b[39mconfig, wrapped\u001b[38;5;241m.\u001b[39mprefix):\n\u001b[0;32m---> 42\u001b[0m     result \u001b[38;5;241m=\u001b[39m \u001b[43mwrapped\u001b[49m\u001b[43m(\u001b[49m\u001b[38;5;241;43m*\u001b[39;49m\u001b[43margs\u001b[49m\u001b[43m,\u001b[49m\u001b[43m \u001b[49m\u001b[38;5;241;43m*\u001b[39;49m\u001b[38;5;241;43m*\u001b[39;49m\u001b[43mkwargs\u001b[49m\u001b[43m)\u001b[49m\n\u001b[1;32m     43\u001b[0m \u001b[38;5;66;03m# =========================================================================\u001b[39;00m\n\u001b[1;32m     44\u001b[0m \u001b[38;5;28;01mif\u001b[39;00m wrapped\u001b[38;5;241m.\u001b[39mlogger \u001b[38;5;129;01mis\u001b[39;00m \u001b[38;5;129;01mnot\u001b[39;00m \u001b[38;5;28;01mNone\u001b[39;00m:\n",
      "File \u001b[0;32m/ceph/ssd/staff/gosl/src/ntk-robust/exp_ntk_certify.py:208\u001b[0m, in \u001b[0;36mrun\u001b[0;34m(data_params, model_params, certificate_params, verbosity_params, other_params, seed, _run)\u001b[0m\n\u001b[1;32m    206\u001b[0m     X_trn \u001b[38;5;241m=\u001b[39m X[idx_known, :]\n\u001b[1;32m    207\u001b[0m \u001b[38;5;28;01mwith\u001b[39;00m torch\u001b[38;5;241m.\u001b[39mno_grad():\n\u001b[0;32m--> 208\u001b[0m     ntk \u001b[38;5;241m=\u001b[39m \u001b[43mNTK\u001b[49m\u001b[43m(\u001b[49m\u001b[43mmodel_params\u001b[49m\u001b[43m,\u001b[49m\u001b[43m \u001b[49m\u001b[43mX_trn\u001b[49m\u001b[38;5;241;43m=\u001b[39;49m\u001b[43mX_trn\u001b[49m\u001b[43m,\u001b[49m\u001b[43m \u001b[49m\u001b[43mA_trn\u001b[49m\u001b[38;5;241;43m=\u001b[39;49m\u001b[43mA_trn\u001b[49m\u001b[43m,\u001b[49m\u001b[43m \u001b[49m\u001b[43mn_classes\u001b[49m\u001b[38;5;241;43m=\u001b[39;49m\u001b[43mn_classes\u001b[49m\u001b[43m,\u001b[49m\u001b[43m \u001b[49m\n\u001b[1;32m    209\u001b[0m \u001b[43m            \u001b[49m\u001b[43midx_trn_labeled\u001b[49m\u001b[38;5;241;43m=\u001b[39;49m\u001b[43midx_known_labeled\u001b[49m\u001b[43m,\u001b[49m\u001b[43m \u001b[49m\u001b[43my_trn\u001b[49m\u001b[38;5;241;43m=\u001b[39;49m\u001b[43my\u001b[49m\u001b[43m[\u001b[49m\u001b[43midx_labeled\u001b[49m\u001b[43m]\u001b[49m\u001b[43m,\u001b[49m\n\u001b[1;32m    210\u001b[0m \u001b[43m            \u001b[49m\u001b[43mlearning_setting\u001b[49m\u001b[38;5;241;43m=\u001b[39;49m\u001b[43mdata_params\u001b[49m\u001b[43m[\u001b[49m\u001b[38;5;124;43m\"\u001b[39;49m\u001b[38;5;124;43mlearning_setting\u001b[39;49m\u001b[38;5;124;43m\"\u001b[39;49m\u001b[43m]\u001b[49m\u001b[43m,\u001b[49m\n\u001b[1;32m    211\u001b[0m \u001b[43m            \u001b[49m\u001b[43mpred_method\u001b[49m\u001b[38;5;241;43m=\u001b[39;49m\u001b[43mmodel_params\u001b[49m\u001b[43m[\u001b[49m\u001b[38;5;124;43m\"\u001b[39;49m\u001b[38;5;124;43mpred_method\u001b[39;49m\u001b[38;5;124;43m\"\u001b[39;49m\u001b[43m]\u001b[49m\u001b[43m,\u001b[49m\n\u001b[1;32m    212\u001b[0m \u001b[43m            \u001b[49m\u001b[43mregularizer\u001b[49m\u001b[38;5;241;43m=\u001b[39;49m\u001b[43mmodel_params\u001b[49m\u001b[43m[\u001b[49m\u001b[38;5;124;43m\"\u001b[39;49m\u001b[38;5;124;43mregularizer\u001b[39;49m\u001b[38;5;124;43m\"\u001b[39;49m\u001b[43m]\u001b[49m\u001b[43m,\u001b[49m\n\u001b[1;32m    213\u001b[0m \u001b[43m            \u001b[49m\u001b[43mbias\u001b[49m\u001b[38;5;241;43m=\u001b[39;49m\u001b[43mmodel_params\u001b[49m\u001b[43m[\u001b[49m\u001b[38;5;124;43m\"\u001b[39;49m\u001b[38;5;124;43mbias\u001b[39;49m\u001b[38;5;124;43m\"\u001b[39;49m\u001b[43m]\u001b[49m\u001b[43m,\u001b[49m\n\u001b[1;32m    214\u001b[0m \u001b[43m            \u001b[49m\u001b[43msolver\u001b[49m\u001b[38;5;241;43m=\u001b[39;49m\u001b[43mmodel_params\u001b[49m\u001b[43m[\u001b[49m\u001b[38;5;124;43m\"\u001b[39;49m\u001b[38;5;124;43msolver\u001b[39;49m\u001b[38;5;124;43m\"\u001b[39;49m\u001b[43m]\u001b[49m\u001b[43m,\u001b[49m\n\u001b[1;32m    215\u001b[0m \u001b[43m            \u001b[49m\u001b[43malpha_tol\u001b[49m\u001b[38;5;241;43m=\u001b[39;49m\u001b[43mmodel_params\u001b[49m\u001b[43m[\u001b[49m\u001b[38;5;124;43m\"\u001b[39;49m\u001b[38;5;124;43malpha_tol\u001b[39;49m\u001b[38;5;124;43m\"\u001b[39;49m\u001b[43m]\u001b[49m\u001b[43m,\u001b[49m\n\u001b[1;32m    216\u001b[0m \u001b[43m            \u001b[49m\u001b[43mdtype\u001b[49m\u001b[38;5;241;43m=\u001b[39;49m\u001b[43mother_params\u001b[49m\u001b[43m[\u001b[49m\u001b[38;5;124;43m\"\u001b[39;49m\u001b[38;5;124;43mdtype\u001b[39;49m\u001b[38;5;124;43m\"\u001b[39;49m\u001b[43m]\u001b[49m\u001b[43m)\u001b[49m\n\u001b[1;32m    218\u001b[0m     y_pred, ntk_test \u001b[38;5;241m=\u001b[39m ntk(idx_labeled\u001b[38;5;241m=\u001b[39midx_labeled, idx_test\u001b[38;5;241m=\u001b[39midx_test,\n\u001b[1;32m    219\u001b[0m                            y_test\u001b[38;5;241m=\u001b[39my, X_test\u001b[38;5;241m=\u001b[39mX, A_test\u001b[38;5;241m=\u001b[39mA, return_ntk\u001b[38;5;241m=\u001b[39m\u001b[38;5;28;01mTrue\u001b[39;00m)\n\u001b[1;32m    220\u001b[0m     idx_adv \u001b[38;5;241m=\u001b[39m rng\u001b[38;5;241m.\u001b[39mchoice(idx_test, size\u001b[38;5;241m=\u001b[39mcertificate_params[\u001b[38;5;124m\"\u001b[39m\u001b[38;5;124mn_adversarial\u001b[39m\u001b[38;5;124m\"\u001b[39m],\n\u001b[1;32m    221\u001b[0m                          replace\u001b[38;5;241m=\u001b[39m\u001b[38;5;28;01mFalse\u001b[39;00m)\n",
      "File \u001b[0;32m/ceph/ssd/staff/gosl/src/ntk-robust/src/models/ntk.py:118\u001b[0m, in \u001b[0;36mNTK.__init__\u001b[0;34m(self, model_dict, X_trn, A_trn, n_classes, idx_trn_labeled, y_trn, learning_setting, pred_method, regularizer, bias, append_dimension, solver, alpha_tol, device, dtype)\u001b[0m\n\u001b[1;32m    116\u001b[0m \u001b[38;5;28mself\u001b[39m\u001b[38;5;241m.\u001b[39mbias \u001b[38;5;241m=\u001b[39m bias\n\u001b[1;32m    117\u001b[0m \u001b[38;5;28;01mif\u001b[39;00m pred_method \u001b[38;5;241m==\u001b[39m \u001b[38;5;124m\"\u001b[39m\u001b[38;5;124msvm\u001b[39m\u001b[38;5;124m\"\u001b[39m:\n\u001b[0;32m--> 118\u001b[0m     \u001b[38;5;28mself\u001b[39m\u001b[38;5;241m.\u001b[39msvm \u001b[38;5;241m=\u001b[39m \u001b[38;5;28;43mself\u001b[39;49m\u001b[38;5;241;43m.\u001b[39;49m\u001b[43mfit_svm\u001b[49m\u001b[43m(\u001b[49m\u001b[43mX_trn\u001b[49m\u001b[43m,\u001b[49m\u001b[43m \u001b[49m\u001b[43mA_trn\u001b[49m\u001b[43m,\u001b[49m\u001b[43m \u001b[49m\u001b[43my_trn\u001b[49m\u001b[43m,\u001b[49m\u001b[43m \u001b[49m\u001b[43midx_trn_labeled\u001b[49m\u001b[43m)\u001b[49m\n\u001b[1;32m    119\u001b[0m \u001b[38;5;28;01melse\u001b[39;00m:\n\u001b[1;32m    120\u001b[0m     \u001b[38;5;28;01massert\u001b[39;00m pred_method \u001b[38;5;241m==\u001b[39m \u001b[38;5;124m\"\u001b[39m\u001b[38;5;124mkrr\u001b[39m\u001b[38;5;124m\"\u001b[39m\n",
      "File \u001b[0;32m/ceph/ssd/staff/gosl/src/ntk-robust/src/models/ntk.py:179\u001b[0m, in \u001b[0;36mNTK.fit_svm\u001b[0;34m(self, X, A, y, idx_trn_labeled)\u001b[0m\n\u001b[1;32m    177\u001b[0m \u001b[38;5;28mself\u001b[39m\u001b[38;5;241m.\u001b[39mf_ \u001b[38;5;241m=\u001b[39m f_\n\u001b[1;32m    178\u001b[0m \u001b[38;5;28mprint\u001b[39m(f_\u001b[38;5;241m.\u001b[39mdual_coef_)\n\u001b[0;32m--> 179\u001b[0m \u001b[38;5;28;01massert\u001b[39;00m \u001b[38;5;28;01mFalse\u001b[39;00m\n\u001b[1;32m    180\u001b[0m \u001b[38;5;66;03m#print(f_.intercept_)\u001b[39;00m\n\u001b[1;32m    181\u001b[0m \u001b[38;5;28;01mreturn\u001b[39;00m alphas\n",
      "\u001b[0;31mAssertionError\u001b[0m: "
     ]
    }
   ],
   "source": [
    "model_params[\"cache_size\"] = 10000\n",
    "data_params[\"specification\"][\"avg_within_class_degree\"] = 1.58 * 2\n",
    "data_params[\"specification\"][\"avg_between_class_degree\"] = 0.37 * 2\n",
    "other_params[\"device\"] = 0\n",
    "other_params[\"debug\"] = True\n",
    "certificate_params[\"n_adversarial\"] = 20\n",
    "certificate_params[\"delta\"] = 0.1\n",
    "certificate_params[\"method\"] = \"XXT\"\n",
    "certificate_params[\"perturbation_model\"] = \"linf\"\n",
    "certificate_params[\"cert_method\"] = \"bilevel_svm\"\n",
    "verbosity_params[\"debug_lvl\"] = \"info\"\n",
    "model_params[\"regularizer\"] = 0.005\n",
    "model_params[\"solver\"] = \"cvxopt\"\n",
    "model_params[\"alpha_tol\"] = 1e-4\n",
    "model_params[\"bias\"] = False\n",
    "data_params[\"learning_setting\"] = \"transductive\"\n",
    "run(data_params, model_params, certificate_params, verbosity_params, other_params, seed)"
   ]
  },
  {
   "cell_type": "code",
   "execution_count": 28,
   "metadata": {},
   "outputs": [
    {
     "name": "stderr",
     "output_type": "stream",
     "text": [
      "2024-04-04 17:46:11 (INFO): Starting experiment exp_ntk_certify with configuration:\n",
      "2024-04-04 17:46:11 (INFO): data_params: {'dataset': 'csbm', 'learning_setting': 'transductive', 'specification': {'classes': 2, 'n_trn_labeled': 10, 'n_trn_unlabeled': 0, 'n_val': 10, 'n_test': 20, 'sigma': 1, 'avg_within_class_degree': 3.16, 'avg_between_class_degree': 0.74, 'K': 1.5, 'seed': 0}}\n",
      "2024-04-04 17:46:11 (INFO): model_params: {'label': 'GCN', 'model': 'GCN', 'normalization': 'row_normalization', 'depth': 1, 'regularizer': 0.005, 'pred_method': 'svm', 'cache_size': 10000, 'solver': 'cvxopt', 'alpha_tol': 0.0001, 'bias': False}\n",
      "2024-04-04 17:46:11 (INFO): certification_params: {'n_adversarial': 20, 'perturbation_model': 'linf', 'delta': 0.1, 'method': 'XXT', 'cert_method': 'bilevel_svm'}\n",
      "2024-04-04 17:46:11 (INFO): verbosity_params: {'debug_lvl': 'info'}\n",
      "2024-04-04 17:46:11 (INFO): other_params: {'device': 0, 'dtype': torch.float64, 'allow_tf32': False}\n",
      "2024-04-04 17:46:11 (INFO): seed: 0\n",
      "2024-04-04 17:46:11 (INFO): Currently on gpu device cuda:0\n",
      "2024-04-04 17:46:11 (INFO): CSBM(p=0.16205128205128205, q=0.03794871794871795)\n",
      "2024-04-04 17:46:11 (INFO): X.min(): -2.6365225315093994\n",
      "2024-04-04 17:46:11 (INFO): X.max(): 2.4354052543640137\n",
      "2024-04-04 17:46:11 (INFO): X_rowsum.mean(): 0.5291779556031543\n",
      "2024-04-04 17:46:11 (INFO): X_rowsum.median(): 0.2260034680366516\n",
      "2024-04-04 17:46:11 (INFO): X_rowsum.min(): -3.5669777393341064\n",
      "2024-04-04 17:46:11 (INFO): X_rowsum.max(): 4.2898465394973755\n"
     ]
    },
    {
     "name": "stdout",
     "output_type": "stream",
     "text": [
      "CSBM mu:\n",
      "[0.4330127 0.4330127 0.4330127]\n",
      "X.mean() 0.17639265186771808\n",
      "Depth 0\n",
      "nan: 0\n",
      "u_lb: tensor([[ 0.7972, -1.0000,  0.8160,  ...,  0.2879, -1.0000, -1.0000],\n",
      "        [-1.0000,  0.0000, -1.0000,  ..., -1.0000, -1.0000,  0.0879],\n",
      "        [ 0.8160, -1.0000,  1.0000,  ...,  0.1721, -1.0000, -1.0000],\n",
      "        ...,\n",
      "        [ 0.2879, -1.0000,  0.1721,  ...,  0.8157,  0.2240, -0.3499],\n",
      "        [-1.0000, -1.0000, -1.0000,  ...,  0.2240,  0.2001,  0.1653],\n",
      "        [-1.0000,  0.0879, -1.0000,  ..., -0.3499,  0.1653,  0.7357]],\n",
      "       device='cuda:0', dtype=torch.float64)\n"
     ]
    },
    {
     "ename": "AssertionError",
     "evalue": "",
     "output_type": "error",
     "traceback": [
      "\u001b[0;31m---------------------------------------------------------------------------\u001b[0m",
      "\u001b[0;31mAssertionError\u001b[0m                            Traceback (most recent call last)",
      "Cell \u001b[0;32mIn[28], line 16\u001b[0m\n\u001b[1;32m     14\u001b[0m model_params[\u001b[38;5;124m\"\u001b[39m\u001b[38;5;124mbias\u001b[39m\u001b[38;5;124m\"\u001b[39m] \u001b[38;5;241m=\u001b[39m \u001b[38;5;28;01mFalse\u001b[39;00m\n\u001b[1;32m     15\u001b[0m data_params[\u001b[38;5;124m\"\u001b[39m\u001b[38;5;124mlearning_setting\u001b[39m\u001b[38;5;124m\"\u001b[39m] \u001b[38;5;241m=\u001b[39m \u001b[38;5;124m\"\u001b[39m\u001b[38;5;124mtransductive\u001b[39m\u001b[38;5;124m\"\u001b[39m\n\u001b[0;32m---> 16\u001b[0m \u001b[43mrun\u001b[49m\u001b[43m(\u001b[49m\u001b[43mdata_params\u001b[49m\u001b[43m,\u001b[49m\u001b[43m \u001b[49m\u001b[43mmodel_params\u001b[49m\u001b[43m,\u001b[49m\u001b[43m \u001b[49m\u001b[43mcertificate_params\u001b[49m\u001b[43m,\u001b[49m\u001b[43m \u001b[49m\u001b[43mverbosity_params\u001b[49m\u001b[43m,\u001b[49m\u001b[43m \u001b[49m\u001b[43mother_params\u001b[49m\u001b[43m,\u001b[49m\u001b[43m \u001b[49m\u001b[43mseed\u001b[49m\u001b[43m)\u001b[49m\n",
      "File \u001b[0;32m/ceph/ssd/staff/gosl/.conda/envs/py311_ntk/lib/python3.11/site-packages/sacred/config/captured_function.py:42\u001b[0m, in \u001b[0;36mcaptured_function\u001b[0;34m(wrapped, instance, args, kwargs)\u001b[0m\n\u001b[1;32m     40\u001b[0m \u001b[38;5;66;03m# =================== run actual function =================================\u001b[39;00m\n\u001b[1;32m     41\u001b[0m \u001b[38;5;28;01mwith\u001b[39;00m ConfigError\u001b[38;5;241m.\u001b[39mtrack(wrapped\u001b[38;5;241m.\u001b[39mconfig, wrapped\u001b[38;5;241m.\u001b[39mprefix):\n\u001b[0;32m---> 42\u001b[0m     result \u001b[38;5;241m=\u001b[39m \u001b[43mwrapped\u001b[49m\u001b[43m(\u001b[49m\u001b[38;5;241;43m*\u001b[39;49m\u001b[43margs\u001b[49m\u001b[43m,\u001b[49m\u001b[43m \u001b[49m\u001b[38;5;241;43m*\u001b[39;49m\u001b[38;5;241;43m*\u001b[39;49m\u001b[43mkwargs\u001b[49m\u001b[43m)\u001b[49m\n\u001b[1;32m     43\u001b[0m \u001b[38;5;66;03m# =========================================================================\u001b[39;00m\n\u001b[1;32m     44\u001b[0m \u001b[38;5;28;01mif\u001b[39;00m wrapped\u001b[38;5;241m.\u001b[39mlogger \u001b[38;5;129;01mis\u001b[39;00m \u001b[38;5;129;01mnot\u001b[39;00m \u001b[38;5;28;01mNone\u001b[39;00m:\n",
      "File \u001b[0;32m/ceph/ssd/staff/gosl/src/ntk-robust/exp_ntk_certify.py:222\u001b[0m, in \u001b[0;36mrun\u001b[0;34m(data_params, model_params, certificate_params, verbosity_params, other_params, seed, _run)\u001b[0m\n\u001b[1;32m    218\u001b[0m     y_pred, ntk_test \u001b[38;5;241m=\u001b[39m ntk(idx_labeled\u001b[38;5;241m=\u001b[39midx_labeled, idx_test\u001b[38;5;241m=\u001b[39midx_test,\n\u001b[1;32m    219\u001b[0m                            y_test\u001b[38;5;241m=\u001b[39my, X_test\u001b[38;5;241m=\u001b[39mX, A_test\u001b[38;5;241m=\u001b[39mA, return_ntk\u001b[38;5;241m=\u001b[39m\u001b[38;5;28;01mTrue\u001b[39;00m)\n\u001b[1;32m    220\u001b[0m     idx_adv \u001b[38;5;241m=\u001b[39m rng\u001b[38;5;241m.\u001b[39mchoice(idx_test, size\u001b[38;5;241m=\u001b[39mcertificate_params[\u001b[38;5;124m\"\u001b[39m\u001b[38;5;124mn_adversarial\u001b[39m\u001b[38;5;124m\"\u001b[39m],\n\u001b[1;32m    221\u001b[0m                          replace\u001b[38;5;241m=\u001b[39m\u001b[38;5;28;01mFalse\u001b[39;00m)\n\u001b[0;32m--> 222\u001b[0m     y_ub, ntk_ub \u001b[38;5;241m=\u001b[39m \u001b[43mntk\u001b[49m\u001b[38;5;241;43m.\u001b[39;49m\u001b[43mforward_upperbound\u001b[49m\u001b[43m(\u001b[49m\u001b[43midx_labeled\u001b[49m\u001b[43m,\u001b[49m\u001b[43m \u001b[49m\u001b[43midx_test\u001b[49m\u001b[43m,\u001b[49m\u001b[43m \u001b[49m\u001b[43midx_adv\u001b[49m\u001b[43m,\u001b[49m\n\u001b[1;32m    223\u001b[0m \u001b[43m                                          \u001b[49m\u001b[43my\u001b[49m\u001b[43m,\u001b[49m\u001b[43m \u001b[49m\u001b[43mX\u001b[49m\u001b[43m,\u001b[49m\u001b[43m \u001b[49m\u001b[43mA\u001b[49m\u001b[43m,\u001b[49m\u001b[43m \u001b[49m\u001b[43mcertificate_params\u001b[49m\u001b[43m[\u001b[49m\u001b[38;5;124;43m\"\u001b[39;49m\u001b[38;5;124;43mdelta\u001b[39;49m\u001b[38;5;124;43m\"\u001b[39;49m\u001b[43m]\u001b[49m\u001b[43m,\u001b[49m\n\u001b[1;32m    224\u001b[0m \u001b[43m                                          \u001b[49m\u001b[43mcertificate_params\u001b[49m\u001b[43m[\u001b[49m\u001b[38;5;124;43m\"\u001b[39;49m\u001b[38;5;124;43mperturbation_model\u001b[39;49m\u001b[38;5;124;43m\"\u001b[39;49m\u001b[43m]\u001b[49m\u001b[43m,\u001b[49m\n\u001b[1;32m    225\u001b[0m \u001b[43m                                          \u001b[49m\u001b[43mreturn_ntk\u001b[49m\u001b[38;5;241;43m=\u001b[39;49m\u001b[38;5;28;43;01mTrue\u001b[39;49;00m\u001b[43m,\u001b[49m\n\u001b[1;32m    226\u001b[0m \u001b[43m                                          \u001b[49m\u001b[43mmethod\u001b[49m\u001b[38;5;241;43m=\u001b[39;49m\u001b[43mcertificate_params\u001b[49m\u001b[43m[\u001b[49m\u001b[38;5;124;43m\"\u001b[39;49m\u001b[38;5;124;43mmethod\u001b[39;49m\u001b[38;5;124;43m\"\u001b[39;49m\u001b[43m]\u001b[49m\u001b[43m)\u001b[49m\n\u001b[1;32m    227\u001b[0m     y_lb, ntk_lb \u001b[38;5;241m=\u001b[39m ntk\u001b[38;5;241m.\u001b[39mforward_lowerbound(idx_labeled, idx_test, idx_adv,\n\u001b[1;32m    228\u001b[0m                                           y, X, A, certificate_params[\u001b[38;5;124m\"\u001b[39m\u001b[38;5;124mdelta\u001b[39m\u001b[38;5;124m\"\u001b[39m],\n\u001b[1;32m    229\u001b[0m                                           certificate_params[\u001b[38;5;124m\"\u001b[39m\u001b[38;5;124mperturbation_model\u001b[39m\u001b[38;5;124m\"\u001b[39m],\n\u001b[1;32m    230\u001b[0m                                           return_ntk\u001b[38;5;241m=\u001b[39m\u001b[38;5;28;01mTrue\u001b[39;00m,\n\u001b[1;32m    231\u001b[0m                                           method\u001b[38;5;241m=\u001b[39mcertificate_params[\u001b[38;5;124m\"\u001b[39m\u001b[38;5;124mmethod\u001b[39m\u001b[38;5;124m\"\u001b[39m])\n\u001b[1;32m    232\u001b[0m     \u001b[38;5;66;03m#print(\"predictions:\")\u001b[39;00m\n\u001b[1;32m    233\u001b[0m     \u001b[38;5;66;03m#print(y_pred[:50,:])\u001b[39;00m\n\u001b[1;32m    234\u001b[0m     \u001b[38;5;66;03m#print(y_ub[:50,:])\u001b[39;00m\n\u001b[1;32m    235\u001b[0m     \u001b[38;5;66;03m#print(y_lb[:50,:])\u001b[39;00m\n\u001b[1;32m    236\u001b[0m \u001b[38;5;66;03m#Trivial bounds:\u001b[39;00m\n",
      "File \u001b[0;32m/ceph/ssd/staff/gosl/src/ntk-robust/src/models/ntk.py:973\u001b[0m, in \u001b[0;36mNTK.forward_upperbound\u001b[0;34m(self, idx_labeled, idx_test, idx_adv, y_test, X_test, A_test, delta, perturbation_model, learning_setting, force_recalculation, return_ntk, method)\u001b[0m\n\u001b[1;32m    971\u001b[0m \u001b[38;5;28;01mif\u001b[39;00m force_recalculation:\n\u001b[1;32m    972\u001b[0m     \u001b[38;5;28mself\u001b[39m\u001b[38;5;241m.\u001b[39mcalculated_lb_ub \u001b[38;5;241m=\u001b[39m \u001b[38;5;28;01mFalse\u001b[39;00m\n\u001b[0;32m--> 973\u001b[0m ntk_test_lb, ntk_test_ub \u001b[38;5;241m=\u001b[39m \u001b[38;5;28;43mself\u001b[39;49m\u001b[38;5;241;43m.\u001b[39;49m\u001b[43mcalc_ntk_lb_ub\u001b[49m\u001b[43m(\u001b[49m\u001b[43mX_test\u001b[49m\u001b[43m,\u001b[49m\u001b[43m \u001b[49m\u001b[43mA_test\u001b[49m\u001b[43m,\u001b[49m\u001b[43m \u001b[49m\u001b[43midx_adv\u001b[49m\u001b[43m,\u001b[49m\n\u001b[1;32m    974\u001b[0m \u001b[43m                                               \u001b[49m\u001b[43mdelta\u001b[49m\u001b[43m,\u001b[49m\u001b[43m \u001b[49m\u001b[43mperturbation_model\u001b[49m\u001b[43m,\u001b[49m\n\u001b[1;32m    975\u001b[0m \u001b[43m                                               \u001b[49m\u001b[43mmethod\u001b[49m\u001b[43m)\u001b[49m\n\u001b[1;32m    976\u001b[0m \u001b[38;5;28mself\u001b[39m\u001b[38;5;241m.\u001b[39mempty_gpu_memory()\n\u001b[1;32m    977\u001b[0m \u001b[38;5;28;01mif\u001b[39;00m learning_setting \u001b[38;5;241m==\u001b[39m \u001b[38;5;124m\"\u001b[39m\u001b[38;5;124minductive\u001b[39m\u001b[38;5;124m\"\u001b[39m:\n",
      "File \u001b[0;32m/ceph/ssd/staff/gosl/src/ntk-robust/src/models/ntk.py:682\u001b[0m, in \u001b[0;36mNTK.calc_ntk_lb_ub\u001b[0;34m(self, X, A, idx_adv, delta, perturbation_model, method)\u001b[0m\n\u001b[1;32m    680\u001b[0m u_lb_sq[torch\u001b[38;5;241m.\u001b[39misnan(u_lb_sq)] \u001b[38;5;241m=\u001b[39m \u001b[38;5;241m0\u001b[39m\n\u001b[1;32m    681\u001b[0m \u001b[38;5;28;01massert\u001b[39;00m (u_ub_sq \u001b[38;5;241m<\u001b[39m u_lb_sq)\u001b[38;5;241m.\u001b[39msum() \u001b[38;5;241m==\u001b[39m \u001b[38;5;241m0\u001b[39m\n\u001b[0;32m--> 682\u001b[0m \u001b[38;5;28;01massert\u001b[39;00m \u001b[38;5;28;01mFalse\u001b[39;00m\n\u001b[1;32m    683\u001b[0m \u001b[38;5;28;01mif\u001b[39;00m perturbation_model \u001b[38;5;241m==\u001b[39m \u001b[38;5;124m\"\u001b[39m\u001b[38;5;124ml0\u001b[39m\u001b[38;5;124m\"\u001b[39m:\n\u001b[1;32m    684\u001b[0m     \u001b[38;5;28;01massert\u001b[39;00m (Sig_lb \u001b[38;5;241m<\u001b[39m \u001b[38;5;241m0\u001b[39m)\u001b[38;5;241m.\u001b[39msum() \u001b[38;5;241m==\u001b[39m \u001b[38;5;241m0\u001b[39m\n",
      "\u001b[0;31mAssertionError\u001b[0m: "
     ]
    }
   ],
   "source": [
    "model_params[\"cache_size\"] = 10000\n",
    "data_params[\"specification\"][\"avg_within_class_degree\"] = 1.58 * 2\n",
    "data_params[\"specification\"][\"avg_between_class_degree\"] = 0.37 * 2\n",
    "other_params[\"device\"] = 0\n",
    "certificate_params[\"n_adversarial\"] = 20\n",
    "certificate_params[\"delta\"] = 0.1\n",
    "certificate_params[\"method\"] = \"XXT\"\n",
    "certificate_params[\"perturbation_model\"] = \"linf\"\n",
    "certificate_params[\"cert_method\"] = \"bilevel_svm\"\n",
    "verbosity_params[\"debug_lvl\"] = \"info\"\n",
    "model_params[\"regularizer\"] = 0.005\n",
    "model_params[\"solver\"] = \"cvxopt\"\n",
    "model_params[\"alpha_tol\"] = 1e-4\n",
    "model_params[\"bias\"] = False\n",
    "data_params[\"learning_setting\"] = \"transductive\"\n",
    "run(data_params, model_params, certificate_params, verbosity_params, other_params, seed)"
   ]
  },
  {
   "cell_type": "code",
   "execution_count": null,
   "metadata": {},
   "outputs": [],
   "source": []
  },
  {
   "cell_type": "code",
   "execution_count": null,
   "metadata": {},
   "outputs": [],
   "source": []
  }
 ],
 "metadata": {
  "kernelspec": {
   "display_name": "py311_ntk",
   "language": "python",
   "name": "python3"
  },
  "language_info": {
   "codemirror_mode": {
    "name": "ipython",
    "version": 3
   },
   "file_extension": ".py",
   "mimetype": "text/x-python",
   "name": "python",
   "nbconvert_exporter": "python",
   "pygments_lexer": "ipython3",
   "version": "3.11.5"
  }
 },
 "nbformat": 4,
 "nbformat_minor": 2
}
