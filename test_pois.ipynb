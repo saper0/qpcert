{
 "cells": [
  {
   "cell_type": "code",
   "execution_count": 1,
   "metadata": {},
   "outputs": [],
   "source": [
    "%load_ext autoreload\n",
    "%autoreload 2"
   ]
  },
  {
   "cell_type": "code",
   "execution_count": 2,
   "metadata": {},
   "outputs": [],
   "source": [
    "import os\n",
    "os.environ[\"GRB_LICENSE_FILE\"] = \"/ceph/ssd/staff/gosl/app/gurobi.lic\"\n"
   ]
  },
  {
   "cell_type": "code",
   "execution_count": 3,
   "metadata": {},
   "outputs": [],
   "source": [
    "import torch\n",
    "import numpy as np\n",
    "from exp_ntk_certify import run"
   ]
  },
  {
   "cell_type": "code",
   "execution_count": 12,
   "metadata": {},
   "outputs": [],
   "source": [
    "seed = 0\n",
    "\n",
    "data_params = dict(\n",
    "    dataset = \"csbm\",\n",
    "    learning_setting = \"transductive\", # or \"transdructive\"\n",
    "    specification = dict(\n",
    "        classes = 2,\n",
    "        n_trn_labeled = 40, \n",
    "        n_trn_unlabeled = 0,\n",
    "        n_val = 40,\n",
    "        n_test = 1,\n",
    "        sigma = 1,\n",
    "        avg_within_class_degree = 1.58 * 2,\n",
    "        avg_between_class_degree = 0.37 * 2,\n",
    "        K = 1.5,\n",
    "        seed = 10 # used to generate the dataset & data split\n",
    "    )\n",
    ")\n",
    "\n",
    "model_params = dict(\n",
    "    label = \"GCN\",\n",
    "    model = \"GCN\",\n",
    "    normalization = \"row_normalization\",\n",
    "    depth = 1,\n",
    "    #regularizer = 1e-8\n",
    "    regularizer = 1,\n",
    "    pred_method = \"svm\",\n",
    ")\n",
    "\n",
    "certificate_params = dict(\n",
    "    n_adversarial = 1, # number adversarial nodes\n",
    "    perturbation_model = \"linf\",\n",
    "    delta = 0.01 # l0: local budget = delta * feature_dim\n",
    ")\n",
    "\n",
    "verbosity_params = dict(\n",
    "    debug_lvl = \"warning\"\n",
    ")  \n",
    "\n",
    "other_params = dict(\n",
    "    device = \"cpu\",\n",
    "    dtype = torch.float64,\n",
    "    allow_tf32 = False\n",
    ")"
   ]
  },
  {
   "cell_type": "code",
   "execution_count": 34,
   "metadata": {},
   "outputs": [
    {
     "name": "stderr",
     "output_type": "stream",
     "text": [
      "2024-04-09 11:05:50 (INFO): Starting experiment exp_ntk_certify with configuration:\n",
      "2024-04-09 11:05:50 (INFO): data_params: {'dataset': 'csbm', 'learning_setting': 'transductive', 'specification': {'classes': 2, 'n_trn_labeled': 40, 'n_trn_unlabeled': 0, 'n_val': 40, 'n_test': 1, 'sigma': 1, 'avg_within_class_degree': 3.16, 'avg_between_class_degree': 0.74, 'K': 1.5, 'seed': 10}}\n",
      "2024-04-09 11:05:50 (INFO): model_params: {'label': 'GCN', 'model': 'GCN', 'normalization': 'row_normalization', 'depth': 1, 'regularizer': 1, 'pred_method': 'svm', 'cache_size': 10000, 'solver': 'cvxopt', 'alpha_tol': 0.0001, 'bias': True}\n",
      "2024-04-09 11:05:50 (INFO): certification_params: {'n_adversarial': 1, 'perturbation_model': 'linf', 'delta': 1e-06, 'method': 'XXT', 'cert_method': 'ntk_bound'}\n",
      "2024-04-09 11:05:50 (INFO): verbosity_params: {'debug_lvl': 'info'}\n",
      "2024-04-09 11:05:50 (INFO): other_params: {'device': 'cpu', 'dtype': torch.float64, 'allow_tf32': False, 'debug': False}\n",
      "2024-04-09 11:05:50 (INFO): seed: 0\n",
      "2024-04-09 11:05:50 (INFO): CSBM(p=0.07900, q=0.01850)\n",
      "2024-04-09 11:05:50 (INFO): Accuracy 1.0\n"
     ]
    },
    {
     "name": "stdout",
     "output_type": "stream",
     "text": [
      "CSBM mu:\n",
      "[0.375 0.375 0.375 0.375]\n",
      "     pcost       dcost       gap    pres   dres\n",
      " 0: -7.0742e+01 -1.7964e+02  5e+02  2e+00  3e-15\n",
      " 1: -5.5827e+01 -1.2030e+02  6e+01  8e-15  4e-15\n",
      " 2: -6.5548e+01 -7.3774e+01  8e+00  4e-15  3e-15\n",
      " 3: -6.9103e+01 -7.0358e+01  1e+00  1e-14  3e-15\n",
      " 4: -6.9618e+01 -6.9863e+01  2e-01  1e-14  3e-15\n",
      " 5: -6.9730e+01 -6.9748e+01  2e-02  7e-15  3e-15\n",
      " 6: -6.9739e+01 -6.9739e+01  2e-04  4e-15  3e-15\n",
      " 7: -6.9739e+01 -6.9739e+01  2e-06  3e-15  3e-15\n",
      "Optimal solution found.\n",
      "Alphas found: ['1.0000', '1.0000', '1.0000', '1.0000', '1.0000', '0.0000', '1.0000', '1.0000', '1.0000', '1.0000', '1.0000', '1.0000', '1.0000', '1.0000', '1.0000', '1.0000', '1.0000', '1.0000', '1.0000', '1.0000', '1.0000', '1.0000', '1.0000', '1.0000', '1.0000', '1.0000', '1.0000', '0.0875', '1.0000', '1.0000', '1.0000', '1.0000', '1.0000', '1.0000', '1.0000', '0.1825', '1.0000', '1.0000', '1.0000', '1.0000', '0.0000', '1.0000', '1.0000', '0.8504', '1.0000', '1.0000', '1.0000', '1.0000', '1.0000', '1.0000', '0.2446', '1.0000', '1.0000', '1.0000', '1.0000', '1.0000', '1.0000', '1.0000', '1.0000', '1.0000', '1.0000', '1.0000', '1.0000', '1.0000', '1.0000', '1.0000', '1.0000', '1.0000', '1.0000', '1.0000', '1.0000', '1.0000', '1.0000', '0.2360', '1.0000', '1.0000', '0.5891', '1.0000', '1.0000', '1.0000']\n"
     ]
    },
    {
     "data": {
      "text/plain": [
       "{'accuracy': 1.0,\n",
       " 'accuracy_ub': 1.0,\n",
       " 'accuracy_lb': 1.0,\n",
       " 'accuracy_cert_trivial': 0.0,\n",
       " 'accuracy_cert': 1.0,\n",
       " 'accuracy_cert_unrobust': 0.0,\n",
       " 'min_ypred': 26.49022276056322,\n",
       " 'max_ypred': 26.49022276056322,\n",
       " 'min_ylb': 26.489498241798472,\n",
       " 'max_ylb': 26.489498241798472,\n",
       " 'min_yub': 26.490822265072687,\n",
       " 'max_yub': 26.490822265072687,\n",
       " 'avg_ntklb': 0.6965622018670637,\n",
       " 'min_ntklb': -0.4470534594004233,\n",
       " 'max_ntklb': 10.539629412364503,\n",
       " 'avg_ntkub': 0.6965644678790995,\n",
       " 'min_ntkub': -0.4470534594004233,\n",
       " 'max_ntkub': 10.539629412364503,\n",
       " 'min_ntklabeled': -0.23449457293355513,\n",
       " 'max_ntklabeled': 10.635358098552128,\n",
       " 'avg_ntkunlabeled': 0.2908310918682858,\n",
       " 'min_ntkunlabeled': 0.03724758160837138,\n",
       " 'max_ntkunlabeled': 2.0961276263059307,\n",
       " 'cond': 80.70978190210754}"
      ]
     },
     "execution_count": 34,
     "metadata": {},
     "output_type": "execute_result"
    }
   ],
   "source": [
    "model_params[\"cache_size\"] = 10000\n",
    "data_params[\"specification\"][\"avg_within_class_degree\"] = 1.58 * 2\n",
    "data_params[\"specification\"][\"avg_between_class_degree\"] = 0.37 * 2\n",
    "other_params[\"device\"] = \"cpu\"\n",
    "other_params[\"debug\"] = False\n",
    "certificate_params[\"n_adversarial\"] = 1\n",
    "certificate_params[\"delta\"] = 1e-6\n",
    "certificate_params[\"method\"] = \"XXT\"\n",
    "certificate_params[\"perturbation_model\"] = \"linf\"\n",
    "certificate_params[\"cert_method\"] = \"ntk_bound\"\n",
    "verbosity_params[\"debug_lvl\"] = \"info\"\n",
    "model_params[\"regularizer\"] = 1\n",
    "model_params[\"solver\"] = \"cvxopt\"\n",
    "model_params[\"alpha_tol\"] = 1e-4\n",
    "model_params[\"bias\"] = True\n",
    "data_params[\"learning_setting\"] = \"transductive\"\n",
    "run(data_params, model_params, certificate_params, verbosity_params, other_params, seed)"
   ]
  },
  {
   "cell_type": "code",
   "execution_count": null,
   "metadata": {},
   "outputs": [],
   "source": []
  },
  {
   "cell_type": "code",
   "execution_count": null,
   "metadata": {},
   "outputs": [],
   "source": []
  }
 ],
 "metadata": {
  "kernelspec": {
   "display_name": "py311_ntk",
   "language": "python",
   "name": "python3"
  },
  "language_info": {
   "codemirror_mode": {
    "name": "ipython",
    "version": 3
   },
   "file_extension": ".py",
   "mimetype": "text/x-python",
   "name": "python",
   "nbconvert_exporter": "python",
   "pygments_lexer": "ipython3",
   "version": "3.11.5"
  }
 },
 "nbformat": 4,
 "nbformat_minor": 2
}
