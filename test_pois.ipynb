{
 "cells": [
  {
   "cell_type": "code",
   "execution_count": 1,
   "metadata": {},
   "outputs": [],
   "source": [
    "%load_ext autoreload\n",
    "%autoreload 2"
   ]
  },
  {
   "cell_type": "code",
   "execution_count": 2,
   "metadata": {},
   "outputs": [],
   "source": [
    "import os\n",
    "os.environ[\"GRB_LICENSE_FILE\"] = \"/ceph/ssd/staff/gosl/app/gurobi.lic\"\n"
   ]
  },
  {
   "cell_type": "code",
   "execution_count": 3,
   "metadata": {},
   "outputs": [],
   "source": [
    "import torch\n",
    "import numpy as np\n",
    "from exp_ntk_certify import run"
   ]
  },
  {
   "cell_type": "code",
   "execution_count": 18,
   "metadata": {},
   "outputs": [],
   "source": [
    "seed = 0\n",
    "\n",
    "data_params = dict(\n",
    "    dataset = \"csbm\",\n",
    "    learning_setting = \"transductive\", # or \"transdructive\"\n",
    "    specification = dict(\n",
    "        classes = 2,\n",
    "        n_trn_labeled = 40,\n",
    "        n_trn_unlabeled = 0,\n",
    "        n_val = 40,\n",
    "        n_test = 200,\n",
    "        sigma = 1,\n",
    "        avg_within_class_degree = 1.58 * 2,\n",
    "        avg_between_class_degree = 0.37 * 2,\n",
    "        K = 1.5,\n",
    "        seed = 0 # used to generate the dataset & data split\n",
    "    )\n",
    ")\n",
    "\n",
    "model_params = dict(\n",
    "    label = \"GCN\",\n",
    "    model = \"GCN\",\n",
    "    normalization = \"row_normalization\",\n",
    "    depth = 1,\n",
    "    #regularizer = 1e-8\n",
    "    regularizer = 1,\n",
    "    pred_method = \"svm\",\n",
    ")\n",
    "\n",
    "certificate_params = dict(\n",
    "    n_adversarial = 1, # number adversarial nodes\n",
    "    perturbation_model = \"linf\",\n",
    "    delta = 0.01 # l0: local budget = delta * feature_dim\n",
    ")\n",
    "\n",
    "verbosity_params = dict(\n",
    "    debug_lvl = \"warning\"\n",
    ")  \n",
    "\n",
    "other_params = dict(\n",
    "    device = \"0\",\n",
    "    dtype = torch.float64,\n",
    "    allow_tf32 = False\n",
    ")"
   ]
  },
  {
   "cell_type": "code",
   "execution_count": 19,
   "metadata": {},
   "outputs": [
    {
     "name": "stderr",
     "output_type": "stream",
     "text": [
      "2024-04-05 21:04:30 (INFO): Starting experiment exp_ntk_certify with configuration:\n",
      "2024-04-05 21:04:30 (INFO): data_params: {'dataset': 'csbm', 'learning_setting': 'inductive', 'specification': {'classes': 2, 'n_trn_labeled': 40, 'n_trn_unlabeled': 0, 'n_val': 40, 'n_test': 200, 'sigma': 1, 'avg_within_class_degree': 3.16, 'avg_between_class_degree': 0.74, 'K': 1.5, 'seed': 0}}\n",
      "2024-04-05 21:04:30 (INFO): model_params: {'label': 'GCN', 'model': 'GCN', 'normalization': 'row_normalization', 'depth': 1, 'regularizer': 10, 'pred_method': 'svm', 'cache_size': 10000, 'solver': 'cvxopt', 'alpha_tol': 0.0001, 'bias': False}\n",
      "2024-04-05 21:04:30 (INFO): certification_params: {'n_adversarial': 10, 'perturbation_model': 'linf', 'delta': 0.05, 'method': 'XXT', 'cert_method': 'ntk_bound'}\n",
      "2024-04-05 21:04:30 (INFO): verbosity_params: {'debug_lvl': 'info'}\n",
      "2024-04-05 21:04:30 (INFO): other_params: {'device': 0, 'dtype': torch.float64, 'allow_tf32': False, 'debug': False}\n",
      "2024-04-05 21:04:30 (INFO): seed: 0\n",
      "2024-04-05 21:04:30 (INFO): Currently on gpu device cuda:0\n",
      "2024-04-05 21:04:30 (INFO): CSBM(p=0.022652329749103944, q=0.005304659498207885)\n",
      "2024-04-05 21:04:30 (INFO): X.min(): -4.149421691894531\n",
      "2024-04-05 21:04:30 (INFO): X.max(): 2.9427573680877686\n",
      "2024-04-05 21:04:30 (INFO): X_rowsum.mean(): -0.13949140668888244\n",
      "2024-04-05 21:04:30 (INFO): X_rowsum.median(): -0.11605912400409579\n",
      "2024-04-05 21:04:30 (INFO): X_rowsum.min(): -9.444834306836128\n",
      "2024-04-05 21:04:30 (INFO): X_rowsum.max(): 9.136880576610565\n",
      "2024-04-05 21:04:30 (INFO): Accuracy 0.8349999785423279\n"
     ]
    },
    {
     "name": "stdout",
     "output_type": "stream",
     "text": [
      "CSBM mu:\n",
      "[0.25 0.25 0.25 0.25 0.25 0.25 0.25 0.25 0.25]\n",
      "X.mean() -0.015499045187653604\n",
      "tensor([[ 8.6638,  1.8081,  2.7694,  ...,  1.4649,  2.9793,  0.1474],\n",
      "        [ 1.8081,  3.8939,  2.6414,  ...,  0.8917,  0.4570,  2.2749],\n",
      "        [ 2.7694,  2.6414, 12.6003,  ...,  0.8681,  1.2670,  2.2477],\n",
      "        ...,\n",
      "        [ 1.4649,  0.8917,  0.8681,  ...,  1.2364,  1.1845,  1.7045],\n",
      "        [ 2.9793,  0.4570,  1.2670,  ...,  1.1845,  6.6676,  1.3267],\n",
      "        [ 0.1474,  2.2749,  2.2477,  ...,  1.7045,  1.3267, 12.9359]],\n",
      "       device='cuda:0', dtype=torch.float64)\n",
      "     pcost       dcost       gap    pres   dres\n",
      " 0:  1.2030e+02 -3.5362e+03  7e+03  4e-01  1e-14\n",
      " 1:  1.3011e+02 -7.3849e+02  1e+03  3e-02  1e-14\n",
      " 2:  2.0831e+01 -1.1037e+02  1e+02  2e-03  7e-15\n",
      " 3: -8.2405e+00 -2.9364e+01  2e+01  1e-04  4e-15\n",
      " 4: -1.3213e+01 -1.8695e+01  6e+00  3e-05  3e-15\n",
      " 5: -1.4747e+01 -1.5646e+01  9e-01  3e-06  2e-15\n",
      " 6: -1.5060e+01 -1.5148e+01  9e-02  2e-07  2e-15\n",
      " 7: -1.5095e+01 -1.5097e+01  2e-03  3e-09  2e-15\n",
      " 8: -1.5096e+01 -1.5096e+01  3e-05  3e-11  3e-15\n",
      " 9: -1.5096e+01 -1.5096e+01  3e-07  3e-13  3e-15\n",
      "Optimal solution found.\n",
      "{'x': <80x1 matrix, tc='d'>, 'y': <0x1 matrix, tc='d'>, 's': <160x1 matrix, tc='d'>, 'z': <160x1 matrix, tc='d'>, 'status': 'optimal', 'gap': 2.5455474728960017e-07, 'relative gap': 1.6862165289880276e-08, 'primal objective': -15.09620756963933, 'dual objective': -15.096207824064786, 'primal infeasibility': 2.6205632929859925e-13, 'dual infeasibility': 2.880294370642608e-15, 'primal slack': 1.1424858385204767e-10, 'dual slack': 6.135218833397572e-11, 'iterations': 9}\n",
      "Alphas found: [1.79825719e-09 4.49669958e-09 5.04447871e-02 2.57541760e-10\n",
      " 3.16317610e-10 6.62772523e-01 1.23955668e-09 5.56246599e-02\n",
      " 9.51904541e-09 1.76957805e-10 5.27425043e-01 1.32119668e-02\n",
      " 2.71559064e-01 2.42459532e-10 1.52895044e-10 7.14179321e-02\n",
      " 4.40837238e-10 3.24170714e-09 1.23092068e+00 3.08324436e-01\n",
      " 1.13781995e-08 3.53561104e-10 4.14959488e-07 4.53322220e-09\n",
      " 6.78296689e-10 4.14959488e-07 1.58808805e+00 1.26734162e-01\n",
      " 3.66565153e-01 2.50617002e-01 6.68069613e-01 1.25377955e+00\n",
      " 8.64865053e-10 1.35746953e-09 8.82956615e-10 7.78829682e-01\n",
      " 3.21140024e-09 2.94369599e+00 2.06333202e-01 9.36135090e-10\n",
      " 1.55748130e+00 9.58545040e-09 1.68798557e-10 2.35343444e-01\n",
      " 5.33682115e-02 2.28828629e-10 5.78147789e-10 3.76726650e-01\n",
      " 7.14179322e-02 9.59748700e-10 7.44350679e-01 2.76855867e-10\n",
      " 1.32119668e-02 2.76855867e-10 5.99040285e-09 5.33682115e-02\n",
      " 9.92583500e-01 5.59123650e+00 1.58027393e+00 3.15449780e-10\n",
      " 1.12395480e-10 8.18027312e-10 5.72798584e-01 4.24844434e-10\n",
      " 2.68889437e-10 3.10075247e-09 3.43261857e-09 1.50275950e-09\n",
      " 1.17890334e-09 1.51644513e-07 6.25336144e-09 6.07530349e-10\n",
      " 4.23826419e-10 2.29617838e-10 1.01782648e+00 1.26734161e-01\n",
      " 2.75893117e-09 4.75579534e+00 1.07548389e+00 6.87130128e-10]\n",
      "[[-4.26293516e-02 -8.41345230e-01 -4.29070177e-01 -1.91628004e-01\n",
      "  -1.18493379e+00 -2.52661294e-01 -1.63719378e+00 -1.55635120e-03\n",
      "  -4.81223126e-01 -1.08366137e-01 -3.28468279e-01 -9.75820485e-02\n",
      "  -9.63805198e-01 -6.53403027e+00 -1.65698691e+00  1.28728287e+00\n",
      "   1.43588963e-02  3.43658929e-01  2.95666603e-01  5.47547989e-01\n",
      "   9.05175179e-01  9.13633138e-01  3.44164220e+00  2.18491016e-01\n",
      "   7.86028457e-01  9.13171880e-01  1.94297303e-01  3.96660084e+00\n",
      "   9.23924653e-01]]\n",
      "tensor([], device='cuda:0', dtype=torch.float64)\n"
     ]
    },
    {
     "data": {
      "text/plain": [
       "{'accuracy': 0.8349999785423279,\n",
       " 'accuracy_ub': 0.7549999952316284,\n",
       " 'accuracy_lb': 0.8149999976158142,\n",
       " 'accuracy_cert_trivial': 0.57,\n",
       " 'accuracy_cert': 0.7699999809265137,\n",
       " 'accuracy_cert_unrobust': 0.0,\n",
       " 'min_ypred': -9.209222274211932,\n",
       " 'max_ypred': 13.024179468177147,\n",
       " 'min_ylb': -13.07503281996931,\n",
       " 'max_ylb': 12.454546892162945,\n",
       " 'min_yub': -8.565138014691824,\n",
       " 'max_yub': 13.532818922559645,\n",
       " 'avg_ntklb': 0.7796019890342774,\n",
       " 'min_ntklb': -0.56791616023592,\n",
       " 'max_ntklb': 16.832196933754503,\n",
       " 'avg_ntkub': 0.8617887308830283,\n",
       " 'min_ntkub': -0.4612999889266439,\n",
       " 'max_ntkub': 16.832196933754503,\n",
       " 'min_ntklabeled': -1.4790393185828268,\n",
       " 'max_ntklabeled': 37.96431087152154,\n",
       " 'avg_ntkunlabeled': 0.8023855998151816,\n",
       " 'min_ntkunlabeled': -0.4612999889266439,\n",
       " 'max_ntkunlabeled': 4.949783003985266,\n",
       " 'cond': 17.094300822456614}"
      ]
     },
     "execution_count": 19,
     "metadata": {},
     "output_type": "execute_result"
    }
   ],
   "source": [
    "model_params[\"cache_size\"] = 10000\n",
    "data_params[\"specification\"][\"avg_within_class_degree\"] = 1.58 * 2\n",
    "data_params[\"specification\"][\"avg_between_class_degree\"] = 0.37 * 2\n",
    "other_params[\"device\"] = 0\n",
    "other_params[\"debug\"] = False\n",
    "certificate_params[\"n_adversarial\"] = 10\n",
    "certificate_params[\"delta\"] = 0.05\n",
    "certificate_params[\"method\"] = \"XXT\"\n",
    "certificate_params[\"perturbation_model\"] = \"linf\"\n",
    "certificate_params[\"cert_method\"] = \"ntk_bound\"\n",
    "verbosity_params[\"debug_lvl\"] = \"info\"\n",
    "model_params[\"regularizer\"] = 10\n",
    "model_params[\"solver\"] = \"cvxopt\"\n",
    "model_params[\"alpha_tol\"] = 1e-4\n",
    "model_params[\"bias\"] = False\n",
    "data_params[\"learning_setting\"] = \"inductive\"\n",
    "run(data_params, model_params, certificate_params, verbosity_params, other_params, seed)"
   ]
  },
  {
   "cell_type": "code",
   "execution_count": 10,
   "metadata": {},
   "outputs": [
    {
     "name": "stderr",
     "output_type": "stream",
     "text": [
      "2024-04-05 20:44:45 (INFO): Starting experiment exp_ntk_certify with configuration:\n",
      "2024-04-05 20:44:45 (INFO): data_params: {'dataset': 'csbm', 'learning_setting': 'transductive', 'specification': {'classes': 2, 'n_trn_labeled': 40, 'n_trn_unlabeled': 0, 'n_val': 40, 'n_test': 200, 'sigma': 1, 'avg_within_class_degree': 3.16, 'avg_between_class_degree': 0.74, 'K': 1.5, 'seed': 0}}\n",
      "2024-04-05 20:44:45 (INFO): model_params: {'label': 'GCN', 'model': 'GCN', 'normalization': 'row_normalization', 'depth': 1, 'regularizer': 0.01, 'pred_method': 'svm', 'cache_size': 10000, 'solver': 'sklea', 'alpha_tol': 0.0001, 'bias': False}\n",
      "2024-04-05 20:44:45 (INFO): certification_params: {'n_adversarial': 20, 'perturbation_model': 'linf', 'delta': 0.01, 'method': 'XXT', 'cert_method': 'bilevel_svm'}\n",
      "2024-04-05 20:44:45 (INFO): verbosity_params: {'debug_lvl': 'info'}\n",
      "2024-04-05 20:44:45 (INFO): other_params: {'device': 0, 'dtype': torch.float64, 'allow_tf32': False, 'debug': True}\n",
      "2024-04-05 20:44:45 (INFO): seed: 0\n",
      "2024-04-05 20:44:45 (INFO): Currently on gpu device cuda:0\n",
      "2024-04-05 20:44:45 (INFO): CSBM(p=0.022652329749103944, q=0.005304659498207885)\n",
      "2024-04-05 20:44:45 (INFO): X.min(): -4.149421691894531\n",
      "2024-04-05 20:44:45 (INFO): X.max(): 2.9427573680877686\n",
      "2024-04-05 20:44:45 (INFO): X_rowsum.mean(): -0.13949140668888244\n",
      "2024-04-05 20:44:45 (INFO): X_rowsum.median(): -0.11605912400409579\n",
      "2024-04-05 20:44:45 (INFO): X_rowsum.min(): -9.444834306836128\n",
      "2024-04-05 20:44:45 (INFO): X_rowsum.max(): 9.136880576610565\n"
     ]
    },
    {
     "name": "stdout",
     "output_type": "stream",
     "text": [
      "CSBM mu:\n",
      "[0.25 0.25 0.25 0.25 0.25 0.25 0.25 0.25 0.25]\n",
      "X.mean() -0.015499045187653604\n",
      "Sig.mean(): 0.05107504648491424\n",
      "Sig.min(): -5.287786267364439\n",
      "Sig.max(): 8.416098466877251\n",
      "Depth 0\n",
      "E_der.min(): 0.09049594600646133\n",
      "E_der.max(): 1.0\n",
      "Sig.mean(): 0.7043144430678637\n",
      "Sig.min(): 0.09446270523894534\n",
      "Sig.max(): 8.416098466877251\n",
      "tensor([[3.0921, 0.5617, 2.1448,  ..., 0.0152, 1.0838, 0.7411],\n",
      "        [0.5617, 1.9085, 0.7784,  ..., 1.3111, 0.1945, 0.2661],\n",
      "        [2.1448, 0.7784, 2.5435,  ..., 0.5006, 0.8922, 0.8812],\n",
      "        ...,\n",
      "        [0.0152, 1.3111, 0.5006,  ..., 6.4818, 0.1579, 2.1692],\n",
      "        [1.0838, 0.1945, 0.8922,  ..., 0.1579, 0.8181, 0.5312],\n",
      "        [0.7411, 0.2661, 0.8812,  ..., 2.1692, 0.5312, 1.8187]],\n",
      "       device='cuda:0', dtype=torch.float64)\n"
     ]
    },
    {
     "ename": "AssertionError",
     "evalue": "Solver not found",
     "output_type": "error",
     "traceback": [
      "\u001b[0;31m---------------------------------------------------------------------------\u001b[0m",
      "\u001b[0;31mAssertionError\u001b[0m                            Traceback (most recent call last)",
      "Cell \u001b[0;32mIn[10], line 16\u001b[0m\n\u001b[1;32m     14\u001b[0m model_params[\u001b[38;5;124m\"\u001b[39m\u001b[38;5;124mbias\u001b[39m\u001b[38;5;124m\"\u001b[39m] \u001b[38;5;241m=\u001b[39m \u001b[38;5;28;01mFalse\u001b[39;00m\n\u001b[1;32m     15\u001b[0m data_params[\u001b[38;5;124m\"\u001b[39m\u001b[38;5;124mlearning_setting\u001b[39m\u001b[38;5;124m\"\u001b[39m] \u001b[38;5;241m=\u001b[39m \u001b[38;5;124m\"\u001b[39m\u001b[38;5;124mtransductive\u001b[39m\u001b[38;5;124m\"\u001b[39m\n\u001b[0;32m---> 16\u001b[0m \u001b[43mrun\u001b[49m\u001b[43m(\u001b[49m\u001b[43mdata_params\u001b[49m\u001b[43m,\u001b[49m\u001b[43m \u001b[49m\u001b[43mmodel_params\u001b[49m\u001b[43m,\u001b[49m\u001b[43m \u001b[49m\u001b[43mcertificate_params\u001b[49m\u001b[43m,\u001b[49m\u001b[43m \u001b[49m\u001b[43mverbosity_params\u001b[49m\u001b[43m,\u001b[49m\u001b[43m \u001b[49m\u001b[43mother_params\u001b[49m\u001b[43m,\u001b[49m\u001b[43m \u001b[49m\u001b[43mseed\u001b[49m\u001b[43m)\u001b[49m\n",
      "File \u001b[0;32m/ceph/ssd/staff/gosl/.conda/envs/py311_ntk/lib/python3.11/site-packages/sacred/config/captured_function.py:42\u001b[0m, in \u001b[0;36mcaptured_function\u001b[0;34m(wrapped, instance, args, kwargs)\u001b[0m\n\u001b[1;32m     40\u001b[0m \u001b[38;5;66;03m# =================== run actual function =================================\u001b[39;00m\n\u001b[1;32m     41\u001b[0m \u001b[38;5;28;01mwith\u001b[39;00m ConfigError\u001b[38;5;241m.\u001b[39mtrack(wrapped\u001b[38;5;241m.\u001b[39mconfig, wrapped\u001b[38;5;241m.\u001b[39mprefix):\n\u001b[0;32m---> 42\u001b[0m     result \u001b[38;5;241m=\u001b[39m \u001b[43mwrapped\u001b[49m\u001b[43m(\u001b[49m\u001b[38;5;241;43m*\u001b[39;49m\u001b[43margs\u001b[49m\u001b[43m,\u001b[49m\u001b[43m \u001b[49m\u001b[38;5;241;43m*\u001b[39;49m\u001b[38;5;241;43m*\u001b[39;49m\u001b[43mkwargs\u001b[49m\u001b[43m)\u001b[49m\n\u001b[1;32m     43\u001b[0m \u001b[38;5;66;03m# =========================================================================\u001b[39;00m\n\u001b[1;32m     44\u001b[0m \u001b[38;5;28;01mif\u001b[39;00m wrapped\u001b[38;5;241m.\u001b[39mlogger \u001b[38;5;129;01mis\u001b[39;00m \u001b[38;5;129;01mnot\u001b[39;00m \u001b[38;5;28;01mNone\u001b[39;00m:\n",
      "File \u001b[0;32m/ceph/ssd/staff/gosl/src/ntk-robust/exp_ntk_certify.py:208\u001b[0m, in \u001b[0;36mrun\u001b[0;34m(data_params, model_params, certificate_params, verbosity_params, other_params, seed, _run)\u001b[0m\n\u001b[1;32m    206\u001b[0m     X_trn \u001b[38;5;241m=\u001b[39m X[idx_known, :]\n\u001b[1;32m    207\u001b[0m \u001b[38;5;28;01mwith\u001b[39;00m torch\u001b[38;5;241m.\u001b[39mno_grad():\n\u001b[0;32m--> 208\u001b[0m     ntk \u001b[38;5;241m=\u001b[39m \u001b[43mNTK\u001b[49m\u001b[43m(\u001b[49m\u001b[43mmodel_params\u001b[49m\u001b[43m,\u001b[49m\u001b[43m \u001b[49m\u001b[43mX_trn\u001b[49m\u001b[38;5;241;43m=\u001b[39;49m\u001b[43mX_trn\u001b[49m\u001b[43m,\u001b[49m\u001b[43m \u001b[49m\u001b[43mA_trn\u001b[49m\u001b[38;5;241;43m=\u001b[39;49m\u001b[43mA_trn\u001b[49m\u001b[43m,\u001b[49m\u001b[43m \u001b[49m\u001b[43mn_classes\u001b[49m\u001b[38;5;241;43m=\u001b[39;49m\u001b[43mn_classes\u001b[49m\u001b[43m,\u001b[49m\u001b[43m \u001b[49m\n\u001b[1;32m    209\u001b[0m \u001b[43m            \u001b[49m\u001b[43midx_trn_labeled\u001b[49m\u001b[38;5;241;43m=\u001b[39;49m\u001b[43midx_known_labeled\u001b[49m\u001b[43m,\u001b[49m\u001b[43m \u001b[49m\u001b[43my_trn\u001b[49m\u001b[38;5;241;43m=\u001b[39;49m\u001b[43my\u001b[49m\u001b[43m[\u001b[49m\u001b[43midx_labeled\u001b[49m\u001b[43m]\u001b[49m\u001b[43m,\u001b[49m\n\u001b[1;32m    210\u001b[0m \u001b[43m            \u001b[49m\u001b[43mlearning_setting\u001b[49m\u001b[38;5;241;43m=\u001b[39;49m\u001b[43mdata_params\u001b[49m\u001b[43m[\u001b[49m\u001b[38;5;124;43m\"\u001b[39;49m\u001b[38;5;124;43mlearning_setting\u001b[39;49m\u001b[38;5;124;43m\"\u001b[39;49m\u001b[43m]\u001b[49m\u001b[43m,\u001b[49m\n\u001b[1;32m    211\u001b[0m \u001b[43m            \u001b[49m\u001b[43mpred_method\u001b[49m\u001b[38;5;241;43m=\u001b[39;49m\u001b[43mmodel_params\u001b[49m\u001b[43m[\u001b[49m\u001b[38;5;124;43m\"\u001b[39;49m\u001b[38;5;124;43mpred_method\u001b[39;49m\u001b[38;5;124;43m\"\u001b[39;49m\u001b[43m]\u001b[49m\u001b[43m,\u001b[49m\n\u001b[1;32m    212\u001b[0m \u001b[43m            \u001b[49m\u001b[43mregularizer\u001b[49m\u001b[38;5;241;43m=\u001b[39;49m\u001b[43mmodel_params\u001b[49m\u001b[43m[\u001b[49m\u001b[38;5;124;43m\"\u001b[39;49m\u001b[38;5;124;43mregularizer\u001b[39;49m\u001b[38;5;124;43m\"\u001b[39;49m\u001b[43m]\u001b[49m\u001b[43m,\u001b[49m\n\u001b[1;32m    213\u001b[0m \u001b[43m            \u001b[49m\u001b[43mbias\u001b[49m\u001b[38;5;241;43m=\u001b[39;49m\u001b[43mmodel_params\u001b[49m\u001b[43m[\u001b[49m\u001b[38;5;124;43m\"\u001b[39;49m\u001b[38;5;124;43mbias\u001b[39;49m\u001b[38;5;124;43m\"\u001b[39;49m\u001b[43m]\u001b[49m\u001b[43m,\u001b[49m\n\u001b[1;32m    214\u001b[0m \u001b[43m            \u001b[49m\u001b[43msolver\u001b[49m\u001b[38;5;241;43m=\u001b[39;49m\u001b[43mmodel_params\u001b[49m\u001b[43m[\u001b[49m\u001b[38;5;124;43m\"\u001b[39;49m\u001b[38;5;124;43msolver\u001b[39;49m\u001b[38;5;124;43m\"\u001b[39;49m\u001b[43m]\u001b[49m\u001b[43m,\u001b[49m\n\u001b[1;32m    215\u001b[0m \u001b[43m            \u001b[49m\u001b[43malpha_tol\u001b[49m\u001b[38;5;241;43m=\u001b[39;49m\u001b[43mmodel_params\u001b[49m\u001b[43m[\u001b[49m\u001b[38;5;124;43m\"\u001b[39;49m\u001b[38;5;124;43malpha_tol\u001b[39;49m\u001b[38;5;124;43m\"\u001b[39;49m\u001b[43m]\u001b[49m\u001b[43m,\u001b[49m\n\u001b[1;32m    216\u001b[0m \u001b[43m            \u001b[49m\u001b[43mdtype\u001b[49m\u001b[38;5;241;43m=\u001b[39;49m\u001b[43mother_params\u001b[49m\u001b[43m[\u001b[49m\u001b[38;5;124;43m\"\u001b[39;49m\u001b[38;5;124;43mdtype\u001b[39;49m\u001b[38;5;124;43m\"\u001b[39;49m\u001b[43m]\u001b[49m\u001b[43m)\u001b[49m\n\u001b[1;32m    218\u001b[0m     y_pred, ntk_test \u001b[38;5;241m=\u001b[39m ntk(idx_labeled\u001b[38;5;241m=\u001b[39midx_labeled, idx_test\u001b[38;5;241m=\u001b[39midx_test,\n\u001b[1;32m    219\u001b[0m                            y_test\u001b[38;5;241m=\u001b[39my, X_test\u001b[38;5;241m=\u001b[39mX, A_test\u001b[38;5;241m=\u001b[39mA, return_ntk\u001b[38;5;241m=\u001b[39m\u001b[38;5;28;01mTrue\u001b[39;00m)\n\u001b[1;32m    220\u001b[0m     idx_adv \u001b[38;5;241m=\u001b[39m rng\u001b[38;5;241m.\u001b[39mchoice(idx_test, size\u001b[38;5;241m=\u001b[39mcertificate_params[\u001b[38;5;124m\"\u001b[39m\u001b[38;5;124mn_adversarial\u001b[39m\u001b[38;5;124m\"\u001b[39m],\n\u001b[1;32m    221\u001b[0m                          replace\u001b[38;5;241m=\u001b[39m\u001b[38;5;28;01mFalse\u001b[39;00m)\n",
      "File \u001b[0;32m/ceph/ssd/staff/gosl/src/ntk-robust/src/models/ntk.py:118\u001b[0m, in \u001b[0;36mNTK.__init__\u001b[0;34m(self, model_dict, X_trn, A_trn, n_classes, idx_trn_labeled, y_trn, learning_setting, pred_method, regularizer, bias, append_dimension, solver, alpha_tol, device, dtype)\u001b[0m\n\u001b[1;32m    116\u001b[0m \u001b[38;5;28mself\u001b[39m\u001b[38;5;241m.\u001b[39mbias \u001b[38;5;241m=\u001b[39m bias\n\u001b[1;32m    117\u001b[0m \u001b[38;5;28;01mif\u001b[39;00m pred_method \u001b[38;5;241m==\u001b[39m \u001b[38;5;124m\"\u001b[39m\u001b[38;5;124msvm\u001b[39m\u001b[38;5;124m\"\u001b[39m:\n\u001b[0;32m--> 118\u001b[0m     \u001b[38;5;28mself\u001b[39m\u001b[38;5;241m.\u001b[39msvm \u001b[38;5;241m=\u001b[39m \u001b[38;5;28;43mself\u001b[39;49m\u001b[38;5;241;43m.\u001b[39;49m\u001b[43mfit_svm\u001b[49m\u001b[43m(\u001b[49m\u001b[43mX_trn\u001b[49m\u001b[43m,\u001b[49m\u001b[43m \u001b[49m\u001b[43mA_trn\u001b[49m\u001b[43m,\u001b[49m\u001b[43m \u001b[49m\u001b[43my_trn\u001b[49m\u001b[43m,\u001b[49m\u001b[43m \u001b[49m\u001b[43midx_trn_labeled\u001b[49m\u001b[43m)\u001b[49m\n\u001b[1;32m    119\u001b[0m \u001b[38;5;28;01melse\u001b[39;00m:\n\u001b[1;32m    120\u001b[0m     \u001b[38;5;28;01massert\u001b[39;00m pred_method \u001b[38;5;241m==\u001b[39m \u001b[38;5;124m\"\u001b[39m\u001b[38;5;124mkrr\u001b[39m\u001b[38;5;124m\"\u001b[39m\n",
      "File \u001b[0;32m/ceph/ssd/staff/gosl/src/ntk-robust/src/models/ntk.py:184\u001b[0m, in \u001b[0;36mNTK.fit_svm\u001b[0;34m(self, X, A, y, idx_trn_labeled)\u001b[0m\n\u001b[1;32m    182\u001b[0m     \u001b[38;5;28;01mreturn\u001b[39;00m alphas\n\u001b[1;32m    183\u001b[0m \u001b[38;5;28;01melse\u001b[39;00m:\n\u001b[0;32m--> 184\u001b[0m     \u001b[38;5;28;01massert\u001b[39;00m \u001b[38;5;28;01mFalse\u001b[39;00m, \u001b[38;5;124m\"\u001b[39m\u001b[38;5;124mSolver not found\u001b[39m\u001b[38;5;124m\"\u001b[39m\n",
      "\u001b[0;31mAssertionError\u001b[0m: Solver not found"
     ]
    }
   ],
   "source": [
    "model_params[\"cache_size\"] = 10000\n",
    "data_params[\"specification\"][\"avg_within_class_degree\"] = 1.58 * 2\n",
    "data_params[\"specification\"][\"avg_between_class_degree\"] = 0.37 * 2\n",
    "other_params[\"device\"] = 0\n",
    "certificate_params[\"n_adversarial\"] = 20\n",
    "certificate_params[\"delta\"] = 0.01\n",
    "certificate_params[\"method\"] = \"XXT\"\n",
    "certificate_params[\"perturbation_model\"] = \"linf\"\n",
    "certificate_params[\"cert_method\"] = \"bilevel_svm\"\n",
    "verbosity_params[\"debug_lvl\"] = \"info\"\n",
    "model_params[\"regularizer\"] = 0.01\n",
    "model_params[\"solver\"] = \"sklea\"\n",
    "model_params[\"alpha_tol\"] = 1e-4\n",
    "model_params[\"bias\"] = False\n",
    "data_params[\"learning_setting\"] = \"transductive\"\n",
    "run(data_params, model_params, certificate_params, verbosity_params, other_params, seed)"
   ]
  },
  {
   "cell_type": "code",
   "execution_count": null,
   "metadata": {},
   "outputs": [],
   "source": []
  },
  {
   "cell_type": "code",
   "execution_count": null,
   "metadata": {},
   "outputs": [],
   "source": []
  }
 ],
 "metadata": {
  "kernelspec": {
   "display_name": "py311_ntk",
   "language": "python",
   "name": "python3"
  },
  "language_info": {
   "codemirror_mode": {
    "name": "ipython",
    "version": 3
   },
   "file_extension": ".py",
   "mimetype": "text/x-python",
   "name": "python",
   "nbconvert_exporter": "python",
   "pygments_lexer": "ipython3",
   "version": "3.11.5"
  }
 },
 "nbformat": 4,
 "nbformat_minor": 2
}
