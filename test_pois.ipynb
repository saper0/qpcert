{
 "cells": [
  {
   "cell_type": "code",
   "execution_count": 22,
   "metadata": {},
   "outputs": [
    {
     "name": "stdout",
     "output_type": "stream",
     "text": [
      "The autoreload extension is already loaded. To reload it, use:\n",
      "  %reload_ext autoreload\n"
     ]
    }
   ],
   "source": [
    "%load_ext autoreload\n",
    "%autoreload 2"
   ]
  },
  {
   "cell_type": "code",
   "execution_count": 23,
   "metadata": {},
   "outputs": [],
   "source": [
    "import os\n",
    "os.environ[\"GRB_LICENSE_FILE\"] = \"/ceph/ssd/staff/gosl/app/gurobi.lic\"\n"
   ]
  },
  {
   "cell_type": "code",
   "execution_count": 24,
   "metadata": {},
   "outputs": [],
   "source": [
    "import torch\n",
    "import numpy as np\n",
    "from exp_ntk_certify import run"
   ]
  },
  {
   "cell_type": "code",
   "execution_count": 25,
   "metadata": {},
   "outputs": [],
   "source": [
    "seed = 0\n",
    "\n",
    "data_params = dict(\n",
    "    dataset = \"csbm\",\n",
    "    learning_setting = \"transductive\", # or \"transdructive\"\n",
    "    specification = dict(\n",
    "        classes = 2,\n",
    "        n_trn_labeled = 40, \n",
    "        n_trn_unlabeled = 0,\n",
    "        n_val = 40,\n",
    "        n_test = 120,\n",
    "        sigma = 1,\n",
    "        avg_within_class_degree = 1.58 * 2,\n",
    "        avg_between_class_degree = 0.37 * 2,\n",
    "        K = 1.5,\n",
    "        seed = 10 # used to generate the dataset & data split\n",
    "    )\n",
    ")\n",
    "\n",
    "model_params = dict(\n",
    "    label = \"GCN\",\n",
    "    model = \"GCN\",\n",
    "    normalization = \"row_normalization\",\n",
    "    depth = 1,\n",
    "    #regularizer = 1e-8\n",
    "    regularizer = 1,\n",
    "    pred_method = \"svm\",\n",
    "    activation = \"relu\"\n",
    ")\n",
    "\n",
    "certificate_params = dict(\n",
    "    n_adversarial = 1, # number adversarial nodes\n",
    "    perturbation_model = \"linf\",\n",
    "    delta = 0.01 # l0: local budget = delta * feature_dim\n",
    ")\n",
    "\n",
    "verbosity_params = dict(\n",
    "    debug_lvl = \"warning\"\n",
    ")  \n",
    "\n",
    "other_params = dict(\n",
    "    device = \"cpu\",\n",
    "    dtype = torch.float64,\n",
    "    allow_tf32 = False\n",
    ")"
   ]
  },
  {
   "cell_type": "code",
   "execution_count": 40,
   "metadata": {},
   "outputs": [
    {
     "name": "stderr",
     "output_type": "stream",
     "text": [
      "2024-04-11 16:43:00 (INFO): Starting experiment exp_ntk_certify with configuration:\n",
      "2024-04-11 16:43:00 (INFO): data_params: {'dataset': 'csbm', 'learning_setting': 'transductive', 'specification': {'classes': 2, 'n_trn_labeled': 40, 'n_trn_unlabeled': 0, 'n_val': 40, 'n_test': 120, 'sigma': 1, 'avg_within_class_degree': 3.16, 'avg_between_class_degree': 0.74, 'K': 1.5, 'seed': 10}}\n",
      "2024-04-11 16:43:00 (INFO): model_params: {'label': 'GCN', 'model': 'GCN', 'normalization': 'row_normalization', 'depth': 1, 'regularizer': 0.01, 'pred_method': 'svm', 'activation': 'relu', 'cache_size': 10000, 'solver': 'qplayer', 'alpha_tol': 1e-08, 'bias': False}\n",
      "2024-04-11 16:43:00 (INFO): certification_params: {'n_adversarial': 50, 'perturbation_model': 'linf', 'delta': 0.01, 'method': 'XXT', 'cert_method': 'bilevel_svm'}\n",
      "2024-04-11 16:43:00 (INFO): verbosity_params: {'debug_lvl': 'info'}\n",
      "2024-04-11 16:43:00 (INFO): other_params: {'device': 'cpu', 'dtype': torch.float64, 'allow_tf32': False, 'debug': False}\n",
      "2024-04-11 16:43:00 (INFO): seed: 0\n",
      "2024-04-11 16:43:00 (INFO): CSBM(p=0.03176, q=0.00744)\n"
     ]
    },
    {
     "name": "stdout",
     "output_type": "stream",
     "text": [
      "CSBM mu:\n",
      "[0.28347334 0.28347334 0.28347334 0.28347334 0.28347334 0.28347334\n",
      " 0.28347334]\n",
      "79 alphas found: ['0.0100', '0.0100', '0.0100', '0.0100', '0.0100', '0.0100', '0.0100', '0.0100', '0.0100', '0.0100', '0.0100', '0.0100', '0.0100', '0.0100', '0.0100', '0.0100', '0.0100', '0.0100', '0.0100', '0.0100', '0.0100', '0.0100', '0.0100', '0.0100', '0.0100', '0.0100', '0.0100', '0.0100', '0.0100', '0.0100', '0.0100', '0.0100', '0.0100', '0.0100', '0.0100', '0.0100', '0.0100', '0.0100', '0.0100', '0.0100', '0.0100', '0.0100', '0.0100', '0.0100', '0.0100', '0.0100', '0.0100', '-0.0000', '0.0100', '0.0100', '0.0100', '0.0100', '0.0100', '0.0100', '0.0100', '0.0100', '0.0100', '0.0100', '0.0100', '0.0100', '0.0100', '0.0100', '0.0100', '0.0100', '0.0100', '0.0100', '0.0100', '0.0100', '0.0100', '0.0100', '0.0100', '0.0100', '0.0100', '0.0100', '0.0100', '0.0100', '0.0100', '0.0100', '0.0100', '0.0100']\n",
      "n_labeled  80\n",
      "ntk shapes  torch.Size([200, 200]) torch.Size([200, 200]) torch.Size([200, 200])\n",
      "y shapes  torch.Size([200]) torch.Size([120]) tensor([0, 0, 0, 0, 0, 0, 0, 0, 0, 0, 0, 0, 0, 0, 0, 0, 0, 0, 0, 0, 0, 0, 0, 0,\n",
      "        0, 0, 0, 0, 0, 0, 0, 0, 0, 0, 0, 0, 0, 0, 0, 0, 0, 0, 0, 0, 0, 0, 0, 0,\n",
      "        0, 0, 0, 0, 0, 0, 0, 0, 0, 0, 0, 0, 0, 0, 0, 0, 0, 0, 0, 0, 0, 0, 0, 0,\n",
      "        0, 0, 0, 0, 0, 0, 0, 0, 0, 0, 0, 0, 0, 0, 0, 0, 0, 0, 0, 0, 0, 0, 0, 0,\n",
      "        0, 0, 0, 1, 1, 1, 1, 1, 1, 1, 1, 1, 1, 1, 1, 1, 1, 1, 1, 1, 1, 1, 1, 1,\n",
      "        1, 1, 1, 1, 1, 1, 1, 1, 1, 1, 1, 1, 1, 1, 1, 1, 1, 1, 1, 1, 1, 1, 1, 1,\n",
      "        1, 1, 1, 1, 1, 1, 1, 1, 1, 1, 1, 1, 1, 1, 1, 1, 1, 1, 1, 1, 1, 1, 1, 1,\n",
      "        1, 1, 1, 1, 1, 1, 1, 1, 1, 1, 1, 1, 1, 1, 1, 1, 1, 1, 1, 1, 1, 1, 1, 1,\n",
      "        1, 1, 1, 1, 1, 1, 1, 1]) tensor([-0.4976, -0.2174, -0.5277, -0.1690, -0.2509, -0.2825, -0.7026, -0.2080,\n",
      "        -0.1208, -0.2079, -0.3852, -0.2421,  0.0419, -0.4628, -0.3009, -0.1661,\n",
      "        -0.3213, -0.1342, -0.2372, -0.0797, -0.8740, -0.0599, -0.1328, -0.0436,\n",
      "        -0.3380, -0.4473, -0.4676, -0.2427, -0.3617, -0.2673, -0.3370, -0.0383,\n",
      "        -0.3069, -0.3228, -0.0647, -0.4681, -0.2083, -0.2585, -0.2163, -0.4275,\n",
      "        -0.0950, -0.3991, -0.2122, -0.1970, -0.2667, -0.4227, -0.1753, -0.2505,\n",
      "        -0.2235, -0.2837, -0.2028, -0.1659, -0.2818, -0.0338, -0.4551, -0.1248,\n",
      "        -0.1173, -0.3870, -0.3834,  0.3315,  0.3064,  0.0034,  0.3297,  0.1374,\n",
      "         0.0730,  0.4701,  0.1899,  0.2298,  0.0420,  0.2177,  0.1646,  0.2766,\n",
      "         0.0527,  0.0740,  0.4553,  0.2302,  0.1967, -0.0859,  0.0018, -0.1997,\n",
      "         0.1048,  0.2786,  0.0944,  0.1339,  0.0872,  0.2713,  0.2786,  0.2798,\n",
      "         0.2855,  0.3106,  0.4351,  0.4114,  0.4851,  0.0285,  0.3376,  0.0517,\n",
      "         0.1580,  0.4625,  0.3838,  0.2324,  0.0248,  0.2675,  0.0062,  0.2895,\n",
      "         0.0370,  0.0176,  0.0349, -0.0054,  0.0486,  0.3313,  0.3600,  0.2087,\n",
      "         0.1348,  0.0776,  0.3000,  0.2770,  0.5618,  0.2043, -0.1347,  0.1668],\n",
      "       dtype=torch.float64)\n",
      "alpha  (80,) [ 9.99999993e-03  9.99999997e-03  9.99999990e-03  9.99999990e-03\n",
      "  9.99999992e-03  9.99999990e-03  9.99999992e-03  9.99999992e-03\n",
      "  9.99999988e-03  9.99999991e-03  9.99999992e-03  9.99999991e-03\n",
      "  9.99999990e-03  9.99999990e-03  9.99999994e-03  9.99999994e-03\n",
      "  9.99999993e-03  9.99999994e-03  9.99999996e-03  9.99999991e-03\n",
      "  1.00000001e-02  1.00000001e-02  1.00000001e-02  1.00000001e-02\n",
      "  1.00000001e-02  1.00000001e-02  1.00000001e-02  1.00000001e-02\n",
      "  1.00000000e-02  1.00000001e-02  1.00000001e-02  1.00000000e-02\n",
      "  1.00000001e-02  1.00000001e-02  1.00000000e-02  1.00000001e-02\n",
      "  1.00000001e-02  1.00000001e-02  1.00000001e-02  1.00000001e-02\n",
      "  9.99999990e-03  9.99999993e-03  9.99999990e-03  9.99999994e-03\n",
      "  9.99999995e-03  9.99999990e-03  9.99999992e-03 -2.44103971e-11\n",
      "  9.99999992e-03  9.99999996e-03  9.99999991e-03  9.99999992e-03\n",
      "  9.99999991e-03  9.99999996e-03  9.99999992e-03  9.99999990e-03\n",
      "  9.99999995e-03  9.99999992e-03  9.99999990e-03  9.99999993e-03\n",
      "  1.00000001e-02  1.00000001e-02  1.00000001e-02  1.00000001e-02\n",
      "  1.00000001e-02  1.00000001e-02  1.00000001e-02  1.00000001e-02\n",
      "  1.00000001e-02  1.00000001e-02  1.00000001e-02  1.00000001e-02\n",
      "  1.00000001e-02  1.00000001e-02  1.00000001e-02  1.00000000e-02\n",
      "  1.00000001e-02  1.00000001e-02  1.00000001e-02  1.00000001e-02]\n",
      "tensor(False)\n",
      "(80, 80) (80, 80) (80, 80)\n",
      "(120, 80) (120, 80) (120, 80)\n",
      "tensor(-0.4976, dtype=torch.float64) False\n",
      "Set parameter IntegralityFocus to value 1\n"
     ]
    },
    {
     "name": "stderr",
     "output_type": "stream",
     "text": [
      "2024-04-11 16:43:01 (INFO): Set parameter IntegralityFocus to value 1\n"
     ]
    },
    {
     "name": "stdout",
     "output_type": "stream",
     "text": [
      "Set parameter IntFeasTol to value 0.0001\n"
     ]
    },
    {
     "name": "stderr",
     "output_type": "stream",
     "text": [
      "2024-04-11 16:43:01 (INFO): Set parameter IntFeasTol to value 0.0001\n"
     ]
    },
    {
     "name": "stdout",
     "output_type": "stream",
     "text": [
      "in callback  Loaded user MIP start with objective -0.497627\n",
      "\n",
      "optimization status  2\n",
      "Original  tensor(-0.4976, dtype=torch.float64)\n",
      "Obj: -0.438991\n",
      "robust_count  1\n",
      "tensor(-0.2174, dtype=torch.float64) False\n",
      "Set parameter IntegralityFocus to value 1\n"
     ]
    },
    {
     "name": "stderr",
     "output_type": "stream",
     "text": [
      "2024-04-11 16:43:01 (INFO): Set parameter IntegralityFocus to value 1\n"
     ]
    },
    {
     "name": "stdout",
     "output_type": "stream",
     "text": [
      "Set parameter IntFeasTol to value 0.0001\n"
     ]
    },
    {
     "name": "stderr",
     "output_type": "stream",
     "text": [
      "2024-04-11 16:43:01 (INFO): Set parameter IntFeasTol to value 0.0001\n"
     ]
    },
    {
     "name": "stdout",
     "output_type": "stream",
     "text": [
      "in callback  Loaded user MIP start with objective -0.217432\n",
      "\n",
      "optimization status  2\n",
      "Original  tensor(-0.2174, dtype=torch.float64)\n",
      "Obj: -0.154882\n",
      "robust_count  2\n",
      "tensor(-0.5277, dtype=torch.float64) False\n",
      "Set parameter IntegralityFocus to value 1\n"
     ]
    },
    {
     "name": "stderr",
     "output_type": "stream",
     "text": [
      "2024-04-11 16:43:02 (INFO): Set parameter IntegralityFocus to value 1\n"
     ]
    },
    {
     "name": "stdout",
     "output_type": "stream",
     "text": [
      "Set parameter IntFeasTol to value 0.0001\n"
     ]
    },
    {
     "name": "stderr",
     "output_type": "stream",
     "text": [
      "2024-04-11 16:43:02 (INFO): Set parameter IntFeasTol to value 0.0001\n"
     ]
    },
    {
     "name": "stdout",
     "output_type": "stream",
     "text": [
      "in callback  Loaded user MIP start with objective -0.527685\n",
      "\n",
      "optimization status  2\n",
      "Original  tensor(-0.5277, dtype=torch.float64)\n",
      "Obj: -0.478348\n",
      "robust_count  3\n",
      "tensor(-0.1690, dtype=torch.float64) False\n",
      "Set parameter IntegralityFocus to value 1\n"
     ]
    },
    {
     "name": "stderr",
     "output_type": "stream",
     "text": [
      "2024-04-11 16:43:03 (INFO): Set parameter IntegralityFocus to value 1\n"
     ]
    },
    {
     "name": "stdout",
     "output_type": "stream",
     "text": [
      "Set parameter IntFeasTol to value 0.0001\n"
     ]
    },
    {
     "name": "stderr",
     "output_type": "stream",
     "text": [
      "2024-04-11 16:43:03 (INFO): Set parameter IntFeasTol to value 0.0001\n"
     ]
    },
    {
     "name": "stdout",
     "output_type": "stream",
     "text": [
      "in callback  Loaded user MIP start with objective -0.16902\n",
      "\n",
      "optimization status  2\n",
      "Original  tensor(-0.1690, dtype=torch.float64)\n",
      "Obj: -0.102291\n",
      "robust_count  4\n",
      "tensor(-0.2509, dtype=torch.float64) False\n",
      "Set parameter IntegralityFocus to value 1\n"
     ]
    },
    {
     "name": "stderr",
     "output_type": "stream",
     "text": [
      "2024-04-11 16:43:03 (INFO): Set parameter IntegralityFocus to value 1\n"
     ]
    },
    {
     "name": "stdout",
     "output_type": "stream",
     "text": [
      "Set parameter IntFeasTol to value 0.0001\n"
     ]
    },
    {
     "name": "stderr",
     "output_type": "stream",
     "text": [
      "2024-04-11 16:43:03 (INFO): Set parameter IntFeasTol to value 0.0001\n"
     ]
    },
    {
     "name": "stdout",
     "output_type": "stream",
     "text": [
      "in callback  Loaded user MIP start with objective -0.25094\n",
      "\n",
      "optimization status  2\n",
      "Original  tensor(-0.2509, dtype=torch.float64)\n",
      "Obj: -0.210146\n",
      "robust_count  5\n",
      "tensor(-0.2825, dtype=torch.float64) False\n",
      "Set parameter IntegralityFocus to value 1\n"
     ]
    },
    {
     "name": "stderr",
     "output_type": "stream",
     "text": [
      "2024-04-11 16:43:04 (INFO): Set parameter IntegralityFocus to value 1\n"
     ]
    },
    {
     "name": "stdout",
     "output_type": "stream",
     "text": [
      "Set parameter IntFeasTol to value 0.0001\n"
     ]
    },
    {
     "name": "stderr",
     "output_type": "stream",
     "text": [
      "2024-04-11 16:43:04 (INFO): Set parameter IntFeasTol to value 0.0001\n"
     ]
    },
    {
     "name": "stdout",
     "output_type": "stream",
     "text": [
      "in callback  Loaded user MIP start with objective -0.282523\n",
      "\n",
      "optimization status  2\n",
      "Original  tensor(-0.2825, dtype=torch.float64)\n",
      "Obj: -0.228865\n",
      "robust_count  6\n",
      "tensor(-0.7026, dtype=torch.float64) False\n",
      "Set parameter IntegralityFocus to value 1\n"
     ]
    },
    {
     "name": "stderr",
     "output_type": "stream",
     "text": [
      "2024-04-11 16:43:04 (INFO): Set parameter IntegralityFocus to value 1\n"
     ]
    },
    {
     "name": "stdout",
     "output_type": "stream",
     "text": [
      "Set parameter IntFeasTol to value 0.0001\n"
     ]
    },
    {
     "name": "stderr",
     "output_type": "stream",
     "text": [
      "2024-04-11 16:43:04 (INFO): Set parameter IntFeasTol to value 0.0001\n"
     ]
    },
    {
     "name": "stdout",
     "output_type": "stream",
     "text": [
      "in callback  Loaded user MIP start with objective -0.702585\n",
      "\n",
      "optimization status  2\n",
      "Original  tensor(-0.7026, dtype=torch.float64)\n",
      "Obj: -0.654308\n",
      "robust_count  7\n",
      "tensor(-0.2080, dtype=torch.float64) False\n",
      "Set parameter IntegralityFocus to value 1\n"
     ]
    },
    {
     "name": "stderr",
     "output_type": "stream",
     "text": [
      "2024-04-11 16:43:05 (INFO): Set parameter IntegralityFocus to value 1\n"
     ]
    },
    {
     "name": "stdout",
     "output_type": "stream",
     "text": [
      "Set parameter IntFeasTol to value 0.0001\n"
     ]
    },
    {
     "name": "stderr",
     "output_type": "stream",
     "text": [
      "2024-04-11 16:43:05 (INFO): Set parameter IntFeasTol to value 0.0001\n"
     ]
    },
    {
     "name": "stdout",
     "output_type": "stream",
     "text": [
      "in callback  Loaded user MIP start with objective -0.207997\n",
      "\n",
      "optimization status  2\n",
      "Original  tensor(-0.2080, dtype=torch.float64)\n",
      "Obj: -0.162162\n",
      "robust_count  8\n",
      "tensor(-0.1208, dtype=torch.float64) False\n",
      "Set parameter IntegralityFocus to value 1\n"
     ]
    },
    {
     "name": "stderr",
     "output_type": "stream",
     "text": [
      "2024-04-11 16:43:06 (INFO): Set parameter IntegralityFocus to value 1\n"
     ]
    },
    {
     "name": "stdout",
     "output_type": "stream",
     "text": [
      "Set parameter IntFeasTol to value 0.0001\n"
     ]
    },
    {
     "name": "stderr",
     "output_type": "stream",
     "text": [
      "2024-04-11 16:43:06 (INFO): Set parameter IntFeasTol to value 0.0001\n"
     ]
    },
    {
     "name": "stdout",
     "output_type": "stream",
     "text": [
      "in callback  Loaded user MIP start with objective -0.120842\n",
      "\n",
      "optimization status  2\n",
      "Original  tensor(-0.1208, dtype=torch.float64)\n",
      "Obj: -0.0665514\n",
      "robust_count  9\n",
      "tensor(-0.2079, dtype=torch.float64) False\n",
      "Set parameter IntegralityFocus to value 1\n"
     ]
    },
    {
     "name": "stderr",
     "output_type": "stream",
     "text": [
      "2024-04-11 16:43:06 (INFO): Set parameter IntegralityFocus to value 1\n"
     ]
    },
    {
     "name": "stdout",
     "output_type": "stream",
     "text": [
      "Set parameter IntFeasTol to value 0.0001\n"
     ]
    },
    {
     "name": "stderr",
     "output_type": "stream",
     "text": [
      "2024-04-11 16:43:06 (INFO): Set parameter IntFeasTol to value 0.0001\n"
     ]
    },
    {
     "name": "stdout",
     "output_type": "stream",
     "text": [
      "in callback  Loaded user MIP start with objective -0.207948\n",
      "\n",
      "optimization status  2\n",
      "Original  tensor(-0.2079, dtype=torch.float64)\n",
      "Obj: -0.144457\n",
      "robust_count  10\n",
      "tensor(-0.3852, dtype=torch.float64) False\n",
      "Set parameter IntegralityFocus to value 1\n"
     ]
    },
    {
     "name": "stderr",
     "output_type": "stream",
     "text": [
      "2024-04-11 16:43:07 (INFO): Set parameter IntegralityFocus to value 1\n"
     ]
    },
    {
     "name": "stdout",
     "output_type": "stream",
     "text": [
      "Set parameter IntFeasTol to value 0.0001\n"
     ]
    },
    {
     "name": "stderr",
     "output_type": "stream",
     "text": [
      "2024-04-11 16:43:07 (INFO): Set parameter IntFeasTol to value 0.0001\n"
     ]
    },
    {
     "name": "stdout",
     "output_type": "stream",
     "text": [
      "in callback  Loaded user MIP start with objective -0.385232\n",
      "\n",
      "optimization status  2\n",
      "Original  tensor(-0.3852, dtype=torch.float64)\n",
      "Obj: -0.348583\n",
      "robust_count  11\n",
      "tensor(-0.2421, dtype=torch.float64) False\n",
      "Set parameter IntegralityFocus to value 1\n"
     ]
    },
    {
     "name": "stderr",
     "output_type": "stream",
     "text": [
      "2024-04-11 16:43:07 (INFO): Set parameter IntegralityFocus to value 1\n"
     ]
    },
    {
     "name": "stdout",
     "output_type": "stream",
     "text": [
      "Set parameter IntFeasTol to value 0.0001\n"
     ]
    },
    {
     "name": "stderr",
     "output_type": "stream",
     "text": [
      "2024-04-11 16:43:07 (INFO): Set parameter IntFeasTol to value 0.0001\n"
     ]
    },
    {
     "name": "stdout",
     "output_type": "stream",
     "text": [
      "in callback  Loaded user MIP start with objective -0.242142\n",
      "\n",
      "optimization status  2\n",
      "Original  tensor(-0.2421, dtype=torch.float64)\n",
      "Obj: -0.187793\n",
      "robust_count  12\n",
      "tensor(0.0419, dtype=torch.float64) True\n",
      "Set parameter IntegralityFocus to value 1\n"
     ]
    },
    {
     "name": "stderr",
     "output_type": "stream",
     "text": [
      "2024-04-11 16:43:08 (INFO): Set parameter IntegralityFocus to value 1\n"
     ]
    },
    {
     "name": "stdout",
     "output_type": "stream",
     "text": [
      "Set parameter IntFeasTol to value 0.0001\n"
     ]
    },
    {
     "name": "stderr",
     "output_type": "stream",
     "text": [
      "2024-04-11 16:43:08 (INFO): Set parameter IntFeasTol to value 0.0001\n"
     ]
    },
    {
     "name": "stdout",
     "output_type": "stream",
     "text": [
      "in callback  Loaded user MIP start with objective 0.041901\n",
      "\n",
      "optimization status  2\n",
      "Original  tensor(0.0419, dtype=torch.float64)\n",
      "Obj: 0.00255461\n",
      "robust_count  13\n",
      "tensor(-0.4628, dtype=torch.float64) False\n",
      "Set parameter IntegralityFocus to value 1\n"
     ]
    },
    {
     "name": "stderr",
     "output_type": "stream",
     "text": [
      "2024-04-11 16:43:09 (INFO): Set parameter IntegralityFocus to value 1\n"
     ]
    },
    {
     "name": "stdout",
     "output_type": "stream",
     "text": [
      "Set parameter IntFeasTol to value 0.0001\n"
     ]
    },
    {
     "name": "stderr",
     "output_type": "stream",
     "text": [
      "2024-04-11 16:43:09 (INFO): Set parameter IntFeasTol to value 0.0001\n"
     ]
    },
    {
     "name": "stdout",
     "output_type": "stream",
     "text": [
      "in callback  Loaded user MIP start with objective -0.462845\n",
      "\n",
      "optimization status  2\n",
      "Original  tensor(-0.4628, dtype=torch.float64)\n",
      "Obj: -0.384364\n",
      "robust_count  14\n",
      "tensor(-0.3009, dtype=torch.float64) False\n",
      "Set parameter IntegralityFocus to value 1\n"
     ]
    },
    {
     "name": "stderr",
     "output_type": "stream",
     "text": [
      "2024-04-11 16:43:09 (INFO): Set parameter IntegralityFocus to value 1\n"
     ]
    },
    {
     "name": "stdout",
     "output_type": "stream",
     "text": [
      "Set parameter IntFeasTol to value 0.0001\n"
     ]
    },
    {
     "name": "stderr",
     "output_type": "stream",
     "text": [
      "2024-04-11 16:43:09 (INFO): Set parameter IntFeasTol to value 0.0001\n"
     ]
    },
    {
     "name": "stdout",
     "output_type": "stream",
     "text": [
      "in callback  Loaded user MIP start with objective -0.300853\n",
      "\n",
      "optimization status  2\n",
      "Original  tensor(-0.3009, dtype=torch.float64)\n",
      "Obj: -0.234843\n",
      "robust_count  15\n",
      "tensor(-0.1661, dtype=torch.float64) False\n",
      "Set parameter IntegralityFocus to value 1\n"
     ]
    },
    {
     "name": "stderr",
     "output_type": "stream",
     "text": [
      "2024-04-11 16:43:10 (INFO): Set parameter IntegralityFocus to value 1\n"
     ]
    },
    {
     "name": "stdout",
     "output_type": "stream",
     "text": [
      "Set parameter IntFeasTol to value 0.0001\n"
     ]
    },
    {
     "name": "stderr",
     "output_type": "stream",
     "text": [
      "2024-04-11 16:43:10 (INFO): Set parameter IntFeasTol to value 0.0001\n"
     ]
    },
    {
     "name": "stdout",
     "output_type": "stream",
     "text": [
      "in callback  Loaded user MIP start with objective -0.166115\n",
      "\n",
      "optimization status  2\n",
      "Original  tensor(-0.1661, dtype=torch.float64)\n",
      "Obj: -0.135612\n",
      "robust_count  16\n",
      "tensor(-0.3213, dtype=torch.float64) False\n",
      "Set parameter IntegralityFocus to value 1\n"
     ]
    },
    {
     "name": "stderr",
     "output_type": "stream",
     "text": [
      "2024-04-11 16:43:10 (INFO): Set parameter IntegralityFocus to value 1\n"
     ]
    },
    {
     "name": "stdout",
     "output_type": "stream",
     "text": [
      "Set parameter IntFeasTol to value 0.0001\n"
     ]
    },
    {
     "name": "stderr",
     "output_type": "stream",
     "text": [
      "2024-04-11 16:43:10 (INFO): Set parameter IntFeasTol to value 0.0001\n"
     ]
    },
    {
     "name": "stdout",
     "output_type": "stream",
     "text": [
      "in callback  Loaded user MIP start with objective -0.321255\n",
      "\n",
      "optimization status  2\n",
      "Original  tensor(-0.3213, dtype=torch.float64)\n",
      "Obj: -0.28712\n",
      "robust_count  17\n",
      "tensor(-0.1342, dtype=torch.float64) False\n",
      "Set parameter IntegralityFocus to value 1\n"
     ]
    },
    {
     "name": "stderr",
     "output_type": "stream",
     "text": [
      "2024-04-11 16:43:11 (INFO): Set parameter IntegralityFocus to value 1\n"
     ]
    },
    {
     "name": "stdout",
     "output_type": "stream",
     "text": [
      "Set parameter IntFeasTol to value 0.0001\n"
     ]
    },
    {
     "name": "stderr",
     "output_type": "stream",
     "text": [
      "2024-04-11 16:43:11 (INFO): Set parameter IntFeasTol to value 0.0001\n"
     ]
    },
    {
     "name": "stdout",
     "output_type": "stream",
     "text": [
      "in callback  Loaded user MIP start with objective -0.134172\n",
      "\n",
      "optimization status  2\n",
      "Original  tensor(-0.1342, dtype=torch.float64)\n",
      "Obj: -0.08334\n",
      "robust_count  18\n",
      "tensor(-0.2372, dtype=torch.float64) False\n",
      "Set parameter IntegralityFocus to value 1\n"
     ]
    },
    {
     "name": "stderr",
     "output_type": "stream",
     "text": [
      "2024-04-11 16:43:11 (INFO): Set parameter IntegralityFocus to value 1\n"
     ]
    },
    {
     "name": "stdout",
     "output_type": "stream",
     "text": [
      "Set parameter IntFeasTol to value 0.0001\n"
     ]
    },
    {
     "name": "stderr",
     "output_type": "stream",
     "text": [
      "2024-04-11 16:43:11 (INFO): Set parameter IntFeasTol to value 0.0001\n"
     ]
    },
    {
     "name": "stdout",
     "output_type": "stream",
     "text": [
      "in callback  Loaded user MIP start with objective -0.237198\n",
      "\n",
      "optimization status  2\n",
      "Original  tensor(-0.2372, dtype=torch.float64)\n",
      "Obj: -0.197565\n",
      "robust_count  19\n",
      "tensor(-0.0797, dtype=torch.float64) False\n",
      "Set parameter IntegralityFocus to value 1\n"
     ]
    },
    {
     "name": "stderr",
     "output_type": "stream",
     "text": [
      "2024-04-11 16:43:12 (INFO): Set parameter IntegralityFocus to value 1\n"
     ]
    },
    {
     "name": "stdout",
     "output_type": "stream",
     "text": [
      "Set parameter IntFeasTol to value 0.0001\n"
     ]
    },
    {
     "name": "stderr",
     "output_type": "stream",
     "text": [
      "2024-04-11 16:43:12 (INFO): Set parameter IntFeasTol to value 0.0001\n"
     ]
    },
    {
     "name": "stdout",
     "output_type": "stream",
     "text": [
      "in callback  Loaded user MIP start with objective -0.0797461\n",
      "\n",
      "optimization status  2\n",
      "Original  tensor(-0.0797, dtype=torch.float64)\n",
      "Obj: -0.0160105\n",
      "robust_count  20\n",
      "tensor(-0.8740, dtype=torch.float64) False\n",
      "Set parameter IntegralityFocus to value 1\n"
     ]
    },
    {
     "name": "stderr",
     "output_type": "stream",
     "text": [
      "2024-04-11 16:43:13 (INFO): Set parameter IntegralityFocus to value 1\n"
     ]
    },
    {
     "name": "stdout",
     "output_type": "stream",
     "text": [
      "Set parameter IntFeasTol to value 0.0001\n"
     ]
    },
    {
     "name": "stderr",
     "output_type": "stream",
     "text": [
      "2024-04-11 16:43:13 (INFO): Set parameter IntFeasTol to value 0.0001\n"
     ]
    },
    {
     "name": "stdout",
     "output_type": "stream",
     "text": [
      "in callback  Loaded user MIP start with objective -0.874006\n",
      "\n",
      "optimization status  2\n",
      "Original  tensor(-0.8740, dtype=torch.float64)\n",
      "Obj: -0.832029\n",
      "robust_count  21\n",
      "tensor(-0.0599, dtype=torch.float64) False\n",
      "Set parameter IntegralityFocus to value 1\n"
     ]
    },
    {
     "name": "stderr",
     "output_type": "stream",
     "text": [
      "2024-04-11 16:43:13 (INFO): Set parameter IntegralityFocus to value 1\n"
     ]
    },
    {
     "name": "stdout",
     "output_type": "stream",
     "text": [
      "Set parameter IntFeasTol to value 0.0001\n"
     ]
    },
    {
     "name": "stderr",
     "output_type": "stream",
     "text": [
      "2024-04-11 16:43:13 (INFO): Set parameter IntFeasTol to value 0.0001\n"
     ]
    },
    {
     "name": "stdout",
     "output_type": "stream",
     "text": [
      "in callback  Loaded user MIP start with objective -0.0598638\n",
      "\n",
      "optimization status  2\n",
      "Original  tensor(-0.0599, dtype=torch.float64)\n",
      "Obj: -0.0170995\n",
      "robust_count  22\n",
      "tensor(-0.1328, dtype=torch.float64) False\n",
      "Set parameter IntegralityFocus to value 1\n"
     ]
    },
    {
     "name": "stderr",
     "output_type": "stream",
     "text": [
      "2024-04-11 16:43:14 (INFO): Set parameter IntegralityFocus to value 1\n"
     ]
    },
    {
     "name": "stdout",
     "output_type": "stream",
     "text": [
      "Set parameter IntFeasTol to value 0.0001\n"
     ]
    },
    {
     "name": "stderr",
     "output_type": "stream",
     "text": [
      "2024-04-11 16:43:14 (INFO): Set parameter IntFeasTol to value 0.0001\n"
     ]
    },
    {
     "name": "stdout",
     "output_type": "stream",
     "text": [
      "in callback  Loaded user MIP start with objective -0.132775\n",
      "\n",
      "optimization status  2\n",
      "Original  tensor(-0.1328, dtype=torch.float64)\n",
      "Obj: -0.0945318\n",
      "robust_count  23\n",
      "tensor(-0.0436, dtype=torch.float64) False\n",
      "Set parameter IntegralityFocus to value 1\n"
     ]
    },
    {
     "name": "stderr",
     "output_type": "stream",
     "text": [
      "2024-04-11 16:43:14 (INFO): Set parameter IntegralityFocus to value 1\n"
     ]
    },
    {
     "name": "stdout",
     "output_type": "stream",
     "text": [
      "Set parameter IntFeasTol to value 0.0001\n"
     ]
    },
    {
     "name": "stderr",
     "output_type": "stream",
     "text": [
      "2024-04-11 16:43:14 (INFO): Set parameter IntFeasTol to value 0.0001\n"
     ]
    },
    {
     "name": "stdout",
     "output_type": "stream",
     "text": [
      "in callback  Loaded user MIP start with objective -0.0436472\n",
      "\n",
      "optimization status  2\n",
      "Original  tensor(-0.0436, dtype=torch.float64)\n",
      "Obj: 0.00621208\n",
      "robust_count  23\n",
      "tensor(-0.3380, dtype=torch.float64) False\n",
      "Set parameter IntegralityFocus to value 1\n"
     ]
    },
    {
     "name": "stderr",
     "output_type": "stream",
     "text": [
      "2024-04-11 16:43:15 (INFO): Set parameter IntegralityFocus to value 1\n"
     ]
    },
    {
     "name": "stdout",
     "output_type": "stream",
     "text": [
      "Set parameter IntFeasTol to value 0.0001\n"
     ]
    },
    {
     "name": "stderr",
     "output_type": "stream",
     "text": [
      "2024-04-11 16:43:15 (INFO): Set parameter IntFeasTol to value 0.0001\n"
     ]
    },
    {
     "name": "stdout",
     "output_type": "stream",
     "text": [
      "in callback  Loaded user MIP start with objective -0.338019\n",
      "\n",
      "optimization status  2\n",
      "Original  tensor(-0.3380, dtype=torch.float64)\n",
      "Obj: -0.283686\n",
      "robust_count  24\n",
      "tensor(-0.4473, dtype=torch.float64) False\n",
      "Set parameter IntegralityFocus to value 1\n"
     ]
    },
    {
     "name": "stderr",
     "output_type": "stream",
     "text": [
      "2024-04-11 16:43:16 (INFO): Set parameter IntegralityFocus to value 1\n"
     ]
    },
    {
     "name": "stdout",
     "output_type": "stream",
     "text": [
      "Set parameter IntFeasTol to value 0.0001\n"
     ]
    },
    {
     "name": "stderr",
     "output_type": "stream",
     "text": [
      "2024-04-11 16:43:16 (INFO): Set parameter IntFeasTol to value 0.0001\n"
     ]
    },
    {
     "name": "stdout",
     "output_type": "stream",
     "text": [
      "in callback  Loaded user MIP start with objective -0.447297\n",
      "\n",
      "optimization status  2\n",
      "Original  tensor(-0.4473, dtype=torch.float64)\n",
      "Obj: -0.378719\n",
      "robust_count  25\n",
      "tensor(-0.4676, dtype=torch.float64) False\n",
      "Set parameter IntegralityFocus to value 1\n"
     ]
    },
    {
     "name": "stderr",
     "output_type": "stream",
     "text": [
      "2024-04-11 16:43:16 (INFO): Set parameter IntegralityFocus to value 1\n"
     ]
    },
    {
     "name": "stdout",
     "output_type": "stream",
     "text": [
      "Set parameter IntFeasTol to value 0.0001\n"
     ]
    },
    {
     "name": "stderr",
     "output_type": "stream",
     "text": [
      "2024-04-11 16:43:16 (INFO): Set parameter IntFeasTol to value 0.0001\n"
     ]
    },
    {
     "name": "stdout",
     "output_type": "stream",
     "text": [
      "in callback  Loaded user MIP start with objective -0.467591\n",
      "\n",
      "optimization status  2\n",
      "Original  tensor(-0.4676, dtype=torch.float64)\n",
      "Obj: -0.429443\n",
      "robust_count  26\n",
      "tensor(-0.2427, dtype=torch.float64) False\n",
      "Set parameter IntegralityFocus to value 1\n"
     ]
    },
    {
     "name": "stderr",
     "output_type": "stream",
     "text": [
      "2024-04-11 16:43:17 (INFO): Set parameter IntegralityFocus to value 1\n"
     ]
    },
    {
     "name": "stdout",
     "output_type": "stream",
     "text": [
      "Set parameter IntFeasTol to value 0.0001\n"
     ]
    },
    {
     "name": "stderr",
     "output_type": "stream",
     "text": [
      "2024-04-11 16:43:17 (INFO): Set parameter IntFeasTol to value 0.0001\n"
     ]
    },
    {
     "name": "stdout",
     "output_type": "stream",
     "text": [
      "in callback  Loaded user MIP start with objective -0.242685\n",
      "\n",
      "optimization status  2\n",
      "Original  tensor(-0.2427, dtype=torch.float64)\n",
      "Obj: -0.195409\n",
      "robust_count  27\n",
      "tensor(-0.3617, dtype=torch.float64) False\n",
      "Set parameter IntegralityFocus to value 1\n"
     ]
    },
    {
     "name": "stderr",
     "output_type": "stream",
     "text": [
      "2024-04-11 16:43:18 (INFO): Set parameter IntegralityFocus to value 1\n"
     ]
    },
    {
     "name": "stdout",
     "output_type": "stream",
     "text": [
      "Set parameter IntFeasTol to value 0.0001\n"
     ]
    },
    {
     "name": "stderr",
     "output_type": "stream",
     "text": [
      "2024-04-11 16:43:18 (INFO): Set parameter IntFeasTol to value 0.0001\n"
     ]
    },
    {
     "name": "stdout",
     "output_type": "stream",
     "text": [
      "in callback  Loaded user MIP start with objective -0.361725\n",
      "\n",
      "optimization status  2\n",
      "Original  tensor(-0.3617, dtype=torch.float64)\n",
      "Obj: -0.314062\n",
      "robust_count  28\n",
      "tensor(-0.2673, dtype=torch.float64) False\n",
      "Set parameter IntegralityFocus to value 1\n"
     ]
    },
    {
     "name": "stderr",
     "output_type": "stream",
     "text": [
      "2024-04-11 16:43:19 (INFO): Set parameter IntegralityFocus to value 1\n"
     ]
    },
    {
     "name": "stdout",
     "output_type": "stream",
     "text": [
      "Set parameter IntFeasTol to value 0.0001\n"
     ]
    },
    {
     "name": "stderr",
     "output_type": "stream",
     "text": [
      "2024-04-11 16:43:19 (INFO): Set parameter IntFeasTol to value 0.0001\n"
     ]
    },
    {
     "name": "stdout",
     "output_type": "stream",
     "text": [
      "in callback  Loaded user MIP start with objective -0.267265\n",
      "\n",
      "optimization status  2\n",
      "Original  tensor(-0.2673, dtype=torch.float64)\n",
      "Obj: -0.222624\n",
      "robust_count  29\n",
      "tensor(-0.3370, dtype=torch.float64) False\n",
      "Set parameter IntegralityFocus to value 1\n"
     ]
    },
    {
     "name": "stderr",
     "output_type": "stream",
     "text": [
      "2024-04-11 16:43:19 (INFO): Set parameter IntegralityFocus to value 1\n"
     ]
    },
    {
     "name": "stdout",
     "output_type": "stream",
     "text": [
      "Set parameter IntFeasTol to value 0.0001\n"
     ]
    },
    {
     "name": "stderr",
     "output_type": "stream",
     "text": [
      "2024-04-11 16:43:19 (INFO): Set parameter IntFeasTol to value 0.0001\n"
     ]
    },
    {
     "name": "stdout",
     "output_type": "stream",
     "text": [
      "in callback  Loaded user MIP start with objective -0.337006\n",
      "\n",
      "optimization status  2\n",
      "Original  tensor(-0.3370, dtype=torch.float64)\n",
      "Obj: -0.256508\n",
      "robust_count  30\n",
      "tensor(-0.0383, dtype=torch.float64) False\n",
      "Set parameter IntegralityFocus to value 1\n"
     ]
    },
    {
     "name": "stderr",
     "output_type": "stream",
     "text": [
      "2024-04-11 16:43:20 (INFO): Set parameter IntegralityFocus to value 1\n"
     ]
    },
    {
     "name": "stdout",
     "output_type": "stream",
     "text": [
      "Set parameter IntFeasTol to value 0.0001\n"
     ]
    },
    {
     "name": "stderr",
     "output_type": "stream",
     "text": [
      "2024-04-11 16:43:20 (INFO): Set parameter IntFeasTol to value 0.0001\n"
     ]
    },
    {
     "name": "stdout",
     "output_type": "stream",
     "text": [
      "in callback  Loaded user MIP start with objective -0.0383241\n",
      "\n",
      "optimization status  2\n",
      "Original  tensor(-0.0383, dtype=torch.float64)\n",
      "Obj: -0.000527089\n",
      "robust_count  31\n",
      "tensor(-0.3069, dtype=torch.float64) False\n",
      "Set parameter IntegralityFocus to value 1\n"
     ]
    },
    {
     "name": "stderr",
     "output_type": "stream",
     "text": [
      "2024-04-11 16:43:21 (INFO): Set parameter IntegralityFocus to value 1\n"
     ]
    },
    {
     "name": "stdout",
     "output_type": "stream",
     "text": [
      "Set parameter IntFeasTol to value 0.0001\n"
     ]
    },
    {
     "name": "stderr",
     "output_type": "stream",
     "text": [
      "2024-04-11 16:43:21 (INFO): Set parameter IntFeasTol to value 0.0001\n"
     ]
    },
    {
     "name": "stdout",
     "output_type": "stream",
     "text": [
      "in callback  Loaded user MIP start with objective -0.306924\n",
      "\n",
      "optimization status  2\n",
      "Original  tensor(-0.3069, dtype=torch.float64)\n",
      "Obj: -0.252081\n",
      "robust_count  32\n",
      "tensor(-0.3228, dtype=torch.float64) False\n",
      "Set parameter IntegralityFocus to value 1\n"
     ]
    },
    {
     "name": "stderr",
     "output_type": "stream",
     "text": [
      "2024-04-11 16:43:21 (INFO): Set parameter IntegralityFocus to value 1\n"
     ]
    },
    {
     "name": "stdout",
     "output_type": "stream",
     "text": [
      "Set parameter IntFeasTol to value 0.0001\n"
     ]
    },
    {
     "name": "stderr",
     "output_type": "stream",
     "text": [
      "2024-04-11 16:43:21 (INFO): Set parameter IntFeasTol to value 0.0001\n"
     ]
    },
    {
     "name": "stdout",
     "output_type": "stream",
     "text": [
      "in callback  Loaded user MIP start with objective -0.322849\n",
      "\n",
      "optimization status  2\n",
      "Original  tensor(-0.3228, dtype=torch.float64)\n",
      "Obj: -0.280054\n",
      "robust_count  33\n",
      "tensor(-0.0647, dtype=torch.float64) False\n",
      "Set parameter IntegralityFocus to value 1\n"
     ]
    },
    {
     "name": "stderr",
     "output_type": "stream",
     "text": [
      "2024-04-11 16:43:22 (INFO): Set parameter IntegralityFocus to value 1\n"
     ]
    },
    {
     "name": "stdout",
     "output_type": "stream",
     "text": [
      "Set parameter IntFeasTol to value 0.0001\n"
     ]
    },
    {
     "name": "stderr",
     "output_type": "stream",
     "text": [
      "2024-04-11 16:43:22 (INFO): Set parameter IntFeasTol to value 0.0001\n"
     ]
    },
    {
     "name": "stdout",
     "output_type": "stream",
     "text": [
      "in callback  Loaded user MIP start with objective -0.0647319\n",
      "\n",
      "\n",
      "Interrupt request received\n",
      "optimization status  11\n",
      "robust_count  34\n",
      "tensor(-0.4681, dtype=torch.float64) False\n",
      "Set parameter IntegralityFocus to value 1\n"
     ]
    },
    {
     "name": "stderr",
     "output_type": "stream",
     "text": [
      "2024-04-11 16:43:22 (INFO): Set parameter IntegralityFocus to value 1\n"
     ]
    },
    {
     "name": "stdout",
     "output_type": "stream",
     "text": [
      "Set parameter IntFeasTol to value 0.0001\n"
     ]
    },
    {
     "name": "stderr",
     "output_type": "stream",
     "text": [
      "2024-04-11 16:43:22 (INFO): Set parameter IntFeasTol to value 0.0001\n"
     ]
    },
    {
     "name": "stdout",
     "output_type": "stream",
     "text": [
      "in callback  Loaded user MIP start with objective -0.468124\n",
      "\n",
      "optimization status  2\n",
      "Original  tensor(-0.4681, dtype=torch.float64)\n",
      "Obj: -0.437098\n",
      "robust_count  35\n",
      "tensor(-0.2083, dtype=torch.float64) False\n",
      "Set parameter IntegralityFocus to value 1\n"
     ]
    },
    {
     "name": "stderr",
     "output_type": "stream",
     "text": [
      "2024-04-11 16:43:23 (INFO): Set parameter IntegralityFocus to value 1\n"
     ]
    },
    {
     "name": "stdout",
     "output_type": "stream",
     "text": [
      "Set parameter IntFeasTol to value 0.0001\n"
     ]
    },
    {
     "name": "stderr",
     "output_type": "stream",
     "text": [
      "2024-04-11 16:43:23 (INFO): Set parameter IntFeasTol to value 0.0001\n"
     ]
    },
    {
     "name": "stdout",
     "output_type": "stream",
     "text": [
      "in callback  Loaded user MIP start with objective -0.208264\n",
      "\n",
      "optimization status  2\n",
      "Original  tensor(-0.2083, dtype=torch.float64)\n",
      "Obj: -0.170112\n",
      "robust_count  36\n",
      "tensor(-0.2585, dtype=torch.float64) False\n",
      "Set parameter IntegralityFocus to value 1\n"
     ]
    },
    {
     "name": "stderr",
     "output_type": "stream",
     "text": [
      "2024-04-11 16:43:24 (INFO): Set parameter IntegralityFocus to value 1\n"
     ]
    },
    {
     "name": "stdout",
     "output_type": "stream",
     "text": [
      "Set parameter IntFeasTol to value 0.0001\n"
     ]
    },
    {
     "name": "stderr",
     "output_type": "stream",
     "text": [
      "2024-04-11 16:43:24 (INFO): Set parameter IntFeasTol to value 0.0001\n"
     ]
    },
    {
     "name": "stdout",
     "output_type": "stream",
     "text": [
      "in callback  Loaded user MIP start with objective -0.258499\n",
      "\n",
      "optimization status  2\n",
      "Original  tensor(-0.2585, dtype=torch.float64)\n",
      "Obj: -0.19242\n",
      "robust_count  37\n",
      "tensor(-0.2163, dtype=torch.float64) False\n",
      "Set parameter IntegralityFocus to value 1\n"
     ]
    },
    {
     "name": "stderr",
     "output_type": "stream",
     "text": [
      "2024-04-11 16:43:24 (INFO): Set parameter IntegralityFocus to value 1\n"
     ]
    },
    {
     "name": "stdout",
     "output_type": "stream",
     "text": [
      "Set parameter IntFeasTol to value 0.0001\n"
     ]
    },
    {
     "name": "stderr",
     "output_type": "stream",
     "text": [
      "2024-04-11 16:43:24 (INFO): Set parameter IntFeasTol to value 0.0001\n"
     ]
    },
    {
     "name": "stdout",
     "output_type": "stream",
     "text": [
      "in callback  Loaded user MIP start with objective -0.216319\n",
      "\n",
      "optimization status  2\n",
      "Original  tensor(-0.2163, dtype=torch.float64)\n",
      "Obj: -0.178129\n",
      "robust_count  38\n",
      "tensor(-0.4275, dtype=torch.float64) False\n",
      "Set parameter IntegralityFocus to value 1\n"
     ]
    },
    {
     "name": "stderr",
     "output_type": "stream",
     "text": [
      "2024-04-11 16:43:25 (INFO): Set parameter IntegralityFocus to value 1\n"
     ]
    },
    {
     "name": "stdout",
     "output_type": "stream",
     "text": [
      "Set parameter IntFeasTol to value 0.0001\n"
     ]
    },
    {
     "name": "stderr",
     "output_type": "stream",
     "text": [
      "2024-04-11 16:43:25 (INFO): Set parameter IntFeasTol to value 0.0001\n"
     ]
    },
    {
     "name": "stdout",
     "output_type": "stream",
     "text": [
      "in callback  Loaded user MIP start with objective -0.427533\n",
      "\n",
      "optimization status  2\n",
      "Original  tensor(-0.4275, dtype=torch.float64)\n",
      "Obj: -0.377583\n",
      "robust_count  39\n",
      "tensor(-0.0950, dtype=torch.float64) False\n",
      "Set parameter IntegralityFocus to value 1\n"
     ]
    },
    {
     "name": "stderr",
     "output_type": "stream",
     "text": [
      "2024-04-11 16:43:25 (INFO): Set parameter IntegralityFocus to value 1\n"
     ]
    },
    {
     "name": "stdout",
     "output_type": "stream",
     "text": [
      "Set parameter IntFeasTol to value 0.0001\n"
     ]
    },
    {
     "name": "stderr",
     "output_type": "stream",
     "text": [
      "2024-04-11 16:43:25 (INFO): Set parameter IntFeasTol to value 0.0001\n"
     ]
    },
    {
     "name": "stdout",
     "output_type": "stream",
     "text": [
      "in callback  Loaded user MIP start with objective -0.0949946\n",
      "\n",
      "optimization status  2\n",
      "Original  tensor(-0.0950, dtype=torch.float64)\n",
      "Obj: -0.0728423\n",
      "robust_count  40\n",
      "tensor(-0.3991, dtype=torch.float64) False\n",
      "Set parameter IntegralityFocus to value 1\n"
     ]
    },
    {
     "name": "stderr",
     "output_type": "stream",
     "text": [
      "2024-04-11 16:43:26 (INFO): Set parameter IntegralityFocus to value 1\n"
     ]
    },
    {
     "name": "stdout",
     "output_type": "stream",
     "text": [
      "Set parameter IntFeasTol to value 0.0001\n"
     ]
    },
    {
     "name": "stderr",
     "output_type": "stream",
     "text": [
      "2024-04-11 16:43:26 (INFO): Set parameter IntFeasTol to value 0.0001\n"
     ]
    },
    {
     "name": "stdout",
     "output_type": "stream",
     "text": [
      "in callback  Loaded user MIP start with objective -0.399067\n",
      "\n",
      "optimization status  2\n",
      "Original  tensor(-0.3991, dtype=torch.float64)\n",
      "Obj: -0.333119\n",
      "robust_count  41\n",
      "tensor(-0.2122, dtype=torch.float64) False\n",
      "Set parameter IntegralityFocus to value 1\n"
     ]
    },
    {
     "name": "stderr",
     "output_type": "stream",
     "text": [
      "2024-04-11 16:43:27 (INFO): Set parameter IntegralityFocus to value 1\n"
     ]
    },
    {
     "name": "stdout",
     "output_type": "stream",
     "text": [
      "Set parameter IntFeasTol to value 0.0001\n"
     ]
    },
    {
     "name": "stderr",
     "output_type": "stream",
     "text": [
      "2024-04-11 16:43:27 (INFO): Set parameter IntFeasTol to value 0.0001\n"
     ]
    },
    {
     "name": "stdout",
     "output_type": "stream",
     "text": [
      "in callback  Loaded user MIP start with objective -0.212249\n",
      "\n",
      "optimization status  2\n",
      "Original  tensor(-0.2122, dtype=torch.float64)\n",
      "Obj: -0.178018\n",
      "robust_count  42\n",
      "tensor(-0.1970, dtype=torch.float64) False\n",
      "Set parameter IntegralityFocus to value 1\n"
     ]
    },
    {
     "name": "stderr",
     "output_type": "stream",
     "text": [
      "2024-04-11 16:43:27 (INFO): Set parameter IntegralityFocus to value 1\n"
     ]
    },
    {
     "name": "stdout",
     "output_type": "stream",
     "text": [
      "Set parameter IntFeasTol to value 0.0001\n"
     ]
    },
    {
     "name": "stderr",
     "output_type": "stream",
     "text": [
      "2024-04-11 16:43:27 (INFO): Set parameter IntFeasTol to value 0.0001\n"
     ]
    },
    {
     "name": "stdout",
     "output_type": "stream",
     "text": [
      "in callback  Loaded user MIP start with objective -0.197044\n",
      "\n",
      "optimization status  2\n",
      "Original  tensor(-0.1970, dtype=torch.float64)\n",
      "Obj: -0.156949\n",
      "robust_count  43\n",
      "tensor(-0.2667, dtype=torch.float64) False\n",
      "Set parameter IntegralityFocus to value 1\n"
     ]
    },
    {
     "name": "stderr",
     "output_type": "stream",
     "text": [
      "2024-04-11 16:43:28 (INFO): Set parameter IntegralityFocus to value 1\n"
     ]
    },
    {
     "name": "stdout",
     "output_type": "stream",
     "text": [
      "Set parameter IntFeasTol to value 0.0001\n"
     ]
    },
    {
     "name": "stderr",
     "output_type": "stream",
     "text": [
      "2024-04-11 16:43:28 (INFO): Set parameter IntFeasTol to value 0.0001\n"
     ]
    },
    {
     "name": "stdout",
     "output_type": "stream",
     "text": [
      "in callback  Loaded user MIP start with objective -0.266733\n",
      "\n",
      "optimization status  2\n",
      "Original  tensor(-0.2667, dtype=torch.float64)\n",
      "Obj: -0.19846\n",
      "robust_count  44\n",
      "tensor(-0.4227, dtype=torch.float64) False\n",
      "Set parameter IntegralityFocus to value 1\n"
     ]
    },
    {
     "name": "stderr",
     "output_type": "stream",
     "text": [
      "2024-04-11 16:43:29 (INFO): Set parameter IntegralityFocus to value 1\n"
     ]
    },
    {
     "name": "stdout",
     "output_type": "stream",
     "text": [
      "Set parameter IntFeasTol to value 0.0001\n"
     ]
    },
    {
     "name": "stderr",
     "output_type": "stream",
     "text": [
      "2024-04-11 16:43:29 (INFO): Set parameter IntFeasTol to value 0.0001\n"
     ]
    },
    {
     "name": "stdout",
     "output_type": "stream",
     "text": [
      "in callback  Loaded user MIP start with objective -0.422654\n",
      "\n",
      "optimization status  2\n",
      "Original  tensor(-0.4227, dtype=torch.float64)\n",
      "Obj: -0.372713\n",
      "robust_count  45\n",
      "tensor(-0.1753, dtype=torch.float64) False\n",
      "Set parameter IntegralityFocus to value 1\n"
     ]
    },
    {
     "name": "stderr",
     "output_type": "stream",
     "text": [
      "2024-04-11 16:43:29 (INFO): Set parameter IntegralityFocus to value 1\n"
     ]
    },
    {
     "name": "stdout",
     "output_type": "stream",
     "text": [
      "Set parameter IntFeasTol to value 0.0001\n"
     ]
    },
    {
     "name": "stderr",
     "output_type": "stream",
     "text": [
      "2024-04-11 16:43:29 (INFO): Set parameter IntFeasTol to value 0.0001\n"
     ]
    },
    {
     "name": "stdout",
     "output_type": "stream",
     "text": [
      "in callback  Loaded user MIP start with objective -0.175306\n",
      "\n",
      "optimization status  2\n",
      "Original  tensor(-0.1753, dtype=torch.float64)\n",
      "Obj: -0.127894\n",
      "robust_count  46\n",
      "tensor(-0.2505, dtype=torch.float64) False\n",
      "Set parameter IntegralityFocus to value 1\n"
     ]
    },
    {
     "name": "stderr",
     "output_type": "stream",
     "text": [
      "2024-04-11 16:43:30 (INFO): Set parameter IntegralityFocus to value 1\n"
     ]
    },
    {
     "name": "stdout",
     "output_type": "stream",
     "text": [
      "Set parameter IntFeasTol to value 0.0001\n"
     ]
    },
    {
     "name": "stderr",
     "output_type": "stream",
     "text": [
      "2024-04-11 16:43:30 (INFO): Set parameter IntFeasTol to value 0.0001\n"
     ]
    },
    {
     "name": "stdout",
     "output_type": "stream",
     "text": [
      "in callback  Loaded user MIP start with objective -0.250458\n",
      "\n",
      "optimization status  2\n",
      "Original  tensor(-0.2505, dtype=torch.float64)\n",
      "Obj: -0.189318\n",
      "robust_count  47\n",
      "tensor(-0.2235, dtype=torch.float64) False\n",
      "Set parameter IntegralityFocus to value 1\n"
     ]
    },
    {
     "name": "stderr",
     "output_type": "stream",
     "text": [
      "2024-04-11 16:43:30 (INFO): Set parameter IntegralityFocus to value 1\n"
     ]
    },
    {
     "name": "stdout",
     "output_type": "stream",
     "text": [
      "Set parameter IntFeasTol to value 0.0001\n"
     ]
    },
    {
     "name": "stderr",
     "output_type": "stream",
     "text": [
      "2024-04-11 16:43:30 (INFO): Set parameter IntFeasTol to value 0.0001\n"
     ]
    },
    {
     "name": "stdout",
     "output_type": "stream",
     "text": [
      "in callback  Loaded user MIP start with objective -0.223466\n",
      "\n",
      "optimization status  2\n",
      "Original  tensor(-0.2235, dtype=torch.float64)\n",
      "Obj: -0.183657\n",
      "robust_count  48\n",
      "tensor(-0.2837, dtype=torch.float64) False\n",
      "Set parameter IntegralityFocus to value 1\n"
     ]
    },
    {
     "name": "stderr",
     "output_type": "stream",
     "text": [
      "2024-04-11 16:43:31 (INFO): Set parameter IntegralityFocus to value 1\n"
     ]
    },
    {
     "name": "stdout",
     "output_type": "stream",
     "text": [
      "Set parameter IntFeasTol to value 0.0001\n"
     ]
    },
    {
     "name": "stderr",
     "output_type": "stream",
     "text": [
      "2024-04-11 16:43:31 (INFO): Set parameter IntFeasTol to value 0.0001\n"
     ]
    },
    {
     "name": "stdout",
     "output_type": "stream",
     "text": [
      "in callback  Loaded user MIP start with objective -0.283733\n",
      "\n",
      "optimization status  2\n",
      "Original  tensor(-0.2837, dtype=torch.float64)\n",
      "Obj: -0.221404\n",
      "robust_count  49\n",
      "tensor(-0.2028, dtype=torch.float64) False\n",
      "Set parameter IntegralityFocus to value 1\n"
     ]
    },
    {
     "name": "stderr",
     "output_type": "stream",
     "text": [
      "2024-04-11 16:43:32 (INFO): Set parameter IntegralityFocus to value 1\n"
     ]
    },
    {
     "name": "stdout",
     "output_type": "stream",
     "text": [
      "Set parameter IntFeasTol to value 0.0001\n"
     ]
    },
    {
     "name": "stderr",
     "output_type": "stream",
     "text": [
      "2024-04-11 16:43:32 (INFO): Set parameter IntFeasTol to value 0.0001\n"
     ]
    },
    {
     "name": "stdout",
     "output_type": "stream",
     "text": [
      "in callback  Loaded user MIP start with objective -0.202758\n",
      "\n",
      "optimization status  2\n",
      "Original  tensor(-0.2028, dtype=torch.float64)\n",
      "Obj: -0.141809\n",
      "robust_count  50\n",
      "tensor(-0.1659, dtype=torch.float64) False\n",
      "Set parameter IntegralityFocus to value 1\n"
     ]
    },
    {
     "name": "stderr",
     "output_type": "stream",
     "text": [
      "2024-04-11 16:43:32 (INFO): Set parameter IntegralityFocus to value 1\n"
     ]
    },
    {
     "name": "stdout",
     "output_type": "stream",
     "text": [
      "Set parameter IntFeasTol to value 0.0001\n"
     ]
    },
    {
     "name": "stderr",
     "output_type": "stream",
     "text": [
      "2024-04-11 16:43:32 (INFO): Set parameter IntFeasTol to value 0.0001\n"
     ]
    },
    {
     "name": "stdout",
     "output_type": "stream",
     "text": [
      "in callback  Loaded user MIP start with objective -0.165931\n",
      "\n",
      "optimization status  2\n",
      "Original  tensor(-0.1659, dtype=torch.float64)\n",
      "Obj: -0.131135\n",
      "robust_count  51\n",
      "tensor(-0.2818, dtype=torch.float64) False\n",
      "Set parameter IntegralityFocus to value 1\n"
     ]
    },
    {
     "name": "stderr",
     "output_type": "stream",
     "text": [
      "2024-04-11 16:43:33 (INFO): Set parameter IntegralityFocus to value 1\n"
     ]
    },
    {
     "name": "stdout",
     "output_type": "stream",
     "text": [
      "Set parameter IntFeasTol to value 0.0001\n"
     ]
    },
    {
     "name": "stderr",
     "output_type": "stream",
     "text": [
      "2024-04-11 16:43:33 (INFO): Set parameter IntFeasTol to value 0.0001\n"
     ]
    },
    {
     "name": "stdout",
     "output_type": "stream",
     "text": [
      "in callback  Loaded user MIP start with objective -0.281831\n",
      "\n",
      "optimization status  2\n",
      "Original  "
     ]
    }
   ],
   "source": [
    "model_params[\"cache_size\"] = 10000\n",
    "data_params[\"specification\"][\"avg_within_class_degree\"] = 1.58 * 2\n",
    "data_params[\"specification\"][\"avg_between_class_degree\"] = 0.37 * 2\n",
    "other_params[\"device\"] = \"cpu\"\n",
    "other_params[\"debug\"] = False\n",
    "certificate_params[\"n_adversarial\"] = 50\n",
    "certificate_params[\"delta\"] = 0.01\n",
    "certificate_params[\"method\"] = \"XXT\"\n",
    "certificate_params[\"perturbation_model\"] = \"linf\"\n",
    "certificate_params[\"cert_method\"] = \"bilevel_svm\"\n",
    "verbosity_params[\"debug_lvl\"] = \"info\"\n",
    "model_params[\"regularizer\"] = 0.01\n",
    "model_params[\"solver\"] = \"qplayer\"\n",
    "model_params[\"alpha_tol\"] = 1e-8\n",
    "model_params[\"bias\"] = False\n",
    "data_params[\"learning_setting\"] = \"transductive\"\n",
    "run(data_params, model_params, certificate_params, verbosity_params, other_params, seed)"
   ]
  },
  {
   "cell_type": "code",
   "execution_count": 32,
   "metadata": {},
   "outputs": [
    {
     "name": "stderr",
     "output_type": "stream",
     "text": [
      "2024-04-11 16:19:24 (INFO): Starting experiment exp_ntk_certify with configuration:\n",
      "2024-04-11 16:19:24 (INFO): data_params: {'dataset': 'csbm', 'learning_setting': 'transductive', 'specification': {'classes': 2, 'n_trn_labeled': 40, 'n_trn_unlabeled': 0, 'n_val': 40, 'n_test': 120, 'sigma': 1, 'avg_within_class_degree': 3.16, 'avg_between_class_degree': 0.74, 'K': 1.5, 'seed': 10}}\n",
      "2024-04-11 16:19:24 (INFO): model_params: {'label': 'GCN', 'model': 'GCN', 'normalization': 'row_normalization', 'depth': 1, 'regularizer': 0.01, 'pred_method': 'svm', 'activation': 'relu', 'cache_size': 10000, 'solver': 'qplayer', 'alpha_tol': 1e-08, 'bias': False}\n",
      "2024-04-11 16:19:24 (INFO): certification_params: {'n_adversarial': 50, 'perturbation_model': 'linf', 'delta': 0.01, 'method': 'XXT', 'cert_method': 'ntk_bound'}\n",
      "2024-04-11 16:19:24 (INFO): verbosity_params: {'debug_lvl': 'info'}\n",
      "2024-04-11 16:19:24 (INFO): other_params: {'device': 'cpu', 'dtype': torch.float64, 'allow_tf32': False, 'debug': False}\n",
      "2024-04-11 16:19:24 (INFO): seed: 0\n",
      "2024-04-11 16:19:24 (INFO): CSBM(p=0.03176, q=0.00744)\n",
      "2024-04-11 16:19:25 (INFO): Accuracy 0.9583333134651184\n"
     ]
    },
    {
     "name": "stdout",
     "output_type": "stream",
     "text": [
      "CSBM mu:\n",
      "[0.28347334 0.28347334 0.28347334 0.28347334 0.28347334 0.28347334\n",
      " 0.28347334]\n",
      "79 alphas found: ['0.0100', '0.0100', '0.0100', '0.0100', '0.0100', '0.0100', '0.0100', '0.0100', '0.0100', '0.0100', '0.0100', '0.0100', '0.0100', '0.0100', '0.0100', '0.0100', '0.0100', '0.0100', '0.0100', '0.0100', '0.0100', '0.0100', '0.0100', '0.0100', '0.0100', '0.0100', '0.0100', '0.0100', '0.0100', '0.0100', '0.0100', '0.0100', '0.0100', '0.0100', '0.0100', '0.0100', '0.0100', '0.0100', '0.0100', '0.0100', '0.0100', '0.0100', '0.0100', '0.0100', '0.0100', '0.0100', '0.0100', '-0.0000', '0.0100', '0.0100', '0.0100', '0.0100', '0.0100', '0.0100', '0.0100', '0.0100', '0.0100', '0.0100', '0.0100', '0.0100', '0.0100', '0.0100', '0.0100', '0.0100', '0.0100', '0.0100', '0.0100', '0.0100', '0.0100', '0.0100', '0.0100', '0.0100', '0.0100', '0.0100', '0.0100', '0.0100', '0.0100', '0.0100', '0.0100', '0.0100']\n"
     ]
    },
    {
     "data": {
      "text/plain": [
       "{'accuracy': 0.9583333134651184,\n",
       " 'accuracy_ub': 0.949999988079071,\n",
       " 'accuracy_lb': 0.875,\n",
       " 'accuracy_cert_trivial': 0.03333333333333333,\n",
       " 'accuracy_cert': 0.8916666507720947,\n",
       " 'accuracy_cert_unrobust': 0.0,\n",
       " 'min_ypred': -0.8740060084083646,\n",
       " 'max_ypred': 0.5618288466640802,\n",
       " 'min_ylb': -0.9161557551719688,\n",
       " 'max_ylb': 0.5366682086876243,\n",
       " 'min_yub': -0.8320294475047423,\n",
       " 'max_yub': 0.5874174960891775,\n",
       " 'avg_ntklb': 0.7147890995803884,\n",
       " 'min_ntklb': -0.8603377072824947,\n",
       " 'max_ntklb': 18.429884713611802,\n",
       " 'avg_ntkub': 0.8326720075041864,\n",
       " 'min_ntkub': -0.8603377072824947,\n",
       " 'max_ntkub': 18.429884713611802,\n",
       " 'min_ntklabeled': -0.8603377072824947,\n",
       " 'max_ntklabeled': 18.439884713611804,\n",
       " 'avg_ntkunlabeled': 0.7765858675127242,\n",
       " 'min_ntkunlabeled': -0.6694073080411328,\n",
       " 'max_ntkunlabeled': 14.477873189149578,\n",
       " 'cond': 5678.371688934053}"
      ]
     },
     "execution_count": 32,
     "metadata": {},
     "output_type": "execute_result"
    }
   ],
   "source": [
    "model_params[\"cache_size\"] = 10000\n",
    "data_params[\"specification\"][\"avg_within_class_degree\"] = 1.58 * 2\n",
    "data_params[\"specification\"][\"avg_between_class_degree\"] = 0.37 * 2\n",
    "other_params[\"device\"] = \"cpu\"\n",
    "other_params[\"debug\"] = False\n",
    "certificate_params[\"n_adversarial\"] = 50\n",
    "certificate_params[\"delta\"] = 0.01\n",
    "certificate_params[\"method\"] = \"XXT\"\n",
    "certificate_params[\"perturbation_model\"] = \"linf\"\n",
    "certificate_params[\"cert_method\"] = \"ntk_bound\"\n",
    "verbosity_params[\"debug_lvl\"] = \"info\"\n",
    "model_params[\"regularizer\"] = 0.01\n",
    "model_params[\"solver\"] = \"qplayer\"\n",
    "model_params[\"alpha_tol\"] = 1e-8\n",
    "model_params[\"bias\"] = False\n",
    "data_params[\"learning_setting\"] = \"transductive\"\n",
    "run(data_params, model_params, certificate_params, verbosity_params, other_params, seed)"
   ]
  },
  {
   "cell_type": "code",
   "execution_count": 31,
   "metadata": {},
   "outputs": [
    {
     "name": "stderr",
     "output_type": "stream",
     "text": [
      "2024-04-11 16:19:07 (INFO): Starting experiment exp_ntk_certify with configuration:\n",
      "2024-04-11 16:19:07 (INFO): data_params: {'dataset': 'csbm', 'learning_setting': 'transductive', 'specification': {'classes': 2, 'n_trn_labeled': 40, 'n_trn_unlabeled': 0, 'n_val': 40, 'n_test': 120, 'sigma': 1, 'avg_within_class_degree': 3.16, 'avg_between_class_degree': 0.74, 'K': 1.5, 'seed': 10}}\n",
      "2024-04-11 16:19:07 (INFO): model_params: {'label': 'GCN', 'model': 'GCN', 'normalization': 'row_normalization', 'depth': 1, 'regularizer': 0.01, 'pred_method': 'svm', 'activation': 'relu', 'cache_size': 10000, 'solver': 'qplayer', 'alpha_tol': 1e-08, 'bias': False}\n",
      "2024-04-11 16:19:07 (INFO): certification_params: {'n_adversarial': 50, 'perturbation_model': 'linf', 'delta': 0.01, 'method': 'XXT', 'cert_method': 'ntk_bound'}\n",
      "2024-04-11 16:19:07 (INFO): verbosity_params: {'debug_lvl': 'info'}\n",
      "2024-04-11 16:19:07 (INFO): other_params: {'device': 'cpu', 'dtype': torch.float64, 'allow_tf32': False, 'debug': False}\n",
      "2024-04-11 16:19:07 (INFO): seed: 0\n",
      "2024-04-11 16:19:07 (INFO): CSBM(p=0.03176, q=0.00744)\n",
      "2024-04-11 16:19:07 (INFO): Accuracy 0.9583333134651184\n"
     ]
    },
    {
     "name": "stdout",
     "output_type": "stream",
     "text": [
      "CSBM mu:\n",
      "[0.28347334 0.28347334 0.28347334 0.28347334 0.28347334 0.28347334\n",
      " 0.28347334]\n",
      "79 alphas found: ['0.0100', '0.0100', '0.0100', '0.0100', '0.0100', '0.0100', '0.0100', '0.0100', '0.0100', '0.0100', '0.0100', '0.0100', '0.0100', '0.0100', '0.0100', '0.0100', '0.0100', '0.0100', '0.0100', '0.0100', '0.0100', '0.0100', '0.0100', '0.0100', '0.0100', '0.0100', '0.0100', '0.0100', '0.0100', '0.0100', '0.0100', '0.0100', '0.0100', '0.0100', '0.0100', '0.0100', '0.0100', '0.0100', '0.0100', '0.0100', '0.0100', '0.0100', '0.0100', '0.0100', '0.0100', '0.0100', '0.0100', '-0.0000', '0.0100', '0.0100', '0.0100', '0.0100', '0.0100', '0.0100', '0.0100', '0.0100', '0.0100', '0.0100', '0.0100', '0.0100', '0.0100', '0.0100', '0.0100', '0.0100', '0.0100', '0.0100', '0.0100', '0.0100', '0.0100', '0.0100', '0.0100', '0.0100', '0.0100', '0.0100', '0.0100', '0.0100', '0.0100', '0.0100', '0.0100', '0.0100']\n"
     ]
    },
    {
     "data": {
      "text/plain": [
       "{'accuracy': 0.9583333134651184,\n",
       " 'accuracy_ub': 0.949999988079071,\n",
       " 'accuracy_lb': 0.875,\n",
       " 'accuracy_cert_trivial': 0.03333333333333333,\n",
       " 'accuracy_cert': 0.8916666507720947,\n",
       " 'accuracy_cert_unrobust': 0.0,\n",
       " 'min_ypred': -0.8740060084083646,\n",
       " 'max_ypred': 0.5618288466640802,\n",
       " 'min_ylb': -0.9161557551719686,\n",
       " 'max_ylb': 0.5366682086876243,\n",
       " 'min_yub': -0.8320294475047423,\n",
       " 'max_yub': 0.5874174960891775,\n",
       " 'avg_ntklb': 0.7147890995803884,\n",
       " 'min_ntklb': -0.8603377072824947,\n",
       " 'max_ntklb': 18.429884713611802,\n",
       " 'avg_ntkub': 0.8326720075041864,\n",
       " 'min_ntkub': -0.8603377072824947,\n",
       " 'max_ntkub': 18.429884713611802,\n",
       " 'min_ntklabeled': -0.8603377072824947,\n",
       " 'max_ntklabeled': 18.439884713611804,\n",
       " 'avg_ntkunlabeled': 0.7765858675127242,\n",
       " 'min_ntkunlabeled': -0.6694073080411328,\n",
       " 'max_ntkunlabeled': 14.477873189149578,\n",
       " 'cond': 5678.371688934855}"
      ]
     },
     "execution_count": 31,
     "metadata": {},
     "output_type": "execute_result"
    }
   ],
   "source": [
    "model_params[\"cache_size\"] = 10000\n",
    "data_params[\"specification\"][\"avg_within_class_degree\"] = 1.58 * 2\n",
    "data_params[\"specification\"][\"avg_between_class_degree\"] = 0.37 * 2\n",
    "other_params[\"device\"] = \"cpu\"\n",
    "other_params[\"debug\"] = False\n",
    "certificate_params[\"n_adversarial\"] = 50\n",
    "certificate_params[\"delta\"] = 0.01\n",
    "certificate_params[\"method\"] = \"XXT\"\n",
    "certificate_params[\"perturbation_model\"] = \"linf\"\n",
    "certificate_params[\"cert_method\"] = \"ntk_bound\"\n",
    "verbosity_params[\"debug_lvl\"] = \"info\"\n",
    "model_params[\"regularizer\"] = 0.01\n",
    "model_params[\"solver\"] = \"qplayer\"\n",
    "model_params[\"alpha_tol\"] = 1e-8\n",
    "model_params[\"bias\"] = False\n",
    "data_params[\"learning_setting\"] = \"transductive\"\n",
    "run(data_params, model_params, certificate_params, verbosity_params, other_params, seed)"
   ]
  },
  {
   "cell_type": "code",
   "execution_count": null,
   "metadata": {},
   "outputs": [],
   "source": []
  },
  {
   "cell_type": "code",
   "execution_count": null,
   "metadata": {},
   "outputs": [],
   "source": []
  }
 ],
 "metadata": {
  "kernelspec": {
   "display_name": "py311_ntk",
   "language": "python",
   "name": "python3"
  },
  "language_info": {
   "codemirror_mode": {
    "name": "ipython",
    "version": 3
   },
   "file_extension": ".py",
   "mimetype": "text/x-python",
   "name": "python",
   "nbconvert_exporter": "python",
   "pygments_lexer": "ipython3",
   "version": "3.11.5"
  }
 },
 "nbformat": 4,
 "nbformat_minor": 2
}
