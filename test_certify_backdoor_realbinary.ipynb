{
 "cells": [
  {
   "cell_type": "code",
   "execution_count": 2,
   "metadata": {},
   "outputs": [],
   "source": [
    "%load_ext autoreload\n",
    "%autoreload 2"
   ]
  },
  {
   "cell_type": "code",
   "execution_count": 3,
   "metadata": {},
   "outputs": [],
   "source": [
    "import torch\n",
    "import numpy as np\n",
    "from exp_certify_backdoor_realbinary import run"
   ]
  },
  {
   "cell_type": "code",
   "execution_count": 4,
   "metadata": {},
   "outputs": [],
   "source": [
    "seed = 4\n",
    "\n",
    "data_params = dict(\n",
    "    dataset = \"cora_ml_cont_binary\",\n",
    "    learning_setting = \"transductive\", # or \"transdructive\"\n",
    "    specification = dict(\n",
    "        n_per_class = 5,\n",
    "        fraction_test = 0.1,\n",
    "        data_dir = \"./data\",\n",
    "        make_undirected = True,\n",
    "        binary_attr = False,\n",
    "        balance_test = True,\n",
    "    )\n",
    ")\n",
    "\n",
    "model_params = dict(\n",
    "    label = \"GCN\",\n",
    "    model = \"GCN\",\n",
    "    normalization = \"row_normalization\",\n",
    "    depth = 1,\n",
    "    #regularizer = 1e-8\n",
    "    regularizer = 1,\n",
    "    pred_method = \"svm\",\n",
    "    activation = \"relu\",\n",
    "    solver = \"qplayer\",\n",
    "    alpha_tol = 1e-4,\n",
    "    bias = False,\n",
    ")\n",
    "\n",
    "certificate_params = dict(\n",
    "    n_adversarial = 10, # number adversarial nodes\n",
    "    perturbation_model = \"linf\",\n",
    "    attack_nodes = \"test_backdoor\",\n",
    "    delta = 0.01 # l0: local budget = delta * feature_dim\n",
    ")\n",
    "\n",
    "verbosity_params = dict(\n",
    "    debug_lvl = \"warning\"\n",
    ")  \n",
    "\n",
    "other_params = dict(\n",
    "    device = \"cpu\",\n",
    "    dtype = torch.float64,\n",
    "    allow_tf32 = False\n",
    ")"
   ]
  },
  {
   "cell_type": "code",
   "execution_count": 6,
   "metadata": {},
   "outputs": [
    {
     "name": "stderr",
     "output_type": "stream",
     "text": [
      "2024-05-16 23:14:12 (INFO): Starting experiment exp_certify_backdoor_realbinary with configuration:\n",
      "2024-05-16 23:14:12 (INFO): data_params: {'dataset': 'cora_ml_cont_binary', 'learning_setting': 'transductive', 'specification': {'n_per_class': 5, 'fraction_test': 0.1, 'data_dir': './data', 'make_undirected': True, 'binary_attr': False, 'balance_test': True}}\n",
      "2024-05-16 23:14:12 (INFO): model_params: {'label': 'GCN', 'model': 'GCN', 'normalization': 'row_normalization', 'depth': 1, 'regularizer': 0.75, 'pred_method': 'svm', 'activation': 'relu', 'solver': 'qplayer', 'alpha_tol': 0.0001, 'bias': False, 'cache_size': 10000}\n",
      "2024-05-16 23:14:12 (INFO): certification_params: {'n_adversarial': 5, 'perturbation_model': 'linf', 'attack_nodes': 'test_backdoor', 'delta': 0.01, 'n_backdoor_evals': 10, 'delta_absolute': True, 'method': 'XXT', 'cert_method': 'bilevel_svm', 'MIPFocus': 0, 'LogToConsole': 0, 'OutputFlag': 0}\n",
      "2024-05-16 23:14:12 (INFO): verbosity_params: {'debug_lvl': 'info'}\n",
      "2024-05-16 23:14:12 (INFO): other_params: {'device': 'cpu', 'dtype': torch.float64, 'allow_tf32': False, 'debug': False, 'path_gurobi_license': '/ceph/ssd/staff/gosl/app/gurobi.lic'}\n",
      "2024-05-16 23:14:12 (INFO): seed: 4\n"
     ]
    },
    {
     "name": "stderr",
     "output_type": "stream",
     "text": [
      "2024-05-16 23:14:13 (INFO): number of samples\n",
      " - labeled: 10 \n",
      " - val: 10 \n",
      " - test: 124 \n",
      " - unlabeled: 1091\n",
      "2024-05-16 23:14:13 (INFO): Delta: 0.01\n"
     ]
    },
    {
     "name": "stdout",
     "output_type": "stream",
     "text": [
      "17 alphas found: ['0.7394', '0.0000', '0.7500', '0.7500', '0.6535', '0.7500', '0.0000', '0.7500', '-0.0000', '0.6453', '0.7500', '0.7500', '0.3627', '0.5466', '0.7291', '0.7500', '0.7500', '0.2127', '0.7500', '0.5306']\n"
     ]
    },
    {
     "name": "stderr",
     "output_type": "stream",
     "text": [
      "2024-05-16 23:14:14 (INFO): Train accuracy: 1.0\n",
      "2024-05-16 23:14:14 (INFO): Accuracy_lb_trn: 1.0\n",
      "2024-05-16 23:14:14 (INFO): Accuracy_ub_trn: 1.0\n",
      "2024-05-16 23:14:14 (INFO): Certified accuracy (evasion, trivial): 1.0\n"
     ]
    },
    {
     "name": "stdout",
     "output_type": "stream",
     "text": [
      "17 alphas found: ['0.7394', '0.0000', '0.7500', '0.7500', '0.6535', '0.7500', '0.0000', '0.7500', '-0.0000', '0.6453', '0.7500', '0.7500', '0.3627', '0.5466', '0.7291', '0.7500', '0.7500', '0.2127', '0.7500', '0.5306']\n",
      "Set parameter BestBdStop to value -1.0000000000010001e-04\n"
     ]
    },
    {
     "name": "stderr",
     "output_type": "stream",
     "text": [
      "2024-05-16 23:14:14 (INFO): Set parameter BestBdStop to value -1.0000000000010001e-04\n"
     ]
    },
    {
     "name": "stdout",
     "output_type": "stream",
     "text": [
      "Set parameter BestObjStop to value 0.0001\n"
     ]
    },
    {
     "name": "stderr",
     "output_type": "stream",
     "text": [
      "2024-05-16 23:14:14 (INFO): Set parameter BestObjStop to value 0.0001\n"
     ]
    },
    {
     "name": "stdout",
     "output_type": "stream",
     "text": [
      "Set parameter IntegralityFocus to value 1\n"
     ]
    },
    {
     "name": "stderr",
     "output_type": "stream",
     "text": [
      "2024-05-16 23:14:14 (INFO): Set parameter IntegralityFocus to value 1\n"
     ]
    },
    {
     "name": "stdout",
     "output_type": "stream",
     "text": [
      "Set parameter IntFeasTol to value 0.0001\n"
     ]
    },
    {
     "name": "stderr",
     "output_type": "stream",
     "text": [
      "2024-05-16 23:14:14 (INFO): Set parameter IntFeasTol to value 0.0001\n",
      "2024-05-16 23:14:14 (INFO): Optimization status: 15\n",
      "2024-05-16 23:14:14 (INFO): Original -1.02182, Opt objective -1.02182\n",
      "2024-05-16 23:14:14 (INFO): Robust count 1 out of 1\n"
     ]
    },
    {
     "name": "stdout",
     "output_type": "stream",
     "text": [
      "Loaded user MIP start with objective -1.02182\n",
      "\n",
      "17 alphas found: ['0.7394', '0.0000', '0.7500', '0.7500', '0.6535', '0.7500', '0.0000', '0.7500', '-0.0000', '0.6453', '0.7500', '0.7500', '0.3627', '0.5466', '0.7291', '0.7500', '0.7500', '0.2127', '0.7500', '0.5306']\n",
      "Set parameter BestBdStop to value 1.0000000000010001e-04\n"
     ]
    },
    {
     "name": "stderr",
     "output_type": "stream",
     "text": [
      "2024-05-16 23:14:15 (INFO): Set parameter BestBdStop to value 1.0000000000010001e-04\n"
     ]
    },
    {
     "name": "stdout",
     "output_type": "stream",
     "text": [
      "Set parameter BestObjStop to value -0.0001\n"
     ]
    },
    {
     "name": "stderr",
     "output_type": "stream",
     "text": [
      "2024-05-16 23:14:15 (INFO): Set parameter BestObjStop to value -0.0001\n"
     ]
    },
    {
     "name": "stdout",
     "output_type": "stream",
     "text": [
      "Set parameter IntegralityFocus to value 1\n"
     ]
    },
    {
     "name": "stderr",
     "output_type": "stream",
     "text": [
      "2024-05-16 23:14:15 (INFO): Set parameter IntegralityFocus to value 1\n"
     ]
    },
    {
     "name": "stdout",
     "output_type": "stream",
     "text": [
      "Set parameter IntFeasTol to value 0.0001\n"
     ]
    },
    {
     "name": "stderr",
     "output_type": "stream",
     "text": [
      "2024-05-16 23:14:15 (INFO): Set parameter IntFeasTol to value 0.0001\n"
     ]
    },
    {
     "name": "stdout",
     "output_type": "stream",
     "text": [
      "Loaded user MIP start with objective 0.463552\n",
      "\n"
     ]
    },
    {
     "name": "stderr",
     "output_type": "stream",
     "text": [
      "2024-05-16 23:14:15 (INFO): Optimization status: 15\n",
      "2024-05-16 23:14:15 (INFO): Original 0.46355, Opt objective -0.61307\n",
      "2024-05-16 23:14:15 (INFO): Robust count 0 out of 1\n"
     ]
    },
    {
     "name": "stdout",
     "output_type": "stream",
     "text": [
      "17 alphas found: ['0.7394', '0.0000', '0.7500', '0.7500', '0.6535', '0.7500', '0.0000', '0.7500', '-0.0000', '0.6453', '0.7500', '0.7500', '0.3627', '0.5466', '0.7291', '0.7500', '0.7500', '0.2127', '0.7500', '0.5306']\n",
      "Set parameter BestBdStop to value 1.0000000000010001e-04\n"
     ]
    },
    {
     "name": "stderr",
     "output_type": "stream",
     "text": [
      "2024-05-16 23:14:15 (INFO): Set parameter BestBdStop to value 1.0000000000010001e-04\n"
     ]
    },
    {
     "name": "stdout",
     "output_type": "stream",
     "text": [
      "Set parameter BestObjStop to value -0.0001\n"
     ]
    },
    {
     "name": "stderr",
     "output_type": "stream",
     "text": [
      "2024-05-16 23:14:15 (INFO): Set parameter BestObjStop to value -0.0001\n"
     ]
    },
    {
     "name": "stdout",
     "output_type": "stream",
     "text": [
      "Set parameter IntegralityFocus to value 1\n"
     ]
    },
    {
     "name": "stderr",
     "output_type": "stream",
     "text": [
      "2024-05-16 23:14:15 (INFO): Set parameter IntegralityFocus to value 1\n"
     ]
    },
    {
     "name": "stdout",
     "output_type": "stream",
     "text": [
      "Set parameter IntFeasTol to value 0.0001\n"
     ]
    },
    {
     "name": "stderr",
     "output_type": "stream",
     "text": [
      "2024-05-16 23:14:15 (INFO): Set parameter IntFeasTol to value 0.0001\n"
     ]
    },
    {
     "name": "stdout",
     "output_type": "stream",
     "text": [
      "Loaded user MIP start with objective 0.441838\n",
      "\n"
     ]
    },
    {
     "name": "stderr",
     "output_type": "stream",
     "text": [
      "2024-05-16 23:14:16 (INFO): Optimization status: 15\n",
      "2024-05-16 23:14:16 (INFO): Original 0.44184, Opt objective -0.27327\n",
      "2024-05-16 23:14:16 (INFO): Robust count 0 out of 1\n"
     ]
    },
    {
     "name": "stdout",
     "output_type": "stream",
     "text": [
      "17 alphas found: ['0.7394', '0.0000', '0.7500', '0.7500', '0.6535', '0.7500', '0.0000', '0.7500', '-0.0000', '0.6453', '0.7500', '0.7500', '0.3627', '0.5466', '0.7291', '0.7500', '0.7500', '0.2127', '0.7500', '0.5306']\n",
      "Set parameter BestBdStop to value 1.0000000000010001e-04\n"
     ]
    },
    {
     "name": "stderr",
     "output_type": "stream",
     "text": [
      "2024-05-16 23:14:16 (INFO): Set parameter BestBdStop to value 1.0000000000010001e-04\n"
     ]
    },
    {
     "name": "stdout",
     "output_type": "stream",
     "text": [
      "Set parameter BestObjStop to value -0.0001\n"
     ]
    },
    {
     "name": "stderr",
     "output_type": "stream",
     "text": [
      "2024-05-16 23:14:16 (INFO): Set parameter BestObjStop to value -0.0001\n"
     ]
    },
    {
     "name": "stdout",
     "output_type": "stream",
     "text": [
      "Set parameter IntegralityFocus to value 1\n"
     ]
    },
    {
     "name": "stderr",
     "output_type": "stream",
     "text": [
      "2024-05-16 23:14:16 (INFO): Set parameter IntegralityFocus to value 1\n"
     ]
    },
    {
     "name": "stdout",
     "output_type": "stream",
     "text": [
      "Set parameter IntFeasTol to value 0.0001\n"
     ]
    },
    {
     "name": "stderr",
     "output_type": "stream",
     "text": [
      "2024-05-16 23:14:16 (INFO): Set parameter IntFeasTol to value 0.0001\n"
     ]
    },
    {
     "name": "stdout",
     "output_type": "stream",
     "text": [
      "Loaded user MIP start with objective 0.683454\n",
      "\n"
     ]
    },
    {
     "name": "stderr",
     "output_type": "stream",
     "text": [
      "2024-05-16 23:14:16 (INFO): Optimization status: 15\n",
      "2024-05-16 23:14:16 (INFO): Original 0.68345, Opt objective -0.06645\n",
      "2024-05-16 23:14:16 (INFO): Robust count 0 out of 1\n"
     ]
    },
    {
     "name": "stdout",
     "output_type": "stream",
     "text": [
      "17 alphas found: ['0.7470', '-0.0000', '0.7500', '0.7500', '0.6553', '0.7500', '0.0000', '0.7500', '-0.0000', '0.6064', '0.7500', '0.7500', '0.3749', '0.5480', '0.7500', '0.7500', '0.7500', '0.2194', '0.7500', '0.5564']\n",
      "Set parameter BestBdStop to value -1.0000000000010001e-04\n"
     ]
    },
    {
     "name": "stderr",
     "output_type": "stream",
     "text": [
      "2024-05-16 23:14:17 (INFO): Set parameter BestBdStop to value -1.0000000000010001e-04\n"
     ]
    },
    {
     "name": "stdout",
     "output_type": "stream",
     "text": [
      "Set parameter BestObjStop to value 0.0001\n"
     ]
    },
    {
     "name": "stderr",
     "output_type": "stream",
     "text": [
      "2024-05-16 23:14:17 (INFO): Set parameter BestObjStop to value 0.0001\n"
     ]
    },
    {
     "name": "stdout",
     "output_type": "stream",
     "text": [
      "Set parameter IntegralityFocus to value 1\n"
     ]
    },
    {
     "name": "stderr",
     "output_type": "stream",
     "text": [
      "2024-05-16 23:14:17 (INFO): Set parameter IntegralityFocus to value 1\n"
     ]
    },
    {
     "name": "stdout",
     "output_type": "stream",
     "text": [
      "Set parameter IntFeasTol to value 0.0001\n"
     ]
    },
    {
     "name": "stderr",
     "output_type": "stream",
     "text": [
      "2024-05-16 23:14:17 (INFO): Set parameter IntFeasTol to value 0.0001\n"
     ]
    },
    {
     "name": "stdout",
     "output_type": "stream",
     "text": [
      "Loaded user MIP start with objective -0.678537\n",
      "\n"
     ]
    },
    {
     "name": "stderr",
     "output_type": "stream",
     "text": [
      "2024-05-16 23:14:17 (INFO): Optimization status: 15\n",
      "2024-05-16 23:14:17 (INFO): Original -0.67854, Opt objective 0.70411\n",
      "2024-05-16 23:14:17 (INFO): Robust count 0 out of 1\n"
     ]
    },
    {
     "name": "stdout",
     "output_type": "stream",
     "text": [
      "17 alphas found: ['0.7319', '0.0000', '0.7500', '0.7500', '0.6554', '0.7500', '0.0000', '0.7500', '-0.0000', '0.6445', '0.7500', '0.7500', '0.3615', '0.5489', '0.7230', '0.7500', '0.7500', '0.2128', '0.7500', '0.5346']\n",
      "Set parameter BestBdStop to value 1.0000000000010001e-04\n"
     ]
    },
    {
     "name": "stderr",
     "output_type": "stream",
     "text": [
      "2024-05-16 23:14:18 (INFO): Set parameter BestBdStop to value 1.0000000000010001e-04\n"
     ]
    },
    {
     "name": "stdout",
     "output_type": "stream",
     "text": [
      "Set parameter BestObjStop to value -0.0001\n"
     ]
    },
    {
     "name": "stderr",
     "output_type": "stream",
     "text": [
      "2024-05-16 23:14:18 (INFO): Set parameter BestObjStop to value -0.0001\n"
     ]
    },
    {
     "name": "stdout",
     "output_type": "stream",
     "text": [
      "Set parameter IntegralityFocus to value 1\n"
     ]
    },
    {
     "name": "stderr",
     "output_type": "stream",
     "text": [
      "2024-05-16 23:14:18 (INFO): Set parameter IntegralityFocus to value 1\n"
     ]
    },
    {
     "name": "stdout",
     "output_type": "stream",
     "text": [
      "Set parameter IntFeasTol to value 0.0001\n"
     ]
    },
    {
     "name": "stderr",
     "output_type": "stream",
     "text": [
      "2024-05-16 23:14:18 (INFO): Set parameter IntFeasTol to value 0.0001\n"
     ]
    },
    {
     "name": "stdout",
     "output_type": "stream",
     "text": [
      "Loaded user MIP start with objective 0.769089\n",
      "\n"
     ]
    },
    {
     "name": "stderr",
     "output_type": "stream",
     "text": [
      "2024-05-16 23:14:18 (INFO): Optimization status: 15\n",
      "2024-05-16 23:14:18 (INFO): Original 0.76909, Opt objective -0.20407\n",
      "2024-05-16 23:14:18 (INFO): Robust count 0 out of 1\n"
     ]
    },
    {
     "name": "stdout",
     "output_type": "stream",
     "text": [
      "17 alphas found: ['0.7394', '0.0000', '0.7500', '0.7500', '0.6535', '0.7500', '0.0000', '0.7500', '-0.0000', '0.6453', '0.7500', '0.7500', '0.3627', '0.5466', '0.7291', '0.7500', '0.7500', '0.2127', '0.7500', '0.5306']\n",
      "Set parameter BestBdStop to value 1.0000000000010001e-04\n"
     ]
    },
    {
     "name": "stderr",
     "output_type": "stream",
     "text": [
      "2024-05-16 23:14:18 (INFO): Set parameter BestBdStop to value 1.0000000000010001e-04\n"
     ]
    },
    {
     "name": "stdout",
     "output_type": "stream",
     "text": [
      "Set parameter BestObjStop to value -0.0001\n"
     ]
    },
    {
     "name": "stderr",
     "output_type": "stream",
     "text": [
      "2024-05-16 23:14:18 (INFO): Set parameter BestObjStop to value -0.0001\n"
     ]
    },
    {
     "name": "stdout",
     "output_type": "stream",
     "text": [
      "Set parameter IntegralityFocus to value 1\n"
     ]
    },
    {
     "name": "stderr",
     "output_type": "stream",
     "text": [
      "2024-05-16 23:14:18 (INFO): Set parameter IntegralityFocus to value 1\n"
     ]
    },
    {
     "name": "stdout",
     "output_type": "stream",
     "text": [
      "Set parameter IntFeasTol to value 0.0001\n"
     ]
    },
    {
     "name": "stderr",
     "output_type": "stream",
     "text": [
      "2024-05-16 23:14:18 (INFO): Set parameter IntFeasTol to value 0.0001\n",
      "2024-05-16 23:14:18 (INFO): Optimization status: 15\n",
      "2024-05-16 23:14:18 (INFO): Original 1.03455, Opt objective 1.03455\n",
      "2024-05-16 23:14:18 (INFO): Robust count 1 out of 1\n"
     ]
    },
    {
     "name": "stdout",
     "output_type": "stream",
     "text": [
      "Loaded user MIP start with objective 1.03455\n",
      "\n",
      "17 alphas found: ['0.7394', '0.0000', '0.7500', '0.7500', '0.6535', '0.7500', '0.0000', '0.7500', '-0.0000', '0.6453', '0.7500', '0.7500', '0.3627', '0.5466', '0.7291', '0.7500', '0.7500', '0.2127', '0.7500', '0.5306']\n",
      "Set parameter BestBdStop to value 1.0000000000010001e-04\n"
     ]
    },
    {
     "name": "stderr",
     "output_type": "stream",
     "text": [
      "2024-05-16 23:14:19 (INFO): Set parameter BestBdStop to value 1.0000000000010001e-04\n"
     ]
    },
    {
     "name": "stdout",
     "output_type": "stream",
     "text": [
      "Set parameter BestObjStop to value -0.0001\n"
     ]
    },
    {
     "name": "stderr",
     "output_type": "stream",
     "text": [
      "2024-05-16 23:14:19 (INFO): Set parameter BestObjStop to value -0.0001\n"
     ]
    },
    {
     "name": "stdout",
     "output_type": "stream",
     "text": [
      "Set parameter IntegralityFocus to value 1\n"
     ]
    },
    {
     "name": "stderr",
     "output_type": "stream",
     "text": [
      "2024-05-16 23:14:19 (INFO): Set parameter IntegralityFocus to value 1\n"
     ]
    },
    {
     "name": "stdout",
     "output_type": "stream",
     "text": [
      "Set parameter IntFeasTol to value 0.0001\n"
     ]
    },
    {
     "name": "stderr",
     "output_type": "stream",
     "text": [
      "2024-05-16 23:14:19 (INFO): Set parameter IntFeasTol to value 0.0001\n"
     ]
    },
    {
     "name": "stdout",
     "output_type": "stream",
     "text": [
      "Loaded user MIP start with objective 0.51098\n",
      "\n"
     ]
    },
    {
     "name": "stderr",
     "output_type": "stream",
     "text": [
      "2024-05-16 23:14:19 (INFO): Optimization status: 15\n",
      "2024-05-16 23:14:19 (INFO): Original 0.51098, Opt objective -0.90462\n",
      "2024-05-16 23:14:19 (INFO): Robust count 0 out of 1\n"
     ]
    },
    {
     "name": "stdout",
     "output_type": "stream",
     "text": [
      "17 alphas found: ['0.7394', '0.0000', '0.7500', '0.7500', '0.6535', '0.7500', '0.0000', '0.7500', '-0.0000', '0.6453', '0.7500', '0.7500', '0.3627', '0.5466', '0.7291', '0.7500', '0.7500', '0.2127', '0.7500', '0.5306']\n",
      "Set parameter BestBdStop to value 1.0000000000010001e-04\n"
     ]
    },
    {
     "name": "stderr",
     "output_type": "stream",
     "text": [
      "2024-05-16 23:14:20 (INFO): Set parameter BestBdStop to value 1.0000000000010001e-04\n"
     ]
    },
    {
     "name": "stdout",
     "output_type": "stream",
     "text": [
      "Set parameter BestObjStop to value -0.0001\n"
     ]
    },
    {
     "name": "stderr",
     "output_type": "stream",
     "text": [
      "2024-05-16 23:14:20 (INFO): Set parameter BestObjStop to value -0.0001\n"
     ]
    },
    {
     "name": "stdout",
     "output_type": "stream",
     "text": [
      "Set parameter IntegralityFocus to value 1\n"
     ]
    },
    {
     "name": "stderr",
     "output_type": "stream",
     "text": [
      "2024-05-16 23:14:20 (INFO): Set parameter IntegralityFocus to value 1\n"
     ]
    },
    {
     "name": "stdout",
     "output_type": "stream",
     "text": [
      "Set parameter IntFeasTol to value 0.0001\n"
     ]
    },
    {
     "name": "stderr",
     "output_type": "stream",
     "text": [
      "2024-05-16 23:14:20 (INFO): Set parameter IntFeasTol to value 0.0001\n"
     ]
    },
    {
     "name": "stdout",
     "output_type": "stream",
     "text": [
      "Loaded user MIP start with objective 0.725549\n",
      "\n"
     ]
    },
    {
     "name": "stderr",
     "output_type": "stream",
     "text": [
      "2024-05-16 23:14:20 (INFO): Optimization status: 15\n",
      "2024-05-16 23:14:20 (INFO): Original 0.72555, Opt objective -0.27040\n",
      "2024-05-16 23:14:20 (INFO): Robust count 0 out of 1\n"
     ]
    },
    {
     "name": "stdout",
     "output_type": "stream",
     "text": [
      "17 alphas found: ['0.7394', '0.0000', '0.7500', '0.7500', '0.6535', '0.7500', '0.0000', '0.7500', '-0.0000', '0.6453', '0.7500', '0.7500', '0.3627', '0.5466', '0.7291', '0.7500', '0.7500', '0.2127', '0.7500', '0.5306']\n",
      "Set parameter BestBdStop to value -1.0000000000010001e-04\n"
     ]
    },
    {
     "name": "stderr",
     "output_type": "stream",
     "text": [
      "2024-05-16 23:14:20 (INFO): Set parameter BestBdStop to value -1.0000000000010001e-04\n"
     ]
    },
    {
     "name": "stdout",
     "output_type": "stream",
     "text": [
      "Set parameter BestObjStop to value 0.0001\n"
     ]
    },
    {
     "name": "stderr",
     "output_type": "stream",
     "text": [
      "2024-05-16 23:14:20 (INFO): Set parameter BestObjStop to value 0.0001\n"
     ]
    },
    {
     "name": "stdout",
     "output_type": "stream",
     "text": [
      "Set parameter IntegralityFocus to value 1\n"
     ]
    },
    {
     "name": "stderr",
     "output_type": "stream",
     "text": [
      "2024-05-16 23:14:20 (INFO): Set parameter IntegralityFocus to value 1\n"
     ]
    },
    {
     "name": "stdout",
     "output_type": "stream",
     "text": [
      "Set parameter IntFeasTol to value 0.0001\n"
     ]
    },
    {
     "name": "stderr",
     "output_type": "stream",
     "text": [
      "2024-05-16 23:14:20 (INFO): Set parameter IntFeasTol to value 0.0001\n",
      "2024-05-16 23:14:21 (INFO): Optimization status: 15\n",
      "2024-05-16 23:14:21 (INFO): Original -1.01680, Opt objective -1.01680\n",
      "2024-05-16 23:14:21 (INFO): Robust count 1 out of 1\n",
      "2024-05-16 23:14:21 (INFO): Certified accuracy (poisoning): 0.3\n"
     ]
    },
    {
     "name": "stdout",
     "output_type": "stream",
     "text": [
      "Loaded user MIP start with objective -1.0168\n",
      "\n"
     ]
    },
    {
     "data": {
      "text/plain": [
       "{'accuracy_test': 1.0,\n",
       " 'accuracy_trn': 1.0,\n",
       " 'accuracy_ub_test': 0.9,\n",
       " 'accuracy_lb_test': 0.4,\n",
       " 'accuracy_ub_trn': 1.0,\n",
       " 'accuracy_lb_trn': 1.0,\n",
       " 'accuracy_backdoor': 1.0,\n",
       " 'accuracy_cert_evasion_trivial': 1.0,\n",
       " 'accuracy_cert_pois_robust': 0.3,\n",
       " 'accuracy_cert_pois_unrobust': 0,\n",
       " 'delta_absolute': 0.01,\n",
       " 'y_true_cls': [-1, 1, 1, 1, -1, 1, 1, 1, 1, -1],\n",
       " 'y_pred_logit': [-1.0218172812842508,\n",
       "  0.4635517976065331,\n",
       "  0.4418378231485595,\n",
       "  0.6834540988013931,\n",
       "  -0.678536629879892,\n",
       "  0.7690890047493707,\n",
       "  1.0345477697973107,\n",
       "  0.5109805339883507,\n",
       "  0.7255491781270971,\n",
       "  -1.0168012410804084],\n",
       " 'y_worst_obj': [-1.021817298518148,\n",
       "  -0.6130684199472839,\n",
       "  -0.2732737785759837,\n",
       "  -0.06645478429177004,\n",
       "  0.7041085308066108,\n",
       "  -0.2040651678991503,\n",
       "  1.034547806960177,\n",
       "  -0.9046191120414125,\n",
       "  -0.270398235334042,\n",
       "  -1.016801261174478],\n",
       " 'y_worst_obj_bound': [-0.08843384444080678,\n",
       "  -0.7098057212032092,\n",
       "  -0.5075172011228967,\n",
       "  -0.1120320417817795,\n",
       "  0.7286668278280531,\n",
       "  -0.333617468925882,\n",
       "  0.0719509758478703,\n",
       "  -0.9212325401323929,\n",
       "  -0.3445298328039299,\n",
       "  -0.013180206644011622],\n",
       " 'y_is_robust': [True,\n",
       "  False,\n",
       "  False,\n",
       "  False,\n",
       "  False,\n",
       "  False,\n",
       "  True,\n",
       "  False,\n",
       "  False,\n",
       "  True],\n",
       " 'y_opt_status': [15, 15, 15, 15, 15, 15, 15, 15, 15, 15],\n",
       " 'idx_train': [573, 93, 1020, 599, 1182, 1191, 998, 137, 278, 151],\n",
       " 'idx_val': [415, 709, 2, 1085, 44, 336, 42, 653, 854, 314],\n",
       " 'idx_labeled': [573,\n",
       "  93,\n",
       "  1020,\n",
       "  599,\n",
       "  1182,\n",
       "  1191,\n",
       "  998,\n",
       "  137,\n",
       "  278,\n",
       "  151,\n",
       "  415,\n",
       "  709,\n",
       "  2,\n",
       "  1085,\n",
       "  44,\n",
       "  336,\n",
       "  42,\n",
       "  653,\n",
       "  854,\n",
       "  314],\n",
       " 'idx_test': [114, 615, 696, 833, 991, 1207, 994, 727, 1179, 1229],\n",
       " 'idx_adv': [1105, 92, 673, 426, 594, 1225],\n",
       " 'data_dim': 384,\n",
       " 'min_ypred': -1.0218173265457153,\n",
       " 'max_ypred': 1.0345478057861328,\n",
       " 'min_ylb': -2.0641789351689557,\n",
       " 'max_ylb': 1.1395217950074406,\n",
       " 'min_yub': -1.3564523823698975,\n",
       " 'max_yub': 2.6546258729606063,\n",
       " 'avg_ntklb': 0.4448858177103799,\n",
       " 'min_ntklb': 0.09633612993158036,\n",
       " 'max_ntklb': 2.000000183346679,\n",
       " 'avg_ntkub': 0.4508073130883892,\n",
       " 'min_ntkub': 0.11823158157078781,\n",
       " 'max_ntkub': 2.000000183346679,\n",
       " 'min_ntklabeled': 0.15866632726713148,\n",
       " 'max_ntklabeled': 2.5172695842719777,\n",
       " 'avg_ntkunlabeled': 0.4582335995302046,\n",
       " 'min_ntkunlabeled': 0.1436096291779313,\n",
       " 'max_ntkunlabeled': 1.7272272094045722,\n",
       " 'cond': 229.63071007898068,\n",
       " 'cond_regularized': 13.54786898579146}"
      ]
     },
     "execution_count": 6,
     "metadata": {},
     "output_type": "execute_result"
    }
   ],
   "source": [
    "model_params[\"cache_size\"] = 10000\n",
    "other_params[\"device\"] = \"cpu\"\n",
    "other_params[\"debug\"] = False\n",
    "certificate_params[\"n_adversarial\"] = 5\n",
    "certificate_params[\"n_backdoor_evals\"] = 10\n",
    "certificate_params[\"delta\"] = 0.01\n",
    "certificate_params[\"delta_absolute\"] = True\n",
    "certificate_params[\"method\"] = \"XXT\"\n",
    "certificate_params[\"perturbation_model\"] = \"linf\"\n",
    "certificate_params[\"cert_method\"] = \"bilevel_svm\"\n",
    "certificate_params[\"attack_nodes\"] = \"test_backdoor\"\n",
    "certificate_params[\"MIPFocus\"] = 0\n",
    "certificate_params[\"LogToConsole\"] = 0\n",
    "certificate_params[\"OutputFlag\"] = 0\n",
    "other_params[\"path_gurobi_license\"] = \"/ceph/ssd/staff/gosl/app/gurobi.lic\"\n",
    "verbosity_params[\"debug_lvl\"] = \"info\"\n",
    "model_params[\"regularizer\"] = 0.75\n",
    "model_params[\"solver\"] = \"qplayer\"\n",
    "model_params[\"alpha_tol\"] = 1e-4\n",
    "model_params[\"bias\"] = False\n",
    "data_params[\"learning_setting\"] = \"transductive\"\n",
    "run(data_params, model_params, certificate_params, verbosity_params, other_params, seed)"
   ]
  },
  {
   "cell_type": "code",
   "execution_count": null,
   "metadata": {},
   "outputs": [],
   "source": []
  }
 ],
 "metadata": {
  "kernelspec": {
   "display_name": "py311_ntk",
   "language": "python",
   "name": "python3"
  },
  "language_info": {
   "codemirror_mode": {
    "name": "ipython",
    "version": 3
   },
   "file_extension": ".py",
   "mimetype": "text/x-python",
   "name": "python",
   "nbconvert_exporter": "python",
   "pygments_lexer": "ipython3",
   "version": "3.11.5"
  }
 },
 "nbformat": 4,
 "nbformat_minor": 2
}
