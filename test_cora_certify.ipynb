{
 "cells": [
  {
   "cell_type": "markdown",
   "metadata": {},
   "source": [
    "# NTK classifier for Cora"
   ]
  },
  {
   "cell_type": "code",
   "execution_count": 1,
   "metadata": {},
   "outputs": [],
   "source": [
    "%load_ext autoreload\n",
    "%autoreload 2"
   ]
  },
  {
   "cell_type": "code",
   "execution_count": 2,
   "metadata": {},
   "outputs": [],
   "source": [
    "import torch\n",
    "import numpy as np\n",
    "from exp_ntk_certify import run"
   ]
  },
  {
   "cell_type": "code",
   "execution_count": 3,
   "metadata": {},
   "outputs": [],
   "source": [
    "def get_str_l(l, precision=2):\n",
    "    l_str = []\n",
    "    for el in l:\n",
    "        l_str.append(f\"{el:.{precision}f}\")\n",
    "    return l_str\n",
    "    "
   ]
  },
  {
   "cell_type": "code",
   "execution_count": 4,
   "metadata": {},
   "outputs": [],
   "source": [
    "seed = 0\n",
    "\n",
    "data_params = dict(\n",
    "    dataset = \"cora\",\n",
    "    learning_setting = \"inductive\", # or \"transdructive\"\n",
    "    specification = dict(\n",
    "        n_per_class = 20,\n",
    "        fraction_test = 0.1,\n",
    "        data_dir = \"./data\",\n",
    "        make_undirected = True,\n",
    "        binary_attr = False,\n",
    "        balance_test = True,\n",
    "    )\n",
    ")\n",
    "\n",
    "model_params = dict(\n",
    "    label = \"GCN\",\n",
    "    model = \"GCN\",\n",
    "    normalization = \"row_normalization\",\n",
    "    depth = 1,\n",
    "    #regularizer = 1e-8\n",
    "    regularizer = 1,\n",
    "    pred_method = \"svm\",\n",
    ")\n",
    "\n",
    "certificate_params = dict(\n",
    "    n_adversarial = 10, # number adversarial nodes\n",
    "    perturbation_model = \"l0\",\n",
    "    delta = 0.01 # l0: local budget = delta * feature_dim\n",
    ")\n",
    "\n",
    "verbosity_params = dict(\n",
    "    debug_lvl = \"warning\"\n",
    ")  \n",
    "\n",
    "other_params = dict(\n",
    "    device = \"0\",\n",
    "    dtype = torch.float64,\n",
    "    allow_tf32 = False\n",
    ")"
   ]
  },
  {
   "cell_type": "code",
   "execution_count": 5,
   "metadata": {},
   "outputs": [],
   "source": [
    "def run_exp(n_seeds, data_params, model_params, certificate_params,\n",
    "            verbosity_params, other_params):\n",
    "    acc_l = []\n",
    "    min_ypred = []\n",
    "    max_ypred = []\n",
    "    cond = []\n",
    "    min_ntklabeled = []\n",
    "    max_ntklabeled = []\n",
    "    min_ntkunlabeled = []\n",
    "    max_ntkunlabeled = []\n",
    "    for seed in range(n_seeds):\n",
    "        data_params[\"specification\"][\"seed\"] = seed\n",
    "        res = run(data_params, model_params, certificate_params,\n",
    "                  verbosity_params, other_params, seed)\n",
    "        acc_l.append(res[\"accuracy\"])\n",
    "        min_ypred.append(res[\"min_ypred\"])\n",
    "        max_ypred.append(res[\"max_ypred\"])\n",
    "        min_ntklabeled.append(res[\"min_ntklabeled\"])\n",
    "        max_ntklabeled.append(res[\"max_ntklabeled\"])\n",
    "        min_ntkunlabeled.append(res[\"min_ntkunlabeled\"])\n",
    "        max_ntkunlabeled.append(res[\"max_ntkunlabeled\"])\n",
    "        cond.append(res[\"cond\"])\n",
    "    print(f\"Accuracy: {get_str_l(acc_l)}\")\n",
    "    print(f\"Min y_pred: {get_str_l(min_ypred)}\")\n",
    "    print(f\"Max y_pred: {get_str_l(max_ypred)}\")\n",
    "    print(f\"Min NTK_labeled: {get_str_l(min_ntklabeled)}\")\n",
    "    print(f\"Max NTK_labeled: {get_str_l(max_ntklabeled)}\")\n",
    "    print(f\"Min NTK_unlabeled: {get_str_l(min_ntkunlabeled)}\")\n",
    "    print(f\"Max NTK_unlabeled: {get_str_l(max_ntkunlabeled)}\")\n",
    "    print(f\"Condition: {get_str_l(cond, precision=0)}\")"
   ]
  },
  {
   "cell_type": "code",
   "execution_count": 31,
   "metadata": {},
   "outputs": [
    {
     "name": "stdout",
     "output_type": "stream",
     "text": [
      "tensor(0, device='cuda:0')\n",
      "tensor([[5.2237, 0.6675, 1.4323,  ..., 0.8431, 0.3319, 0.8705],\n",
      "        [0.6675, 7.5545, 0.6744,  ..., 0.3564, 0.3549, 0.3009],\n",
      "        [1.4323, 0.6744, 3.0571,  ..., 0.6843, 0.4028, 0.9756],\n",
      "        ...,\n",
      "        [0.8431, 0.3564, 0.6843,  ..., 4.9993, 0.4334, 0.6241],\n",
      "        [0.3319, 0.3549, 0.4028,  ..., 0.4334, 5.6936, 0.6567],\n",
      "        [0.8705, 0.3009, 0.9756,  ..., 0.6241, 0.6567, 6.2032]],\n",
      "       device='cuda:0', dtype=torch.float64)\n",
      "tensor([[5.2237, 0.6675, 1.4323,  ..., 0.8431, 0.3319, 0.8705],\n",
      "        [0.6675, 7.5545, 0.6744,  ..., 0.3564, 0.3549, 0.3009],\n",
      "        [1.4323, 0.6744, 3.0571,  ..., 0.6843, 0.4028, 0.9756],\n",
      "        ...,\n",
      "        [0.8431, 0.3564, 0.6843,  ..., 4.9993, 0.4334, 0.6241],\n",
      "        [0.3319, 0.3549, 0.4028,  ..., 0.4334, 5.6936, 0.6567],\n",
      "        [0.8705, 0.3009, 0.9756,  ..., 0.6241, 0.6567, 6.2032]],\n",
      "       device='cuda:0', dtype=torch.float64)\n",
      "tensor([[0.9999, 0.5607, 0.6774,  ..., 0.5902, 0.5362, 0.5843],\n",
      "        [0.5607, 0.9999, 0.5780,  ..., 0.5346, 0.5324, 0.5266],\n",
      "        [0.6774, 0.5780, 0.9999,  ..., 0.5950, 0.5556, 0.6181],\n",
      "        ...,\n",
      "        [0.5902, 0.5346, 0.5950,  ..., 0.9999, 0.5474, 0.5637],\n",
      "        [0.5362, 0.5324, 0.5556,  ..., 0.5474, 0.9999, 0.5629],\n",
      "        [0.5843, 0.5266, 0.6181,  ..., 0.5637, 0.5629, 0.9999]],\n",
      "       device='cuda:0', dtype=torch.float64)\n",
      "tensor([[0.9999, 0.5607, 0.6774,  ..., 0.5902, 0.5362, 0.5843],\n",
      "        [0.5607, 0.9999, 0.5780,  ..., 0.5346, 0.5324, 0.5266],\n",
      "        [0.6774, 0.5780, 0.9999,  ..., 0.5950, 0.5556, 0.6181],\n",
      "        ...,\n",
      "        [0.5902, 0.5346, 0.5950,  ..., 0.9999, 0.5474, 0.5637],\n",
      "        [0.5362, 0.5324, 0.5556,  ..., 0.5474, 0.9999, 0.5629],\n",
      "        [0.5843, 0.5266, 0.6181,  ..., 0.5637, 0.5629, 0.9999]],\n",
      "       device='cuda:0', dtype=torch.float64)\n",
      "tensor([[nan, nan, nan,  ..., nan, nan, nan],\n",
      "        [nan, nan, nan,  ..., nan, nan, nan],\n",
      "        [nan, nan, nan,  ..., nan, nan, nan],\n",
      "        ...,\n",
      "        [nan, nan, nan,  ..., nan, nan, nan],\n",
      "        [nan, nan, nan,  ..., nan, nan, nan],\n",
      "        [nan, nan, nan,  ..., nan, nan, nan]], device='cuda:0',\n",
      "       dtype=torch.float64)\n",
      "tensor([[6.8543, 1.6717, 2.6555,  ..., 1.7426, 0.6795, 1.8612],\n",
      "        [1.6717, 7.1591, 1.6977,  ..., 0.8572, 0.8042, 1.0050],\n",
      "        [2.6555, 1.6977, 3.9282,  ..., 1.4408, 0.6432, 1.6612],\n",
      "        ...,\n",
      "        [1.7426, 0.8572, 1.4408,  ..., 5.0931, 0.8363, 1.8676],\n",
      "        [0.6795, 0.8042, 0.6432,  ..., 0.8363, 7.7553, 1.1075],\n",
      "        [1.8612, 1.0050, 1.6612,  ..., 1.8676, 1.1075, 6.2058]],\n",
      "       device='cuda:0', dtype=torch.float64)\n",
      "tensor([[-1.0509, -0.9866, -0.9693,  ..., -1.2068, -1.3927,  0.5617],\n",
      "        [-0.6531, -0.8786, -0.9491,  ...,  0.5213, -1.5022, -1.4458],\n",
      "        [-1.0519, -0.9428, -0.9858,  ..., -1.1154, -1.2678,  0.8670],\n",
      "        ...,\n",
      "        [-1.0384, -0.6719, -0.8150,  ..., -0.7398, -1.2296, -1.4186],\n",
      "        [-0.6517, -0.7323, -0.9333,  ..., -1.4473, -1.1709, -0.8314],\n",
      "        [-0.4506, -0.8423, -1.1157,  ..., -1.3256, -0.9870, -0.9643]],\n",
      "       device='cuda:0')\n",
      "tensor([[nan, nan, nan,  ..., nan, nan, nan],\n",
      "        [nan, nan, nan,  ..., nan, nan, nan],\n",
      "        [nan, nan, nan,  ..., nan, nan, nan],\n",
      "        ...,\n",
      "        [nan, nan, nan,  ..., nan, nan, nan],\n",
      "        [nan, nan, nan,  ..., nan, nan, nan],\n",
      "        [nan, nan, nan,  ..., nan, nan, nan]], device='cuda:0')\n"
     ]
    },
    {
     "data": {
      "text/plain": [
       "{'accuracy': 0.860805869102478,\n",
       " 'accuracy_ub': 0.8278388381004333,\n",
       " 'accuracy_lb': 0.1318681389093399,\n",
       " 'min_ypred': -1.8298628330230713,\n",
       " 'max_ypred': 1.6593281030654907,\n",
       " 'min_ntklabeled': 0.5508265348229653,\n",
       " 'max_ntklabeled': 40.0963190680909,\n",
       " 'min_ntkunlabeled': 0.5152510432128604,\n",
       " 'max_ntkunlabeled': 28.49737733601476,\n",
       " 'cond': 9296.958232730689}"
      ]
     },
     "execution_count": 31,
     "metadata": {},
     "output_type": "execute_result"
    }
   ],
   "source": [
    "model_params[\"regularizer\"] = 0.1\n",
    "model_params[\"pred_method\"] = \"svm\"\n",
    "model_params[\"cache_size\"] = 10000\n",
    "data_params[\"dataset\"] = \"cora\"\n",
    "other_params[\"device\"] = 0\n",
    "certificate_params[\"n_adversarial\"] = 1\n",
    "certificate_params[\"delta\"] = 0.01\n",
    "seed = 0\n",
    "data_params[\"specification\"][\"seed\"] = seed\n",
    "run(data_params, model_params, certificate_params, verbosity_params, other_params, seed)"
   ]
  },
  {
   "cell_type": "code",
   "execution_count": 10,
   "metadata": {},
   "outputs": [
    {
     "name": "stdout",
     "output_type": "stream",
     "text": [
      "tensor([[1., 2., 3., 4.]])\n",
      "tensor([[1.],\n",
      "        [2.],\n",
      "        [3.],\n",
      "        [4.]])\n",
      "tensor([[1., 2., 3., 4.],\n",
      "        [1., 2., 3., 4.],\n",
      "        [1., 2., 3., 4.],\n",
      "        [1., 2., 3., 4.]])\n",
      "tensor([[1., 1., 1., 1.],\n",
      "        [2., 2., 2., 2.],\n",
      "        [3., 3., 3., 3.],\n",
      "        [4., 4., 4., 4.]])\n"
     ]
    }
   ],
   "source": [
    "idx_adv = [1,3]\n",
    "a = torch.Tensor(([1, 1, 1, 1], [2, 2, 2, 2], [3, 3, 3, 3], [4,4,4,4]))\n",
    "p = torch.zeros(a.shape)\n",
    "diag = torch.diagonal(a).reshape(1, -1)\n",
    "diag_2 = torch.diagonal(a).reshape(-1, 1)\n",
    "print(diag)\n",
    "print(diag_2)\n",
    "print(p + diag)\n",
    "print(p + diag_2)"
   ]
  },
  {
   "cell_type": "markdown",
   "metadata": {},
   "source": [
    "# SVM"
   ]
  },
  {
   "cell_type": "code",
   "execution_count": 60,
   "metadata": {},
   "outputs": [
    {
     "name": "stdout",
     "output_type": "stream",
     "text": [
      "Accuracy: ['0.86', '0.84', '0.86', '0.80', '0.82', '0.78', '0.80', '0.76', '0.81', '0.84']\n",
      "Min y_pred: ['-1.83', '-1.81', '-1.74', '-1.72', '-2.01', '-1.87', '-2.00', '-1.87', '-1.78', '-1.85']\n",
      "Max y_pred: ['1.66', '1.49', '1.87', '1.66', '1.77', '1.51', '1.97', '1.85', '1.85', '1.45']\n",
      "Min NTK_labeled: ['0.55', '0.78', '0.87', '0.73', '0.56', '1.07', '0.59', '0.51', '0.72', '1.13']\n",
      "Max NTK_labeled: ['40.10', '52.10', '46.10', '52.10', '50.10', '44.10', '40.10', '46.10', '46.10', '46.10']\n",
      "Min NTK_unlabeled: ['0.52', '0.64', '0.79', '0.70', '0.60', '0.69', '0.55', '0.60', '0.52', '0.63']\n",
      "Max NTK_unlabeled: ['28.50', '28.00', '28.50', '21.11', '27.97', '15.13', '28.50', '19.55', '16.80', '21.44']\n",
      "Condition: ['9297', '9384', '7875', '9487', '9523', '9300', '6086', '9548', '9550', '9158']\n"
     ]
    }
   ],
   "source": [
    "model_params[\"regularizer\"] = 0.1\n",
    "data_params[\"dataset\"] = \"cora\"\n",
    "model_params[\"pred_method\"] = \"svm\"\n",
    "n_seeds = 10\n",
    "run_exp(n_seeds, data_params, model_params, verbosity_params, other_params)"
   ]
  },
  {
   "cell_type": "code",
   "execution_count": 7,
   "metadata": {},
   "outputs": [
    {
     "name": "stdout",
     "output_type": "stream",
     "text": [
      "Accuracy: ['0.86', '0.84', '0.86', '0.80', '0.82', '0.78', '0.80', '0.76', '0.81', '0.84']\n",
      "Min y_pred: ['0.00', '0.00', '0.00', '0.00', '0.00', '0.00', '0.00', '0.00', '0.00', '0.00']\n",
      "Max y_pred: ['1.00', '1.00', '1.00', '1.00', '1.00', '1.00', '1.00', '1.00', '1.00', '1.00']\n",
      "Min NTK_labeled: ['0.55', '0.78', '0.87', '0.73', '0.56', '1.07', '0.59', '0.51', '0.72', '1.13']\n",
      "Max NTK_labeled: ['40.10', '52.10', '46.10', '52.10', '50.10', '44.10', '40.10', '46.10', '46.10', '46.10']\n",
      "Min NTK_unlabeled: ['0.52', '0.64', '0.79', '0.70', '0.60', '0.69', '0.55', '0.60', '0.52', '0.63']\n",
      "Max NTK_unlabeled: ['28.50', '28.00', '28.50', '21.11', '27.97', '15.13', '28.50', '19.55', '16.80', '21.44']\n",
      "Condition: ['9297', '9384', '7875', '9487', '9523', '9300', '6086', '9548', '9550', '9158']\n"
     ]
    }
   ],
   "source": [
    "model_params[\"regularizer\"] = 0.1\n",
    "data_params[\"dataset\"] = \"cora\"\n",
    "model_params[\"pred_method\"] = \"svm\"\n",
    "n_seeds = 10\n",
    "run_exp(n_seeds, data_params, model_params, verbosity_params, other_params)"
   ]
  },
  {
   "cell_type": "code",
   "execution_count": 37,
   "metadata": {},
   "outputs": [
    {
     "name": "stderr",
     "output_type": "stream",
     "text": [
      "/ceph/ssd/staff/gosl/.conda/envs/py311_ntk/lib/python3.11/site-packages/torch_geometric/data/in_memory_dataset.py:157: UserWarning: It is not recommended to directly access the internal storage format `data` of an 'InMemoryDataset'. If you are absolutely certain what you are doing, access the internal storage via `InMemoryDataset._data` instead to suppress this warning. Alternatively, you can access stacked individual attributes of every graph via `dataset.{attr_name}`.\n",
      "  warnings.warn(msg)\n",
      "/ceph/ssd/staff/gosl/src/ntk-robust/exp_ntk.py:162: UserWarning: To copy construct from a tensor, it is recommended to use sourceTensor.clone().detach() or sourceTensor.clone().detach().requires_grad_(True), rather than torch.tensor(sourceTensor).\n",
      "  X = torch.tensor(X, dtype=other_params[\"dtype\"], device=device)\n",
      "/ceph/ssd/staff/gosl/src/ntk-robust/exp_ntk.py:163: UserWarning: To copy construct from a tensor, it is recommended to use sourceTensor.clone().detach() or sourceTensor.clone().detach().requires_grad_(True), rather than torch.tensor(sourceTensor).\n",
      "  A = torch.tensor(A, dtype=other_params[\"dtype\"], device=device)\n"
     ]
    },
    {
     "name": "stdout",
     "output_type": "stream",
     "text": [
      "number of samples\n",
      " - labeled: 140 \n",
      " - val: 140 \n",
      " - test: 273 \n",
      " - unlabeled: 2155\n",
      "number of samples\n",
      " - labeled: 140 \n",
      " - val: 140 \n",
      " - test: 273 \n",
      " - unlabeled: 2155\n",
      "Accuracy: ['0.86', '0.84']\n",
      "Min y_pred: ['-0.61', '-0.68']\n",
      "Max y_pred: ['1.54', '2.93']\n",
      "Min NTK_labeled: ['0.55', '0.78']\n",
      "Max NTK_labeled: ['41.00', '53.00']\n",
      "Min NTK_unlabeled: ['0.52', '0.64']\n",
      "Max NTK_unlabeled: ['28.50', '28.00']\n",
      "Condition: ['931', '939']\n"
     ]
    }
   ],
   "source": [
    "model_params[\"regularizer\"] = 1\n",
    "data_params[\"dataset\"] = \"cora\"\n",
    "model_params[\"pred_method\"] = \"krr\"\n",
    "n_seeds = 2\n",
    "run_exp(n_seeds, data_params, model_params, verbosity_params, other_params)"
   ]
  }
 ],
 "metadata": {
  "kernelspec": {
   "display_name": "py311_ntk",
   "language": "python",
   "name": "python3"
  },
  "language_info": {
   "codemirror_mode": {
    "name": "ipython",
    "version": 3
   },
   "file_extension": ".py",
   "mimetype": "text/x-python",
   "name": "python",
   "nbconvert_exporter": "python",
   "pygments_lexer": "ipython3",
   "version": "3.11.5"
  }
 },
 "nbformat": 4,
 "nbformat_minor": 2
}
