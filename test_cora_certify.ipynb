{
 "cells": [
  {
   "cell_type": "markdown",
   "metadata": {},
   "source": [
    "# NTK classifier for Cora"
   ]
  },
  {
   "cell_type": "code",
   "execution_count": 2,
   "metadata": {},
   "outputs": [],
   "source": [
    "%load_ext autoreload\n",
    "%autoreload 2"
   ]
  },
  {
   "cell_type": "code",
   "execution_count": 3,
   "metadata": {},
   "outputs": [],
   "source": [
    "import torch\n",
    "import numpy as np\n",
    "from exp_ntk_certify import run"
   ]
  },
  {
   "cell_type": "code",
   "execution_count": 4,
   "metadata": {},
   "outputs": [],
   "source": [
    "def get_str_l(l, precision=2):\n",
    "    l_str = []\n",
    "    for el in l:\n",
    "        l_str.append(f\"{el:.{precision}f}\")\n",
    "    return l_str\n",
    "    "
   ]
  },
  {
   "cell_type": "code",
   "execution_count": 5,
   "metadata": {},
   "outputs": [],
   "source": [
    "seed = 0\n",
    "\n",
    "data_params = dict(\n",
    "    dataset = \"cora\",\n",
    "    learning_setting = \"inductive\", # or \"transdructive\"\n",
    "    specification = dict(\n",
    "        n_per_class = 20,\n",
    "        fraction_test = 0.1,\n",
    "        data_dir = \"./data\",\n",
    "        make_undirected = True,\n",
    "        binary_attr = False,\n",
    "        balance_test = True,\n",
    "    )\n",
    ")\n",
    "\n",
    "model_params = dict(\n",
    "    label = \"GCN\",\n",
    "    model = \"GCN\",\n",
    "    normalization = \"row_normalization\",\n",
    "    depth = 1,\n",
    "    #regularizer = 1e-8\n",
    "    regularizer = 1,\n",
    "    pred_method = \"svm\",\n",
    ")\n",
    "\n",
    "certificate_params = dict(\n",
    "    n_adversarial = 10, # number adversarial nodes\n",
    "    perturbation_model = \"l0\",\n",
    "    delta = 0.01 # l0: local budget = delta * feature_dim\n",
    ")\n",
    "\n",
    "verbosity_params = dict(\n",
    "    debug_lvl = \"warning\"\n",
    ")  \n",
    "\n",
    "other_params = dict(\n",
    "    device = \"0\",\n",
    "    dtype = torch.float64,\n",
    "    allow_tf32 = False\n",
    ")"
   ]
  },
  {
   "cell_type": "code",
   "execution_count": 6,
   "metadata": {},
   "outputs": [],
   "source": [
    "def run_exp(n_seeds, data_params, model_params, certificate_params,\n",
    "            verbosity_params, other_params):\n",
    "    acc_l = []\n",
    "    min_ypred = []\n",
    "    max_ypred = []\n",
    "    cond = []\n",
    "    min_ntklabeled = []\n",
    "    max_ntklabeled = []\n",
    "    min_ntkunlabeled = []\n",
    "    max_ntkunlabeled = []\n",
    "    for seed in range(n_seeds):\n",
    "        data_params[\"specification\"][\"seed\"] = seed\n",
    "        res = run(data_params, model_params, certificate_params,\n",
    "                  verbosity_params, other_params, seed)\n",
    "        acc_l.append(res[\"accuracy\"])\n",
    "        min_ypred.append(res[\"min_ypred\"])\n",
    "        max_ypred.append(res[\"max_ypred\"])\n",
    "        min_ntklabeled.append(res[\"min_ntklabeled\"])\n",
    "        max_ntklabeled.append(res[\"max_ntklabeled\"])\n",
    "        min_ntkunlabeled.append(res[\"min_ntkunlabeled\"])\n",
    "        max_ntkunlabeled.append(res[\"max_ntkunlabeled\"])\n",
    "        cond.append(res[\"cond\"])\n",
    "    print(f\"Accuracy: {get_str_l(acc_l)}\")\n",
    "    print(f\"Min y_pred: {get_str_l(min_ypred)}\")\n",
    "    print(f\"Max y_pred: {get_str_l(max_ypred)}\")\n",
    "    print(f\"Min NTK_labeled: {get_str_l(min_ntklabeled)}\")\n",
    "    print(f\"Max NTK_labeled: {get_str_l(max_ntklabeled)}\")\n",
    "    print(f\"Min NTK_unlabeled: {get_str_l(min_ntkunlabeled)}\")\n",
    "    print(f\"Max NTK_unlabeled: {get_str_l(max_ntkunlabeled)}\")\n",
    "    print(f\"Condition: {get_str_l(cond, precision=0)}\")"
   ]
  },
  {
   "cell_type": "code",
   "execution_count": 10,
   "metadata": {},
   "outputs": [
    {
     "name": "stderr",
     "output_type": "stream",
     "text": [
      "2024-01-11 18:30:25 (INFO): Starting experiment exp_ntk_certify with configuration:\n",
      "2024-01-11 18:30:25 (INFO): data_params: {'dataset': 'cora_ml', 'learning_setting': 'inductive', 'specification': {'n_per_class': 20, 'fraction_test': 0.1, 'data_dir': './data', 'make_undirected': True, 'binary_attr': False, 'balance_test': True, 'seed': 0}}\n",
      "2024-01-11 18:30:25 (INFO): model_params: {'label': 'GCN', 'model': 'GCN', 'normalization': 'row_normalization', 'depth': 1, 'regularizer': 0.1, 'pred_method': 'krr', 'cache_size': 10000}\n",
      "2024-01-11 18:30:25 (INFO): certification_params: {'n_adversarial': 10, 'perturbation_model': 'l0', 'delta': 0.01}\n",
      "2024-01-11 18:30:25 (INFO): verbosity_params: {'debug_lvl': 'info'}\n",
      "2024-01-11 18:30:25 (INFO): other_params: {'device': 0, 'dtype': torch.float64, 'allow_tf32': False}\n",
      "2024-01-11 18:30:25 (INFO): seed: 0\n",
      "2024-01-11 18:30:25 (INFO): Currently on gpu device cuda:0\n",
      "2024-01-11 18:30:26 (INFO): X.min(): 0.0\n",
      "2024-01-11 18:30:26 (INFO): X.max(): 1.0\n",
      "2024-01-11 18:30:26 (INFO): X_rowsum.mean(): 50.63558578491211\n",
      "2024-01-11 18:30:26 (INFO): X_rowsum.median(): 49.0\n",
      "2024-01-11 18:30:26 (INFO): X_rowsum.min(): 2.0\n",
      "2024-01-11 18:30:26 (INFO): X_rowsum.max(): 176.0\n",
      "2024-01-11 18:30:26 (INFO): number of samples\n",
      " - labeled: 140 \n",
      " - val: 140 \n",
      " - test: 284 \n",
      " - unlabeled: 2246\n",
      "2024-01-11 18:30:29 (INFO): Accuracy 0.813380241394043\n"
     ]
    },
    {
     "data": {
      "text/plain": [
       "{'accuracy': 0.813380241394043,\n",
       " 'accuracy_ub': 0.31338027119636536,\n",
       " 'accuracy_lb': 0.7077464461326599,\n",
       " 'accuracy_cert': 0.47887322306632996,\n",
       " 'accuracy_cert_unrobust': 0.32042253017425537,\n",
       " 'min_ypred': -0.679108707845861,\n",
       " 'max_ypred': 1.9279342579468663,\n",
       " 'min_ylb': -0.7205013733062592,\n",
       " 'max_ylb': 1.9658152324249596,\n",
       " 'min_yub': -1.5159283394753253,\n",
       " 'max_yub': 8.061858523859527,\n",
       " 'min_ntklb': 0.4616764139530176,\n",
       " 'max_ntklb': 139.69693436430674,\n",
       " 'min_ntkub': 2.3331038349874444,\n",
       " 'max_ntkub': 269.95186495266415,\n",
       " 'min_ntklabeled': 3.518943905429874,\n",
       " 'max_ntklabeled': 142.08693269172264,\n",
       " 'min_ntkunlabeled': 2.644019167238364,\n",
       " 'max_ntkunlabeled': 47.537976680322174,\n",
       " 'cond': 26316.41952343723}"
      ]
     },
     "execution_count": 10,
     "metadata": {},
     "output_type": "execute_result"
    }
   ],
   "source": [
    "model_params[\"regularizer\"] = 0.1\n",
    "model_params[\"pred_method\"] = \"krr\"\n",
    "model_params[\"cache_size\"] = 10000\n",
    "data_params[\"dataset\"] = \"cora_ml\"\n",
    "other_params[\"device\"] = 0\n",
    "certificate_params[\"n_adversarial\"] = 10\n",
    "certificate_params[\"delta\"] = 0.01\n",
    "verbosity_params[\"debug_lvl\"] = \"info\"\n",
    "seed = 0\n",
    "data_params[\"specification\"][\"seed\"] = seed\n",
    "run(data_params, model_params, certificate_params, verbosity_params, other_params, seed)"
   ]
  },
  {
   "cell_type": "code",
   "execution_count": 8,
   "metadata": {},
   "outputs": [
    {
     "name": "stdout",
     "output_type": "stream",
     "text": [
      "tensor([2, 1, 0])\n",
      "tensor([2, 2, 2])\n",
      "tensor([[3.0000, 3.0000],\n",
      "        [1.0000, 1.5000],\n",
      "        [4.0000, 1.0000]])\n",
      "tensor([2, 0, 1])\n",
      "0.3333333432674408\n"
     ]
    }
   ],
   "source": [
    "y_pred = torch.tensor(([1, 2, 3], [1, 3, 2], [3, 2, 1]))\n",
    "y_lb = torch.tensor(([0, 1, 2], [0, 2, 1], [2, 1, 0]))\n",
    "y_ub = torch.tensor(([3, 3, 4], [1, 3, 1.5], [3, 4, 1]))\n",
    "n = y_pred.shape[0]\n",
    "pred_orig = y_pred.argmax(1)\n",
    "print(pred_orig)\n",
    "pred_orig_lb = y_lb[range(n), pred_orig]\n",
    "print(pred_orig_lb)\n",
    "mask = torch.ones(y_ub.shape, dtype=torch.bool).to(y_ub.device)\n",
    "mask[range(n), pred_orig] = False\n",
    "pred_other_ub = y_ub[mask].reshape((n, y_ub.shape[1]-1))\n",
    "print(pred_other_ub)\n",
    "count_beaten = (pred_other_ub > pred_orig_lb.reshape(-1, 1)).sum(dim=1)\n",
    "print(count_beaten)\n",
    "print(((count_beaten == 0).sum() / n).cpu().item())\n"
   ]
  },
  {
   "cell_type": "markdown",
   "metadata": {},
   "source": [
    "# SVM"
   ]
  },
  {
   "cell_type": "code",
   "execution_count": null,
   "metadata": {},
   "outputs": [],
   "source": [
    "model_params[\"regularizer\"] = 0.1\n",
    "data_params[\"dataset\"] = \"cora\"\n",
    "model_params[\"pred_method\"] = \"svm\"\n",
    "n_seeds = 10\n",
    "run_exp(n_seeds, data_params, model_params, verbosity_params, other_params)"
   ]
  },
  {
   "cell_type": "code",
   "execution_count": null,
   "metadata": {},
   "outputs": [],
   "source": [
    "model_params[\"regularizer\"] = 0.1\n",
    "data_params[\"dataset\"] = \"cora\"\n",
    "model_params[\"pred_method\"] = \"svm\"\n",
    "n_seeds = 10\n",
    "run_exp(n_seeds, data_params, model_params, verbosity_params, other_params)"
   ]
  },
  {
   "cell_type": "code",
   "execution_count": null,
   "metadata": {},
   "outputs": [],
   "source": [
    "model_params[\"regularizer\"] = 1\n",
    "data_params[\"dataset\"] = \"cora\"\n",
    "model_params[\"pred_method\"] = \"krr\"\n",
    "n_seeds = 2\n",
    "run_exp(n_seeds, data_params, model_params, verbosity_params, other_params)"
   ]
  }
 ],
 "metadata": {
  "kernelspec": {
   "display_name": "py311_ntk",
   "language": "python",
   "name": "python3"
  },
  "language_info": {
   "codemirror_mode": {
    "name": "ipython",
    "version": 3
   },
   "file_extension": ".py",
   "mimetype": "text/x-python",
   "name": "python",
   "nbconvert_exporter": "python",
   "pygments_lexer": "ipython3",
   "version": "3.11.5"
  }
 },
 "nbformat": 4,
 "nbformat_minor": 2
}
