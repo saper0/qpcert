{
 "cells": [
  {
   "cell_type": "code",
   "execution_count": 1,
   "metadata": {},
   "outputs": [],
   "source": [
    "%load_ext autoreload\n",
    "%autoreload 2"
   ]
  },
  {
   "cell_type": "code",
   "execution_count": 2,
   "metadata": {},
   "outputs": [],
   "source": [
    "import torch\n",
    "import numpy as np\n",
    "from exp_certify_multiclass_onenode import run"
   ]
  },
  {
   "cell_type": "code",
   "execution_count": 3,
   "metadata": {},
   "outputs": [],
   "source": [
    "seed = 0\n",
    "\n",
    "data_params = dict(\n",
    "    dataset = \"cora\",\n",
    "    learning_setting = \"transductive\", # or \"transdructive\"\n",
    "    specification = dict(\n",
    "        n_per_class = 10,\n",
    "        fraction_test = 0.01,\n",
    "        data_dir = \"./data\",\n",
    "        make_undirected = True,\n",
    "        binary_attr = False,\n",
    "        balance_test = True,\n",
    "    )\n",
    ")\n",
    "\n",
    "model_params = dict(\n",
    "    label = \"APPNP\",\n",
    "    model = \"GCN\",\n",
    "    normalization = \"row_normalization\",\n",
    "    depth = 1,\n",
    "    #regularizer = 1e-8\n",
    "    regularizer = 1,\n",
    "    pred_method = \"svm\",\n",
    "    activation = \"relu\"\n",
    ")\n",
    "\n",
    "certificate_params = dict(\n",
    "    n_adversarial = 1, # number adversarial nodes\n",
    "    perturbation_model = \"linf\",\n",
    "    delta = 0.01 # l0: local budget = delta * feature_dim\n",
    ")\n",
    "\n",
    "verbosity_params = dict(\n",
    "    debug_lvl = \"warning\"\n",
    ")  \n",
    "\n",
    "other_params = dict(\n",
    "    device = \"cpu\",\n",
    "    dtype = torch.float64,\n",
    "    allow_tf32 = False\n",
    ")"
   ]
  },
  {
   "cell_type": "code",
   "execution_count": 22,
   "metadata": {},
   "outputs": [
    {
     "name": "stderr",
     "output_type": "stream",
     "text": [
      "2024-04-26 19:01:07 (INFO): Starting experiment exp_certify_multiclass_onenode with configuration:\n",
      "2024-04-26 19:01:07 (INFO): data_params: {'dataset': 'cora', 'learning_setting': 'transductive', 'specification': {'n_per_class': 10, 'fraction_test': 0.01, 'data_dir': './data', 'make_undirected': True, 'binary_attr': False, 'balance_test': True}}\n",
      "2024-04-26 19:01:07 (INFO): model_params: {'label': 'GCN', 'model': 'GCN', 'normalization': 'row_normalization', 'depth': 1, 'regularizer': 0.004, 'pred_method': 'svm', 'activation': 'relu', 'solver': 'qplayer_one_vs_all', 'alpha_tol': 0.0001, 'bias': False}\n",
      "2024-04-26 19:01:07 (INFO): certification_params: {'n_adversarial': 256, 'perturbation_model': 'l2', 'delta': 0.01, 'target_idx': 6, 'n_targets_per_class': 10, 'delta_absolute': False, 'method': 'XXT', 'attack_nodes': 'test', 'Cuts': -1, 'Heuristics': 0.05, 'LogToConsole': 1, 'OutputFlag': 1, 'NumericFocus': 0}\n"
     ]
    },
    {
     "name": "stderr",
     "output_type": "stream",
     "text": [
      "2024-04-26 19:01:07 (INFO): verbosity_params: {'debug_lvl': 'info'}\n",
      "2024-04-26 19:01:07 (INFO): other_params: {'device': 'cpu', 'dtype': torch.float64, 'allow_tf32': False, 'debug': False, 'path_gurobi_license': '/ceph/ssd/staff/gosl/app/gurobi.lic'}\n",
      "2024-04-26 19:01:07 (INFO): seed: 0\n",
      "2024-04-26 19:01:08 (INFO): number of samples\n",
      " - labeled: 70 \n",
      " - val: 70 \n",
      " - test: 273 \n",
      " - unlabeled: 2295\n",
      "2024-04-26 19:01:09 (INFO): Delta: 0.01\n"
     ]
    },
    {
     "name": "stdout",
     "output_type": "stream",
     "text": [
      "Class 0: 122 alphas found: ['-0.0000', '0.0040', '0.0040', '0.0040', '0.0040', '0.0040', '0.0040', '0.0040', '0.0040', '0.0040', '0.0040', '-0.0000', '-0.0000', '-0.0000', '0.0040', '0.0040', '0.0040', '0.0040', '0.0040', '-0.0000', '0.0040', '0.0040', '0.0040', '0.0021', '0.0040', '0.0016', '0.0010', '0.0040', '0.0040', '0.0040', '0.0027', '0.0040', '0.0040', '0.0040', '0.0040', '0.0040', '0.0040', '-0.0000', '0.0040', '0.0040', '0.0040', '0.0040', '0.0040', '0.0040', '0.0040', '0.0040', '0.0040', '0.0040', '0.0040', '0.0040', '0.0040', '0.0040', '0.0040', '0.0040', '0.0040', '0.0040', '0.0040', '0.0040', '0.0019', '0.0040', '0.0040', '0.0040', '-0.0000', '0.0040', '0.0040', '-0.0000', '0.0040', '0.0040', '0.0040', '0.0040', '0.0040', '0.0040', '-0.0000', '0.0040', '0.0040', '-0.0000', '0.0040', '0.0040', '0.0040', '0.0040', '0.0040', '0.0040', '-0.0000', '0.0040', '0.0040', '0.0040', '-0.0000', '0.0040', '0.0040', '0.0040', '0.0040', '0.0040', '0.0040', '0.0040', '0.0040', '0.0040', '0.0040', '0.0040', '0.0040', '0.0040', '0.0040', '0.0040', '0.0040', '0.0027', '0.0040', '0.0040', '0.0040', '0.0040', '0.0040', '0.0040', '0.0040', '0.0040', '0.0040', '0.0040', '0.0008', '0.0040', '0.0040', '-0.0000', '-0.0000', '0.0040', '0.0040', '0.0040', '0.0040', '0.0040', '0.0040', '0.0040', '0.0040', '-0.0000', '-0.0000', '0.0040', '0.0040', '0.0040', '0.0040', '0.0009', '0.0040', '-0.0000', '0.0040', '0.0040', '-0.0000', '0.0040']\n",
      "Class 1: 122 alphas found: ['-0.0000', '0.0040', '0.0040', '0.0040', '0.0040', '0.0040', '0.0016', '0.0040', '0.0040', '0.0040', '0.0040', '0.0040', '-0.0000', '-0.0000', '0.0040', '0.0040', '0.0040', '0.0040', '0.0040', '-0.0000', '-0.0000', '0.0040', '0.0040', '-0.0000', '0.0040', '0.0004', '0.0040', '0.0040', '0.0040', '0.0040', '0.0028', '0.0040', '0.0040', '0.0040', '0.0040', '0.0040', '-0.0000', '0.0040', '0.0040', '0.0040', '0.0040', '0.0040', '0.0040', '0.0040', '0.0040', '0.0040', '0.0040', '0.0040', '0.0040', '0.0040', '0.0040', '0.0040', '0.0015', '0.0040', '0.0040', '0.0040', '0.0040', '0.0040', '0.0040', '0.0040', '0.0040', '0.0040', '0.0040', '0.0040', '0.0040', '0.0040', '0.0040', '0.0040', '0.0040', '0.0040', '0.0040', '0.0040', '-0.0000', '0.0040', '0.0040', '-0.0000', '0.0040', '-0.0000', '0.0040', '0.0040', '0.0040', '0.0040', '-0.0000', '0.0040', '0.0040', '0.0040', '0.0008', '0.0040', '0.0040', '0.0040', '0.0040', '0.0040', '0.0034', '0.0040', '0.0040', '0.0040', '0.0040', '0.0040', '0.0040', '0.0040', '0.0040', '0.0040', '0.0040', '0.0040', '0.0040', '0.0040', '0.0040', '0.0040', '0.0040', '0.0040', '0.0040', '0.0040', '0.0040', '0.0040', '-0.0000', '0.0040', '0.0040', '-0.0000', '0.0040', '0.0040', '0.0040', '0.0040', '0.0040', '0.0040', '0.0040', '0.0040', '0.0040', '-0.0000', '-0.0000', '0.0040', '0.0040', '0.0040', '0.0030', '0.0000', '0.0040', '-0.0000', '0.0040', '0.0040', '-0.0000', '0.0040']\n",
      "Class 2: 122 alphas found: ['-0.0000', '0.0040', '0.0040', '0.0040', '0.0040', '0.0040', '0.0034', '0.0040', '0.0040', '0.0040', '0.0040', '-0.0000', '-0.0000', '-0.0000', '0.0040', '0.0040', '0.0040', '0.0040', '0.0040', '0.0031', '-0.0000', '0.0040', '0.0040', '0.0040', '0.0040', '-0.0000', '0.0040', '0.0040', '0.0040', '0.0040', '0.0040', '0.0040', '-0.0000', '0.0040', '0.0040', '0.0040', '-0.0000', '-0.0000', '0.0040', '0.0040', '0.0040', '0.0040', '0.0008', '0.0040', '0.0040', '0.0040', '0.0040', '0.0040', '0.0040', '0.0040', '0.0040', '0.0040', '0.0010', '0.0040', '0.0040', '0.0040', '0.0040', '0.0040', '0.0032', '0.0040', '0.0040', '0.0040', '-0.0000', '0.0040', '0.0040', '-0.0000', '0.0040', '0.0040', '0.0040', '0.0040', '0.0040', '0.0040', '-0.0000', '0.0040', '0.0022', '-0.0000', '0.0040', '-0.0000', '0.0040', '0.0040', '0.0040', '0.0040', '-0.0000', '0.0040', '0.0040', '0.0014', '-0.0000', '0.0040', '0.0040', '0.0019', '0.0040', '0.0040', '0.0040', '0.0040', '0.0040', '0.0040', '0.0040', '0.0040', '0.0040', '0.0040', '0.0040', '0.0040', '0.0040', '0.0040', '0.0040', '0.0040', '0.0040', '0.0040', '0.0040', '0.0040', '0.0040', '0.0040', '0.0040', '0.0040', '0.0023', '0.0040', '0.0040', '-0.0000', '-0.0000', '0.0040', '0.0040', '0.0040', '0.0040', '0.0040', '0.0040', '0.0040', '0.0040', '0.0040', '-0.0000', '0.0040', '0.0040', '0.0040', '0.0040', '-0.0000', '0.0040', '-0.0000', '0.0040', '0.0040', '-0.0000', '0.0040']\n",
      "Class 3: 122 alphas found: ['-0.0000', '0.0040', '0.0040', '0.0024', '0.0040', '0.0040', '0.0040', '0.0040', '0.0040', '0.0040', '0.0040', '-0.0000', '-0.0000', '-0.0000', '0.0040', '0.0040', '0.0040', '0.0040', '0.0040', '0.0040', '-0.0000', '0.0040', '0.0040', '0.0017', '0.0040', '0.0016', '0.0040', '0.0040', '0.0040', '0.0040', '0.0033', '0.0040', '-0.0000', '0.0040', '0.0040', '0.0040', '-0.0000', '-0.0000', '0.0040', '0.0040', '0.0040', '0.0040', '0.0019', '0.0040', '0.0040', '0.0040', '0.0040', '0.0040', '0.0040', '0.0040', '0.0040', '0.0040', '0.0030', '0.0040', '0.0040', '0.0040', '0.0040', '0.0040', '0.0040', '0.0040', '0.0040', '0.0040', '-0.0000', '0.0040', '0.0040', '-0.0000', '0.0040', '0.0040', '0.0040', '0.0040', '0.0040', '0.0040', '-0.0000', '0.0040', '0.0040', '-0.0000', '0.0040', '-0.0000', '0.0040', '0.0040', '0.0040', '0.0040', '-0.0000', '0.0040', '0.0040', '0.0017', '-0.0000', '0.0040', '0.0040', '0.0031', '0.0040', '0.0040', '0.0040', '0.0040', '0.0040', '0.0040', '0.0040', '0.0040', '0.0040', '0.0040', '0.0040', '0.0040', '0.0040', '0.0001', '0.0040', '0.0040', '0.0040', '0.0040', '0.0040', '0.0040', '0.0040', '0.0022', '0.0040', '0.0040', '0.0040', '0.0040', '0.0040', '-0.0000', '-0.0000', '0.0040', '0.0040', '0.0040', '0.0040', '0.0040', '0.0040', '0.0040', '0.0040', '-0.0000', '0.0040', '0.0040', '0.0040', '0.0040', '0.0040', '0.0026', '0.0040', '0.0040', '0.0040', '0.0040', '-0.0000', '0.0040']\n",
      "Class 4: 122 alphas found: ['-0.0000', '0.0040', '0.0040', '0.0001', '0.0040', '0.0040', '0.0040', '0.0040', '0.0040', '0.0040', '0.0040', '-0.0000', '-0.0000', '0.0000', '0.0040', '0.0040', '0.0040', '0.0040', '0.0040', '-0.0000', '-0.0000', '0.0040', '0.0040', '0.0039', '0.0040', '-0.0000', '0.0018', '0.0040', '0.0040', '0.0040', '0.0040', '0.0040', '-0.0000', '0.0040', '0.0040', '0.0040', '-0.0000', '-0.0000', '0.0040', '0.0040', '0.0040', '0.0040', '0.0029', '0.0040', '0.0040', '0.0040', '0.0040', '0.0040', '0.0040', '0.0040', '0.0040', '0.0040', '0.0040', '0.0040', '0.0040', '0.0040', '0.0040', '0.0040', '-0.0000', '0.0040', '0.0040', '0.0040', '-0.0000', '0.0040', '0.0040', '-0.0000', '0.0040', '0.0040', '0.0040', '0.0040', '0.0040', '0.0040', '-0.0000', '0.0040', '0.0040', '-0.0000', '0.0040', '-0.0000', '0.0040', '0.0040', '0.0040', '0.0040', '-0.0000', '0.0040', '0.0040', '0.0037', '0.0040', '0.0040', '0.0040', '0.0040', '0.0040', '0.0040', '0.0040', '0.0040', '0.0040', '0.0040', '0.0040', '0.0040', '0.0040', '0.0040', '0.0040', '0.0040', '0.0040', '-0.0000', '0.0040', '0.0040', '0.0040', '0.0040', '0.0040', '0.0040', '0.0040', '0.0027', '0.0040', '0.0040', '0.0040', '0.0040', '0.0040', '-0.0000', '-0.0000', '0.0040', '0.0040', '0.0040', '0.0040', '0.0040', '0.0040', '0.0040', '0.0040', '-0.0000', '-0.0000', '0.0040', '0.0040', '0.0040', '0.0040', '0.0040', '0.0040', '-0.0000', '0.0040', '0.0040', '0.0040', '0.0040']\n",
      "Class 5: 122 alphas found: ['0.0040', '0.0040', '0.0040', '0.0040', '0.0040', '0.0040', '0.0040', '0.0040', '0.0040', '0.0040', '0.0040', '-0.0000', '-0.0000', '-0.0000', '0.0040', '0.0040', '0.0040', '0.0040', '0.0040', '-0.0000', '-0.0000', '0.0040', '0.0040', '0.0038', '0.0040', '0.0040', '0.0015', '0.0040', '0.0040', '0.0024', '0.0040', '0.0040', '-0.0000', '0.0040', '0.0040', '0.0040', '-0.0000', '-0.0000', '0.0022', '0.0040', '0.0040', '0.0040', '0.0040', '0.0040', '0.0040', '0.0040', '0.0040', '0.0040', '0.0040', '0.0040', '0.0040', '0.0040', '0.0039', '0.0040', '0.0040', '0.0040', '0.0040', '0.0040', '0.0014', '0.0040', '0.0040', '0.0040', '0.0002', '0.0040', '0.0040', '-0.0000', '0.0040', '0.0040', '0.0040', '0.0040', '0.0040', '0.0040', '-0.0000', '0.0040', '0.0040', '-0.0000', '0.0040', '-0.0000', '0.0040', '0.0040', '0.0040', '0.0040', '-0.0000', '0.0040', '0.0040', '0.0010', '0.0040', '0.0040', '0.0040', '0.0040', '0.0040', '0.0040', '0.0040', '0.0040', '0.0040', '0.0040', '0.0040', '0.0040', '0.0040', '0.0040', '0.0040', '0.0040', '0.0040', '0.0020', '0.0040', '0.0040', '0.0040', '0.0040', '0.0040', '0.0040', '0.0040', '0.0035', '0.0040', '0.0040', '0.0016', '0.0040', '0.0040', '-0.0000', '0.0040', '0.0040', '0.0040', '0.0040', '0.0040', '0.0040', '0.0040', '0.0040', '0.0040', '-0.0000', '-0.0000', '0.0040', '0.0040', '0.0040', '0.0030', '0.0029', '0.0040', '-0.0000', '0.0040', '0.0040', '-0.0000', '0.0040']\n",
      "Class 6: 122 alphas found: ['-0.0000', '0.0040', '0.0040', '0.0040', '0.0040', '0.0040', '0.0037', '0.0040', '0.0040', '0.0040', '0.0040', '-0.0000', '0.0040', '0.0040', '0.0040', '0.0040', '0.0040', '0.0040', '0.0040', '-0.0000', '-0.0000', '0.0040', '0.0040', '0.0040', '0.0040', '-0.0000', '-0.0000', '0.0040', '0.0040', '0.0040', '0.0037', '0.0040', '-0.0000', '0.0040', '0.0040', '0.0040', '0.0040', '-0.0000', '0.0021', '0.0040', '0.0040', '0.0040', '0.0040', '0.0040', '0.0040', '0.0040', '0.0040', '0.0040', '0.0040', '0.0040', '0.0040', '0.0040', '0.0040', '0.0040', '0.0040', '0.0040', '0.0040', '0.0040', '0.0040', '0.0040', '0.0040', '0.0040', '-0.0000', '0.0040', '0.0040', '-0.0000', '0.0040', '0.0040', '0.0040', '0.0040', '0.0040', '0.0040', '0.0040', '0.0040', '0.0040', '0.0040', '0.0040', '-0.0000', '0.0040', '0.0040', '0.0040', '0.0040', '0.0040', '0.0040', '0.0040', '0.0027', '-0.0000', '0.0040', '0.0040', '0.0038', '0.0040', '0.0040', '0.0028', '0.0040', '0.0040', '0.0040', '0.0040', '0.0040', '0.0040', '0.0040', '0.0040', '0.0040', '0.0040', '0.0017', '0.0040', '0.0040', '0.0040', '0.0040', '0.0040', '0.0040', '0.0040', '0.0040', '0.0040', '0.0040', '-0.0000', '0.0040', '0.0040', '0.0040', '-0.0000', '0.0040', '0.0040', '0.0040', '0.0040', '0.0040', '0.0040', '0.0040', '0.0040', '-0.0000', '-0.0000', '0.0040', '0.0040', '0.0040', '0.0035', '-0.0000', '0.0040', '-0.0000', '0.0040', '0.0040', '-0.0000', '0.0040']\n"
     ]
    },
    {
     "name": "stderr",
     "output_type": "stream",
     "text": [
      "2024-04-26 19:01:12 (INFO): Test accuracy: 1.0\n",
      "2024-04-26 19:01:12 (INFO): Test accuracy ALL UNLABELED: 0.764018714427948\n",
      "2024-04-26 19:01:12 (INFO): Train accuracy: 0.9428571462631226\n",
      "2024-04-26 19:01:12 (INFO): Accuracy_lb_test: 1.0\n",
      "2024-04-26 19:01:12 (INFO): Accuracy_ub_test: 1.0\n",
      "2024-04-26 19:01:12 (INFO): Accuracy_lb_trn: 0.9428571462631226\n",
      "2024-04-26 19:01:12 (INFO): Accuracy_ub_trn: 0.9428571462631226\n",
      "2024-04-26 19:01:12 (INFO): Certified accuracy (evasion): 1.0\n",
      "2024-04-26 19:01:12 (INFO): Certified accuracy (evasion, trivial): 0.0\n",
      "2024-04-26 19:01:12 (INFO): Certified unrobustness (evasion): 0.0\n"
     ]
    },
    {
     "name": "stdout",
     "output_type": "stream",
     "text": [
      "(1, 140)\n",
      "Warning for adding constraints: zero or small (< 1e-13) coefficients, ignored\n"
     ]
    },
    {
     "name": "stderr",
     "output_type": "stream",
     "text": [
      "2024-04-26 19:01:13 (INFO): Warning for adding constraints: zero or small (< 1e-13) coefficients, ignored\n"
     ]
    },
    {
     "name": "stdout",
     "output_type": "stream",
     "text": [
      "Set parameter IntegralityFocus to value 1\n"
     ]
    },
    {
     "name": "stderr",
     "output_type": "stream",
     "text": [
      "2024-04-26 19:01:13 (INFO): Set parameter IntegralityFocus to value 1\n"
     ]
    },
    {
     "name": "stdout",
     "output_type": "stream",
     "text": [
      "Set parameter IntFeasTol to value 0.0001\n"
     ]
    },
    {
     "name": "stderr",
     "output_type": "stream",
     "text": [
      "2024-04-26 19:01:13 (INFO): Set parameter IntFeasTol to value 0.0001\n"
     ]
    },
    {
     "name": "stdout",
     "output_type": "stream",
     "text": [
      "Set parameter DualReductions to value 0\n"
     ]
    },
    {
     "name": "stderr",
     "output_type": "stream",
     "text": [
      "2024-04-26 19:01:13 (INFO): Set parameter DualReductions to value 0\n"
     ]
    },
    {
     "name": "stdout",
     "output_type": "stream",
     "text": [
      "Set parameter FeasibilityTol to value 0.0001\n"
     ]
    },
    {
     "name": "stderr",
     "output_type": "stream",
     "text": [
      "2024-04-26 19:01:13 (INFO): Set parameter FeasibilityTol to value 0.0001\n"
     ]
    },
    {
     "name": "stdout",
     "output_type": "stream",
     "text": [
      "Set parameter MIPFocus to value 2\n"
     ]
    },
    {
     "name": "stderr",
     "output_type": "stream",
     "text": [
      "2024-04-26 19:01:13 (INFO): Set parameter MIPFocus to value 2\n"
     ]
    },
    {
     "name": "stdout",
     "output_type": "stream",
     "text": [
      "Gurobi Optimizer version 11.0.1 build v11.0.1rc0 (linux64 - \"Ubuntu 22.04.4 LTS\")\n"
     ]
    },
    {
     "name": "stderr",
     "output_type": "stream",
     "text": [
      "2024-04-26 19:01:13 (INFO): Gurobi Optimizer version 11.0.1 build v11.0.1rc0 (linux64 - \"Ubuntu 22.04.4 LTS\")\n"
     ]
    },
    {
     "name": "stdout",
     "output_type": "stream",
     "text": [
      "\n"
     ]
    },
    {
     "name": "stderr",
     "output_type": "stream",
     "text": [
      "2024-04-26 19:01:13 (INFO): \n"
     ]
    },
    {
     "name": "stdout",
     "output_type": "stream",
     "text": [
      "CPU model: Intel(R) Xeon(R) CPU E5-2630 v4 @ 2.20GHz, instruction set [SSE2|AVX|AVX2]\n"
     ]
    },
    {
     "name": "stderr",
     "output_type": "stream",
     "text": [
      "2024-04-26 19:01:14 (INFO): CPU model: Intel(R) Xeon(R) CPU E5-2630 v4 @ 2.20GHz, instruction set [SSE2|AVX|AVX2]\n"
     ]
    },
    {
     "name": "stdout",
     "output_type": "stream",
     "text": [
      "Thread count: 20 physical cores, 20 logical processors, using up to 20 threads\n"
     ]
    },
    {
     "name": "stderr",
     "output_type": "stream",
     "text": [
      "2024-04-26 19:01:14 (INFO): Thread count: 20 physical cores, 20 logical processors, using up to 20 threads\n"
     ]
    },
    {
     "name": "stdout",
     "output_type": "stream",
     "text": [
      "\n"
     ]
    },
    {
     "name": "stderr",
     "output_type": "stream",
     "text": [
      "2024-04-26 19:01:14 (INFO): \n"
     ]
    },
    {
     "name": "stdout",
     "output_type": "stream",
     "text": [
      "Optimize a model with 40180 rows, 20440 columns and 99940 nonzeros\n"
     ]
    },
    {
     "name": "stderr",
     "output_type": "stream",
     "text": [
      "2024-04-26 19:01:14 (INFO): Optimize a model with 40180 rows, 20440 columns and 99940 nonzeros\n"
     ]
    },
    {
     "name": "stdout",
     "output_type": "stream",
     "text": [
      "Model fingerprint: 0x9029bb82\n"
     ]
    },
    {
     "name": "stderr",
     "output_type": "stream",
     "text": [
      "2024-04-26 19:01:14 (INFO): Model fingerprint: 0x9029bb82\n"
     ]
    },
    {
     "name": "stdout",
     "output_type": "stream",
     "text": [
      "Variable types: 20160 continuous, 280 integer (280 binary)\n"
     ]
    },
    {
     "name": "stderr",
     "output_type": "stream",
     "text": [
      "2024-04-26 19:01:14 (INFO): Variable types: 20160 continuous, 280 integer (280 binary)\n"
     ]
    },
    {
     "name": "stdout",
     "output_type": "stream",
     "text": [
      "Coefficient statistics:\n"
     ]
    },
    {
     "name": "stderr",
     "output_type": "stream",
     "text": [
      "2024-04-26 19:01:14 (INFO): Coefficient statistics:\n"
     ]
    },
    {
     "name": "stdout",
     "output_type": "stream",
     "text": [
      "  Matrix range     [4e-03, 3e+01]\n"
     ]
    },
    {
     "name": "stderr",
     "output_type": "stream",
     "text": [
      "2024-04-26 19:01:14 (INFO):   Matrix range     [4e-03, 3e+01]\n"
     ]
    },
    {
     "name": "stdout",
     "output_type": "stream",
     "text": [
      "  Objective range  [1e+00, 1e+00]\n"
     ]
    },
    {
     "name": "stderr",
     "output_type": "stream",
     "text": [
      "2024-04-26 19:01:14 (INFO):   Objective range  [1e+00, 1e+00]\n"
     ]
    },
    {
     "name": "stdout",
     "output_type": "stream",
     "text": [
      "  Bounds range     [4e-03, 1e+00]\n"
     ]
    },
    {
     "name": "stderr",
     "output_type": "stream",
     "text": [
      "2024-04-26 19:01:14 (INFO):   Bounds range     [4e-03, 1e+00]\n"
     ]
    },
    {
     "name": "stdout",
     "output_type": "stream",
     "text": [
      "  RHS range        [4e-03, 1e+00]\n"
     ]
    },
    {
     "name": "stderr",
     "output_type": "stream",
     "text": [
      "2024-04-26 19:01:14 (INFO):   RHS range        [4e-03, 1e+00]\n"
     ]
    },
    {
     "name": "stdout",
     "output_type": "stream",
     "text": [
      "\n"
     ]
    },
    {
     "name": "stderr",
     "output_type": "stream",
     "text": [
      "2024-04-26 19:01:14 (INFO): \n"
     ]
    },
    {
     "name": "stdout",
     "output_type": "stream",
     "text": [
      "Loaded user MIP start with objective -0.792118\n",
      "\n",
      "Loaded user MIP start with objective -0.792118\n"
     ]
    },
    {
     "name": "stderr",
     "output_type": "stream",
     "text": [
      "2024-04-26 19:01:14 (INFO): Loaded user MIP start with objective -0.792118\n"
     ]
    },
    {
     "name": "stdout",
     "output_type": "stream",
     "text": [
      "\n"
     ]
    },
    {
     "name": "stderr",
     "output_type": "stream",
     "text": [
      "2024-04-26 19:01:14 (INFO): \n"
     ]
    },
    {
     "name": "stdout",
     "output_type": "stream",
     "text": [
      "Presolve removed 11435 rows and 1913 columns\n"
     ]
    },
    {
     "name": "stderr",
     "output_type": "stream",
     "text": [
      "2024-04-26 19:01:14 (INFO): Presolve removed 11435 rows and 1913 columns\n"
     ]
    },
    {
     "name": "stdout",
     "output_type": "stream",
     "text": [
      "Presolve time: 0.54s\n"
     ]
    },
    {
     "name": "stderr",
     "output_type": "stream",
     "text": [
      "2024-04-26 19:01:14 (INFO): Presolve time: 0.54s\n"
     ]
    },
    {
     "name": "stdout",
     "output_type": "stream",
     "text": [
      "Presolved: 28745 rows, 18527 columns, 72843 nonzeros\n"
     ]
    },
    {
     "name": "stderr",
     "output_type": "stream",
     "text": [
      "2024-04-26 19:01:14 (INFO): Presolved: 28745 rows, 18527 columns, 72843 nonzeros\n"
     ]
    },
    {
     "name": "stdout",
     "output_type": "stream",
     "text": [
      "Variable types: 18307 continuous, 220 integer (220 binary)\n"
     ]
    },
    {
     "name": "stderr",
     "output_type": "stream",
     "text": [
      "2024-04-26 19:01:14 (INFO): Variable types: 18307 continuous, 220 integer (220 binary)\n"
     ]
    },
    {
     "name": "stdout",
     "output_type": "stream",
     "text": [
      "Root relaxation presolved: 28745 rows, 18527 columns, 72843 nonzeros\n"
     ]
    },
    {
     "name": "stderr",
     "output_type": "stream",
     "text": [
      "2024-04-26 19:01:15 (INFO): Root relaxation presolved: 28745 rows, 18527 columns, 72843 nonzeros\n"
     ]
    },
    {
     "name": "stdout",
     "output_type": "stream",
     "text": [
      "\n"
     ]
    },
    {
     "name": "stderr",
     "output_type": "stream",
     "text": [
      "2024-04-26 19:01:15 (INFO): \n"
     ]
    },
    {
     "name": "stdout",
     "output_type": "stream",
     "text": [
      "Extra simplex iterations after uncrush: 896\n"
     ]
    },
    {
     "name": "stderr",
     "output_type": "stream",
     "text": [
      "2024-04-26 19:01:16 (INFO): Extra simplex iterations after uncrush: 896\n"
     ]
    },
    {
     "name": "stdout",
     "output_type": "stream",
     "text": [
      "\n"
     ]
    },
    {
     "name": "stderr",
     "output_type": "stream",
     "text": [
      "2024-04-26 19:01:16 (INFO): \n"
     ]
    },
    {
     "name": "stdout",
     "output_type": "stream",
     "text": [
      "Root relaxation: objective -8.944411e-01, 22326 iterations, 1.92 seconds (2.29 work units)\n"
     ]
    },
    {
     "name": "stderr",
     "output_type": "stream",
     "text": [
      "2024-04-26 19:01:16 (INFO): Root relaxation: objective -8.944411e-01, 22326 iterations, 1.92 seconds (2.29 work units)\n"
     ]
    },
    {
     "name": "stdout",
     "output_type": "stream",
     "text": [
      "\n"
     ]
    },
    {
     "name": "stderr",
     "output_type": "stream",
     "text": [
      "2024-04-26 19:01:16 (INFO): \n"
     ]
    },
    {
     "name": "stdout",
     "output_type": "stream",
     "text": [
      "    Nodes    |    Current Node    |     Objective Bounds      |     Work\n"
     ]
    },
    {
     "name": "stderr",
     "output_type": "stream",
     "text": [
      "2024-04-26 19:01:16 (INFO):     Nodes    |    Current Node    |     Objective Bounds      |     Work\n"
     ]
    },
    {
     "name": "stdout",
     "output_type": "stream",
     "text": [
      " Expl Unexpl |  Obj  Depth IntInf | Incumbent    BestBd   Gap | It/Node Time\n"
     ]
    },
    {
     "name": "stderr",
     "output_type": "stream",
     "text": [
      "2024-04-26 19:01:16 (INFO):  Expl Unexpl |  Obj  Depth IntInf | Incumbent    BestBd   Gap | It/Node Time\n"
     ]
    },
    {
     "name": "stdout",
     "output_type": "stream",
     "text": [
      "\n"
     ]
    },
    {
     "name": "stderr",
     "output_type": "stream",
     "text": [
      "2024-04-26 19:01:16 (INFO): \n"
     ]
    },
    {
     "name": "stdout",
     "output_type": "stream",
     "text": [
      "     0     0   -0.89444    0   63   -0.79212   -0.89444  12.9%     -    2s\n"
     ]
    },
    {
     "name": "stderr",
     "output_type": "stream",
     "text": [
      "2024-04-26 19:01:16 (INFO):      0     0   -0.89444    0   63   -0.79212   -0.89444  12.9%     -    2s\n"
     ]
    },
    {
     "name": "stdout",
     "output_type": "stream",
     "text": [
      "     0     0   -0.88430    0   63   -0.79212   -0.88430  11.6%     -    3s\n"
     ]
    },
    {
     "name": "stderr",
     "output_type": "stream",
     "text": [
      "2024-04-26 19:01:17 (INFO):      0     0   -0.88430    0   63   -0.79212   -0.88430  11.6%     -    3s\n"
     ]
    },
    {
     "name": "stdout",
     "output_type": "stream",
     "text": [
      "     0     0   -0.86907    0   62   -0.79212   -0.86907  9.72%     -    5s\n"
     ]
    },
    {
     "name": "stderr",
     "output_type": "stream",
     "text": [
      "2024-04-26 19:01:19 (INFO):      0     0   -0.86907    0   62   -0.79212   -0.86907  9.72%     -    5s\n"
     ]
    },
    {
     "name": "stdout",
     "output_type": "stream",
     "text": [
      "     0     0   -0.86337    0   62   -0.79212   -0.86337  8.99%     -    5s\n"
     ]
    },
    {
     "name": "stderr",
     "output_type": "stream",
     "text": [
      "2024-04-26 19:01:19 (INFO):      0     0   -0.86337    0   62   -0.79212   -0.86337  8.99%     -    5s\n"
     ]
    },
    {
     "name": "stdout",
     "output_type": "stream",
     "text": [
      "     0     0   -0.86141    0   61   -0.79212   -0.86141  8.75%     -    5s\n"
     ]
    },
    {
     "name": "stderr",
     "output_type": "stream",
     "text": [
      "2024-04-26 19:01:19 (INFO):      0     0   -0.86141    0   61   -0.79212   -0.86141  8.75%     -    5s\n"
     ]
    },
    {
     "name": "stdout",
     "output_type": "stream",
     "text": [
      "     0     0   -0.86141    0   61   -0.79212   -0.86141  8.75%     -    7s\n"
     ]
    },
    {
     "name": "stderr",
     "output_type": "stream",
     "text": [
      "2024-04-26 19:01:21 (INFO):      0     0   -0.86141    0   61   -0.79212   -0.86141  8.75%     -    7s\n"
     ]
    },
    {
     "name": "stdout",
     "output_type": "stream",
     "text": [
      "     0     2   -0.86141    0   61   -0.79212   -0.86141  8.75%     -    9s\n"
     ]
    },
    {
     "name": "stderr",
     "output_type": "stream",
     "text": [
      "2024-04-26 19:01:23 (INFO):      0     2   -0.86141    0   61   -0.79212   -0.86141  8.75%     -    9s\n"
     ]
    },
    {
     "name": "stdout",
     "output_type": "stream",
     "text": [
      "     1     3   -0.79616    1   38   -0.79212   -0.86141  8.75%  5390   10s\n"
     ]
    },
    {
     "name": "stderr",
     "output_type": "stream",
     "text": [
      "2024-04-26 19:01:24 (INFO):      1     3   -0.79616    1   38   -0.79212   -0.86141  8.75%  5390   10s\n"
     ]
    },
    {
     "name": "stdout",
     "output_type": "stream",
     "text": [
      "    26     8   -0.82629    8   35   -0.79212   -0.85404  7.82%   836   15s\n"
     ]
    },
    {
     "name": "stderr",
     "output_type": "stream",
     "text": [
      "2024-04-26 19:01:29 (INFO):     26     8   -0.82629    8   35   -0.79212   -0.85404  7.82%   836   15s\n"
     ]
    },
    {
     "name": "stdout",
     "output_type": "stream",
     "text": [
      "H  164    25                      -0.7961795   -0.81240  2.04%   493   19s\n"
     ]
    },
    {
     "name": "stderr",
     "output_type": "stream",
     "text": [
      "2024-04-26 19:01:33 (INFO): H  164    25                      -0.7961795   -0.81240  2.04%   493   19s\n"
     ]
    },
    {
     "name": "stdout",
     "output_type": "stream",
     "text": [
      "H  172    25                      -0.7964318   -0.81240  2.00%   482   19s\n"
     ]
    },
    {
     "name": "stderr",
     "output_type": "stream",
     "text": [
      "2024-04-26 19:01:33 (INFO): H  172    25                      -0.7964318   -0.81240  2.00%   482   19s\n"
     ]
    },
    {
     "name": "stdout",
     "output_type": "stream",
     "text": [
      "H  209    19                      -0.7980709   -0.81023  1.52%   430   19s\n"
     ]
    },
    {
     "name": "stderr",
     "output_type": "stream",
     "text": [
      "2024-04-26 19:01:33 (INFO): H  209    19                      -0.7980709   -0.81023  1.52%   430   19s\n"
     ]
    },
    {
     "name": "stdout",
     "output_type": "stream",
     "text": [
      "H  219    19                      -0.7983235   -0.80930  1.37%   432   19s\n"
     ]
    },
    {
     "name": "stderr",
     "output_type": "stream",
     "text": [
      "2024-04-26 19:01:33 (INFO): H  219    19                      -0.7983235   -0.80930  1.37%   432   19s\n"
     ]
    },
    {
     "name": "stdout",
     "output_type": "stream",
     "text": [
      "   227    17   -0.80804   20    9   -0.79832   -0.80906  1.35%   423   20s\n"
     ]
    },
    {
     "name": "stderr",
     "output_type": "stream",
     "text": [
      "2024-04-26 19:01:34 (INFO):    227    17   -0.80804   20    9   -0.79832   -0.80906  1.35%   423   20s\n"
     ]
    },
    {
     "name": "stdout",
     "output_type": "stream",
     "text": [
      "H  319    15                      -0.7989237   -0.80411  0.65%   390   21s\n"
     ]
    },
    {
     "name": "stderr",
     "output_type": "stream",
     "text": [
      "2024-04-26 19:01:35 (INFO): H  319    15                      -0.7989237   -0.80411  0.65%   390   21s\n"
     ]
    },
    {
     "name": "stdout",
     "output_type": "stream",
     "text": [
      "*  320    15              27      -0.8029414   -0.80405  0.14%   390   21s\n"
     ]
    },
    {
     "name": "stderr",
     "output_type": "stream",
     "text": [
      "2024-04-26 19:01:35 (INFO): *  320    15              27      -0.8029414   -0.80405  0.14%   390   21s\n"
     ]
    },
    {
     "name": "stdout",
     "output_type": "stream",
     "text": [
      "\n"
     ]
    },
    {
     "name": "stderr",
     "output_type": "stream",
     "text": [
      "2024-04-26 19:01:35 (INFO): \n"
     ]
    },
    {
     "name": "stdout",
     "output_type": "stream",
     "text": [
      "Cutting planes:\n"
     ]
    },
    {
     "name": "stderr",
     "output_type": "stream",
     "text": [
      "2024-04-26 19:01:35 (INFO): Cutting planes:\n"
     ]
    },
    {
     "name": "stdout",
     "output_type": "stream",
     "text": [
      "  Cover: 8\n"
     ]
    },
    {
     "name": "stderr",
     "output_type": "stream",
     "text": [
      "2024-04-26 19:01:35 (INFO):   Cover: 8\n"
     ]
    },
    {
     "name": "stdout",
     "output_type": "stream",
     "text": [
      "  Implied bound: 58\n"
     ]
    },
    {
     "name": "stderr",
     "output_type": "stream",
     "text": [
      "2024-04-26 19:01:35 (INFO):   Implied bound: 58\n"
     ]
    },
    {
     "name": "stdout",
     "output_type": "stream",
     "text": [
      "  MIR: 71\n"
     ]
    },
    {
     "name": "stderr",
     "output_type": "stream",
     "text": [
      "2024-04-26 19:01:35 (INFO):   MIR: 71\n"
     ]
    },
    {
     "name": "stdout",
     "output_type": "stream",
     "text": [
      "  Flow cover: 208\n"
     ]
    },
    {
     "name": "stderr",
     "output_type": "stream",
     "text": [
      "2024-04-26 19:01:35 (INFO):   Flow cover: 208\n"
     ]
    },
    {
     "name": "stdout",
     "output_type": "stream",
     "text": [
      "\n"
     ]
    },
    {
     "name": "stderr",
     "output_type": "stream",
     "text": [
      "2024-04-26 19:01:35 (INFO): \n"
     ]
    },
    {
     "name": "stdout",
     "output_type": "stream",
     "text": [
      "Explored 353 nodes (156116 simplex iterations) in 21.68 seconds (28.51 work units)\n"
     ]
    },
    {
     "name": "stderr",
     "output_type": "stream",
     "text": [
      "2024-04-26 19:01:35 (INFO): Explored 353 nodes (156116 simplex iterations) in 21.68 seconds (28.51 work units)\n"
     ]
    },
    {
     "name": "stdout",
     "output_type": "stream",
     "text": [
      "Thread count was 20 (of 20 available processors)\n"
     ]
    },
    {
     "name": "stderr",
     "output_type": "stream",
     "text": [
      "2024-04-26 19:01:35 (INFO): Thread count was 20 (of 20 available processors)\n"
     ]
    },
    {
     "name": "stdout",
     "output_type": "stream",
     "text": [
      "\n"
     ]
    },
    {
     "name": "stderr",
     "output_type": "stream",
     "text": [
      "2024-04-26 19:01:35 (INFO): \n"
     ]
    },
    {
     "name": "stdout",
     "output_type": "stream",
     "text": [
      "Solution count 2: -0.802941 -0.798924 \n"
     ]
    },
    {
     "name": "stderr",
     "output_type": "stream",
     "text": [
      "2024-04-26 19:01:35 (INFO): Solution count 2: -0.802941 -0.798924 \n"
     ]
    },
    {
     "name": "stdout",
     "output_type": "stream",
     "text": [
      "\n"
     ]
    },
    {
     "name": "stderr",
     "output_type": "stream",
     "text": [
      "2024-04-26 19:01:35 (INFO): \n"
     ]
    },
    {
     "name": "stdout",
     "output_type": "stream",
     "text": [
      "Optimal solution found (tolerance 1.00e-04)\n"
     ]
    },
    {
     "name": "stderr",
     "output_type": "stream",
     "text": [
      "2024-04-26 19:01:35 (INFO): Optimal solution found (tolerance 1.00e-04)\n"
     ]
    },
    {
     "name": "stdout",
     "output_type": "stream",
     "text": [
      "Warning: max constraint violation (7.5446e-04) exceeds tolerance\n"
     ]
    },
    {
     "name": "stderr",
     "output_type": "stream",
     "text": [
      "2024-04-26 19:01:35 (INFO): Warning: max constraint violation (7.5446e-04) exceeds tolerance\n"
     ]
    },
    {
     "name": "stdout",
     "output_type": "stream",
     "text": [
      "Best objective -8.029414488721e-01, best bound -8.029414488721e-01, gap 0.0000%\n"
     ]
    },
    {
     "name": "stderr",
     "output_type": "stream",
     "text": [
      "2024-04-26 19:01:35 (INFO): Best objective -8.029414488721e-01, best bound -8.029414488721e-01, gap 0.0000%\n"
     ]
    },
    {
     "name": "stdout",
     "output_type": "stream",
     "text": [
      "\n"
     ]
    },
    {
     "name": "stderr",
     "output_type": "stream",
     "text": [
      "2024-04-26 19:01:35 (INFO): \n"
     ]
    },
    {
     "name": "stdout",
     "output_type": "stream",
     "text": [
      "User-callback calls 5123, time in user-callback 0.04 sec\n"
     ]
    },
    {
     "name": "stderr",
     "output_type": "stream",
     "text": [
      "2024-04-26 19:01:35 (INFO): User-callback calls 5123, time in user-callback 0.04 sec\n",
      "2024-04-26 19:01:35 (INFO): Optimization status: 2\n",
      "2024-04-26 19:01:35 (INFO): Original -0.79212, Opt objective -0.80294, Opt bound: -0.80294, stop_obj: None\n"
     ]
    },
    {
     "name": "stdout",
     "output_type": "stream",
     "text": [
      "Warning for adding constraints: zero or small (< 1e-13) coefficients, ignored\n"
     ]
    },
    {
     "name": "stderr",
     "output_type": "stream",
     "text": [
      "2024-04-26 19:01:36 (INFO): Warning for adding constraints: zero or small (< 1e-13) coefficients, ignored\n"
     ]
    },
    {
     "name": "stdout",
     "output_type": "stream",
     "text": [
      "Set parameter BestObjStop to value -8.0294144887210361e-01\n"
     ]
    },
    {
     "name": "stderr",
     "output_type": "stream",
     "text": [
      "2024-04-26 19:01:36 (INFO): Set parameter BestObjStop to value -8.0294144887210361e-01\n"
     ]
    },
    {
     "name": "stdout",
     "output_type": "stream",
     "text": [
      "Set parameter BestBdStop to value -8.0294144887210361e-01\n"
     ]
    },
    {
     "name": "stderr",
     "output_type": "stream",
     "text": [
      "2024-04-26 19:01:36 (INFO): Set parameter BestBdStop to value -8.0294144887210361e-01\n"
     ]
    },
    {
     "name": "stdout",
     "output_type": "stream",
     "text": [
      "Set parameter IntegralityFocus to value 1\n"
     ]
    },
    {
     "name": "stderr",
     "output_type": "stream",
     "text": [
      "2024-04-26 19:01:36 (INFO): Set parameter IntegralityFocus to value 1\n"
     ]
    },
    {
     "name": "stdout",
     "output_type": "stream",
     "text": [
      "Set parameter IntFeasTol to value 0.0001\n"
     ]
    },
    {
     "name": "stderr",
     "output_type": "stream",
     "text": [
      "2024-04-26 19:01:36 (INFO): Set parameter IntFeasTol to value 0.0001\n"
     ]
    },
    {
     "name": "stdout",
     "output_type": "stream",
     "text": [
      "Set parameter DualReductions to value 0\n"
     ]
    },
    {
     "name": "stderr",
     "output_type": "stream",
     "text": [
      "2024-04-26 19:01:36 (INFO): Set parameter DualReductions to value 0\n"
     ]
    },
    {
     "name": "stdout",
     "output_type": "stream",
     "text": [
      "Set parameter FeasibilityTol to value 0.0001\n"
     ]
    },
    {
     "name": "stderr",
     "output_type": "stream",
     "text": [
      "2024-04-26 19:01:36 (INFO): Set parameter FeasibilityTol to value 0.0001\n"
     ]
    },
    {
     "name": "stdout",
     "output_type": "stream",
     "text": [
      "Set parameter MIPFocus to value 3\n"
     ]
    },
    {
     "name": "stderr",
     "output_type": "stream",
     "text": [
      "2024-04-26 19:01:36 (INFO): Set parameter MIPFocus to value 3\n"
     ]
    },
    {
     "name": "stdout",
     "output_type": "stream",
     "text": [
      "Gurobi Optimizer version 11.0.1 build v11.0.1rc0 (linux64 - \"Ubuntu 22.04.4 LTS\")\n"
     ]
    },
    {
     "name": "stderr",
     "output_type": "stream",
     "text": [
      "2024-04-26 19:01:36 (INFO): Gurobi Optimizer version 11.0.1 build v11.0.1rc0 (linux64 - \"Ubuntu 22.04.4 LTS\")\n"
     ]
    },
    {
     "name": "stdout",
     "output_type": "stream",
     "text": [
      "\n"
     ]
    },
    {
     "name": "stderr",
     "output_type": "stream",
     "text": [
      "2024-04-26 19:01:36 (INFO): \n"
     ]
    },
    {
     "name": "stdout",
     "output_type": "stream",
     "text": [
      "CPU model: Intel(R) Xeon(R) CPU E5-2630 v4 @ 2.20GHz, instruction set [SSE2|AVX|AVX2]\n"
     ]
    },
    {
     "name": "stderr",
     "output_type": "stream",
     "text": [
      "2024-04-26 19:01:37 (INFO): CPU model: Intel(R) Xeon(R) CPU E5-2630 v4 @ 2.20GHz, instruction set [SSE2|AVX|AVX2]\n"
     ]
    },
    {
     "name": "stdout",
     "output_type": "stream",
     "text": [
      "Thread count: 20 physical cores, 20 logical processors, using up to 20 threads\n"
     ]
    },
    {
     "name": "stderr",
     "output_type": "stream",
     "text": [
      "2024-04-26 19:01:37 (INFO): Thread count: 20 physical cores, 20 logical processors, using up to 20 threads\n"
     ]
    },
    {
     "name": "stdout",
     "output_type": "stream",
     "text": [
      "\n"
     ]
    },
    {
     "name": "stderr",
     "output_type": "stream",
     "text": [
      "2024-04-26 19:01:37 (INFO): \n"
     ]
    },
    {
     "name": "stdout",
     "output_type": "stream",
     "text": [
      "Optimize a model with 40180 rows, 20440 columns and 99940 nonzeros\n"
     ]
    },
    {
     "name": "stderr",
     "output_type": "stream",
     "text": [
      "2024-04-26 19:01:37 (INFO): Optimize a model with 40180 rows, 20440 columns and 99940 nonzeros\n"
     ]
    },
    {
     "name": "stdout",
     "output_type": "stream",
     "text": [
      "Model fingerprint: 0x88d3e5ed\n"
     ]
    },
    {
     "name": "stderr",
     "output_type": "stream",
     "text": [
      "2024-04-26 19:01:37 (INFO): Model fingerprint: 0x88d3e5ed\n"
     ]
    },
    {
     "name": "stdout",
     "output_type": "stream",
     "text": [
      "Variable types: 20160 continuous, 280 integer (280 binary)\n"
     ]
    },
    {
     "name": "stderr",
     "output_type": "stream",
     "text": [
      "2024-04-26 19:01:37 (INFO): Variable types: 20160 continuous, 280 integer (280 binary)\n"
     ]
    },
    {
     "name": "stdout",
     "output_type": "stream",
     "text": [
      "Coefficient statistics:\n"
     ]
    },
    {
     "name": "stderr",
     "output_type": "stream",
     "text": [
      "2024-04-26 19:01:37 (INFO): Coefficient statistics:\n"
     ]
    },
    {
     "name": "stdout",
     "output_type": "stream",
     "text": [
      "  Matrix range     [4e-03, 3e+01]\n"
     ]
    },
    {
     "name": "stderr",
     "output_type": "stream",
     "text": [
      "2024-04-26 19:01:37 (INFO):   Matrix range     [4e-03, 3e+01]\n"
     ]
    },
    {
     "name": "stdout",
     "output_type": "stream",
     "text": [
      "  Objective range  [1e+00, 1e+00]\n"
     ]
    },
    {
     "name": "stderr",
     "output_type": "stream",
     "text": [
      "2024-04-26 19:01:37 (INFO):   Objective range  [1e+00, 1e+00]\n"
     ]
    },
    {
     "name": "stdout",
     "output_type": "stream",
     "text": [
      "  Bounds range     [4e-03, 1e+00]\n"
     ]
    },
    {
     "name": "stderr",
     "output_type": "stream",
     "text": [
      "2024-04-26 19:01:37 (INFO):   Bounds range     [4e-03, 1e+00]\n"
     ]
    },
    {
     "name": "stdout",
     "output_type": "stream",
     "text": [
      "  RHS range        [4e-03, 1e+00]\n"
     ]
    },
    {
     "name": "stderr",
     "output_type": "stream",
     "text": [
      "2024-04-26 19:01:37 (INFO):   RHS range        [4e-03, 1e+00]\n"
     ]
    },
    {
     "name": "stdout",
     "output_type": "stream",
     "text": [
      "\n"
     ]
    },
    {
     "name": "stderr",
     "output_type": "stream",
     "text": [
      "2024-04-26 19:01:37 (INFO): \n"
     ]
    },
    {
     "name": "stdout",
     "output_type": "stream",
     "text": [
      "Loaded user MIP start with objective -0.812114\n",
      "\n",
      "Loaded user MIP start with objective -0.812114\n"
     ]
    },
    {
     "name": "stderr",
     "output_type": "stream",
     "text": [
      "2024-04-26 19:01:37 (INFO): Loaded user MIP start with objective -0.812114\n"
     ]
    },
    {
     "name": "stdout",
     "output_type": "stream",
     "text": [
      "\n"
     ]
    },
    {
     "name": "stderr",
     "output_type": "stream",
     "text": [
      "2024-04-26 19:01:37 (INFO): \n"
     ]
    },
    {
     "name": "stdout",
     "output_type": "stream",
     "text": [
      "Presolve removed 11844 rows and 1926 columns\n"
     ]
    },
    {
     "name": "stderr",
     "output_type": "stream",
     "text": [
      "2024-04-26 19:01:37 (INFO): Presolve removed 11844 rows and 1926 columns\n"
     ]
    },
    {
     "name": "stdout",
     "output_type": "stream",
     "text": [
      "Presolve time: 0.65s\n"
     ]
    },
    {
     "name": "stderr",
     "output_type": "stream",
     "text": [
      "2024-04-26 19:01:37 (INFO): Presolve time: 0.65s\n"
     ]
    },
    {
     "name": "stdout",
     "output_type": "stream",
     "text": [
      "Presolved: 28336 rows, 18514 columns, 71824 nonzeros\n"
     ]
    },
    {
     "name": "stderr",
     "output_type": "stream",
     "text": [
      "2024-04-26 19:01:37 (INFO): Presolved: 28336 rows, 18514 columns, 71824 nonzeros\n"
     ]
    },
    {
     "name": "stdout",
     "output_type": "stream",
     "text": [
      "Variable types: 18300 continuous, 214 integer (214 binary)\n"
     ]
    },
    {
     "name": "stderr",
     "output_type": "stream",
     "text": [
      "2024-04-26 19:01:37 (INFO): Variable types: 18300 continuous, 214 integer (214 binary)\n"
     ]
    },
    {
     "name": "stdout",
     "output_type": "stream",
     "text": [
      "Root relaxation presolved: 28336 rows, 18514 columns, 71824 nonzeros\n"
     ]
    },
    {
     "name": "stderr",
     "output_type": "stream",
     "text": [
      "2024-04-26 19:01:38 (INFO): Root relaxation presolved: 28336 rows, 18514 columns, 71824 nonzeros\n"
     ]
    },
    {
     "name": "stdout",
     "output_type": "stream",
     "text": [
      "\n"
     ]
    },
    {
     "name": "stderr",
     "output_type": "stream",
     "text": [
      "2024-04-26 19:01:38 (INFO): \n"
     ]
    },
    {
     "name": "stdout",
     "output_type": "stream",
     "text": [
      "\n"
     ]
    },
    {
     "name": "stderr",
     "output_type": "stream",
     "text": [
      "2024-04-26 19:01:42 (INFO): \n"
     ]
    },
    {
     "name": "stdout",
     "output_type": "stream",
     "text": [
      "Root simplex log...\n"
     ]
    },
    {
     "name": "stderr",
     "output_type": "stream",
     "text": [
      "2024-04-26 19:01:42 (INFO): Root simplex log...\n"
     ]
    },
    {
     "name": "stdout",
     "output_type": "stream",
     "text": [
      "\n"
     ]
    },
    {
     "name": "stderr",
     "output_type": "stream",
     "text": [
      "2024-04-26 19:01:42 (INFO): \n"
     ]
    },
    {
     "name": "stdout",
     "output_type": "stream",
     "text": [
      "Iteration    Objective       Primal Inf.    Dual Inf.      Time\n"
     ]
    },
    {
     "name": "stderr",
     "output_type": "stream",
     "text": [
      "2024-04-26 19:01:42 (INFO): Iteration    Objective       Primal Inf.    Dual Inf.      Time\n"
     ]
    },
    {
     "name": "stdout",
     "output_type": "stream",
     "text": [
      "   20643   -3.8152760e-01   1.530995e+00   0.000000e+00      5s\n"
     ]
    },
    {
     "name": "stderr",
     "output_type": "stream",
     "text": [
      "2024-04-26 19:01:42 (INFO):    20643   -3.8152760e-01   1.530995e+00   0.000000e+00      5s\n"
     ]
    },
    {
     "name": "stdout",
     "output_type": "stream",
     "text": [
      "   22347   -4.0214359e-01   0.000000e+00   0.000000e+00      6s\n"
     ]
    },
    {
     "name": "stderr",
     "output_type": "stream",
     "text": [
      "2024-04-26 19:01:43 (INFO):    22347   -4.0214359e-01   0.000000e+00   0.000000e+00      6s\n"
     ]
    },
    {
     "name": "stdout",
     "output_type": "stream",
     "text": [
      "   22918   -4.0214359e-01   0.000000e+00   0.000000e+00      6s\n"
     ]
    },
    {
     "name": "stderr",
     "output_type": "stream",
     "text": [
      "2024-04-26 19:01:43 (INFO):    22918   -4.0214359e-01   0.000000e+00   0.000000e+00      6s\n"
     ]
    },
    {
     "name": "stdout",
     "output_type": "stream",
     "text": [
      "Extra simplex iterations after uncrush: 571\n"
     ]
    },
    {
     "name": "stderr",
     "output_type": "stream",
     "text": [
      "2024-04-26 19:01:43 (INFO): Extra simplex iterations after uncrush: 571\n"
     ]
    },
    {
     "name": "stdout",
     "output_type": "stream",
     "text": [
      "\n"
     ]
    },
    {
     "name": "stderr",
     "output_type": "stream",
     "text": [
      "2024-04-26 19:01:43 (INFO): \n"
     ]
    },
    {
     "name": "stdout",
     "output_type": "stream",
     "text": [
      "Root relaxation: objective -4.021436e-01, 22918 iterations, 5.56 seconds (9.15 work units)\n"
     ]
    },
    {
     "name": "stderr",
     "output_type": "stream",
     "text": [
      "2024-04-26 19:01:43 (INFO): Root relaxation: objective -4.021436e-01, 22918 iterations, 5.56 seconds (9.15 work units)\n"
     ]
    },
    {
     "name": "stdout",
     "output_type": "stream",
     "text": [
      "\n"
     ]
    },
    {
     "name": "stderr",
     "output_type": "stream",
     "text": [
      "2024-04-26 19:01:44 (INFO): \n"
     ]
    },
    {
     "name": "stdout",
     "output_type": "stream",
     "text": [
      "    Nodes    |    Current Node    |     Objective Bounds      |     Work\n"
     ]
    },
    {
     "name": "stderr",
     "output_type": "stream",
     "text": [
      "2024-04-26 19:01:44 (INFO):     Nodes    |    Current Node    |     Objective Bounds      |     Work\n"
     ]
    },
    {
     "name": "stdout",
     "output_type": "stream",
     "text": [
      " Expl Unexpl |  Obj  Depth IntInf | Incumbent    BestBd   Gap | It/Node Time\n"
     ]
    },
    {
     "name": "stderr",
     "output_type": "stream",
     "text": [
      "2024-04-26 19:01:44 (INFO):  Expl Unexpl |  Obj  Depth IntInf | Incumbent    BestBd   Gap | It/Node Time\n"
     ]
    },
    {
     "name": "stdout",
     "output_type": "stream",
     "text": [
      "\n"
     ]
    },
    {
     "name": "stderr",
     "output_type": "stream",
     "text": [
      "2024-04-26 19:01:44 (INFO): \n"
     ]
    },
    {
     "name": "stdout",
     "output_type": "stream",
     "text": [
      "     0     0   -0.40214    0  109   -0.81211   -0.40214  50.5%     -    7s\n"
     ]
    },
    {
     "name": "stderr",
     "output_type": "stream",
     "text": [
      "2024-04-26 19:01:44 (INFO):      0     0   -0.40214    0  109   -0.81211   -0.40214  50.5%     -    7s\n"
     ]
    },
    {
     "name": "stdout",
     "output_type": "stream",
     "text": [
      "     0     0   -0.52441    0  109   -0.81211   -0.52441  35.4%     -   13s\n"
     ]
    },
    {
     "name": "stderr",
     "output_type": "stream",
     "text": [
      "2024-04-26 19:01:50 (INFO):      0     0   -0.52441    0  109   -0.81211   -0.52441  35.4%     -   13s\n"
     ]
    },
    {
     "name": "stdout",
     "output_type": "stream",
     "text": [
      "     0     0   -0.54063    0  108   -0.81211   -0.54063  33.4%     -   15s\n"
     ]
    },
    {
     "name": "stderr",
     "output_type": "stream",
     "text": [
      "2024-04-26 19:01:52 (INFO):      0     0   -0.54063    0  108   -0.81211   -0.54063  33.4%     -   15s\n"
     ]
    },
    {
     "name": "stdout",
     "output_type": "stream",
     "text": [
      "     0     0   -0.55744    0  108   -0.81211   -0.55744  31.4%     -   16s\n"
     ]
    },
    {
     "name": "stderr",
     "output_type": "stream",
     "text": [
      "2024-04-26 19:01:53 (INFO):      0     0   -0.55744    0  108   -0.81211   -0.55744  31.4%     -   16s\n"
     ]
    },
    {
     "name": "stdout",
     "output_type": "stream",
     "text": [
      "     0     0   -0.63293    0  108   -0.81211   -0.63293  22.1%     -   28s\n"
     ]
    },
    {
     "name": "stderr",
     "output_type": "stream",
     "text": [
      "2024-04-26 19:02:06 (INFO):      0     0   -0.63293    0  108   -0.81211   -0.63293  22.1%     -   28s\n"
     ]
    },
    {
     "name": "stdout",
     "output_type": "stream",
     "text": [
      "     0     0   -0.63457    0  108   -0.81211   -0.63457  21.9%     -   30s\n"
     ]
    },
    {
     "name": "stderr",
     "output_type": "stream",
     "text": [
      "2024-04-26 19:02:07 (INFO):      0     0   -0.63457    0  108   -0.81211   -0.63457  21.9%     -   30s\n"
     ]
    },
    {
     "name": "stdout",
     "output_type": "stream",
     "text": [
      "     0     0   -0.64182    0  109   -0.81211   -0.64182  21.0%     -   34s\n"
     ]
    },
    {
     "name": "stderr",
     "output_type": "stream",
     "text": [
      "2024-04-26 19:02:11 (INFO):      0     0   -0.64182    0  109   -0.81211   -0.64182  21.0%     -   34s\n"
     ]
    },
    {
     "name": "stdout",
     "output_type": "stream",
     "text": [
      "     0     0   -0.64304    0  109   -0.81211   -0.64304  20.8%     -   37s\n"
     ]
    },
    {
     "name": "stderr",
     "output_type": "stream",
     "text": [
      "2024-04-26 19:02:14 (INFO):      0     0   -0.64304    0  109   -0.81211   -0.64304  20.8%     -   37s\n"
     ]
    },
    {
     "name": "stdout",
     "output_type": "stream",
     "text": [
      "     0     2   -0.64304    0  109   -0.81211   -0.64304  20.8%     -   40s\n"
     ]
    },
    {
     "name": "stderr",
     "output_type": "stream",
     "text": [
      "2024-04-26 19:02:17 (INFO):      0     2   -0.64304    0  109   -0.81211   -0.64304  20.8%     -   40s\n"
     ]
    },
    {
     "name": "stdout",
     "output_type": "stream",
     "text": [
      "     3     3   -0.64304    2  107   -0.81211   -0.64304  20.8%  3923   45s\n"
     ]
    },
    {
     "name": "stderr",
     "output_type": "stream",
     "text": [
      "2024-04-26 19:02:22 (INFO):      3     3   -0.64304    2  107   -0.81211   -0.64304  20.8%  3923   45s\n"
     ]
    },
    {
     "name": "stdout",
     "output_type": "stream",
     "text": [
      "     8     3   -0.64304    4  104   -0.81211   -0.64304  20.8%  3543   50s\n"
     ]
    },
    {
     "name": "stderr",
     "output_type": "stream",
     "text": [
      "2024-04-26 19:02:27 (INFO):      8     3   -0.64304    4  104   -0.81211   -0.64304  20.8%  3543   50s\n"
     ]
    },
    {
     "name": "stdout",
     "output_type": "stream",
     "text": [
      "    18     4   -0.64304    7  101   -0.81211   -0.64304  20.8%  3611   55s\n"
     ]
    },
    {
     "name": "stderr",
     "output_type": "stream",
     "text": [
      "2024-04-26 19:02:32 (INFO):     18     4   -0.64304    7  101   -0.81211   -0.64304  20.8%  3611   55s\n"
     ]
    },
    {
     "name": "stdout",
     "output_type": "stream",
     "text": [
      "    29     5   -0.64304   10   98   -0.81211   -0.64304  20.8%  3392   61s\n"
     ]
    },
    {
     "name": "stderr",
     "output_type": "stream",
     "text": [
      "2024-04-26 19:02:38 (INFO):     29     5   -0.64304   10   98   -0.81211   -0.64304  20.8%  3392   61s\n"
     ]
    },
    {
     "name": "stdout",
     "output_type": "stream",
     "text": [
      "    46     8   -0.64304   13   95   -0.81211   -0.64304  20.8%  2453   66s\n"
     ]
    },
    {
     "name": "stderr",
     "output_type": "stream",
     "text": [
      "2024-04-26 19:02:43 (INFO):     46     8   -0.64304   13   95   -0.81211   -0.64304  20.8%  2453   66s\n"
     ]
    },
    {
     "name": "stdout",
     "output_type": "stream",
     "text": [
      "    70     8   -0.64304   16   92   -0.81211   -0.64304  20.8%  2112   70s\n"
     ]
    },
    {
     "name": "stderr",
     "output_type": "stream",
     "text": [
      "2024-04-26 19:02:47 (INFO):     70     8   -0.64304   16   92   -0.81211   -0.64304  20.8%  2112   70s\n"
     ]
    },
    {
     "name": "stdout",
     "output_type": "stream",
     "text": [
      "   113    10   -0.64304   21   87   -0.81211   -0.64304  20.8%  2064   76s\n"
     ]
    },
    {
     "name": "stderr",
     "output_type": "stream",
     "text": [
      "2024-04-26 19:02:53 (INFO):    113    10   -0.64304   21   87   -0.81211   -0.64304  20.8%  2064   76s\n"
     ]
    },
    {
     "name": "stdout",
     "output_type": "stream",
     "text": [
      "H  134    13                      -0.8087425   -0.64304  20.5%  2114   80s\n"
     ]
    },
    {
     "name": "stderr",
     "output_type": "stream",
     "text": [
      "2024-04-26 19:02:57 (INFO): H  134    13                      -0.8087425   -0.64304  20.5%  2114   80s\n"
     ]
    },
    {
     "name": "stdout",
     "output_type": "stream",
     "text": [
      "H  168    10                      -0.8071994   -0.64304  20.3%  2102   85s\n"
     ]
    },
    {
     "name": "stderr",
     "output_type": "stream",
     "text": [
      "2024-04-26 19:03:02 (INFO): H  168    10                      -0.8071994   -0.64304  20.3%  2102   85s\n"
     ]
    },
    {
     "name": "stdout",
     "output_type": "stream",
     "text": [
      "   206    16   -0.64304   30   78   -0.80720   -0.64304  20.3%  2072   90s\n"
     ]
    },
    {
     "name": "stderr",
     "output_type": "stream",
     "text": [
      "2024-04-26 19:03:07 (INFO):    206    16   -0.64304   30   78   -0.80720   -0.64304  20.3%  2072   90s\n"
     ]
    },
    {
     "name": "stdout",
     "output_type": "stream",
     "text": [
      "H  216    16                      -0.8062616   -0.64304  20.2%  2043   90s\n"
     ]
    },
    {
     "name": "stderr",
     "output_type": "stream",
     "text": [
      "2024-04-26 19:03:07 (INFO): H  216    16                      -0.8062616   -0.64304  20.2%  2043   90s\n"
     ]
    },
    {
     "name": "stdout",
     "output_type": "stream",
     "text": [
      "   252    17   -0.64304   33   75   -0.80626   -0.64304  20.2%  2030   96s\n"
     ]
    },
    {
     "name": "stderr",
     "output_type": "stream",
     "text": [
      "2024-04-26 19:03:13 (INFO):    252    17   -0.64304   33   75   -0.80626   -0.64304  20.2%  2030   96s\n"
     ]
    },
    {
     "name": "stdout",
     "output_type": "stream",
     "text": [
      "H  299    17                      -0.8055967   -0.64304  20.2%  1901   99s\n"
     ]
    },
    {
     "name": "stderr",
     "output_type": "stream",
     "text": [
      "2024-04-26 19:03:16 (INFO): H  299    17                      -0.8055967   -0.64304  20.2%  1901   99s\n"
     ]
    },
    {
     "name": "stdout",
     "output_type": "stream",
     "text": [
      "H  307    17                      -0.8054666   -0.64304  20.2%  1904   99s\n"
     ]
    },
    {
     "name": "stderr",
     "output_type": "stream",
     "text": [
      "2024-04-26 19:03:16 (INFO): H  307    17                      -0.8054666   -0.64304  20.2%  1904   99s\n"
     ]
    },
    {
     "name": "stdout",
     "output_type": "stream",
     "text": [
      "H  316    17                      -0.8054315   -0.64304  20.2%  1909   99s\n"
     ]
    },
    {
     "name": "stderr",
     "output_type": "stream",
     "text": [
      "2024-04-26 19:03:16 (INFO): H  316    17                      -0.8054315   -0.64304  20.2%  1909   99s\n"
     ]
    },
    {
     "name": "stdout",
     "output_type": "stream",
     "text": [
      "   319    26     cutoff   39        -0.80543   -0.64304  20.2%  1928  100s\n"
     ]
    },
    {
     "name": "stderr",
     "output_type": "stream",
     "text": [
      "2024-04-26 19:03:17 (INFO):    319    26     cutoff   39        -0.80543   -0.64304  20.2%  1928  100s\n"
     ]
    },
    {
     "name": "stdout",
     "output_type": "stream",
     "text": [
      "H  355    22                      -0.8050821   -0.65378  18.8%  1818  102s\n"
     ]
    },
    {
     "name": "stderr",
     "output_type": "stream",
     "text": [
      "2024-04-26 19:03:19 (INFO): H  355    22                      -0.8050821   -0.65378  18.8%  1818  102s\n"
     ]
    },
    {
     "name": "stdout",
     "output_type": "stream",
     "text": [
      "H  365    22                      -0.8050668   -0.65378  18.8%  1824  102s\n"
     ]
    },
    {
     "name": "stderr",
     "output_type": "stream",
     "text": [
      "2024-04-26 19:03:19 (INFO): H  365    22                      -0.8050668   -0.65378  18.8%  1824  102s\n"
     ]
    },
    {
     "name": "stdout",
     "output_type": "stream",
     "text": [
      "   408    24     cutoff   40        -0.80507   -0.65541  18.6%  1727  105s\n"
     ]
    },
    {
     "name": "stderr",
     "output_type": "stream",
     "text": [
      "2024-04-26 19:03:22 (INFO):    408    24     cutoff   40        -0.80507   -0.65541  18.6%  1727  105s\n"
     ]
    },
    {
     "name": "stdout",
     "output_type": "stream",
     "text": [
      "H  468    36                      -0.8049553   -0.65995  18.0%  1668  109s\n"
     ]
    },
    {
     "name": "stderr",
     "output_type": "stream",
     "text": [
      "2024-04-26 19:03:26 (INFO): H  468    36                      -0.8049553   -0.65995  18.0%  1668  109s\n"
     ]
    },
    {
     "name": "stdout",
     "output_type": "stream",
     "text": [
      "H  494    36                      -0.8049299   -0.66310  17.6%  1616  109s\n"
     ]
    },
    {
     "name": "stderr",
     "output_type": "stream",
     "text": [
      "2024-04-26 19:03:26 (INFO): H  494    36                      -0.8049299   -0.66310  17.6%  1616  109s\n"
     ]
    },
    {
     "name": "stdout",
     "output_type": "stream",
     "text": [
      "   500    49     cutoff   44        -0.80493   -0.66435  17.5%  1607  110s\n"
     ]
    },
    {
     "name": "stderr",
     "output_type": "stream",
     "text": [
      "2024-04-26 19:03:27 (INFO):    500    49     cutoff   44        -0.80493   -0.66435  17.5%  1607  110s\n"
     ]
    },
    {
     "name": "stdout",
     "output_type": "stream",
     "text": [
      "   641    56   -0.73523   63   36   -0.80493   -0.73523  8.66%  1434  115s\n"
     ]
    },
    {
     "name": "stderr",
     "output_type": "stream",
     "text": [
      "2024-04-26 19:03:32 (INFO):    641    56   -0.73523   63   36   -0.80493   -0.73523  8.66%  1434  115s\n"
     ]
    },
    {
     "name": "stdout",
     "output_type": "stream",
     "text": [
      "H  757    68                      -0.8034485   -0.76659  4.59%  1280  118s\n"
     ]
    },
    {
     "name": "stderr",
     "output_type": "stream",
     "text": [
      "2024-04-26 19:03:35 (INFO): H  757    68                      -0.8034485   -0.76659  4.59%  1280  118s\n"
     ]
    },
    {
     "name": "stdout",
     "output_type": "stream",
     "text": [
      "H  764    68                      -0.8032296   -0.77491  3.53%  1271  118s\n"
     ]
    },
    {
     "name": "stderr",
     "output_type": "stream",
     "text": [
      "2024-04-26 19:03:35 (INFO): H  764    68                      -0.8032296   -0.77491  3.53%  1271  118s\n"
     ]
    },
    {
     "name": "stdout",
     "output_type": "stream",
     "text": [
      "H  773    68                      -0.8028004   -0.77491  3.47%  1263  118s\n"
     ]
    },
    {
     "name": "stderr",
     "output_type": "stream",
     "text": [
      "2024-04-26 19:03:35 (INFO): H  773    68                      -0.8028004   -0.77491  3.47%  1263  118s\n"
     ]
    },
    {
     "name": "stdout",
     "output_type": "stream",
     "text": [
      "H  799    68                      -0.8023261   -0.77491  3.42%  1233  118s\n"
     ]
    },
    {
     "name": "stderr",
     "output_type": "stream",
     "text": [
      "2024-04-26 19:03:35 (INFO): H  799    68                      -0.8023261   -0.77491  3.42%  1233  118s\n"
     ]
    },
    {
     "name": "stdout",
     "output_type": "stream",
     "text": [
      "\n"
     ]
    },
    {
     "name": "stderr",
     "output_type": "stream",
     "text": [
      "2024-04-26 19:03:35 (INFO): \n"
     ]
    },
    {
     "name": "stdout",
     "output_type": "stream",
     "text": [
      "Cutting planes:\n"
     ]
    },
    {
     "name": "stderr",
     "output_type": "stream",
     "text": [
      "2024-04-26 19:03:35 (INFO): Cutting planes:\n"
     ]
    },
    {
     "name": "stdout",
     "output_type": "stream",
     "text": [
      "  Lift-and-project: 8\n"
     ]
    },
    {
     "name": "stderr",
     "output_type": "stream",
     "text": [
      "2024-04-26 19:03:35 (INFO):   Lift-and-project: 8\n"
     ]
    },
    {
     "name": "stdout",
     "output_type": "stream",
     "text": [
      "  Cover: 19\n"
     ]
    },
    {
     "name": "stderr",
     "output_type": "stream",
     "text": [
      "2024-04-26 19:03:35 (INFO):   Cover: 19\n"
     ]
    },
    {
     "name": "stdout",
     "output_type": "stream",
     "text": [
      "  Implied bound: 1018\n"
     ]
    },
    {
     "name": "stderr",
     "output_type": "stream",
     "text": [
      "2024-04-26 19:03:35 (INFO):   Implied bound: 1018\n"
     ]
    },
    {
     "name": "stdout",
     "output_type": "stream",
     "text": [
      "  MIR: 417\n"
     ]
    },
    {
     "name": "stderr",
     "output_type": "stream",
     "text": [
      "2024-04-26 19:03:35 (INFO):   MIR: 417\n"
     ]
    },
    {
     "name": "stdout",
     "output_type": "stream",
     "text": [
      "  Flow cover: 4327\n"
     ]
    },
    {
     "name": "stderr",
     "output_type": "stream",
     "text": [
      "2024-04-26 19:03:35 (INFO):   Flow cover: 4327\n"
     ]
    },
    {
     "name": "stdout",
     "output_type": "stream",
     "text": [
      "  Inf proof: 1\n"
     ]
    },
    {
     "name": "stderr",
     "output_type": "stream",
     "text": [
      "2024-04-26 19:03:35 (INFO):   Inf proof: 1\n"
     ]
    },
    {
     "name": "stdout",
     "output_type": "stream",
     "text": [
      "  Relax-and-lift: 18\n"
     ]
    },
    {
     "name": "stderr",
     "output_type": "stream",
     "text": [
      "2024-04-26 19:03:35 (INFO):   Relax-and-lift: 18\n"
     ]
    },
    {
     "name": "stdout",
     "output_type": "stream",
     "text": [
      "\n"
     ]
    },
    {
     "name": "stderr",
     "output_type": "stream",
     "text": [
      "2024-04-26 19:03:35 (INFO): \n"
     ]
    },
    {
     "name": "stdout",
     "output_type": "stream",
     "text": [
      "Explored 804 nodes (1012903 simplex iterations) in 118.42 seconds (155.02 work units)\n"
     ]
    },
    {
     "name": "stderr",
     "output_type": "stream",
     "text": [
      "2024-04-26 19:03:35 (INFO): Explored 804 nodes (1012903 simplex iterations) in 118.42 seconds (155.02 work units)\n"
     ]
    },
    {
     "name": "stdout",
     "output_type": "stream",
     "text": [
      "Thread count was 20 (of 20 available processors)\n"
     ]
    },
    {
     "name": "stderr",
     "output_type": "stream",
     "text": [
      "2024-04-26 19:03:35 (INFO): Thread count was 20 (of 20 available processors)\n"
     ]
    },
    {
     "name": "stdout",
     "output_type": "stream",
     "text": [
      "\n"
     ]
    },
    {
     "name": "stderr",
     "output_type": "stream",
     "text": [
      "2024-04-26 19:03:35 (INFO): \n"
     ]
    },
    {
     "name": "stdout",
     "output_type": "stream",
     "text": [
      "Solution count 3: -0.802326 -0.8028 -0.80323 \n"
     ]
    },
    {
     "name": "stderr",
     "output_type": "stream",
     "text": [
      "2024-04-26 19:03:35 (INFO): Solution count 3: -0.802326 -0.8028 -0.80323 \n"
     ]
    },
    {
     "name": "stdout",
     "output_type": "stream",
     "text": [
      "\n"
     ]
    },
    {
     "name": "stderr",
     "output_type": "stream",
     "text": [
      "2024-04-26 19:03:35 (INFO): \n"
     ]
    },
    {
     "name": "stdout",
     "output_type": "stream",
     "text": [
      "Optimization achieved user objective limit\n"
     ]
    },
    {
     "name": "stderr",
     "output_type": "stream",
     "text": [
      "2024-04-26 19:03:35 (INFO): Optimization achieved user objective limit\n"
     ]
    },
    {
     "name": "stdout",
     "output_type": "stream",
     "text": [
      "Best objective -8.023260925147e-01, best bound -7.749059605595e-01, gap 3.4176%\n"
     ]
    },
    {
     "name": "stderr",
     "output_type": "stream",
     "text": [
      "2024-04-26 19:03:35 (INFO): Best objective -8.023260925147e-01, best bound -7.749059605595e-01, gap 3.4176%\n"
     ]
    },
    {
     "name": "stdout",
     "output_type": "stream",
     "text": [
      "\n"
     ]
    },
    {
     "name": "stderr",
     "output_type": "stream",
     "text": [
      "2024-04-26 19:03:35 (INFO): \n"
     ]
    },
    {
     "name": "stdout",
     "output_type": "stream",
     "text": [
      "User-callback calls 52616, time in user-callback 0.38 sec\n"
     ]
    },
    {
     "name": "stderr",
     "output_type": "stream",
     "text": [
      "2024-04-26 19:03:35 (INFO): User-callback calls 52616, time in user-callback 0.38 sec\n",
      "2024-04-26 19:03:35 (INFO): Optimization status: 15\n",
      "2024-04-26 19:03:35 (INFO): Original -0.81211, Opt objective -0.80233, Opt bound: -0.77491, stop_obj: -0.8029414488721036\n",
      "2024-04-26 19:03:35 (INFO): Robust count 0 out of 1\n",
      "2024-04-26 19:03:35 (INFO): Certified accuracy (poisoning): 0.0\n"
     ]
    },
    {
     "data": {
      "text/plain": [
       "{'accuracy_test': 1.0,\n",
       " 'accuracy_trn': 0.9428571462631226,\n",
       " 'accuracy_ub_test': 1.0,\n",
       " 'accuracy_lb_test': 1.0,\n",
       " 'accuracy_ub_trn': 0.9428571462631226,\n",
       " 'accuracy_lb_trn': 0.9428571462631226,\n",
       " 'accuracy_cert_evasion_trivial': 0.0,\n",
       " 'accuracy_cert_evasion_robust': 1.0,\n",
       " 'accuracy_cert_evasion_unrobust': 0.0,\n",
       " 'accuracy_cert_pois_robust': 0.0,\n",
       " 'accuracy_cert_pois_unrobust': 0,\n",
       " 'delta_absolute': 0.01,\n",
       " 'process_time': 891.355319451,\n",
       " 'y_true_cls': 0,\n",
       " 'y_pred_logit': [-0.792118489742279,\n",
       "  -0.8266753554344177,\n",
       "  -0.8664162158966064,\n",
       "  -0.8455662131309509,\n",
       "  -0.8713970184326172,\n",
       "  -0.8376725912094116,\n",
       "  -0.8121139407157898],\n",
       " 'y_is_robust': False,\n",
       " 'idx_train': [2060,\n",
       "  1403,\n",
       "  839,\n",
       "  2135,\n",
       "  16,\n",
       "  1949,\n",
       "  2526,\n",
       "  1706,\n",
       "  1540,\n",
       "  1766,\n",
       "  863,\n",
       "  1089,\n",
       "  2649,\n",
       "  491,\n",
       "  2594,\n",
       "  1475,\n",
       "  808,\n",
       "  1362,\n",
       "  2318,\n",
       "  1386,\n",
       "  966,\n",
       "  1226,\n",
       "  1195,\n",
       "  1383,\n",
       "  2618,\n",
       "  516,\n",
       "  1724,\n",
       "  2270,\n",
       "  617,\n",
       "  1580,\n",
       "  2497,\n",
       "  2229,\n",
       "  2085,\n",
       "  2690,\n",
       "  887,\n",
       "  70,\n",
       "  1027,\n",
       "  134,\n",
       "  856,\n",
       "  1870,\n",
       "  2244,\n",
       "  1353,\n",
       "  1660,\n",
       "  506,\n",
       "  1205,\n",
       "  2071,\n",
       "  133,\n",
       "  1423,\n",
       "  1255,\n",
       "  399,\n",
       "  2498,\n",
       "  2382,\n",
       "  1649,\n",
       "  1504,\n",
       "  249,\n",
       "  381,\n",
       "  591,\n",
       "  1792,\n",
       "  487,\n",
       "  1336,\n",
       "  1535,\n",
       "  1191,\n",
       "  234,\n",
       "  1236,\n",
       "  1730,\n",
       "  1564,\n",
       "  9,\n",
       "  2058,\n",
       "  483,\n",
       "  1631],\n",
       " 'idx_val': [2090,\n",
       "  84,\n",
       "  414,\n",
       "  75,\n",
       "  306,\n",
       "  1915,\n",
       "  1779,\n",
       "  2533,\n",
       "  372,\n",
       "  1536,\n",
       "  482,\n",
       "  2437,\n",
       "  847,\n",
       "  2072,\n",
       "  1881,\n",
       "  2267,\n",
       "  1896,\n",
       "  638,\n",
       "  280,\n",
       "  1773,\n",
       "  2696,\n",
       "  424,\n",
       "  194,\n",
       "  1346,\n",
       "  1914,\n",
       "  2322,\n",
       "  777,\n",
       "  2454,\n",
       "  435,\n",
       "  1786,\n",
       "  67,\n",
       "  1824,\n",
       "  2372,\n",
       "  105,\n",
       "  2595,\n",
       "  138,\n",
       "  1720,\n",
       "  876,\n",
       "  1568,\n",
       "  1394,\n",
       "  1971,\n",
       "  1333,\n",
       "  263,\n",
       "  895,\n",
       "  2625,\n",
       "  2673,\n",
       "  1913,\n",
       "  106,\n",
       "  2288,\n",
       "  501,\n",
       "  2022,\n",
       "  2160,\n",
       "  1709,\n",
       "  1619,\n",
       "  1262,\n",
       "  2480,\n",
       "  2298,\n",
       "  672,\n",
       "  462,\n",
       "  1480,\n",
       "  98,\n",
       "  1355,\n",
       "  531,\n",
       "  2564,\n",
       "  157,\n",
       "  2703,\n",
       "  2150,\n",
       "  1899,\n",
       "  2260,\n",
       "  2704],\n",
       " 'idx_labeled': [2060,\n",
       "  1403,\n",
       "  839,\n",
       "  2135,\n",
       "  16,\n",
       "  1949,\n",
       "  2526,\n",
       "  1706,\n",
       "  1540,\n",
       "  1766,\n",
       "  863,\n",
       "  1089,\n",
       "  2649,\n",
       "  491,\n",
       "  2594,\n",
       "  1475,\n",
       "  808,\n",
       "  1362,\n",
       "  2318,\n",
       "  1386,\n",
       "  966,\n",
       "  1226,\n",
       "  1195,\n",
       "  1383,\n",
       "  2618,\n",
       "  516,\n",
       "  1724,\n",
       "  2270,\n",
       "  617,\n",
       "  1580,\n",
       "  2497,\n",
       "  2229,\n",
       "  2085,\n",
       "  2690,\n",
       "  887,\n",
       "  70,\n",
       "  1027,\n",
       "  134,\n",
       "  856,\n",
       "  1870,\n",
       "  2244,\n",
       "  1353,\n",
       "  1660,\n",
       "  506,\n",
       "  1205,\n",
       "  2071,\n",
       "  133,\n",
       "  1423,\n",
       "  1255,\n",
       "  399,\n",
       "  2498,\n",
       "  2382,\n",
       "  1649,\n",
       "  1504,\n",
       "  249,\n",
       "  381,\n",
       "  591,\n",
       "  1792,\n",
       "  487,\n",
       "  1336,\n",
       "  1535,\n",
       "  1191,\n",
       "  234,\n",
       "  1236,\n",
       "  1730,\n",
       "  1564,\n",
       "  9,\n",
       "  2058,\n",
       "  483,\n",
       "  1631,\n",
       "  2090,\n",
       "  84,\n",
       "  414,\n",
       "  75,\n",
       "  306,\n",
       "  1915,\n",
       "  1779,\n",
       "  2533,\n",
       "  372,\n",
       "  1536,\n",
       "  482,\n",
       "  2437,\n",
       "  847,\n",
       "  2072,\n",
       "  1881,\n",
       "  2267,\n",
       "  1896,\n",
       "  638,\n",
       "  280,\n",
       "  1773,\n",
       "  2696,\n",
       "  424,\n",
       "  194,\n",
       "  1346,\n",
       "  1914,\n",
       "  2322,\n",
       "  777,\n",
       "  2454,\n",
       "  435,\n",
       "  1786,\n",
       "  67,\n",
       "  1824,\n",
       "  2372,\n",
       "  105,\n",
       "  2595,\n",
       "  138,\n",
       "  1720,\n",
       "  876,\n",
       "  1568,\n",
       "  1394,\n",
       "  1971,\n",
       "  1333,\n",
       "  263,\n",
       "  895,\n",
       "  2625,\n",
       "  2673,\n",
       "  1913,\n",
       "  106,\n",
       "  2288,\n",
       "  501,\n",
       "  2022,\n",
       "  2160,\n",
       "  1709,\n",
       "  1619,\n",
       "  1262,\n",
       "  2480,\n",
       "  2298,\n",
       "  672,\n",
       "  462,\n",
       "  1480,\n",
       "  98,\n",
       "  1355,\n",
       "  531,\n",
       "  2564,\n",
       "  157,\n",
       "  2703,\n",
       "  2150,\n",
       "  1899,\n",
       "  2260,\n",
       "  2704],\n",
       " 'idx_test': [2070],\n",
       " 'idx_adv': [2611,\n",
       "  1062,\n",
       "  1501,\n",
       "  2091,\n",
       "  1821,\n",
       "  1925,\n",
       "  1673,\n",
       "  14,\n",
       "  1218,\n",
       "  71,\n",
       "  2287,\n",
       "  103,\n",
       "  1828,\n",
       "  1584,\n",
       "  2184,\n",
       "  2281,\n",
       "  40,\n",
       "  2271,\n",
       "  1361,\n",
       "  1058,\n",
       "  1287,\n",
       "  2092,\n",
       "  2335,\n",
       "  116,\n",
       "  1941,\n",
       "  1621,\n",
       "  2679,\n",
       "  2510,\n",
       "  882,\n",
       "  1687,\n",
       "  1407,\n",
       "  2302,\n",
       "  583,\n",
       "  1931,\n",
       "  2038,\n",
       "  727,\n",
       "  1859,\n",
       "  637,\n",
       "  2658,\n",
       "  1397,\n",
       "  215,\n",
       "  1391,\n",
       "  2207,\n",
       "  2512,\n",
       "  49,\n",
       "  621,\n",
       "  2182,\n",
       "  497,\n",
       "  2246,\n",
       "  886,\n",
       "  2702,\n",
       "  1678,\n",
       "  1217,\n",
       "  1904,\n",
       "  2161,\n",
       "  118,\n",
       "  833,\n",
       "  2584,\n",
       "  2573,\n",
       "  2111,\n",
       "  1769,\n",
       "  541,\n",
       "  1052,\n",
       "  2050,\n",
       "  1563,\n",
       "  1192,\n",
       "  1154,\n",
       "  2681,\n",
       "  2190,\n",
       "  2689,\n",
       "  401,\n",
       "  313,\n",
       "  1432,\n",
       "  677,\n",
       "  1487,\n",
       "  1716,\n",
       "  818,\n",
       "  1414,\n",
       "  2379,\n",
       "  2506,\n",
       "  1102,\n",
       "  2228,\n",
       "  1707,\n",
       "  343,\n",
       "  1616,\n",
       "  2426,\n",
       "  524,\n",
       "  955,\n",
       "  2363,\n",
       "  0,\n",
       "  1966,\n",
       "  2093,\n",
       "  1872,\n",
       "  858,\n",
       "  1676,\n",
       "  691,\n",
       "  997,\n",
       "  1393,\n",
       "  2469,\n",
       "  2602,\n",
       "  1189,\n",
       "  1840,\n",
       "  2121,\n",
       "  2102,\n",
       "  1981,\n",
       "  805,\n",
       "  1830,\n",
       "  1133,\n",
       "  1497,\n",
       "  1683,\n",
       "  522,\n",
       "  1638,\n",
       "  2196,\n",
       "  1199,\n",
       "  1503,\n",
       "  634,\n",
       "  2117,\n",
       "  2054,\n",
       "  2388,\n",
       "  2350,\n",
       "  1842,\n",
       "  1434,\n",
       "  2310,\n",
       "  1822,\n",
       "  1120,\n",
       "  2424,\n",
       "  333,\n",
       "  884,\n",
       "  2286,\n",
       "  2615,\n",
       "  1301,\n",
       "  235,\n",
       "  2134,\n",
       "  1319,\n",
       "  1160,\n",
       "  1763,\n",
       "  2374,\n",
       "  939,\n",
       "  179,\n",
       "  569,\n",
       "  206,\n",
       "  37,\n",
       "  33,\n",
       "  1431,\n",
       "  56,\n",
       "  1303,\n",
       "  1992,\n",
       "  476,\n",
       "  34,\n",
       "  2216,\n",
       "  1844,\n",
       "  1577,\n",
       "  200,\n",
       "  2272,\n",
       "  2604,\n",
       "  558,\n",
       "  1785,\n",
       "  260,\n",
       "  1874,\n",
       "  1876,\n",
       "  362,\n",
       "  1528,\n",
       "  860,\n",
       "  779,\n",
       "  1645,\n",
       "  1761,\n",
       "  1611,\n",
       "  919,\n",
       "  1677,\n",
       "  1711,\n",
       "  1499,\n",
       "  488,\n",
       "  761,\n",
       "  1002,\n",
       "  245,\n",
       "  1332,\n",
       "  1147,\n",
       "  1927,\n",
       "  2001,\n",
       "  2529,\n",
       "  1651,\n",
       "  512,\n",
       "  710,\n",
       "  1122,\n",
       "  1153,\n",
       "  2317,\n",
       "  825,\n",
       "  500,\n",
       "  10,\n",
       "  553,\n",
       "  1187,\n",
       "  662,\n",
       "  653,\n",
       "  765,\n",
       "  320,\n",
       "  2640,\n",
       "  1069,\n",
       "  890,\n",
       "  1984,\n",
       "  130,\n",
       "  2301,\n",
       "  354,\n",
       "  1254,\n",
       "  795,\n",
       "  2633,\n",
       "  1853,\n",
       "  2155,\n",
       "  994,\n",
       "  1270,\n",
       "  493,\n",
       "  931,\n",
       "  1886,\n",
       "  547,\n",
       "  448,\n",
       "  599,\n",
       "  2201,\n",
       "  1910,\n",
       "  1410,\n",
       "  1327,\n",
       "  888,\n",
       "  392,\n",
       "  1848,\n",
       "  1969,\n",
       "  1085,\n",
       "  2637,\n",
       "  100,\n",
       "  382,\n",
       "  209,\n",
       "  346,\n",
       "  926,\n",
       "  1178,\n",
       "  815,\n",
       "  1799,\n",
       "  383,\n",
       "  1780,\n",
       "  1037,\n",
       "  2292,\n",
       "  2586,\n",
       "  1714,\n",
       "  724,\n",
       "  998,\n",
       "  1979,\n",
       "  2443,\n",
       "  1204,\n",
       "  1274,\n",
       "  963,\n",
       "  227,\n",
       "  1015,\n",
       "  836,\n",
       "  1833,\n",
       "  2220,\n",
       "  1343,\n",
       "  2329,\n",
       "  2189,\n",
       "  1416,\n",
       "  799],\n",
       " 'data_dim': 1433,\n",
       " 'min_ypred': -0.8713970184326172,\n",
       " 'max_ypred': -0.792118489742279,\n",
       " 'min_ylb': -0.8783172965049744,\n",
       " 'max_ylb': -0.7993274927139282,\n",
       " 'min_yub': -0.8645907044410706,\n",
       " 'max_yub': -0.7851283550262451,\n",
       " 'avg_ntklb': 3.056884143691785,\n",
       " 'min_ntklb': 0.5044826023917699,\n",
       " 'max_ntklb': 33.0,\n",
       " 'avg_ntkub': 3.0864204409471547,\n",
       " 'min_ntkub': 0.5275414545388007,\n",
       " 'max_ntkub': 33.0,\n",
       " 'min_ntklabeled': 1.4233693271236696,\n",
       " 'max_ntklabeled': 31.004,\n",
       " 'avg_ntkunlabeled': 2.913357152966512,\n",
       " 'min_ntkunlabeled': 1.849559972888342,\n",
       " 'max_ntkunlabeled': 5.57409086030326,\n",
       " 'cond': 3174.599788098087,\n",
       " 'cond_regularized': 3087.103922827945}"
      ]
     },
     "execution_count": 22,
     "metadata": {},
     "output_type": "execute_result"
    }
   ],
   "source": [
    "# MIP foucs = 2\n",
    "#model_params[\"cache_size\"] = 10000\n",
    "data_params[\"dataset\"] = \"cora\"\n",
    "other_params[\"device\"] = \"cpu\"\n",
    "other_params[\"debug\"] = False\n",
    "certificate_params[\"target_idx\"] = 6\n",
    "certificate_params[\"n_targets_per_class\"] = 10\n",
    "certificate_params[\"n_adversarial\"] = 256\n",
    "certificate_params[\"delta\"] = 0.01\n",
    "certificate_params[\"delta_absolute\"] = False\n",
    "certificate_params[\"method\"] = \"XXT\"\n",
    "certificate_params[\"perturbation_model\"] = \"l2\"\n",
    "certificate_params[\"attack_nodes\"] = \"test\"\n",
    "#certificate_params[\"MIPFocus\"] = 2\n",
    "certificate_params[\"Cuts\"] = -1\n",
    "certificate_params[\"Heuristics\"] = 0.05\n",
    "certificate_params[\"LogToConsole\"] = 1\n",
    "certificate_params[\"OutputFlag\"] = 1\n",
    "certificate_params[\"NumericFocus\"] = 0\n",
    "other_params[\"path_gurobi_license\"] = \"/ceph/ssd/staff/gosl/app/gurobi.lic\"\n",
    "verbosity_params[\"debug_lvl\"] = \"info\"\n",
    "model_params[\"regularizer\"] = 0.004\n",
    "model_params[\"solver\"] = \"qplayer_one_vs_all\"\n",
    "model_params[\"alpha_tol\"] = 1e-4\n",
    "model_params[\"bias\"] = False\n",
    "data_params[\"learning_setting\"] = \"transductive\"\n",
    "run(data_params, model_params, certificate_params, verbosity_params, other_params, seed)"
   ]
  },
  {
   "cell_type": "code",
   "execution_count": null,
   "metadata": {},
   "outputs": [],
   "source": []
  }
 ],
 "metadata": {
  "kernelspec": {
   "display_name": "py311_ntk",
   "language": "python",
   "name": "python3"
  },
  "language_info": {
   "codemirror_mode": {
    "name": "ipython",
    "version": 3
   },
   "file_extension": ".py",
   "mimetype": "text/x-python",
   "name": "python",
   "nbconvert_exporter": "python",
   "pygments_lexer": "ipython3",
   "version": "3.11.5"
  }
 },
 "nbformat": 4,
 "nbformat_minor": 2
}
