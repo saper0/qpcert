{
 "cells": [
  {
   "cell_type": "code",
   "execution_count": 1,
   "metadata": {},
   "outputs": [],
   "source": [
    "%load_ext autoreload\n",
    "%autoreload 2"
   ]
  },
  {
   "cell_type": "code",
   "execution_count": 2,
   "metadata": {},
   "outputs": [],
   "source": [
    "import torch\n",
    "import numpy as np\n",
    "from exp_certify_multiclass import run"
   ]
  },
  {
   "cell_type": "code",
   "execution_count": 3,
   "metadata": {},
   "outputs": [],
   "source": [
    "seed = 0\n",
    "\n",
    "data_params = dict(\n",
    "    dataset = \"cora\",\n",
    "    learning_setting = \"transductive\", # or \"transdructive\"\n",
    "    specification = dict(\n",
    "        n_per_class = 10,\n",
    "        fraction_test = 0.01,\n",
    "        data_dir = \"./data\",\n",
    "        make_undirected = True,\n",
    "        binary_attr = False,\n",
    "        balance_test = True,\n",
    "    )\n",
    ")\n",
    "\n",
    "model_params = dict(\n",
    "    label = \"GCN\",\n",
    "    model = \"GCN\",\n",
    "    normalization = \"row_normalization\",\n",
    "    depth = 1,\n",
    "    #regularizer = 1e-8\n",
    "    regularizer = 1,\n",
    "    pred_method = \"svm\",\n",
    "    activation = \"relu\"\n",
    ")\n",
    "\n",
    "certificate_params = dict(\n",
    "    n_adversarial = 1, # number adversarial nodes\n",
    "    perturbation_model = \"linf\",\n",
    "    delta = 0.01 # l0: local budget = delta * feature_dim\n",
    ")\n",
    "\n",
    "verbosity_params = dict(\n",
    "    debug_lvl = \"warning\"\n",
    ")  \n",
    "\n",
    "other_params = dict(\n",
    "    device = \"cpu\",\n",
    "    dtype = torch.float64,\n",
    "    allow_tf32 = False\n",
    ")"
   ]
  },
  {
   "cell_type": "code",
   "execution_count": 7,
   "metadata": {},
   "outputs": [
    {
     "name": "stderr",
     "output_type": "stream",
     "text": [
      "2024-04-26 18:52:04 (INFO): Starting experiment exp_certify_multiclass with configuration:\n",
      "2024-04-26 18:52:04 (INFO): data_params: {'dataset': 'cora', 'learning_setting': 'transductive', 'specification': {'n_per_class': 10, 'fraction_test': 0.01, 'data_dir': './data', 'make_undirected': True, 'binary_attr': False, 'balance_test': True}}\n",
      "2024-04-26 18:52:04 (INFO): model_params: {'label': 'GCN', 'model': 'GCN', 'normalization': 'row_normalization', 'depth': 1, 'regularizer': 0.001, 'pred_method': 'svm', 'activation': 'relu', 'solver': 'qplayer_one_vs_all', 'alpha_tol': 0.0001, 'bias': False}\n",
      "2024-04-26 18:52:04 (INFO): certification_params: {'n_adversarial': 270, 'perturbation_model': 'l2', 'delta': 0.1, 'delta_absolute': False, 'method': 'XXT', 'attack_nodes': 'test', 'MIPFocus': 2, 'LogToConsole': 0, 'OutputFlag': 0}\n",
      "2024-04-26 18:52:04 (INFO): verbosity_params: {'debug_lvl': 'info'}\n",
      "2024-04-26 18:52:04 (INFO): other_params: {'device': '0', 'dtype': torch.float64, 'allow_tf32': False, 'debug': False, 'path_gurobi_license': '/ceph/ssd/staff/gosl/app/gurobi.lic'}\n",
      "2024-04-26 18:52:04 (INFO): seed: 0\n",
      "2024-04-26 18:52:04 (INFO): Currently on gpu device cuda:0\n",
      "2024-04-26 18:52:04 (INFO): number of samples\n",
      " - labeled: 70 \n",
      " - val: 70 \n",
      " - test: 273 \n",
      " - unlabeled: 2295\n",
      "2024-04-26 18:52:05 (INFO): Delta: 0.1\n"
     ]
    },
    {
     "name": "stdout",
     "output_type": "stream",
     "text": [
      "Class 0: 140 alphas found: ['0.0010', '0.0010', '0.0010', '0.0010', '0.0010', '0.0010', '0.0010', '0.0010', '0.0010', '0.0010', '0.0010', '0.0010', '0.0010', '0.0010', '0.0010', '0.0010', '0.0010', '0.0010', '0.0010', '0.0010', '0.0010', '0.0010', '0.0010', '0.0010', '0.0010', '0.0010', '0.0010', '0.0010', '0.0010', '0.0010', '0.0010', '0.0010', '0.0010', '0.0010', '0.0010', '0.0010', '0.0010', '0.0010', '0.0010', '0.0010', '0.0010', '0.0010', '0.0010', '0.0010', '0.0010', '0.0010', '0.0010', '0.0010', '0.0010', '0.0010', '0.0010', '0.0010', '0.0010', '0.0010', '0.0010', '0.0010', '0.0010', '0.0010', '0.0010', '0.0010', '0.0010', '0.0010', '0.0010', '0.0010', '0.0010', '0.0010', '0.0010', '0.0010', '0.0010', '0.0010', '0.0010', '0.0010', '0.0010', '0.0010', '0.0010', '0.0010', '0.0010', '0.0010', '0.0010', '0.0010', '0.0010', '0.0010', '0.0010', '0.0010', '0.0010', '0.0010', '0.0010', '0.0010', '0.0010', '0.0010', '0.0010', '0.0010', '0.0010', '0.0010', '0.0010', '0.0010', '0.0010', '0.0010', '0.0010', '0.0010', '0.0010', '0.0010', '0.0010', '0.0010', '0.0010', '0.0010', '0.0010', '0.0010', '0.0010', '0.0010', '0.0010', '0.0010', '0.0010', '0.0010', '0.0010', '0.0010', '0.0010', '0.0010', '0.0010', '0.0010', '0.0010', '0.0010', '0.0010', '0.0010', '0.0010', '0.0010', '0.0010', '0.0010', '0.0010', '0.0010', '0.0010', '0.0010', '0.0010', '0.0010', '0.0010', '0.0010', '0.0010', '0.0010', '0.0010', '0.0010']\n",
      "Class 1: 140 alphas found: ['0.0010', '0.0010', '0.0010', '0.0010', '0.0010', '0.0010', '0.0010', '0.0010', '0.0010', '0.0010', '0.0010', '0.0010', '0.0010', '0.0010', '0.0010', '0.0010', '0.0010', '0.0010', '0.0010', '0.0010', '0.0010', '0.0010', '0.0010', '0.0010', '0.0010', '0.0010', '0.0010', '0.0010', '0.0010', '0.0010', '0.0010', '0.0010', '0.0010', '0.0010', '0.0010', '0.0010', '0.0010', '0.0010', '0.0010', '0.0010', '0.0010', '0.0010', '0.0010', '0.0010', '0.0010', '0.0010', '0.0010', '0.0010', '0.0010', '0.0010', '0.0010', '0.0010', '0.0010', '0.0010', '0.0010', '0.0010', '0.0010', '0.0010', '0.0010', '0.0010', '0.0010', '0.0010', '0.0010', '0.0010', '0.0010', '0.0010', '0.0010', '0.0010', '0.0010', '0.0010', '0.0010', '0.0010', '0.0010', '0.0010', '0.0010', '0.0010', '0.0010', '0.0010', '0.0010', '0.0010', '0.0010', '0.0010', '0.0010', '0.0010', '0.0010', '0.0010', '0.0010', '0.0010', '0.0010', '0.0010', '0.0010', '0.0010', '0.0010', '0.0010', '0.0010', '0.0010', '0.0010', '0.0010', '0.0010', '0.0010', '0.0010', '0.0010', '0.0010', '0.0010', '0.0010', '0.0010', '0.0010', '0.0010', '0.0010', '0.0010', '0.0010', '0.0010', '0.0010', '0.0010', '0.0010', '0.0010', '0.0010', '0.0010', '0.0010', '0.0010', '0.0010', '0.0010', '0.0010', '0.0010', '0.0010', '0.0010', '0.0010', '0.0010', '0.0010', '0.0010', '0.0010', '0.0010', '0.0010', '0.0010', '0.0010', '0.0010', '0.0010', '0.0010', '0.0010', '0.0010']\n",
      "Class 2: 140 alphas found: ['0.0010', '0.0010', '0.0010', '0.0010', '0.0010', '0.0010', '0.0010', '0.0010', '0.0010', '0.0010', '0.0010', '0.0010', '0.0010', '0.0010', '0.0010', '0.0010', '0.0010', '0.0010', '0.0010', '0.0010', '0.0010', '0.0010', '0.0010', '0.0010', '0.0010', '0.0010', '0.0010', '0.0010', '0.0010', '0.0010', '0.0010', '0.0010', '0.0010', '0.0010', '0.0010', '0.0010', '0.0010', '0.0010', '0.0010', '0.0010', '0.0010', '0.0010', '0.0010', '0.0010', '0.0010', '0.0010', '0.0010', '0.0010', '0.0010', '0.0010', '0.0010', '0.0010', '0.0010', '0.0010', '0.0010', '0.0010', '0.0010', '0.0010', '0.0010', '0.0010', '0.0010', '0.0010', '0.0010', '0.0010', '0.0010', '0.0010', '0.0010', '0.0010', '0.0010', '0.0010', '0.0010', '0.0010', '0.0010', '0.0010', '0.0010', '0.0010', '0.0010', '0.0010', '0.0010', '0.0010', '0.0010', '0.0010', '0.0010', '0.0010', '0.0010', '0.0010', '0.0010', '0.0010', '0.0010', '0.0010', '0.0010', '0.0010', '0.0010', '0.0010', '0.0010', '0.0010', '0.0010', '0.0010', '0.0010', '0.0010', '0.0010', '0.0010', '0.0010', '0.0010', '0.0010', '0.0010', '0.0010', '0.0010', '0.0010', '0.0010', '0.0010', '0.0010', '0.0010', '0.0010', '0.0010', '0.0010', '0.0010', '0.0010', '0.0010', '0.0010', '0.0010', '0.0010', '0.0010', '0.0010', '0.0010', '0.0010', '0.0010', '0.0010', '0.0010', '0.0010', '0.0010', '0.0010', '0.0010', '0.0010', '0.0010', '0.0010', '0.0010', '0.0010', '0.0010', '0.0010']\n",
      "Class 3: 140 alphas found: ['0.0010', '0.0010', '0.0010', '0.0010', '0.0010', '0.0010', '0.0010', '0.0010', '0.0010', '0.0010', '0.0010', '0.0010', '0.0010', '0.0010', '0.0010', '0.0010', '0.0010', '0.0010', '0.0010', '0.0010', '0.0010', '0.0010', '0.0010', '0.0010', '0.0010', '0.0010', '0.0010', '0.0010', '0.0010', '0.0010', '0.0010', '0.0010', '0.0010', '0.0010', '0.0010', '0.0010', '0.0010', '0.0010', '0.0010', '0.0010', '0.0010', '0.0010', '0.0010', '0.0010', '0.0010', '0.0010', '0.0010', '0.0010', '0.0010', '0.0010', '0.0010', '0.0010', '0.0010', '0.0010', '0.0010', '0.0010', '0.0010', '0.0010', '0.0010', '0.0010', '0.0010', '0.0010', '0.0010', '0.0010', '0.0010', '0.0010', '0.0010', '0.0010', '0.0010', '0.0010', '0.0010', '0.0010', '0.0010', '0.0010', '0.0010', '0.0010', '0.0010', '0.0010', '0.0010', '0.0010', '0.0010', '0.0010', '0.0010', '0.0010', '0.0010', '0.0010', '0.0010', '0.0010', '0.0010', '0.0010', '0.0010', '0.0010', '0.0010', '0.0010', '0.0010', '0.0010', '0.0010', '0.0010', '0.0010', '0.0010', '0.0010', '0.0010', '0.0010', '0.0010', '0.0010', '0.0010', '0.0010', '0.0010', '0.0010', '0.0010', '0.0010', '0.0010', '0.0010', '0.0010', '0.0010', '0.0010', '0.0010', '0.0010', '0.0010', '0.0010', '0.0010', '0.0010', '0.0010', '0.0010', '0.0010', '0.0010', '0.0010', '0.0010', '0.0010', '0.0010', '0.0010', '0.0010', '0.0010', '0.0010', '0.0010', '0.0010', '0.0010', '0.0010', '0.0010', '0.0010']\n",
      "Class 4: 140 alphas found: ['0.0010', '0.0010', '0.0010', '0.0010', '0.0010', '0.0010', '0.0010', '0.0010', '0.0010', '0.0010', '0.0010', '0.0010', '0.0010', '0.0010', '0.0010', '0.0010', '0.0010', '0.0010', '0.0010', '0.0010', '0.0010', '0.0010', '0.0010', '0.0010', '0.0010', '0.0010', '0.0010', '0.0010', '0.0010', '0.0010', '0.0010', '0.0010', '0.0010', '0.0010', '0.0010', '0.0010', '0.0010', '0.0010', '0.0010', '0.0010', '0.0010', '0.0010', '0.0010', '0.0010', '0.0010', '0.0010', '0.0010', '0.0010', '0.0010', '0.0010', '0.0010', '0.0010', '0.0010', '0.0010', '0.0010', '0.0010', '0.0010', '0.0010', '0.0010', '0.0010', '0.0010', '0.0010', '0.0010', '0.0010', '0.0010', '0.0010', '0.0010', '0.0010', '0.0010', '0.0010', '0.0010', '0.0010', '0.0010', '0.0010', '0.0010', '0.0010', '0.0010', '0.0010', '0.0010', '0.0010', '0.0010', '0.0010', '0.0010', '0.0010', '0.0010', '0.0010', '0.0010', '0.0010', '0.0010', '0.0010', '0.0010', '0.0010', '0.0010', '0.0010', '0.0010', '0.0010', '0.0010', '0.0010', '0.0010', '0.0010', '0.0010', '0.0010', '0.0010', '0.0010', '0.0010', '0.0010', '0.0010', '0.0010', '0.0010', '0.0010', '0.0010', '0.0010', '0.0010', '0.0010', '0.0010', '0.0010', '0.0010', '0.0010', '0.0010', '0.0010', '0.0010', '0.0010', '0.0010', '0.0010', '0.0010', '0.0010', '0.0010', '0.0010', '0.0010', '0.0010', '0.0010', '0.0010', '0.0010', '0.0010', '0.0010', '0.0010', '0.0010', '0.0010', '0.0010', '0.0010']\n",
      "Class 5: 140 alphas found: ['0.0010', '0.0010', '0.0010', '0.0010', '0.0010', '0.0010', '0.0010', '0.0010', '0.0010', '0.0010', '0.0010', '0.0010', '0.0010', '0.0010', '0.0010', '0.0010', '0.0010', '0.0010', '0.0010', '0.0010', '0.0010', '0.0010', '0.0010', '0.0010', '0.0010', '0.0010', '0.0010', '0.0010', '0.0010', '0.0010', '0.0010', '0.0010', '0.0010', '0.0010', '0.0010', '0.0010', '0.0010', '0.0010', '0.0010', '0.0010', '0.0010', '0.0010', '0.0010', '0.0010', '0.0010', '0.0010', '0.0010', '0.0010', '0.0010', '0.0010', '0.0010', '0.0010', '0.0010', '0.0010', '0.0010', '0.0010', '0.0010', '0.0010', '0.0010', '0.0010', '0.0010', '0.0010', '0.0010', '0.0010', '0.0010', '0.0010', '0.0010', '0.0010', '0.0010', '0.0010', '0.0010', '0.0010', '0.0010', '0.0010', '0.0010', '0.0010', '0.0010', '0.0010', '0.0010', '0.0010', '0.0010', '0.0010', '0.0010', '0.0010', '0.0010', '0.0010', '0.0010', '0.0010', '0.0010', '0.0010', '0.0010', '0.0010', '0.0010', '0.0010', '0.0010', '0.0010', '0.0010', '0.0010', '0.0010', '0.0010', '0.0010', '0.0010', '0.0010', '0.0010', '0.0010', '0.0010', '0.0010', '0.0010', '0.0010', '0.0010', '0.0010', '0.0010', '0.0010', '0.0010', '0.0010', '0.0010', '0.0010', '0.0010', '0.0010', '0.0010', '0.0010', '0.0010', '0.0010', '0.0010', '0.0010', '0.0010', '0.0010', '0.0010', '0.0010', '0.0010', '0.0010', '0.0010', '0.0010', '0.0010', '0.0010', '0.0010', '0.0010', '0.0010', '0.0010', '0.0010']\n",
      "Class 6: 140 alphas found: ['0.0010', '0.0010', '0.0010', '0.0010', '0.0010', '0.0010', '0.0010', '0.0010', '0.0010', '0.0010', '0.0010', '0.0010', '0.0010', '0.0010', '0.0010', '0.0010', '0.0010', '0.0010', '0.0010', '0.0010', '0.0010', '0.0010', '0.0010', '0.0010', '0.0010', '0.0010', '0.0010', '0.0010', '0.0010', '0.0010', '0.0010', '0.0010', '0.0010', '0.0010', '0.0010', '0.0010', '0.0010', '0.0010', '0.0010', '0.0010', '0.0010', '0.0010', '0.0010', '0.0010', '0.0010', '0.0010', '0.0010', '0.0010', '0.0010', '0.0010', '0.0010', '0.0010', '0.0010', '0.0010', '0.0010', '0.0010', '0.0010', '0.0010', '0.0010', '0.0010', '0.0010', '0.0010', '0.0010', '0.0010', '0.0010', '0.0010', '0.0010', '0.0010', '0.0010', '0.0010', '0.0010', '0.0010', '0.0010', '0.0010', '0.0010', '0.0010', '0.0010', '0.0010', '0.0010', '0.0010', '0.0010', '0.0010', '0.0010', '0.0010', '0.0010', '0.0010', '0.0010', '0.0010', '0.0010', '0.0010', '0.0010', '0.0010', '0.0010', '0.0010', '0.0010', '0.0010', '0.0010', '0.0010', '0.0010', '0.0010', '0.0010', '0.0010', '0.0010', '0.0010', '0.0010', '0.0010', '0.0010', '0.0010', '0.0010', '0.0010', '0.0010', '0.0010', '0.0010', '0.0010', '0.0010', '0.0010', '0.0010', '0.0010', '0.0010', '0.0010', '0.0010', '0.0010', '0.0010', '0.0010', '0.0010', '0.0010', '0.0010', '0.0010', '0.0010', '0.0010', '0.0010', '0.0010', '0.0010', '0.0010', '0.0010', '0.0010', '0.0010', '0.0010', '0.0010', '0.0010']\n"
     ]
    },
    {
     "name": "stderr",
     "output_type": "stream",
     "text": [
      "2024-04-26 18:52:07 (INFO): Test accuracy: 0.6776556968688965\n",
      "2024-04-26 18:52:07 (INFO): Test accuracy ALL UNLABELED: 0.6736760139465332\n",
      "2024-04-26 18:52:07 (INFO): Train accuracy: 0.8785714507102966\n",
      "2024-04-26 18:52:07 (INFO): Accuracy_lb_test: 0.6776556968688965\n",
      "2024-04-26 18:52:07 (INFO): Accuracy_ub_test: 0.6776556968688965\n",
      "2024-04-26 18:52:07 (INFO): Accuracy_lb_trn: 0.8785714507102966\n",
      "2024-04-26 18:52:07 (INFO): Accuracy_ub_trn: 0.8785714507102966\n",
      "2024-04-26 18:52:07 (INFO): Certified accuracy (evasion): 0.1318681389093399\n",
      "2024-04-26 18:52:07 (INFO): Certified accuracy (evasion, trivial): 0.23443223443223443\n",
      "2024-04-26 18:52:07 (INFO): Certified unrobustness (evasion): 0.0\n"
     ]
    },
    {
     "name": "stdout",
     "output_type": "stream",
     "text": [
      "Warning for adding constraints: zero or small (< 1e-13) coefficients, ignored\n"
     ]
    },
    {
     "name": "stderr",
     "output_type": "stream",
     "text": [
      "2024-04-26 18:52:09 (INFO): Warning for adding constraints: zero or small (< 1e-13) coefficients, ignored\n"
     ]
    },
    {
     "name": "stdout",
     "output_type": "stream",
     "text": [
      "Set parameter IntegralityFocus to value 1\n"
     ]
    },
    {
     "name": "stderr",
     "output_type": "stream",
     "text": [
      "2024-04-26 18:52:09 (INFO): Set parameter IntegralityFocus to value 1\n"
     ]
    },
    {
     "name": "stdout",
     "output_type": "stream",
     "text": [
      "Set parameter IntFeasTol to value 0.0001\n"
     ]
    },
    {
     "name": "stderr",
     "output_type": "stream",
     "text": [
      "2024-04-26 18:52:09 (INFO): Set parameter IntFeasTol to value 0.0001\n"
     ]
    },
    {
     "name": "stdout",
     "output_type": "stream",
     "text": [
      "Loaded user MIP start with objective -0.434896\n",
      "\n"
     ]
    },
    {
     "name": "stderr",
     "output_type": "stream",
     "text": [
      "2024-04-26 18:52:09 (INFO): Optimization status: 2\n",
      "2024-04-26 18:52:09 (INFO): Original -0.43490, Opt objective -0.45874, Opt bound: -0.45874, stop_obj: None\n"
     ]
    },
    {
     "name": "stdout",
     "output_type": "stream",
     "text": [
      "Warning for adding constraints: zero or small (< 1e-13) coefficients, ignored\n"
     ]
    },
    {
     "name": "stderr",
     "output_type": "stream",
     "text": [
      "2024-04-26 18:52:10 (INFO): Warning for adding constraints: zero or small (< 1e-13) coefficients, ignored\n"
     ]
    },
    {
     "name": "stdout",
     "output_type": "stream",
     "text": [
      "Set parameter BestObjStop to value -4.5873655524728807e-01\n"
     ]
    },
    {
     "name": "stderr",
     "output_type": "stream",
     "text": [
      "2024-04-26 18:52:10 (INFO): Set parameter BestObjStop to value -4.5873655524728807e-01\n"
     ]
    },
    {
     "name": "stdout",
     "output_type": "stream",
     "text": [
      "Set parameter BestBdStop to value -4.5873655524728807e-01\n"
     ]
    },
    {
     "name": "stderr",
     "output_type": "stream",
     "text": [
      "2024-04-26 18:52:10 (INFO): Set parameter BestBdStop to value -4.5873655524728807e-01\n"
     ]
    },
    {
     "name": "stdout",
     "output_type": "stream",
     "text": [
      "Set parameter IntegralityFocus to value 1\n"
     ]
    },
    {
     "name": "stderr",
     "output_type": "stream",
     "text": [
      "2024-04-26 18:52:10 (INFO): Set parameter IntegralityFocus to value 1\n"
     ]
    },
    {
     "name": "stdout",
     "output_type": "stream",
     "text": [
      "Set parameter IntFeasTol to value 0.0001\n"
     ]
    },
    {
     "name": "stderr",
     "output_type": "stream",
     "text": [
      "2024-04-26 18:52:10 (INFO): Set parameter IntFeasTol to value 0.0001\n"
     ]
    },
    {
     "name": "stdout",
     "output_type": "stream",
     "text": [
      "Loaded user MIP start with objective -0.435019\n",
      "\n"
     ]
    },
    {
     "name": "stderr",
     "output_type": "stream",
     "text": [
      "2024-04-26 18:52:10 (INFO): Optimization status: 15\n",
      "2024-04-26 18:52:10 (INFO): Original -0.43502, Opt objective -0.43502, Opt bound: -0.41258, stop_obj: -0.45873655524728807\n",
      "2024-04-26 18:52:10 (INFO): Robust count 0 out of 1\n"
     ]
    },
    {
     "name": "stdout",
     "output_type": "stream",
     "text": [
      "Warning for adding constraints: zero or small (< 1e-13) coefficients, ignored\n"
     ]
    },
    {
     "name": "stderr",
     "output_type": "stream",
     "text": [
      "2024-04-26 18:52:11 (INFO): Warning for adding constraints: zero or small (< 1e-13) coefficients, ignored\n"
     ]
    },
    {
     "name": "stdout",
     "output_type": "stream",
     "text": [
      "Set parameter IntegralityFocus to value 1\n"
     ]
    },
    {
     "name": "stderr",
     "output_type": "stream",
     "text": [
      "2024-04-26 18:52:11 (INFO): Set parameter IntegralityFocus to value 1\n"
     ]
    },
    {
     "name": "stdout",
     "output_type": "stream",
     "text": [
      "Set parameter IntFeasTol to value 0.0001\n"
     ]
    },
    {
     "name": "stderr",
     "output_type": "stream",
     "text": [
      "2024-04-26 18:52:11 (INFO): Set parameter IntFeasTol to value 0.0001\n"
     ]
    },
    {
     "name": "stdout",
     "output_type": "stream",
     "text": [
      "Loaded user MIP start with objective -0.298444\n",
      "\n"
     ]
    },
    {
     "name": "stderr",
     "output_type": "stream",
     "text": [
      "2024-04-26 18:52:11 (INFO): Optimization status: 2\n",
      "2024-04-26 18:52:11 (INFO): Original -0.29844, Opt objective -0.30797, Opt bound: -0.30797, stop_obj: None\n"
     ]
    },
    {
     "name": "stdout",
     "output_type": "stream",
     "text": [
      "Warning for adding constraints: zero or small (< 1e-13) coefficients, ignored\n"
     ]
    },
    {
     "name": "stderr",
     "output_type": "stream",
     "text": [
      "2024-04-26 18:52:12 (INFO): Warning for adding constraints: zero or small (< 1e-13) coefficients, ignored\n"
     ]
    },
    {
     "name": "stdout",
     "output_type": "stream",
     "text": [
      "Set parameter BestObjStop to value -3.0796768544570519e-01\n"
     ]
    },
    {
     "name": "stderr",
     "output_type": "stream",
     "text": [
      "2024-04-26 18:52:12 (INFO): Set parameter BestObjStop to value -3.0796768544570519e-01\n"
     ]
    },
    {
     "name": "stdout",
     "output_type": "stream",
     "text": [
      "Set parameter BestBdStop to value -3.0796768544570519e-01\n"
     ]
    },
    {
     "name": "stderr",
     "output_type": "stream",
     "text": [
      "2024-04-26 18:52:12 (INFO): Set parameter BestBdStop to value -3.0796768544570519e-01\n"
     ]
    },
    {
     "name": "stdout",
     "output_type": "stream",
     "text": [
      "Set parameter IntegralityFocus to value 1\n"
     ]
    },
    {
     "name": "stderr",
     "output_type": "stream",
     "text": [
      "2024-04-26 18:52:12 (INFO): Set parameter IntegralityFocus to value 1\n"
     ]
    },
    {
     "name": "stdout",
     "output_type": "stream",
     "text": [
      "Set parameter IntFeasTol to value 0.0001\n"
     ]
    },
    {
     "name": "stderr",
     "output_type": "stream",
     "text": [
      "2024-04-26 18:52:12 (INFO): Set parameter IntFeasTol to value 0.0001\n"
     ]
    },
    {
     "name": "stdout",
     "output_type": "stream",
     "text": [
      "Loaded user MIP start with objective -0.316216\n",
      "\n"
     ]
    },
    {
     "name": "stderr",
     "output_type": "stream",
     "text": [
      "2024-04-26 18:52:13 (INFO): Optimization status: 2\n",
      "2024-04-26 18:52:13 (INFO): Original -0.31622, Opt objective -0.30711, Opt bound: -0.30711, stop_obj: -0.3079676854457052\n",
      "2024-04-26 18:52:13 (INFO): Robust count 0 out of 2\n"
     ]
    },
    {
     "name": "stdout",
     "output_type": "stream",
     "text": [
      "Warning for adding constraints: zero or small (< 1e-13) coefficients, ignored\n"
     ]
    },
    {
     "name": "stderr",
     "output_type": "stream",
     "text": [
      "2024-04-26 18:52:13 (INFO): Warning for adding constraints: zero or small (< 1e-13) coefficients, ignored\n"
     ]
    },
    {
     "name": "stdout",
     "output_type": "stream",
     "text": [
      "Set parameter IntegralityFocus to value 1\n"
     ]
    },
    {
     "name": "stderr",
     "output_type": "stream",
     "text": [
      "2024-04-26 18:52:13 (INFO): Set parameter IntegralityFocus to value 1\n"
     ]
    },
    {
     "name": "stdout",
     "output_type": "stream",
     "text": [
      "Set parameter IntFeasTol to value 0.0001\n"
     ]
    },
    {
     "name": "stderr",
     "output_type": "stream",
     "text": [
      "2024-04-26 18:52:13 (INFO): Set parameter IntFeasTol to value 0.0001\n"
     ]
    },
    {
     "name": "stdout",
     "output_type": "stream",
     "text": [
      "Loaded user MIP start with objective -0.352514\n",
      "\n"
     ]
    },
    {
     "name": "stderr",
     "output_type": "stream",
     "text": [
      "2024-04-26 18:52:14 (INFO): Optimization status: 2\n",
      "2024-04-26 18:52:14 (INFO): Original -0.35251, Opt objective -0.36463, Opt bound: -0.36463, stop_obj: None\n"
     ]
    },
    {
     "name": "stdout",
     "output_type": "stream",
     "text": [
      "Warning for adding constraints: zero or small (< 1e-13) coefficients, ignored\n"
     ]
    },
    {
     "name": "stderr",
     "output_type": "stream",
     "text": [
      "2024-04-26 18:52:15 (INFO): Warning for adding constraints: zero or small (< 1e-13) coefficients, ignored\n"
     ]
    },
    {
     "name": "stdout",
     "output_type": "stream",
     "text": [
      "Set parameter BestObjStop to value -3.6463283374654692e-01\n"
     ]
    },
    {
     "name": "stderr",
     "output_type": "stream",
     "text": [
      "2024-04-26 18:52:15 (INFO): Set parameter BestObjStop to value -3.6463283374654692e-01\n"
     ]
    },
    {
     "name": "stdout",
     "output_type": "stream",
     "text": [
      "Set parameter BestBdStop to value -3.6463283374654692e-01\n"
     ]
    },
    {
     "name": "stderr",
     "output_type": "stream",
     "text": [
      "2024-04-26 18:52:15 (INFO): Set parameter BestBdStop to value -3.6463283374654692e-01\n"
     ]
    },
    {
     "name": "stdout",
     "output_type": "stream",
     "text": [
      "Set parameter IntegralityFocus to value 1\n"
     ]
    },
    {
     "name": "stderr",
     "output_type": "stream",
     "text": [
      "2024-04-26 18:52:15 (INFO): Set parameter IntegralityFocus to value 1\n"
     ]
    },
    {
     "name": "stdout",
     "output_type": "stream",
     "text": [
      "Set parameter IntFeasTol to value 0.0001\n"
     ]
    },
    {
     "name": "stderr",
     "output_type": "stream",
     "text": [
      "2024-04-26 18:52:15 (INFO): Set parameter IntFeasTol to value 0.0001\n"
     ]
    },
    {
     "name": "stdout",
     "output_type": "stream",
     "text": [
      "Loaded user MIP start with objective -0.376329\n",
      "\n"
     ]
    },
    {
     "name": "stderr",
     "output_type": "stream",
     "text": [
      "2024-04-26 18:52:15 (INFO): Optimization status: 15\n",
      "2024-04-26 18:52:15 (INFO): Original -0.37633, Opt objective -0.37633, Opt bound: -0.36473, stop_obj: -0.3646328337465469\n"
     ]
    },
    {
     "name": "stdout",
     "output_type": "stream",
     "text": [
      "Warning for adding constraints: zero or small (< 1e-13) coefficients, ignored\n"
     ]
    },
    {
     "name": "stderr",
     "output_type": "stream",
     "text": [
      "2024-04-26 18:52:16 (INFO): Warning for adding constraints: zero or small (< 1e-13) coefficients, ignored\n"
     ]
    },
    {
     "name": "stdout",
     "output_type": "stream",
     "text": [
      "Set parameter BestObjStop to value -3.6463283374654692e-01\n"
     ]
    },
    {
     "name": "stderr",
     "output_type": "stream",
     "text": [
      "2024-04-26 18:52:16 (INFO): Set parameter BestObjStop to value -3.6463283374654692e-01\n"
     ]
    },
    {
     "name": "stdout",
     "output_type": "stream",
     "text": [
      "Set parameter BestBdStop to value -3.6463283374654692e-01\n"
     ]
    },
    {
     "name": "stderr",
     "output_type": "stream",
     "text": [
      "2024-04-26 18:52:16 (INFO): Set parameter BestBdStop to value -3.6463283374654692e-01\n"
     ]
    },
    {
     "name": "stdout",
     "output_type": "stream",
     "text": [
      "Set parameter IntegralityFocus to value 1\n"
     ]
    },
    {
     "name": "stderr",
     "output_type": "stream",
     "text": [
      "2024-04-26 18:52:16 (INFO): Set parameter IntegralityFocus to value 1\n"
     ]
    },
    {
     "name": "stdout",
     "output_type": "stream",
     "text": [
      "Set parameter IntFeasTol to value 0.0001\n"
     ]
    },
    {
     "name": "stderr",
     "output_type": "stream",
     "text": [
      "2024-04-26 18:52:16 (INFO): Set parameter IntFeasTol to value 0.0001\n"
     ]
    },
    {
     "name": "stdout",
     "output_type": "stream",
     "text": [
      "Loaded user MIP start with objective -0.3876\n",
      "\n"
     ]
    },
    {
     "name": "stderr",
     "output_type": "stream",
     "text": [
      "2024-04-26 18:52:16 (INFO): Optimization status: 15\n",
      "2024-04-26 18:52:16 (INFO): Original -0.38760, Opt objective -0.38760, Opt bound: -0.37601, stop_obj: -0.3646328337465469\n"
     ]
    },
    {
     "name": "stdout",
     "output_type": "stream",
     "text": [
      "Warning for adding constraints: zero or small (< 1e-13) coefficients, ignored\n"
     ]
    },
    {
     "name": "stderr",
     "output_type": "stream",
     "text": [
      "2024-04-26 18:52:17 (INFO): Warning for adding constraints: zero or small (< 1e-13) coefficients, ignored\n"
     ]
    },
    {
     "name": "stdout",
     "output_type": "stream",
     "text": [
      "Set parameter BestObjStop to value -3.6463283374654692e-01\n"
     ]
    },
    {
     "name": "stderr",
     "output_type": "stream",
     "text": [
      "2024-04-26 18:52:17 (INFO): Set parameter BestObjStop to value -3.6463283374654692e-01\n"
     ]
    },
    {
     "name": "stdout",
     "output_type": "stream",
     "text": [
      "Set parameter BestBdStop to value -3.6463283374654692e-01\n"
     ]
    },
    {
     "name": "stderr",
     "output_type": "stream",
     "text": [
      "2024-04-26 18:52:17 (INFO): Set parameter BestBdStop to value -3.6463283374654692e-01\n"
     ]
    },
    {
     "name": "stdout",
     "output_type": "stream",
     "text": [
      "Set parameter IntegralityFocus to value 1\n"
     ]
    },
    {
     "name": "stderr",
     "output_type": "stream",
     "text": [
      "2024-04-26 18:52:17 (INFO): Set parameter IntegralityFocus to value 1\n"
     ]
    },
    {
     "name": "stdout",
     "output_type": "stream",
     "text": [
      "Set parameter IntFeasTol to value 0.0001\n"
     ]
    },
    {
     "name": "stderr",
     "output_type": "stream",
     "text": [
      "2024-04-26 18:52:17 (INFO): Set parameter IntFeasTol to value 0.0001\n"
     ]
    },
    {
     "name": "stdout",
     "output_type": "stream",
     "text": [
      "Loaded user MIP start with objective -0.405133\n",
      "\n"
     ]
    },
    {
     "name": "stderr",
     "output_type": "stream",
     "text": [
      "2024-04-26 18:52:17 (INFO): Optimization status: 15\n",
      "2024-04-26 18:52:17 (INFO): Original -0.40513, Opt objective -0.40513, Opt bound: -0.39356, stop_obj: -0.3646328337465469\n"
     ]
    },
    {
     "name": "stdout",
     "output_type": "stream",
     "text": [
      "Warning for adding constraints: zero or small (< 1e-13) coefficients, ignored\n"
     ]
    },
    {
     "name": "stderr",
     "output_type": "stream",
     "text": [
      "2024-04-26 18:52:18 (INFO): Warning for adding constraints: zero or small (< 1e-13) coefficients, ignored\n"
     ]
    },
    {
     "name": "stdout",
     "output_type": "stream",
     "text": [
      "Set parameter BestObjStop to value -3.6463283374654692e-01\n"
     ]
    },
    {
     "name": "stderr",
     "output_type": "stream",
     "text": [
      "2024-04-26 18:52:18 (INFO): Set parameter BestObjStop to value -3.6463283374654692e-01\n"
     ]
    },
    {
     "name": "stdout",
     "output_type": "stream",
     "text": [
      "Set parameter BestBdStop to value -3.6463283374654692e-01\n"
     ]
    },
    {
     "name": "stderr",
     "output_type": "stream",
     "text": [
      "2024-04-26 18:52:18 (INFO): Set parameter BestBdStop to value -3.6463283374654692e-01\n"
     ]
    },
    {
     "name": "stdout",
     "output_type": "stream",
     "text": [
      "Set parameter IntegralityFocus to value 1\n"
     ]
    },
    {
     "name": "stderr",
     "output_type": "stream",
     "text": [
      "2024-04-26 18:52:18 (INFO): Set parameter IntegralityFocus to value 1\n"
     ]
    },
    {
     "name": "stdout",
     "output_type": "stream",
     "text": [
      "Set parameter IntFeasTol to value 0.0001\n"
     ]
    },
    {
     "name": "stderr",
     "output_type": "stream",
     "text": [
      "2024-04-26 18:52:18 (INFO): Set parameter IntFeasTol to value 0.0001\n"
     ]
    },
    {
     "name": "stdout",
     "output_type": "stream",
     "text": [
      "Loaded user MIP start with objective -0.405389\n",
      "\n"
     ]
    },
    {
     "name": "stderr",
     "output_type": "stream",
     "text": [
      "2024-04-26 18:52:19 (INFO): Optimization status: 15\n",
      "2024-04-26 18:52:19 (INFO): Original -0.40539, Opt objective -0.40539, Opt bound: -0.39388, stop_obj: -0.3646328337465469\n"
     ]
    },
    {
     "name": "stdout",
     "output_type": "stream",
     "text": [
      "Warning for adding constraints: zero or small (< 1e-13) coefficients, ignored\n"
     ]
    },
    {
     "name": "stderr",
     "output_type": "stream",
     "text": [
      "2024-04-26 18:52:20 (INFO): Warning for adding constraints: zero or small (< 1e-13) coefficients, ignored\n"
     ]
    },
    {
     "name": "stdout",
     "output_type": "stream",
     "text": [
      "Set parameter BestObjStop to value -3.6463283374654692e-01\n"
     ]
    },
    {
     "name": "stderr",
     "output_type": "stream",
     "text": [
      "2024-04-26 18:52:20 (INFO): Set parameter BestObjStop to value -3.6463283374654692e-01\n"
     ]
    },
    {
     "name": "stdout",
     "output_type": "stream",
     "text": [
      "Set parameter BestBdStop to value -3.6463283374654692e-01\n"
     ]
    },
    {
     "name": "stderr",
     "output_type": "stream",
     "text": [
      "2024-04-26 18:52:20 (INFO): Set parameter BestBdStop to value -3.6463283374654692e-01\n"
     ]
    },
    {
     "name": "stdout",
     "output_type": "stream",
     "text": [
      "Set parameter IntegralityFocus to value 1\n"
     ]
    },
    {
     "name": "stderr",
     "output_type": "stream",
     "text": [
      "2024-04-26 18:52:20 (INFO): Set parameter IntegralityFocus to value 1\n"
     ]
    },
    {
     "name": "stdout",
     "output_type": "stream",
     "text": [
      "Set parameter IntFeasTol to value 0.0001\n"
     ]
    },
    {
     "name": "stderr",
     "output_type": "stream",
     "text": [
      "2024-04-26 18:52:20 (INFO): Set parameter IntFeasTol to value 0.0001\n"
     ]
    },
    {
     "name": "stdout",
     "output_type": "stream",
     "text": [
      "Loaded user MIP start with objective -0.405809\n",
      "\n"
     ]
    },
    {
     "name": "stderr",
     "output_type": "stream",
     "text": [
      "2024-04-26 18:52:20 (INFO): Optimization status: 15\n",
      "2024-04-26 18:52:20 (INFO): Original -0.40581, Opt objective -0.40581, Opt bound: -0.39420, stop_obj: -0.3646328337465469\n"
     ]
    },
    {
     "name": "stdout",
     "output_type": "stream",
     "text": [
      "Warning for adding constraints: zero or small (< 1e-13) coefficients, ignored\n"
     ]
    },
    {
     "name": "stderr",
     "output_type": "stream",
     "text": [
      "2024-04-26 18:52:21 (INFO): Warning for adding constraints: zero or small (< 1e-13) coefficients, ignored\n"
     ]
    },
    {
     "name": "stdout",
     "output_type": "stream",
     "text": [
      "Set parameter BestObjStop to value -3.6463283374654692e-01\n"
     ]
    },
    {
     "name": "stderr",
     "output_type": "stream",
     "text": [
      "2024-04-26 18:52:21 (INFO): Set parameter BestObjStop to value -3.6463283374654692e-01\n"
     ]
    },
    {
     "name": "stdout",
     "output_type": "stream",
     "text": [
      "Set parameter BestBdStop to value -3.6463283374654692e-01\n"
     ]
    },
    {
     "name": "stderr",
     "output_type": "stream",
     "text": [
      "2024-04-26 18:52:21 (INFO): Set parameter BestBdStop to value -3.6463283374654692e-01\n"
     ]
    },
    {
     "name": "stdout",
     "output_type": "stream",
     "text": [
      "Set parameter IntegralityFocus to value 1\n"
     ]
    },
    {
     "name": "stderr",
     "output_type": "stream",
     "text": [
      "2024-04-26 18:52:21 (INFO): Set parameter IntegralityFocus to value 1\n"
     ]
    },
    {
     "name": "stdout",
     "output_type": "stream",
     "text": [
      "Set parameter IntFeasTol to value 0.0001\n"
     ]
    },
    {
     "name": "stderr",
     "output_type": "stream",
     "text": [
      "2024-04-26 18:52:21 (INFO): Set parameter IntFeasTol to value 0.0001\n"
     ]
    },
    {
     "name": "stdout",
     "output_type": "stream",
     "text": [
      "Loaded user MIP start with objective -0.409863\n",
      "\n"
     ]
    },
    {
     "name": "stderr",
     "output_type": "stream",
     "text": [
      "2024-04-26 18:52:21 (INFO): Optimization status: 15\n",
      "2024-04-26 18:52:21 (INFO): Original -0.40986, Opt objective -0.40986, Opt bound: -0.39832, stop_obj: -0.3646328337465469\n",
      "2024-04-26 18:52:21 (INFO): Robust count 1 out of 3\n"
     ]
    },
    {
     "name": "stdout",
     "output_type": "stream",
     "text": [
      "Warning for adding constraints: zero or small (< 1e-13) coefficients, ignored\n"
     ]
    },
    {
     "name": "stderr",
     "output_type": "stream",
     "text": [
      "2024-04-26 18:52:22 (INFO): Warning for adding constraints: zero or small (< 1e-13) coefficients, ignored\n"
     ]
    },
    {
     "name": "stdout",
     "output_type": "stream",
     "text": [
      "Set parameter IntegralityFocus to value 1\n"
     ]
    },
    {
     "name": "stderr",
     "output_type": "stream",
     "text": [
      "2024-04-26 18:52:22 (INFO): Set parameter IntegralityFocus to value 1\n"
     ]
    },
    {
     "name": "stdout",
     "output_type": "stream",
     "text": [
      "Set parameter IntFeasTol to value 0.0001\n"
     ]
    },
    {
     "name": "stderr",
     "output_type": "stream",
     "text": [
      "2024-04-26 18:52:22 (INFO): Set parameter IntFeasTol to value 0.0001\n"
     ]
    },
    {
     "name": "stdout",
     "output_type": "stream",
     "text": [
      "Loaded user MIP start with objective -0.219655\n",
      "\n"
     ]
    },
    {
     "name": "stderr",
     "output_type": "stream",
     "text": [
      "2024-04-26 18:52:22 (INFO): Optimization status: 2\n",
      "2024-04-26 18:52:22 (INFO): Original -0.21965, Opt objective -0.23311, Opt bound: -0.23311, stop_obj: None\n"
     ]
    },
    {
     "name": "stdout",
     "output_type": "stream",
     "text": [
      "Warning for adding constraints: zero or small (< 1e-13) coefficients, ignored\n"
     ]
    },
    {
     "name": "stderr",
     "output_type": "stream",
     "text": [
      "2024-04-26 18:52:23 (INFO): Warning for adding constraints: zero or small (< 1e-13) coefficients, ignored\n"
     ]
    },
    {
     "name": "stdout",
     "output_type": "stream",
     "text": [
      "Set parameter BestObjStop to value -2.3311458943524382e-01\n"
     ]
    },
    {
     "name": "stderr",
     "output_type": "stream",
     "text": [
      "2024-04-26 18:52:23 (INFO): Set parameter BestObjStop to value -2.3311458943524382e-01\n"
     ]
    },
    {
     "name": "stdout",
     "output_type": "stream",
     "text": [
      "Set parameter BestBdStop to value -2.3311458943524382e-01\n"
     ]
    },
    {
     "name": "stderr",
     "output_type": "stream",
     "text": [
      "2024-04-26 18:52:23 (INFO): Set parameter BestBdStop to value -2.3311458943524382e-01\n"
     ]
    },
    {
     "name": "stdout",
     "output_type": "stream",
     "text": [
      "Set parameter IntegralityFocus to value 1\n"
     ]
    },
    {
     "name": "stderr",
     "output_type": "stream",
     "text": [
      "2024-04-26 18:52:23 (INFO): Set parameter IntegralityFocus to value 1\n"
     ]
    },
    {
     "name": "stdout",
     "output_type": "stream",
     "text": [
      "Set parameter IntFeasTol to value 0.0001\n"
     ]
    },
    {
     "name": "stderr",
     "output_type": "stream",
     "text": [
      "2024-04-26 18:52:23 (INFO): Set parameter IntFeasTol to value 0.0001\n"
     ]
    },
    {
     "name": "stdout",
     "output_type": "stream",
     "text": [
      "Loaded user MIP start with objective -0.258462\n",
      "\n"
     ]
    },
    {
     "name": "stderr",
     "output_type": "stream",
     "text": [
      "2024-04-26 18:52:24 (INFO): Optimization status: 15\n",
      "2024-04-26 18:52:24 (INFO): Original -0.25846, Opt objective -0.25846, Opt bound: -0.24560, stop_obj: -0.23311458943524382\n"
     ]
    },
    {
     "name": "stdout",
     "output_type": "stream",
     "text": [
      "Warning for adding constraints: zero or small (< 1e-13) coefficients, ignored\n"
     ]
    },
    {
     "name": "stderr",
     "output_type": "stream",
     "text": [
      "2024-04-26 18:52:25 (INFO): Warning for adding constraints: zero or small (< 1e-13) coefficients, ignored\n"
     ]
    },
    {
     "name": "stdout",
     "output_type": "stream",
     "text": [
      "Set parameter BestObjStop to value -2.3311458943524382e-01\n"
     ]
    },
    {
     "name": "stderr",
     "output_type": "stream",
     "text": [
      "2024-04-26 18:52:25 (INFO): Set parameter BestObjStop to value -2.3311458943524382e-01\n"
     ]
    },
    {
     "name": "stdout",
     "output_type": "stream",
     "text": [
      "Set parameter BestBdStop to value -2.3311458943524382e-01\n"
     ]
    },
    {
     "name": "stderr",
     "output_type": "stream",
     "text": [
      "2024-04-26 18:52:25 (INFO): Set parameter BestBdStop to value -2.3311458943524382e-01\n"
     ]
    },
    {
     "name": "stdout",
     "output_type": "stream",
     "text": [
      "Set parameter IntegralityFocus to value 1\n"
     ]
    },
    {
     "name": "stderr",
     "output_type": "stream",
     "text": [
      "2024-04-26 18:52:25 (INFO): Set parameter IntegralityFocus to value 1\n"
     ]
    },
    {
     "name": "stdout",
     "output_type": "stream",
     "text": [
      "Set parameter IntFeasTol to value 0.0001\n"
     ]
    },
    {
     "name": "stderr",
     "output_type": "stream",
     "text": [
      "2024-04-26 18:52:25 (INFO): Set parameter IntFeasTol to value 0.0001\n"
     ]
    },
    {
     "name": "stdout",
     "output_type": "stream",
     "text": [
      "Loaded user MIP start with objective -0.259953\n",
      "\n"
     ]
    },
    {
     "name": "stderr",
     "output_type": "stream",
     "text": [
      "2024-04-26 18:52:25 (INFO): Optimization status: 15\n",
      "2024-04-26 18:52:25 (INFO): Original -0.25995, Opt objective -0.25995, Opt bound: -0.24705, stop_obj: -0.23311458943524382\n"
     ]
    },
    {
     "name": "stdout",
     "output_type": "stream",
     "text": [
      "Warning for adding constraints: zero or small (< 1e-13) coefficients, ignored\n"
     ]
    },
    {
     "name": "stderr",
     "output_type": "stream",
     "text": [
      "2024-04-26 18:52:26 (INFO): Warning for adding constraints: zero or small (< 1e-13) coefficients, ignored\n"
     ]
    },
    {
     "name": "stdout",
     "output_type": "stream",
     "text": [
      "Set parameter BestObjStop to value -2.3311458943524382e-01\n"
     ]
    },
    {
     "name": "stderr",
     "output_type": "stream",
     "text": [
      "2024-04-26 18:52:26 (INFO): Set parameter BestObjStop to value -2.3311458943524382e-01\n"
     ]
    },
    {
     "name": "stdout",
     "output_type": "stream",
     "text": [
      "Set parameter BestBdStop to value -2.3311458943524382e-01\n"
     ]
    },
    {
     "name": "stderr",
     "output_type": "stream",
     "text": [
      "2024-04-26 18:52:26 (INFO): Set parameter BestBdStop to value -2.3311458943524382e-01\n"
     ]
    },
    {
     "name": "stdout",
     "output_type": "stream",
     "text": [
      "Set parameter IntegralityFocus to value 1\n"
     ]
    },
    {
     "name": "stderr",
     "output_type": "stream",
     "text": [
      "2024-04-26 18:52:26 (INFO): Set parameter IntegralityFocus to value 1\n"
     ]
    },
    {
     "name": "stdout",
     "output_type": "stream",
     "text": [
      "Set parameter IntFeasTol to value 0.0001\n"
     ]
    },
    {
     "name": "stderr",
     "output_type": "stream",
     "text": [
      "2024-04-26 18:52:26 (INFO): Set parameter IntFeasTol to value 0.0001\n"
     ]
    },
    {
     "name": "stdout",
     "output_type": "stream",
     "text": [
      "Loaded user MIP start with objective -0.260476\n",
      "\n"
     ]
    },
    {
     "name": "stderr",
     "output_type": "stream",
     "text": [
      "2024-04-26 18:52:26 (INFO): Optimization status: 15\n",
      "2024-04-26 18:52:26 (INFO): Original -0.26048, Opt objective -0.26048, Opt bound: -0.24758, stop_obj: -0.23311458943524382\n"
     ]
    },
    {
     "name": "stdout",
     "output_type": "stream",
     "text": [
      "Warning for adding constraints: zero or small (< 1e-13) coefficients, ignored\n"
     ]
    },
    {
     "name": "stderr",
     "output_type": "stream",
     "text": [
      "2024-04-26 18:52:27 (INFO): Warning for adding constraints: zero or small (< 1e-13) coefficients, ignored\n"
     ]
    },
    {
     "name": "stdout",
     "output_type": "stream",
     "text": [
      "Set parameter BestObjStop to value -2.3311458943524382e-01\n"
     ]
    },
    {
     "name": "stderr",
     "output_type": "stream",
     "text": [
      "2024-04-26 18:52:27 (INFO): Set parameter BestObjStop to value -2.3311458943524382e-01\n"
     ]
    },
    {
     "name": "stdout",
     "output_type": "stream",
     "text": [
      "Set parameter BestBdStop to value -2.3311458943524382e-01\n"
     ]
    },
    {
     "name": "stderr",
     "output_type": "stream",
     "text": [
      "2024-04-26 18:52:27 (INFO): Set parameter BestBdStop to value -2.3311458943524382e-01\n"
     ]
    },
    {
     "name": "stdout",
     "output_type": "stream",
     "text": [
      "Set parameter IntegralityFocus to value 1\n"
     ]
    },
    {
     "name": "stderr",
     "output_type": "stream",
     "text": [
      "2024-04-26 18:52:27 (INFO): Set parameter IntegralityFocus to value 1\n"
     ]
    },
    {
     "name": "stdout",
     "output_type": "stream",
     "text": [
      "Set parameter IntFeasTol to value 0.0001\n"
     ]
    },
    {
     "name": "stderr",
     "output_type": "stream",
     "text": [
      "2024-04-26 18:52:27 (INFO): Set parameter IntFeasTol to value 0.0001\n"
     ]
    },
    {
     "name": "stdout",
     "output_type": "stream",
     "text": [
      "Loaded user MIP start with objective -0.264086\n",
      "\n"
     ]
    },
    {
     "name": "stderr",
     "output_type": "stream",
     "text": [
      "2024-04-26 18:52:27 (INFO): Optimization status: 15\n",
      "2024-04-26 18:52:27 (INFO): Original -0.26409, Opt objective -0.26409, Opt bound: -0.25116, stop_obj: -0.23311458943524382\n"
     ]
    },
    {
     "name": "stdout",
     "output_type": "stream",
     "text": [
      "Warning for adding constraints: zero or small (< 1e-13) coefficients, ignored\n"
     ]
    },
    {
     "name": "stderr",
     "output_type": "stream",
     "text": [
      "2024-04-26 18:52:28 (INFO): Warning for adding constraints: zero or small (< 1e-13) coefficients, ignored\n"
     ]
    },
    {
     "name": "stdout",
     "output_type": "stream",
     "text": [
      "Set parameter BestObjStop to value -2.3311458943524382e-01\n"
     ]
    },
    {
     "name": "stderr",
     "output_type": "stream",
     "text": [
      "2024-04-26 18:52:28 (INFO): Set parameter BestObjStop to value -2.3311458943524382e-01\n"
     ]
    },
    {
     "name": "stdout",
     "output_type": "stream",
     "text": [
      "Set parameter BestBdStop to value -2.3311458943524382e-01\n"
     ]
    },
    {
     "name": "stderr",
     "output_type": "stream",
     "text": [
      "2024-04-26 18:52:28 (INFO): Set parameter BestBdStop to value -2.3311458943524382e-01\n"
     ]
    },
    {
     "name": "stdout",
     "output_type": "stream",
     "text": [
      "Set parameter IntegralityFocus to value 1\n"
     ]
    },
    {
     "name": "stderr",
     "output_type": "stream",
     "text": [
      "2024-04-26 18:52:28 (INFO): Set parameter IntegralityFocus to value 1\n"
     ]
    },
    {
     "name": "stdout",
     "output_type": "stream",
     "text": [
      "Set parameter IntFeasTol to value 0.0001\n"
     ]
    },
    {
     "name": "stderr",
     "output_type": "stream",
     "text": [
      "2024-04-26 18:52:28 (INFO): Set parameter IntFeasTol to value 0.0001\n"
     ]
    },
    {
     "name": "stdout",
     "output_type": "stream",
     "text": [
      "Loaded user MIP start with objective -0.267763\n",
      "\n"
     ]
    },
    {
     "name": "stderr",
     "output_type": "stream",
     "text": [
      "2024-04-26 18:52:28 (INFO): Optimization status: 15\n",
      "2024-04-26 18:52:28 (INFO): Original -0.26776, Opt objective -0.26776, Opt bound: -0.25493, stop_obj: -0.23311458943524382\n"
     ]
    },
    {
     "name": "stdout",
     "output_type": "stream",
     "text": [
      "Warning for adding constraints: zero or small (< 1e-13) coefficients, ignored\n"
     ]
    },
    {
     "name": "stderr",
     "output_type": "stream",
     "text": [
      "2024-04-26 18:52:29 (INFO): Warning for adding constraints: zero or small (< 1e-13) coefficients, ignored\n"
     ]
    },
    {
     "name": "stdout",
     "output_type": "stream",
     "text": [
      "Set parameter BestObjStop to value -2.3311458943524382e-01\n"
     ]
    },
    {
     "name": "stderr",
     "output_type": "stream",
     "text": [
      "2024-04-26 18:52:29 (INFO): Set parameter BestObjStop to value -2.3311458943524382e-01\n"
     ]
    },
    {
     "name": "stdout",
     "output_type": "stream",
     "text": [
      "Set parameter BestBdStop to value -2.3311458943524382e-01\n"
     ]
    },
    {
     "name": "stderr",
     "output_type": "stream",
     "text": [
      "2024-04-26 18:52:29 (INFO): Set parameter BestBdStop to value -2.3311458943524382e-01\n"
     ]
    },
    {
     "name": "stdout",
     "output_type": "stream",
     "text": [
      "Set parameter IntegralityFocus to value 1\n"
     ]
    },
    {
     "name": "stderr",
     "output_type": "stream",
     "text": [
      "2024-04-26 18:52:29 (INFO): Set parameter IntegralityFocus to value 1\n"
     ]
    },
    {
     "name": "stdout",
     "output_type": "stream",
     "text": [
      "Set parameter IntFeasTol to value 0.0001\n"
     ]
    },
    {
     "name": "stderr",
     "output_type": "stream",
     "text": [
      "2024-04-26 18:52:29 (INFO): Set parameter IntFeasTol to value 0.0001\n"
     ]
    },
    {
     "name": "stdout",
     "output_type": "stream",
     "text": [
      "Loaded user MIP start with objective -0.26903\n",
      "\n"
     ]
    },
    {
     "name": "stderr",
     "output_type": "stream",
     "text": [
      "2024-04-26 18:52:30 (INFO): Optimization status: 15\n",
      "2024-04-26 18:52:30 (INFO): Original -0.26903, Opt objective -0.26903, Opt bound: -0.25616, stop_obj: -0.23311458943524382\n",
      "2024-04-26 18:52:30 (INFO): Robust count 2 out of 4\n"
     ]
    },
    {
     "name": "stdout",
     "output_type": "stream",
     "text": [
      "Warning for adding constraints: zero or small (< 1e-13) coefficients, ignored\n"
     ]
    },
    {
     "name": "stderr",
     "output_type": "stream",
     "text": [
      "2024-04-26 18:52:31 (INFO): Warning for adding constraints: zero or small (< 1e-13) coefficients, ignored\n"
     ]
    },
    {
     "name": "stdout",
     "output_type": "stream",
     "text": [
      "Set parameter IntegralityFocus to value 1\n"
     ]
    },
    {
     "name": "stderr",
     "output_type": "stream",
     "text": [
      "2024-04-26 18:52:31 (INFO): Set parameter IntegralityFocus to value 1\n"
     ]
    },
    {
     "name": "stdout",
     "output_type": "stream",
     "text": [
      "Set parameter IntFeasTol to value 0.0001\n"
     ]
    },
    {
     "name": "stderr",
     "output_type": "stream",
     "text": [
      "2024-04-26 18:52:31 (INFO): Set parameter IntFeasTol to value 0.0001\n"
     ]
    },
    {
     "name": "stdout",
     "output_type": "stream",
     "text": [
      "Loaded user MIP start with objective -0.261074\n",
      "\n"
     ]
    },
    {
     "name": "stderr",
     "output_type": "stream",
     "text": [
      "2024-04-26 18:52:31 (INFO): Optimization status: 2\n",
      "2024-04-26 18:52:31 (INFO): Original -0.26107, Opt objective -0.26875, Opt bound: -0.26875, stop_obj: None\n"
     ]
    },
    {
     "name": "stdout",
     "output_type": "stream",
     "text": [
      "Warning for adding constraints: zero or small (< 1e-13) coefficients, ignored\n"
     ]
    },
    {
     "name": "stderr",
     "output_type": "stream",
     "text": [
      "2024-04-26 18:52:32 (INFO): Warning for adding constraints: zero or small (< 1e-13) coefficients, ignored\n"
     ]
    },
    {
     "name": "stdout",
     "output_type": "stream",
     "text": [
      "Set parameter BestObjStop to value -2.6875022269746474e-01\n"
     ]
    },
    {
     "name": "stderr",
     "output_type": "stream",
     "text": [
      "2024-04-26 18:52:32 (INFO): Set parameter BestObjStop to value -2.6875022269746474e-01\n"
     ]
    },
    {
     "name": "stdout",
     "output_type": "stream",
     "text": [
      "Set parameter BestBdStop to value -2.6875022269746474e-01\n"
     ]
    },
    {
     "name": "stderr",
     "output_type": "stream",
     "text": [
      "2024-04-26 18:52:32 (INFO): Set parameter BestBdStop to value -2.6875022269746474e-01\n"
     ]
    },
    {
     "name": "stdout",
     "output_type": "stream",
     "text": [
      "Set parameter IntegralityFocus to value 1\n"
     ]
    },
    {
     "name": "stderr",
     "output_type": "stream",
     "text": [
      "2024-04-26 18:52:32 (INFO): Set parameter IntegralityFocus to value 1\n"
     ]
    },
    {
     "name": "stdout",
     "output_type": "stream",
     "text": [
      "Set parameter IntFeasTol to value 0.0001\n"
     ]
    },
    {
     "name": "stderr",
     "output_type": "stream",
     "text": [
      "2024-04-26 18:52:32 (INFO): Set parameter IntFeasTol to value 0.0001\n"
     ]
    },
    {
     "name": "stdout",
     "output_type": "stream",
     "text": [
      "Loaded user MIP start with objective -0.295578\n",
      "\n"
     ]
    },
    {
     "name": "stderr",
     "output_type": "stream",
     "text": [
      "2024-04-26 18:52:32 (INFO): Optimization status: 15\n",
      "2024-04-26 18:52:32 (INFO): Original -0.29558, Opt objective -0.29558, Opt bound: -0.28832, stop_obj: -0.26875022269746474\n"
     ]
    },
    {
     "name": "stdout",
     "output_type": "stream",
     "text": [
      "Warning for adding constraints: zero or small (< 1e-13) coefficients, ignored\n"
     ]
    },
    {
     "name": "stderr",
     "output_type": "stream",
     "text": [
      "2024-04-26 18:52:33 (INFO): Warning for adding constraints: zero or small (< 1e-13) coefficients, ignored\n"
     ]
    },
    {
     "name": "stdout",
     "output_type": "stream",
     "text": [
      "Set parameter BestObjStop to value -2.6875022269746474e-01\n"
     ]
    },
    {
     "name": "stderr",
     "output_type": "stream",
     "text": [
      "2024-04-26 18:52:33 (INFO): Set parameter BestObjStop to value -2.6875022269746474e-01\n"
     ]
    },
    {
     "name": "stdout",
     "output_type": "stream",
     "text": [
      "Set parameter BestBdStop to value -2.6875022269746474e-01\n"
     ]
    },
    {
     "name": "stderr",
     "output_type": "stream",
     "text": [
      "2024-04-26 18:52:33 (INFO): Set parameter BestBdStop to value -2.6875022269746474e-01\n"
     ]
    },
    {
     "name": "stdout",
     "output_type": "stream",
     "text": [
      "Set parameter IntegralityFocus to value 1\n"
     ]
    },
    {
     "name": "stderr",
     "output_type": "stream",
     "text": [
      "2024-04-26 18:52:33 (INFO): Set parameter IntegralityFocus to value 1\n"
     ]
    },
    {
     "name": "stdout",
     "output_type": "stream",
     "text": [
      "Set parameter IntFeasTol to value 0.0001\n"
     ]
    },
    {
     "name": "stderr",
     "output_type": "stream",
     "text": [
      "2024-04-26 18:52:33 (INFO): Set parameter IntFeasTol to value 0.0001\n"
     ]
    },
    {
     "name": "stdout",
     "output_type": "stream",
     "text": [
      "Loaded user MIP start with objective -0.299491\n",
      "\n"
     ]
    },
    {
     "name": "stderr",
     "output_type": "stream",
     "text": [
      "2024-04-26 18:52:34 (INFO): Optimization status: 15\n",
      "2024-04-26 18:52:34 (INFO): Original -0.29949, Opt objective -0.29949, Opt bound: -0.29220, stop_obj: -0.26875022269746474\n"
     ]
    },
    {
     "name": "stdout",
     "output_type": "stream",
     "text": [
      "Warning for adding constraints: zero or small (< 1e-13) coefficients, ignored\n"
     ]
    },
    {
     "name": "stderr",
     "output_type": "stream",
     "text": [
      "2024-04-26 18:52:35 (INFO): Warning for adding constraints: zero or small (< 1e-13) coefficients, ignored\n"
     ]
    },
    {
     "name": "stdout",
     "output_type": "stream",
     "text": [
      "Set parameter BestObjStop to value -2.6875022269746474e-01\n"
     ]
    },
    {
     "name": "stderr",
     "output_type": "stream",
     "text": [
      "2024-04-26 18:52:35 (INFO): Set parameter BestObjStop to value -2.6875022269746474e-01\n"
     ]
    },
    {
     "name": "stdout",
     "output_type": "stream",
     "text": [
      "Set parameter BestBdStop to value -2.6875022269746474e-01\n"
     ]
    },
    {
     "name": "stderr",
     "output_type": "stream",
     "text": [
      "2024-04-26 18:52:35 (INFO): Set parameter BestBdStop to value -2.6875022269746474e-01\n"
     ]
    },
    {
     "name": "stdout",
     "output_type": "stream",
     "text": [
      "Set parameter IntegralityFocus to value 1\n"
     ]
    },
    {
     "name": "stderr",
     "output_type": "stream",
     "text": [
      "2024-04-26 18:52:35 (INFO): Set parameter IntegralityFocus to value 1\n"
     ]
    },
    {
     "name": "stdout",
     "output_type": "stream",
     "text": [
      "Set parameter IntFeasTol to value 0.0001\n"
     ]
    },
    {
     "name": "stderr",
     "output_type": "stream",
     "text": [
      "2024-04-26 18:52:35 (INFO): Set parameter IntFeasTol to value 0.0001\n"
     ]
    },
    {
     "name": "stdout",
     "output_type": "stream",
     "text": [
      "Loaded user MIP start with objective -0.305519\n",
      "\n"
     ]
    },
    {
     "name": "stderr",
     "output_type": "stream",
     "text": [
      "2024-04-26 18:52:35 (INFO): Optimization status: 15\n",
      "2024-04-26 18:52:35 (INFO): Original -0.30552, Opt objective -0.30552, Opt bound: -0.29826, stop_obj: -0.26875022269746474\n"
     ]
    },
    {
     "name": "stdout",
     "output_type": "stream",
     "text": [
      "Warning for adding constraints: zero or small (< 1e-13) coefficients, ignored\n"
     ]
    },
    {
     "name": "stderr",
     "output_type": "stream",
     "text": [
      "2024-04-26 18:52:36 (INFO): Warning for adding constraints: zero or small (< 1e-13) coefficients, ignored\n"
     ]
    },
    {
     "name": "stdout",
     "output_type": "stream",
     "text": [
      "Set parameter BestObjStop to value -2.6875022269746474e-01\n"
     ]
    },
    {
     "name": "stderr",
     "output_type": "stream",
     "text": [
      "2024-04-26 18:52:36 (INFO): Set parameter BestObjStop to value -2.6875022269746474e-01\n"
     ]
    },
    {
     "name": "stdout",
     "output_type": "stream",
     "text": [
      "Set parameter BestBdStop to value -2.6875022269746474e-01\n"
     ]
    },
    {
     "name": "stderr",
     "output_type": "stream",
     "text": [
      "2024-04-26 18:52:36 (INFO): Set parameter BestBdStop to value -2.6875022269746474e-01\n"
     ]
    },
    {
     "name": "stdout",
     "output_type": "stream",
     "text": [
      "Set parameter IntegralityFocus to value 1\n"
     ]
    },
    {
     "name": "stderr",
     "output_type": "stream",
     "text": [
      "2024-04-26 18:52:36 (INFO): Set parameter IntegralityFocus to value 1\n"
     ]
    },
    {
     "name": "stdout",
     "output_type": "stream",
     "text": [
      "Set parameter IntFeasTol to value 0.0001\n"
     ]
    },
    {
     "name": "stderr",
     "output_type": "stream",
     "text": [
      "2024-04-26 18:52:36 (INFO): Set parameter IntFeasTol to value 0.0001\n"
     ]
    },
    {
     "name": "stdout",
     "output_type": "stream",
     "text": [
      "Loaded user MIP start with objective -0.307983\n",
      "\n"
     ]
    },
    {
     "name": "stderr",
     "output_type": "stream",
     "text": [
      "2024-04-26 18:52:36 (INFO): Optimization status: 15\n",
      "2024-04-26 18:52:36 (INFO): Original -0.30798, Opt objective -0.30798, Opt bound: -0.30069, stop_obj: -0.26875022269746474\n"
     ]
    },
    {
     "name": "stdout",
     "output_type": "stream",
     "text": [
      "Warning for adding constraints: zero or small (< 1e-13) coefficients, ignored\n"
     ]
    },
    {
     "name": "stderr",
     "output_type": "stream",
     "text": [
      "2024-04-26 18:52:38 (INFO): Warning for adding constraints: zero or small (< 1e-13) coefficients, ignored\n"
     ]
    },
    {
     "name": "stdout",
     "output_type": "stream",
     "text": [
      "Set parameter BestObjStop to value -2.6875022269746474e-01\n"
     ]
    },
    {
     "name": "stderr",
     "output_type": "stream",
     "text": [
      "2024-04-26 18:52:38 (INFO): Set parameter BestObjStop to value -2.6875022269746474e-01\n"
     ]
    },
    {
     "name": "stdout",
     "output_type": "stream",
     "text": [
      "Set parameter BestBdStop to value -2.6875022269746474e-01\n"
     ]
    },
    {
     "name": "stderr",
     "output_type": "stream",
     "text": [
      "2024-04-26 18:52:38 (INFO): Set parameter BestBdStop to value -2.6875022269746474e-01\n"
     ]
    },
    {
     "name": "stdout",
     "output_type": "stream",
     "text": [
      "Set parameter IntegralityFocus to value 1\n"
     ]
    },
    {
     "name": "stderr",
     "output_type": "stream",
     "text": [
      "2024-04-26 18:52:38 (INFO): Set parameter IntegralityFocus to value 1\n"
     ]
    },
    {
     "name": "stdout",
     "output_type": "stream",
     "text": [
      "Set parameter IntFeasTol to value 0.0001\n"
     ]
    },
    {
     "name": "stderr",
     "output_type": "stream",
     "text": [
      "2024-04-26 18:52:38 (INFO): Set parameter IntFeasTol to value 0.0001\n"
     ]
    },
    {
     "name": "stdout",
     "output_type": "stream",
     "text": [
      "Loaded user MIP start with objective -0.309032\n",
      "\n"
     ]
    },
    {
     "name": "stderr",
     "output_type": "stream",
     "text": [
      "2024-04-26 18:52:38 (INFO): Optimization status: 15\n",
      "2024-04-26 18:52:38 (INFO): Original -0.30903, Opt objective -0.30903, Opt bound: -0.30172, stop_obj: -0.26875022269746474\n"
     ]
    },
    {
     "name": "stdout",
     "output_type": "stream",
     "text": [
      "Warning for adding constraints: zero or small (< 1e-13) coefficients, ignored\n"
     ]
    },
    {
     "name": "stderr",
     "output_type": "stream",
     "text": [
      "2024-04-26 18:52:39 (INFO): Warning for adding constraints: zero or small (< 1e-13) coefficients, ignored\n"
     ]
    },
    {
     "name": "stdout",
     "output_type": "stream",
     "text": [
      "Set parameter BestObjStop to value -2.6875022269746474e-01\n"
     ]
    },
    {
     "name": "stderr",
     "output_type": "stream",
     "text": [
      "2024-04-26 18:52:39 (INFO): Set parameter BestObjStop to value -2.6875022269746474e-01\n"
     ]
    },
    {
     "name": "stdout",
     "output_type": "stream",
     "text": [
      "Set parameter BestBdStop to value -2.6875022269746474e-01\n"
     ]
    },
    {
     "name": "stderr",
     "output_type": "stream",
     "text": [
      "2024-04-26 18:52:39 (INFO): Set parameter BestBdStop to value -2.6875022269746474e-01\n"
     ]
    },
    {
     "name": "stdout",
     "output_type": "stream",
     "text": [
      "Set parameter IntegralityFocus to value 1\n"
     ]
    },
    {
     "name": "stderr",
     "output_type": "stream",
     "text": [
      "2024-04-26 18:52:39 (INFO): Set parameter IntegralityFocus to value 1\n"
     ]
    },
    {
     "name": "stdout",
     "output_type": "stream",
     "text": [
      "Set parameter IntFeasTol to value 0.0001\n"
     ]
    },
    {
     "name": "stderr",
     "output_type": "stream",
     "text": [
      "2024-04-26 18:52:39 (INFO): Set parameter IntFeasTol to value 0.0001\n"
     ]
    },
    {
     "name": "stdout",
     "output_type": "stream",
     "text": [
      "Loaded user MIP start with objective -0.314437\n",
      "\n"
     ]
    },
    {
     "name": "stderr",
     "output_type": "stream",
     "text": [
      "2024-04-26 18:52:39 (INFO): Optimization status: 15\n",
      "2024-04-26 18:52:39 (INFO): Original -0.31444, Opt objective -0.31444, Opt bound: -0.30716, stop_obj: -0.26875022269746474\n",
      "2024-04-26 18:52:39 (INFO): Robust count 3 out of 5\n"
     ]
    },
    {
     "name": "stdout",
     "output_type": "stream",
     "text": [
      "Warning for adding constraints: zero or small (< 1e-13) coefficients, ignored\n"
     ]
    },
    {
     "name": "stderr",
     "output_type": "stream",
     "text": [
      "2024-04-26 18:52:40 (INFO): Warning for adding constraints: zero or small (< 1e-13) coefficients, ignored\n"
     ]
    },
    {
     "name": "stdout",
     "output_type": "stream",
     "text": [
      "Set parameter IntegralityFocus to value 1\n"
     ]
    },
    {
     "name": "stderr",
     "output_type": "stream",
     "text": [
      "2024-04-26 18:52:40 (INFO): Set parameter IntegralityFocus to value 1\n"
     ]
    },
    {
     "name": "stdout",
     "output_type": "stream",
     "text": [
      "Set parameter IntFeasTol to value 0.0001\n"
     ]
    },
    {
     "name": "stderr",
     "output_type": "stream",
     "text": [
      "2024-04-26 18:52:40 (INFO): Set parameter IntFeasTol to value 0.0001\n"
     ]
    },
    {
     "name": "stdout",
     "output_type": "stream",
     "text": [
      "Loaded user MIP start with objective -0.257907\n",
      "\n"
     ]
    },
    {
     "name": "stderr",
     "output_type": "stream",
     "text": [
      "2024-04-26 18:52:40 (INFO): Optimization status: 2\n",
      "2024-04-26 18:52:40 (INFO): Original -0.25791, Opt objective -0.29148, Opt bound: -0.29148, stop_obj: None\n"
     ]
    },
    {
     "name": "stdout",
     "output_type": "stream",
     "text": [
      "Warning for adding constraints: zero or small (< 1e-13) coefficients, ignored\n"
     ]
    },
    {
     "name": "stderr",
     "output_type": "stream",
     "text": [
      "2024-04-26 18:52:42 (INFO): Warning for adding constraints: zero or small (< 1e-13) coefficients, ignored\n"
     ]
    },
    {
     "name": "stdout",
     "output_type": "stream",
     "text": [
      "Set parameter BestObjStop to value -0.29148104368205\n"
     ]
    },
    {
     "name": "stderr",
     "output_type": "stream",
     "text": [
      "2024-04-26 18:52:42 (INFO): Set parameter BestObjStop to value -0.29148104368205\n"
     ]
    },
    {
     "name": "stdout",
     "output_type": "stream",
     "text": [
      "Set parameter BestBdStop to value -0.29148104368205\n"
     ]
    },
    {
     "name": "stderr",
     "output_type": "stream",
     "text": [
      "2024-04-26 18:52:42 (INFO): Set parameter BestBdStop to value -0.29148104368205\n"
     ]
    },
    {
     "name": "stdout",
     "output_type": "stream",
     "text": [
      "Set parameter IntegralityFocus to value 1\n"
     ]
    },
    {
     "name": "stderr",
     "output_type": "stream",
     "text": [
      "2024-04-26 18:52:42 (INFO): Set parameter IntegralityFocus to value 1\n"
     ]
    },
    {
     "name": "stdout",
     "output_type": "stream",
     "text": [
      "Set parameter IntFeasTol to value 0.0001\n"
     ]
    },
    {
     "name": "stderr",
     "output_type": "stream",
     "text": [
      "2024-04-26 18:52:42 (INFO): Set parameter IntFeasTol to value 0.0001\n"
     ]
    },
    {
     "name": "stdout",
     "output_type": "stream",
     "text": [
      "Loaded user MIP start with objective -0.293213\n",
      "\n"
     ]
    },
    {
     "name": "stderr",
     "output_type": "stream",
     "text": [
      "2024-04-26 18:52:42 (INFO): Optimization status: 2\n",
      "2024-04-26 18:52:42 (INFO): Original -0.29321, Opt objective -0.26190, Opt bound: -0.26190, stop_obj: -0.29148104368205\n",
      "2024-04-26 18:52:42 (INFO): Robust count 3 out of 6\n"
     ]
    },
    {
     "name": "stdout",
     "output_type": "stream",
     "text": [
      "Warning for adding constraints: zero or small (< 1e-13) coefficients, ignored\n"
     ]
    },
    {
     "name": "stderr",
     "output_type": "stream",
     "text": [
      "2024-04-26 18:52:43 (INFO): Warning for adding constraints: zero or small (< 1e-13) coefficients, ignored\n"
     ]
    },
    {
     "name": "stdout",
     "output_type": "stream",
     "text": [
      "Set parameter IntegralityFocus to value 1\n"
     ]
    },
    {
     "name": "stderr",
     "output_type": "stream",
     "text": [
      "2024-04-26 18:52:43 (INFO): Set parameter IntegralityFocus to value 1\n"
     ]
    },
    {
     "name": "stdout",
     "output_type": "stream",
     "text": [
      "Set parameter IntFeasTol to value 0.0001\n"
     ]
    },
    {
     "name": "stderr",
     "output_type": "stream",
     "text": [
      "2024-04-26 18:52:43 (INFO): Set parameter IntFeasTol to value 0.0001\n"
     ]
    },
    {
     "name": "stdout",
     "output_type": "stream",
     "text": [
      "Loaded user MIP start with objective -0.302823\n",
      "\n"
     ]
    },
    {
     "name": "stderr",
     "output_type": "stream",
     "text": [
      "2024-04-26 18:52:43 (INFO): Optimization status: 2\n",
      "2024-04-26 18:52:43 (INFO): Original -0.30282, Opt objective -0.31555, Opt bound: -0.31555, stop_obj: None\n"
     ]
    },
    {
     "name": "stdout",
     "output_type": "stream",
     "text": [
      "Warning for adding constraints: zero or small (< 1e-13) coefficients, ignored\n"
     ]
    },
    {
     "name": "stderr",
     "output_type": "stream",
     "text": [
      "2024-04-26 18:52:44 (INFO): Warning for adding constraints: zero or small (< 1e-13) coefficients, ignored\n"
     ]
    },
    {
     "name": "stdout",
     "output_type": "stream",
     "text": [
      "Set parameter BestObjStop to value -3.1555317899105750e-01\n"
     ]
    },
    {
     "name": "stderr",
     "output_type": "stream",
     "text": [
      "2024-04-26 18:52:44 (INFO): Set parameter BestObjStop to value -3.1555317899105750e-01\n"
     ]
    },
    {
     "name": "stdout",
     "output_type": "stream",
     "text": [
      "Set parameter BestBdStop to value -3.1555317899105750e-01\n"
     ]
    },
    {
     "name": "stderr",
     "output_type": "stream",
     "text": [
      "2024-04-26 18:52:44 (INFO): Set parameter BestBdStop to value -3.1555317899105750e-01\n"
     ]
    },
    {
     "name": "stdout",
     "output_type": "stream",
     "text": [
      "Set parameter IntegralityFocus to value 1\n"
     ]
    },
    {
     "name": "stderr",
     "output_type": "stream",
     "text": [
      "2024-04-26 18:52:44 (INFO): Set parameter IntegralityFocus to value 1\n"
     ]
    },
    {
     "name": "stdout",
     "output_type": "stream",
     "text": [
      "Set parameter IntFeasTol to value 0.0001\n"
     ]
    },
    {
     "name": "stderr",
     "output_type": "stream",
     "text": [
      "2024-04-26 18:52:44 (INFO): Set parameter IntFeasTol to value 0.0001\n"
     ]
    },
    {
     "name": "stdout",
     "output_type": "stream",
     "text": [
      "Loaded user MIP start with objective -0.32733\n",
      "\n"
     ]
    },
    {
     "name": "stderr",
     "output_type": "stream",
     "text": [
      "2024-04-26 18:52:45 (INFO): Optimization status: 2\n",
      "2024-04-26 18:52:45 (INFO): Original -0.32733, Opt objective -0.31518, Opt bound: -0.31518, stop_obj: -0.3155531789910575\n",
      "2024-04-26 18:52:45 (INFO): Robust count 3 out of 7\n"
     ]
    },
    {
     "name": "stdout",
     "output_type": "stream",
     "text": [
      "Warning for adding constraints: zero or small (< 1e-13) coefficients, ignored\n"
     ]
    },
    {
     "name": "stderr",
     "output_type": "stream",
     "text": [
      "2024-04-26 18:52:46 (INFO): Warning for adding constraints: zero or small (< 1e-13) coefficients, ignored\n"
     ]
    },
    {
     "name": "stdout",
     "output_type": "stream",
     "text": [
      "Set parameter IntegralityFocus to value 1\n"
     ]
    },
    {
     "name": "stderr",
     "output_type": "stream",
     "text": [
      "2024-04-26 18:52:46 (INFO): Set parameter IntegralityFocus to value 1\n"
     ]
    },
    {
     "name": "stdout",
     "output_type": "stream",
     "text": [
      "Set parameter IntFeasTol to value 0.0001\n"
     ]
    },
    {
     "name": "stderr",
     "output_type": "stream",
     "text": [
      "2024-04-26 18:52:46 (INFO): Set parameter IntFeasTol to value 0.0001\n"
     ]
    },
    {
     "name": "stdout",
     "output_type": "stream",
     "text": [
      "Loaded user MIP start with objective -0.301148\n",
      "\n"
     ]
    },
    {
     "name": "stderr",
     "output_type": "stream",
     "text": [
      "2024-04-26 18:52:46 (INFO): Optimization status: 2\n",
      "2024-04-26 18:52:46 (INFO): Original -0.30115, Opt objective -0.31011, Opt bound: -0.31011, stop_obj: None\n"
     ]
    },
    {
     "name": "stdout",
     "output_type": "stream",
     "text": [
      "Warning for adding constraints: zero or small (< 1e-13) coefficients, ignored\n"
     ]
    },
    {
     "name": "stderr",
     "output_type": "stream",
     "text": [
      "2024-04-26 18:52:47 (INFO): Warning for adding constraints: zero or small (< 1e-13) coefficients, ignored\n"
     ]
    },
    {
     "name": "stdout",
     "output_type": "stream",
     "text": [
      "Set parameter BestObjStop to value -3.1011063810379436e-01\n"
     ]
    },
    {
     "name": "stderr",
     "output_type": "stream",
     "text": [
      "2024-04-26 18:52:47 (INFO): Set parameter BestObjStop to value -3.1011063810379436e-01\n"
     ]
    },
    {
     "name": "stdout",
     "output_type": "stream",
     "text": [
      "Set parameter BestBdStop to value -3.1011063810379436e-01\n"
     ]
    },
    {
     "name": "stderr",
     "output_type": "stream",
     "text": [
      "2024-04-26 18:52:47 (INFO): Set parameter BestBdStop to value -3.1011063810379436e-01\n"
     ]
    },
    {
     "name": "stdout",
     "output_type": "stream",
     "text": [
      "Set parameter IntegralityFocus to value 1\n"
     ]
    },
    {
     "name": "stderr",
     "output_type": "stream",
     "text": [
      "2024-04-26 18:52:47 (INFO): Set parameter IntegralityFocus to value 1\n"
     ]
    },
    {
     "name": "stdout",
     "output_type": "stream",
     "text": [
      "Set parameter IntFeasTol to value 0.0001\n"
     ]
    },
    {
     "name": "stderr",
     "output_type": "stream",
     "text": [
      "2024-04-26 18:52:47 (INFO): Set parameter IntFeasTol to value 0.0001\n"
     ]
    },
    {
     "name": "stdout",
     "output_type": "stream",
     "text": [
      "Loaded user MIP start with objective -0.30967\n",
      "\n"
     ]
    },
    {
     "name": "stderr",
     "output_type": "stream",
     "text": [
      "2024-04-26 18:52:47 (INFO): Optimization status: 15\n",
      "2024-04-26 18:52:47 (INFO): Original -0.30967, Opt objective -0.30967, Opt bound: -0.30111, stop_obj: -0.31011063810379436\n",
      "2024-04-26 18:52:47 (INFO): Robust count 3 out of 8\n"
     ]
    },
    {
     "name": "stdout",
     "output_type": "stream",
     "text": [
      "Warning for adding constraints: zero or small (< 1e-13) coefficients, ignored\n"
     ]
    },
    {
     "name": "stderr",
     "output_type": "stream",
     "text": [
      "2024-04-26 18:52:48 (INFO): Warning for adding constraints: zero or small (< 1e-13) coefficients, ignored\n"
     ]
    },
    {
     "name": "stdout",
     "output_type": "stream",
     "text": [
      "Set parameter IntegralityFocus to value 1\n"
     ]
    },
    {
     "name": "stderr",
     "output_type": "stream",
     "text": [
      "2024-04-26 18:52:48 (INFO): Set parameter IntegralityFocus to value 1\n"
     ]
    },
    {
     "name": "stdout",
     "output_type": "stream",
     "text": [
      "Set parameter IntFeasTol to value 0.0001\n"
     ]
    },
    {
     "name": "stderr",
     "output_type": "stream",
     "text": [
      "2024-04-26 18:52:48 (INFO): Set parameter IntFeasTol to value 0.0001\n"
     ]
    },
    {
     "name": "stdout",
     "output_type": "stream",
     "text": [
      "Loaded user MIP start with objective -0.274403\n",
      "\n"
     ]
    },
    {
     "name": "stderr",
     "output_type": "stream",
     "text": [
      "2024-04-26 18:52:49 (INFO): Optimization status: 2\n",
      "2024-04-26 18:52:49 (INFO): Original -0.27440, Opt objective -0.30223, Opt bound: -0.30223, stop_obj: None\n"
     ]
    },
    {
     "name": "stdout",
     "output_type": "stream",
     "text": [
      "Warning for adding constraints: zero or small (< 1e-13) coefficients, ignored\n"
     ]
    },
    {
     "name": "stderr",
     "output_type": "stream",
     "text": [
      "2024-04-26 18:52:50 (INFO): Warning for adding constraints: zero or small (< 1e-13) coefficients, ignored\n"
     ]
    },
    {
     "name": "stdout",
     "output_type": "stream",
     "text": [
      "Set parameter BestObjStop to value -3.0222901682655612e-01\n"
     ]
    },
    {
     "name": "stderr",
     "output_type": "stream",
     "text": [
      "2024-04-26 18:52:50 (INFO): Set parameter BestObjStop to value -3.0222901682655612e-01\n"
     ]
    },
    {
     "name": "stdout",
     "output_type": "stream",
     "text": [
      "Set parameter BestBdStop to value -3.0222901682655612e-01\n"
     ]
    },
    {
     "name": "stderr",
     "output_type": "stream",
     "text": [
      "2024-04-26 18:52:50 (INFO): Set parameter BestBdStop to value -3.0222901682655612e-01\n"
     ]
    },
    {
     "name": "stdout",
     "output_type": "stream",
     "text": [
      "Set parameter IntegralityFocus to value 1\n"
     ]
    },
    {
     "name": "stderr",
     "output_type": "stream",
     "text": [
      "2024-04-26 18:52:50 (INFO): Set parameter IntegralityFocus to value 1\n"
     ]
    },
    {
     "name": "stdout",
     "output_type": "stream",
     "text": [
      "Set parameter IntFeasTol to value 0.0001\n"
     ]
    },
    {
     "name": "stderr",
     "output_type": "stream",
     "text": [
      "2024-04-26 18:52:50 (INFO): Set parameter IntFeasTol to value 0.0001\n"
     ]
    },
    {
     "name": "stdout",
     "output_type": "stream",
     "text": [
      "Loaded user MIP start with objective -0.294407\n",
      "\n"
     ]
    },
    {
     "name": "stderr",
     "output_type": "stream",
     "text": [
      "2024-04-26 18:52:50 (INFO): Optimization status: 15\n",
      "2024-04-26 18:52:50 (INFO): Original -0.29441, Opt objective -0.29441, Opt bound: -0.26826, stop_obj: -0.3022290168265561\n",
      "2024-04-26 18:52:50 (INFO): Robust count 3 out of 9\n"
     ]
    },
    {
     "name": "stdout",
     "output_type": "stream",
     "text": [
      "Warning for adding constraints: zero or small (< 1e-13) coefficients, ignored\n"
     ]
    },
    {
     "name": "stderr",
     "output_type": "stream",
     "text": [
      "2024-04-26 18:52:51 (INFO): Warning for adding constraints: zero or small (< 1e-13) coefficients, ignored\n"
     ]
    },
    {
     "name": "stdout",
     "output_type": "stream",
     "text": [
      "Set parameter IntegralityFocus to value 1\n"
     ]
    },
    {
     "name": "stderr",
     "output_type": "stream",
     "text": [
      "2024-04-26 18:52:51 (INFO): Set parameter IntegralityFocus to value 1\n"
     ]
    },
    {
     "name": "stdout",
     "output_type": "stream",
     "text": [
      "Set parameter IntFeasTol to value 0.0001\n"
     ]
    },
    {
     "name": "stderr",
     "output_type": "stream",
     "text": [
      "2024-04-26 18:52:51 (INFO): Set parameter IntFeasTol to value 0.0001\n"
     ]
    },
    {
     "name": "stdout",
     "output_type": "stream",
     "text": [
      "Loaded user MIP start with objective -0.273516\n",
      "\n"
     ]
    },
    {
     "name": "stderr",
     "output_type": "stream",
     "text": [
      "2024-04-26 18:52:51 (INFO): Optimization status: 2\n",
      "2024-04-26 18:52:51 (INFO): Original -0.27352, Opt objective -0.31047, Opt bound: -0.31047, stop_obj: None\n"
     ]
    },
    {
     "name": "stdout",
     "output_type": "stream",
     "text": [
      "Warning for adding constraints: zero or small (< 1e-13) coefficients, ignored\n"
     ]
    },
    {
     "name": "stderr",
     "output_type": "stream",
     "text": [
      "2024-04-26 18:52:52 (INFO): Warning for adding constraints: zero or small (< 1e-13) coefficients, ignored\n"
     ]
    },
    {
     "name": "stdout",
     "output_type": "stream",
     "text": [
      "Set parameter BestObjStop to value -3.1047493791266245e-01\n"
     ]
    },
    {
     "name": "stderr",
     "output_type": "stream",
     "text": [
      "2024-04-26 18:52:52 (INFO): Set parameter BestObjStop to value -3.1047493791266245e-01\n"
     ]
    },
    {
     "name": "stdout",
     "output_type": "stream",
     "text": [
      "Set parameter BestBdStop to value -3.1047493791266245e-01\n"
     ]
    },
    {
     "name": "stderr",
     "output_type": "stream",
     "text": [
      "2024-04-26 18:52:52 (INFO): Set parameter BestBdStop to value -3.1047493791266245e-01\n"
     ]
    },
    {
     "name": "stdout",
     "output_type": "stream",
     "text": [
      "Set parameter IntegralityFocus to value 1\n"
     ]
    },
    {
     "name": "stderr",
     "output_type": "stream",
     "text": [
      "2024-04-26 18:52:52 (INFO): Set parameter IntegralityFocus to value 1\n"
     ]
    },
    {
     "name": "stdout",
     "output_type": "stream",
     "text": [
      "Set parameter IntFeasTol to value 0.0001\n"
     ]
    },
    {
     "name": "stderr",
     "output_type": "stream",
     "text": [
      "2024-04-26 18:52:52 (INFO): Set parameter IntFeasTol to value 0.0001\n"
     ]
    },
    {
     "name": "stdout",
     "output_type": "stream",
     "text": [
      "Loaded user MIP start with objective -0.304147\n",
      "\n"
     ]
    },
    {
     "name": "stderr",
     "output_type": "stream",
     "text": [
      "2024-04-26 18:52:52 (INFO): Optimization status: 15\n",
      "2024-04-26 18:52:52 (INFO): Original -0.30415, Opt objective -0.30415, Opt bound: -0.26951, stop_obj: -0.31047493791266245\n",
      "2024-04-26 18:52:52 (INFO): Robust count 3 out of 10\n"
     ]
    },
    {
     "name": "stdout",
     "output_type": "stream",
     "text": [
      "Warning for adding constraints: zero or small (< 1e-13) coefficients, ignored\n"
     ]
    },
    {
     "name": "stderr",
     "output_type": "stream",
     "text": [
      "2024-04-26 18:52:54 (INFO): Warning for adding constraints: zero or small (< 1e-13) coefficients, ignored\n"
     ]
    },
    {
     "name": "stdout",
     "output_type": "stream",
     "text": [
      "Set parameter IntegralityFocus to value 1\n"
     ]
    },
    {
     "name": "stderr",
     "output_type": "stream",
     "text": [
      "2024-04-26 18:52:54 (INFO): Set parameter IntegralityFocus to value 1\n"
     ]
    },
    {
     "name": "stdout",
     "output_type": "stream",
     "text": [
      "Set parameter IntFeasTol to value 0.0001\n"
     ]
    },
    {
     "name": "stderr",
     "output_type": "stream",
     "text": [
      "2024-04-26 18:52:54 (INFO): Set parameter IntFeasTol to value 0.0001\n"
     ]
    },
    {
     "name": "stdout",
     "output_type": "stream",
     "text": [
      "Loaded user MIP start with objective -0.240752\n",
      "\n"
     ]
    },
    {
     "name": "stderr",
     "output_type": "stream",
     "text": [
      "2024-04-26 18:52:54 (INFO): Optimization status: 2\n",
      "2024-04-26 18:52:54 (INFO): Original -0.24075, Opt objective -0.27495, Opt bound: -0.27495, stop_obj: None\n"
     ]
    },
    {
     "name": "stdout",
     "output_type": "stream",
     "text": [
      "Warning for adding constraints: zero or small (< 1e-13) coefficients, ignored\n"
     ]
    },
    {
     "name": "stderr",
     "output_type": "stream",
     "text": [
      "2024-04-26 18:52:55 (INFO): Warning for adding constraints: zero or small (< 1e-13) coefficients, ignored\n"
     ]
    },
    {
     "name": "stdout",
     "output_type": "stream",
     "text": [
      "Set parameter BestObjStop to value -2.7494778165137768e-01\n"
     ]
    },
    {
     "name": "stderr",
     "output_type": "stream",
     "text": [
      "2024-04-26 18:52:55 (INFO): Set parameter BestObjStop to value -2.7494778165137768e-01\n"
     ]
    },
    {
     "name": "stdout",
     "output_type": "stream",
     "text": [
      "Set parameter BestBdStop to value -2.7494778165137768e-01\n"
     ]
    },
    {
     "name": "stderr",
     "output_type": "stream",
     "text": [
      "2024-04-26 18:52:55 (INFO): Set parameter BestBdStop to value -2.7494778165137768e-01\n"
     ]
    },
    {
     "name": "stdout",
     "output_type": "stream",
     "text": [
      "Set parameter IntegralityFocus to value 1\n"
     ]
    },
    {
     "name": "stderr",
     "output_type": "stream",
     "text": [
      "2024-04-26 18:52:55 (INFO): Set parameter IntegralityFocus to value 1\n"
     ]
    },
    {
     "name": "stdout",
     "output_type": "stream",
     "text": [
      "Set parameter IntFeasTol to value 0.0001\n"
     ]
    },
    {
     "name": "stderr",
     "output_type": "stream",
     "text": [
      "2024-04-26 18:52:55 (INFO): Set parameter IntFeasTol to value 0.0001\n"
     ]
    },
    {
     "name": "stdout",
     "output_type": "stream",
     "text": [
      "Loaded user MIP start with objective -0.246978\n",
      "\n"
     ]
    },
    {
     "name": "stderr",
     "output_type": "stream",
     "text": [
      "2024-04-26 18:52:55 (INFO): Optimization status: 15\n",
      "2024-04-26 18:52:55 (INFO): Original -0.24698, Opt objective -0.24698, Opt bound: -0.21619, stop_obj: -0.2749477816513777\n",
      "2024-04-26 18:52:55 (INFO): Robust count 3 out of 11\n"
     ]
    },
    {
     "name": "stdout",
     "output_type": "stream",
     "text": [
      "Warning for adding constraints: zero or small (< 1e-13) coefficients, ignored\n"
     ]
    },
    {
     "name": "stderr",
     "output_type": "stream",
     "text": [
      "2024-04-26 18:52:56 (INFO): Warning for adding constraints: zero or small (< 1e-13) coefficients, ignored\n"
     ]
    },
    {
     "name": "stdout",
     "output_type": "stream",
     "text": [
      "Set parameter IntegralityFocus to value 1\n"
     ]
    },
    {
     "name": "stderr",
     "output_type": "stream",
     "text": [
      "2024-04-26 18:52:56 (INFO): Set parameter IntegralityFocus to value 1\n"
     ]
    },
    {
     "name": "stdout",
     "output_type": "stream",
     "text": [
      "Set parameter IntFeasTol to value 0.0001\n"
     ]
    },
    {
     "name": "stderr",
     "output_type": "stream",
     "text": [
      "2024-04-26 18:52:56 (INFO): Set parameter IntFeasTol to value 0.0001\n"
     ]
    },
    {
     "name": "stdout",
     "output_type": "stream",
     "text": [
      "Loaded user MIP start with objective -0.321169\n",
      "\n"
     ]
    },
    {
     "name": "stderr",
     "output_type": "stream",
     "text": [
      "2024-04-26 18:52:56 (INFO): Optimization status: 2\n",
      "2024-04-26 18:52:57 (INFO): Original -0.32117, Opt objective -0.32975, Opt bound: -0.32975, stop_obj: None\n"
     ]
    },
    {
     "name": "stdout",
     "output_type": "stream",
     "text": [
      "Warning for adding constraints: zero or small (< 1e-13) coefficients, ignored\n"
     ]
    },
    {
     "name": "stderr",
     "output_type": "stream",
     "text": [
      "2024-04-26 18:52:58 (INFO): Warning for adding constraints: zero or small (< 1e-13) coefficients, ignored\n"
     ]
    },
    {
     "name": "stdout",
     "output_type": "stream",
     "text": [
      "Set parameter BestObjStop to value -3.2974823680897380e-01\n"
     ]
    },
    {
     "name": "stderr",
     "output_type": "stream",
     "text": [
      "2024-04-26 18:52:58 (INFO): Set parameter BestObjStop to value -3.2974823680897380e-01\n"
     ]
    },
    {
     "name": "stdout",
     "output_type": "stream",
     "text": [
      "Set parameter BestBdStop to value -3.2974823680897380e-01\n"
     ]
    },
    {
     "name": "stderr",
     "output_type": "stream",
     "text": [
      "2024-04-26 18:52:58 (INFO): Set parameter BestBdStop to value -3.2974823680897380e-01\n"
     ]
    },
    {
     "name": "stdout",
     "output_type": "stream",
     "text": [
      "Set parameter IntegralityFocus to value 1\n"
     ]
    },
    {
     "name": "stderr",
     "output_type": "stream",
     "text": [
      "2024-04-26 18:52:58 (INFO): Set parameter IntegralityFocus to value 1\n"
     ]
    },
    {
     "name": "stdout",
     "output_type": "stream",
     "text": [
      "Set parameter IntFeasTol to value 0.0001\n"
     ]
    },
    {
     "name": "stderr",
     "output_type": "stream",
     "text": [
      "2024-04-26 18:52:58 (INFO): Set parameter IntFeasTol to value 0.0001\n"
     ]
    },
    {
     "name": "stdout",
     "output_type": "stream",
     "text": [
      "Loaded user MIP start with objective -0.329317\n",
      "\n"
     ]
    },
    {
     "name": "stderr",
     "output_type": "stream",
     "text": [
      "2024-04-26 18:52:58 (INFO): Optimization status: 15\n",
      "2024-04-26 18:52:58 (INFO): Original -0.32932, Opt objective -0.32932, Opt bound: -0.32113, stop_obj: -0.3297482368089738\n",
      "2024-04-26 18:52:58 (INFO): Robust count 3 out of 12\n"
     ]
    },
    {
     "name": "stdout",
     "output_type": "stream",
     "text": [
      "Warning for adding constraints: zero or small (< 1e-13) coefficients, ignored\n"
     ]
    },
    {
     "name": "stderr",
     "output_type": "stream",
     "text": [
      "2024-04-26 18:52:59 (INFO): Warning for adding constraints: zero or small (< 1e-13) coefficients, ignored\n"
     ]
    },
    {
     "name": "stdout",
     "output_type": "stream",
     "text": [
      "Set parameter IntegralityFocus to value 1\n"
     ]
    },
    {
     "name": "stderr",
     "output_type": "stream",
     "text": [
      "2024-04-26 18:52:59 (INFO): Set parameter IntegralityFocus to value 1\n"
     ]
    },
    {
     "name": "stdout",
     "output_type": "stream",
     "text": [
      "Set parameter IntFeasTol to value 0.0001\n"
     ]
    },
    {
     "name": "stderr",
     "output_type": "stream",
     "text": [
      "2024-04-26 18:52:59 (INFO): Set parameter IntFeasTol to value 0.0001\n"
     ]
    },
    {
     "name": "stdout",
     "output_type": "stream",
     "text": [
      "Loaded user MIP start with objective -0.230355\n",
      "\n"
     ]
    },
    {
     "name": "stderr",
     "output_type": "stream",
     "text": [
      "2024-04-26 18:52:59 (INFO): Optimization status: 2\n",
      "2024-04-26 18:52:59 (INFO): Original -0.23036, Opt objective -0.24535, Opt bound: -0.24535, stop_obj: None\n"
     ]
    },
    {
     "name": "stdout",
     "output_type": "stream",
     "text": [
      "Warning for adding constraints: zero or small (< 1e-13) coefficients, ignored\n"
     ]
    },
    {
     "name": "stderr",
     "output_type": "stream",
     "text": [
      "2024-04-26 18:53:00 (INFO): Warning for adding constraints: zero or small (< 1e-13) coefficients, ignored\n"
     ]
    },
    {
     "name": "stdout",
     "output_type": "stream",
     "text": [
      "Set parameter BestObjStop to value -2.4535415266421537e-01\n"
     ]
    },
    {
     "name": "stderr",
     "output_type": "stream",
     "text": [
      "2024-04-26 18:53:00 (INFO): Set parameter BestObjStop to value -2.4535415266421537e-01\n"
     ]
    },
    {
     "name": "stdout",
     "output_type": "stream",
     "text": [
      "Set parameter BestBdStop to value -2.4535415266421537e-01\n"
     ]
    },
    {
     "name": "stderr",
     "output_type": "stream",
     "text": [
      "2024-04-26 18:53:00 (INFO): Set parameter BestBdStop to value -2.4535415266421537e-01\n"
     ]
    },
    {
     "name": "stdout",
     "output_type": "stream",
     "text": [
      "Set parameter IntegralityFocus to value 1\n"
     ]
    },
    {
     "name": "stderr",
     "output_type": "stream",
     "text": [
      "2024-04-26 18:53:00 (INFO): Set parameter IntegralityFocus to value 1\n"
     ]
    },
    {
     "name": "stdout",
     "output_type": "stream",
     "text": [
      "Set parameter IntFeasTol to value 0.0001\n"
     ]
    },
    {
     "name": "stderr",
     "output_type": "stream",
     "text": [
      "2024-04-26 18:53:00 (INFO): Set parameter IntFeasTol to value 0.0001\n"
     ]
    },
    {
     "name": "stdout",
     "output_type": "stream",
     "text": [
      "Loaded user MIP start with objective -0.270551\n",
      "\n"
     ]
    },
    {
     "name": "stderr",
     "output_type": "stream",
     "text": [
      "2024-04-26 18:53:01 (INFO): Optimization status: 15\n",
      "2024-04-26 18:53:01 (INFO): Original -0.27055, Opt objective -0.27055, Opt bound: -0.25621, stop_obj: -0.24535415266421537\n"
     ]
    },
    {
     "name": "stdout",
     "output_type": "stream",
     "text": [
      "Warning for adding constraints: zero or small (< 1e-13) coefficients, ignored\n"
     ]
    },
    {
     "name": "stderr",
     "output_type": "stream",
     "text": [
      "2024-04-26 18:53:02 (INFO): Warning for adding constraints: zero or small (< 1e-13) coefficients, ignored\n"
     ]
    },
    {
     "name": "stdout",
     "output_type": "stream",
     "text": [
      "Set parameter BestObjStop to value -2.4535415266421537e-01\n"
     ]
    },
    {
     "name": "stderr",
     "output_type": "stream",
     "text": [
      "2024-04-26 18:53:02 (INFO): Set parameter BestObjStop to value -2.4535415266421537e-01\n"
     ]
    },
    {
     "name": "stdout",
     "output_type": "stream",
     "text": [
      "Set parameter BestBdStop to value -2.4535415266421537e-01\n"
     ]
    },
    {
     "name": "stderr",
     "output_type": "stream",
     "text": [
      "2024-04-26 18:53:02 (INFO): Set parameter BestBdStop to value -2.4535415266421537e-01\n"
     ]
    },
    {
     "name": "stdout",
     "output_type": "stream",
     "text": [
      "Set parameter IntegralityFocus to value 1\n"
     ]
    },
    {
     "name": "stderr",
     "output_type": "stream",
     "text": [
      "2024-04-26 18:53:02 (INFO): Set parameter IntegralityFocus to value 1\n"
     ]
    },
    {
     "name": "stdout",
     "output_type": "stream",
     "text": [
      "Set parameter IntFeasTol to value 0.0001\n"
     ]
    },
    {
     "name": "stderr",
     "output_type": "stream",
     "text": [
      "2024-04-26 18:53:02 (INFO): Set parameter IntFeasTol to value 0.0001\n"
     ]
    },
    {
     "name": "stdout",
     "output_type": "stream",
     "text": [
      "Loaded user MIP start with objective -0.271832\n",
      "\n"
     ]
    },
    {
     "name": "stderr",
     "output_type": "stream",
     "text": [
      "2024-04-26 18:53:02 (INFO): Optimization status: 15\n",
      "2024-04-26 18:53:02 (INFO): Original -0.27183, Opt objective -0.27183, Opt bound: -0.25753, stop_obj: -0.24535415266421537\n"
     ]
    },
    {
     "name": "stdout",
     "output_type": "stream",
     "text": [
      "Warning for adding constraints: zero or small (< 1e-13) coefficients, ignored\n"
     ]
    },
    {
     "name": "stderr",
     "output_type": "stream",
     "text": [
      "2024-04-26 18:53:03 (INFO): Warning for adding constraints: zero or small (< 1e-13) coefficients, ignored\n"
     ]
    },
    {
     "name": "stdout",
     "output_type": "stream",
     "text": [
      "Set parameter BestObjStop to value -2.4535415266421537e-01\n"
     ]
    },
    {
     "name": "stderr",
     "output_type": "stream",
     "text": [
      "2024-04-26 18:53:03 (INFO): Set parameter BestObjStop to value -2.4535415266421537e-01\n"
     ]
    },
    {
     "name": "stdout",
     "output_type": "stream",
     "text": [
      "Set parameter BestBdStop to value -2.4535415266421537e-01\n"
     ]
    },
    {
     "name": "stderr",
     "output_type": "stream",
     "text": [
      "2024-04-26 18:53:03 (INFO): Set parameter BestBdStop to value -2.4535415266421537e-01\n"
     ]
    },
    {
     "name": "stdout",
     "output_type": "stream",
     "text": [
      "Set parameter IntegralityFocus to value 1\n"
     ]
    },
    {
     "name": "stderr",
     "output_type": "stream",
     "text": [
      "2024-04-26 18:53:03 (INFO): Set parameter IntegralityFocus to value 1\n"
     ]
    },
    {
     "name": "stdout",
     "output_type": "stream",
     "text": [
      "Set parameter IntFeasTol to value 0.0001\n"
     ]
    },
    {
     "name": "stderr",
     "output_type": "stream",
     "text": [
      "2024-04-26 18:53:03 (INFO): Set parameter IntFeasTol to value 0.0001\n"
     ]
    },
    {
     "name": "stdout",
     "output_type": "stream",
     "text": [
      "Loaded user MIP start with objective -0.273824\n",
      "\n"
     ]
    },
    {
     "name": "stderr",
     "output_type": "stream",
     "text": [
      "2024-04-26 18:53:03 (INFO): Optimization status: 15\n",
      "2024-04-26 18:53:03 (INFO): Original -0.27382, Opt objective -0.27382, Opt bound: -0.25947, stop_obj: -0.24535415266421537\n"
     ]
    },
    {
     "name": "stdout",
     "output_type": "stream",
     "text": [
      "Warning for adding constraints: zero or small (< 1e-13) coefficients, ignored\n"
     ]
    },
    {
     "name": "stderr",
     "output_type": "stream",
     "text": [
      "2024-04-26 18:53:04 (INFO): Warning for adding constraints: zero or small (< 1e-13) coefficients, ignored\n"
     ]
    },
    {
     "name": "stdout",
     "output_type": "stream",
     "text": [
      "Set parameter BestObjStop to value -2.4535415266421537e-01\n"
     ]
    },
    {
     "name": "stderr",
     "output_type": "stream",
     "text": [
      "2024-04-26 18:53:04 (INFO): Set parameter BestObjStop to value -2.4535415266421537e-01\n"
     ]
    },
    {
     "name": "stdout",
     "output_type": "stream",
     "text": [
      "Set parameter BestBdStop to value -2.4535415266421537e-01\n"
     ]
    },
    {
     "name": "stderr",
     "output_type": "stream",
     "text": [
      "2024-04-26 18:53:04 (INFO): Set parameter BestBdStop to value -2.4535415266421537e-01\n"
     ]
    },
    {
     "name": "stdout",
     "output_type": "stream",
     "text": [
      "Set parameter IntegralityFocus to value 1\n"
     ]
    },
    {
     "name": "stderr",
     "output_type": "stream",
     "text": [
      "2024-04-26 18:53:04 (INFO): Set parameter IntegralityFocus to value 1\n"
     ]
    },
    {
     "name": "stdout",
     "output_type": "stream",
     "text": [
      "Set parameter IntFeasTol to value 0.0001\n"
     ]
    },
    {
     "name": "stderr",
     "output_type": "stream",
     "text": [
      "2024-04-26 18:53:04 (INFO): Set parameter IntFeasTol to value 0.0001\n"
     ]
    },
    {
     "name": "stdout",
     "output_type": "stream",
     "text": [
      "Loaded user MIP start with objective -0.278071\n",
      "\n"
     ]
    },
    {
     "name": "stderr",
     "output_type": "stream",
     "text": [
      "2024-04-26 18:53:05 (INFO): Optimization status: 15\n",
      "2024-04-26 18:53:05 (INFO): Original -0.27807, Opt objective -0.27807, Opt bound: -0.26371, stop_obj: -0.24535415266421537\n"
     ]
    },
    {
     "name": "stdout",
     "output_type": "stream",
     "text": [
      "Warning for adding constraints: zero or small (< 1e-13) coefficients, ignored\n"
     ]
    },
    {
     "name": "stderr",
     "output_type": "stream",
     "text": [
      "2024-04-26 18:53:05 (INFO): Warning for adding constraints: zero or small (< 1e-13) coefficients, ignored\n"
     ]
    },
    {
     "name": "stdout",
     "output_type": "stream",
     "text": [
      "Set parameter BestObjStop to value -2.4535415266421537e-01\n"
     ]
    },
    {
     "name": "stderr",
     "output_type": "stream",
     "text": [
      "2024-04-26 18:53:05 (INFO): Set parameter BestObjStop to value -2.4535415266421537e-01\n"
     ]
    },
    {
     "name": "stdout",
     "output_type": "stream",
     "text": [
      "Set parameter BestBdStop to value -2.4535415266421537e-01\n"
     ]
    },
    {
     "name": "stderr",
     "output_type": "stream",
     "text": [
      "2024-04-26 18:53:05 (INFO): Set parameter BestBdStop to value -2.4535415266421537e-01\n"
     ]
    },
    {
     "name": "stdout",
     "output_type": "stream",
     "text": [
      "Set parameter IntegralityFocus to value 1\n"
     ]
    },
    {
     "name": "stderr",
     "output_type": "stream",
     "text": [
      "2024-04-26 18:53:05 (INFO): Set parameter IntegralityFocus to value 1\n"
     ]
    },
    {
     "name": "stdout",
     "output_type": "stream",
     "text": [
      "Set parameter IntFeasTol to value 0.0001\n"
     ]
    },
    {
     "name": "stderr",
     "output_type": "stream",
     "text": [
      "2024-04-26 18:53:05 (INFO): Set parameter IntFeasTol to value 0.0001\n"
     ]
    },
    {
     "name": "stdout",
     "output_type": "stream",
     "text": [
      "Loaded user MIP start with objective -0.279824\n",
      "\n"
     ]
    },
    {
     "name": "stderr",
     "output_type": "stream",
     "text": [
      "2024-04-26 18:53:06 (INFO): Optimization status: 15\n",
      "2024-04-26 18:53:06 (INFO): Original -0.27982, Opt objective -0.27982, Opt bound: -0.26556, stop_obj: -0.24535415266421537\n"
     ]
    },
    {
     "name": "stdout",
     "output_type": "stream",
     "text": [
      "Warning for adding constraints: zero or small (< 1e-13) coefficients, ignored\n"
     ]
    },
    {
     "name": "stderr",
     "output_type": "stream",
     "text": [
      "2024-04-26 18:53:07 (INFO): Warning for adding constraints: zero or small (< 1e-13) coefficients, ignored\n"
     ]
    },
    {
     "name": "stdout",
     "output_type": "stream",
     "text": [
      "Set parameter BestObjStop to value -2.4535415266421537e-01\n"
     ]
    },
    {
     "name": "stderr",
     "output_type": "stream",
     "text": [
      "2024-04-26 18:53:07 (INFO): Set parameter BestObjStop to value -2.4535415266421537e-01\n"
     ]
    },
    {
     "name": "stdout",
     "output_type": "stream",
     "text": [
      "Set parameter BestBdStop to value -2.4535415266421537e-01\n"
     ]
    },
    {
     "name": "stderr",
     "output_type": "stream",
     "text": [
      "2024-04-26 18:53:07 (INFO): Set parameter BestBdStop to value -2.4535415266421537e-01\n"
     ]
    },
    {
     "name": "stdout",
     "output_type": "stream",
     "text": [
      "Set parameter IntegralityFocus to value 1\n"
     ]
    },
    {
     "name": "stderr",
     "output_type": "stream",
     "text": [
      "2024-04-26 18:53:07 (INFO): Set parameter IntegralityFocus to value 1\n"
     ]
    },
    {
     "name": "stdout",
     "output_type": "stream",
     "text": [
      "Set parameter IntFeasTol to value 0.0001\n"
     ]
    },
    {
     "name": "stderr",
     "output_type": "stream",
     "text": [
      "2024-04-26 18:53:07 (INFO): Set parameter IntFeasTol to value 0.0001\n"
     ]
    },
    {
     "name": "stdout",
     "output_type": "stream",
     "text": [
      "Loaded user MIP start with objective -0.283707\n",
      "\n"
     ]
    },
    {
     "name": "stderr",
     "output_type": "stream",
     "text": [
      "2024-04-26 18:53:07 (INFO): Optimization status: 15\n",
      "2024-04-26 18:53:07 (INFO): Original -0.28371, Opt objective -0.28371, Opt bound: -0.26940, stop_obj: -0.24535415266421537\n",
      "2024-04-26 18:53:07 (INFO): Robust count 4 out of 13\n"
     ]
    },
    {
     "name": "stdout",
     "output_type": "stream",
     "text": [
      "Warning for adding constraints: zero or small (< 1e-13) coefficients, ignored\n"
     ]
    },
    {
     "name": "stderr",
     "output_type": "stream",
     "text": [
      "2024-04-26 18:53:08 (INFO): Warning for adding constraints: zero or small (< 1e-13) coefficients, ignored\n"
     ]
    },
    {
     "name": "stdout",
     "output_type": "stream",
     "text": [
      "Set parameter IntegralityFocus to value 1\n"
     ]
    },
    {
     "name": "stderr",
     "output_type": "stream",
     "text": [
      "2024-04-26 18:53:08 (INFO): Set parameter IntegralityFocus to value 1\n"
     ]
    },
    {
     "name": "stdout",
     "output_type": "stream",
     "text": [
      "Set parameter IntFeasTol to value 0.0001\n"
     ]
    },
    {
     "name": "stderr",
     "output_type": "stream",
     "text": [
      "2024-04-26 18:53:08 (INFO): Set parameter IntFeasTol to value 0.0001\n"
     ]
    },
    {
     "name": "stdout",
     "output_type": "stream",
     "text": [
      "Loaded user MIP start with objective -0.348163\n",
      "\n"
     ]
    },
    {
     "name": "stderr",
     "output_type": "stream",
     "text": [
      "2024-04-26 18:53:09 (INFO): Optimization status: 2\n",
      "2024-04-26 18:53:09 (INFO): Original -0.34816, Opt objective -0.41624, Opt bound: -0.41624, stop_obj: None\n"
     ]
    },
    {
     "name": "stdout",
     "output_type": "stream",
     "text": [
      "Warning for adding constraints: zero or small (< 1e-13) coefficients, ignored\n"
     ]
    },
    {
     "name": "stderr",
     "output_type": "stream",
     "text": [
      "2024-04-26 18:53:10 (INFO): Warning for adding constraints: zero or small (< 1e-13) coefficients, ignored\n"
     ]
    },
    {
     "name": "stdout",
     "output_type": "stream",
     "text": [
      "Set parameter BestObjStop to value -4.1623976701136373e-01\n"
     ]
    },
    {
     "name": "stderr",
     "output_type": "stream",
     "text": [
      "2024-04-26 18:53:10 (INFO): Set parameter BestObjStop to value -4.1623976701136373e-01\n"
     ]
    },
    {
     "name": "stdout",
     "output_type": "stream",
     "text": [
      "Set parameter BestBdStop to value -4.1623976701136373e-01\n"
     ]
    },
    {
     "name": "stderr",
     "output_type": "stream",
     "text": [
      "2024-04-26 18:53:10 (INFO): Set parameter BestBdStop to value -4.1623976701136373e-01\n"
     ]
    },
    {
     "name": "stdout",
     "output_type": "stream",
     "text": [
      "Set parameter IntegralityFocus to value 1\n"
     ]
    },
    {
     "name": "stderr",
     "output_type": "stream",
     "text": [
      "2024-04-26 18:53:10 (INFO): Set parameter IntegralityFocus to value 1\n"
     ]
    },
    {
     "name": "stdout",
     "output_type": "stream",
     "text": [
      "Set parameter IntFeasTol to value 0.0001\n"
     ]
    },
    {
     "name": "stderr",
     "output_type": "stream",
     "text": [
      "2024-04-26 18:53:10 (INFO): Set parameter IntFeasTol to value 0.0001\n"
     ]
    },
    {
     "name": "stdout",
     "output_type": "stream",
     "text": [
      "Loaded user MIP start with objective -0.373379\n",
      "\n"
     ]
    },
    {
     "name": "stderr",
     "output_type": "stream",
     "text": [
      "2024-04-26 18:53:10 (INFO): Optimization status: 15\n",
      "2024-04-26 18:53:10 (INFO): Original -0.37338, Opt objective -0.37338, Opt bound: -0.31095, stop_obj: -0.4162397670113637\n",
      "2024-04-26 18:53:10 (INFO): Robust count 4 out of 14\n"
     ]
    },
    {
     "name": "stdout",
     "output_type": "stream",
     "text": [
      "Warning for adding constraints: zero or small (< 1e-13) coefficients, ignored\n"
     ]
    },
    {
     "name": "stderr",
     "output_type": "stream",
     "text": [
      "2024-04-26 18:53:11 (INFO): Warning for adding constraints: zero or small (< 1e-13) coefficients, ignored\n"
     ]
    },
    {
     "name": "stdout",
     "output_type": "stream",
     "text": [
      "Set parameter IntegralityFocus to value 1\n"
     ]
    },
    {
     "name": "stderr",
     "output_type": "stream",
     "text": [
      "2024-04-26 18:53:11 (INFO): Set parameter IntegralityFocus to value 1\n"
     ]
    },
    {
     "name": "stdout",
     "output_type": "stream",
     "text": [
      "Set parameter IntFeasTol to value 0.0001\n"
     ]
    },
    {
     "name": "stderr",
     "output_type": "stream",
     "text": [
      "2024-04-26 18:53:11 (INFO): Set parameter IntFeasTol to value 0.0001\n"
     ]
    },
    {
     "name": "stdout",
     "output_type": "stream",
     "text": [
      "Loaded user MIP start with objective -0.240206\n",
      "\n"
     ]
    },
    {
     "name": "stderr",
     "output_type": "stream",
     "text": [
      "2024-04-26 18:53:11 (INFO): Optimization status: 2\n",
      "2024-04-26 18:53:11 (INFO): Original -0.24021, Opt objective -0.26184, Opt bound: -0.26184, stop_obj: None\n"
     ]
    },
    {
     "name": "stdout",
     "output_type": "stream",
     "text": [
      "Warning for adding constraints: zero or small (< 1e-13) coefficients, ignored\n"
     ]
    },
    {
     "name": "stderr",
     "output_type": "stream",
     "text": [
      "2024-04-26 18:53:12 (INFO): Warning for adding constraints: zero or small (< 1e-13) coefficients, ignored\n"
     ]
    },
    {
     "name": "stdout",
     "output_type": "stream",
     "text": [
      "Set parameter BestObjStop to value -2.6183502951831883e-01\n"
     ]
    },
    {
     "name": "stderr",
     "output_type": "stream",
     "text": [
      "2024-04-26 18:53:12 (INFO): Set parameter BestObjStop to value -2.6183502951831883e-01\n"
     ]
    },
    {
     "name": "stdout",
     "output_type": "stream",
     "text": [
      "Set parameter BestBdStop to value -2.6183502951831883e-01\n"
     ]
    },
    {
     "name": "stderr",
     "output_type": "stream",
     "text": [
      "2024-04-26 18:53:12 (INFO): Set parameter BestBdStop to value -2.6183502951831883e-01\n"
     ]
    },
    {
     "name": "stdout",
     "output_type": "stream",
     "text": [
      "Set parameter IntegralityFocus to value 1\n"
     ]
    },
    {
     "name": "stderr",
     "output_type": "stream",
     "text": [
      "2024-04-26 18:53:12 (INFO): Set parameter IntegralityFocus to value 1\n"
     ]
    },
    {
     "name": "stdout",
     "output_type": "stream",
     "text": [
      "Set parameter IntFeasTol to value 0.0001\n"
     ]
    },
    {
     "name": "stderr",
     "output_type": "stream",
     "text": [
      "2024-04-26 18:53:12 (INFO): Set parameter IntFeasTol to value 0.0001\n"
     ]
    },
    {
     "name": "stdout",
     "output_type": "stream",
     "text": [
      "Loaded user MIP start with objective -0.240465\n",
      "\n"
     ]
    },
    {
     "name": "stderr",
     "output_type": "stream",
     "text": [
      "2024-04-26 18:53:13 (INFO): Optimization status: 15\n",
      "2024-04-26 18:53:13 (INFO): Original -0.24047, Opt objective -0.24047, Opt bound: -0.22014, stop_obj: -0.26183502951831883\n",
      "2024-04-26 18:53:13 (INFO): Robust count 4 out of 15\n"
     ]
    },
    {
     "name": "stdout",
     "output_type": "stream",
     "text": [
      "Warning for adding constraints: zero or small (< 1e-13) coefficients, ignored\n"
     ]
    },
    {
     "name": "stderr",
     "output_type": "stream",
     "text": [
      "2024-04-26 18:53:14 (INFO): Warning for adding constraints: zero or small (< 1e-13) coefficients, ignored\n"
     ]
    },
    {
     "name": "stdout",
     "output_type": "stream",
     "text": [
      "Set parameter IntegralityFocus to value 1\n"
     ]
    },
    {
     "name": "stderr",
     "output_type": "stream",
     "text": [
      "2024-04-26 18:53:14 (INFO): Set parameter IntegralityFocus to value 1\n"
     ]
    },
    {
     "name": "stdout",
     "output_type": "stream",
     "text": [
      "Set parameter IntFeasTol to value 0.0001\n"
     ]
    },
    {
     "name": "stderr",
     "output_type": "stream",
     "text": [
      "2024-04-26 18:53:14 (INFO): Set parameter IntFeasTol to value 0.0001\n"
     ]
    },
    {
     "name": "stdout",
     "output_type": "stream",
     "text": [
      "Loaded user MIP start with objective -0.282572\n",
      "\n"
     ]
    },
    {
     "name": "stderr",
     "output_type": "stream",
     "text": [
      "2024-04-26 18:53:14 (INFO): Optimization status: 2\n",
      "2024-04-26 18:53:14 (INFO): Original -0.28257, Opt objective -0.29940, Opt bound: -0.29940, stop_obj: None\n"
     ]
    },
    {
     "name": "stdout",
     "output_type": "stream",
     "text": [
      "Warning for adding constraints: zero or small (< 1e-13) coefficients, ignored\n"
     ]
    },
    {
     "name": "stderr",
     "output_type": "stream",
     "text": [
      "2024-04-26 18:53:15 (INFO): Warning for adding constraints: zero or small (< 1e-13) coefficients, ignored\n"
     ]
    },
    {
     "name": "stdout",
     "output_type": "stream",
     "text": [
      "Set parameter BestObjStop to value -2.9939670050571188e-01\n"
     ]
    },
    {
     "name": "stderr",
     "output_type": "stream",
     "text": [
      "2024-04-26 18:53:15 (INFO): Set parameter BestObjStop to value -2.9939670050571188e-01\n"
     ]
    },
    {
     "name": "stdout",
     "output_type": "stream",
     "text": [
      "Set parameter BestBdStop to value -2.9939670050571188e-01\n"
     ]
    },
    {
     "name": "stderr",
     "output_type": "stream",
     "text": [
      "2024-04-26 18:53:15 (INFO): Set parameter BestBdStop to value -2.9939670050571188e-01\n"
     ]
    },
    {
     "name": "stdout",
     "output_type": "stream",
     "text": [
      "Set parameter IntegralityFocus to value 1\n"
     ]
    },
    {
     "name": "stderr",
     "output_type": "stream",
     "text": [
      "2024-04-26 18:53:15 (INFO): Set parameter IntegralityFocus to value 1\n"
     ]
    },
    {
     "name": "stdout",
     "output_type": "stream",
     "text": [
      "Set parameter IntFeasTol to value 0.0001\n"
     ]
    },
    {
     "name": "stderr",
     "output_type": "stream",
     "text": [
      "2024-04-26 18:53:15 (INFO): Set parameter IntFeasTol to value 0.0001\n"
     ]
    },
    {
     "name": "stdout",
     "output_type": "stream",
     "text": [
      "Loaded user MIP start with objective -0.289809\n",
      "\n"
     ]
    },
    {
     "name": "stderr",
     "output_type": "stream",
     "text": [
      "2024-04-26 18:53:15 (INFO): Optimization status: 15\n",
      "2024-04-26 18:53:15 (INFO): Original -0.28981, Opt objective -0.28981, Opt bound: -0.27391, stop_obj: -0.2993967005057119\n",
      "2024-04-26 18:53:15 (INFO): Robust count 4 out of 16\n"
     ]
    },
    {
     "name": "stdout",
     "output_type": "stream",
     "text": [
      "Warning for adding constraints: zero or small (< 1e-13) coefficients, ignored\n"
     ]
    },
    {
     "name": "stderr",
     "output_type": "stream",
     "text": [
      "2024-04-26 18:53:16 (INFO): Warning for adding constraints: zero or small (< 1e-13) coefficients, ignored\n"
     ]
    },
    {
     "name": "stdout",
     "output_type": "stream",
     "text": [
      "Set parameter IntegralityFocus to value 1\n"
     ]
    },
    {
     "name": "stderr",
     "output_type": "stream",
     "text": [
      "2024-04-26 18:53:16 (INFO): Set parameter IntegralityFocus to value 1\n"
     ]
    },
    {
     "name": "stdout",
     "output_type": "stream",
     "text": [
      "Set parameter IntFeasTol to value 0.0001\n"
     ]
    },
    {
     "name": "stderr",
     "output_type": "stream",
     "text": [
      "2024-04-26 18:53:16 (INFO): Set parameter IntFeasTol to value 0.0001\n"
     ]
    },
    {
     "name": "stdout",
     "output_type": "stream",
     "text": [
      "Loaded user MIP start with objective -0.336513\n",
      "\n"
     ]
    },
    {
     "name": "stderr",
     "output_type": "stream",
     "text": [
      "2024-04-26 18:53:17 (INFO): Optimization status: 2\n",
      "2024-04-26 18:53:17 (INFO): Original -0.33651, Opt objective -0.36188, Opt bound: -0.36188, stop_obj: None\n"
     ]
    },
    {
     "name": "stdout",
     "output_type": "stream",
     "text": [
      "Warning for adding constraints: zero or small (< 1e-13) coefficients, ignored\n"
     ]
    },
    {
     "name": "stderr",
     "output_type": "stream",
     "text": [
      "2024-04-26 18:53:18 (INFO): Warning for adding constraints: zero or small (< 1e-13) coefficients, ignored\n"
     ]
    },
    {
     "name": "stdout",
     "output_type": "stream",
     "text": [
      "Set parameter BestObjStop to value -3.6187639623042567e-01\n"
     ]
    },
    {
     "name": "stderr",
     "output_type": "stream",
     "text": [
      "2024-04-26 18:53:18 (INFO): Set parameter BestObjStop to value -3.6187639623042567e-01\n"
     ]
    },
    {
     "name": "stdout",
     "output_type": "stream",
     "text": [
      "Set parameter BestBdStop to value -3.6187639623042567e-01\n"
     ]
    },
    {
     "name": "stderr",
     "output_type": "stream",
     "text": [
      "2024-04-26 18:53:18 (INFO): Set parameter BestBdStop to value -3.6187639623042567e-01\n"
     ]
    },
    {
     "name": "stdout",
     "output_type": "stream",
     "text": [
      "Set parameter IntegralityFocus to value 1\n"
     ]
    },
    {
     "name": "stderr",
     "output_type": "stream",
     "text": [
      "2024-04-26 18:53:18 (INFO): Set parameter IntegralityFocus to value 1\n"
     ]
    },
    {
     "name": "stdout",
     "output_type": "stream",
     "text": [
      "Set parameter IntFeasTol to value 0.0001\n"
     ]
    },
    {
     "name": "stderr",
     "output_type": "stream",
     "text": [
      "2024-04-26 18:53:18 (INFO): Set parameter IntFeasTol to value 0.0001\n"
     ]
    },
    {
     "name": "stdout",
     "output_type": "stream",
     "text": [
      "Loaded user MIP start with objective -0.339078\n",
      "\n"
     ]
    },
    {
     "name": "stderr",
     "output_type": "stream",
     "text": [
      "2024-04-26 18:53:18 (INFO): Optimization status: 15\n",
      "2024-04-26 18:53:18 (INFO): Original -0.33908, Opt objective -0.33908, Opt bound: -0.31503, stop_obj: -0.36187639623042567\n",
      "2024-04-26 18:53:18 (INFO): Robust count 4 out of 17\n"
     ]
    },
    {
     "name": "stdout",
     "output_type": "stream",
     "text": [
      "Warning for adding constraints: zero or small (< 1e-13) coefficients, ignored\n"
     ]
    },
    {
     "name": "stderr",
     "output_type": "stream",
     "text": [
      "2024-04-26 18:53:19 (INFO): Warning for adding constraints: zero or small (< 1e-13) coefficients, ignored\n"
     ]
    },
    {
     "name": "stdout",
     "output_type": "stream",
     "text": [
      "Set parameter IntegralityFocus to value 1\n"
     ]
    },
    {
     "name": "stderr",
     "output_type": "stream",
     "text": [
      "2024-04-26 18:53:19 (INFO): Set parameter IntegralityFocus to value 1\n"
     ]
    },
    {
     "name": "stdout",
     "output_type": "stream",
     "text": [
      "Set parameter IntFeasTol to value 0.0001\n"
     ]
    },
    {
     "name": "stderr",
     "output_type": "stream",
     "text": [
      "2024-04-26 18:53:19 (INFO): Set parameter IntFeasTol to value 0.0001\n"
     ]
    },
    {
     "name": "stdout",
     "output_type": "stream",
     "text": [
      "Loaded user MIP start with objective -0.327292\n",
      "\n"
     ]
    },
    {
     "name": "stderr",
     "output_type": "stream",
     "text": [
      "2024-04-26 18:53:19 (INFO): Optimization status: 2\n",
      "2024-04-26 18:53:19 (INFO): Original -0.32729, Opt objective -0.35271, Opt bound: -0.35271, stop_obj: None\n"
     ]
    },
    {
     "name": "stdout",
     "output_type": "stream",
     "text": [
      "Warning for adding constraints: zero or small (< 1e-13) coefficients, ignored\n"
     ]
    },
    {
     "name": "stderr",
     "output_type": "stream",
     "text": [
      "2024-04-26 18:53:20 (INFO): Warning for adding constraints: zero or small (< 1e-13) coefficients, ignored\n"
     ]
    },
    {
     "name": "stdout",
     "output_type": "stream",
     "text": [
      "Set parameter BestObjStop to value -3.5271266427981518e-01\n"
     ]
    },
    {
     "name": "stderr",
     "output_type": "stream",
     "text": [
      "2024-04-26 18:53:20 (INFO): Set parameter BestObjStop to value -3.5271266427981518e-01\n"
     ]
    },
    {
     "name": "stdout",
     "output_type": "stream",
     "text": [
      "Set parameter BestBdStop to value -3.5271266427981518e-01\n"
     ]
    },
    {
     "name": "stderr",
     "output_type": "stream",
     "text": [
      "2024-04-26 18:53:20 (INFO): Set parameter BestBdStop to value -3.5271266427981518e-01\n"
     ]
    },
    {
     "name": "stdout",
     "output_type": "stream",
     "text": [
      "Set parameter IntegralityFocus to value 1\n"
     ]
    },
    {
     "name": "stderr",
     "output_type": "stream",
     "text": [
      "2024-04-26 18:53:20 (INFO): Set parameter IntegralityFocus to value 1\n"
     ]
    },
    {
     "name": "stdout",
     "output_type": "stream",
     "text": [
      "Set parameter IntFeasTol to value 0.0001\n"
     ]
    },
    {
     "name": "stderr",
     "output_type": "stream",
     "text": [
      "2024-04-26 18:53:20 (INFO): Set parameter IntFeasTol to value 0.0001\n"
     ]
    },
    {
     "name": "stdout",
     "output_type": "stream",
     "text": [
      "Loaded user MIP start with objective -0.339561\n",
      "\n"
     ]
    },
    {
     "name": "stderr",
     "output_type": "stream",
     "text": [
      "2024-04-26 18:53:20 (INFO): Optimization status: 15\n",
      "2024-04-26 18:53:20 (INFO): Original -0.33956, Opt objective -0.33956, Opt bound: -0.31559, stop_obj: -0.3527126642798152\n",
      "2024-04-26 18:53:20 (INFO): Robust count 4 out of 18\n"
     ]
    },
    {
     "name": "stdout",
     "output_type": "stream",
     "text": [
      "Warning for adding constraints: zero or small (< 1e-13) coefficients, ignored\n"
     ]
    },
    {
     "name": "stderr",
     "output_type": "stream",
     "text": [
      "2024-04-26 18:53:21 (INFO): Warning for adding constraints: zero or small (< 1e-13) coefficients, ignored\n"
     ]
    },
    {
     "name": "stdout",
     "output_type": "stream",
     "text": [
      "Set parameter IntegralityFocus to value 1\n"
     ]
    },
    {
     "name": "stderr",
     "output_type": "stream",
     "text": [
      "2024-04-26 18:53:21 (INFO): Set parameter IntegralityFocus to value 1\n"
     ]
    },
    {
     "name": "stdout",
     "output_type": "stream",
     "text": [
      "Set parameter IntFeasTol to value 0.0001\n"
     ]
    },
    {
     "name": "stderr",
     "output_type": "stream",
     "text": [
      "2024-04-26 18:53:21 (INFO): Set parameter IntFeasTol to value 0.0001\n"
     ]
    },
    {
     "name": "stdout",
     "output_type": "stream",
     "text": [
      "Loaded user MIP start with objective -0.33324\n",
      "\n"
     ]
    },
    {
     "name": "stderr",
     "output_type": "stream",
     "text": [
      "2024-04-26 18:53:22 (INFO): Optimization status: 2\n",
      "2024-04-26 18:53:22 (INFO): Original -0.33324, Opt objective -0.34946, Opt bound: -0.34946, stop_obj: None\n"
     ]
    },
    {
     "name": "stdout",
     "output_type": "stream",
     "text": [
      "Warning for adding constraints: zero or small (< 1e-13) coefficients, ignored\n"
     ]
    },
    {
     "name": "stderr",
     "output_type": "stream",
     "text": [
      "2024-04-26 18:53:23 (INFO): Warning for adding constraints: zero or small (< 1e-13) coefficients, ignored\n"
     ]
    },
    {
     "name": "stdout",
     "output_type": "stream",
     "text": [
      "Set parameter BestObjStop to value -3.4946473013749052e-01\n"
     ]
    },
    {
     "name": "stderr",
     "output_type": "stream",
     "text": [
      "2024-04-26 18:53:23 (INFO): Set parameter BestObjStop to value -3.4946473013749052e-01\n"
     ]
    },
    {
     "name": "stdout",
     "output_type": "stream",
     "text": [
      "Set parameter BestBdStop to value -3.4946473013749052e-01\n"
     ]
    },
    {
     "name": "stderr",
     "output_type": "stream",
     "text": [
      "2024-04-26 18:53:23 (INFO): Set parameter BestBdStop to value -3.4946473013749052e-01\n"
     ]
    },
    {
     "name": "stdout",
     "output_type": "stream",
     "text": [
      "Set parameter IntegralityFocus to value 1\n"
     ]
    },
    {
     "name": "stderr",
     "output_type": "stream",
     "text": [
      "2024-04-26 18:53:23 (INFO): Set parameter IntegralityFocus to value 1\n"
     ]
    },
    {
     "name": "stdout",
     "output_type": "stream",
     "text": [
      "Set parameter IntFeasTol to value 0.0001\n"
     ]
    },
    {
     "name": "stderr",
     "output_type": "stream",
     "text": [
      "2024-04-26 18:53:23 (INFO): Set parameter IntFeasTol to value 0.0001\n"
     ]
    },
    {
     "name": "stdout",
     "output_type": "stream",
     "text": [
      "Loaded user MIP start with objective -0.347202\n",
      "\n"
     ]
    },
    {
     "name": "stderr",
     "output_type": "stream",
     "text": [
      "2024-04-26 18:53:23 (INFO): Optimization status: 15\n",
      "2024-04-26 18:53:23 (INFO): Original -0.34720, Opt objective -0.34720, Opt bound: -0.33180, stop_obj: -0.3494647301374905\n",
      "2024-04-26 18:53:23 (INFO): Robust count 4 out of 19\n"
     ]
    },
    {
     "name": "stdout",
     "output_type": "stream",
     "text": [
      "Warning for adding constraints: zero or small (< 1e-13) coefficients, ignored\n"
     ]
    },
    {
     "name": "stderr",
     "output_type": "stream",
     "text": [
      "2024-04-26 18:53:24 (INFO): Warning for adding constraints: zero or small (< 1e-13) coefficients, ignored\n"
     ]
    },
    {
     "name": "stdout",
     "output_type": "stream",
     "text": [
      "Set parameter IntegralityFocus to value 1\n"
     ]
    },
    {
     "name": "stderr",
     "output_type": "stream",
     "text": [
      "2024-04-26 18:53:24 (INFO): Set parameter IntegralityFocus to value 1\n"
     ]
    },
    {
     "name": "stdout",
     "output_type": "stream",
     "text": [
      "Set parameter IntFeasTol to value 0.0001\n"
     ]
    },
    {
     "name": "stderr",
     "output_type": "stream",
     "text": [
      "2024-04-26 18:53:24 (INFO): Set parameter IntFeasTol to value 0.0001\n"
     ]
    },
    {
     "name": "stdout",
     "output_type": "stream",
     "text": [
      "Loaded user MIP start with objective -0.314716\n",
      "\n"
     ]
    },
    {
     "name": "stderr",
     "output_type": "stream",
     "text": [
      "2024-04-26 18:53:24 (INFO): Optimization status: 2\n",
      "2024-04-26 18:53:24 (INFO): Original -0.31472, Opt objective -0.35158, Opt bound: -0.35158, stop_obj: None\n"
     ]
    },
    {
     "name": "stdout",
     "output_type": "stream",
     "text": [
      "Warning for adding constraints: zero or small (< 1e-13) coefficients, ignored\n"
     ]
    },
    {
     "name": "stderr",
     "output_type": "stream",
     "text": [
      "2024-04-26 18:53:25 (INFO): Warning for adding constraints: zero or small (< 1e-13) coefficients, ignored\n"
     ]
    },
    {
     "name": "stdout",
     "output_type": "stream",
     "text": [
      "Set parameter BestObjStop to value -3.5157880628154270e-01\n"
     ]
    },
    {
     "name": "stderr",
     "output_type": "stream",
     "text": [
      "2024-04-26 18:53:25 (INFO): Set parameter BestObjStop to value -3.5157880628154270e-01\n"
     ]
    },
    {
     "name": "stdout",
     "output_type": "stream",
     "text": [
      "Set parameter BestBdStop to value -3.5157880628154270e-01\n"
     ]
    },
    {
     "name": "stderr",
     "output_type": "stream",
     "text": [
      "2024-04-26 18:53:25 (INFO): Set parameter BestBdStop to value -3.5157880628154270e-01\n"
     ]
    },
    {
     "name": "stdout",
     "output_type": "stream",
     "text": [
      "Set parameter IntegralityFocus to value 1\n"
     ]
    },
    {
     "name": "stderr",
     "output_type": "stream",
     "text": [
      "2024-04-26 18:53:25 (INFO): Set parameter IntegralityFocus to value 1\n"
     ]
    },
    {
     "name": "stdout",
     "output_type": "stream",
     "text": [
      "Set parameter IntFeasTol to value 0.0001\n"
     ]
    },
    {
     "name": "stderr",
     "output_type": "stream",
     "text": [
      "2024-04-26 18:53:25 (INFO): Set parameter IntFeasTol to value 0.0001\n"
     ]
    },
    {
     "name": "stdout",
     "output_type": "stream",
     "text": [
      "Loaded user MIP start with objective -0.317717\n",
      "\n"
     ]
    },
    {
     "name": "stderr",
     "output_type": "stream",
     "text": [
      "2024-04-26 18:53:26 (INFO): Optimization status: 15\n",
      "2024-04-26 18:53:26 (INFO): Original -0.31772, Opt objective -0.31772, Opt bound: -0.28304, stop_obj: -0.3515788062815427\n",
      "2024-04-26 18:53:26 (INFO): Robust count 4 out of 20\n"
     ]
    },
    {
     "name": "stdout",
     "output_type": "stream",
     "text": [
      "Warning for adding constraints: zero or small (< 1e-13) coefficients, ignored\n"
     ]
    },
    {
     "name": "stderr",
     "output_type": "stream",
     "text": [
      "2024-04-26 18:53:27 (INFO): Warning for adding constraints: zero or small (< 1e-13) coefficients, ignored\n"
     ]
    },
    {
     "name": "stdout",
     "output_type": "stream",
     "text": [
      "Set parameter IntegralityFocus to value 1\n"
     ]
    },
    {
     "name": "stderr",
     "output_type": "stream",
     "text": [
      "2024-04-26 18:53:27 (INFO): Set parameter IntegralityFocus to value 1\n"
     ]
    },
    {
     "name": "stdout",
     "output_type": "stream",
     "text": [
      "Set parameter IntFeasTol to value 0.0001\n"
     ]
    },
    {
     "name": "stderr",
     "output_type": "stream",
     "text": [
      "2024-04-26 18:53:27 (INFO): Set parameter IntFeasTol to value 0.0001\n"
     ]
    },
    {
     "name": "stdout",
     "output_type": "stream",
     "text": [
      "Loaded user MIP start with objective -0.284596\n",
      "\n"
     ]
    },
    {
     "name": "stderr",
     "output_type": "stream",
     "text": [
      "2024-04-26 18:53:27 (INFO): Optimization status: 2\n",
      "2024-04-26 18:53:27 (INFO): Original -0.28460, Opt objective -0.29669, Opt bound: -0.29669, stop_obj: None\n"
     ]
    },
    {
     "name": "stdout",
     "output_type": "stream",
     "text": [
      "Warning for adding constraints: zero or small (< 1e-13) coefficients, ignored\n"
     ]
    },
    {
     "name": "stderr",
     "output_type": "stream",
     "text": [
      "2024-04-26 18:53:28 (INFO): Warning for adding constraints: zero or small (< 1e-13) coefficients, ignored\n"
     ]
    },
    {
     "name": "stdout",
     "output_type": "stream",
     "text": [
      "Set parameter BestObjStop to value -2.9668823793304411e-01\n"
     ]
    },
    {
     "name": "stderr",
     "output_type": "stream",
     "text": [
      "2024-04-26 18:53:28 (INFO): Set parameter BestObjStop to value -2.9668823793304411e-01\n"
     ]
    },
    {
     "name": "stdout",
     "output_type": "stream",
     "text": [
      "Set parameter BestBdStop to value -2.9668823793304411e-01\n"
     ]
    },
    {
     "name": "stderr",
     "output_type": "stream",
     "text": [
      "2024-04-26 18:53:28 (INFO): Set parameter BestBdStop to value -2.9668823793304411e-01\n"
     ]
    },
    {
     "name": "stdout",
     "output_type": "stream",
     "text": [
      "Set parameter IntegralityFocus to value 1\n"
     ]
    },
    {
     "name": "stderr",
     "output_type": "stream",
     "text": [
      "2024-04-26 18:53:28 (INFO): Set parameter IntegralityFocus to value 1\n"
     ]
    },
    {
     "name": "stdout",
     "output_type": "stream",
     "text": [
      "Set parameter IntFeasTol to value 0.0001\n"
     ]
    },
    {
     "name": "stderr",
     "output_type": "stream",
     "text": [
      "2024-04-26 18:53:28 (INFO): Set parameter IntFeasTol to value 0.0001\n"
     ]
    },
    {
     "name": "stdout",
     "output_type": "stream",
     "text": [
      "Loaded user MIP start with objective -0.29838\n",
      "\n"
     ]
    },
    {
     "name": "stderr",
     "output_type": "stream",
     "text": [
      "2024-04-26 18:53:28 (INFO): Optimization status: 2\n",
      "2024-04-26 18:53:28 (INFO): Original -0.29838, Opt objective -0.28674, Opt bound: -0.28674, stop_obj: -0.2966882379330441\n",
      "2024-04-26 18:53:28 (INFO): Robust count 4 out of 21\n"
     ]
    },
    {
     "name": "stdout",
     "output_type": "stream",
     "text": [
      "Warning for adding constraints: zero or small (< 1e-13) coefficients, ignored\n"
     ]
    },
    {
     "name": "stderr",
     "output_type": "stream",
     "text": [
      "2024-04-26 18:53:29 (INFO): Warning for adding constraints: zero or small (< 1e-13) coefficients, ignored\n"
     ]
    },
    {
     "name": "stdout",
     "output_type": "stream",
     "text": [
      "Set parameter IntegralityFocus to value 1\n"
     ]
    },
    {
     "name": "stderr",
     "output_type": "stream",
     "text": [
      "2024-04-26 18:53:29 (INFO): Set parameter IntegralityFocus to value 1\n"
     ]
    },
    {
     "name": "stdout",
     "output_type": "stream",
     "text": [
      "Set parameter IntFeasTol to value 0.0001\n"
     ]
    },
    {
     "name": "stderr",
     "output_type": "stream",
     "text": [
      "2024-04-26 18:53:29 (INFO): Set parameter IntFeasTol to value 0.0001\n"
     ]
    },
    {
     "name": "stdout",
     "output_type": "stream",
     "text": [
      "Loaded user MIP start with objective -0.339561\n",
      "\n"
     ]
    },
    {
     "name": "stderr",
     "output_type": "stream",
     "text": [
      "2024-04-26 18:53:29 (INFO): Optimization status: 2\n",
      "2024-04-26 18:53:29 (INFO): Original -0.33956, Opt objective -0.37711, Opt bound: -0.37711, stop_obj: None\n"
     ]
    },
    {
     "ename": "KeyboardInterrupt",
     "evalue": "",
     "output_type": "error",
     "traceback": [
      "\u001b[0;31m---------------------------------------------------------------------------\u001b[0m",
      "\u001b[0;31mKeyboardInterrupt\u001b[0m                         Traceback (most recent call last)",
      "Cell \u001b[0;32mIn[7], line 22\u001b[0m\n\u001b[1;32m     20\u001b[0m model_params[\u001b[38;5;124m\"\u001b[39m\u001b[38;5;124mbias\u001b[39m\u001b[38;5;124m\"\u001b[39m] \u001b[38;5;241m=\u001b[39m \u001b[38;5;28;01mFalse\u001b[39;00m\n\u001b[1;32m     21\u001b[0m data_params[\u001b[38;5;124m\"\u001b[39m\u001b[38;5;124mlearning_setting\u001b[39m\u001b[38;5;124m\"\u001b[39m] \u001b[38;5;241m=\u001b[39m \u001b[38;5;124m\"\u001b[39m\u001b[38;5;124mtransductive\u001b[39m\u001b[38;5;124m\"\u001b[39m\n\u001b[0;32m---> 22\u001b[0m \u001b[43mrun\u001b[49m\u001b[43m(\u001b[49m\u001b[43mdata_params\u001b[49m\u001b[43m,\u001b[49m\u001b[43m \u001b[49m\u001b[43mmodel_params\u001b[49m\u001b[43m,\u001b[49m\u001b[43m \u001b[49m\u001b[43mcertificate_params\u001b[49m\u001b[43m,\u001b[49m\u001b[43m \u001b[49m\u001b[43mverbosity_params\u001b[49m\u001b[43m,\u001b[49m\u001b[43m \u001b[49m\u001b[43mother_params\u001b[49m\u001b[43m,\u001b[49m\u001b[43m \u001b[49m\u001b[43mseed\u001b[49m\u001b[43m)\u001b[49m\n",
      "File \u001b[0;32m/ceph/ssd/staff/gosl/.conda/envs/py311_ntk/lib/python3.11/site-packages/sacred/config/captured_function.py:42\u001b[0m, in \u001b[0;36mcaptured_function\u001b[0;34m(wrapped, instance, args, kwargs)\u001b[0m\n\u001b[1;32m     40\u001b[0m \u001b[38;5;66;03m# =================== run actual function =================================\u001b[39;00m\n\u001b[1;32m     41\u001b[0m \u001b[38;5;28;01mwith\u001b[39;00m ConfigError\u001b[38;5;241m.\u001b[39mtrack(wrapped\u001b[38;5;241m.\u001b[39mconfig, wrapped\u001b[38;5;241m.\u001b[39mprefix):\n\u001b[0;32m---> 42\u001b[0m     result \u001b[38;5;241m=\u001b[39m \u001b[43mwrapped\u001b[49m\u001b[43m(\u001b[49m\u001b[38;5;241;43m*\u001b[39;49m\u001b[43margs\u001b[49m\u001b[43m,\u001b[49m\u001b[43m \u001b[49m\u001b[38;5;241;43m*\u001b[39;49m\u001b[38;5;241;43m*\u001b[39;49m\u001b[43mkwargs\u001b[49m\u001b[43m)\u001b[49m\n\u001b[1;32m     43\u001b[0m \u001b[38;5;66;03m# =========================================================================\u001b[39;00m\n\u001b[1;32m     44\u001b[0m \u001b[38;5;28;01mif\u001b[39;00m wrapped\u001b[38;5;241m.\u001b[39mlogger \u001b[38;5;129;01mis\u001b[39;00m \u001b[38;5;129;01mnot\u001b[39;00m \u001b[38;5;28;01mNone\u001b[39;00m:\n",
      "File \u001b[0;32m/ceph/ssd/staff/gosl/src/ntk-robust/exp_certify_multiclass.py:326\u001b[0m, in \u001b[0;36mrun\u001b[0;34m(data_params, model_params, certificate_params, verbosity_params, other_params, seed, _run)\u001b[0m\n\u001b[1;32m    324\u001b[0m svm_alpha \u001b[38;5;241m=\u001b[39m ntk\u001b[38;5;241m.\u001b[39msvm\n\u001b[1;32m    325\u001b[0m \u001b[38;5;28;01mif\u001b[39;00m model_params[\u001b[38;5;124m\"\u001b[39m\u001b[38;5;124msolver\u001b[39m\u001b[38;5;124m\"\u001b[39m] \u001b[38;5;241m==\u001b[39m \u001b[38;5;124m\"\u001b[39m\u001b[38;5;124mqplayer_one_vs_all\u001b[39m\u001b[38;5;124m\"\u001b[39m:\n\u001b[0;32m--> 326\u001b[0m     is_robust_l, obj_l, opt_status_l \u001b[38;5;241m=\u001b[39m \u001b[43mutils\u001b[49m\u001b[38;5;241;43m.\u001b[39;49m\u001b[43mcertify_one_vs_all_milp\u001b[49m\u001b[43m(\u001b[49m\n\u001b[1;32m    327\u001b[0m \u001b[43m            \u001b[49m\u001b[43midx_labeled\u001b[49m\u001b[43m,\u001b[49m\u001b[43m \u001b[49m\u001b[43midx_test\u001b[49m\u001b[43m,\u001b[49m\u001b[43m \u001b[49m\u001b[43mntk_test\u001b[49m\u001b[43m,\u001b[49m\u001b[43m \u001b[49m\u001b[43mntk_lb\u001b[49m\u001b[43m,\u001b[49m\u001b[43m \u001b[49m\u001b[43mntk_ub\u001b[49m\u001b[43m,\u001b[49m\u001b[43m \u001b[49m\u001b[43my\u001b[49m\u001b[43m,\u001b[49m\u001b[43m \u001b[49m\u001b[43my_pred\u001b[49m\u001b[43m,\u001b[49m\n\u001b[1;32m    328\u001b[0m \u001b[43m            \u001b[49m\u001b[43msvm_alpha\u001b[49m\u001b[43m,\u001b[49m\u001b[43m \u001b[49m\u001b[43mcertificate_params\u001b[49m\u001b[38;5;241;43m=\u001b[39;49m\u001b[43mcertificate_params\u001b[49m\u001b[43m,\u001b[49m\n\u001b[1;32m    329\u001b[0m \u001b[43m            \u001b[49m\u001b[43mC\u001b[49m\u001b[38;5;241;43m=\u001b[39;49m\u001b[43mmodel_params\u001b[49m\u001b[43m[\u001b[49m\u001b[38;5;124;43m\"\u001b[39;49m\u001b[38;5;124;43mregularizer\u001b[39;49m\u001b[38;5;124;43m\"\u001b[39;49m\u001b[43m]\u001b[49m\u001b[43m,\u001b[49m\u001b[43m \u001b[49m\u001b[43mM\u001b[49m\u001b[38;5;241;43m=\u001b[39;49m\u001b[38;5;241;43m1e3\u001b[39;49m\u001b[43m,\u001b[49m\u001b[43m \u001b[49m\u001b[43mMprime\u001b[49m\u001b[38;5;241;43m=\u001b[39;49m\u001b[38;5;241;43m1e3\u001b[39;49m\u001b[43m,\u001b[49m\n\u001b[1;32m    330\u001b[0m \u001b[43m    \u001b[49m\u001b[43m)\u001b[49m\n\u001b[1;32m    331\u001b[0m acc_cert \u001b[38;5;241m=\u001b[39m \u001b[38;5;28msum\u001b[39m(is_robust_l) \u001b[38;5;241m/\u001b[39m y_pred\u001b[38;5;241m.\u001b[39mshape[\u001b[38;5;241m0\u001b[39m]\n\u001b[1;32m    332\u001b[0m acc_cert_u \u001b[38;5;241m=\u001b[39m \u001b[38;5;241m0\u001b[39m \u001b[38;5;66;03m#not implemented\u001b[39;00m\n",
      "File \u001b[0;32m/ceph/ssd/staff/gosl/src/ntk-robust/src/utils.py:278\u001b[0m, in \u001b[0;36mcertify_one_vs_all_milp\u001b[0;34m(idx_labeled, idx_test, ntk, ntk_lb, ntk_ub, y, y_pred, svm_alpha, certificate_params, C, M, Mprime, milp)\u001b[0m\n\u001b[1;32m    275\u001b[0m     t \u001b[38;5;241m=\u001b[39m m\u001b[38;5;241m.\u001b[39maddMVar(shape\u001b[38;5;241m=\u001b[39mn_labeled, vtype\u001b[38;5;241m=\u001b[39mGRB\u001b[38;5;241m.\u001b[39mBINARY, name\u001b[38;5;241m=\u001b[39m\u001b[38;5;124m\"\u001b[39m\u001b[38;5;124mt\u001b[39m\u001b[38;5;124m\"\u001b[39m)\n\u001b[1;32m    277\u001b[0m \u001b[38;5;66;03m# Add constraints\u001b[39;00m\n\u001b[0;32m--> 278\u001b[0m m\u001b[38;5;241m.\u001b[39maddConstr(\u001b[43mz\u001b[49m\u001b[43m \u001b[49m\u001b[38;5;241;43m<\u001b[39;49m\u001b[38;5;241;43m=\u001b[39;49m\u001b[43m \u001b[49m\u001b[43mntk_labeled_ub\u001b[49m\u001b[43m \u001b[49m\u001b[38;5;241;43m*\u001b[39;49m\u001b[43m \u001b[49m\u001b[43malpha\u001b[49m, \u001b[38;5;124m\"\u001b[39m\u001b[38;5;124mz_ub\u001b[39m\u001b[38;5;124m\"\u001b[39m)\n\u001b[1;32m    279\u001b[0m m\u001b[38;5;241m.\u001b[39maddConstr(z \u001b[38;5;241m>\u001b[39m\u001b[38;5;241m=\u001b[39m ntk_labeled_lb \u001b[38;5;241m*\u001b[39m alpha, \u001b[38;5;124m\"\u001b[39m\u001b[38;5;124mz_lb\u001b[39m\u001b[38;5;124m\"\u001b[39m)\n\u001b[1;32m    280\u001b[0m m\u001b[38;5;241m.\u001b[39maddConstr(z_test \u001b[38;5;241m<\u001b[39m\u001b[38;5;241m=\u001b[39m ntk_unlabeled_ub[i,:]\u001b[38;5;241m.\u001b[39mreshape(\u001b[38;5;241m1\u001b[39m,\u001b[38;5;241m-\u001b[39m\u001b[38;5;241m1\u001b[39m) \u001b[38;5;241m*\u001b[39m alpha, \u001b[38;5;124m\"\u001b[39m\u001b[38;5;124mz_test_ub\u001b[39m\u001b[38;5;124m\"\u001b[39m)\n",
      "File \u001b[0;32msrc/gurobipy/mvar.pxi:663\u001b[0m, in \u001b[0;36mgurobipy.MVar.__le__\u001b[0;34m()\u001b[0m\n",
      "File \u001b[0;32msrc/gurobipy/tempconstr.pxi:22\u001b[0m, in \u001b[0;36mgurobipy.TempConstr.__init__\u001b[0;34m()\u001b[0m\n",
      "File \u001b[0;32msrc/gurobipy/mvar.pxi:363\u001b[0m, in \u001b[0;36mgurobipy.MVar.__sub__\u001b[0;34m()\u001b[0m\n",
      "File \u001b[0;32msrc/gurobipy/mlinexpr.pxi:1383\u001b[0m, in \u001b[0;36mgurobipy.MLinExpr.__sub__\u001b[0;34m()\u001b[0m\n",
      "File \u001b[0;32msrc/gurobipy/mlinexpr.pxi:1760\u001b[0m, in \u001b[0;36mgurobipy.MLinExpr.__rmul__\u001b[0;34m()\u001b[0m\n",
      "File \u001b[0;32m/ceph/ssd/staff/gosl/.conda/envs/py311_ntk/lib/python3.11/site-packages/scipy/sparse/_base.py:1461\u001b[0m, in \u001b[0;36missparse\u001b[0;34m(x)\u001b[0m\n\u001b[1;32m   1456\u001b[0m     \u001b[38;5;28;01mpass\u001b[39;00m\n\u001b[1;32m   1458\u001b[0m sparray\u001b[38;5;241m.\u001b[39m\u001b[38;5;18m__doc__\u001b[39m \u001b[38;5;241m=\u001b[39m _spbase\u001b[38;5;241m.\u001b[39m\u001b[38;5;18m__doc__\u001b[39m\n\u001b[0;32m-> 1461\u001b[0m \u001b[38;5;28;01mdef\u001b[39;00m \u001b[38;5;21missparse\u001b[39m(x):\n\u001b[1;32m   1462\u001b[0m \u001b[38;5;250m    \u001b[39m\u001b[38;5;124;03m\"\"\"Is `x` of a sparse array type?\u001b[39;00m\n\u001b[1;32m   1463\u001b[0m \n\u001b[1;32m   1464\u001b[0m \u001b[38;5;124;03m    Parameters\u001b[39;00m\n\u001b[0;32m   (...)\u001b[0m\n\u001b[1;32m   1485\u001b[0m \u001b[38;5;124;03m    False\u001b[39;00m\n\u001b[1;32m   1486\u001b[0m \u001b[38;5;124;03m    \"\"\"\u001b[39;00m\n\u001b[1;32m   1487\u001b[0m     \u001b[38;5;28;01mreturn\u001b[39;00m \u001b[38;5;28misinstance\u001b[39m(x, _spbase)\n",
      "\u001b[0;31mKeyboardInterrupt\u001b[0m: "
     ]
    }
   ],
   "source": [
    "# MIP foucs = 2\n",
    "#model_params[\"cache_size\"] = 10000\n",
    "data_params[\"dataset\"] = \"cora\"\n",
    "other_params[\"device\"] = \"0\"\n",
    "other_params[\"debug\"] = False\n",
    "certificate_params[\"n_adversarial\"] = 270\n",
    "certificate_params[\"delta\"] = 0.1\n",
    "certificate_params[\"delta_absolute\"] = False\n",
    "certificate_params[\"method\"] = \"XXT\"\n",
    "certificate_params[\"perturbation_model\"] = \"l2\"\n",
    "certificate_params[\"attack_nodes\"] = \"test\"\n",
    "certificate_params[\"MIPFocus\"] = 2\n",
    "certificate_params[\"LogToConsole\"] = 0\n",
    "certificate_params[\"OutputFlag\"] = 0\n",
    "other_params[\"path_gurobi_license\"] = \"/ceph/ssd/staff/gosl/app/gurobi.lic\"\n",
    "verbosity_params[\"debug_lvl\"] = \"info\"\n",
    "model_params[\"regularizer\"] = 0.001\n",
    "model_params[\"solver\"] = \"qplayer_one_vs_all\"\n",
    "model_params[\"alpha_tol\"] = 1e-4\n",
    "model_params[\"bias\"] = False\n",
    "data_params[\"learning_setting\"] = \"transductive\"\n",
    "run(data_params, model_params, certificate_params, verbosity_params, other_params, seed)"
   ]
  },
  {
   "cell_type": "code",
   "execution_count": 10,
   "metadata": {},
   "outputs": [
    {
     "name": "stderr",
     "output_type": "stream",
     "text": [
      "2024-04-25 21:56:42 (INFO): Starting experiment exp_certify_multiclass with configuration:\n",
      "2024-04-25 21:56:42 (INFO): data_params: {'dataset': 'cora_ml_cont', 'learning_setting': 'transductive', 'specification': {'n_per_class': 10, 'fraction_test': 0.01, 'data_dir': './data', 'make_undirected': True, 'binary_attr': False, 'balance_test': True}}\n",
      "2024-04-25 21:56:42 (INFO): model_params: {'label': 'GCN', 'model': 'GCN', 'normalization': 'row_normalization', 'depth': 1, 'regularizer': 0.005, 'pred_method': 'svm', 'activation': 'relu', 'solver': 'qplayer_one_vs_all', 'alpha_tol': 0.0001, 'bias': False}\n",
      "2024-04-25 21:56:42 (INFO): certification_params: {'n_adversarial': 270, 'perturbation_model': 'l2', 'delta': 0.01, 'delta_absolute': False, 'method': 'XXT', 'attack_nodes': 'test', 'MIPFocus': 2, 'LogToConsole': 1, 'OutputFlag': 1}\n",
      "2024-04-25 21:56:42 (INFO): verbosity_params: {'debug_lvl': 'info'}\n",
      "2024-04-25 21:56:42 (INFO): other_params: {'device': '0', 'dtype': torch.float64, 'allow_tf32': False, 'debug': False, 'path_gurobi_license': '/ceph/ssd/staff/gosl/app/gurobi.lic'}\n",
      "2024-04-25 21:56:42 (INFO): seed: 0\n",
      "2024-04-25 21:56:42 (INFO): Currently on gpu device cuda:0\n",
      "2024-04-25 21:56:43 (INFO): number of samples\n",
      " - labeled: 70 \n",
      " - val: 70 \n",
      " - test: 304 \n",
      " - unlabeled: 2551\n",
      "2024-04-25 21:56:44 (INFO): Delta: 0.01\n"
     ]
    },
    {
     "name": "stdout",
     "output_type": "stream",
     "text": [
      "Class 0: 53 alphas found: ['0.0000', '0.0050', '0.0050', '0.0000', '0.0000', '0.0000', '0.0000', '0.0000', '0.0000', '0.0007', '0.0030', '0.0000', '0.0050', '0.0000', '0.0000', '0.0000', '0.0025', '0.0000', '0.0000', '0.0000', '0.0000', '0.0050', '0.0050', '0.0050', '0.0000', '0.0000', '0.0000', '0.0000', '0.0050', '0.0000', '0.0013', '0.0050', '0.0000', '0.0000', '0.0000', '0.0050', '0.0000', '0.0000', '0.0000', '0.0050', '0.0000', '0.0000', '0.0050', '0.0000', '0.0050', '0.0050', '0.0000', '0.0000', '0.0050', '0.0002', '0.0000', '0.0000', '0.0050', '0.0000', '0.0000', '0.0043', '0.0000', '0.0000', '0.0000', '0.0000', '0.0000', '0.0050', '0.0001', '0.0000', '0.0000', '0.0000', '0.0050', '-0.0000', '0.0050', '0.0050', '0.0038', '0.0050', '0.0000', '0.0003', '0.0000', '0.0000', '0.0000', '0.0000', '0.0000', '0.0000', '0.0000', '0.0000', '0.0026', '0.0000', '0.0050', '0.0000', '0.0000', '0.0050', '0.0000', '0.0000', '0.0050', '0.0000', '0.0010', '0.0000', '0.0050', '0.0000', '0.0000', '0.0050', '0.0000', '0.0000', '0.0050', '0.0050', '0.0000', '0.0000', '0.0000', '0.0000', '0.0000', '0.0000', '0.0000', '0.0045', '0.0050', '0.0000', '0.0022', '0.0000', '0.0000', '0.0000', '0.0000', '0.0000', '0.0050', '0.0050', '0.0050', '0.0050', '0.0028', '0.0000', '0.0000', '0.0000', '0.0050', '0.0000', '0.0000', '0.0034', '0.0050', '0.0000', '0.0000', '0.0006', '0.0000', '0.0022', '0.0000', '0.0050', '0.0014', '0.0000']\n",
      "Class 1: 53 alphas found: ['0.0000', '-0.0000', '-0.0000', '-0.0000', '0.0050', '0.0050', '0.0050', '-0.0000', '-0.0000', '-0.0000', '0.0013', '-0.0000', '0.0022', '-0.0000', '0.0050', '0.0050', '-0.0000', '0.0000', '-0.0000', '0.0050', '0.0050', '0.0026', '0.0050', '0.0050', '-0.0000', '0.0050', '0.0050', '0.0039', '0.0000', '-0.0000', '-0.0000', '-0.0000', '-0.0000', '-0.0000', '-0.0000', '-0.0000', '-0.0000', '-0.0000', '-0.0000', '-0.0000', '-0.0000', '0.0050', '-0.0000', '0.0050', '0.0004', '-0.0000', '-0.0000', '0.0025', '-0.0000', '-0.0000', '0.0050', '-0.0000', '-0.0000', '0.0037', '-0.0000', '0.0005', '-0.0000', '-0.0000', '0.0023', '-0.0000', '0.0050', '-0.0000', '-0.0000', '-0.0000', '0.0050', '0.0050', '-0.0000', '-0.0000', '0.0050', '0.0050', '0.0020', '-0.0000', '0.0050', '0.0050', '0.0025', '-0.0000', '-0.0000', '0.0050', '-0.0000', '-0.0000', '0.0044', '-0.0000', '0.0050', '0.0004', '-0.0000', '-0.0000', '0.0050', '-0.0000', '-0.0000', '0.0050', '-0.0000', '0.0050', '-0.0000', '0.0000', '-0.0000', '-0.0000', '-0.0000', '0.0000', '-0.0000', '-0.0000', '-0.0000', '-0.0000', '-0.0000', '0.0027', '-0.0000', '-0.0000', '0.0043', '0.0003', '-0.0000', '-0.0000', '0.0050', '0.0050', '-0.0000', '-0.0000', '-0.0000', '-0.0000', '-0.0000', '0.0050', '0.0050', '-0.0000', '0.0010', '-0.0000', '-0.0000', '0.0050', '0.0000', '-0.0000', '-0.0000', '0.0050', '-0.0000', '0.0019', '0.0000', '0.0049', '-0.0000', '-0.0000', '-0.0000', '-0.0000', '-0.0000', '-0.0000', '0.0050', '0.0030']\n",
      "Class 2: 53 alphas found: ['0.0000', '0.0000', '0.0000', '0.0050', '0.0000', '0.0000', '0.0050', '0.0016', '0.0050', '0.0050', '0.0035', '-0.0000', '0.0000', '0.0000', '0.0000', '0.0000', '0.0050', '0.0012', '-0.0000', '0.0000', '0.0000', '0.0000', '0.0000', '0.0024', '0.0018', '0.0000', '0.0000', '0.0038', '0.0000', '0.0050', '0.0000', '0.0000', '0.0050', '0.0012', '0.0000', '0.0000', '0.0050', '0.0050', '0.0000', '0.0000', '0.0050', '0.0000', '0.0024', '0.0000', '0.0000', '0.0043', '0.0000', '0.0047', '0.0000', '0.0050', '0.0000', '0.0050', '0.0000', '0.0000', '0.0000', '0.0000', '0.0050', '0.0013', '0.0001', '0.0050', '0.0000', '0.0000', '0.0050', '0.0000', '0.0000', '0.0000', '0.0050', '0.0050', '0.0000', '0.0021', '0.0046', '0.0000', '0.0000', '0.0000', '0.0016', '0.0050', '0.0000', '0.0000', '0.0050', '-0.0000', '0.0000', '0.0050', '0.0000', '0.0000', '0.0000', '-0.0000', '0.0000', '0.0000', '-0.0000', '0.0000', '0.0000', '0.0000', '0.0050', '0.0028', '0.0000', '-0.0000', '0.0000', '0.0050', '0.0000', '0.0035', '0.0000', '0.0000', '0.0045', '0.0000', '0.0050', '0.0000', '0.0000', '0.0000', '0.0000', '0.0000', '0.0000', '0.0000', '0.0050', '0.0000', '0.0000', '0.0050', '-0.0000', '0.0000', '0.0000', '0.0000', '0.0050', '0.0000', '0.0050', '0.0000', '0.0050', '0.0050', '0.0000', '0.0000', '0.0050', '0.0000', '0.0000', '0.0042', '0.0050', '0.0050', '0.0000', '0.0000', '0.0000', '0.0000', '0.0000', '0.0000']\n",
      "Class 3: 53 alphas found: ['0.0050', '-0.0000', '0.0000', '-0.0000', '0.0050', '-0.0000', '-0.0000', '-0.0000', '-0.0000', '0.0050', '0.0050', '-0.0000', '0.0000', '-0.0000', '-0.0000', '0.0050', '-0.0000', '-0.0000', '0.0050', '0.0050', '0.0024', '0.0000', '-0.0000', '0.0006', '-0.0000', '-0.0000', '-0.0000', '0.0000', '0.0050', '-0.0000', '0.0024', '-0.0000', '-0.0000', '0.0036', '-0.0000', '0.0000', '-0.0000', '-0.0000', '-0.0000', '-0.0000', '-0.0000', '-0.0000', '0.0007', '0.0050', '-0.0000', '-0.0000', '-0.0000', '0.0050', '-0.0000', '0.0050', '0.0050', '-0.0000', '0.0000', '0.0050', '-0.0000', '-0.0000', '0.0050', '0.0050', '0.0050', '-0.0000', '-0.0000', '0.0000', '-0.0000', '-0.0000', '0.0050', '-0.0000', '0.0050', '-0.0000', '0.0000', '-0.0000', '0.0041', '-0.0000', '0.0000', '-0.0000', '0.0050', '0.0027', '-0.0000', '-0.0000', '-0.0000', '-0.0000', '-0.0000', '-0.0000', '0.0000', '-0.0000', '-0.0000', '-0.0000', '0.0038', '-0.0000', '0.0050', '-0.0000', '0.0044', '-0.0000', '-0.0000', '0.0033', '0.0048', '-0.0000', '-0.0000', '0.0050', '0.0011', '-0.0000', '0.0050', '0.0050', '0.0050', '0.0050', '-0.0000', '0.0050', '-0.0000', '0.0050', '0.0050', '0.0050', '0.0042', '0.0034', '-0.0000', '0.0013', '0.0050', '0.0050', '0.0050', '0.0019', '-0.0000', '-0.0000', '0.0014', '-0.0000', '-0.0000', '-0.0000', '-0.0000', '-0.0000', '-0.0000', '-0.0000', '-0.0000', '0.0050', '-0.0000', '-0.0000', '-0.0000', '-0.0000', '-0.0000', '0.0000', '-0.0000', '0.0000', '-0.0000', '-0.0000']\n",
      "Class 4: 53 alphas found: ['0.0000', '0.0000', '0.0000', '-0.0000', '0.0000', '0.0000', '0.0050', '0.0050', '-0.0000', '0.0000', '0.0000', '0.0050', '0.0000', '0.0007', '0.0045', '0.0000', '0.0000', '0.0002', '0.0050', '0.0000', '0.0050', '0.0000', '0.0000', '0.0050', '0.0050', '0.0050', '0.0000', '0.0025', '0.0000', '0.0050', '0.0050', '0.0002', '0.0000', '0.0050', '0.0000', '0.0000', '0.0050', '0.0050', '0.0000', '0.0000', '0.0000', '0.0050', '0.0000', '0.0050', '0.0000', '0.0000', '0.0000', '0.0050', '0.0000', '0.0050', '0.0006', '-0.0000', '0.0000', '0.0029', '0.0000', '0.0000', '0.0000', '0.0050', '0.0020', '0.0000', '0.0015', '0.0000', '0.0000', '0.0000', '0.0000', '0.0000', '0.0050', '-0.0000', '0.0014', '0.0000', '0.0050', '0.0000', '0.0009', '0.0000', '0.0050', '0.0050', '0.0000', '0.0000', '0.0050', '0.0021', '-0.0000', '0.0020', '0.0000', '0.0000', '0.0000', '0.0050', '0.0025', '0.0000', '0.0017', '0.0000', '0.0000', '-0.0000', '-0.0000', '0.0050', '0.0000', '0.0050', '0.0000', '0.0050', '0.0000', '0.0000', '0.0050', '0.0000', '0.0010', '0.0050', '0.0003', '0.0000', '0.0000', '0.0000', '0.0000', '0.0000', '0.0000', '0.0048', '0.0000', '0.0000', '0.0000', '0.0000', '0.0050', '0.0015', '0.0000', '0.0011', '0.0041', '0.0050', '-0.0000', '0.0000', '-0.0000', '0.0000', '0.0000', '0.0050', '0.0050', '0.0000', '0.0000', '0.0000', '0.0015', '0.0024', '-0.0000', '0.0000', '0.0037', '0.0000', '0.0000', '-0.0000']\n",
      "Class 5: 53 alphas found: ['0.0000', '0.0049', '0.0050', '0.0000', '0.0000', '0.0000', '0.0000', '0.0000', '0.0000', '0.0000', '0.0000', '0.0000', '0.0000', '0.0050', '0.0000', '0.0000', '0.0050', '0.0050', '0.0000', '0.0000', '0.0017', '0.0050', '0.0010', '0.0050', '0.0042', '0.0044', '0.0000', '0.0000', '0.0000', '0.0000', '0.0000', '0.0050', '0.0000', '0.0000', '0.0000', '0.0050', '0.0050', '0.0050', '0.0000', '0.0000', '0.0050', '0.0050', '0.0025', '0.0000', '-0.0000', '0.0000', '0.0000', '0.0000', '-0.0000', '0.0048', '0.0000', '0.0001', '0.0000', '0.0023', '0.0000', '0.0050', '0.0000', '0.0000', '0.0002', '0.0050', '0.0050', '0.0000', '0.0000', '0.0000', '0.0037', '0.0000', '0.0000', '-0.0000', '0.0032', '0.0008', '0.0026', '0.0000', '-0.0000', '0.0050', '0.0000', '0.0000', '0.0000', '0.0050', '0.0000', '0.0050', '0.0050', '0.0000', '0.0050', '0.0050', '0.0000', '0.0000', '0.0050', '0.0050', '0.0000', '0.0000', '0.0004', '0.0050', '0.0000', '0.0000', '0.0003', '0.0000', '0.0000', '0.0000', '0.0000', '0.0050', '0.0000', '0.0050', '0.0000', '0.0000', '0.0025', '0.0000', '0.0000', '0.0000', '0.0002', '0.0047', '0.0000', '-0.0000', '0.0000', '0.0000', '0.0000', '0.0000', '0.0000', '0.0000', '0.0000', '0.0000', '0.0000', '0.0050', '0.0000', '0.0050', '0.0000', '0.0000', '0.0012', '0.0027', '0.0000', '0.0000', '0.0050', '0.0050', '0.0000', '0.0000', '0.0050', '0.0000', '0.0000', '0.0027', '0.0000', '0.0050']\n",
      "Class 6: 53 alphas found: ['-0.0000', '0.0050', '0.0038', '-0.0000', '-0.0000', '0.0005', '0.0001', '0.0050', '-0.0000', '-0.0000', '-0.0000', '-0.0000', '0.0021', '-0.0000', '-0.0000', '-0.0000', '-0.0000', '-0.0000', '-0.0000', '-0.0000', '-0.0000', '-0.0000', '-0.0000', '0.0010', '-0.0000', '0.0050', '0.0050', '0.0050', '0.0050', '0.0050', '-0.0000', '0.0011', '0.0050', '0.0045', '0.0050', '-0.0000', '-0.0000', '-0.0000', '0.0050', '0.0050', '0.0000', '0.0050', '-0.0000', '0.0008', '-0.0000', '-0.0000', '0.0050', '-0.0000', '0.0008', '-0.0000', '0.0040', '0.0000', '0.0050', '0.0016', '0.0050', '0.0040', '-0.0000', '0.0043', '-0.0000', '-0.0000', '-0.0000', '0.0050', '0.0039', '0.0050', '0.0014', '-0.0000', '0.0013', '-0.0000', '-0.0000', '-0.0000', '0.0015', '-0.0000', '-0.0000', '0.0000', '0.0050', '0.0050', '0.0050', '-0.0000', '0.0000', '0.0000', '-0.0000', '-0.0000', '-0.0000', '-0.0000', '0.0030', '0.0008', '-0.0000', '-0.0000', '-0.0000', '-0.0000', '-0.0000', '-0.0000', '-0.0000', '0.0015', '0.0032', '-0.0000', '0.0050', '-0.0000', '0.0050', '0.0000', '-0.0000', '-0.0000', '0.0000', '0.0040', '0.0032', '0.0050', '0.0050', '0.0001', '-0.0000', '-0.0000', '-0.0000', '-0.0000', '-0.0000', '0.0050', '-0.0000', '-0.0000', '-0.0000', '-0.0000', '-0.0000', '-0.0000', '0.0050', '0.0011', '0.0050', '-0.0000', '0.0008', '-0.0000', '-0.0000', '0.0048', '-0.0000', '-0.0000', '-0.0000', '-0.0000', '0.0025', '-0.0000', '-0.0000', '0.0050', '0.0050', '0.0050', '-0.0000', '-0.0000']\n"
     ]
    },
    {
     "name": "stderr",
     "output_type": "stream",
     "text": [
      "2024-04-25 21:56:48 (INFO): Test accuracy: 0.7960526347160339\n",
      "2024-04-25 21:56:48 (INFO): Test accuracy ALL UNLABELED: 0.7695271968841553\n",
      "2024-04-25 21:56:48 (INFO): Train accuracy: 0.949999988079071\n",
      "2024-04-25 21:56:48 (INFO): Accuracy_lb_test: 0.7894737124443054\n",
      "2024-04-25 21:56:48 (INFO): Accuracy_ub_test: 0.7927631735801697\n",
      "2024-04-25 21:56:48 (INFO): Accuracy_lb_trn: 0.949999988079071\n",
      "2024-04-25 21:56:48 (INFO): Accuracy_ub_trn: 0.9428571462631226\n",
      "2024-04-25 21:56:48 (INFO): Certified accuracy (evasion): 0.5493420958518982\n",
      "2024-04-25 21:56:48 (INFO): Certified accuracy (evasion, trivial): 0.18421052631578946\n",
      "2024-04-25 21:56:48 (INFO): Certified unrobustness (evasion): 0.0\n"
     ]
    },
    {
     "ename": "AssertionError",
     "evalue": "",
     "output_type": "error",
     "traceback": [
      "\u001b[0;31m---------------------------------------------------------------------------\u001b[0m",
      "\u001b[0;31mAssertionError\u001b[0m                            Traceback (most recent call last)",
      "Cell \u001b[0;32mIn[10], line 22\u001b[0m\n\u001b[1;32m     20\u001b[0m model_params[\u001b[38;5;124m\"\u001b[39m\u001b[38;5;124mbias\u001b[39m\u001b[38;5;124m\"\u001b[39m] \u001b[38;5;241m=\u001b[39m \u001b[38;5;28;01mFalse\u001b[39;00m\n\u001b[1;32m     21\u001b[0m data_params[\u001b[38;5;124m\"\u001b[39m\u001b[38;5;124mlearning_setting\u001b[39m\u001b[38;5;124m\"\u001b[39m] \u001b[38;5;241m=\u001b[39m \u001b[38;5;124m\"\u001b[39m\u001b[38;5;124mtransductive\u001b[39m\u001b[38;5;124m\"\u001b[39m\n\u001b[0;32m---> 22\u001b[0m \u001b[43mrun\u001b[49m\u001b[43m(\u001b[49m\u001b[43mdata_params\u001b[49m\u001b[43m,\u001b[49m\u001b[43m \u001b[49m\u001b[43mmodel_params\u001b[49m\u001b[43m,\u001b[49m\u001b[43m \u001b[49m\u001b[43mcertificate_params\u001b[49m\u001b[43m,\u001b[49m\u001b[43m \u001b[49m\u001b[43mverbosity_params\u001b[49m\u001b[43m,\u001b[49m\u001b[43m \u001b[49m\u001b[43mother_params\u001b[49m\u001b[43m,\u001b[49m\u001b[43m \u001b[49m\u001b[43mseed\u001b[49m\u001b[43m)\u001b[49m\n",
      "File \u001b[0;32m/ceph/ssd/staff/gosl/.conda/envs/py311_ntk/lib/python3.11/site-packages/sacred/config/captured_function.py:42\u001b[0m, in \u001b[0;36mcaptured_function\u001b[0;34m(wrapped, instance, args, kwargs)\u001b[0m\n\u001b[1;32m     40\u001b[0m \u001b[38;5;66;03m# =================== run actual function =================================\u001b[39;00m\n\u001b[1;32m     41\u001b[0m \u001b[38;5;28;01mwith\u001b[39;00m ConfigError\u001b[38;5;241m.\u001b[39mtrack(wrapped\u001b[38;5;241m.\u001b[39mconfig, wrapped\u001b[38;5;241m.\u001b[39mprefix):\n\u001b[0;32m---> 42\u001b[0m     result \u001b[38;5;241m=\u001b[39m \u001b[43mwrapped\u001b[49m\u001b[43m(\u001b[49m\u001b[38;5;241;43m*\u001b[39;49m\u001b[43margs\u001b[49m\u001b[43m,\u001b[49m\u001b[43m \u001b[49m\u001b[38;5;241;43m*\u001b[39;49m\u001b[38;5;241;43m*\u001b[39;49m\u001b[43mkwargs\u001b[49m\u001b[43m)\u001b[49m\n\u001b[1;32m     43\u001b[0m \u001b[38;5;66;03m# =========================================================================\u001b[39;00m\n\u001b[1;32m     44\u001b[0m \u001b[38;5;28;01mif\u001b[39;00m wrapped\u001b[38;5;241m.\u001b[39mlogger \u001b[38;5;129;01mis\u001b[39;00m \u001b[38;5;129;01mnot\u001b[39;00m \u001b[38;5;28;01mNone\u001b[39;00m:\n",
      "File \u001b[0;32m/ceph/ssd/staff/gosl/src/ntk-robust/exp_certify_multiclass.py:326\u001b[0m, in \u001b[0;36mrun\u001b[0;34m(data_params, model_params, certificate_params, verbosity_params, other_params, seed, _run)\u001b[0m\n\u001b[1;32m    324\u001b[0m svm_alpha \u001b[38;5;241m=\u001b[39m ntk\u001b[38;5;241m.\u001b[39msvm\n\u001b[1;32m    325\u001b[0m \u001b[38;5;28;01mif\u001b[39;00m model_params[\u001b[38;5;124m\"\u001b[39m\u001b[38;5;124msolver\u001b[39m\u001b[38;5;124m\"\u001b[39m] \u001b[38;5;241m==\u001b[39m \u001b[38;5;124m\"\u001b[39m\u001b[38;5;124mqplayer_one_vs_all\u001b[39m\u001b[38;5;124m\"\u001b[39m:\n\u001b[0;32m--> 326\u001b[0m     is_robust_l, obj_l, opt_status_l \u001b[38;5;241m=\u001b[39m \u001b[43mutils\u001b[49m\u001b[38;5;241;43m.\u001b[39;49m\u001b[43mcertify_one_vs_all_milp\u001b[49m\u001b[43m(\u001b[49m\n\u001b[1;32m    327\u001b[0m \u001b[43m            \u001b[49m\u001b[43midx_labeled\u001b[49m\u001b[43m,\u001b[49m\u001b[43m \u001b[49m\u001b[43midx_test\u001b[49m\u001b[43m,\u001b[49m\u001b[43m \u001b[49m\u001b[43mntk_test\u001b[49m\u001b[43m,\u001b[49m\u001b[43m \u001b[49m\u001b[43mntk_lb\u001b[49m\u001b[43m,\u001b[49m\u001b[43m \u001b[49m\u001b[43mntk_ub\u001b[49m\u001b[43m,\u001b[49m\u001b[43m \u001b[49m\u001b[43my\u001b[49m\u001b[43m,\u001b[49m\u001b[43m \u001b[49m\u001b[43my_pred\u001b[49m\u001b[43m,\u001b[49m\n\u001b[1;32m    328\u001b[0m \u001b[43m            \u001b[49m\u001b[43msvm_alpha\u001b[49m\u001b[43m,\u001b[49m\u001b[43m \u001b[49m\u001b[43mcertificate_params\u001b[49m\u001b[38;5;241;43m=\u001b[39;49m\u001b[43mcertificate_params\u001b[49m\u001b[43m,\u001b[49m\n\u001b[1;32m    329\u001b[0m \u001b[43m            \u001b[49m\u001b[43mC\u001b[49m\u001b[38;5;241;43m=\u001b[39;49m\u001b[43mmodel_params\u001b[49m\u001b[43m[\u001b[49m\u001b[38;5;124;43m\"\u001b[39;49m\u001b[38;5;124;43mregularizer\u001b[39;49m\u001b[38;5;124;43m\"\u001b[39;49m\u001b[43m]\u001b[49m\u001b[43m,\u001b[49m\u001b[43m \u001b[49m\u001b[43mM\u001b[49m\u001b[38;5;241;43m=\u001b[39;49m\u001b[38;5;241;43m1e3\u001b[39;49m\u001b[43m,\u001b[49m\u001b[43m \u001b[49m\u001b[43mMprime\u001b[49m\u001b[38;5;241;43m=\u001b[39;49m\u001b[38;5;241;43m1e3\u001b[39;49m\u001b[43m,\u001b[49m\n\u001b[1;32m    330\u001b[0m \u001b[43m    \u001b[49m\u001b[43m)\u001b[49m\n\u001b[1;32m    331\u001b[0m acc_cert \u001b[38;5;241m=\u001b[39m \u001b[38;5;28msum\u001b[39m(is_robust_l) \u001b[38;5;241m/\u001b[39m y_pred\u001b[38;5;241m.\u001b[39mshape[\u001b[38;5;241m0\u001b[39m]\n\u001b[1;32m    332\u001b[0m acc_cert_u \u001b[38;5;241m=\u001b[39m \u001b[38;5;241m0\u001b[39m \u001b[38;5;66;03m#not implemented\u001b[39;00m\n",
      "File \u001b[0;32m/ceph/ssd/staff/gosl/src/ntk-robust/src/utils.py:234\u001b[0m, in \u001b[0;36mcertify_one_vs_all_milp\u001b[0;34m(idx_labeled, idx_test, ntk, ntk_lb, ntk_ub, y, y_pred, svm_alpha, certificate_params, C, M, Mprime, milp)\u001b[0m\n\u001b[1;32m    232\u001b[0m     \u001b[38;5;28;01massert\u001b[39;00m (alpha\u001b[38;5;241m-\u001b[39mC\u001b[38;5;241m*\u001b[39m(\u001b[38;5;241m1\u001b[39m\u001b[38;5;241m-\u001b[39ms_start) \u001b[38;5;241m>\u001b[39m \u001b[38;5;28mglobals\u001b[39m\u001b[38;5;241m.\u001b[39mzero_tol)\u001b[38;5;241m.\u001b[39msum() \u001b[38;5;241m==\u001b[39m \u001b[38;5;241m0\u001b[39m\n\u001b[1;32m    233\u001b[0m     \u001b[38;5;28;01massert\u001b[39;00m (v_start\u001b[38;5;241m-\u001b[39mMprime\u001b[38;5;241m*\u001b[39mt_start \u001b[38;5;241m>\u001b[39m \u001b[38;5;28mglobals\u001b[39m\u001b[38;5;241m.\u001b[39mzero_tol)\u001b[38;5;241m.\u001b[39msum() \u001b[38;5;241m==\u001b[39m \u001b[38;5;241m0\u001b[39m\n\u001b[0;32m--> 234\u001b[0m     \u001b[38;5;28;01massert\u001b[39;00m (\u001b[38;5;241m-\u001b[39malpha\u001b[38;5;241m+\u001b[39mC\u001b[38;5;241m*\u001b[39mt_start \u001b[38;5;241m>\u001b[39m \u001b[38;5;28mglobals\u001b[39m\u001b[38;5;241m.\u001b[39mzero_tol)\u001b[38;5;241m.\u001b[39msum() \u001b[38;5;241m==\u001b[39m \u001b[38;5;241m0\u001b[39m\n\u001b[1;32m    237\u001b[0m is_robust_l \u001b[38;5;241m=\u001b[39m []\n\u001b[1;32m    238\u001b[0m robust_count \u001b[38;5;241m=\u001b[39m \u001b[38;5;241m0\u001b[39m\n",
      "\u001b[0;31mAssertionError\u001b[0m: "
     ]
    }
   ],
   "source": [
    "# MIP foucs = 2\n",
    "#model_params[\"cache_size\"] = 10000\n",
    "data_params[\"dataset\"] = \"cora_ml_cont\"\n",
    "other_params[\"device\"] = \"0\"\n",
    "other_params[\"debug\"] = False\n",
    "certificate_params[\"n_adversarial\"] = 270\n",
    "certificate_params[\"delta\"] = 0.01\n",
    "certificate_params[\"delta_absolute\"] = False\n",
    "certificate_params[\"method\"] = \"XXT\"\n",
    "certificate_params[\"perturbation_model\"] = \"l2\"\n",
    "certificate_params[\"attack_nodes\"] = \"test\"\n",
    "certificate_params[\"MIPFocus\"] = 2\n",
    "certificate_params[\"LogToConsole\"] = 1\n",
    "certificate_params[\"OutputFlag\"] = 1\n",
    "other_params[\"path_gurobi_license\"] = \"/ceph/ssd/staff/gosl/app/gurobi.lic\"\n",
    "verbosity_params[\"debug_lvl\"] = \"info\"\n",
    "model_params[\"regularizer\"] = 0.005\n",
    "model_params[\"solver\"] = \"qplayer_one_vs_all\"\n",
    "model_params[\"alpha_tol\"] = 1e-4\n",
    "model_params[\"bias\"] = False\n",
    "data_params[\"learning_setting\"] = \"transductive\"\n",
    "run(data_params, model_params, certificate_params, verbosity_params, other_params, seed)"
   ]
  },
  {
   "cell_type": "code",
   "execution_count": 5,
   "metadata": {},
   "outputs": [
    {
     "name": "stderr",
     "output_type": "stream",
     "text": [
      "2024-04-25 18:54:01 (INFO): Starting experiment exp_certify_multiclass with configuration:\n",
      "2024-04-25 18:54:01 (INFO): data_params: {'dataset': 'cora', 'learning_setting': 'transductive', 'specification': {'n_per_class': 10, 'fraction_test': 0.01, 'data_dir': './data', 'make_undirected': True, 'binary_attr': False, 'balance_test': True}}\n",
      "2024-04-25 18:54:01 (INFO): model_params: {'label': 'GCN', 'model': 'GCN', 'normalization': 'row_normalization', 'depth': 1, 'regularizer': 0.0055, 'pred_method': 'svm', 'activation': 'relu', 'solver': 'qplayer_one_vs_all', 'alpha_tol': 0.0001, 'bias': False}\n",
      "2024-04-25 18:54:01 (INFO): certification_params: {'n_adversarial': 270, 'perturbation_model': 'l2', 'delta': 0.01, 'delta_absolute': False, 'method': 'XXT', 'attack_nodes': 'test', 'MIPFocus': 2, 'LogToConsole': 1, 'OutputFlag': 1}\n",
      "2024-04-25 18:54:01 (INFO): verbosity_params: {'debug_lvl': 'info'}\n",
      "2024-04-25 18:54:01 (INFO): other_params: {'device': 'cpu', 'dtype': torch.float64, 'allow_tf32': False, 'debug': False, 'path_gurobi_license': '/ceph/ssd/staff/gosl/app/gurobi.lic'}\n",
      "2024-04-25 18:54:01 (INFO): seed: 0\n"
     ]
    },
    {
     "name": "stderr",
     "output_type": "stream",
     "text": [
      "2024-04-25 18:54:02 (INFO): number of samples\n",
      " - labeled: 70 \n",
      " - val: 70 \n",
      " - test: 273 \n",
      " - unlabeled: 2295\n",
      "2024-04-25 18:54:03 (INFO): Delta: 0.01\n"
     ]
    },
    {
     "name": "stdout",
     "output_type": "stream",
     "text": [
      "Class 0: 108 alphas found: ['-0.0000', '0.0055', '0.0055', '0.0008', '0.0055', '0.0055', '0.0037', '0.0055', '0.0055', '0.0055', '0.0055', '-0.0000', '-0.0000', '0.0000', '0.0055', '0.0055', '0.0055', '0.0055', '0.0055', '-0.0000', '0.0055', '0.0055', '0.0055', '-0.0000', '0.0055', '-0.0000', '-0.0000', '0.0055', '0.0055', '0.0055', '-0.0000', '0.0055', '-0.0000', '0.0055', '0.0055', '0.0055', '-0.0000', '-0.0000', '0.0017', '0.0055', '0.0031', '0.0043', '0.0029', '0.0055', '0.0055', '0.0055', '0.0055', '0.0055', '0.0055', '0.0039', '0.0055', '0.0055', '-0.0000', '0.0055', '0.0043', '0.0027', '0.0055', '0.0055', '-0.0000', '0.0055', '0.0055', '0.0055', '-0.0000', '0.0002', '0.0055', '-0.0000', '0.0055', '0.0055', '0.0055', '0.0055', '0.0055', '0.0055', '-0.0000', '0.0055', '-0.0000', '-0.0000', '0.0055', '0.0055', '0.0055', '0.0055', '0.0055', '0.0055', '-0.0000', '0.0055', '0.0055', '0.0055', '-0.0000', '0.0055', '0.0055', '-0.0000', '0.0055', '0.0055', '-0.0000', '0.0024', '0.0055', '0.0055', '0.0055', '0.0055', '0.0055', '0.0055', '0.0055', '0.0055', '0.0055', '-0.0000', '0.0055', '0.0055', '0.0055', '0.0055', '0.0055', '0.0055', '0.0055', '0.0055', '0.0055', '0.0055', '-0.0000', '0.0055', '0.0055', '-0.0000', '-0.0000', '0.0055', '0.0055', '0.0055', '0.0055', '0.0055', '0.0002', '0.0053', '0.0055', '-0.0000', '-0.0000', '0.0055', '0.0055', '0.0055', '0.0055', '-0.0000', '0.0055', '-0.0000', '0.0055', '0.0055', '-0.0000', '0.0055']\n",
      "Class 1: 108 alphas found: ['-0.0000', '0.0055', '0.0055', '0.0036', '0.0055', '0.0055', '-0.0000', '0.0055', '0.0055', '0.0055', '0.0055', '0.0055', '-0.0000', '0.0000', '0.0055', '-0.0000', '0.0055', '0.0055', '0.0055', '-0.0000', '-0.0000', '0.0055', '0.0055', '-0.0000', '0.0055', '-0.0000', '-0.0000', '0.0055', '0.0055', '0.0055', '-0.0000', '0.0055', '0.0055', '0.0055', '0.0055', '0.0055', '-0.0000', '0.0055', '-0.0000', '0.0055', '0.0035', '0.0055', '0.0016', '0.0055', '0.0055', '-0.0000', '0.0055', '0.0055', '0.0055', '0.0055', '0.0055', '0.0055', '-0.0000', '0.0055', '0.0003', '0.0017', '0.0002', '0.0055', '0.0055', '0.0055', '0.0055', '0.0055', '0.0055', '0.0005', '0.0055', '0.0055', '0.0055', '0.0055', '0.0055', '0.0055', '0.0055', '0.0055', '-0.0000', '0.0055', '0.0055', '-0.0000', '0.0055', '-0.0000', '0.0055', '0.0055', '0.0055', '0.0055', '-0.0000', '0.0055', '0.0055', '-0.0000', '-0.0000', '0.0055', '0.0055', '0.0055', '0.0055', '0.0055', '-0.0000', '0.0055', '0.0055', '0.0055', '0.0055', '0.0055', '0.0055', '0.0055', '0.0055', '0.0055', '0.0055', '-0.0000', '0.0055', '0.0055', '0.0055', '0.0055', '0.0055', '0.0055', '0.0055', '0.0003', '0.0055', '0.0055', '-0.0000', '0.0055', '0.0055', '-0.0000', '0.0055', '0.0055', '0.0055', '0.0055', '0.0055', '0.0055', '0.0055', '-0.0000', '0.0055', '-0.0000', '-0.0000', '0.0055', '0.0055', '0.0055', '-0.0000', '-0.0000', '0.0055', '-0.0000', '0.0055', '0.0055', '-0.0000', '0.0055']\n",
      "Class 2: 108 alphas found: ['-0.0000', '0.0055', '0.0040', '-0.0000', '0.0055', '0.0055', '0.0007', '0.0055', '0.0012', '0.0055', '0.0055', '-0.0000', '-0.0000', '-0.0000', '0.0055', '0.0055', '0.0055', '0.0055', '0.0053', '-0.0000', '-0.0000', '0.0055', '0.0052', '0.0055', '0.0055', '-0.0000', '0.0055', '0.0055', '0.0055', '0.0017', '-0.0000', '0.0055', '-0.0000', '0.0055', '0.0055', '0.0055', '-0.0000', '-0.0000', '0.0032', '0.0055', '0.0055', '0.0042', '-0.0000', '0.0055', '0.0055', '0.0055', '0.0055', '0.0055', '0.0055', '-0.0000', '0.0055', '0.0055', '-0.0000', '0.0055', '0.0055', '0.0038', '0.0055', '0.0055', '-0.0000', '-0.0000', '0.0055', '0.0055', '-0.0000', '0.0039', '0.0055', '-0.0000', '0.0055', '0.0055', '0.0055', '0.0055', '0.0055', '0.0055', '-0.0000', '0.0055', '-0.0000', '-0.0000', '0.0055', '-0.0000', '0.0055', '0.0055', '0.0055', '0.0055', '-0.0000', '0.0055', '0.0055', '-0.0000', '-0.0000', '0.0055', '0.0055', '-0.0000', '0.0055', '0.0055', '-0.0000', '0.0004', '0.0055', '0.0055', '0.0055', '0.0055', '0.0055', '0.0055', '0.0055', '0.0055', '0.0055', '0.0055', '0.0055', '0.0055', '0.0055', '0.0055', '0.0055', '0.0055', '0.0055', '-0.0000', '0.0055', '0.0055', '-0.0000', '0.0055', '0.0055', '-0.0000', '-0.0000', '0.0055', '0.0055', '0.0055', '0.0055', '0.0055', '0.0055', '-0.0000', '0.0055', '0.0055', '-0.0000', '0.0055', '0.0055', '0.0055', '-0.0000', '-0.0000', '0.0055', '-0.0000', '0.0055', '0.0055', '-0.0000', '0.0055']\n",
      "Class 3: 108 alphas found: ['-0.0000', '0.0055', '0.0030', '-0.0000', '0.0055', '0.0055', '0.0045', '0.0055', '0.0039', '0.0055', '0.0055', '-0.0000', '-0.0000', '-0.0000', '0.0055', '0.0045', '0.0055', '0.0048', '0.0055', '0.0055', '-0.0000', '0.0055', '0.0055', '-0.0000', '0.0055', '-0.0000', '0.0023', '0.0055', '0.0055', '-0.0000', '-0.0000', '0.0055', '-0.0000', '0.0055', '0.0055', '0.0055', '-0.0000', '-0.0000', '0.0014', '0.0055', '0.0055', '0.0055', '-0.0000', '0.0055', '0.0055', '-0.0000', '0.0055', '0.0055', '0.0055', '-0.0000', '0.0055', '0.0055', '-0.0000', '0.0055', '0.0008', '0.0032', '0.0055', '0.0055', '-0.0000', '0.0055', '0.0055', '0.0055', '-0.0000', '0.0021', '0.0055', '-0.0000', '0.0055', '0.0055', '0.0055', '0.0055', '0.0055', '0.0055', '-0.0000', '0.0055', '-0.0000', '-0.0000', '0.0055', '-0.0000', '0.0055', '0.0055', '0.0055', '0.0055', '-0.0000', '0.0055', '0.0055', '-0.0000', '-0.0000', '0.0055', '0.0055', '-0.0000', '0.0055', '0.0055', '0.0039', '0.0037', '0.0055', '0.0055', '0.0055', '0.0055', '0.0055', '0.0055', '0.0055', '0.0055', '0.0055', '-0.0000', '0.0055', '0.0055', '0.0055', '0.0055', '0.0055', '0.0055', '0.0055', '-0.0000', '0.0055', '0.0055', '0.0055', '0.0055', '0.0035', '-0.0000', '-0.0000', '0.0055', '0.0055', '0.0055', '0.0055', '0.0055', '0.0055', '0.0032', '0.0055', '-0.0000', '0.0055', '0.0055', '0.0055', '0.0055', '0.0055', '0.0000', '0.0055', '0.0055', '0.0055', '0.0055', '-0.0000', '0.0055']\n",
      "Class 4: 108 alphas found: ['-0.0000', '0.0055', '0.0055', '-0.0000', '0.0055', '0.0055', '0.0055', '0.0055', '0.0055', '0.0055', '0.0055', '-0.0000', '-0.0000', '-0.0000', '0.0055', '0.0055', '0.0055', '0.0043', '0.0055', '-0.0000', '-0.0000', '0.0055', '-0.0000', '-0.0000', '0.0055', '-0.0000', '-0.0000', '0.0055', '0.0055', '0.0030', '0.0053', '0.0055', '-0.0000', '0.0055', '0.0055', '0.0055', '-0.0000', '-0.0000', '0.0055', '0.0055', '0.0055', '0.0055', '-0.0000', '0.0055', '0.0055', '-0.0000', '0.0055', '0.0055', '0.0055', '-0.0000', '0.0055', '0.0055', '0.0055', '0.0055', '0.0016', '0.0055', '0.0055', '0.0055', '-0.0000', '0.0055', '0.0055', '0.0055', '-0.0000', '0.0029', '0.0055', '-0.0000', '0.0055', '0.0055', '0.0055', '0.0055', '0.0055', '0.0055', '-0.0000', '0.0055', '-0.0000', '-0.0000', '0.0055', '-0.0000', '0.0055', '0.0055', '0.0055', '0.0055', '-0.0000', '0.0009', '0.0055', '-0.0000', '-0.0000', '0.0055', '0.0055', '-0.0000', '0.0055', '0.0055', '0.0055', '0.0021', '0.0055', '0.0055', '0.0055', '0.0055', '0.0055', '0.0055', '0.0055', '0.0055', '0.0055', '-0.0000', '0.0055', '0.0055', '0.0055', '0.0053', '0.0055', '0.0055', '0.0055', '-0.0000', '0.0055', '0.0030', '0.0007', '0.0055', '0.0055', '-0.0000', '-0.0000', '0.0055', '0.0055', '0.0055', '0.0055', '0.0055', '0.0013', '0.0031', '0.0055', '-0.0000', '-0.0000', '0.0055', '0.0055', '0.0055', '0.0043', '0.0055', '0.0055', '-0.0000', '0.0055', '0.0055', '0.0055', '0.0055']\n",
      "Class 5: 108 alphas found: ['0.0055', '0.0055', '0.0055', '0.0018', '0.0055', '0.0055', '0.0020', '0.0055', '0.0025', '0.0055', '0.0055', '-0.0000', '-0.0000', '0.0000', '0.0055', '0.0035', '0.0055', '0.0055', '0.0055', '-0.0000', '-0.0000', '0.0055', '0.0046', '-0.0000', '0.0055', '0.0055', '-0.0000', '0.0055', '0.0055', '-0.0000', '0.0055', '0.0055', '-0.0000', '0.0055', '0.0055', '0.0055', '-0.0000', '-0.0000', '-0.0000', '0.0055', '0.0023', '0.0055', '0.0001', '0.0055', '0.0055', '-0.0000', '0.0055', '0.0055', '0.0055', '0.0055', '0.0055', '0.0055', '0.0011', '0.0055', '0.0055', '0.0009', '0.0038', '0.0055', '-0.0000', '-0.0000', '0.0055', '0.0055', '-0.0000', '0.0036', '0.0055', '-0.0000', '0.0055', '0.0055', '0.0055', '0.0055', '0.0055', '0.0055', '-0.0000', '0.0055', '-0.0000', '-0.0000', '0.0055', '-0.0000', '0.0055', '0.0055', '0.0055', '0.0055', '-0.0000', '0.0038', '0.0055', '-0.0000', '0.0055', '0.0055', '0.0055', '-0.0000', '0.0055', '0.0055', '0.0050', '0.0055', '0.0055', '0.0055', '0.0055', '0.0055', '0.0055', '0.0055', '0.0055', '0.0055', '0.0055', '-0.0000', '0.0055', '0.0055', '0.0055', '0.0055', '0.0055', '0.0055', '0.0055', '-0.0000', '0.0055', '0.0055', '-0.0000', '0.0055', '0.0055', '-0.0000', '0.0055', '0.0055', '0.0055', '0.0055', '0.0055', '0.0055', '0.0055', '0.0055', '0.0055', '-0.0000', '-0.0000', '0.0055', '0.0055', '0.0055', '-0.0000', '0.0000', '0.0055', '-0.0000', '0.0055', '0.0055', '-0.0000', '0.0055']\n",
      "Class 6: 108 alphas found: ['-0.0000', '0.0055', '0.0042', '0.0055', '0.0055', '0.0055', '0.0016', '0.0055', '0.0046', '0.0055', '0.0055', '-0.0000', '0.0055', '0.0055', '0.0055', '0.0020', '0.0055', '0.0055', '0.0055', '-0.0000', '-0.0000', '0.0055', '0.0055', '0.0019', '0.0055', '-0.0000', '-0.0000', '0.0055', '0.0055', '-0.0000', '-0.0000', '0.0055', '-0.0000', '0.0055', '0.0055', '0.0055', '0.0055', '-0.0000', '-0.0000', '0.0055', '0.0008', '0.0055', '0.0055', '0.0055', '0.0055', '0.0055', '0.0055', '0.0055', '0.0055', '0.0037', '0.0055', '0.0055', '0.0006', '0.0055', '0.0044', '-0.0000', '0.0020', '0.0055', '-0.0000', '-0.0000', '0.0055', '0.0055', '-0.0000', '0.0055', '0.0055', '-0.0000', '0.0055', '0.0055', '0.0055', '0.0055', '0.0055', '0.0055', '0.0055', '0.0055', '-0.0000', '0.0055', '0.0055', '-0.0000', '-0.0000', '0.0055', '0.0055', '0.0055', '0.0055', '0.0055', '0.0055', '-0.0000', '-0.0000', '0.0038', '0.0055', '-0.0000', '0.0055', '0.0055', '-0.0000', '0.0048', '0.0055', '0.0055', '0.0055', '0.0055', '0.0055', '0.0055', '0.0055', '0.0055', '0.0055', '-0.0000', '0.0055', '0.0055', '0.0055', '0.0055', '0.0055', '0.0055', '0.0055', '0.0055', '0.0055', '0.0055', '-0.0000', '0.0055', '0.0055', '0.0055', '-0.0000', '0.0055', '0.0055', '0.0055', '0.0055', '0.0055', '0.0055', '0.0055', '0.0055', '-0.0000', '-0.0000', '0.0055', '0.0055', '0.0055', '-0.0000', '-0.0000', '0.0055', '-0.0000', '0.0055', '0.0055', '-0.0000', '0.0055']\n"
     ]
    },
    {
     "name": "stderr",
     "output_type": "stream",
     "text": [
      "2024-04-25 18:54:06 (INFO): Test accuracy: 0.7948718070983887\n",
      "2024-04-25 18:54:06 (INFO): Test accuracy ALL UNLABELED: 0.7788162231445312\n",
      "2024-04-25 18:54:06 (INFO): Train accuracy: 0.949999988079071\n",
      "2024-04-25 18:54:06 (INFO): Accuracy_lb_test: 0.7948718070983887\n",
      "2024-04-25 18:54:06 (INFO): Accuracy_ub_test: 0.791208803653717\n",
      "2024-04-25 18:54:06 (INFO): Accuracy_lb_trn: 0.949999988079071\n",
      "2024-04-25 18:54:06 (INFO): Accuracy_ub_trn: 0.949999988079071\n",
      "2024-04-25 18:54:06 (INFO): Certified accuracy (evasion): 0.831501841545105\n",
      "2024-04-25 18:54:06 (INFO): Certified accuracy (evasion, trivial): 0.23443223443223443\n",
      "2024-04-25 18:54:06 (INFO): Certified unrobustness (evasion): 0.0\n"
     ]
    },
    {
     "name": "stdout",
     "output_type": "stream",
     "text": [
      "Set parameter Username\n"
     ]
    },
    {
     "name": "stderr",
     "output_type": "stream",
     "text": [
      "2024-04-25 18:54:07 (INFO): Set parameter Username\n"
     ]
    },
    {
     "name": "stdout",
     "output_type": "stream",
     "text": [
      "Academic license - for non-commercial use only - expires 2025-03-26\n"
     ]
    },
    {
     "name": "stderr",
     "output_type": "stream",
     "text": [
      "2024-04-25 18:54:07 (INFO): Academic license - for non-commercial use only - expires 2025-03-26\n"
     ]
    },
    {
     "name": "stdout",
     "output_type": "stream",
     "text": [
      "Warning for adding constraints: zero or small (< 1e-13) coefficients, ignored\n"
     ]
    },
    {
     "name": "stderr",
     "output_type": "stream",
     "text": [
      "2024-04-25 18:54:08 (INFO): Warning for adding constraints: zero or small (< 1e-13) coefficients, ignored\n"
     ]
    },
    {
     "name": "stdout",
     "output_type": "stream",
     "text": [
      "Set parameter IntegralityFocus to value 1\n"
     ]
    },
    {
     "name": "stderr",
     "output_type": "stream",
     "text": [
      "2024-04-25 18:54:08 (INFO): Set parameter IntegralityFocus to value 1\n"
     ]
    },
    {
     "name": "stdout",
     "output_type": "stream",
     "text": [
      "Set parameter IntFeasTol to value 0.0001\n"
     ]
    },
    {
     "name": "stderr",
     "output_type": "stream",
     "text": [
      "2024-04-25 18:54:08 (INFO): Set parameter IntFeasTol to value 0.0001\n"
     ]
    },
    {
     "name": "stdout",
     "output_type": "stream",
     "text": [
      "Set parameter DualReductions to value 0\n"
     ]
    },
    {
     "name": "stderr",
     "output_type": "stream",
     "text": [
      "2024-04-25 18:54:08 (INFO): Set parameter DualReductions to value 0\n"
     ]
    },
    {
     "name": "stdout",
     "output_type": "stream",
     "text": [
      "Set parameter FeasibilityTol to value 0.0001\n"
     ]
    },
    {
     "name": "stderr",
     "output_type": "stream",
     "text": [
      "2024-04-25 18:54:08 (INFO): Set parameter FeasibilityTol to value 0.0001\n"
     ]
    },
    {
     "name": "stdout",
     "output_type": "stream",
     "text": [
      "Set parameter OptimalityTol to value 0.0001\n"
     ]
    },
    {
     "name": "stderr",
     "output_type": "stream",
     "text": [
      "2024-04-25 18:54:08 (INFO): Set parameter OptimalityTol to value 0.0001\n"
     ]
    },
    {
     "name": "stdout",
     "output_type": "stream",
     "text": [
      "Set parameter NumericFocus to value 3\n"
     ]
    },
    {
     "name": "stderr",
     "output_type": "stream",
     "text": [
      "2024-04-25 18:54:08 (INFO): Set parameter NumericFocus to value 3\n"
     ]
    },
    {
     "name": "stdout",
     "output_type": "stream",
     "text": [
      "Set parameter TimeLimit to value 3600\n"
     ]
    },
    {
     "name": "stderr",
     "output_type": "stream",
     "text": [
      "2024-04-25 18:54:08 (INFO): Set parameter TimeLimit to value 3600\n"
     ]
    },
    {
     "name": "stdout",
     "output_type": "stream",
     "text": [
      "Set parameter MIPFocus to value 2\n"
     ]
    },
    {
     "name": "stderr",
     "output_type": "stream",
     "text": [
      "2024-04-25 18:54:08 (INFO): Set parameter MIPFocus to value 2\n"
     ]
    },
    {
     "name": "stdout",
     "output_type": "stream",
     "text": [
      "Gurobi Optimizer version 11.0.1 build v11.0.1rc0 (linux64 - \"Ubuntu 22.04.4 LTS\")\n"
     ]
    },
    {
     "name": "stderr",
     "output_type": "stream",
     "text": [
      "2024-04-25 18:54:08 (INFO): Gurobi Optimizer version 11.0.1 build v11.0.1rc0 (linux64 - \"Ubuntu 22.04.4 LTS\")\n"
     ]
    },
    {
     "name": "stdout",
     "output_type": "stream",
     "text": [
      "\n"
     ]
    },
    {
     "name": "stderr",
     "output_type": "stream",
     "text": [
      "2024-04-25 18:54:08 (INFO): \n"
     ]
    },
    {
     "name": "stdout",
     "output_type": "stream",
     "text": [
      "CPU model: Intel(R) Xeon(R) CPU E5-2630 v4 @ 2.20GHz, instruction set [SSE2|AVX|AVX2]\n"
     ]
    },
    {
     "name": "stderr",
     "output_type": "stream",
     "text": [
      "2024-04-25 18:54:08 (INFO): CPU model: Intel(R) Xeon(R) CPU E5-2630 v4 @ 2.20GHz, instruction set [SSE2|AVX|AVX2]\n"
     ]
    },
    {
     "name": "stdout",
     "output_type": "stream",
     "text": [
      "Thread count: 20 physical cores, 20 logical processors, using up to 20 threads\n"
     ]
    },
    {
     "name": "stderr",
     "output_type": "stream",
     "text": [
      "2024-04-25 18:54:08 (INFO): Thread count: 20 physical cores, 20 logical processors, using up to 20 threads\n"
     ]
    },
    {
     "name": "stdout",
     "output_type": "stream",
     "text": [
      "\n"
     ]
    },
    {
     "name": "stderr",
     "output_type": "stream",
     "text": [
      "2024-04-25 18:54:08 (INFO): \n"
     ]
    },
    {
     "name": "stdout",
     "output_type": "stream",
     "text": [
      "Optimize a model with 40180 rows, 20440 columns and 99940 nonzeros\n"
     ]
    },
    {
     "name": "stderr",
     "output_type": "stream",
     "text": [
      "2024-04-25 18:54:08 (INFO): Optimize a model with 40180 rows, 20440 columns and 99940 nonzeros\n"
     ]
    },
    {
     "name": "stdout",
     "output_type": "stream",
     "text": [
      "Model fingerprint: 0x5209861c\n"
     ]
    },
    {
     "name": "stderr",
     "output_type": "stream",
     "text": [
      "2024-04-25 18:54:08 (INFO): Model fingerprint: 0x5209861c\n"
     ]
    },
    {
     "name": "stdout",
     "output_type": "stream",
     "text": [
      "Variable types: 20160 continuous, 280 integer (280 binary)\n"
     ]
    },
    {
     "name": "stderr",
     "output_type": "stream",
     "text": [
      "2024-04-25 18:54:08 (INFO): Variable types: 20160 continuous, 280 integer (280 binary)\n"
     ]
    },
    {
     "name": "stdout",
     "output_type": "stream",
     "text": [
      "Coefficient statistics:\n"
     ]
    },
    {
     "name": "stderr",
     "output_type": "stream",
     "text": [
      "2024-04-25 18:54:08 (INFO): Coefficient statistics:\n"
     ]
    },
    {
     "name": "stdout",
     "output_type": "stream",
     "text": [
      "  Matrix range     [5e-03, 3e+01]\n"
     ]
    },
    {
     "name": "stderr",
     "output_type": "stream",
     "text": [
      "2024-04-25 18:54:08 (INFO):   Matrix range     [5e-03, 3e+01]\n"
     ]
    },
    {
     "name": "stdout",
     "output_type": "stream",
     "text": [
      "  Objective range  [1e+00, 1e+00]\n"
     ]
    },
    {
     "name": "stderr",
     "output_type": "stream",
     "text": [
      "2024-04-25 18:54:08 (INFO):   Objective range  [1e+00, 1e+00]\n"
     ]
    },
    {
     "name": "stdout",
     "output_type": "stream",
     "text": [
      "  Bounds range     [5e-03, 1e+00]\n"
     ]
    },
    {
     "name": "stderr",
     "output_type": "stream",
     "text": [
      "2024-04-25 18:54:08 (INFO):   Bounds range     [5e-03, 1e+00]\n"
     ]
    },
    {
     "name": "stdout",
     "output_type": "stream",
     "text": [
      "  RHS range        [5e-03, 1e+00]\n"
     ]
    },
    {
     "name": "stderr",
     "output_type": "stream",
     "text": [
      "2024-04-25 18:54:08 (INFO):   RHS range        [5e-03, 1e+00]\n"
     ]
    },
    {
     "name": "stdout",
     "output_type": "stream",
     "text": [
      "\n"
     ]
    },
    {
     "name": "stderr",
     "output_type": "stream",
     "text": [
      "2024-04-25 18:54:08 (INFO): \n"
     ]
    },
    {
     "name": "stdout",
     "output_type": "stream",
     "text": [
      "Loaded user MIP start with objective -1.32216\n",
      "\n",
      "Loaded user MIP start with objective -1.32216\n"
     ]
    },
    {
     "name": "stderr",
     "output_type": "stream",
     "text": [
      "2024-04-25 18:54:08 (INFO): Loaded user MIP start with objective -1.32216\n"
     ]
    },
    {
     "name": "stdout",
     "output_type": "stream",
     "text": [
      "\n"
     ]
    },
    {
     "name": "stderr",
     "output_type": "stream",
     "text": [
      "2024-04-25 18:54:08 (INFO): \n"
     ]
    },
    {
     "name": "stdout",
     "output_type": "stream",
     "text": [
      "Presolve removed 8138 rows and 1621 columns\n"
     ]
    },
    {
     "name": "stderr",
     "output_type": "stream",
     "text": [
      "2024-04-25 18:54:08 (INFO): Presolve removed 8138 rows and 1621 columns\n"
     ]
    },
    {
     "name": "stdout",
     "output_type": "stream",
     "text": [
      "Presolve time: 0.56s\n"
     ]
    },
    {
     "name": "stderr",
     "output_type": "stream",
     "text": [
      "2024-04-25 18:54:08 (INFO): Presolve time: 0.56s\n"
     ]
    },
    {
     "name": "stdout",
     "output_type": "stream",
     "text": [
      "Presolved: 32042 rows, 18819 columns, 83332 nonzeros\n"
     ]
    },
    {
     "name": "stderr",
     "output_type": "stream",
     "text": [
      "2024-04-25 18:54:08 (INFO): Presolved: 32042 rows, 18819 columns, 83332 nonzeros\n"
     ]
    },
    {
     "name": "stdout",
     "output_type": "stream",
     "text": [
      "Variable types: 18579 continuous, 240 integer (240 binary)\n"
     ]
    },
    {
     "name": "stderr",
     "output_type": "stream",
     "text": [
      "2024-04-25 18:54:09 (INFO): Variable types: 18579 continuous, 240 integer (240 binary)\n"
     ]
    },
    {
     "name": "stdout",
     "output_type": "stream",
     "text": [
      "Root relaxation presolved: 32022 rows, 18819 columns, 80596 nonzeros\n"
     ]
    },
    {
     "name": "stderr",
     "output_type": "stream",
     "text": [
      "2024-04-25 18:54:09 (INFO): Root relaxation presolved: 32022 rows, 18819 columns, 80596 nonzeros\n"
     ]
    },
    {
     "name": "stdout",
     "output_type": "stream",
     "text": [
      "\n"
     ]
    },
    {
     "name": "stderr",
     "output_type": "stream",
     "text": [
      "2024-04-25 18:54:09 (INFO): \n"
     ]
    },
    {
     "name": "stdout",
     "output_type": "stream",
     "text": [
      "\n"
     ]
    },
    {
     "name": "stderr",
     "output_type": "stream",
     "text": [
      "2024-04-25 18:54:13 (INFO): \n"
     ]
    },
    {
     "name": "stdout",
     "output_type": "stream",
     "text": [
      "Root simplex log...\n"
     ]
    },
    {
     "name": "stderr",
     "output_type": "stream",
     "text": [
      "2024-04-25 18:54:13 (INFO): Root simplex log...\n"
     ]
    },
    {
     "name": "stdout",
     "output_type": "stream",
     "text": [
      "\n"
     ]
    },
    {
     "name": "stderr",
     "output_type": "stream",
     "text": [
      "2024-04-25 18:54:13 (INFO): \n"
     ]
    },
    {
     "name": "stdout",
     "output_type": "stream",
     "text": [
      "Iteration    Objective       Primal Inf.    Dual Inf.      Time\n"
     ]
    },
    {
     "name": "stderr",
     "output_type": "stream",
     "text": [
      "2024-04-25 18:54:13 (INFO): Iteration    Objective       Primal Inf.    Dual Inf.      Time\n"
     ]
    },
    {
     "name": "stdout",
     "output_type": "stream",
     "text": [
      "   19700   -2.0049127e+00   2.017852e+00   0.000000e+00      5s\n"
     ]
    },
    {
     "name": "stderr",
     "output_type": "stream",
     "text": [
      "2024-04-25 18:54:13 (INFO):    19700   -2.0049127e+00   2.017852e+00   0.000000e+00      5s\n"
     ]
    },
    {
     "name": "stdout",
     "output_type": "stream",
     "text": [
      "   21299   -1.7916596e+00   0.000000e+00   0.000000e+00      6s\n"
     ]
    },
    {
     "name": "stderr",
     "output_type": "stream",
     "text": [
      "2024-04-25 18:54:14 (INFO):    21299   -1.7916596e+00   0.000000e+00   0.000000e+00      6s\n"
     ]
    },
    {
     "name": "stdout",
     "output_type": "stream",
     "text": [
      "   22369   -1.7915874e+00   0.000000e+00   0.000000e+00      8s\n"
     ]
    },
    {
     "name": "stderr",
     "output_type": "stream",
     "text": [
      "2024-04-25 18:54:16 (INFO):    22369   -1.7915874e+00   0.000000e+00   0.000000e+00      8s\n"
     ]
    },
    {
     "name": "stdout",
     "output_type": "stream",
     "text": [
      "Extra simplex iterations after uncrush: 1070\n"
     ]
    },
    {
     "name": "stderr",
     "output_type": "stream",
     "text": [
      "2024-04-25 18:54:16 (INFO): Extra simplex iterations after uncrush: 1070\n"
     ]
    },
    {
     "name": "stdout",
     "output_type": "stream",
     "text": [
      "\n"
     ]
    },
    {
     "name": "stderr",
     "output_type": "stream",
     "text": [
      "2024-04-25 18:54:16 (INFO): \n"
     ]
    },
    {
     "name": "stdout",
     "output_type": "stream",
     "text": [
      "Root relaxation: objective -1.791587e+00, 22369 iterations, 6.99 seconds (8.32 work units)\n"
     ]
    },
    {
     "name": "stderr",
     "output_type": "stream",
     "text": [
      "2024-04-25 18:54:16 (INFO): Root relaxation: objective -1.791587e+00, 22369 iterations, 6.99 seconds (8.32 work units)\n"
     ]
    },
    {
     "name": "stdout",
     "output_type": "stream",
     "text": [
      "\n"
     ]
    },
    {
     "name": "stderr",
     "output_type": "stream",
     "text": [
      "2024-04-25 18:54:16 (INFO): \n"
     ]
    },
    {
     "name": "stdout",
     "output_type": "stream",
     "text": [
      "    Nodes    |    Current Node    |     Objective Bounds      |     Work\n"
     ]
    },
    {
     "name": "stderr",
     "output_type": "stream",
     "text": [
      "2024-04-25 18:54:16 (INFO):     Nodes    |    Current Node    |     Objective Bounds      |     Work\n"
     ]
    },
    {
     "name": "stdout",
     "output_type": "stream",
     "text": [
      " Expl Unexpl |  Obj  Depth IntInf | Incumbent    BestBd   Gap | It/Node Time\n"
     ]
    },
    {
     "name": "stderr",
     "output_type": "stream",
     "text": [
      "2024-04-25 18:54:16 (INFO):  Expl Unexpl |  Obj  Depth IntInf | Incumbent    BestBd   Gap | It/Node Time\n"
     ]
    },
    {
     "name": "stdout",
     "output_type": "stream",
     "text": [
      "\n"
     ]
    },
    {
     "name": "stderr",
     "output_type": "stream",
     "text": [
      "2024-04-25 18:54:16 (INFO): \n"
     ]
    },
    {
     "name": "stdout",
     "output_type": "stream",
     "text": [
      "     0     0   -1.79159    0  115   -1.32216   -1.79159  35.5%     -    8s\n"
     ]
    },
    {
     "name": "stderr",
     "output_type": "stream",
     "text": [
      "2024-04-25 18:54:16 (INFO):      0     0   -1.79159    0  115   -1.32216   -1.79159  35.5%     -    8s\n"
     ]
    },
    {
     "name": "stdout",
     "output_type": "stream",
     "text": [
      "     0     2   -1.77865    0  114   -1.32216   -1.77865  34.5%     -   13s\n"
     ]
    },
    {
     "name": "stderr",
     "output_type": "stream",
     "text": [
      "2024-04-25 18:54:22 (INFO):      0     2   -1.77865    0  114   -1.32216   -1.77865  34.5%     -   13s\n"
     ]
    },
    {
     "name": "stdout",
     "output_type": "stream",
     "text": [
      "     1     2     cutoff    1        -1.32216   -1.77197  34.0% 12291   20s\n"
     ]
    },
    {
     "name": "stderr",
     "output_type": "stream",
     "text": [
      "2024-04-25 18:54:28 (INFO):      1     2     cutoff    1        -1.32216   -1.77197  34.0% 12291   20s\n"
     ]
    },
    {
     "name": "stdout",
     "output_type": "stream",
     "text": [
      "     3     4   -1.75873    2  110   -1.32216   -1.75873  33.0%  4187   28s\n"
     ]
    },
    {
     "name": "stderr",
     "output_type": "stream",
     "text": [
      "2024-04-25 18:54:36 (INFO):      3     4   -1.75873    2  110   -1.32216   -1.75873  33.0%  4187   28s\n"
     ]
    },
    {
     "name": "stdout",
     "output_type": "stream",
     "text": [
      "     5     4   -1.39844    3   59   -1.32216   -1.74744  32.2%  6281   35s\n"
     ]
    },
    {
     "name": "stderr",
     "output_type": "stream",
     "text": [
      "2024-04-25 18:54:44 (INFO):      5     4   -1.39844    3   59   -1.32216   -1.74744  32.2%  6281   35s\n"
     ]
    },
    {
     "name": "stdout",
     "output_type": "stream",
     "text": [
      "\n",
      "Interrupt request received\n",
      "     9     7   -1.39542    4   56   -1.32216   -1.65686  25.3%  4563   43s\n"
     ]
    },
    {
     "name": "stderr",
     "output_type": "stream",
     "text": [
      "2024-04-25 18:54:51 (INFO):      9     7   -1.39542    4   56   -1.32216   -1.65686  25.3%  4563   43s\n"
     ]
    },
    {
     "name": "stdout",
     "output_type": "stream",
     "text": [
      "\n"
     ]
    },
    {
     "name": "stderr",
     "output_type": "stream",
     "text": [
      "2024-04-25 18:54:51 (INFO): \n"
     ]
    },
    {
     "name": "stdout",
     "output_type": "stream",
     "text": [
      "Cutting planes:\n"
     ]
    },
    {
     "name": "stderr",
     "output_type": "stream",
     "text": [
      "2024-04-25 18:54:51 (INFO): Cutting planes:\n"
     ]
    },
    {
     "name": "stdout",
     "output_type": "stream",
     "text": [
      "  Implied bound: 108\n"
     ]
    },
    {
     "name": "stderr",
     "output_type": "stream",
     "text": [
      "2024-04-25 18:54:51 (INFO):   Implied bound: 108\n"
     ]
    },
    {
     "name": "stdout",
     "output_type": "stream",
     "text": [
      "  MIR: 9\n"
     ]
    },
    {
     "name": "stderr",
     "output_type": "stream",
     "text": [
      "2024-04-25 18:54:51 (INFO):   MIR: 9\n"
     ]
    },
    {
     "name": "stdout",
     "output_type": "stream",
     "text": [
      "  Flow cover: 3\n"
     ]
    },
    {
     "name": "stderr",
     "output_type": "stream",
     "text": [
      "2024-04-25 18:54:51 (INFO):   Flow cover: 3\n"
     ]
    },
    {
     "name": "stdout",
     "output_type": "stream",
     "text": [
      "\n"
     ]
    },
    {
     "name": "stderr",
     "output_type": "stream",
     "text": [
      "2024-04-25 18:54:51 (INFO): \n"
     ]
    },
    {
     "name": "stdout",
     "output_type": "stream",
     "text": [
      "Explored 12 nodes (63718 simplex iterations) in 43.21 seconds (70.96 work units)\n"
     ]
    },
    {
     "name": "stderr",
     "output_type": "stream",
     "text": [
      "2024-04-25 18:54:51 (INFO): Explored 12 nodes (63718 simplex iterations) in 43.21 seconds (70.96 work units)\n"
     ]
    },
    {
     "name": "stdout",
     "output_type": "stream",
     "text": [
      "Thread count was 20 (of 20 available processors)\n"
     ]
    },
    {
     "name": "stderr",
     "output_type": "stream",
     "text": [
      "2024-04-25 18:54:51 (INFO): Thread count was 20 (of 20 available processors)\n"
     ]
    },
    {
     "name": "stdout",
     "output_type": "stream",
     "text": [
      "\n"
     ]
    },
    {
     "name": "stderr",
     "output_type": "stream",
     "text": [
      "2024-04-25 18:54:51 (INFO): \n"
     ]
    },
    {
     "name": "stdout",
     "output_type": "stream",
     "text": [
      "Solution count 1: -1.32216 \n"
     ]
    },
    {
     "name": "stderr",
     "output_type": "stream",
     "text": [
      "2024-04-25 18:54:51 (INFO): Solution count 1: -1.32216 \n"
     ]
    },
    {
     "name": "stdout",
     "output_type": "stream",
     "text": [
      "\n"
     ]
    },
    {
     "name": "stderr",
     "output_type": "stream",
     "text": [
      "2024-04-25 18:54:51 (INFO): \n"
     ]
    },
    {
     "name": "stdout",
     "output_type": "stream",
     "text": [
      "Solve interrupted\n"
     ]
    },
    {
     "name": "stderr",
     "output_type": "stream",
     "text": [
      "2024-04-25 18:54:51 (INFO): Solve interrupted\n"
     ]
    },
    {
     "name": "stdout",
     "output_type": "stream",
     "text": [
      "Best objective -1.322164670445e+00, best bound -1.650736552047e+00, gap 24.8511%\n"
     ]
    },
    {
     "name": "stderr",
     "output_type": "stream",
     "text": [
      "2024-04-25 18:54:51 (INFO): Best objective -1.322164670445e+00, best bound -1.650736552047e+00, gap 24.8511%\n"
     ]
    },
    {
     "name": "stdout",
     "output_type": "stream",
     "text": [
      "\n"
     ]
    },
    {
     "name": "stderr",
     "output_type": "stream",
     "text": [
      "2024-04-25 18:54:51 (INFO): \n"
     ]
    },
    {
     "name": "stdout",
     "output_type": "stream",
     "text": [
      "User-callback calls 13478, time in user-callback 0.13 sec\n"
     ]
    },
    {
     "name": "stderr",
     "output_type": "stream",
     "text": [
      "2024-04-25 18:54:51 (INFO): User-callback calls 13478, time in user-callback 0.13 sec\n",
      "2024-04-25 18:54:51 (INFO): Optimization status: 11\n",
      "2024-04-25 18:54:51 (INFO): Original -1.32182, Opt objective -1.32216, stop_obj: None\n"
     ]
    },
    {
     "name": "stdout",
     "output_type": "stream",
     "text": [
      "Warning for adding constraints: zero or small (< 1e-13) coefficients, ignored\n"
     ]
    },
    {
     "name": "stderr",
     "output_type": "stream",
     "text": [
      "2024-04-25 18:54:52 (INFO): Warning for adding constraints: zero or small (< 1e-13) coefficients, ignored\n"
     ]
    },
    {
     "name": "stdout",
     "output_type": "stream",
     "text": [
      "Set parameter BestObjStop to value -1.6507365520469970e+00\n"
     ]
    },
    {
     "name": "stderr",
     "output_type": "stream",
     "text": [
      "2024-04-25 18:54:52 (INFO): Set parameter BestObjStop to value -1.6507365520469970e+00\n"
     ]
    },
    {
     "name": "stdout",
     "output_type": "stream",
     "text": [
      "Set parameter IntegralityFocus to value 1\n"
     ]
    },
    {
     "name": "stderr",
     "output_type": "stream",
     "text": [
      "2024-04-25 18:54:52 (INFO): Set parameter IntegralityFocus to value 1\n"
     ]
    },
    {
     "name": "stdout",
     "output_type": "stream",
     "text": [
      "Set parameter IntFeasTol to value 0.0001\n"
     ]
    },
    {
     "name": "stderr",
     "output_type": "stream",
     "text": [
      "2024-04-25 18:54:52 (INFO): Set parameter IntFeasTol to value 0.0001\n"
     ]
    },
    {
     "name": "stdout",
     "output_type": "stream",
     "text": [
      "Set parameter DualReductions to value 0\n"
     ]
    },
    {
     "name": "stderr",
     "output_type": "stream",
     "text": [
      "2024-04-25 18:54:52 (INFO): Set parameter DualReductions to value 0\n"
     ]
    },
    {
     "name": "stdout",
     "output_type": "stream",
     "text": [
      "Set parameter FeasibilityTol to value 0.0001\n"
     ]
    },
    {
     "name": "stderr",
     "output_type": "stream",
     "text": [
      "2024-04-25 18:54:52 (INFO): Set parameter FeasibilityTol to value 0.0001\n"
     ]
    },
    {
     "name": "stdout",
     "output_type": "stream",
     "text": [
      "Set parameter OptimalityTol to value 0.0001\n"
     ]
    },
    {
     "name": "stderr",
     "output_type": "stream",
     "text": [
      "2024-04-25 18:54:52 (INFO): Set parameter OptimalityTol to value 0.0001\n"
     ]
    },
    {
     "name": "stdout",
     "output_type": "stream",
     "text": [
      "Set parameter NumericFocus to value 3\n"
     ]
    },
    {
     "name": "stderr",
     "output_type": "stream",
     "text": [
      "2024-04-25 18:54:52 (INFO): Set parameter NumericFocus to value 3\n"
     ]
    },
    {
     "name": "stdout",
     "output_type": "stream",
     "text": [
      "Set parameter TimeLimit to value 3600\n"
     ]
    },
    {
     "name": "stderr",
     "output_type": "stream",
     "text": [
      "2024-04-25 18:54:52 (INFO): Set parameter TimeLimit to value 3600\n"
     ]
    },
    {
     "name": "stdout",
     "output_type": "stream",
     "text": [
      "Set parameter MIPFocus to value 2\n"
     ]
    },
    {
     "name": "stderr",
     "output_type": "stream",
     "text": [
      "2024-04-25 18:54:52 (INFO): Set parameter MIPFocus to value 2\n"
     ]
    },
    {
     "name": "stdout",
     "output_type": "stream",
     "text": [
      "Gurobi Optimizer version 11.0.1 build v11.0.1rc0 (linux64 - \"Ubuntu 22.04.4 LTS\")\n"
     ]
    },
    {
     "name": "stderr",
     "output_type": "stream",
     "text": [
      "2024-04-25 18:54:52 (INFO): Gurobi Optimizer version 11.0.1 build v11.0.1rc0 (linux64 - \"Ubuntu 22.04.4 LTS\")\n"
     ]
    },
    {
     "name": "stdout",
     "output_type": "stream",
     "text": [
      "\n"
     ]
    },
    {
     "name": "stderr",
     "output_type": "stream",
     "text": [
      "2024-04-25 18:54:52 (INFO): \n"
     ]
    },
    {
     "name": "stdout",
     "output_type": "stream",
     "text": [
      "CPU model: Intel(R) Xeon(R) CPU E5-2630 v4 @ 2.20GHz, instruction set [SSE2|AVX|AVX2]\n"
     ]
    },
    {
     "name": "stderr",
     "output_type": "stream",
     "text": [
      "2024-04-25 18:54:53 (INFO): CPU model: Intel(R) Xeon(R) CPU E5-2630 v4 @ 2.20GHz, instruction set [SSE2|AVX|AVX2]\n"
     ]
    },
    {
     "name": "stdout",
     "output_type": "stream",
     "text": [
      "Thread count: 20 physical cores, 20 logical processors, using up to 20 threads\n"
     ]
    },
    {
     "name": "stderr",
     "output_type": "stream",
     "text": [
      "2024-04-25 18:54:53 (INFO): Thread count: 20 physical cores, 20 logical processors, using up to 20 threads\n"
     ]
    },
    {
     "name": "stdout",
     "output_type": "stream",
     "text": [
      "\n"
     ]
    },
    {
     "name": "stderr",
     "output_type": "stream",
     "text": [
      "2024-04-25 18:54:53 (INFO): \n"
     ]
    },
    {
     "name": "stdout",
     "output_type": "stream",
     "text": [
      "Optimize a model with 40180 rows, 20440 columns and 99940 nonzeros\n"
     ]
    },
    {
     "name": "stderr",
     "output_type": "stream",
     "text": [
      "2024-04-25 18:54:53 (INFO): Optimize a model with 40180 rows, 20440 columns and 99940 nonzeros\n"
     ]
    },
    {
     "name": "stdout",
     "output_type": "stream",
     "text": [
      "Model fingerprint: 0xf108adab\n"
     ]
    },
    {
     "name": "stderr",
     "output_type": "stream",
     "text": [
      "2024-04-25 18:54:53 (INFO): Model fingerprint: 0xf108adab\n"
     ]
    },
    {
     "name": "stdout",
     "output_type": "stream",
     "text": [
      "Variable types: 20160 continuous, 280 integer (280 binary)\n"
     ]
    },
    {
     "name": "stderr",
     "output_type": "stream",
     "text": [
      "2024-04-25 18:54:53 (INFO): Variable types: 20160 continuous, 280 integer (280 binary)\n"
     ]
    },
    {
     "name": "stdout",
     "output_type": "stream",
     "text": [
      "Coefficient statistics:\n"
     ]
    },
    {
     "name": "stderr",
     "output_type": "stream",
     "text": [
      "2024-04-25 18:54:53 (INFO): Coefficient statistics:\n"
     ]
    },
    {
     "name": "stdout",
     "output_type": "stream",
     "text": [
      "  Matrix range     [5e-03, 3e+01]\n"
     ]
    },
    {
     "name": "stderr",
     "output_type": "stream",
     "text": [
      "2024-04-25 18:54:53 (INFO):   Matrix range     [5e-03, 3e+01]\n"
     ]
    },
    {
     "name": "stdout",
     "output_type": "stream",
     "text": [
      "  Objective range  [1e+00, 1e+00]\n"
     ]
    },
    {
     "name": "stderr",
     "output_type": "stream",
     "text": [
      "2024-04-25 18:54:53 (INFO):   Objective range  [1e+00, 1e+00]\n"
     ]
    },
    {
     "name": "stdout",
     "output_type": "stream",
     "text": [
      "  Bounds range     [5e-03, 1e+00]\n"
     ]
    },
    {
     "name": "stderr",
     "output_type": "stream",
     "text": [
      "2024-04-25 18:54:53 (INFO):   Bounds range     [5e-03, 1e+00]\n"
     ]
    },
    {
     "name": "stdout",
     "output_type": "stream",
     "text": [
      "  RHS range        [5e-03, 1e+00]\n"
     ]
    },
    {
     "name": "stderr",
     "output_type": "stream",
     "text": [
      "2024-04-25 18:54:53 (INFO):   RHS range        [5e-03, 1e+00]\n"
     ]
    },
    {
     "name": "stdout",
     "output_type": "stream",
     "text": [
      "\n"
     ]
    },
    {
     "name": "stderr",
     "output_type": "stream",
     "text": [
      "2024-04-25 18:54:53 (INFO): \n"
     ]
    },
    {
     "name": "stdout",
     "output_type": "stream",
     "text": [
      "Loaded user MIP start with objective -1.32229\n",
      "\n",
      "Loaded user MIP start with objective -1.32229\n"
     ]
    },
    {
     "name": "stderr",
     "output_type": "stream",
     "text": [
      "2024-04-25 18:54:53 (INFO): Loaded user MIP start with objective -1.32229\n"
     ]
    },
    {
     "name": "stdout",
     "output_type": "stream",
     "text": [
      "\n"
     ]
    },
    {
     "name": "stderr",
     "output_type": "stream",
     "text": [
      "2024-04-25 18:54:53 (INFO): \n"
     ]
    },
    {
     "name": "stdout",
     "output_type": "stream",
     "text": [
      "Presolve removed 8216 rows and 1621 columns\n"
     ]
    },
    {
     "name": "stderr",
     "output_type": "stream",
     "text": [
      "2024-04-25 18:54:53 (INFO): Presolve removed 8216 rows and 1621 columns\n"
     ]
    },
    {
     "name": "stdout",
     "output_type": "stream",
     "text": [
      "Presolve time: 0.56s\n"
     ]
    },
    {
     "name": "stderr",
     "output_type": "stream",
     "text": [
      "2024-04-25 18:54:53 (INFO): Presolve time: 0.56s\n"
     ]
    },
    {
     "name": "stdout",
     "output_type": "stream",
     "text": [
      "Presolved: 31964 rows, 18819 columns, 83215 nonzeros\n"
     ]
    },
    {
     "name": "stderr",
     "output_type": "stream",
     "text": [
      "2024-04-25 18:54:53 (INFO): Presolved: 31964 rows, 18819 columns, 83215 nonzeros\n"
     ]
    },
    {
     "name": "stdout",
     "output_type": "stream",
     "text": [
      "Variable types: 18579 continuous, 240 integer (240 binary)\n"
     ]
    },
    {
     "name": "stderr",
     "output_type": "stream",
     "text": [
      "2024-04-25 18:54:53 (INFO): Variable types: 18579 continuous, 240 integer (240 binary)\n"
     ]
    },
    {
     "name": "stdout",
     "output_type": "stream",
     "text": [
      "\n"
     ]
    },
    {
     "name": "stderr",
     "output_type": "stream",
     "text": [
      "2024-04-25 18:54:53 (INFO): \n"
     ]
    },
    {
     "name": "stdout",
     "output_type": "stream",
     "text": [
      "Explored 0 nodes (0 simplex iterations) in 0.72 seconds (0.69 work units)\n"
     ]
    },
    {
     "name": "stderr",
     "output_type": "stream",
     "text": [
      "2024-04-25 18:54:53 (INFO): Explored 0 nodes (0 simplex iterations) in 0.72 seconds (0.69 work units)\n"
     ]
    },
    {
     "name": "stdout",
     "output_type": "stream",
     "text": [
      "Thread count was 20 (of 20 available processors)\n"
     ]
    },
    {
     "name": "stderr",
     "output_type": "stream",
     "text": [
      "2024-04-25 18:54:53 (INFO): Thread count was 20 (of 20 available processors)\n"
     ]
    },
    {
     "name": "stdout",
     "output_type": "stream",
     "text": [
      "\n"
     ]
    },
    {
     "name": "stderr",
     "output_type": "stream",
     "text": [
      "2024-04-25 18:54:53 (INFO): \n"
     ]
    },
    {
     "name": "stdout",
     "output_type": "stream",
     "text": [
      "Solution count 1: -1.32229 \n"
     ]
    },
    {
     "name": "stderr",
     "output_type": "stream",
     "text": [
      "2024-04-25 18:54:53 (INFO): Solution count 1: -1.32229 \n"
     ]
    },
    {
     "name": "stdout",
     "output_type": "stream",
     "text": [
      "\n"
     ]
    },
    {
     "name": "stderr",
     "output_type": "stream",
     "text": [
      "2024-04-25 18:54:53 (INFO): \n"
     ]
    },
    {
     "name": "stdout",
     "output_type": "stream",
     "text": [
      "Optimization achieved user objective limit\n"
     ]
    },
    {
     "name": "stderr",
     "output_type": "stream",
     "text": [
      "2024-04-25 18:54:53 (INFO): Optimization achieved user objective limit\n"
     ]
    },
    {
     "name": "stdout",
     "output_type": "stream",
     "text": [
      "Best objective -1.322285301600e+00, best bound 5.277872855616e-01, gap 139.9148%\n"
     ]
    },
    {
     "name": "stderr",
     "output_type": "stream",
     "text": [
      "2024-04-25 18:54:53 (INFO): Best objective -1.322285301600e+00, best bound 5.277872855616e-01, gap 139.9148%\n"
     ]
    },
    {
     "name": "stdout",
     "output_type": "stream",
     "text": [
      "\n"
     ]
    },
    {
     "name": "stderr",
     "output_type": "stream",
     "text": [
      "2024-04-25 18:54:53 (INFO): \n"
     ]
    },
    {
     "name": "stdout",
     "output_type": "stream",
     "text": [
      "User-callback calls 403, time in user-callback 0.00 sec\n"
     ]
    },
    {
     "name": "stderr",
     "output_type": "stream",
     "text": [
      "2024-04-25 18:54:53 (INFO): User-callback calls 403, time in user-callback 0.00 sec\n",
      "2024-04-25 18:54:53 (INFO): Optimization status: 15\n",
      "2024-04-25 18:54:53 (INFO): Original -1.32229, Opt objective -1.32229, stop_obj: -1.650736552046997\n",
      "2024-04-25 18:54:53 (INFO): Robust count 0 out of 1\n"
     ]
    },
    {
     "name": "stdout",
     "output_type": "stream",
     "text": [
      "Warning for adding constraints: zero or small (< 1e-13) coefficients, ignored\n"
     ]
    },
    {
     "name": "stderr",
     "output_type": "stream",
     "text": [
      "2024-04-25 18:54:54 (INFO): Warning for adding constraints: zero or small (< 1e-13) coefficients, ignored\n"
     ]
    },
    {
     "name": "stdout",
     "output_type": "stream",
     "text": [
      "Set parameter IntegralityFocus to value 1\n"
     ]
    },
    {
     "name": "stderr",
     "output_type": "stream",
     "text": [
      "2024-04-25 18:54:54 (INFO): Set parameter IntegralityFocus to value 1\n"
     ]
    },
    {
     "name": "stdout",
     "output_type": "stream",
     "text": [
      "Set parameter IntFeasTol to value 0.0001\n"
     ]
    },
    {
     "name": "stderr",
     "output_type": "stream",
     "text": [
      "2024-04-25 18:54:54 (INFO): Set parameter IntFeasTol to value 0.0001\n"
     ]
    },
    {
     "name": "stdout",
     "output_type": "stream",
     "text": [
      "Set parameter DualReductions to value 0\n"
     ]
    },
    {
     "name": "stderr",
     "output_type": "stream",
     "text": [
      "2024-04-25 18:54:54 (INFO): Set parameter DualReductions to value 0\n"
     ]
    },
    {
     "name": "stdout",
     "output_type": "stream",
     "text": [
      "Set parameter FeasibilityTol to value 0.0001\n"
     ]
    },
    {
     "name": "stderr",
     "output_type": "stream",
     "text": [
      "2024-04-25 18:54:54 (INFO): Set parameter FeasibilityTol to value 0.0001\n"
     ]
    },
    {
     "name": "stdout",
     "output_type": "stream",
     "text": [
      "Set parameter OptimalityTol to value 0.0001\n"
     ]
    },
    {
     "name": "stderr",
     "output_type": "stream",
     "text": [
      "2024-04-25 18:54:54 (INFO): Set parameter OptimalityTol to value 0.0001\n"
     ]
    },
    {
     "name": "stdout",
     "output_type": "stream",
     "text": [
      "Set parameter NumericFocus to value 3\n"
     ]
    },
    {
     "name": "stderr",
     "output_type": "stream",
     "text": [
      "2024-04-25 18:54:54 (INFO): Set parameter NumericFocus to value 3\n"
     ]
    },
    {
     "name": "stdout",
     "output_type": "stream",
     "text": [
      "Set parameter TimeLimit to value 3600\n"
     ]
    },
    {
     "name": "stderr",
     "output_type": "stream",
     "text": [
      "2024-04-25 18:54:54 (INFO): Set parameter TimeLimit to value 3600\n"
     ]
    },
    {
     "name": "stdout",
     "output_type": "stream",
     "text": [
      "Set parameter MIPFocus to value 2\n"
     ]
    },
    {
     "name": "stderr",
     "output_type": "stream",
     "text": [
      "2024-04-25 18:54:54 (INFO): Set parameter MIPFocus to value 2\n"
     ]
    },
    {
     "name": "stdout",
     "output_type": "stream",
     "text": [
      "Gurobi Optimizer version 11.0.1 build v11.0.1rc0 (linux64 - \"Ubuntu 22.04.4 LTS\")\n"
     ]
    },
    {
     "name": "stderr",
     "output_type": "stream",
     "text": [
      "2024-04-25 18:54:54 (INFO): Gurobi Optimizer version 11.0.1 build v11.0.1rc0 (linux64 - \"Ubuntu 22.04.4 LTS\")\n"
     ]
    },
    {
     "name": "stdout",
     "output_type": "stream",
     "text": [
      "\n"
     ]
    },
    {
     "name": "stderr",
     "output_type": "stream",
     "text": [
      "2024-04-25 18:54:54 (INFO): \n"
     ]
    },
    {
     "name": "stdout",
     "output_type": "stream",
     "text": [
      "CPU model: Intel(R) Xeon(R) CPU E5-2630 v4 @ 2.20GHz, instruction set [SSE2|AVX|AVX2]\n"
     ]
    },
    {
     "name": "stderr",
     "output_type": "stream",
     "text": [
      "2024-04-25 18:54:54 (INFO): CPU model: Intel(R) Xeon(R) CPU E5-2630 v4 @ 2.20GHz, instruction set [SSE2|AVX|AVX2]\n"
     ]
    },
    {
     "name": "stdout",
     "output_type": "stream",
     "text": [
      "Thread count: 20 physical cores, 20 logical processors, using up to 20 threads\n"
     ]
    },
    {
     "name": "stderr",
     "output_type": "stream",
     "text": [
      "2024-04-25 18:54:54 (INFO): Thread count: 20 physical cores, 20 logical processors, using up to 20 threads\n"
     ]
    },
    {
     "name": "stdout",
     "output_type": "stream",
     "text": [
      "\n"
     ]
    },
    {
     "name": "stderr",
     "output_type": "stream",
     "text": [
      "2024-04-25 18:54:54 (INFO): \n"
     ]
    },
    {
     "name": "stdout",
     "output_type": "stream",
     "text": [
      "Optimize a model with 40180 rows, 20440 columns and 99940 nonzeros\n"
     ]
    },
    {
     "name": "stderr",
     "output_type": "stream",
     "text": [
      "2024-04-25 18:54:54 (INFO): Optimize a model with 40180 rows, 20440 columns and 99940 nonzeros\n"
     ]
    },
    {
     "name": "stdout",
     "output_type": "stream",
     "text": [
      "Model fingerprint: 0x0aace9a9\n"
     ]
    },
    {
     "name": "stderr",
     "output_type": "stream",
     "text": [
      "2024-04-25 18:54:54 (INFO): Model fingerprint: 0x0aace9a9\n"
     ]
    },
    {
     "name": "stdout",
     "output_type": "stream",
     "text": [
      "Variable types: 20160 continuous, 280 integer (280 binary)\n"
     ]
    },
    {
     "name": "stderr",
     "output_type": "stream",
     "text": [
      "2024-04-25 18:54:54 (INFO): Variable types: 20160 continuous, 280 integer (280 binary)\n"
     ]
    },
    {
     "name": "stdout",
     "output_type": "stream",
     "text": [
      "Coefficient statistics:\n"
     ]
    },
    {
     "name": "stderr",
     "output_type": "stream",
     "text": [
      "2024-04-25 18:54:54 (INFO): Coefficient statistics:\n"
     ]
    },
    {
     "name": "stdout",
     "output_type": "stream",
     "text": [
      "  Matrix range     [5e-03, 3e+01]\n"
     ]
    },
    {
     "name": "stderr",
     "output_type": "stream",
     "text": [
      "2024-04-25 18:54:54 (INFO):   Matrix range     [5e-03, 3e+01]\n"
     ]
    },
    {
     "name": "stdout",
     "output_type": "stream",
     "text": [
      "  Objective range  [1e+00, 1e+00]\n"
     ]
    },
    {
     "name": "stderr",
     "output_type": "stream",
     "text": [
      "2024-04-25 18:54:54 (INFO):   Objective range  [1e+00, 1e+00]\n"
     ]
    },
    {
     "name": "stdout",
     "output_type": "stream",
     "text": [
      "  Bounds range     [5e-03, 1e+00]\n"
     ]
    },
    {
     "name": "stderr",
     "output_type": "stream",
     "text": [
      "2024-04-25 18:54:54 (INFO):   Bounds range     [5e-03, 1e+00]\n"
     ]
    },
    {
     "name": "stdout",
     "output_type": "stream",
     "text": [
      "  RHS range        [5e-03, 1e+00]\n"
     ]
    },
    {
     "name": "stderr",
     "output_type": "stream",
     "text": [
      "2024-04-25 18:54:54 (INFO):   RHS range        [5e-03, 1e+00]\n"
     ]
    },
    {
     "name": "stdout",
     "output_type": "stream",
     "text": [
      "\n"
     ]
    },
    {
     "name": "stderr",
     "output_type": "stream",
     "text": [
      "2024-04-25 18:54:54 (INFO): \n"
     ]
    },
    {
     "name": "stdout",
     "output_type": "stream",
     "text": [
      "Loaded user MIP start with objective -0.884313\n",
      "\n",
      "Loaded user MIP start with objective -0.884313\n"
     ]
    },
    {
     "name": "stderr",
     "output_type": "stream",
     "text": [
      "2024-04-25 18:54:54 (INFO): Loaded user MIP start with objective -0.884313\n"
     ]
    },
    {
     "name": "stdout",
     "output_type": "stream",
     "text": [
      "\n"
     ]
    },
    {
     "name": "stderr",
     "output_type": "stream",
     "text": [
      "2024-04-25 18:54:54 (INFO): \n"
     ]
    },
    {
     "name": "stdout",
     "output_type": "stream",
     "text": [
      "Presolve removed 8280 rows and 1660 columns\n"
     ]
    },
    {
     "name": "stderr",
     "output_type": "stream",
     "text": [
      "2024-04-25 18:54:55 (INFO): Presolve removed 8280 rows and 1660 columns\n"
     ]
    },
    {
     "name": "stdout",
     "output_type": "stream",
     "text": [
      "Presolve time: 0.55s\n"
     ]
    },
    {
     "name": "stderr",
     "output_type": "stream",
     "text": [
      "2024-04-25 18:54:55 (INFO): Presolve time: 0.55s\n"
     ]
    },
    {
     "name": "stdout",
     "output_type": "stream",
     "text": [
      "Presolved: 31900 rows, 18780 columns, 83087 nonzeros\n"
     ]
    },
    {
     "name": "stderr",
     "output_type": "stream",
     "text": [
      "2024-04-25 18:54:55 (INFO): Presolved: 31900 rows, 18780 columns, 83087 nonzeros\n"
     ]
    },
    {
     "name": "stdout",
     "output_type": "stream",
     "text": [
      "Found heuristic solution: objective -0.8843132\n"
     ]
    },
    {
     "name": "stderr",
     "output_type": "stream",
     "text": [
      "2024-04-25 18:54:55 (INFO): Found heuristic solution: objective -0.8843132\n"
     ]
    },
    {
     "name": "stdout",
     "output_type": "stream",
     "text": [
      "Variable types: 18540 continuous, 240 integer (240 binary)\n"
     ]
    },
    {
     "name": "stderr",
     "output_type": "stream",
     "text": [
      "2024-04-25 18:54:55 (INFO): Variable types: 18540 continuous, 240 integer (240 binary)\n"
     ]
    },
    {
     "name": "stdout",
     "output_type": "stream",
     "text": [
      "Root relaxation presolved: 31880 rows, 18780 columns, 80336 nonzeros\n"
     ]
    },
    {
     "name": "stderr",
     "output_type": "stream",
     "text": [
      "2024-04-25 18:54:56 (INFO): Root relaxation presolved: 31880 rows, 18780 columns, 80336 nonzeros\n"
     ]
    },
    {
     "name": "stdout",
     "output_type": "stream",
     "text": [
      "\n"
     ]
    },
    {
     "name": "stderr",
     "output_type": "stream",
     "text": [
      "2024-04-25 18:54:56 (INFO): \n"
     ]
    },
    {
     "name": "stdout",
     "output_type": "stream",
     "text": [
      "\n"
     ]
    },
    {
     "name": "stderr",
     "output_type": "stream",
     "text": [
      "2024-04-25 18:55:00 (INFO): \n"
     ]
    },
    {
     "name": "stdout",
     "output_type": "stream",
     "text": [
      "Root simplex log...\n"
     ]
    },
    {
     "name": "stderr",
     "output_type": "stream",
     "text": [
      "2024-04-25 18:55:00 (INFO): Root simplex log...\n"
     ]
    },
    {
     "name": "stdout",
     "output_type": "stream",
     "text": [
      "\n"
     ]
    },
    {
     "name": "stderr",
     "output_type": "stream",
     "text": [
      "2024-04-25 18:55:00 (INFO): \n"
     ]
    },
    {
     "name": "stdout",
     "output_type": "stream",
     "text": [
      "Iteration    Objective       Primal Inf.    Dual Inf.      Time\n"
     ]
    },
    {
     "name": "stderr",
     "output_type": "stream",
     "text": [
      "2024-04-25 18:55:00 (INFO): Iteration    Objective       Primal Inf.    Dual Inf.      Time\n"
     ]
    },
    {
     "name": "stdout",
     "output_type": "stream",
     "text": [
      "   19988   -1.1805806e+00   8.930797e-01   0.000000e+00      5s\n"
     ]
    },
    {
     "name": "stderr",
     "output_type": "stream",
     "text": [
      "2024-04-25 18:55:00 (INFO):    19988   -1.1805806e+00   8.930797e-01   0.000000e+00      5s\n"
     ]
    },
    {
     "name": "stdout",
     "output_type": "stream",
     "text": [
      "   20746   -1.1752341e+00   0.000000e+00   0.000000e+00      6s\n"
     ]
    },
    {
     "name": "stderr",
     "output_type": "stream",
     "text": [
      "2024-04-25 18:55:00 (INFO):    20746   -1.1752341e+00   0.000000e+00   0.000000e+00      6s\n"
     ]
    },
    {
     "name": "stdout",
     "output_type": "stream",
     "text": [
      "   21684   -1.1752341e+00   0.000000e+00   0.000000e+00      7s\n"
     ]
    },
    {
     "name": "stderr",
     "output_type": "stream",
     "text": [
      "2024-04-25 18:55:02 (INFO):    21684   -1.1752341e+00   0.000000e+00   0.000000e+00      7s\n"
     ]
    },
    {
     "name": "stdout",
     "output_type": "stream",
     "text": [
      "Extra simplex iterations after uncrush: 938\n"
     ]
    },
    {
     "name": "stderr",
     "output_type": "stream",
     "text": [
      "2024-04-25 18:55:02 (INFO): Extra simplex iterations after uncrush: 938\n"
     ]
    },
    {
     "name": "stdout",
     "output_type": "stream",
     "text": [
      "\n"
     ]
    },
    {
     "name": "stderr",
     "output_type": "stream",
     "text": [
      "2024-04-25 18:55:02 (INFO): \n"
     ]
    },
    {
     "name": "stdout",
     "output_type": "stream",
     "text": [
      "Root relaxation: objective -1.175234e+00, 21684 iterations, 6.44 seconds (7.74 work units)\n"
     ]
    },
    {
     "name": "stderr",
     "output_type": "stream",
     "text": [
      "2024-04-25 18:55:02 (INFO): Root relaxation: objective -1.175234e+00, 21684 iterations, 6.44 seconds (7.74 work units)\n"
     ]
    },
    {
     "name": "stdout",
     "output_type": "stream",
     "text": [
      "\n"
     ]
    },
    {
     "name": "stderr",
     "output_type": "stream",
     "text": [
      "2024-04-25 18:55:02 (INFO): \n"
     ]
    },
    {
     "name": "stdout",
     "output_type": "stream",
     "text": [
      "    Nodes    |    Current Node    |     Objective Bounds      |     Work\n"
     ]
    },
    {
     "name": "stderr",
     "output_type": "stream",
     "text": [
      "2024-04-25 18:55:02 (INFO):     Nodes    |    Current Node    |     Objective Bounds      |     Work\n"
     ]
    },
    {
     "name": "stdout",
     "output_type": "stream",
     "text": [
      " Expl Unexpl |  Obj  Depth IntInf | Incumbent    BestBd   Gap | It/Node Time\n"
     ]
    },
    {
     "name": "stderr",
     "output_type": "stream",
     "text": [
      "2024-04-25 18:55:02 (INFO):  Expl Unexpl |  Obj  Depth IntInf | Incumbent    BestBd   Gap | It/Node Time\n"
     ]
    },
    {
     "name": "stdout",
     "output_type": "stream",
     "text": [
      "\n"
     ]
    },
    {
     "name": "stderr",
     "output_type": "stream",
     "text": [
      "2024-04-25 18:55:02 (INFO): \n"
     ]
    },
    {
     "name": "stdout",
     "output_type": "stream",
     "text": [
      "     0     0   -1.17523    0  111   -0.88431   -1.17523  32.9%     -    7s\n"
     ]
    },
    {
     "name": "stderr",
     "output_type": "stream",
     "text": [
      "2024-04-25 18:55:02 (INFO):      0     0   -1.17523    0  111   -0.88431   -1.17523  32.9%     -    7s\n"
     ]
    },
    {
     "name": "stdout",
     "output_type": "stream",
     "text": [
      "     0     1   -1.16725    0  110   -0.88431   -1.16725  32.0%     -   12s\n"
     ]
    },
    {
     "name": "stderr",
     "output_type": "stream",
     "text": [
      "2024-04-25 18:55:07 (INFO):      0     1   -1.16725    0  110   -0.88431   -1.16725  32.0%     -   12s\n"
     ]
    }
   ],
   "source": [
    "# MIP foucs = 2\n",
    "#model_params[\"cache_size\"] = 10000\n",
    "other_params[\"device\"] = \"cpu\"\n",
    "other_params[\"debug\"] = False\n",
    "certificate_params[\"n_adversarial\"] = 270\n",
    "certificate_params[\"delta\"] = 0.01\n",
    "certificate_params[\"delta_absolute\"] = False\n",
    "certificate_params[\"method\"] = \"XXT\"\n",
    "certificate_params[\"perturbation_model\"] = \"l2\"\n",
    "certificate_params[\"attack_nodes\"] = \"test\"\n",
    "certificate_params[\"MIPFocus\"] = 2\n",
    "certificate_params[\"LogToConsole\"] = 1\n",
    "certificate_params[\"OutputFlag\"] = 1\n",
    "other_params[\"path_gurobi_license\"] = \"/ceph/ssd/staff/gosl/app/gurobi.lic\"\n",
    "verbosity_params[\"debug_lvl\"] = \"info\"\n",
    "model_params[\"regularizer\"] = 0.0055\n",
    "model_params[\"solver\"] = \"qplayer_one_vs_all\"\n",
    "model_params[\"alpha_tol\"] = 1e-4\n",
    "model_params[\"bias\"] = False\n",
    "data_params[\"learning_setting\"] = \"transductive\"\n",
    "run(data_params, model_params, certificate_params, verbosity_params, other_params, seed)"
   ]
  },
  {
   "cell_type": "code",
   "execution_count": 5,
   "metadata": {},
   "outputs": [
    {
     "name": "stderr",
     "output_type": "stream",
     "text": [
      "2024-04-25 18:50:47 (INFO): Starting experiment exp_certify_multiclass with configuration:\n",
      "2024-04-25 18:50:47 (INFO): data_params: {'dataset': 'cora', 'learning_setting': 'transductive', 'specification': {'n_per_class': 10, 'fraction_test': 0.01, 'data_dir': './data', 'make_undirected': True, 'binary_attr': False, 'balance_test': True}}\n",
      "2024-04-25 18:50:47 (INFO): model_params: {'label': 'GCN', 'model': 'GCN', 'normalization': 'row_normalization', 'depth': 1, 'regularizer': 0.0075, 'pred_method': 'svm', 'activation': 'relu', 'solver': 'qplayer_one_vs_all', 'alpha_tol': 0.0001, 'bias': False}\n",
      "2024-04-25 18:50:47 (INFO): certification_params: {'n_adversarial': 270, 'perturbation_model': 'l2', 'delta': 0.01, 'delta_absolute': False, 'method': 'XXT', 'attack_nodes': 'test', 'MIPFocus': 2, 'LogToConsole': 1, 'OutputFlag': 1}\n",
      "2024-04-25 18:50:47 (INFO): verbosity_params: {'debug_lvl': 'info'}\n",
      "2024-04-25 18:50:47 (INFO): other_params: {'device': 'cpu', 'dtype': torch.float64, 'allow_tf32': False, 'debug': False, 'path_gurobi_license': '/ceph/ssd/staff/gosl/app/gurobi.lic'}\n",
      "2024-04-25 18:50:47 (INFO): seed: 0\n"
     ]
    },
    {
     "name": "stderr",
     "output_type": "stream",
     "text": [
      "2024-04-25 18:50:47 (INFO): number of samples\n",
      " - labeled: 70 \n",
      " - val: 70 \n",
      " - test: 273 \n",
      " - unlabeled: 2295\n",
      "2024-04-25 18:50:51 (INFO): Delta: 0.01\n"
     ]
    },
    {
     "name": "stdout",
     "output_type": "stream",
     "text": [
      "Class 0: 95 alphas found: ['-0.0000', '0.0075', '0.0075', '-0.0000', '0.0075', '0.0075', '0.0020', '0.0075', '0.0075', '0.0075', '0.0075', '-0.0000', '-0.0000', '-0.0000', '0.0075', '0.0075', '0.0075', '0.0075', '0.0038', '-0.0000', '0.0075', '0.0043', '0.0075', '-0.0000', '0.0075', '-0.0000', '-0.0000', '0.0075', '0.0075', '0.0075', '-0.0000', '0.0075', '-0.0000', '0.0075', '0.0075', '0.0075', '-0.0000', '-0.0000', '-0.0000', '0.0075', '-0.0000', '0.0012', '-0.0000', '0.0075', '0.0075', '0.0075', '0.0075', '0.0075', '0.0075', '-0.0000', '0.0075', '0.0075', '-0.0000', '0.0075', '0.0000', '-0.0000', '0.0075', '0.0075', '-0.0000', '0.0031', '0.0075', '0.0075', '-0.0000', '-0.0000', '0.0018', '-0.0000', '0.0075', '0.0020', '0.0075', '0.0075', '0.0075', '0.0075', '-0.0000', '0.0075', '-0.0000', '-0.0000', '0.0075', '0.0075', '-0.0000', '0.0075', '0.0075', '0.0045', '-0.0000', '0.0075', '0.0056', '0.0075', '-0.0000', '-0.0000', '0.0075', '-0.0000', '0.0075', '0.0075', '-0.0000', '-0.0000', '0.0075', '0.0075', '0.0075', '0.0075', '0.0075', '0.0075', '0.0075', '0.0075', '0.0075', '-0.0000', '0.0075', '0.0075', '0.0075', '-0.0000', '0.0075', '0.0075', '0.0075', '0.0075', '0.0075', '0.0075', '-0.0000', '0.0075', '0.0075', '-0.0000', '-0.0000', '0.0075', '0.0075', '0.0042', '0.0075', '0.0075', '-0.0000', '0.0021', '0.0075', '-0.0000', '-0.0000', '0.0075', '0.0075', '0.0075', '0.0075', '-0.0000', '0.0075', '-0.0000', '0.0064', '0.0028', '-0.0000', '0.0075']\n",
      "Class 1: 95 alphas found: ['0.0000', '0.0034', '0.0010', '0.0002', '0.0075', '0.0075', '-0.0000', '0.0075', '0.0049', '0.0075', '0.0075', '0.0075', '-0.0000', '0.0000', '0.0075', '-0.0000', '0.0075', '-0.0000', '0.0075', '-0.0000', '-0.0000', '0.0032', '0.0048', '-0.0000', '0.0075', '-0.0000', '-0.0000', '0.0075', '0.0075', '0.0075', '-0.0000', '0.0075', '0.0075', '0.0075', '0.0075', '0.0075', '-0.0000', '0.0075', '-0.0000', '0.0075', '-0.0000', '0.0057', '-0.0000', '0.0075', '0.0075', '-0.0000', '0.0075', '0.0075', '0.0062', '0.0075', '0.0075', '0.0075', '-0.0000', '0.0075', '-0.0000', '-0.0000', '-0.0000', '0.0075', '0.0075', '-0.0000', '0.0075', '0.0075', '0.0075', '-0.0000', '-0.0000', '0.0075', '0.0075', '0.0037', '0.0075', '0.0075', '0.0075', '0.0075', '-0.0000', '0.0075', '0.0075', '-0.0000', '0.0075', '-0.0000', '0.0075', '0.0075', '0.0075', '0.0030', '-0.0000', '0.0075', '0.0029', '-0.0000', '-0.0000', '0.0035', '0.0075', '0.0075', '0.0075', '0.0075', '-0.0000', '0.0075', '0.0075', '0.0075', '0.0075', '0.0075', '0.0075', '0.0075', '0.0075', '0.0075', '0.0075', '-0.0000', '0.0056', '0.0075', '0.0075', '0.0075', '0.0075', '0.0075', '0.0075', '-0.0000', '0.0075', '0.0007', '-0.0000', '0.0075', '0.0075', '-0.0000', '0.0064', '0.0075', '0.0075', '0.0032', '0.0075', '0.0075', '0.0032', '-0.0000', '0.0075', '-0.0000', '-0.0000', '0.0075', '0.0054', '0.0075', '-0.0000', '-0.0000', '0.0075', '-0.0000', '0.0063', '0.0075', '-0.0000', '0.0075']\n",
      "Class 2: 95 alphas found: ['-0.0000', '0.0075', '-0.0000', '-0.0000', '0.0075', '0.0075', '-0.0000', '0.0075', '-0.0000', '0.0075', '0.0075', '-0.0000', '-0.0000', '-0.0000', '0.0075', '0.0075', '0.0075', '0.0033', '-0.0000', '-0.0000', '-0.0000', '0.0075', '-0.0000', '0.0075', '0.0075', '-0.0000', '0.0075', '0.0075', '0.0075', '-0.0000', '-0.0000', '0.0075', '-0.0000', '0.0075', '0.0075', '0.0075', '-0.0000', '-0.0000', '-0.0000', '0.0075', '0.0075', '-0.0000', '-0.0000', '0.0075', '0.0075', '0.0075', '0.0075', '0.0075', '0.0069', '-0.0000', '0.0075', '0.0075', '-0.0000', '0.0075', '-0.0000', '-0.0000', '0.0075', '0.0075', '-0.0000', '-0.0000', '0.0075', '0.0075', '-0.0000', '0.0006', '0.0075', '-0.0000', '0.0075', '0.0075', '0.0075', '0.0075', '0.0062', '0.0075', '-0.0000', '0.0075', '-0.0000', '-0.0000', '0.0075', '-0.0000', '0.0075', '0.0075', '0.0075', '0.0043', '-0.0000', '-0.0000', '0.0075', '-0.0000', '-0.0000', '-0.0000', '0.0075', '-0.0000', '0.0075', '0.0075', '-0.0000', '-0.0000', '0.0075', '0.0075', '0.0075', '0.0075', '0.0038', '0.0075', '0.0075', '0.0075', '0.0075', '0.0075', '0.0052', '0.0075', '0.0075', '0.0075', '0.0075', '0.0075', '0.0075', '-0.0000', '0.0075', '0.0075', '-0.0000', '0.0075', '0.0003', '-0.0000', '-0.0000', '0.0075', '0.0069', '0.0075', '0.0075', '0.0075', '0.0075', '-0.0000', '0.0075', '0.0075', '-0.0000', '0.0075', '0.0075', '0.0075', '-0.0000', '-0.0000', '0.0075', '-0.0000', '0.0075', '0.0021', '-0.0000', '0.0075']\n",
      "Class 3: 95 alphas found: ['-0.0000', '0.0075', '0.0005', '-0.0000', '0.0075', '0.0075', '0.0032', '0.0075', '-0.0000', '0.0075', '0.0075', '-0.0000', '-0.0000', '-0.0000', '0.0075', '-0.0000', '0.0075', '-0.0000', '0.0045', '0.0075', '-0.0000', '0.0075', '0.0034', '-0.0000', '0.0075', '-0.0000', '-0.0000', '0.0075', '0.0075', '-0.0000', '-0.0000', '0.0075', '-0.0000', '0.0075', '0.0075', '0.0075', '-0.0000', '-0.0000', '-0.0000', '0.0075', '0.0075', '0.0003', '-0.0000', '0.0075', '0.0075', '-0.0000', '0.0075', '0.0075', '0.0075', '-0.0000', '0.0075', '0.0075', '-0.0000', '0.0075', '-0.0000', '-0.0000', '0.0075', '0.0075', '-0.0000', '0.0075', '0.0075', '0.0075', '-0.0000', '-0.0000', '0.0075', '-0.0000', '0.0075', '0.0075', '0.0075', '0.0075', '0.0075', '0.0075', '-0.0000', '0.0075', '-0.0000', '-0.0000', '0.0075', '-0.0000', '0.0075', '0.0075', '0.0075', '0.0075', '-0.0000', '0.0018', '0.0075', '-0.0000', '-0.0000', '0.0075', '0.0075', '-0.0000', '0.0075', '0.0075', '-0.0000', '-0.0000', '0.0075', '0.0075', '0.0075', '0.0075', '0.0075', '0.0060', '0.0075', '0.0075', '0.0075', '-0.0000', '0.0075', '0.0075', '0.0075', '0.0075', '0.0075', '0.0075', '0.0075', '-0.0000', '0.0075', '0.0038', '0.0075', '0.0075', '0.0000', '-0.0000', '-0.0000', '0.0075', '0.0075', '0.0075', '0.0075', '0.0075', '-0.0000', '0.0001', '0.0075', '-0.0000', '0.0075', '0.0075', '0.0075', '0.0075', '0.0075', '-0.0000', '0.0075', '0.0075', '0.0050', '0.0014', '-0.0000', '0.0075']\n",
      "Class 4: 95 alphas found: ['-0.0000', '0.0075', '0.0037', '-0.0000', '0.0075', '0.0075', '0.0075', '0.0075', '0.0027', '0.0075', '0.0075', '-0.0000', '-0.0000', '-0.0000', '0.0075', '0.0032', '0.0075', '-0.0000', '-0.0000', '-0.0000', '-0.0000', '0.0075', '-0.0000', '-0.0000', '0.0075', '-0.0000', '-0.0000', '0.0075', '0.0075', '-0.0000', '0.0027', '0.0075', '-0.0000', '0.0075', '0.0075', '0.0075', '-0.0000', '-0.0000', '0.0075', '0.0075', '0.0040', '0.0052', '-0.0000', '0.0075', '0.0075', '-0.0000', '0.0075', '0.0075', '0.0075', '-0.0000', '0.0075', '0.0075', '0.0075', '0.0075', '-0.0000', '0.0075', '0.0056', '0.0041', '-0.0000', '0.0075', '0.0075', '0.0075', '-0.0000', '0.0002', '0.0043', '-0.0000', '0.0075', '0.0075', '0.0075', '0.0075', '0.0075', '0.0075', '-0.0000', '0.0075', '-0.0000', '-0.0000', '0.0075', '-0.0000', '-0.0000', '0.0075', '0.0075', '0.0063', '-0.0000', '-0.0000', '0.0075', '-0.0000', '-0.0000', '0.0075', '0.0075', '-0.0000', '0.0075', '0.0075', '0.0075', '-0.0000', '0.0075', '0.0075', '0.0075', '0.0075', '0.0075', '0.0075', '0.0075', '0.0075', '0.0075', '-0.0000', '0.0075', '0.0048', '0.0075', '-0.0000', '0.0075', '0.0075', '0.0075', '-0.0000', '0.0075', '-0.0000', '-0.0000', '0.0075', '0.0059', '-0.0000', '-0.0000', '0.0075', '0.0046', '0.0075', '0.0075', '0.0075', '-0.0000', '0.0008', '0.0075', '-0.0000', '-0.0000', '0.0075', '0.0075', '0.0075', '0.0014', '0.0075', '0.0075', '-0.0000', '0.0055', '0.0057', '0.0075', '0.0075']\n",
      "Class 5: 95 alphas found: ['0.0075', '0.0075', '0.0025', '-0.0000', '0.0075', '0.0075', '0.0000', '0.0075', '-0.0000', '0.0075', '0.0033', '-0.0000', '-0.0000', '-0.0000', '0.0075', '0.0005', '0.0075', '0.0026', '0.0044', '-0.0000', '-0.0000', '0.0075', '0.0007', '-0.0000', '0.0075', '0.0075', '-0.0000', '0.0075', '0.0075', '-0.0000', '0.0075', '0.0075', '-0.0000', '0.0075', '0.0075', '0.0075', '-0.0000', '-0.0000', '-0.0000', '0.0075', '-0.0000', '0.0075', '-0.0000', '0.0075', '0.0075', '-0.0000', '0.0075', '0.0075', '0.0075', '-0.0000', '0.0075', '0.0075', '-0.0000', '0.0075', '0.0075', '-0.0000', '-0.0000', '0.0075', '-0.0000', '-0.0000', '0.0075', '0.0075', '-0.0000', '0.0008', '0.0027', '-0.0000', '0.0075', '0.0075', '0.0075', '0.0075', '0.0075', '0.0075', '-0.0000', '0.0075', '-0.0000', '-0.0000', '0.0075', '-0.0000', '0.0025', '0.0075', '0.0075', '0.0048', '-0.0000', '-0.0000', '0.0075', '-0.0000', '0.0075', '0.0067', '0.0075', '-0.0000', '0.0075', '0.0075', '-0.0000', '0.0075', '0.0075', '0.0075', '0.0075', '0.0075', '0.0075', '0.0075', '0.0075', '0.0075', '0.0075', '-0.0000', '0.0025', '0.0075', '0.0075', '-0.0000', '0.0075', '0.0075', '0.0075', '-0.0000', '0.0075', '0.0075', '-0.0000', '0.0075', '0.0075', '-0.0000', '0.0075', '0.0075', '0.0075', '0.0075', '0.0075', '0.0075', '0.0035', '0.0075', '0.0075', '-0.0000', '-0.0000', '0.0075', '0.0075', '0.0075', '-0.0000', '0.0009', '0.0075', '-0.0000', '0.0075', '0.0075', '-0.0000', '0.0075']\n",
      "Class 6: 95 alphas found: ['-0.0000', '0.0075', '0.0019', '0.0075', '0.0075', '0.0075', '-0.0000', '0.0060', '0.0015', '0.0075', '0.0018', '-0.0000', '0.0075', '0.0075', '0.0075', '-0.0000', '0.0075', '0.0075', '0.0007', '-0.0000', '-0.0000', '0.0070', '0.0075', '0.0006', '0.0075', '-0.0000', '-0.0000', '0.0075', '0.0075', '-0.0000', '-0.0000', '0.0075', '-0.0000', '0.0075', '0.0075', '0.0075', '0.0075', '-0.0000', '-0.0000', '0.0075', '-0.0000', '0.0049', '0.0075', '0.0075', '0.0075', '0.0075', '0.0075', '0.0075', '0.0075', '-0.0000', '0.0075', '0.0075', '-0.0000', '0.0075', '-0.0000', '-0.0000', '-0.0000', '0.0075', '-0.0000', '-0.0000', '0.0075', '0.0075', '-0.0000', '0.0075', '-0.0000', '-0.0000', '0.0075', '0.0061', '0.0075', '0.0075', '0.0075', '0.0075', '0.0075', '0.0075', '-0.0000', '0.0075', '0.0075', '-0.0000', '-0.0000', '0.0075', '0.0075', '0.0044', '0.0075', '0.0042', '0.0075', '-0.0000', '-0.0000', '-0.0000', '0.0075', '-0.0000', '0.0075', '0.0075', '-0.0000', '-0.0000', '0.0075', '0.0075', '0.0075', '0.0075', '0.0075', '0.0075', '0.0075', '0.0075', '0.0075', '-0.0000', '0.0019', '0.0075', '0.0075', '-0.0000', '0.0075', '0.0075', '0.0075', '0.0075', '0.0075', '0.0034', '-0.0000', '0.0075', '0.0065', '0.0075', '-0.0000', '0.0075', '0.0075', '0.0075', '0.0075', '0.0075', '0.0024', '0.0075', '0.0075', '-0.0000', '-0.0000', '0.0075', '0.0075', '0.0075', '-0.0000', '-0.0000', '0.0075', '-0.0000', '0.0075', '0.0034', '-0.0000', '0.0075']\n"
     ]
    },
    {
     "name": "stderr",
     "output_type": "stream",
     "text": [
      "2024-04-25 18:50:58 (INFO): Test accuracy: 0.7875458002090454\n",
      "2024-04-25 18:50:58 (INFO): Test accuracy ALL UNLABELED: 0.7776479721069336\n",
      "2024-04-25 18:50:58 (INFO): Train accuracy: 0.949999988079071\n",
      "2024-04-25 18:50:58 (INFO): Accuracy_lb_test: 0.791208803653717\n",
      "2024-04-25 18:50:58 (INFO): Accuracy_ub_test: 0.7875458002090454\n",
      "2024-04-25 18:50:58 (INFO): Accuracy_lb_trn: 0.949999988079071\n",
      "2024-04-25 18:50:58 (INFO): Accuracy_ub_trn: 0.949999988079071\n",
      "2024-04-25 18:50:58 (INFO): Certified accuracy (evasion): 0.8241758346557617\n",
      "2024-04-25 18:50:58 (INFO): Certified accuracy (evasion, trivial): 0.23443223443223443\n",
      "2024-04-25 18:50:58 (INFO): Certified unrobustness (evasion): 0.0\n"
     ]
    },
    {
     "name": "stdout",
     "output_type": "stream",
     "text": [
      "Set parameter Username\n"
     ]
    },
    {
     "name": "stderr",
     "output_type": "stream",
     "text": [
      "2024-04-25 18:50:58 (INFO): Set parameter Username\n"
     ]
    },
    {
     "name": "stdout",
     "output_type": "stream",
     "text": [
      "Academic license - for non-commercial use only - expires 2025-03-26\n"
     ]
    },
    {
     "name": "stderr",
     "output_type": "stream",
     "text": [
      "2024-04-25 18:50:58 (INFO): Academic license - for non-commercial use only - expires 2025-03-26\n"
     ]
    },
    {
     "name": "stdout",
     "output_type": "stream",
     "text": [
      "Warning for adding constraints: zero or small (< 1e-13) coefficients, ignored\n"
     ]
    },
    {
     "name": "stderr",
     "output_type": "stream",
     "text": [
      "2024-04-25 18:51:00 (INFO): Warning for adding constraints: zero or small (< 1e-13) coefficients, ignored\n"
     ]
    },
    {
     "name": "stdout",
     "output_type": "stream",
     "text": [
      "Set parameter IntegralityFocus to value 1\n"
     ]
    },
    {
     "name": "stderr",
     "output_type": "stream",
     "text": [
      "2024-04-25 18:51:00 (INFO): Set parameter IntegralityFocus to value 1\n"
     ]
    },
    {
     "name": "stdout",
     "output_type": "stream",
     "text": [
      "Set parameter IntFeasTol to value 0.0001\n"
     ]
    },
    {
     "name": "stderr",
     "output_type": "stream",
     "text": [
      "2024-04-25 18:51:00 (INFO): Set parameter IntFeasTol to value 0.0001\n"
     ]
    },
    {
     "name": "stdout",
     "output_type": "stream",
     "text": [
      "Set parameter DualReductions to value 0\n"
     ]
    },
    {
     "name": "stderr",
     "output_type": "stream",
     "text": [
      "2024-04-25 18:51:00 (INFO): Set parameter DualReductions to value 0\n"
     ]
    },
    {
     "name": "stdout",
     "output_type": "stream",
     "text": [
      "Set parameter FeasibilityTol to value 0.0001\n"
     ]
    },
    {
     "name": "stderr",
     "output_type": "stream",
     "text": [
      "2024-04-25 18:51:00 (INFO): Set parameter FeasibilityTol to value 0.0001\n"
     ]
    },
    {
     "name": "stdout",
     "output_type": "stream",
     "text": [
      "Set parameter OptimalityTol to value 0.0001\n"
     ]
    },
    {
     "name": "stderr",
     "output_type": "stream",
     "text": [
      "2024-04-25 18:51:00 (INFO): Set parameter OptimalityTol to value 0.0001\n"
     ]
    },
    {
     "name": "stdout",
     "output_type": "stream",
     "text": [
      "Set parameter NumericFocus to value 3\n"
     ]
    },
    {
     "name": "stderr",
     "output_type": "stream",
     "text": [
      "2024-04-25 18:51:00 (INFO): Set parameter NumericFocus to value 3\n"
     ]
    },
    {
     "name": "stdout",
     "output_type": "stream",
     "text": [
      "Set parameter TimeLimit to value 3600\n"
     ]
    },
    {
     "name": "stderr",
     "output_type": "stream",
     "text": [
      "2024-04-25 18:51:00 (INFO): Set parameter TimeLimit to value 3600\n"
     ]
    },
    {
     "name": "stdout",
     "output_type": "stream",
     "text": [
      "Set parameter MIPFocus to value 2\n"
     ]
    },
    {
     "name": "stderr",
     "output_type": "stream",
     "text": [
      "2024-04-25 18:51:00 (INFO): Set parameter MIPFocus to value 2\n"
     ]
    },
    {
     "name": "stdout",
     "output_type": "stream",
     "text": [
      "Gurobi Optimizer version 11.0.1 build v11.0.1rc0 (linux64 - \"Ubuntu 22.04.4 LTS\")\n"
     ]
    },
    {
     "name": "stderr",
     "output_type": "stream",
     "text": [
      "2024-04-25 18:51:00 (INFO): Gurobi Optimizer version 11.0.1 build v11.0.1rc0 (linux64 - \"Ubuntu 22.04.4 LTS\")\n"
     ]
    },
    {
     "name": "stdout",
     "output_type": "stream",
     "text": [
      "\n"
     ]
    },
    {
     "name": "stderr",
     "output_type": "stream",
     "text": [
      "2024-04-25 18:51:00 (INFO): \n"
     ]
    },
    {
     "name": "stdout",
     "output_type": "stream",
     "text": [
      "CPU model: Intel(R) Xeon(R) CPU E5-2630 v4 @ 2.20GHz, instruction set [SSE2|AVX|AVX2]\n"
     ]
    },
    {
     "name": "stderr",
     "output_type": "stream",
     "text": [
      "2024-04-25 18:51:00 (INFO): CPU model: Intel(R) Xeon(R) CPU E5-2630 v4 @ 2.20GHz, instruction set [SSE2|AVX|AVX2]\n"
     ]
    },
    {
     "name": "stdout",
     "output_type": "stream",
     "text": [
      "Thread count: 20 physical cores, 20 logical processors, using up to 20 threads\n"
     ]
    },
    {
     "name": "stderr",
     "output_type": "stream",
     "text": [
      "2024-04-25 18:51:00 (INFO): Thread count: 20 physical cores, 20 logical processors, using up to 20 threads\n"
     ]
    },
    {
     "name": "stdout",
     "output_type": "stream",
     "text": [
      "\n"
     ]
    },
    {
     "name": "stderr",
     "output_type": "stream",
     "text": [
      "2024-04-25 18:51:00 (INFO): \n"
     ]
    },
    {
     "name": "stdout",
     "output_type": "stream",
     "text": [
      "Optimize a model with 40180 rows, 20440 columns and 99940 nonzeros\n"
     ]
    },
    {
     "name": "stderr",
     "output_type": "stream",
     "text": [
      "2024-04-25 18:51:00 (INFO): Optimize a model with 40180 rows, 20440 columns and 99940 nonzeros\n"
     ]
    },
    {
     "name": "stdout",
     "output_type": "stream",
     "text": [
      "Model fingerprint: 0x922f41dd\n"
     ]
    },
    {
     "name": "stderr",
     "output_type": "stream",
     "text": [
      "2024-04-25 18:51:00 (INFO): Model fingerprint: 0x922f41dd\n"
     ]
    },
    {
     "name": "stdout",
     "output_type": "stream",
     "text": [
      "Variable types: 20160 continuous, 280 integer (280 binary)\n"
     ]
    },
    {
     "name": "stderr",
     "output_type": "stream",
     "text": [
      "2024-04-25 18:51:00 (INFO): Variable types: 20160 continuous, 280 integer (280 binary)\n"
     ]
    },
    {
     "name": "stdout",
     "output_type": "stream",
     "text": [
      "Coefficient statistics:\n"
     ]
    },
    {
     "name": "stderr",
     "output_type": "stream",
     "text": [
      "2024-04-25 18:51:00 (INFO): Coefficient statistics:\n"
     ]
    },
    {
     "name": "stdout",
     "output_type": "stream",
     "text": [
      "  Matrix range     [7e-03, 3e+01]\n"
     ]
    },
    {
     "name": "stderr",
     "output_type": "stream",
     "text": [
      "2024-04-25 18:51:00 (INFO):   Matrix range     [7e-03, 3e+01]\n"
     ]
    },
    {
     "name": "stdout",
     "output_type": "stream",
     "text": [
      "  Objective range  [1e+00, 1e+00]\n"
     ]
    },
    {
     "name": "stderr",
     "output_type": "stream",
     "text": [
      "2024-04-25 18:51:00 (INFO):   Objective range  [1e+00, 1e+00]\n"
     ]
    },
    {
     "name": "stdout",
     "output_type": "stream",
     "text": [
      "  Bounds range     [7e-03, 1e+00]\n"
     ]
    },
    {
     "name": "stderr",
     "output_type": "stream",
     "text": [
      "2024-04-25 18:51:00 (INFO):   Bounds range     [7e-03, 1e+00]\n"
     ]
    },
    {
     "name": "stdout",
     "output_type": "stream",
     "text": [
      "  RHS range        [7e-03, 1e+00]\n"
     ]
    },
    {
     "name": "stderr",
     "output_type": "stream",
     "text": [
      "2024-04-25 18:51:00 (INFO):   RHS range        [7e-03, 1e+00]\n"
     ]
    },
    {
     "name": "stdout",
     "output_type": "stream",
     "text": [
      "\n"
     ]
    },
    {
     "name": "stderr",
     "output_type": "stream",
     "text": [
      "2024-04-25 18:51:00 (INFO): \n"
     ]
    },
    {
     "name": "stdout",
     "output_type": "stream",
     "text": [
      "Loaded user MIP start with objective -1.34264\n",
      "\n",
      "Loaded user MIP start with objective -1.34264\n"
     ]
    },
    {
     "name": "stderr",
     "output_type": "stream",
     "text": [
      "2024-04-25 18:51:00 (INFO): Loaded user MIP start with objective -1.34264\n"
     ]
    },
    {
     "name": "stdout",
     "output_type": "stream",
     "text": [
      "\n"
     ]
    },
    {
     "name": "stderr",
     "output_type": "stream",
     "text": [
      "2024-04-25 18:51:00 (INFO): \n"
     ]
    },
    {
     "name": "stdout",
     "output_type": "stream",
     "text": [
      "Presolve removed 7442 rows and 1612 columns\n"
     ]
    },
    {
     "name": "stderr",
     "output_type": "stream",
     "text": [
      "2024-04-25 18:51:00 (INFO): Presolve removed 7442 rows and 1612 columns\n"
     ]
    },
    {
     "name": "stdout",
     "output_type": "stream",
     "text": [
      "Presolve time: 0.36s\n"
     ]
    },
    {
     "name": "stderr",
     "output_type": "stream",
     "text": [
      "2024-04-25 18:51:00 (INFO): Presolve time: 0.36s\n"
     ]
    },
    {
     "name": "stdout",
     "output_type": "stream",
     "text": [
      "Presolved: 32738 rows, 18828 columns, 84805 nonzeros\n"
     ]
    },
    {
     "name": "stderr",
     "output_type": "stream",
     "text": [
      "2024-04-25 18:51:00 (INFO): Presolved: 32738 rows, 18828 columns, 84805 nonzeros\n"
     ]
    },
    {
     "name": "stdout",
     "output_type": "stream",
     "text": [
      "Variable types: 18582 continuous, 246 integer (246 binary)\n"
     ]
    },
    {
     "name": "stderr",
     "output_type": "stream",
     "text": [
      "2024-04-25 18:51:00 (INFO): Variable types: 18582 continuous, 246 integer (246 binary)\n"
     ]
    },
    {
     "name": "stdout",
     "output_type": "stream",
     "text": [
      "Root relaxation presolved: 31944 rows, 18819 columns, 80464 nonzeros\n"
     ]
    },
    {
     "name": "stderr",
     "output_type": "stream",
     "text": [
      "2024-04-25 18:51:01 (INFO): Root relaxation presolved: 31944 rows, 18819 columns, 80464 nonzeros\n"
     ]
    },
    {
     "name": "stdout",
     "output_type": "stream",
     "text": [
      "\n"
     ]
    },
    {
     "name": "stderr",
     "output_type": "stream",
     "text": [
      "2024-04-25 18:51:01 (INFO): \n"
     ]
    },
    {
     "name": "stdout",
     "output_type": "stream",
     "text": [
      "\n"
     ]
    },
    {
     "name": "stderr",
     "output_type": "stream",
     "text": [
      "2024-04-25 18:51:05 (INFO): \n"
     ]
    },
    {
     "name": "stdout",
     "output_type": "stream",
     "text": [
      "Root simplex log...\n"
     ]
    },
    {
     "name": "stderr",
     "output_type": "stream",
     "text": [
      "2024-04-25 18:51:05 (INFO): Root simplex log...\n"
     ]
    },
    {
     "name": "stdout",
     "output_type": "stream",
     "text": [
      "\n"
     ]
    },
    {
     "name": "stderr",
     "output_type": "stream",
     "text": [
      "2024-04-25 18:51:05 (INFO): \n"
     ]
    },
    {
     "name": "stdout",
     "output_type": "stream",
     "text": [
      "Iteration    Objective       Primal Inf.    Dual Inf.      Time\n"
     ]
    },
    {
     "name": "stderr",
     "output_type": "stream",
     "text": [
      "2024-04-25 18:51:05 (INFO): Iteration    Objective       Primal Inf.    Dual Inf.      Time\n"
     ]
    },
    {
     "name": "stdout",
     "output_type": "stream",
     "text": [
      "   19751   -2.1306820e+00   0.000000e+00   0.000000e+00      5s\n"
     ]
    },
    {
     "name": "stderr",
     "output_type": "stream",
     "text": [
      "2024-04-25 18:51:05 (INFO):    19751   -2.1306820e+00   0.000000e+00   0.000000e+00      5s\n"
     ]
    },
    {
     "name": "stdout",
     "output_type": "stream",
     "text": [
      "   20488   -2.1306820e+00   0.000000e+00   0.000000e+00      6s\n"
     ]
    },
    {
     "name": "stderr",
     "output_type": "stream",
     "text": [
      "2024-04-25 18:51:06 (INFO):    20488   -2.1306820e+00   0.000000e+00   0.000000e+00      6s\n"
     ]
    },
    {
     "name": "stdout",
     "output_type": "stream",
     "text": [
      "Extra simplex iterations after uncrush: 737\n"
     ]
    },
    {
     "name": "stderr",
     "output_type": "stream",
     "text": [
      "2024-04-25 18:51:06 (INFO): Extra simplex iterations after uncrush: 737\n"
     ]
    },
    {
     "name": "stdout",
     "output_type": "stream",
     "text": [
      "\n"
     ]
    },
    {
     "name": "stderr",
     "output_type": "stream",
     "text": [
      "2024-04-25 18:51:06 (INFO): \n"
     ]
    },
    {
     "name": "stdout",
     "output_type": "stream",
     "text": [
      "Root relaxation: objective -2.130682e+00, 20488 iterations, 5.68 seconds (6.48 work units)\n"
     ]
    },
    {
     "name": "stderr",
     "output_type": "stream",
     "text": [
      "2024-04-25 18:51:06 (INFO): Root relaxation: objective -2.130682e+00, 20488 iterations, 5.68 seconds (6.48 work units)\n"
     ]
    },
    {
     "name": "stdout",
     "output_type": "stream",
     "text": [
      "\n"
     ]
    },
    {
     "name": "stderr",
     "output_type": "stream",
     "text": [
      "2024-04-25 18:51:07 (INFO): \n"
     ]
    },
    {
     "name": "stdout",
     "output_type": "stream",
     "text": [
      "    Nodes    |    Current Node    |     Objective Bounds      |     Work\n"
     ]
    },
    {
     "name": "stderr",
     "output_type": "stream",
     "text": [
      "2024-04-25 18:51:07 (INFO):     Nodes    |    Current Node    |     Objective Bounds      |     Work\n"
     ]
    },
    {
     "name": "stdout",
     "output_type": "stream",
     "text": [
      " Expl Unexpl |  Obj  Depth IntInf | Incumbent    BestBd   Gap | It/Node Time\n"
     ]
    },
    {
     "name": "stderr",
     "output_type": "stream",
     "text": [
      "2024-04-25 18:51:07 (INFO):  Expl Unexpl |  Obj  Depth IntInf | Incumbent    BestBd   Gap | It/Node Time\n"
     ]
    },
    {
     "name": "stdout",
     "output_type": "stream",
     "text": [
      "\n"
     ]
    },
    {
     "name": "stderr",
     "output_type": "stream",
     "text": [
      "2024-04-25 18:51:07 (INFO): \n"
     ]
    },
    {
     "name": "stdout",
     "output_type": "stream",
     "text": [
      "     0     0   -2.13068    0  120   -1.34264   -2.13068  58.7%     -    6s\n"
     ]
    },
    {
     "name": "stderr",
     "output_type": "stream",
     "text": [
      "2024-04-25 18:51:07 (INFO):      0     0   -2.13068    0  120   -1.34264   -2.13068  58.7%     -    6s\n"
     ]
    },
    {
     "name": "stdout",
     "output_type": "stream",
     "text": [
      "     0     2   -2.11246    0  120   -1.34264   -2.11246  57.3%     -   10s\n"
     ]
    },
    {
     "name": "stderr",
     "output_type": "stream",
     "text": [
      "2024-04-25 18:51:11 (INFO):      0     2   -2.11246    0  120   -1.34264   -2.11246  57.3%     -   10s\n"
     ]
    },
    {
     "name": "stdout",
     "output_type": "stream",
     "text": [
      "     1     3   -1.37922    1   89   -1.34264   -2.11246  57.3%  9864   19s\n"
     ]
    },
    {
     "name": "stderr",
     "output_type": "stream",
     "text": [
      "2024-04-25 18:51:20 (INFO):      1     3   -1.37922    1   89   -1.34264   -2.11246  57.3%  9864   19s\n"
     ]
    },
    {
     "name": "stdout",
     "output_type": "stream",
     "text": [
      "     3     5   -1.35878    2   83   -1.34264   -2.09668  56.2%  3469   25s\n"
     ]
    },
    {
     "name": "stderr",
     "output_type": "stream",
     "text": [
      "2024-04-25 18:51:26 (INFO):      3     5   -1.35878    2   83   -1.34264   -2.09668  56.2%  3469   25s\n"
     ]
    },
    {
     "name": "stdout",
     "output_type": "stream",
     "text": [
      "    11     8   -1.93560    4  114   -1.34264   -1.93560  44.2%  3389   37s\n"
     ]
    },
    {
     "name": "stderr",
     "output_type": "stream",
     "text": [
      "2024-04-25 18:51:38 (INFO):     11     8   -1.93560    4  114   -1.34264   -1.93560  44.2%  3389   37s\n"
     ]
    },
    {
     "name": "stdout",
     "output_type": "stream",
     "text": [
      "    15    10 infeasible    5        -1.34264   -1.92742  43.6%  3452   42s\n"
     ]
    },
    {
     "name": "stderr",
     "output_type": "stream",
     "text": [
      "2024-04-25 18:51:42 (INFO):     15    10 infeasible    5        -1.34264   -1.92742  43.6%  3452   42s\n"
     ]
    },
    {
     "name": "stdout",
     "output_type": "stream",
     "text": [
      "    23    10   -1.90361    6  112   -1.34264   -1.90361  41.8%  3084   54s\n"
     ]
    },
    {
     "name": "stderr",
     "output_type": "stream",
     "text": [
      "2024-04-25 18:51:55 (INFO):     23    10   -1.90361    6  112   -1.34264   -1.90361  41.8%  3084   54s\n"
     ]
    },
    {
     "name": "stdout",
     "output_type": "stream",
     "text": [
      "    33    12 infeasible    7        -1.34264   -1.90361  41.8%  3902   77s\n"
     ]
    },
    {
     "name": "stderr",
     "output_type": "stream",
     "text": [
      "2024-04-25 18:52:18 (INFO):     33    12 infeasible    7        -1.34264   -1.90361  41.8%  3902   77s\n"
     ]
    },
    {
     "name": "stdout",
     "output_type": "stream",
     "text": [
      "    43    16   -1.86706    8  111   -1.34264   -1.86706  39.1%  5631   88s\n"
     ]
    },
    {
     "name": "stderr",
     "output_type": "stream",
     "text": [
      "2024-04-25 18:52:29 (INFO):     43    16   -1.86706    8  111   -1.34264   -1.86706  39.1%  5631   88s\n"
     ]
    },
    {
     "name": "stdout",
     "output_type": "stream",
     "text": [
      "    55    20 infeasible    9        -1.34264   -1.85921  38.5%  5687   96s\n"
     ]
    },
    {
     "name": "stderr",
     "output_type": "stream",
     "text": [
      "2024-04-25 18:52:36 (INFO):     55    20 infeasible    9        -1.34264   -1.85921  38.5%  5687   96s\n"
     ]
    },
    {
     "name": "stdout",
     "output_type": "stream",
     "text": [
      "    71    35   -1.83066   10  111   -1.34264   -1.83066  36.3%  5154  103s\n"
     ]
    },
    {
     "name": "stderr",
     "output_type": "stream",
     "text": [
      "2024-04-25 18:52:43 (INFO):     71    35   -1.83066   10  111   -1.34264   -1.83066  36.3%  5154  103s\n"
     ]
    },
    {
     "name": "stdout",
     "output_type": "stream",
     "text": [
      "    91    52 infeasible   11        -1.34264   -1.82145  35.7%  4619  111s\n"
     ]
    },
    {
     "name": "stderr",
     "output_type": "stream",
     "text": [
      "2024-04-25 18:52:52 (INFO):     91    52 infeasible   11        -1.34264   -1.82145  35.7%  4619  111s\n"
     ]
    },
    {
     "name": "stdout",
     "output_type": "stream",
     "text": [
      "   111    81   -1.46543   12   76   -1.34264   -1.80361  34.3%  4021  115s\n"
     ]
    },
    {
     "name": "stderr",
     "output_type": "stream",
     "text": [
      "2024-04-25 18:52:55 (INFO):    111    81   -1.46543   12   76   -1.34264   -1.80361  34.3%  4021  115s\n"
     ]
    },
    {
     "name": "stdout",
     "output_type": "stream",
     "text": [
      "H  144    98                      -1.3503385   -1.78005  31.8%  3249  121s\n"
     ]
    },
    {
     "name": "stderr",
     "output_type": "stream",
     "text": [
      "2024-04-25 18:53:01 (INFO): H  144    98                      -1.3503385   -1.78005  31.8%  3249  121s\n"
     ]
    },
    {
     "name": "stdout",
     "output_type": "stream",
     "text": [
      "H  150    98                      -1.3508312   -1.78005  31.8%  3210  121s\n"
     ]
    },
    {
     "name": "stderr",
     "output_type": "stream",
     "text": [
      "2024-04-25 18:53:01 (INFO): H  150    98                      -1.3508312   -1.78005  31.8%  3210  121s\n"
     ]
    },
    {
     "name": "stdout",
     "output_type": "stream",
     "text": [
      "H  151    98                      -1.3514960   -1.78005  31.7%  3197  121s\n"
     ]
    },
    {
     "name": "stderr",
     "output_type": "stream",
     "text": [
      "2024-04-25 18:53:01 (INFO): H  151    98                      -1.3514960   -1.78005  31.7%  3197  121s\n"
     ]
    },
    {
     "name": "stdout",
     "output_type": "stream",
     "text": [
      "\n",
      "Interrupt request received\n",
      "\n"
     ]
    },
    {
     "name": "stderr",
     "output_type": "stream",
     "text": [
      "2024-04-25 18:53:02 (INFO): \n"
     ]
    },
    {
     "name": "stdout",
     "output_type": "stream",
     "text": [
      "Cutting planes:\n"
     ]
    },
    {
     "name": "stderr",
     "output_type": "stream",
     "text": [
      "2024-04-25 18:53:02 (INFO): Cutting planes:\n"
     ]
    },
    {
     "name": "stdout",
     "output_type": "stream",
     "text": [
      "  Cover: 1\n"
     ]
    },
    {
     "name": "stderr",
     "output_type": "stream",
     "text": [
      "2024-04-25 18:53:02 (INFO):   Cover: 1\n"
     ]
    },
    {
     "name": "stdout",
     "output_type": "stream",
     "text": [
      "  Implied bound: 153\n"
     ]
    },
    {
     "name": "stderr",
     "output_type": "stream",
     "text": [
      "2024-04-25 18:53:02 (INFO):   Implied bound: 153\n"
     ]
    },
    {
     "name": "stdout",
     "output_type": "stream",
     "text": [
      "  MIR: 922\n"
     ]
    },
    {
     "name": "stderr",
     "output_type": "stream",
     "text": [
      "2024-04-25 18:53:02 (INFO):   MIR: 922\n"
     ]
    },
    {
     "name": "stdout",
     "output_type": "stream",
     "text": [
      "  Flow cover: 1229\n"
     ]
    },
    {
     "name": "stderr",
     "output_type": "stream",
     "text": [
      "2024-04-25 18:53:02 (INFO):   Flow cover: 1229\n"
     ]
    },
    {
     "name": "stdout",
     "output_type": "stream",
     "text": [
      "  Relax-and-lift: 7\n"
     ]
    },
    {
     "name": "stderr",
     "output_type": "stream",
     "text": [
      "2024-04-25 18:53:02 (INFO):   Relax-and-lift: 7\n"
     ]
    },
    {
     "name": "stdout",
     "output_type": "stream",
     "text": [
      "\n"
     ]
    },
    {
     "name": "stderr",
     "output_type": "stream",
     "text": [
      "2024-04-25 18:53:02 (INFO): \n"
     ]
    },
    {
     "name": "stdout",
     "output_type": "stream",
     "text": [
      "Explored 183 nodes (512567 simplex iterations) in 121.68 seconds (183.45 work units)\n"
     ]
    },
    {
     "name": "stderr",
     "output_type": "stream",
     "text": [
      "2024-04-25 18:53:02 (INFO): Explored 183 nodes (512567 simplex iterations) in 121.68 seconds (183.45 work units)\n"
     ]
    },
    {
     "name": "stdout",
     "output_type": "stream",
     "text": [
      "Thread count was 20 (of 20 available processors)\n"
     ]
    },
    {
     "name": "stderr",
     "output_type": "stream",
     "text": [
      "2024-04-25 18:53:02 (INFO): Thread count was 20 (of 20 available processors)\n"
     ]
    },
    {
     "name": "stdout",
     "output_type": "stream",
     "text": [
      "\n"
     ]
    },
    {
     "name": "stderr",
     "output_type": "stream",
     "text": [
      "2024-04-25 18:53:02 (INFO): \n"
     ]
    },
    {
     "name": "stdout",
     "output_type": "stream",
     "text": [
      "Solution count 1: -1.3515 \n"
     ]
    },
    {
     "name": "stderr",
     "output_type": "stream",
     "text": [
      "2024-04-25 18:53:02 (INFO): Solution count 1: -1.3515 \n"
     ]
    },
    {
     "name": "stdout",
     "output_type": "stream",
     "text": [
      "\n"
     ]
    },
    {
     "name": "stderr",
     "output_type": "stream",
     "text": [
      "2024-04-25 18:53:02 (INFO): \n"
     ]
    },
    {
     "name": "stdout",
     "output_type": "stream",
     "text": [
      "Solve interrupted\n"
     ]
    },
    {
     "name": "stderr",
     "output_type": "stream",
     "text": [
      "2024-04-25 18:53:02 (INFO): Solve interrupted\n"
     ]
    },
    {
     "name": "stdout",
     "output_type": "stream",
     "text": [
      "Best objective -1.351496033531e+00, best bound -1.748499456003e+00, gap 29.3751%\n"
     ]
    },
    {
     "name": "stderr",
     "output_type": "stream",
     "text": [
      "2024-04-25 18:53:02 (INFO): Best objective -1.351496033531e+00, best bound -1.748499456003e+00, gap 29.3751%\n"
     ]
    },
    {
     "name": "stdout",
     "output_type": "stream",
     "text": [
      "\n"
     ]
    },
    {
     "name": "stderr",
     "output_type": "stream",
     "text": [
      "2024-04-25 18:53:02 (INFO): \n"
     ]
    },
    {
     "name": "stdout",
     "output_type": "stream",
     "text": [
      "User-callback calls 55095, time in user-callback 0.53 sec\n"
     ]
    },
    {
     "name": "stderr",
     "output_type": "stream",
     "text": [
      "2024-04-25 18:53:02 (INFO): User-callback calls 55095, time in user-callback 0.53 sec\n",
      "2024-04-25 18:53:02 (INFO): Optimization status: 11\n",
      "2024-04-25 18:53:02 (INFO): Original -1.34259, Opt objective -1.35150, stop_obj: None\n"
     ]
    },
    {
     "name": "stdout",
     "output_type": "stream",
     "text": [
      "Warning for adding constraints: zero or small (< 1e-13) coefficients, ignored\n"
     ]
    },
    {
     "name": "stderr",
     "output_type": "stream",
     "text": [
      "2024-04-25 18:53:03 (INFO): Warning for adding constraints: zero or small (< 1e-13) coefficients, ignored\n"
     ]
    },
    {
     "name": "stdout",
     "output_type": "stream",
     "text": [
      "Set parameter BestObjStop to value -1.7484994560032630e+00\n"
     ]
    },
    {
     "name": "stderr",
     "output_type": "stream",
     "text": [
      "2024-04-25 18:53:03 (INFO): Set parameter BestObjStop to value -1.7484994560032630e+00\n"
     ]
    },
    {
     "name": "stdout",
     "output_type": "stream",
     "text": [
      "Set parameter IntegralityFocus to value 1\n"
     ]
    },
    {
     "name": "stderr",
     "output_type": "stream",
     "text": [
      "2024-04-25 18:53:03 (INFO): Set parameter IntegralityFocus to value 1\n"
     ]
    },
    {
     "name": "stdout",
     "output_type": "stream",
     "text": [
      "Set parameter IntFeasTol to value 0.0001\n"
     ]
    },
    {
     "name": "stderr",
     "output_type": "stream",
     "text": [
      "2024-04-25 18:53:03 (INFO): Set parameter IntFeasTol to value 0.0001\n"
     ]
    },
    {
     "name": "stdout",
     "output_type": "stream",
     "text": [
      "Set parameter DualReductions to value 0\n"
     ]
    },
    {
     "name": "stderr",
     "output_type": "stream",
     "text": [
      "2024-04-25 18:53:03 (INFO): Set parameter DualReductions to value 0\n"
     ]
    },
    {
     "name": "stdout",
     "output_type": "stream",
     "text": [
      "Set parameter FeasibilityTol to value 0.0001\n"
     ]
    },
    {
     "name": "stderr",
     "output_type": "stream",
     "text": [
      "2024-04-25 18:53:03 (INFO): Set parameter FeasibilityTol to value 0.0001\n"
     ]
    },
    {
     "name": "stdout",
     "output_type": "stream",
     "text": [
      "Set parameter OptimalityTol to value 0.0001\n"
     ]
    },
    {
     "name": "stderr",
     "output_type": "stream",
     "text": [
      "2024-04-25 18:53:03 (INFO): Set parameter OptimalityTol to value 0.0001\n"
     ]
    },
    {
     "name": "stdout",
     "output_type": "stream",
     "text": [
      "Set parameter NumericFocus to value 3\n"
     ]
    },
    {
     "name": "stderr",
     "output_type": "stream",
     "text": [
      "2024-04-25 18:53:03 (INFO): Set parameter NumericFocus to value 3\n"
     ]
    },
    {
     "name": "stdout",
     "output_type": "stream",
     "text": [
      "Set parameter TimeLimit to value 3600\n"
     ]
    },
    {
     "name": "stderr",
     "output_type": "stream",
     "text": [
      "2024-04-25 18:53:03 (INFO): Set parameter TimeLimit to value 3600\n"
     ]
    },
    {
     "name": "stdout",
     "output_type": "stream",
     "text": [
      "Set parameter MIPFocus to value 2\n"
     ]
    },
    {
     "name": "stderr",
     "output_type": "stream",
     "text": [
      "2024-04-25 18:53:03 (INFO): Set parameter MIPFocus to value 2\n"
     ]
    },
    {
     "name": "stdout",
     "output_type": "stream",
     "text": [
      "Gurobi Optimizer version 11.0.1 build v11.0.1rc0 (linux64 - \"Ubuntu 22.04.4 LTS\")\n"
     ]
    },
    {
     "name": "stderr",
     "output_type": "stream",
     "text": [
      "2024-04-25 18:53:03 (INFO): Gurobi Optimizer version 11.0.1 build v11.0.1rc0 (linux64 - \"Ubuntu 22.04.4 LTS\")\n"
     ]
    },
    {
     "name": "stdout",
     "output_type": "stream",
     "text": [
      "\n"
     ]
    },
    {
     "name": "stderr",
     "output_type": "stream",
     "text": [
      "2024-04-25 18:53:03 (INFO): \n"
     ]
    },
    {
     "name": "stdout",
     "output_type": "stream",
     "text": [
      "CPU model: Intel(R) Xeon(R) CPU E5-2630 v4 @ 2.20GHz, instruction set [SSE2|AVX|AVX2]\n"
     ]
    },
    {
     "name": "stderr",
     "output_type": "stream",
     "text": [
      "2024-04-25 18:53:03 (INFO): CPU model: Intel(R) Xeon(R) CPU E5-2630 v4 @ 2.20GHz, instruction set [SSE2|AVX|AVX2]\n"
     ]
    },
    {
     "name": "stdout",
     "output_type": "stream",
     "text": [
      "Thread count: 20 physical cores, 20 logical processors, using up to 20 threads\n"
     ]
    },
    {
     "name": "stderr",
     "output_type": "stream",
     "text": [
      "2024-04-25 18:53:03 (INFO): Thread count: 20 physical cores, 20 logical processors, using up to 20 threads\n"
     ]
    },
    {
     "name": "stdout",
     "output_type": "stream",
     "text": [
      "\n"
     ]
    },
    {
     "name": "stderr",
     "output_type": "stream",
     "text": [
      "2024-04-25 18:53:03 (INFO): \n"
     ]
    },
    {
     "name": "stdout",
     "output_type": "stream",
     "text": [
      "Optimize a model with 40180 rows, 20440 columns and 99940 nonzeros\n"
     ]
    },
    {
     "name": "stderr",
     "output_type": "stream",
     "text": [
      "2024-04-25 18:53:03 (INFO): Optimize a model with 40180 rows, 20440 columns and 99940 nonzeros\n"
     ]
    },
    {
     "name": "stdout",
     "output_type": "stream",
     "text": [
      "Model fingerprint: 0xac7f876c\n"
     ]
    },
    {
     "name": "stderr",
     "output_type": "stream",
     "text": [
      "2024-04-25 18:53:03 (INFO): Model fingerprint: 0xac7f876c\n"
     ]
    },
    {
     "name": "stdout",
     "output_type": "stream",
     "text": [
      "Variable types: 20160 continuous, 280 integer (280 binary)\n"
     ]
    },
    {
     "name": "stderr",
     "output_type": "stream",
     "text": [
      "2024-04-25 18:53:03 (INFO): Variable types: 20160 continuous, 280 integer (280 binary)\n"
     ]
    },
    {
     "name": "stdout",
     "output_type": "stream",
     "text": [
      "Coefficient statistics:\n"
     ]
    },
    {
     "name": "stderr",
     "output_type": "stream",
     "text": [
      "2024-04-25 18:53:03 (INFO): Coefficient statistics:\n"
     ]
    },
    {
     "name": "stdout",
     "output_type": "stream",
     "text": [
      "  Matrix range     [7e-03, 3e+01]\n"
     ]
    },
    {
     "name": "stderr",
     "output_type": "stream",
     "text": [
      "2024-04-25 18:53:03 (INFO):   Matrix range     [7e-03, 3e+01]\n"
     ]
    },
    {
     "name": "stdout",
     "output_type": "stream",
     "text": [
      "  Objective range  [1e+00, 1e+00]\n"
     ]
    },
    {
     "name": "stderr",
     "output_type": "stream",
     "text": [
      "2024-04-25 18:53:03 (INFO):   Objective range  [1e+00, 1e+00]\n"
     ]
    },
    {
     "name": "stdout",
     "output_type": "stream",
     "text": [
      "  Bounds range     [7e-03, 1e+00]\n"
     ]
    },
    {
     "name": "stderr",
     "output_type": "stream",
     "text": [
      "2024-04-25 18:53:03 (INFO):   Bounds range     [7e-03, 1e+00]\n"
     ]
    },
    {
     "name": "stdout",
     "output_type": "stream",
     "text": [
      "  RHS range        [7e-03, 1e+00]\n"
     ]
    },
    {
     "name": "stderr",
     "output_type": "stream",
     "text": [
      "2024-04-25 18:53:03 (INFO):   RHS range        [7e-03, 1e+00]\n"
     ]
    },
    {
     "name": "stdout",
     "output_type": "stream",
     "text": [
      "\n"
     ]
    },
    {
     "name": "stderr",
     "output_type": "stream",
     "text": [
      "2024-04-25 18:53:03 (INFO): \n"
     ]
    },
    {
     "name": "stdout",
     "output_type": "stream",
     "text": [
      "Loaded user MIP start with objective -1.34361\n",
      "\n",
      "Loaded user MIP start with objective -1.34361\n"
     ]
    },
    {
     "name": "stderr",
     "output_type": "stream",
     "text": [
      "2024-04-25 18:53:03 (INFO): Loaded user MIP start with objective -1.34361\n"
     ]
    },
    {
     "name": "stdout",
     "output_type": "stream",
     "text": [
      "\n"
     ]
    },
    {
     "name": "stderr",
     "output_type": "stream",
     "text": [
      "2024-04-25 18:53:03 (INFO): \n"
     ]
    },
    {
     "name": "stdout",
     "output_type": "stream",
     "text": [
      "Presolve removed 6590 rows and 1603 columns\n"
     ]
    },
    {
     "name": "stderr",
     "output_type": "stream",
     "text": [
      "2024-04-25 18:53:03 (INFO): Presolve removed 6590 rows and 1603 columns\n"
     ]
    },
    {
     "name": "stdout",
     "output_type": "stream",
     "text": [
      "Presolve time: 0.36s\n"
     ]
    },
    {
     "name": "stderr",
     "output_type": "stream",
     "text": [
      "2024-04-25 18:53:03 (INFO): Presolve time: 0.36s\n"
     ]
    },
    {
     "name": "stdout",
     "output_type": "stream",
     "text": [
      "Presolved: 33590 rows, 18837 columns, 86512 nonzeros\n"
     ]
    },
    {
     "name": "stderr",
     "output_type": "stream",
     "text": [
      "2024-04-25 18:53:03 (INFO): Presolved: 33590 rows, 18837 columns, 86512 nonzeros\n"
     ]
    },
    {
     "name": "stdout",
     "output_type": "stream",
     "text": [
      "Variable types: 18585 continuous, 252 integer (252 binary)\n"
     ]
    },
    {
     "name": "stderr",
     "output_type": "stream",
     "text": [
      "2024-04-25 18:53:04 (INFO): Variable types: 18585 continuous, 252 integer (252 binary)\n"
     ]
    },
    {
     "name": "stdout",
     "output_type": "stream",
     "text": [
      "\n"
     ]
    },
    {
     "name": "stderr",
     "output_type": "stream",
     "text": [
      "2024-04-25 18:53:04 (INFO): \n"
     ]
    },
    {
     "name": "stdout",
     "output_type": "stream",
     "text": [
      "Explored 0 nodes (0 simplex iterations) in 0.50 seconds (0.45 work units)\n"
     ]
    },
    {
     "name": "stderr",
     "output_type": "stream",
     "text": [
      "2024-04-25 18:53:04 (INFO): Explored 0 nodes (0 simplex iterations) in 0.50 seconds (0.45 work units)\n"
     ]
    },
    {
     "name": "stdout",
     "output_type": "stream",
     "text": [
      "Thread count was 20 (of 20 available processors)\n"
     ]
    },
    {
     "name": "stderr",
     "output_type": "stream",
     "text": [
      "2024-04-25 18:53:04 (INFO): Thread count was 20 (of 20 available processors)\n"
     ]
    },
    {
     "name": "stdout",
     "output_type": "stream",
     "text": [
      "\n"
     ]
    },
    {
     "name": "stderr",
     "output_type": "stream",
     "text": [
      "2024-04-25 18:53:04 (INFO): \n"
     ]
    },
    {
     "name": "stdout",
     "output_type": "stream",
     "text": [
      "Solution count 1: -1.34361 \n"
     ]
    },
    {
     "name": "stderr",
     "output_type": "stream",
     "text": [
      "2024-04-25 18:53:04 (INFO): Solution count 1: -1.34361 \n"
     ]
    },
    {
     "name": "stdout",
     "output_type": "stream",
     "text": [
      "\n"
     ]
    },
    {
     "name": "stderr",
     "output_type": "stream",
     "text": [
      "2024-04-25 18:53:04 (INFO): \n"
     ]
    },
    {
     "name": "stdout",
     "output_type": "stream",
     "text": [
      "Optimization achieved user objective limit\n"
     ]
    },
    {
     "name": "stderr",
     "output_type": "stream",
     "text": [
      "2024-04-25 18:53:04 (INFO): Optimization achieved user objective limit\n"
     ]
    },
    {
     "name": "stdout",
     "output_type": "stream",
     "text": [
      "Best objective -1.343609933542e+00, best bound -, gap -\n"
     ]
    },
    {
     "name": "stderr",
     "output_type": "stream",
     "text": [
      "2024-04-25 18:53:04 (INFO): Best objective -1.343609933542e+00, best bound -, gap -\n"
     ]
    },
    {
     "name": "stdout",
     "output_type": "stream",
     "text": [
      "\n"
     ]
    },
    {
     "name": "stderr",
     "output_type": "stream",
     "text": [
      "2024-04-25 18:53:04 (INFO): \n"
     ]
    },
    {
     "name": "stdout",
     "output_type": "stream",
     "text": [
      "User-callback calls 340, time in user-callback 0.00 sec\n"
     ]
    },
    {
     "name": "stderr",
     "output_type": "stream",
     "text": [
      "2024-04-25 18:53:04 (INFO): User-callback calls 340, time in user-callback 0.00 sec\n",
      "2024-04-25 18:53:04 (INFO): Optimization status: 15\n",
      "2024-04-25 18:53:04 (INFO): Original -1.34338, Opt objective -1.34361, stop_obj: -1.748499456003263\n",
      "2024-04-25 18:53:04 (INFO): Robust count 0 out of 1\n"
     ]
    },
    {
     "name": "stdout",
     "output_type": "stream",
     "text": [
      "Warning for adding constraints: zero or small (< 1e-13) coefficients, ignored\n"
     ]
    },
    {
     "name": "stderr",
     "output_type": "stream",
     "text": [
      "2024-04-25 18:53:05 (INFO): Warning for adding constraints: zero or small (< 1e-13) coefficients, ignored\n"
     ]
    },
    {
     "name": "stdout",
     "output_type": "stream",
     "text": [
      "Set parameter IntegralityFocus to value 1\n"
     ]
    },
    {
     "name": "stderr",
     "output_type": "stream",
     "text": [
      "2024-04-25 18:53:05 (INFO): Set parameter IntegralityFocus to value 1\n"
     ]
    },
    {
     "name": "stdout",
     "output_type": "stream",
     "text": [
      "Set parameter IntFeasTol to value 0.0001\n"
     ]
    },
    {
     "name": "stderr",
     "output_type": "stream",
     "text": [
      "2024-04-25 18:53:05 (INFO): Set parameter IntFeasTol to value 0.0001\n"
     ]
    },
    {
     "name": "stdout",
     "output_type": "stream",
     "text": [
      "Set parameter DualReductions to value 0\n"
     ]
    },
    {
     "name": "stderr",
     "output_type": "stream",
     "text": [
      "2024-04-25 18:53:05 (INFO): Set parameter DualReductions to value 0\n"
     ]
    },
    {
     "name": "stdout",
     "output_type": "stream",
     "text": [
      "Set parameter FeasibilityTol to value 0.0001\n"
     ]
    },
    {
     "name": "stderr",
     "output_type": "stream",
     "text": [
      "2024-04-25 18:53:05 (INFO): Set parameter FeasibilityTol to value 0.0001\n"
     ]
    },
    {
     "name": "stdout",
     "output_type": "stream",
     "text": [
      "Set parameter OptimalityTol to value 0.0001\n"
     ]
    },
    {
     "name": "stderr",
     "output_type": "stream",
     "text": [
      "2024-04-25 18:53:05 (INFO): Set parameter OptimalityTol to value 0.0001\n"
     ]
    },
    {
     "name": "stdout",
     "output_type": "stream",
     "text": [
      "Set parameter NumericFocus to value 3\n"
     ]
    },
    {
     "name": "stderr",
     "output_type": "stream",
     "text": [
      "2024-04-25 18:53:05 (INFO): Set parameter NumericFocus to value 3\n"
     ]
    },
    {
     "name": "stdout",
     "output_type": "stream",
     "text": [
      "Set parameter TimeLimit to value 3600\n"
     ]
    },
    {
     "name": "stderr",
     "output_type": "stream",
     "text": [
      "2024-04-25 18:53:05 (INFO): Set parameter TimeLimit to value 3600\n"
     ]
    },
    {
     "name": "stdout",
     "output_type": "stream",
     "text": [
      "Set parameter MIPFocus to value 2\n"
     ]
    },
    {
     "name": "stderr",
     "output_type": "stream",
     "text": [
      "2024-04-25 18:53:05 (INFO): Set parameter MIPFocus to value 2\n"
     ]
    },
    {
     "name": "stdout",
     "output_type": "stream",
     "text": [
      "Gurobi Optimizer version 11.0.1 build v11.0.1rc0 (linux64 - \"Ubuntu 22.04.4 LTS\")\n"
     ]
    },
    {
     "name": "stderr",
     "output_type": "stream",
     "text": [
      "2024-04-25 18:53:05 (INFO): Gurobi Optimizer version 11.0.1 build v11.0.1rc0 (linux64 - \"Ubuntu 22.04.4 LTS\")\n"
     ]
    },
    {
     "name": "stdout",
     "output_type": "stream",
     "text": [
      "\n"
     ]
    },
    {
     "name": "stderr",
     "output_type": "stream",
     "text": [
      "2024-04-25 18:53:05 (INFO): \n"
     ]
    },
    {
     "name": "stdout",
     "output_type": "stream",
     "text": [
      "CPU model: Intel(R) Xeon(R) CPU E5-2630 v4 @ 2.20GHz, instruction set [SSE2|AVX|AVX2]\n"
     ]
    },
    {
     "name": "stderr",
     "output_type": "stream",
     "text": [
      "2024-04-25 18:53:05 (INFO): CPU model: Intel(R) Xeon(R) CPU E5-2630 v4 @ 2.20GHz, instruction set [SSE2|AVX|AVX2]\n"
     ]
    },
    {
     "name": "stdout",
     "output_type": "stream",
     "text": [
      "Thread count: 20 physical cores, 20 logical processors, using up to 20 threads\n"
     ]
    },
    {
     "name": "stderr",
     "output_type": "stream",
     "text": [
      "2024-04-25 18:53:05 (INFO): Thread count: 20 physical cores, 20 logical processors, using up to 20 threads\n"
     ]
    },
    {
     "name": "stdout",
     "output_type": "stream",
     "text": [
      "\n"
     ]
    },
    {
     "name": "stderr",
     "output_type": "stream",
     "text": [
      "2024-04-25 18:53:05 (INFO): \n"
     ]
    },
    {
     "name": "stdout",
     "output_type": "stream",
     "text": [
      "Optimize a model with 40180 rows, 20440 columns and 99940 nonzeros\n"
     ]
    },
    {
     "name": "stderr",
     "output_type": "stream",
     "text": [
      "2024-04-25 18:53:05 (INFO): Optimize a model with 40180 rows, 20440 columns and 99940 nonzeros\n"
     ]
    },
    {
     "name": "stdout",
     "output_type": "stream",
     "text": [
      "Model fingerprint: 0x1e82bf71\n"
     ]
    },
    {
     "name": "stderr",
     "output_type": "stream",
     "text": [
      "2024-04-25 18:53:05 (INFO): Model fingerprint: 0x1e82bf71\n"
     ]
    },
    {
     "name": "stdout",
     "output_type": "stream",
     "text": [
      "Variable types: 20160 continuous, 280 integer (280 binary)\n"
     ]
    },
    {
     "name": "stderr",
     "output_type": "stream",
     "text": [
      "2024-04-25 18:53:05 (INFO): Variable types: 20160 continuous, 280 integer (280 binary)\n"
     ]
    },
    {
     "name": "stdout",
     "output_type": "stream",
     "text": [
      "Coefficient statistics:\n"
     ]
    },
    {
     "name": "stderr",
     "output_type": "stream",
     "text": [
      "2024-04-25 18:53:05 (INFO): Coefficient statistics:\n"
     ]
    },
    {
     "name": "stdout",
     "output_type": "stream",
     "text": [
      "  Matrix range     [7e-03, 3e+01]\n"
     ]
    },
    {
     "name": "stderr",
     "output_type": "stream",
     "text": [
      "2024-04-25 18:53:05 (INFO):   Matrix range     [7e-03, 3e+01]\n"
     ]
    },
    {
     "name": "stdout",
     "output_type": "stream",
     "text": [
      "  Objective range  [1e+00, 1e+00]\n"
     ]
    },
    {
     "name": "stderr",
     "output_type": "stream",
     "text": [
      "2024-04-25 18:53:05 (INFO):   Objective range  [1e+00, 1e+00]\n"
     ]
    },
    {
     "name": "stdout",
     "output_type": "stream",
     "text": [
      "  Bounds range     [7e-03, 1e+00]\n"
     ]
    },
    {
     "name": "stderr",
     "output_type": "stream",
     "text": [
      "2024-04-25 18:53:05 (INFO):   Bounds range     [7e-03, 1e+00]\n"
     ]
    },
    {
     "name": "stdout",
     "output_type": "stream",
     "text": [
      "  RHS range        [7e-03, 1e+00]\n"
     ]
    },
    {
     "name": "stderr",
     "output_type": "stream",
     "text": [
      "2024-04-25 18:53:05 (INFO):   RHS range        [7e-03, 1e+00]\n"
     ]
    },
    {
     "name": "stdout",
     "output_type": "stream",
     "text": [
      "\n"
     ]
    },
    {
     "name": "stderr",
     "output_type": "stream",
     "text": [
      "2024-04-25 18:53:05 (INFO): \n"
     ]
    },
    {
     "name": "stdout",
     "output_type": "stream",
     "text": [
      "Loaded user MIP start with objective -0.872961\n",
      "\n",
      "Loaded user MIP start with objective -0.872961\n"
     ]
    },
    {
     "name": "stderr",
     "output_type": "stream",
     "text": [
      "2024-04-25 18:53:05 (INFO): Loaded user MIP start with objective -0.872961\n"
     ]
    },
    {
     "name": "stdout",
     "output_type": "stream",
     "text": [
      "\n"
     ]
    },
    {
     "name": "stderr",
     "output_type": "stream",
     "text": [
      "2024-04-25 18:53:05 (INFO): \n"
     ]
    },
    {
     "name": "stdout",
     "output_type": "stream",
     "text": [
      "Presolve removed 7508 rows and 1651 columns\n"
     ]
    },
    {
     "name": "stderr",
     "output_type": "stream",
     "text": [
      "2024-04-25 18:53:05 (INFO): Presolve removed 7508 rows and 1651 columns\n"
     ]
    },
    {
     "name": "stdout",
     "output_type": "stream",
     "text": [
      "Presolve time: 0.37s\n"
     ]
    },
    {
     "name": "stderr",
     "output_type": "stream",
     "text": [
      "2024-04-25 18:53:05 (INFO): Presolve time: 0.37s\n"
     ]
    },
    {
     "name": "stdout",
     "output_type": "stream",
     "text": [
      "Presolved: 32672 rows, 18789 columns, 84673 nonzeros\n"
     ]
    },
    {
     "name": "stderr",
     "output_type": "stream",
     "text": [
      "2024-04-25 18:53:05 (INFO): Presolved: 32672 rows, 18789 columns, 84673 nonzeros\n"
     ]
    },
    {
     "name": "stdout",
     "output_type": "stream",
     "text": [
      "Found heuristic solution: objective -0.8729606\n"
     ]
    },
    {
     "name": "stderr",
     "output_type": "stream",
     "text": [
      "2024-04-25 18:53:05 (INFO): Found heuristic solution: objective -0.8729606\n"
     ]
    },
    {
     "name": "stdout",
     "output_type": "stream",
     "text": [
      "Variable types: 18543 continuous, 246 integer (246 binary)\n"
     ]
    },
    {
     "name": "stderr",
     "output_type": "stream",
     "text": [
      "2024-04-25 18:53:05 (INFO): Variable types: 18543 continuous, 246 integer (246 binary)\n"
     ]
    },
    {
     "name": "stdout",
     "output_type": "stream",
     "text": [
      "Root relaxation presolved: 31880 rows, 18780 columns, 80336 nonzeros\n"
     ]
    },
    {
     "name": "stderr",
     "output_type": "stream",
     "text": [
      "2024-04-25 18:53:06 (INFO): Root relaxation presolved: 31880 rows, 18780 columns, 80336 nonzeros\n"
     ]
    },
    {
     "name": "stdout",
     "output_type": "stream",
     "text": [
      "\n"
     ]
    },
    {
     "name": "stderr",
     "output_type": "stream",
     "text": [
      "2024-04-25 18:53:06 (INFO): \n"
     ]
    },
    {
     "name": "stdout",
     "output_type": "stream",
     "text": [
      "\n"
     ]
    },
    {
     "name": "stderr",
     "output_type": "stream",
     "text": [
      "2024-04-25 18:53:10 (INFO): \n"
     ]
    },
    {
     "name": "stdout",
     "output_type": "stream",
     "text": [
      "Root simplex log...\n"
     ]
    },
    {
     "name": "stderr",
     "output_type": "stream",
     "text": [
      "2024-04-25 18:53:10 (INFO): Root simplex log...\n"
     ]
    },
    {
     "name": "stdout",
     "output_type": "stream",
     "text": [
      "\n"
     ]
    },
    {
     "name": "stderr",
     "output_type": "stream",
     "text": [
      "2024-04-25 18:53:10 (INFO): \n"
     ]
    },
    {
     "name": "stdout",
     "output_type": "stream",
     "text": [
      "Iteration    Objective       Primal Inf.    Dual Inf.      Time\n"
     ]
    },
    {
     "name": "stderr",
     "output_type": "stream",
     "text": [
      "2024-04-25 18:53:10 (INFO): Iteration    Objective       Primal Inf.    Dual Inf.      Time\n"
     ]
    },
    {
     "name": "stdout",
     "output_type": "stream",
     "text": [
      "   19469   -1.4307451e+00   0.000000e+00   1.793080e+00      5s\n"
     ]
    },
    {
     "name": "stderr",
     "output_type": "stream",
     "text": [
      "2024-04-25 18:53:10 (INFO):    19469   -1.4307451e+00   0.000000e+00   1.793080e+00      5s\n"
     ]
    },
    {
     "name": "stdout",
     "output_type": "stream",
     "text": [
      "   19825   -1.4308497e+00   0.000000e+00   0.000000e+00      6s\n"
     ]
    },
    {
     "name": "stderr",
     "output_type": "stream",
     "text": [
      "2024-04-25 18:53:10 (INFO):    19825   -1.4308497e+00   0.000000e+00   0.000000e+00      6s\n"
     ]
    },
    {
     "name": "stdout",
     "output_type": "stream",
     "text": [
      "Extra simplex iterations after uncrush: 737\n"
     ]
    },
    {
     "name": "stderr",
     "output_type": "stream",
     "text": [
      "2024-04-25 18:53:10 (INFO): Extra simplex iterations after uncrush: 737\n"
     ]
    },
    {
     "name": "stdout",
     "output_type": "stream",
     "text": [
      "\n"
     ]
    },
    {
     "name": "stderr",
     "output_type": "stream",
     "text": [
      "2024-04-25 18:53:10 (INFO): \n"
     ]
    },
    {
     "name": "stdout",
     "output_type": "stream",
     "text": [
      "Root relaxation: objective -1.430850e+00, 19825 iterations, 5.03 seconds (5.73 work units)\n"
     ]
    },
    {
     "name": "stderr",
     "output_type": "stream",
     "text": [
      "2024-04-25 18:53:10 (INFO): Root relaxation: objective -1.430850e+00, 19825 iterations, 5.03 seconds (5.73 work units)\n"
     ]
    },
    {
     "name": "stdout",
     "output_type": "stream",
     "text": [
      "\n"
     ]
    },
    {
     "name": "stderr",
     "output_type": "stream",
     "text": [
      "2024-04-25 18:53:11 (INFO): \n"
     ]
    },
    {
     "name": "stdout",
     "output_type": "stream",
     "text": [
      "    Nodes    |    Current Node    |     Objective Bounds      |     Work\n"
     ]
    },
    {
     "name": "stderr",
     "output_type": "stream",
     "text": [
      "2024-04-25 18:53:11 (INFO):     Nodes    |    Current Node    |     Objective Bounds      |     Work\n"
     ]
    },
    {
     "name": "stdout",
     "output_type": "stream",
     "text": [
      " Expl Unexpl |  Obj  Depth IntInf | Incumbent    BestBd   Gap | It/Node Time\n"
     ]
    },
    {
     "name": "stderr",
     "output_type": "stream",
     "text": [
      "2024-04-25 18:53:11 (INFO):  Expl Unexpl |  Obj  Depth IntInf | Incumbent    BestBd   Gap | It/Node Time\n"
     ]
    },
    {
     "name": "stdout",
     "output_type": "stream",
     "text": [
      "\n"
     ]
    },
    {
     "name": "stderr",
     "output_type": "stream",
     "text": [
      "2024-04-25 18:53:11 (INFO): \n"
     ]
    },
    {
     "name": "stdout",
     "output_type": "stream",
     "text": [
      "     0     0   -1.43085    0  120   -0.87296   -1.43085  63.9%     -    6s\n"
     ]
    },
    {
     "name": "stderr",
     "output_type": "stream",
     "text": [
      "2024-04-25 18:53:11 (INFO):      0     0   -1.43085    0  120   -0.87296   -1.43085  63.9%     -    6s\n"
     ]
    }
   ],
   "source": [
    "# MIP foucs = 2\n",
    "#model_params[\"cache_size\"] = 10000\n",
    "other_params[\"device\"] = \"cpu\"\n",
    "other_params[\"debug\"] = False\n",
    "certificate_params[\"n_adversarial\"] = 270\n",
    "certificate_params[\"delta\"] = 0.01\n",
    "certificate_params[\"delta_absolute\"] = False\n",
    "certificate_params[\"method\"] = \"XXT\"\n",
    "certificate_params[\"perturbation_model\"] = \"l2\"\n",
    "certificate_params[\"attack_nodes\"] = \"test\"\n",
    "certificate_params[\"MIPFocus\"] = 2\n",
    "certificate_params[\"LogToConsole\"] = 1\n",
    "certificate_params[\"OutputFlag\"] = 1\n",
    "other_params[\"path_gurobi_license\"] = \"/ceph/ssd/staff/gosl/app/gurobi.lic\"\n",
    "verbosity_params[\"debug_lvl\"] = \"info\"\n",
    "model_params[\"regularizer\"] = 0.0075\n",
    "model_params[\"solver\"] = \"qplayer_one_vs_all\"\n",
    "model_params[\"alpha_tol\"] = 1e-4\n",
    "model_params[\"bias\"] = False\n",
    "data_params[\"learning_setting\"] = \"transductive\"\n",
    "run(data_params, model_params, certificate_params, verbosity_params, other_params, seed)"
   ]
  },
  {
   "cell_type": "code",
   "execution_count": 5,
   "metadata": {},
   "outputs": [
    {
     "name": "stderr",
     "output_type": "stream",
     "text": [
      "2024-04-25 18:47:40 (INFO): Starting experiment exp_certify_multiclass with configuration:\n",
      "2024-04-25 18:47:40 (INFO): data_params: {'dataset': 'cora', 'learning_setting': 'transductive', 'specification': {'n_per_class': 10, 'fraction_test': 0.01, 'data_dir': './data', 'make_undirected': True, 'binary_attr': False, 'balance_test': True}}\n",
      "2024-04-25 18:47:40 (INFO): model_params: {'label': 'GCN', 'model': 'GCN', 'normalization': 'row_normalization', 'depth': 1, 'regularizer': 0.0075, 'pred_method': 'svm', 'activation': 'relu', 'solver': 'qplayer_one_vs_all', 'alpha_tol': 0.0001, 'bias': False}\n",
      "2024-04-25 18:47:40 (INFO): certification_params: {'n_adversarial': 270, 'perturbation_model': 'l2', 'delta': 0.01, 'delta_absolute': False, 'method': 'XXT', 'attack_nodes': 'test', 'MIPFocus': 0, 'LogToConsole': 1, 'OutputFlag': 1}\n",
      "2024-04-25 18:47:40 (INFO): verbosity_params: {'debug_lvl': 'info'}\n",
      "2024-04-25 18:47:40 (INFO): other_params: {'device': 'cpu', 'dtype': torch.float64, 'allow_tf32': False, 'debug': False, 'path_gurobi_license': '/ceph/ssd/staff/gosl/app/gurobi.lic'}\n",
      "2024-04-25 18:47:40 (INFO): seed: 0\n"
     ]
    },
    {
     "name": "stderr",
     "output_type": "stream",
     "text": [
      "2024-04-25 18:47:40 (INFO): number of samples\n",
      " - labeled: 70 \n",
      " - val: 70 \n",
      " - test: 273 \n",
      " - unlabeled: 2295\n",
      "2024-04-25 18:47:45 (INFO): Delta: 0.01\n"
     ]
    },
    {
     "name": "stdout",
     "output_type": "stream",
     "text": [
      "Class 0: 95 alphas found: ['-0.0000', '0.0075', '0.0075', '-0.0000', '0.0075', '0.0075', '0.0020', '0.0075', '0.0075', '0.0075', '0.0075', '-0.0000', '-0.0000', '-0.0000', '0.0075', '0.0075', '0.0075', '0.0075', '0.0038', '-0.0000', '0.0075', '0.0043', '0.0075', '-0.0000', '0.0075', '-0.0000', '-0.0000', '0.0075', '0.0075', '0.0075', '-0.0000', '0.0075', '-0.0000', '0.0075', '0.0075', '0.0075', '-0.0000', '-0.0000', '-0.0000', '0.0075', '-0.0000', '0.0012', '-0.0000', '0.0075', '0.0075', '0.0075', '0.0075', '0.0075', '0.0075', '-0.0000', '0.0075', '0.0075', '-0.0000', '0.0075', '0.0000', '-0.0000', '0.0075', '0.0075', '-0.0000', '0.0031', '0.0075', '0.0075', '-0.0000', '-0.0000', '0.0018', '-0.0000', '0.0075', '0.0020', '0.0075', '0.0075', '0.0075', '0.0075', '-0.0000', '0.0075', '-0.0000', '-0.0000', '0.0075', '0.0075', '-0.0000', '0.0075', '0.0075', '0.0045', '-0.0000', '0.0075', '0.0056', '0.0075', '-0.0000', '-0.0000', '0.0075', '-0.0000', '0.0075', '0.0075', '-0.0000', '-0.0000', '0.0075', '0.0075', '0.0075', '0.0075', '0.0075', '0.0075', '0.0075', '0.0075', '0.0075', '-0.0000', '0.0075', '0.0075', '0.0075', '-0.0000', '0.0075', '0.0075', '0.0075', '0.0075', '0.0075', '0.0075', '-0.0000', '0.0075', '0.0075', '-0.0000', '-0.0000', '0.0075', '0.0075', '0.0042', '0.0075', '0.0075', '-0.0000', '0.0021', '0.0075', '-0.0000', '-0.0000', '0.0075', '0.0075', '0.0075', '0.0075', '-0.0000', '0.0075', '-0.0000', '0.0064', '0.0028', '-0.0000', '0.0075']\n",
      "Class 1: 95 alphas found: ['0.0000', '0.0034', '0.0010', '0.0002', '0.0075', '0.0075', '-0.0000', '0.0075', '0.0049', '0.0075', '0.0075', '0.0075', '-0.0000', '0.0000', '0.0075', '-0.0000', '0.0075', '-0.0000', '0.0075', '-0.0000', '-0.0000', '0.0032', '0.0048', '-0.0000', '0.0075', '-0.0000', '-0.0000', '0.0075', '0.0075', '0.0075', '-0.0000', '0.0075', '0.0075', '0.0075', '0.0075', '0.0075', '-0.0000', '0.0075', '-0.0000', '0.0075', '-0.0000', '0.0057', '-0.0000', '0.0075', '0.0075', '-0.0000', '0.0075', '0.0075', '0.0062', '0.0075', '0.0075', '0.0075', '-0.0000', '0.0075', '-0.0000', '-0.0000', '-0.0000', '0.0075', '0.0075', '-0.0000', '0.0075', '0.0075', '0.0075', '-0.0000', '-0.0000', '0.0075', '0.0075', '0.0037', '0.0075', '0.0075', '0.0075', '0.0075', '-0.0000', '0.0075', '0.0075', '-0.0000', '0.0075', '-0.0000', '0.0075', '0.0075', '0.0075', '0.0030', '-0.0000', '0.0075', '0.0029', '-0.0000', '-0.0000', '0.0035', '0.0075', '0.0075', '0.0075', '0.0075', '-0.0000', '0.0075', '0.0075', '0.0075', '0.0075', '0.0075', '0.0075', '0.0075', '0.0075', '0.0075', '0.0075', '-0.0000', '0.0056', '0.0075', '0.0075', '0.0075', '0.0075', '0.0075', '0.0075', '-0.0000', '0.0075', '0.0007', '-0.0000', '0.0075', '0.0075', '-0.0000', '0.0064', '0.0075', '0.0075', '0.0032', '0.0075', '0.0075', '0.0032', '-0.0000', '0.0075', '-0.0000', '-0.0000', '0.0075', '0.0054', '0.0075', '-0.0000', '-0.0000', '0.0075', '-0.0000', '0.0063', '0.0075', '-0.0000', '0.0075']\n",
      "Class 2: 95 alphas found: ['-0.0000', '0.0075', '-0.0000', '-0.0000', '0.0075', '0.0075', '-0.0000', '0.0075', '-0.0000', '0.0075', '0.0075', '-0.0000', '-0.0000', '-0.0000', '0.0075', '0.0075', '0.0075', '0.0033', '-0.0000', '-0.0000', '-0.0000', '0.0075', '-0.0000', '0.0075', '0.0075', '-0.0000', '0.0075', '0.0075', '0.0075', '-0.0000', '-0.0000', '0.0075', '-0.0000', '0.0075', '0.0075', '0.0075', '-0.0000', '-0.0000', '-0.0000', '0.0075', '0.0075', '-0.0000', '-0.0000', '0.0075', '0.0075', '0.0075', '0.0075', '0.0075', '0.0069', '-0.0000', '0.0075', '0.0075', '-0.0000', '0.0075', '-0.0000', '-0.0000', '0.0075', '0.0075', '-0.0000', '-0.0000', '0.0075', '0.0075', '-0.0000', '0.0006', '0.0075', '-0.0000', '0.0075', '0.0075', '0.0075', '0.0075', '0.0062', '0.0075', '-0.0000', '0.0075', '-0.0000', '-0.0000', '0.0075', '-0.0000', '0.0075', '0.0075', '0.0075', '0.0043', '-0.0000', '-0.0000', '0.0075', '-0.0000', '-0.0000', '-0.0000', '0.0075', '-0.0000', '0.0075', '0.0075', '-0.0000', '-0.0000', '0.0075', '0.0075', '0.0075', '0.0075', '0.0038', '0.0075', '0.0075', '0.0075', '0.0075', '0.0075', '0.0052', '0.0075', '0.0075', '0.0075', '0.0075', '0.0075', '0.0075', '-0.0000', '0.0075', '0.0075', '-0.0000', '0.0075', '0.0003', '-0.0000', '-0.0000', '0.0075', '0.0069', '0.0075', '0.0075', '0.0075', '0.0075', '-0.0000', '0.0075', '0.0075', '-0.0000', '0.0075', '0.0075', '0.0075', '-0.0000', '-0.0000', '0.0075', '-0.0000', '0.0075', '0.0021', '-0.0000', '0.0075']\n",
      "Class 3: 95 alphas found: ['-0.0000', '0.0075', '0.0005', '-0.0000', '0.0075', '0.0075', '0.0032', '0.0075', '-0.0000', '0.0075', '0.0075', '-0.0000', '-0.0000', '-0.0000', '0.0075', '-0.0000', '0.0075', '-0.0000', '0.0045', '0.0075', '-0.0000', '0.0075', '0.0034', '-0.0000', '0.0075', '-0.0000', '-0.0000', '0.0075', '0.0075', '-0.0000', '-0.0000', '0.0075', '-0.0000', '0.0075', '0.0075', '0.0075', '-0.0000', '-0.0000', '-0.0000', '0.0075', '0.0075', '0.0003', '-0.0000', '0.0075', '0.0075', '-0.0000', '0.0075', '0.0075', '0.0075', '-0.0000', '0.0075', '0.0075', '-0.0000', '0.0075', '-0.0000', '-0.0000', '0.0075', '0.0075', '-0.0000', '0.0075', '0.0075', '0.0075', '-0.0000', '-0.0000', '0.0075', '-0.0000', '0.0075', '0.0075', '0.0075', '0.0075', '0.0075', '0.0075', '-0.0000', '0.0075', '-0.0000', '-0.0000', '0.0075', '-0.0000', '0.0075', '0.0075', '0.0075', '0.0075', '-0.0000', '0.0018', '0.0075', '-0.0000', '-0.0000', '0.0075', '0.0075', '-0.0000', '0.0075', '0.0075', '-0.0000', '-0.0000', '0.0075', '0.0075', '0.0075', '0.0075', '0.0075', '0.0060', '0.0075', '0.0075', '0.0075', '-0.0000', '0.0075', '0.0075', '0.0075', '0.0075', '0.0075', '0.0075', '0.0075', '-0.0000', '0.0075', '0.0038', '0.0075', '0.0075', '0.0000', '-0.0000', '-0.0000', '0.0075', '0.0075', '0.0075', '0.0075', '0.0075', '-0.0000', '0.0001', '0.0075', '-0.0000', '0.0075', '0.0075', '0.0075', '0.0075', '0.0075', '-0.0000', '0.0075', '0.0075', '0.0050', '0.0014', '-0.0000', '0.0075']\n",
      "Class 4: 95 alphas found: ['-0.0000', '0.0075', '0.0037', '-0.0000', '0.0075', '0.0075', '0.0075', '0.0075', '0.0027', '0.0075', '0.0075', '-0.0000', '-0.0000', '-0.0000', '0.0075', '0.0032', '0.0075', '-0.0000', '-0.0000', '-0.0000', '-0.0000', '0.0075', '-0.0000', '-0.0000', '0.0075', '-0.0000', '-0.0000', '0.0075', '0.0075', '-0.0000', '0.0027', '0.0075', '-0.0000', '0.0075', '0.0075', '0.0075', '-0.0000', '-0.0000', '0.0075', '0.0075', '0.0040', '0.0052', '-0.0000', '0.0075', '0.0075', '-0.0000', '0.0075', '0.0075', '0.0075', '-0.0000', '0.0075', '0.0075', '0.0075', '0.0075', '-0.0000', '0.0075', '0.0056', '0.0041', '-0.0000', '0.0075', '0.0075', '0.0075', '-0.0000', '0.0002', '0.0043', '-0.0000', '0.0075', '0.0075', '0.0075', '0.0075', '0.0075', '0.0075', '-0.0000', '0.0075', '-0.0000', '-0.0000', '0.0075', '-0.0000', '-0.0000', '0.0075', '0.0075', '0.0063', '-0.0000', '-0.0000', '0.0075', '-0.0000', '-0.0000', '0.0075', '0.0075', '-0.0000', '0.0075', '0.0075', '0.0075', '-0.0000', '0.0075', '0.0075', '0.0075', '0.0075', '0.0075', '0.0075', '0.0075', '0.0075', '0.0075', '-0.0000', '0.0075', '0.0048', '0.0075', '-0.0000', '0.0075', '0.0075', '0.0075', '-0.0000', '0.0075', '-0.0000', '-0.0000', '0.0075', '0.0059', '-0.0000', '-0.0000', '0.0075', '0.0046', '0.0075', '0.0075', '0.0075', '-0.0000', '0.0008', '0.0075', '-0.0000', '-0.0000', '0.0075', '0.0075', '0.0075', '0.0014', '0.0075', '0.0075', '-0.0000', '0.0055', '0.0057', '0.0075', '0.0075']\n",
      "Class 5: 95 alphas found: ['0.0075', '0.0075', '0.0025', '-0.0000', '0.0075', '0.0075', '0.0000', '0.0075', '-0.0000', '0.0075', '0.0033', '-0.0000', '-0.0000', '-0.0000', '0.0075', '0.0005', '0.0075', '0.0026', '0.0044', '-0.0000', '-0.0000', '0.0075', '0.0007', '-0.0000', '0.0075', '0.0075', '-0.0000', '0.0075', '0.0075', '-0.0000', '0.0075', '0.0075', '-0.0000', '0.0075', '0.0075', '0.0075', '-0.0000', '-0.0000', '-0.0000', '0.0075', '-0.0000', '0.0075', '-0.0000', '0.0075', '0.0075', '-0.0000', '0.0075', '0.0075', '0.0075', '-0.0000', '0.0075', '0.0075', '-0.0000', '0.0075', '0.0075', '-0.0000', '-0.0000', '0.0075', '-0.0000', '-0.0000', '0.0075', '0.0075', '-0.0000', '0.0008', '0.0027', '-0.0000', '0.0075', '0.0075', '0.0075', '0.0075', '0.0075', '0.0075', '-0.0000', '0.0075', '-0.0000', '-0.0000', '0.0075', '-0.0000', '0.0025', '0.0075', '0.0075', '0.0048', '-0.0000', '-0.0000', '0.0075', '-0.0000', '0.0075', '0.0067', '0.0075', '-0.0000', '0.0075', '0.0075', '-0.0000', '0.0075', '0.0075', '0.0075', '0.0075', '0.0075', '0.0075', '0.0075', '0.0075', '0.0075', '0.0075', '-0.0000', '0.0025', '0.0075', '0.0075', '-0.0000', '0.0075', '0.0075', '0.0075', '-0.0000', '0.0075', '0.0075', '-0.0000', '0.0075', '0.0075', '-0.0000', '0.0075', '0.0075', '0.0075', '0.0075', '0.0075', '0.0075', '0.0035', '0.0075', '0.0075', '-0.0000', '-0.0000', '0.0075', '0.0075', '0.0075', '-0.0000', '0.0009', '0.0075', '-0.0000', '0.0075', '0.0075', '-0.0000', '0.0075']\n",
      "Class 6: 95 alphas found: ['-0.0000', '0.0075', '0.0019', '0.0075', '0.0075', '0.0075', '-0.0000', '0.0060', '0.0015', '0.0075', '0.0018', '-0.0000', '0.0075', '0.0075', '0.0075', '-0.0000', '0.0075', '0.0075', '0.0007', '-0.0000', '-0.0000', '0.0070', '0.0075', '0.0006', '0.0075', '-0.0000', '-0.0000', '0.0075', '0.0075', '-0.0000', '-0.0000', '0.0075', '-0.0000', '0.0075', '0.0075', '0.0075', '0.0075', '-0.0000', '-0.0000', '0.0075', '-0.0000', '0.0049', '0.0075', '0.0075', '0.0075', '0.0075', '0.0075', '0.0075', '0.0075', '-0.0000', '0.0075', '0.0075', '-0.0000', '0.0075', '-0.0000', '-0.0000', '-0.0000', '0.0075', '-0.0000', '-0.0000', '0.0075', '0.0075', '-0.0000', '0.0075', '-0.0000', '-0.0000', '0.0075', '0.0061', '0.0075', '0.0075', '0.0075', '0.0075', '0.0075', '0.0075', '-0.0000', '0.0075', '0.0075', '-0.0000', '-0.0000', '0.0075', '0.0075', '0.0044', '0.0075', '0.0042', '0.0075', '-0.0000', '-0.0000', '-0.0000', '0.0075', '-0.0000', '0.0075', '0.0075', '-0.0000', '-0.0000', '0.0075', '0.0075', '0.0075', '0.0075', '0.0075', '0.0075', '0.0075', '0.0075', '0.0075', '-0.0000', '0.0019', '0.0075', '0.0075', '-0.0000', '0.0075', '0.0075', '0.0075', '0.0075', '0.0075', '0.0034', '-0.0000', '0.0075', '0.0065', '0.0075', '-0.0000', '0.0075', '0.0075', '0.0075', '0.0075', '0.0075', '0.0024', '0.0075', '0.0075', '-0.0000', '-0.0000', '0.0075', '0.0075', '0.0075', '-0.0000', '-0.0000', '0.0075', '-0.0000', '0.0075', '0.0034', '-0.0000', '0.0075']\n"
     ]
    },
    {
     "name": "stderr",
     "output_type": "stream",
     "text": [
      "2024-04-25 18:48:00 (INFO): Test accuracy: 0.7875458002090454\n",
      "2024-04-25 18:48:00 (INFO): Test accuracy ALL UNLABELED: 0.7776479721069336\n",
      "2024-04-25 18:48:00 (INFO): Train accuracy: 0.949999988079071\n",
      "2024-04-25 18:48:00 (INFO): Accuracy_lb_test: 0.791208803653717\n",
      "2024-04-25 18:48:00 (INFO): Accuracy_ub_test: 0.7875458002090454\n",
      "2024-04-25 18:48:00 (INFO): Accuracy_lb_trn: 0.949999988079071\n",
      "2024-04-25 18:48:00 (INFO): Accuracy_ub_trn: 0.949999988079071\n",
      "2024-04-25 18:48:00 (INFO): Certified accuracy (evasion): 0.8241758346557617\n",
      "2024-04-25 18:48:00 (INFO): Certified accuracy (evasion, trivial): 0.23443223443223443\n",
      "2024-04-25 18:48:00 (INFO): Certified unrobustness (evasion): 0.0\n"
     ]
    },
    {
     "name": "stdout",
     "output_type": "stream",
     "text": [
      "Set parameter Username\n"
     ]
    },
    {
     "name": "stderr",
     "output_type": "stream",
     "text": [
      "2024-04-25 18:48:00 (INFO): Set parameter Username\n"
     ]
    },
    {
     "name": "stdout",
     "output_type": "stream",
     "text": [
      "Academic license - for non-commercial use only - expires 2025-03-26\n"
     ]
    },
    {
     "name": "stderr",
     "output_type": "stream",
     "text": [
      "2024-04-25 18:48:00 (INFO): Academic license - for non-commercial use only - expires 2025-03-26\n"
     ]
    },
    {
     "name": "stdout",
     "output_type": "stream",
     "text": [
      "Warning for adding constraints: zero or small (< 1e-13) coefficients, ignored\n"
     ]
    },
    {
     "name": "stderr",
     "output_type": "stream",
     "text": [
      "2024-04-25 18:48:01 (INFO): Warning for adding constraints: zero or small (< 1e-13) coefficients, ignored\n"
     ]
    },
    {
     "name": "stdout",
     "output_type": "stream",
     "text": [
      "Set parameter IntegralityFocus to value 1\n"
     ]
    },
    {
     "name": "stderr",
     "output_type": "stream",
     "text": [
      "2024-04-25 18:48:01 (INFO): Set parameter IntegralityFocus to value 1\n"
     ]
    },
    {
     "name": "stdout",
     "output_type": "stream",
     "text": [
      "Set parameter IntFeasTol to value 0.0001\n"
     ]
    },
    {
     "name": "stderr",
     "output_type": "stream",
     "text": [
      "2024-04-25 18:48:01 (INFO): Set parameter IntFeasTol to value 0.0001\n"
     ]
    },
    {
     "name": "stdout",
     "output_type": "stream",
     "text": [
      "Set parameter DualReductions to value 0\n"
     ]
    },
    {
     "name": "stderr",
     "output_type": "stream",
     "text": [
      "2024-04-25 18:48:01 (INFO): Set parameter DualReductions to value 0\n"
     ]
    },
    {
     "name": "stdout",
     "output_type": "stream",
     "text": [
      "Set parameter FeasibilityTol to value 0.0001\n"
     ]
    },
    {
     "name": "stderr",
     "output_type": "stream",
     "text": [
      "2024-04-25 18:48:01 (INFO): Set parameter FeasibilityTol to value 0.0001\n"
     ]
    },
    {
     "name": "stdout",
     "output_type": "stream",
     "text": [
      "Set parameter OptimalityTol to value 0.0001\n"
     ]
    },
    {
     "name": "stderr",
     "output_type": "stream",
     "text": [
      "2024-04-25 18:48:01 (INFO): Set parameter OptimalityTol to value 0.0001\n"
     ]
    },
    {
     "name": "stdout",
     "output_type": "stream",
     "text": [
      "Set parameter NumericFocus to value 3\n"
     ]
    },
    {
     "name": "stderr",
     "output_type": "stream",
     "text": [
      "2024-04-25 18:48:01 (INFO): Set parameter NumericFocus to value 3\n"
     ]
    },
    {
     "name": "stdout",
     "output_type": "stream",
     "text": [
      "Set parameter TimeLimit to value 3600\n"
     ]
    },
    {
     "name": "stderr",
     "output_type": "stream",
     "text": [
      "2024-04-25 18:48:01 (INFO): Set parameter TimeLimit to value 3600\n"
     ]
    },
    {
     "name": "stdout",
     "output_type": "stream",
     "text": [
      "Gurobi Optimizer version 11.0.1 build v11.0.1rc0 (linux64 - \"Ubuntu 22.04.4 LTS\")\n"
     ]
    },
    {
     "name": "stderr",
     "output_type": "stream",
     "text": [
      "2024-04-25 18:48:01 (INFO): Gurobi Optimizer version 11.0.1 build v11.0.1rc0 (linux64 - \"Ubuntu 22.04.4 LTS\")\n"
     ]
    },
    {
     "name": "stdout",
     "output_type": "stream",
     "text": [
      "\n"
     ]
    },
    {
     "name": "stderr",
     "output_type": "stream",
     "text": [
      "2024-04-25 18:48:01 (INFO): \n"
     ]
    },
    {
     "name": "stdout",
     "output_type": "stream",
     "text": [
      "CPU model: Intel(R) Xeon(R) CPU E5-2630 v4 @ 2.20GHz, instruction set [SSE2|AVX|AVX2]\n"
     ]
    },
    {
     "name": "stderr",
     "output_type": "stream",
     "text": [
      "2024-04-25 18:48:01 (INFO): CPU model: Intel(R) Xeon(R) CPU E5-2630 v4 @ 2.20GHz, instruction set [SSE2|AVX|AVX2]\n"
     ]
    },
    {
     "name": "stdout",
     "output_type": "stream",
     "text": [
      "Thread count: 20 physical cores, 20 logical processors, using up to 20 threads\n"
     ]
    },
    {
     "name": "stderr",
     "output_type": "stream",
     "text": [
      "2024-04-25 18:48:01 (INFO): Thread count: 20 physical cores, 20 logical processors, using up to 20 threads\n"
     ]
    },
    {
     "name": "stdout",
     "output_type": "stream",
     "text": [
      "\n"
     ]
    },
    {
     "name": "stderr",
     "output_type": "stream",
     "text": [
      "2024-04-25 18:48:01 (INFO): \n"
     ]
    },
    {
     "name": "stdout",
     "output_type": "stream",
     "text": [
      "Optimize a model with 40180 rows, 20440 columns and 99940 nonzeros\n"
     ]
    },
    {
     "name": "stderr",
     "output_type": "stream",
     "text": [
      "2024-04-25 18:48:01 (INFO): Optimize a model with 40180 rows, 20440 columns and 99940 nonzeros\n"
     ]
    },
    {
     "name": "stdout",
     "output_type": "stream",
     "text": [
      "Model fingerprint: 0x922f41dd\n"
     ]
    },
    {
     "name": "stderr",
     "output_type": "stream",
     "text": [
      "2024-04-25 18:48:01 (INFO): Model fingerprint: 0x922f41dd\n"
     ]
    },
    {
     "name": "stdout",
     "output_type": "stream",
     "text": [
      "Variable types: 20160 continuous, 280 integer (280 binary)\n"
     ]
    },
    {
     "name": "stderr",
     "output_type": "stream",
     "text": [
      "2024-04-25 18:48:01 (INFO): Variable types: 20160 continuous, 280 integer (280 binary)\n"
     ]
    },
    {
     "name": "stdout",
     "output_type": "stream",
     "text": [
      "Coefficient statistics:\n"
     ]
    },
    {
     "name": "stderr",
     "output_type": "stream",
     "text": [
      "2024-04-25 18:48:01 (INFO): Coefficient statistics:\n"
     ]
    },
    {
     "name": "stdout",
     "output_type": "stream",
     "text": [
      "  Matrix range     [7e-03, 3e+01]\n"
     ]
    },
    {
     "name": "stderr",
     "output_type": "stream",
     "text": [
      "2024-04-25 18:48:01 (INFO):   Matrix range     [7e-03, 3e+01]\n"
     ]
    },
    {
     "name": "stdout",
     "output_type": "stream",
     "text": [
      "  Objective range  [1e+00, 1e+00]\n"
     ]
    },
    {
     "name": "stderr",
     "output_type": "stream",
     "text": [
      "2024-04-25 18:48:01 (INFO):   Objective range  [1e+00, 1e+00]\n"
     ]
    },
    {
     "name": "stdout",
     "output_type": "stream",
     "text": [
      "  Bounds range     [7e-03, 1e+00]\n"
     ]
    },
    {
     "name": "stderr",
     "output_type": "stream",
     "text": [
      "2024-04-25 18:48:01 (INFO):   Bounds range     [7e-03, 1e+00]\n"
     ]
    },
    {
     "name": "stdout",
     "output_type": "stream",
     "text": [
      "  RHS range        [7e-03, 1e+00]\n"
     ]
    },
    {
     "name": "stderr",
     "output_type": "stream",
     "text": [
      "2024-04-25 18:48:01 (INFO):   RHS range        [7e-03, 1e+00]\n"
     ]
    },
    {
     "name": "stdout",
     "output_type": "stream",
     "text": [
      "\n"
     ]
    },
    {
     "name": "stderr",
     "output_type": "stream",
     "text": [
      "2024-04-25 18:48:01 (INFO): \n"
     ]
    },
    {
     "name": "stdout",
     "output_type": "stream",
     "text": [
      "Loaded user MIP start with objective -1.34264\n",
      "\n",
      "Loaded user MIP start with objective -1.34264\n"
     ]
    },
    {
     "name": "stderr",
     "output_type": "stream",
     "text": [
      "2024-04-25 18:48:01 (INFO): Loaded user MIP start with objective -1.34264\n"
     ]
    },
    {
     "name": "stdout",
     "output_type": "stream",
     "text": [
      "\n"
     ]
    },
    {
     "name": "stderr",
     "output_type": "stream",
     "text": [
      "2024-04-25 18:48:01 (INFO): \n"
     ]
    },
    {
     "name": "stdout",
     "output_type": "stream",
     "text": [
      "Presolve removed 7442 rows and 1612 columns\n"
     ]
    },
    {
     "name": "stderr",
     "output_type": "stream",
     "text": [
      "2024-04-25 18:48:02 (INFO): Presolve removed 7442 rows and 1612 columns\n"
     ]
    },
    {
     "name": "stdout",
     "output_type": "stream",
     "text": [
      "Presolve time: 0.24s\n"
     ]
    },
    {
     "name": "stderr",
     "output_type": "stream",
     "text": [
      "2024-04-25 18:48:02 (INFO): Presolve time: 0.24s\n"
     ]
    },
    {
     "name": "stdout",
     "output_type": "stream",
     "text": [
      "Presolved: 32738 rows, 18828 columns, 84805 nonzeros\n"
     ]
    },
    {
     "name": "stderr",
     "output_type": "stream",
     "text": [
      "2024-04-25 18:48:02 (INFO): Presolved: 32738 rows, 18828 columns, 84805 nonzeros\n"
     ]
    },
    {
     "name": "stdout",
     "output_type": "stream",
     "text": [
      "Variable types: 18582 continuous, 246 integer (246 binary)\n"
     ]
    },
    {
     "name": "stderr",
     "output_type": "stream",
     "text": [
      "2024-04-25 18:48:02 (INFO): Variable types: 18582 continuous, 246 integer (246 binary)\n"
     ]
    },
    {
     "name": "stdout",
     "output_type": "stream",
     "text": [
      "\n"
     ]
    },
    {
     "name": "stderr",
     "output_type": "stream",
     "text": [
      "2024-04-25 18:48:06 (INFO): \n"
     ]
    },
    {
     "name": "stdout",
     "output_type": "stream",
     "text": [
      "Root relaxation: objective -2.130682e+00, 19522 iterations, 4.46 seconds (4.82 work units)\n"
     ]
    },
    {
     "name": "stderr",
     "output_type": "stream",
     "text": [
      "2024-04-25 18:48:06 (INFO): Root relaxation: objective -2.130682e+00, 19522 iterations, 4.46 seconds (4.82 work units)\n"
     ]
    },
    {
     "name": "stdout",
     "output_type": "stream",
     "text": [
      "Total elapsed time = 5.03s (DegenMoves)\n"
     ]
    },
    {
     "name": "stderr",
     "output_type": "stream",
     "text": [
      "2024-04-25 18:48:06 (INFO): Total elapsed time = 5.03s (DegenMoves)\n"
     ]
    },
    {
     "name": "stdout",
     "output_type": "stream",
     "text": [
      "\n"
     ]
    },
    {
     "name": "stderr",
     "output_type": "stream",
     "text": [
      "2024-04-25 18:48:07 (INFO): \n"
     ]
    },
    {
     "name": "stdout",
     "output_type": "stream",
     "text": [
      "    Nodes    |    Current Node    |     Objective Bounds      |     Work\n"
     ]
    },
    {
     "name": "stderr",
     "output_type": "stream",
     "text": [
      "2024-04-25 18:48:07 (INFO):     Nodes    |    Current Node    |     Objective Bounds      |     Work\n"
     ]
    },
    {
     "name": "stdout",
     "output_type": "stream",
     "text": [
      " Expl Unexpl |  Obj  Depth IntInf | Incumbent    BestBd   Gap | It/Node Time\n"
     ]
    },
    {
     "name": "stderr",
     "output_type": "stream",
     "text": [
      "2024-04-25 18:48:07 (INFO):  Expl Unexpl |  Obj  Depth IntInf | Incumbent    BestBd   Gap | It/Node Time\n"
     ]
    },
    {
     "name": "stdout",
     "output_type": "stream",
     "text": [
      "\n"
     ]
    },
    {
     "name": "stderr",
     "output_type": "stream",
     "text": [
      "2024-04-25 18:48:07 (INFO): \n"
     ]
    },
    {
     "name": "stdout",
     "output_type": "stream",
     "text": [
      "     0     0   -2.13068    0  120   -1.34264   -2.13068  58.7%     -    5s\n"
     ]
    },
    {
     "name": "stderr",
     "output_type": "stream",
     "text": [
      "2024-04-25 18:48:07 (INFO):      0     0   -2.13068    0  120   -1.34264   -2.13068  58.7%     -    5s\n"
     ]
    },
    {
     "name": "stdout",
     "output_type": "stream",
     "text": [
      "     0     2   -2.11246    0  120   -1.34264   -2.11246  57.3%     -   10s\n"
     ]
    },
    {
     "name": "stderr",
     "output_type": "stream",
     "text": [
      "2024-04-25 18:48:12 (INFO):      0     2   -2.11246    0  120   -1.34264   -2.11246  57.3%     -   10s\n"
     ]
    },
    {
     "name": "stdout",
     "output_type": "stream",
     "text": [
      "     1     4   -1.37931    1   89   -1.34264   -2.11246  57.3%  9002   18s\n"
     ]
    },
    {
     "name": "stderr",
     "output_type": "stream",
     "text": [
      "2024-04-25 18:48:20 (INFO):      1     4   -1.37931    1   89   -1.34264   -2.11246  57.3%  9002   18s\n"
     ]
    },
    {
     "name": "stdout",
     "output_type": "stream",
     "text": [
      "     3     5     cutoff    2        -1.34264   -2.09668  56.2%  5645   26s\n"
     ]
    },
    {
     "name": "stderr",
     "output_type": "stream",
     "text": [
      "2024-04-25 18:48:28 (INFO):      3     5     cutoff    2        -1.34264   -2.09668  56.2%  5645   26s\n"
     ]
    },
    {
     "name": "stdout",
     "output_type": "stream",
     "text": [
      "     7     4   -1.94673    3  116   -1.34264   -1.94673  45.0%  3799   33s\n"
     ]
    },
    {
     "name": "stderr",
     "output_type": "stream",
     "text": [
      "2024-04-25 18:48:35 (INFO):      7     4   -1.94673    3  116   -1.34264   -1.94673  45.0%  3799   33s\n"
     ]
    },
    {
     "name": "stdout",
     "output_type": "stream",
     "text": [
      "    12     5 infeasible    4        -1.34264   -1.93874  44.4%  5060   43s\n"
     ]
    },
    {
     "name": "stderr",
     "output_type": "stream",
     "text": [
      "2024-04-25 18:48:45 (INFO):     12     5 infeasible    4        -1.34264   -1.93874  44.4%  5060   43s\n"
     ]
    },
    {
     "name": "stdout",
     "output_type": "stream",
     "text": [
      "    16     5   -1.92236    5  112   -1.34264   -1.92236  43.2%  3889   72s\n"
     ]
    },
    {
     "name": "stderr",
     "output_type": "stream",
     "text": [
      "2024-04-25 18:49:14 (INFO):     16     5   -1.92236    5  112   -1.34264   -1.92236  43.2%  3889   72s\n"
     ]
    },
    {
     "name": "stdout",
     "output_type": "stream",
     "text": [
      "    21     7   -1.41053    6   73   -1.34264   -1.91287  42.5%  7742   78s\n"
     ]
    },
    {
     "name": "stderr",
     "output_type": "stream",
     "text": [
      "2024-04-25 18:49:20 (INFO):     21     7   -1.41053    6   73   -1.34264   -1.91287  42.5%  7742   78s\n"
     ]
    },
    {
     "name": "stdout",
     "output_type": "stream",
     "text": [
      "    26    10   -1.40739    7   71   -1.34264   -1.90102  41.6%  6636   84s\n"
     ]
    },
    {
     "name": "stderr",
     "output_type": "stream",
     "text": [
      "2024-04-25 18:49:26 (INFO):     26    10   -1.40739    7   71   -1.34264   -1.90102  41.6%  6636   84s\n"
     ]
    },
    {
     "name": "stdout",
     "output_type": "stream",
     "text": [
      "H   27    10                      -1.3461019   -1.90102  41.2%  6390   84s\n"
     ]
    },
    {
     "name": "stderr",
     "output_type": "stream",
     "text": [
      "2024-04-25 18:49:26 (INFO): H   27    10                      -1.3461019   -1.90102  41.2%  6390   84s\n"
     ]
    },
    {
     "name": "stdout",
     "output_type": "stream",
     "text": [
      "    33    14     cutoff    8        -1.34610   -1.88843  40.3%  5967   97s\n"
     ]
    },
    {
     "name": "stderr",
     "output_type": "stream",
     "text": [
      "2024-04-25 18:49:39 (INFO):     33    14     cutoff    8        -1.34610   -1.88843  40.3%  5967   97s\n"
     ]
    },
    {
     "name": "stdout",
     "output_type": "stream",
     "text": [
      "    43    16   -1.87508    9  107   -1.34610   -1.87508  39.3%  5181  104s\n"
     ]
    },
    {
     "name": "stderr",
     "output_type": "stream",
     "text": [
      "2024-04-25 18:49:46 (INFO):     43    16   -1.87508    9  107   -1.34610   -1.87508  39.3%  5181  104s\n"
     ]
    },
    {
     "name": "stdout",
     "output_type": "stream",
     "text": [
      "    57    24 infeasible   10        -1.34610   -1.86790  38.8%  4690  108s\n"
     ]
    },
    {
     "name": "stderr",
     "output_type": "stream",
     "text": [
      "2024-04-25 18:49:50 (INFO):     57    24 infeasible   10        -1.34610   -1.86790  38.8%  4690  108s\n"
     ]
    },
    {
     "name": "stdout",
     "output_type": "stream",
     "text": [
      "    73    32   -1.85840   11  105   -1.34610   -1.85840  38.1%  4022  113s\n"
     ]
    },
    {
     "name": "stderr",
     "output_type": "stream",
     "text": [
      "2024-04-25 18:49:55 (INFO):     73    32   -1.85840   11  105   -1.34610   -1.85840  38.1%  4022  113s\n"
     ]
    },
    {
     "name": "stdout",
     "output_type": "stream",
     "text": [
      "    93    44 infeasible   12        -1.34610   -1.85148  37.5%  3653  116s\n"
     ]
    },
    {
     "name": "stderr",
     "output_type": "stream",
     "text": [
      "2024-04-25 18:49:58 (INFO):     93    44 infeasible   12        -1.34610   -1.85148  37.5%  3653  116s\n"
     ]
    },
    {
     "name": "stdout",
     "output_type": "stream",
     "text": [
      "   113    62   -1.56661   13   75   -1.34610   -1.83669  36.4%  3245  122s\n"
     ]
    },
    {
     "name": "stderr",
     "output_type": "stream",
     "text": [
      "2024-04-25 18:50:04 (INFO):    113    62   -1.56661   13   75   -1.34610   -1.83669  36.4%  3245  122s\n"
     ]
    },
    {
     "name": "stdout",
     "output_type": "stream",
     "text": [
      "H  140    76                      -1.3496441   -1.82394  35.1%  2865  125s\n"
     ]
    },
    {
     "name": "stderr",
     "output_type": "stream",
     "text": [
      "2024-04-25 18:50:07 (INFO): H  140    76                      -1.3496441   -1.82394  35.1%  2865  125s\n"
     ]
    },
    {
     "name": "stdout",
     "output_type": "stream",
     "text": [
      "H  141    76                      -1.3502538   -1.82394  35.1%  2846  125s\n"
     ]
    },
    {
     "name": "stderr",
     "output_type": "stream",
     "text": [
      "2024-04-25 18:50:07 (INFO): H  141    76                      -1.3502538   -1.82394  35.1%  2846  125s\n"
     ]
    },
    {
     "name": "stdout",
     "output_type": "stream",
     "text": [
      "H  145    76                      -1.3504194   -1.81234  34.2%  2772  125s\n"
     ]
    },
    {
     "name": "stderr",
     "output_type": "stream",
     "text": [
      "2024-04-25 18:50:07 (INFO): H  145    76                      -1.3504194   -1.81234  34.2%  2772  125s\n"
     ]
    },
    {
     "name": "stdout",
     "output_type": "stream",
     "text": [
      "H  148    76                      -1.3507584   -1.81234  34.2%  2737  125s\n"
     ]
    },
    {
     "name": "stderr",
     "output_type": "stream",
     "text": [
      "2024-04-25 18:50:07 (INFO): H  148    76                      -1.3507584   -1.81234  34.2%  2737  125s\n"
     ]
    },
    {
     "name": "stdout",
     "output_type": "stream",
     "text": [
      "H  162    76                      -1.3509413   -1.81234  34.2%  2607  125s\n"
     ]
    },
    {
     "name": "stderr",
     "output_type": "stream",
     "text": [
      "2024-04-25 18:50:07 (INFO): H  162    76                      -1.3509413   -1.81234  34.2%  2607  125s\n"
     ]
    },
    {
     "name": "stdout",
     "output_type": "stream",
     "text": [
      "H  202   129                      -1.3533635   -1.81234  33.9%  2171  132s\n"
     ]
    },
    {
     "name": "stderr",
     "output_type": "stream",
     "text": [
      "2024-04-25 18:50:14 (INFO): H  202   129                      -1.3533635   -1.81234  33.9%  2171  132s\n"
     ]
    },
    {
     "name": "stdout",
     "output_type": "stream",
     "text": [
      "H  204   129                      -1.3535726   -1.81234  33.9%  2171  132s\n"
     ]
    },
    {
     "name": "stderr",
     "output_type": "stream",
     "text": [
      "2024-04-25 18:50:14 (INFO): H  204   129                      -1.3535726   -1.81234  33.9%  2171  132s\n"
     ]
    },
    {
     "name": "stdout",
     "output_type": "stream",
     "text": [
      "   233   157   -1.43208   18   61   -1.35357   -1.81234  33.9%  1993  136s\n"
     ]
    },
    {
     "name": "stderr",
     "output_type": "stream",
     "text": [
      "2024-04-25 18:50:18 (INFO):    233   157   -1.43208   18   61   -1.35357   -1.81234  33.9%  1993  136s\n"
     ]
    },
    {
     "name": "stdout",
     "output_type": "stream",
     "text": [
      "\n",
      "Interrupt request received\n",
      "H  287   172                      -1.3538716   -1.81234  33.9%  1722  138s\n"
     ]
    },
    {
     "name": "stderr",
     "output_type": "stream",
     "text": [
      "2024-04-25 18:50:20 (INFO): H  287   172                      -1.3538716   -1.81234  33.9%  1722  138s\n"
     ]
    },
    {
     "name": "stdout",
     "output_type": "stream",
     "text": [
      "H  288   172                      -1.3539555   -1.81234  33.9%  1716  138s\n"
     ]
    },
    {
     "name": "stderr",
     "output_type": "stream",
     "text": [
      "2024-04-25 18:50:20 (INFO): H  288   172                      -1.3539555   -1.81234  33.9%  1716  138s\n"
     ]
    },
    {
     "name": "stdout",
     "output_type": "stream",
     "text": [
      "H  291   172                      -1.3539557   -1.81234  33.9%  1704  138s\n"
     ]
    },
    {
     "name": "stderr",
     "output_type": "stream",
     "text": [
      "2024-04-25 18:50:20 (INFO): H  291   172                      -1.3539557   -1.81234  33.9%  1704  138s\n"
     ]
    },
    {
     "name": "stdout",
     "output_type": "stream",
     "text": [
      "\n"
     ]
    },
    {
     "name": "stderr",
     "output_type": "stream",
     "text": [
      "2024-04-25 18:50:20 (INFO): \n"
     ]
    },
    {
     "name": "stdout",
     "output_type": "stream",
     "text": [
      "Cutting planes:\n"
     ]
    },
    {
     "name": "stderr",
     "output_type": "stream",
     "text": [
      "2024-04-25 18:50:20 (INFO): Cutting planes:\n"
     ]
    },
    {
     "name": "stdout",
     "output_type": "stream",
     "text": [
      "  Implied bound: 163\n"
     ]
    },
    {
     "name": "stderr",
     "output_type": "stream",
     "text": [
      "2024-04-25 18:50:20 (INFO):   Implied bound: 163\n"
     ]
    },
    {
     "name": "stdout",
     "output_type": "stream",
     "text": [
      "\n"
     ]
    },
    {
     "name": "stderr",
     "output_type": "stream",
     "text": [
      "2024-04-25 18:50:20 (INFO): \n"
     ]
    },
    {
     "name": "stdout",
     "output_type": "stream",
     "text": [
      "Explored 303 nodes (519525 simplex iterations) in 138.71 seconds (211.46 work units)\n"
     ]
    },
    {
     "name": "stderr",
     "output_type": "stream",
     "text": [
      "2024-04-25 18:50:20 (INFO): Explored 303 nodes (519525 simplex iterations) in 138.71 seconds (211.46 work units)\n"
     ]
    },
    {
     "name": "stdout",
     "output_type": "stream",
     "text": [
      "Thread count was 20 (of 20 available processors)\n"
     ]
    },
    {
     "name": "stderr",
     "output_type": "stream",
     "text": [
      "2024-04-25 18:50:20 (INFO): Thread count was 20 (of 20 available processors)\n"
     ]
    },
    {
     "name": "stdout",
     "output_type": "stream",
     "text": [
      "\n"
     ]
    },
    {
     "name": "stderr",
     "output_type": "stream",
     "text": [
      "2024-04-25 18:50:20 (INFO): \n"
     ]
    },
    {
     "name": "stdout",
     "output_type": "stream",
     "text": [
      "Solution count 2: -1.35396 -1.35396 \n"
     ]
    },
    {
     "name": "stderr",
     "output_type": "stream",
     "text": [
      "2024-04-25 18:50:20 (INFO): Solution count 2: -1.35396 -1.35396 \n"
     ]
    },
    {
     "name": "stdout",
     "output_type": "stream",
     "text": [
      "\n"
     ]
    },
    {
     "name": "stderr",
     "output_type": "stream",
     "text": [
      "2024-04-25 18:50:20 (INFO): \n"
     ]
    },
    {
     "name": "stdout",
     "output_type": "stream",
     "text": [
      "Solve interrupted\n"
     ]
    },
    {
     "name": "stderr",
     "output_type": "stream",
     "text": [
      "2024-04-25 18:50:20 (INFO): Solve interrupted\n"
     ]
    },
    {
     "name": "stdout",
     "output_type": "stream",
     "text": [
      "Best objective -1.353955744326e+00, best bound -1.812342364670e+00, gap 33.8554%\n"
     ]
    },
    {
     "name": "stderr",
     "output_type": "stream",
     "text": [
      "2024-04-25 18:50:20 (INFO): Best objective -1.353955744326e+00, best bound -1.812342364670e+00, gap 33.8554%\n"
     ]
    },
    {
     "name": "stdout",
     "output_type": "stream",
     "text": [
      "\n"
     ]
    },
    {
     "name": "stderr",
     "output_type": "stream",
     "text": [
      "2024-04-25 18:50:20 (INFO): \n"
     ]
    },
    {
     "name": "stdout",
     "output_type": "stream",
     "text": [
      "User-callback calls 50030, time in user-callback 0.27 sec\n"
     ]
    },
    {
     "name": "stderr",
     "output_type": "stream",
     "text": [
      "2024-04-25 18:50:20 (INFO): User-callback calls 50030, time in user-callback 0.27 sec\n",
      "2024-04-25 18:50:20 (INFO): Optimization status: 11\n",
      "2024-04-25 18:50:20 (INFO): Original -1.34259, Opt objective -1.35396, stop_obj: None\n"
     ]
    },
    {
     "name": "stdout",
     "output_type": "stream",
     "text": [
      "Warning for adding constraints: zero or small (< 1e-13) coefficients, ignored\n"
     ]
    },
    {
     "name": "stderr",
     "output_type": "stream",
     "text": [
      "2024-04-25 18:50:21 (INFO): Warning for adding constraints: zero or small (< 1e-13) coefficients, ignored\n"
     ]
    },
    {
     "name": "stdout",
     "output_type": "stream",
     "text": [
      "Set parameter BestObjStop to value -1.8123423646699091e+00\n"
     ]
    },
    {
     "name": "stderr",
     "output_type": "stream",
     "text": [
      "2024-04-25 18:50:21 (INFO): Set parameter BestObjStop to value -1.8123423646699091e+00\n"
     ]
    },
    {
     "name": "stdout",
     "output_type": "stream",
     "text": [
      "Set parameter IntegralityFocus to value 1\n"
     ]
    },
    {
     "name": "stderr",
     "output_type": "stream",
     "text": [
      "2024-04-25 18:50:21 (INFO): Set parameter IntegralityFocus to value 1\n"
     ]
    },
    {
     "name": "stdout",
     "output_type": "stream",
     "text": [
      "Set parameter IntFeasTol to value 0.0001\n"
     ]
    },
    {
     "name": "stderr",
     "output_type": "stream",
     "text": [
      "2024-04-25 18:50:21 (INFO): Set parameter IntFeasTol to value 0.0001\n"
     ]
    },
    {
     "name": "stdout",
     "output_type": "stream",
     "text": [
      "Set parameter DualReductions to value 0\n"
     ]
    },
    {
     "name": "stderr",
     "output_type": "stream",
     "text": [
      "2024-04-25 18:50:21 (INFO): Set parameter DualReductions to value 0\n"
     ]
    },
    {
     "name": "stdout",
     "output_type": "stream",
     "text": [
      "Set parameter FeasibilityTol to value 0.0001\n"
     ]
    },
    {
     "name": "stderr",
     "output_type": "stream",
     "text": [
      "2024-04-25 18:50:21 (INFO): Set parameter FeasibilityTol to value 0.0001\n"
     ]
    },
    {
     "name": "stdout",
     "output_type": "stream",
     "text": [
      "Set parameter OptimalityTol to value 0.0001\n"
     ]
    },
    {
     "name": "stderr",
     "output_type": "stream",
     "text": [
      "2024-04-25 18:50:21 (INFO): Set parameter OptimalityTol to value 0.0001\n"
     ]
    },
    {
     "name": "stdout",
     "output_type": "stream",
     "text": [
      "Set parameter NumericFocus to value 3\n"
     ]
    },
    {
     "name": "stderr",
     "output_type": "stream",
     "text": [
      "2024-04-25 18:50:21 (INFO): Set parameter NumericFocus to value 3\n"
     ]
    },
    {
     "name": "stdout",
     "output_type": "stream",
     "text": [
      "Set parameter TimeLimit to value 3600\n"
     ]
    },
    {
     "name": "stderr",
     "output_type": "stream",
     "text": [
      "2024-04-25 18:50:21 (INFO): Set parameter TimeLimit to value 3600\n"
     ]
    },
    {
     "name": "stdout",
     "output_type": "stream",
     "text": [
      "Gurobi Optimizer version 11.0.1 build v11.0.1rc0 (linux64 - \"Ubuntu 22.04.4 LTS\")\n"
     ]
    },
    {
     "name": "stderr",
     "output_type": "stream",
     "text": [
      "2024-04-25 18:50:21 (INFO): Gurobi Optimizer version 11.0.1 build v11.0.1rc0 (linux64 - \"Ubuntu 22.04.4 LTS\")\n"
     ]
    },
    {
     "name": "stdout",
     "output_type": "stream",
     "text": [
      "\n"
     ]
    },
    {
     "name": "stderr",
     "output_type": "stream",
     "text": [
      "2024-04-25 18:50:21 (INFO): \n"
     ]
    },
    {
     "name": "stdout",
     "output_type": "stream",
     "text": [
      "CPU model: Intel(R) Xeon(R) CPU E5-2630 v4 @ 2.20GHz, instruction set [SSE2|AVX|AVX2]\n"
     ]
    },
    {
     "name": "stderr",
     "output_type": "stream",
     "text": [
      "2024-04-25 18:50:21 (INFO): CPU model: Intel(R) Xeon(R) CPU E5-2630 v4 @ 2.20GHz, instruction set [SSE2|AVX|AVX2]\n"
     ]
    },
    {
     "name": "stdout",
     "output_type": "stream",
     "text": [
      "Thread count: 20 physical cores, 20 logical processors, using up to 20 threads\n"
     ]
    },
    {
     "name": "stderr",
     "output_type": "stream",
     "text": [
      "2024-04-25 18:50:21 (INFO): Thread count: 20 physical cores, 20 logical processors, using up to 20 threads\n"
     ]
    },
    {
     "name": "stdout",
     "output_type": "stream",
     "text": [
      "\n"
     ]
    },
    {
     "name": "stderr",
     "output_type": "stream",
     "text": [
      "2024-04-25 18:50:21 (INFO): \n"
     ]
    },
    {
     "name": "stdout",
     "output_type": "stream",
     "text": [
      "Optimize a model with 40180 rows, 20440 columns and 99940 nonzeros\n"
     ]
    },
    {
     "name": "stderr",
     "output_type": "stream",
     "text": [
      "2024-04-25 18:50:21 (INFO): Optimize a model with 40180 rows, 20440 columns and 99940 nonzeros\n"
     ]
    },
    {
     "name": "stdout",
     "output_type": "stream",
     "text": [
      "Model fingerprint: 0x02ca91f6\n"
     ]
    },
    {
     "name": "stderr",
     "output_type": "stream",
     "text": [
      "2024-04-25 18:50:21 (INFO): Model fingerprint: 0x02ca91f6\n"
     ]
    },
    {
     "name": "stdout",
     "output_type": "stream",
     "text": [
      "Variable types: 20160 continuous, 280 integer (280 binary)\n"
     ]
    },
    {
     "name": "stderr",
     "output_type": "stream",
     "text": [
      "2024-04-25 18:50:21 (INFO): Variable types: 20160 continuous, 280 integer (280 binary)\n"
     ]
    },
    {
     "name": "stdout",
     "output_type": "stream",
     "text": [
      "Coefficient statistics:\n"
     ]
    },
    {
     "name": "stderr",
     "output_type": "stream",
     "text": [
      "2024-04-25 18:50:21 (INFO): Coefficient statistics:\n"
     ]
    },
    {
     "name": "stdout",
     "output_type": "stream",
     "text": [
      "  Matrix range     [7e-03, 3e+01]\n"
     ]
    },
    {
     "name": "stderr",
     "output_type": "stream",
     "text": [
      "2024-04-25 18:50:21 (INFO):   Matrix range     [7e-03, 3e+01]\n"
     ]
    },
    {
     "name": "stdout",
     "output_type": "stream",
     "text": [
      "  Objective range  [1e+00, 1e+00]\n"
     ]
    },
    {
     "name": "stderr",
     "output_type": "stream",
     "text": [
      "2024-04-25 18:50:21 (INFO):   Objective range  [1e+00, 1e+00]\n"
     ]
    },
    {
     "name": "stdout",
     "output_type": "stream",
     "text": [
      "  Bounds range     [7e-03, 1e+00]\n"
     ]
    },
    {
     "name": "stderr",
     "output_type": "stream",
     "text": [
      "2024-04-25 18:50:21 (INFO):   Bounds range     [7e-03, 1e+00]\n"
     ]
    },
    {
     "name": "stdout",
     "output_type": "stream",
     "text": [
      "  RHS range        [7e-03, 1e+00]\n"
     ]
    },
    {
     "name": "stderr",
     "output_type": "stream",
     "text": [
      "2024-04-25 18:50:21 (INFO):   RHS range        [7e-03, 1e+00]\n"
     ]
    },
    {
     "name": "stdout",
     "output_type": "stream",
     "text": [
      "\n"
     ]
    },
    {
     "name": "stderr",
     "output_type": "stream",
     "text": [
      "2024-04-25 18:50:21 (INFO): \n"
     ]
    },
    {
     "name": "stdout",
     "output_type": "stream",
     "text": [
      "Loaded user MIP start with objective -1.34361\n",
      "\n",
      "Loaded user MIP start with objective -1.34361\n"
     ]
    },
    {
     "name": "stderr",
     "output_type": "stream",
     "text": [
      "2024-04-25 18:50:21 (INFO): Loaded user MIP start with objective -1.34361\n"
     ]
    },
    {
     "name": "stdout",
     "output_type": "stream",
     "text": [
      "\n"
     ]
    },
    {
     "name": "stderr",
     "output_type": "stream",
     "text": [
      "2024-04-25 18:50:21 (INFO): \n"
     ]
    },
    {
     "name": "stdout",
     "output_type": "stream",
     "text": [
      "Presolve removed 6590 rows and 1603 columns\n"
     ]
    },
    {
     "name": "stderr",
     "output_type": "stream",
     "text": [
      "2024-04-25 18:50:22 (INFO): Presolve removed 6590 rows and 1603 columns\n"
     ]
    },
    {
     "name": "stdout",
     "output_type": "stream",
     "text": [
      "Presolve time: 0.23s\n"
     ]
    },
    {
     "name": "stderr",
     "output_type": "stream",
     "text": [
      "2024-04-25 18:50:22 (INFO): Presolve time: 0.23s\n"
     ]
    },
    {
     "name": "stdout",
     "output_type": "stream",
     "text": [
      "Presolved: 33590 rows, 18837 columns, 86512 nonzeros\n"
     ]
    },
    {
     "name": "stderr",
     "output_type": "stream",
     "text": [
      "2024-04-25 18:50:22 (INFO): Presolved: 33590 rows, 18837 columns, 86512 nonzeros\n"
     ]
    },
    {
     "name": "stdout",
     "output_type": "stream",
     "text": [
      "Variable types: 18585 continuous, 252 integer (252 binary)\n"
     ]
    },
    {
     "name": "stderr",
     "output_type": "stream",
     "text": [
      "2024-04-25 18:50:22 (INFO): Variable types: 18585 continuous, 252 integer (252 binary)\n"
     ]
    },
    {
     "name": "stdout",
     "output_type": "stream",
     "text": [
      "\n"
     ]
    },
    {
     "name": "stderr",
     "output_type": "stream",
     "text": [
      "2024-04-25 18:50:22 (INFO): \n"
     ]
    },
    {
     "name": "stdout",
     "output_type": "stream",
     "text": [
      "Explored 0 nodes (0 simplex iterations) in 0.39 seconds (0.25 work units)\n"
     ]
    },
    {
     "name": "stderr",
     "output_type": "stream",
     "text": [
      "2024-04-25 18:50:22 (INFO): Explored 0 nodes (0 simplex iterations) in 0.39 seconds (0.25 work units)\n"
     ]
    },
    {
     "name": "stdout",
     "output_type": "stream",
     "text": [
      "Thread count was 20 (of 20 available processors)\n"
     ]
    },
    {
     "name": "stderr",
     "output_type": "stream",
     "text": [
      "2024-04-25 18:50:22 (INFO): Thread count was 20 (of 20 available processors)\n"
     ]
    },
    {
     "name": "stdout",
     "output_type": "stream",
     "text": [
      "\n"
     ]
    },
    {
     "name": "stderr",
     "output_type": "stream",
     "text": [
      "2024-04-25 18:50:22 (INFO): \n"
     ]
    },
    {
     "name": "stdout",
     "output_type": "stream",
     "text": [
      "Solution count 1: -1.34361 \n"
     ]
    },
    {
     "name": "stderr",
     "output_type": "stream",
     "text": [
      "2024-04-25 18:50:22 (INFO): Solution count 1: -1.34361 \n"
     ]
    },
    {
     "name": "stdout",
     "output_type": "stream",
     "text": [
      "\n"
     ]
    },
    {
     "name": "stderr",
     "output_type": "stream",
     "text": [
      "2024-04-25 18:50:22 (INFO): \n"
     ]
    },
    {
     "name": "stdout",
     "output_type": "stream",
     "text": [
      "Optimization achieved user objective limit\n"
     ]
    },
    {
     "name": "stderr",
     "output_type": "stream",
     "text": [
      "2024-04-25 18:50:22 (INFO): Optimization achieved user objective limit\n"
     ]
    },
    {
     "name": "stdout",
     "output_type": "stream",
     "text": [
      "Best objective -1.343609933542e+00, best bound -, gap -\n"
     ]
    },
    {
     "name": "stderr",
     "output_type": "stream",
     "text": [
      "2024-04-25 18:50:22 (INFO): Best objective -1.343609933542e+00, best bound -, gap -\n"
     ]
    },
    {
     "name": "stdout",
     "output_type": "stream",
     "text": [
      "\n"
     ]
    },
    {
     "name": "stderr",
     "output_type": "stream",
     "text": [
      "2024-04-25 18:50:22 (INFO): \n"
     ]
    },
    {
     "name": "stdout",
     "output_type": "stream",
     "text": [
      "User-callback calls 337, time in user-callback 0.00 sec\n"
     ]
    },
    {
     "name": "stderr",
     "output_type": "stream",
     "text": [
      "2024-04-25 18:50:22 (INFO): User-callback calls 337, time in user-callback 0.00 sec\n",
      "2024-04-25 18:50:22 (INFO): Optimization status: 15\n",
      "2024-04-25 18:50:22 (INFO): Original -1.34338, Opt objective -1.34361, stop_obj: -1.812342364669909\n",
      "2024-04-25 18:50:22 (INFO): Robust count 0 out of 1\n"
     ]
    },
    {
     "name": "stdout",
     "output_type": "stream",
     "text": [
      "Warning for adding constraints: zero or small (< 1e-13) coefficients, ignored\n"
     ]
    },
    {
     "name": "stderr",
     "output_type": "stream",
     "text": [
      "2024-04-25 18:50:23 (INFO): Warning for adding constraints: zero or small (< 1e-13) coefficients, ignored\n"
     ]
    },
    {
     "name": "stdout",
     "output_type": "stream",
     "text": [
      "Set parameter IntegralityFocus to value 1\n"
     ]
    },
    {
     "name": "stderr",
     "output_type": "stream",
     "text": [
      "2024-04-25 18:50:23 (INFO): Set parameter IntegralityFocus to value 1\n"
     ]
    },
    {
     "name": "stdout",
     "output_type": "stream",
     "text": [
      "Set parameter IntFeasTol to value 0.0001\n"
     ]
    },
    {
     "name": "stderr",
     "output_type": "stream",
     "text": [
      "2024-04-25 18:50:23 (INFO): Set parameter IntFeasTol to value 0.0001\n"
     ]
    },
    {
     "name": "stdout",
     "output_type": "stream",
     "text": [
      "Set parameter DualReductions to value 0\n"
     ]
    },
    {
     "name": "stderr",
     "output_type": "stream",
     "text": [
      "2024-04-25 18:50:23 (INFO): Set parameter DualReductions to value 0\n"
     ]
    },
    {
     "name": "stdout",
     "output_type": "stream",
     "text": [
      "Set parameter FeasibilityTol to value 0.0001\n"
     ]
    },
    {
     "name": "stderr",
     "output_type": "stream",
     "text": [
      "2024-04-25 18:50:23 (INFO): Set parameter FeasibilityTol to value 0.0001\n"
     ]
    },
    {
     "name": "stdout",
     "output_type": "stream",
     "text": [
      "Set parameter OptimalityTol to value 0.0001\n"
     ]
    },
    {
     "name": "stderr",
     "output_type": "stream",
     "text": [
      "2024-04-25 18:50:23 (INFO): Set parameter OptimalityTol to value 0.0001\n"
     ]
    },
    {
     "name": "stdout",
     "output_type": "stream",
     "text": [
      "Set parameter NumericFocus to value 3\n"
     ]
    },
    {
     "name": "stderr",
     "output_type": "stream",
     "text": [
      "2024-04-25 18:50:23 (INFO): Set parameter NumericFocus to value 3\n"
     ]
    },
    {
     "name": "stdout",
     "output_type": "stream",
     "text": [
      "Set parameter TimeLimit to value 3600\n"
     ]
    },
    {
     "name": "stderr",
     "output_type": "stream",
     "text": [
      "2024-04-25 18:50:23 (INFO): Set parameter TimeLimit to value 3600\n"
     ]
    },
    {
     "name": "stdout",
     "output_type": "stream",
     "text": [
      "Gurobi Optimizer version 11.0.1 build v11.0.1rc0 (linux64 - \"Ubuntu 22.04.4 LTS\")\n"
     ]
    },
    {
     "name": "stderr",
     "output_type": "stream",
     "text": [
      "2024-04-25 18:50:23 (INFO): Gurobi Optimizer version 11.0.1 build v11.0.1rc0 (linux64 - \"Ubuntu 22.04.4 LTS\")\n"
     ]
    },
    {
     "name": "stdout",
     "output_type": "stream",
     "text": [
      "\n"
     ]
    },
    {
     "name": "stderr",
     "output_type": "stream",
     "text": [
      "2024-04-25 18:50:23 (INFO): \n"
     ]
    },
    {
     "name": "stdout",
     "output_type": "stream",
     "text": [
      "CPU model: Intel(R) Xeon(R) CPU E5-2630 v4 @ 2.20GHz, instruction set [SSE2|AVX|AVX2]\n"
     ]
    },
    {
     "name": "stderr",
     "output_type": "stream",
     "text": [
      "2024-04-25 18:50:23 (INFO): CPU model: Intel(R) Xeon(R) CPU E5-2630 v4 @ 2.20GHz, instruction set [SSE2|AVX|AVX2]\n"
     ]
    },
    {
     "name": "stdout",
     "output_type": "stream",
     "text": [
      "Thread count: 20 physical cores, 20 logical processors, using up to 20 threads\n"
     ]
    },
    {
     "name": "stderr",
     "output_type": "stream",
     "text": [
      "2024-04-25 18:50:23 (INFO): Thread count: 20 physical cores, 20 logical processors, using up to 20 threads\n"
     ]
    },
    {
     "name": "stdout",
     "output_type": "stream",
     "text": [
      "\n"
     ]
    },
    {
     "name": "stderr",
     "output_type": "stream",
     "text": [
      "2024-04-25 18:50:23 (INFO): \n"
     ]
    },
    {
     "name": "stdout",
     "output_type": "stream",
     "text": [
      "Optimize a model with 40180 rows, 20440 columns and 99940 nonzeros\n"
     ]
    },
    {
     "name": "stderr",
     "output_type": "stream",
     "text": [
      "2024-04-25 18:50:23 (INFO): Optimize a model with 40180 rows, 20440 columns and 99940 nonzeros\n"
     ]
    },
    {
     "name": "stdout",
     "output_type": "stream",
     "text": [
      "Model fingerprint: 0x1e82bf71\n"
     ]
    },
    {
     "name": "stderr",
     "output_type": "stream",
     "text": [
      "2024-04-25 18:50:23 (INFO): Model fingerprint: 0x1e82bf71\n"
     ]
    },
    {
     "name": "stdout",
     "output_type": "stream",
     "text": [
      "Variable types: 20160 continuous, 280 integer (280 binary)\n"
     ]
    },
    {
     "name": "stderr",
     "output_type": "stream",
     "text": [
      "2024-04-25 18:50:23 (INFO): Variable types: 20160 continuous, 280 integer (280 binary)\n"
     ]
    },
    {
     "name": "stdout",
     "output_type": "stream",
     "text": [
      "Coefficient statistics:\n"
     ]
    },
    {
     "name": "stderr",
     "output_type": "stream",
     "text": [
      "2024-04-25 18:50:23 (INFO): Coefficient statistics:\n"
     ]
    },
    {
     "name": "stdout",
     "output_type": "stream",
     "text": [
      "  Matrix range     [7e-03, 3e+01]\n"
     ]
    },
    {
     "name": "stderr",
     "output_type": "stream",
     "text": [
      "2024-04-25 18:50:23 (INFO):   Matrix range     [7e-03, 3e+01]\n"
     ]
    },
    {
     "name": "stdout",
     "output_type": "stream",
     "text": [
      "  Objective range  [1e+00, 1e+00]\n"
     ]
    },
    {
     "name": "stderr",
     "output_type": "stream",
     "text": [
      "2024-04-25 18:50:23 (INFO):   Objective range  [1e+00, 1e+00]\n"
     ]
    },
    {
     "name": "stdout",
     "output_type": "stream",
     "text": [
      "  Bounds range     [7e-03, 1e+00]\n"
     ]
    },
    {
     "name": "stderr",
     "output_type": "stream",
     "text": [
      "2024-04-25 18:50:23 (INFO):   Bounds range     [7e-03, 1e+00]\n"
     ]
    },
    {
     "name": "stdout",
     "output_type": "stream",
     "text": [
      "  RHS range        [7e-03, 1e+00]\n"
     ]
    },
    {
     "name": "stderr",
     "output_type": "stream",
     "text": [
      "2024-04-25 18:50:23 (INFO):   RHS range        [7e-03, 1e+00]\n"
     ]
    },
    {
     "name": "stdout",
     "output_type": "stream",
     "text": [
      "\n"
     ]
    },
    {
     "name": "stderr",
     "output_type": "stream",
     "text": [
      "2024-04-25 18:50:23 (INFO): \n"
     ]
    },
    {
     "name": "stdout",
     "output_type": "stream",
     "text": [
      "Loaded user MIP start with objective -0.872961\n",
      "\n",
      "Loaded user MIP start with objective -0.872961\n"
     ]
    },
    {
     "name": "stderr",
     "output_type": "stream",
     "text": [
      "2024-04-25 18:50:23 (INFO): Loaded user MIP start with objective -0.872961\n"
     ]
    },
    {
     "name": "stdout",
     "output_type": "stream",
     "text": [
      "\n"
     ]
    },
    {
     "name": "stderr",
     "output_type": "stream",
     "text": [
      "2024-04-25 18:50:23 (INFO): \n"
     ]
    },
    {
     "name": "stdout",
     "output_type": "stream",
     "text": [
      "Presolve removed 7508 rows and 1651 columns\n"
     ]
    },
    {
     "name": "stderr",
     "output_type": "stream",
     "text": [
      "2024-04-25 18:50:23 (INFO): Presolve removed 7508 rows and 1651 columns\n"
     ]
    },
    {
     "name": "stdout",
     "output_type": "stream",
     "text": [
      "Presolve time: 0.23s\n"
     ]
    },
    {
     "name": "stderr",
     "output_type": "stream",
     "text": [
      "2024-04-25 18:50:23 (INFO): Presolve time: 0.23s\n"
     ]
    },
    {
     "name": "stdout",
     "output_type": "stream",
     "text": [
      "Presolved: 32672 rows, 18789 columns, 84673 nonzeros\n"
     ]
    },
    {
     "name": "stderr",
     "output_type": "stream",
     "text": [
      "2024-04-25 18:50:23 (INFO): Presolved: 32672 rows, 18789 columns, 84673 nonzeros\n"
     ]
    },
    {
     "name": "stdout",
     "output_type": "stream",
     "text": [
      "Found heuristic solution: objective -0.8729606\n"
     ]
    },
    {
     "name": "stderr",
     "output_type": "stream",
     "text": [
      "2024-04-25 18:50:23 (INFO): Found heuristic solution: objective -0.8729606\n"
     ]
    },
    {
     "name": "stdout",
     "output_type": "stream",
     "text": [
      "Variable types: 18543 continuous, 246 integer (246 binary)\n"
     ]
    },
    {
     "name": "stderr",
     "output_type": "stream",
     "text": [
      "2024-04-25 18:50:23 (INFO): Variable types: 18543 continuous, 246 integer (246 binary)\n"
     ]
    },
    {
     "name": "stdout",
     "output_type": "stream",
     "text": [
      "\n"
     ]
    },
    {
     "name": "stderr",
     "output_type": "stream",
     "text": [
      "2024-04-25 18:50:28 (INFO): \n"
     ]
    },
    {
     "name": "stdout",
     "output_type": "stream",
     "text": [
      "Root relaxation: objective -1.430850e+00, 19039 iterations, 4.32 seconds (4.33 work units)\n"
     ]
    },
    {
     "name": "stderr",
     "output_type": "stream",
     "text": [
      "2024-04-25 18:50:28 (INFO): Root relaxation: objective -1.430850e+00, 19039 iterations, 4.32 seconds (4.33 work units)\n"
     ]
    },
    {
     "name": "stdout",
     "output_type": "stream",
     "text": [
      "Total elapsed time = 5.10s (DegenMoves)\n"
     ]
    },
    {
     "name": "stderr",
     "output_type": "stream",
     "text": [
      "2024-04-25 18:50:28 (INFO): Total elapsed time = 5.10s (DegenMoves)\n"
     ]
    },
    {
     "name": "stdout",
     "output_type": "stream",
     "text": [
      "\n"
     ]
    },
    {
     "name": "stderr",
     "output_type": "stream",
     "text": [
      "2024-04-25 18:50:28 (INFO): \n"
     ]
    },
    {
     "name": "stdout",
     "output_type": "stream",
     "text": [
      "    Nodes    |    Current Node    |     Objective Bounds      |     Work\n"
     ]
    },
    {
     "name": "stderr",
     "output_type": "stream",
     "text": [
      "2024-04-25 18:50:28 (INFO):     Nodes    |    Current Node    |     Objective Bounds      |     Work\n"
     ]
    },
    {
     "name": "stdout",
     "output_type": "stream",
     "text": [
      " Expl Unexpl |  Obj  Depth IntInf | Incumbent    BestBd   Gap | It/Node Time\n"
     ]
    },
    {
     "name": "stderr",
     "output_type": "stream",
     "text": [
      "2024-04-25 18:50:28 (INFO):  Expl Unexpl |  Obj  Depth IntInf | Incumbent    BestBd   Gap | It/Node Time\n"
     ]
    },
    {
     "name": "stdout",
     "output_type": "stream",
     "text": [
      "\n"
     ]
    },
    {
     "name": "stderr",
     "output_type": "stream",
     "text": [
      "2024-04-25 18:50:28 (INFO): \n"
     ]
    },
    {
     "name": "stdout",
     "output_type": "stream",
     "text": [
      "     0     0   -1.43085    0  120   -0.87296   -1.43085  63.9%     -    5s\n"
     ]
    },
    {
     "name": "stderr",
     "output_type": "stream",
     "text": [
      "2024-04-25 18:50:28 (INFO):      0     0   -1.43085    0  120   -0.87296   -1.43085  63.9%     -    5s\n"
     ]
    }
   ],
   "source": [
    "# MIP foucs = 0\n",
    "#model_params[\"cache_size\"] = 10000\n",
    "other_params[\"device\"] = \"cpu\"\n",
    "other_params[\"debug\"] = False\n",
    "certificate_params[\"n_adversarial\"] = 270\n",
    "certificate_params[\"delta\"] = 0.01\n",
    "certificate_params[\"delta_absolute\"] = False\n",
    "certificate_params[\"method\"] = \"XXT\"\n",
    "certificate_params[\"perturbation_model\"] = \"l2\"\n",
    "certificate_params[\"attack_nodes\"] = \"test\"\n",
    "certificate_params[\"MIPFocus\"] = 0\n",
    "certificate_params[\"LogToConsole\"] = 1\n",
    "certificate_params[\"OutputFlag\"] = 1\n",
    "other_params[\"path_gurobi_license\"] = \"/ceph/ssd/staff/gosl/app/gurobi.lic\"\n",
    "verbosity_params[\"debug_lvl\"] = \"info\"\n",
    "model_params[\"regularizer\"] = 0.0075\n",
    "model_params[\"solver\"] = \"qplayer_one_vs_all\"\n",
    "model_params[\"alpha_tol\"] = 1e-4\n",
    "model_params[\"bias\"] = False\n",
    "data_params[\"learning_setting\"] = \"transductive\"\n",
    "run(data_params, model_params, certificate_params, verbosity_params, other_params, seed)"
   ]
  },
  {
   "cell_type": "code",
   "execution_count": 8,
   "metadata": {},
   "outputs": [
    {
     "name": "stderr",
     "output_type": "stream",
     "text": [
      "2024-04-25 18:27:24 (INFO): Starting experiment exp_certify_multiclass with configuration:\n",
      "2024-04-25 18:27:24 (INFO): data_params: {'dataset': 'cora', 'learning_setting': 'transductive', 'specification': {'n_per_class': 10, 'fraction_test': 0.01, 'data_dir': './data', 'make_undirected': True, 'binary_attr': False, 'balance_test': True}}\n",
      "2024-04-25 18:27:24 (INFO): model_params: {'label': 'GCN', 'model': 'GCN', 'normalization': 'row_normalization', 'depth': 1, 'regularizer': 0.0075, 'pred_method': 'svm', 'activation': 'relu', 'solver': 'qplayer_one_vs_all', 'alpha_tol': 0.0001, 'bias': False}\n",
      "2024-04-25 18:27:24 (INFO): certification_params: {'n_adversarial': 270, 'perturbation_model': 'l2', 'delta': 0.01, 'delta_absolute': False, 'method': 'XXT', 'attack_nodes': 'test'}\n",
      "2024-04-25 18:27:24 (INFO): verbosity_params: {'debug_lvl': 'info'}\n",
      "2024-04-25 18:27:24 (INFO): other_params: {'device': 'cpu', 'dtype': torch.float64, 'allow_tf32': False, 'debug': False, 'path_gurobi_license': '/ceph/ssd/staff/gosl/app/gurobi.lic'}\n",
      "2024-04-25 18:27:24 (INFO): seed: 0\n",
      "2024-04-25 18:27:24 (INFO): number of samples\n",
      " - labeled: 70 \n",
      " - val: 70 \n",
      " - test: 273 \n",
      " - unlabeled: 2295\n",
      "2024-04-25 18:27:30 (INFO): Delta: 0.01\n"
     ]
    },
    {
     "name": "stdout",
     "output_type": "stream",
     "text": [
      "Class 0: 95 alphas found: ['-0.0000', '0.0075', '0.0075', '-0.0000', '0.0075', '0.0075', '0.0020', '0.0075', '0.0075', '0.0075', '0.0075', '-0.0000', '-0.0000', '-0.0000', '0.0075', '0.0075', '0.0075', '0.0075', '0.0038', '-0.0000', '0.0075', '0.0043', '0.0075', '-0.0000', '0.0075', '-0.0000', '-0.0000', '0.0075', '0.0075', '0.0075', '-0.0000', '0.0075', '-0.0000', '0.0075', '0.0075', '0.0075', '-0.0000', '-0.0000', '-0.0000', '0.0075', '-0.0000', '0.0012', '-0.0000', '0.0075', '0.0075', '0.0075', '0.0075', '0.0075', '0.0075', '-0.0000', '0.0075', '0.0075', '-0.0000', '0.0075', '0.0000', '-0.0000', '0.0075', '0.0075', '-0.0000', '0.0031', '0.0075', '0.0075', '-0.0000', '-0.0000', '0.0018', '-0.0000', '0.0075', '0.0020', '0.0075', '0.0075', '0.0075', '0.0075', '-0.0000', '0.0075', '-0.0000', '-0.0000', '0.0075', '0.0075', '-0.0000', '0.0075', '0.0075', '0.0045', '-0.0000', '0.0075', '0.0056', '0.0075', '-0.0000', '-0.0000', '0.0075', '-0.0000', '0.0075', '0.0075', '-0.0000', '-0.0000', '0.0075', '0.0075', '0.0075', '0.0075', '0.0075', '0.0075', '0.0075', '0.0075', '0.0075', '-0.0000', '0.0075', '0.0075', '0.0075', '-0.0000', '0.0075', '0.0075', '0.0075', '0.0075', '0.0075', '0.0075', '-0.0000', '0.0075', '0.0075', '-0.0000', '-0.0000', '0.0075', '0.0075', '0.0042', '0.0075', '0.0075', '-0.0000', '0.0021', '0.0075', '-0.0000', '-0.0000', '0.0075', '0.0075', '0.0075', '0.0075', '-0.0000', '0.0075', '-0.0000', '0.0064', '0.0028', '-0.0000', '0.0075']\n",
      "Class 1: 95 alphas found: ['0.0000', '0.0034', '0.0010', '0.0002', '0.0075', '0.0075', '-0.0000', '0.0075', '0.0049', '0.0075', '0.0075', '0.0075', '-0.0000', '0.0000', '0.0075', '-0.0000', '0.0075', '-0.0000', '0.0075', '-0.0000', '-0.0000', '0.0032', '0.0048', '-0.0000', '0.0075', '-0.0000', '-0.0000', '0.0075', '0.0075', '0.0075', '-0.0000', '0.0075', '0.0075', '0.0075', '0.0075', '0.0075', '-0.0000', '0.0075', '-0.0000', '0.0075', '-0.0000', '0.0057', '-0.0000', '0.0075', '0.0075', '-0.0000', '0.0075', '0.0075', '0.0062', '0.0075', '0.0075', '0.0075', '-0.0000', '0.0075', '-0.0000', '-0.0000', '-0.0000', '0.0075', '0.0075', '-0.0000', '0.0075', '0.0075', '0.0075', '-0.0000', '-0.0000', '0.0075', '0.0075', '0.0037', '0.0075', '0.0075', '0.0075', '0.0075', '-0.0000', '0.0075', '0.0075', '-0.0000', '0.0075', '-0.0000', '0.0075', '0.0075', '0.0075', '0.0030', '-0.0000', '0.0075', '0.0029', '-0.0000', '-0.0000', '0.0035', '0.0075', '0.0075', '0.0075', '0.0075', '-0.0000', '0.0075', '0.0075', '0.0075', '0.0075', '0.0075', '0.0075', '0.0075', '0.0075', '0.0075', '0.0075', '-0.0000', '0.0056', '0.0075', '0.0075', '0.0075', '0.0075', '0.0075', '0.0075', '-0.0000', '0.0075', '0.0007', '-0.0000', '0.0075', '0.0075', '-0.0000', '0.0064', '0.0075', '0.0075', '0.0032', '0.0075', '0.0075', '0.0032', '-0.0000', '0.0075', '-0.0000', '-0.0000', '0.0075', '0.0054', '0.0075', '-0.0000', '-0.0000', '0.0075', '-0.0000', '0.0063', '0.0075', '-0.0000', '0.0075']\n",
      "Class 2: 95 alphas found: ['-0.0000', '0.0075', '-0.0000', '-0.0000', '0.0075', '0.0075', '-0.0000', '0.0075', '-0.0000', '0.0075', '0.0075', '-0.0000', '-0.0000', '-0.0000', '0.0075', '0.0075', '0.0075', '0.0033', '-0.0000', '-0.0000', '-0.0000', '0.0075', '-0.0000', '0.0075', '0.0075', '-0.0000', '0.0075', '0.0075', '0.0075', '-0.0000', '-0.0000', '0.0075', '-0.0000', '0.0075', '0.0075', '0.0075', '-0.0000', '-0.0000', '-0.0000', '0.0075', '0.0075', '-0.0000', '-0.0000', '0.0075', '0.0075', '0.0075', '0.0075', '0.0075', '0.0069', '-0.0000', '0.0075', '0.0075', '-0.0000', '0.0075', '-0.0000', '-0.0000', '0.0075', '0.0075', '-0.0000', '-0.0000', '0.0075', '0.0075', '-0.0000', '0.0006', '0.0075', '-0.0000', '0.0075', '0.0075', '0.0075', '0.0075', '0.0062', '0.0075', '-0.0000', '0.0075', '-0.0000', '-0.0000', '0.0075', '-0.0000', '0.0075', '0.0075', '0.0075', '0.0043', '-0.0000', '-0.0000', '0.0075', '-0.0000', '-0.0000', '-0.0000', '0.0075', '-0.0000', '0.0075', '0.0075', '-0.0000', '-0.0000', '0.0075', '0.0075', '0.0075', '0.0075', '0.0038', '0.0075', '0.0075', '0.0075', '0.0075', '0.0075', '0.0052', '0.0075', '0.0075', '0.0075', '0.0075', '0.0075', '0.0075', '-0.0000', '0.0075', '0.0075', '-0.0000', '0.0075', '0.0003', '-0.0000', '-0.0000', '0.0075', '0.0069', '0.0075', '0.0075', '0.0075', '0.0075', '-0.0000', '0.0075', '0.0075', '-0.0000', '0.0075', '0.0075', '0.0075', '-0.0000', '-0.0000', '0.0075', '-0.0000', '0.0075', '0.0021', '-0.0000', '0.0075']\n",
      "Class 3: 95 alphas found: ['-0.0000', '0.0075', '0.0005', '-0.0000', '0.0075', '0.0075', '0.0032', '0.0075', '-0.0000', '0.0075', '0.0075', '-0.0000', '-0.0000', '-0.0000', '0.0075', '-0.0000', '0.0075', '-0.0000', '0.0045', '0.0075', '-0.0000', '0.0075', '0.0034', '-0.0000', '0.0075', '-0.0000', '-0.0000', '0.0075', '0.0075', '-0.0000', '-0.0000', '0.0075', '-0.0000', '0.0075', '0.0075', '0.0075', '-0.0000', '-0.0000', '-0.0000', '0.0075', '0.0075', '0.0003', '-0.0000', '0.0075', '0.0075', '-0.0000', '0.0075', '0.0075', '0.0075', '-0.0000', '0.0075', '0.0075', '-0.0000', '0.0075', '-0.0000', '-0.0000', '0.0075', '0.0075', '-0.0000', '0.0075', '0.0075', '0.0075', '-0.0000', '-0.0000', '0.0075', '-0.0000', '0.0075', '0.0075', '0.0075', '0.0075', '0.0075', '0.0075', '-0.0000', '0.0075', '-0.0000', '-0.0000', '0.0075', '-0.0000', '0.0075', '0.0075', '0.0075', '0.0075', '-0.0000', '0.0018', '0.0075', '-0.0000', '-0.0000', '0.0075', '0.0075', '-0.0000', '0.0075', '0.0075', '-0.0000', '-0.0000', '0.0075', '0.0075', '0.0075', '0.0075', '0.0075', '0.0060', '0.0075', '0.0075', '0.0075', '-0.0000', '0.0075', '0.0075', '0.0075', '0.0075', '0.0075', '0.0075', '0.0075', '-0.0000', '0.0075', '0.0038', '0.0075', '0.0075', '0.0000', '-0.0000', '-0.0000', '0.0075', '0.0075', '0.0075', '0.0075', '0.0075', '-0.0000', '0.0001', '0.0075', '-0.0000', '0.0075', '0.0075', '0.0075', '0.0075', '0.0075', '-0.0000', '0.0075', '0.0075', '0.0050', '0.0014', '-0.0000', '0.0075']\n",
      "Class 4: 95 alphas found: ['-0.0000', '0.0075', '0.0037', '-0.0000', '0.0075', '0.0075', '0.0075', '0.0075', '0.0027', '0.0075', '0.0075', '-0.0000', '-0.0000', '-0.0000', '0.0075', '0.0032', '0.0075', '-0.0000', '-0.0000', '-0.0000', '-0.0000', '0.0075', '-0.0000', '-0.0000', '0.0075', '-0.0000', '-0.0000', '0.0075', '0.0075', '-0.0000', '0.0027', '0.0075', '-0.0000', '0.0075', '0.0075', '0.0075', '-0.0000', '-0.0000', '0.0075', '0.0075', '0.0040', '0.0052', '-0.0000', '0.0075', '0.0075', '-0.0000', '0.0075', '0.0075', '0.0075', '-0.0000', '0.0075', '0.0075', '0.0075', '0.0075', '-0.0000', '0.0075', '0.0056', '0.0041', '-0.0000', '0.0075', '0.0075', '0.0075', '-0.0000', '0.0002', '0.0043', '-0.0000', '0.0075', '0.0075', '0.0075', '0.0075', '0.0075', '0.0075', '-0.0000', '0.0075', '-0.0000', '-0.0000', '0.0075', '-0.0000', '-0.0000', '0.0075', '0.0075', '0.0063', '-0.0000', '-0.0000', '0.0075', '-0.0000', '-0.0000', '0.0075', '0.0075', '-0.0000', '0.0075', '0.0075', '0.0075', '-0.0000', '0.0075', '0.0075', '0.0075', '0.0075', '0.0075', '0.0075', '0.0075', '0.0075', '0.0075', '-0.0000', '0.0075', '0.0048', '0.0075', '-0.0000', '0.0075', '0.0075', '0.0075', '-0.0000', '0.0075', '-0.0000', '-0.0000', '0.0075', '0.0059', '-0.0000', '-0.0000', '0.0075', '0.0046', '0.0075', '0.0075', '0.0075', '-0.0000', '0.0008', '0.0075', '-0.0000', '-0.0000', '0.0075', '0.0075', '0.0075', '0.0014', '0.0075', '0.0075', '-0.0000', '0.0055', '0.0057', '0.0075', '0.0075']\n",
      "Class 5: 95 alphas found: ['0.0075', '0.0075', '0.0025', '-0.0000', '0.0075', '0.0075', '0.0000', '0.0075', '-0.0000', '0.0075', '0.0033', '-0.0000', '-0.0000', '-0.0000', '0.0075', '0.0005', '0.0075', '0.0026', '0.0044', '-0.0000', '-0.0000', '0.0075', '0.0007', '-0.0000', '0.0075', '0.0075', '-0.0000', '0.0075', '0.0075', '-0.0000', '0.0075', '0.0075', '-0.0000', '0.0075', '0.0075', '0.0075', '-0.0000', '-0.0000', '-0.0000', '0.0075', '-0.0000', '0.0075', '-0.0000', '0.0075', '0.0075', '-0.0000', '0.0075', '0.0075', '0.0075', '-0.0000', '0.0075', '0.0075', '-0.0000', '0.0075', '0.0075', '-0.0000', '-0.0000', '0.0075', '-0.0000', '-0.0000', '0.0075', '0.0075', '-0.0000', '0.0008', '0.0027', '-0.0000', '0.0075', '0.0075', '0.0075', '0.0075', '0.0075', '0.0075', '-0.0000', '0.0075', '-0.0000', '-0.0000', '0.0075', '-0.0000', '0.0025', '0.0075', '0.0075', '0.0048', '-0.0000', '-0.0000', '0.0075', '-0.0000', '0.0075', '0.0067', '0.0075', '-0.0000', '0.0075', '0.0075', '-0.0000', '0.0075', '0.0075', '0.0075', '0.0075', '0.0075', '0.0075', '0.0075', '0.0075', '0.0075', '0.0075', '-0.0000', '0.0025', '0.0075', '0.0075', '-0.0000', '0.0075', '0.0075', '0.0075', '-0.0000', '0.0075', '0.0075', '-0.0000', '0.0075', '0.0075', '-0.0000', '0.0075', '0.0075', '0.0075', '0.0075', '0.0075', '0.0075', '0.0035', '0.0075', '0.0075', '-0.0000', '-0.0000', '0.0075', '0.0075', '0.0075', '-0.0000', '0.0009', '0.0075', '-0.0000', '0.0075', '0.0075', '-0.0000', '0.0075']\n",
      "Class 6: 95 alphas found: ['-0.0000', '0.0075', '0.0019', '0.0075', '0.0075', '0.0075', '-0.0000', '0.0060', '0.0015', '0.0075', '0.0018', '-0.0000', '0.0075', '0.0075', '0.0075', '-0.0000', '0.0075', '0.0075', '0.0007', '-0.0000', '-0.0000', '0.0070', '0.0075', '0.0006', '0.0075', '-0.0000', '-0.0000', '0.0075', '0.0075', '-0.0000', '-0.0000', '0.0075', '-0.0000', '0.0075', '0.0075', '0.0075', '0.0075', '-0.0000', '-0.0000', '0.0075', '-0.0000', '0.0049', '0.0075', '0.0075', '0.0075', '0.0075', '0.0075', '0.0075', '0.0075', '-0.0000', '0.0075', '0.0075', '-0.0000', '0.0075', '-0.0000', '-0.0000', '-0.0000', '0.0075', '-0.0000', '-0.0000', '0.0075', '0.0075', '-0.0000', '0.0075', '-0.0000', '-0.0000', '0.0075', '0.0061', '0.0075', '0.0075', '0.0075', '0.0075', '0.0075', '0.0075', '-0.0000', '0.0075', '0.0075', '-0.0000', '-0.0000', '0.0075', '0.0075', '0.0044', '0.0075', '0.0042', '0.0075', '-0.0000', '-0.0000', '-0.0000', '0.0075', '-0.0000', '0.0075', '0.0075', '-0.0000', '-0.0000', '0.0075', '0.0075', '0.0075', '0.0075', '0.0075', '0.0075', '0.0075', '0.0075', '0.0075', '-0.0000', '0.0019', '0.0075', '0.0075', '-0.0000', '0.0075', '0.0075', '0.0075', '0.0075', '0.0075', '0.0034', '-0.0000', '0.0075', '0.0065', '0.0075', '-0.0000', '0.0075', '0.0075', '0.0075', '0.0075', '0.0075', '0.0024', '0.0075', '0.0075', '-0.0000', '-0.0000', '0.0075', '0.0075', '0.0075', '-0.0000', '-0.0000', '0.0075', '-0.0000', '0.0075', '0.0034', '-0.0000', '0.0075']\n"
     ]
    },
    {
     "name": "stderr",
     "output_type": "stream",
     "text": [
      "2024-04-25 18:27:47 (INFO): Test accuracy: 0.7875458002090454\n",
      "2024-04-25 18:27:47 (INFO): Test accuracy ALL UNLABELED: 0.7776479721069336\n",
      "2024-04-25 18:27:47 (INFO): Train accuracy: 0.949999988079071\n",
      "2024-04-25 18:27:47 (INFO): Accuracy_lb_test: 0.791208803653717\n",
      "2024-04-25 18:27:47 (INFO): Accuracy_ub_test: 0.7875458002090454\n",
      "2024-04-25 18:27:47 (INFO): Accuracy_lb_trn: 0.949999988079071\n",
      "2024-04-25 18:27:47 (INFO): Accuracy_ub_trn: 0.949999988079071\n",
      "2024-04-25 18:27:47 (INFO): Certified accuracy (evasion): 0.8241758346557617\n",
      "2024-04-25 18:27:47 (INFO): Certified accuracy (evasion, trivial): 0.23443223443223443\n",
      "2024-04-25 18:27:47 (INFO): Certified unrobustness (evasion): 0.0\n"
     ]
    },
    {
     "name": "stdout",
     "output_type": "stream",
     "text": [
      "Set parameter Username\n"
     ]
    },
    {
     "name": "stderr",
     "output_type": "stream",
     "text": [
      "2024-04-25 18:27:47 (INFO): Set parameter Username\n"
     ]
    },
    {
     "name": "stdout",
     "output_type": "stream",
     "text": [
      "Academic license - for non-commercial use only - expires 2025-03-26\n"
     ]
    },
    {
     "name": "stderr",
     "output_type": "stream",
     "text": [
      "2024-04-25 18:27:47 (INFO): Academic license - for non-commercial use only - expires 2025-03-26\n"
     ]
    },
    {
     "name": "stdout",
     "output_type": "stream",
     "text": [
      "Warning for adding constraints: zero or small (< 1e-13) coefficients, ignored\n"
     ]
    },
    {
     "name": "stderr",
     "output_type": "stream",
     "text": [
      "2024-04-25 18:27:48 (INFO): Warning for adding constraints: zero or small (< 1e-13) coefficients, ignored\n"
     ]
    },
    {
     "name": "stdout",
     "output_type": "stream",
     "text": [
      "Set parameter IntegralityFocus to value 1\n"
     ]
    },
    {
     "name": "stderr",
     "output_type": "stream",
     "text": [
      "2024-04-25 18:27:48 (INFO): Set parameter IntegralityFocus to value 1\n"
     ]
    },
    {
     "name": "stdout",
     "output_type": "stream",
     "text": [
      "Set parameter IntFeasTol to value 0.0001\n"
     ]
    },
    {
     "name": "stderr",
     "output_type": "stream",
     "text": [
      "2024-04-25 18:27:48 (INFO): Set parameter IntFeasTol to value 0.0001\n"
     ]
    },
    {
     "name": "stdout",
     "output_type": "stream",
     "text": [
      "Set parameter DualReductions to value 0\n"
     ]
    },
    {
     "name": "stderr",
     "output_type": "stream",
     "text": [
      "2024-04-25 18:27:48 (INFO): Set parameter DualReductions to value 0\n"
     ]
    },
    {
     "name": "stdout",
     "output_type": "stream",
     "text": [
      "Set parameter FeasibilityTol to value 0.0001\n"
     ]
    },
    {
     "name": "stderr",
     "output_type": "stream",
     "text": [
      "2024-04-25 18:27:48 (INFO): Set parameter FeasibilityTol to value 0.0001\n"
     ]
    },
    {
     "name": "stdout",
     "output_type": "stream",
     "text": [
      "Set parameter OptimalityTol to value 0.0001\n"
     ]
    },
    {
     "name": "stderr",
     "output_type": "stream",
     "text": [
      "2024-04-25 18:27:48 (INFO): Set parameter OptimalityTol to value 0.0001\n"
     ]
    },
    {
     "name": "stdout",
     "output_type": "stream",
     "text": [
      "Set parameter NumericFocus to value 3\n"
     ]
    },
    {
     "name": "stderr",
     "output_type": "stream",
     "text": [
      "2024-04-25 18:27:48 (INFO): Set parameter NumericFocus to value 3\n"
     ]
    },
    {
     "name": "stdout",
     "output_type": "stream",
     "text": [
      "Set parameter TimeLimit to value 3600\n"
     ]
    },
    {
     "name": "stderr",
     "output_type": "stream",
     "text": [
      "2024-04-25 18:27:48 (INFO): Set parameter TimeLimit to value 3600\n"
     ]
    },
    {
     "name": "stdout",
     "output_type": "stream",
     "text": [
      "Set parameter MIPFocus to value 3\n"
     ]
    },
    {
     "name": "stderr",
     "output_type": "stream",
     "text": [
      "2024-04-25 18:27:48 (INFO): Set parameter MIPFocus to value 3\n"
     ]
    },
    {
     "name": "stdout",
     "output_type": "stream",
     "text": [
      "Gurobi Optimizer version 11.0.1 build v11.0.1rc0 (linux64 - \"Ubuntu 22.04.4 LTS\")\n"
     ]
    },
    {
     "name": "stderr",
     "output_type": "stream",
     "text": [
      "2024-04-25 18:27:48 (INFO): Gurobi Optimizer version 11.0.1 build v11.0.1rc0 (linux64 - \"Ubuntu 22.04.4 LTS\")\n"
     ]
    },
    {
     "name": "stdout",
     "output_type": "stream",
     "text": [
      "\n"
     ]
    },
    {
     "name": "stderr",
     "output_type": "stream",
     "text": [
      "2024-04-25 18:27:48 (INFO): \n"
     ]
    },
    {
     "name": "stdout",
     "output_type": "stream",
     "text": [
      "CPU model: Intel(R) Xeon(R) CPU E5-2630 v4 @ 2.20GHz, instruction set [SSE2|AVX|AVX2]\n"
     ]
    },
    {
     "name": "stderr",
     "output_type": "stream",
     "text": [
      "2024-04-25 18:27:48 (INFO): CPU model: Intel(R) Xeon(R) CPU E5-2630 v4 @ 2.20GHz, instruction set [SSE2|AVX|AVX2]\n"
     ]
    },
    {
     "name": "stdout",
     "output_type": "stream",
     "text": [
      "Thread count: 20 physical cores, 20 logical processors, using up to 20 threads\n"
     ]
    },
    {
     "name": "stderr",
     "output_type": "stream",
     "text": [
      "2024-04-25 18:27:48 (INFO): Thread count: 20 physical cores, 20 logical processors, using up to 20 threads\n"
     ]
    },
    {
     "name": "stdout",
     "output_type": "stream",
     "text": [
      "\n"
     ]
    },
    {
     "name": "stderr",
     "output_type": "stream",
     "text": [
      "2024-04-25 18:27:48 (INFO): \n"
     ]
    },
    {
     "name": "stdout",
     "output_type": "stream",
     "text": [
      "Optimize a model with 40180 rows, 20440 columns and 99940 nonzeros\n"
     ]
    },
    {
     "name": "stderr",
     "output_type": "stream",
     "text": [
      "2024-04-25 18:27:48 (INFO): Optimize a model with 40180 rows, 20440 columns and 99940 nonzeros\n"
     ]
    },
    {
     "name": "stdout",
     "output_type": "stream",
     "text": [
      "Model fingerprint: 0x922f41dd\n"
     ]
    },
    {
     "name": "stderr",
     "output_type": "stream",
     "text": [
      "2024-04-25 18:27:48 (INFO): Model fingerprint: 0x922f41dd\n"
     ]
    },
    {
     "name": "stdout",
     "output_type": "stream",
     "text": [
      "Variable types: 20160 continuous, 280 integer (280 binary)\n"
     ]
    },
    {
     "name": "stderr",
     "output_type": "stream",
     "text": [
      "2024-04-25 18:27:48 (INFO): Variable types: 20160 continuous, 280 integer (280 binary)\n"
     ]
    },
    {
     "name": "stdout",
     "output_type": "stream",
     "text": [
      "Coefficient statistics:\n"
     ]
    },
    {
     "name": "stderr",
     "output_type": "stream",
     "text": [
      "2024-04-25 18:27:48 (INFO): Coefficient statistics:\n"
     ]
    },
    {
     "name": "stdout",
     "output_type": "stream",
     "text": [
      "  Matrix range     [7e-03, 3e+01]\n"
     ]
    },
    {
     "name": "stderr",
     "output_type": "stream",
     "text": [
      "2024-04-25 18:27:48 (INFO):   Matrix range     [7e-03, 3e+01]\n"
     ]
    },
    {
     "name": "stdout",
     "output_type": "stream",
     "text": [
      "  Objective range  [1e+00, 1e+00]\n"
     ]
    },
    {
     "name": "stderr",
     "output_type": "stream",
     "text": [
      "2024-04-25 18:27:48 (INFO):   Objective range  [1e+00, 1e+00]\n"
     ]
    },
    {
     "name": "stdout",
     "output_type": "stream",
     "text": [
      "  Bounds range     [7e-03, 1e+00]\n"
     ]
    },
    {
     "name": "stderr",
     "output_type": "stream",
     "text": [
      "2024-04-25 18:27:48 (INFO):   Bounds range     [7e-03, 1e+00]\n"
     ]
    },
    {
     "name": "stdout",
     "output_type": "stream",
     "text": [
      "  RHS range        [7e-03, 1e+00]\n"
     ]
    },
    {
     "name": "stderr",
     "output_type": "stream",
     "text": [
      "2024-04-25 18:27:48 (INFO):   RHS range        [7e-03, 1e+00]\n"
     ]
    },
    {
     "name": "stdout",
     "output_type": "stream",
     "text": [
      "\n"
     ]
    },
    {
     "name": "stderr",
     "output_type": "stream",
     "text": [
      "2024-04-25 18:27:48 (INFO): \n"
     ]
    },
    {
     "name": "stdout",
     "output_type": "stream",
     "text": [
      "Loaded user MIP start with objective -1.34264\n",
      "\n",
      "Loaded user MIP start with objective -1.34264\n"
     ]
    },
    {
     "name": "stderr",
     "output_type": "stream",
     "text": [
      "2024-04-25 18:27:48 (INFO): Loaded user MIP start with objective -1.34264\n"
     ]
    },
    {
     "name": "stdout",
     "output_type": "stream",
     "text": [
      "\n"
     ]
    },
    {
     "name": "stderr",
     "output_type": "stream",
     "text": [
      "2024-04-25 18:27:48 (INFO): \n"
     ]
    },
    {
     "name": "stdout",
     "output_type": "stream",
     "text": [
      "Presolve removed 7442 rows and 1612 columns\n"
     ]
    },
    {
     "name": "stderr",
     "output_type": "stream",
     "text": [
      "2024-04-25 18:27:49 (INFO): Presolve removed 7442 rows and 1612 columns\n"
     ]
    },
    {
     "name": "stdout",
     "output_type": "stream",
     "text": [
      "Presolve time: 0.40s\n"
     ]
    },
    {
     "name": "stderr",
     "output_type": "stream",
     "text": [
      "2024-04-25 18:27:49 (INFO): Presolve time: 0.40s\n"
     ]
    },
    {
     "name": "stdout",
     "output_type": "stream",
     "text": [
      "Presolved: 32738 rows, 18828 columns, 84805 nonzeros\n"
     ]
    },
    {
     "name": "stderr",
     "output_type": "stream",
     "text": [
      "2024-04-25 18:27:49 (INFO): Presolved: 32738 rows, 18828 columns, 84805 nonzeros\n"
     ]
    },
    {
     "name": "stdout",
     "output_type": "stream",
     "text": [
      "Variable types: 18582 continuous, 246 integer (246 binary)\n"
     ]
    },
    {
     "name": "stderr",
     "output_type": "stream",
     "text": [
      "2024-04-25 18:27:49 (INFO): Variable types: 18582 continuous, 246 integer (246 binary)\n"
     ]
    },
    {
     "name": "stdout",
     "output_type": "stream",
     "text": [
      "Root relaxation presolved: 31944 rows, 18819 columns, 80464 nonzeros\n"
     ]
    },
    {
     "name": "stderr",
     "output_type": "stream",
     "text": [
      "2024-04-25 18:27:49 (INFO): Root relaxation presolved: 31944 rows, 18819 columns, 80464 nonzeros\n"
     ]
    },
    {
     "name": "stdout",
     "output_type": "stream",
     "text": [
      "\n"
     ]
    },
    {
     "name": "stderr",
     "output_type": "stream",
     "text": [
      "2024-04-25 18:27:49 (INFO): \n"
     ]
    },
    {
     "name": "stdout",
     "output_type": "stream",
     "text": [
      "\n"
     ]
    },
    {
     "name": "stderr",
     "output_type": "stream",
     "text": [
      "2024-04-25 18:27:53 (INFO): \n"
     ]
    },
    {
     "name": "stdout",
     "output_type": "stream",
     "text": [
      "Root simplex log...\n"
     ]
    },
    {
     "name": "stderr",
     "output_type": "stream",
     "text": [
      "2024-04-25 18:27:53 (INFO): Root simplex log...\n"
     ]
    },
    {
     "name": "stdout",
     "output_type": "stream",
     "text": [
      "\n"
     ]
    },
    {
     "name": "stderr",
     "output_type": "stream",
     "text": [
      "2024-04-25 18:27:53 (INFO): \n"
     ]
    },
    {
     "name": "stdout",
     "output_type": "stream",
     "text": [
      "Iteration    Objective       Primal Inf.    Dual Inf.      Time\n"
     ]
    },
    {
     "name": "stderr",
     "output_type": "stream",
     "text": [
      "2024-04-25 18:27:53 (INFO): Iteration    Objective       Primal Inf.    Dual Inf.      Time\n"
     ]
    },
    {
     "name": "stdout",
     "output_type": "stream",
     "text": [
      "   19182   -2.4320999e+00   1.018203e+00   0.000000e+00      5s\n"
     ]
    },
    {
     "name": "stderr",
     "output_type": "stream",
     "text": [
      "2024-04-25 18:27:53 (INFO):    19182   -2.4320999e+00   1.018203e+00   0.000000e+00      5s\n"
     ]
    },
    {
     "name": "stdout",
     "output_type": "stream",
     "text": [
      "   19751   -2.1306820e+00   0.000000e+00   0.000000e+00      6s\n"
     ]
    },
    {
     "name": "stderr",
     "output_type": "stream",
     "text": [
      "2024-04-25 18:27:54 (INFO):    19751   -2.1306820e+00   0.000000e+00   0.000000e+00      6s\n"
     ]
    },
    {
     "name": "stdout",
     "output_type": "stream",
     "text": [
      "   20488   -2.1306820e+00   0.000000e+00   0.000000e+00      7s\n"
     ]
    },
    {
     "name": "stderr",
     "output_type": "stream",
     "text": [
      "2024-04-25 18:27:55 (INFO):    20488   -2.1306820e+00   0.000000e+00   0.000000e+00      7s\n"
     ]
    },
    {
     "name": "stdout",
     "output_type": "stream",
     "text": [
      "Extra simplex iterations after uncrush: 737\n"
     ]
    },
    {
     "name": "stderr",
     "output_type": "stream",
     "text": [
      "2024-04-25 18:27:55 (INFO): Extra simplex iterations after uncrush: 737\n"
     ]
    },
    {
     "name": "stdout",
     "output_type": "stream",
     "text": [
      "\n"
     ]
    },
    {
     "name": "stderr",
     "output_type": "stream",
     "text": [
      "2024-04-25 18:27:55 (INFO): \n"
     ]
    },
    {
     "name": "stdout",
     "output_type": "stream",
     "text": [
      "Root relaxation: objective -2.130682e+00, 20488 iterations, 6.42 seconds (6.48 work units)\n"
     ]
    },
    {
     "name": "stderr",
     "output_type": "stream",
     "text": [
      "2024-04-25 18:27:55 (INFO): Root relaxation: objective -2.130682e+00, 20488 iterations, 6.42 seconds (6.48 work units)\n"
     ]
    },
    {
     "name": "stdout",
     "output_type": "stream",
     "text": [
      "\n"
     ]
    },
    {
     "name": "stderr",
     "output_type": "stream",
     "text": [
      "2024-04-25 18:27:56 (INFO): \n"
     ]
    },
    {
     "name": "stdout",
     "output_type": "stream",
     "text": [
      "    Nodes    |    Current Node    |     Objective Bounds      |     Work\n"
     ]
    },
    {
     "name": "stderr",
     "output_type": "stream",
     "text": [
      "2024-04-25 18:27:56 (INFO):     Nodes    |    Current Node    |     Objective Bounds      |     Work\n"
     ]
    },
    {
     "name": "stdout",
     "output_type": "stream",
     "text": [
      " Expl Unexpl |  Obj  Depth IntInf | Incumbent    BestBd   Gap | It/Node Time\n"
     ]
    },
    {
     "name": "stderr",
     "output_type": "stream",
     "text": [
      "2024-04-25 18:27:56 (INFO):  Expl Unexpl |  Obj  Depth IntInf | Incumbent    BestBd   Gap | It/Node Time\n"
     ]
    },
    {
     "name": "stdout",
     "output_type": "stream",
     "text": [
      "\n"
     ]
    },
    {
     "name": "stderr",
     "output_type": "stream",
     "text": [
      "2024-04-25 18:27:56 (INFO): \n"
     ]
    },
    {
     "name": "stdout",
     "output_type": "stream",
     "text": [
      "     0     0   -2.13068    0  120   -1.34264   -2.13068  58.7%     -    7s\n"
     ]
    },
    {
     "name": "stderr",
     "output_type": "stream",
     "text": [
      "2024-04-25 18:27:56 (INFO):      0     0   -2.13068    0  120   -1.34264   -2.13068  58.7%     -    7s\n"
     ]
    },
    {
     "name": "stdout",
     "output_type": "stream",
     "text": [
      "     0     2   -2.11246    0  120   -1.34264   -2.11246  57.3%     -   12s\n"
     ]
    },
    {
     "name": "stderr",
     "output_type": "stream",
     "text": [
      "2024-04-25 18:28:01 (INFO):      0     2   -2.11246    0  120   -1.34264   -2.11246  57.3%     -   12s\n"
     ]
    },
    {
     "name": "stdout",
     "output_type": "stream",
     "text": [
      "     1     3   -2.11246    1  119   -1.34264   -2.11246  57.3%  10.0   20s\n"
     ]
    },
    {
     "name": "stderr",
     "output_type": "stream",
     "text": [
      "2024-04-25 18:28:09 (INFO):      1     3   -2.11246    1  119   -1.34264   -2.11246  57.3%  10.0   20s\n"
     ]
    },
    {
     "name": "stdout",
     "output_type": "stream",
     "text": [
      "     3     5   -2.09668    2  118   -1.34264   -2.09668  56.2%  3038   27s\n"
     ]
    },
    {
     "name": "stderr",
     "output_type": "stream",
     "text": [
      "2024-04-25 18:28:16 (INFO):      3     5   -2.09668    2  118   -1.34264   -2.09668  56.2%  3038   27s\n"
     ]
    },
    {
     "name": "stdout",
     "output_type": "stream",
     "text": [
      "     6     4   -1.94673    3  116   -1.34264   -1.94673  45.0%  3032   32s\n"
     ]
    },
    {
     "name": "stderr",
     "output_type": "stream",
     "text": [
      "2024-04-25 18:28:21 (INFO):      6     4   -1.94673    3  116   -1.34264   -1.94673  45.0%  3032   32s\n"
     ]
    },
    {
     "name": "stdout",
     "output_type": "stream",
     "text": [
      "    11     6   -1.93874    4  115   -1.34264   -1.93874  44.4%  3228   35s\n"
     ]
    },
    {
     "name": "stderr",
     "output_type": "stream",
     "text": [
      "2024-04-25 18:28:24 (INFO):     11     6   -1.93874    4  115   -1.34264   -1.93874  44.4%  3228   35s\n"
     ]
    },
    {
     "name": "stdout",
     "output_type": "stream",
     "text": [
      "    15     6   -1.92967    5  113   -1.34264   -1.92967  43.7%  2971   45s\n"
     ]
    },
    {
     "name": "stderr",
     "output_type": "stream",
     "text": [
      "2024-04-25 18:28:34 (INFO):     15     6   -1.92967    5  113   -1.34264   -1.92967  43.7%  2971   45s\n"
     ]
    },
    {
     "name": "stdout",
     "output_type": "stream",
     "text": [
      "    21     8   -1.90416    6  112   -1.34264   -1.90416  41.8%  3575   50s\n"
     ]
    },
    {
     "name": "stderr",
     "output_type": "stream",
     "text": [
      "2024-04-25 18:28:39 (INFO):     21     8   -1.90416    6  112   -1.34264   -1.90416  41.8%  3575   50s\n"
     ]
    },
    {
     "name": "stdout",
     "output_type": "stream",
     "text": [
      "    27     8   -1.88448    7  110   -1.34264   -1.88448  40.4%  3486   59s\n"
     ]
    },
    {
     "name": "stderr",
     "output_type": "stream",
     "text": [
      "2024-04-25 18:28:48 (INFO):     27     8   -1.88448    7  110   -1.34264   -1.88448  40.4%  3486   59s\n"
     ]
    },
    {
     "name": "stdout",
     "output_type": "stream",
     "text": [
      "    35    12   -1.86432    8  111   -1.34264   -1.86432  38.9%  4125   86s\n"
     ]
    },
    {
     "name": "stderr",
     "output_type": "stream",
     "text": [
      "2024-04-25 18:29:15 (INFO):     35    12   -1.86432    8  111   -1.34264   -1.86432  38.9%  4125   86s\n"
     ]
    },
    {
     "name": "stdout",
     "output_type": "stream",
     "text": [
      "    43    18   -1.85200    9  111   -1.34264   -1.85200  37.9%  5681   90s\n"
     ]
    },
    {
     "name": "stderr",
     "output_type": "stream",
     "text": [
      "2024-04-25 18:29:19 (INFO):     43    18   -1.85200    9  111   -1.34264   -1.85200  37.9%  5681   90s\n"
     ]
    },
    {
     "name": "stdout",
     "output_type": "stream",
     "text": [
      "    55    23   -1.83542   10  112   -1.34264   -1.83542  36.7%  4914   96s\n"
     ]
    },
    {
     "name": "stderr",
     "output_type": "stream",
     "text": [
      "2024-04-25 18:29:25 (INFO):     55    23   -1.83542   10  112   -1.34264   -1.83542  36.7%  4914   96s\n"
     ]
    },
    {
     "name": "stdout",
     "output_type": "stream",
     "text": [
      "    73    35   -1.81557   11  108   -1.34264   -1.81557  35.2%  4527  105s\n"
     ]
    },
    {
     "name": "stderr",
     "output_type": "stream",
     "text": [
      "2024-04-25 18:29:34 (INFO):     73    35   -1.81557   11  108   -1.34264   -1.81557  35.2%  4527  105s\n"
     ]
    },
    {
     "name": "stdout",
     "output_type": "stream",
     "text": [
      "    93    49   -1.79865   12  108   -1.34264   -1.79865  34.0%  4268  110s\n"
     ]
    },
    {
     "name": "stderr",
     "output_type": "stream",
     "text": [
      "2024-04-25 18:29:39 (INFO):     93    49   -1.79865   12  108   -1.34264   -1.79865  34.0%  4268  110s\n"
     ]
    },
    {
     "name": "stdout",
     "output_type": "stream",
     "text": [
      "   113    69   -1.78039   13  104   -1.34264   -1.78039  32.6%  3912  118s\n"
     ]
    },
    {
     "name": "stderr",
     "output_type": "stream",
     "text": [
      "2024-04-25 18:29:47 (INFO):    113    69   -1.78039   13  104   -1.34264   -1.78039  32.6%  3912  118s\n"
     ]
    },
    {
     "name": "stdout",
     "output_type": "stream",
     "text": [
      "H  137    81                      -1.3496512   -1.76802  31.0%  3560  128s\n"
     ]
    },
    {
     "name": "stderr",
     "output_type": "stream",
     "text": [
      "2024-04-25 18:29:57 (INFO): H  137    81                      -1.3496512   -1.76802  31.0%  3560  128s\n"
     ]
    },
    {
     "name": "stdout",
     "output_type": "stream",
     "text": [
      "H  141    81                      -1.3499492   -1.75326  29.9%  3536  128s\n"
     ]
    },
    {
     "name": "stderr",
     "output_type": "stream",
     "text": [
      "2024-04-25 18:29:57 (INFO): H  141    81                      -1.3499492   -1.75326  29.9%  3536  128s\n"
     ]
    },
    {
     "name": "stdout",
     "output_type": "stream",
     "text": [
      "H  142    81                      -1.3512583   -1.75326  29.8%  3517  128s\n"
     ]
    },
    {
     "name": "stderr",
     "output_type": "stream",
     "text": [
      "2024-04-25 18:29:57 (INFO): H  142    81                      -1.3512583   -1.75326  29.8%  3517  128s\n"
     ]
    },
    {
     "name": "stdout",
     "output_type": "stream",
     "text": [
      "   157    95   -1.74557   15  102   -1.35126   -1.74557  29.2%  3463  134s\n"
     ]
    },
    {
     "name": "stderr",
     "output_type": "stream",
     "text": [
      "2024-04-25 18:30:03 (INFO):    157    95   -1.74557   15  102   -1.35126   -1.74557  29.2%  3463  134s\n"
     ]
    },
    {
     "name": "stdout",
     "output_type": "stream",
     "text": [
      "H  182   106                      -1.3528484   -1.73783  28.5%  3217  143s\n"
     ]
    },
    {
     "name": "stderr",
     "output_type": "stream",
     "text": [
      "2024-04-25 18:30:11 (INFO): H  182   106                      -1.3528484   -1.73783  28.5%  3217  143s\n"
     ]
    },
    {
     "name": "stdout",
     "output_type": "stream",
     "text": [
      "H  185   106                      -1.3528938   -1.72466  27.5%  3193  143s\n"
     ]
    },
    {
     "name": "stderr",
     "output_type": "stream",
     "text": [
      "2024-04-25 18:30:11 (INFO): H  185   106                      -1.3528938   -1.72466  27.5%  3193  143s\n"
     ]
    },
    {
     "name": "stdout",
     "output_type": "stream",
     "text": [
      "H  189   106                      -1.3536493   -1.72466  27.4%  3138  143s\n"
     ]
    },
    {
     "name": "stderr",
     "output_type": "stream",
     "text": [
      "2024-04-25 18:30:11 (INFO): H  189   106                      -1.3536493   -1.72466  27.4%  3138  143s\n"
     ]
    },
    {
     "name": "stdout",
     "output_type": "stream",
     "text": [
      "H  198   106                      -1.3538159   -1.72466  27.4%  3063  143s\n"
     ]
    },
    {
     "name": "stderr",
     "output_type": "stream",
     "text": [
      "2024-04-25 18:30:11 (INFO): H  198   106                      -1.3538159   -1.72466  27.4%  3063  143s\n"
     ]
    },
    {
     "name": "stdout",
     "output_type": "stream",
     "text": [
      "   205   111   -1.71710   17   99   -1.35382   -1.71710  26.8%  3062  150s\n"
     ]
    },
    {
     "name": "stderr",
     "output_type": "stream",
     "text": [
      "2024-04-25 18:30:19 (INFO):    205   111   -1.71710   17   99   -1.35382   -1.71710  26.8%  3062  150s\n"
     ]
    },
    {
     "name": "stdout",
     "output_type": "stream",
     "text": [
      "   225   122   -1.69782   18   97   -1.35382   -1.69782  25.4%  3008  160s\n"
     ]
    },
    {
     "name": "stderr",
     "output_type": "stream",
     "text": [
      "2024-04-25 18:30:29 (INFO):    225   122   -1.69782   18   97   -1.35382   -1.69782  25.4%  3008  160s\n"
     ]
    },
    {
     "name": "stdout",
     "output_type": "stream",
     "text": [
      "H  254   133                      -1.3539555   -1.68930  24.8%  2913  169s\n"
     ]
    },
    {
     "name": "stderr",
     "output_type": "stream",
     "text": [
      "2024-04-25 18:30:38 (INFO): H  254   133                      -1.3539555   -1.68930  24.8%  2913  169s\n"
     ]
    },
    {
     "name": "stdout",
     "output_type": "stream",
     "text": [
      "H  258   133                      -1.3539562   -1.67740  23.9%  2892  169s\n"
     ]
    },
    {
     "name": "stderr",
     "output_type": "stream",
     "text": [
      "2024-04-25 18:30:38 (INFO): H  258   133                      -1.3539562   -1.67740  23.9%  2892  169s\n"
     ]
    },
    {
     "name": "stdout",
     "output_type": "stream",
     "text": [
      "   279   137   -1.67740   20   95   -1.35396   -1.67740  23.9%  2839  175s\n"
     ]
    },
    {
     "name": "stderr",
     "output_type": "stream",
     "text": [
      "2024-04-25 18:30:44 (INFO):    279   137   -1.67740   20   95   -1.35396   -1.67740  23.9%  2839  175s\n"
     ]
    },
    {
     "name": "stdout",
     "output_type": "stream",
     "text": [
      "   301   158   -1.66817   21   94   -1.35396   -1.66817  23.2%  2797  182s\n"
     ]
    },
    {
     "name": "stderr",
     "output_type": "stream",
     "text": [
      "2024-04-25 18:30:51 (INFO):    301   158   -1.66817   21   94   -1.35396   -1.66817  23.2%  2797  182s\n"
     ]
    },
    {
     "name": "stdout",
     "output_type": "stream",
     "text": [
      "H  302   158                      -1.3592048   -1.66817  22.7%  2788  182s\n"
     ]
    },
    {
     "name": "stderr",
     "output_type": "stream",
     "text": [
      "2024-04-25 18:30:51 (INFO): H  302   158                      -1.3592048   -1.66817  22.7%  2788  182s\n"
     ]
    },
    {
     "name": "stdout",
     "output_type": "stream",
     "text": [
      "H  307   158                      -1.3593435   -1.63383  20.2%  2747  182s\n"
     ]
    },
    {
     "name": "stderr",
     "output_type": "stream",
     "text": [
      "2024-04-25 18:30:51 (INFO): H  307   158                      -1.3593435   -1.63383  20.2%  2747  182s\n"
     ]
    },
    {
     "name": "stdout",
     "output_type": "stream",
     "text": [
      "H  310   158                      -1.3593522   -1.63383  20.2%  2740  182s\n"
     ]
    },
    {
     "name": "stderr",
     "output_type": "stream",
     "text": [
      "2024-04-25 18:30:51 (INFO): H  310   158                      -1.3593522   -1.63383  20.2%  2740  182s\n"
     ]
    },
    {
     "name": "stdout",
     "output_type": "stream",
     "text": [
      "H  328   158                      -1.3614506   -1.63383  20.0%  2697  182s\n"
     ]
    },
    {
     "name": "stderr",
     "output_type": "stream",
     "text": [
      "2024-04-25 18:30:51 (INFO): H  328   158                      -1.3614506   -1.63383  20.0%  2697  182s\n"
     ]
    },
    {
     "name": "stdout",
     "output_type": "stream",
     "text": [
      "   336   155   -1.63383   25   89   -1.36145   -1.63383  20.0%  2672  190s\n"
     ]
    },
    {
     "name": "stderr",
     "output_type": "stream",
     "text": [
      "2024-04-25 18:30:59 (INFO):    336   155   -1.63383   25   89   -1.36145   -1.63383  20.0%  2672  190s\n"
     ]
    },
    {
     "name": "stdout",
     "output_type": "stream",
     "text": [
      "   362   157   -1.62564   26   87   -1.36145   -1.62564  19.4%  2630  204s\n"
     ]
    },
    {
     "name": "stderr",
     "output_type": "stream",
     "text": [
      "2024-04-25 18:31:13 (INFO):    362   157   -1.62564   26   87   -1.36145   -1.62564  19.4%  2630  204s\n"
     ]
    },
    {
     "name": "stdout",
     "output_type": "stream",
     "text": [
      "H  363   157                      -1.3623169   -1.61711  18.7%  2623  204s\n"
     ]
    },
    {
     "name": "stderr",
     "output_type": "stream",
     "text": [
      "2024-04-25 18:31:13 (INFO): H  363   157                      -1.3623169   -1.61711  18.7%  2623  204s\n"
     ]
    },
    {
     "name": "stdout",
     "output_type": "stream",
     "text": [
      "H  369   157                      -1.3627478   -1.61711  18.7%  2606  204s\n"
     ]
    },
    {
     "name": "stderr",
     "output_type": "stream",
     "text": [
      "2024-04-25 18:31:13 (INFO): H  369   157                      -1.3627478   -1.61711  18.7%  2606  204s\n"
     ]
    },
    {
     "name": "stdout",
     "output_type": "stream",
     "text": [
      "H  378   157                      -1.3630261   -1.61711  18.6%  2606  204s\n"
     ]
    },
    {
     "name": "stderr",
     "output_type": "stream",
     "text": [
      "2024-04-25 18:31:13 (INFO): H  378   157                      -1.3630261   -1.61711  18.6%  2606  204s\n"
     ]
    },
    {
     "name": "stdout",
     "output_type": "stream",
     "text": [
      "   382   174   -1.61711   27   86   -1.36303   -1.61711  18.6%  2594  210s\n"
     ]
    },
    {
     "name": "stderr",
     "output_type": "stream",
     "text": [
      "2024-04-25 18:31:18 (INFO):    382   174   -1.61711   27   86   -1.36303   -1.61711  18.6%  2594  210s\n"
     ]
    },
    {
     "name": "stdout",
     "output_type": "stream",
     "text": [
      "   423   195   -1.57597   31   80   -1.36303   -1.57597  15.6%  2441  215s\n"
     ]
    },
    {
     "name": "stderr",
     "output_type": "stream",
     "text": [
      "2024-04-25 18:31:24 (INFO):    423   195   -1.57597   31   80   -1.36303   -1.57597  15.6%  2441  215s\n"
     ]
    },
    {
     "name": "stdout",
     "output_type": "stream",
     "text": [
      "   464   209   -1.52547   35   73   -1.36303   -1.52888  12.2%  2305  220s\n"
     ]
    },
    {
     "name": "stderr",
     "output_type": "stream",
     "text": [
      "2024-04-25 18:31:29 (INFO):    464   209   -1.52547   35   73   -1.36303   -1.52888  12.2%  2305  220s\n"
     ]
    },
    {
     "name": "stdout",
     "output_type": "stream",
     "text": [
      "   520   218 infeasible   36        -1.36303   -1.50979  10.8%  2167  226s\n"
     ]
    },
    {
     "name": "stderr",
     "output_type": "stream",
     "text": [
      "2024-04-25 18:31:35 (INFO):    520   218 infeasible   36        -1.36303   -1.50979  10.8%  2167  226s\n"
     ]
    },
    {
     "name": "stdout",
     "output_type": "stream",
     "text": [
      "H  548   218                      -1.3653916   -1.50150  10.0%  2100  226s\n"
     ]
    },
    {
     "name": "stderr",
     "output_type": "stream",
     "text": [
      "2024-04-25 18:31:35 (INFO): H  548   218                      -1.3653916   -1.50150  10.0%  2100  226s\n"
     ]
    },
    {
     "name": "stdout",
     "output_type": "stream",
     "text": [
      "   575   227   -1.45529   36   51   -1.36539   -1.49891  9.78%  2042  232s\n"
     ]
    },
    {
     "name": "stderr",
     "output_type": "stream",
     "text": [
      "2024-04-25 18:31:41 (INFO):    575   227   -1.45529   36   51   -1.36539   -1.49891  9.78%  2042  232s\n"
     ]
    },
    {
     "name": "stdout",
     "output_type": "stream",
     "text": [
      "   638   238   -1.45357   40   50   -1.36539   -1.48161  8.51%  1936  283s\n"
     ]
    },
    {
     "name": "stderr",
     "output_type": "stream",
     "text": [
      "2024-04-25 18:32:31 (INFO):    638   238   -1.45357   40   50   -1.36539   -1.48161  8.51%  1936  283s\n"
     ]
    },
    {
     "name": "stdout",
     "output_type": "stream",
     "text": [
      "   661   266   -1.37855   33   48   -1.36539   -1.46580  7.35%  1932  290s\n"
     ]
    },
    {
     "name": "stderr",
     "output_type": "stream",
     "text": [
      "2024-04-25 18:32:39 (INFO):    661   266   -1.37855   33   48   -1.36539   -1.46580  7.35%  1932  290s\n"
     ]
    },
    {
     "name": "stdout",
     "output_type": "stream",
     "text": [
      "   717   313 infeasible   20        -1.36539   -1.46398  7.22%  1881  300s\n"
     ]
    },
    {
     "name": "stderr",
     "output_type": "stream",
     "text": [
      "2024-04-25 18:32:48 (INFO):    717   313 infeasible   20        -1.36539   -1.46398  7.22%  1881  300s\n"
     ]
    },
    {
     "name": "stdout",
     "output_type": "stream",
     "text": [
      "   788   342   -1.42577   22   57   -1.36539   -1.45894  6.85%  1809  309s\n"
     ]
    },
    {
     "name": "stderr",
     "output_type": "stream",
     "text": [
      "2024-04-25 18:32:58 (INFO):    788   342   -1.42577   22   57   -1.36539   -1.45894  6.85%  1809  309s\n"
     ]
    },
    {
     "name": "stdout",
     "output_type": "stream",
     "text": [
      "   851   377   -1.42344   38   51   -1.36539   -1.45558  6.61%  1769  316s\n"
     ]
    },
    {
     "name": "stderr",
     "output_type": "stream",
     "text": [
      "2024-04-25 18:33:05 (INFO):    851   377   -1.42344   38   51   -1.36539   -1.45558  6.61%  1769  316s\n"
     ]
    },
    {
     "name": "stdout",
     "output_type": "stream",
     "text": [
      "   924   445 infeasible   40        -1.36539   -1.45306  6.42%  1732  325s\n"
     ]
    },
    {
     "name": "stderr",
     "output_type": "stream",
     "text": [
      "2024-04-25 18:33:14 (INFO):    924   445 infeasible   40        -1.36539   -1.45306  6.42%  1732  325s\n"
     ]
    },
    {
     "name": "stdout",
     "output_type": "stream",
     "text": [
      "  1020   499 infeasible   20        -1.36539   -1.45121  6.29%  1669  333s\n"
     ]
    },
    {
     "name": "stderr",
     "output_type": "stream",
     "text": [
      "2024-04-25 18:33:22 (INFO):   1020   499 infeasible   20        -1.36539   -1.45121  6.29%  1669  333s\n"
     ]
    },
    {
     "name": "stdout",
     "output_type": "stream",
     "text": [
      "  1108   529   -1.43766   32   52   -1.36539   -1.44788  6.04%  1624  343s\n"
     ]
    },
    {
     "name": "stderr",
     "output_type": "stream",
     "text": [
      "2024-04-25 18:33:32 (INFO):   1108   529   -1.43766   32   52   -1.36539   -1.44788  6.04%  1624  343s\n"
     ]
    },
    {
     "name": "stdout",
     "output_type": "stream",
     "text": [
      "  1181   594   -1.44484   34   52   -1.36539   -1.44484  5.82%  1615  352s\n"
     ]
    },
    {
     "name": "stderr",
     "output_type": "stream",
     "text": [
      "2024-04-25 18:33:41 (INFO):   1181   594   -1.44484   34   52   -1.36539   -1.44484  5.82%  1615  352s\n"
     ]
    },
    {
     "name": "stdout",
     "output_type": "stream",
     "text": [
      "  1282   652   -1.40627   16   59   -1.36539   -1.44257  5.65%  1570  362s\n"
     ]
    },
    {
     "name": "stderr",
     "output_type": "stream",
     "text": [
      "2024-04-25 18:33:51 (INFO):   1282   652   -1.40627   16   59   -1.36539   -1.44257  5.65%  1570  362s\n"
     ]
    },
    {
     "name": "stdout",
     "output_type": "stream",
     "text": [
      "  1394   655 infeasible   19        -1.36539   -1.44046  5.50%  1533  384s\n"
     ]
    },
    {
     "name": "stderr",
     "output_type": "stream",
     "text": [
      "2024-04-25 18:34:12 (INFO):   1394   655 infeasible   19        -1.36539   -1.44046  5.50%  1533  384s\n"
     ]
    },
    {
     "name": "stdout",
     "output_type": "stream",
     "text": [
      "  1425   712   -1.37422   20   55   -1.36539   -1.43860  5.36%  1547  391s\n"
     ]
    },
    {
     "name": "stderr",
     "output_type": "stream",
     "text": [
      "2024-04-25 18:34:20 (INFO):   1425   712   -1.37422   20   55   -1.36539   -1.43860  5.36%  1547  391s\n"
     ]
    },
    {
     "name": "stdout",
     "output_type": "stream",
     "text": [
      "  1535   774   -1.43692   37   50   -1.36539   -1.43692  5.24%  1517  402s\n"
     ]
    },
    {
     "name": "stderr",
     "output_type": "stream",
     "text": [
      "2024-04-25 18:34:31 (INFO):   1535   774   -1.43692   37   50   -1.36539   -1.43692  5.24%  1517  402s\n"
     ]
    },
    {
     "name": "stdout",
     "output_type": "stream",
     "text": [
      "  1645   785 infeasible   27        -1.36539   -1.43527  5.12%  1491  424s\n"
     ]
    },
    {
     "name": "stderr",
     "output_type": "stream",
     "text": [
      "2024-04-25 18:34:53 (INFO):   1645   785 infeasible   27        -1.36539   -1.43527  5.12%  1491  424s\n"
     ]
    },
    {
     "name": "stdout",
     "output_type": "stream",
     "text": [
      "  1674   872   -1.38671   21   54   -1.36539   -1.43362  5.00%  1492  434s\n"
     ]
    },
    {
     "name": "stderr",
     "output_type": "stream",
     "text": [
      "2024-04-25 18:35:03 (INFO):   1674   872   -1.38671   21   54   -1.36539   -1.43362  5.00%  1492  434s\n"
     ]
    },
    {
     "name": "stdout",
     "output_type": "stream",
     "text": [
      "  1830   946   -1.43227   30   65   -1.36539   -1.43227  4.90%  1439  442s\n"
     ]
    },
    {
     "name": "stderr",
     "output_type": "stream",
     "text": [
      "2024-04-25 18:35:11 (INFO):   1830   946   -1.43227   30   65   -1.36539   -1.43227  4.90%  1439  442s\n"
     ]
    },
    {
     "name": "stdout",
     "output_type": "stream",
     "text": [
      "  1979  1031   -1.41411   36   40   -1.36539   -1.43054  4.77%  1407  453s\n"
     ]
    },
    {
     "name": "stderr",
     "output_type": "stream",
     "text": [
      "2024-04-25 18:35:22 (INFO):   1979  1031   -1.41411   36   40   -1.36539   -1.43054  4.77%  1407  453s\n"
     ]
    },
    {
     "name": "stdout",
     "output_type": "stream",
     "text": [
      "  2150  1129 infeasible   42        -1.36539   -1.42874  4.64%  1375  465s\n"
     ]
    },
    {
     "name": "stderr",
     "output_type": "stream",
     "text": [
      "2024-04-25 18:35:34 (INFO):   2150  1129 infeasible   42        -1.36539   -1.42874  4.64%  1375  465s\n"
     ]
    },
    {
     "name": "stdout",
     "output_type": "stream",
     "text": [
      "  2317  1233 infeasible   37        -1.36539   -1.42656  4.48%  1346  475s\n"
     ]
    },
    {
     "name": "stderr",
     "output_type": "stream",
     "text": [
      "2024-04-25 18:35:44 (INFO):   2317  1233 infeasible   37        -1.36539   -1.42656  4.48%  1346  475s\n"
     ]
    },
    {
     "name": "stdout",
     "output_type": "stream",
     "text": [
      "  2490  1319   -1.40463   41   41   -1.36539   -1.42542  4.40%  1318  486s\n"
     ]
    },
    {
     "name": "stderr",
     "output_type": "stream",
     "text": [
      "2024-04-25 18:35:55 (INFO):   2490  1319   -1.40463   41   41   -1.36539   -1.42542  4.40%  1318  486s\n"
     ]
    },
    {
     "name": "stdout",
     "output_type": "stream",
     "text": [
      "  2656  1407   -1.42433   37   39   -1.36539   -1.42433  4.32%  1307  497s\n"
     ]
    },
    {
     "name": "stderr",
     "output_type": "stream",
     "text": [
      "2024-04-25 18:36:06 (INFO):   2656  1407   -1.42433   37   39   -1.36539   -1.42433  4.32%  1307  497s\n"
     ]
    },
    {
     "name": "stdout",
     "output_type": "stream",
     "text": [
      "  2846  1523   -1.41830   22   45   -1.36539   -1.42283  4.21%  1283  531s\n"
     ]
    },
    {
     "name": "stderr",
     "output_type": "stream",
     "text": [
      "2024-04-25 18:36:40 (INFO):   2846  1523   -1.41830   22   45   -1.36539   -1.42283  4.21%  1283  531s\n"
     ]
    },
    {
     "name": "stdout",
     "output_type": "stream",
     "text": [
      "  3046  1625   -1.39459   15   61   -1.36539   -1.42209  4.15%  1267  543s\n"
     ]
    },
    {
     "name": "stderr",
     "output_type": "stream",
     "text": [
      "2024-04-25 18:36:52 (INFO):   3046  1625   -1.39459   15   61   -1.36539   -1.42209  4.15%  1267  543s\n"
     ]
    },
    {
     "name": "stdout",
     "output_type": "stream",
     "text": [
      "  3239  1740   -1.39864   36   39   -1.36539   -1.42077  4.06%  1257  556s\n"
     ]
    },
    {
     "name": "stderr",
     "output_type": "stream",
     "text": [
      "2024-04-25 18:37:05 (INFO):   3239  1740   -1.39864   36   39   -1.36539   -1.42077  4.06%  1257  556s\n"
     ]
    },
    {
     "name": "stdout",
     "output_type": "stream",
     "text": [
      "  3474  1805   -1.40372   21   55   -1.36539   -1.41952  3.96%  1236  567s\n"
     ]
    },
    {
     "name": "stderr",
     "output_type": "stream",
     "text": [
      "2024-04-25 18:37:16 (INFO):   3474  1805   -1.40372   21   55   -1.36539   -1.41952  3.96%  1236  567s\n"
     ]
    },
    {
     "name": "stdout",
     "output_type": "stream",
     "text": [
      "  3655  1958 infeasible   38        -1.36539   -1.41838  3.88%  1234  580s\n"
     ]
    },
    {
     "name": "stderr",
     "output_type": "stream",
     "text": [
      "2024-04-25 18:37:29 (INFO):   3655  1958 infeasible   38        -1.36539   -1.41838  3.88%  1234  580s\n"
     ]
    },
    {
     "name": "stdout",
     "output_type": "stream",
     "text": [
      "  3914  2113   -1.41699   21   56   -1.36539   -1.41701  3.78%  1207  594s\n"
     ]
    },
    {
     "name": "stderr",
     "output_type": "stream",
     "text": [
      "2024-04-25 18:37:43 (INFO):   3914  2113   -1.41699   21   56   -1.36539   -1.41701  3.78%  1207  594s\n"
     ]
    },
    {
     "name": "stdout",
     "output_type": "stream",
     "text": [
      "  4182  2273   -1.41604   38   38   -1.36539   -1.41604  3.71%  1184  608s\n"
     ]
    },
    {
     "name": "stderr",
     "output_type": "stream",
     "text": [
      "2024-04-25 18:37:57 (INFO):   4182  2273   -1.41604   38   38   -1.36539   -1.41604  3.71%  1184  608s\n"
     ]
    },
    {
     "name": "stdout",
     "output_type": "stream",
     "text": [
      "  4471  2465   -1.39926   21   53   -1.36539   -1.41444  3.59%  1163  632s\n"
     ]
    },
    {
     "name": "stderr",
     "output_type": "stream",
     "text": [
      "2024-04-25 18:38:20 (INFO):   4471  2465   -1.39926   21   53   -1.36539   -1.41444  3.59%  1163  632s\n"
     ]
    },
    {
     "name": "stdout",
     "output_type": "stream",
     "text": [
      "  4778  2649   -1.41321   42   44   -1.36539   -1.41321  3.50%  1138  646s\n"
     ]
    },
    {
     "name": "stderr",
     "output_type": "stream",
     "text": [
      "2024-04-25 18:38:35 (INFO):   4778  2649   -1.41321   42   44   -1.36539   -1.41321  3.50%  1138  646s\n"
     ]
    },
    {
     "name": "stdout",
     "output_type": "stream",
     "text": [
      "  5118  2821   -1.40803   41   39   -1.36539   -1.41220  3.43%  1114  660s\n"
     ]
    },
    {
     "name": "stderr",
     "output_type": "stream",
     "text": [
      "2024-04-25 18:38:49 (INFO):   5118  2821   -1.40803   41   39   -1.36539   -1.41220  3.43%  1114  660s\n"
     ]
    },
    {
     "name": "stdout",
     "output_type": "stream",
     "text": [
      "  5403  2981 infeasible   30        -1.36539   -1.41105  3.34%  1102  704s\n"
     ]
    },
    {
     "name": "stderr",
     "output_type": "stream",
     "text": [
      "2024-04-25 18:39:33 (INFO):   5403  2981 infeasible   30        -1.36539   -1.41105  3.34%  1102  704s\n"
     ]
    },
    {
     "name": "stdout",
     "output_type": "stream",
     "text": [
      "  5736  3156 infeasible   46        -1.36539   -1.40967  3.24%  1088  724s\n"
     ]
    },
    {
     "name": "stderr",
     "output_type": "stream",
     "text": [
      "2024-04-25 18:39:53 (INFO):   5736  3156 infeasible   46        -1.36539   -1.40967  3.24%  1088  724s\n"
     ]
    },
    {
     "name": "stdout",
     "output_type": "stream",
     "text": [
      "  6047  3386   -1.40882   24   47   -1.36539   -1.40882  3.18%  1078  746s\n"
     ]
    },
    {
     "name": "stderr",
     "output_type": "stream",
     "text": [
      "2024-04-25 18:40:14 (INFO):   6047  3386   -1.40882   24   47   -1.36539   -1.40882  3.18%  1078  746s\n"
     ]
    },
    {
     "name": "stdout",
     "output_type": "stream",
     "text": [
      "  6445  3387   -1.39901   47  120   -1.36539   -1.40770  3.10%  1058 1010s\n"
     ]
    },
    {
     "name": "stderr",
     "output_type": "stream",
     "text": [
      "2024-04-25 18:44:39 (INFO):   6445  3387   -1.39901   47  120   -1.36539   -1.40770  3.10%  1058 1010s\n"
     ]
    },
    {
     "name": "stdout",
     "output_type": "stream",
     "text": [
      "  6447  3388   -1.40071   39  119   -1.36539   -1.40770  3.10%  1058 1027s\n"
     ]
    },
    {
     "name": "stderr",
     "output_type": "stream",
     "text": [
      "2024-04-25 18:44:56 (INFO):   6447  3388   -1.40071   39  119   -1.36539   -1.40770  3.10%  1058 1027s\n"
     ]
    },
    {
     "name": "stdout",
     "output_type": "stream",
     "text": [
      "  6448  3389   -1.39357   26  119   -1.36539   -1.40770  3.10%  1058 1030s\n"
     ]
    },
    {
     "name": "stderr",
     "output_type": "stream",
     "text": [
      "2024-04-25 18:44:59 (INFO):   6448  3389   -1.39357   26  119   -1.36539   -1.40770  3.10%  1058 1030s\n"
     ]
    },
    {
     "name": "stdout",
     "output_type": "stream",
     "text": [
      "  6449  3391   -1.40770   16  118   -1.36539   -1.40770  3.10%  1061 1039s\n"
     ]
    },
    {
     "name": "stderr",
     "output_type": "stream",
     "text": [
      "2024-04-25 18:45:08 (INFO):   6449  3391   -1.40770   16  118   -1.36539   -1.40770  3.10%  1061 1039s\n"
     ]
    },
    {
     "name": "stdout",
     "output_type": "stream",
     "text": [
      "  6451  3390   -1.40770   17  117   -1.36539   -1.40770  3.10%  1062 1049s\n"
     ]
    },
    {
     "name": "stderr",
     "output_type": "stream",
     "text": [
      "2024-04-25 18:45:18 (INFO):   6451  3390   -1.40770   17  117   -1.36539   -1.40770  3.10%  1062 1049s\n"
     ]
    },
    {
     "name": "stdout",
     "output_type": "stream",
     "text": [
      "  6453  3391   -1.40770   18  116   -1.36539   -1.40770  3.10%  1065 1053s\n"
     ]
    },
    {
     "name": "stderr",
     "output_type": "stream",
     "text": [
      "2024-04-25 18:45:22 (INFO):   6453  3391   -1.40770   18  116   -1.36539   -1.40770  3.10%  1065 1053s\n"
     ]
    },
    {
     "name": "stdout",
     "output_type": "stream",
     "text": [
      "  6455  3395   -1.40770   19  114   -1.36539   -1.40770  3.10%  1065 1059s\n"
     ]
    },
    {
     "name": "stderr",
     "output_type": "stream",
     "text": [
      "2024-04-25 18:45:28 (INFO):   6455  3395   -1.40770   19  114   -1.36539   -1.40770  3.10%  1065 1059s\n"
     ]
    },
    {
     "name": "stdout",
     "output_type": "stream",
     "text": [
      "  6459  3395   -1.40770   20  115   -1.36539   -1.40770  3.10%  1066 1064s\n"
     ]
    },
    {
     "name": "stderr",
     "output_type": "stream",
     "text": [
      "2024-04-25 18:45:33 (INFO):   6459  3395   -1.40770   20  115   -1.36539   -1.40770  3.10%  1066 1064s\n"
     ]
    },
    {
     "name": "stdout",
     "output_type": "stream",
     "text": [
      "  6467  3395   -1.40770   21  113   -1.36539   -1.40770  3.10%  1068 1070s\n"
     ]
    },
    {
     "name": "stderr",
     "output_type": "stream",
     "text": [
      "2024-04-25 18:45:39 (INFO):   6467  3395   -1.40770   21  113   -1.36539   -1.40770  3.10%  1068 1070s\n"
     ]
    },
    {
     "name": "stdout",
     "output_type": "stream",
     "text": [
      "  6477  3395   -1.40770   22  110   -1.36539   -1.40770  3.10%  1070 1082s\n"
     ]
    },
    {
     "name": "stderr",
     "output_type": "stream",
     "text": [
      "2024-04-25 18:45:51 (INFO):   6477  3395   -1.40770   22  110   -1.36539   -1.40770  3.10%  1070 1082s\n"
     ]
    },
    {
     "name": "stdout",
     "output_type": "stream",
     "text": [
      "\n",
      "Interrupt request received\n",
      "  6489  3399   -1.40770   23  109   -1.36539   -1.40770  3.10%  1075 1089s\n"
     ]
    },
    {
     "name": "stderr",
     "output_type": "stream",
     "text": [
      "2024-04-25 18:45:58 (INFO):   6489  3399   -1.40770   23  109   -1.36539   -1.40770  3.10%  1075 1089s\n"
     ]
    },
    {
     "name": "stdout",
     "output_type": "stream",
     "text": [
      "\n"
     ]
    },
    {
     "name": "stderr",
     "output_type": "stream",
     "text": [
      "2024-04-25 18:45:58 (INFO): \n"
     ]
    },
    {
     "name": "stdout",
     "output_type": "stream",
     "text": [
      "Cutting planes:\n"
     ]
    },
    {
     "name": "stderr",
     "output_type": "stream",
     "text": [
      "2024-04-25 18:45:58 (INFO): Cutting planes:\n"
     ]
    },
    {
     "name": "stdout",
     "output_type": "stream",
     "text": [
      "  Implied bound: 1\n"
     ]
    },
    {
     "name": "stderr",
     "output_type": "stream",
     "text": [
      "2024-04-25 18:45:58 (INFO):   Implied bound: 1\n"
     ]
    },
    {
     "name": "stdout",
     "output_type": "stream",
     "text": [
      "  Clique: 1\n"
     ]
    },
    {
     "name": "stderr",
     "output_type": "stream",
     "text": [
      "2024-04-25 18:45:58 (INFO):   Clique: 1\n"
     ]
    },
    {
     "name": "stdout",
     "output_type": "stream",
     "text": [
      "  MIR: 741\n"
     ]
    },
    {
     "name": "stderr",
     "output_type": "stream",
     "text": [
      "2024-04-25 18:45:58 (INFO):   MIR: 741\n"
     ]
    },
    {
     "name": "stdout",
     "output_type": "stream",
     "text": [
      "  Flow cover: 896\n"
     ]
    },
    {
     "name": "stderr",
     "output_type": "stream",
     "text": [
      "2024-04-25 18:45:58 (INFO):   Flow cover: 896\n"
     ]
    },
    {
     "name": "stdout",
     "output_type": "stream",
     "text": [
      "  Relax-and-lift: 36\n"
     ]
    },
    {
     "name": "stderr",
     "output_type": "stream",
     "text": [
      "2024-04-25 18:45:58 (INFO):   Relax-and-lift: 36\n"
     ]
    },
    {
     "name": "stdout",
     "output_type": "stream",
     "text": [
      "\n"
     ]
    },
    {
     "name": "stderr",
     "output_type": "stream",
     "text": [
      "2024-04-25 18:45:58 (INFO): \n"
     ]
    },
    {
     "name": "stdout",
     "output_type": "stream",
     "text": [
      "Explored 6504 nodes (7027940 simplex iterations) in 1089.72 seconds (1585.90 work units)\n"
     ]
    },
    {
     "name": "stderr",
     "output_type": "stream",
     "text": [
      "2024-04-25 18:45:58 (INFO): Explored 6504 nodes (7027940 simplex iterations) in 1089.72 seconds (1585.90 work units)\n"
     ]
    },
    {
     "name": "stdout",
     "output_type": "stream",
     "text": [
      "Thread count was 20 (of 20 available processors)\n"
     ]
    },
    {
     "name": "stderr",
     "output_type": "stream",
     "text": [
      "2024-04-25 18:45:58 (INFO): Thread count was 20 (of 20 available processors)\n"
     ]
    },
    {
     "name": "stdout",
     "output_type": "stream",
     "text": [
      "\n"
     ]
    },
    {
     "name": "stderr",
     "output_type": "stream",
     "text": [
      "2024-04-25 18:45:58 (INFO): \n"
     ]
    },
    {
     "name": "stdout",
     "output_type": "stream",
     "text": [
      "Solution count 9: -1.36539 -1.36303 -1.36275 ... -1.35396\n"
     ]
    },
    {
     "name": "stderr",
     "output_type": "stream",
     "text": [
      "2024-04-25 18:45:58 (INFO): Solution count 9: -1.36539 -1.36303 -1.36275 ... -1.35396\n"
     ]
    },
    {
     "name": "stdout",
     "output_type": "stream",
     "text": [
      "\n"
     ]
    },
    {
     "name": "stderr",
     "output_type": "stream",
     "text": [
      "2024-04-25 18:45:58 (INFO): \n"
     ]
    },
    {
     "name": "stdout",
     "output_type": "stream",
     "text": [
      "Solve interrupted\n"
     ]
    },
    {
     "name": "stderr",
     "output_type": "stream",
     "text": [
      "2024-04-25 18:45:58 (INFO): Solve interrupted\n"
     ]
    },
    {
     "name": "stdout",
     "output_type": "stream",
     "text": [
      "Best objective -1.365391639676e+00, best bound -1.407702664888e+00, gap 3.0988%\n"
     ]
    },
    {
     "name": "stderr",
     "output_type": "stream",
     "text": [
      "2024-04-25 18:45:58 (INFO): Best objective -1.365391639676e+00, best bound -1.407702664888e+00, gap 3.0988%\n"
     ]
    },
    {
     "name": "stdout",
     "output_type": "stream",
     "text": [
      "\n"
     ]
    },
    {
     "name": "stderr",
     "output_type": "stream",
     "text": [
      "2024-04-25 18:45:58 (INFO): \n"
     ]
    },
    {
     "name": "stdout",
     "output_type": "stream",
     "text": [
      "User-callback calls 312332, time in user-callback 2.63 sec\n"
     ]
    },
    {
     "name": "stderr",
     "output_type": "stream",
     "text": [
      "2024-04-25 18:45:58 (INFO): User-callback calls 312332, time in user-callback 2.63 sec\n",
      "2024-04-25 18:45:58 (INFO): Optimization status: 11\n",
      "2024-04-25 18:45:58 (INFO): Original -1.34259, Opt objective -1.36539, stop_obj: None\n"
     ]
    },
    {
     "name": "stdout",
     "output_type": "stream",
     "text": [
      "Warning for adding constraints: zero or small (< 1e-13) coefficients, ignored\n"
     ]
    },
    {
     "name": "stderr",
     "output_type": "stream",
     "text": [
      "2024-04-25 18:46:00 (INFO): Warning for adding constraints: zero or small (< 1e-13) coefficients, ignored\n"
     ]
    },
    {
     "name": "stdout",
     "output_type": "stream",
     "text": [
      "Set parameter BestObjStop to value -1.4077026648879083e+00\n"
     ]
    },
    {
     "name": "stderr",
     "output_type": "stream",
     "text": [
      "2024-04-25 18:46:00 (INFO): Set parameter BestObjStop to value -1.4077026648879083e+00\n"
     ]
    },
    {
     "name": "stdout",
     "output_type": "stream",
     "text": [
      "Set parameter IntegralityFocus to value 1\n"
     ]
    },
    {
     "name": "stderr",
     "output_type": "stream",
     "text": [
      "2024-04-25 18:46:00 (INFO): Set parameter IntegralityFocus to value 1\n"
     ]
    },
    {
     "name": "stdout",
     "output_type": "stream",
     "text": [
      "Set parameter IntFeasTol to value 0.0001\n"
     ]
    },
    {
     "name": "stderr",
     "output_type": "stream",
     "text": [
      "2024-04-25 18:46:00 (INFO): Set parameter IntFeasTol to value 0.0001\n"
     ]
    },
    {
     "name": "stdout",
     "output_type": "stream",
     "text": [
      "Set parameter DualReductions to value 0\n"
     ]
    },
    {
     "name": "stderr",
     "output_type": "stream",
     "text": [
      "2024-04-25 18:46:00 (INFO): Set parameter DualReductions to value 0\n"
     ]
    },
    {
     "name": "stdout",
     "output_type": "stream",
     "text": [
      "Set parameter FeasibilityTol to value 0.0001\n"
     ]
    },
    {
     "name": "stderr",
     "output_type": "stream",
     "text": [
      "2024-04-25 18:46:00 (INFO): Set parameter FeasibilityTol to value 0.0001\n"
     ]
    },
    {
     "name": "stdout",
     "output_type": "stream",
     "text": [
      "Set parameter OptimalityTol to value 0.0001\n"
     ]
    },
    {
     "name": "stderr",
     "output_type": "stream",
     "text": [
      "2024-04-25 18:46:00 (INFO): Set parameter OptimalityTol to value 0.0001\n"
     ]
    },
    {
     "name": "stdout",
     "output_type": "stream",
     "text": [
      "Set parameter NumericFocus to value 3\n"
     ]
    },
    {
     "name": "stderr",
     "output_type": "stream",
     "text": [
      "2024-04-25 18:46:00 (INFO): Set parameter NumericFocus to value 3\n"
     ]
    },
    {
     "name": "stdout",
     "output_type": "stream",
     "text": [
      "Set parameter TimeLimit to value 3600\n"
     ]
    },
    {
     "name": "stderr",
     "output_type": "stream",
     "text": [
      "2024-04-25 18:46:00 (INFO): Set parameter TimeLimit to value 3600\n"
     ]
    },
    {
     "name": "stdout",
     "output_type": "stream",
     "text": [
      "Set parameter MIPFocus to value 3\n"
     ]
    },
    {
     "name": "stderr",
     "output_type": "stream",
     "text": [
      "2024-04-25 18:46:00 (INFO): Set parameter MIPFocus to value 3\n"
     ]
    },
    {
     "name": "stdout",
     "output_type": "stream",
     "text": [
      "Gurobi Optimizer version 11.0.1 build v11.0.1rc0 (linux64 - \"Ubuntu 22.04.4 LTS\")\n"
     ]
    },
    {
     "name": "stderr",
     "output_type": "stream",
     "text": [
      "2024-04-25 18:46:00 (INFO): Gurobi Optimizer version 11.0.1 build v11.0.1rc0 (linux64 - \"Ubuntu 22.04.4 LTS\")\n"
     ]
    },
    {
     "name": "stdout",
     "output_type": "stream",
     "text": [
      "\n"
     ]
    },
    {
     "name": "stderr",
     "output_type": "stream",
     "text": [
      "2024-04-25 18:46:00 (INFO): \n"
     ]
    },
    {
     "name": "stdout",
     "output_type": "stream",
     "text": [
      "CPU model: Intel(R) Xeon(R) CPU E5-2630 v4 @ 2.20GHz, instruction set [SSE2|AVX|AVX2]\n"
     ]
    },
    {
     "name": "stderr",
     "output_type": "stream",
     "text": [
      "2024-04-25 18:46:00 (INFO): CPU model: Intel(R) Xeon(R) CPU E5-2630 v4 @ 2.20GHz, instruction set [SSE2|AVX|AVX2]\n"
     ]
    },
    {
     "name": "stdout",
     "output_type": "stream",
     "text": [
      "Thread count: 20 physical cores, 20 logical processors, using up to 20 threads\n"
     ]
    },
    {
     "name": "stderr",
     "output_type": "stream",
     "text": [
      "2024-04-25 18:46:00 (INFO): Thread count: 20 physical cores, 20 logical processors, using up to 20 threads\n"
     ]
    },
    {
     "name": "stdout",
     "output_type": "stream",
     "text": [
      "\n"
     ]
    },
    {
     "name": "stderr",
     "output_type": "stream",
     "text": [
      "2024-04-25 18:46:00 (INFO): \n"
     ]
    },
    {
     "name": "stdout",
     "output_type": "stream",
     "text": [
      "Optimize a model with 40180 rows, 20440 columns and 99940 nonzeros\n"
     ]
    },
    {
     "name": "stderr",
     "output_type": "stream",
     "text": [
      "2024-04-25 18:46:00 (INFO): Optimize a model with 40180 rows, 20440 columns and 99940 nonzeros\n"
     ]
    },
    {
     "name": "stdout",
     "output_type": "stream",
     "text": [
      "Model fingerprint: 0xac7f876c\n"
     ]
    },
    {
     "name": "stderr",
     "output_type": "stream",
     "text": [
      "2024-04-25 18:46:00 (INFO): Model fingerprint: 0xac7f876c\n"
     ]
    },
    {
     "name": "stdout",
     "output_type": "stream",
     "text": [
      "Variable types: 20160 continuous, 280 integer (280 binary)\n"
     ]
    },
    {
     "name": "stderr",
     "output_type": "stream",
     "text": [
      "2024-04-25 18:46:00 (INFO): Variable types: 20160 continuous, 280 integer (280 binary)\n"
     ]
    },
    {
     "name": "stdout",
     "output_type": "stream",
     "text": [
      "Coefficient statistics:\n"
     ]
    },
    {
     "name": "stderr",
     "output_type": "stream",
     "text": [
      "2024-04-25 18:46:00 (INFO): Coefficient statistics:\n"
     ]
    },
    {
     "name": "stdout",
     "output_type": "stream",
     "text": [
      "  Matrix range     [7e-03, 3e+01]\n"
     ]
    },
    {
     "name": "stderr",
     "output_type": "stream",
     "text": [
      "2024-04-25 18:46:00 (INFO):   Matrix range     [7e-03, 3e+01]\n"
     ]
    },
    {
     "name": "stdout",
     "output_type": "stream",
     "text": [
      "  Objective range  [1e+00, 1e+00]\n"
     ]
    },
    {
     "name": "stderr",
     "output_type": "stream",
     "text": [
      "2024-04-25 18:46:00 (INFO):   Objective range  [1e+00, 1e+00]\n"
     ]
    },
    {
     "name": "stdout",
     "output_type": "stream",
     "text": [
      "  Bounds range     [7e-03, 1e+00]\n"
     ]
    },
    {
     "name": "stderr",
     "output_type": "stream",
     "text": [
      "2024-04-25 18:46:00 (INFO):   Bounds range     [7e-03, 1e+00]\n"
     ]
    },
    {
     "name": "stdout",
     "output_type": "stream",
     "text": [
      "  RHS range        [7e-03, 1e+00]\n"
     ]
    },
    {
     "name": "stderr",
     "output_type": "stream",
     "text": [
      "2024-04-25 18:46:00 (INFO):   RHS range        [7e-03, 1e+00]\n"
     ]
    },
    {
     "name": "stdout",
     "output_type": "stream",
     "text": [
      "\n"
     ]
    },
    {
     "name": "stderr",
     "output_type": "stream",
     "text": [
      "2024-04-25 18:46:00 (INFO): \n"
     ]
    },
    {
     "name": "stdout",
     "output_type": "stream",
     "text": [
      "Loaded user MIP start with objective -1.34361\n",
      "\n",
      "Loaded user MIP start with objective -1.34361\n"
     ]
    },
    {
     "name": "stderr",
     "output_type": "stream",
     "text": [
      "2024-04-25 18:46:00 (INFO): Loaded user MIP start with objective -1.34361\n"
     ]
    },
    {
     "name": "stdout",
     "output_type": "stream",
     "text": [
      "\n"
     ]
    },
    {
     "name": "stderr",
     "output_type": "stream",
     "text": [
      "2024-04-25 18:46:00 (INFO): \n"
     ]
    },
    {
     "name": "stdout",
     "output_type": "stream",
     "text": [
      "Presolve removed 6590 rows and 1603 columns\n"
     ]
    },
    {
     "name": "stderr",
     "output_type": "stream",
     "text": [
      "2024-04-25 18:46:00 (INFO): Presolve removed 6590 rows and 1603 columns\n"
     ]
    },
    {
     "name": "stdout",
     "output_type": "stream",
     "text": [
      "Presolve time: 0.37s\n"
     ]
    },
    {
     "name": "stderr",
     "output_type": "stream",
     "text": [
      "2024-04-25 18:46:00 (INFO): Presolve time: 0.37s\n"
     ]
    },
    {
     "name": "stdout",
     "output_type": "stream",
     "text": [
      "Presolved: 33590 rows, 18837 columns, 86512 nonzeros\n"
     ]
    },
    {
     "name": "stderr",
     "output_type": "stream",
     "text": [
      "2024-04-25 18:46:00 (INFO): Presolved: 33590 rows, 18837 columns, 86512 nonzeros\n"
     ]
    },
    {
     "name": "stdout",
     "output_type": "stream",
     "text": [
      "Variable types: 18585 continuous, 252 integer (252 binary)\n"
     ]
    },
    {
     "name": "stderr",
     "output_type": "stream",
     "text": [
      "2024-04-25 18:46:00 (INFO): Variable types: 18585 continuous, 252 integer (252 binary)\n"
     ]
    },
    {
     "name": "stdout",
     "output_type": "stream",
     "text": [
      "\n"
     ]
    },
    {
     "name": "stderr",
     "output_type": "stream",
     "text": [
      "2024-04-25 18:46:00 (INFO): \n"
     ]
    },
    {
     "name": "stdout",
     "output_type": "stream",
     "text": [
      "Explored 0 nodes (0 simplex iterations) in 0.52 seconds (0.45 work units)\n"
     ]
    },
    {
     "name": "stderr",
     "output_type": "stream",
     "text": [
      "2024-04-25 18:46:00 (INFO): Explored 0 nodes (0 simplex iterations) in 0.52 seconds (0.45 work units)\n"
     ]
    },
    {
     "name": "stdout",
     "output_type": "stream",
     "text": [
      "Thread count was 20 (of 20 available processors)\n"
     ]
    },
    {
     "name": "stderr",
     "output_type": "stream",
     "text": [
      "2024-04-25 18:46:00 (INFO): Thread count was 20 (of 20 available processors)\n"
     ]
    },
    {
     "name": "stdout",
     "output_type": "stream",
     "text": [
      "\n"
     ]
    },
    {
     "name": "stderr",
     "output_type": "stream",
     "text": [
      "2024-04-25 18:46:00 (INFO): \n"
     ]
    },
    {
     "name": "stdout",
     "output_type": "stream",
     "text": [
      "Solution count 1: -1.34361 \n"
     ]
    },
    {
     "name": "stderr",
     "output_type": "stream",
     "text": [
      "2024-04-25 18:46:00 (INFO): Solution count 1: -1.34361 \n"
     ]
    },
    {
     "name": "stdout",
     "output_type": "stream",
     "text": [
      "\n"
     ]
    },
    {
     "name": "stderr",
     "output_type": "stream",
     "text": [
      "2024-04-25 18:46:00 (INFO): \n"
     ]
    },
    {
     "name": "stdout",
     "output_type": "stream",
     "text": [
      "Optimization achieved user objective limit\n"
     ]
    },
    {
     "name": "stderr",
     "output_type": "stream",
     "text": [
      "2024-04-25 18:46:00 (INFO): Optimization achieved user objective limit\n"
     ]
    },
    {
     "name": "stdout",
     "output_type": "stream",
     "text": [
      "Best objective -1.343609933542e+00, best bound -, gap -\n"
     ]
    },
    {
     "name": "stderr",
     "output_type": "stream",
     "text": [
      "2024-04-25 18:46:00 (INFO): Best objective -1.343609933542e+00, best bound -, gap -\n"
     ]
    },
    {
     "name": "stdout",
     "output_type": "stream",
     "text": [
      "\n"
     ]
    },
    {
     "name": "stderr",
     "output_type": "stream",
     "text": [
      "2024-04-25 18:46:00 (INFO): \n"
     ]
    },
    {
     "name": "stdout",
     "output_type": "stream",
     "text": [
      "User-callback calls 338, time in user-callback 0.00 sec\n"
     ]
    },
    {
     "name": "stderr",
     "output_type": "stream",
     "text": [
      "2024-04-25 18:46:00 (INFO): User-callback calls 338, time in user-callback 0.00 sec\n",
      "2024-04-25 18:46:00 (INFO): Optimization status: 15\n",
      "2024-04-25 18:46:00 (INFO): Original -1.34338, Opt objective -1.34361, stop_obj: -1.4077026648879083\n",
      "2024-04-25 18:46:00 (INFO): Robust count 0 out of 1\n"
     ]
    },
    {
     "name": "stdout",
     "output_type": "stream",
     "text": [
      "Warning for adding constraints: zero or small (< 1e-13) coefficients, ignored\n"
     ]
    },
    {
     "name": "stderr",
     "output_type": "stream",
     "text": [
      "2024-04-25 18:46:01 (INFO): Warning for adding constraints: zero or small (< 1e-13) coefficients, ignored\n"
     ]
    },
    {
     "name": "stdout",
     "output_type": "stream",
     "text": [
      "Set parameter IntegralityFocus to value 1\n"
     ]
    },
    {
     "name": "stderr",
     "output_type": "stream",
     "text": [
      "2024-04-25 18:46:01 (INFO): Set parameter IntegralityFocus to value 1\n"
     ]
    },
    {
     "name": "stdout",
     "output_type": "stream",
     "text": [
      "Set parameter IntFeasTol to value 0.0001\n"
     ]
    },
    {
     "name": "stderr",
     "output_type": "stream",
     "text": [
      "2024-04-25 18:46:01 (INFO): Set parameter IntFeasTol to value 0.0001\n"
     ]
    },
    {
     "name": "stdout",
     "output_type": "stream",
     "text": [
      "Set parameter DualReductions to value 0\n"
     ]
    },
    {
     "name": "stderr",
     "output_type": "stream",
     "text": [
      "2024-04-25 18:46:01 (INFO): Set parameter DualReductions to value 0\n"
     ]
    },
    {
     "name": "stdout",
     "output_type": "stream",
     "text": [
      "Set parameter FeasibilityTol to value 0.0001\n"
     ]
    },
    {
     "name": "stderr",
     "output_type": "stream",
     "text": [
      "2024-04-25 18:46:01 (INFO): Set parameter FeasibilityTol to value 0.0001\n"
     ]
    },
    {
     "name": "stdout",
     "output_type": "stream",
     "text": [
      "Set parameter OptimalityTol to value 0.0001\n"
     ]
    },
    {
     "name": "stderr",
     "output_type": "stream",
     "text": [
      "2024-04-25 18:46:01 (INFO): Set parameter OptimalityTol to value 0.0001\n"
     ]
    },
    {
     "name": "stdout",
     "output_type": "stream",
     "text": [
      "Set parameter NumericFocus to value 3\n"
     ]
    },
    {
     "name": "stderr",
     "output_type": "stream",
     "text": [
      "2024-04-25 18:46:01 (INFO): Set parameter NumericFocus to value 3\n"
     ]
    },
    {
     "name": "stdout",
     "output_type": "stream",
     "text": [
      "Set parameter TimeLimit to value 3600\n"
     ]
    },
    {
     "name": "stderr",
     "output_type": "stream",
     "text": [
      "2024-04-25 18:46:01 (INFO): Set parameter TimeLimit to value 3600\n"
     ]
    },
    {
     "name": "stdout",
     "output_type": "stream",
     "text": [
      "Set parameter MIPFocus to value 3\n"
     ]
    },
    {
     "name": "stderr",
     "output_type": "stream",
     "text": [
      "2024-04-25 18:46:01 (INFO): Set parameter MIPFocus to value 3\n"
     ]
    },
    {
     "name": "stdout",
     "output_type": "stream",
     "text": [
      "Gurobi Optimizer version 11.0.1 build v11.0.1rc0 (linux64 - \"Ubuntu 22.04.4 LTS\")\n"
     ]
    },
    {
     "name": "stderr",
     "output_type": "stream",
     "text": [
      "2024-04-25 18:46:01 (INFO): Gurobi Optimizer version 11.0.1 build v11.0.1rc0 (linux64 - \"Ubuntu 22.04.4 LTS\")\n"
     ]
    },
    {
     "name": "stdout",
     "output_type": "stream",
     "text": [
      "\n"
     ]
    },
    {
     "name": "stderr",
     "output_type": "stream",
     "text": [
      "2024-04-25 18:46:01 (INFO): \n"
     ]
    },
    {
     "name": "stdout",
     "output_type": "stream",
     "text": [
      "CPU model: Intel(R) Xeon(R) CPU E5-2630 v4 @ 2.20GHz, instruction set [SSE2|AVX|AVX2]\n"
     ]
    },
    {
     "name": "stderr",
     "output_type": "stream",
     "text": [
      "2024-04-25 18:46:01 (INFO): CPU model: Intel(R) Xeon(R) CPU E5-2630 v4 @ 2.20GHz, instruction set [SSE2|AVX|AVX2]\n"
     ]
    },
    {
     "name": "stdout",
     "output_type": "stream",
     "text": [
      "Thread count: 20 physical cores, 20 logical processors, using up to 20 threads\n"
     ]
    },
    {
     "name": "stderr",
     "output_type": "stream",
     "text": [
      "2024-04-25 18:46:01 (INFO): Thread count: 20 physical cores, 20 logical processors, using up to 20 threads\n"
     ]
    },
    {
     "name": "stdout",
     "output_type": "stream",
     "text": [
      "\n"
     ]
    },
    {
     "name": "stderr",
     "output_type": "stream",
     "text": [
      "2024-04-25 18:46:01 (INFO): \n"
     ]
    },
    {
     "name": "stdout",
     "output_type": "stream",
     "text": [
      "Optimize a model with 40180 rows, 20440 columns and 99940 nonzeros\n"
     ]
    },
    {
     "name": "stderr",
     "output_type": "stream",
     "text": [
      "2024-04-25 18:46:01 (INFO): Optimize a model with 40180 rows, 20440 columns and 99940 nonzeros\n"
     ]
    },
    {
     "name": "stdout",
     "output_type": "stream",
     "text": [
      "Model fingerprint: 0x1e82bf71\n"
     ]
    },
    {
     "name": "stderr",
     "output_type": "stream",
     "text": [
      "2024-04-25 18:46:01 (INFO): Model fingerprint: 0x1e82bf71\n"
     ]
    },
    {
     "name": "stdout",
     "output_type": "stream",
     "text": [
      "Variable types: 20160 continuous, 280 integer (280 binary)\n"
     ]
    },
    {
     "name": "stderr",
     "output_type": "stream",
     "text": [
      "2024-04-25 18:46:01 (INFO): Variable types: 20160 continuous, 280 integer (280 binary)\n"
     ]
    },
    {
     "name": "stdout",
     "output_type": "stream",
     "text": [
      "Coefficient statistics:\n"
     ]
    },
    {
     "name": "stderr",
     "output_type": "stream",
     "text": [
      "2024-04-25 18:46:01 (INFO): Coefficient statistics:\n"
     ]
    },
    {
     "name": "stdout",
     "output_type": "stream",
     "text": [
      "  Matrix range     [7e-03, 3e+01]\n"
     ]
    },
    {
     "name": "stderr",
     "output_type": "stream",
     "text": [
      "2024-04-25 18:46:01 (INFO):   Matrix range     [7e-03, 3e+01]\n"
     ]
    },
    {
     "name": "stdout",
     "output_type": "stream",
     "text": [
      "  Objective range  [1e+00, 1e+00]\n"
     ]
    },
    {
     "name": "stderr",
     "output_type": "stream",
     "text": [
      "2024-04-25 18:46:01 (INFO):   Objective range  [1e+00, 1e+00]\n"
     ]
    },
    {
     "name": "stdout",
     "output_type": "stream",
     "text": [
      "  Bounds range     [7e-03, 1e+00]\n"
     ]
    },
    {
     "name": "stderr",
     "output_type": "stream",
     "text": [
      "2024-04-25 18:46:01 (INFO):   Bounds range     [7e-03, 1e+00]\n"
     ]
    },
    {
     "name": "stdout",
     "output_type": "stream",
     "text": [
      "  RHS range        [7e-03, 1e+00]\n"
     ]
    },
    {
     "name": "stderr",
     "output_type": "stream",
     "text": [
      "2024-04-25 18:46:01 (INFO):   RHS range        [7e-03, 1e+00]\n"
     ]
    },
    {
     "name": "stdout",
     "output_type": "stream",
     "text": [
      "\n"
     ]
    },
    {
     "name": "stderr",
     "output_type": "stream",
     "text": [
      "2024-04-25 18:46:01 (INFO): \n"
     ]
    },
    {
     "name": "stdout",
     "output_type": "stream",
     "text": [
      "Loaded user MIP start with objective -0.872961\n",
      "\n",
      "Loaded user MIP start with objective -0.872961\n"
     ]
    },
    {
     "name": "stderr",
     "output_type": "stream",
     "text": [
      "2024-04-25 18:46:01 (INFO): Loaded user MIP start with objective -0.872961\n"
     ]
    },
    {
     "name": "stdout",
     "output_type": "stream",
     "text": [
      "\n"
     ]
    },
    {
     "name": "stderr",
     "output_type": "stream",
     "text": [
      "2024-04-25 18:46:01 (INFO): \n"
     ]
    },
    {
     "name": "stdout",
     "output_type": "stream",
     "text": [
      "Presolve removed 7508 rows and 1651 columns\n"
     ]
    },
    {
     "name": "stderr",
     "output_type": "stream",
     "text": [
      "2024-04-25 18:46:02 (INFO): Presolve removed 7508 rows and 1651 columns\n"
     ]
    },
    {
     "name": "stdout",
     "output_type": "stream",
     "text": [
      "Presolve time: 0.41s\n"
     ]
    },
    {
     "name": "stderr",
     "output_type": "stream",
     "text": [
      "2024-04-25 18:46:02 (INFO): Presolve time: 0.41s\n"
     ]
    },
    {
     "name": "stdout",
     "output_type": "stream",
     "text": [
      "Presolved: 32672 rows, 18789 columns, 84673 nonzeros\n"
     ]
    },
    {
     "name": "stderr",
     "output_type": "stream",
     "text": [
      "2024-04-25 18:46:02 (INFO): Presolved: 32672 rows, 18789 columns, 84673 nonzeros\n"
     ]
    },
    {
     "name": "stdout",
     "output_type": "stream",
     "text": [
      "Found heuristic solution: objective -0.8729606\n"
     ]
    },
    {
     "name": "stderr",
     "output_type": "stream",
     "text": [
      "2024-04-25 18:46:02 (INFO): Found heuristic solution: objective -0.8729606\n"
     ]
    },
    {
     "name": "stdout",
     "output_type": "stream",
     "text": [
      "Variable types: 18543 continuous, 246 integer (246 binary)\n"
     ]
    },
    {
     "name": "stderr",
     "output_type": "stream",
     "text": [
      "2024-04-25 18:46:02 (INFO): Variable types: 18543 continuous, 246 integer (246 binary)\n"
     ]
    },
    {
     "name": "stdout",
     "output_type": "stream",
     "text": [
      "Root relaxation presolved: 31880 rows, 18780 columns, 80336 nonzeros\n"
     ]
    },
    {
     "name": "stderr",
     "output_type": "stream",
     "text": [
      "2024-04-25 18:46:02 (INFO): Root relaxation presolved: 31880 rows, 18780 columns, 80336 nonzeros\n"
     ]
    },
    {
     "name": "stdout",
     "output_type": "stream",
     "text": [
      "\n"
     ]
    },
    {
     "name": "stderr",
     "output_type": "stream",
     "text": [
      "2024-04-25 18:46:02 (INFO): \n"
     ]
    },
    {
     "name": "stdout",
     "output_type": "stream",
     "text": [
      "\n"
     ]
    },
    {
     "name": "stderr",
     "output_type": "stream",
     "text": [
      "2024-04-25 18:46:07 (INFO): \n"
     ]
    },
    {
     "name": "stdout",
     "output_type": "stream",
     "text": [
      "Root simplex log...\n"
     ]
    },
    {
     "name": "stderr",
     "output_type": "stream",
     "text": [
      "2024-04-25 18:46:07 (INFO): Root simplex log...\n"
     ]
    },
    {
     "name": "stdout",
     "output_type": "stream",
     "text": [
      "\n"
     ]
    },
    {
     "name": "stderr",
     "output_type": "stream",
     "text": [
      "2024-04-25 18:46:07 (INFO): \n"
     ]
    },
    {
     "name": "stdout",
     "output_type": "stream",
     "text": [
      "Iteration    Objective       Primal Inf.    Dual Inf.      Time\n"
     ]
    },
    {
     "name": "stderr",
     "output_type": "stream",
     "text": [
      "2024-04-25 18:46:07 (INFO): Iteration    Objective       Primal Inf.    Dual Inf.      Time\n"
     ]
    },
    {
     "name": "stdout",
     "output_type": "stream",
     "text": [
      "   19024   -1.4411618e+00   3.563558e-02   0.000000e+00      5s\n"
     ]
    },
    {
     "name": "stderr",
     "output_type": "stream",
     "text": [
      "2024-04-25 18:46:07 (INFO):    19024   -1.4411618e+00   3.563558e-02   0.000000e+00      5s\n"
     ]
    },
    {
     "name": "stdout",
     "output_type": "stream",
     "text": [
      "   19088   -1.4308497e+00   0.000000e+00   0.000000e+00      5s\n"
     ]
    },
    {
     "name": "stderr",
     "output_type": "stream",
     "text": [
      "2024-04-25 18:46:07 (INFO):    19088   -1.4308497e+00   0.000000e+00   0.000000e+00      5s\n"
     ]
    },
    {
     "name": "stdout",
     "output_type": "stream",
     "text": [
      "   19825   -1.4308497e+00   0.000000e+00   0.000000e+00      7s\n"
     ]
    },
    {
     "name": "stderr",
     "output_type": "stream",
     "text": [
      "2024-04-25 18:46:08 (INFO):    19825   -1.4308497e+00   0.000000e+00   0.000000e+00      7s\n"
     ]
    },
    {
     "name": "stdout",
     "output_type": "stream",
     "text": [
      "Extra simplex iterations after uncrush: 737\n"
     ]
    },
    {
     "name": "stderr",
     "output_type": "stream",
     "text": [
      "2024-04-25 18:46:08 (INFO): Extra simplex iterations after uncrush: 737\n"
     ]
    },
    {
     "name": "stdout",
     "output_type": "stream",
     "text": [
      "\n"
     ]
    },
    {
     "name": "stderr",
     "output_type": "stream",
     "text": [
      "2024-04-25 18:46:08 (INFO): \n"
     ]
    },
    {
     "name": "stdout",
     "output_type": "stream",
     "text": [
      "Root relaxation: objective -1.430850e+00, 19825 iterations, 6.17 seconds (5.73 work units)\n"
     ]
    },
    {
     "name": "stderr",
     "output_type": "stream",
     "text": [
      "2024-04-25 18:46:08 (INFO): Root relaxation: objective -1.430850e+00, 19825 iterations, 6.17 seconds (5.73 work units)\n"
     ]
    },
    {
     "name": "stdout",
     "output_type": "stream",
     "text": [
      "\n"
     ]
    },
    {
     "name": "stderr",
     "output_type": "stream",
     "text": [
      "2024-04-25 18:46:09 (INFO): \n"
     ]
    },
    {
     "name": "stdout",
     "output_type": "stream",
     "text": [
      "    Nodes    |    Current Node    |     Objective Bounds      |     Work\n"
     ]
    },
    {
     "name": "stderr",
     "output_type": "stream",
     "text": [
      "2024-04-25 18:46:09 (INFO):     Nodes    |    Current Node    |     Objective Bounds      |     Work\n"
     ]
    },
    {
     "name": "stdout",
     "output_type": "stream",
     "text": [
      " Expl Unexpl |  Obj  Depth IntInf | Incumbent    BestBd   Gap | It/Node Time\n"
     ]
    },
    {
     "name": "stderr",
     "output_type": "stream",
     "text": [
      "2024-04-25 18:46:09 (INFO):  Expl Unexpl |  Obj  Depth IntInf | Incumbent    BestBd   Gap | It/Node Time\n"
     ]
    },
    {
     "name": "stdout",
     "output_type": "stream",
     "text": [
      "\n"
     ]
    },
    {
     "name": "stderr",
     "output_type": "stream",
     "text": [
      "2024-04-25 18:46:09 (INFO): \n"
     ]
    },
    {
     "name": "stdout",
     "output_type": "stream",
     "text": [
      "     0     0   -1.43085    0  120   -0.87296   -1.43085  63.9%     -    7s\n"
     ]
    },
    {
     "name": "stderr",
     "output_type": "stream",
     "text": [
      "2024-04-25 18:46:09 (INFO):      0     0   -1.43085    0  120   -0.87296   -1.43085  63.9%     -    7s\n"
     ]
    }
   ],
   "source": [
    "# MIP foucs = 3\n",
    "#model_params[\"cache_size\"] = 10000\n",
    "other_params[\"device\"] = \"cpu\"\n",
    "other_params[\"debug\"] = False\n",
    "certificate_params[\"n_adversarial\"] = 270\n",
    "certificate_params[\"delta\"] = 0.01\n",
    "certificate_params[\"delta_absolute\"] = False\n",
    "certificate_params[\"method\"] = \"XXT\"\n",
    "certificate_params[\"perturbation_model\"] = \"l2\"\n",
    "certificate_params[\"attack_nodes\"] = \"test\"\n",
    "#certificate_params[\"MIPGap\"] = 0\n",
    "other_params[\"path_gurobi_license\"] = \"/ceph/ssd/staff/gosl/app/gurobi.lic\"\n",
    "verbosity_params[\"debug_lvl\"] = \"info\"\n",
    "model_params[\"regularizer\"] = 0.0075\n",
    "model_params[\"solver\"] = \"qplayer_one_vs_all\"\n",
    "model_params[\"alpha_tol\"] = 1e-4\n",
    "model_params[\"bias\"] = False\n",
    "data_params[\"learning_setting\"] = \"transductive\"\n",
    "run(data_params, model_params, certificate_params, verbosity_params, other_params, seed)"
   ]
  },
  {
   "cell_type": "code",
   "execution_count": 43,
   "metadata": {},
   "outputs": [
    {
     "name": "stderr",
     "output_type": "stream",
     "text": [
      "2024-04-25 17:15:39 (INFO): Starting experiment exp_certify_multiclass with configuration:\n",
      "2024-04-25 17:15:39 (INFO): data_params: {'dataset': 'cora', 'learning_setting': 'transductive', 'specification': {'n_per_class': 20, 'fraction_test': 0.01, 'data_dir': './data', 'make_undirected': True, 'binary_attr': False, 'balance_test': True}}\n",
      "2024-04-25 17:15:39 (INFO): model_params: {'label': 'GCN', 'model': 'GCN', 'normalization': 'row_normalization', 'depth': 1, 'regularizer': 0.002, 'pred_method': 'svm', 'activation': 'relu', 'solver': 'qplayer_one_vs_all', 'alpha_tol': 0.0001, 'bias': False}\n",
      "2024-04-25 17:15:39 (INFO): certification_params: {'n_adversarial': 270, 'perturbation_model': 'l2', 'delta': 0.01, 'delta_absolute': False, 'method': 'XXT', 'attack_nodes': 'test'}\n",
      "2024-04-25 17:15:39 (INFO): verbosity_params: {'debug_lvl': 'info'}\n",
      "2024-04-25 17:15:39 (INFO): other_params: {'device': 'cpu', 'dtype': torch.float64, 'allow_tf32': False, 'debug': False, 'path_gurobi_license': '/ceph/ssd/staff/gosl/app/gurobi.lic'}\n",
      "2024-04-25 17:15:39 (INFO): seed: 4\n",
      "2024-04-25 17:15:39 (INFO): number of samples\n",
      " - labeled: 140 \n",
      " - val: 140 \n",
      " - test: 273 \n",
      " - unlabeled: 2155\n"
     ]
    },
    {
     "name": "stdout",
     "output_type": "stream",
     "text": [
      "Class 0: 241 alphas found: ['0.0020', '0.0020', '0.0020', '0.0020', '0.0020', '0.0020', '0.0020', '-0.0000', '0.0020', '0.0020', '0.0020', '0.0020', '0.0020', '0.0020', '0.0020', '0.0020', '0.0020', '-0.0000', '0.0020', '0.0020', '0.0020', '0.0020', '-0.0000', '0.0010', '0.0020', '0.0020', '0.0020', '0.0020', '0.0020', '0.0020', '0.0020', '0.0020', '0.0020', '0.0020', '0.0020', '0.0020', '0.0020', '0.0020', '0.0006', '0.0009', '0.0020', '0.0020', '0.0020', '0.0020', '0.0020', '0.0020', '0.0020', '0.0020', '-0.0000', '0.0020', '0.0000', '0.0020', '0.0020', '0.0020', '0.0003', '0.0020', '0.0020', '0.0020', '0.0020', '-0.0000', '0.0020', '0.0020', '-0.0000', '0.0020', '0.0020', '0.0020', '0.0020', '0.0020', '0.0020', '0.0020', '-0.0000', '0.0020', '0.0020', '0.0020', '0.0020', '0.0020', '0.0020', '0.0020', '0.0020', '-0.0000', '0.0009', '0.0020', '0.0020', '0.0020', '0.0020', '0.0020', '-0.0000', '0.0020', '0.0020', '0.0020', '0.0020', '-0.0000', '0.0020', '0.0020', '-0.0000', '0.0020', '0.0020', '0.0020', '0.0020', '0.0020', '0.0020', '0.0020', '0.0020', '0.0020', '0.0020', '0.0020', '0.0020', '0.0020', '0.0020', '0.0020', '0.0020', '0.0020', '0.0020', '0.0020', '0.0020', '-0.0000', '0.0020', '-0.0000', '0.0020', '0.0020', '0.0020', '0.0020', '0.0020', '0.0020', '-0.0000', '-0.0000', '0.0020', '0.0020', '-0.0000', '0.0016', '0.0020', '0.0020', '0.0020', '0.0020', '0.0020', '0.0020', '-0.0000', '0.0020', '0.0020', '0.0020', '0.0020', '-0.0000', '0.0020', '0.0020', '0.0020', '0.0020', '-0.0000', '0.0020', '-0.0000', '0.0020', '0.0020', '-0.0000', '0.0020', '0.0020', '0.0020', '-0.0000', '0.0020', '0.0020', '0.0020', '0.0020', '0.0020', '0.0020', '0.0020', '0.0020', '0.0020', '0.0020', '0.0020', '-0.0000', '0.0020', '0.0020', '0.0020', '0.0020', '0.0020', '0.0020', '0.0020', '-0.0000', '-0.0000', '0.0020', '0.0020', '0.0020', '-0.0000', '-0.0000', '0.0020', '0.0020', '0.0015', '0.0020', '-0.0000', '0.0020', '0.0020', '0.0020', '0.0020', '-0.0000', '0.0020', '0.0020', '-0.0000', '0.0020', '0.0020', '0.0020', '0.0020', '0.0020', '0.0020', '0.0020', '0.0020', '-0.0000', '-0.0000', '0.0020', '-0.0000', '0.0020', '0.0020', '-0.0000', '0.0020', '0.0020', '0.0020', '0.0020', '0.0020', '0.0020', '0.0020', '0.0020', '0.0020', '0.0020', '0.0020', '0.0020', '0.0020', '0.0020', '0.0020', '0.0020', '0.0020', '0.0020', '0.0020', '0.0020', '0.0020', '0.0020', '0.0020', '0.0020', '0.0020', '0.0020', '0.0020', '0.0020', '-0.0000', '0.0020', '0.0020', '0.0020', '0.0020', '0.0020', '0.0020', '0.0020', '0.0020', '0.0020', '-0.0000', '0.0020', '0.0020', '0.0020', '0.0020', '0.0020', '0.0020', '0.0020', '0.0020', '0.0020', '0.0020', '0.0020', '0.0020', '0.0020', '0.0020', '0.0020', '0.0020', '-0.0000', '0.0020', '0.0020', '0.0020', '0.0020', '0.0020', '0.0020', '0.0020', '0.0020', '0.0000', '0.0020', '0.0020', '0.0020', '0.0020', '0.0020']\n",
      "Class 1: 241 alphas found: ['0.0020', '0.0020', '0.0020', '0.0020', '0.0020', '0.0020', '0.0020', '0.0020', '0.0020', '0.0017', '0.0020', '0.0002', '0.0020', '0.0020', '0.0020', '0.0020', '0.0020', '-0.0000', '0.0020', '0.0020', '0.0020', '0.0020', '-0.0000', '0.0020', '0.0020', '0.0020', '0.0020', '0.0020', '0.0020', '0.0020', '0.0020', '0.0020', '0.0020', '0.0020', '0.0020', '-0.0000', '0.0020', '0.0020', '-0.0000', '0.0020', '0.0020', '0.0020', '0.0020', '0.0020', '0.0020', '0.0020', '0.0020', '0.0020', '-0.0000', '0.0020', '0.0000', '-0.0000', '0.0020', '0.0020', '0.0020', '0.0020', '0.0020', '0.0020', '0.0020', '0.0020', '0.0020', '0.0020', '-0.0000', '0.0020', '0.0020', '0.0020', '0.0020', '0.0020', '0.0020', '0.0020', '-0.0000', '0.0020', '0.0020', '0.0020', '0.0020', '0.0020', '0.0020', '0.0020', '0.0020', '-0.0000', '0.0003', '0.0020', '0.0020', '0.0020', '0.0020', '0.0020', '-0.0000', '0.0020', '0.0020', '0.0020', '0.0020', '0.0020', '0.0020', '-0.0000', '-0.0000', '0.0020', '0.0020', '0.0020', '0.0020', '0.0020', '0.0020', '0.0020', '0.0020', '0.0020', '0.0020', '0.0020', '0.0020', '0.0020', '0.0020', '0.0020', '0.0020', '0.0020', '0.0020', '0.0020', '0.0020', '-0.0000', '0.0020', '-0.0000', '0.0020', '0.0020', '0.0020', '0.0020', '0.0020', '0.0020', '0.0020', '-0.0000', '0.0020', '0.0020', '0.0020', '0.0001', '0.0020', '0.0020', '0.0020', '0.0020', '0.0020', '0.0020', '0.0020', '0.0020', '0.0017', '0.0020', '0.0020', '-0.0000', '0.0020', '0.0020', '0.0020', '0.0020', '0.0020', '0.0020', '0.0020', '0.0020', '0.0020', '-0.0000', '0.0020', '0.0020', '0.0020', '-0.0000', '0.0020', '0.0020', '0.0020', '0.0020', '0.0020', '0.0020', '0.0020', '0.0011', '0.0020', '0.0020', '0.0020', '-0.0000', '0.0020', '0.0020', '0.0020', '0.0020', '0.0020', '0.0020', '0.0020', '-0.0000', '0.0003', '0.0020', '0.0020', '0.0020', '-0.0000', '-0.0000', '0.0020', '0.0020', '0.0011', '0.0020', '-0.0000', '-0.0000', '0.0020', '0.0020', '0.0020', '0.0020', '0.0020', '0.0020', '-0.0000', '0.0020', '0.0020', '0.0020', '0.0020', '0.0020', '0.0020', '0.0020', '0.0020', '-0.0000', '-0.0000', '0.0005', '-0.0000', '0.0020', '0.0008', '-0.0000', '-0.0000', '0.0020', '0.0020', '0.0020', '-0.0000', '0.0020', '0.0020', '0.0020', '0.0020', '0.0020', '0.0020', '0.0020', '0.0020', '0.0020', '0.0020', '0.0020', '0.0020', '0.0020', '0.0020', '0.0020', '-0.0000', '0.0020', '0.0018', '0.0020', '0.0020', '0.0020', '0.0020', '0.0020', '0.0020', '0.0020', '0.0020', '0.0020', '0.0020', '0.0020', '0.0020', '0.0020', '0.0020', '0.0020', '-0.0000', '0.0020', '0.0020', '0.0020', '0.0020', '0.0020', '0.0020', '0.0020', '0.0020', '0.0020', '0.0020', '0.0020', '-0.0000', '0.0020', '0.0020', '0.0020', '0.0020', '-0.0000', '0.0020', '0.0020', '0.0020', '0.0020', '0.0020', '0.0020', '0.0020', '0.0020', '-0.0000', '0.0020', '0.0020', '0.0020', '0.0020', '0.0020']\n",
      "Class 2: 241 alphas found: ['0.0020', '0.0020', '0.0020', '0.0020', '0.0020', '0.0020', '0.0020', '-0.0000', '0.0020', '0.0008', '0.0020', '0.0014', '0.0020', '0.0020', '0.0020', '0.0020', '0.0020', '-0.0000', '0.0020', '0.0020', '0.0020', '0.0020', '-0.0000', '0.0020', '0.0020', '0.0020', '-0.0000', '0.0020', '0.0020', '0.0020', '0.0020', '0.0020', '0.0020', '0.0020', '0.0020', '-0.0000', '0.0020', '0.0020', '0.0020', '0.0020', '0.0020', '0.0020', '0.0020', '0.0020', '0.0020', '0.0020', '0.0020', '0.0020', '0.0011', '0.0020', '0.0020', '-0.0000', '0.0020', '0.0020', '0.0020', '0.0020', '0.0020', '0.0020', '0.0020', '-0.0000', '0.0020', '0.0020', '-0.0000', '0.0020', '0.0020', '0.0020', '0.0020', '0.0020', '0.0020', '0.0020', '-0.0000', '0.0020', '0.0020', '0.0020', '0.0020', '0.0020', '0.0020', '0.0020', '0.0020', '-0.0000', '-0.0000', '0.0020', '0.0020', '0.0020', '0.0020', '0.0020', '-0.0000', '0.0020', '0.0020', '0.0020', '0.0020', '-0.0000', '0.0020', '-0.0000', '-0.0000', '0.0020', '0.0020', '0.0020', '0.0020', '0.0020', '0.0020', '0.0020', '0.0020', '0.0020', '0.0020', '0.0020', '0.0020', '0.0020', '0.0020', '0.0020', '0.0020', '0.0020', '0.0015', '0.0020', '0.0020', '-0.0000', '0.0020', '-0.0000', '-0.0000', '0.0020', '0.0020', '0.0020', '0.0020', '0.0020', '0.0000', '-0.0000', '0.0020', '0.0020', '-0.0000', '0.0020', '0.0020', '0.0020', '0.0020', '0.0020', '0.0020', '0.0020', '-0.0000', '0.0020', '0.0020', '0.0020', '0.0020', '-0.0000', '0.0020', '0.0020', '0.0020', '0.0020', '0.0013', '0.0020', '-0.0000', '-0.0000', '0.0020', '-0.0000', '0.0020', '0.0020', '0.0020', '0.0003', '0.0020', '0.0020', '0.0020', '0.0020', '0.0020', '0.0020', '0.0020', '-0.0000', '0.0020', '0.0020', '0.0020', '-0.0000', '0.0020', '0.0020', '0.0020', '0.0020', '0.0020', '0.0020', '0.0020', '-0.0000', '0.0020', '0.0020', '0.0020', '0.0020', '-0.0000', '-0.0000', '0.0002', '0.0020', '0.0020', '0.0020', '-0.0000', '-0.0000', '0.0020', '-0.0000', '0.0020', '-0.0000', '0.0020', '0.0020', '-0.0000', '-0.0000', '0.0020', '0.0020', '0.0020', '0.0020', '0.0020', '0.0020', '0.0020', '-0.0000', '-0.0000', '0.0020', '-0.0000', '0.0020', '0.0004', '0.0020', '0.0020', '0.0020', '0.0020', '0.0020', '-0.0000', '0.0020', '0.0020', '0.0020', '0.0020', '0.0020', '0.0020', '0.0020', '0.0020', '0.0020', '0.0020', '0.0020', '0.0020', '0.0020', '0.0020', '0.0020', '0.0020', '0.0020', '0.0020', '0.0020', '0.0020', '0.0020', '0.0020', '0.0020', '-0.0000', '0.0020', '0.0020', '0.0020', '0.0020', '0.0020', '0.0020', '0.0020', '0.0020', '0.0020', '0.0015', '0.0020', '0.0020', '0.0020', '-0.0000', '0.0020', '0.0020', '0.0000', '0.0020', '0.0020', '0.0020', '0.0020', '-0.0000', '0.0020', '0.0020', '0.0020', '0.0020', '-0.0000', '0.0020', '0.0020', '0.0020', '0.0020', '0.0020', '0.0020', '0.0020', '0.0020', '0.0020', '0.0020', '0.0020', '0.0012', '0.0020', '0.0020']\n",
      "Class 3: 241 alphas found: ['0.0020', '0.0020', '0.0020', '0.0020', '0.0020', '0.0020', '0.0020', '-0.0000', '0.0020', '0.0020', '0.0020', '0.0020', '0.0016', '0.0020', '0.0020', '0.0020', '0.0020', '0.0000', '0.0020', '0.0020', '0.0020', '0.0020', '0.0020', '-0.0000', '0.0020', '0.0020', '-0.0000', '0.0020', '0.0020', '0.0020', '0.0020', '0.0020', '0.0020', '-0.0000', '0.0020', '-0.0000', '0.0020', '0.0020', '0.0020', '0.0020', '0.0020', '0.0020', '0.0020', '0.0020', '0.0020', '0.0020', '0.0020', '0.0020', '0.0020', '0.0020', '-0.0000', '-0.0000', '0.0020', '0.0020', '0.0020', '0.0020', '0.0020', '0.0020', '0.0020', '-0.0000', '0.0020', '0.0020', '-0.0000', '0.0020', '0.0020', '0.0020', '0.0020', '0.0020', '0.0020', '0.0020', '-0.0000', '0.0020', '0.0020', '0.0020', '0.0020', '0.0020', '0.0020', '0.0020', '0.0020', '-0.0000', '0.0020', '0.0020', '0.0020', '0.0020', '0.0020', '0.0020', '-0.0000', '0.0020', '0.0020', '0.0020', '0.0020', '-0.0000', '0.0020', '-0.0000', '-0.0000', '0.0020', '0.0020', '0.0020', '0.0020', '0.0020', '0.0020', '0.0020', '0.0020', '0.0020', '0.0020', '0.0020', '0.0020', '0.0020', '0.0020', '0.0020', '0.0020', '0.0020', '0.0020', '0.0020', '0.0020', '0.0020', '0.0020', '-0.0000', '-0.0000', '0.0020', '0.0020', '0.0020', '0.0020', '0.0020', '-0.0000', '-0.0000', '0.0020', '0.0020', '-0.0000', '0.0018', '0.0020', '0.0020', '0.0020', '0.0020', '0.0020', '0.0020', '-0.0000', '0.0020', '0.0020', '0.0020', '0.0020', '-0.0000', '0.0020', '0.0020', '0.0020', '0.0020', '-0.0000', '0.0020', '-0.0000', '-0.0000', '0.0020', '-0.0000', '0.0020', '0.0020', '0.0020', '0.0004', '0.0020', '0.0020', '0.0020', '0.0020', '0.0020', '0.0020', '0.0020', '0.0019', '0.0020', '0.0020', '0.0020', '0.0020', '0.0020', '0.0020', '0.0020', '0.0020', '0.0020', '0.0020', '0.0020', '-0.0000', '0.0020', '0.0020', '0.0020', '0.0020', '-0.0000', '-0.0000', '0.0018', '0.0020', '-0.0000', '0.0020', '-0.0000', '-0.0000', '0.0020', '0.0017', '0.0020', '-0.0000', '0.0020', '0.0020', '-0.0000', '-0.0000', '0.0020', '0.0020', '0.0020', '0.0020', '0.0020', '0.0020', '0.0020', '-0.0000', '-0.0000', '0.0020', '-0.0000', '0.0020', '0.0013', '-0.0000', '0.0020', '0.0020', '0.0020', '0.0020', '-0.0000', '0.0020', '0.0020', '0.0020', '0.0020', '-0.0000', '0.0020', '0.0020', '0.0020', '0.0020', '0.0020', '0.0020', '0.0020', '0.0020', '0.0020', '0.0020', '0.0020', '0.0020', '0.0020', '0.0020', '0.0020', '0.0020', '0.0020', '0.0020', '0.0007', '0.0020', '0.0020', '0.0020', '0.0020', '0.0020', '0.0020', '0.0020', '0.0020', '0.0020', '-0.0000', '0.0020', '0.0020', '0.0020', '-0.0000', '0.0020', '0.0020', '0.0020', '0.0020', '0.0020', '0.0020', '0.0020', '-0.0000', '0.0020', '0.0020', '0.0020', '0.0020', '-0.0000', '0.0020', '0.0020', '0.0020', '0.0020', '0.0020', '0.0020', '0.0020', '0.0020', '-0.0000', '0.0020', '0.0020', '0.0003', '0.0020', '0.0020']\n",
      "Class 4: 241 alphas found: ['0.0020', '0.0020', '0.0020', '0.0020', '0.0020', '0.0020', '0.0020', '-0.0000', '0.0020', '0.0020', '0.0020', '0.0020', '-0.0000', '0.0020', '0.0020', '0.0020', '0.0020', '-0.0000', '0.0020', '0.0020', '0.0020', '0.0020', '-0.0000', '0.0003', '0.0020', '0.0020', '0.0007', '0.0020', '0.0020', '0.0020', '0.0020', '0.0020', '0.0020', '0.0009', '0.0020', '-0.0000', '0.0020', '0.0020', '0.0020', '-0.0000', '0.0020', '0.0020', '0.0020', '0.0020', '0.0020', '0.0020', '0.0020', '0.0020', '-0.0000', '0.0020', '-0.0000', '-0.0000', '0.0020', '0.0020', '0.0019', '0.0020', '0.0020', '0.0020', '0.0020', '-0.0000', '0.0020', '0.0020', '-0.0000', '0.0020', '0.0020', '0.0020', '0.0020', '0.0020', '0.0020', '0.0020', '-0.0000', '0.0020', '0.0020', '0.0020', '0.0020', '0.0020', '0.0020', '0.0020', '0.0020', '-0.0000', '-0.0000', '0.0020', '0.0020', '0.0020', '0.0020', '0.0020', '-0.0000', '0.0020', '0.0020', '0.0020', '0.0020', '-0.0000', '0.0020', '-0.0000', '-0.0000', '0.0020', '0.0020', '0.0020', '0.0020', '0.0020', '0.0020', '0.0019', '0.0020', '0.0020', '0.0020', '0.0020', '0.0020', '0.0020', '0.0020', '0.0020', '0.0020', '0.0020', '-0.0000', '0.0020', '0.0020', '-0.0000', '0.0020', '0.0020', '-0.0000', '0.0020', '0.0020', '0.0020', '0.0020', '0.0020', '-0.0000', '-0.0000', '0.0020', '0.0020', '0.0020', '0.0020', '0.0020', '0.0020', '0.0020', '0.0020', '0.0020', '0.0020', '-0.0000', '0.0020', '0.0020', '0.0020', '0.0020', '-0.0000', '0.0020', '0.0020', '0.0020', '0.0020', '-0.0000', '0.0020', '-0.0000', '0.0007', '0.0020', '-0.0000', '0.0020', '0.0020', '0.0020', '0.0012', '0.0020', '0.0020', '0.0020', '0.0020', '0.0020', '0.0020', '0.0020', '0.0020', '0.0020', '0.0020', '0.0020', '-0.0000', '0.0020', '0.0020', '0.0020', '0.0020', '0.0020', '0.0020', '0.0020', '-0.0000', '0.0020', '0.0020', '0.0020', '0.0020', '-0.0000', '0.0020', '0.0020', '0.0020', '-0.0000', '0.0020', '-0.0000', '-0.0000', '0.0020', '0.0016', '0.0020', '-0.0000', '0.0020', '0.0020', '-0.0000', '0.0020', '0.0020', '0.0020', '0.0020', '0.0020', '0.0020', '0.0020', '0.0020', '-0.0000', '0.0020', '0.0020', '-0.0000', '0.0020', '0.0020', '-0.0000', '0.0020', '0.0020', '0.0020', '0.0020', '-0.0000', '0.0020', '0.0020', '0.0020', '0.0020', '0.0020', '0.0020', '0.0020', '0.0020', '0.0020', '0.0020', '0.0020', '0.0020', '0.0020', '0.0020', '0.0020', '0.0020', '0.0020', '0.0020', '0.0020', '0.0020', '0.0020', '0.0020', '0.0020', '0.0018', '0.0020', '0.0020', '0.0020', '0.0020', '0.0020', '0.0020', '0.0020', '0.0020', '0.0020', '0.0020', '0.0020', '0.0020', '0.0020', '0.0013', '0.0020', '0.0020', '0.0020', '0.0020', '0.0020', '0.0020', '0.0020', '-0.0000', '0.0020', '0.0020', '0.0020', '0.0020', '-0.0000', '0.0020', '0.0020', '0.0020', '0.0020', '0.0020', '0.0020', '0.0020', '0.0020', '0.0000', '0.0020', '0.0020', '-0.0000', '-0.0000', '0.0020']\n",
      "Class 5: 241 alphas found: ['0.0020', '0.0020', '0.0020', '0.0020', '0.0020', '0.0020', '0.0020', '-0.0000', '0.0020', '0.0020', '0.0020', '0.0020', '0.0020', '0.0020', '0.0020', '0.0020', '0.0020', '-0.0000', '0.0020', '0.0020', '0.0020', '0.0020', '-0.0000', '0.0006', '0.0020', '0.0020', '0.0020', '0.0020', '0.0020', '0.0020', '0.0020', '0.0020', '0.0020', '0.0020', '0.0020', '-0.0000', '0.0020', '0.0020', '0.0016', '0.0009', '0.0020', '0.0020', '0.0020', '0.0020', '0.0010', '0.0020', '0.0020', '0.0020', '-0.0000', '0.0020', '-0.0000', '-0.0000', '0.0020', '0.0020', '0.0020', '0.0020', '0.0020', '0.0020', '0.0020', '-0.0000', '0.0020', '0.0020', '-0.0000', '0.0020', '0.0020', '0.0020', '0.0020', '0.0020', '0.0020', '0.0020', '-0.0000', '0.0020', '0.0020', '0.0020', '0.0020', '0.0020', '0.0020', '0.0020', '0.0020', '-0.0000', '0.0020', '0.0020', '0.0020', '0.0020', '0.0020', '0.0020', '-0.0000', '0.0020', '0.0020', '0.0020', '0.0020', '-0.0000', '0.0020', '-0.0000', '-0.0000', '0.0020', '0.0020', '0.0020', '0.0020', '0.0020', '0.0020', '0.0020', '0.0020', '0.0020', '0.0020', '0.0020', '0.0020', '0.0020', '0.0020', '0.0020', '0.0020', '0.0020', '0.0020', '0.0020', '0.0020', '-0.0000', '0.0020', '-0.0000', '-0.0000', '0.0020', '0.0020', '0.0020', '0.0020', '0.0020', '0.0020', '0.0020', '0.0020', '0.0020', '0.0020', '0.0020', '0.0020', '0.0020', '0.0020', '0.0020', '0.0020', '0.0020', '-0.0000', '0.0020', '0.0020', '0.0020', '0.0020', '-0.0000', '0.0020', '0.0020', '0.0020', '0.0020', '0.0020', '0.0020', '-0.0000', '0.0020', '0.0020', '-0.0000', '0.0020', '0.0020', '0.0020', '0.0007', '0.0020', '0.0020', '0.0020', '0.0020', '0.0020', '0.0020', '0.0020', '0.0020', '0.0020', '0.0020', '0.0020', '-0.0000', '0.0020', '0.0020', '0.0020', '0.0020', '0.0020', '0.0020', '0.0020', '0.0020', '0.0003', '0.0020', '0.0020', '0.0020', '-0.0000', '-0.0000', '0.0020', '0.0020', '0.0020', '0.0020', '0.0020', '-0.0000', '0.0020', '0.0016', '0.0020', '-0.0000', '0.0020', '0.0020', '-0.0000', '0.0011', '0.0020', '0.0020', '0.0020', '0.0020', '0.0020', '0.0020', '0.0020', '-0.0000', '-0.0000', '0.0020', '-0.0000', '0.0020', '0.0010', '-0.0000', '0.0020', '0.0020', '0.0020', '0.0020', '0.0020', '0.0020', '0.0020', '0.0020', '0.0020', '-0.0000', '0.0020', '0.0020', '0.0020', '0.0020', '0.0020', '0.0020', '0.0020', '0.0020', '0.0020', '0.0020', '0.0020', '0.0020', '-0.0000', '0.0020', '0.0020', '0.0020', '0.0020', '0.0020', '0.0020', '0.0020', '0.0020', '0.0020', '0.0020', '0.0020', '0.0020', '0.0020', '0.0020', '0.0020', '-0.0000', '0.0020', '0.0020', '0.0020', '-0.0000', '0.0020', '0.0020', '0.0020', '0.0020', '0.0020', '0.0020', '0.0020', '-0.0000', '0.0020', '0.0020', '0.0020', '0.0020', '-0.0000', '0.0020', '0.0020', '0.0020', '0.0020', '0.0020', '0.0020', '0.0020', '0.0020', '0.0000', '0.0020', '0.0020', '0.0020', '0.0020', '0.0020']\n",
      "Class 6: 241 alphas found: ['0.0020', '0.0020', '0.0020', '0.0020', '0.0020', '0.0020', '0.0020', '-0.0000', '0.0020', '0.0020', '0.0020', '-0.0000', '0.0020', '0.0020', '0.0020', '0.0020', '0.0020', '0.0020', '0.0020', '0.0020', '0.0020', '0.0020', '-0.0000', '0.0003', '0.0020', '0.0020', '0.0020', '0.0020', '0.0020', '0.0020', '0.0020', '0.0020', '0.0020', '0.0020', '0.0020', '-0.0000', '0.0020', '0.0020', '-0.0000', '0.0020', '0.0020', '0.0020', '0.0020', '0.0020', '0.0013', '0.0020', '0.0020', '0.0020', '-0.0000', '0.0020', '0.0000', '-0.0000', '0.0020', '0.0020', '-0.0000', '0.0020', '0.0020', '0.0020', '0.0020', '-0.0000', '0.0020', '0.0020', '0.0020', '0.0020', '0.0020', '0.0008', '0.0020', '0.0020', '0.0020', '0.0020', '0.0020', '0.0020', '0.0020', '0.0020', '0.0020', '0.0020', '0.0020', '0.0020', '0.0020', '0.0020', '-0.0000', '0.0020', '0.0020', '0.0020', '0.0020', '0.0020', '0.0020', '0.0020', '0.0020', '0.0020', '0.0020', '-0.0000', '0.0020', '0.0020', '0.0020', '0.0020', '0.0020', '0.0020', '0.0020', '0.0020', '0.0020', '0.0020', '0.0020', '0.0020', '0.0020', '0.0020', '0.0020', '0.0020', '0.0020', '0.0020', '0.0020', '0.0020', '0.0020', '0.0020', '0.0020', '-0.0000', '0.0020', '-0.0000', '-0.0000', '0.0020', '0.0020', '0.0020', '0.0020', '0.0020', '-0.0000', '-0.0000', '0.0020', '0.0020', '-0.0000', '0.0020', '0.0020', '0.0020', '0.0020', '0.0020', '0.0020', '0.0020', '-0.0000', '0.0020', '0.0020', '0.0020', '0.0020', '0.0020', '0.0020', '0.0020', '0.0020', '0.0020', '0.0020', '0.0020', '-0.0000', '0.0020', '0.0020', '0.0020', '0.0020', '0.0020', '0.0020', '0.0020', '0.0020', '0.0020', '0.0020', '0.0020', '0.0020', '0.0020', '0.0020', '0.0020', '0.0020', '0.0020', '0.0020', '-0.0000', '0.0020', '0.0020', '0.0020', '0.0020', '0.0020', '0.0020', '0.0020', '-0.0000', '0.0010', '0.0020', '0.0020', '0.0020', '0.0020', '-0.0000', '0.0020', '0.0020', '0.0016', '0.0020', '-0.0000', '-0.0000', '0.0020', '-0.0000', '0.0020', '-0.0000', '0.0020', '0.0020', '0.0020', '0.0020', '0.0020', '0.0020', '0.0020', '0.0020', '0.0020', '0.0020', '0.0020', '0.0020', '-0.0000', '0.0020', '0.0020', '0.0020', '0.0020', '-0.0000', '0.0020', '0.0020', '0.0020', '0.0020', '-0.0000', '0.0020', '0.0020', '0.0020', '0.0020', '0.0020', '0.0020', '0.0020', '0.0020', '0.0020', '0.0020', '0.0020', '0.0020', '0.0020', '0.0020', '0.0020', '0.0016', '0.0020', '-0.0000', '0.0020', '0.0020', '0.0020', '0.0020', '0.0020', '-0.0000', '0.0020', '0.0020', '0.0020', '0.0020', '0.0020', '0.0020', '0.0020', '0.0020', '0.0020', '-0.0000', '0.0020', '0.0020', '0.0020', '-0.0000', '0.0020', '0.0020', '0.0020', '0.0020', '0.0020', '0.0020', '0.0020', '-0.0000', '0.0020', '0.0020', '0.0020', '0.0020', '0.0020', '0.0020', '0.0020', '0.0020', '0.0020', '0.0020', '0.0020', '0.0020', '0.0020', '0.0000', '0.0020', '0.0020', '0.0020', '0.0020', '0.0020']\n"
     ]
    },
    {
     "name": "stderr",
     "output_type": "stream",
     "text": [
      "2024-04-25 17:15:43 (INFO): Delta: 0.01\n",
      "2024-04-25 17:15:58 (INFO): Test accuracy: 0.8351648449897766\n",
      "2024-04-25 17:15:58 (INFO): Test accuracy ALL UNLABELED: 0.7940691709518433\n",
      "2024-04-25 17:15:58 (INFO): Train accuracy: 0.9071428775787354\n",
      "2024-04-25 17:15:58 (INFO): Accuracy_lb_test: 0.831501841545105\n",
      "2024-04-25 17:15:58 (INFO): Accuracy_ub_test: 0.8351648449897766\n",
      "2024-04-25 17:15:58 (INFO): Accuracy_lb_trn: 0.9071428775787354\n",
      "2024-04-25 17:15:58 (INFO): Accuracy_ub_trn: 0.9071428775787354\n",
      "2024-04-25 17:15:58 (INFO): Certified accuracy (evasion): 0.8351648449897766\n",
      "2024-04-25 17:15:58 (INFO): Certified accuracy (evasion, trivial): 0.23809523809523808\n",
      "2024-04-25 17:15:58 (INFO): Certified unrobustness (evasion): 0.0\n"
     ]
    },
    {
     "name": "stdout",
     "output_type": "stream",
     "text": [
      "Warning for adding constraints: zero or small (< 1e-13) coefficients, ignored\n"
     ]
    },
    {
     "name": "stderr",
     "output_type": "stream",
     "text": [
      "2024-04-25 17:16:02 (INFO): Warning for adding constraints: zero or small (< 1e-13) coefficients, ignored\n"
     ]
    },
    {
     "name": "stdout",
     "output_type": "stream",
     "text": [
      "Set parameter IntegralityFocus to value 1\n"
     ]
    },
    {
     "name": "stderr",
     "output_type": "stream",
     "text": [
      "2024-04-25 17:16:03 (INFO): Set parameter IntegralityFocus to value 1\n"
     ]
    },
    {
     "name": "stdout",
     "output_type": "stream",
     "text": [
      "Set parameter IntFeasTol to value 0.0001\n"
     ]
    },
    {
     "name": "stderr",
     "output_type": "stream",
     "text": [
      "2024-04-25 17:16:03 (INFO): Set parameter IntFeasTol to value 0.0001\n"
     ]
    },
    {
     "name": "stdout",
     "output_type": "stream",
     "text": [
      "Set parameter DualReductions to value 0\n"
     ]
    },
    {
     "name": "stderr",
     "output_type": "stream",
     "text": [
      "2024-04-25 17:16:03 (INFO): Set parameter DualReductions to value 0\n"
     ]
    },
    {
     "name": "stdout",
     "output_type": "stream",
     "text": [
      "Set parameter FeasibilityTol to value 0.0001\n"
     ]
    },
    {
     "name": "stderr",
     "output_type": "stream",
     "text": [
      "2024-04-25 17:16:03 (INFO): Set parameter FeasibilityTol to value 0.0001\n"
     ]
    },
    {
     "name": "stdout",
     "output_type": "stream",
     "text": [
      "Set parameter MIPGap to value 0.05\n"
     ]
    },
    {
     "name": "stderr",
     "output_type": "stream",
     "text": [
      "2024-04-25 17:16:03 (INFO): Set parameter MIPGap to value 0.05\n"
     ]
    },
    {
     "name": "stdout",
     "output_type": "stream",
     "text": [
      "Set parameter OptimalityTol to value 0.0001\n"
     ]
    },
    {
     "name": "stderr",
     "output_type": "stream",
     "text": [
      "2024-04-25 17:16:03 (INFO): Set parameter OptimalityTol to value 0.0001\n"
     ]
    },
    {
     "name": "stdout",
     "output_type": "stream",
     "text": [
      "Set parameter NumericFocus to value 3\n"
     ]
    },
    {
     "name": "stderr",
     "output_type": "stream",
     "text": [
      "2024-04-25 17:16:03 (INFO): Set parameter NumericFocus to value 3\n"
     ]
    },
    {
     "name": "stdout",
     "output_type": "stream",
     "text": [
      "Set parameter TimeLimit to value 3600\n"
     ]
    },
    {
     "name": "stderr",
     "output_type": "stream",
     "text": [
      "2024-04-25 17:16:03 (INFO): Set parameter TimeLimit to value 3600\n"
     ]
    },
    {
     "name": "stdout",
     "output_type": "stream",
     "text": [
      "Set parameter MIPFocus to value 3\n"
     ]
    },
    {
     "name": "stderr",
     "output_type": "stream",
     "text": [
      "2024-04-25 17:16:03 (INFO): Set parameter MIPFocus to value 3\n"
     ]
    },
    {
     "name": "stdout",
     "output_type": "stream",
     "text": [
      "Gurobi Optimizer version 11.0.1 build v11.0.1rc0 (linux64 - \"Ubuntu 22.04.4 LTS\")\n"
     ]
    },
    {
     "name": "stderr",
     "output_type": "stream",
     "text": [
      "2024-04-25 17:16:03 (INFO): Gurobi Optimizer version 11.0.1 build v11.0.1rc0 (linux64 - \"Ubuntu 22.04.4 LTS\")\n"
     ]
    },
    {
     "name": "stdout",
     "output_type": "stream",
     "text": [
      "\n"
     ]
    },
    {
     "name": "stderr",
     "output_type": "stream",
     "text": [
      "2024-04-25 17:16:03 (INFO): \n"
     ]
    },
    {
     "name": "stdout",
     "output_type": "stream",
     "text": [
      "CPU model: Intel(R) Xeon(R) CPU E5-2630 v4 @ 2.20GHz, instruction set [SSE2|AVX|AVX2]\n"
     ]
    },
    {
     "name": "stderr",
     "output_type": "stream",
     "text": [
      "2024-04-25 17:16:03 (INFO): CPU model: Intel(R) Xeon(R) CPU E5-2630 v4 @ 2.20GHz, instruction set [SSE2|AVX|AVX2]\n"
     ]
    },
    {
     "name": "stdout",
     "output_type": "stream",
     "text": [
      "Thread count: 20 physical cores, 20 logical processors, using up to 20 threads\n"
     ]
    },
    {
     "name": "stderr",
     "output_type": "stream",
     "text": [
      "2024-04-25 17:16:03 (INFO): Thread count: 20 physical cores, 20 logical processors, using up to 20 threads\n"
     ]
    },
    {
     "name": "stdout",
     "output_type": "stream",
     "text": [
      "\n"
     ]
    },
    {
     "name": "stderr",
     "output_type": "stream",
     "text": [
      "2024-04-25 17:16:03 (INFO): \n"
     ]
    },
    {
     "name": "stdout",
     "output_type": "stream",
     "text": [
      "Optimize a model with 158760 rows, 80080 columns and 395873 nonzeros\n"
     ]
    },
    {
     "name": "stderr",
     "output_type": "stream",
     "text": [
      "2024-04-25 17:16:03 (INFO): Optimize a model with 158760 rows, 80080 columns and 395873 nonzeros\n"
     ]
    },
    {
     "name": "stdout",
     "output_type": "stream",
     "text": [
      "Model fingerprint: 0xa79cc4d0\n"
     ]
    },
    {
     "name": "stderr",
     "output_type": "stream",
     "text": [
      "2024-04-25 17:16:03 (INFO): Model fingerprint: 0xa79cc4d0\n"
     ]
    },
    {
     "name": "stdout",
     "output_type": "stream",
     "text": [
      "Variable types: 79520 continuous, 560 integer (560 binary)\n"
     ]
    },
    {
     "name": "stderr",
     "output_type": "stream",
     "text": [
      "2024-04-25 17:16:03 (INFO): Variable types: 79520 continuous, 560 integer (560 binary)\n"
     ]
    },
    {
     "name": "stdout",
     "output_type": "stream",
     "text": [
      "Coefficient statistics:\n"
     ]
    },
    {
     "name": "stderr",
     "output_type": "stream",
     "text": [
      "2024-04-25 17:16:03 (INFO): Coefficient statistics:\n"
     ]
    },
    {
     "name": "stdout",
     "output_type": "stream",
     "text": [
      "  Matrix range     [2e-03, 3e+01]\n"
     ]
    },
    {
     "name": "stderr",
     "output_type": "stream",
     "text": [
      "2024-04-25 17:16:03 (INFO):   Matrix range     [2e-03, 3e+01]\n"
     ]
    },
    {
     "name": "stdout",
     "output_type": "stream",
     "text": [
      "  Objective range  [1e+00, 1e+00]\n"
     ]
    },
    {
     "name": "stderr",
     "output_type": "stream",
     "text": [
      "2024-04-25 17:16:03 (INFO):   Objective range  [1e+00, 1e+00]\n"
     ]
    },
    {
     "name": "stdout",
     "output_type": "stream",
     "text": [
      "  Bounds range     [2e-03, 1e+00]\n"
     ]
    },
    {
     "name": "stderr",
     "output_type": "stream",
     "text": [
      "2024-04-25 17:16:03 (INFO):   Bounds range     [2e-03, 1e+00]\n"
     ]
    },
    {
     "name": "stdout",
     "output_type": "stream",
     "text": [
      "  RHS range        [2e-03, 1e+00]\n"
     ]
    },
    {
     "name": "stderr",
     "output_type": "stream",
     "text": [
      "2024-04-25 17:16:03 (INFO):   RHS range        [2e-03, 1e+00]\n"
     ]
    },
    {
     "name": "stdout",
     "output_type": "stream",
     "text": [
      "\n"
     ]
    },
    {
     "name": "stderr",
     "output_type": "stream",
     "text": [
      "2024-04-25 17:16:03 (INFO): \n"
     ]
    },
    {
     "name": "stdout",
     "output_type": "stream",
     "text": [
      "Loaded user MIP start with objective -0.957918\n",
      "\n",
      "Loaded user MIP start with objective -0.957918\n"
     ]
    },
    {
     "name": "stderr",
     "output_type": "stream",
     "text": [
      "2024-04-25 17:16:03 (INFO): Loaded user MIP start with objective -0.957918\n"
     ]
    },
    {
     "name": "stdout",
     "output_type": "stream",
     "text": [
      "\n"
     ]
    },
    {
     "name": "stderr",
     "output_type": "stream",
     "text": [
      "2024-04-25 17:16:03 (INFO): \n"
     ]
    },
    {
     "name": "stdout",
     "output_type": "stream",
     "text": [
      "Presolve removed 30245 rows and 3700 columns\n"
     ]
    },
    {
     "name": "stderr",
     "output_type": "stream",
     "text": [
      "2024-04-25 17:16:07 (INFO): Presolve removed 30245 rows and 3700 columns\n"
     ]
    },
    {
     "name": "stdout",
     "output_type": "stream",
     "text": [
      "Presolve time: 4.24s\n"
     ]
    },
    {
     "name": "stderr",
     "output_type": "stream",
     "text": [
      "2024-04-25 17:16:07 (INFO): Presolve time: 4.24s\n"
     ]
    },
    {
     "name": "stdout",
     "output_type": "stream",
     "text": [
      "Presolved: 128515 rows, 76380 columns, 333975 nonzeros\n"
     ]
    },
    {
     "name": "stderr",
     "output_type": "stream",
     "text": [
      "2024-04-25 17:16:07 (INFO): Presolved: 128515 rows, 76380 columns, 333975 nonzeros\n"
     ]
    },
    {
     "name": "stdout",
     "output_type": "stream",
     "text": [
      "Variable types: 75906 continuous, 474 integer (474 binary)\n"
     ]
    },
    {
     "name": "stderr",
     "output_type": "stream",
     "text": [
      "2024-04-25 17:16:08 (INFO): Variable types: 75906 continuous, 474 integer (474 binary)\n"
     ]
    },
    {
     "name": "stdout",
     "output_type": "stream",
     "text": [
      "\n"
     ]
    },
    {
     "name": "stderr",
     "output_type": "stream",
     "text": [
      "2024-04-25 17:16:08 (INFO): \n"
     ]
    },
    {
     "name": "stdout",
     "output_type": "stream",
     "text": [
      "Deterministic concurrent LP optimizer: primal and dual simplex (primal and dual model)\n"
     ]
    },
    {
     "name": "stderr",
     "output_type": "stream",
     "text": [
      "2024-04-25 17:16:08 (INFO): Deterministic concurrent LP optimizer: primal and dual simplex (primal and dual model)\n"
     ]
    },
    {
     "name": "stdout",
     "output_type": "stream",
     "text": [
      "Showing primal log only...\n"
     ]
    },
    {
     "name": "stderr",
     "output_type": "stream",
     "text": [
      "2024-04-25 17:16:08 (INFO): Showing primal log only...\n"
     ]
    },
    {
     "name": "stdout",
     "output_type": "stream",
     "text": [
      "\n"
     ]
    },
    {
     "name": "stderr",
     "output_type": "stream",
     "text": [
      "2024-04-25 17:16:08 (INFO): \n"
     ]
    },
    {
     "name": "stdout",
     "output_type": "stream",
     "text": [
      "Root relaxation presolved: 117729 rows, 76284 columns, 295588 nonzeros\n"
     ]
    },
    {
     "name": "stderr",
     "output_type": "stream",
     "text": [
      "2024-04-25 17:16:17 (INFO): Root relaxation presolved: 117729 rows, 76284 columns, 295588 nonzeros\n"
     ]
    },
    {
     "name": "stdout",
     "output_type": "stream",
     "text": [
      "\n"
     ]
    },
    {
     "name": "stderr",
     "output_type": "stream",
     "text": [
      "2024-04-25 17:16:17 (INFO): \n"
     ]
    },
    {
     "name": "stdout",
     "output_type": "stream",
     "text": [
      "\n"
     ]
    },
    {
     "name": "stderr",
     "output_type": "stream",
     "text": [
      "2024-04-25 17:16:17 (INFO): \n"
     ]
    },
    {
     "name": "stdout",
     "output_type": "stream",
     "text": [
      "Root simplex log...\n"
     ]
    },
    {
     "name": "stderr",
     "output_type": "stream",
     "text": [
      "2024-04-25 17:16:17 (INFO): Root simplex log...\n"
     ]
    },
    {
     "name": "stdout",
     "output_type": "stream",
     "text": [
      "\n"
     ]
    },
    {
     "name": "stderr",
     "output_type": "stream",
     "text": [
      "2024-04-25 17:16:17 (INFO): \n"
     ]
    },
    {
     "name": "stdout",
     "output_type": "stream",
     "text": [
      "Iteration    Objective       Primal Inf.    Dual Inf.      Time\n"
     ]
    },
    {
     "name": "stderr",
     "output_type": "stream",
     "text": [
      "2024-04-25 17:16:17 (INFO): Iteration    Objective       Primal Inf.    Dual Inf.      Time\n"
     ]
    },
    {
     "name": "stdout",
     "output_type": "stream",
     "text": [
      "       0    1.7691465e-01   1.135008e+02   4.342679e+10     14s\n"
     ]
    },
    {
     "name": "stderr",
     "output_type": "stream",
     "text": [
      "2024-04-25 17:16:17 (INFO):        0    1.7691465e-01   1.135008e+02   4.342679e+10     14s\n"
     ]
    },
    {
     "name": "stdout",
     "output_type": "stream",
     "text": [
      "   35492   -5.5328224e-01   5.590875e-01   4.246474e+08     15s\n"
     ]
    },
    {
     "name": "stderr",
     "output_type": "stream",
     "text": [
      "2024-04-25 17:16:18 (INFO):    35492   -5.5328224e-01   5.590875e-01   4.246474e+08     15s\n"
     ]
    },
    {
     "name": "stdout",
     "output_type": "stream",
     "text": [
      "   40606   -7.1236732e-01   7.552745e-02   1.011578e+09     20s\n"
     ]
    },
    {
     "name": "stderr",
     "output_type": "stream",
     "text": [
      "2024-04-25 17:16:23 (INFO):    40606   -7.1236732e-01   7.552745e-02   1.011578e+09     20s\n"
     ]
    },
    {
     "name": "stdout",
     "output_type": "stream",
     "text": [
      "   45967   -9.1098919e-01   0.000000e+00   8.018610e+02     25s\n"
     ]
    },
    {
     "name": "stderr",
     "output_type": "stream",
     "text": [
      "2024-04-25 17:16:28 (INFO):    45967   -9.1098919e-01   0.000000e+00   8.018610e+02     25s\n"
     ]
    },
    {
     "name": "stdout",
     "output_type": "stream",
     "text": [
      "   49527   -9.4022903e-01   0.000000e+00   1.755396e+02     30s\n"
     ]
    },
    {
     "name": "stderr",
     "output_type": "stream",
     "text": [
      "2024-04-25 17:16:33 (INFO):    49527   -9.4022903e-01   0.000000e+00   1.755396e+02     30s\n"
     ]
    },
    {
     "name": "stdout",
     "output_type": "stream",
     "text": [
      "   53287   -9.7080146e-01   0.000000e+00   2.957874e+02     35s\n"
     ]
    },
    {
     "name": "stderr",
     "output_type": "stream",
     "text": [
      "2024-04-25 17:16:38 (INFO):    53287   -9.7080146e-01   0.000000e+00   2.957874e+02     35s\n"
     ]
    },
    {
     "name": "stdout",
     "output_type": "stream",
     "text": [
      "   56822   -9.8993382e-01   0.000000e+00   4.558944e+02     40s\n"
     ]
    },
    {
     "name": "stderr",
     "output_type": "stream",
     "text": [
      "2024-04-25 17:16:43 (INFO):    56822   -9.8993382e-01   0.000000e+00   4.558944e+02     40s\n"
     ]
    },
    {
     "name": "stdout",
     "output_type": "stream",
     "text": [
      "   60054   -1.0057345e+00   0.000000e+00   8.125487e+02     45s\n"
     ]
    },
    {
     "name": "stderr",
     "output_type": "stream",
     "text": [
      "2024-04-25 17:16:48 (INFO):    60054   -1.0057345e+00   0.000000e+00   8.125487e+02     45s\n"
     ]
    },
    {
     "name": "stdout",
     "output_type": "stream",
     "text": [
      "   63285   -1.0233312e+00   0.000000e+00   1.426677e+03     50s\n"
     ]
    },
    {
     "name": "stderr",
     "output_type": "stream",
     "text": [
      "2024-04-25 17:16:53 (INFO):    63285   -1.0233312e+00   0.000000e+00   1.426677e+03     50s\n"
     ]
    },
    {
     "name": "stdout",
     "output_type": "stream",
     "text": [
      "   66318   -1.0407411e+00   0.000000e+00   5.452687e+02     55s\n"
     ]
    },
    {
     "name": "stderr",
     "output_type": "stream",
     "text": [
      "2024-04-25 17:16:58 (INFO):    66318   -1.0407411e+00   0.000000e+00   5.452687e+02     55s\n"
     ]
    },
    {
     "name": "stdout",
     "output_type": "stream",
     "text": [
      "   69550   -1.0564775e+00   0.000000e+00   6.262090e+02     60s\n"
     ]
    },
    {
     "name": "stderr",
     "output_type": "stream",
     "text": [
      "2024-04-25 17:17:03 (INFO):    69550   -1.0564775e+00   0.000000e+00   6.262090e+02     60s\n"
     ]
    },
    {
     "name": "stdout",
     "output_type": "stream",
     "text": [
      "   72599   -1.0712950e+00   0.000000e+00   5.489921e+02     65s\n"
     ]
    },
    {
     "name": "stderr",
     "output_type": "stream",
     "text": [
      "2024-04-25 17:17:08 (INFO):    72599   -1.0712950e+00   0.000000e+00   5.489921e+02     65s\n"
     ]
    },
    {
     "name": "stdout",
     "output_type": "stream",
     "text": [
      "   75730   -1.0877427e+00   0.000000e+00   1.993606e+02     70s\n"
     ]
    },
    {
     "name": "stderr",
     "output_type": "stream",
     "text": [
      "2024-04-25 17:17:13 (INFO):    75730   -1.0877427e+00   0.000000e+00   1.993606e+02     70s\n"
     ]
    },
    {
     "name": "stdout",
     "output_type": "stream",
     "text": [
      "   79265   -1.0988386e+00   0.000000e+00   5.973333e+02     75s\n"
     ]
    },
    {
     "name": "stderr",
     "output_type": "stream",
     "text": [
      "2024-04-25 17:17:18 (INFO):    79265   -1.0988386e+00   0.000000e+00   5.973333e+02     75s\n"
     ]
    },
    {
     "name": "stdout",
     "output_type": "stream",
     "text": [
      "   81996   -1.1095596e+00   0.000000e+00   5.616916e+02     80s\n"
     ]
    },
    {
     "name": "stderr",
     "output_type": "stream",
     "text": [
      "2024-04-25 17:17:23 (INFO):    81996   -1.1095596e+00   0.000000e+00   5.616916e+02     80s\n"
     ]
    },
    {
     "name": "stdout",
     "output_type": "stream",
     "text": [
      "   84256   -1.1193209e+00   0.000000e+00   2.179664e+02     85s\n"
     ]
    },
    {
     "name": "stderr",
     "output_type": "stream",
     "text": [
      "2024-04-25 17:17:28 (INFO):    84256   -1.1193209e+00   0.000000e+00   2.179664e+02     85s\n"
     ]
    },
    {
     "name": "stdout",
     "output_type": "stream",
     "text": [
      "   86377   -1.1276101e+00   0.000000e+00   2.187940e+02     90s\n"
     ]
    },
    {
     "name": "stderr",
     "output_type": "stream",
     "text": [
      "2024-04-25 17:17:33 (INFO):    86377   -1.1276101e+00   0.000000e+00   2.187940e+02     90s\n"
     ]
    },
    {
     "name": "stdout",
     "output_type": "stream",
     "text": [
      "   88498   -1.1351542e+00   0.000000e+00   2.235057e+02     95s\n"
     ]
    },
    {
     "name": "stderr",
     "output_type": "stream",
     "text": [
      "2024-04-25 17:17:38 (INFO):    88498   -1.1351542e+00   0.000000e+00   2.235057e+02     95s\n"
     ]
    },
    {
     "name": "stdout",
     "output_type": "stream",
     "text": [
      "   90316   -1.1419118e+00   0.000000e+00   1.365264e+02    100s\n"
     ]
    },
    {
     "name": "stderr",
     "output_type": "stream",
     "text": [
      "2024-04-25 17:17:43 (INFO):    90316   -1.1419118e+00   0.000000e+00   1.365264e+02    100s\n"
     ]
    },
    {
     "name": "stdout",
     "output_type": "stream",
     "text": [
      "   92235   -1.1479720e+00   0.000000e+00   2.606429e+02    105s\n"
     ]
    },
    {
     "name": "stderr",
     "output_type": "stream",
     "text": [
      "2024-04-25 17:17:48 (INFO):    92235   -1.1479720e+00   0.000000e+00   2.606429e+02    105s\n"
     ]
    },
    {
     "name": "stdout",
     "output_type": "stream",
     "text": [
      "   93750   -1.1533532e+00   0.000000e+00   3.547538e+02    110s\n"
     ]
    },
    {
     "name": "stderr",
     "output_type": "stream",
     "text": [
      "2024-04-25 17:17:53 (INFO):    93750   -1.1533532e+00   0.000000e+00   3.547538e+02    110s\n"
     ]
    },
    {
     "name": "stdout",
     "output_type": "stream",
     "text": [
      "   95669   -1.1597278e+00   0.000000e+00   2.128929e+02    115s\n"
     ]
    },
    {
     "name": "stderr",
     "output_type": "stream",
     "text": [
      "2024-04-25 17:17:58 (INFO):    95669   -1.1597278e+00   0.000000e+00   2.128929e+02    115s\n"
     ]
    },
    {
     "name": "stdout",
     "output_type": "stream",
     "text": [
      "   97596   -1.1659968e+00   0.000000e+00   1.964428e+02    120s\n"
     ]
    },
    {
     "name": "stderr",
     "output_type": "stream",
     "text": [
      "2024-04-25 17:18:03 (INFO):    97596   -1.1659968e+00   0.000000e+00   1.964428e+02    120s\n"
     ]
    },
    {
     "name": "stdout",
     "output_type": "stream",
     "text": [
      "   99818   -1.1726010e+00   0.000000e+00   7.416041e+01    125s\n"
     ]
    },
    {
     "name": "stderr",
     "output_type": "stream",
     "text": [
      "2024-04-25 17:18:08 (INFO):    99818   -1.1726010e+00   0.000000e+00   7.416041e+01    125s\n"
     ]
    },
    {
     "name": "stdout",
     "output_type": "stream",
     "text": [
      "  103063   -1.2463602e+00   3.389693e+01   0.000000e+00    130s\n"
     ]
    },
    {
     "name": "stderr",
     "output_type": "stream",
     "text": [
      "2024-04-25 17:18:13 (INFO):   103063   -1.2463602e+00   3.389693e+01   0.000000e+00    130s\n"
     ]
    },
    {
     "name": "stdout",
     "output_type": "stream",
     "text": [
      "  109224   -1.2409403e+00   2.341999e+01   0.000000e+00    135s\n"
     ]
    },
    {
     "name": "stderr",
     "output_type": "stream",
     "text": [
      "2024-04-25 17:18:18 (INFO):   109224   -1.2409403e+00   2.341999e+01   0.000000e+00    135s\n"
     ]
    },
    {
     "name": "stdout",
     "output_type": "stream",
     "text": [
      "  114678   -1.1769708e+00   8.235875e+00   0.000000e+00    140s\n"
     ]
    },
    {
     "name": "stderr",
     "output_type": "stream",
     "text": [
      "2024-04-25 17:18:23 (INFO):   114678   -1.1769708e+00   8.235875e+00   0.000000e+00    140s\n"
     ]
    },
    {
     "name": "stdout",
     "output_type": "stream",
     "text": [
      "Concurrent spin time: 0.24s\n"
     ]
    },
    {
     "name": "stderr",
     "output_type": "stream",
     "text": [
      "2024-04-25 17:18:28 (INFO): Concurrent spin time: 0.24s\n"
     ]
    },
    {
     "name": "stdout",
     "output_type": "stream",
     "text": [
      "\n"
     ]
    },
    {
     "name": "stderr",
     "output_type": "stream",
     "text": [
      "2024-04-25 17:18:28 (INFO): \n"
     ]
    },
    {
     "name": "stdout",
     "output_type": "stream",
     "text": [
      "Solved with dual simplex\n"
     ]
    },
    {
     "name": "stderr",
     "output_type": "stream",
     "text": [
      "2024-04-25 17:18:28 (INFO): Solved with dual simplex\n"
     ]
    },
    {
     "name": "stdout",
     "output_type": "stream",
     "text": [
      "\n"
     ]
    },
    {
     "name": "stderr",
     "output_type": "stream",
     "text": [
      "2024-04-25 17:18:28 (INFO): \n"
     ]
    },
    {
     "name": "stdout",
     "output_type": "stream",
     "text": [
      "Root relaxation: objective -1.106909e+00, 97123 iterations, 139.86 seconds (117.76 work units)\n"
     ]
    },
    {
     "name": "stderr",
     "output_type": "stream",
     "text": [
      "2024-04-25 17:18:28 (INFO): Root relaxation: objective -1.106909e+00, 97123 iterations, 139.86 seconds (117.76 work units)\n"
     ]
    },
    {
     "name": "stdout",
     "output_type": "stream",
     "text": [
      "\n"
     ]
    },
    {
     "name": "stderr",
     "output_type": "stream",
     "text": [
      "2024-04-25 17:18:32 (INFO): \n"
     ]
    },
    {
     "name": "stdout",
     "output_type": "stream",
     "text": [
      "    Nodes    |    Current Node    |     Objective Bounds      |     Work\n"
     ]
    },
    {
     "name": "stderr",
     "output_type": "stream",
     "text": [
      "2024-04-25 17:18:32 (INFO):     Nodes    |    Current Node    |     Objective Bounds      |     Work\n"
     ]
    },
    {
     "name": "stdout",
     "output_type": "stream",
     "text": [
      " Expl Unexpl |  Obj  Depth IntInf | Incumbent    BestBd   Gap | It/Node Time\n"
     ]
    },
    {
     "name": "stderr",
     "output_type": "stream",
     "text": [
      "2024-04-25 17:18:32 (INFO):  Expl Unexpl |  Obj  Depth IntInf | Incumbent    BestBd   Gap | It/Node Time\n"
     ]
    },
    {
     "name": "stdout",
     "output_type": "stream",
     "text": [
      "\n"
     ]
    },
    {
     "name": "stderr",
     "output_type": "stream",
     "text": [
      "2024-04-25 17:18:32 (INFO): \n"
     ]
    },
    {
     "name": "stdout",
     "output_type": "stream",
     "text": [
      "     0     0   -1.10691    0  147   -0.95792   -1.10691  15.6%     -  149s\n"
     ]
    },
    {
     "name": "stderr",
     "output_type": "stream",
     "text": [
      "2024-04-25 17:18:32 (INFO):      0     0   -1.10691    0  147   -0.95792   -1.10691  15.6%     -  149s\n"
     ]
    },
    {
     "name": "stdout",
     "output_type": "stream",
     "text": [
      "     0     1   -1.09925    0  141   -0.95792   -1.09925  14.8%     -  217s\n"
     ]
    },
    {
     "name": "stderr",
     "output_type": "stream",
     "text": [
      "2024-04-25 17:19:40 (INFO):      0     1   -1.09925    0  141   -0.95792   -1.09925  14.8%     -  217s\n"
     ]
    },
    {
     "name": "stdout",
     "output_type": "stream",
     "text": [
      "     1     1   -1.09017    1  136   -0.95792   -1.09017  13.8%  1821  226s\n"
     ]
    },
    {
     "name": "stderr",
     "output_type": "stream",
     "text": [
      "2024-04-25 17:19:49 (INFO):      1     1   -1.09017    1  136   -0.95792   -1.09017  13.8%  1821  226s\n"
     ]
    },
    {
     "name": "stdout",
     "output_type": "stream",
     "text": [
      "     2     1   -1.08751    2  134   -0.95792   -1.08751  13.5%  1099  235s\n"
     ]
    },
    {
     "name": "stderr",
     "output_type": "stream",
     "text": [
      "2024-04-25 17:19:58 (INFO):      2     1   -1.08751    2  134   -0.95792   -1.08751  13.5%  1099  235s\n"
     ]
    },
    {
     "name": "stdout",
     "output_type": "stream",
     "text": [
      "     3     2   -1.04471    3  129   -0.95792   -1.04471  9.06%  3124  252s\n"
     ]
    },
    {
     "name": "stderr",
     "output_type": "stream",
     "text": [
      "2024-04-25 17:20:16 (INFO):      3     2   -1.04471    3  129   -0.95792   -1.04471  9.06%  3124  252s\n"
     ]
    },
    {
     "name": "stdout",
     "output_type": "stream",
     "text": [
      "     4     2     cutoff    4        -0.95792   -1.04471  9.06% 10258  295s\n"
     ]
    },
    {
     "name": "stderr",
     "output_type": "stream",
     "text": [
      "2024-04-25 17:20:58 (INFO):      4     2     cutoff    4        -0.95792   -1.04471  9.06% 10258  295s\n"
     ]
    },
    {
     "name": "stdout",
     "output_type": "stream",
     "text": [
      "     6     4   -1.04076    5  129   -0.95792   -1.04076  8.65%  7111  327s\n"
     ]
    },
    {
     "name": "stderr",
     "output_type": "stream",
     "text": [
      "2024-04-25 17:21:30 (INFO):      6     4   -1.04076    5  129   -0.95792   -1.04076  8.65%  7111  327s\n"
     ]
    },
    {
     "name": "stdout",
     "output_type": "stream",
     "text": [
      "     8     4   -1.03416    6  113   -0.95792   -1.03416  7.96%  8211  372s\n"
     ]
    },
    {
     "name": "stderr",
     "output_type": "stream",
     "text": [
      "2024-04-25 17:22:15 (INFO):      8     4   -1.03416    6  113   -0.95792   -1.03416  7.96%  8211  372s\n"
     ]
    },
    {
     "name": "stdout",
     "output_type": "stream",
     "text": [
      "    12     4   -1.03054    7  101   -0.95792   -1.03054  7.58%  9066  395s\n"
     ]
    },
    {
     "name": "stderr",
     "output_type": "stream",
     "text": [
      "2024-04-25 17:22:38 (INFO):     12     4   -1.03054    7  101   -0.95792   -1.03054  7.58%  9066  395s\n"
     ]
    },
    {
     "name": "stdout",
     "output_type": "stream",
     "text": [
      "    16     4   -1.02878    8   99   -0.95792   -1.02878  7.40%  9329  524s\n"
     ]
    },
    {
     "name": "stderr",
     "output_type": "stream",
     "text": [
      "2024-04-25 17:24:47 (INFO):     16     4   -1.02878    8   99   -0.95792   -1.02878  7.40%  9329  524s\n"
     ]
    },
    {
     "name": "stdout",
     "output_type": "stream",
     "text": [
      "    20     7   -1.02580    9   99   -0.95792   -1.02580  7.09% 11126  536s\n"
     ]
    },
    {
     "name": "stderr",
     "output_type": "stream",
     "text": [
      "2024-04-25 17:24:59 (INFO):     20     7   -1.02580    9   99   -0.95792   -1.02580  7.09% 11126  536s\n"
     ]
    },
    {
     "name": "stdout",
     "output_type": "stream",
     "text": [
      "    24     9   -1.02471   10   98   -0.95792   -1.02471  6.97%  9594  555s\n"
     ]
    },
    {
     "name": "stderr",
     "output_type": "stream",
     "text": [
      "2024-04-25 17:25:18 (INFO):     24     9   -1.02471   10   98   -0.95792   -1.02471  6.97%  9594  555s\n"
     ]
    },
    {
     "name": "stdout",
     "output_type": "stream",
     "text": [
      "H   31    11                      -0.9594474   -1.02471  6.80%  8588  589s\n"
     ]
    },
    {
     "name": "stderr",
     "output_type": "stream",
     "text": [
      "2024-04-25 17:25:52 (INFO): H   31    11                      -0.9594474   -1.02471  6.80%  8588  589s\n"
     ]
    },
    {
     "name": "stdout",
     "output_type": "stream",
     "text": [
      "H   35    11                      -0.9597303   -1.02221  6.51%  8529  589s\n"
     ]
    },
    {
     "name": "stderr",
     "output_type": "stream",
     "text": [
      "2024-04-25 17:25:52 (INFO): H   35    11                      -0.9597303   -1.02221  6.51%  8529  589s\n"
     ]
    },
    {
     "name": "stdout",
     "output_type": "stream",
     "text": [
      "    40    16   -1.02039   12   96   -0.95973   -1.02039  6.32%  8581  660s\n"
     ]
    },
    {
     "name": "stderr",
     "output_type": "stream",
     "text": [
      "2024-04-25 17:27:03 (INFO):     40    16   -1.02039   12   96   -0.95973   -1.02039  6.32%  8581  660s\n"
     ]
    },
    {
     "name": "stdout",
     "output_type": "stream",
     "text": [
      "    51    20   -1.01688   13   85   -0.95973   -1.01688  5.95%  7806  709s\n"
     ]
    },
    {
     "name": "stderr",
     "output_type": "stream",
     "text": [
      "2024-04-25 17:27:53 (INFO):     51    20   -1.01688   13   85   -0.95973   -1.01688  5.95%  7806  709s\n"
     ]
    },
    {
     "name": "stdout",
     "output_type": "stream",
     "text": [
      "    67    25   -1.01430   14   84   -0.95973   -1.01430  5.69%  7272  736s\n"
     ]
    },
    {
     "name": "stderr",
     "output_type": "stream",
     "text": [
      "2024-04-25 17:28:19 (INFO):     67    25   -1.01430   14   84   -0.95973   -1.01430  5.69%  7272  736s\n"
     ]
    },
    {
     "name": "stdout",
     "output_type": "stream",
     "text": [
      "    87    30   -1.01369   15   81   -0.95973   -1.01369  5.62%  7006  796s\n"
     ]
    },
    {
     "name": "stderr",
     "output_type": "stream",
     "text": [
      "2024-04-25 17:29:19 (INFO):     87    30   -1.01369   15   81   -0.95973   -1.01369  5.62%  7006  796s\n"
     ]
    },
    {
     "name": "stdout",
     "output_type": "stream",
     "text": [
      "   107    51   -1.01143   16   80   -0.95973   -1.01143  5.39%  7006  822s\n"
     ]
    },
    {
     "name": "stderr",
     "output_type": "stream",
     "text": [
      "2024-04-25 17:29:45 (INFO):    107    51   -1.01143   16   80   -0.95973   -1.01143  5.39%  7006  822s\n"
     ]
    },
    {
     "name": "stdout",
     "output_type": "stream",
     "text": [
      "   136    62   -1.00886   17   74   -0.95973   -1.00886  5.12%  6364  847s\n"
     ]
    },
    {
     "name": "stderr",
     "output_type": "stream",
     "text": [
      "2024-04-25 17:30:10 (INFO):    136    62   -1.00886   17   74   -0.95973   -1.00886  5.12%  6364  847s\n"
     ]
    },
    {
     "name": "stdout",
     "output_type": "stream",
     "text": [
      "\n"
     ]
    },
    {
     "name": "stderr",
     "output_type": "stream",
     "text": [
      "2024-04-25 17:30:10 (INFO): \n"
     ]
    },
    {
     "name": "stdout",
     "output_type": "stream",
     "text": [
      "Cutting planes:\n"
     ]
    },
    {
     "name": "stderr",
     "output_type": "stream",
     "text": [
      "2024-04-25 17:30:10 (INFO): Cutting planes:\n"
     ]
    },
    {
     "name": "stdout",
     "output_type": "stream",
     "text": [
      "  Implied bound: 226\n"
     ]
    },
    {
     "name": "stderr",
     "output_type": "stream",
     "text": [
      "2024-04-25 17:30:10 (INFO):   Implied bound: 226\n"
     ]
    },
    {
     "name": "stdout",
     "output_type": "stream",
     "text": [
      "  Clique: 1\n"
     ]
    },
    {
     "name": "stderr",
     "output_type": "stream",
     "text": [
      "2024-04-25 17:30:10 (INFO):   Clique: 1\n"
     ]
    },
    {
     "name": "stdout",
     "output_type": "stream",
     "text": [
      "  MIR: 287\n"
     ]
    },
    {
     "name": "stderr",
     "output_type": "stream",
     "text": [
      "2024-04-25 17:30:10 (INFO):   MIR: 287\n"
     ]
    },
    {
     "name": "stdout",
     "output_type": "stream",
     "text": [
      "  Flow cover: 644\n"
     ]
    },
    {
     "name": "stderr",
     "output_type": "stream",
     "text": [
      "2024-04-25 17:30:10 (INFO):   Flow cover: 644\n"
     ]
    },
    {
     "name": "stdout",
     "output_type": "stream",
     "text": [
      "\n"
     ]
    },
    {
     "name": "stderr",
     "output_type": "stream",
     "text": [
      "2024-04-25 17:30:10 (INFO): \n"
     ]
    },
    {
     "name": "stdout",
     "output_type": "stream",
     "text": [
      "Explored 165 nodes (1092270 simplex iterations) in 847.61 seconds (917.69 work units)\n"
     ]
    },
    {
     "name": "stderr",
     "output_type": "stream",
     "text": [
      "2024-04-25 17:30:10 (INFO): Explored 165 nodes (1092270 simplex iterations) in 847.61 seconds (917.69 work units)\n"
     ]
    },
    {
     "name": "stdout",
     "output_type": "stream",
     "text": [
      "Thread count was 20 (of 20 available processors)\n"
     ]
    },
    {
     "name": "stderr",
     "output_type": "stream",
     "text": [
      "2024-04-25 17:30:10 (INFO): Thread count was 20 (of 20 available processors)\n"
     ]
    },
    {
     "name": "stdout",
     "output_type": "stream",
     "text": [
      "\n"
     ]
    },
    {
     "name": "stderr",
     "output_type": "stream",
     "text": [
      "2024-04-25 17:30:10 (INFO): \n"
     ]
    },
    {
     "name": "stdout",
     "output_type": "stream",
     "text": [
      "Solution count 1: -0.95973 \n"
     ]
    },
    {
     "name": "stderr",
     "output_type": "stream",
     "text": [
      "2024-04-25 17:30:10 (INFO): Solution count 1: -0.95973 \n"
     ]
    },
    {
     "name": "stdout",
     "output_type": "stream",
     "text": [
      "\n"
     ]
    },
    {
     "name": "stderr",
     "output_type": "stream",
     "text": [
      "2024-04-25 17:30:10 (INFO): \n"
     ]
    },
    {
     "name": "stdout",
     "output_type": "stream",
     "text": [
      "Optimal solution found (tolerance 5.00e-02)\n"
     ]
    },
    {
     "name": "stderr",
     "output_type": "stream",
     "text": [
      "2024-04-25 17:30:10 (INFO): Optimal solution found (tolerance 5.00e-02)\n"
     ]
    },
    {
     "name": "stdout",
     "output_type": "stream",
     "text": [
      "Best objective -9.597302918182e-01, best bound -1.005608626124e+00, gap 4.7803%\n"
     ]
    },
    {
     "name": "stderr",
     "output_type": "stream",
     "text": [
      "2024-04-25 17:30:10 (INFO): Best objective -9.597302918182e-01, best bound -1.005608626124e+00, gap 4.7803%\n"
     ]
    },
    {
     "name": "stdout",
     "output_type": "stream",
     "text": [
      "\n"
     ]
    },
    {
     "name": "stderr",
     "output_type": "stream",
     "text": [
      "2024-04-25 17:30:10 (INFO): \n"
     ]
    },
    {
     "name": "stdout",
     "output_type": "stream",
     "text": [
      "User-callback calls 482869, time in user-callback 3.70 sec\n"
     ]
    },
    {
     "name": "stderr",
     "output_type": "stream",
     "text": [
      "2024-04-25 17:30:10 (INFO): User-callback calls 482869, time in user-callback 3.70 sec\n",
      "2024-04-25 17:30:10 (INFO): Optimization status: 2\n",
      "2024-04-25 17:30:10 (INFO): Original -0.95792, Opt objective -0.95973, stop_obj: None\n"
     ]
    },
    {
     "name": "stdout",
     "output_type": "stream",
     "text": [
      "Warning for adding constraints: zero or small (< 1e-13) coefficients, ignored\n"
     ]
    },
    {
     "name": "stderr",
     "output_type": "stream",
     "text": [
      "2024-04-25 17:30:15 (INFO): Warning for adding constraints: zero or small (< 1e-13) coefficients, ignored\n"
     ]
    },
    {
     "name": "stdout",
     "output_type": "stream",
     "text": [
      "Set parameter BestObjStop to value -1.0056086261244219e+00\n"
     ]
    },
    {
     "name": "stderr",
     "output_type": "stream",
     "text": [
      "2024-04-25 17:30:15 (INFO): Set parameter BestObjStop to value -1.0056086261244219e+00\n"
     ]
    },
    {
     "name": "stdout",
     "output_type": "stream",
     "text": [
      "Set parameter IntegralityFocus to value 1\n"
     ]
    },
    {
     "name": "stderr",
     "output_type": "stream",
     "text": [
      "2024-04-25 17:30:15 (INFO): Set parameter IntegralityFocus to value 1\n"
     ]
    },
    {
     "name": "stdout",
     "output_type": "stream",
     "text": [
      "Set parameter IntFeasTol to value 0.0001\n"
     ]
    },
    {
     "name": "stderr",
     "output_type": "stream",
     "text": [
      "2024-04-25 17:30:15 (INFO): Set parameter IntFeasTol to value 0.0001\n"
     ]
    },
    {
     "name": "stdout",
     "output_type": "stream",
     "text": [
      "Set parameter DualReductions to value 0\n"
     ]
    },
    {
     "name": "stderr",
     "output_type": "stream",
     "text": [
      "2024-04-25 17:30:15 (INFO): Set parameter DualReductions to value 0\n"
     ]
    },
    {
     "name": "stdout",
     "output_type": "stream",
     "text": [
      "Set parameter FeasibilityTol to value 0.0001\n"
     ]
    },
    {
     "name": "stderr",
     "output_type": "stream",
     "text": [
      "2024-04-25 17:30:15 (INFO): Set parameter FeasibilityTol to value 0.0001\n"
     ]
    },
    {
     "name": "stdout",
     "output_type": "stream",
     "text": [
      "Set parameter OptimalityTol to value 0.0001\n"
     ]
    },
    {
     "name": "stderr",
     "output_type": "stream",
     "text": [
      "2024-04-25 17:30:15 (INFO): Set parameter OptimalityTol to value 0.0001\n"
     ]
    },
    {
     "name": "stdout",
     "output_type": "stream",
     "text": [
      "Set parameter NumericFocus to value 3\n"
     ]
    },
    {
     "name": "stderr",
     "output_type": "stream",
     "text": [
      "2024-04-25 17:30:15 (INFO): Set parameter NumericFocus to value 3\n"
     ]
    },
    {
     "name": "stdout",
     "output_type": "stream",
     "text": [
      "Set parameter TimeLimit to value 3600\n"
     ]
    },
    {
     "name": "stderr",
     "output_type": "stream",
     "text": [
      "2024-04-25 17:30:15 (INFO): Set parameter TimeLimit to value 3600\n"
     ]
    },
    {
     "name": "stdout",
     "output_type": "stream",
     "text": [
      "Set parameter MIPFocus to value 3\n"
     ]
    },
    {
     "name": "stderr",
     "output_type": "stream",
     "text": [
      "2024-04-25 17:30:15 (INFO): Set parameter MIPFocus to value 3\n"
     ]
    },
    {
     "name": "stdout",
     "output_type": "stream",
     "text": [
      "Gurobi Optimizer version 11.0.1 build v11.0.1rc0 (linux64 - \"Ubuntu 22.04.4 LTS\")\n"
     ]
    },
    {
     "name": "stderr",
     "output_type": "stream",
     "text": [
      "2024-04-25 17:30:15 (INFO): Gurobi Optimizer version 11.0.1 build v11.0.1rc0 (linux64 - \"Ubuntu 22.04.4 LTS\")\n"
     ]
    },
    {
     "name": "stdout",
     "output_type": "stream",
     "text": [
      "\n"
     ]
    },
    {
     "name": "stderr",
     "output_type": "stream",
     "text": [
      "2024-04-25 17:30:15 (INFO): \n"
     ]
    },
    {
     "name": "stdout",
     "output_type": "stream",
     "text": [
      "CPU model: Intel(R) Xeon(R) CPU E5-2630 v4 @ 2.20GHz, instruction set [SSE2|AVX|AVX2]\n"
     ]
    },
    {
     "name": "stderr",
     "output_type": "stream",
     "text": [
      "2024-04-25 17:30:15 (INFO): CPU model: Intel(R) Xeon(R) CPU E5-2630 v4 @ 2.20GHz, instruction set [SSE2|AVX|AVX2]\n"
     ]
    },
    {
     "name": "stdout",
     "output_type": "stream",
     "text": [
      "Thread count: 20 physical cores, 20 logical processors, using up to 20 threads\n"
     ]
    },
    {
     "name": "stderr",
     "output_type": "stream",
     "text": [
      "2024-04-25 17:30:15 (INFO): Thread count: 20 physical cores, 20 logical processors, using up to 20 threads\n"
     ]
    },
    {
     "name": "stdout",
     "output_type": "stream",
     "text": [
      "\n"
     ]
    },
    {
     "name": "stderr",
     "output_type": "stream",
     "text": [
      "2024-04-25 17:30:15 (INFO): \n"
     ]
    },
    {
     "name": "stdout",
     "output_type": "stream",
     "text": [
      "Optimize a model with 158760 rows, 80080 columns and 395874 nonzeros\n"
     ]
    },
    {
     "name": "stderr",
     "output_type": "stream",
     "text": [
      "2024-04-25 17:30:15 (INFO): Optimize a model with 158760 rows, 80080 columns and 395874 nonzeros\n"
     ]
    },
    {
     "name": "stdout",
     "output_type": "stream",
     "text": [
      "Model fingerprint: 0x9dc778bf\n"
     ]
    },
    {
     "name": "stderr",
     "output_type": "stream",
     "text": [
      "2024-04-25 17:30:15 (INFO): Model fingerprint: 0x9dc778bf\n"
     ]
    },
    {
     "name": "stdout",
     "output_type": "stream",
     "text": [
      "Variable types: 79520 continuous, 560 integer (560 binary)\n"
     ]
    },
    {
     "name": "stderr",
     "output_type": "stream",
     "text": [
      "2024-04-25 17:30:15 (INFO): Variable types: 79520 continuous, 560 integer (560 binary)\n"
     ]
    },
    {
     "name": "stdout",
     "output_type": "stream",
     "text": [
      "Coefficient statistics:\n"
     ]
    },
    {
     "name": "stderr",
     "output_type": "stream",
     "text": [
      "2024-04-25 17:30:15 (INFO): Coefficient statistics:\n"
     ]
    },
    {
     "name": "stdout",
     "output_type": "stream",
     "text": [
      "  Matrix range     [2e-03, 3e+01]\n"
     ]
    },
    {
     "name": "stderr",
     "output_type": "stream",
     "text": [
      "2024-04-25 17:30:15 (INFO):   Matrix range     [2e-03, 3e+01]\n"
     ]
    },
    {
     "name": "stdout",
     "output_type": "stream",
     "text": [
      "  Objective range  [1e+00, 1e+00]\n"
     ]
    },
    {
     "name": "stderr",
     "output_type": "stream",
     "text": [
      "2024-04-25 17:30:15 (INFO):   Objective range  [1e+00, 1e+00]\n"
     ]
    },
    {
     "name": "stdout",
     "output_type": "stream",
     "text": [
      "  Bounds range     [2e-03, 1e+00]\n"
     ]
    },
    {
     "name": "stderr",
     "output_type": "stream",
     "text": [
      "2024-04-25 17:30:15 (INFO):   Bounds range     [2e-03, 1e+00]\n"
     ]
    },
    {
     "name": "stdout",
     "output_type": "stream",
     "text": [
      "  RHS range        [2e-03, 1e+00]\n"
     ]
    },
    {
     "name": "stderr",
     "output_type": "stream",
     "text": [
      "2024-04-25 17:30:15 (INFO):   RHS range        [2e-03, 1e+00]\n"
     ]
    },
    {
     "name": "stdout",
     "output_type": "stream",
     "text": [
      "\n"
     ]
    },
    {
     "name": "stderr",
     "output_type": "stream",
     "text": [
      "2024-04-25 17:30:15 (INFO): \n"
     ]
    },
    {
     "name": "stdout",
     "output_type": "stream",
     "text": [
      "Loaded user MIP start with objective -0.959305\n",
      "\n",
      "Loaded user MIP start with objective -0.959305\n"
     ]
    },
    {
     "name": "stderr",
     "output_type": "stream",
     "text": [
      "2024-04-25 17:30:15 (INFO): Loaded user MIP start with objective -0.959305\n"
     ]
    },
    {
     "name": "stdout",
     "output_type": "stream",
     "text": [
      "\n"
     ]
    },
    {
     "name": "stderr",
     "output_type": "stream",
     "text": [
      "2024-04-25 17:30:15 (INFO): \n"
     ]
    },
    {
     "name": "stdout",
     "output_type": "stream",
     "text": [
      "Presolve removed 29442 rows and 3695 columns\n"
     ]
    },
    {
     "name": "stderr",
     "output_type": "stream",
     "text": [
      "2024-04-25 17:30:19 (INFO): Presolve removed 29442 rows and 3695 columns\n"
     ]
    },
    {
     "name": "stdout",
     "output_type": "stream",
     "text": [
      "Presolve time: 4.06s\n"
     ]
    },
    {
     "name": "stderr",
     "output_type": "stream",
     "text": [
      "2024-04-25 17:30:19 (INFO): Presolve time: 4.06s\n"
     ]
    },
    {
     "name": "stdout",
     "output_type": "stream",
     "text": [
      "Presolved: 129318 rows, 76385 columns, 335743 nonzeros\n"
     ]
    },
    {
     "name": "stderr",
     "output_type": "stream",
     "text": [
      "2024-04-25 17:30:19 (INFO): Presolved: 129318 rows, 76385 columns, 335743 nonzeros\n"
     ]
    },
    {
     "name": "stdout",
     "output_type": "stream",
     "text": [
      "Variable types: 75909 continuous, 476 integer (476 binary)\n"
     ]
    },
    {
     "name": "stderr",
     "output_type": "stream",
     "text": [
      "2024-04-25 17:30:20 (INFO): Variable types: 75909 continuous, 476 integer (476 binary)\n"
     ]
    },
    {
     "name": "stdout",
     "output_type": "stream",
     "text": [
      "\n"
     ]
    },
    {
     "name": "stderr",
     "output_type": "stream",
     "text": [
      "2024-04-25 17:30:20 (INFO): \n"
     ]
    },
    {
     "name": "stdout",
     "output_type": "stream",
     "text": [
      "Explored 0 nodes (0 simplex iterations) in 4.95 seconds (4.67 work units)\n"
     ]
    },
    {
     "name": "stderr",
     "output_type": "stream",
     "text": [
      "2024-04-25 17:30:20 (INFO): Explored 0 nodes (0 simplex iterations) in 4.95 seconds (4.67 work units)\n"
     ]
    },
    {
     "name": "stdout",
     "output_type": "stream",
     "text": [
      "Thread count was 20 (of 20 available processors)\n"
     ]
    },
    {
     "name": "stderr",
     "output_type": "stream",
     "text": [
      "2024-04-25 17:30:20 (INFO): Thread count was 20 (of 20 available processors)\n"
     ]
    },
    {
     "name": "stdout",
     "output_type": "stream",
     "text": [
      "\n"
     ]
    },
    {
     "name": "stderr",
     "output_type": "stream",
     "text": [
      "2024-04-25 17:30:20 (INFO): \n"
     ]
    },
    {
     "name": "stdout",
     "output_type": "stream",
     "text": [
      "Solution count 1: -0.959305 \n"
     ]
    },
    {
     "name": "stderr",
     "output_type": "stream",
     "text": [
      "2024-04-25 17:30:20 (INFO): Solution count 1: -0.959305 \n"
     ]
    },
    {
     "name": "stdout",
     "output_type": "stream",
     "text": [
      "\n"
     ]
    },
    {
     "name": "stderr",
     "output_type": "stream",
     "text": [
      "2024-04-25 17:30:20 (INFO): \n"
     ]
    },
    {
     "name": "stdout",
     "output_type": "stream",
     "text": [
      "Optimization achieved user objective limit\n"
     ]
    },
    {
     "name": "stderr",
     "output_type": "stream",
     "text": [
      "2024-04-25 17:30:20 (INFO): Optimization achieved user objective limit\n"
     ]
    },
    {
     "name": "stdout",
     "output_type": "stream",
     "text": [
      "Best objective -9.593047198969e-01, best bound 2.843918566654e-01, gap 129.6456%\n"
     ]
    },
    {
     "name": "stderr",
     "output_type": "stream",
     "text": [
      "2024-04-25 17:30:20 (INFO): Best objective -9.593047198969e-01, best bound 2.843918566654e-01, gap 129.6456%\n"
     ]
    },
    {
     "name": "stdout",
     "output_type": "stream",
     "text": [
      "\n"
     ]
    },
    {
     "name": "stderr",
     "output_type": "stream",
     "text": [
      "2024-04-25 17:30:20 (INFO): \n"
     ]
    },
    {
     "name": "stdout",
     "output_type": "stream",
     "text": [
      "User-callback calls 1237, time in user-callback 0.00 sec\n"
     ]
    },
    {
     "name": "stderr",
     "output_type": "stream",
     "text": [
      "2024-04-25 17:30:20 (INFO): User-callback calls 1237, time in user-callback 0.00 sec\n",
      "2024-04-25 17:30:20 (INFO): Optimization status: 15\n",
      "2024-04-25 17:30:20 (INFO): Original -0.95930, Opt objective -0.95930, stop_obj: -1.005608626124422\n",
      "2024-04-25 17:30:20 (INFO): Robust count 0 out of 1\n"
     ]
    },
    {
     "name": "stdout",
     "output_type": "stream",
     "text": [
      "Warning for adding constraints: zero or small (< 1e-13) coefficients, ignored\n"
     ]
    },
    {
     "name": "stderr",
     "output_type": "stream",
     "text": [
      "2024-04-25 17:30:24 (INFO): Warning for adding constraints: zero or small (< 1e-13) coefficients, ignored\n"
     ]
    },
    {
     "name": "stdout",
     "output_type": "stream",
     "text": [
      "Set parameter IntegralityFocus to value 1\n"
     ]
    },
    {
     "name": "stderr",
     "output_type": "stream",
     "text": [
      "2024-04-25 17:30:24 (INFO): Set parameter IntegralityFocus to value 1\n"
     ]
    },
    {
     "name": "stdout",
     "output_type": "stream",
     "text": [
      "Set parameter IntFeasTol to value 0.0001\n"
     ]
    },
    {
     "name": "stderr",
     "output_type": "stream",
     "text": [
      "2024-04-25 17:30:24 (INFO): Set parameter IntFeasTol to value 0.0001\n"
     ]
    },
    {
     "name": "stdout",
     "output_type": "stream",
     "text": [
      "Set parameter DualReductions to value 0\n"
     ]
    },
    {
     "name": "stderr",
     "output_type": "stream",
     "text": [
      "2024-04-25 17:30:24 (INFO): Set parameter DualReductions to value 0\n"
     ]
    },
    {
     "name": "stdout",
     "output_type": "stream",
     "text": [
      "Set parameter FeasibilityTol to value 0.0001\n"
     ]
    },
    {
     "name": "stderr",
     "output_type": "stream",
     "text": [
      "2024-04-25 17:30:24 (INFO): Set parameter FeasibilityTol to value 0.0001\n"
     ]
    },
    {
     "name": "stdout",
     "output_type": "stream",
     "text": [
      "Set parameter MIPGap to value 0.05\n"
     ]
    },
    {
     "name": "stderr",
     "output_type": "stream",
     "text": [
      "2024-04-25 17:30:24 (INFO): Set parameter MIPGap to value 0.05\n"
     ]
    },
    {
     "name": "stdout",
     "output_type": "stream",
     "text": [
      "Set parameter OptimalityTol to value 0.0001\n"
     ]
    },
    {
     "name": "stderr",
     "output_type": "stream",
     "text": [
      "2024-04-25 17:30:24 (INFO): Set parameter OptimalityTol to value 0.0001\n"
     ]
    },
    {
     "name": "stdout",
     "output_type": "stream",
     "text": [
      "Set parameter NumericFocus to value 3\n"
     ]
    },
    {
     "name": "stderr",
     "output_type": "stream",
     "text": [
      "2024-04-25 17:30:24 (INFO): Set parameter NumericFocus to value 3\n"
     ]
    },
    {
     "name": "stdout",
     "output_type": "stream",
     "text": [
      "Set parameter TimeLimit to value 3600\n"
     ]
    },
    {
     "name": "stderr",
     "output_type": "stream",
     "text": [
      "2024-04-25 17:30:24 (INFO): Set parameter TimeLimit to value 3600\n"
     ]
    },
    {
     "name": "stdout",
     "output_type": "stream",
     "text": [
      "Set parameter MIPFocus to value 3\n"
     ]
    },
    {
     "name": "stderr",
     "output_type": "stream",
     "text": [
      "2024-04-25 17:30:24 (INFO): Set parameter MIPFocus to value 3\n"
     ]
    },
    {
     "name": "stdout",
     "output_type": "stream",
     "text": [
      "Gurobi Optimizer version 11.0.1 build v11.0.1rc0 (linux64 - \"Ubuntu 22.04.4 LTS\")\n"
     ]
    },
    {
     "name": "stderr",
     "output_type": "stream",
     "text": [
      "2024-04-25 17:30:24 (INFO): Gurobi Optimizer version 11.0.1 build v11.0.1rc0 (linux64 - \"Ubuntu 22.04.4 LTS\")\n"
     ]
    },
    {
     "name": "stdout",
     "output_type": "stream",
     "text": [
      "\n"
     ]
    },
    {
     "name": "stderr",
     "output_type": "stream",
     "text": [
      "2024-04-25 17:30:24 (INFO): \n"
     ]
    },
    {
     "name": "stdout",
     "output_type": "stream",
     "text": [
      "CPU model: Intel(R) Xeon(R) CPU E5-2630 v4 @ 2.20GHz, instruction set [SSE2|AVX|AVX2]\n"
     ]
    },
    {
     "name": "stderr",
     "output_type": "stream",
     "text": [
      "2024-04-25 17:30:24 (INFO): CPU model: Intel(R) Xeon(R) CPU E5-2630 v4 @ 2.20GHz, instruction set [SSE2|AVX|AVX2]\n"
     ]
    },
    {
     "name": "stdout",
     "output_type": "stream",
     "text": [
      "Thread count: 20 physical cores, 20 logical processors, using up to 20 threads\n"
     ]
    },
    {
     "name": "stderr",
     "output_type": "stream",
     "text": [
      "2024-04-25 17:30:24 (INFO): Thread count: 20 physical cores, 20 logical processors, using up to 20 threads\n"
     ]
    },
    {
     "name": "stdout",
     "output_type": "stream",
     "text": [
      "\n"
     ]
    },
    {
     "name": "stderr",
     "output_type": "stream",
     "text": [
      "2024-04-25 17:30:24 (INFO): \n"
     ]
    },
    {
     "name": "stdout",
     "output_type": "stream",
     "text": [
      "Optimize a model with 158760 rows, 80080 columns and 395874 nonzeros\n"
     ]
    },
    {
     "name": "stderr",
     "output_type": "stream",
     "text": [
      "2024-04-25 17:30:24 (INFO): Optimize a model with 158760 rows, 80080 columns and 395874 nonzeros\n"
     ]
    },
    {
     "name": "stdout",
     "output_type": "stream",
     "text": [
      "Model fingerprint: 0xffe9333e\n"
     ]
    },
    {
     "name": "stderr",
     "output_type": "stream",
     "text": [
      "2024-04-25 17:30:24 (INFO): Model fingerprint: 0xffe9333e\n"
     ]
    },
    {
     "name": "stdout",
     "output_type": "stream",
     "text": [
      "Variable types: 79520 continuous, 560 integer (560 binary)\n"
     ]
    },
    {
     "name": "stderr",
     "output_type": "stream",
     "text": [
      "2024-04-25 17:30:24 (INFO): Variable types: 79520 continuous, 560 integer (560 binary)\n"
     ]
    },
    {
     "name": "stdout",
     "output_type": "stream",
     "text": [
      "Coefficient statistics:\n"
     ]
    },
    {
     "name": "stderr",
     "output_type": "stream",
     "text": [
      "2024-04-25 17:30:24 (INFO): Coefficient statistics:\n"
     ]
    },
    {
     "name": "stdout",
     "output_type": "stream",
     "text": [
      "  Matrix range     [2e-03, 3e+01]\n"
     ]
    },
    {
     "name": "stderr",
     "output_type": "stream",
     "text": [
      "2024-04-25 17:30:24 (INFO):   Matrix range     [2e-03, 3e+01]\n"
     ]
    },
    {
     "name": "stdout",
     "output_type": "stream",
     "text": [
      "  Objective range  [1e+00, 1e+00]\n"
     ]
    },
    {
     "name": "stderr",
     "output_type": "stream",
     "text": [
      "2024-04-25 17:30:24 (INFO):   Objective range  [1e+00, 1e+00]\n"
     ]
    },
    {
     "name": "stdout",
     "output_type": "stream",
     "text": [
      "  Bounds range     [2e-03, 1e+00]\n"
     ]
    },
    {
     "name": "stderr",
     "output_type": "stream",
     "text": [
      "2024-04-25 17:30:24 (INFO):   Bounds range     [2e-03, 1e+00]\n"
     ]
    },
    {
     "name": "stdout",
     "output_type": "stream",
     "text": [
      "  RHS range        [2e-03, 1e+00]\n"
     ]
    },
    {
     "name": "stderr",
     "output_type": "stream",
     "text": [
      "2024-04-25 17:30:24 (INFO):   RHS range        [2e-03, 1e+00]\n"
     ]
    },
    {
     "name": "stdout",
     "output_type": "stream",
     "text": [
      "\n"
     ]
    },
    {
     "name": "stderr",
     "output_type": "stream",
     "text": [
      "2024-04-25 17:30:24 (INFO): \n"
     ]
    },
    {
     "name": "stdout",
     "output_type": "stream",
     "text": [
      "Loaded user MIP start with objective -0.730696\n",
      "\n",
      "Loaded user MIP start with objective -0.730696\n"
     ]
    },
    {
     "name": "stderr",
     "output_type": "stream",
     "text": [
      "2024-04-25 17:30:24 (INFO): Loaded user MIP start with objective -0.730696\n"
     ]
    },
    {
     "name": "stdout",
     "output_type": "stream",
     "text": [
      "\n"
     ]
    },
    {
     "name": "stderr",
     "output_type": "stream",
     "text": [
      "2024-04-25 17:30:24 (INFO): \n"
     ]
    },
    {
     "name": "stdout",
     "output_type": "stream",
     "text": [
      "Presolve removed 29443 rows and 3696 columns\n"
     ]
    },
    {
     "name": "stderr",
     "output_type": "stream",
     "text": [
      "2024-04-25 17:30:28 (INFO): Presolve removed 29443 rows and 3696 columns\n"
     ]
    },
    {
     "name": "stdout",
     "output_type": "stream",
     "text": [
      "Presolve time: 3.94s\n"
     ]
    },
    {
     "name": "stderr",
     "output_type": "stream",
     "text": [
      "2024-04-25 17:30:28 (INFO): Presolve time: 3.94s\n"
     ]
    },
    {
     "name": "stdout",
     "output_type": "stream",
     "text": [
      "Presolved: 129317 rows, 76384 columns, 335741 nonzeros\n"
     ]
    },
    {
     "name": "stderr",
     "output_type": "stream",
     "text": [
      "2024-04-25 17:30:28 (INFO): Presolved: 129317 rows, 76384 columns, 335741 nonzeros\n"
     ]
    },
    {
     "name": "stdout",
     "output_type": "stream",
     "text": [
      "Variable types: 75908 continuous, 476 integer (476 binary)\n"
     ]
    },
    {
     "name": "stderr",
     "output_type": "stream",
     "text": [
      "2024-04-25 17:30:29 (INFO): Variable types: 75908 continuous, 476 integer (476 binary)\n"
     ]
    },
    {
     "name": "stdout",
     "output_type": "stream",
     "text": [
      "\n"
     ]
    },
    {
     "name": "stderr",
     "output_type": "stream",
     "text": [
      "2024-04-25 17:30:29 (INFO): \n"
     ]
    },
    {
     "name": "stdout",
     "output_type": "stream",
     "text": [
      "Deterministic concurrent LP optimizer: primal and dual simplex (primal and dual model)\n"
     ]
    },
    {
     "name": "stderr",
     "output_type": "stream",
     "text": [
      "2024-04-25 17:30:29 (INFO): Deterministic concurrent LP optimizer: primal and dual simplex (primal and dual model)\n"
     ]
    },
    {
     "name": "stdout",
     "output_type": "stream",
     "text": [
      "Showing primal log only...\n"
     ]
    },
    {
     "name": "stderr",
     "output_type": "stream",
     "text": [
      "2024-04-25 17:30:29 (INFO): Showing primal log only...\n"
     ]
    },
    {
     "name": "stdout",
     "output_type": "stream",
     "text": [
      "\n"
     ]
    },
    {
     "name": "stderr",
     "output_type": "stream",
     "text": [
      "2024-04-25 17:30:29 (INFO): \n"
     ]
    },
    {
     "name": "stdout",
     "output_type": "stream",
     "text": [
      "Root relaxation presolved: 121462 rows, 76319 columns, 305080 nonzeros\n"
     ]
    },
    {
     "name": "stderr",
     "output_type": "stream",
     "text": [
      "2024-04-25 17:30:37 (INFO): Root relaxation presolved: 121462 rows, 76319 columns, 305080 nonzeros\n"
     ]
    },
    {
     "name": "stdout",
     "output_type": "stream",
     "text": [
      "\n"
     ]
    },
    {
     "name": "stderr",
     "output_type": "stream",
     "text": [
      "2024-04-25 17:30:37 (INFO): \n"
     ]
    },
    {
     "name": "stdout",
     "output_type": "stream",
     "text": [
      "\n"
     ]
    },
    {
     "name": "stderr",
     "output_type": "stream",
     "text": [
      "2024-04-25 17:30:37 (INFO): \n"
     ]
    },
    {
     "name": "stdout",
     "output_type": "stream",
     "text": [
      "Root simplex log...\n"
     ]
    },
    {
     "name": "stderr",
     "output_type": "stream",
     "text": [
      "2024-04-25 17:30:37 (INFO): Root simplex log...\n"
     ]
    },
    {
     "name": "stdout",
     "output_type": "stream",
     "text": [
      "\n"
     ]
    },
    {
     "name": "stderr",
     "output_type": "stream",
     "text": [
      "2024-04-25 17:30:37 (INFO): \n"
     ]
    },
    {
     "name": "stdout",
     "output_type": "stream",
     "text": [
      "Iteration    Objective       Primal Inf.    Dual Inf.      Time\n"
     ]
    },
    {
     "name": "stderr",
     "output_type": "stream",
     "text": [
      "2024-04-25 17:30:37 (INFO): Iteration    Objective       Primal Inf.    Dual Inf.      Time\n"
     ]
    },
    {
     "name": "stdout",
     "output_type": "stream",
     "text": [
      "       0    1.7203411e-01   1.181680e+02   4.457886e+10     13s\n"
     ]
    },
    {
     "name": "stderr",
     "output_type": "stream",
     "text": [
      "2024-04-25 17:30:37 (INFO):        0    1.7203411e-01   1.181680e+02   4.457886e+10     13s\n"
     ]
    },
    {
     "name": "stdout",
     "output_type": "stream",
     "text": [
      "   38852   -4.7402052e-01   2.803732e-01   3.982592e+08     15s\n"
     ]
    },
    {
     "name": "stderr",
     "output_type": "stream",
     "text": [
      "2024-04-25 17:30:39 (INFO):    38852   -4.7402052e-01   2.803732e-01   3.982592e+08     15s\n"
     ]
    },
    {
     "name": "stdout",
     "output_type": "stream",
     "text": [
      "   43737   -5.3756029e-01   6.434132e-02   3.313915e+08     20s\n"
     ]
    },
    {
     "name": "stderr",
     "output_type": "stream",
     "text": [
      "2024-04-25 17:30:44 (INFO):    43737   -5.3756029e-01   6.434132e-02   3.313915e+08     20s\n"
     ]
    },
    {
     "name": "stdout",
     "output_type": "stream",
     "text": [
      "   47208   -5.8395211e-01   4.961641e-03   5.135255e+08     25s\n"
     ]
    },
    {
     "name": "stderr",
     "output_type": "stream",
     "text": [
      "2024-04-25 17:30:49 (INFO):    47208   -5.8395211e-01   4.961641e-03   5.135255e+08     25s\n"
     ]
    },
    {
     "name": "stdout",
     "output_type": "stream",
     "text": [
      "   49745   -6.3009621e-01   0.000000e+00   3.832415e+03     30s\n"
     ]
    },
    {
     "name": "stderr",
     "output_type": "stream",
     "text": [
      "2024-04-25 17:30:54 (INFO):    49745   -6.3009621e-01   0.000000e+00   3.832415e+03     30s\n"
     ]
    },
    {
     "name": "stdout",
     "output_type": "stream",
     "text": [
      "   52270   -6.4978321e-01   0.000000e+00   2.307780e+03     35s\n"
     ]
    },
    {
     "name": "stderr",
     "output_type": "stream",
     "text": [
      "2024-04-25 17:30:59 (INFO):    52270   -6.4978321e-01   0.000000e+00   2.307780e+03     35s\n"
     ]
    },
    {
     "name": "stdout",
     "output_type": "stream",
     "text": [
      "   55705   -7.0717243e-01   0.000000e+00   5.714668e+01     40s\n"
     ]
    },
    {
     "name": "stderr",
     "output_type": "stream",
     "text": [
      "2024-04-25 17:31:04 (INFO):    55705   -7.0717243e-01   0.000000e+00   5.714668e+01     40s\n"
     ]
    },
    {
     "name": "stdout",
     "output_type": "stream",
     "text": [
      "   61639   -7.6098975e-01   0.000000e+00   1.533573e+02     45s\n"
     ]
    },
    {
     "name": "stderr",
     "output_type": "stream",
     "text": [
      "2024-04-25 17:31:09 (INFO):    61639   -7.6098975e-01   0.000000e+00   1.533573e+02     45s\n"
     ]
    },
    {
     "name": "stdout",
     "output_type": "stream",
     "text": [
      "   67604   -7.9740075e-01   0.000000e+00   7.591159e+02     50s\n"
     ]
    },
    {
     "name": "stderr",
     "output_type": "stream",
     "text": [
      "2024-04-25 17:31:14 (INFO):    67604   -7.9740075e-01   0.000000e+00   7.591159e+02     50s\n"
     ]
    },
    {
     "name": "stdout",
     "output_type": "stream",
     "text": [
      "   72465   -8.1801374e-01   0.000000e+00   9.598486e+01     55s\n"
     ]
    },
    {
     "name": "stderr",
     "output_type": "stream",
     "text": [
      "2024-04-25 17:31:19 (INFO):    72465   -8.1801374e-01   0.000000e+00   9.598486e+01     55s\n"
     ]
    },
    {
     "name": "stdout",
     "output_type": "stream",
     "text": [
      "   78532   -1.0290369e+00   5.390558e+01   0.000000e+00     60s\n"
     ]
    },
    {
     "name": "stderr",
     "output_type": "stream",
     "text": [
      "2024-04-25 17:31:24 (INFO):    78532   -1.0290369e+00   5.390558e+01   0.000000e+00     60s\n"
     ]
    },
    {
     "name": "stdout",
     "output_type": "stream",
     "text": [
      "   80956   -1.0283239e+00   5.151162e+01   0.000000e+00     65s\n"
     ]
    },
    {
     "name": "stderr",
     "output_type": "stream",
     "text": [
      "2024-04-25 17:31:29 (INFO):    80956   -1.0283239e+00   5.151162e+01   0.000000e+00     65s\n"
     ]
    },
    {
     "name": "stdout",
     "output_type": "stream",
     "text": [
      "   83380   -1.0279087e+00   4.816421e+01   0.000000e+00     70s\n"
     ]
    },
    {
     "name": "stderr",
     "output_type": "stream",
     "text": [
      "2024-04-25 17:31:34 (INFO):    83380   -1.0279087e+00   4.816421e+01   0.000000e+00     70s\n"
     ]
    },
    {
     "name": "stdout",
     "output_type": "stream",
     "text": [
      "   86713   -1.0226798e+00   4.536933e+01   0.000000e+00     75s\n"
     ]
    },
    {
     "name": "stderr",
     "output_type": "stream",
     "text": [
      "2024-04-25 17:31:39 (INFO):    86713   -1.0226798e+00   4.536933e+01   0.000000e+00     75s\n"
     ]
    },
    {
     "name": "stdout",
     "output_type": "stream",
     "text": [
      "   89339   -1.0223414e+00   4.155989e+01   0.000000e+00     80s\n"
     ]
    },
    {
     "name": "stderr",
     "output_type": "stream",
     "text": [
      "2024-04-25 17:31:44 (INFO):    89339   -1.0223414e+00   4.155989e+01   0.000000e+00     80s\n"
     ]
    },
    {
     "name": "stdout",
     "output_type": "stream",
     "text": [
      "   91662   -1.0221399e+00   3.744556e+01   0.000000e+00     85s\n"
     ]
    },
    {
     "name": "stderr",
     "output_type": "stream",
     "text": [
      "2024-04-25 17:31:49 (INFO):    91662   -1.0221399e+00   3.744556e+01   0.000000e+00     85s\n"
     ]
    },
    {
     "name": "stdout",
     "output_type": "stream",
     "text": [
      "   93783   -1.0219981e+00   3.362976e+01   0.000000e+00     90s\n"
     ]
    },
    {
     "name": "stderr",
     "output_type": "stream",
     "text": [
      "2024-04-25 17:31:54 (INFO):    93783   -1.0219981e+00   3.362976e+01   0.000000e+00     90s\n"
     ]
    },
    {
     "name": "stdout",
     "output_type": "stream",
     "text": [
      "   95904   -1.0218693e+00   3.141562e+01   0.000000e+00     95s\n"
     ]
    },
    {
     "name": "stderr",
     "output_type": "stream",
     "text": [
      "2024-04-25 17:31:59 (INFO):    95904   -1.0218693e+00   3.141562e+01   0.000000e+00     95s\n"
     ]
    },
    {
     "name": "stdout",
     "output_type": "stream",
     "text": [
      "   98025   -1.0217122e+00   2.734339e+01   0.000000e+00    100s\n"
     ]
    },
    {
     "name": "stderr",
     "output_type": "stream",
     "text": [
      "2024-04-25 17:32:04 (INFO):    98025   -1.0217122e+00   2.734339e+01   0.000000e+00    100s\n"
     ]
    },
    {
     "name": "stdout",
     "output_type": "stream",
     "text": [
      "  100045   -1.0216470e+00   2.445007e+01   0.000000e+00    105s\n"
     ]
    },
    {
     "name": "stderr",
     "output_type": "stream",
     "text": [
      "2024-04-25 17:32:09 (INFO):   100045   -1.0216470e+00   2.445007e+01   0.000000e+00    105s\n"
     ]
    },
    {
     "name": "stdout",
     "output_type": "stream",
     "text": [
      "  103479   -1.0160763e+00   2.781165e+01   0.000000e+00    110s\n"
     ]
    },
    {
     "name": "stderr",
     "output_type": "stream",
     "text": [
      "2024-04-25 17:32:14 (INFO):   103479   -1.0160763e+00   2.781165e+01   0.000000e+00    110s\n"
     ]
    },
    {
     "name": "stdout",
     "output_type": "stream",
     "text": [
      "  107721   -1.0061873e+00   3.192514e+01   0.000000e+00    115s\n"
     ]
    },
    {
     "name": "stderr",
     "output_type": "stream",
     "text": [
      "2024-04-25 17:32:19 (INFO):   107721   -1.0061873e+00   3.192514e+01   0.000000e+00    115s\n"
     ]
    },
    {
     "name": "stdout",
     "output_type": "stream",
     "text": [
      "  111458   -1.0014750e+00   2.610752e+01   0.000000e+00    120s\n"
     ]
    },
    {
     "name": "stderr",
     "output_type": "stream",
     "text": [
      "2024-04-25 17:32:24 (INFO):   111458   -1.0014750e+00   2.610752e+01   0.000000e+00    120s\n"
     ]
    },
    {
     "name": "stdout",
     "output_type": "stream",
     "text": [
      "Concurrent spin time: 4.15s\n"
     ]
    },
    {
     "name": "stderr",
     "output_type": "stream",
     "text": [
      "2024-04-25 17:32:32 (INFO): Concurrent spin time: 4.15s\n"
     ]
    },
    {
     "name": "stdout",
     "output_type": "stream",
     "text": [
      "\n"
     ]
    },
    {
     "name": "stderr",
     "output_type": "stream",
     "text": [
      "2024-04-25 17:32:32 (INFO): \n"
     ]
    },
    {
     "name": "stdout",
     "output_type": "stream",
     "text": [
      "Solved with dual simplex\n"
     ]
    },
    {
     "name": "stderr",
     "output_type": "stream",
     "text": [
      "2024-04-25 17:32:32 (INFO): Solved with dual simplex\n"
     ]
    },
    {
     "name": "stdout",
     "output_type": "stream",
     "text": [
      "\n"
     ]
    },
    {
     "name": "stderr",
     "output_type": "stream",
     "text": [
      "2024-04-25 17:32:32 (INFO): \n"
     ]
    },
    {
     "name": "stdout",
     "output_type": "stream",
     "text": [
      "Root relaxation: objective -8.544608e-01, 123936 iterations, 122.94 seconds (95.91 work units)\n"
     ]
    },
    {
     "name": "stderr",
     "output_type": "stream",
     "text": [
      "2024-04-25 17:32:32 (INFO): Root relaxation: objective -8.544608e-01, 123936 iterations, 122.94 seconds (95.91 work units)\n"
     ]
    },
    {
     "name": "stdout",
     "output_type": "stream",
     "text": [
      "Total elapsed time = 134.54s (DegenMoves)\n"
     ]
    },
    {
     "name": "stderr",
     "output_type": "stream",
     "text": [
      "2024-04-25 17:32:38 (INFO): Total elapsed time = 134.54s (DegenMoves)\n"
     ]
    },
    {
     "name": "stdout",
     "output_type": "stream",
     "text": [
      "Total elapsed time = 135.19s (DegenMoves)\n"
     ]
    },
    {
     "name": "stderr",
     "output_type": "stream",
     "text": [
      "2024-04-25 17:32:39 (INFO): Total elapsed time = 135.19s (DegenMoves)\n"
     ]
    },
    {
     "name": "stdout",
     "output_type": "stream",
     "text": [
      "\n"
     ]
    },
    {
     "name": "stderr",
     "output_type": "stream",
     "text": [
      "2024-04-25 17:32:39 (INFO): \n"
     ]
    },
    {
     "name": "stdout",
     "output_type": "stream",
     "text": [
      "    Nodes    |    Current Node    |     Objective Bounds      |     Work\n"
     ]
    },
    {
     "name": "stderr",
     "output_type": "stream",
     "text": [
      "2024-04-25 17:32:39 (INFO):     Nodes    |    Current Node    |     Objective Bounds      |     Work\n"
     ]
    },
    {
     "name": "stdout",
     "output_type": "stream",
     "text": [
      " Expl Unexpl |  Obj  Depth IntInf | Incumbent    BestBd   Gap | It/Node Time\n"
     ]
    },
    {
     "name": "stderr",
     "output_type": "stream",
     "text": [
      "2024-04-25 17:32:39 (INFO):  Expl Unexpl |  Obj  Depth IntInf | Incumbent    BestBd   Gap | It/Node Time\n"
     ]
    },
    {
     "name": "stdout",
     "output_type": "stream",
     "text": [
      "\n"
     ]
    },
    {
     "name": "stderr",
     "output_type": "stream",
     "text": [
      "2024-04-25 17:32:39 (INFO): \n"
     ]
    },
    {
     "name": "stdout",
     "output_type": "stream",
     "text": [
      "     0     0   -0.85446    0  163   -0.73070   -0.85446  16.9%     -  135s\n"
     ]
    },
    {
     "name": "stderr",
     "output_type": "stream",
     "text": [
      "2024-04-25 17:32:39 (INFO):      0     0   -0.85446    0  163   -0.73070   -0.85446  16.9%     -  135s\n"
     ]
    },
    {
     "name": "stdout",
     "output_type": "stream",
     "text": [
      "     0     1   -0.85004    0  163   -0.73070   -0.85004  16.3%     -  205s\n"
     ]
    },
    {
     "name": "stderr",
     "output_type": "stream",
     "text": [
      "2024-04-25 17:33:50 (INFO):      0     1   -0.85004    0  163   -0.73070   -0.85004  16.3%     -  205s\n"
     ]
    },
    {
     "name": "stdout",
     "output_type": "stream",
     "text": [
      "     1     2   -0.85004    1  162   -0.73070   -0.85004  16.3%  2503  211s\n"
     ]
    },
    {
     "name": "stderr",
     "output_type": "stream",
     "text": [
      "2024-04-25 17:33:55 (INFO):      1     2   -0.85004    1  162   -0.73070   -0.85004  16.3%  2503  211s\n"
     ]
    },
    {
     "name": "stdout",
     "output_type": "stream",
     "text": [
      "     2     4   -0.84903    2  159   -0.73070   -0.84903  16.2%  1542  295s\n"
     ]
    },
    {
     "name": "stderr",
     "output_type": "stream",
     "text": [
      "2024-04-25 17:35:20 (INFO):      2     4   -0.84903    2  159   -0.73070   -0.84903  16.2%  1542  295s\n"
     ]
    },
    {
     "name": "stdout",
     "output_type": "stream",
     "text": [
      "     4     4   -0.82047    3  131   -0.73070   -0.82047  12.3% 12515  368s\n"
     ]
    },
    {
     "name": "stderr",
     "output_type": "stream",
     "text": [
      "2024-04-25 17:36:32 (INFO):      4     4   -0.82047    3  131   -0.73070   -0.82047  12.3% 12515  368s\n"
     ]
    },
    {
     "name": "stdout",
     "output_type": "stream",
     "text": [
      "     8     3   -0.81894    4  129   -0.73070   -0.81894  12.1% 14526  436s\n"
     ]
    },
    {
     "name": "stderr",
     "output_type": "stream",
     "text": [
      "2024-04-25 17:37:40 (INFO):      8     3   -0.81894    4  129   -0.73070   -0.81894  12.1% 14526  436s\n"
     ]
    },
    {
     "name": "stdout",
     "output_type": "stream",
     "text": [
      "    12     3   -0.81742    5  127   -0.73070   -0.81742  11.9% 14535  557s\n"
     ]
    },
    {
     "name": "stderr",
     "output_type": "stream",
     "text": [
      "2024-04-25 17:39:42 (INFO):     12     3   -0.81742    5  127   -0.73070   -0.81742  11.9% 14535  557s\n"
     ]
    },
    {
     "name": "stdout",
     "output_type": "stream",
     "text": [
      "    15     5   -0.81453    6  123   -0.73070   -0.81453  11.5% 14991  592s\n"
     ]
    },
    {
     "name": "stderr",
     "output_type": "stream",
     "text": [
      "2024-04-25 17:40:16 (INFO):     15     5   -0.81453    6  123   -0.73070   -0.81453  11.5% 14991  592s\n"
     ]
    },
    {
     "name": "stdout",
     "output_type": "stream",
     "text": [
      "    18     4   -0.81300    7  120   -0.73070   -0.81300  11.3% 13378  623s\n"
     ]
    },
    {
     "name": "stderr",
     "output_type": "stream",
     "text": [
      "2024-04-25 17:40:48 (INFO):     18     4   -0.81300    7  120   -0.73070   -0.81300  11.3% 13378  623s\n"
     ]
    },
    {
     "name": "stdout",
     "output_type": "stream",
     "text": [
      "    23     4   -0.81076    8  119   -0.73070   -0.81076  11.0% 12552  650s\n"
     ]
    },
    {
     "name": "stderr",
     "output_type": "stream",
     "text": [
      "2024-04-25 17:41:15 (INFO):     23     4   -0.81076    8  119   -0.73070   -0.81076  11.0% 12552  650s\n"
     ]
    },
    {
     "name": "stdout",
     "output_type": "stream",
     "text": [
      "    27     5   -0.80945    9  118   -0.73070   -0.80945  10.8% 12100  678s\n"
     ]
    },
    {
     "name": "stderr",
     "output_type": "stream",
     "text": [
      "2024-04-25 17:41:42 (INFO):     27     5   -0.80945    9  118   -0.73070   -0.80945  10.8% 12100  678s\n"
     ]
    },
    {
     "name": "stdout",
     "output_type": "stream",
     "text": [
      "    31     6   -0.80848   10  118   -0.73070   -0.80848  10.6% 11643  766s\n"
     ]
    },
    {
     "name": "stderr",
     "output_type": "stream",
     "text": [
      "2024-04-25 17:43:11 (INFO):     31     6   -0.80848   10  118   -0.73070   -0.80848  10.6% 11643  766s\n"
     ]
    },
    {
     "name": "stdout",
     "output_type": "stream",
     "text": [
      "    36    10   -0.80612   11  114   -0.73070   -0.80612  10.3% 12081  792s\n"
     ]
    },
    {
     "name": "stderr",
     "output_type": "stream",
     "text": [
      "2024-04-25 17:43:36 (INFO):     36    10   -0.80612   11  114   -0.73070   -0.80612  10.3% 12081  792s\n"
     ]
    },
    {
     "name": "stdout",
     "output_type": "stream",
     "text": [
      "    42    15   -0.80310   12  111   -0.73070   -0.80310  9.91% 11344  854s\n"
     ]
    },
    {
     "name": "stderr",
     "output_type": "stream",
     "text": [
      "2024-04-25 17:44:39 (INFO):     42    15   -0.80310   12  111   -0.73070   -0.80310  9.91% 11344  854s\n"
     ]
    },
    {
     "name": "stdout",
     "output_type": "stream",
     "text": [
      "\n",
      "Interrupt request received\n",
      "\n"
     ]
    },
    {
     "name": "stderr",
     "output_type": "stream",
     "text": [
      "2024-04-25 17:44:39 (INFO): \n"
     ]
    },
    {
     "name": "stdout",
     "output_type": "stream",
     "text": [
      "Cutting planes:\n"
     ]
    },
    {
     "name": "stderr",
     "output_type": "stream",
     "text": [
      "2024-04-25 17:44:39 (INFO): Cutting planes:\n"
     ]
    },
    {
     "name": "stdout",
     "output_type": "stream",
     "text": [
      "  Cover: 1\n"
     ]
    },
    {
     "name": "stderr",
     "output_type": "stream",
     "text": [
      "2024-04-25 17:44:39 (INFO):   Cover: 1\n"
     ]
    },
    {
     "name": "stdout",
     "output_type": "stream",
     "text": [
      "  Implied bound: 192\n"
     ]
    },
    {
     "name": "stderr",
     "output_type": "stream",
     "text": [
      "2024-04-25 17:44:39 (INFO):   Implied bound: 192\n"
     ]
    },
    {
     "name": "stdout",
     "output_type": "stream",
     "text": [
      "  MIR: 137\n"
     ]
    },
    {
     "name": "stderr",
     "output_type": "stream",
     "text": [
      "2024-04-25 17:44:39 (INFO):   MIR: 137\n"
     ]
    },
    {
     "name": "stdout",
     "output_type": "stream",
     "text": [
      "  Flow cover: 231\n"
     ]
    },
    {
     "name": "stderr",
     "output_type": "stream",
     "text": [
      "2024-04-25 17:44:39 (INFO):   Flow cover: 231\n"
     ]
    },
    {
     "name": "stdout",
     "output_type": "stream",
     "text": [
      "\n"
     ]
    },
    {
     "name": "stderr",
     "output_type": "stream",
     "text": [
      "2024-04-25 17:44:39 (INFO): \n"
     ]
    },
    {
     "name": "stdout",
     "output_type": "stream",
     "text": [
      "Explored 52 nodes (658036 simplex iterations) in 855.43 seconds (965.03 work units)\n"
     ]
    },
    {
     "name": "stderr",
     "output_type": "stream",
     "text": [
      "2024-04-25 17:44:39 (INFO): Explored 52 nodes (658036 simplex iterations) in 855.43 seconds (965.03 work units)\n"
     ]
    },
    {
     "name": "stdout",
     "output_type": "stream",
     "text": [
      "Thread count was 20 (of 20 available processors)\n"
     ]
    },
    {
     "name": "stderr",
     "output_type": "stream",
     "text": [
      "2024-04-25 17:44:39 (INFO): Thread count was 20 (of 20 available processors)\n"
     ]
    },
    {
     "name": "stdout",
     "output_type": "stream",
     "text": [
      "\n"
     ]
    },
    {
     "name": "stderr",
     "output_type": "stream",
     "text": [
      "2024-04-25 17:44:39 (INFO): \n"
     ]
    },
    {
     "name": "stdout",
     "output_type": "stream",
     "text": [
      "Solution count 1: -0.730696 \n"
     ]
    },
    {
     "name": "stderr",
     "output_type": "stream",
     "text": [
      "2024-04-25 17:44:39 (INFO): Solution count 1: -0.730696 \n"
     ]
    },
    {
     "name": "stdout",
     "output_type": "stream",
     "text": [
      "\n"
     ]
    },
    {
     "name": "stderr",
     "output_type": "stream",
     "text": [
      "2024-04-25 17:44:39 (INFO): \n"
     ]
    },
    {
     "name": "stdout",
     "output_type": "stream",
     "text": [
      "Solve interrupted\n"
     ]
    },
    {
     "name": "stderr",
     "output_type": "stream",
     "text": [
      "2024-04-25 17:44:39 (INFO): Solve interrupted\n"
     ]
    },
    {
     "name": "stdout",
     "output_type": "stream",
     "text": [
      "Best objective -7.306958703522e-01, best bound -8.012007335890e-01, gap 9.6490%\n"
     ]
    },
    {
     "name": "stderr",
     "output_type": "stream",
     "text": [
      "2024-04-25 17:44:39 (INFO): Best objective -7.306958703522e-01, best bound -8.012007335890e-01, gap 9.6490%\n"
     ]
    },
    {
     "name": "stdout",
     "output_type": "stream",
     "text": [
      "\n"
     ]
    },
    {
     "name": "stderr",
     "output_type": "stream",
     "text": [
      "2024-04-25 17:44:39 (INFO): \n"
     ]
    },
    {
     "name": "stdout",
     "output_type": "stream",
     "text": [
      "User-callback calls 554533, time in user-callback 4.16 sec\n"
     ]
    },
    {
     "name": "stderr",
     "output_type": "stream",
     "text": [
      "2024-04-25 17:44:39 (INFO): User-callback calls 554533, time in user-callback 4.16 sec\n",
      "2024-04-25 17:44:39 (INFO): Optimization status: 11\n",
      "2024-04-25 17:44:39 (INFO): Original -0.73070, Opt objective -0.73070, stop_obj: None\n"
     ]
    },
    {
     "name": "stdout",
     "output_type": "stream",
     "text": [
      "Warning for adding constraints: zero or small (< 1e-13) coefficients, ignored\n"
     ]
    },
    {
     "name": "stderr",
     "output_type": "stream",
     "text": [
      "2024-04-25 17:44:44 (INFO): Warning for adding constraints: zero or small (< 1e-13) coefficients, ignored\n"
     ]
    },
    {
     "name": "stdout",
     "output_type": "stream",
     "text": [
      "Set parameter BestObjStop to value -8.0120073358898825e-01\n"
     ]
    },
    {
     "name": "stderr",
     "output_type": "stream",
     "text": [
      "2024-04-25 17:44:44 (INFO): Set parameter BestObjStop to value -8.0120073358898825e-01\n"
     ]
    },
    {
     "name": "stdout",
     "output_type": "stream",
     "text": [
      "Set parameter IntegralityFocus to value 1\n"
     ]
    },
    {
     "name": "stderr",
     "output_type": "stream",
     "text": [
      "2024-04-25 17:44:44 (INFO): Set parameter IntegralityFocus to value 1\n"
     ]
    },
    {
     "name": "stdout",
     "output_type": "stream",
     "text": [
      "Set parameter IntFeasTol to value 0.0001\n"
     ]
    },
    {
     "name": "stderr",
     "output_type": "stream",
     "text": [
      "2024-04-25 17:44:44 (INFO): Set parameter IntFeasTol to value 0.0001\n"
     ]
    },
    {
     "name": "stdout",
     "output_type": "stream",
     "text": [
      "Set parameter DualReductions to value 0\n"
     ]
    },
    {
     "name": "stderr",
     "output_type": "stream",
     "text": [
      "2024-04-25 17:44:44 (INFO): Set parameter DualReductions to value 0\n"
     ]
    },
    {
     "name": "stdout",
     "output_type": "stream",
     "text": [
      "Set parameter FeasibilityTol to value 0.0001\n"
     ]
    },
    {
     "name": "stderr",
     "output_type": "stream",
     "text": [
      "2024-04-25 17:44:44 (INFO): Set parameter FeasibilityTol to value 0.0001\n"
     ]
    },
    {
     "name": "stdout",
     "output_type": "stream",
     "text": [
      "Set parameter OptimalityTol to value 0.0001\n"
     ]
    },
    {
     "name": "stderr",
     "output_type": "stream",
     "text": [
      "2024-04-25 17:44:44 (INFO): Set parameter OptimalityTol to value 0.0001\n"
     ]
    },
    {
     "name": "stdout",
     "output_type": "stream",
     "text": [
      "Set parameter NumericFocus to value 3\n"
     ]
    },
    {
     "name": "stderr",
     "output_type": "stream",
     "text": [
      "2024-04-25 17:44:44 (INFO): Set parameter NumericFocus to value 3\n"
     ]
    },
    {
     "name": "stdout",
     "output_type": "stream",
     "text": [
      "Set parameter TimeLimit to value 3600\n"
     ]
    },
    {
     "name": "stderr",
     "output_type": "stream",
     "text": [
      "2024-04-25 17:44:44 (INFO): Set parameter TimeLimit to value 3600\n"
     ]
    },
    {
     "name": "stdout",
     "output_type": "stream",
     "text": [
      "Set parameter MIPFocus to value 3\n"
     ]
    },
    {
     "name": "stderr",
     "output_type": "stream",
     "text": [
      "2024-04-25 17:44:44 (INFO): Set parameter MIPFocus to value 3\n"
     ]
    },
    {
     "name": "stdout",
     "output_type": "stream",
     "text": [
      "Gurobi Optimizer version 11.0.1 build v11.0.1rc0 (linux64 - \"Ubuntu 22.04.4 LTS\")\n"
     ]
    },
    {
     "name": "stderr",
     "output_type": "stream",
     "text": [
      "2024-04-25 17:44:44 (INFO): Gurobi Optimizer version 11.0.1 build v11.0.1rc0 (linux64 - \"Ubuntu 22.04.4 LTS\")\n"
     ]
    },
    {
     "name": "stdout",
     "output_type": "stream",
     "text": [
      "\n"
     ]
    },
    {
     "name": "stderr",
     "output_type": "stream",
     "text": [
      "2024-04-25 17:44:44 (INFO): \n"
     ]
    },
    {
     "name": "stdout",
     "output_type": "stream",
     "text": [
      "CPU model: Intel(R) Xeon(R) CPU E5-2630 v4 @ 2.20GHz, instruction set [SSE2|AVX|AVX2]\n"
     ]
    },
    {
     "name": "stderr",
     "output_type": "stream",
     "text": [
      "2024-04-25 17:44:44 (INFO): CPU model: Intel(R) Xeon(R) CPU E5-2630 v4 @ 2.20GHz, instruction set [SSE2|AVX|AVX2]\n"
     ]
    },
    {
     "name": "stdout",
     "output_type": "stream",
     "text": [
      "Thread count: 20 physical cores, 20 logical processors, using up to 20 threads\n"
     ]
    },
    {
     "name": "stderr",
     "output_type": "stream",
     "text": [
      "2024-04-25 17:44:44 (INFO): Thread count: 20 physical cores, 20 logical processors, using up to 20 threads\n"
     ]
    },
    {
     "name": "stdout",
     "output_type": "stream",
     "text": [
      "\n"
     ]
    },
    {
     "name": "stderr",
     "output_type": "stream",
     "text": [
      "2024-04-25 17:44:44 (INFO): \n"
     ]
    },
    {
     "name": "stdout",
     "output_type": "stream",
     "text": [
      "Optimize a model with 158760 rows, 80080 columns and 395877 nonzeros\n"
     ]
    },
    {
     "name": "stderr",
     "output_type": "stream",
     "text": [
      "2024-04-25 17:44:44 (INFO): Optimize a model with 158760 rows, 80080 columns and 395877 nonzeros\n"
     ]
    },
    {
     "name": "stdout",
     "output_type": "stream",
     "text": [
      "Model fingerprint: 0x409cd0d8\n"
     ]
    },
    {
     "name": "stderr",
     "output_type": "stream",
     "text": [
      "2024-04-25 17:44:44 (INFO): Model fingerprint: 0x409cd0d8\n"
     ]
    },
    {
     "name": "stdout",
     "output_type": "stream",
     "text": [
      "Variable types: 79520 continuous, 560 integer (560 binary)\n"
     ]
    },
    {
     "name": "stderr",
     "output_type": "stream",
     "text": [
      "2024-04-25 17:44:44 (INFO): Variable types: 79520 continuous, 560 integer (560 binary)\n"
     ]
    },
    {
     "name": "stdout",
     "output_type": "stream",
     "text": [
      "Coefficient statistics:\n"
     ]
    },
    {
     "name": "stderr",
     "output_type": "stream",
     "text": [
      "2024-04-25 17:44:44 (INFO): Coefficient statistics:\n"
     ]
    },
    {
     "name": "stdout",
     "output_type": "stream",
     "text": [
      "  Matrix range     [2e-03, 3e+01]\n"
     ]
    },
    {
     "name": "stderr",
     "output_type": "stream",
     "text": [
      "2024-04-25 17:44:44 (INFO):   Matrix range     [2e-03, 3e+01]\n"
     ]
    },
    {
     "name": "stdout",
     "output_type": "stream",
     "text": [
      "  Objective range  [1e+00, 1e+00]\n"
     ]
    },
    {
     "name": "stderr",
     "output_type": "stream",
     "text": [
      "2024-04-25 17:44:44 (INFO):   Objective range  [1e+00, 1e+00]\n"
     ]
    },
    {
     "name": "stdout",
     "output_type": "stream",
     "text": [
      "  Bounds range     [2e-03, 1e+00]\n"
     ]
    },
    {
     "name": "stderr",
     "output_type": "stream",
     "text": [
      "2024-04-25 17:44:44 (INFO):   Bounds range     [2e-03, 1e+00]\n"
     ]
    },
    {
     "name": "stdout",
     "output_type": "stream",
     "text": [
      "  RHS range        [2e-03, 1e+00]\n"
     ]
    },
    {
     "name": "stderr",
     "output_type": "stream",
     "text": [
      "2024-04-25 17:44:44 (INFO):   RHS range        [2e-03, 1e+00]\n"
     ]
    },
    {
     "name": "stdout",
     "output_type": "stream",
     "text": [
      "\n"
     ]
    },
    {
     "name": "stderr",
     "output_type": "stream",
     "text": [
      "2024-04-25 17:44:44 (INFO): \n"
     ]
    },
    {
     "name": "stdout",
     "output_type": "stream",
     "text": [
      "Loaded user MIP start with objective -0.746217\n",
      "\n",
      "Loaded user MIP start with objective -0.746217\n"
     ]
    },
    {
     "name": "stderr",
     "output_type": "stream",
     "text": [
      "2024-04-25 17:44:44 (INFO): Loaded user MIP start with objective -0.746217\n"
     ]
    },
    {
     "name": "stdout",
     "output_type": "stream",
     "text": [
      "\n"
     ]
    },
    {
     "name": "stderr",
     "output_type": "stream",
     "text": [
      "2024-04-25 17:44:44 (INFO): \n"
     ]
    },
    {
     "name": "stdout",
     "output_type": "stream",
     "text": [
      "Presolve removed 29675 rows and 3692 columns\n"
     ]
    },
    {
     "name": "stderr",
     "output_type": "stream",
     "text": [
      "2024-04-25 17:44:48 (INFO): Presolve removed 29675 rows and 3692 columns\n"
     ]
    },
    {
     "name": "stdout",
     "output_type": "stream",
     "text": [
      "Presolve time: 3.85s\n"
     ]
    },
    {
     "name": "stderr",
     "output_type": "stream",
     "text": [
      "2024-04-25 17:44:48 (INFO): Presolve time: 3.85s\n"
     ]
    },
    {
     "name": "stdout",
     "output_type": "stream",
     "text": [
      "Presolved: 129085 rows, 76388 columns, 335398 nonzeros\n"
     ]
    },
    {
     "name": "stderr",
     "output_type": "stream",
     "text": [
      "2024-04-25 17:44:48 (INFO): Presolved: 129085 rows, 76388 columns, 335398 nonzeros\n"
     ]
    },
    {
     "name": "stdout",
     "output_type": "stream",
     "text": [
      "Variable types: 75912 continuous, 476 integer (476 binary)\n"
     ]
    },
    {
     "name": "stderr",
     "output_type": "stream",
     "text": [
      "2024-04-25 17:44:49 (INFO): Variable types: 75912 continuous, 476 integer (476 binary)\n"
     ]
    },
    {
     "name": "stdout",
     "output_type": "stream",
     "text": [
      "\n"
     ]
    },
    {
     "name": "stderr",
     "output_type": "stream",
     "text": [
      "2024-04-25 17:44:49 (INFO): \n"
     ]
    },
    {
     "name": "stdout",
     "output_type": "stream",
     "text": [
      "Explored 0 nodes (0 simplex iterations) in 4.77 seconds (4.61 work units)\n"
     ]
    },
    {
     "name": "stderr",
     "output_type": "stream",
     "text": [
      "2024-04-25 17:44:49 (INFO): Explored 0 nodes (0 simplex iterations) in 4.77 seconds (4.61 work units)\n"
     ]
    },
    {
     "name": "stdout",
     "output_type": "stream",
     "text": [
      "Thread count was 20 (of 20 available processors)\n"
     ]
    },
    {
     "name": "stderr",
     "output_type": "stream",
     "text": [
      "2024-04-25 17:44:49 (INFO): Thread count was 20 (of 20 available processors)\n"
     ]
    },
    {
     "name": "stdout",
     "output_type": "stream",
     "text": [
      "\n"
     ]
    },
    {
     "name": "stderr",
     "output_type": "stream",
     "text": [
      "2024-04-25 17:44:49 (INFO): \n"
     ]
    },
    {
     "name": "stdout",
     "output_type": "stream",
     "text": [
      "Solution count 1: -0.746217 \n"
     ]
    },
    {
     "name": "stderr",
     "output_type": "stream",
     "text": [
      "2024-04-25 17:44:49 (INFO): Solution count 1: -0.746217 \n"
     ]
    },
    {
     "name": "stdout",
     "output_type": "stream",
     "text": [
      "\n"
     ]
    },
    {
     "name": "stderr",
     "output_type": "stream",
     "text": [
      "2024-04-25 17:44:49 (INFO): \n"
     ]
    },
    {
     "name": "stdout",
     "output_type": "stream",
     "text": [
      "Optimization achieved user objective limit\n"
     ]
    },
    {
     "name": "stderr",
     "output_type": "stream",
     "text": [
      "2024-04-25 17:44:49 (INFO): Optimization achieved user objective limit\n"
     ]
    },
    {
     "name": "stdout",
     "output_type": "stream",
     "text": [
      "Best objective -7.462174618530e-01, best bound 2.309158521556e-01, gap 130.9448%\n"
     ]
    },
    {
     "name": "stderr",
     "output_type": "stream",
     "text": [
      "2024-04-25 17:44:49 (INFO): Best objective -7.462174618530e-01, best bound 2.309158521556e-01, gap 130.9448%\n"
     ]
    },
    {
     "name": "stdout",
     "output_type": "stream",
     "text": [
      "\n"
     ]
    },
    {
     "name": "stderr",
     "output_type": "stream",
     "text": [
      "2024-04-25 17:44:49 (INFO): \n"
     ]
    },
    {
     "name": "stdout",
     "output_type": "stream",
     "text": [
      "User-callback calls 1269, time in user-callback 0.01 sec\n"
     ]
    },
    {
     "name": "stderr",
     "output_type": "stream",
     "text": [
      "2024-04-25 17:44:49 (INFO): User-callback calls 1269, time in user-callback 0.01 sec\n",
      "2024-04-25 17:44:49 (INFO): Optimization status: 15\n",
      "2024-04-25 17:44:49 (INFO): Original -0.74622, Opt objective -0.74622, stop_obj: -0.8012007335889882\n",
      "2024-04-25 17:44:49 (INFO): Robust count 0 out of 2\n"
     ]
    }
   ],
   "source": [
    "# MIP foucs = 3, seed 4, new big M_u, M_v\n",
    "#model_params[\"cache_size\"] = 10000\n",
    "other_params[\"device\"] = \"cpu\"\n",
    "other_params[\"debug\"] = False\n",
    "certificate_params[\"n_adversarial\"] = 270\n",
    "certificate_params[\"delta\"] = 0.01\n",
    "certificate_params[\"delta_absolute\"] = False\n",
    "certificate_params[\"method\"] = \"XXT\"\n",
    "certificate_params[\"perturbation_model\"] = \"l2\"\n",
    "certificate_params[\"attack_nodes\"] = \"test\"\n",
    "other_params[\"path_gurobi_license\"] = \"/ceph/ssd/staff/gosl/app/gurobi.lic\"\n",
    "verbosity_params[\"debug_lvl\"] = \"info\"\n",
    "model_params[\"regularizer\"] = 0.002\n",
    "model_params[\"solver\"] = \"qplayer_one_vs_all\"\n",
    "model_params[\"alpha_tol\"] = 1e-4\n",
    "model_params[\"bias\"] = False\n",
    "data_params[\"learning_setting\"] = \"transductive\"\n",
    "run(data_params, model_params, certificate_params, verbosity_params, other_params, seed)"
   ]
  },
  {
   "cell_type": "code",
   "execution_count": null,
   "metadata": {},
   "outputs": [],
   "source": []
  }
 ],
 "metadata": {
  "kernelspec": {
   "display_name": "py311_ntk",
   "language": "python",
   "name": "python3"
  },
  "language_info": {
   "codemirror_mode": {
    "name": "ipython",
    "version": 3
   },
   "file_extension": ".py",
   "mimetype": "text/x-python",
   "name": "python",
   "nbconvert_exporter": "python",
   "pygments_lexer": "ipython3",
   "version": "3.11.5"
  }
 },
 "nbformat": 4,
 "nbformat_minor": 2
}
