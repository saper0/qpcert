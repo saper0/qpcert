{
 "cells": [
  {
   "cell_type": "markdown",
   "metadata": {},
   "source": [
    "# NTK classifier for Cora"
   ]
  },
  {
   "cell_type": "code",
   "execution_count": 1,
   "metadata": {},
   "outputs": [],
   "source": [
    "%load_ext autoreload\n",
    "%autoreload 2"
   ]
  },
  {
   "cell_type": "code",
   "execution_count": 2,
   "metadata": {},
   "outputs": [],
   "source": [
    "import torch\n",
    "import numpy as np\n",
    "from exp_ntk import run"
   ]
  },
  {
   "cell_type": "code",
   "execution_count": 3,
   "metadata": {},
   "outputs": [],
   "source": [
    "def get_str_l(l, precision=2):\n",
    "    l_str = []\n",
    "    for el in l:\n",
    "        l_str.append(f\"{el:.{precision}f}\")\n",
    "    return l_str\n",
    "    "
   ]
  },
  {
   "cell_type": "code",
   "execution_count": 4,
   "metadata": {},
   "outputs": [],
   "source": [
    "seed = 0\n",
    "\n",
    "data_params = dict(\n",
    "    dataset = \"cora\",\n",
    "    learning_setting = \"inductive\", # or \"transdructive\"\n",
    "    specification = dict(\n",
    "        n_per_class = 20,\n",
    "        fraction_test = 0.1,\n",
    "        data_dir = \"./data\",\n",
    "        make_undirected = True,\n",
    "        binary_attr = False,\n",
    "        balance_test = True,\n",
    "    )\n",
    ")\n",
    "\n",
    "model_params = dict(\n",
    "    label = \"GCN\",\n",
    "    model = \"GCN\",\n",
    "    normalization = \"row_normalization\",\n",
    "    depth = 1,\n",
    "    #regularizer = 1e-8\n",
    "    regularizer = 1,\n",
    "    pred_method = \"svm\",\n",
    ")\n",
    "\n",
    "verbosity_params = dict(\n",
    "    debug_lvl = \"warning\"\n",
    ")  \n",
    "\n",
    "other_params = dict(\n",
    "    device = \"0\",\n",
    "    dtype = torch.float64,\n",
    "    allow_tf32 = False\n",
    ")"
   ]
  },
  {
   "cell_type": "code",
   "execution_count": 5,
   "metadata": {},
   "outputs": [],
   "source": [
    "def run_exp(n_seeds, data_params, model_params, verbosity_params, other_params, n_seed_l=None):\n",
    "    acc_l = []\n",
    "    min_ypred = []\n",
    "    max_ypred = []\n",
    "    cond = []\n",
    "    min_ntklabeled = []\n",
    "    max_ntklabeled = []\n",
    "    min_ntkunlabeled = []\n",
    "    max_ntkunlabeled = []\n",
    "    if n_seed_l is None:\n",
    "        seeds = [seed for seed in range(n_seeds)]\n",
    "    else:\n",
    "        seeds = n_seed_l\n",
    "    for seed in seeds:\n",
    "        data_params[\"specification\"][\"seed\"] = seed\n",
    "        res = run(data_params, model_params, verbosity_params, other_params, seed)\n",
    "        acc_l.append(res[\"accuracy\"])\n",
    "        min_ypred.append(res[\"min_ypred\"])\n",
    "        max_ypred.append(res[\"max_ypred\"])\n",
    "        min_ntklabeled.append(res[\"min_ntklabeled\"])\n",
    "        max_ntklabeled.append(res[\"max_ntklabeled\"])\n",
    "        min_ntkunlabeled.append(res[\"min_ntkunlabeled\"])\n",
    "        max_ntkunlabeled.append(res[\"max_ntkunlabeled\"])\n",
    "        cond.append(res[\"cond\"])\n",
    "    print(f\"Accuracy: {get_str_l(acc_l)}\")\n",
    "    print(f\"Accuracy Mean: {np.array(acc_l).mean()}\")\n",
    "    print(f\"Accuracy Std: {np.array(acc_l).std()}\")\n",
    "    print(f\"Min y_pred: {get_str_l(min_ypred)}\")\n",
    "    print(f\"Max y_pred: {get_str_l(max_ypred)}\")\n",
    "    print(f\"Min NTK_labeled: {get_str_l(min_ntklabeled)}\")\n",
    "    print(f\"Max NTK_labeled: {get_str_l(max_ntklabeled)}\")\n",
    "    print(f\"Min NTK_unlabeled: {get_str_l(min_ntkunlabeled)}\")\n",
    "    print(f\"Max NTK_unlabeled: {get_str_l(max_ntkunlabeled)}\")\n",
    "    print(f\"Condition: {get_str_l(cond, precision=0)}\")"
   ]
  },
  {
   "cell_type": "code",
   "execution_count": 8,
   "metadata": {},
   "outputs": [
    {
     "name": "stdout",
     "output_type": "stream",
     "text": [
      "100\n"
     ]
    },
    {
     "data": {
      "text/plain": [
       "{'accuracy': 0.8131868243217468,\n",
       " 'min_ypred': -1.8052204847335815,\n",
       " 'max_ypred': 1.5962820053100586,\n",
       " 'min_ntklabeled': 0.9832799462292519,\n",
       " 'max_ntklabeled': 44.095950974899985,\n",
       " 'min_ntkunlabeled': 0.8673833181746758,\n",
       " 'max_ntkunlabeled': 24.497745429205672,\n",
       " 'cond': 9383.388048591205}"
      ]
     },
     "execution_count": 8,
     "metadata": {},
     "output_type": "execute_result"
    }
   ],
   "source": [
    "model_params[\"regularizer\"] = 0.1\n",
    "model_params[\"pred_method\"] = \"svm\"\n",
    "model_params[\"cache_size\"] = 1000\n",
    "data_params[\"dataset\"] = \"cora\"\n",
    "other_params[\"device\"] = \"cpu\"\n",
    "seed = 1\n",
    "data_params[\"specification\"][\"seed\"] = seed\n",
    "verbosity_params[\"debug_lvl\"] = \"warning\"\n",
    "run(data_params, model_params, verbosity_params, other_params, seed)"
   ]
  },
  {
   "cell_type": "code",
   "execution_count": 7,
   "metadata": {},
   "outputs": [
    {
     "name": "stdout",
     "output_type": "stream",
     "text": [
      "[1 1 0 0 1 1 1 0 1 1]\n"
     ]
    }
   ],
   "source": [
    "rng = np.random.Generator(np.random.PCG64(10))\n",
    "y = rng.integers(0,2,size=10)\n",
    "print(y)"
   ]
  },
  {
   "cell_type": "markdown",
   "metadata": {},
   "source": [
    "# SVM"
   ]
  },
  {
   "cell_type": "code",
   "execution_count": 14,
   "metadata": {},
   "outputs": [
    {
     "name": "stdout",
     "output_type": "stream",
     "text": [
      "Accuracy: ['0.85', '0.81', '0.83', '0.82', '0.85', '0.77', '0.82', '0.83', '0.85', '0.81']\n",
      "Accuracy Mean: 0.8238095343112946\n",
      "Accuracy Std: 0.023308333072155348\n",
      "Min y_pred: ['-1.73', '-1.81', '-2.02', '-1.70', '-1.68', '-1.72', '-1.81', '-1.75', '-1.81', '-1.79']\n",
      "Max y_pred: ['1.76', '1.60', '1.75', '1.52', '1.88', '1.54', '2.20', '1.43', '1.71', '1.52']\n",
      "Min NTK_labeled: ['1.09', '0.98', '0.77', '1.25', '0.55', '0.77', '0.57', '0.76', '0.57', '1.03']\n",
      "Max NTK_labeled: ['50.10', '44.10', '52.10', '48.10', '50.10', '48.10', '50.10', '42.10', '46.10', '46.10']\n",
      "Min NTK_unlabeled: ['0.91', '0.87', '0.63', '1.07', '0.63', '0.65', '0.62', '0.67', '0.53', '0.95']\n",
      "Max NTK_unlabeled: ['25.00', '24.50', '21.11', '25.00', '25.00', '16.46', '21.11', '21.11', '21.44', '15.77']\n",
      "Condition: ['9640', '9383', '9556', '9577', '9209', '9500', '7186', '8973', '9490', '9285']\n"
     ]
    }
   ],
   "source": [
    "model_params[\"regularizer\"] = 0.1\n",
    "data_params[\"dataset\"] = \"cora\"\n",
    "model_params[\"pred_method\"] = \"svm\"\n",
    "n_seed_l = None\n",
    "verbosity_params[\"debug_lvl\"] = \"warning\"\n",
    "n_seeds = 10\n",
    "run_exp(n_seeds, data_params, model_params, verbosity_params, other_params, n_seed_l)"
   ]
  },
  {
   "cell_type": "code",
   "execution_count": 35,
   "metadata": {},
   "outputs": [
    {
     "name": "stdout",
     "output_type": "stream",
     "text": [
      "Accuracy: ['0.86', '0.87', '0.85', '0.86', '0.78', '0.79', '0.85', '0.84', '0.82', '0.82']\n",
      "Accuracy Mean: 0.8334507048130035\n",
      "Accuracy Std: 0.02933545175833569\n",
      "Min y_pred: ['-2.01', '-1.80', '-1.93', '-1.87', '-2.13', '-2.22', '-1.89', '-2.01', '-1.89', '-1.98']\n",
      "Max y_pred: ['2.04', '1.75', '2.08', '2.14', '2.47', '2.29', '2.01', '1.82', '2.00', '2.06']\n",
      "Min NTK_labeled: ['3.52', '3.30', '2.93', '3.29', '2.95', '3.51', '3.47', '1.89', '2.73', '2.61']\n",
      "Max NTK_labeled: ['142.09', '168.08', '132.09', '110.09', '72.59', '108.09', '104.09', '324.07', '74.09', '139.80']\n",
      "Min NTK_unlabeled: ['2.64', '3.17', '2.63', '2.63', '3.35', '2.63', '3.07', '3.23', '2.33', '3.04']\n",
      "Max NTK_unlabeled: ['47.54', '39.93', '38.96', '41.18', '47.54', '47.08', '33.10', '74.87', '39.56', '43.30']\n",
      "Condition: ['26316', '13169', '25396', '25245', '25365', '16955', '16290', '13427', '15812', '27280']\n"
     ]
    }
   ],
   "source": [
    "model_params[\"regularizer\"] = 0.05\n",
    "data_params[\"dataset\"] = \"cora_ml\"\n",
    "model_params[\"pred_method\"] = \"svm\"\n",
    "n_seed_l = None\n",
    "verbosity_params[\"debug_lvl\"] = \"warning\"\n",
    "n_seeds = 10\n",
    "run_exp(n_seeds, data_params, model_params, verbosity_params, other_params, n_seed_l)"
   ]
  },
  {
   "cell_type": "code",
   "execution_count": 10,
   "metadata": {},
   "outputs": [
    {
     "name": "stdout",
     "output_type": "stream",
     "text": [
      "Accuracy: ['0.82', '0.83', '0.81', '0.83', '0.86', '0.79', '0.81', '0.86', '0.84', '0.80']\n",
      "Accuracy Mean: 0.8242957711219787\n",
      "Accuracy Std: 0.022625805817998605\n",
      "Min y_pred: ['-1.79', '-1.73', '-2.09', '-1.69', '-1.95', '-1.59', '-1.71', '-1.93', '-1.65', '-1.77']\n",
      "Max y_pred: ['1.46', '1.94', '1.75', '1.62', '2.20', '1.53', '1.45', '2.11', '1.46', '1.90']\n",
      "Min NTK_labeled: ['3.37', '2.89', '3.18', '2.50', '2.90', '2.61', '3.29', '3.39', '2.86', '2.66']\n",
      "Max NTK_labeled: ['160.04', '134.04', '136.04', '196.03', '272.02', '72.54', '114.04', '128.04', '134.04', '100.04']\n",
      "Min NTK_unlabeled: ['2.68', '2.47', '2.71', '3.21', '2.89', '2.54', '2.97', '3.19', '2.78', '2.70']\n",
      "Max NTK_unlabeled: ['42.41', '30.25', '36.84', '59.64', '115.95', '43.28', '40.20', '55.51', '30.45', '42.13']\n",
      "Condition: ['52079', '18747', '52854', '50611', '24097', '49535', '24905', '50818', '14519', '51674']\n"
     ]
    }
   ],
   "source": [
    "model_params[\"regularizer\"] = 0.05\n",
    "data_params[\"dataset\"] = \"cora_ml\"\n",
    "model_params[\"pred_method\"] = \"svm\"\n",
    "n_seed_l = None\n",
    "verbosity_params[\"debug_lvl\"] = \"warning\"\n",
    "n_seeds = 10\n",
    "run_exp(n_seeds, data_params, model_params, verbosity_params, other_params, n_seed_l)"
   ]
  },
  {
   "cell_type": "code",
   "execution_count": 9,
   "metadata": {},
   "outputs": [
    {
     "name": "stdout",
     "output_type": "stream",
     "text": [
      "Accuracy: ['0.78', '0.72', '0.77', '0.73', '0.75', '0.73', '0.74', '0.71', '0.70', '0.72']\n",
      "Accuracy Mean: 0.7336448311805726\n",
      "Accuracy Std: 0.023918660468398557\n",
      "Min y_pred: ['-1.52', '-1.75', '-1.56', '-1.71', '-1.64', '-1.59', '-1.50', '-1.68', '-1.64', '-1.59']\n",
      "Max y_pred: ['1.31', '1.17', '1.17', '1.74', '1.51', '1.14', '1.12', '1.44', '1.18', '1.10']\n",
      "Min NTK_labeled: ['3.00', '2.90', '3.10', '3.17', '2.67', '3.16', '2.86', '3.08', '2.81', '2.93']\n",
      "Max NTK_labeled: ['78.04', '84.04', '80.04', '86.04', '90.04', '80.04', '66.04', '66.04', '80.04', '84.04']\n",
      "Min NTK_unlabeled: ['2.85', '2.92', '2.80', '2.58', '2.73', '2.94', '2.74', '2.85', '2.84', '2.61']\n",
      "Max NTK_unlabeled: ['29.62', '32.04', '34.53', '43.90', '35.96', '35.19', '27.77', '33.19', '28.71', '34.53']\n",
      "Condition: ['10379', '29110', '29321', '18443', '29388', '29316', '28212', '27603', '12103', '28507']\n"
     ]
    }
   ],
   "source": [
    "model_params[\"regularizer\"] = 0.05\n",
    "data_params[\"dataset\"] = \"citeseer\"\n",
    "model_params[\"pred_method\"] = \"svm\"\n",
    "n_seed_l = None\n",
    "verbosity_params[\"debug_lvl\"] = \"warning\"\n",
    "n_seeds = 10\n",
    "run_exp(n_seeds, data_params, model_params, verbosity_params, other_params, n_seed_l)"
   ]
  },
  {
   "cell_type": "code",
   "execution_count": 19,
   "metadata": {},
   "outputs": [
    {
     "name": "stdout",
     "output_type": "stream",
     "text": [
      "Accuracy: ['0.78', '0.69', '0.73', '0.72', '0.73', '0.73', '0.74', '0.68', '0.69', '0.72']\n",
      "Accuracy Mean: 0.7210280179977417\n",
      "Accuracy Std: 0.02725144326863752\n",
      "Min y_pred: ['-1.63', '-2.04', '-1.68', '-1.94', '-1.98', '-1.62', '-1.65', '-2.03', '-1.89', '-1.76']\n",
      "Max y_pred: ['1.37', '1.49', '1.91', '2.01', '1.75', '1.35', '1.38', '1.83', '1.65', '1.49']\n",
      "Min NTK_labeled: ['3.00', '2.90', '3.10', '3.17', '2.67', '3.16', '2.86', '3.08', '2.81', '2.93']\n",
      "Max NTK_labeled: ['78.09', '84.09', '80.09', '86.09', '90.09', '80.09', '66.09', '66.09', '80.09', '84.09']\n",
      "Min NTK_unlabeled: ['2.85', '2.92', '2.80', '2.58', '2.73', '2.94', '2.74', '2.85', '2.84', '2.61']\n",
      "Max NTK_unlabeled: ['29.62', '32.04', '34.53', '43.90', '35.96', '35.19', '27.77', '33.19', '28.71', '34.53']\n",
      "Condition: ['7642', '14556', '14661', '11387', '14695', '14658', '14107', '13802', '8530', '14254']\n"
     ]
    }
   ],
   "source": [
    "model_params[\"regularizer\"] = 0.1\n",
    "data_params[\"dataset\"] = \"citeseer\"\n",
    "model_params[\"pred_method\"] = \"svm\"\n",
    "n_seed_l = None\n",
    "verbosity_params[\"debug_lvl\"] = \"warning\"\n",
    "n_seeds = 10\n",
    "run_exp(n_seeds, data_params, model_params, verbosity_params, other_params, n_seed_l)"
   ]
  },
  {
   "cell_type": "code",
   "execution_count": 33,
   "metadata": {},
   "outputs": [
    {
     "name": "stdout",
     "output_type": "stream",
     "text": [
      "Accuracy: ['0.78', '0.76', '0.65', '0.74', '0.72', '0.66', '0.77', '0.73', '0.72', '0.77']\n",
      "Accuracy Mean: 0.731424230337143\n",
      "Accuracy Std: 0.04095614945257118\n",
      "Min y_pred: ['-1.02', '-1.02', '-1.01', '-1.02', '-1.02', '-1.02', '-1.01', '-1.03', '-1.02', '-1.01']\n",
      "Max y_pred: ['-0.90', '-0.92', '-0.90', '-0.91', '-0.90', '-0.86', '-0.92', '-0.85', '-0.85', '-0.89']\n",
      "Min NTK_labeled: ['0.02', '0.02', '0.02', '0.02', '0.02', '0.02', '0.02', '0.02', '0.02', '0.02']\n",
      "Max NTK_labeled: ['0.50', '1.03', '0.66', '0.40', '0.96', '1.13', '0.62', '0.83', '0.59', '0.82']\n",
      "Min NTK_unlabeled: ['0.02', '0.02', '0.02', '0.02', '0.02', '0.02', '0.02', '0.02', '0.02', '0.02']\n",
      "Max NTK_unlabeled: ['0.46', '0.33', '0.27', '0.36', '0.27', '0.73', '0.25', '0.31', '0.31', '0.33']\n",
      "Condition: ['40', '47', '40', '40', '41', '44', '40', '41', '41', '43']\n"
     ]
    }
   ],
   "source": [
    "model_params[\"regularizer\"] = 0.1\n",
    "data_params[\"dataset\"] = \"pubmed\"\n",
    "model_params[\"pred_method\"] = \"svm\"\n",
    "n_seed_l = None\n",
    "n_seeds = 10\n",
    "other_params[\"device\"] = \"cpu\"\n",
    "verbosity_params[\"debug_lvl\"] = \"warning\"\n",
    "run_exp(n_seeds, data_params, model_params, verbosity_params, other_params, n_seed_l=n_seed_l)"
   ]
  },
  {
   "cell_type": "code",
   "execution_count": 37,
   "metadata": {},
   "outputs": [
    {
     "name": "stderr",
     "output_type": "stream",
     "text": [
      "/ceph/ssd/staff/gosl/.conda/envs/py311_ntk/lib/python3.11/site-packages/torch_geometric/data/in_memory_dataset.py:157: UserWarning: It is not recommended to directly access the internal storage format `data` of an 'InMemoryDataset'. If you are absolutely certain what you are doing, access the internal storage via `InMemoryDataset._data` instead to suppress this warning. Alternatively, you can access stacked individual attributes of every graph via `dataset.{attr_name}`.\n",
      "  warnings.warn(msg)\n",
      "/ceph/ssd/staff/gosl/src/ntk-robust/exp_ntk.py:162: UserWarning: To copy construct from a tensor, it is recommended to use sourceTensor.clone().detach() or sourceTensor.clone().detach().requires_grad_(True), rather than torch.tensor(sourceTensor).\n",
      "  X = torch.tensor(X, dtype=other_params[\"dtype\"], device=device)\n",
      "/ceph/ssd/staff/gosl/src/ntk-robust/exp_ntk.py:163: UserWarning: To copy construct from a tensor, it is recommended to use sourceTensor.clone().detach() or sourceTensor.clone().detach().requires_grad_(True), rather than torch.tensor(sourceTensor).\n",
      "  A = torch.tensor(A, dtype=other_params[\"dtype\"], device=device)\n"
     ]
    },
    {
     "name": "stdout",
     "output_type": "stream",
     "text": [
      "number of samples\n",
      " - labeled: 140 \n",
      " - val: 140 \n",
      " - test: 273 \n",
      " - unlabeled: 2155\n",
      "number of samples\n",
      " - labeled: 140 \n",
      " - val: 140 \n",
      " - test: 273 \n",
      " - unlabeled: 2155\n",
      "Accuracy: ['0.86', '0.84']\n",
      "Min y_pred: ['-0.61', '-0.68']\n",
      "Max y_pred: ['1.54', '2.93']\n",
      "Min NTK_labeled: ['0.55', '0.78']\n",
      "Max NTK_labeled: ['41.00', '53.00']\n",
      "Min NTK_unlabeled: ['0.52', '0.64']\n",
      "Max NTK_unlabeled: ['28.50', '28.00']\n",
      "Condition: ['931', '939']\n"
     ]
    }
   ],
   "source": [
    "model_params[\"regularizer\"] = 1\n",
    "data_params[\"dataset\"] = \"cora\"\n",
    "model_params[\"pred_method\"] = \"krr\"\n",
    "n_seeds = 2\n",
    "run_exp(n_seeds, data_params, model_params, verbosity_params, other_params)"
   ]
  }
 ],
 "metadata": {
  "kernelspec": {
   "display_name": "py311_ntk",
   "language": "python",
   "name": "python3"
  },
  "language_info": {
   "codemirror_mode": {
    "name": "ipython",
    "version": 3
   },
   "file_extension": ".py",
   "mimetype": "text/x-python",
   "name": "python",
   "nbconvert_exporter": "python",
   "pygments_lexer": "ipython3",
   "version": "3.11.5"
  }
 },
 "nbformat": 4,
 "nbformat_minor": 2
}
