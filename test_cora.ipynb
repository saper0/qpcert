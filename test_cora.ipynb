{
 "cells": [
  {
   "cell_type": "markdown",
   "metadata": {},
   "source": [
    "# NTK classifier for Cora"
   ]
  },
  {
   "cell_type": "code",
   "execution_count": 1,
   "metadata": {},
   "outputs": [],
   "source": [
    "%load_ext autoreload\n",
    "%autoreload 2"
   ]
  },
  {
   "cell_type": "code",
   "execution_count": 2,
   "metadata": {},
   "outputs": [],
   "source": [
    "import torch\n",
    "import numpy as np\n",
    "from exp_ntk import run"
   ]
  },
  {
   "cell_type": "code",
   "execution_count": 3,
   "metadata": {},
   "outputs": [],
   "source": [
    "def get_str_l(l, precision=2):\n",
    "    l_str = []\n",
    "    for el in l:\n",
    "        l_str.append(f\"{el:.{precision}f}\")\n",
    "    return l_str\n",
    "    "
   ]
  },
  {
   "cell_type": "code",
   "execution_count": 4,
   "metadata": {},
   "outputs": [],
   "source": [
    "seed = 0\n",
    "\n",
    "data_params = dict(\n",
    "    dataset = \"cora\",\n",
    "    learning_setting = \"inductive\", # or \"transdructive\"\n",
    "    specification = dict(\n",
    "        n_per_class = 20,\n",
    "        fraction_test = 0.1,\n",
    "        data_dir = \"./data\",\n",
    "        make_undirected = True,\n",
    "        binary_attr = False,\n",
    "        balance_test = True,\n",
    "    )\n",
    ")\n",
    "\n",
    "model_params = dict(\n",
    "    label = \"GCN\",\n",
    "    model = \"GCN\",\n",
    "    normalization = \"row_normalization\",\n",
    "    depth = 1,\n",
    "    #regularizer = 1e-8\n",
    "    regularizer = 1,\n",
    "    pred_method = \"svm\",\n",
    ")\n",
    "\n",
    "verbosity_params = dict(\n",
    "    debug_lvl = \"warning\"\n",
    ")  \n",
    "\n",
    "other_params = dict(\n",
    "    device = \"0\",\n",
    "    dtype = torch.float64,\n",
    "    allow_tf32 = False\n",
    ")"
   ]
  },
  {
   "cell_type": "code",
   "execution_count": 5,
   "metadata": {},
   "outputs": [],
   "source": [
    "def run_exp(n_seeds, data_params, model_params, verbosity_params, other_params):\n",
    "    acc_l = []\n",
    "    min_ypred = []\n",
    "    max_ypred = []\n",
    "    cond = []\n",
    "    min_ntklabeled = []\n",
    "    max_ntklabeled = []\n",
    "    min_ntkunlabeled = []\n",
    "    max_ntkunlabeled = []\n",
    "    for seed in range(n_seeds):\n",
    "        data_params[\"specification\"][\"seed\"] = seed\n",
    "        res = run(data_params, model_params, verbosity_params, other_params, seed)\n",
    "        acc_l.append(res[\"accuracy\"])\n",
    "        min_ypred.append(res[\"min_ypred\"])\n",
    "        max_ypred.append(res[\"max_ypred\"])\n",
    "        min_ntklabeled.append(res[\"min_ntklabeled\"])\n",
    "        max_ntklabeled.append(res[\"max_ntklabeled\"])\n",
    "        min_ntkunlabeled.append(res[\"min_ntkunlabeled\"])\n",
    "        max_ntkunlabeled.append(res[\"max_ntkunlabeled\"])\n",
    "        cond.append(res[\"cond\"])\n",
    "    print(f\"Accuracy: {get_str_l(acc_l)}\")\n",
    "    print(f\"Min y_pred: {get_str_l(min_ypred)}\")\n",
    "    print(f\"Max y_pred: {get_str_l(max_ypred)}\")\n",
    "    print(f\"Min NTK_labeled: {get_str_l(min_ntklabeled)}\")\n",
    "    print(f\"Max NTK_labeled: {get_str_l(max_ntklabeled)}\")\n",
    "    print(f\"Min NTK_unlabeled: {get_str_l(min_ntkunlabeled)}\")\n",
    "    print(f\"Max NTK_unlabeled: {get_str_l(max_ntkunlabeled)}\")\n",
    "    print(f\"Condition: {get_str_l(cond, precision=0)}\")"
   ]
  },
  {
   "cell_type": "code",
   "execution_count": 6,
   "metadata": {},
   "outputs": [
    {
     "name": "stderr",
     "output_type": "stream",
     "text": [
      "/ceph/ssd/staff/gosl/.conda/envs/py311_ntk/lib/python3.11/site-packages/torch_geometric/datasets/wikics.py:38: UserWarning: The WikiCS dataset now returns an undirected graph by default. Please explicitly specify 'is_undirected=False' to restore the old behavior.\n",
      "  warnings.warn(\n"
     ]
    },
    {
     "ename": "OutOfMemoryError",
     "evalue": "CUDA out of memory. Tried to allocate 792.00 MiB (GPU 0; 10.91 GiB total capacity; 9.50 GiB already allocated; 669.38 MiB free; 9.67 GiB reserved in total by PyTorch) If reserved memory is >> allocated memory try setting max_split_size_mb to avoid fragmentation.  See documentation for Memory Management and PYTORCH_CUDA_ALLOC_CONF",
     "output_type": "error",
     "traceback": [
      "\u001b[0;31m---------------------------------------------------------------------------\u001b[0m",
      "\u001b[0;31mOutOfMemoryError\u001b[0m                          Traceback (most recent call last)",
      "Cell \u001b[0;32mIn[6], line 8\u001b[0m\n\u001b[1;32m      6\u001b[0m seed \u001b[38;5;241m=\u001b[39m \u001b[38;5;241m0\u001b[39m\n\u001b[1;32m      7\u001b[0m data_params[\u001b[38;5;124m\"\u001b[39m\u001b[38;5;124mspecification\u001b[39m\u001b[38;5;124m\"\u001b[39m][\u001b[38;5;124m\"\u001b[39m\u001b[38;5;124mseed\u001b[39m\u001b[38;5;124m\"\u001b[39m] \u001b[38;5;241m=\u001b[39m seed\n\u001b[0;32m----> 8\u001b[0m \u001b[43mrun\u001b[49m\u001b[43m(\u001b[49m\u001b[43mdata_params\u001b[49m\u001b[43m,\u001b[49m\u001b[43m \u001b[49m\u001b[43mmodel_params\u001b[49m\u001b[43m,\u001b[49m\u001b[43m \u001b[49m\u001b[43mverbosity_params\u001b[49m\u001b[43m,\u001b[49m\u001b[43m \u001b[49m\u001b[43mother_params\u001b[49m\u001b[43m,\u001b[49m\u001b[43m \u001b[49m\u001b[43mseed\u001b[49m\u001b[43m)\u001b[49m\n",
      "File \u001b[0;32m/ceph/ssd/staff/gosl/.conda/envs/py311_ntk/lib/python3.11/site-packages/sacred/config/captured_function.py:42\u001b[0m, in \u001b[0;36mcaptured_function\u001b[0;34m(wrapped, instance, args, kwargs)\u001b[0m\n\u001b[1;32m     40\u001b[0m \u001b[38;5;66;03m# =================== run actual function =================================\u001b[39;00m\n\u001b[1;32m     41\u001b[0m \u001b[38;5;28;01mwith\u001b[39;00m ConfigError\u001b[38;5;241m.\u001b[39mtrack(wrapped\u001b[38;5;241m.\u001b[39mconfig, wrapped\u001b[38;5;241m.\u001b[39mprefix):\n\u001b[0;32m---> 42\u001b[0m     result \u001b[38;5;241m=\u001b[39m \u001b[43mwrapped\u001b[49m\u001b[43m(\u001b[49m\u001b[38;5;241;43m*\u001b[39;49m\u001b[43margs\u001b[49m\u001b[43m,\u001b[49m\u001b[43m \u001b[49m\u001b[38;5;241;43m*\u001b[39;49m\u001b[38;5;241;43m*\u001b[39;49m\u001b[43mkwargs\u001b[49m\u001b[43m)\u001b[49m\n\u001b[1;32m     43\u001b[0m \u001b[38;5;66;03m# =========================================================================\u001b[39;00m\n\u001b[1;32m     44\u001b[0m \u001b[38;5;28;01mif\u001b[39;00m wrapped\u001b[38;5;241m.\u001b[39mlogger \u001b[38;5;129;01mis\u001b[39;00m \u001b[38;5;129;01mnot\u001b[39;00m \u001b[38;5;28;01mNone\u001b[39;00m:\n",
      "File \u001b[0;32m/ceph/ssd/staff/gosl/src/ntk-robust/exp_ntk.py:184\u001b[0m, in \u001b[0;36mrun\u001b[0;34m(data_params, model_params, verbosity_params, other_params, seed, _run)\u001b[0m\n\u001b[1;32m    182\u001b[0m     X_trn \u001b[38;5;241m=\u001b[39m X[idx_known, :]\n\u001b[1;32m    183\u001b[0m \u001b[38;5;28;01mwith\u001b[39;00m torch\u001b[38;5;241m.\u001b[39mno_grad():\n\u001b[0;32m--> 184\u001b[0m     ntk \u001b[38;5;241m=\u001b[39m \u001b[43mNTK\u001b[49m\u001b[43m(\u001b[49m\u001b[43mmodel_params\u001b[49m\u001b[43m,\u001b[49m\u001b[43m \u001b[49m\u001b[43mX_trn\u001b[49m\u001b[38;5;241;43m=\u001b[39;49m\u001b[43mX_trn\u001b[49m\u001b[43m,\u001b[49m\u001b[43m \u001b[49m\u001b[43mA_trn\u001b[49m\u001b[38;5;241;43m=\u001b[39;49m\u001b[43mA_trn\u001b[49m\u001b[43m,\u001b[49m\u001b[43m \u001b[49m\u001b[43mn_classes\u001b[49m\u001b[38;5;241;43m=\u001b[39;49m\u001b[43mn_classes\u001b[49m\u001b[43m,\u001b[49m\u001b[43m \u001b[49m\n\u001b[1;32m    185\u001b[0m \u001b[43m            \u001b[49m\u001b[43midx_trn_labeled\u001b[49m\u001b[38;5;241;43m=\u001b[39;49m\u001b[43midx_known_labeled\u001b[49m\u001b[43m,\u001b[49m\u001b[43m \u001b[49m\u001b[43my_trn\u001b[49m\u001b[38;5;241;43m=\u001b[39;49m\u001b[43my\u001b[49m\u001b[43m[\u001b[49m\u001b[43midx_labeled\u001b[49m\u001b[43m]\u001b[49m\u001b[43m,\u001b[49m\n\u001b[1;32m    186\u001b[0m \u001b[43m            \u001b[49m\u001b[43mlearning_setting\u001b[49m\u001b[38;5;241;43m=\u001b[39;49m\u001b[43mdata_params\u001b[49m\u001b[43m[\u001b[49m\u001b[38;5;124;43m\"\u001b[39;49m\u001b[38;5;124;43mlearning_setting\u001b[39;49m\u001b[38;5;124;43m\"\u001b[39;49m\u001b[43m]\u001b[49m\u001b[43m,\u001b[49m\n\u001b[1;32m    187\u001b[0m \u001b[43m            \u001b[49m\u001b[43mpred_method\u001b[49m\u001b[38;5;241;43m=\u001b[39;49m\u001b[43mmodel_params\u001b[49m\u001b[43m[\u001b[49m\u001b[38;5;124;43m\"\u001b[39;49m\u001b[38;5;124;43mpred_method\u001b[39;49m\u001b[38;5;124;43m\"\u001b[39;49m\u001b[43m]\u001b[49m\u001b[43m,\u001b[49m\n\u001b[1;32m    188\u001b[0m \u001b[43m            \u001b[49m\u001b[43mregularizer\u001b[49m\u001b[38;5;241;43m=\u001b[39;49m\u001b[43mmodel_params\u001b[49m\u001b[43m[\u001b[49m\u001b[38;5;124;43m\"\u001b[39;49m\u001b[38;5;124;43mregularizer\u001b[39;49m\u001b[38;5;124;43m\"\u001b[39;49m\u001b[43m]\u001b[49m\u001b[43m,\u001b[49m\n\u001b[1;32m    189\u001b[0m \u001b[43m            \u001b[49m\u001b[43mdtype\u001b[49m\u001b[38;5;241;43m=\u001b[39;49m\u001b[43mother_params\u001b[49m\u001b[43m[\u001b[49m\u001b[38;5;124;43m\"\u001b[39;49m\u001b[38;5;124;43mdtype\u001b[39;49m\u001b[38;5;124;43m\"\u001b[39;49m\u001b[43m]\u001b[49m\u001b[43m)\u001b[49m\n\u001b[1;32m    191\u001b[0m     y_pred, ntk_test \u001b[38;5;241m=\u001b[39m ntk(idx_labeled\u001b[38;5;241m=\u001b[39midx_labeled, idx_test\u001b[38;5;241m=\u001b[39midx_test,\n\u001b[1;32m    192\u001b[0m                             y_test\u001b[38;5;241m=\u001b[39my, X_test\u001b[38;5;241m=\u001b[39mX, A_test\u001b[38;5;241m=\u001b[39mA, \n\u001b[1;32m    193\u001b[0m                             return_ntk\u001b[38;5;241m=\u001b[39m\u001b[38;5;28;01mTrue\u001b[39;00m)\n\u001b[1;32m    194\u001b[0m acc \u001b[38;5;241m=\u001b[39m utils\u001b[38;5;241m.\u001b[39maccuracy(y_pred, y[idx_test])\n",
      "File \u001b[0;32m/ceph/ssd/staff/gosl/src/ntk-robust/src/models/ntk.py:83\u001b[0m, in \u001b[0;36mNTK.__init__\u001b[0;34m(self, model_dict, X_trn, A_trn, n_classes, idx_trn_labeled, y_trn, learning_setting, pred_method, regularizer, device, dtype)\u001b[0m\n\u001b[1;32m     81\u001b[0m \u001b[38;5;28;01melse\u001b[39;00m:\n\u001b[1;32m     82\u001b[0m     \u001b[38;5;28mself\u001b[39m\u001b[38;5;241m.\u001b[39mdevice \u001b[38;5;241m=\u001b[39m X_trn\u001b[38;5;241m.\u001b[39mdevice\n\u001b[0;32m---> 83\u001b[0m \u001b[38;5;28mself\u001b[39m\u001b[38;5;241m.\u001b[39mntk \u001b[38;5;241m=\u001b[39m \u001b[38;5;28;43mself\u001b[39;49m\u001b[38;5;241;43m.\u001b[39;49m\u001b[43mcalc_ntk\u001b[49m\u001b[43m(\u001b[49m\u001b[43mX_trn\u001b[49m\u001b[43m,\u001b[49m\u001b[43m \u001b[49m\u001b[43mA_trn\u001b[49m\u001b[43m)\u001b[49m\n\u001b[1;32m     84\u001b[0m \u001b[38;5;28mself\u001b[39m\u001b[38;5;241m.\u001b[39mcalculated_lb_ub \u001b[38;5;241m=\u001b[39m \u001b[38;5;28;01mFalse\u001b[39;00m\n\u001b[1;32m     85\u001b[0m \u001b[38;5;28;01mif\u001b[39;00m torch\u001b[38;5;241m.\u001b[39mcuda\u001b[38;5;241m.\u001b[39mis_available() \u001b[38;5;129;01mand\u001b[39;00m \u001b[38;5;28mself\u001b[39m\u001b[38;5;241m.\u001b[39mdevice \u001b[38;5;241m!=\u001b[39m \u001b[38;5;124m\"\u001b[39m\u001b[38;5;124mcpu\u001b[39m\u001b[38;5;124m\"\u001b[39m:\n",
      "File \u001b[0;32m/ceph/ssd/staff/gosl/src/ntk-robust/src/models/ntk.py:249\u001b[0m, in \u001b[0;36mNTK.calc_ntk\u001b[0;34m(***failed resolving arguments***)\u001b[0m\n\u001b[1;32m    246\u001b[0m \u001b[38;5;28mself\u001b[39m\u001b[38;5;241m.\u001b[39mempty_gpu_memory()\n\u001b[1;32m    248\u001b[0m \u001b[38;5;28;01mif\u001b[39;00m \u001b[38;5;28mself\u001b[39m\u001b[38;5;241m.\u001b[39mmodel_dict[\u001b[38;5;124m\"\u001b[39m\u001b[38;5;124mmodel\u001b[39m\u001b[38;5;124m\"\u001b[39m] \u001b[38;5;241m==\u001b[39m \u001b[38;5;124m\"\u001b[39m\u001b[38;5;124mGCN\u001b[39m\u001b[38;5;124m\"\u001b[39m \u001b[38;5;129;01mor\u001b[39;00m \u001b[38;5;28mself\u001b[39m\u001b[38;5;241m.\u001b[39mmodel_dict[\u001b[38;5;124m\"\u001b[39m\u001b[38;5;124mmodel\u001b[39m\u001b[38;5;124m\"\u001b[39m] \u001b[38;5;241m==\u001b[39m \u001b[38;5;124m\"\u001b[39m\u001b[38;5;124mSoftMedoid\u001b[39m\u001b[38;5;124m\"\u001b[39m:\n\u001b[0;32m--> 249\u001b[0m     kernel \u001b[38;5;241m=\u001b[39m \u001b[38;5;28;43mself\u001b[39;49m\u001b[38;5;241;43m.\u001b[39;49m\u001b[43m_calc_ntk_gcn\u001b[49m\u001b[43m(\u001b[49m\u001b[43mX\u001b[49m\u001b[43m,\u001b[49m\u001b[43m \u001b[49m\u001b[43mS\u001b[49m\u001b[43m)\u001b[49m\n\u001b[1;32m    250\u001b[0m     \u001b[38;5;28mself\u001b[39m\u001b[38;5;241m.\u001b[39mempty_gpu_memory()\n\u001b[1;32m    251\u001b[0m     \u001b[38;5;28;01mreturn\u001b[39;00m kernel\n",
      "File \u001b[0;32m/ceph/ssd/staff/gosl/src/ntk-robust/src/models/ntk.py:203\u001b[0m, in \u001b[0;36mNTK._calc_ntk_gcn\u001b[0;34m(***failed resolving arguments***)\u001b[0m\n\u001b[1;32m    201\u001b[0m q \u001b[38;5;241m=\u001b[39m torch\u001b[38;5;241m.\u001b[39msqrt(Sig_i \u001b[38;5;241m*\u001b[39m Sig_j)\n\u001b[1;32m    202\u001b[0m u \u001b[38;5;241m=\u001b[39m Sig\u001b[38;5;241m/\u001b[39mq \u001b[38;5;66;03m# why normalization?\u001b[39;00m\n\u001b[0;32m--> 203\u001b[0m E \u001b[38;5;241m=\u001b[39m (q \u001b[38;5;241m*\u001b[39m \u001b[38;5;28;43mself\u001b[39;49m\u001b[38;5;241;43m.\u001b[39;49m\u001b[43mkappa_1\u001b[49m\u001b[43m(\u001b[49m\u001b[43mu\u001b[49m\u001b[43m)\u001b[49m) \u001b[38;5;241m*\u001b[39m csigma\n\u001b[1;32m    204\u001b[0m \u001b[38;5;28;01mdel\u001b[39;00m q\n\u001b[1;32m    205\u001b[0m \u001b[38;5;28mself\u001b[39m\u001b[38;5;241m.\u001b[39mempty_gpu_memory()\n",
      "File \u001b[0;32m/ceph/ssd/staff/gosl/src/ntk-robust/src/models/ntk.py:176\u001b[0m, in \u001b[0;36mNTK.kappa_1\u001b[0;34m(self, u)\u001b[0m\n\u001b[1;32m    172\u001b[0m \u001b[38;5;28;01mdef\u001b[39;00m \u001b[38;5;21mkappa_1\u001b[39m(\u001b[38;5;28mself\u001b[39m, u):\n\u001b[1;32m    173\u001b[0m     \u001b[38;5;66;03m#z = torch.zeros((u.shape), dtype=self.dtype).to(self.device)\u001b[39;00m\n\u001b[1;32m    174\u001b[0m     \u001b[38;5;66;03m#pi = torch.acos(z) * 2\u001b[39;00m\n\u001b[1;32m    175\u001b[0m     pi \u001b[38;5;241m=\u001b[39m torch\u001b[38;5;241m.\u001b[39macos(torch\u001b[38;5;241m.\u001b[39mtensor(\u001b[38;5;241m0\u001b[39m, dtype\u001b[38;5;241m=\u001b[39m\u001b[38;5;28mself\u001b[39m\u001b[38;5;241m.\u001b[39mdtype)\u001b[38;5;241m.\u001b[39mto(\u001b[38;5;28mself\u001b[39m\u001b[38;5;241m.\u001b[39mdevice)) \u001b[38;5;241m*\u001b[39m \u001b[38;5;241m2\u001b[39m\n\u001b[0;32m--> 176\u001b[0m     \u001b[38;5;28;01mreturn\u001b[39;00m (u\u001b[38;5;241m*\u001b[39m(pi \u001b[38;5;241m-\u001b[39m torch\u001b[38;5;241m.\u001b[39macos(u\u001b[38;5;241m-\u001b[39m\u001b[38;5;241m1e-7\u001b[39m)) \u001b[38;5;241m+\u001b[39m torch\u001b[38;5;241m.\u001b[39msqrt(\u001b[38;5;241;43m1\u001b[39;49m\u001b[38;5;241;43m-\u001b[39;49m\u001b[43mu\u001b[49m\u001b[38;5;241;43m*\u001b[39;49m\u001b[43mu\u001b[49m\u001b[38;5;241m+\u001b[39m\u001b[38;5;241m1e-7\u001b[39m))\u001b[38;5;241m/\u001b[39mpi\n",
      "File \u001b[0;32m/ceph/ssd/staff/gosl/.conda/envs/py311_ntk/lib/python3.11/site-packages/torch/_tensor.py:40\u001b[0m, in \u001b[0;36m_handle_torch_function_and_wrap_type_error_to_not_implemented.<locals>.wrapped\u001b[0;34m(*args, **kwargs)\u001b[0m\n\u001b[1;32m     38\u001b[0m     \u001b[38;5;28;01mif\u001b[39;00m has_torch_function(args):\n\u001b[1;32m     39\u001b[0m         \u001b[38;5;28;01mreturn\u001b[39;00m handle_torch_function(wrapped, args, \u001b[38;5;241m*\u001b[39margs, \u001b[38;5;241m*\u001b[39m\u001b[38;5;241m*\u001b[39mkwargs)\n\u001b[0;32m---> 40\u001b[0m     \u001b[38;5;28;01mreturn\u001b[39;00m \u001b[43mf\u001b[49m\u001b[43m(\u001b[49m\u001b[38;5;241;43m*\u001b[39;49m\u001b[43margs\u001b[49m\u001b[43m,\u001b[49m\u001b[43m \u001b[49m\u001b[38;5;241;43m*\u001b[39;49m\u001b[38;5;241;43m*\u001b[39;49m\u001b[43mkwargs\u001b[49m\u001b[43m)\u001b[49m\n\u001b[1;32m     41\u001b[0m \u001b[38;5;28;01mexcept\u001b[39;00m \u001b[38;5;167;01mTypeError\u001b[39;00m:\n\u001b[1;32m     42\u001b[0m     \u001b[38;5;28;01mreturn\u001b[39;00m \u001b[38;5;28mNotImplemented\u001b[39m\n",
      "File \u001b[0;32m/ceph/ssd/staff/gosl/.conda/envs/py311_ntk/lib/python3.11/site-packages/torch/_tensor.py:848\u001b[0m, in \u001b[0;36mTensor.__rsub__\u001b[0;34m(self, other)\u001b[0m\n\u001b[1;32m    846\u001b[0m \u001b[38;5;129m@_handle_torch_function_and_wrap_type_error_to_not_implemented\u001b[39m\n\u001b[1;32m    847\u001b[0m \u001b[38;5;28;01mdef\u001b[39;00m \u001b[38;5;21m__rsub__\u001b[39m(\u001b[38;5;28mself\u001b[39m, other):\n\u001b[0;32m--> 848\u001b[0m     \u001b[38;5;28;01mreturn\u001b[39;00m \u001b[43m_C\u001b[49m\u001b[38;5;241;43m.\u001b[39;49m\u001b[43m_VariableFunctions\u001b[49m\u001b[38;5;241;43m.\u001b[39;49m\u001b[43mrsub\u001b[49m\u001b[43m(\u001b[49m\u001b[38;5;28;43mself\u001b[39;49m\u001b[43m,\u001b[49m\u001b[43m \u001b[49m\u001b[43mother\u001b[49m\u001b[43m)\u001b[49m\n",
      "\u001b[0;31mOutOfMemoryError\u001b[0m: CUDA out of memory. Tried to allocate 792.00 MiB (GPU 0; 10.91 GiB total capacity; 9.50 GiB already allocated; 669.38 MiB free; 9.67 GiB reserved in total by PyTorch) If reserved memory is >> allocated memory try setting max_split_size_mb to avoid fragmentation.  See documentation for Memory Management and PYTORCH_CUDA_ALLOC_CONF"
     ]
    }
   ],
   "source": [
    "model_params[\"regularizer\"] = 0.1\n",
    "model_params[\"pred_method\"] = \"svm\"\n",
    "model_params[\"cache_size\"] = 10000\n",
    "data_params[\"dataset\"] = \"wikics\"\n",
    "other_params[\"device\"] = 0\n",
    "seed = 0\n",
    "data_params[\"specification\"][\"seed\"] = seed\n",
    "run(data_params, model_params, verbosity_params, other_params, seed)"
   ]
  },
  {
   "cell_type": "code",
   "execution_count": 20,
   "metadata": {},
   "outputs": [
    {
     "name": "stdout",
     "output_type": "stream",
     "text": [
      "tensor([[  0., -10.,   0., -10.],\n",
      "        [-10., -30., -10., -30.],\n",
      "        [  0., -10.,   0., -10.],\n",
      "        [-10., -30., -10., -30.]])\n",
      "tensor([[ 0., 10.,  0., 10.],\n",
      "        [10., 30., 10., 30.],\n",
      "        [ 0., 10.,  0., 10.],\n",
      "        [10., 30., 10., 30.]])\n",
      "tensor([[20., 10., 20., 10.],\n",
      "        [10.,  0., 10.,  0.],\n",
      "        [20., 10., 20., 10.],\n",
      "        [10.,  0., 10.,  0.]])\n"
     ]
    }
   ],
   "source": [
    "idx_adv = [1,3]\n",
    "a = torch.Tensor(([1, 1, 1, 1], [2, 2, 2, 2], [3, 3, 3, 3], [4,4,4,4]))\n",
    "a[:,:] = 20\n",
    "delta = 10\n",
    "Delta_lb = torch.zeros(a.shape)\n",
    "Delta_ub = torch.zeros(a.shape)\n",
    "# Delta^T@Delta Terms\n",
    "DD_lb = Delta_lb[idx_adv, :]\n",
    "DD_lb[:, idx_adv] = -delta\n",
    "Delta_lb[idx_adv, :] = DD_lb\n",
    "DD_ub = Delta_ub[idx_adv, :]\n",
    "DD_ub[:, idx_adv] = delta\n",
    "Delta_ub[idx_adv, :] = DD_ub\n",
    "# Delta@X^T Terms\n",
    "Delta_lb[idx_adv, :] -= delta\n",
    "Delta_ub[idx_adv, :] += delta\n",
    "# X@Delta^T Terms\n",
    "Delta_lb[:, idx_adv] -= delta\n",
    "Delta_ub[:, idx_adv] += delta\n",
    "print(Delta_lb)\n",
    "print(Delta_ub)\n",
    "print(torch.maximum(a+Delta_lb, torch.tensor(0)))"
   ]
  },
  {
   "cell_type": "markdown",
   "metadata": {},
   "source": [
    "# SVM"
   ]
  },
  {
   "cell_type": "code",
   "execution_count": 60,
   "metadata": {},
   "outputs": [
    {
     "name": "stdout",
     "output_type": "stream",
     "text": [
      "Accuracy: ['0.86', '0.84', '0.86', '0.80', '0.82', '0.78', '0.80', '0.76', '0.81', '0.84']\n",
      "Min y_pred: ['-1.83', '-1.81', '-1.74', '-1.72', '-2.01', '-1.87', '-2.00', '-1.87', '-1.78', '-1.85']\n",
      "Max y_pred: ['1.66', '1.49', '1.87', '1.66', '1.77', '1.51', '1.97', '1.85', '1.85', '1.45']\n",
      "Min NTK_labeled: ['0.55', '0.78', '0.87', '0.73', '0.56', '1.07', '0.59', '0.51', '0.72', '1.13']\n",
      "Max NTK_labeled: ['40.10', '52.10', '46.10', '52.10', '50.10', '44.10', '40.10', '46.10', '46.10', '46.10']\n",
      "Min NTK_unlabeled: ['0.52', '0.64', '0.79', '0.70', '0.60', '0.69', '0.55', '0.60', '0.52', '0.63']\n",
      "Max NTK_unlabeled: ['28.50', '28.00', '28.50', '21.11', '27.97', '15.13', '28.50', '19.55', '16.80', '21.44']\n",
      "Condition: ['9297', '9384', '7875', '9487', '9523', '9300', '6086', '9548', '9550', '9158']\n"
     ]
    }
   ],
   "source": [
    "model_params[\"regularizer\"] = 0.1\n",
    "data_params[\"dataset\"] = \"cora\"\n",
    "model_params[\"pred_method\"] = \"svm\"\n",
    "n_seeds = 10\n",
    "run_exp(n_seeds, data_params, model_params, verbosity_params, other_params)"
   ]
  },
  {
   "cell_type": "code",
   "execution_count": 7,
   "metadata": {},
   "outputs": [
    {
     "name": "stdout",
     "output_type": "stream",
     "text": [
      "Accuracy: ['0.86', '0.84', '0.86', '0.80', '0.82', '0.78', '0.80', '0.76', '0.81', '0.84']\n",
      "Min y_pred: ['0.00', '0.00', '0.00', '0.00', '0.00', '0.00', '0.00', '0.00', '0.00', '0.00']\n",
      "Max y_pred: ['1.00', '1.00', '1.00', '1.00', '1.00', '1.00', '1.00', '1.00', '1.00', '1.00']\n",
      "Min NTK_labeled: ['0.55', '0.78', '0.87', '0.73', '0.56', '1.07', '0.59', '0.51', '0.72', '1.13']\n",
      "Max NTK_labeled: ['40.10', '52.10', '46.10', '52.10', '50.10', '44.10', '40.10', '46.10', '46.10', '46.10']\n",
      "Min NTK_unlabeled: ['0.52', '0.64', '0.79', '0.70', '0.60', '0.69', '0.55', '0.60', '0.52', '0.63']\n",
      "Max NTK_unlabeled: ['28.50', '28.00', '28.50', '21.11', '27.97', '15.13', '28.50', '19.55', '16.80', '21.44']\n",
      "Condition: ['9297', '9384', '7875', '9487', '9523', '9300', '6086', '9548', '9550', '9158']\n"
     ]
    }
   ],
   "source": [
    "model_params[\"regularizer\"] = 0.1\n",
    "data_params[\"dataset\"] = \"cora\"\n",
    "model_params[\"pred_method\"] = \"svm\"\n",
    "n_seeds = 10\n",
    "run_exp(n_seeds, data_params, model_params, verbosity_params, other_params)"
   ]
  },
  {
   "cell_type": "code",
   "execution_count": 37,
   "metadata": {},
   "outputs": [
    {
     "name": "stderr",
     "output_type": "stream",
     "text": [
      "/ceph/ssd/staff/gosl/.conda/envs/py311_ntk/lib/python3.11/site-packages/torch_geometric/data/in_memory_dataset.py:157: UserWarning: It is not recommended to directly access the internal storage format `data` of an 'InMemoryDataset'. If you are absolutely certain what you are doing, access the internal storage via `InMemoryDataset._data` instead to suppress this warning. Alternatively, you can access stacked individual attributes of every graph via `dataset.{attr_name}`.\n",
      "  warnings.warn(msg)\n",
      "/ceph/ssd/staff/gosl/src/ntk-robust/exp_ntk.py:162: UserWarning: To copy construct from a tensor, it is recommended to use sourceTensor.clone().detach() or sourceTensor.clone().detach().requires_grad_(True), rather than torch.tensor(sourceTensor).\n",
      "  X = torch.tensor(X, dtype=other_params[\"dtype\"], device=device)\n",
      "/ceph/ssd/staff/gosl/src/ntk-robust/exp_ntk.py:163: UserWarning: To copy construct from a tensor, it is recommended to use sourceTensor.clone().detach() or sourceTensor.clone().detach().requires_grad_(True), rather than torch.tensor(sourceTensor).\n",
      "  A = torch.tensor(A, dtype=other_params[\"dtype\"], device=device)\n"
     ]
    },
    {
     "name": "stdout",
     "output_type": "stream",
     "text": [
      "number of samples\n",
      " - labeled: 140 \n",
      " - val: 140 \n",
      " - test: 273 \n",
      " - unlabeled: 2155\n",
      "number of samples\n",
      " - labeled: 140 \n",
      " - val: 140 \n",
      " - test: 273 \n",
      " - unlabeled: 2155\n",
      "Accuracy: ['0.86', '0.84']\n",
      "Min y_pred: ['-0.61', '-0.68']\n",
      "Max y_pred: ['1.54', '2.93']\n",
      "Min NTK_labeled: ['0.55', '0.78']\n",
      "Max NTK_labeled: ['41.00', '53.00']\n",
      "Min NTK_unlabeled: ['0.52', '0.64']\n",
      "Max NTK_unlabeled: ['28.50', '28.00']\n",
      "Condition: ['931', '939']\n"
     ]
    }
   ],
   "source": [
    "model_params[\"regularizer\"] = 1\n",
    "data_params[\"dataset\"] = \"cora\"\n",
    "model_params[\"pred_method\"] = \"krr\"\n",
    "n_seeds = 2\n",
    "run_exp(n_seeds, data_params, model_params, verbosity_params, other_params)"
   ]
  }
 ],
 "metadata": {
  "kernelspec": {
   "display_name": "py311_ntk",
   "language": "python",
   "name": "python3"
  },
  "language_info": {
   "codemirror_mode": {
    "name": "ipython",
    "version": 3
   },
   "file_extension": ".py",
   "mimetype": "text/x-python",
   "name": "python",
   "nbconvert_exporter": "python",
   "pygments_lexer": "ipython3",
   "version": "3.11.5"
  }
 },
 "nbformat": 4,
 "nbformat_minor": 2
}
