{
 "cells": [
  {
   "cell_type": "code",
   "execution_count": 1,
   "metadata": {},
   "outputs": [],
   "source": [
    "%load_ext autoreload\n",
    "%autoreload 2"
   ]
  },
  {
   "cell_type": "code",
   "execution_count": 2,
   "metadata": {},
   "outputs": [],
   "source": [
    "import torch\n",
    "import numpy as np\n",
    "import src.models\n",
    "from exp_ntk import run"
   ]
  },
  {
   "cell_type": "code",
   "execution_count": 3,
   "metadata": {},
   "outputs": [],
   "source": [
    "def get_str_l(l, precision=2):\n",
    "    l_str = []\n",
    "    for el in l:\n",
    "        l_str.append(f\"{el:.{precision}f}\")\n",
    "    return l_str\n",
    "    "
   ]
  },
  {
   "cell_type": "code",
   "execution_count": 4,
   "metadata": {},
   "outputs": [],
   "source": [
    "seed = 0\n",
    "\n",
    "data_params = dict(\n",
    "    learning_setting = \"inductive\", # or \"transdructive\"\n",
    "    classes = 2,\n",
    "    n_trn_labeled = 600,\n",
    "    n_trn_unlabeled = 0,\n",
    "    n_val = 200,\n",
    "    n_test = 200,\n",
    "    sigma = 1,\n",
    "    avg_within_class_degree = 1.58 * 2,\n",
    "    avg_between_class_degree = 0.37 * 2,\n",
    "    K = 1.5,\n",
    "    seed = 0 # used to generate the dataset & data split\n",
    ")\n",
    "\n",
    "model_params = dict(\n",
    "    label = \"GCN\",\n",
    "    model = \"GCN\",\n",
    "    normalization = \"row_normalization\",\n",
    "    depth = 1,\n",
    "    regularizer = 1e-8\n",
    ")\n",
    "\n",
    "attack_params = dict(\n",
    "    attack = \"random\",\n",
    "    #epsilon_list = [0, 0.01, 0.025, 0.05, 0.10, 0.25, 0.50, 1, 2.5, 5, 10],\n",
    "    epsilon_list = [0],\n",
    "    attack_setting = \"evasion\" # or \"poisioning\"\n",
    ")\n",
    "\n",
    "verbosity_params = dict(\n",
    "    debug_lvl = \"warning\"\n",
    ")  \n",
    "\n",
    "other_params = dict(\n",
    "    device = \"0\",\n",
    "    dtype = torch.float64,\n",
    "    allow_tf32 = False\n",
    ")"
   ]
  },
  {
   "cell_type": "code",
   "execution_count": 7,
   "metadata": {},
   "outputs": [],
   "source": [
    "def run_exp(n_seeds, data_params, model_params, attack_params, verbosity_params, other_params):\n",
    "    acc_l = []\n",
    "    min_ypred = []\n",
    "    max_ypred = []\n",
    "    cond = []\n",
    "    min_M = []\n",
    "    max_M = []\n",
    "    min_ntklabeled = []\n",
    "    max_ntklabeled = []\n",
    "    min_ntkunlabeled = []\n",
    "    max_ntkunlabeled = []\n",
    "    for seed in range(n_seeds):\n",
    "        data_params[\"seed\"] = seed\n",
    "        res = run(data_params, model_params, attack_params, verbosity_params, other_params, seed)\n",
    "        acc_l.append(res[\"accuracy_l\"][0])\n",
    "        min_ypred.append(res[\"min_ypred\"][0])\n",
    "        max_ypred.append(res[\"max_ypred\"][0])\n",
    "        min_M.append(res[\"min_M\"][0])\n",
    "        max_M.append(res[\"max_M\"][0])\n",
    "        min_ntklabeled.append(res[\"min_ntklabeled\"][0])\n",
    "        max_ntklabeled.append(res[\"max_ntklabeled\"][0])\n",
    "        min_ntkunlabeled.append(res[\"min_ntkunlabeled\"][0])\n",
    "        max_ntkunlabeled.append(res[\"max_ntkunlabeled\"][0])\n",
    "        cond.append(res[\"cond\"])\n",
    "    print(f\"Accuracy: {get_str_l(acc_l)}\")\n",
    "    print(f\"Min y_pred: {get_str_l(min_ypred)}\")\n",
    "    print(f\"Max y_pred: {get_str_l(max_ypred)}\")\n",
    "    print(f\"Min M: {get_str_l(min_M)}\")\n",
    "    print(f\"Max M: {get_str_l(max_M)}\")\n",
    "    print(f\"Min NTK_labeled: {get_str_l(min_ntklabeled)}\")\n",
    "    print(f\"Max NTK_labeled: {get_str_l(max_ntklabeled)}\")\n",
    "    print(f\"Min NTK_unlabeled: {get_str_l(min_ntkunlabeled)}\")\n",
    "    print(f\"Max NTK_unlabeled: {get_str_l(max_ntkunlabeled)}\")\n",
    "    print(f\"Condition: {get_str_l(cond, precision=0)}\")"
   ]
  },
  {
   "cell_type": "code",
   "execution_count": 44,
   "metadata": {},
   "outputs": [
    {
     "name": "stdout",
     "output_type": "stream",
     "text": [
      "tensor([0, 0, 0, 0, 0, 0, 0, 0, 0, 0, 0, 0, 0, 0, 1, 0, 0, 0, 0, 1, 1, 0, 0, 0,\n",
      "        0, 0, 0, 0, 0, 0, 0, 0, 0, 0, 0, 0, 0, 1, 0, 0, 0, 0, 0, 0, 0, 0, 1, 0,\n",
      "        0, 0, 0, 0, 0, 0, 0, 0, 0, 0, 0, 1, 0, 0, 0, 0, 0, 0, 0, 0, 0, 0, 0, 0,\n",
      "        0, 1, 0, 1, 0, 1, 1, 1, 1, 1, 1, 1, 1, 1, 0, 1, 1, 1, 1, 0, 1, 0, 0, 1,\n",
      "        1, 1, 1, 0, 1, 1, 1, 1, 1, 1, 0, 0, 1, 1, 1, 1, 1, 1, 1, 1, 1, 1, 1, 1,\n",
      "        1, 0, 1, 1, 1, 1, 1, 1, 0, 1, 1, 1, 1, 1, 1, 1, 1, 1, 1, 1, 1, 1, 1, 1,\n",
      "        1, 1, 1, 1, 1, 1, 0, 1, 1, 1, 1, 1, 1, 1, 1, 1, 1, 1, 1, 1, 1, 0, 1, 1,\n",
      "        1, 1, 1, 1, 0, 1, 1, 1, 1, 1, 1, 1, 1, 1, 1, 0, 1, 1, 0, 1, 1, 1, 1, 1,\n",
      "        0, 1, 1, 1, 1, 1, 1, 1], device='cuda:0')\n",
      "0.8849999904632568\n"
     ]
    },
    {
     "data": {
      "text/plain": [
       "{'accuracy_l': [0.8849999904632568],\n",
       " 'epsilon_l': [0],\n",
       " 'min_ypred': [-1.6868791415714233],\n",
       " 'max_ypred': [2.0859966172742785],\n",
       " 'min_M': [1.0],\n",
       " 'max_M': [1.0],\n",
       " 'min_ntklabeled': [-0.7442963601856576],\n",
       " 'max_ntklabeled': [72.55201349661894],\n",
       " 'min_ntkunlabeled': [-1.9895214628109565],\n",
       " 'max_ntkunlabeled': [19.413256536604973],\n",
       " 'cond': 924.0456698483973}"
      ]
     },
     "execution_count": 44,
     "metadata": {},
     "output_type": "execute_result"
    }
   ],
   "source": [
    "data_params[\"learning_setting\"] = \"transductive\"\n",
    "data_params[\"seed\"] = 0\n",
    "run(data_params, model_params, attack_params, verbosity_params, other_params, seed)"
   ]
  },
  {
   "cell_type": "markdown",
   "metadata": {},
   "source": [
    "## Experiments with using LU Factorization as solver"
   ]
  },
  {
   "cell_type": "code",
   "execution_count": 30,
   "metadata": {},
   "outputs": [
    {
     "name": "stdout",
     "output_type": "stream",
     "text": [
      "Accuracy: ['0.88', '0.88', '0.84', '0.86', '0.87', '0.88', '0.88', '0.87', '0.88', '0.90']\n",
      "Min y_pred: ['-21.17', '-35.34', '-35.85', '-29.83', '-23.16', '-30.05', '-19.88', '-20.58', '-30.13', '-22.48']\n",
      "Max y_pred: ['23.62', '41.48', '16.84', '47.61', '19.82', '30.46', '40.67', '17.82', '21.06', '22.07']\n",
      "Min M: ['1.00', '1.00', '1.00', '1.00', '1.00', '1.00', '1.00', '1.00', '1.00', '1.00']\n",
      "Max M: ['1.00', '1.00', '1.00', '1.00', '1.00', '1.00', '1.00', '1.00', '1.00', '1.00']\n",
      "Min NTK_labeled: ['-2.54', '-2.58', '-2.22', '-2.26', '-1.88', '-3.52', '-1.37', '-2.13', '-1.89', '-1.94']\n",
      "Max NTK_labeled: ['72.55', '63.80', '64.94', '61.22', '80.16', '71.08', '45.96', '56.18', '62.07', '69.64']\n",
      "Min NTK_unlabeled: ['-1.99', '-1.24', '-1.25', '-1.03', '-0.93', '-1.45', '-1.57', '-1.44', '-2.17', '-1.18']\n",
      "Max NTK_unlabeled: ['19.41', '23.67', '20.12', '12.79', '22.19', '24.25', '16.31', '17.83', '21.95', '21.79']\n",
      "Condition: ['1192', '1165', '1245', '1202', '1191', '1190', '1115', '1204', '1235', '1227']\n"
     ]
    }
   ],
   "source": [
    "data_params[\"learning_setting\"] = \"inductive\"\n",
    "data_params[\"n_trn_labeled\"] = 400\n",
    "model_params[\"regularizer\"] = 1\n",
    "model_params[\"solver\"] = \"LU\"\n",
    "n_seeds = 10\n",
    "run_exp(n_seeds, data_params, model_params, attack_params, verbosity_params, other_params)"
   ]
  },
  {
   "cell_type": "code",
   "execution_count": 46,
   "metadata": {},
   "outputs": [
    {
     "name": "stdout",
     "output_type": "stream",
     "text": [
      "Accuracy: ['0.88', '0.88', '0.84', '0.86', '0.87', '0.88', '0.88', '0.87', '0.88', '0.90']\n",
      "Min y_pred: ['-21.17', '-35.34', '-35.85', '-29.83', '-23.16', '-30.05', '-19.88', '-20.58', '-30.13', '-22.48']\n",
      "Max y_pred: ['23.62', '41.48', '16.84', '47.61', '19.82', '30.46', '40.67', '17.82', '21.06', '22.07']\n",
      "Min M: ['1.00', '1.00', '1.00', '1.00', '1.00', '1.00', '1.00', '1.00', '1.00', '1.00']\n",
      "Max M: ['1.00', '1.00', '1.00', '1.00', '1.00', '1.00', '1.00', '1.00', '1.00', '1.00']\n",
      "Min NTK_labeled: ['-2.54', '-2.58', '-2.22', '-2.26', '-1.88', '-3.52', '-1.37', '-2.13', '-1.89', '-1.94']\n",
      "Max NTK_labeled: ['72.55', '63.80', '64.94', '61.22', '80.16', '71.08', '45.96', '56.18', '62.07', '69.64']\n",
      "Min NTK_unlabeled: ['-1.99', '-1.24', '-1.25', '-1.03', '-0.93', '-1.45', '-1.57', '-1.44', '-2.17', '-1.18']\n",
      "Max NTK_unlabeled: ['19.41', '23.67', '20.12', '12.79', '22.19', '24.25', '16.31', '17.83', '21.95', '21.79']\n",
      "Condition: ['1192', '1165', '1245', '1202', '1191', '1190', '1115', '1204', '1235', '1227']\n"
     ]
    }
   ],
   "source": [
    "data_params[\"learning_setting\"] = \"inductive\"\n",
    "data_params[\"n_trn_labeled\"] = 400\n",
    "model_params[\"regularizer\"] = 1\n",
    "model_params[\"solver\"] = \"QR\"\n",
    "n_seeds = 10\n",
    "run_exp(n_seeds, data_params, model_params, attack_params, verbosity_params, other_params)"
   ]
  },
  {
   "cell_type": "markdown",
   "metadata": {},
   "source": [
    "## Experiments with new conditioner"
   ]
  },
  {
   "cell_type": "code",
   "execution_count": 11,
   "metadata": {},
   "outputs": [
    {
     "name": "stdout",
     "output_type": "stream",
     "text": [
      "Accuracy: ['0.73', '0.63', '0.56', '0.55', '0.69', '0.73', '0.65', '0.45', '0.83', '0.50']\n",
      "Min y_pred: ['-179772.62', '-117061431.84', '-39621.95', '-3022641.79', '-141857643.23', '-169679753.39', '-155164.80', '-229768.68', '-628137.79', '-84787661.27']\n",
      "Max y_pred: ['365882.36', '198375982.66', '48158.70', '8872126.22', '88878167.35', '179037296.18', '176223.31', '93979.31', '405067.18', '75813945.78']\n",
      "Min M: ['-75493264.84', '-99363244.33', '-65570516.48', '-101788670.46', '-93699973.54', '-89446142.97', '-42316856.97', '-146611217.96', '-110637499.56', '-84362999.30']\n",
      "Max M: ['75493267.83', '99363246.29', '65570520.40', '101788672.98', '93699961.48', '89446146.47', '42316857.73', '146611218.20', '110637500.66', '84362989.00']\n",
      "Min NTK_labeled: ['-2.54', '-2.58', '-2.22', '-2.26', '-1.88', '-3.52', '-1.37', '-2.13', '-1.89', '-1.94']\n",
      "Max NTK_labeled: ['71.55', '62.80', '63.94', '60.22', '79.16', '70.08', '44.96', '55.18', '61.07', '68.64']\n",
      "Min NTK_unlabeled: ['-1.99', '-1.24', '-1.25', '-1.03', '-0.93', '-1.45', '-1.57', '-1.44', '-2.17', '-1.18']\n",
      "Max NTK_unlabeled: ['19.41', '23.67', '20.12', '12.79', '22.19', '24.25', '16.31', '17.83', '21.95', '21.79']\n",
      "Condition: ['119054269808', '116396230747', '124379215057', '120148148980', '119024996028', '118946578011', '111384584704', '120301749793', '123445569170', '122590583335']\n"
     ]
    }
   ],
   "source": [
    "data_params[\"learning_setting\"] = \"inductive\"\n",
    "data_params[\"n_trn_labeled\"] = 400\n",
    "model_params[\"regularizer\"] = 1e-8\n",
    "n_seeds = 10\n",
    "run_exp(n_seeds, data_params, model_params, attack_params, verbosity_params, other_params)"
   ]
  },
  {
   "cell_type": "code",
   "execution_count": 25,
   "metadata": {},
   "outputs": [
    {
     "name": "stdout",
     "output_type": "stream",
     "text": [
      "Accuracy: ['0.88', '0.88', '0.84', '0.86', '0.87', '0.88', '0.88', '0.87', '0.88', '0.90']\n",
      "Min y_pred: ['-21.17', '-35.34', '-35.85', '-29.83', '-23.16', '-30.05', '-19.88', '-20.58', '-30.13', '-22.48']\n",
      "Max y_pred: ['23.62', '41.48', '16.84', '47.61', '19.82', '30.46', '40.67', '17.82', '21.06', '22.07']\n",
      "Min M: ['-2.06', '-1.94', '-1.56', '-1.91', '-1.90', '-2.28', '-1.89', '-1.56', '-2.47', '-1.52']\n",
      "Max M: ['3.24', '2.42', '2.70', '2.74', '2.87', '2.40', '2.40', '3.40', '2.57', '3.04']\n",
      "Min NTK_labeled: ['-2.54', '-2.58', '-2.22', '-2.26', '-1.88', '-3.52', '-1.37', '-2.13', '-1.89', '-1.94']\n",
      "Max NTK_labeled: ['72.55', '63.80', '64.94', '61.22', '80.16', '71.08', '45.96', '56.18', '62.07', '69.64']\n",
      "Min NTK_unlabeled: ['-1.99', '-1.24', '-1.25', '-1.03', '-0.93', '-1.45', '-1.57', '-1.44', '-2.17', '-1.18']\n",
      "Max NTK_unlabeled: ['19.41', '23.67', '20.12', '12.79', '22.19', '24.25', '16.31', '17.83', '21.95', '21.79']\n",
      "Condition: ['1192', '1165', '1245', '1202', '1191', '1190', '1115', '1204', '1235', '1227']\n"
     ]
    }
   ],
   "source": [
    "data_params[\"learning_setting\"] = \"inductive\"\n",
    "data_params[\"n_trn_labeled\"] = 400\n",
    "model_params[\"regularizer\"] = 1\n",
    "n_seeds = 10\n",
    "run_exp(n_seeds, data_params, model_params, attack_params, verbosity_params, other_params)"
   ]
  },
  {
   "cell_type": "code",
   "execution_count": 26,
   "metadata": {},
   "outputs": [
    {
     "name": "stdout",
     "output_type": "stream",
     "text": [
      "Accuracy: ['0.85', '0.89', '0.88', '0.86', '0.88', '0.90', '0.89', '0.87', '0.88', '0.89']\n",
      "Min y_pred: ['-5.20', '-6.79', '-8.36', '-6.69', '-6.09', '-6.44', '-4.15', '-4.36', '-6.43', '-5.30']\n",
      "Max y_pred: ['5.01', '7.85', '3.35', '10.11', '5.96', '6.73', '8.08', '3.82', '4.98', '4.55']\n",
      "Min M: ['-0.34', '-0.33', '-0.41', '-0.33', '-0.44', '-0.44', '-0.31', '-0.30', '-0.40', '-0.33']\n",
      "Max M: ['0.53', '0.37', '0.39', '0.43', '0.45', '0.40', '0.35', '0.53', '0.40', '0.41']\n",
      "Min NTK_labeled: ['-2.54', '-2.58', '-2.22', '-2.26', '-1.88', '-3.52', '-1.37', '-2.13', '-1.89', '-1.94']\n",
      "Max NTK_labeled: ['81.55', '72.80', '73.94', '70.22', '89.16', '80.08', '54.96', '65.18', '71.07', '78.64']\n",
      "Min NTK_unlabeled: ['-1.99', '-1.24', '-1.25', '-1.03', '-0.93', '-1.45', '-1.57', '-1.44', '-2.17', '-1.18']\n",
      "Max NTK_unlabeled: ['19.41', '23.67', '20.12', '12.79', '22.19', '24.25', '16.31', '17.83', '21.95', '21.79']\n",
      "Condition: ['120', '117', '125', '121', '120', '120', '112', '121', '124', '124']\n"
     ]
    }
   ],
   "source": [
    "data_params[\"learning_setting\"] = \"inductive\"\n",
    "data_params[\"n_trn_labeled\"] = 400\n",
    "model_params[\"regularizer\"] = 10\n",
    "n_seeds = 10\n",
    "run_exp(n_seeds, data_params, model_params, attack_params, verbosity_params, other_params)"
   ]
  },
  {
   "cell_type": "code",
   "execution_count": 27,
   "metadata": {},
   "outputs": [
    {
     "name": "stdout",
     "output_type": "stream",
     "text": [
      "Accuracy: ['0.84', '0.87', '0.88', '0.90', '0.89', '0.87', '0.89', '0.81', '0.90', '0.87']\n",
      "Min y_pred: ['-3.69', '-5.40', '-10.79', '-4.52', '-7.69', '-5.40', '-5.24', '-5.84', '-4.94', '-5.86']\n",
      "Max y_pred: ['3.48', '7.46', '5.69', '8.77', '6.91', '5.67', '8.66', '4.31', '4.37', '7.79']\n",
      "Min M: ['-0.38', '-0.34', '-0.43', '-0.40', '-0.37', '-0.46', '-0.35', '-0.43', '-0.32', '-0.52']\n",
      "Max M: ['0.40', '0.86', '0.43', '0.75', '0.36', '0.47', '0.46', '0.59', '0.45', '0.37']\n",
      "Min NTK_labeled: ['-2.33', '-2.18', '-2.36', '-1.55', '-2.12', '-2.03', '-2.79', '-1.78', '-2.06', '-2.21']\n",
      "Max NTK_labeled: ['75.91', '98.01', '93.26', '84.37', '95.18', '84.19', '88.51', '88.99', '80.35', '80.51']\n",
      "Min NTK_unlabeled: ['-2.20', '-1.44', '-1.22', '-1.67', '-1.97', '-0.74', '-1.43', '-1.56', '-0.87', '-0.94']\n",
      "Max NTK_unlabeled: ['26.98', '24.61', '31.31', '24.82', '22.27', '19.04', '20.63', '19.59', '19.51', '15.99']\n",
      "Condition: ['175', '171', '174', '167', '172', '178', '167', '173', '164', '164']\n"
     ]
    }
   ],
   "source": [
    "data_params[\"learning_setting\"] = \"inductive\"\n",
    "data_params[\"n_trn_labeled\"] = 600\n",
    "model_params[\"regularizer\"] = 10\n",
    "n_seeds = 10\n",
    "run_exp(n_seeds, data_params, model_params, attack_params, verbosity_params, other_params)"
   ]
  },
  {
   "cell_type": "code",
   "execution_count": 28,
   "metadata": {},
   "outputs": [
    {
     "name": "stdout",
     "output_type": "stream",
     "text": [
      "Accuracy: ['0.85', '0.85', '0.88', '0.90', '0.90', '0.84', '0.90', '0.84', '0.88', '0.85']\n",
      "Min y_pred: ['-16.39', '-19.15', '-46.83', '-20.38', '-30.73', '-24.61', '-24.70', '-27.68', '-23.36', '-26.91']\n",
      "Max y_pred: ['16.31', '33.49', '24.81', '35.88', '30.23', '23.11', '33.83', '23.28', '21.78', '32.14']\n",
      "Min M: ['-2.37', '-1.59', '-2.98', '-1.97', '-1.58', '-1.58', '-2.25', '-2.56', '-1.61', '-2.41']\n",
      "Max M: ['2.74', '5.79', '3.02', '3.74', '2.23', '2.75', '3.11', '3.28', '2.87', '2.62']\n",
      "Min NTK_labeled: ['-2.33', '-2.18', '-2.36', '-1.55', '-2.12', '-2.03', '-2.79', '-1.78', '-2.06', '-2.21']\n",
      "Max NTK_labeled: ['66.91', '89.01', '84.26', '75.37', '86.18', '75.19', '79.51', '79.99', '71.35', '71.51']\n",
      "Min NTK_unlabeled: ['-2.20', '-1.44', '-1.22', '-1.67', '-1.97', '-0.74', '-1.43', '-1.56', '-0.87', '-0.94']\n",
      "Max NTK_unlabeled: ['26.98', '24.61', '31.31', '24.82', '22.27', '19.04', '20.63', '19.59', '19.51', '15.99']\n",
      "Condition: ['1739', '1704', '1735', '1659', '1711', '1776', '1664', '1722', '1633', '1631']\n"
     ]
    }
   ],
   "source": [
    "data_params[\"learning_setting\"] = \"inductive\"\n",
    "data_params[\"n_trn_labeled\"] = 600\n",
    "model_params[\"regularizer\"] = 1\n",
    "n_seeds = 10\n",
    "run_exp(n_seeds, data_params, model_params, attack_params, verbosity_params, other_params)"
   ]
  },
  {
   "cell_type": "markdown",
   "metadata": {},
   "source": [
    "## Experiments for NTK matrices sizes"
   ]
  },
  {
   "cell_type": "code",
   "execution_count": 10,
   "metadata": {},
   "outputs": [
    {
     "name": "stdout",
     "output_type": "stream",
     "text": [
      "Accuracy: ['0.80', '0.79', '0.83', '0.80', '0.72', '0.81', '0.78', '0.73', '0.83', '0.77']\n",
      "Min y_pred: ['-3.10', '-6.50', '-5.07', '-4.63', '-5.75', '-9.19', '-4.92', '-8.77', '-4.17', '-6.36']\n",
      "Max y_pred: ['4.75', '7.57', '4.65', '4.18', '5.16', '4.53', '2.66', '3.69', '5.27', '4.42']\n",
      "Min M: ['-1.28', '-1.50', '-1.52', '-1.73', '-1.49', '-1.48', '-1.72', '-1.64', '-1.82', '-1.48']\n",
      "Max M: ['3.19', '3.06', '3.14', '2.53', '3.71', '3.05', '2.41', '2.74', '3.00', '3.24']\n",
      "Min NTK_labeled: ['-0.74', '-1.50', '-0.93', '-1.32', '-1.48', '-1.29', '-0.93', '-1.34', '-1.81', '-1.84']\n",
      "Max NTK_labeled: ['71.55', '62.80', '62.61', '60.22', '68.57', '70.08', '44.96', '55.18', '61.07', '68.64']\n",
      "Min NTK_unlabeled: ['-1.99', '-1.24', '-1.25', '-1.03', '-0.93', '-1.45', '-1.57', '-1.44', '-2.17', '-1.18']\n",
      "Max NTK_unlabeled: ['19.41', '23.67', '20.12', '12.79', '22.19', '24.25', '16.31', '17.83', '21.95', '21.79']\n",
      "Condition: ['387206', '89317051565', '393982', '91860584860', '386794', '394657', '361407', '415291', '95989625757', '413364']\n"
     ]
    }
   ],
   "source": [
    "data_params[\"learning_setting\"] = \"transductive\"\n",
    "data_params[\"n_trn_labeled\"] = 400\n",
    "model_params[\"regularizer\"] = 1e-8\n",
    "n_seeds = 10\n",
    "run_exp(n_seeds, data_params, model_params, attack_params, verbosity_params, other_params)"
   ]
  },
  {
   "cell_type": "code",
   "execution_count": 19,
   "metadata": {},
   "outputs": [
    {
     "name": "stdout",
     "output_type": "stream",
     "text": [
      "Accuracy: ['0.82', '0.81', '0.82', '0.81', '0.76', '0.83', '0.80', '0.77', '0.84', '0.79']\n",
      "Min y_pred: ['-2.79', '-5.96', '-4.43', '-4.28', '-6.00', '-9.09', '-4.50', '-7.84', '-3.73', '-5.93']\n",
      "Max y_pred: ['4.46', '6.86', '4.43', '4.31', '4.75', '4.26', '2.95', '3.65', '4.81', '4.02']\n",
      "Min M: ['-1.20', '-1.40', '-1.37', '-1.54', '-1.36', '-1.36', '-1.59', '-1.57', '-1.65', '-1.39']\n",
      "Max M: ['3.10', '2.91', '3.05', '2.44', '3.49', '2.88', '2.36', '2.63', '2.95', '3.12']\n",
      "Min NTK_labeled: ['-0.74', '-1.50', '-0.93', '-1.32', '-1.48', '-1.29', '-0.93', '-1.34', '-1.81', '-1.84']\n",
      "Max NTK_labeled: ['71.55', '62.80', '62.61', '60.22', '68.58', '70.08', '44.96', '55.19', '61.07', '68.65']\n",
      "Min NTK_unlabeled: ['-1.99', '-1.24', '-1.25', '-1.03', '-0.93', '-1.45', '-1.57', '-1.44', '-2.17', '-1.18']\n",
      "Max NTK_unlabeled: ['19.41', '23.67', '20.12', '12.79', '22.19', '24.25', '16.31', '17.83', '21.95', '21.79']\n",
      "Condition: ['272972', '893171', '274119', '918607', '272943', '275383', '255265', '287298', '959899', '286366']\n"
     ]
    }
   ],
   "source": [
    "data_params[\"learning_setting\"] = \"transductive\"\n",
    "data_params[\"n_trn_labeled\"] = 400\n",
    "model_params[\"regularizer\"] = 1e-3\n",
    "n_seeds = 10\n",
    "run_exp(n_seeds, data_params, model_params, attack_params, verbosity_params, other_params)"
   ]
  },
  {
   "cell_type": "code",
   "execution_count": 20,
   "metadata": {},
   "outputs": [
    {
     "name": "stdout",
     "output_type": "stream",
     "text": [
      "Accuracy: ['0.87', '0.87', '0.84', '0.84', '0.83', '0.86', '0.87', '0.82', '0.88', '0.82']\n",
      "Min y_pred: ['-1.98', '-4.33', '-2.63', '-2.94', '-6.02', '-8.36', '-3.73', '-4.67', '-3.57', '-4.67']\n",
      "Max y_pred: ['3.51', '4.80', '3.68', '4.68', '3.42', '3.28', '4.20', '3.77', '3.45', '2.82']\n",
      "Min M: ['-0.85', '-0.99', '-0.87', '-0.98', '-0.87', '-0.87', '-1.07', '-1.21', '-1.01', '-1.00']\n",
      "Max M: ['2.57', '2.40', '2.51', '2.03', '2.55', '2.09', '2.09', '2.27', '2.67', '2.55']\n",
      "Min NTK_labeled: ['-0.74', '-1.50', '-0.93', '-1.32', '-1.48', '-1.29', '-0.93', '-1.34', '-1.81', '-1.84']\n",
      "Max NTK_labeled: ['71.56', '62.81', '62.62', '60.23', '68.58', '70.09', '44.97', '55.19', '61.08', '68.65']\n",
      "Min NTK_unlabeled: ['-1.99', '-1.24', '-1.25', '-1.03', '-0.93', '-1.45', '-1.57', '-1.44', '-2.17', '-1.18']\n",
      "Max NTK_unlabeled: ['19.41', '23.67', '20.12', '12.79', '22.19', '24.25', '16.31', '17.83', '21.95', '21.79']\n",
      "Condition: ['74681', '89318', '73331', '91862', '74797', '74028', '70066', '76129', '95991', '76059']\n"
     ]
    }
   ],
   "source": [
    "data_params[\"learning_setting\"] = \"transductive\"\n",
    "data_params[\"n_trn_labeled\"] = 400\n",
    "model_params[\"regularizer\"] = 1e-2\n",
    "n_seeds = 10\n",
    "run_exp(n_seeds, data_params, model_params, attack_params, verbosity_params, other_params)"
   ]
  },
  {
   "cell_type": "code",
   "execution_count": 21,
   "metadata": {},
   "outputs": [
    {
     "name": "stdout",
     "output_type": "stream",
     "text": [
      "Accuracy: ['0.92', '0.90', '0.86', '0.88', '0.85', '0.92', '0.91', '0.84', '0.91', '0.88']\n",
      "Min y_pred: ['-1.84', '-2.82', '-2.88', '-1.78', '-5.19', '-7.24', '-2.81', '-2.18', '-3.28', '-2.46']\n",
      "Max y_pred: ['2.58', '3.24', '2.41', '4.13', '2.95', '2.28', '4.58', '4.04', '2.37', '1.69']\n",
      "Min M: ['-0.37', '-0.36', '-0.33', '-0.36', '-0.35', '-0.42', '-0.47', '-0.47', '-0.45', '-0.42']\n",
      "Max M: ['1.49', '1.39', '1.28', '1.32', '1.41', '1.35', '1.32', '1.51', '1.79', '1.47']\n",
      "Min NTK_labeled: ['-0.74', '-1.50', '-0.93', '-1.32', '-1.48', '-1.29', '-0.93', '-1.34', '-1.81', '-1.84']\n",
      "Max NTK_labeled: ['71.65', '62.90', '62.71', '60.32', '68.67', '70.18', '45.06', '55.28', '61.17', '68.74']\n",
      "Min NTK_unlabeled: ['-1.99', '-1.24', '-1.25', '-1.03', '-0.93', '-1.45', '-1.57', '-1.44', '-2.17', '-1.18']\n",
      "Max NTK_unlabeled: ['19.41', '23.67', '20.12', '12.79', '22.19', '24.25', '16.31', '17.83', '21.95', '21.79']\n",
      "Condition: ['9038', '8933', '8810', '9187', '9057', '8907', '8488', '9118', '9600', '9116']\n"
     ]
    }
   ],
   "source": [
    "data_params[\"learning_setting\"] = \"transductive\"\n",
    "data_params[\"n_trn_labeled\"] = 400\n",
    "model_params[\"regularizer\"] = 1e-1\n",
    "n_seeds = 10\n",
    "run_exp(n_seeds, data_params, model_params, attack_params, verbosity_params, other_params)"
   ]
  },
  {
   "cell_type": "code",
   "execution_count": 22,
   "metadata": {},
   "outputs": [
    {
     "name": "stdout",
     "output_type": "stream",
     "text": [
      "Accuracy: ['0.88', '0.89', '0.88', '0.89', '0.85', '0.93', '0.90', '0.88', '0.91', '0.90']\n",
      "Min y_pred: ['-1.69', '-2.19', '-3.34', '-1.69', '-4.31', '-5.69', '-1.69', '-1.79', '-2.69', '-2.20']\n",
      "Max y_pred: ['2.09', '2.93', '1.68', '3.38', '2.99', '1.87', '4.01', '2.85', '2.08', '1.64']\n",
      "Min M: ['-0.14', '-0.17', '-0.11', '-0.16', '-0.18', '-0.15', '-0.13', '-0.12', '-0.18', '-0.11']\n",
      "Max M: ['0.87', '0.88', '0.65', '0.68', '0.77', '0.65', '0.58', '0.81', '0.70', '0.79']\n",
      "Min NTK_labeled: ['-0.74', '-1.50', '-0.93', '-1.32', '-1.48', '-1.29', '-0.93', '-1.34', '-1.81', '-1.84']\n",
      "Max NTK_labeled: ['72.55', '63.80', '63.61', '61.22', '69.57', '71.08', '45.96', '56.18', '62.07', '69.64']\n",
      "Min NTK_unlabeled: ['-1.99', '-1.24', '-1.25', '-1.03', '-0.93', '-1.45', '-1.57', '-1.44', '-2.17', '-1.18']\n",
      "Max NTK_unlabeled: ['19.41', '23.67', '20.12', '12.79', '22.19', '24.25', '16.31', '17.83', '21.95', '21.79']\n",
      "Condition: ['924', '894', '900', '920', '926', '910', '868', '931', '961', '931']\n"
     ]
    }
   ],
   "source": [
    "data_params[\"learning_setting\"] = \"transductive\"\n",
    "data_params[\"n_trn_labeled\"] = 400\n",
    "model_params[\"regularizer\"] = 1\n",
    "n_seeds = 10\n",
    "run_exp(n_seeds, data_params, model_params, attack_params, verbosity_params, other_params)"
   ]
  },
  {
   "cell_type": "code",
   "execution_count": 112,
   "metadata": {},
   "outputs": [
    {
     "name": "stdout",
     "output_type": "stream",
     "text": [
      "0.007909887359199\n",
      "0.0018523153942428035\n",
      "0.007909887359199\n",
      "0.0018523153942428035\n",
      "0.007909887359199\n",
      "0.0018523153942428035\n",
      "0.007909887359199\n",
      "0.0018523153942428035\n",
      "0.007909887359199\n",
      "0.0018523153942428035\n",
      "0.007909887359199\n",
      "0.0018523153942428035\n",
      "0.007909887359199\n",
      "0.0018523153942428035\n",
      "0.007909887359199\n",
      "0.0018523153942428035\n",
      "0.007909887359199\n",
      "0.0018523153942428035\n",
      "0.007909887359199\n",
      "0.0018523153942428035\n",
      "Accuracy: ['0.80', '0.79', '0.83', '0.79', '0.74', '0.82', '0.78', '0.75', '0.77', '0.78']\n",
      "Min y_pred: ['-3.09', '-6.62', '-5.19', '-4.70', '-5.72', '-9.12', '-4.91', '-8.62', '-5.72', '-6.30']\n",
      "Max y_pred: ['4.57', '7.56', '4.66', '4.09', '5.15', '4.81', '2.68', '3.77', '4.67', '4.54']\n",
      "Min M: ['-1.28', '-2.77', '-1.51', '-35.60', '-1.49', '-1.49', '-1.71', '-1.64', '-130.30', '-1.48']\n",
      "Max M: ['3.20', '3.05', '3.14', '35.61', '3.71', '3.05', '2.41', '2.74', '130.27', '3.24']\n",
      "Min NTK_labeled: ['-0.74', '-1.50', '-0.93', '-1.32', '-1.48', '-1.29', '-0.93', '-1.34', '-1.81', '-1.84']\n",
      "Max NTK_labeled: ['71.55', '62.80', '62.61', '60.22', '68.57', '70.08', '44.96', '55.18', '61.07', '68.64']\n",
      "Min NTK_unlabeled: ['-1.99', '-1.24', '-1.25', '-1.03', '-0.93', '-1.45', '-1.57', '-1.44', '-2.17', '-1.18']\n",
      "Max NTK_unlabeled: ['19.41', '23.67', '20.12', '12.79', '22.19', '24.25', '16.31', '17.83', '21.95', '21.79']\n",
      "Condition: ['389054', '17227532', '386960', '175422544', '382814', '397664', '367240', '412507', '678918974', '413583']\n"
     ]
    }
   ],
   "source": [
    "data_params[\"learning_setting\"] = \"transductive\"\n",
    "data_params[\"n_trn_labeled\"] = 400\n",
    "acc_l = []\n",
    "min_ypred = []\n",
    "max_ypred = []\n",
    "cond = []\n",
    "min_M = []\n",
    "max_M = []\n",
    "min_ntklabeled = []\n",
    "max_ntklabeled = []\n",
    "min_ntkunlabeled = []\n",
    "max_ntkunlabeled = []\n",
    "for seed in range(10):\n",
    "    data_params[\"seed\"] = seed\n",
    "    res = run(data_params, model_params, attack_params, verbosity_params, other_params, seed)\n",
    "    acc_l.append(res[\"accuracy_l\"][0])\n",
    "    min_ypred.append(res[\"min_ypred\"][0])\n",
    "    max_ypred.append(res[\"max_ypred\"][0])\n",
    "    min_M.append(res[\"min_M\"][0])\n",
    "    max_M.append(res[\"max_M\"][0])\n",
    "    min_ntklabeled.append(res[\"min_ntklabeled\"][0])\n",
    "    max_ntklabeled.append(res[\"max_ntklabeled\"][0])\n",
    "    min_ntkunlabeled.append(res[\"min_ntkunlabeled\"][0])\n",
    "    max_ntkunlabeled.append(res[\"max_ntkunlabeled\"][0])\n",
    "    cond.append(res[\"cond\"])\n",
    "print(f\"Accuracy: {get_str_l(acc_l)}\")\n",
    "print(f\"Min y_pred: {get_str_l(min_ypred)}\")\n",
    "print(f\"Max y_pred: {get_str_l(max_ypred)}\")\n",
    "print(f\"Min M: {get_str_l(min_M)}\")\n",
    "print(f\"Max M: {get_str_l(max_M)}\")\n",
    "print(f\"Min NTK_labeled: {get_str_l(min_ntklabeled)}\")\n",
    "print(f\"Max NTK_labeled: {get_str_l(max_ntklabeled)}\")\n",
    "print(f\"Min NTK_unlabeled: {get_str_l(min_ntkunlabeled)}\")\n",
    "print(f\"Max NTK_unlabeled: {get_str_l(max_ntkunlabeled)}\")\n",
    "print(f\"Condition: {get_str_l(cond, precision=0)}\")"
   ]
  },
  {
   "cell_type": "code",
   "execution_count": 113,
   "metadata": {},
   "outputs": [
    {
     "name": "stdout",
     "output_type": "stream",
     "text": [
      "0.007909887359199\n",
      "0.0018523153942428035\n",
      "0.007909887359199\n",
      "0.0018523153942428035\n",
      "0.007909887359199\n",
      "0.0018523153942428035\n",
      "0.007909887359199\n",
      "0.0018523153942428035\n",
      "0.007909887359199\n",
      "0.0018523153942428035\n",
      "0.007909887359199\n",
      "0.0018523153942428035\n",
      "0.007909887359199\n",
      "0.0018523153942428035\n",
      "0.007909887359199\n",
      "0.0018523153942428035\n",
      "0.007909887359199\n",
      "0.0018523153942428035\n",
      "0.007909887359199\n",
      "0.0018523153942428035\n",
      "Accuracy: ['0.54', '0.33', '0.76', '0.38', '0.49', '0.56', '0.57', '0.32', '0.68', '0.56']\n",
      "Min y_pred: ['-97490.87', '-48360.84', '-50460.89', '-28497.31', '-142206.29', '-19802.02', '-28167.63', '-40436.56', '-75658.87', '-40327.67']\n",
      "Max y_pred: ['182670.60', '54618.05', '55201.70', '10045.66', '115411.53', '7496.70', '32783.82', '47047.44', '23566.33', '10303.28']\n",
      "Min M: ['-35904.57', '-20096.42', '-19311.67', '-23325.17', '-64763.02', '-13258.93', '-42183.66', '-20909.61', '-108140.02', '-161703.38']\n",
      "Max M: ['61231.26', '20089.39', '24244.20', '23340.64', '64742.14', '20135.12', '42191.24', '20912.15', '108152.26', '207314.75']\n",
      "Min NTK_labeled: ['-2.54', '-2.58', '-2.22', '-2.26', '-1.88', '-3.52', '-1.37', '-2.13', '-1.89', '-1.94']\n",
      "Max NTK_labeled: ['71.55', '62.80', '63.94', '60.22', '79.16', '70.08', '44.96', '55.18', '61.07', '68.64']\n",
      "Min NTK_unlabeled: ['-1.99', '-1.24', '-1.25', '-1.03', '-0.93', '-1.45', '-1.57', '-1.44', '-2.17', '-1.18']\n",
      "Max NTK_unlabeled: ['19.41', '23.67', '20.12', '12.79', '22.19', '24.25', '16.31', '17.83', '21.95', '21.79']\n",
      "Condition: ['369641517', '177756101', '293583508', '131755067', '301654614', '120294333', '163037160', '68660205', '431096634', '805589175']\n"
     ]
    }
   ],
   "source": [
    "data_params[\"learning_setting\"] = \"inductive\"\n",
    "data_params[\"n_trn_labeled\"] = 400\n",
    "acc_l = []\n",
    "min_ypred = []\n",
    "max_ypred = []\n",
    "cond = []\n",
    "min_M = []\n",
    "max_M = []\n",
    "min_ntklabeled = []\n",
    "max_ntklabeled = []\n",
    "min_ntkunlabeled = []\n",
    "max_ntkunlabeled = []\n",
    "for seed in range(10):\n",
    "    data_params[\"seed\"] = seed\n",
    "    res = run(data_params, model_params, attack_params, verbosity_params, other_params, seed)\n",
    "    acc_l.append(res[\"accuracy_l\"][0])\n",
    "    min_ypred.append(res[\"min_ypred\"][0])\n",
    "    max_ypred.append(res[\"max_ypred\"][0])\n",
    "    min_M.append(res[\"min_M\"][0])\n",
    "    max_M.append(res[\"max_M\"][0])\n",
    "    min_ntklabeled.append(res[\"min_ntklabeled\"][0])\n",
    "    max_ntklabeled.append(res[\"max_ntklabeled\"][0])\n",
    "    min_ntkunlabeled.append(res[\"min_ntkunlabeled\"][0])\n",
    "    max_ntkunlabeled.append(res[\"max_ntkunlabeled\"][0])\n",
    "    cond.append(res[\"cond\"])\n",
    "print(f\"Accuracy: {get_str_l(acc_l)}\")\n",
    "print(f\"Min y_pred: {get_str_l(min_ypred)}\")\n",
    "print(f\"Max y_pred: {get_str_l(max_ypred)}\")\n",
    "print(f\"Min M: {get_str_l(min_M)}\")\n",
    "print(f\"Max M: {get_str_l(max_M)}\")\n",
    "print(f\"Min NTK_labeled: {get_str_l(min_ntklabeled)}\")\n",
    "print(f\"Max NTK_labeled: {get_str_l(max_ntklabeled)}\")\n",
    "print(f\"Min NTK_unlabeled: {get_str_l(min_ntkunlabeled)}\")\n",
    "print(f\"Max NTK_unlabeled: {get_str_l(max_ntkunlabeled)}\")\n",
    "print(f\"Condition: {get_str_l(cond, precision=0)}\")"
   ]
  },
  {
   "cell_type": "markdown",
   "metadata": {},
   "source": [
    "## Experiments for y_pred size"
   ]
  },
  {
   "cell_type": "code",
   "execution_count": 71,
   "metadata": {},
   "outputs": [
    {
     "name": "stdout",
     "output_type": "stream",
     "text": [
      "[0.7999999523162842, 0.7949999570846558, 0.8299999833106995, 0.7949999570846558, 0.7400000095367432, 0.824999988079071, 0.7799999713897705, 0.75, 0.7749999761581421, 0.7799999713897705]\n",
      "[-3.0920467578784803, -6.6160343128658, -5.194746775288973, -4.699020576493933, -5.718078334268294, -9.115392589081491, -4.905361471048922, -8.61613686394207, -5.719317177977954, -6.302207013707667]\n",
      "[4.570836528482572, 7.558606664491745, 4.6590389998099635, 4.0878273364676465, 5.15241891023212, 4.80595657486644, 2.6751935812229077, 3.7679468135510303, 4.6712427287199105, 4.540205492559701]\n",
      "[389053.63117462175, 17227532.286783576, 386959.6250253748, 175422543.52912518, 382813.985553917, 397663.6694353313, 367239.72382285836, 412507.3546088346, 678918974.0532519, 413583.01504568243]\n"
     ]
    }
   ],
   "source": [
    "data_params[\"learning_setting\"] = \"transductive\"\n",
    "data_params[\"n_trn_labeled\"] = 400\n",
    "acc_l = []\n",
    "min_ypred = []\n",
    "max_ypred = []\n",
    "cond = []\n",
    "for seed in range(10):\n",
    "    data_params[\"seed\"] = seed\n",
    "    res = run(data_params, model_params, attack_params, verbosity_params, other_params, seed)\n",
    "    acc_l.append(res[\"accuracy_l\"][0])\n",
    "    min_ypred.append(res[\"min_ypred\"][0])\n",
    "    max_ypred.append(res[\"max_ypred\"][0])\n",
    "    cond.append(res[\"cond\"])\n",
    "print(acc_l)\n",
    "print(min_ypred)\n",
    "print(max_ypred)\n",
    "print(cond)"
   ]
  },
  {
   "cell_type": "code",
   "execution_count": 102,
   "metadata": {},
   "outputs": [
    {
     "name": "stdout",
     "output_type": "stream",
     "text": [
      "0.6326326326326326\n",
      "0.1037037037037037\n",
      "0.6326326326326326\n",
      "0.1037037037037037\n",
      "0.6326326326326326\n",
      "0.1037037037037037\n",
      "0.6326326326326326\n",
      "0.1037037037037037\n",
      "0.6326326326326326\n",
      "0.1037037037037037\n",
      "0.6326326326326326\n",
      "0.1037037037037037\n",
      "0.6326326326326326\n",
      "0.1037037037037037\n",
      "0.6326326326326326\n",
      "0.1037037037037037\n",
      "0.6326326326326326\n",
      "0.1037037037037037\n",
      "0.6326326326326326\n",
      "0.1037037037037037\n",
      "[1.0, 1.0, 0.0, 0.0, 1.0, 1.0, 0.0, 1.0, 0.0, 1.0]\n",
      "[-198887.16105522725, -570682.9825172557, -1447257.8573979978, -37860.66165276896, -55926.801587639144, -290040.57506164117, -350577.9186986564, -391894.0606868819, -590375.6752174892, -351662.7199801542]\n",
      "[320796.28391054017, 394927.00222813245, 1027750.7295307582, 28479.814787887735, 138296.76934363693, 467328.4684214182, 303189.61444266746, 288720.0622061163, 543805.0602562819, 1210417.7903377097]\n",
      "[218709333701.72552, 395523266595.4415, 4047205108377.5347, 367468484718.35284, 328162745884.328, 297005777329.7517, 252244108489.32474, 298833724882.89355, 1115250992609.6624, 5067641676011.886]\n"
     ]
    }
   ],
   "source": [
    "data_params[\"learning_setting\"] = \"inductive\"\n",
    "p_unnorm = data_params[\"avg_within_class_degree\"]\n",
    "data_params[\"avg_within_class_degree\"] = 1.58 * 2 * 100\n",
    "q_unnorm = data_params[\"avg_between_class_degree\"]\n",
    "data_params[\"avg_between_class_degree\"] = 0.37 * 2 * 70\n",
    "acc_l = []\n",
    "min_ypred = []\n",
    "max_ypred = []\n",
    "cond = []\n",
    "for seed in range(10):\n",
    "    data_params[\"seed\"] = seed\n",
    "    res = run(data_params, model_params, attack_params, verbosity_params, other_params, seed)\n",
    "    acc_l.append(res[\"accuracy_l\"][0])\n",
    "    min_ypred.append(res[\"min_ypred\"][0])\n",
    "    max_ypred.append(res[\"max_ypred\"][0])\n",
    "    cond.append(res[\"cond\"])\n",
    "print(acc_l)\n",
    "print(min_ypred)\n",
    "print(max_ypred)\n",
    "print(cond)"
   ]
  },
  {
   "cell_type": "code",
   "execution_count": null,
   "metadata": {},
   "outputs": [],
   "source": [
    "data_params[\"learning_setting\"] = \"transductive\"\n",
    "acc_l = []\n",
    "min_ypred = []\n",
    "max_ypred = []\n",
    "cond = []\n",
    "for seed in range(10):\n",
    "    data_params[\"seed\"] = seed\n",
    "    res = run(data_params, model_params, attack_params, verbosity_params, other_params, seed)\n",
    "    acc_l.append(res[\"accuracy_l\"][0])\n",
    "    min_ypred.append(res[\"min_ypred\"][0])\n",
    "    max_ypred.append(res[\"max_ypred\"][0])\n",
    "    cond.append(res[\"cond\"])\n",
    "print(acc_l)\n",
    "print(min_ypred)\n",
    "print(max_ypred)\n",
    "print(cond)"
   ]
  },
  {
   "cell_type": "markdown",
   "metadata": {},
   "source": [
    "-> clear correlation low y_pred values mean good predictions (|min/max| < 10)"
   ]
  },
  {
   "cell_type": "code",
   "execution_count": 68,
   "metadata": {},
   "outputs": [
    {
     "name": "stdout",
     "output_type": "stream",
     "text": [
      "[0.6899999976158142, 0.5550000071525574, 0.5799999833106995, 0.4449999928474426, 0.3349999785423279, 0.675000011920929, 0.44999998807907104, 0.44999998807907104, 0.6100000143051147, 0.5]\n",
      "[-30247.846224752207, -95078.36257414054, -26783.68457652904, -21873.26632158264, -48363.07600911075, -28243.6273096534, -16259.459278168943, -33341.27322340436, -24276.7436774647, -45002.83794352863]\n",
      "[120458.61990854447, 46644.489896458486, 96389.28003963197, 15950.742201795094, 16671.90547960927, 16726.042436049684, 56953.97201926261, 32503.00367441383, 19232.59269619555, 50973.9443629398]\n",
      "[481320232.12236416, 904617224.7448723, 390462481.61452425, 108613454.24243383, 443483057.5212938, 171410416.884777, 640581624.5041744, 218038721.29718912, 216075456.717386, 216347577.68922815]\n"
     ]
    }
   ],
   "source": [
    "data_params[\"learning_setting\"] = \"inductive\"\n",
    "acc_l = []\n",
    "min_ypred = []\n",
    "max_ypred = []\n",
    "cond = []\n",
    "for seed in range(10):\n",
    "    data_params[\"seed\"] = seed\n",
    "    res = run(data_params, model_params, attack_params, verbosity_params, other_params, seed)\n",
    "    acc_l.append(res[\"accuracy_l\"][0])\n",
    "    min_ypred.append(res[\"min_ypred\"][0])\n",
    "    max_ypred.append(res[\"max_ypred\"][0])\n",
    "    cond.append(res[\"cond\"])\n",
    "print(acc_l)\n",
    "print(min_ypred)\n",
    "print(max_ypred)\n",
    "print(cond)"
   ]
  },
  {
   "cell_type": "code",
   "execution_count": 75,
   "metadata": {},
   "outputs": [
    {
     "name": "stdout",
     "output_type": "stream",
     "text": [
      "Seed: 0\n",
      "Seed: 1\n",
      "Seed: 2\n",
      "Seed: 3\n",
      "Seed: 4\n",
      "Seed: 5\n",
      "Seed: 6\n",
      "Seed: 7\n",
      "Seed: 8\n",
      "Seed: 9\n",
      "[0.5210000276565552, 0.7950000166893005, 0.7790000438690186, 0.7770000100135803, 0.8180000185966492, 0.7910000085830688, 0.7950000166893005, 0.7890000343322754, 0.5380000472068787, 0.8110000491142273]\n",
      "[-296.59076156107926, -4.52564114908652, -5.673511484411298, -8.380375245901904, -5.813458484371335, -11.09270211128861, -5.931646827522416, -5.443586191531857, -69.78675415576794, -5.146435286173144]\n",
      "[240.74777676288156, 8.062967090310071, 10.359658009010246, 7.045663003687437, 5.7407786667211695, 5.688827342343328, 5.933379658153002, 5.643244483079846, 57.0348302470963, 5.971274784526761]\n",
      "[20291603317.12647, 618988173.5184208, 481220517.795961, 379796531.44778395, 407686915.44799507, 849027.1857061002, 853581.9783354799, 992819998.149226, 1871702270.9986954, 817203.3807346252]\n"
     ]
    }
   ],
   "source": [
    "data_params[\"learning_setting\"] = \"transductive\"\n",
    "data_params[\"n_trn_labeled\"] = 2000\n",
    "data_params[\"n_val\"] = 500\n",
    "data_params[\"n_test\"] = 1000\n",
    "acc_l = []\n",
    "min_ypred = []\n",
    "max_ypred = []\n",
    "cond = []\n",
    "for seed in range(10):\n",
    "    print(f\"Seed: {seed}\")\n",
    "    data_params[\"seed\"] = seed\n",
    "    res = run(data_params, model_params, attack_params, verbosity_params, other_params, seed)\n",
    "    acc_l.append(res[\"accuracy_l\"][0])\n",
    "    min_ypred.append(res[\"min_ypred\"][0])\n",
    "    max_ypred.append(res[\"max_ypred\"][0])\n",
    "    cond.append(res[\"cond\"])\n",
    "print(acc_l)\n",
    "print(min_ypred)\n",
    "print(max_ypred)\n",
    "print(cond)"
   ]
  },
  {
   "cell_type": "code",
   "execution_count": 40,
   "metadata": {},
   "outputs": [
    {
     "name": "stderr",
     "output_type": "stream",
     "text": [
      "2023-11-28 11:09:06 (INFO): Starting experiment exp_ntk with configuration:\n",
      "2023-11-28 11:09:06 (INFO): data_params: {'learning_setting': 'transductive', 'classes': 2, 'n_trn_labeled': 600, 'n_trn_unlabeled': 0, 'n_val': 200, 'n_test': 200, 'sigma': 1, 'avg_within_class_degree': 3.16, 'avg_between_class_degree': 0.74, 'K': 1.5, 'seed': 0}\n",
      "2023-11-28 11:09:06 (INFO): model_params: {'label': 'GCN', 'model': 'GCN', 'normalization': 'row_normalization', 'depth': 1}\n",
      "2023-11-28 11:09:06 (INFO): attack_params: {'attack': 'random', 'epsilon_list': [0], 'attack_setting': 'evasion'}\n",
      "2023-11-28 11:09:06 (INFO): verbosity_params: {'debug_lvl': 'warning'}\n",
      "2023-11-28 11:09:06 (INFO): other_params: {'device': '0', 'dtype': torch.float64, 'allow_tf32': False}\n"
     ]
    },
    {
     "name": "stderr",
     "output_type": "stream",
     "text": [
      "2023-11-28 11:09:06 (INFO): seed: 0\n",
      "2023-11-28 11:09:06 (INFO): Currently on gpu device cuda:0\n",
      "2023-11-28 11:09:06 (INFO): Accuracy 0.6949999928474426 for epsilon 0\n",
      "2023-11-28 11:09:06 (INFO): Starting experiment exp_ntk with configuration:\n",
      "2023-11-28 11:09:06 (INFO): data_params: {'learning_setting': 'transductive', 'classes': 2, 'n_trn_labeled': 600, 'n_trn_unlabeled': 0, 'n_val': 200, 'n_test': 200, 'sigma': 1, 'avg_within_class_degree': 3.16, 'avg_between_class_degree': 0.74, 'K': 1.5, 'seed': 1}\n",
      "2023-11-28 11:09:06 (INFO): model_params: {'label': 'GCN', 'model': 'GCN', 'normalization': 'row_normalization', 'depth': 1}\n",
      "2023-11-28 11:09:06 (INFO): attack_params: {'attack': 'random', 'epsilon_list': [0], 'attack_setting': 'evasion'}\n",
      "2023-11-28 11:09:06 (INFO): verbosity_params: {'debug_lvl': 'warning'}\n",
      "2023-11-28 11:09:06 (INFO): other_params: {'device': '0', 'dtype': torch.float64, 'allow_tf32': False}\n",
      "2023-11-28 11:09:06 (INFO): seed: 1\n",
      "2023-11-28 11:09:06 (INFO): Currently on gpu device cuda:0\n",
      "2023-11-28 11:09:07 (INFO): Accuracy 0.7899999618530273 for epsilon 0\n",
      "2023-11-28 11:09:07 (INFO): Starting experiment exp_ntk with configuration:\n",
      "2023-11-28 11:09:07 (INFO): data_params: {'learning_setting': 'transductive', 'classes': 2, 'n_trn_labeled': 600, 'n_trn_unlabeled': 0, 'n_val': 200, 'n_test': 200, 'sigma': 1, 'avg_within_class_degree': 3.16, 'avg_between_class_degree': 0.74, 'K': 1.5, 'seed': 2}\n",
      "2023-11-28 11:09:07 (INFO): model_params: {'label': 'GCN', 'model': 'GCN', 'normalization': 'row_normalization', 'depth': 1}\n",
      "2023-11-28 11:09:07 (INFO): attack_params: {'attack': 'random', 'epsilon_list': [0], 'attack_setting': 'evasion'}\n",
      "2023-11-28 11:09:07 (INFO): verbosity_params: {'debug_lvl': 'warning'}\n",
      "2023-11-28 11:09:07 (INFO): other_params: {'device': '0', 'dtype': torch.float64, 'allow_tf32': False}\n",
      "2023-11-28 11:09:07 (INFO): seed: 2\n",
      "2023-11-28 11:09:07 (INFO): Currently on gpu device cuda:0\n",
      "2023-11-28 11:09:07 (INFO): Accuracy 0.7599999904632568 for epsilon 0\n",
      "2023-11-28 11:09:07 (INFO): Starting experiment exp_ntk with configuration:\n",
      "2023-11-28 11:09:07 (INFO): data_params: {'learning_setting': 'transductive', 'classes': 2, 'n_trn_labeled': 600, 'n_trn_unlabeled': 0, 'n_val': 200, 'n_test': 200, 'sigma': 1, 'avg_within_class_degree': 3.16, 'avg_between_class_degree': 0.74, 'K': 1.5, 'seed': 3}\n",
      "2023-11-28 11:09:07 (INFO): model_params: {'label': 'GCN', 'model': 'GCN', 'normalization': 'row_normalization', 'depth': 1}\n",
      "2023-11-28 11:09:07 (INFO): attack_params: {'attack': 'random', 'epsilon_list': [0], 'attack_setting': 'evasion'}\n",
      "2023-11-28 11:09:07 (INFO): verbosity_params: {'debug_lvl': 'warning'}\n",
      "2023-11-28 11:09:07 (INFO): other_params: {'device': '0', 'dtype': torch.float64, 'allow_tf32': False}\n",
      "2023-11-28 11:09:07 (INFO): seed: 3\n",
      "2023-11-28 11:09:07 (INFO): Currently on gpu device cuda:0\n",
      "2023-11-28 11:09:08 (INFO): Accuracy 0.8149999976158142 for epsilon 0\n",
      "2023-11-28 11:09:08 (INFO): Starting experiment exp_ntk with configuration:\n",
      "2023-11-28 11:09:08 (INFO): data_params: {'learning_setting': 'transductive', 'classes': 2, 'n_trn_labeled': 600, 'n_trn_unlabeled': 0, 'n_val': 200, 'n_test': 200, 'sigma': 1, 'avg_within_class_degree': 3.16, 'avg_between_class_degree': 0.74, 'K': 1.5, 'seed': 4}\n",
      "2023-11-28 11:09:08 (INFO): model_params: {'label': 'GCN', 'model': 'GCN', 'normalization': 'row_normalization', 'depth': 1}\n",
      "2023-11-28 11:09:08 (INFO): attack_params: {'attack': 'random', 'epsilon_list': [0], 'attack_setting': 'evasion'}\n",
      "2023-11-28 11:09:08 (INFO): verbosity_params: {'debug_lvl': 'warning'}\n",
      "2023-11-28 11:09:08 (INFO): other_params: {'device': '0', 'dtype': torch.float64, 'allow_tf32': False}\n",
      "2023-11-28 11:09:08 (INFO): seed: 4\n",
      "2023-11-28 11:09:08 (INFO): Currently on gpu device cuda:0\n",
      "2023-11-28 11:09:08 (INFO): Accuracy 0.7649999856948853 for epsilon 0\n",
      "2023-11-28 11:09:08 (INFO): Starting experiment exp_ntk with configuration:\n",
      "2023-11-28 11:09:08 (INFO): data_params: {'learning_setting': 'transductive', 'classes': 2, 'n_trn_labeled': 600, 'n_trn_unlabeled': 0, 'n_val': 200, 'n_test': 200, 'sigma': 1, 'avg_within_class_degree': 3.16, 'avg_between_class_degree': 0.74, 'K': 1.5, 'seed': 5}\n",
      "2023-11-28 11:09:08 (INFO): model_params: {'label': 'GCN', 'model': 'GCN', 'normalization': 'row_normalization', 'depth': 1}\n",
      "2023-11-28 11:09:08 (INFO): attack_params: {'attack': 'random', 'epsilon_list': [0], 'attack_setting': 'evasion'}\n",
      "2023-11-28 11:09:08 (INFO): verbosity_params: {'debug_lvl': 'warning'}\n",
      "2023-11-28 11:09:08 (INFO): other_params: {'device': '0', 'dtype': torch.float64, 'allow_tf32': False}\n",
      "2023-11-28 11:09:08 (INFO): seed: 5\n",
      "2023-11-28 11:09:08 (INFO): Currently on gpu device cuda:0\n",
      "2023-11-28 11:09:08 (INFO): Accuracy 0.7849999666213989 for epsilon 0\n",
      "2023-11-28 11:09:08 (INFO): Starting experiment exp_ntk with configuration:\n",
      "2023-11-28 11:09:08 (INFO): data_params: {'learning_setting': 'transductive', 'classes': 2, 'n_trn_labeled': 600, 'n_trn_unlabeled': 0, 'n_val': 200, 'n_test': 200, 'sigma': 1, 'avg_within_class_degree': 3.16, 'avg_between_class_degree': 0.74, 'K': 1.5, 'seed': 6}\n",
      "2023-11-28 11:09:08 (INFO): model_params: {'label': 'GCN', 'model': 'GCN', 'normalization': 'row_normalization', 'depth': 1}\n",
      "2023-11-28 11:09:08 (INFO): attack_params: {'attack': 'random', 'epsilon_list': [0], 'attack_setting': 'evasion'}\n",
      "2023-11-28 11:09:08 (INFO): verbosity_params: {'debug_lvl': 'warning'}\n",
      "2023-11-28 11:09:08 (INFO): other_params: {'device': '0', 'dtype': torch.float64, 'allow_tf32': False}\n",
      "2023-11-28 11:09:08 (INFO): seed: 6\n",
      "2023-11-28 11:09:08 (INFO): Currently on gpu device cuda:0\n",
      "2023-11-28 11:09:09 (INFO): Accuracy 0.7899999618530273 for epsilon 0\n",
      "2023-11-28 11:09:09 (INFO): Starting experiment exp_ntk with configuration:\n",
      "2023-11-28 11:09:09 (INFO): data_params: {'learning_setting': 'transductive', 'classes': 2, 'n_trn_labeled': 600, 'n_trn_unlabeled': 0, 'n_val': 200, 'n_test': 200, 'sigma': 1, 'avg_within_class_degree': 3.16, 'avg_between_class_degree': 0.74, 'K': 1.5, 'seed': 7}\n",
      "2023-11-28 11:09:09 (INFO): model_params: {'label': 'GCN', 'model': 'GCN', 'normalization': 'row_normalization', 'depth': 1}\n",
      "2023-11-28 11:09:09 (INFO): attack_params: {'attack': 'random', 'epsilon_list': [0], 'attack_setting': 'evasion'}\n",
      "2023-11-28 11:09:09 (INFO): verbosity_params: {'debug_lvl': 'warning'}\n",
      "2023-11-28 11:09:09 (INFO): other_params: {'device': '0', 'dtype': torch.float64, 'allow_tf32': False}\n",
      "2023-11-28 11:09:09 (INFO): seed: 7\n",
      "2023-11-28 11:09:09 (INFO): Currently on gpu device cuda:0\n",
      "2023-11-28 11:09:09 (INFO): Accuracy 0.4899999797344208 for epsilon 0\n",
      "2023-11-28 11:09:09 (INFO): Starting experiment exp_ntk with configuration:\n",
      "2023-11-28 11:09:09 (INFO): data_params: {'learning_setting': 'transductive', 'classes': 2, 'n_trn_labeled': 600, 'n_trn_unlabeled': 0, 'n_val': 200, 'n_test': 200, 'sigma': 1, 'avg_within_class_degree': 3.16, 'avg_between_class_degree': 0.74, 'K': 1.5, 'seed': 8}\n",
      "2023-11-28 11:09:09 (INFO): model_params: {'label': 'GCN', 'model': 'GCN', 'normalization': 'row_normalization', 'depth': 1}\n",
      "2023-11-28 11:09:09 (INFO): attack_params: {'attack': 'random', 'epsilon_list': [0], 'attack_setting': 'evasion'}\n",
      "2023-11-28 11:09:09 (INFO): verbosity_params: {'debug_lvl': 'warning'}\n",
      "2023-11-28 11:09:09 (INFO): other_params: {'device': '0', 'dtype': torch.float64, 'allow_tf32': False}\n",
      "2023-11-28 11:09:09 (INFO): seed: 8\n",
      "2023-11-28 11:09:09 (INFO): Currently on gpu device cuda:0\n",
      "2023-11-28 11:09:10 (INFO): Accuracy 0.7899999618530273 for epsilon 0\n",
      "2023-11-28 11:09:10 (INFO): Starting experiment exp_ntk with configuration:\n",
      "2023-11-28 11:09:10 (INFO): data_params: {'learning_setting': 'transductive', 'classes': 2, 'n_trn_labeled': 600, 'n_trn_unlabeled': 0, 'n_val': 200, 'n_test': 200, 'sigma': 1, 'avg_within_class_degree': 3.16, 'avg_between_class_degree': 0.74, 'K': 1.5, 'seed': 9}\n",
      "2023-11-28 11:09:10 (INFO): model_params: {'label': 'GCN', 'model': 'GCN', 'normalization': 'row_normalization', 'depth': 1}\n",
      "2023-11-28 11:09:10 (INFO): attack_params: {'attack': 'random', 'epsilon_list': [0], 'attack_setting': 'evasion'}\n",
      "2023-11-28 11:09:10 (INFO): verbosity_params: {'debug_lvl': 'warning'}\n",
      "2023-11-28 11:09:10 (INFO): other_params: {'device': '0', 'dtype': torch.float64, 'allow_tf32': False}\n",
      "2023-11-28 11:09:10 (INFO): seed: 9\n",
      "2023-11-28 11:09:10 (INFO): Currently on gpu device cuda:0\n",
      "2023-11-28 11:09:10 (INFO): Accuracy 0.5049999952316284 for epsilon 0\n",
      "2023-11-28 11:09:10 (INFO): Starting experiment exp_ntk with configuration:\n",
      "2023-11-28 11:09:10 (INFO): data_params: {'learning_setting': 'transductive', 'classes': 2, 'n_trn_labeled': 600, 'n_trn_unlabeled': 0, 'n_val': 200, 'n_test': 200, 'sigma': 1, 'avg_within_class_degree': 3.16, 'avg_between_class_degree': 0.74, 'K': 1.5, 'seed': 10}\n",
      "2023-11-28 11:09:10 (INFO): model_params: {'label': 'GCN', 'model': 'GCN', 'normalization': 'row_normalization', 'depth': 1}\n",
      "2023-11-28 11:09:10 (INFO): attack_params: {'attack': 'random', 'epsilon_list': [0], 'attack_setting': 'evasion'}\n",
      "2023-11-28 11:09:10 (INFO): verbosity_params: {'debug_lvl': 'warning'}\n",
      "2023-11-28 11:09:10 (INFO): other_params: {'device': '0', 'dtype': torch.float64, 'allow_tf32': False}\n",
      "2023-11-28 11:09:10 (INFO): seed: 10\n",
      "2023-11-28 11:09:10 (INFO): Currently on gpu device cuda:0\n",
      "2023-11-28 11:09:11 (INFO): Accuracy 0.8050000071525574 for epsilon 0\n",
      "2023-11-28 11:09:11 (INFO): Starting experiment exp_ntk with configuration:\n",
      "2023-11-28 11:09:11 (INFO): data_params: {'learning_setting': 'transductive', 'classes': 2, 'n_trn_labeled': 600, 'n_trn_unlabeled': 0, 'n_val': 200, 'n_test': 200, 'sigma': 1, 'avg_within_class_degree': 3.16, 'avg_between_class_degree': 0.74, 'K': 1.5, 'seed': 11}\n",
      "2023-11-28 11:09:11 (INFO): model_params: {'label': 'GCN', 'model': 'GCN', 'normalization': 'row_normalization', 'depth': 1}\n",
      "2023-11-28 11:09:11 (INFO): attack_params: {'attack': 'random', 'epsilon_list': [0], 'attack_setting': 'evasion'}\n",
      "2023-11-28 11:09:11 (INFO): verbosity_params: {'debug_lvl': 'warning'}\n",
      "2023-11-28 11:09:11 (INFO): other_params: {'device': '0', 'dtype': torch.float64, 'allow_tf32': False}\n",
      "2023-11-28 11:09:11 (INFO): seed: 11\n",
      "2023-11-28 11:09:11 (INFO): Currently on gpu device cuda:0\n",
      "2023-11-28 11:09:11 (INFO): Accuracy 0.7199999690055847 for epsilon 0\n",
      "2023-11-28 11:09:11 (INFO): Starting experiment exp_ntk with configuration:\n",
      "2023-11-28 11:09:11 (INFO): data_params: {'learning_setting': 'transductive', 'classes': 2, 'n_trn_labeled': 600, 'n_trn_unlabeled': 0, 'n_val': 200, 'n_test': 200, 'sigma': 1, 'avg_within_class_degree': 3.16, 'avg_between_class_degree': 0.74, 'K': 1.5, 'seed': 12}\n",
      "2023-11-28 11:09:11 (INFO): model_params: {'label': 'GCN', 'model': 'GCN', 'normalization': 'row_normalization', 'depth': 1}\n",
      "2023-11-28 11:09:11 (INFO): attack_params: {'attack': 'random', 'epsilon_list': [0], 'attack_setting': 'evasion'}\n",
      "2023-11-28 11:09:11 (INFO): verbosity_params: {'debug_lvl': 'warning'}\n",
      "2023-11-28 11:09:11 (INFO): other_params: {'device': '0', 'dtype': torch.float64, 'allow_tf32': False}\n",
      "2023-11-28 11:09:11 (INFO): seed: 12\n",
      "2023-11-28 11:09:11 (INFO): Currently on gpu device cuda:0\n",
      "2023-11-28 11:09:11 (INFO): Accuracy 0.7299999594688416 for epsilon 0\n",
      "2023-11-28 11:09:11 (INFO): Starting experiment exp_ntk with configuration:\n",
      "2023-11-28 11:09:11 (INFO): data_params: {'learning_setting': 'transductive', 'classes': 2, 'n_trn_labeled': 600, 'n_trn_unlabeled': 0, 'n_val': 200, 'n_test': 200, 'sigma': 1, 'avg_within_class_degree': 3.16, 'avg_between_class_degree': 0.74, 'K': 1.5, 'seed': 13}\n",
      "2023-11-28 11:09:11 (INFO): model_params: {'label': 'GCN', 'model': 'GCN', 'normalization': 'row_normalization', 'depth': 1}\n",
      "2023-11-28 11:09:11 (INFO): attack_params: {'attack': 'random', 'epsilon_list': [0], 'attack_setting': 'evasion'}\n",
      "2023-11-28 11:09:11 (INFO): verbosity_params: {'debug_lvl': 'warning'}\n",
      "2023-11-28 11:09:11 (INFO): other_params: {'device': '0', 'dtype': torch.float64, 'allow_tf32': False}\n",
      "2023-11-28 11:09:11 (INFO): seed: 13\n",
      "2023-11-28 11:09:11 (INFO): Currently on gpu device cuda:0\n",
      "2023-11-28 11:09:12 (INFO): Accuracy 0.73499995470047 for epsilon 0\n",
      "2023-11-28 11:09:12 (INFO): Starting experiment exp_ntk with configuration:\n",
      "2023-11-28 11:09:12 (INFO): data_params: {'learning_setting': 'transductive', 'classes': 2, 'n_trn_labeled': 600, 'n_trn_unlabeled': 0, 'n_val': 200, 'n_test': 200, 'sigma': 1, 'avg_within_class_degree': 3.16, 'avg_between_class_degree': 0.74, 'K': 1.5, 'seed': 14}\n",
      "2023-11-28 11:09:12 (INFO): model_params: {'label': 'GCN', 'model': 'GCN', 'normalization': 'row_normalization', 'depth': 1}\n",
      "2023-11-28 11:09:12 (INFO): attack_params: {'attack': 'random', 'epsilon_list': [0], 'attack_setting': 'evasion'}\n",
      "2023-11-28 11:09:12 (INFO): verbosity_params: {'debug_lvl': 'warning'}\n",
      "2023-11-28 11:09:12 (INFO): other_params: {'device': '0', 'dtype': torch.float64, 'allow_tf32': False}\n",
      "2023-11-28 11:09:12 (INFO): seed: 14\n",
      "2023-11-28 11:09:12 (INFO): Currently on gpu device cuda:0\n",
      "2023-11-28 11:09:12 (INFO): Accuracy 0.7999999523162842 for epsilon 0\n",
      "2023-11-28 11:09:12 (INFO): Starting experiment exp_ntk with configuration:\n",
      "2023-11-28 11:09:12 (INFO): data_params: {'learning_setting': 'transductive', 'classes': 2, 'n_trn_labeled': 600, 'n_trn_unlabeled': 0, 'n_val': 200, 'n_test': 200, 'sigma': 1, 'avg_within_class_degree': 3.16, 'avg_between_class_degree': 0.74, 'K': 1.5, 'seed': 15}\n",
      "2023-11-28 11:09:12 (INFO): model_params: {'label': 'GCN', 'model': 'GCN', 'normalization': 'row_normalization', 'depth': 1}\n",
      "2023-11-28 11:09:12 (INFO): attack_params: {'attack': 'random', 'epsilon_list': [0], 'attack_setting': 'evasion'}\n",
      "2023-11-28 11:09:12 (INFO): verbosity_params: {'debug_lvl': 'warning'}\n",
      "2023-11-28 11:09:12 (INFO): other_params: {'device': '0', 'dtype': torch.float64, 'allow_tf32': False}\n",
      "2023-11-28 11:09:12 (INFO): seed: 15\n",
      "2023-11-28 11:09:12 (INFO): Currently on gpu device cuda:0\n",
      "2023-11-28 11:09:13 (INFO): Accuracy 0.699999988079071 for epsilon 0\n",
      "2023-11-28 11:09:13 (INFO): Starting experiment exp_ntk with configuration:\n",
      "2023-11-28 11:09:13 (INFO): data_params: {'learning_setting': 'transductive', 'classes': 2, 'n_trn_labeled': 600, 'n_trn_unlabeled': 0, 'n_val': 200, 'n_test': 200, 'sigma': 1, 'avg_within_class_degree': 3.16, 'avg_between_class_degree': 0.74, 'K': 1.5, 'seed': 16}\n",
      "2023-11-28 11:09:13 (INFO): model_params: {'label': 'GCN', 'model': 'GCN', 'normalization': 'row_normalization', 'depth': 1}\n",
      "2023-11-28 11:09:13 (INFO): attack_params: {'attack': 'random', 'epsilon_list': [0], 'attack_setting': 'evasion'}\n",
      "2023-11-28 11:09:13 (INFO): verbosity_params: {'debug_lvl': 'warning'}\n",
      "2023-11-28 11:09:13 (INFO): other_params: {'device': '0', 'dtype': torch.float64, 'allow_tf32': False}\n",
      "2023-11-28 11:09:13 (INFO): seed: 16\n",
      "2023-11-28 11:09:13 (INFO): Currently on gpu device cuda:0\n",
      "2023-11-28 11:09:13 (INFO): Accuracy 0.7749999761581421 for epsilon 0\n",
      "2023-11-28 11:09:13 (INFO): Starting experiment exp_ntk with configuration:\n",
      "2023-11-28 11:09:13 (INFO): data_params: {'learning_setting': 'transductive', 'classes': 2, 'n_trn_labeled': 600, 'n_trn_unlabeled': 0, 'n_val': 200, 'n_test': 200, 'sigma': 1, 'avg_within_class_degree': 3.16, 'avg_between_class_degree': 0.74, 'K': 1.5, 'seed': 17}\n",
      "2023-11-28 11:09:13 (INFO): model_params: {'label': 'GCN', 'model': 'GCN', 'normalization': 'row_normalization', 'depth': 1}\n",
      "2023-11-28 11:09:13 (INFO): attack_params: {'attack': 'random', 'epsilon_list': [0], 'attack_setting': 'evasion'}\n",
      "2023-11-28 11:09:13 (INFO): verbosity_params: {'debug_lvl': 'warning'}\n",
      "2023-11-28 11:09:13 (INFO): other_params: {'device': '0', 'dtype': torch.float64, 'allow_tf32': False}\n",
      "2023-11-28 11:09:13 (INFO): seed: 17\n",
      "2023-11-28 11:09:13 (INFO): Currently on gpu device cuda:0\n",
      "2023-11-28 11:09:14 (INFO): Accuracy 0.7400000095367432 for epsilon 0\n",
      "2023-11-28 11:09:14 (INFO): Starting experiment exp_ntk with configuration:\n",
      "2023-11-28 11:09:14 (INFO): data_params: {'learning_setting': 'transductive', 'classes': 2, 'n_trn_labeled': 600, 'n_trn_unlabeled': 0, 'n_val': 200, 'n_test': 200, 'sigma': 1, 'avg_within_class_degree': 3.16, 'avg_between_class_degree': 0.74, 'K': 1.5, 'seed': 18}\n",
      "2023-11-28 11:09:14 (INFO): model_params: {'label': 'GCN', 'model': 'GCN', 'normalization': 'row_normalization', 'depth': 1}\n",
      "2023-11-28 11:09:14 (INFO): attack_params: {'attack': 'random', 'epsilon_list': [0], 'attack_setting': 'evasion'}\n",
      "2023-11-28 11:09:14 (INFO): verbosity_params: {'debug_lvl': 'warning'}\n",
      "2023-11-28 11:09:14 (INFO): other_params: {'device': '0', 'dtype': torch.float64, 'allow_tf32': False}\n",
      "2023-11-28 11:09:14 (INFO): seed: 18\n",
      "2023-11-28 11:09:14 (INFO): Currently on gpu device cuda:0\n",
      "2023-11-28 11:09:14 (INFO): Accuracy 0.7249999642372131 for epsilon 0\n",
      "2023-11-28 11:09:14 (INFO): Starting experiment exp_ntk with configuration:\n",
      "2023-11-28 11:09:14 (INFO): data_params: {'learning_setting': 'transductive', 'classes': 2, 'n_trn_labeled': 600, 'n_trn_unlabeled': 0, 'n_val': 200, 'n_test': 200, 'sigma': 1, 'avg_within_class_degree': 3.16, 'avg_between_class_degree': 0.74, 'K': 1.5, 'seed': 19}\n",
      "2023-11-28 11:09:14 (INFO): model_params: {'label': 'GCN', 'model': 'GCN', 'normalization': 'row_normalization', 'depth': 1}\n",
      "2023-11-28 11:09:14 (INFO): attack_params: {'attack': 'random', 'epsilon_list': [0], 'attack_setting': 'evasion'}\n",
      "2023-11-28 11:09:14 (INFO): verbosity_params: {'debug_lvl': 'warning'}\n",
      "2023-11-28 11:09:14 (INFO): other_params: {'device': '0', 'dtype': torch.float64, 'allow_tf32': False}\n",
      "2023-11-28 11:09:14 (INFO): seed: 19\n",
      "2023-11-28 11:09:14 (INFO): Currently on gpu device cuda:0\n",
      "2023-11-28 11:09:15 (INFO): Accuracy 0.7699999809265137 for epsilon 0\n",
      "2023-11-28 11:09:15 (INFO): Starting experiment exp_ntk with configuration:\n",
      "2023-11-28 11:09:15 (INFO): data_params: {'learning_setting': 'transductive', 'classes': 2, 'n_trn_labeled': 600, 'n_trn_unlabeled': 0, 'n_val': 200, 'n_test': 200, 'sigma': 1, 'avg_within_class_degree': 3.16, 'avg_between_class_degree': 0.74, 'K': 1.5, 'seed': 20}\n",
      "2023-11-28 11:09:15 (INFO): model_params: {'label': 'GCN', 'model': 'GCN', 'normalization': 'row_normalization', 'depth': 1}\n",
      "2023-11-28 11:09:15 (INFO): attack_params: {'attack': 'random', 'epsilon_list': [0], 'attack_setting': 'evasion'}\n",
      "2023-11-28 11:09:15 (INFO): verbosity_params: {'debug_lvl': 'warning'}\n",
      "2023-11-28 11:09:15 (INFO): other_params: {'device': '0', 'dtype': torch.float64, 'allow_tf32': False}\n",
      "2023-11-28 11:09:15 (INFO): seed: 20\n",
      "2023-11-28 11:09:15 (INFO): Currently on gpu device cuda:0\n",
      "2023-11-28 11:09:15 (INFO): Accuracy 0.8050000071525574 for epsilon 0\n",
      "2023-11-28 11:09:15 (INFO): Starting experiment exp_ntk with configuration:\n",
      "2023-11-28 11:09:15 (INFO): data_params: {'learning_setting': 'transductive', 'classes': 2, 'n_trn_labeled': 600, 'n_trn_unlabeled': 0, 'n_val': 200, 'n_test': 200, 'sigma': 1, 'avg_within_class_degree': 3.16, 'avg_between_class_degree': 0.74, 'K': 1.5, 'seed': 21}\n",
      "2023-11-28 11:09:15 (INFO): model_params: {'label': 'GCN', 'model': 'GCN', 'normalization': 'row_normalization', 'depth': 1}\n",
      "2023-11-28 11:09:15 (INFO): attack_params: {'attack': 'random', 'epsilon_list': [0], 'attack_setting': 'evasion'}\n",
      "2023-11-28 11:09:15 (INFO): verbosity_params: {'debug_lvl': 'warning'}\n",
      "2023-11-28 11:09:15 (INFO): other_params: {'device': '0', 'dtype': torch.float64, 'allow_tf32': False}\n",
      "2023-11-28 11:09:15 (INFO): seed: 21\n",
      "2023-11-28 11:09:15 (INFO): Currently on gpu device cuda:0\n",
      "2023-11-28 11:09:16 (INFO): Accuracy 0.7249999642372131 for epsilon 0\n",
      "2023-11-28 11:09:16 (INFO): Starting experiment exp_ntk with configuration:\n",
      "2023-11-28 11:09:16 (INFO): data_params: {'learning_setting': 'transductive', 'classes': 2, 'n_trn_labeled': 600, 'n_trn_unlabeled': 0, 'n_val': 200, 'n_test': 200, 'sigma': 1, 'avg_within_class_degree': 3.16, 'avg_between_class_degree': 0.74, 'K': 1.5, 'seed': 22}\n",
      "2023-11-28 11:09:16 (INFO): model_params: {'label': 'GCN', 'model': 'GCN', 'normalization': 'row_normalization', 'depth': 1}\n",
      "2023-11-28 11:09:16 (INFO): attack_params: {'attack': 'random', 'epsilon_list': [0], 'attack_setting': 'evasion'}\n",
      "2023-11-28 11:09:16 (INFO): verbosity_params: {'debug_lvl': 'warning'}\n",
      "2023-11-28 11:09:16 (INFO): other_params: {'device': '0', 'dtype': torch.float64, 'allow_tf32': False}\n",
      "2023-11-28 11:09:16 (INFO): seed: 22\n",
      "2023-11-28 11:09:16 (INFO): Currently on gpu device cuda:0\n",
      "2023-11-28 11:09:16 (INFO): Accuracy 0.8050000071525574 for epsilon 0\n",
      "2023-11-28 11:09:16 (INFO): Starting experiment exp_ntk with configuration:\n",
      "2023-11-28 11:09:16 (INFO): data_params: {'learning_setting': 'transductive', 'classes': 2, 'n_trn_labeled': 600, 'n_trn_unlabeled': 0, 'n_val': 200, 'n_test': 200, 'sigma': 1, 'avg_within_class_degree': 3.16, 'avg_between_class_degree': 0.74, 'K': 1.5, 'seed': 23}\n",
      "2023-11-28 11:09:16 (INFO): model_params: {'label': 'GCN', 'model': 'GCN', 'normalization': 'row_normalization', 'depth': 1}\n",
      "2023-11-28 11:09:16 (INFO): attack_params: {'attack': 'random', 'epsilon_list': [0], 'attack_setting': 'evasion'}\n",
      "2023-11-28 11:09:16 (INFO): verbosity_params: {'debug_lvl': 'warning'}\n",
      "2023-11-28 11:09:16 (INFO): other_params: {'device': '0', 'dtype': torch.float64, 'allow_tf32': False}\n",
      "2023-11-28 11:09:16 (INFO): seed: 23\n",
      "2023-11-28 11:09:16 (INFO): Currently on gpu device cuda:0\n",
      "2023-11-28 11:09:17 (INFO): Accuracy 0.7899999618530273 for epsilon 0\n",
      "2023-11-28 11:09:17 (INFO): Starting experiment exp_ntk with configuration:\n",
      "2023-11-28 11:09:17 (INFO): data_params: {'learning_setting': 'transductive', 'classes': 2, 'n_trn_labeled': 600, 'n_trn_unlabeled': 0, 'n_val': 200, 'n_test': 200, 'sigma': 1, 'avg_within_class_degree': 3.16, 'avg_between_class_degree': 0.74, 'K': 1.5, 'seed': 24}\n",
      "2023-11-28 11:09:17 (INFO): model_params: {'label': 'GCN', 'model': 'GCN', 'normalization': 'row_normalization', 'depth': 1}\n",
      "2023-11-28 11:09:17 (INFO): attack_params: {'attack': 'random', 'epsilon_list': [0], 'attack_setting': 'evasion'}\n",
      "2023-11-28 11:09:17 (INFO): verbosity_params: {'debug_lvl': 'warning'}\n",
      "2023-11-28 11:09:17 (INFO): other_params: {'device': '0', 'dtype': torch.float64, 'allow_tf32': False}\n",
      "2023-11-28 11:09:17 (INFO): seed: 24\n",
      "2023-11-28 11:09:17 (INFO): Currently on gpu device cuda:0\n",
      "2023-11-28 11:09:17 (INFO): Accuracy 0.5049999952316284 for epsilon 0\n",
      "2023-11-28 11:09:17 (INFO): Starting experiment exp_ntk with configuration:\n",
      "2023-11-28 11:09:17 (INFO): data_params: {'learning_setting': 'transductive', 'classes': 2, 'n_trn_labeled': 600, 'n_trn_unlabeled': 0, 'n_val': 200, 'n_test': 200, 'sigma': 1, 'avg_within_class_degree': 3.16, 'avg_between_class_degree': 0.74, 'K': 1.5, 'seed': 25}\n",
      "2023-11-28 11:09:17 (INFO): model_params: {'label': 'GCN', 'model': 'GCN', 'normalization': 'row_normalization', 'depth': 1}\n",
      "2023-11-28 11:09:17 (INFO): attack_params: {'attack': 'random', 'epsilon_list': [0], 'attack_setting': 'evasion'}\n",
      "2023-11-28 11:09:17 (INFO): verbosity_params: {'debug_lvl': 'warning'}\n",
      "2023-11-28 11:09:17 (INFO): other_params: {'device': '0', 'dtype': torch.float64, 'allow_tf32': False}\n",
      "2023-11-28 11:09:17 (INFO): seed: 25\n",
      "2023-11-28 11:09:17 (INFO): Currently on gpu device cuda:0\n",
      "2023-11-28 11:09:18 (INFO): Accuracy 0.7400000095367432 for epsilon 0\n",
      "2023-11-28 11:09:18 (INFO): Starting experiment exp_ntk with configuration:\n",
      "2023-11-28 11:09:18 (INFO): data_params: {'learning_setting': 'transductive', 'classes': 2, 'n_trn_labeled': 600, 'n_trn_unlabeled': 0, 'n_val': 200, 'n_test': 200, 'sigma': 1, 'avg_within_class_degree': 3.16, 'avg_between_class_degree': 0.74, 'K': 1.5, 'seed': 26}\n",
      "2023-11-28 11:09:18 (INFO): model_params: {'label': 'GCN', 'model': 'GCN', 'normalization': 'row_normalization', 'depth': 1}\n",
      "2023-11-28 11:09:18 (INFO): attack_params: {'attack': 'random', 'epsilon_list': [0], 'attack_setting': 'evasion'}\n",
      "2023-11-28 11:09:18 (INFO): verbosity_params: {'debug_lvl': 'warning'}\n",
      "2023-11-28 11:09:18 (INFO): other_params: {'device': '0', 'dtype': torch.float64, 'allow_tf32': False}\n",
      "2023-11-28 11:09:18 (INFO): seed: 26\n",
      "2023-11-28 11:09:18 (INFO): Currently on gpu device cuda:0\n",
      "2023-11-28 11:09:18 (INFO): Accuracy 0.6800000071525574 for epsilon 0\n",
      "2023-11-28 11:09:18 (INFO): Starting experiment exp_ntk with configuration:\n",
      "2023-11-28 11:09:18 (INFO): data_params: {'learning_setting': 'transductive', 'classes': 2, 'n_trn_labeled': 600, 'n_trn_unlabeled': 0, 'n_val': 200, 'n_test': 200, 'sigma': 1, 'avg_within_class_degree': 3.16, 'avg_between_class_degree': 0.74, 'K': 1.5, 'seed': 27}\n",
      "2023-11-28 11:09:18 (INFO): model_params: {'label': 'GCN', 'model': 'GCN', 'normalization': 'row_normalization', 'depth': 1}\n",
      "2023-11-28 11:09:18 (INFO): attack_params: {'attack': 'random', 'epsilon_list': [0], 'attack_setting': 'evasion'}\n",
      "2023-11-28 11:09:18 (INFO): verbosity_params: {'debug_lvl': 'warning'}\n",
      "2023-11-28 11:09:18 (INFO): other_params: {'device': '0', 'dtype': torch.float64, 'allow_tf32': False}\n",
      "2023-11-28 11:09:18 (INFO): seed: 27\n",
      "2023-11-28 11:09:18 (INFO): Currently on gpu device cuda:0\n",
      "2023-11-28 11:09:18 (INFO): Accuracy 0.7099999785423279 for epsilon 0\n",
      "2023-11-28 11:09:18 (INFO): Starting experiment exp_ntk with configuration:\n",
      "2023-11-28 11:09:18 (INFO): data_params: {'learning_setting': 'transductive', 'classes': 2, 'n_trn_labeled': 600, 'n_trn_unlabeled': 0, 'n_val': 200, 'n_test': 200, 'sigma': 1, 'avg_within_class_degree': 3.16, 'avg_between_class_degree': 0.74, 'K': 1.5, 'seed': 28}\n",
      "2023-11-28 11:09:18 (INFO): model_params: {'label': 'GCN', 'model': 'GCN', 'normalization': 'row_normalization', 'depth': 1}\n",
      "2023-11-28 11:09:18 (INFO): attack_params: {'attack': 'random', 'epsilon_list': [0], 'attack_setting': 'evasion'}\n",
      "2023-11-28 11:09:18 (INFO): verbosity_params: {'debug_lvl': 'warning'}\n",
      "2023-11-28 11:09:18 (INFO): other_params: {'device': '0', 'dtype': torch.float64, 'allow_tf32': False}\n",
      "2023-11-28 11:09:18 (INFO): seed: 28\n",
      "2023-11-28 11:09:18 (INFO): Currently on gpu device cuda:0\n",
      "2023-11-28 11:09:19 (INFO): Accuracy 0.7549999952316284 for epsilon 0\n",
      "2023-11-28 11:09:19 (INFO): Starting experiment exp_ntk with configuration:\n",
      "2023-11-28 11:09:19 (INFO): data_params: {'learning_setting': 'transductive', 'classes': 2, 'n_trn_labeled': 600, 'n_trn_unlabeled': 0, 'n_val': 200, 'n_test': 200, 'sigma': 1, 'avg_within_class_degree': 3.16, 'avg_between_class_degree': 0.74, 'K': 1.5, 'seed': 29}\n",
      "2023-11-28 11:09:19 (INFO): model_params: {'label': 'GCN', 'model': 'GCN', 'normalization': 'row_normalization', 'depth': 1}\n",
      "2023-11-28 11:09:19 (INFO): attack_params: {'attack': 'random', 'epsilon_list': [0], 'attack_setting': 'evasion'}\n",
      "2023-11-28 11:09:19 (INFO): verbosity_params: {'debug_lvl': 'warning'}\n",
      "2023-11-28 11:09:19 (INFO): other_params: {'device': '0', 'dtype': torch.float64, 'allow_tf32': False}\n",
      "2023-11-28 11:09:19 (INFO): seed: 29\n",
      "2023-11-28 11:09:19 (INFO): Currently on gpu device cuda:0\n",
      "2023-11-28 11:09:19 (INFO): Accuracy 0.7199999690055847 for epsilon 0\n"
     ]
    },
    {
     "name": "stdout",
     "output_type": "stream",
     "text": [
      "[0.6949999928474426, 0.7899999618530273, 0.7599999904632568, 0.8149999976158142, 0.7649999856948853, 0.7849999666213989, 0.7899999618530273, 0.4899999797344208, 0.7899999618530273, 0.5049999952316284, 0.8050000071525574, 0.7199999690055847, 0.7299999594688416, 0.73499995470047, 0.7999999523162842, 0.699999988079071, 0.7749999761581421, 0.7400000095367432, 0.7249999642372131, 0.7699999809265137, 0.8050000071525574, 0.7249999642372131, 0.8050000071525574, 0.7899999618530273, 0.5049999952316284, 0.7400000095367432, 0.6800000071525574, 0.7099999785423279, 0.7549999952316284, 0.7199999690055847]\n",
      "0.7306666483481725\n",
      "0.08507578059838189\n"
     ]
    }
   ],
   "source": [
    "# Transductive\n",
    "data_params[\"learning_setting\"] = \"transductive\"\n",
    "acc_l = []\n",
    "for seed in range(30):\n",
    "    data_params[\"seed\"] = seed\n",
    "    res = run(data_params, model_params, attack_params, verbosity_params, other_params, seed)\n",
    "    acc_l.append(res[\"accuracy_l\"][0])\n",
    "print(acc_l)\n",
    "print(np.mean(acc_l))\n",
    "print(np.std(acc_l))"
   ]
  },
  {
   "cell_type": "code",
   "execution_count": 13,
   "metadata": {},
   "outputs": [],
   "source": [
    "import numpy as np"
   ]
  },
  {
   "cell_type": "code",
   "execution_count": 14,
   "metadata": {},
   "outputs": [
    {
     "data": {
      "text/plain": [
       "array([0, 1, 2, 3, 4, 5, 6, 7, 8, 9, 0, 1, 2, 3, 4])"
      ]
     },
     "execution_count": 14,
     "metadata": {},
     "output_type": "execute_result"
    }
   ],
   "source": [
    "a = np.arange(10)\n",
    "b = np.arange(5)\n",
    "np.concatenate((a, b))"
   ]
  },
  {
   "cell_type": "code",
   "execution_count": null,
   "metadata": {},
   "outputs": [],
   "source": []
  }
 ],
 "metadata": {
  "kernelspec": {
   "display_name": "py311_ntk",
   "language": "python",
   "name": "python3"
  },
  "language_info": {
   "codemirror_mode": {
    "name": "ipython",
    "version": 3
   },
   "file_extension": ".py",
   "mimetype": "text/x-python",
   "name": "python",
   "nbconvert_exporter": "python",
   "pygments_lexer": "ipython3",
   "version": "3.11.5"
  }
 },
 "nbformat": 4,
 "nbformat_minor": 2
}
