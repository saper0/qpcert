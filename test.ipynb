{
 "cells": [
  {
   "cell_type": "markdown",
   "metadata": {},
   "source": [
    "# NTK classifier for CSBM"
   ]
  },
  {
   "cell_type": "code",
   "execution_count": 1,
   "metadata": {},
   "outputs": [],
   "source": [
    "%load_ext autoreload\n",
    "%autoreload 2"
   ]
  },
  {
   "cell_type": "code",
   "execution_count": 2,
   "metadata": {},
   "outputs": [],
   "source": [
    "import torch\n",
    "import numpy as np\n",
    "import src.models\n",
    "from exp_ntk import run"
   ]
  },
  {
   "cell_type": "code",
   "execution_count": 3,
   "metadata": {},
   "outputs": [],
   "source": [
    "def get_str_l(l, precision=2):\n",
    "    l_str = []\n",
    "    for el in l:\n",
    "        l_str.append(f\"{el:.{precision}f}\")\n",
    "    return l_str\n",
    "    "
   ]
  },
  {
   "cell_type": "code",
   "execution_count": 54,
   "metadata": {},
   "outputs": [],
   "source": [
    "seed = 0\n",
    "\n",
    "data_params = dict(\n",
    "    dataset = \"csbm\",\n",
    "    learning_setting = \"inductive\", # or \"transdructive\"\n",
    "    specification = dict(\n",
    "        classes = 2,\n",
    "        n_trn_labeled = 40,\n",
    "        n_trn_unlabeled = 0,\n",
    "        n_val = 40,\n",
    "        n_test = 1000,\n",
    "        sigma = 1,\n",
    "        avg_within_class_degree = 1.58 * 2,\n",
    "        avg_between_class_degree = 0.37 * 2,\n",
    "        K = 1.5,\n",
    "        seed = 0 # used to generate the dataset & data split\n",
    "    )\n",
    ")\n",
    "\n",
    "model_params = dict(\n",
    "    label = \"GCN\",\n",
    "    model = \"GCN\",\n",
    "    normalization = \"row_normalization\",\n",
    "    depth = 1,\n",
    "    #regularizer = 1e-8\n",
    "    regularizer = 1,\n",
    "    pred_method = \"svm\",\n",
    "    alpha_tol = 1e-4,\n",
    "    bias = True,\n",
    ")\n",
    "\n",
    "verbosity_params = dict(\n",
    "    debug_lvl = \"warning\"\n",
    ")  \n",
    "\n",
    "other_params = dict(\n",
    "    device = \"0\",\n",
    "    dtype = torch.float64,\n",
    "    allow_tf32 = False,\n",
    "    debug = False\n",
    ")"
   ]
  },
  {
   "cell_type": "code",
   "execution_count": 5,
   "metadata": {},
   "outputs": [],
   "source": [
    "def run_exp(n_seeds, data_params, model_params, verbosity_params, other_params):\n",
    "    acc_l = []\n",
    "    min_ypred = []\n",
    "    max_ypred = []\n",
    "    cond = []\n",
    "    min_ntklabeled = []\n",
    "    max_ntklabeled = []\n",
    "    min_ntkunlabeled = []\n",
    "    max_ntkunlabeled = []\n",
    "    for seed in range(n_seeds):\n",
    "        data_params[\"specification\"][\"seed\"] = seed\n",
    "        res = run(data_params, model_params, verbosity_params, other_params, seed)\n",
    "        acc_l.append(res[\"accuracy\"])\n",
    "        min_ypred.append(res[\"min_ypred\"])\n",
    "        max_ypred.append(res[\"max_ypred\"])\n",
    "        min_ntklabeled.append(res[\"min_ntklabeled\"])\n",
    "        max_ntklabeled.append(res[\"max_ntklabeled\"])\n",
    "        min_ntkunlabeled.append(res[\"min_ntkunlabeled\"])\n",
    "        max_ntkunlabeled.append(res[\"max_ntkunlabeled\"])\n",
    "        cond.append(res[\"cond\"])\n",
    "    print(f\"Accuracy: {get_str_l(acc_l)}\")\n",
    "    print(f\"Min y_pred: {get_str_l(min_ypred)}\")\n",
    "    print(f\"Max y_pred: {get_str_l(max_ypred)}\")\n",
    "    print(f\"Min NTK_labeled: {get_str_l(min_ntklabeled)}\")\n",
    "    print(f\"Max NTK_labeled: {get_str_l(max_ntklabeled)}\")\n",
    "    print(f\"Min NTK_unlabeled: {get_str_l(min_ntkunlabeled)}\")\n",
    "    print(f\"Max NTK_unlabeled: {get_str_l(max_ntkunlabeled)}\")\n",
    "    print(f\"Condition: {get_str_l(cond, precision=0)}\")"
   ]
  },
  {
   "cell_type": "code",
   "execution_count": 57,
   "metadata": {},
   "outputs": [
    {
     "name": "stdout",
     "output_type": "stream",
     "text": [
      "CSBM mu:\n",
      "[0.15990053 0.15990053 0.15990053 0.15990053 0.15990053 0.15990053\n",
      " 0.15990053 0.15990053 0.15990053 0.15990053 0.15990053 0.15990053\n",
      " 0.15990053 0.15990053 0.15990053 0.15990053 0.15990053 0.15990053\n",
      " 0.15990053 0.15990053 0.15990053 0.15990053]\n"
     ]
    },
    {
     "data": {
      "text/plain": [
       "{'accuracy': 0.8610000610351562,\n",
       " 'min_ypred': -4.288663579594357,\n",
       " 'max_ypred': 4.114407388931128,\n",
       " 'min_ntklabeled': -2.7836303410421457,\n",
       " 'max_ntklabeled': 83.08263713314018,\n",
       " 'min_ntkunlabeled': -0.964955620036918,\n",
       " 'max_ntkunlabeled': 13.331564131697945,\n",
       " 'cond': 544.1500695342672}"
      ]
     },
     "execution_count": 57,
     "metadata": {},
     "output_type": "execute_result"
    }
   ],
   "source": [
    "data_params[\"learning_setting\"] = \"inductive\"\n",
    "model_params[\"regularizer\"] = 1\n",
    "model_params[\"pred_method\"] = \"svm\"\n",
    "model_params[\"solver\"] = \"cvxopt\"\n",
    "model_params[\"alpha_tol\"] = 1e-4\n",
    "model_params[\"bias\"] = False\n",
    "run(data_params, model_params, verbosity_params, other_params, seed)"
   ]
  },
  {
   "cell_type": "code",
   "execution_count": 55,
   "metadata": {},
   "outputs": [
    {
     "name": "stdout",
     "output_type": "stream",
     "text": [
      "CSBM mu:\n",
      "[0.15990053 0.15990053 0.15990053 0.15990053 0.15990053 0.15990053\n",
      " 0.15990053 0.15990053 0.15990053 0.15990053 0.15990053 0.15990053\n",
      " 0.15990053 0.15990053 0.15990053 0.15990053 0.15990053 0.15990053\n",
      " 0.15990053 0.15990053 0.15990053 0.15990053]\n"
     ]
    },
    {
     "data": {
      "text/plain": [
       "{'accuracy': 0.8560000658035278,\n",
       " 'min_ypred': -4.273266330950973,\n",
       " 'max_ypred': 3.8556140409761834,\n",
       " 'min_ntklabeled': -2.7836303410421457,\n",
       " 'max_ntklabeled': 83.08263713314018,\n",
       " 'min_ntkunlabeled': -0.964955620036918,\n",
       " 'max_ntkunlabeled': 13.331564131697945,\n",
       " 'cond': 544.1500695342672}"
      ]
     },
     "execution_count": 55,
     "metadata": {},
     "output_type": "execute_result"
    }
   ],
   "source": [
    "data_params[\"learning_setting\"] = \"inductive\"\n",
    "model_params[\"regularizer\"] = 1\n",
    "model_params[\"pred_method\"] = \"svm\"\n",
    "model_params[\"solver\"] = \"sklearn\"\n",
    "run(data_params, model_params, verbosity_params, other_params, seed)"
   ]
  },
  {
   "cell_type": "markdown",
   "metadata": {},
   "source": []
  },
  {
   "cell_type": "markdown",
   "metadata": {},
   "source": [
    "# SVM"
   ]
  },
  {
   "cell_type": "code",
   "execution_count": 41,
   "metadata": {},
   "outputs": [
    {
     "name": "stdout",
     "output_type": "stream",
     "text": [
      "Accuracy: ['0.83', '0.88', '0.87', '0.92', '0.87', '0.83', '0.89', '0.82', '0.87', '0.84']\n",
      "Min y_pred: ['0.00', '0.00', '0.00', '0.00', '0.00', '0.00', '0.00', '0.00', '0.00', '0.00']\n",
      "Max y_pred: ['1.00', '1.00', '1.00', '1.00', '1.00', '1.00', '1.00', '1.00', '1.00', '1.00']\n",
      "Min NTK_labeled: ['-2.33', '-2.18', '-2.36', '-1.55', '-2.12', '-2.03', '-2.79', '-1.78', '-2.06', '-2.21']\n",
      "Max NTK_labeled: ['66.91', '89.01', '84.26', '75.37', '86.18', '75.19', '79.51', '79.99', '71.35', '71.51']\n",
      "Min NTK_unlabeled: ['-2.20', '-1.44', '-1.22', '-1.67', '-1.97', '-0.74', '-1.43', '-1.56', '-0.87', '-0.94']\n",
      "Max NTK_unlabeled: ['26.98', '24.61', '31.31', '24.82', '22.27', '19.04', '20.63', '19.59', '19.51', '15.99']\n",
      "Condition: ['1739', '1704', '1735', '1659', '1711', '1776', '1664', '1722', '1633', '1631']\n"
     ]
    }
   ],
   "source": [
    "data_params[\"learning_setting\"] = \"inductive\"\n",
    "data_params[\"n_trn_labeled\"] = 400\n",
    "model_params[\"regularizer\"] = 1\n",
    "model_params[\"pred_method\"] = \"svm\"\n",
    "n_seeds = 10\n",
    "run_exp(n_seeds, data_params, model_params, verbosity_params, other_params)"
   ]
  },
  {
   "cell_type": "markdown",
   "metadata": {},
   "source": [
    "# KRR"
   ]
  },
  {
   "cell_type": "markdown",
   "metadata": {},
   "source": [
    "## Using LU factorization as solver"
   ]
  },
  {
   "cell_type": "code",
   "execution_count": 38,
   "metadata": {},
   "outputs": [
    {
     "name": "stdout",
     "output_type": "stream",
     "text": [
      "Accuracy: ['0.85', '0.85', '0.88', '0.90', '0.90', '0.84', '0.90', '0.84', '0.88', '0.85']\n",
      "Min y_pred: ['-16.39', '-19.15', '-46.83', '-20.38', '-30.73', '-24.61', '-24.70', '-27.68', '-23.36', '-26.91']\n",
      "Max y_pred: ['16.31', '33.49', '24.81', '35.88', '30.23', '23.11', '33.83', '23.28', '21.78', '32.14']\n",
      "Min NTK_labeled: ['-2.33', '-2.18', '-2.36', '-1.55', '-2.12', '-2.03', '-2.79', '-1.78', '-2.06', '-2.21']\n",
      "Max NTK_labeled: ['66.91', '89.01', '84.26', '75.37', '86.18', '75.19', '79.51', '79.99', '71.35', '71.51']\n",
      "Min NTK_unlabeled: ['-2.20', '-1.44', '-1.22', '-1.67', '-1.97', '-0.74', '-1.43', '-1.56', '-0.87', '-0.94']\n",
      "Max NTK_unlabeled: ['26.98', '24.61', '31.31', '24.82', '22.27', '19.04', '20.63', '19.59', '19.51', '15.99']\n",
      "Condition: ['1739', '1704', '1735', '1659', '1711', '1776', '1664', '1722', '1633', '1631']\n"
     ]
    }
   ],
   "source": [
    "data_params[\"learning_setting\"] = \"inductive\"\n",
    "data_params[\"n_trn_labeled\"] = 400\n",
    "model_params[\"regularizer\"] = 1\n",
    "model_params[\"pred_method\"] = \"krr\"\n",
    "n_seeds = 10\n",
    "run_exp(n_seeds, data_params, model_params, verbosity_params, other_params)"
   ]
  },
  {
   "cell_type": "markdown",
   "metadata": {},
   "source": [
    "## Using QR factorization as solver"
   ]
  },
  {
   "cell_type": "code",
   "execution_count": 40,
   "metadata": {},
   "outputs": [
    {
     "name": "stdout",
     "output_type": "stream",
     "text": [
      "Accuracy: ['0.85', '0.85', '0.88', '0.90', '0.90', '0.84', '0.90', '0.84', '0.88', '0.85']\n",
      "Min y_pred: ['-16.39', '-19.15', '-46.83', '-20.38', '-30.73', '-24.61', '-24.70', '-27.68', '-23.36', '-26.91']\n",
      "Max y_pred: ['16.31', '33.49', '24.81', '35.88', '30.23', '23.11', '33.83', '23.28', '21.78', '32.14']\n",
      "Min NTK_labeled: ['-2.33', '-2.18', '-2.36', '-1.55', '-2.12', '-2.03', '-2.79', '-1.78', '-2.06', '-2.21']\n",
      "Max NTK_labeled: ['66.91', '89.01', '84.26', '75.37', '86.18', '75.19', '79.51', '79.99', '71.35', '71.51']\n",
      "Min NTK_unlabeled: ['-2.20', '-1.44', '-1.22', '-1.67', '-1.97', '-0.74', '-1.43', '-1.56', '-0.87', '-0.94']\n",
      "Max NTK_unlabeled: ['26.98', '24.61', '31.31', '24.82', '22.27', '19.04', '20.63', '19.59', '19.51', '15.99']\n",
      "Condition: ['1739', '1704', '1735', '1659', '1711', '1776', '1664', '1722', '1633', '1631']\n"
     ]
    }
   ],
   "source": [
    "data_params[\"learning_setting\"] = \"inductive\"\n",
    "data_params[\"n_trn_labeled\"] = 400\n",
    "model_params[\"regularizer\"] = 1\n",
    "model_params[\"solver\"] = \"QR\"\n",
    "model_params[\"pred_method\"] = \"krr\"\n",
    "n_seeds = 10\n",
    "run_exp(n_seeds, data_params, model_params, verbosity_params, other_params)"
   ]
  },
  {
   "cell_type": "code",
   "execution_count": 42,
   "metadata": {},
   "outputs": [],
   "source": [
    "import networkx as nx"
   ]
  },
  {
   "cell_type": "code",
   "execution_count": 69,
   "metadata": {},
   "outputs": [
    {
     "name": "stdout",
     "output_type": "stream",
     "text": [
      "[(0, {'features': array([0, 0]), 'label': -1}), (1, {'features': array([3, 4]), 'label': 1}), (2, {'features': array([-3, -5]), 'label': 1}), (3, {'features': array([100, 200]), 'label': 0})]\n",
      "[0, 2, 3]\n"
     ]
    }
   ],
   "source": [
    "A = np.array([[0, 0, 1, 1],[0,0,0,0], [1, 0, 0, 0], [1, 0, 0, 0]])\n",
    "G = nx.from_numpy_array(A)\n",
    "X = np.array([[0,0],[3, 4], [-3, -5], [100, 200]])\n",
    "y = [-1, 1, 1, 0]\n",
    "for n in G:\n",
    "    G.nodes[n][\"features\"] = X[n, :]\n",
    "    G.nodes[n][\"label\"] = y[n]\n",
    "print(G.nodes.data())\n",
    "G = max(nx.connected_components(G), key=len)\n",
    "print(list(G))"
   ]
  },
  {
   "cell_type": "code",
   "execution_count": null,
   "metadata": {},
   "outputs": [],
   "source": []
  }
 ],
 "metadata": {
  "kernelspec": {
   "display_name": "py311_ntk",
   "language": "python",
   "name": "python3"
  },
  "language_info": {
   "codemirror_mode": {
    "name": "ipython",
    "version": 3
   },
   "file_extension": ".py",
   "mimetype": "text/x-python",
   "name": "python",
   "nbconvert_exporter": "python",
   "pygments_lexer": "ipython3",
   "version": "3.11.5"
  }
 },
 "nbformat": 4,
 "nbformat_minor": 2
}
