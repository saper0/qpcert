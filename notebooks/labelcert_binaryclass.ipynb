{
 "cells": [
  {
   "cell_type": "code",
   "execution_count": null,
   "metadata": {},
   "outputs": [],
   "source": [
    "%load_ext autoreload\n",
    "%autoreload 2"
   ]
  },
  {
   "cell_type": "code",
   "execution_count": null,
   "metadata": {},
   "outputs": [],
   "source": [
    "import torch\n",
    "import numpy as np\n",
    "from common import prepare\n",
    "prepare()\n",
    "from exp_certify_label_binaryclass import run"
   ]
  },
  {
   "cell_type": "code",
   "execution_count": null,
   "metadata": {},
   "outputs": [],
   "source": [
    "# example model set to GCN. For other model defintions \n",
    "# check one of the config files under config/label_certification_collective\n",
    "model_params = dict(\n",
    "    label = \"GCN\", \n",
    "    model = \"GCN\", \n",
    "    normalization = \"row_normalization\",\n",
    "    activation = \"relu\",\n",
    "    depth = 1,\n",
    "    regularizer = 0.01,\n",
    "    pred_method = \"svm\",\n",
    "    bias = False,\n",
    "    alpha_tol = 1e-4,\n",
    "    solver = \"qplayer\",\n",
    ")\n",
    "\n",
    "certificate_params = dict(\n",
    "    delta = 0.01,\n",
    "    TimeLimit = 86400,\n",
    "    LogToConsole = 1,\n",
    "    OutputFlag = 1,\n",
    "    Threads = 2,\n",
    "    Presolve = 2\n",
    ")\n",
    "\n",
    "verbosity_params = dict(\n",
    "    debug_lvl = \"warning\"\n",
    ")  \n",
    "\n",
    "other_params = dict(\n",
    "    device = \"0\",\n",
    "    dtype = torch.float64,\n",
    "    allow_tf32 = False,\n",
    "    path_gurobi_license = \"path/to/your/gurobi/license\"\n",
    ")"
   ]
  },
  {
   "cell_type": "code",
   "execution_count": null,
   "metadata": {},
   "outputs": [],
   "source": [
    "seed = 0\n",
    "\n",
    "data_params = dict(\n",
    "    dataset = \"csbm\",\n",
    "    learning_setting = \"transductive\", \n",
    "    specification = dict(\n",
    "        classes = 2,\n",
    "        n_trn_labeled = 10,\n",
    "        n_trn_unlabeled = 0,\n",
    "        n_val = 10,\n",
    "        n_test = 180,\n",
    "        sigma = 1,\n",
    "        avg_within_class_degree = 1.58 * 2,\n",
    "        avg_between_class_degree = 0.37 * 2,\n",
    "        K = 1.5,\n",
    "        seed = 0 # used to generate the dataset & data split\n",
    "    )\n",
    ")\n",
    "'''\n",
    "example for CBA \n",
    "data_params = dict(\n",
    "    dataset = \"cba\",\n",
    "    learning_setting = \"transductive\", \n",
    "    specification = dict(\n",
    "        classes = 2,\n",
    "        n_trn_labeled = 10,\n",
    "        n_trn_unlabeled = 0,\n",
    "        n_val = 10,\n",
    "        n_test = 180,\n",
    "        sigma = 1,\n",
    "        avg_within_class_degree = 1.58 * 2,\n",
    "        avg_between_class_degree = 0.37 * 2,\n",
    "        K = 1.5,\n",
    "        m = 2,\n",
    "        seed = 0 # used to generate the dataset & data split\n",
    "    )\n",
    ")\n",
    "\n",
    "example for citeseerb or cora-mlb\n",
    "data_params = dict(\n",
    "    dataset = \"cora_ml_binary\", # use \"citeseer_binary\" for citeseer\n",
    "    learning_setting = \"transductive\", \n",
    "    specification = dict(\n",
    "        n_per_class = 10,\n",
    "        fraction_test = 0.01,\n",
    "        data_dir = \"./data\",\n",
    "        make_undirected = True,\n",
    "        balance_test = True,\n",
    "    )\n",
    ")\n",
    "'''"
   ]
  },
  {
   "cell_type": "code",
   "execution_count": null,
   "metadata": {},
   "outputs": [],
   "source": [
    "result = run(data_params, model_params, certificate_params, verbosity_params, other_params, seed)\n",
    "result"
   ]
  }
 ],
 "metadata": {
  "kernelspec": {
   "display_name": "py311",
   "language": "python",
   "name": "python3"
  },
  "language_info": {
   "codemirror_mode": {
    "name": "ipython",
    "version": 3
   },
   "file_extension": ".py",
   "mimetype": "text/x-python",
   "name": "python",
   "nbconvert_exporter": "python",
   "pygments_lexer": "ipython3",
   "version": "3.11.4"
  }
 },
 "nbformat": 4,
 "nbformat_minor": 2
}
