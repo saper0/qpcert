{
 "cells": [
  {
   "cell_type": "markdown",
   "metadata": {},
   "source": [
    "### Certify Backdoor (Cora-MLb)\n",
    "\n",
    "Given parametrization corresponds to backdoor unlabeled setting on Cora-MLb with p_adv=0.1."
   ]
  },
  {
   "cell_type": "code",
   "execution_count": null,
   "metadata": {},
   "outputs": [],
   "source": [
    "import torch\n",
    "import numpy as np\n",
    "from common import prepare\n",
    "prepare()\n",
    "from exp_qpcert_backdoor import run"
   ]
  },
  {
   "cell_type": "code",
   "execution_count": null,
   "metadata": {},
   "outputs": [],
   "source": [
    "seed = 0\n",
    "\n",
    "data_params = dict(\n",
    "    dataset = \"cora_ml_cont_binary\",\n",
    "    learning_setting = \"transductive\", # or \"transdructive\"\n",
    "    specification = dict(\n",
    "        n_per_class = 5,\n",
    "        fraction_test = 0.1,\n",
    "        data_dir = \"./data\",\n",
    "        make_undirected = True,\n",
    "        binary_attr = False,\n",
    "        balance_test = True,\n",
    "        seed = 0,\n",
    "    )\n",
    ")\n",
    "\n",
    "model_params = dict(\n",
    "    label = \"GCN\",\n",
    "    model = \"GCN\",\n",
    "    normalization = \"row_normalization\",\n",
    "    depth = 1,\n",
    "    regularizer = 0.75,\n",
    "    pred_method = \"svm\",\n",
    "    activation = \"relu\",\n",
    "    solver = \"qplayer\",\n",
    "    alpha_tol = 1e-4,\n",
    "    bias = False,\n",
    ")\n",
    "\n",
    "certificate_params = dict(\n",
    "    n_adversarial = 123,\n",
    "    n_backdoor_evals = 100, # Number of inductively added (backdoored) test nodes\n",
    "    perturbation_model = \"l2\", # Set to \"linf\" for linf-threat model\n",
    "    attack_nodes = \"test_backdoor\", # Change to \"train_val_backdoor\" for backdoor unlabeled setting\n",
    "    cert_method = \"bilevel_svm\",\n",
    "    delta = 0.1,\n",
    "    delta_absolute = True, \n",
    "    method = \"XXT\",\n",
    "    MIPFocus = 0,\n",
    "    LogToConsole = 0, # Set to 1 for detailed Gurobi Output/Log\n",
    "    OutputFlag = 0 # Set to 1 for detailed Gurobi Output/Log\n",
    ")\n",
    "\n",
    "verbosity_params = dict(\n",
    "    debug_lvl = \"warning\"\n",
    ")  \n",
    "\n",
    "other_params = dict(\n",
    "    device = \"cpu\",\n",
    "    debug = False,\n",
    "    dtype = torch.float64,\n",
    "    allow_tf32 = False,\n",
    "    path_gurobi_license=\"path/to/your/gurobi/license\"\n",
    ")"
   ]
  },
  {
   "cell_type": "code",
   "execution_count": null,
   "metadata": {},
   "outputs": [],
   "source": [
    "run(data_params, model_params, certificate_params, verbosity_params, other_params, seed)"
   ]
  }
 ],
 "metadata": {
  "kernelspec": {
   "display_name": "py311_ntk",
   "language": "python",
   "name": "python3"
  },
  "language_info": {
   "codemirror_mode": {
    "name": "ipython",
    "version": 3
   },
   "file_extension": ".py",
   "mimetype": "text/x-python",
   "name": "python",
   "nbconvert_exporter": "python",
   "pygments_lexer": "ipython3",
   "version": "3.11.5"
  }
 },
 "nbformat": 4,
 "nbformat_minor": 2
}
