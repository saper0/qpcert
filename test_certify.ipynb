{
 "cells": [
  {
   "cell_type": "code",
   "execution_count": 1,
   "metadata": {},
   "outputs": [],
   "source": [
    "%load_ext autoreload\n",
    "%autoreload 2"
   ]
  },
  {
   "cell_type": "code",
   "execution_count": 2,
   "metadata": {},
   "outputs": [],
   "source": [
    "import torch\n",
    "import numpy as np\n",
    "from exp_ntk_certify import run"
   ]
  },
  {
   "cell_type": "code",
   "execution_count": 3,
   "metadata": {},
   "outputs": [],
   "source": [
    "seed = 4\n",
    "\n",
    "data_params = dict(\n",
    "    dataset = \"csbm\",\n",
    "    learning_setting = \"transductive\", # or \"transdructive\"\n",
    "    specification = dict(\n",
    "        classes = 2,\n",
    "        n_trn_labeled = 40, \n",
    "        n_trn_unlabeled = 0,\n",
    "        n_val = 40,\n",
    "        n_test = 120,\n",
    "        sigma = 1,\n",
    "        avg_within_class_degree = 1.58 * 2,\n",
    "        avg_between_class_degree = 0.37 * 2,\n",
    "        K = 1.5,\n",
    "        seed = 4 # used to generate the dataset & data split\n",
    "    )\n",
    ")\n",
    "\n",
    "model_params = dict(\n",
    "    label = \"APPNP\",\n",
    "    model = \"APPNP\",\n",
    "    normalization = \"sym_normalization\",\n",
    "    alpha = 0.25,\n",
    "    iteration = 10,\n",
    "    depth = 1,\n",
    "    #regularizer = 1e-8\n",
    "    regularizer = 1,\n",
    "    pred_method = \"svm\",\n",
    "    activation = \"relu\"\n",
    ")\n",
    "\n",
    "certificate_params = dict(\n",
    "    n_adversarial = 1, # number adversarial nodes\n",
    "    perturbation_model = \"linf\",\n",
    "    delta = 0.01 # l0: local budget = delta * feature_dim\n",
    ")\n",
    "\n",
    "verbosity_params = dict(\n",
    "    debug_lvl = \"warning\"\n",
    ")  \n",
    "\n",
    "other_params = dict(\n",
    "    device = \"cpu\",\n",
    "    dtype = torch.float64,\n",
    "    allow_tf32 = False\n",
    ")"
   ]
  },
  {
   "cell_type": "code",
   "execution_count": 4,
   "metadata": {},
   "outputs": [
    {
     "name": "stderr",
     "output_type": "stream",
     "text": [
      "2024-04-15 09:52:52 (INFO): Starting experiment exp_ntk_cert_pois with configuration:\n",
      "2024-04-15 09:52:52 (INFO): data_params: {'dataset': 'csbm', 'learning_setting': 'transductive', 'specification': {'classes': 2, 'n_trn_labeled': 40, 'n_trn_unlabeled': 0, 'n_val': 40, 'n_test': 120, 'sigma': 1, 'avg_within_class_degree': 3.16, 'avg_between_class_degree': 0.74, 'K': 1.5, 'seed': 4}}\n",
      "2024-04-15 09:52:52 (INFO): model_params: {'label': 'APPNP', 'model': 'APPNP', 'normalization': 'sym_normalization', 'alpha': 0.25, 'iteration': 10, 'depth': 1, 'regularizer': 0.001, 'pred_method': 'svm', 'activation': 'relu', 'solver': 'qplayer', 'alpha_tol': 0.0001, 'bias': False}\n",
      "2024-04-15 09:52:52 (INFO): certification_params: {'n_adversarial': 10, 'perturbation_model': 'linf', 'delta': 0.1, 'delta_absolute': False, 'method': 'XXT', 'attack_nodes': 'test'}\n",
      "2024-04-15 09:52:52 (INFO): verbosity_params: {'debug_lvl': 'info'}\n",
      "2024-04-15 09:52:52 (INFO): other_params: {'device': 'cpu', 'dtype': torch.float64, 'allow_tf32': False, 'debug': False, 'path_gurobi_license': '/ceph/ssd/staff/gosl/app/gurobi.lic'}\n",
      "2024-04-15 09:52:52 (INFO): seed: 4\n",
      "2024-04-15 09:52:52 (INFO): CSBM(p=0.03176, q=0.00744)\n",
      "2024-04-15 09:52:53 (INFO): Delta: 0.0567\n",
      "2024-04-15 09:52:53 (INFO): Test accuracy: 0.824999988079071\n",
      "2024-04-15 09:52:53 (INFO): Train accuracy: 0.875\n",
      "2024-04-15 09:52:53 (INFO): Accuracy_lb_test: 0.824999988079071\n",
      "2024-04-15 09:52:53 (INFO): Accuracy_ub_test: 0.824999988079071\n",
      "2024-04-15 09:52:53 (INFO): Accuracy_lb_trn: 0.8999999761581421\n",
      "2024-04-15 09:52:53 (INFO): Accuracy_ub_trn: 0.862500011920929\n",
      "2024-04-15 09:52:53 (INFO): Certified accuracy (evasion): 0.9333333373069763\n",
      "2024-04-15 09:52:53 (INFO): Certified accuracy (evasion, trivial): 0.45\n",
      "2024-04-15 09:52:53 (INFO): Certified unrobustness (evasion): 0.0\n"
     ]
    },
    {
     "name": "stdout",
     "output_type": "stream",
     "text": [
      "CSBM mu:\n",
      "[0.28347334 0.28347334 0.28347334 0.28347334 0.28347334 0.28347334\n",
      " 0.28347334]\n",
      "80 alphas found: ['0.0010', '0.0010', '0.0010', '0.0010', '0.0010', '0.0010', '0.0010', '0.0010', '0.0010', '0.0010', '0.0010', '0.0010', '0.0010', '0.0010', '0.0010', '0.0010', '0.0010', '0.0010', '0.0010', '0.0010', '0.0010', '0.0010', '0.0010', '0.0010', '0.0010', '0.0010', '0.0010', '0.0010', '0.0010', '0.0010', '0.0010', '0.0010', '0.0010', '0.0010', '0.0010', '0.0010', '0.0010', '0.0010', '0.0010', '0.0010', '0.0010', '0.0010', '0.0010', '0.0010', '0.0010', '0.0010', '0.0010', '0.0010', '0.0010', '0.0010', '0.0010', '0.0010', '0.0010', '0.0010', '0.0010', '0.0010', '0.0010', '0.0010', '0.0010', '0.0010', '0.0010', '0.0010', '0.0010', '0.0010', '0.0010', '0.0010', '0.0010', '0.0010', '0.0010', '0.0010', '0.0010', '0.0010', '0.0010', '0.0010', '0.0010', '0.0010', '0.0010', '0.0010', '0.0010', '0.0010']\n",
      "Set parameter Username\n"
     ]
    },
    {
     "name": "stderr",
     "output_type": "stream",
     "text": [
      "2024-04-15 09:52:53 (INFO): Set parameter Username\n"
     ]
    },
    {
     "name": "stdout",
     "output_type": "stream",
     "text": [
      "Academic license - for non-commercial use only - expires 2025-03-26\n"
     ]
    },
    {
     "name": "stderr",
     "output_type": "stream",
     "text": [
      "2024-04-15 09:52:53 (INFO): Academic license - for non-commercial use only - expires 2025-03-26\n"
     ]
    },
    {
     "name": "stdout",
     "output_type": "stream",
     "text": [
      "Set parameter BestObjStop to value 0\n"
     ]
    },
    {
     "name": "stderr",
     "output_type": "stream",
     "text": [
      "2024-04-15 09:52:53 (INFO): Set parameter BestObjStop to value 0\n"
     ]
    },
    {
     "name": "stdout",
     "output_type": "stream",
     "text": [
      "Set parameter IntegralityFocus to value 1\n"
     ]
    },
    {
     "name": "stderr",
     "output_type": "stream",
     "text": [
      "2024-04-15 09:52:53 (INFO): Set parameter IntegralityFocus to value 1\n"
     ]
    },
    {
     "name": "stdout",
     "output_type": "stream",
     "text": [
      "Set parameter IntFeasTol to value 0.0001\n"
     ]
    },
    {
     "name": "stderr",
     "output_type": "stream",
     "text": [
      "2024-04-15 09:52:53 (INFO): Set parameter IntFeasTol to value 0.0001\n",
      "2024-04-15 09:52:53 (INFO): Optimization status: 2\n",
      "2024-04-15 09:52:53 (INFO): Original -0.02361, Opt objective -0.02054\n",
      "2024-04-15 09:52:53 (INFO): Robust count 1 out of 1\n"
     ]
    },
    {
     "name": "stdout",
     "output_type": "stream",
     "text": [
      "Loaded user MIP start with objective -0.0236138\n",
      "\n",
      "Set parameter BestObjStop to value 0\n"
     ]
    },
    {
     "name": "stderr",
     "output_type": "stream",
     "text": [
      "2024-04-15 09:52:54 (INFO): Set parameter BestObjStop to value 0\n"
     ]
    },
    {
     "name": "stdout",
     "output_type": "stream",
     "text": [
      "Set parameter IntegralityFocus to value 1\n"
     ]
    },
    {
     "name": "stderr",
     "output_type": "stream",
     "text": [
      "2024-04-15 09:52:54 (INFO): Set parameter IntegralityFocus to value 1\n"
     ]
    },
    {
     "name": "stdout",
     "output_type": "stream",
     "text": [
      "Set parameter IntFeasTol to value 0.0001\n"
     ]
    },
    {
     "name": "stderr",
     "output_type": "stream",
     "text": [
      "2024-04-15 09:52:54 (INFO): Set parameter IntFeasTol to value 0.0001\n",
      "2024-04-15 09:52:54 (INFO): Optimization status: 2\n",
      "2024-04-15 09:52:54 (INFO): Original -0.03262, Opt objective -0.03081\n",
      "2024-04-15 09:52:54 (INFO): Robust count 2 out of 2\n"
     ]
    },
    {
     "name": "stdout",
     "output_type": "stream",
     "text": [
      "Loaded user MIP start with objective -0.0326179\n",
      "\n",
      "Set parameter BestObjStop to value 0\n"
     ]
    },
    {
     "name": "stderr",
     "output_type": "stream",
     "text": [
      "2024-04-15 09:52:54 (INFO): Set parameter BestObjStop to value 0\n"
     ]
    },
    {
     "name": "stdout",
     "output_type": "stream",
     "text": [
      "Set parameter IntegralityFocus to value 1\n"
     ]
    },
    {
     "name": "stderr",
     "output_type": "stream",
     "text": [
      "2024-04-15 09:52:54 (INFO): Set parameter IntegralityFocus to value 1\n"
     ]
    },
    {
     "name": "stdout",
     "output_type": "stream",
     "text": [
      "Set parameter IntFeasTol to value 0.0001\n"
     ]
    },
    {
     "name": "stderr",
     "output_type": "stream",
     "text": [
      "2024-04-15 09:52:54 (INFO): Set parameter IntFeasTol to value 0.0001\n",
      "2024-04-15 09:52:55 (INFO): Optimization status: 2\n",
      "2024-04-15 09:52:55 (INFO): Original 0.04060, Opt objective 0.03827\n",
      "2024-04-15 09:52:55 (INFO): Robust count 3 out of 3\n"
     ]
    },
    {
     "name": "stdout",
     "output_type": "stream",
     "text": [
      "Loaded user MIP start with objective 0.0406014\n",
      "\n",
      "Set parameter BestObjStop to value 0\n"
     ]
    },
    {
     "name": "stderr",
     "output_type": "stream",
     "text": [
      "2024-04-15 09:52:55 (INFO): Set parameter BestObjStop to value 0\n"
     ]
    },
    {
     "name": "stdout",
     "output_type": "stream",
     "text": [
      "Set parameter IntegralityFocus to value 1\n"
     ]
    },
    {
     "name": "stderr",
     "output_type": "stream",
     "text": [
      "2024-04-15 09:52:55 (INFO): Set parameter IntegralityFocus to value 1\n"
     ]
    },
    {
     "name": "stdout",
     "output_type": "stream",
     "text": [
      "Set parameter IntFeasTol to value 0.0001\n"
     ]
    },
    {
     "name": "stderr",
     "output_type": "stream",
     "text": [
      "2024-04-15 09:52:55 (INFO): Set parameter IntFeasTol to value 0.0001\n",
      "2024-04-15 09:52:55 (INFO): Optimization status: 2\n",
      "2024-04-15 09:52:55 (INFO): Original -0.01851, Opt objective -0.01667\n",
      "2024-04-15 09:52:55 (INFO): Robust count 4 out of 4\n"
     ]
    },
    {
     "name": "stdout",
     "output_type": "stream",
     "text": [
      "Loaded user MIP start with objective -0.0185149\n",
      "\n",
      "Set parameter BestObjStop to value 0\n"
     ]
    },
    {
     "name": "stderr",
     "output_type": "stream",
     "text": [
      "2024-04-15 09:52:56 (INFO): Set parameter BestObjStop to value 0\n"
     ]
    },
    {
     "name": "stdout",
     "output_type": "stream",
     "text": [
      "Set parameter IntegralityFocus to value 1\n"
     ]
    },
    {
     "name": "stderr",
     "output_type": "stream",
     "text": [
      "2024-04-15 09:52:56 (INFO): Set parameter IntegralityFocus to value 1\n"
     ]
    },
    {
     "name": "stdout",
     "output_type": "stream",
     "text": [
      "Set parameter IntFeasTol to value 0.0001\n"
     ]
    },
    {
     "name": "stderr",
     "output_type": "stream",
     "text": [
      "2024-04-15 09:52:56 (INFO): Set parameter IntFeasTol to value 0.0001\n",
      "2024-04-15 09:52:56 (INFO): Optimization status: 2\n",
      "2024-04-15 09:52:56 (INFO): Original 0.02771, Opt objective 0.02593\n",
      "2024-04-15 09:52:56 (INFO): Robust count 5 out of 5\n"
     ]
    },
    {
     "name": "stdout",
     "output_type": "stream",
     "text": [
      "Loaded user MIP start with objective 0.0277063\n",
      "\n",
      "Set parameter BestObjStop to value 0\n"
     ]
    },
    {
     "name": "stderr",
     "output_type": "stream",
     "text": [
      "2024-04-15 09:52:56 (INFO): Set parameter BestObjStop to value 0\n"
     ]
    },
    {
     "name": "stdout",
     "output_type": "stream",
     "text": [
      "Set parameter IntegralityFocus to value 1\n"
     ]
    },
    {
     "name": "stderr",
     "output_type": "stream",
     "text": [
      "2024-04-15 09:52:56 (INFO): Set parameter IntegralityFocus to value 1\n"
     ]
    },
    {
     "name": "stdout",
     "output_type": "stream",
     "text": [
      "Set parameter IntFeasTol to value 0.0001\n"
     ]
    },
    {
     "name": "stderr",
     "output_type": "stream",
     "text": [
      "2024-04-15 09:52:56 (INFO): Set parameter IntFeasTol to value 0.0001\n",
      "2024-04-15 09:52:56 (INFO): Optimization status: 2\n",
      "2024-04-15 09:52:56 (INFO): Original -0.06820, Opt objective -0.06705\n",
      "2024-04-15 09:52:56 (INFO): Robust count 6 out of 6\n"
     ]
    },
    {
     "name": "stdout",
     "output_type": "stream",
     "text": [
      "Loaded user MIP start with objective -0.0681954\n",
      "\n"
     ]
    },
    {
     "ename": "KeyboardInterrupt",
     "evalue": "",
     "output_type": "error",
     "traceback": [
      "\u001b[0;31m---------------------------------------------------------------------------\u001b[0m",
      "\u001b[0;31mKeyboardInterrupt\u001b[0m                         Traceback (most recent call last)",
      "Cell \u001b[0;32mIn[4], line 17\u001b[0m\n\u001b[1;32m     15\u001b[0m model_params[\u001b[38;5;124m\"\u001b[39m\u001b[38;5;124mbias\u001b[39m\u001b[38;5;124m\"\u001b[39m] \u001b[38;5;241m=\u001b[39m \u001b[38;5;28;01mFalse\u001b[39;00m\n\u001b[1;32m     16\u001b[0m data_params[\u001b[38;5;124m\"\u001b[39m\u001b[38;5;124mlearning_setting\u001b[39m\u001b[38;5;124m\"\u001b[39m] \u001b[38;5;241m=\u001b[39m \u001b[38;5;124m\"\u001b[39m\u001b[38;5;124mtransductive\u001b[39m\u001b[38;5;124m\"\u001b[39m\n\u001b[0;32m---> 17\u001b[0m \u001b[43mrun\u001b[49m\u001b[43m(\u001b[49m\u001b[43mdata_params\u001b[49m\u001b[43m,\u001b[49m\u001b[43m \u001b[49m\u001b[43mmodel_params\u001b[49m\u001b[43m,\u001b[49m\u001b[43m \u001b[49m\u001b[43mcertificate_params\u001b[49m\u001b[43m,\u001b[49m\u001b[43m \u001b[49m\u001b[43mverbosity_params\u001b[49m\u001b[43m,\u001b[49m\u001b[43m \u001b[49m\u001b[43mother_params\u001b[49m\u001b[43m,\u001b[49m\u001b[43m \u001b[49m\u001b[43mseed\u001b[49m\u001b[43m)\u001b[49m\n",
      "File \u001b[0;32m/ceph/ssd/staff/gosl/.conda/envs/py311_ntk/lib/python3.11/site-packages/sacred/config/captured_function.py:42\u001b[0m, in \u001b[0;36mcaptured_function\u001b[0;34m(wrapped, instance, args, kwargs)\u001b[0m\n\u001b[1;32m     40\u001b[0m \u001b[38;5;66;03m# =================== run actual function =================================\u001b[39;00m\n\u001b[1;32m     41\u001b[0m \u001b[38;5;28;01mwith\u001b[39;00m ConfigError\u001b[38;5;241m.\u001b[39mtrack(wrapped\u001b[38;5;241m.\u001b[39mconfig, wrapped\u001b[38;5;241m.\u001b[39mprefix):\n\u001b[0;32m---> 42\u001b[0m     result \u001b[38;5;241m=\u001b[39m \u001b[43mwrapped\u001b[49m\u001b[43m(\u001b[49m\u001b[38;5;241;43m*\u001b[39;49m\u001b[43margs\u001b[49m\u001b[43m,\u001b[49m\u001b[43m \u001b[49m\u001b[38;5;241;43m*\u001b[39;49m\u001b[38;5;241;43m*\u001b[39;49m\u001b[43mkwargs\u001b[49m\u001b[43m)\u001b[49m\n\u001b[1;32m     43\u001b[0m \u001b[38;5;66;03m# =========================================================================\u001b[39;00m\n\u001b[1;32m     44\u001b[0m \u001b[38;5;28;01mif\u001b[39;00m wrapped\u001b[38;5;241m.\u001b[39mlogger \u001b[38;5;129;01mis\u001b[39;00m \u001b[38;5;129;01mnot\u001b[39;00m \u001b[38;5;28;01mNone\u001b[39;00m:\n",
      "File \u001b[0;32m/ceph/ssd/staff/gosl/src/ntk-robust/exp_ntk_cert_pois.py:312\u001b[0m, in \u001b[0;36mrun\u001b[0;34m(data_params, model_params, certificate_params, verbosity_params, other_params, seed, _run)\u001b[0m\n\u001b[1;32m    310\u001b[0m \u001b[38;5;66;03m# Poisoning Certificate\u001b[39;00m\n\u001b[1;32m    311\u001b[0m svm_alpha \u001b[38;5;241m=\u001b[39m ntk\u001b[38;5;241m.\u001b[39msvm\n\u001b[0;32m--> 312\u001b[0m is_robust_l, obj_l, opt_status_l \u001b[38;5;241m=\u001b[39m \u001b[43mutils\u001b[49m\u001b[38;5;241;43m.\u001b[39;49m\u001b[43mcertify_robust_bilevel_svm\u001b[49m\u001b[43m(\u001b[49m\n\u001b[1;32m    313\u001b[0m \u001b[43m        \u001b[49m\u001b[43midx_labeled\u001b[49m\u001b[43m,\u001b[49m\u001b[43m \u001b[49m\u001b[43midx_test\u001b[49m\u001b[43m,\u001b[49m\u001b[43m \u001b[49m\u001b[43mntk_test\u001b[49m\u001b[43m,\u001b[49m\u001b[43m \u001b[49m\u001b[43mntk_lb\u001b[49m\u001b[43m,\u001b[49m\u001b[43m \u001b[49m\u001b[43mntk_ub\u001b[49m\u001b[43m,\u001b[49m\u001b[43m \u001b[49m\u001b[43my\u001b[49m\u001b[43m,\u001b[49m\u001b[43m \u001b[49m\u001b[43my_pred\u001b[49m\u001b[43m,\u001b[49m\n\u001b[1;32m    314\u001b[0m \u001b[43m        \u001b[49m\u001b[43msvm_alpha\u001b[49m\u001b[43m,\u001b[49m\u001b[43m \u001b[49m\u001b[43mC\u001b[49m\u001b[38;5;241;43m=\u001b[39;49m\u001b[43mmodel_params\u001b[49m\u001b[43m[\u001b[49m\u001b[38;5;124;43m\"\u001b[39;49m\u001b[38;5;124;43mregularizer\u001b[39;49m\u001b[38;5;124;43m\"\u001b[39;49m\u001b[43m]\u001b[49m\u001b[43m,\u001b[49m\u001b[43m \u001b[49m\u001b[43mM\u001b[49m\u001b[38;5;241;43m=\u001b[39;49m\u001b[38;5;241;43m1e3\u001b[39;49m\u001b[43m,\u001b[49m\u001b[43m \u001b[49m\u001b[43mMprime\u001b[49m\u001b[38;5;241;43m=\u001b[39;49m\u001b[38;5;241;43m1e3\u001b[39;49m\n\u001b[1;32m    315\u001b[0m \u001b[43m\u001b[49m\u001b[43m)\u001b[49m\n\u001b[1;32m    316\u001b[0m acc_cert \u001b[38;5;241m=\u001b[39m \u001b[38;5;28msum\u001b[39m(is_robust_l) \u001b[38;5;241m/\u001b[39m y_pred\u001b[38;5;241m.\u001b[39mshape[\u001b[38;5;241m0\u001b[39m]\n\u001b[1;32m    317\u001b[0m acc_cert_u \u001b[38;5;241m=\u001b[39m \u001b[38;5;241m0\u001b[39m \u001b[38;5;66;03m#not implemented\u001b[39;00m\n",
      "File \u001b[0;32m/ceph/ssd/staff/gosl/src/ntk-robust/src/utils.py:215\u001b[0m, in \u001b[0;36mcertify_robust_bilevel_svm\u001b[0;34m(idx_labeled, idx_test, ntk, ntk_lb, ntk_ub, y, y_pred, svm_alpha, C, M, Mprime, milp)\u001b[0m\n\u001b[1;32m    212\u001b[0m     t \u001b[38;5;241m=\u001b[39m m\u001b[38;5;241m.\u001b[39maddMVar(shape\u001b[38;5;241m=\u001b[39mn_labeled, vtype\u001b[38;5;241m=\u001b[39mGRB\u001b[38;5;241m.\u001b[39mBINARY, name\u001b[38;5;241m=\u001b[39m\u001b[38;5;124m\"\u001b[39m\u001b[38;5;124mt\u001b[39m\u001b[38;5;124m\"\u001b[39m)\n\u001b[1;32m    214\u001b[0m \u001b[38;5;66;03m# Add constraints\u001b[39;00m\n\u001b[0;32m--> 215\u001b[0m m\u001b[38;5;241m.\u001b[39maddConstr(\u001b[43mz\u001b[49m\u001b[43m \u001b[49m\u001b[38;5;241;43m<\u001b[39;49m\u001b[38;5;241;43m=\u001b[39;49m\u001b[43m \u001b[49m\u001b[43mntk_labeled_ub\u001b[49m\u001b[43m \u001b[49m\u001b[38;5;241;43m*\u001b[39;49m\u001b[43m \u001b[49m\u001b[43malpha\u001b[49m, \u001b[38;5;124m\"\u001b[39m\u001b[38;5;124mz_ub\u001b[39m\u001b[38;5;124m\"\u001b[39m)\n\u001b[1;32m    216\u001b[0m m\u001b[38;5;241m.\u001b[39maddConstr(z \u001b[38;5;241m>\u001b[39m\u001b[38;5;241m=\u001b[39m ntk_labeled_lb \u001b[38;5;241m*\u001b[39m alpha, \u001b[38;5;124m\"\u001b[39m\u001b[38;5;124mz_lb\u001b[39m\u001b[38;5;124m\"\u001b[39m)\n\u001b[1;32m    217\u001b[0m m\u001b[38;5;241m.\u001b[39maddConstr(z_test \u001b[38;5;241m<\u001b[39m\u001b[38;5;241m=\u001b[39m ntk_unlabeled_ub[idx,:]\u001b[38;5;241m.\u001b[39mreshape(\u001b[38;5;241m1\u001b[39m,\u001b[38;5;241m-\u001b[39m\u001b[38;5;241m1\u001b[39m) \u001b[38;5;241m*\u001b[39m alpha, \u001b[38;5;124m\"\u001b[39m\u001b[38;5;124mz_test_ub\u001b[39m\u001b[38;5;124m\"\u001b[39m)\n",
      "File \u001b[0;32msrc/gurobipy/mvar.pxi:663\u001b[0m, in \u001b[0;36mgurobipy.MVar.__le__\u001b[0;34m()\u001b[0m\n",
      "File \u001b[0;32msrc/gurobipy/tempconstr.pxi:22\u001b[0m, in \u001b[0;36mgurobipy.TempConstr.__init__\u001b[0;34m()\u001b[0m\n",
      "File \u001b[0;32msrc/gurobipy/mvar.pxi:363\u001b[0m, in \u001b[0;36mgurobipy.MVar.__sub__\u001b[0;34m()\u001b[0m\n",
      "File \u001b[0;32msrc/gurobipy/mlinexpr.pxi:1383\u001b[0m, in \u001b[0;36mgurobipy.MLinExpr.__sub__\u001b[0;34m()\u001b[0m\n",
      "File \u001b[0;32msrc/gurobipy/mlinexpr.pxi:1760\u001b[0m, in \u001b[0;36mgurobipy.MLinExpr.__rmul__\u001b[0;34m()\u001b[0m\n",
      "File \u001b[0;32m/ceph/ssd/staff/gosl/.conda/envs/py311_ntk/lib/python3.11/site-packages/scipy/sparse/_base.py:1461\u001b[0m, in \u001b[0;36missparse\u001b[0;34m(x)\u001b[0m\n\u001b[1;32m   1456\u001b[0m     \u001b[38;5;28;01mpass\u001b[39;00m\n\u001b[1;32m   1458\u001b[0m sparray\u001b[38;5;241m.\u001b[39m\u001b[38;5;18m__doc__\u001b[39m \u001b[38;5;241m=\u001b[39m _spbase\u001b[38;5;241m.\u001b[39m\u001b[38;5;18m__doc__\u001b[39m\n\u001b[0;32m-> 1461\u001b[0m \u001b[38;5;28;01mdef\u001b[39;00m \u001b[38;5;21missparse\u001b[39m(x):\n\u001b[1;32m   1462\u001b[0m \u001b[38;5;250m    \u001b[39m\u001b[38;5;124;03m\"\"\"Is `x` of a sparse array type?\u001b[39;00m\n\u001b[1;32m   1463\u001b[0m \n\u001b[1;32m   1464\u001b[0m \u001b[38;5;124;03m    Parameters\u001b[39;00m\n\u001b[0;32m   (...)\u001b[0m\n\u001b[1;32m   1485\u001b[0m \u001b[38;5;124;03m    False\u001b[39;00m\n\u001b[1;32m   1486\u001b[0m \u001b[38;5;124;03m    \"\"\"\u001b[39;00m\n\u001b[1;32m   1487\u001b[0m     \u001b[38;5;28;01mreturn\u001b[39;00m \u001b[38;5;28misinstance\u001b[39m(x, _spbase)\n",
      "\u001b[0;31mKeyboardInterrupt\u001b[0m: "
     ]
    }
   ],
   "source": [
    "#model_params[\"cache_size\"] = 10000\n",
    "other_params[\"device\"] = \"cpu\"\n",
    "other_params[\"debug\"] = False\n",
    "certificate_params[\"n_adversarial\"] = 10\n",
    "certificate_params[\"delta\"] = 0.1\n",
    "certificate_params[\"delta_absolute\"] = False\n",
    "certificate_params[\"method\"] = \"XXT\"\n",
    "certificate_params[\"perturbation_model\"] = \"linf\"\n",
    "certificate_params[\"attack_nodes\"] = \"test\"\n",
    "other_params[\"path_gurobi_license\"] = \"/ceph/ssd/staff/gosl/app/gurobi.lic\"\n",
    "verbosity_params[\"debug_lvl\"] = \"info\"\n",
    "model_params[\"regularizer\"] = 0.001\n",
    "model_params[\"solver\"] = \"qplayer\"\n",
    "model_params[\"alpha_tol\"] = 1e-4\n",
    "model_params[\"bias\"] = False\n",
    "data_params[\"learning_setting\"] = \"transductive\"\n",
    "run(data_params, model_params, certificate_params, verbosity_params, other_params, seed)"
   ]
  },
  {
   "cell_type": "code",
   "execution_count": 32,
   "metadata": {},
   "outputs": [
    {
     "name": "stderr",
     "output_type": "stream",
     "text": [
      "2024-04-12 14:55:17 (INFO): Starting experiment exp_ntk_cert_pois with configuration:\n",
      "2024-04-12 14:55:17 (INFO): data_params: {'dataset': 'csbm', 'learning_setting': 'transductive', 'specification': {'classes': 2, 'n_trn_labeled': 40, 'n_trn_unlabeled': 0, 'n_val': 40, 'n_test': 5, 'sigma': 1, 'avg_within_class_degree': 3.16, 'avg_between_class_degree': 0.74, 'K': 1.5, 'seed': 10}}\n",
      "2024-04-12 14:55:17 (INFO): model_params: {'label': 'GCN', 'model': 'GCN', 'normalization': 'row_normalization', 'depth': 1, 'regularizer': 0.01, 'pred_method': 'svm', 'activation': 'relu', 'cache_size': 10000, 'solver': 'qplayer', 'alpha_tol': 1e-08, 'bias': False}\n",
      "2024-04-12 14:55:17 (INFO): certification_params: {'n_adversarial': 50, 'perturbation_model': 'linf', 'delta': 0.01, 'method': 'XXT', 'attack_nodes': 'all', 'cert_method': 'ntk_bound'}\n",
      "2024-04-12 14:55:17 (INFO): verbosity_params: {'debug_lvl': 'info'}\n",
      "2024-04-12 14:55:17 (INFO): other_params: {'device': 'cpu', 'dtype': torch.float64, 'allow_tf32': False, 'debug': False}\n",
      "2024-04-12 14:55:17 (INFO): seed: 0\n",
      "2024-04-12 14:55:17 (INFO): CSBM(p=0.07524, q=0.01762)\n",
      "2024-04-12 14:55:17 (INFO): Test accuracy: 1.0\n",
      "2024-04-12 14:55:17 (INFO): Train accuracy: 0.8125\n",
      "2024-04-12 14:55:17 (INFO): Accuracy_lb_test: 0.6000000238418579\n",
      "2024-04-12 14:55:17 (INFO): Accuracy_ub_test: 0.800000011920929\n",
      "2024-04-12 14:55:17 (INFO): Accuracy_lb_trn: 0.7250000238418579\n",
      "2024-04-12 14:55:17 (INFO): Accuracy_ub_trn: 0.862500011920929\n",
      "2024-04-12 14:55:17 (INFO): Certified accuracy (evasion): 0.4000000059604645\n",
      "2024-04-12 14:55:17 (INFO): Certified accuracy (evasion, trivial): 0.0\n",
      "2024-04-12 14:55:17 (INFO): Certified unrobustness (evasion): 0.0\n"
     ]
    },
    {
     "name": "stdout",
     "output_type": "stream",
     "text": [
      "CSBM mu:\n",
      "[0.375 0.375 0.375 0.375]\n",
      "80 alphas found: ['0.0100', '0.0100', '0.0100', '0.0100', '0.0100', '0.0100', '0.0100', '0.0100', '0.0100', '0.0100', '0.0100', '0.0100', '0.0100', '0.0100', '0.0100', '0.0100', '0.0100', '0.0100', '0.0100', '0.0100', '0.0100', '0.0100', '0.0100', '0.0100', '0.0100', '0.0100', '0.0100', '0.0100', '0.0100', '0.0100', '0.0100', '0.0100', '0.0100', '0.0100', '0.0100', '0.0100', '0.0100', '0.0100', '0.0100', '0.0100', '0.0100', '0.0100', '0.0100', '0.0100', '0.0100', '0.0100', '0.0100', '0.0100', '0.0100', '0.0100', '0.0100', '0.0100', '0.0100', '0.0100', '0.0100', '0.0100', '0.0100', '0.0100', '0.0100', '0.0100', '0.0100', '0.0100', '0.0100', '0.0100', '0.0100', '0.0100', '0.0100', '0.0100', '0.0100', '0.0100', '0.0100', '0.0100', '0.0100', '0.0100', '0.0100', '0.0100', '0.0100', '0.0100', '0.0100', '0.0100']\n",
      "Set parameter BestObjStop to value 0\n"
     ]
    },
    {
     "name": "stderr",
     "output_type": "stream",
     "text": [
      "2024-04-12 14:55:17 (INFO): Set parameter BestObjStop to value 0\n"
     ]
    },
    {
     "name": "stdout",
     "output_type": "stream",
     "text": [
      "Set parameter IntegralityFocus to value 1\n"
     ]
    },
    {
     "name": "stderr",
     "output_type": "stream",
     "text": [
      "2024-04-12 14:55:17 (INFO): Set parameter IntegralityFocus to value 1\n"
     ]
    },
    {
     "name": "stdout",
     "output_type": "stream",
     "text": [
      "Set parameter IntFeasTol to value 0.0001\n"
     ]
    },
    {
     "name": "stderr",
     "output_type": "stream",
     "text": [
      "2024-04-12 14:55:17 (INFO): Set parameter IntFeasTol to value 0.0001\n",
      "2024-04-12 14:55:18 (INFO): Original -0.00811, Opt objective 0.08317\n",
      "2024-04-12 14:55:18 (INFO): Robust count 0 out of 1\n"
     ]
    },
    {
     "name": "stdout",
     "output_type": "stream",
     "text": [
      "Loaded user MIP start with objective -0.00811455\n",
      "\n",
      "Set parameter BestObjStop to value 0\n"
     ]
    },
    {
     "name": "stderr",
     "output_type": "stream",
     "text": [
      "2024-04-12 14:55:18 (INFO): Set parameter BestObjStop to value 0\n"
     ]
    },
    {
     "name": "stdout",
     "output_type": "stream",
     "text": [
      "Set parameter IntegralityFocus to value 1\n"
     ]
    },
    {
     "name": "stderr",
     "output_type": "stream",
     "text": [
      "2024-04-12 14:55:18 (INFO): Set parameter IntegralityFocus to value 1\n"
     ]
    },
    {
     "name": "stdout",
     "output_type": "stream",
     "text": [
      "Set parameter IntFeasTol to value 0.0001\n"
     ]
    },
    {
     "name": "stderr",
     "output_type": "stream",
     "text": [
      "2024-04-12 14:55:18 (INFO): Set parameter IntFeasTol to value 0.0001\n",
      "2024-04-12 14:55:18 (INFO): Original -0.13369, Opt objective -0.04406\n",
      "2024-04-12 14:55:18 (INFO): Robust count 1 out of 2\n"
     ]
    },
    {
     "name": "stdout",
     "output_type": "stream",
     "text": [
      "Loaded user MIP start with objective -0.13369\n",
      "\n",
      "Set parameter BestObjStop to value 0\n"
     ]
    },
    {
     "name": "stderr",
     "output_type": "stream",
     "text": [
      "2024-04-12 14:55:18 (INFO): Set parameter BestObjStop to value 0\n"
     ]
    },
    {
     "name": "stdout",
     "output_type": "stream",
     "text": [
      "Set parameter IntegralityFocus to value 1\n"
     ]
    },
    {
     "name": "stderr",
     "output_type": "stream",
     "text": [
      "2024-04-12 14:55:18 (INFO): Set parameter IntegralityFocus to value 1\n"
     ]
    },
    {
     "name": "stdout",
     "output_type": "stream",
     "text": [
      "Set parameter IntFeasTol to value 0.0001\n"
     ]
    },
    {
     "name": "stderr",
     "output_type": "stream",
     "text": [
      "2024-04-12 14:55:18 (INFO): Set parameter IntFeasTol to value 0.0001\n",
      "2024-04-12 14:55:19 (INFO): Original 0.17732, Opt objective 0.10940\n",
      "2024-04-12 14:55:19 (INFO): Robust count 2 out of 3\n"
     ]
    },
    {
     "name": "stdout",
     "output_type": "stream",
     "text": [
      "Loaded user MIP start with objective 0.177325\n",
      "\n",
      "Set parameter BestObjStop to value 0\n"
     ]
    },
    {
     "name": "stderr",
     "output_type": "stream",
     "text": [
      "2024-04-12 14:55:19 (INFO): Set parameter BestObjStop to value 0\n"
     ]
    },
    {
     "name": "stdout",
     "output_type": "stream",
     "text": [
      "Set parameter IntegralityFocus to value 1\n"
     ]
    },
    {
     "name": "stderr",
     "output_type": "stream",
     "text": [
      "2024-04-12 14:55:19 (INFO): Set parameter IntegralityFocus to value 1\n"
     ]
    },
    {
     "name": "stdout",
     "output_type": "stream",
     "text": [
      "Set parameter IntFeasTol to value 0.0001\n"
     ]
    },
    {
     "name": "stderr",
     "output_type": "stream",
     "text": [
      "2024-04-12 14:55:19 (INFO): Set parameter IntFeasTol to value 0.0001\n",
      "2024-04-12 14:55:19 (INFO): Original 0.06991, Opt objective -0.03322\n",
      "2024-04-12 14:55:19 (INFO): Robust count 2 out of 4\n"
     ]
    },
    {
     "name": "stdout",
     "output_type": "stream",
     "text": [
      "Loaded user MIP start with objective 0.0699078\n",
      "\n",
      "Set parameter BestObjStop to value 0\n"
     ]
    },
    {
     "name": "stderr",
     "output_type": "stream",
     "text": [
      "2024-04-12 14:55:19 (INFO): Set parameter BestObjStop to value 0\n"
     ]
    },
    {
     "name": "stdout",
     "output_type": "stream",
     "text": [
      "Set parameter IntegralityFocus to value 1\n"
     ]
    },
    {
     "name": "stderr",
     "output_type": "stream",
     "text": [
      "2024-04-12 14:55:19 (INFO): Set parameter IntegralityFocus to value 1\n"
     ]
    },
    {
     "name": "stdout",
     "output_type": "stream",
     "text": [
      "Set parameter IntFeasTol to value 0.0001\n"
     ]
    },
    {
     "name": "stderr",
     "output_type": "stream",
     "text": [
      "2024-04-12 14:55:19 (INFO): Set parameter IntFeasTol to value 0.0001\n",
      "2024-04-12 14:55:20 (INFO): Original 0.03263, Opt objective -0.05662\n",
      "2024-04-12 14:55:20 (INFO): Robust count 2 out of 5\n",
      "2024-04-12 14:55:20 (INFO): Certified accuracy (poisoning): 0.4\n"
     ]
    },
    {
     "name": "stdout",
     "output_type": "stream",
     "text": [
      "Loaded user MIP start with objective 0.0326337\n",
      "\n"
     ]
    },
    {
     "data": {
      "text/plain": [
       "{'accuracy_test': 1.0,\n",
       " 'accuracy_trn': 0.8125,\n",
       " 'accuracy_ub_test': 0.800000011920929,\n",
       " 'accuracy_lb_test': 0.6000000238418579,\n",
       " 'accuracy_ub_trn': 0.862500011920929,\n",
       " 'accuracy_lb_trn': 0.7250000238418579,\n",
       " 'accuracy_cert_evasion_trivial': 0.0,\n",
       " 'accuracy_cert_evasion_robust': 0.4000000059604645,\n",
       " 'accuracy_cert_evasion_unrobust': 0.0,\n",
       " 'accuracy_cert_pois_robust': 0.4,\n",
       " 'accuracy_cert_pois_unrobust': 0,\n",
       " 'y_true_cls': array([-1, -1,  1,  1,  1]),\n",
       " 'y_pred_logit': array([-0.00811455, -0.13369031,  0.17732461,  0.06990783,  0.03263369]),\n",
       " 'y_worst_obj': [0.08317413480441517,\n",
       "  -0.044058926281888414,\n",
       "  0.10940279116209606,\n",
       "  -0.03322156070834449,\n",
       "  -0.05661630497763761],\n",
       " 'y_is_robust': [False, True, True, False, False],\n",
       " 'y_opt_status': [2, 2, 2, 2, 2],\n",
       " 'idx_train': array([ 9, 31, 38, 13, 29, 18, 30, 23, 36,  5,  4, 25, 41, 40, 27, 15, 32,\n",
       "        33,  2,  7, 48, 44, 62, 83, 70, 82, 54, 47, 55, 77, 51, 66, 75, 60,\n",
       "        49, 52, 58, 42, 63, 53]),\n",
       " 'idx_val': array([ 6, 19, 12, 37, 17, 39,  1, 20, 28, 11,  3, 10, 26, 35, 14, 16, 34,\n",
       "         8, 21, 22, 61, 46, 71, 72, 81, 64, 78, 69, 79, 50, 59, 43, 68, 67,\n",
       "        65, 74, 45, 57, 76, 80]),\n",
       " 'idx_labeled': array([ 9, 31, 38, 13, 29, 18, 30, 23, 36,  5,  4, 25, 41, 40, 27, 15, 32,\n",
       "        33,  2,  7, 48, 44, 62, 83, 70, 82, 54, 47, 55, 77, 51, 66, 75, 60,\n",
       "        49, 52, 58, 42, 63, 53,  6, 19, 12, 37, 17, 39,  1, 20, 28, 11,  3,\n",
       "        10, 26, 35, 14, 16, 34,  8, 21, 22, 61, 46, 71, 72, 81, 64, 78, 69,\n",
       "        79, 50, 59, 43, 68, 67, 65, 74, 45, 57, 76, 80]),\n",
       " 'idx_test': array([ 0, 24, 84, 73, 56]),\n",
       " 'idx_adv': array([13, 45, 16, 51, 42, 26, 30,  7, 18,  4, 70, 58, 55, 15, 72, 22, 31,\n",
       "        50, 77, 14,  9, 59,  1, 83, 84, 73, 28, 57, 23, 12,  5, 38, 21, 10,\n",
       "        41, 25, 11, 56, 74, 79, 49, 66, 20, 75, 80, 44, 37, 63, 35, 52]),\n",
       " 'min_ypred': -0.13369031162946526,\n",
       " 'max_ypred': 0.17732461207370243,\n",
       " 'min_ylb': -0.2250280503399685,\n",
       " 'max_ylb': 0.10940279407085235,\n",
       " 'min_yub': -0.04405892255079419,\n",
       " 'max_yub': 0.24656275263006683,\n",
       " 'avg_ntklb': 0.5386728167133151,\n",
       " 'min_ntklb': -0.28856834314573626,\n",
       " 'max_ntklb': 8.05491578873122,\n",
       " 'avg_ntkub': 0.7649739654468773,\n",
       " 'min_ntkub': -0.1967617597541932,\n",
       " 'max_ntkub': 8.47751345847201,\n",
       " 'min_ntklabeled': -0.24142460975392485,\n",
       " 'max_ntklabeled': 8.300928909713798,\n",
       " 'avg_ntkunlabeled': 0.4413974527397404,\n",
       " 'min_ntkunlabeled': -0.017221658848134258,\n",
       " 'max_ntkunlabeled': 1.8419994813733813,\n",
       " 'cond': 3155534.0468870555,\n",
       " 'cond_regularized': 7145.173271757001}"
      ]
     },
     "execution_count": 32,
     "metadata": {},
     "output_type": "execute_result"
    }
   ],
   "source": [
    "model_params[\"cache_size\"] = 10000\n",
    "data_params[\"specification\"][\"avg_within_class_degree\"] = 1.58 * 2\n",
    "data_params[\"specification\"][\"avg_between_class_degree\"] = 0.37 * 2\n",
    "other_params[\"device\"] = \"cpu\"\n",
    "other_params[\"debug\"] = False\n",
    "certificate_params[\"n_adversarial\"] = 50\n",
    "certificate_params[\"delta\"] = 0.01\n",
    "certificate_params[\"method\"] = \"XXT\"\n",
    "certificate_params[\"perturbation_model\"] = \"linf\"\n",
    "certificate_params[\"cert_method\"] = \"ntk_bound\"\n",
    "verbosity_params[\"debug_lvl\"] = \"info\"\n",
    "model_params[\"regularizer\"] = 0.01\n",
    "model_params[\"solver\"] = \"qplayer\"\n",
    "model_params[\"alpha_tol\"] = 1e-8\n",
    "model_params[\"bias\"] = False\n",
    "data_params[\"learning_setting\"] = \"transductive\"\n",
    "run(data_params, model_params, certificate_params, verbosity_params, other_params, seed)"
   ]
  },
  {
   "cell_type": "code",
   "execution_count": 31,
   "metadata": {},
   "outputs": [
    {
     "name": "stderr",
     "output_type": "stream",
     "text": [
      "2024-04-11 16:19:07 (INFO): Starting experiment exp_ntk_certify with configuration:\n",
      "2024-04-11 16:19:07 (INFO): data_params: {'dataset': 'csbm', 'learning_setting': 'transductive', 'specification': {'classes': 2, 'n_trn_labeled': 40, 'n_trn_unlabeled': 0, 'n_val': 40, 'n_test': 120, 'sigma': 1, 'avg_within_class_degree': 3.16, 'avg_between_class_degree': 0.74, 'K': 1.5, 'seed': 10}}\n",
      "2024-04-11 16:19:07 (INFO): model_params: {'label': 'GCN', 'model': 'GCN', 'normalization': 'row_normalization', 'depth': 1, 'regularizer': 0.01, 'pred_method': 'svm', 'activation': 'relu', 'cache_size': 10000, 'solver': 'qplayer', 'alpha_tol': 1e-08, 'bias': False}\n",
      "2024-04-11 16:19:07 (INFO): certification_params: {'n_adversarial': 50, 'perturbation_model': 'linf', 'delta': 0.01, 'method': 'XXT', 'cert_method': 'ntk_bound'}\n",
      "2024-04-11 16:19:07 (INFO): verbosity_params: {'debug_lvl': 'info'}\n",
      "2024-04-11 16:19:07 (INFO): other_params: {'device': 'cpu', 'dtype': torch.float64, 'allow_tf32': False, 'debug': False}\n",
      "2024-04-11 16:19:07 (INFO): seed: 0\n",
      "2024-04-11 16:19:07 (INFO): CSBM(p=0.03176, q=0.00744)\n",
      "2024-04-11 16:19:07 (INFO): Accuracy 0.9583333134651184\n"
     ]
    },
    {
     "name": "stdout",
     "output_type": "stream",
     "text": [
      "CSBM mu:\n",
      "[0.28347334 0.28347334 0.28347334 0.28347334 0.28347334 0.28347334\n",
      " 0.28347334]\n",
      "79 alphas found: ['0.0100', '0.0100', '0.0100', '0.0100', '0.0100', '0.0100', '0.0100', '0.0100', '0.0100', '0.0100', '0.0100', '0.0100', '0.0100', '0.0100', '0.0100', '0.0100', '0.0100', '0.0100', '0.0100', '0.0100', '0.0100', '0.0100', '0.0100', '0.0100', '0.0100', '0.0100', '0.0100', '0.0100', '0.0100', '0.0100', '0.0100', '0.0100', '0.0100', '0.0100', '0.0100', '0.0100', '0.0100', '0.0100', '0.0100', '0.0100', '0.0100', '0.0100', '0.0100', '0.0100', '0.0100', '0.0100', '0.0100', '-0.0000', '0.0100', '0.0100', '0.0100', '0.0100', '0.0100', '0.0100', '0.0100', '0.0100', '0.0100', '0.0100', '0.0100', '0.0100', '0.0100', '0.0100', '0.0100', '0.0100', '0.0100', '0.0100', '0.0100', '0.0100', '0.0100', '0.0100', '0.0100', '0.0100', '0.0100', '0.0100', '0.0100', '0.0100', '0.0100', '0.0100', '0.0100', '0.0100']\n"
     ]
    },
    {
     "data": {
      "text/plain": [
       "{'accuracy': 0.9583333134651184,\n",
       " 'accuracy_ub': 0.949999988079071,\n",
       " 'accuracy_lb': 0.875,\n",
       " 'accuracy_cert_trivial': 0.03333333333333333,\n",
       " 'accuracy_cert': 0.8916666507720947,\n",
       " 'accuracy_cert_unrobust': 0.0,\n",
       " 'min_ypred': -0.8740060084083646,\n",
       " 'max_ypred': 0.5618288466640802,\n",
       " 'min_ylb': -0.9161557551719686,\n",
       " 'max_ylb': 0.5366682086876243,\n",
       " 'min_yub': -0.8320294475047423,\n",
       " 'max_yub': 0.5874174960891775,\n",
       " 'avg_ntklb': 0.7147890995803884,\n",
       " 'min_ntklb': -0.8603377072824947,\n",
       " 'max_ntklb': 18.429884713611802,\n",
       " 'avg_ntkub': 0.8326720075041864,\n",
       " 'min_ntkub': -0.8603377072824947,\n",
       " 'max_ntkub': 18.429884713611802,\n",
       " 'min_ntklabeled': -0.8603377072824947,\n",
       " 'max_ntklabeled': 18.439884713611804,\n",
       " 'avg_ntkunlabeled': 0.7765858675127242,\n",
       " 'min_ntkunlabeled': -0.6694073080411328,\n",
       " 'max_ntkunlabeled': 14.477873189149578,\n",
       " 'cond': 5678.371688934855}"
      ]
     },
     "execution_count": 31,
     "metadata": {},
     "output_type": "execute_result"
    }
   ],
   "source": [
    "model_params[\"cache_size\"] = 10000\n",
    "data_params[\"specification\"][\"avg_within_class_degree\"] = 1.58 * 2\n",
    "data_params[\"specification\"][\"avg_between_class_degree\"] = 0.37 * 2\n",
    "other_params[\"device\"] = \"cpu\"\n",
    "other_params[\"debug\"] = False\n",
    "certificate_params[\"n_adversarial\"] = 50\n",
    "certificate_params[\"delta\"] = 0.01\n",
    "certificate_params[\"method\"] = \"XXT\"\n",
    "certificate_params[\"perturbation_model\"] = \"linf\"\n",
    "certificate_params[\"cert_method\"] = \"ntk_bound\"\n",
    "verbosity_params[\"debug_lvl\"] = \"info\"\n",
    "model_params[\"regularizer\"] = 0.01\n",
    "model_params[\"solver\"] = \"qplayer\"\n",
    "model_params[\"alpha_tol\"] = 1e-8\n",
    "model_params[\"bias\"] = False\n",
    "data_params[\"learning_setting\"] = \"transductive\"\n",
    "run(data_params, model_params, certificate_params, verbosity_params, other_params, seed)"
   ]
  },
  {
   "cell_type": "code",
   "execution_count": null,
   "metadata": {},
   "outputs": [],
   "source": []
  },
  {
   "cell_type": "code",
   "execution_count": null,
   "metadata": {},
   "outputs": [],
   "source": []
  }
 ],
 "metadata": {
  "kernelspec": {
   "display_name": "py311_ntk",
   "language": "python",
   "name": "python3"
  },
  "language_info": {
   "codemirror_mode": {
    "name": "ipython",
    "version": 3
   },
   "file_extension": ".py",
   "mimetype": "text/x-python",
   "name": "python",
   "nbconvert_exporter": "python",
   "pygments_lexer": "ipython3",
   "version": "3.11.5"
  }
 },
 "nbformat": 4,
 "nbformat_minor": 2
}
