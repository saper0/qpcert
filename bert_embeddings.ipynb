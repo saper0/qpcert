{
 "cells": [
  {
   "cell_type": "code",
   "execution_count": 8,
   "metadata": {},
   "outputs": [],
   "source": [
    "# Reload modules automatically\n",
    "# https://ipython.readthedocs.io/en/stable/config/extensions/autoreload.html\n",
    "%load_ext autoreload\n",
    "%autoreload 2\n",
    "\n",
    "import numpy as np\n",
    "from src.data import get_bert_embeddings"
   ]
  },
  {
   "cell_type": "code",
   "execution_count": 4,
   "metadata": {},
   "outputs": [
    {
     "name": "stdout",
     "output_type": "stream",
     "text": [
      "idx_to_attr\n",
      "attr_indices\n",
      "attr_shape\n",
      "idx_to_node\n",
      "adj_shape\n",
      "adj_indptr\n",
      "adj_data\n",
      "labels\n",
      "attr_data\n",
      "adj_indices\n",
      "attr_indptr\n",
      "idx_to_class\n",
      "attr_text\n"
     ]
    }
   ],
   "source": [
    "cora_ml = np.load(\"data/cora_ml_cont.npz\", allow_pickle=True)\n",
    "for key in cora_ml.files:\n",
    "    print(key)"
   ]
  },
  {
   "cell_type": "code",
   "execution_count": 6,
   "metadata": {},
   "outputs": [
    {
     "name": "stdout",
     "output_type": "stream",
     "text": [
      "(2995,)\n",
      "Intelligent information retrieval (IIR) requires inference. The number of inferences that can be drawn by even a simple reasoner is very large, and the inferential resources available to any practical computer system are limited. This problem is one long faced by AI researchers. In this paper, we present a method used by two recent machine learning programs for control of inference that is relevant to the design of IIR systems. The key feature of the approach is the use of explicit representations of desired knowledge, which we call knowledge goals. Our theory addresses the representation of knowledge goals, methods for generating and transforming these goals, and heuristics for selecting among potential inferences in order to feasibly satisfy such goals. In this view, IIR becomes a kind of planning: decisions about what to infer, how to infer and when to infer are based on representations of desired knowledge, as well as internal representations of the system's inferential abilities and current state. The theory is illustrated using two case studies, a natural language understanding program that learns by reading novel newspaper stories, and a differential diagnosis program that improves its accuracy with experience. We conclude by making several suggestions on how this machine learning framework can be integrated with existing information retrieval methods.\n"
     ]
    }
   ],
   "source": [
    "print(cora_ml[\"attr_text\"].shape)\n",
    "print(cora_ml[\"attr_text\"][0])"
   ]
  },
  {
   "cell_type": "code",
   "execution_count": 8,
   "metadata": {},
   "outputs": [
    {
     "name": "stdout",
     "output_type": "stream",
     "text": [
      "Shape of Word Embeddings: torch.Size([2995, 512, 768])\n",
      "Sentence Embedding:\n",
      "tensor([[-1.9135e-01,  6.4667e-02,  1.8993e-01,  ..., -1.6080e-01,\n",
      "         -1.7751e-01,  2.3937e-01],\n",
      "        [-2.5575e-01,  2.4680e-04,  1.2752e-01,  ..., -1.2976e-01,\n",
      "         -1.1053e-01,  3.6560e-01],\n",
      "        [-4.5335e-01, -9.1186e-02,  1.3972e-01,  ...,  1.2050e-02,\n",
      "         -1.9787e-01,  4.0356e-01],\n",
      "        ...,\n",
      "        [-1.5729e-01, -9.1683e-02,  2.3520e-01,  ..., -7.6216e-02,\n",
      "         -8.9662e-02,  1.9302e-01],\n",
      "        [-1.9058e-01, -2.7066e-01,  1.3772e-01,  ..., -8.9506e-02,\n",
      "          5.8455e-02,  1.4177e-01],\n",
      "        [-2.4549e-01, -1.7800e-01,  5.5641e-01,  ..., -3.4057e-02,\n",
      "         -1.1472e-01,  4.4111e-01]])\n",
      "Shape of Sentence Embedding: torch.Size([2995, 768])\n"
     ]
    },
    {
     "data": {
      "text/plain": [
       "torch.Size([2995, 768])"
      ]
     },
     "execution_count": 8,
     "metadata": {},
     "output_type": "execute_result"
    }
   ],
   "source": [
    "sentence_embedding = get_bert_embeddings(list(cora_ml[\"attr_text\"]))\n",
    "sentence_embedding.shape"
   ]
  },
  {
   "cell_type": "code",
   "execution_count": 9,
   "metadata": {},
   "outputs": [],
   "source": [
    "sentence_embedding_array = sentence_embedding.cpu().detach().numpy()"
   ]
  },
  {
   "cell_type": "code",
   "execution_count": 10,
   "metadata": {},
   "outputs": [
    {
     "data": {
      "text/plain": [
       "(2995, 768)"
      ]
     },
     "execution_count": 10,
     "metadata": {},
     "output_type": "execute_result"
    }
   ],
   "source": [
    "sentence_embedding_array.shape"
   ]
  },
  {
   "cell_type": "code",
   "execution_count": 11,
   "metadata": {},
   "outputs": [],
   "source": [
    "# save to the data npz \n",
    "np.savez_compressed(\"data/cora_ml_cont.npz\", attr_bert_embedding=sentence_embedding_array, **cora_ml)"
   ]
  },
  {
   "cell_type": "code",
   "execution_count": 18,
   "metadata": {},
   "outputs": [
    {
     "name": "stdout",
     "output_type": "stream",
     "text": [
      "attr_bert_embedding\n",
      "idx_to_attr\n",
      "attr_indices\n",
      "attr_shape\n",
      "idx_to_node\n",
      "adj_shape\n",
      "adj_indptr\n",
      "adj_data\n",
      "labels\n",
      "attr_data\n",
      "adj_indices\n",
      "attr_indptr\n",
      "idx_to_class\n",
      "attr_text\n",
      "Labels [0 1 2 3 4 5 6]\n",
      "Bert embedding size (2995, 768)\n",
      "Bert embedding statistics: mean -0.009670339524745941, min -6.554511070251465, max 1.2402576208114624\n"
     ]
    }
   ],
   "source": [
    "# check the new cora_ml_cont.npz file\n",
    "cora_ml = np.load(\"data/cora_ml_cont.npz\", allow_pickle=True)\n",
    "for key in cora_ml.files:\n",
    "    print(key)\n",
    "print(f'Labels {np.unique(cora_ml[\"labels\"])}')\n",
    "print(f'Bert embedding size {cora_ml[\"attr_bert_embedding\"].shape}')\n",
    "print(f'Bert embedding statistics: mean {cora_ml[\"attr_bert_embedding\"].mean()}, min {cora_ml[\"attr_bert_embedding\"].min()}, max {cora_ml[\"attr_bert_embedding\"].max()}')\n"
   ]
  },
  {
   "cell_type": "code",
   "execution_count": 1,
   "metadata": {},
   "outputs": [],
   "source": [
    "import torch"
   ]
  },
  {
   "cell_type": "code",
   "execution_count": 2,
   "metadata": {},
   "outputs": [
    {
     "name": "stderr",
     "output_type": "stream",
     "text": [
      "/ceph/ssd/students/sabanaya/miniconda3/envs/gnn_robust_certificate/lib/python3.11/site-packages/tqdm/auto.py:21: TqdmWarning: IProgress not found. Please update jupyter and ipywidgets. See https://ipywidgets.readthedocs.io/en/stable/user_install.html\n",
      "  from .autonotebook import tqdm as notebook_tqdm\n",
      "WARNING:root:Importing setup_logger directly from seml is deprecated.\n",
      "Use from seml.experiment import setup_logger instead.\n",
      "Note that seml.experiment.Experiment already includes the logger setup.\n",
      "See https://github.com/TUM-DAML/seml/blob/master/examples/example_experiment.py\n"
     ]
    }
   ],
   "source": [
    "from exp_ntk_hyperparam import run"
   ]
  },
  {
   "cell_type": "code",
   "execution_count": 19,
   "metadata": {},
   "outputs": [],
   "source": [
    "seed = 0\n",
    "\n",
    "data_params = dict(\n",
    "    dataset = \"cora_ml\",\n",
    "    learning_setting = \"transductive\", # or \"transdructive\"\n",
    "    cv_folds = 2,\n",
    "    specification = dict(\n",
    "        n_per_class = 20,\n",
    "        fraction_test = 0.1,\n",
    "        data_dir = \"./data\",\n",
    "        make_undirected = True,\n",
    "        binary_attr = False,\n",
    "        balance_test = True,\n",
    "    )\n",
    ")\n",
    "\n",
    "model_params = dict(\n",
    "    label = \"GCN\",\n",
    "    model = \"GCN\",\n",
    "    normalization = \"row_normalization\",\n",
    "    activation = \"relu\",\n",
    "    depth = 1,\n",
    "    regularizer = 0.001,\n",
    "    pred_method = \"svm\",\n",
    "    bias = False,\n",
    "    solver = \"sklearn\",\n",
    "    alpha_tol = 1e-4,\n",
    "    multiclass_svm_method = \"simMSVM\"\n",
    ")\n",
    "\n",
    "certificate_params = dict(\n",
    "    n_adversarial = 10,\n",
    "    delta = 1e-3,\n",
    "    method = \"XXT\",\n",
    "    perturbation_model = \"l2\",\n",
    "    cert_method = \"bilevel_svm\",\n",
    "    attack_nodes = \"test\",\n",
    "    delta_absolute = True\n",
    ")\n",
    "\n",
    "verbosity_params = dict(\n",
    "    debug_lvl = \"debug\"\n",
    ")  \n",
    "\n",
    "other_params = dict(\n",
    "    device = \"0\",\n",
    "    dtype = torch.float64,\n",
    "    allow_tf32 = False,\n",
    "    debug = True\n",
    ")"
   ]
  },
  {
   "cell_type": "code",
   "execution_count": 21,
   "metadata": {},
   "outputs": [
    {
     "data": {
      "text/html": [
       "<pre style=\"white-space:pre;overflow-x:auto;line-height:normal;font-family:Menlo,'DejaVu Sans Mono',consolas,'Courier New',monospace\"><span style=\"color: #7fbfbf; text-decoration-color: #7fbfbf\">[12:13:04] </span><span style=\"color: #000080; text-decoration-color: #000080\">INFO    </span> Starting experiment                <a href=\"file:///ceph/ssd/students/sabanaya/ntk-robust/exp_ntk_hyperparam.py\" target=\"_blank\"><span style=\"color: #7f7f7f; text-decoration-color: #7f7f7f\">exp_ntk_hyperparam.py</span></a><span style=\"color: #7f7f7f; text-decoration-color: #7f7f7f\">:</span><a href=\"file:///ceph/ssd/students/sabanaya/ntk-robust/exp_ntk_hyperparam.py#113\" target=\"_blank\"><span style=\"color: #7f7f7f; text-decoration-color: #7f7f7f\">113</span></a>\n",
       "<span style=\"color: #7fbfbf; text-decoration-color: #7fbfbf\">           </span>         exp_ntk_hyperparam with            <span style=\"color: #7f7f7f; text-decoration-color: #7f7f7f\">                         </span>\n",
       "<span style=\"color: #7fbfbf; text-decoration-color: #7fbfbf\">           </span>         configuration:                     <span style=\"color: #7f7f7f; text-decoration-color: #7f7f7f\">                         </span>\n",
       "</pre>\n"
      ],
      "text/plain": [
       "\u001b[2;36m[12:13:04]\u001b[0m\u001b[2;36m \u001b[0m\u001b[34mINFO    \u001b[0m Starting experiment                \u001b]8;id=92156;file:///ceph/ssd/students/sabanaya/ntk-robust/exp_ntk_hyperparam.py\u001b\\\u001b[2mexp_ntk_hyperparam.py\u001b[0m\u001b]8;;\u001b\\\u001b[2m:\u001b[0m\u001b]8;id=684055;file:///ceph/ssd/students/sabanaya/ntk-robust/exp_ntk_hyperparam.py#113\u001b\\\u001b[2m113\u001b[0m\u001b]8;;\u001b\\\n",
       "\u001b[2;36m           \u001b[0m         exp_ntk_hyperparam with            \u001b[2m                         \u001b[0m\n",
       "\u001b[2;36m           \u001b[0m         configuration:                     \u001b[2m                         \u001b[0m\n"
      ]
     },
     "metadata": {},
     "output_type": "display_data"
    },
    {
     "data": {
      "text/html": [
       "<pre style=\"white-space:pre;overflow-x:auto;line-height:normal;font-family:Menlo,'DejaVu Sans Mono',consolas,'Courier New',monospace\"><span style=\"color: #7fbfbf; text-decoration-color: #7fbfbf\">           </span><span style=\"color: #000080; text-decoration-color: #000080\">INFO    </span> data_params: <span style=\"font-weight: bold\">{</span><span style=\"color: #008000; text-decoration-color: #008000\">'dataset'</span>:           <a href=\"file:///ceph/ssd/students/sabanaya/ntk-robust/exp_ntk_hyperparam.py\" target=\"_blank\"><span style=\"color: #7f7f7f; text-decoration-color: #7f7f7f\">exp_ntk_hyperparam.py</span></a><span style=\"color: #7f7f7f; text-decoration-color: #7f7f7f\">:</span><a href=\"file:///ceph/ssd/students/sabanaya/ntk-robust/exp_ntk_hyperparam.py#114\" target=\"_blank\"><span style=\"color: #7f7f7f; text-decoration-color: #7f7f7f\">114</span></a>\n",
       "<span style=\"color: #7fbfbf; text-decoration-color: #7fbfbf\">           </span>         <span style=\"color: #008000; text-decoration-color: #008000\">'cora_ml'</span>, <span style=\"color: #008000; text-decoration-color: #008000\">'learning_setting'</span>:     <span style=\"color: #7f7f7f; text-decoration-color: #7f7f7f\">                         </span>\n",
       "<span style=\"color: #7fbfbf; text-decoration-color: #7fbfbf\">           </span>         <span style=\"color: #008000; text-decoration-color: #008000\">'transductive'</span>, <span style=\"color: #008000; text-decoration-color: #008000\">'cv_folds'</span>: <span style=\"color: #008080; text-decoration-color: #008080; font-weight: bold\">2</span>,     <span style=\"color: #7f7f7f; text-decoration-color: #7f7f7f\">                         </span>\n",
       "<span style=\"color: #7fbfbf; text-decoration-color: #7fbfbf\">           </span>         <span style=\"color: #008000; text-decoration-color: #008000\">'specification'</span>: <span style=\"font-weight: bold\">{</span><span style=\"color: #008000; text-decoration-color: #008000\">'n_per_class'</span>:   <span style=\"color: #7f7f7f; text-decoration-color: #7f7f7f\">                         </span>\n",
       "<span style=\"color: #7fbfbf; text-decoration-color: #7fbfbf\">           </span>         <span style=\"color: #008080; text-decoration-color: #008080; font-weight: bold\">20</span>, <span style=\"color: #008000; text-decoration-color: #008000\">'fraction_test'</span>: <span style=\"color: #008080; text-decoration-color: #008080; font-weight: bold\">0.1</span>,          <span style=\"color: #7f7f7f; text-decoration-color: #7f7f7f\">                         </span>\n",
       "<span style=\"color: #7fbfbf; text-decoration-color: #7fbfbf\">           </span>         <span style=\"color: #008000; text-decoration-color: #008000\">'data_dir'</span>: <span style=\"color: #008000; text-decoration-color: #008000\">'./data'</span>,              <span style=\"color: #7f7f7f; text-decoration-color: #7f7f7f\">                         </span>\n",
       "<span style=\"color: #7fbfbf; text-decoration-color: #7fbfbf\">           </span>         <span style=\"color: #008000; text-decoration-color: #008000\">'make_undirected'</span>: <span style=\"color: #00ff00; text-decoration-color: #00ff00; font-style: italic\">True</span>,           <span style=\"color: #7f7f7f; text-decoration-color: #7f7f7f\">                         </span>\n",
       "<span style=\"color: #7fbfbf; text-decoration-color: #7fbfbf\">           </span>         <span style=\"color: #008000; text-decoration-color: #008000\">'binary_attr'</span>: <span style=\"color: #ff0000; text-decoration-color: #ff0000; font-style: italic\">False</span>,              <span style=\"color: #7f7f7f; text-decoration-color: #7f7f7f\">                         </span>\n",
       "<span style=\"color: #7fbfbf; text-decoration-color: #7fbfbf\">           </span>         <span style=\"color: #008000; text-decoration-color: #008000\">'balance_test'</span>: <span style=\"color: #00ff00; text-decoration-color: #00ff00; font-style: italic\">True</span><span style=\"font-weight: bold\">}}</span>             <span style=\"color: #7f7f7f; text-decoration-color: #7f7f7f\">                         </span>\n",
       "</pre>\n"
      ],
      "text/plain": [
       "\u001b[2;36m          \u001b[0m\u001b[2;36m \u001b[0m\u001b[34mINFO    \u001b[0m data_params: \u001b[1m{\u001b[0m\u001b[32m'dataset'\u001b[0m:           \u001b]8;id=149766;file:///ceph/ssd/students/sabanaya/ntk-robust/exp_ntk_hyperparam.py\u001b\\\u001b[2mexp_ntk_hyperparam.py\u001b[0m\u001b]8;;\u001b\\\u001b[2m:\u001b[0m\u001b]8;id=288197;file:///ceph/ssd/students/sabanaya/ntk-robust/exp_ntk_hyperparam.py#114\u001b\\\u001b[2m114\u001b[0m\u001b]8;;\u001b\\\n",
       "\u001b[2;36m           \u001b[0m         \u001b[32m'cora_ml'\u001b[0m, \u001b[32m'learning_setting'\u001b[0m:     \u001b[2m                         \u001b[0m\n",
       "\u001b[2;36m           \u001b[0m         \u001b[32m'transductive'\u001b[0m, \u001b[32m'cv_folds'\u001b[0m: \u001b[1;36m2\u001b[0m,     \u001b[2m                         \u001b[0m\n",
       "\u001b[2;36m           \u001b[0m         \u001b[32m'specification'\u001b[0m: \u001b[1m{\u001b[0m\u001b[32m'n_per_class'\u001b[0m:   \u001b[2m                         \u001b[0m\n",
       "\u001b[2;36m           \u001b[0m         \u001b[1;36m20\u001b[0m, \u001b[32m'fraction_test'\u001b[0m: \u001b[1;36m0.1\u001b[0m,          \u001b[2m                         \u001b[0m\n",
       "\u001b[2;36m           \u001b[0m         \u001b[32m'data_dir'\u001b[0m: \u001b[32m'./data'\u001b[0m,              \u001b[2m                         \u001b[0m\n",
       "\u001b[2;36m           \u001b[0m         \u001b[32m'make_undirected'\u001b[0m: \u001b[3;92mTrue\u001b[0m,           \u001b[2m                         \u001b[0m\n",
       "\u001b[2;36m           \u001b[0m         \u001b[32m'binary_attr'\u001b[0m: \u001b[3;91mFalse\u001b[0m,              \u001b[2m                         \u001b[0m\n",
       "\u001b[2;36m           \u001b[0m         \u001b[32m'balance_test'\u001b[0m: \u001b[3;92mTrue\u001b[0m\u001b[1m}\u001b[0m\u001b[1m}\u001b[0m             \u001b[2m                         \u001b[0m\n"
      ]
     },
     "metadata": {},
     "output_type": "display_data"
    },
    {
     "data": {
      "text/html": [
       "<pre style=\"white-space:pre;overflow-x:auto;line-height:normal;font-family:Menlo,'DejaVu Sans Mono',consolas,'Courier New',monospace\"><span style=\"color: #7fbfbf; text-decoration-color: #7fbfbf\">           </span><span style=\"color: #000080; text-decoration-color: #000080\">INFO    </span> model_params: <span style=\"font-weight: bold\">{</span><span style=\"color: #008000; text-decoration-color: #008000\">'label'</span>: <span style=\"color: #008000; text-decoration-color: #008000\">'GCN'</span>,     <a href=\"file:///ceph/ssd/students/sabanaya/ntk-robust/exp_ntk_hyperparam.py\" target=\"_blank\"><span style=\"color: #7f7f7f; text-decoration-color: #7f7f7f\">exp_ntk_hyperparam.py</span></a><span style=\"color: #7f7f7f; text-decoration-color: #7f7f7f\">:</span><a href=\"file:///ceph/ssd/students/sabanaya/ntk-robust/exp_ntk_hyperparam.py#115\" target=\"_blank\"><span style=\"color: #7f7f7f; text-decoration-color: #7f7f7f\">115</span></a>\n",
       "<span style=\"color: #7fbfbf; text-decoration-color: #7fbfbf\">           </span>         <span style=\"color: #008000; text-decoration-color: #008000\">'model'</span>: <span style=\"color: #008000; text-decoration-color: #008000\">'GCN'</span>, <span style=\"color: #008000; text-decoration-color: #008000\">'normalization'</span>:   <span style=\"color: #7f7f7f; text-decoration-color: #7f7f7f\">                         </span>\n",
       "<span style=\"color: #7fbfbf; text-decoration-color: #7fbfbf\">           </span>         <span style=\"color: #008000; text-decoration-color: #008000\">'row_normalization'</span>, <span style=\"color: #008000; text-decoration-color: #008000\">'activation'</span>: <span style=\"color: #7f7f7f; text-decoration-color: #7f7f7f\">                         </span>\n",
       "<span style=\"color: #7fbfbf; text-decoration-color: #7fbfbf\">           </span>         <span style=\"color: #008000; text-decoration-color: #008000\">'relu'</span>, <span style=\"color: #008000; text-decoration-color: #008000\">'depth'</span>: <span style=\"color: #008080; text-decoration-color: #008080; font-weight: bold\">1</span>, <span style=\"color: #008000; text-decoration-color: #008000\">'regularizer'</span>: <span style=\"color: #7f7f7f; text-decoration-color: #7f7f7f\">                         </span>\n",
       "<span style=\"color: #7fbfbf; text-decoration-color: #7fbfbf\">           </span>         <span style=\"color: #008080; text-decoration-color: #008080; font-weight: bold\">0.001</span>, <span style=\"color: #008000; text-decoration-color: #008000\">'pred_method'</span>: <span style=\"color: #008000; text-decoration-color: #008000\">'svm'</span>,       <span style=\"color: #7f7f7f; text-decoration-color: #7f7f7f\">                         </span>\n",
       "<span style=\"color: #7fbfbf; text-decoration-color: #7fbfbf\">           </span>         <span style=\"color: #008000; text-decoration-color: #008000\">'bias'</span>: <span style=\"color: #ff0000; text-decoration-color: #ff0000; font-style: italic\">False</span>, <span style=\"color: #008000; text-decoration-color: #008000\">'solver'</span>:           <span style=\"color: #7f7f7f; text-decoration-color: #7f7f7f\">                         </span>\n",
       "<span style=\"color: #7fbfbf; text-decoration-color: #7fbfbf\">           </span>         <span style=\"color: #008000; text-decoration-color: #008000\">'sklearn'</span>, <span style=\"color: #008000; text-decoration-color: #008000\">'alpha_tol'</span>: <span style=\"color: #008080; text-decoration-color: #008080; font-weight: bold\">0.0001</span>,    <span style=\"color: #7f7f7f; text-decoration-color: #7f7f7f\">                         </span>\n",
       "<span style=\"color: #7fbfbf; text-decoration-color: #7fbfbf\">           </span>         <span style=\"color: #008000; text-decoration-color: #008000\">'multiclass_svm_method'</span>:           <span style=\"color: #7f7f7f; text-decoration-color: #7f7f7f\">                         </span>\n",
       "<span style=\"color: #7fbfbf; text-decoration-color: #7fbfbf\">           </span>         <span style=\"color: #008000; text-decoration-color: #008000\">'simMSVM'</span><span style=\"font-weight: bold\">}</span>                         <span style=\"color: #7f7f7f; text-decoration-color: #7f7f7f\">                         </span>\n",
       "</pre>\n"
      ],
      "text/plain": [
       "\u001b[2;36m          \u001b[0m\u001b[2;36m \u001b[0m\u001b[34mINFO    \u001b[0m model_params: \u001b[1m{\u001b[0m\u001b[32m'label'\u001b[0m: \u001b[32m'GCN'\u001b[0m,     \u001b]8;id=818065;file:///ceph/ssd/students/sabanaya/ntk-robust/exp_ntk_hyperparam.py\u001b\\\u001b[2mexp_ntk_hyperparam.py\u001b[0m\u001b]8;;\u001b\\\u001b[2m:\u001b[0m\u001b]8;id=622741;file:///ceph/ssd/students/sabanaya/ntk-robust/exp_ntk_hyperparam.py#115\u001b\\\u001b[2m115\u001b[0m\u001b]8;;\u001b\\\n",
       "\u001b[2;36m           \u001b[0m         \u001b[32m'model'\u001b[0m: \u001b[32m'GCN'\u001b[0m, \u001b[32m'normalization'\u001b[0m:   \u001b[2m                         \u001b[0m\n",
       "\u001b[2;36m           \u001b[0m         \u001b[32m'row_normalization'\u001b[0m, \u001b[32m'activation'\u001b[0m: \u001b[2m                         \u001b[0m\n",
       "\u001b[2;36m           \u001b[0m         \u001b[32m'relu'\u001b[0m, \u001b[32m'depth'\u001b[0m: \u001b[1;36m1\u001b[0m, \u001b[32m'regularizer'\u001b[0m: \u001b[2m                         \u001b[0m\n",
       "\u001b[2;36m           \u001b[0m         \u001b[1;36m0.001\u001b[0m, \u001b[32m'pred_method'\u001b[0m: \u001b[32m'svm'\u001b[0m,       \u001b[2m                         \u001b[0m\n",
       "\u001b[2;36m           \u001b[0m         \u001b[32m'bias'\u001b[0m: \u001b[3;91mFalse\u001b[0m, \u001b[32m'solver'\u001b[0m:           \u001b[2m                         \u001b[0m\n",
       "\u001b[2;36m           \u001b[0m         \u001b[32m'sklearn'\u001b[0m, \u001b[32m'alpha_tol'\u001b[0m: \u001b[1;36m0.0001\u001b[0m,    \u001b[2m                         \u001b[0m\n",
       "\u001b[2;36m           \u001b[0m         \u001b[32m'multiclass_svm_method'\u001b[0m:           \u001b[2m                         \u001b[0m\n",
       "\u001b[2;36m           \u001b[0m         \u001b[32m'simMSVM'\u001b[0m\u001b[1m}\u001b[0m                         \u001b[2m                         \u001b[0m\n"
      ]
     },
     "metadata": {},
     "output_type": "display_data"
    },
    {
     "data": {
      "text/html": [
       "<pre style=\"white-space:pre;overflow-x:auto;line-height:normal;font-family:Menlo,'DejaVu Sans Mono',consolas,'Courier New',monospace\"><span style=\"color: #7fbfbf; text-decoration-color: #7fbfbf\">           </span><span style=\"color: #000080; text-decoration-color: #000080\">INFO    </span> verbosity_params: <span style=\"font-weight: bold\">{</span><span style=\"color: #008000; text-decoration-color: #008000\">'debug_lvl'</span>:    <a href=\"file:///ceph/ssd/students/sabanaya/ntk-robust/exp_ntk_hyperparam.py\" target=\"_blank\"><span style=\"color: #7f7f7f; text-decoration-color: #7f7f7f\">exp_ntk_hyperparam.py</span></a><span style=\"color: #7f7f7f; text-decoration-color: #7f7f7f\">:</span><a href=\"file:///ceph/ssd/students/sabanaya/ntk-robust/exp_ntk_hyperparam.py#116\" target=\"_blank\"><span style=\"color: #7f7f7f; text-decoration-color: #7f7f7f\">116</span></a>\n",
       "<span style=\"color: #7fbfbf; text-decoration-color: #7fbfbf\">           </span>         <span style=\"color: #008000; text-decoration-color: #008000\">'debug'</span><span style=\"font-weight: bold\">}</span>                           <span style=\"color: #7f7f7f; text-decoration-color: #7f7f7f\">                         </span>\n",
       "</pre>\n"
      ],
      "text/plain": [
       "\u001b[2;36m          \u001b[0m\u001b[2;36m \u001b[0m\u001b[34mINFO    \u001b[0m verbosity_params: \u001b[1m{\u001b[0m\u001b[32m'debug_lvl'\u001b[0m:    \u001b]8;id=743308;file:///ceph/ssd/students/sabanaya/ntk-robust/exp_ntk_hyperparam.py\u001b\\\u001b[2mexp_ntk_hyperparam.py\u001b[0m\u001b]8;;\u001b\\\u001b[2m:\u001b[0m\u001b]8;id=693312;file:///ceph/ssd/students/sabanaya/ntk-robust/exp_ntk_hyperparam.py#116\u001b\\\u001b[2m116\u001b[0m\u001b]8;;\u001b\\\n",
       "\u001b[2;36m           \u001b[0m         \u001b[32m'debug'\u001b[0m\u001b[1m}\u001b[0m                           \u001b[2m                         \u001b[0m\n"
      ]
     },
     "metadata": {},
     "output_type": "display_data"
    },
    {
     "data": {
      "text/html": [
       "<pre style=\"white-space:pre;overflow-x:auto;line-height:normal;font-family:Menlo,'DejaVu Sans Mono',consolas,'Courier New',monospace\"><span style=\"color: #7fbfbf; text-decoration-color: #7fbfbf\">           </span><span style=\"color: #000080; text-decoration-color: #000080\">INFO    </span> other_params: <span style=\"font-weight: bold\">{</span><span style=\"color: #008000; text-decoration-color: #008000\">'device'</span>: <span style=\"color: #008000; text-decoration-color: #008000\">'0'</span>,      <a href=\"file:///ceph/ssd/students/sabanaya/ntk-robust/exp_ntk_hyperparam.py\" target=\"_blank\"><span style=\"color: #7f7f7f; text-decoration-color: #7f7f7f\">exp_ntk_hyperparam.py</span></a><span style=\"color: #7f7f7f; text-decoration-color: #7f7f7f\">:</span><a href=\"file:///ceph/ssd/students/sabanaya/ntk-robust/exp_ntk_hyperparam.py#117\" target=\"_blank\"><span style=\"color: #7f7f7f; text-decoration-color: #7f7f7f\">117</span></a>\n",
       "<span style=\"color: #7fbfbf; text-decoration-color: #7fbfbf\">           </span>         <span style=\"color: #008000; text-decoration-color: #008000\">'dtype'</span>: torch.float64,            <span style=\"color: #7f7f7f; text-decoration-color: #7f7f7f\">                         </span>\n",
       "<span style=\"color: #7fbfbf; text-decoration-color: #7fbfbf\">           </span>         <span style=\"color: #008000; text-decoration-color: #008000\">'allow_tf32'</span>: <span style=\"color: #ff0000; text-decoration-color: #ff0000; font-style: italic\">False</span>, <span style=\"color: #008000; text-decoration-color: #008000\">'debug'</span>:      <span style=\"color: #7f7f7f; text-decoration-color: #7f7f7f\">                         </span>\n",
       "<span style=\"color: #7fbfbf; text-decoration-color: #7fbfbf\">           </span>         <span style=\"color: #00ff00; text-decoration-color: #00ff00; font-style: italic\">True</span><span style=\"font-weight: bold\">}</span>                              <span style=\"color: #7f7f7f; text-decoration-color: #7f7f7f\">                         </span>\n",
       "</pre>\n"
      ],
      "text/plain": [
       "\u001b[2;36m          \u001b[0m\u001b[2;36m \u001b[0m\u001b[34mINFO    \u001b[0m other_params: \u001b[1m{\u001b[0m\u001b[32m'device'\u001b[0m: \u001b[32m'0'\u001b[0m,      \u001b]8;id=79250;file:///ceph/ssd/students/sabanaya/ntk-robust/exp_ntk_hyperparam.py\u001b\\\u001b[2mexp_ntk_hyperparam.py\u001b[0m\u001b]8;;\u001b\\\u001b[2m:\u001b[0m\u001b]8;id=865801;file:///ceph/ssd/students/sabanaya/ntk-robust/exp_ntk_hyperparam.py#117\u001b\\\u001b[2m117\u001b[0m\u001b]8;;\u001b\\\n",
       "\u001b[2;36m           \u001b[0m         \u001b[32m'dtype'\u001b[0m: torch.float64,            \u001b[2m                         \u001b[0m\n",
       "\u001b[2;36m           \u001b[0m         \u001b[32m'allow_tf32'\u001b[0m: \u001b[3;91mFalse\u001b[0m, \u001b[32m'debug'\u001b[0m:      \u001b[2m                         \u001b[0m\n",
       "\u001b[2;36m           \u001b[0m         \u001b[3;92mTrue\u001b[0m\u001b[1m}\u001b[0m                              \u001b[2m                         \u001b[0m\n"
      ]
     },
     "metadata": {},
     "output_type": "display_data"
    },
    {
     "data": {
      "text/html": [
       "<pre style=\"white-space:pre;overflow-x:auto;line-height:normal;font-family:Menlo,'DejaVu Sans Mono',consolas,'Courier New',monospace\"><span style=\"color: #7fbfbf; text-decoration-color: #7fbfbf\">           </span><span style=\"color: #000080; text-decoration-color: #000080\">INFO    </span> seed: <span style=\"color: #008080; text-decoration-color: #008080; font-weight: bold\">0</span>                            <a href=\"file:///ceph/ssd/students/sabanaya/ntk-robust/exp_ntk_hyperparam.py\" target=\"_blank\"><span style=\"color: #7f7f7f; text-decoration-color: #7f7f7f\">exp_ntk_hyperparam.py</span></a><span style=\"color: #7f7f7f; text-decoration-color: #7f7f7f\">:</span><a href=\"file:///ceph/ssd/students/sabanaya/ntk-robust/exp_ntk_hyperparam.py#118\" target=\"_blank\"><span style=\"color: #7f7f7f; text-decoration-color: #7f7f7f\">118</span></a>\n",
       "</pre>\n"
      ],
      "text/plain": [
       "\u001b[2;36m          \u001b[0m\u001b[2;36m \u001b[0m\u001b[34mINFO    \u001b[0m seed: \u001b[1;36m0\u001b[0m                            \u001b]8;id=287691;file:///ceph/ssd/students/sabanaya/ntk-robust/exp_ntk_hyperparam.py\u001b\\\u001b[2mexp_ntk_hyperparam.py\u001b[0m\u001b]8;;\u001b\\\u001b[2m:\u001b[0m\u001b]8;id=399036;file:///ceph/ssd/students/sabanaya/ntk-robust/exp_ntk_hyperparam.py#118\u001b\\\u001b[2m118\u001b[0m\u001b]8;;\u001b\\\n"
      ]
     },
     "metadata": {},
     "output_type": "display_data"
    },
    {
     "data": {
      "text/html": [
       "<pre style=\"white-space:pre;overflow-x:auto;line-height:normal;font-family:Menlo,'DejaVu Sans Mono',consolas,'Courier New',monospace\"><span style=\"color: #7fbfbf; text-decoration-color: #7fbfbf\">           </span><span style=\"color: #000080; text-decoration-color: #000080\">INFO    </span> Currently on gpu device cu<span style=\"color: #00ff00; text-decoration-color: #00ff00; font-weight: bold\">da:0</span>     <a href=\"file:///ceph/ssd/students/sabanaya/ntk-robust/exp_ntk_hyperparam.py\" target=\"_blank\"><span style=\"color: #7f7f7f; text-decoration-color: #7f7f7f\">exp_ntk_hyperparam.py</span></a><span style=\"color: #7f7f7f; text-decoration-color: #7f7f7f\">:</span><a href=\"file:///ceph/ssd/students/sabanaya/ntk-robust/exp_ntk_hyperparam.py#149\" target=\"_blank\"><span style=\"color: #7f7f7f; text-decoration-color: #7f7f7f\">149</span></a>\n",
       "</pre>\n"
      ],
      "text/plain": [
       "\u001b[2;36m          \u001b[0m\u001b[2;36m \u001b[0m\u001b[34mINFO    \u001b[0m Currently on gpu device cu\u001b[1;92mda:0\u001b[0m     \u001b]8;id=763433;file:///ceph/ssd/students/sabanaya/ntk-robust/exp_ntk_hyperparam.py\u001b\\\u001b[2mexp_ntk_hyperparam.py\u001b[0m\u001b]8;;\u001b\\\u001b[2m:\u001b[0m\u001b]8;id=538195;file:///ceph/ssd/students/sabanaya/ntk-robust/exp_ntk_hyperparam.py#149\u001b\\\u001b[2m149\u001b[0m\u001b]8;;\u001b\\\n"
      ]
     },
     "metadata": {},
     "output_type": "display_data"
    },
    {
     "data": {
      "text/html": [
       "<pre style=\"white-space:pre;overflow-x:auto;line-height:normal;font-family:Menlo,'DejaVu Sans Mono',consolas,'Courier New',monospace\"><span style=\"color: #7fbfbf; text-decoration-color: #7fbfbf\">[12:13:05] </span><span style=\"color: #000080; text-decoration-color: #000080\">INFO    </span> <span style=\"color: #800080; text-decoration-color: #800080; font-weight: bold\">X.min</span><span style=\"font-weight: bold\">()</span>: <span style=\"color: #008080; text-decoration-color: #008080; font-weight: bold\">0.0</span>                                     <a href=\"file:///ceph/ssd/students/sabanaya/ntk-robust/src/data.py\" target=\"_blank\"><span style=\"color: #7f7f7f; text-decoration-color: #7f7f7f\">data.py</span></a><span style=\"color: #7f7f7f; text-decoration-color: #7f7f7f\">:</span><a href=\"file:///ceph/ssd/students/sabanaya/ntk-robust/src/data.py#166\" target=\"_blank\"><span style=\"color: #7f7f7f; text-decoration-color: #7f7f7f\">166</span></a>\n",
       "</pre>\n"
      ],
      "text/plain": [
       "\u001b[2;36m[12:13:05]\u001b[0m\u001b[2;36m \u001b[0m\u001b[34mINFO    \u001b[0m \u001b[1;35mX.min\u001b[0m\u001b[1m(\u001b[0m\u001b[1m)\u001b[0m: \u001b[1;36m0.0\u001b[0m                                     \u001b]8;id=813825;file:///ceph/ssd/students/sabanaya/ntk-robust/src/data.py\u001b\\\u001b[2mdata.py\u001b[0m\u001b]8;;\u001b\\\u001b[2m:\u001b[0m\u001b]8;id=712616;file:///ceph/ssd/students/sabanaya/ntk-robust/src/data.py#166\u001b\\\u001b[2m166\u001b[0m\u001b]8;;\u001b\\\n"
      ]
     },
     "metadata": {},
     "output_type": "display_data"
    },
    {
     "data": {
      "text/html": [
       "<pre style=\"white-space:pre;overflow-x:auto;line-height:normal;font-family:Menlo,'DejaVu Sans Mono',consolas,'Courier New',monospace\"><span style=\"color: #7fbfbf; text-decoration-color: #7fbfbf\">           </span><span style=\"color: #000080; text-decoration-color: #000080\">INFO    </span> <span style=\"color: #800080; text-decoration-color: #800080; font-weight: bold\">X.max</span><span style=\"font-weight: bold\">()</span>: <span style=\"color: #008080; text-decoration-color: #008080; font-weight: bold\">1.0</span>                                     <a href=\"file:///ceph/ssd/students/sabanaya/ntk-robust/src/data.py\" target=\"_blank\"><span style=\"color: #7f7f7f; text-decoration-color: #7f7f7f\">data.py</span></a><span style=\"color: #7f7f7f; text-decoration-color: #7f7f7f\">:</span><a href=\"file:///ceph/ssd/students/sabanaya/ntk-robust/src/data.py#167\" target=\"_blank\"><span style=\"color: #7f7f7f; text-decoration-color: #7f7f7f\">167</span></a>\n",
       "</pre>\n"
      ],
      "text/plain": [
       "\u001b[2;36m          \u001b[0m\u001b[2;36m \u001b[0m\u001b[34mINFO    \u001b[0m \u001b[1;35mX.max\u001b[0m\u001b[1m(\u001b[0m\u001b[1m)\u001b[0m: \u001b[1;36m1.0\u001b[0m                                     \u001b]8;id=80578;file:///ceph/ssd/students/sabanaya/ntk-robust/src/data.py\u001b\\\u001b[2mdata.py\u001b[0m\u001b]8;;\u001b\\\u001b[2m:\u001b[0m\u001b]8;id=795325;file:///ceph/ssd/students/sabanaya/ntk-robust/src/data.py#167\u001b\\\u001b[2m167\u001b[0m\u001b]8;;\u001b\\\n"
      ]
     },
     "metadata": {},
     "output_type": "display_data"
    },
    {
     "data": {
      "text/html": [
       "<pre style=\"white-space:pre;overflow-x:auto;line-height:normal;font-family:Menlo,'DejaVu Sans Mono',consolas,'Courier New',monospace\"><span style=\"color: #7fbfbf; text-decoration-color: #7fbfbf\">           </span><span style=\"color: #000080; text-decoration-color: #000080\">INFO    </span> <span style=\"color: #800080; text-decoration-color: #800080; font-weight: bold\">X_rowsum.mean</span><span style=\"font-weight: bold\">()</span>: <span style=\"color: #008080; text-decoration-color: #008080; font-weight: bold\">50.63558578491211</span>               <a href=\"file:///ceph/ssd/students/sabanaya/ntk-robust/src/data.py\" target=\"_blank\"><span style=\"color: #7f7f7f; text-decoration-color: #7f7f7f\">data.py</span></a><span style=\"color: #7f7f7f; text-decoration-color: #7f7f7f\">:</span><a href=\"file:///ceph/ssd/students/sabanaya/ntk-robust/src/data.py#168\" target=\"_blank\"><span style=\"color: #7f7f7f; text-decoration-color: #7f7f7f\">168</span></a>\n",
       "</pre>\n"
      ],
      "text/plain": [
       "\u001b[2;36m          \u001b[0m\u001b[2;36m \u001b[0m\u001b[34mINFO    \u001b[0m \u001b[1;35mX_rowsum.mean\u001b[0m\u001b[1m(\u001b[0m\u001b[1m)\u001b[0m: \u001b[1;36m50.63558578491211\u001b[0m               \u001b]8;id=279558;file:///ceph/ssd/students/sabanaya/ntk-robust/src/data.py\u001b\\\u001b[2mdata.py\u001b[0m\u001b]8;;\u001b\\\u001b[2m:\u001b[0m\u001b]8;id=355686;file:///ceph/ssd/students/sabanaya/ntk-robust/src/data.py#168\u001b\\\u001b[2m168\u001b[0m\u001b]8;;\u001b\\\n"
      ]
     },
     "metadata": {},
     "output_type": "display_data"
    },
    {
     "data": {
      "text/html": [
       "<pre style=\"white-space:pre;overflow-x:auto;line-height:normal;font-family:Menlo,'DejaVu Sans Mono',consolas,'Courier New',monospace\"><span style=\"color: #7fbfbf; text-decoration-color: #7fbfbf\">           </span><span style=\"color: #000080; text-decoration-color: #000080\">INFO    </span> <span style=\"color: #800080; text-decoration-color: #800080; font-weight: bold\">X_rowsum.median</span><span style=\"font-weight: bold\">()</span>: <span style=\"color: #008080; text-decoration-color: #008080; font-weight: bold\">49.0</span>                          <a href=\"file:///ceph/ssd/students/sabanaya/ntk-robust/src/data.py\" target=\"_blank\"><span style=\"color: #7f7f7f; text-decoration-color: #7f7f7f\">data.py</span></a><span style=\"color: #7f7f7f; text-decoration-color: #7f7f7f\">:</span><a href=\"file:///ceph/ssd/students/sabanaya/ntk-robust/src/data.py#169\" target=\"_blank\"><span style=\"color: #7f7f7f; text-decoration-color: #7f7f7f\">169</span></a>\n",
       "</pre>\n"
      ],
      "text/plain": [
       "\u001b[2;36m          \u001b[0m\u001b[2;36m \u001b[0m\u001b[34mINFO    \u001b[0m \u001b[1;35mX_rowsum.median\u001b[0m\u001b[1m(\u001b[0m\u001b[1m)\u001b[0m: \u001b[1;36m49.0\u001b[0m                          \u001b]8;id=65525;file:///ceph/ssd/students/sabanaya/ntk-robust/src/data.py\u001b\\\u001b[2mdata.py\u001b[0m\u001b]8;;\u001b\\\u001b[2m:\u001b[0m\u001b]8;id=433362;file:///ceph/ssd/students/sabanaya/ntk-robust/src/data.py#169\u001b\\\u001b[2m169\u001b[0m\u001b]8;;\u001b\\\n"
      ]
     },
     "metadata": {},
     "output_type": "display_data"
    },
    {
     "data": {
      "text/html": [
       "<pre style=\"white-space:pre;overflow-x:auto;line-height:normal;font-family:Menlo,'DejaVu Sans Mono',consolas,'Courier New',monospace\"><span style=\"color: #7fbfbf; text-decoration-color: #7fbfbf\">           </span><span style=\"color: #000080; text-decoration-color: #000080\">INFO    </span> <span style=\"color: #800080; text-decoration-color: #800080; font-weight: bold\">X_rowsum.min</span><span style=\"font-weight: bold\">()</span>: <span style=\"color: #008080; text-decoration-color: #008080; font-weight: bold\">2.0</span>                              <a href=\"file:///ceph/ssd/students/sabanaya/ntk-robust/src/data.py\" target=\"_blank\"><span style=\"color: #7f7f7f; text-decoration-color: #7f7f7f\">data.py</span></a><span style=\"color: #7f7f7f; text-decoration-color: #7f7f7f\">:</span><a href=\"file:///ceph/ssd/students/sabanaya/ntk-robust/src/data.py#170\" target=\"_blank\"><span style=\"color: #7f7f7f; text-decoration-color: #7f7f7f\">170</span></a>\n",
       "</pre>\n"
      ],
      "text/plain": [
       "\u001b[2;36m          \u001b[0m\u001b[2;36m \u001b[0m\u001b[34mINFO    \u001b[0m \u001b[1;35mX_rowsum.min\u001b[0m\u001b[1m(\u001b[0m\u001b[1m)\u001b[0m: \u001b[1;36m2.0\u001b[0m                              \u001b]8;id=470741;file:///ceph/ssd/students/sabanaya/ntk-robust/src/data.py\u001b\\\u001b[2mdata.py\u001b[0m\u001b]8;;\u001b\\\u001b[2m:\u001b[0m\u001b]8;id=153892;file:///ceph/ssd/students/sabanaya/ntk-robust/src/data.py#170\u001b\\\u001b[2m170\u001b[0m\u001b]8;;\u001b\\\n"
      ]
     },
     "metadata": {},
     "output_type": "display_data"
    },
    {
     "data": {
      "text/html": [
       "<pre style=\"white-space:pre;overflow-x:auto;line-height:normal;font-family:Menlo,'DejaVu Sans Mono',consolas,'Courier New',monospace\"><span style=\"color: #7fbfbf; text-decoration-color: #7fbfbf\">           </span><span style=\"color: #000080; text-decoration-color: #000080\">INFO    </span> <span style=\"color: #800080; text-decoration-color: #800080; font-weight: bold\">X_rowsum.max</span><span style=\"font-weight: bold\">()</span>: <span style=\"color: #008080; text-decoration-color: #008080; font-weight: bold\">176.0</span>                            <a href=\"file:///ceph/ssd/students/sabanaya/ntk-robust/src/data.py\" target=\"_blank\"><span style=\"color: #7f7f7f; text-decoration-color: #7f7f7f\">data.py</span></a><span style=\"color: #7f7f7f; text-decoration-color: #7f7f7f\">:</span><a href=\"file:///ceph/ssd/students/sabanaya/ntk-robust/src/data.py#171\" target=\"_blank\"><span style=\"color: #7f7f7f; text-decoration-color: #7f7f7f\">171</span></a>\n",
       "</pre>\n"
      ],
      "text/plain": [
       "\u001b[2;36m          \u001b[0m\u001b[2;36m \u001b[0m\u001b[34mINFO    \u001b[0m \u001b[1;35mX_rowsum.max\u001b[0m\u001b[1m(\u001b[0m\u001b[1m)\u001b[0m: \u001b[1;36m176.0\u001b[0m                            \u001b]8;id=54292;file:///ceph/ssd/students/sabanaya/ntk-robust/src/data.py\u001b\\\u001b[2mdata.py\u001b[0m\u001b]8;;\u001b\\\u001b[2m:\u001b[0m\u001b]8;id=883533;file:///ceph/ssd/students/sabanaya/ntk-robust/src/data.py#171\u001b\\\u001b[2m171\u001b[0m\u001b]8;;\u001b\\\n"
      ]
     },
     "metadata": {},
     "output_type": "display_data"
    },
    {
     "data": {
      "text/html": [
       "<pre style=\"white-space:pre;overflow-x:auto;line-height:normal;font-family:Menlo,'DejaVu Sans Mono',consolas,'Courier New',monospace\"><span style=\"color: #7fbfbf; text-decoration-color: #7fbfbf\">           </span><span style=\"color: #000080; text-decoration-color: #000080\">INFO    </span> number of samples                                <a href=\"file:///ceph/ssd/students/sabanaya/ntk-robust/src/data.py\" target=\"_blank\"><span style=\"color: #7f7f7f; text-decoration-color: #7f7f7f\">data.py</span></a><span style=\"color: #7f7f7f; text-decoration-color: #7f7f7f\">:</span><a href=\"file:///ceph/ssd/students/sabanaya/ntk-robust/src/data.py#276\" target=\"_blank\"><span style=\"color: #7f7f7f; text-decoration-color: #7f7f7f\">276</span></a>\n",
       "<span style=\"color: #7fbfbf; text-decoration-color: #7fbfbf\">           </span>          - labeled: <span style=\"color: #008080; text-decoration-color: #008080; font-weight: bold\">140</span>                                  <span style=\"color: #7f7f7f; text-decoration-color: #7f7f7f\">           </span>\n",
       "<span style=\"color: #7fbfbf; text-decoration-color: #7fbfbf\">           </span>          - val: <span style=\"color: #008080; text-decoration-color: #008080; font-weight: bold\">140</span>                                      <span style=\"color: #7f7f7f; text-decoration-color: #7f7f7f\">           </span>\n",
       "<span style=\"color: #7fbfbf; text-decoration-color: #7fbfbf\">           </span>          - test: <span style=\"color: #008080; text-decoration-color: #008080; font-weight: bold\">284</span>                                     <span style=\"color: #7f7f7f; text-decoration-color: #7f7f7f\">           </span>\n",
       "<span style=\"color: #7fbfbf; text-decoration-color: #7fbfbf\">           </span>          - unlabeled: <span style=\"color: #008080; text-decoration-color: #008080; font-weight: bold\">2246</span>                               <span style=\"color: #7f7f7f; text-decoration-color: #7f7f7f\">           </span>\n",
       "</pre>\n"
      ],
      "text/plain": [
       "\u001b[2;36m          \u001b[0m\u001b[2;36m \u001b[0m\u001b[34mINFO    \u001b[0m number of samples                                \u001b]8;id=596924;file:///ceph/ssd/students/sabanaya/ntk-robust/src/data.py\u001b\\\u001b[2mdata.py\u001b[0m\u001b]8;;\u001b\\\u001b[2m:\u001b[0m\u001b]8;id=840598;file:///ceph/ssd/students/sabanaya/ntk-robust/src/data.py#276\u001b\\\u001b[2m276\u001b[0m\u001b]8;;\u001b\\\n",
       "\u001b[2;36m           \u001b[0m          - labeled: \u001b[1;36m140\u001b[0m                                  \u001b[2m           \u001b[0m\n",
       "\u001b[2;36m           \u001b[0m          - val: \u001b[1;36m140\u001b[0m                                      \u001b[2m           \u001b[0m\n",
       "\u001b[2;36m           \u001b[0m          - test: \u001b[1;36m284\u001b[0m                                     \u001b[2m           \u001b[0m\n",
       "\u001b[2;36m           \u001b[0m          - unlabeled: \u001b[1;36m2246\u001b[0m                               \u001b[2m           \u001b[0m\n"
      ]
     },
     "metadata": {},
     "output_type": "display_data"
    },
    {
     "name": "stdout",
     "output_type": "stream",
     "text": [
      "train val split  (140,) (140,)\n",
      "Sig.mean(): 3.5262855649525986\n",
      "Sig.min(): 0.0\n",
      "Sig.max(): 91.25\n",
      "Depth 0\n",
      "E_der.min(): 0.5\n",
      "E_der.max(): 1.0\n",
      "Sig.mean(): 6.375333901322247\n",
      "Sig.min(): 1.9083869567264893\n",
      "Sig.max(): 72.02354586040484\n",
      "#Number of Support Vectors\n",
      "140\n",
      "alpha_mean: -4.556266832291005e-21\n",
      "train val split  (140,) (140,)\n",
      "Sig.mean(): 3.5262855649525986\n",
      "Sig.min(): 0.0\n",
      "Sig.max(): 91.25\n",
      "Depth 0\n",
      "E_der.min(): 0.5\n",
      "E_der.max(): 1.0\n",
      "Sig.mean(): 6.375333901322247\n",
      "Sig.min(): 1.9083869567264893\n",
      "Sig.max(): 72.02354586040484\n",
      "#Number of Support Vectors\n",
      "140\n",
      "alpha_mean: -1.0880648025345015e-22\n",
      "Sig.mean(): 3.5262855649525986\n",
      "Sig.min(): 0.0\n",
      "Sig.max(): 91.25\n",
      "Depth 0\n",
      "E_der.min(): 0.5\n",
      "E_der.max(): 1.0\n",
      "Sig.mean(): 6.375333901322247\n",
      "Sig.min(): 1.9083869567264893\n",
      "Sig.max(): 72.02354586040484\n",
      "#Number of Support Vectors\n",
      "280\n",
      "alpha_mean: 1.8926057842856034e-21\n",
      "#Number of Support Vectors\n",
      "280\n",
      "alpha_mean: 1.8926057842856034e-21\n"
     ]
    },
    {
     "data": {
      "text/plain": [
       "{'trn_acc': 0.9178571701049805,\n",
       " 'val_acc_l': [0.8071428537368774, 0.8214285969734192],\n",
       " 'test_acc': 0.8363636136054993,\n",
       " 'trn_min_ypred': -1.019201397895813,\n",
       " 'trn_max_ypred': -0.864044725894928,\n",
       " 'trn_min_ntkunlabeled': 3.330968925422657,\n",
       " 'trn_max_ntkunlabeled': 56.09592479824309,\n",
       " 'val_cond': [5406.631886584285, 1236088.2488305317],\n",
       " 'val_min_ypred': [-1.0094969272613525, -1.008741021156311],\n",
       " 'val_max_ypred': [-0.9213541746139526, -0.9454612135887146],\n",
       " 'val_min_ntklabeled': [3.3586876084920045, 3.370112010343827],\n",
       " 'val_max_ntklabeled': [56.09692479824309, 51.98985292744192],\n",
       " 'val_min_ntkunlabeled': [2.3938209237627683, 2.3938209237627683],\n",
       " 'val_max_ntkunlabeled': [59.638279436721575, 59.638279436721575],\n",
       " 'test_min_ypred': -1.0250886678695679,\n",
       " 'test_max_ypred': -0.8796449899673462,\n",
       " 'test_min_ntklabeled': 3.330968925422657,\n",
       " 'test_max_ntklabeled': 56.09692479824309,\n",
       " 'test_min_ntkunlabeled': 2.3938209237627683,\n",
       " 'test_max_ntkunlabeled': 59.638279436721575,\n",
       " 'test_cond': 2505399.9170512552}"
      ]
     },
     "execution_count": 21,
     "metadata": {},
     "output_type": "execute_result"
    }
   ],
   "source": [
    "run(data_params, model_params, verbosity_params, other_params, seed)\n"
   ]
  },
  {
   "cell_type": "code",
   "execution_count": 31,
   "metadata": {},
   "outputs": [
    {
     "data": {
      "text/html": [
       "<pre style=\"white-space:pre;overflow-x:auto;line-height:normal;font-family:Menlo,'DejaVu Sans Mono',consolas,'Courier New',monospace\"><span style=\"color: #7fbfbf; text-decoration-color: #7fbfbf\">[12:23:36] </span><span style=\"color: #000080; text-decoration-color: #000080\">INFO    </span> Starting experiment                <a href=\"file:///ceph/ssd/students/sabanaya/ntk-robust/exp_ntk_hyperparam.py\" target=\"_blank\"><span style=\"color: #7f7f7f; text-decoration-color: #7f7f7f\">exp_ntk_hyperparam.py</span></a><span style=\"color: #7f7f7f; text-decoration-color: #7f7f7f\">:</span><a href=\"file:///ceph/ssd/students/sabanaya/ntk-robust/exp_ntk_hyperparam.py#113\" target=\"_blank\"><span style=\"color: #7f7f7f; text-decoration-color: #7f7f7f\">113</span></a>\n",
       "<span style=\"color: #7fbfbf; text-decoration-color: #7fbfbf\">           </span>         exp_ntk_hyperparam with            <span style=\"color: #7f7f7f; text-decoration-color: #7f7f7f\">                         </span>\n",
       "<span style=\"color: #7fbfbf; text-decoration-color: #7fbfbf\">           </span>         configuration:                     <span style=\"color: #7f7f7f; text-decoration-color: #7f7f7f\">                         </span>\n",
       "</pre>\n"
      ],
      "text/plain": [
       "\u001b[2;36m[12:23:36]\u001b[0m\u001b[2;36m \u001b[0m\u001b[34mINFO    \u001b[0m Starting experiment                \u001b]8;id=933550;file:///ceph/ssd/students/sabanaya/ntk-robust/exp_ntk_hyperparam.py\u001b\\\u001b[2mexp_ntk_hyperparam.py\u001b[0m\u001b]8;;\u001b\\\u001b[2m:\u001b[0m\u001b]8;id=207338;file:///ceph/ssd/students/sabanaya/ntk-robust/exp_ntk_hyperparam.py#113\u001b\\\u001b[2m113\u001b[0m\u001b]8;;\u001b\\\n",
       "\u001b[2;36m           \u001b[0m         exp_ntk_hyperparam with            \u001b[2m                         \u001b[0m\n",
       "\u001b[2;36m           \u001b[0m         configuration:                     \u001b[2m                         \u001b[0m\n"
      ]
     },
     "metadata": {},
     "output_type": "display_data"
    },
    {
     "data": {
      "text/html": [
       "<pre style=\"white-space:pre;overflow-x:auto;line-height:normal;font-family:Menlo,'DejaVu Sans Mono',consolas,'Courier New',monospace\"><span style=\"color: #7fbfbf; text-decoration-color: #7fbfbf\">           </span><span style=\"color: #000080; text-decoration-color: #000080\">INFO    </span> data_params: <span style=\"font-weight: bold\">{</span><span style=\"color: #008000; text-decoration-color: #008000\">'dataset'</span>:           <a href=\"file:///ceph/ssd/students/sabanaya/ntk-robust/exp_ntk_hyperparam.py\" target=\"_blank\"><span style=\"color: #7f7f7f; text-decoration-color: #7f7f7f\">exp_ntk_hyperparam.py</span></a><span style=\"color: #7f7f7f; text-decoration-color: #7f7f7f\">:</span><a href=\"file:///ceph/ssd/students/sabanaya/ntk-robust/exp_ntk_hyperparam.py#114\" target=\"_blank\"><span style=\"color: #7f7f7f; text-decoration-color: #7f7f7f\">114</span></a>\n",
       "<span style=\"color: #7fbfbf; text-decoration-color: #7fbfbf\">           </span>         <span style=\"color: #008000; text-decoration-color: #008000\">'cora_ml_cont'</span>,                    <span style=\"color: #7f7f7f; text-decoration-color: #7f7f7f\">                         </span>\n",
       "<span style=\"color: #7fbfbf; text-decoration-color: #7fbfbf\">           </span>         <span style=\"color: #008000; text-decoration-color: #008000\">'learning_setting'</span>:                <span style=\"color: #7f7f7f; text-decoration-color: #7f7f7f\">                         </span>\n",
       "<span style=\"color: #7fbfbf; text-decoration-color: #7fbfbf\">           </span>         <span style=\"color: #008000; text-decoration-color: #008000\">'transductive'</span>, <span style=\"color: #008000; text-decoration-color: #008000\">'cv_folds'</span>: <span style=\"color: #008080; text-decoration-color: #008080; font-weight: bold\">2</span>,     <span style=\"color: #7f7f7f; text-decoration-color: #7f7f7f\">                         </span>\n",
       "<span style=\"color: #7fbfbf; text-decoration-color: #7fbfbf\">           </span>         <span style=\"color: #008000; text-decoration-color: #008000\">'specification'</span>: <span style=\"font-weight: bold\">{</span><span style=\"color: #008000; text-decoration-color: #008000\">'n_per_class'</span>:   <span style=\"color: #7f7f7f; text-decoration-color: #7f7f7f\">                         </span>\n",
       "<span style=\"color: #7fbfbf; text-decoration-color: #7fbfbf\">           </span>         <span style=\"color: #008080; text-decoration-color: #008080; font-weight: bold\">20</span>, <span style=\"color: #008000; text-decoration-color: #008000\">'fraction_test'</span>: <span style=\"color: #008080; text-decoration-color: #008080; font-weight: bold\">0.1</span>,          <span style=\"color: #7f7f7f; text-decoration-color: #7f7f7f\">                         </span>\n",
       "<span style=\"color: #7fbfbf; text-decoration-color: #7fbfbf\">           </span>         <span style=\"color: #008000; text-decoration-color: #008000\">'data_dir'</span>: <span style=\"color: #008000; text-decoration-color: #008000\">'./data'</span>,              <span style=\"color: #7f7f7f; text-decoration-color: #7f7f7f\">                         </span>\n",
       "<span style=\"color: #7fbfbf; text-decoration-color: #7fbfbf\">           </span>         <span style=\"color: #008000; text-decoration-color: #008000\">'make_undirected'</span>: <span style=\"color: #00ff00; text-decoration-color: #00ff00; font-style: italic\">True</span>,           <span style=\"color: #7f7f7f; text-decoration-color: #7f7f7f\">                         </span>\n",
       "<span style=\"color: #7fbfbf; text-decoration-color: #7fbfbf\">           </span>         <span style=\"color: #008000; text-decoration-color: #008000\">'binary_attr'</span>: <span style=\"color: #ff0000; text-decoration-color: #ff0000; font-style: italic\">False</span>,              <span style=\"color: #7f7f7f; text-decoration-color: #7f7f7f\">                         </span>\n",
       "<span style=\"color: #7fbfbf; text-decoration-color: #7fbfbf\">           </span>         <span style=\"color: #008000; text-decoration-color: #008000\">'balance_test'</span>: <span style=\"color: #00ff00; text-decoration-color: #00ff00; font-style: italic\">True</span><span style=\"font-weight: bold\">}}</span>             <span style=\"color: #7f7f7f; text-decoration-color: #7f7f7f\">                         </span>\n",
       "</pre>\n"
      ],
      "text/plain": [
       "\u001b[2;36m          \u001b[0m\u001b[2;36m \u001b[0m\u001b[34mINFO    \u001b[0m data_params: \u001b[1m{\u001b[0m\u001b[32m'dataset'\u001b[0m:           \u001b]8;id=381844;file:///ceph/ssd/students/sabanaya/ntk-robust/exp_ntk_hyperparam.py\u001b\\\u001b[2mexp_ntk_hyperparam.py\u001b[0m\u001b]8;;\u001b\\\u001b[2m:\u001b[0m\u001b]8;id=202217;file:///ceph/ssd/students/sabanaya/ntk-robust/exp_ntk_hyperparam.py#114\u001b\\\u001b[2m114\u001b[0m\u001b]8;;\u001b\\\n",
       "\u001b[2;36m           \u001b[0m         \u001b[32m'cora_ml_cont'\u001b[0m,                    \u001b[2m                         \u001b[0m\n",
       "\u001b[2;36m           \u001b[0m         \u001b[32m'learning_setting'\u001b[0m:                \u001b[2m                         \u001b[0m\n",
       "\u001b[2;36m           \u001b[0m         \u001b[32m'transductive'\u001b[0m, \u001b[32m'cv_folds'\u001b[0m: \u001b[1;36m2\u001b[0m,     \u001b[2m                         \u001b[0m\n",
       "\u001b[2;36m           \u001b[0m         \u001b[32m'specification'\u001b[0m: \u001b[1m{\u001b[0m\u001b[32m'n_per_class'\u001b[0m:   \u001b[2m                         \u001b[0m\n",
       "\u001b[2;36m           \u001b[0m         \u001b[1;36m20\u001b[0m, \u001b[32m'fraction_test'\u001b[0m: \u001b[1;36m0.1\u001b[0m,          \u001b[2m                         \u001b[0m\n",
       "\u001b[2;36m           \u001b[0m         \u001b[32m'data_dir'\u001b[0m: \u001b[32m'./data'\u001b[0m,              \u001b[2m                         \u001b[0m\n",
       "\u001b[2;36m           \u001b[0m         \u001b[32m'make_undirected'\u001b[0m: \u001b[3;92mTrue\u001b[0m,           \u001b[2m                         \u001b[0m\n",
       "\u001b[2;36m           \u001b[0m         \u001b[32m'binary_attr'\u001b[0m: \u001b[3;91mFalse\u001b[0m,              \u001b[2m                         \u001b[0m\n",
       "\u001b[2;36m           \u001b[0m         \u001b[32m'balance_test'\u001b[0m: \u001b[3;92mTrue\u001b[0m\u001b[1m}\u001b[0m\u001b[1m}\u001b[0m             \u001b[2m                         \u001b[0m\n"
      ]
     },
     "metadata": {},
     "output_type": "display_data"
    },
    {
     "data": {
      "text/html": [
       "<pre style=\"white-space:pre;overflow-x:auto;line-height:normal;font-family:Menlo,'DejaVu Sans Mono',consolas,'Courier New',monospace\"><span style=\"color: #7fbfbf; text-decoration-color: #7fbfbf\">           </span><span style=\"color: #000080; text-decoration-color: #000080\">INFO    </span> model_params: <span style=\"font-weight: bold\">{</span><span style=\"color: #008000; text-decoration-color: #008000\">'label'</span>: <span style=\"color: #008000; text-decoration-color: #008000\">'GCN'</span>,     <a href=\"file:///ceph/ssd/students/sabanaya/ntk-robust/exp_ntk_hyperparam.py\" target=\"_blank\"><span style=\"color: #7f7f7f; text-decoration-color: #7f7f7f\">exp_ntk_hyperparam.py</span></a><span style=\"color: #7f7f7f; text-decoration-color: #7f7f7f\">:</span><a href=\"file:///ceph/ssd/students/sabanaya/ntk-robust/exp_ntk_hyperparam.py#115\" target=\"_blank\"><span style=\"color: #7f7f7f; text-decoration-color: #7f7f7f\">115</span></a>\n",
       "<span style=\"color: #7fbfbf; text-decoration-color: #7fbfbf\">           </span>         <span style=\"color: #008000; text-decoration-color: #008000\">'model'</span>: <span style=\"color: #008000; text-decoration-color: #008000\">'GCN'</span>, <span style=\"color: #008000; text-decoration-color: #008000\">'normalization'</span>:   <span style=\"color: #7f7f7f; text-decoration-color: #7f7f7f\">                         </span>\n",
       "<span style=\"color: #7fbfbf; text-decoration-color: #7fbfbf\">           </span>         <span style=\"color: #008000; text-decoration-color: #008000\">'row_normalization'</span>, <span style=\"color: #008000; text-decoration-color: #008000\">'activation'</span>: <span style=\"color: #7f7f7f; text-decoration-color: #7f7f7f\">                         </span>\n",
       "<span style=\"color: #7fbfbf; text-decoration-color: #7fbfbf\">           </span>         <span style=\"color: #008000; text-decoration-color: #008000\">'relu'</span>, <span style=\"color: #008000; text-decoration-color: #008000\">'depth'</span>: <span style=\"color: #008080; text-decoration-color: #008080; font-weight: bold\">1</span>, <span style=\"color: #008000; text-decoration-color: #008000\">'regularizer'</span>: <span style=\"color: #7f7f7f; text-decoration-color: #7f7f7f\">                         </span>\n",
       "<span style=\"color: #7fbfbf; text-decoration-color: #7fbfbf\">           </span>         <span style=\"color: #008080; text-decoration-color: #008080; font-weight: bold\">0.001</span>, <span style=\"color: #008000; text-decoration-color: #008000\">'pred_method'</span>: <span style=\"color: #008000; text-decoration-color: #008000\">'svm'</span>,       <span style=\"color: #7f7f7f; text-decoration-color: #7f7f7f\">                         </span>\n",
       "<span style=\"color: #7fbfbf; text-decoration-color: #7fbfbf\">           </span>         <span style=\"color: #008000; text-decoration-color: #008000\">'bias'</span>: <span style=\"color: #ff0000; text-decoration-color: #ff0000; font-style: italic\">False</span>, <span style=\"color: #008000; text-decoration-color: #008000\">'solver'</span>:           <span style=\"color: #7f7f7f; text-decoration-color: #7f7f7f\">                         </span>\n",
       "<span style=\"color: #7fbfbf; text-decoration-color: #7fbfbf\">           </span>         <span style=\"color: #008000; text-decoration-color: #008000\">'sklearn'</span>, <span style=\"color: #008000; text-decoration-color: #008000\">'alpha_tol'</span>: <span style=\"color: #008080; text-decoration-color: #008080; font-weight: bold\">0.0001</span>,    <span style=\"color: #7f7f7f; text-decoration-color: #7f7f7f\">                         </span>\n",
       "<span style=\"color: #7fbfbf; text-decoration-color: #7fbfbf\">           </span>         <span style=\"color: #008000; text-decoration-color: #008000\">'multiclass_svm_method'</span>:           <span style=\"color: #7f7f7f; text-decoration-color: #7f7f7f\">                         </span>\n",
       "<span style=\"color: #7fbfbf; text-decoration-color: #7fbfbf\">           </span>         <span style=\"color: #008000; text-decoration-color: #008000\">'simMSVM'</span><span style=\"font-weight: bold\">}</span>                         <span style=\"color: #7f7f7f; text-decoration-color: #7f7f7f\">                         </span>\n",
       "</pre>\n"
      ],
      "text/plain": [
       "\u001b[2;36m          \u001b[0m\u001b[2;36m \u001b[0m\u001b[34mINFO    \u001b[0m model_params: \u001b[1m{\u001b[0m\u001b[32m'label'\u001b[0m: \u001b[32m'GCN'\u001b[0m,     \u001b]8;id=635154;file:///ceph/ssd/students/sabanaya/ntk-robust/exp_ntk_hyperparam.py\u001b\\\u001b[2mexp_ntk_hyperparam.py\u001b[0m\u001b]8;;\u001b\\\u001b[2m:\u001b[0m\u001b]8;id=923924;file:///ceph/ssd/students/sabanaya/ntk-robust/exp_ntk_hyperparam.py#115\u001b\\\u001b[2m115\u001b[0m\u001b]8;;\u001b\\\n",
       "\u001b[2;36m           \u001b[0m         \u001b[32m'model'\u001b[0m: \u001b[32m'GCN'\u001b[0m, \u001b[32m'normalization'\u001b[0m:   \u001b[2m                         \u001b[0m\n",
       "\u001b[2;36m           \u001b[0m         \u001b[32m'row_normalization'\u001b[0m, \u001b[32m'activation'\u001b[0m: \u001b[2m                         \u001b[0m\n",
       "\u001b[2;36m           \u001b[0m         \u001b[32m'relu'\u001b[0m, \u001b[32m'depth'\u001b[0m: \u001b[1;36m1\u001b[0m, \u001b[32m'regularizer'\u001b[0m: \u001b[2m                         \u001b[0m\n",
       "\u001b[2;36m           \u001b[0m         \u001b[1;36m0.001\u001b[0m, \u001b[32m'pred_method'\u001b[0m: \u001b[32m'svm'\u001b[0m,       \u001b[2m                         \u001b[0m\n",
       "\u001b[2;36m           \u001b[0m         \u001b[32m'bias'\u001b[0m: \u001b[3;91mFalse\u001b[0m, \u001b[32m'solver'\u001b[0m:           \u001b[2m                         \u001b[0m\n",
       "\u001b[2;36m           \u001b[0m         \u001b[32m'sklearn'\u001b[0m, \u001b[32m'alpha_tol'\u001b[0m: \u001b[1;36m0.0001\u001b[0m,    \u001b[2m                         \u001b[0m\n",
       "\u001b[2;36m           \u001b[0m         \u001b[32m'multiclass_svm_method'\u001b[0m:           \u001b[2m                         \u001b[0m\n",
       "\u001b[2;36m           \u001b[0m         \u001b[32m'simMSVM'\u001b[0m\u001b[1m}\u001b[0m                         \u001b[2m                         \u001b[0m\n"
      ]
     },
     "metadata": {},
     "output_type": "display_data"
    },
    {
     "data": {
      "text/html": [
       "<pre style=\"white-space:pre;overflow-x:auto;line-height:normal;font-family:Menlo,'DejaVu Sans Mono',consolas,'Courier New',monospace\"><span style=\"color: #7fbfbf; text-decoration-color: #7fbfbf\">           </span><span style=\"color: #000080; text-decoration-color: #000080\">INFO    </span> verbosity_params: <span style=\"font-weight: bold\">{</span><span style=\"color: #008000; text-decoration-color: #008000\">'debug_lvl'</span>:    <a href=\"file:///ceph/ssd/students/sabanaya/ntk-robust/exp_ntk_hyperparam.py\" target=\"_blank\"><span style=\"color: #7f7f7f; text-decoration-color: #7f7f7f\">exp_ntk_hyperparam.py</span></a><span style=\"color: #7f7f7f; text-decoration-color: #7f7f7f\">:</span><a href=\"file:///ceph/ssd/students/sabanaya/ntk-robust/exp_ntk_hyperparam.py#116\" target=\"_blank\"><span style=\"color: #7f7f7f; text-decoration-color: #7f7f7f\">116</span></a>\n",
       "<span style=\"color: #7fbfbf; text-decoration-color: #7fbfbf\">           </span>         <span style=\"color: #008000; text-decoration-color: #008000\">'debug'</span><span style=\"font-weight: bold\">}</span>                           <span style=\"color: #7f7f7f; text-decoration-color: #7f7f7f\">                         </span>\n",
       "</pre>\n"
      ],
      "text/plain": [
       "\u001b[2;36m          \u001b[0m\u001b[2;36m \u001b[0m\u001b[34mINFO    \u001b[0m verbosity_params: \u001b[1m{\u001b[0m\u001b[32m'debug_lvl'\u001b[0m:    \u001b]8;id=255195;file:///ceph/ssd/students/sabanaya/ntk-robust/exp_ntk_hyperparam.py\u001b\\\u001b[2mexp_ntk_hyperparam.py\u001b[0m\u001b]8;;\u001b\\\u001b[2m:\u001b[0m\u001b]8;id=657414;file:///ceph/ssd/students/sabanaya/ntk-robust/exp_ntk_hyperparam.py#116\u001b\\\u001b[2m116\u001b[0m\u001b]8;;\u001b\\\n",
       "\u001b[2;36m           \u001b[0m         \u001b[32m'debug'\u001b[0m\u001b[1m}\u001b[0m                           \u001b[2m                         \u001b[0m\n"
      ]
     },
     "metadata": {},
     "output_type": "display_data"
    },
    {
     "data": {
      "text/html": [
       "<pre style=\"white-space:pre;overflow-x:auto;line-height:normal;font-family:Menlo,'DejaVu Sans Mono',consolas,'Courier New',monospace\"><span style=\"color: #7fbfbf; text-decoration-color: #7fbfbf\">[12:23:37] </span><span style=\"color: #000080; text-decoration-color: #000080\">INFO    </span> other_params: <span style=\"font-weight: bold\">{</span><span style=\"color: #008000; text-decoration-color: #008000\">'device'</span>: <span style=\"color: #008000; text-decoration-color: #008000\">'0'</span>,      <a href=\"file:///ceph/ssd/students/sabanaya/ntk-robust/exp_ntk_hyperparam.py\" target=\"_blank\"><span style=\"color: #7f7f7f; text-decoration-color: #7f7f7f\">exp_ntk_hyperparam.py</span></a><span style=\"color: #7f7f7f; text-decoration-color: #7f7f7f\">:</span><a href=\"file:///ceph/ssd/students/sabanaya/ntk-robust/exp_ntk_hyperparam.py#117\" target=\"_blank\"><span style=\"color: #7f7f7f; text-decoration-color: #7f7f7f\">117</span></a>\n",
       "<span style=\"color: #7fbfbf; text-decoration-color: #7fbfbf\">           </span>         <span style=\"color: #008000; text-decoration-color: #008000\">'dtype'</span>: torch.float64,            <span style=\"color: #7f7f7f; text-decoration-color: #7f7f7f\">                         </span>\n",
       "<span style=\"color: #7fbfbf; text-decoration-color: #7fbfbf\">           </span>         <span style=\"color: #008000; text-decoration-color: #008000\">'allow_tf32'</span>: <span style=\"color: #ff0000; text-decoration-color: #ff0000; font-style: italic\">False</span>, <span style=\"color: #008000; text-decoration-color: #008000\">'debug'</span>:      <span style=\"color: #7f7f7f; text-decoration-color: #7f7f7f\">                         </span>\n",
       "<span style=\"color: #7fbfbf; text-decoration-color: #7fbfbf\">           </span>         <span style=\"color: #00ff00; text-decoration-color: #00ff00; font-style: italic\">True</span><span style=\"font-weight: bold\">}</span>                              <span style=\"color: #7f7f7f; text-decoration-color: #7f7f7f\">                         </span>\n",
       "</pre>\n"
      ],
      "text/plain": [
       "\u001b[2;36m[12:23:37]\u001b[0m\u001b[2;36m \u001b[0m\u001b[34mINFO    \u001b[0m other_params: \u001b[1m{\u001b[0m\u001b[32m'device'\u001b[0m: \u001b[32m'0'\u001b[0m,      \u001b]8;id=836557;file:///ceph/ssd/students/sabanaya/ntk-robust/exp_ntk_hyperparam.py\u001b\\\u001b[2mexp_ntk_hyperparam.py\u001b[0m\u001b]8;;\u001b\\\u001b[2m:\u001b[0m\u001b]8;id=664085;file:///ceph/ssd/students/sabanaya/ntk-robust/exp_ntk_hyperparam.py#117\u001b\\\u001b[2m117\u001b[0m\u001b]8;;\u001b\\\n",
       "\u001b[2;36m           \u001b[0m         \u001b[32m'dtype'\u001b[0m: torch.float64,            \u001b[2m                         \u001b[0m\n",
       "\u001b[2;36m           \u001b[0m         \u001b[32m'allow_tf32'\u001b[0m: \u001b[3;91mFalse\u001b[0m, \u001b[32m'debug'\u001b[0m:      \u001b[2m                         \u001b[0m\n",
       "\u001b[2;36m           \u001b[0m         \u001b[3;92mTrue\u001b[0m\u001b[1m}\u001b[0m                              \u001b[2m                         \u001b[0m\n"
      ]
     },
     "metadata": {},
     "output_type": "display_data"
    },
    {
     "data": {
      "text/html": [
       "<pre style=\"white-space:pre;overflow-x:auto;line-height:normal;font-family:Menlo,'DejaVu Sans Mono',consolas,'Courier New',monospace\"><span style=\"color: #7fbfbf; text-decoration-color: #7fbfbf\">           </span><span style=\"color: #000080; text-decoration-color: #000080\">INFO    </span> seed: <span style=\"color: #008080; text-decoration-color: #008080; font-weight: bold\">0</span>                            <a href=\"file:///ceph/ssd/students/sabanaya/ntk-robust/exp_ntk_hyperparam.py\" target=\"_blank\"><span style=\"color: #7f7f7f; text-decoration-color: #7f7f7f\">exp_ntk_hyperparam.py</span></a><span style=\"color: #7f7f7f; text-decoration-color: #7f7f7f\">:</span><a href=\"file:///ceph/ssd/students/sabanaya/ntk-robust/exp_ntk_hyperparam.py#118\" target=\"_blank\"><span style=\"color: #7f7f7f; text-decoration-color: #7f7f7f\">118</span></a>\n",
       "</pre>\n"
      ],
      "text/plain": [
       "\u001b[2;36m          \u001b[0m\u001b[2;36m \u001b[0m\u001b[34mINFO    \u001b[0m seed: \u001b[1;36m0\u001b[0m                            \u001b]8;id=268847;file:///ceph/ssd/students/sabanaya/ntk-robust/exp_ntk_hyperparam.py\u001b\\\u001b[2mexp_ntk_hyperparam.py\u001b[0m\u001b]8;;\u001b\\\u001b[2m:\u001b[0m\u001b]8;id=793917;file:///ceph/ssd/students/sabanaya/ntk-robust/exp_ntk_hyperparam.py#118\u001b\\\u001b[2m118\u001b[0m\u001b]8;;\u001b\\\n"
      ]
     },
     "metadata": {},
     "output_type": "display_data"
    },
    {
     "data": {
      "text/html": [
       "<pre style=\"white-space:pre;overflow-x:auto;line-height:normal;font-family:Menlo,'DejaVu Sans Mono',consolas,'Courier New',monospace\"><span style=\"color: #7fbfbf; text-decoration-color: #7fbfbf\">           </span><span style=\"color: #000080; text-decoration-color: #000080\">INFO    </span> Currently on gpu device cu<span style=\"color: #00ff00; text-decoration-color: #00ff00; font-weight: bold\">da:0</span>     <a href=\"file:///ceph/ssd/students/sabanaya/ntk-robust/exp_ntk_hyperparam.py\" target=\"_blank\"><span style=\"color: #7f7f7f; text-decoration-color: #7f7f7f\">exp_ntk_hyperparam.py</span></a><span style=\"color: #7f7f7f; text-decoration-color: #7f7f7f\">:</span><a href=\"file:///ceph/ssd/students/sabanaya/ntk-robust/exp_ntk_hyperparam.py#149\" target=\"_blank\"><span style=\"color: #7f7f7f; text-decoration-color: #7f7f7f\">149</span></a>\n",
       "</pre>\n"
      ],
      "text/plain": [
       "\u001b[2;36m          \u001b[0m\u001b[2;36m \u001b[0m\u001b[34mINFO    \u001b[0m Currently on gpu device cu\u001b[1;92mda:0\u001b[0m     \u001b]8;id=892895;file:///ceph/ssd/students/sabanaya/ntk-robust/exp_ntk_hyperparam.py\u001b\\\u001b[2mexp_ntk_hyperparam.py\u001b[0m\u001b]8;;\u001b\\\u001b[2m:\u001b[0m\u001b]8;id=285676;file:///ceph/ssd/students/sabanaya/ntk-robust/exp_ntk_hyperparam.py#149\u001b\\\u001b[2m149\u001b[0m\u001b]8;;\u001b\\\n"
      ]
     },
     "metadata": {},
     "output_type": "display_data"
    },
    {
     "name": "stdout",
     "output_type": "stream",
     "text": [
      "attr_bert_embedding\n",
      "idx_to_attr\n",
      "attr_indices\n",
      "attr_shape\n",
      "idx_to_node\n",
      "adj_shape\n",
      "adj_indptr\n",
      "adj_data\n",
      "labels\n",
      "attr_data\n",
      "adj_indices\n",
      "attr_indptr\n",
      "idx_to_class\n",
      "attr_text\n"
     ]
    },
    {
     "data": {
      "text/html": [
       "<pre style=\"white-space:pre;overflow-x:auto;line-height:normal;font-family:Menlo,'DejaVu Sans Mono',consolas,'Courier New',monospace\"><span style=\"color: #7fbfbf; text-decoration-color: #7fbfbf\">           </span><span style=\"color: #000080; text-decoration-color: #000080\">INFO    </span> <span style=\"color: #800080; text-decoration-color: #800080; font-weight: bold\">X.min</span><span style=\"font-weight: bold\">()</span>: <span style=\"color: #008080; text-decoration-color: #008080; font-weight: bold\">-6.554511070251465</span>                      <a href=\"file:///ceph/ssd/students/sabanaya/ntk-robust/src/data.py\" target=\"_blank\"><span style=\"color: #7f7f7f; text-decoration-color: #7f7f7f\">data.py</span></a><span style=\"color: #7f7f7f; text-decoration-color: #7f7f7f\">:</span><a href=\"file:///ceph/ssd/students/sabanaya/ntk-robust/src/data.py#174\" target=\"_blank\"><span style=\"color: #7f7f7f; text-decoration-color: #7f7f7f\">174</span></a>\n",
       "</pre>\n"
      ],
      "text/plain": [
       "\u001b[2;36m          \u001b[0m\u001b[2;36m \u001b[0m\u001b[34mINFO    \u001b[0m \u001b[1;35mX.min\u001b[0m\u001b[1m(\u001b[0m\u001b[1m)\u001b[0m: \u001b[1;36m-6.554511070251465\u001b[0m                      \u001b]8;id=499535;file:///ceph/ssd/students/sabanaya/ntk-robust/src/data.py\u001b\\\u001b[2mdata.py\u001b[0m\u001b]8;;\u001b\\\u001b[2m:\u001b[0m\u001b]8;id=702671;file:///ceph/ssd/students/sabanaya/ntk-robust/src/data.py#174\u001b\\\u001b[2m174\u001b[0m\u001b]8;;\u001b\\\n"
      ]
     },
     "metadata": {},
     "output_type": "display_data"
    },
    {
     "data": {
      "text/html": [
       "<pre style=\"white-space:pre;overflow-x:auto;line-height:normal;font-family:Menlo,'DejaVu Sans Mono',consolas,'Courier New',monospace\"><span style=\"color: #7fbfbf; text-decoration-color: #7fbfbf\">           </span><span style=\"color: #000080; text-decoration-color: #000080\">INFO    </span> <span style=\"color: #800080; text-decoration-color: #800080; font-weight: bold\">X.max</span><span style=\"font-weight: bold\">()</span>: <span style=\"color: #008080; text-decoration-color: #008080; font-weight: bold\">1.2402576208114624</span>                      <a href=\"file:///ceph/ssd/students/sabanaya/ntk-robust/src/data.py\" target=\"_blank\"><span style=\"color: #7f7f7f; text-decoration-color: #7f7f7f\">data.py</span></a><span style=\"color: #7f7f7f; text-decoration-color: #7f7f7f\">:</span><a href=\"file:///ceph/ssd/students/sabanaya/ntk-robust/src/data.py#175\" target=\"_blank\"><span style=\"color: #7f7f7f; text-decoration-color: #7f7f7f\">175</span></a>\n",
       "</pre>\n"
      ],
      "text/plain": [
       "\u001b[2;36m          \u001b[0m\u001b[2;36m \u001b[0m\u001b[34mINFO    \u001b[0m \u001b[1;35mX.max\u001b[0m\u001b[1m(\u001b[0m\u001b[1m)\u001b[0m: \u001b[1;36m1.2402576208114624\u001b[0m                      \u001b]8;id=477753;file:///ceph/ssd/students/sabanaya/ntk-robust/src/data.py\u001b\\\u001b[2mdata.py\u001b[0m\u001b]8;;\u001b\\\u001b[2m:\u001b[0m\u001b]8;id=643989;file:///ceph/ssd/students/sabanaya/ntk-robust/src/data.py#175\u001b\\\u001b[2m175\u001b[0m\u001b]8;;\u001b\\\n"
      ]
     },
     "metadata": {},
     "output_type": "display_data"
    },
    {
     "data": {
      "text/html": [
       "<pre style=\"white-space:pre;overflow-x:auto;line-height:normal;font-family:Menlo,'DejaVu Sans Mono',consolas,'Courier New',monospace\"><span style=\"color: #7fbfbf; text-decoration-color: #7fbfbf\">           </span><span style=\"color: #000080; text-decoration-color: #000080\">INFO    </span> <span style=\"color: #800080; text-decoration-color: #800080; font-weight: bold\">X_rowsum.mean</span><span style=\"font-weight: bold\">()</span>: <span style=\"color: #008080; text-decoration-color: #008080; font-weight: bold\">-7.42681884765625</span>               <a href=\"file:///ceph/ssd/students/sabanaya/ntk-robust/src/data.py\" target=\"_blank\"><span style=\"color: #7f7f7f; text-decoration-color: #7f7f7f\">data.py</span></a><span style=\"color: #7f7f7f; text-decoration-color: #7f7f7f\">:</span><a href=\"file:///ceph/ssd/students/sabanaya/ntk-robust/src/data.py#176\" target=\"_blank\"><span style=\"color: #7f7f7f; text-decoration-color: #7f7f7f\">176</span></a>\n",
       "</pre>\n"
      ],
      "text/plain": [
       "\u001b[2;36m          \u001b[0m\u001b[2;36m \u001b[0m\u001b[34mINFO    \u001b[0m \u001b[1;35mX_rowsum.mean\u001b[0m\u001b[1m(\u001b[0m\u001b[1m)\u001b[0m: \u001b[1;36m-7.42681884765625\u001b[0m               \u001b]8;id=809182;file:///ceph/ssd/students/sabanaya/ntk-robust/src/data.py\u001b\\\u001b[2mdata.py\u001b[0m\u001b]8;;\u001b\\\u001b[2m:\u001b[0m\u001b]8;id=611324;file:///ceph/ssd/students/sabanaya/ntk-robust/src/data.py#176\u001b\\\u001b[2m176\u001b[0m\u001b]8;;\u001b\\\n"
      ]
     },
     "metadata": {},
     "output_type": "display_data"
    },
    {
     "data": {
      "text/html": [
       "<pre style=\"white-space:pre;overflow-x:auto;line-height:normal;font-family:Menlo,'DejaVu Sans Mono',consolas,'Courier New',monospace\"><span style=\"color: #7fbfbf; text-decoration-color: #7fbfbf\">           </span><span style=\"color: #000080; text-decoration-color: #000080\">INFO    </span> <span style=\"color: #800080; text-decoration-color: #800080; font-weight: bold\">X_rowsum.median</span><span style=\"font-weight: bold\">()</span>: <span style=\"color: #008080; text-decoration-color: #008080; font-weight: bold\">-7.279448986053467</span>            <a href=\"file:///ceph/ssd/students/sabanaya/ntk-robust/src/data.py\" target=\"_blank\"><span style=\"color: #7f7f7f; text-decoration-color: #7f7f7f\">data.py</span></a><span style=\"color: #7f7f7f; text-decoration-color: #7f7f7f\">:</span><a href=\"file:///ceph/ssd/students/sabanaya/ntk-robust/src/data.py#177\" target=\"_blank\"><span style=\"color: #7f7f7f; text-decoration-color: #7f7f7f\">177</span></a>\n",
       "</pre>\n"
      ],
      "text/plain": [
       "\u001b[2;36m          \u001b[0m\u001b[2;36m \u001b[0m\u001b[34mINFO    \u001b[0m \u001b[1;35mX_rowsum.median\u001b[0m\u001b[1m(\u001b[0m\u001b[1m)\u001b[0m: \u001b[1;36m-7.279448986053467\u001b[0m            \u001b]8;id=855397;file:///ceph/ssd/students/sabanaya/ntk-robust/src/data.py\u001b\\\u001b[2mdata.py\u001b[0m\u001b]8;;\u001b\\\u001b[2m:\u001b[0m\u001b]8;id=92694;file:///ceph/ssd/students/sabanaya/ntk-robust/src/data.py#177\u001b\\\u001b[2m177\u001b[0m\u001b]8;;\u001b\\\n"
      ]
     },
     "metadata": {},
     "output_type": "display_data"
    },
    {
     "data": {
      "text/html": [
       "<pre style=\"white-space:pre;overflow-x:auto;line-height:normal;font-family:Menlo,'DejaVu Sans Mono',consolas,'Courier New',monospace\"><span style=\"color: #7fbfbf; text-decoration-color: #7fbfbf\">           </span><span style=\"color: #000080; text-decoration-color: #000080\">INFO    </span> <span style=\"color: #800080; text-decoration-color: #800080; font-weight: bold\">X_rowsum.min</span><span style=\"font-weight: bold\">()</span>: <span style=\"color: #008080; text-decoration-color: #008080; font-weight: bold\">-11.480729103088379</span>              <a href=\"file:///ceph/ssd/students/sabanaya/ntk-robust/src/data.py\" target=\"_blank\"><span style=\"color: #7f7f7f; text-decoration-color: #7f7f7f\">data.py</span></a><span style=\"color: #7f7f7f; text-decoration-color: #7f7f7f\">:</span><a href=\"file:///ceph/ssd/students/sabanaya/ntk-robust/src/data.py#178\" target=\"_blank\"><span style=\"color: #7f7f7f; text-decoration-color: #7f7f7f\">178</span></a>\n",
       "</pre>\n"
      ],
      "text/plain": [
       "\u001b[2;36m          \u001b[0m\u001b[2;36m \u001b[0m\u001b[34mINFO    \u001b[0m \u001b[1;35mX_rowsum.min\u001b[0m\u001b[1m(\u001b[0m\u001b[1m)\u001b[0m: \u001b[1;36m-11.480729103088379\u001b[0m              \u001b]8;id=795235;file:///ceph/ssd/students/sabanaya/ntk-robust/src/data.py\u001b\\\u001b[2mdata.py\u001b[0m\u001b]8;;\u001b\\\u001b[2m:\u001b[0m\u001b]8;id=302253;file:///ceph/ssd/students/sabanaya/ntk-robust/src/data.py#178\u001b\\\u001b[2m178\u001b[0m\u001b]8;;\u001b\\\n"
      ]
     },
     "metadata": {},
     "output_type": "display_data"
    },
    {
     "data": {
      "text/html": [
       "<pre style=\"white-space:pre;overflow-x:auto;line-height:normal;font-family:Menlo,'DejaVu Sans Mono',consolas,'Courier New',monospace\"><span style=\"color: #7fbfbf; text-decoration-color: #7fbfbf\">           </span><span style=\"color: #000080; text-decoration-color: #000080\">INFO    </span> <span style=\"color: #800080; text-decoration-color: #800080; font-weight: bold\">X_rowsum.max</span><span style=\"font-weight: bold\">()</span>: <span style=\"color: #008080; text-decoration-color: #008080; font-weight: bold\">-5.446991443634033</span>               <a href=\"file:///ceph/ssd/students/sabanaya/ntk-robust/src/data.py\" target=\"_blank\"><span style=\"color: #7f7f7f; text-decoration-color: #7f7f7f\">data.py</span></a><span style=\"color: #7f7f7f; text-decoration-color: #7f7f7f\">:</span><a href=\"file:///ceph/ssd/students/sabanaya/ntk-robust/src/data.py#179\" target=\"_blank\"><span style=\"color: #7f7f7f; text-decoration-color: #7f7f7f\">179</span></a>\n",
       "</pre>\n"
      ],
      "text/plain": [
       "\u001b[2;36m          \u001b[0m\u001b[2;36m \u001b[0m\u001b[34mINFO    \u001b[0m \u001b[1;35mX_rowsum.max\u001b[0m\u001b[1m(\u001b[0m\u001b[1m)\u001b[0m: \u001b[1;36m-5.446991443634033\u001b[0m               \u001b]8;id=104875;file:///ceph/ssd/students/sabanaya/ntk-robust/src/data.py\u001b\\\u001b[2mdata.py\u001b[0m\u001b]8;;\u001b\\\u001b[2m:\u001b[0m\u001b]8;id=710899;file:///ceph/ssd/students/sabanaya/ntk-robust/src/data.py#179\u001b\\\u001b[2m179\u001b[0m\u001b]8;;\u001b\\\n"
      ]
     },
     "metadata": {},
     "output_type": "display_data"
    },
    {
     "data": {
      "text/html": [
       "<pre style=\"white-space:pre;overflow-x:auto;line-height:normal;font-family:Menlo,'DejaVu Sans Mono',consolas,'Courier New',monospace\"><span style=\"color: #7fbfbf; text-decoration-color: #7fbfbf\">           </span><span style=\"color: #000080; text-decoration-color: #000080\">INFO    </span> number of samples                                <a href=\"file:///ceph/ssd/students/sabanaya/ntk-robust/src/data.py\" target=\"_blank\"><span style=\"color: #7f7f7f; text-decoration-color: #7f7f7f\">data.py</span></a><span style=\"color: #7f7f7f; text-decoration-color: #7f7f7f\">:</span><a href=\"file:///ceph/ssd/students/sabanaya/ntk-robust/src/data.py#284\" target=\"_blank\"><span style=\"color: #7f7f7f; text-decoration-color: #7f7f7f\">284</span></a>\n",
       "<span style=\"color: #7fbfbf; text-decoration-color: #7fbfbf\">           </span>          - labeled: <span style=\"color: #008080; text-decoration-color: #008080; font-weight: bold\">140</span>                                  <span style=\"color: #7f7f7f; text-decoration-color: #7f7f7f\">           </span>\n",
       "<span style=\"color: #7fbfbf; text-decoration-color: #7fbfbf\">           </span>          - val: <span style=\"color: #008080; text-decoration-color: #008080; font-weight: bold\">140</span>                                      <span style=\"color: #7f7f7f; text-decoration-color: #7f7f7f\">           </span>\n",
       "<span style=\"color: #7fbfbf; text-decoration-color: #7fbfbf\">           </span>          - test: <span style=\"color: #008080; text-decoration-color: #008080; font-weight: bold\">304</span>                                     <span style=\"color: #7f7f7f; text-decoration-color: #7f7f7f\">           </span>\n",
       "<span style=\"color: #7fbfbf; text-decoration-color: #7fbfbf\">           </span>          - unlabeled: <span style=\"color: #008080; text-decoration-color: #008080; font-weight: bold\">2411</span>                               <span style=\"color: #7f7f7f; text-decoration-color: #7f7f7f\">           </span>\n",
       "</pre>\n"
      ],
      "text/plain": [
       "\u001b[2;36m          \u001b[0m\u001b[2;36m \u001b[0m\u001b[34mINFO    \u001b[0m number of samples                                \u001b]8;id=366096;file:///ceph/ssd/students/sabanaya/ntk-robust/src/data.py\u001b\\\u001b[2mdata.py\u001b[0m\u001b]8;;\u001b\\\u001b[2m:\u001b[0m\u001b]8;id=658780;file:///ceph/ssd/students/sabanaya/ntk-robust/src/data.py#284\u001b\\\u001b[2m284\u001b[0m\u001b]8;;\u001b\\\n",
       "\u001b[2;36m           \u001b[0m          - labeled: \u001b[1;36m140\u001b[0m                                  \u001b[2m           \u001b[0m\n",
       "\u001b[2;36m           \u001b[0m          - val: \u001b[1;36m140\u001b[0m                                      \u001b[2m           \u001b[0m\n",
       "\u001b[2;36m           \u001b[0m          - test: \u001b[1;36m304\u001b[0m                                     \u001b[2m           \u001b[0m\n",
       "\u001b[2;36m           \u001b[0m          - unlabeled: \u001b[1;36m2411\u001b[0m                               \u001b[2m           \u001b[0m\n"
      ]
     },
     "metadata": {},
     "output_type": "display_data"
    },
    {
     "name": "stdout",
     "output_type": "stream",
     "text": [
      "train val split  (140,) (140,)\n",
      "Sig.mean(): 50.83432021073121\n",
      "Sig.min(): 29.67708321359097\n",
      "Sig.max(): 91.24453656085322\n",
      "Depth 0\n",
      "E_der.min(): 0.6276532049741363\n",
      "E_der.max(): 1.0\n",
      "Sig.mean(): 51.18027956346071\n",
      "Sig.min(): 40.71642783219547\n",
      "Sig.max(): 69.75436778713706\n",
      "#Number of Support Vectors\n",
      "140\n",
      "alpha_mean: 1.5741330243212787e-21\n",
      "train val split  (140,) (140,)\n",
      "Sig.mean(): 50.83432021073121\n",
      "Sig.min(): 29.67708321359097\n",
      "Sig.max(): 91.24453656085322\n",
      "Depth 0\n",
      "E_der.min(): 0.6276532049741363\n",
      "E_der.max(): 1.0\n",
      "Sig.mean(): 51.18027956346071\n",
      "Sig.min(): 40.71642783219547\n",
      "Sig.max(): 69.75436778713706\n",
      "#Number of Support Vectors\n",
      "140\n",
      "alpha_mean: 3.469781388713972e-21\n",
      "Sig.mean(): 50.83432021073121\n",
      "Sig.min(): 29.67708321359097\n",
      "Sig.max(): 91.24453656085322\n",
      "Depth 0\n",
      "E_der.min(): 0.6276532049741363\n",
      "E_der.max(): 1.0\n",
      "Sig.mean(): 51.18027956346071\n",
      "Sig.min(): 40.71642783219547\n",
      "Sig.max(): 69.75436778713706\n",
      "#Number of Support Vectors\n",
      "280\n",
      "alpha_mean: -5.161578122066692e-21\n",
      "#Number of Support Vectors\n",
      "280\n",
      "alpha_mean: -5.161578122066692e-21\n"
     ]
    },
    {
     "data": {
      "text/plain": [
       "{'trn_acc': 0.8392857313156128,\n",
       " 'val_acc_l': [0.7642857432365417, 0.735714316368103],\n",
       " 'test_acc': 0.7749539613723755,\n",
       " 'trn_min_ypred': -1.0426008701324463,\n",
       " 'trn_max_ypred': -0.9146687984466553,\n",
       " 'trn_min_ntkunlabeled': 67.52604580649668,\n",
       " 'trn_max_ntkunlabeled': 134.9336375989908,\n",
       " 'val_cond': [13621312.261937132, 714099.8658668867],\n",
       " 'val_min_ypred': [-1.0253825187683105, -1.0241115093231201],\n",
       " 'val_max_ypred': [-0.9461398720741272, -0.959497332572937],\n",
       " 'val_min_ntklabeled': [72.25674527378555, 69.05606528467975],\n",
       " 'val_max_ntklabeled': [134.9346375989908, 134.4431958266135],\n",
       " 'val_min_ntkunlabeled': [65.14319167140329, 65.14319167140329],\n",
       " 'val_max_ntkunlabeled': [134.4421958266135, 134.4421958266135],\n",
       " 'test_min_ypred': -1.0563089847564697,\n",
       " 'test_max_ypred': -0.9150881171226501,\n",
       " 'test_min_ntklabeled': 67.52604580649668,\n",
       " 'test_max_ntklabeled': 134.9346375989908,\n",
       " 'test_min_ntkunlabeled': 65.14319167140329,\n",
       " 'test_max_ntkunlabeled': 134.4421958266135,\n",
       " 'test_cond': 27304667.18999641}"
      ]
     },
     "execution_count": 31,
     "metadata": {},
     "output_type": "execute_result"
    }
   ],
   "source": [
    "data_params[\"dataset\"] = \"cora_ml_cont\"\n",
    "run(data_params, model_params, verbosity_params, other_params, seed)\n"
   ]
  },
  {
   "cell_type": "code",
   "execution_count": 30,
   "metadata": {},
   "outputs": [
    {
     "data": {
      "text/html": [
       "<pre style=\"white-space:pre;overflow-x:auto;line-height:normal;font-family:Menlo,'DejaVu Sans Mono',consolas,'Courier New',monospace\"><span style=\"color: #7fbfbf; text-decoration-color: #7fbfbf\">[12:22:10] </span><span style=\"color: #000080; text-decoration-color: #000080\">INFO    </span> Starting experiment                <a href=\"file:///ceph/ssd/students/sabanaya/ntk-robust/exp_ntk_hyperparam.py\" target=\"_blank\"><span style=\"color: #7f7f7f; text-decoration-color: #7f7f7f\">exp_ntk_hyperparam.py</span></a><span style=\"color: #7f7f7f; text-decoration-color: #7f7f7f\">:</span><a href=\"file:///ceph/ssd/students/sabanaya/ntk-robust/exp_ntk_hyperparam.py#113\" target=\"_blank\"><span style=\"color: #7f7f7f; text-decoration-color: #7f7f7f\">113</span></a>\n",
       "<span style=\"color: #7fbfbf; text-decoration-color: #7fbfbf\">           </span>         exp_ntk_hyperparam with            <span style=\"color: #7f7f7f; text-decoration-color: #7f7f7f\">                         </span>\n",
       "<span style=\"color: #7fbfbf; text-decoration-color: #7fbfbf\">           </span>         configuration:                     <span style=\"color: #7f7f7f; text-decoration-color: #7f7f7f\">                         </span>\n",
       "</pre>\n"
      ],
      "text/plain": [
       "\u001b[2;36m[12:22:10]\u001b[0m\u001b[2;36m \u001b[0m\u001b[34mINFO    \u001b[0m Starting experiment                \u001b]8;id=332900;file:///ceph/ssd/students/sabanaya/ntk-robust/exp_ntk_hyperparam.py\u001b\\\u001b[2mexp_ntk_hyperparam.py\u001b[0m\u001b]8;;\u001b\\\u001b[2m:\u001b[0m\u001b]8;id=805453;file:///ceph/ssd/students/sabanaya/ntk-robust/exp_ntk_hyperparam.py#113\u001b\\\u001b[2m113\u001b[0m\u001b]8;;\u001b\\\n",
       "\u001b[2;36m           \u001b[0m         exp_ntk_hyperparam with            \u001b[2m                         \u001b[0m\n",
       "\u001b[2;36m           \u001b[0m         configuration:                     \u001b[2m                         \u001b[0m\n"
      ]
     },
     "metadata": {},
     "output_type": "display_data"
    },
    {
     "data": {
      "text/html": [
       "<pre style=\"white-space:pre;overflow-x:auto;line-height:normal;font-family:Menlo,'DejaVu Sans Mono',consolas,'Courier New',monospace\"><span style=\"color: #7fbfbf; text-decoration-color: #7fbfbf\">           </span><span style=\"color: #000080; text-decoration-color: #000080\">INFO    </span> data_params: <span style=\"font-weight: bold\">{</span><span style=\"color: #008000; text-decoration-color: #008000\">'dataset'</span>:           <a href=\"file:///ceph/ssd/students/sabanaya/ntk-robust/exp_ntk_hyperparam.py\" target=\"_blank\"><span style=\"color: #7f7f7f; text-decoration-color: #7f7f7f\">exp_ntk_hyperparam.py</span></a><span style=\"color: #7f7f7f; text-decoration-color: #7f7f7f\">:</span><a href=\"file:///ceph/ssd/students/sabanaya/ntk-robust/exp_ntk_hyperparam.py#114\" target=\"_blank\"><span style=\"color: #7f7f7f; text-decoration-color: #7f7f7f\">114</span></a>\n",
       "<span style=\"color: #7fbfbf; text-decoration-color: #7fbfbf\">           </span>         <span style=\"color: #008000; text-decoration-color: #008000\">'cora_ml'</span>, <span style=\"color: #008000; text-decoration-color: #008000\">'learning_setting'</span>:     <span style=\"color: #7f7f7f; text-decoration-color: #7f7f7f\">                         </span>\n",
       "<span style=\"color: #7fbfbf; text-decoration-color: #7fbfbf\">           </span>         <span style=\"color: #008000; text-decoration-color: #008000\">'transductive'</span>, <span style=\"color: #008000; text-decoration-color: #008000\">'cv_folds'</span>: <span style=\"color: #008080; text-decoration-color: #008080; font-weight: bold\">2</span>,     <span style=\"color: #7f7f7f; text-decoration-color: #7f7f7f\">                         </span>\n",
       "<span style=\"color: #7fbfbf; text-decoration-color: #7fbfbf\">           </span>         <span style=\"color: #008000; text-decoration-color: #008000\">'specification'</span>: <span style=\"font-weight: bold\">{</span><span style=\"color: #008000; text-decoration-color: #008000\">'n_per_class'</span>:   <span style=\"color: #7f7f7f; text-decoration-color: #7f7f7f\">                         </span>\n",
       "<span style=\"color: #7fbfbf; text-decoration-color: #7fbfbf\">           </span>         <span style=\"color: #008080; text-decoration-color: #008080; font-weight: bold\">20</span>, <span style=\"color: #008000; text-decoration-color: #008000\">'fraction_test'</span>: <span style=\"color: #008080; text-decoration-color: #008080; font-weight: bold\">0.1</span>,          <span style=\"color: #7f7f7f; text-decoration-color: #7f7f7f\">                         </span>\n",
       "<span style=\"color: #7fbfbf; text-decoration-color: #7fbfbf\">           </span>         <span style=\"color: #008000; text-decoration-color: #008000\">'data_dir'</span>: <span style=\"color: #008000; text-decoration-color: #008000\">'./data'</span>,              <span style=\"color: #7f7f7f; text-decoration-color: #7f7f7f\">                         </span>\n",
       "<span style=\"color: #7fbfbf; text-decoration-color: #7fbfbf\">           </span>         <span style=\"color: #008000; text-decoration-color: #008000\">'make_undirected'</span>: <span style=\"color: #00ff00; text-decoration-color: #00ff00; font-style: italic\">True</span>,           <span style=\"color: #7f7f7f; text-decoration-color: #7f7f7f\">                         </span>\n",
       "<span style=\"color: #7fbfbf; text-decoration-color: #7fbfbf\">           </span>         <span style=\"color: #008000; text-decoration-color: #008000\">'binary_attr'</span>: <span style=\"color: #ff0000; text-decoration-color: #ff0000; font-style: italic\">False</span>,              <span style=\"color: #7f7f7f; text-decoration-color: #7f7f7f\">                         </span>\n",
       "<span style=\"color: #7fbfbf; text-decoration-color: #7fbfbf\">           </span>         <span style=\"color: #008000; text-decoration-color: #008000\">'balance_test'</span>: <span style=\"color: #00ff00; text-decoration-color: #00ff00; font-style: italic\">True</span><span style=\"font-weight: bold\">}}</span>             <span style=\"color: #7f7f7f; text-decoration-color: #7f7f7f\">                         </span>\n",
       "</pre>\n"
      ],
      "text/plain": [
       "\u001b[2;36m          \u001b[0m\u001b[2;36m \u001b[0m\u001b[34mINFO    \u001b[0m data_params: \u001b[1m{\u001b[0m\u001b[32m'dataset'\u001b[0m:           \u001b]8;id=457237;file:///ceph/ssd/students/sabanaya/ntk-robust/exp_ntk_hyperparam.py\u001b\\\u001b[2mexp_ntk_hyperparam.py\u001b[0m\u001b]8;;\u001b\\\u001b[2m:\u001b[0m\u001b]8;id=313202;file:///ceph/ssd/students/sabanaya/ntk-robust/exp_ntk_hyperparam.py#114\u001b\\\u001b[2m114\u001b[0m\u001b]8;;\u001b\\\n",
       "\u001b[2;36m           \u001b[0m         \u001b[32m'cora_ml'\u001b[0m, \u001b[32m'learning_setting'\u001b[0m:     \u001b[2m                         \u001b[0m\n",
       "\u001b[2;36m           \u001b[0m         \u001b[32m'transductive'\u001b[0m, \u001b[32m'cv_folds'\u001b[0m: \u001b[1;36m2\u001b[0m,     \u001b[2m                         \u001b[0m\n",
       "\u001b[2;36m           \u001b[0m         \u001b[32m'specification'\u001b[0m: \u001b[1m{\u001b[0m\u001b[32m'n_per_class'\u001b[0m:   \u001b[2m                         \u001b[0m\n",
       "\u001b[2;36m           \u001b[0m         \u001b[1;36m20\u001b[0m, \u001b[32m'fraction_test'\u001b[0m: \u001b[1;36m0.1\u001b[0m,          \u001b[2m                         \u001b[0m\n",
       "\u001b[2;36m           \u001b[0m         \u001b[32m'data_dir'\u001b[0m: \u001b[32m'./data'\u001b[0m,              \u001b[2m                         \u001b[0m\n",
       "\u001b[2;36m           \u001b[0m         \u001b[32m'make_undirected'\u001b[0m: \u001b[3;92mTrue\u001b[0m,           \u001b[2m                         \u001b[0m\n",
       "\u001b[2;36m           \u001b[0m         \u001b[32m'binary_attr'\u001b[0m: \u001b[3;91mFalse\u001b[0m,              \u001b[2m                         \u001b[0m\n",
       "\u001b[2;36m           \u001b[0m         \u001b[32m'balance_test'\u001b[0m: \u001b[3;92mTrue\u001b[0m\u001b[1m}\u001b[0m\u001b[1m}\u001b[0m             \u001b[2m                         \u001b[0m\n"
      ]
     },
     "metadata": {},
     "output_type": "display_data"
    },
    {
     "data": {
      "text/html": [
       "<pre style=\"white-space:pre;overflow-x:auto;line-height:normal;font-family:Menlo,'DejaVu Sans Mono',consolas,'Courier New',monospace\"><span style=\"color: #7fbfbf; text-decoration-color: #7fbfbf\">           </span><span style=\"color: #000080; text-decoration-color: #000080\">INFO    </span> model_params: <span style=\"font-weight: bold\">{</span><span style=\"color: #008000; text-decoration-color: #008000\">'label'</span>: <span style=\"color: #008000; text-decoration-color: #008000\">'GCN'</span>,     <a href=\"file:///ceph/ssd/students/sabanaya/ntk-robust/exp_ntk_hyperparam.py\" target=\"_blank\"><span style=\"color: #7f7f7f; text-decoration-color: #7f7f7f\">exp_ntk_hyperparam.py</span></a><span style=\"color: #7f7f7f; text-decoration-color: #7f7f7f\">:</span><a href=\"file:///ceph/ssd/students/sabanaya/ntk-robust/exp_ntk_hyperparam.py#115\" target=\"_blank\"><span style=\"color: #7f7f7f; text-decoration-color: #7f7f7f\">115</span></a>\n",
       "<span style=\"color: #7fbfbf; text-decoration-color: #7fbfbf\">           </span>         <span style=\"color: #008000; text-decoration-color: #008000\">'model'</span>: <span style=\"color: #008000; text-decoration-color: #008000\">'GCN'</span>, <span style=\"color: #008000; text-decoration-color: #008000\">'normalization'</span>:   <span style=\"color: #7f7f7f; text-decoration-color: #7f7f7f\">                         </span>\n",
       "<span style=\"color: #7fbfbf; text-decoration-color: #7fbfbf\">           </span>         <span style=\"color: #008000; text-decoration-color: #008000\">'row_normalization'</span>, <span style=\"color: #008000; text-decoration-color: #008000\">'activation'</span>: <span style=\"color: #7f7f7f; text-decoration-color: #7f7f7f\">                         </span>\n",
       "<span style=\"color: #7fbfbf; text-decoration-color: #7fbfbf\">           </span>         <span style=\"color: #008000; text-decoration-color: #008000\">'relu'</span>, <span style=\"color: #008000; text-decoration-color: #008000\">'depth'</span>: <span style=\"color: #008080; text-decoration-color: #008080; font-weight: bold\">1</span>, <span style=\"color: #008000; text-decoration-color: #008000\">'regularizer'</span>: <span style=\"color: #7f7f7f; text-decoration-color: #7f7f7f\">                         </span>\n",
       "<span style=\"color: #7fbfbf; text-decoration-color: #7fbfbf\">           </span>         <span style=\"color: #008080; text-decoration-color: #008080; font-weight: bold\">0.001</span>, <span style=\"color: #008000; text-decoration-color: #008000\">'pred_method'</span>: <span style=\"color: #008000; text-decoration-color: #008000\">'svm'</span>,       <span style=\"color: #7f7f7f; text-decoration-color: #7f7f7f\">                         </span>\n",
       "<span style=\"color: #7fbfbf; text-decoration-color: #7fbfbf\">           </span>         <span style=\"color: #008000; text-decoration-color: #008000\">'bias'</span>: <span style=\"color: #ff0000; text-decoration-color: #ff0000; font-style: italic\">False</span>, <span style=\"color: #008000; text-decoration-color: #008000\">'solver'</span>:           <span style=\"color: #7f7f7f; text-decoration-color: #7f7f7f\">                         </span>\n",
       "<span style=\"color: #7fbfbf; text-decoration-color: #7fbfbf\">           </span>         <span style=\"color: #008000; text-decoration-color: #008000\">'sklearn'</span>, <span style=\"color: #008000; text-decoration-color: #008000\">'alpha_tol'</span>: <span style=\"color: #008080; text-decoration-color: #008080; font-weight: bold\">0.0001</span>,    <span style=\"color: #7f7f7f; text-decoration-color: #7f7f7f\">                         </span>\n",
       "<span style=\"color: #7fbfbf; text-decoration-color: #7fbfbf\">           </span>         <span style=\"color: #008000; text-decoration-color: #008000\">'multiclass_svm_method'</span>:           <span style=\"color: #7f7f7f; text-decoration-color: #7f7f7f\">                         </span>\n",
       "<span style=\"color: #7fbfbf; text-decoration-color: #7fbfbf\">           </span>         <span style=\"color: #008000; text-decoration-color: #008000\">'simMSVM'</span><span style=\"font-weight: bold\">}</span>                         <span style=\"color: #7f7f7f; text-decoration-color: #7f7f7f\">                         </span>\n",
       "</pre>\n"
      ],
      "text/plain": [
       "\u001b[2;36m          \u001b[0m\u001b[2;36m \u001b[0m\u001b[34mINFO    \u001b[0m model_params: \u001b[1m{\u001b[0m\u001b[32m'label'\u001b[0m: \u001b[32m'GCN'\u001b[0m,     \u001b]8;id=658296;file:///ceph/ssd/students/sabanaya/ntk-robust/exp_ntk_hyperparam.py\u001b\\\u001b[2mexp_ntk_hyperparam.py\u001b[0m\u001b]8;;\u001b\\\u001b[2m:\u001b[0m\u001b]8;id=440906;file:///ceph/ssd/students/sabanaya/ntk-robust/exp_ntk_hyperparam.py#115\u001b\\\u001b[2m115\u001b[0m\u001b]8;;\u001b\\\n",
       "\u001b[2;36m           \u001b[0m         \u001b[32m'model'\u001b[0m: \u001b[32m'GCN'\u001b[0m, \u001b[32m'normalization'\u001b[0m:   \u001b[2m                         \u001b[0m\n",
       "\u001b[2;36m           \u001b[0m         \u001b[32m'row_normalization'\u001b[0m, \u001b[32m'activation'\u001b[0m: \u001b[2m                         \u001b[0m\n",
       "\u001b[2;36m           \u001b[0m         \u001b[32m'relu'\u001b[0m, \u001b[32m'depth'\u001b[0m: \u001b[1;36m1\u001b[0m, \u001b[32m'regularizer'\u001b[0m: \u001b[2m                         \u001b[0m\n",
       "\u001b[2;36m           \u001b[0m         \u001b[1;36m0.001\u001b[0m, \u001b[32m'pred_method'\u001b[0m: \u001b[32m'svm'\u001b[0m,       \u001b[2m                         \u001b[0m\n",
       "\u001b[2;36m           \u001b[0m         \u001b[32m'bias'\u001b[0m: \u001b[3;91mFalse\u001b[0m, \u001b[32m'solver'\u001b[0m:           \u001b[2m                         \u001b[0m\n",
       "\u001b[2;36m           \u001b[0m         \u001b[32m'sklearn'\u001b[0m, \u001b[32m'alpha_tol'\u001b[0m: \u001b[1;36m0.0001\u001b[0m,    \u001b[2m                         \u001b[0m\n",
       "\u001b[2;36m           \u001b[0m         \u001b[32m'multiclass_svm_method'\u001b[0m:           \u001b[2m                         \u001b[0m\n",
       "\u001b[2;36m           \u001b[0m         \u001b[32m'simMSVM'\u001b[0m\u001b[1m}\u001b[0m                         \u001b[2m                         \u001b[0m\n"
      ]
     },
     "metadata": {},
     "output_type": "display_data"
    },
    {
     "data": {
      "text/html": [
       "<pre style=\"white-space:pre;overflow-x:auto;line-height:normal;font-family:Menlo,'DejaVu Sans Mono',consolas,'Courier New',monospace\"><span style=\"color: #7fbfbf; text-decoration-color: #7fbfbf\">           </span><span style=\"color: #000080; text-decoration-color: #000080\">INFO    </span> verbosity_params: <span style=\"font-weight: bold\">{</span><span style=\"color: #008000; text-decoration-color: #008000\">'debug_lvl'</span>:    <a href=\"file:///ceph/ssd/students/sabanaya/ntk-robust/exp_ntk_hyperparam.py\" target=\"_blank\"><span style=\"color: #7f7f7f; text-decoration-color: #7f7f7f\">exp_ntk_hyperparam.py</span></a><span style=\"color: #7f7f7f; text-decoration-color: #7f7f7f\">:</span><a href=\"file:///ceph/ssd/students/sabanaya/ntk-robust/exp_ntk_hyperparam.py#116\" target=\"_blank\"><span style=\"color: #7f7f7f; text-decoration-color: #7f7f7f\">116</span></a>\n",
       "<span style=\"color: #7fbfbf; text-decoration-color: #7fbfbf\">           </span>         <span style=\"color: #008000; text-decoration-color: #008000\">'debug'</span><span style=\"font-weight: bold\">}</span>                           <span style=\"color: #7f7f7f; text-decoration-color: #7f7f7f\">                         </span>\n",
       "</pre>\n"
      ],
      "text/plain": [
       "\u001b[2;36m          \u001b[0m\u001b[2;36m \u001b[0m\u001b[34mINFO    \u001b[0m verbosity_params: \u001b[1m{\u001b[0m\u001b[32m'debug_lvl'\u001b[0m:    \u001b]8;id=85394;file:///ceph/ssd/students/sabanaya/ntk-robust/exp_ntk_hyperparam.py\u001b\\\u001b[2mexp_ntk_hyperparam.py\u001b[0m\u001b]8;;\u001b\\\u001b[2m:\u001b[0m\u001b]8;id=709228;file:///ceph/ssd/students/sabanaya/ntk-robust/exp_ntk_hyperparam.py#116\u001b\\\u001b[2m116\u001b[0m\u001b]8;;\u001b\\\n",
       "\u001b[2;36m           \u001b[0m         \u001b[32m'debug'\u001b[0m\u001b[1m}\u001b[0m                           \u001b[2m                         \u001b[0m\n"
      ]
     },
     "metadata": {},
     "output_type": "display_data"
    },
    {
     "data": {
      "text/html": [
       "<pre style=\"white-space:pre;overflow-x:auto;line-height:normal;font-family:Menlo,'DejaVu Sans Mono',consolas,'Courier New',monospace\"><span style=\"color: #7fbfbf; text-decoration-color: #7fbfbf\">           </span><span style=\"color: #000080; text-decoration-color: #000080\">INFO    </span> other_params: <span style=\"font-weight: bold\">{</span><span style=\"color: #008000; text-decoration-color: #008000\">'device'</span>: <span style=\"color: #008000; text-decoration-color: #008000\">'0'</span>,      <a href=\"file:///ceph/ssd/students/sabanaya/ntk-robust/exp_ntk_hyperparam.py\" target=\"_blank\"><span style=\"color: #7f7f7f; text-decoration-color: #7f7f7f\">exp_ntk_hyperparam.py</span></a><span style=\"color: #7f7f7f; text-decoration-color: #7f7f7f\">:</span><a href=\"file:///ceph/ssd/students/sabanaya/ntk-robust/exp_ntk_hyperparam.py#117\" target=\"_blank\"><span style=\"color: #7f7f7f; text-decoration-color: #7f7f7f\">117</span></a>\n",
       "<span style=\"color: #7fbfbf; text-decoration-color: #7fbfbf\">           </span>         <span style=\"color: #008000; text-decoration-color: #008000\">'dtype'</span>: torch.float64,            <span style=\"color: #7f7f7f; text-decoration-color: #7f7f7f\">                         </span>\n",
       "<span style=\"color: #7fbfbf; text-decoration-color: #7fbfbf\">           </span>         <span style=\"color: #008000; text-decoration-color: #008000\">'allow_tf32'</span>: <span style=\"color: #ff0000; text-decoration-color: #ff0000; font-style: italic\">False</span>, <span style=\"color: #008000; text-decoration-color: #008000\">'debug'</span>:      <span style=\"color: #7f7f7f; text-decoration-color: #7f7f7f\">                         </span>\n",
       "<span style=\"color: #7fbfbf; text-decoration-color: #7fbfbf\">           </span>         <span style=\"color: #00ff00; text-decoration-color: #00ff00; font-style: italic\">True</span><span style=\"font-weight: bold\">}</span>                              <span style=\"color: #7f7f7f; text-decoration-color: #7f7f7f\">                         </span>\n",
       "</pre>\n"
      ],
      "text/plain": [
       "\u001b[2;36m          \u001b[0m\u001b[2;36m \u001b[0m\u001b[34mINFO    \u001b[0m other_params: \u001b[1m{\u001b[0m\u001b[32m'device'\u001b[0m: \u001b[32m'0'\u001b[0m,      \u001b]8;id=761704;file:///ceph/ssd/students/sabanaya/ntk-robust/exp_ntk_hyperparam.py\u001b\\\u001b[2mexp_ntk_hyperparam.py\u001b[0m\u001b]8;;\u001b\\\u001b[2m:\u001b[0m\u001b]8;id=158805;file:///ceph/ssd/students/sabanaya/ntk-robust/exp_ntk_hyperparam.py#117\u001b\\\u001b[2m117\u001b[0m\u001b]8;;\u001b\\\n",
       "\u001b[2;36m           \u001b[0m         \u001b[32m'dtype'\u001b[0m: torch.float64,            \u001b[2m                         \u001b[0m\n",
       "\u001b[2;36m           \u001b[0m         \u001b[32m'allow_tf32'\u001b[0m: \u001b[3;91mFalse\u001b[0m, \u001b[32m'debug'\u001b[0m:      \u001b[2m                         \u001b[0m\n",
       "\u001b[2;36m           \u001b[0m         \u001b[3;92mTrue\u001b[0m\u001b[1m}\u001b[0m                              \u001b[2m                         \u001b[0m\n"
      ]
     },
     "metadata": {},
     "output_type": "display_data"
    },
    {
     "data": {
      "text/html": [
       "<pre style=\"white-space:pre;overflow-x:auto;line-height:normal;font-family:Menlo,'DejaVu Sans Mono',consolas,'Courier New',monospace\"><span style=\"color: #7fbfbf; text-decoration-color: #7fbfbf\">           </span><span style=\"color: #000080; text-decoration-color: #000080\">INFO    </span> seed: <span style=\"color: #008080; text-decoration-color: #008080; font-weight: bold\">0</span>                            <a href=\"file:///ceph/ssd/students/sabanaya/ntk-robust/exp_ntk_hyperparam.py\" target=\"_blank\"><span style=\"color: #7f7f7f; text-decoration-color: #7f7f7f\">exp_ntk_hyperparam.py</span></a><span style=\"color: #7f7f7f; text-decoration-color: #7f7f7f\">:</span><a href=\"file:///ceph/ssd/students/sabanaya/ntk-robust/exp_ntk_hyperparam.py#118\" target=\"_blank\"><span style=\"color: #7f7f7f; text-decoration-color: #7f7f7f\">118</span></a>\n",
       "</pre>\n"
      ],
      "text/plain": [
       "\u001b[2;36m          \u001b[0m\u001b[2;36m \u001b[0m\u001b[34mINFO    \u001b[0m seed: \u001b[1;36m0\u001b[0m                            \u001b]8;id=680605;file:///ceph/ssd/students/sabanaya/ntk-robust/exp_ntk_hyperparam.py\u001b\\\u001b[2mexp_ntk_hyperparam.py\u001b[0m\u001b]8;;\u001b\\\u001b[2m:\u001b[0m\u001b]8;id=621421;file:///ceph/ssd/students/sabanaya/ntk-robust/exp_ntk_hyperparam.py#118\u001b\\\u001b[2m118\u001b[0m\u001b]8;;\u001b\\\n"
      ]
     },
     "metadata": {},
     "output_type": "display_data"
    },
    {
     "data": {
      "text/html": [
       "<pre style=\"white-space:pre;overflow-x:auto;line-height:normal;font-family:Menlo,'DejaVu Sans Mono',consolas,'Courier New',monospace\"><span style=\"color: #7fbfbf; text-decoration-color: #7fbfbf\">           </span><span style=\"color: #000080; text-decoration-color: #000080\">INFO    </span> Currently on gpu device cu<span style=\"color: #00ff00; text-decoration-color: #00ff00; font-weight: bold\">da:0</span>     <a href=\"file:///ceph/ssd/students/sabanaya/ntk-robust/exp_ntk_hyperparam.py\" target=\"_blank\"><span style=\"color: #7f7f7f; text-decoration-color: #7f7f7f\">exp_ntk_hyperparam.py</span></a><span style=\"color: #7f7f7f; text-decoration-color: #7f7f7f\">:</span><a href=\"file:///ceph/ssd/students/sabanaya/ntk-robust/exp_ntk_hyperparam.py#149\" target=\"_blank\"><span style=\"color: #7f7f7f; text-decoration-color: #7f7f7f\">149</span></a>\n",
       "</pre>\n"
      ],
      "text/plain": [
       "\u001b[2;36m          \u001b[0m\u001b[2;36m \u001b[0m\u001b[34mINFO    \u001b[0m Currently on gpu device cu\u001b[1;92mda:0\u001b[0m     \u001b]8;id=588207;file:///ceph/ssd/students/sabanaya/ntk-robust/exp_ntk_hyperparam.py\u001b\\\u001b[2mexp_ntk_hyperparam.py\u001b[0m\u001b]8;;\u001b\\\u001b[2m:\u001b[0m\u001b]8;id=972138;file:///ceph/ssd/students/sabanaya/ntk-robust/exp_ntk_hyperparam.py#149\u001b\\\u001b[2m149\u001b[0m\u001b]8;;\u001b\\\n"
      ]
     },
     "metadata": {},
     "output_type": "display_data"
    },
    {
     "data": {
      "text/html": [
       "<pre style=\"white-space:pre;overflow-x:auto;line-height:normal;font-family:Menlo,'DejaVu Sans Mono',consolas,'Courier New',monospace\"><span style=\"color: #7fbfbf; text-decoration-color: #7fbfbf\">           </span><span style=\"color: #000080; text-decoration-color: #000080\">INFO    </span> <span style=\"color: #800080; text-decoration-color: #800080; font-weight: bold\">X.min</span><span style=\"font-weight: bold\">()</span>: <span style=\"color: #008080; text-decoration-color: #008080; font-weight: bold\">0.0</span>                                     <a href=\"file:///ceph/ssd/students/sabanaya/ntk-robust/src/data.py\" target=\"_blank\"><span style=\"color: #7f7f7f; text-decoration-color: #7f7f7f\">data.py</span></a><span style=\"color: #7f7f7f; text-decoration-color: #7f7f7f\">:</span><a href=\"file:///ceph/ssd/students/sabanaya/ntk-robust/src/data.py#174\" target=\"_blank\"><span style=\"color: #7f7f7f; text-decoration-color: #7f7f7f\">174</span></a>\n",
       "</pre>\n"
      ],
      "text/plain": [
       "\u001b[2;36m          \u001b[0m\u001b[2;36m \u001b[0m\u001b[34mINFO    \u001b[0m \u001b[1;35mX.min\u001b[0m\u001b[1m(\u001b[0m\u001b[1m)\u001b[0m: \u001b[1;36m0.0\u001b[0m                                     \u001b]8;id=84951;file:///ceph/ssd/students/sabanaya/ntk-robust/src/data.py\u001b\\\u001b[2mdata.py\u001b[0m\u001b]8;;\u001b\\\u001b[2m:\u001b[0m\u001b]8;id=384025;file:///ceph/ssd/students/sabanaya/ntk-robust/src/data.py#174\u001b\\\u001b[2m174\u001b[0m\u001b]8;;\u001b\\\n"
      ]
     },
     "metadata": {},
     "output_type": "display_data"
    },
    {
     "data": {
      "text/html": [
       "<pre style=\"white-space:pre;overflow-x:auto;line-height:normal;font-family:Menlo,'DejaVu Sans Mono',consolas,'Courier New',monospace\"><span style=\"color: #7fbfbf; text-decoration-color: #7fbfbf\">           </span><span style=\"color: #000080; text-decoration-color: #000080\">INFO    </span> <span style=\"color: #800080; text-decoration-color: #800080; font-weight: bold\">X.max</span><span style=\"font-weight: bold\">()</span>: <span style=\"color: #008080; text-decoration-color: #008080; font-weight: bold\">1.0</span>                                     <a href=\"file:///ceph/ssd/students/sabanaya/ntk-robust/src/data.py\" target=\"_blank\"><span style=\"color: #7f7f7f; text-decoration-color: #7f7f7f\">data.py</span></a><span style=\"color: #7f7f7f; text-decoration-color: #7f7f7f\">:</span><a href=\"file:///ceph/ssd/students/sabanaya/ntk-robust/src/data.py#175\" target=\"_blank\"><span style=\"color: #7f7f7f; text-decoration-color: #7f7f7f\">175</span></a>\n",
       "</pre>\n"
      ],
      "text/plain": [
       "\u001b[2;36m          \u001b[0m\u001b[2;36m \u001b[0m\u001b[34mINFO    \u001b[0m \u001b[1;35mX.max\u001b[0m\u001b[1m(\u001b[0m\u001b[1m)\u001b[0m: \u001b[1;36m1.0\u001b[0m                                     \u001b]8;id=924731;file:///ceph/ssd/students/sabanaya/ntk-robust/src/data.py\u001b\\\u001b[2mdata.py\u001b[0m\u001b]8;;\u001b\\\u001b[2m:\u001b[0m\u001b]8;id=850810;file:///ceph/ssd/students/sabanaya/ntk-robust/src/data.py#175\u001b\\\u001b[2m175\u001b[0m\u001b]8;;\u001b\\\n"
      ]
     },
     "metadata": {},
     "output_type": "display_data"
    },
    {
     "data": {
      "text/html": [
       "<pre style=\"white-space:pre;overflow-x:auto;line-height:normal;font-family:Menlo,'DejaVu Sans Mono',consolas,'Courier New',monospace\"><span style=\"color: #7fbfbf; text-decoration-color: #7fbfbf\">           </span><span style=\"color: #000080; text-decoration-color: #000080\">INFO    </span> <span style=\"color: #800080; text-decoration-color: #800080; font-weight: bold\">X_rowsum.mean</span><span style=\"font-weight: bold\">()</span>: <span style=\"color: #008080; text-decoration-color: #008080; font-weight: bold\">50.63558578491211</span>               <a href=\"file:///ceph/ssd/students/sabanaya/ntk-robust/src/data.py\" target=\"_blank\"><span style=\"color: #7f7f7f; text-decoration-color: #7f7f7f\">data.py</span></a><span style=\"color: #7f7f7f; text-decoration-color: #7f7f7f\">:</span><a href=\"file:///ceph/ssd/students/sabanaya/ntk-robust/src/data.py#176\" target=\"_blank\"><span style=\"color: #7f7f7f; text-decoration-color: #7f7f7f\">176</span></a>\n",
       "</pre>\n"
      ],
      "text/plain": [
       "\u001b[2;36m          \u001b[0m\u001b[2;36m \u001b[0m\u001b[34mINFO    \u001b[0m \u001b[1;35mX_rowsum.mean\u001b[0m\u001b[1m(\u001b[0m\u001b[1m)\u001b[0m: \u001b[1;36m50.63558578491211\u001b[0m               \u001b]8;id=245625;file:///ceph/ssd/students/sabanaya/ntk-robust/src/data.py\u001b\\\u001b[2mdata.py\u001b[0m\u001b]8;;\u001b\\\u001b[2m:\u001b[0m\u001b]8;id=930545;file:///ceph/ssd/students/sabanaya/ntk-robust/src/data.py#176\u001b\\\u001b[2m176\u001b[0m\u001b]8;;\u001b\\\n"
      ]
     },
     "metadata": {},
     "output_type": "display_data"
    },
    {
     "data": {
      "text/html": [
       "<pre style=\"white-space:pre;overflow-x:auto;line-height:normal;font-family:Menlo,'DejaVu Sans Mono',consolas,'Courier New',monospace\"><span style=\"color: #7fbfbf; text-decoration-color: #7fbfbf\">           </span><span style=\"color: #000080; text-decoration-color: #000080\">INFO    </span> <span style=\"color: #800080; text-decoration-color: #800080; font-weight: bold\">X_rowsum.median</span><span style=\"font-weight: bold\">()</span>: <span style=\"color: #008080; text-decoration-color: #008080; font-weight: bold\">49.0</span>                          <a href=\"file:///ceph/ssd/students/sabanaya/ntk-robust/src/data.py\" target=\"_blank\"><span style=\"color: #7f7f7f; text-decoration-color: #7f7f7f\">data.py</span></a><span style=\"color: #7f7f7f; text-decoration-color: #7f7f7f\">:</span><a href=\"file:///ceph/ssd/students/sabanaya/ntk-robust/src/data.py#177\" target=\"_blank\"><span style=\"color: #7f7f7f; text-decoration-color: #7f7f7f\">177</span></a>\n",
       "</pre>\n"
      ],
      "text/plain": [
       "\u001b[2;36m          \u001b[0m\u001b[2;36m \u001b[0m\u001b[34mINFO    \u001b[0m \u001b[1;35mX_rowsum.median\u001b[0m\u001b[1m(\u001b[0m\u001b[1m)\u001b[0m: \u001b[1;36m49.0\u001b[0m                          \u001b]8;id=777336;file:///ceph/ssd/students/sabanaya/ntk-robust/src/data.py\u001b\\\u001b[2mdata.py\u001b[0m\u001b]8;;\u001b\\\u001b[2m:\u001b[0m\u001b]8;id=678292;file:///ceph/ssd/students/sabanaya/ntk-robust/src/data.py#177\u001b\\\u001b[2m177\u001b[0m\u001b]8;;\u001b\\\n"
      ]
     },
     "metadata": {},
     "output_type": "display_data"
    },
    {
     "data": {
      "text/html": [
       "<pre style=\"white-space:pre;overflow-x:auto;line-height:normal;font-family:Menlo,'DejaVu Sans Mono',consolas,'Courier New',monospace\"><span style=\"color: #7fbfbf; text-decoration-color: #7fbfbf\">           </span><span style=\"color: #000080; text-decoration-color: #000080\">INFO    </span> <span style=\"color: #800080; text-decoration-color: #800080; font-weight: bold\">X_rowsum.min</span><span style=\"font-weight: bold\">()</span>: <span style=\"color: #008080; text-decoration-color: #008080; font-weight: bold\">2.0</span>                              <a href=\"file:///ceph/ssd/students/sabanaya/ntk-robust/src/data.py\" target=\"_blank\"><span style=\"color: #7f7f7f; text-decoration-color: #7f7f7f\">data.py</span></a><span style=\"color: #7f7f7f; text-decoration-color: #7f7f7f\">:</span><a href=\"file:///ceph/ssd/students/sabanaya/ntk-robust/src/data.py#178\" target=\"_blank\"><span style=\"color: #7f7f7f; text-decoration-color: #7f7f7f\">178</span></a>\n",
       "</pre>\n"
      ],
      "text/plain": [
       "\u001b[2;36m          \u001b[0m\u001b[2;36m \u001b[0m\u001b[34mINFO    \u001b[0m \u001b[1;35mX_rowsum.min\u001b[0m\u001b[1m(\u001b[0m\u001b[1m)\u001b[0m: \u001b[1;36m2.0\u001b[0m                              \u001b]8;id=965476;file:///ceph/ssd/students/sabanaya/ntk-robust/src/data.py\u001b\\\u001b[2mdata.py\u001b[0m\u001b]8;;\u001b\\\u001b[2m:\u001b[0m\u001b]8;id=96132;file:///ceph/ssd/students/sabanaya/ntk-robust/src/data.py#178\u001b\\\u001b[2m178\u001b[0m\u001b]8;;\u001b\\\n"
      ]
     },
     "metadata": {},
     "output_type": "display_data"
    },
    {
     "data": {
      "text/html": [
       "<pre style=\"white-space:pre;overflow-x:auto;line-height:normal;font-family:Menlo,'DejaVu Sans Mono',consolas,'Courier New',monospace\"><span style=\"color: #7fbfbf; text-decoration-color: #7fbfbf\">           </span><span style=\"color: #000080; text-decoration-color: #000080\">INFO    </span> <span style=\"color: #800080; text-decoration-color: #800080; font-weight: bold\">X_rowsum.max</span><span style=\"font-weight: bold\">()</span>: <span style=\"color: #008080; text-decoration-color: #008080; font-weight: bold\">176.0</span>                            <a href=\"file:///ceph/ssd/students/sabanaya/ntk-robust/src/data.py\" target=\"_blank\"><span style=\"color: #7f7f7f; text-decoration-color: #7f7f7f\">data.py</span></a><span style=\"color: #7f7f7f; text-decoration-color: #7f7f7f\">:</span><a href=\"file:///ceph/ssd/students/sabanaya/ntk-robust/src/data.py#179\" target=\"_blank\"><span style=\"color: #7f7f7f; text-decoration-color: #7f7f7f\">179</span></a>\n",
       "</pre>\n"
      ],
      "text/plain": [
       "\u001b[2;36m          \u001b[0m\u001b[2;36m \u001b[0m\u001b[34mINFO    \u001b[0m \u001b[1;35mX_rowsum.max\u001b[0m\u001b[1m(\u001b[0m\u001b[1m)\u001b[0m: \u001b[1;36m176.0\u001b[0m                            \u001b]8;id=316427;file:///ceph/ssd/students/sabanaya/ntk-robust/src/data.py\u001b\\\u001b[2mdata.py\u001b[0m\u001b]8;;\u001b\\\u001b[2m:\u001b[0m\u001b]8;id=891334;file:///ceph/ssd/students/sabanaya/ntk-robust/src/data.py#179\u001b\\\u001b[2m179\u001b[0m\u001b]8;;\u001b\\\n"
      ]
     },
     "metadata": {},
     "output_type": "display_data"
    },
    {
     "data": {
      "text/html": [
       "<pre style=\"white-space:pre;overflow-x:auto;line-height:normal;font-family:Menlo,'DejaVu Sans Mono',consolas,'Courier New',monospace\"><span style=\"color: #7fbfbf; text-decoration-color: #7fbfbf\">           </span><span style=\"color: #000080; text-decoration-color: #000080\">INFO    </span> number of samples                                <a href=\"file:///ceph/ssd/students/sabanaya/ntk-robust/src/data.py\" target=\"_blank\"><span style=\"color: #7f7f7f; text-decoration-color: #7f7f7f\">data.py</span></a><span style=\"color: #7f7f7f; text-decoration-color: #7f7f7f\">:</span><a href=\"file:///ceph/ssd/students/sabanaya/ntk-robust/src/data.py#284\" target=\"_blank\"><span style=\"color: #7f7f7f; text-decoration-color: #7f7f7f\">284</span></a>\n",
       "<span style=\"color: #7fbfbf; text-decoration-color: #7fbfbf\">           </span>          - labeled: <span style=\"color: #008080; text-decoration-color: #008080; font-weight: bold\">140</span>                                  <span style=\"color: #7f7f7f; text-decoration-color: #7f7f7f\">           </span>\n",
       "<span style=\"color: #7fbfbf; text-decoration-color: #7fbfbf\">           </span>          - val: <span style=\"color: #008080; text-decoration-color: #008080; font-weight: bold\">140</span>                                      <span style=\"color: #7f7f7f; text-decoration-color: #7f7f7f\">           </span>\n",
       "<span style=\"color: #7fbfbf; text-decoration-color: #7fbfbf\">           </span>          - test: <span style=\"color: #008080; text-decoration-color: #008080; font-weight: bold\">284</span>                                     <span style=\"color: #7f7f7f; text-decoration-color: #7f7f7f\">           </span>\n",
       "<span style=\"color: #7fbfbf; text-decoration-color: #7fbfbf\">           </span>          - unlabeled: <span style=\"color: #008080; text-decoration-color: #008080; font-weight: bold\">2246</span>                               <span style=\"color: #7f7f7f; text-decoration-color: #7f7f7f\">           </span>\n",
       "</pre>\n"
      ],
      "text/plain": [
       "\u001b[2;36m          \u001b[0m\u001b[2;36m \u001b[0m\u001b[34mINFO    \u001b[0m number of samples                                \u001b]8;id=44288;file:///ceph/ssd/students/sabanaya/ntk-robust/src/data.py\u001b\\\u001b[2mdata.py\u001b[0m\u001b]8;;\u001b\\\u001b[2m:\u001b[0m\u001b]8;id=862782;file:///ceph/ssd/students/sabanaya/ntk-robust/src/data.py#284\u001b\\\u001b[2m284\u001b[0m\u001b]8;;\u001b\\\n",
       "\u001b[2;36m           \u001b[0m          - labeled: \u001b[1;36m140\u001b[0m                                  \u001b[2m           \u001b[0m\n",
       "\u001b[2;36m           \u001b[0m          - val: \u001b[1;36m140\u001b[0m                                      \u001b[2m           \u001b[0m\n",
       "\u001b[2;36m           \u001b[0m          - test: \u001b[1;36m284\u001b[0m                                     \u001b[2m           \u001b[0m\n",
       "\u001b[2;36m           \u001b[0m          - unlabeled: \u001b[1;36m2246\u001b[0m                               \u001b[2m           \u001b[0m\n"
      ]
     },
     "metadata": {},
     "output_type": "display_data"
    },
    {
     "name": "stdout",
     "output_type": "stream",
     "text": [
      "train val split  (140,) (140,)\n",
      "Sig.mean(): 3.5262855649525986\n",
      "Sig.min(): 0.0\n",
      "Sig.max(): 91.25\n",
      "Depth 0\n",
      "E_der.min(): 0.5\n",
      "E_der.max(): 1.0\n",
      "Sig.mean(): 6.375333901322247\n",
      "Sig.min(): 1.9083869567264893\n",
      "Sig.max(): 72.02354586040484\n",
      "#Number of Support Vectors\n",
      "140\n",
      "alpha_mean: -4.556266832291005e-21\n",
      "train val split  (140,) (140,)\n",
      "Sig.mean(): 3.5262855649525986\n",
      "Sig.min(): 0.0\n",
      "Sig.max(): 91.25\n",
      "Depth 0\n",
      "E_der.min(): 0.5\n",
      "E_der.max(): 1.0\n",
      "Sig.mean(): 6.375333901322247\n",
      "Sig.min(): 1.9083869567264893\n",
      "Sig.max(): 72.02354586040484\n",
      "#Number of Support Vectors\n",
      "140\n",
      "alpha_mean: -1.0880648025345015e-22\n",
      "Sig.mean(): 3.5262855649525986\n",
      "Sig.min(): 0.0\n",
      "Sig.max(): 91.25\n",
      "Depth 0\n",
      "E_der.min(): 0.5\n",
      "E_der.max(): 1.0\n",
      "Sig.mean(): 6.375333901322247\n",
      "Sig.min(): 1.9083869567264893\n",
      "Sig.max(): 72.02354586040484\n",
      "#Number of Support Vectors\n",
      "280\n",
      "alpha_mean: 1.8926057842856034e-21\n",
      "#Number of Support Vectors\n",
      "280\n",
      "alpha_mean: 1.8926057842856034e-21\n"
     ]
    },
    {
     "data": {
      "text/plain": [
       "{'trn_acc': 0.9178571701049805,\n",
       " 'val_acc_l': [0.8071428537368774, 0.8214285969734192],\n",
       " 'test_acc': 0.8363636136054993,\n",
       " 'trn_min_ypred': -1.019201397895813,\n",
       " 'trn_max_ypred': -0.864044725894928,\n",
       " 'trn_min_ntkunlabeled': 3.330968925422657,\n",
       " 'trn_max_ntkunlabeled': 56.09592479824309,\n",
       " 'val_cond': [5406.631886584285, 1236088.2488305317],\n",
       " 'val_min_ypred': [-1.0094969272613525, -1.008741021156311],\n",
       " 'val_max_ypred': [-0.9213541746139526, -0.9454612135887146],\n",
       " 'val_min_ntklabeled': [3.3586876084920045, 3.370112010343827],\n",
       " 'val_max_ntklabeled': [56.09692479824309, 51.98985292744192],\n",
       " 'val_min_ntkunlabeled': [2.3938209237627683, 2.3938209237627683],\n",
       " 'val_max_ntkunlabeled': [59.638279436721575, 59.638279436721575],\n",
       " 'test_min_ypred': -1.0250886678695679,\n",
       " 'test_max_ypred': -0.8796449899673462,\n",
       " 'test_min_ntklabeled': 3.330968925422657,\n",
       " 'test_max_ntklabeled': 56.09692479824309,\n",
       " 'test_min_ntkunlabeled': 2.3938209237627683,\n",
       " 'test_max_ntkunlabeled': 59.638279436721575,\n",
       " 'test_cond': 2505399.9170512552}"
      ]
     },
     "execution_count": 30,
     "metadata": {},
     "output_type": "execute_result"
    }
   ],
   "source": [
    "data_params[\"dataset\"] = \"cora_ml\" #loads cora_ml\n",
    "run(data_params, model_params, verbosity_params, other_params, seed)\n"
   ]
  },
  {
   "cell_type": "code",
   "execution_count": 29,
   "metadata": {},
   "outputs": [
    {
     "data": {
      "text/html": [
       "<pre style=\"white-space:pre;overflow-x:auto;line-height:normal;font-family:Menlo,'DejaVu Sans Mono',consolas,'Courier New',monospace\"><span style=\"color: #7fbfbf; text-decoration-color: #7fbfbf\">[12:21:25] </span><span style=\"color: #000080; text-decoration-color: #000080\">INFO    </span> Starting experiment                <a href=\"file:///ceph/ssd/students/sabanaya/ntk-robust/exp_ntk_hyperparam.py\" target=\"_blank\"><span style=\"color: #7f7f7f; text-decoration-color: #7f7f7f\">exp_ntk_hyperparam.py</span></a><span style=\"color: #7f7f7f; text-decoration-color: #7f7f7f\">:</span><a href=\"file:///ceph/ssd/students/sabanaya/ntk-robust/exp_ntk_hyperparam.py#113\" target=\"_blank\"><span style=\"color: #7f7f7f; text-decoration-color: #7f7f7f\">113</span></a>\n",
       "<span style=\"color: #7fbfbf; text-decoration-color: #7fbfbf\">           </span>         exp_ntk_hyperparam with            <span style=\"color: #7f7f7f; text-decoration-color: #7f7f7f\">                         </span>\n",
       "<span style=\"color: #7fbfbf; text-decoration-color: #7fbfbf\">           </span>         configuration:                     <span style=\"color: #7f7f7f; text-decoration-color: #7f7f7f\">                         </span>\n",
       "</pre>\n"
      ],
      "text/plain": [
       "\u001b[2;36m[12:21:25]\u001b[0m\u001b[2;36m \u001b[0m\u001b[34mINFO    \u001b[0m Starting experiment                \u001b]8;id=332836;file:///ceph/ssd/students/sabanaya/ntk-robust/exp_ntk_hyperparam.py\u001b\\\u001b[2mexp_ntk_hyperparam.py\u001b[0m\u001b]8;;\u001b\\\u001b[2m:\u001b[0m\u001b]8;id=732255;file:///ceph/ssd/students/sabanaya/ntk-robust/exp_ntk_hyperparam.py#113\u001b\\\u001b[2m113\u001b[0m\u001b]8;;\u001b\\\n",
       "\u001b[2;36m           \u001b[0m         exp_ntk_hyperparam with            \u001b[2m                         \u001b[0m\n",
       "\u001b[2;36m           \u001b[0m         configuration:                     \u001b[2m                         \u001b[0m\n"
      ]
     },
     "metadata": {},
     "output_type": "display_data"
    },
    {
     "data": {
      "text/html": [
       "<pre style=\"white-space:pre;overflow-x:auto;line-height:normal;font-family:Menlo,'DejaVu Sans Mono',consolas,'Courier New',monospace\"><span style=\"color: #7fbfbf; text-decoration-color: #7fbfbf\">           </span><span style=\"color: #000080; text-decoration-color: #000080\">INFO    </span> data_params: <span style=\"font-weight: bold\">{</span><span style=\"color: #008000; text-decoration-color: #008000\">'dataset'</span>:           <a href=\"file:///ceph/ssd/students/sabanaya/ntk-robust/exp_ntk_hyperparam.py\" target=\"_blank\"><span style=\"color: #7f7f7f; text-decoration-color: #7f7f7f\">exp_ntk_hyperparam.py</span></a><span style=\"color: #7f7f7f; text-decoration-color: #7f7f7f\">:</span><a href=\"file:///ceph/ssd/students/sabanaya/ntk-robust/exp_ntk_hyperparam.py#114\" target=\"_blank\"><span style=\"color: #7f7f7f; text-decoration-color: #7f7f7f\">114</span></a>\n",
       "<span style=\"color: #7fbfbf; text-decoration-color: #7fbfbf\">           </span>         <span style=\"color: #008000; text-decoration-color: #008000\">'cora_ml'</span>, <span style=\"color: #008000; text-decoration-color: #008000\">'learning_setting'</span>:     <span style=\"color: #7f7f7f; text-decoration-color: #7f7f7f\">                         </span>\n",
       "<span style=\"color: #7fbfbf; text-decoration-color: #7fbfbf\">           </span>         <span style=\"color: #008000; text-decoration-color: #008000\">'transductive'</span>, <span style=\"color: #008000; text-decoration-color: #008000\">'cv_folds'</span>: <span style=\"color: #008080; text-decoration-color: #008080; font-weight: bold\">2</span>,     <span style=\"color: #7f7f7f; text-decoration-color: #7f7f7f\">                         </span>\n",
       "<span style=\"color: #7fbfbf; text-decoration-color: #7fbfbf\">           </span>         <span style=\"color: #008000; text-decoration-color: #008000\">'specification'</span>: <span style=\"font-weight: bold\">{</span><span style=\"color: #008000; text-decoration-color: #008000\">'n_per_class'</span>:   <span style=\"color: #7f7f7f; text-decoration-color: #7f7f7f\">                         </span>\n",
       "<span style=\"color: #7fbfbf; text-decoration-color: #7fbfbf\">           </span>         <span style=\"color: #008080; text-decoration-color: #008080; font-weight: bold\">20</span>, <span style=\"color: #008000; text-decoration-color: #008000\">'fraction_test'</span>: <span style=\"color: #008080; text-decoration-color: #008080; font-weight: bold\">0.1</span>,          <span style=\"color: #7f7f7f; text-decoration-color: #7f7f7f\">                         </span>\n",
       "<span style=\"color: #7fbfbf; text-decoration-color: #7fbfbf\">           </span>         <span style=\"color: #008000; text-decoration-color: #008000\">'data_dir'</span>: <span style=\"color: #008000; text-decoration-color: #008000\">'./data'</span>,              <span style=\"color: #7f7f7f; text-decoration-color: #7f7f7f\">                         </span>\n",
       "<span style=\"color: #7fbfbf; text-decoration-color: #7fbfbf\">           </span>         <span style=\"color: #008000; text-decoration-color: #008000\">'make_undirected'</span>: <span style=\"color: #00ff00; text-decoration-color: #00ff00; font-style: italic\">True</span>,           <span style=\"color: #7f7f7f; text-decoration-color: #7f7f7f\">                         </span>\n",
       "<span style=\"color: #7fbfbf; text-decoration-color: #7fbfbf\">           </span>         <span style=\"color: #008000; text-decoration-color: #008000\">'binary_attr'</span>: <span style=\"color: #ff0000; text-decoration-color: #ff0000; font-style: italic\">False</span>,              <span style=\"color: #7f7f7f; text-decoration-color: #7f7f7f\">                         </span>\n",
       "<span style=\"color: #7fbfbf; text-decoration-color: #7fbfbf\">           </span>         <span style=\"color: #008000; text-decoration-color: #008000\">'balance_test'</span>: <span style=\"color: #00ff00; text-decoration-color: #00ff00; font-style: italic\">True</span><span style=\"font-weight: bold\">}}</span>             <span style=\"color: #7f7f7f; text-decoration-color: #7f7f7f\">                         </span>\n",
       "</pre>\n"
      ],
      "text/plain": [
       "\u001b[2;36m          \u001b[0m\u001b[2;36m \u001b[0m\u001b[34mINFO    \u001b[0m data_params: \u001b[1m{\u001b[0m\u001b[32m'dataset'\u001b[0m:           \u001b]8;id=564639;file:///ceph/ssd/students/sabanaya/ntk-robust/exp_ntk_hyperparam.py\u001b\\\u001b[2mexp_ntk_hyperparam.py\u001b[0m\u001b]8;;\u001b\\\u001b[2m:\u001b[0m\u001b]8;id=381882;file:///ceph/ssd/students/sabanaya/ntk-robust/exp_ntk_hyperparam.py#114\u001b\\\u001b[2m114\u001b[0m\u001b]8;;\u001b\\\n",
       "\u001b[2;36m           \u001b[0m         \u001b[32m'cora_ml'\u001b[0m, \u001b[32m'learning_setting'\u001b[0m:     \u001b[2m                         \u001b[0m\n",
       "\u001b[2;36m           \u001b[0m         \u001b[32m'transductive'\u001b[0m, \u001b[32m'cv_folds'\u001b[0m: \u001b[1;36m2\u001b[0m,     \u001b[2m                         \u001b[0m\n",
       "\u001b[2;36m           \u001b[0m         \u001b[32m'specification'\u001b[0m: \u001b[1m{\u001b[0m\u001b[32m'n_per_class'\u001b[0m:   \u001b[2m                         \u001b[0m\n",
       "\u001b[2;36m           \u001b[0m         \u001b[1;36m20\u001b[0m, \u001b[32m'fraction_test'\u001b[0m: \u001b[1;36m0.1\u001b[0m,          \u001b[2m                         \u001b[0m\n",
       "\u001b[2;36m           \u001b[0m         \u001b[32m'data_dir'\u001b[0m: \u001b[32m'./data'\u001b[0m,              \u001b[2m                         \u001b[0m\n",
       "\u001b[2;36m           \u001b[0m         \u001b[32m'make_undirected'\u001b[0m: \u001b[3;92mTrue\u001b[0m,           \u001b[2m                         \u001b[0m\n",
       "\u001b[2;36m           \u001b[0m         \u001b[32m'binary_attr'\u001b[0m: \u001b[3;91mFalse\u001b[0m,              \u001b[2m                         \u001b[0m\n",
       "\u001b[2;36m           \u001b[0m         \u001b[32m'balance_test'\u001b[0m: \u001b[3;92mTrue\u001b[0m\u001b[1m}\u001b[0m\u001b[1m}\u001b[0m             \u001b[2m                         \u001b[0m\n"
      ]
     },
     "metadata": {},
     "output_type": "display_data"
    },
    {
     "data": {
      "text/html": [
       "<pre style=\"white-space:pre;overflow-x:auto;line-height:normal;font-family:Menlo,'DejaVu Sans Mono',consolas,'Courier New',monospace\"><span style=\"color: #7fbfbf; text-decoration-color: #7fbfbf\">           </span><span style=\"color: #000080; text-decoration-color: #000080\">INFO    </span> model_params: <span style=\"font-weight: bold\">{</span><span style=\"color: #008000; text-decoration-color: #008000\">'label'</span>: <span style=\"color: #008000; text-decoration-color: #008000\">'GCN'</span>,     <a href=\"file:///ceph/ssd/students/sabanaya/ntk-robust/exp_ntk_hyperparam.py\" target=\"_blank\"><span style=\"color: #7f7f7f; text-decoration-color: #7f7f7f\">exp_ntk_hyperparam.py</span></a><span style=\"color: #7f7f7f; text-decoration-color: #7f7f7f\">:</span><a href=\"file:///ceph/ssd/students/sabanaya/ntk-robust/exp_ntk_hyperparam.py#115\" target=\"_blank\"><span style=\"color: #7f7f7f; text-decoration-color: #7f7f7f\">115</span></a>\n",
       "<span style=\"color: #7fbfbf; text-decoration-color: #7fbfbf\">           </span>         <span style=\"color: #008000; text-decoration-color: #008000\">'model'</span>: <span style=\"color: #008000; text-decoration-color: #008000\">'GCN'</span>, <span style=\"color: #008000; text-decoration-color: #008000\">'normalization'</span>:   <span style=\"color: #7f7f7f; text-decoration-color: #7f7f7f\">                         </span>\n",
       "<span style=\"color: #7fbfbf; text-decoration-color: #7fbfbf\">           </span>         <span style=\"color: #008000; text-decoration-color: #008000\">'row_normalization'</span>, <span style=\"color: #008000; text-decoration-color: #008000\">'activation'</span>: <span style=\"color: #7f7f7f; text-decoration-color: #7f7f7f\">                         </span>\n",
       "<span style=\"color: #7fbfbf; text-decoration-color: #7fbfbf\">           </span>         <span style=\"color: #008000; text-decoration-color: #008000\">'relu'</span>, <span style=\"color: #008000; text-decoration-color: #008000\">'depth'</span>: <span style=\"color: #008080; text-decoration-color: #008080; font-weight: bold\">1</span>, <span style=\"color: #008000; text-decoration-color: #008000\">'regularizer'</span>: <span style=\"color: #7f7f7f; text-decoration-color: #7f7f7f\">                         </span>\n",
       "<span style=\"color: #7fbfbf; text-decoration-color: #7fbfbf\">           </span>         <span style=\"color: #008080; text-decoration-color: #008080; font-weight: bold\">0.001</span>, <span style=\"color: #008000; text-decoration-color: #008000\">'pred_method'</span>: <span style=\"color: #008000; text-decoration-color: #008000\">'svm'</span>,       <span style=\"color: #7f7f7f; text-decoration-color: #7f7f7f\">                         </span>\n",
       "<span style=\"color: #7fbfbf; text-decoration-color: #7fbfbf\">           </span>         <span style=\"color: #008000; text-decoration-color: #008000\">'bias'</span>: <span style=\"color: #ff0000; text-decoration-color: #ff0000; font-style: italic\">False</span>, <span style=\"color: #008000; text-decoration-color: #008000\">'solver'</span>:           <span style=\"color: #7f7f7f; text-decoration-color: #7f7f7f\">                         </span>\n",
       "<span style=\"color: #7fbfbf; text-decoration-color: #7fbfbf\">           </span>         <span style=\"color: #008000; text-decoration-color: #008000\">'sklearn'</span>, <span style=\"color: #008000; text-decoration-color: #008000\">'alpha_tol'</span>: <span style=\"color: #008080; text-decoration-color: #008080; font-weight: bold\">0.0001</span>,    <span style=\"color: #7f7f7f; text-decoration-color: #7f7f7f\">                         </span>\n",
       "<span style=\"color: #7fbfbf; text-decoration-color: #7fbfbf\">           </span>         <span style=\"color: #008000; text-decoration-color: #008000\">'multiclass_svm_method'</span>:           <span style=\"color: #7f7f7f; text-decoration-color: #7f7f7f\">                         </span>\n",
       "<span style=\"color: #7fbfbf; text-decoration-color: #7fbfbf\">           </span>         <span style=\"color: #008000; text-decoration-color: #008000\">'simMSVM'</span><span style=\"font-weight: bold\">}</span>                         <span style=\"color: #7f7f7f; text-decoration-color: #7f7f7f\">                         </span>\n",
       "</pre>\n"
      ],
      "text/plain": [
       "\u001b[2;36m          \u001b[0m\u001b[2;36m \u001b[0m\u001b[34mINFO    \u001b[0m model_params: \u001b[1m{\u001b[0m\u001b[32m'label'\u001b[0m: \u001b[32m'GCN'\u001b[0m,     \u001b]8;id=275491;file:///ceph/ssd/students/sabanaya/ntk-robust/exp_ntk_hyperparam.py\u001b\\\u001b[2mexp_ntk_hyperparam.py\u001b[0m\u001b]8;;\u001b\\\u001b[2m:\u001b[0m\u001b]8;id=920297;file:///ceph/ssd/students/sabanaya/ntk-robust/exp_ntk_hyperparam.py#115\u001b\\\u001b[2m115\u001b[0m\u001b]8;;\u001b\\\n",
       "\u001b[2;36m           \u001b[0m         \u001b[32m'model'\u001b[0m: \u001b[32m'GCN'\u001b[0m, \u001b[32m'normalization'\u001b[0m:   \u001b[2m                         \u001b[0m\n",
       "\u001b[2;36m           \u001b[0m         \u001b[32m'row_normalization'\u001b[0m, \u001b[32m'activation'\u001b[0m: \u001b[2m                         \u001b[0m\n",
       "\u001b[2;36m           \u001b[0m         \u001b[32m'relu'\u001b[0m, \u001b[32m'depth'\u001b[0m: \u001b[1;36m1\u001b[0m, \u001b[32m'regularizer'\u001b[0m: \u001b[2m                         \u001b[0m\n",
       "\u001b[2;36m           \u001b[0m         \u001b[1;36m0.001\u001b[0m, \u001b[32m'pred_method'\u001b[0m: \u001b[32m'svm'\u001b[0m,       \u001b[2m                         \u001b[0m\n",
       "\u001b[2;36m           \u001b[0m         \u001b[32m'bias'\u001b[0m: \u001b[3;91mFalse\u001b[0m, \u001b[32m'solver'\u001b[0m:           \u001b[2m                         \u001b[0m\n",
       "\u001b[2;36m           \u001b[0m         \u001b[32m'sklearn'\u001b[0m, \u001b[32m'alpha_tol'\u001b[0m: \u001b[1;36m0.0001\u001b[0m,    \u001b[2m                         \u001b[0m\n",
       "\u001b[2;36m           \u001b[0m         \u001b[32m'multiclass_svm_method'\u001b[0m:           \u001b[2m                         \u001b[0m\n",
       "\u001b[2;36m           \u001b[0m         \u001b[32m'simMSVM'\u001b[0m\u001b[1m}\u001b[0m                         \u001b[2m                         \u001b[0m\n"
      ]
     },
     "metadata": {},
     "output_type": "display_data"
    },
    {
     "data": {
      "text/html": [
       "<pre style=\"white-space:pre;overflow-x:auto;line-height:normal;font-family:Menlo,'DejaVu Sans Mono',consolas,'Courier New',monospace\"><span style=\"color: #7fbfbf; text-decoration-color: #7fbfbf\">           </span><span style=\"color: #000080; text-decoration-color: #000080\">INFO    </span> verbosity_params: <span style=\"font-weight: bold\">{</span><span style=\"color: #008000; text-decoration-color: #008000\">'debug_lvl'</span>:    <a href=\"file:///ceph/ssd/students/sabanaya/ntk-robust/exp_ntk_hyperparam.py\" target=\"_blank\"><span style=\"color: #7f7f7f; text-decoration-color: #7f7f7f\">exp_ntk_hyperparam.py</span></a><span style=\"color: #7f7f7f; text-decoration-color: #7f7f7f\">:</span><a href=\"file:///ceph/ssd/students/sabanaya/ntk-robust/exp_ntk_hyperparam.py#116\" target=\"_blank\"><span style=\"color: #7f7f7f; text-decoration-color: #7f7f7f\">116</span></a>\n",
       "<span style=\"color: #7fbfbf; text-decoration-color: #7fbfbf\">           </span>         <span style=\"color: #008000; text-decoration-color: #008000\">'debug'</span><span style=\"font-weight: bold\">}</span>                           <span style=\"color: #7f7f7f; text-decoration-color: #7f7f7f\">                         </span>\n",
       "</pre>\n"
      ],
      "text/plain": [
       "\u001b[2;36m          \u001b[0m\u001b[2;36m \u001b[0m\u001b[34mINFO    \u001b[0m verbosity_params: \u001b[1m{\u001b[0m\u001b[32m'debug_lvl'\u001b[0m:    \u001b]8;id=124641;file:///ceph/ssd/students/sabanaya/ntk-robust/exp_ntk_hyperparam.py\u001b\\\u001b[2mexp_ntk_hyperparam.py\u001b[0m\u001b]8;;\u001b\\\u001b[2m:\u001b[0m\u001b]8;id=473075;file:///ceph/ssd/students/sabanaya/ntk-robust/exp_ntk_hyperparam.py#116\u001b\\\u001b[2m116\u001b[0m\u001b]8;;\u001b\\\n",
       "\u001b[2;36m           \u001b[0m         \u001b[32m'debug'\u001b[0m\u001b[1m}\u001b[0m                           \u001b[2m                         \u001b[0m\n"
      ]
     },
     "metadata": {},
     "output_type": "display_data"
    },
    {
     "data": {
      "text/html": [
       "<pre style=\"white-space:pre;overflow-x:auto;line-height:normal;font-family:Menlo,'DejaVu Sans Mono',consolas,'Courier New',monospace\"><span style=\"color: #7fbfbf; text-decoration-color: #7fbfbf\">           </span><span style=\"color: #000080; text-decoration-color: #000080\">INFO    </span> other_params: <span style=\"font-weight: bold\">{</span><span style=\"color: #008000; text-decoration-color: #008000\">'device'</span>: <span style=\"color: #008000; text-decoration-color: #008000\">'0'</span>,      <a href=\"file:///ceph/ssd/students/sabanaya/ntk-robust/exp_ntk_hyperparam.py\" target=\"_blank\"><span style=\"color: #7f7f7f; text-decoration-color: #7f7f7f\">exp_ntk_hyperparam.py</span></a><span style=\"color: #7f7f7f; text-decoration-color: #7f7f7f\">:</span><a href=\"file:///ceph/ssd/students/sabanaya/ntk-robust/exp_ntk_hyperparam.py#117\" target=\"_blank\"><span style=\"color: #7f7f7f; text-decoration-color: #7f7f7f\">117</span></a>\n",
       "<span style=\"color: #7fbfbf; text-decoration-color: #7fbfbf\">           </span>         <span style=\"color: #008000; text-decoration-color: #008000\">'dtype'</span>: torch.float64,            <span style=\"color: #7f7f7f; text-decoration-color: #7f7f7f\">                         </span>\n",
       "<span style=\"color: #7fbfbf; text-decoration-color: #7fbfbf\">           </span>         <span style=\"color: #008000; text-decoration-color: #008000\">'allow_tf32'</span>: <span style=\"color: #ff0000; text-decoration-color: #ff0000; font-style: italic\">False</span>, <span style=\"color: #008000; text-decoration-color: #008000\">'debug'</span>:      <span style=\"color: #7f7f7f; text-decoration-color: #7f7f7f\">                         </span>\n",
       "<span style=\"color: #7fbfbf; text-decoration-color: #7fbfbf\">           </span>         <span style=\"color: #00ff00; text-decoration-color: #00ff00; font-style: italic\">True</span><span style=\"font-weight: bold\">}</span>                              <span style=\"color: #7f7f7f; text-decoration-color: #7f7f7f\">                         </span>\n",
       "</pre>\n"
      ],
      "text/plain": [
       "\u001b[2;36m          \u001b[0m\u001b[2;36m \u001b[0m\u001b[34mINFO    \u001b[0m other_params: \u001b[1m{\u001b[0m\u001b[32m'device'\u001b[0m: \u001b[32m'0'\u001b[0m,      \u001b]8;id=237971;file:///ceph/ssd/students/sabanaya/ntk-robust/exp_ntk_hyperparam.py\u001b\\\u001b[2mexp_ntk_hyperparam.py\u001b[0m\u001b]8;;\u001b\\\u001b[2m:\u001b[0m\u001b]8;id=136523;file:///ceph/ssd/students/sabanaya/ntk-robust/exp_ntk_hyperparam.py#117\u001b\\\u001b[2m117\u001b[0m\u001b]8;;\u001b\\\n",
       "\u001b[2;36m           \u001b[0m         \u001b[32m'dtype'\u001b[0m: torch.float64,            \u001b[2m                         \u001b[0m\n",
       "\u001b[2;36m           \u001b[0m         \u001b[32m'allow_tf32'\u001b[0m: \u001b[3;91mFalse\u001b[0m, \u001b[32m'debug'\u001b[0m:      \u001b[2m                         \u001b[0m\n",
       "\u001b[2;36m           \u001b[0m         \u001b[3;92mTrue\u001b[0m\u001b[1m}\u001b[0m                              \u001b[2m                         \u001b[0m\n"
      ]
     },
     "metadata": {},
     "output_type": "display_data"
    },
    {
     "data": {
      "text/html": [
       "<pre style=\"white-space:pre;overflow-x:auto;line-height:normal;font-family:Menlo,'DejaVu Sans Mono',consolas,'Courier New',monospace\"><span style=\"color: #7fbfbf; text-decoration-color: #7fbfbf\">           </span><span style=\"color: #000080; text-decoration-color: #000080\">INFO    </span> seed: <span style=\"color: #008080; text-decoration-color: #008080; font-weight: bold\">0</span>                            <a href=\"file:///ceph/ssd/students/sabanaya/ntk-robust/exp_ntk_hyperparam.py\" target=\"_blank\"><span style=\"color: #7f7f7f; text-decoration-color: #7f7f7f\">exp_ntk_hyperparam.py</span></a><span style=\"color: #7f7f7f; text-decoration-color: #7f7f7f\">:</span><a href=\"file:///ceph/ssd/students/sabanaya/ntk-robust/exp_ntk_hyperparam.py#118\" target=\"_blank\"><span style=\"color: #7f7f7f; text-decoration-color: #7f7f7f\">118</span></a>\n",
       "</pre>\n"
      ],
      "text/plain": [
       "\u001b[2;36m          \u001b[0m\u001b[2;36m \u001b[0m\u001b[34mINFO    \u001b[0m seed: \u001b[1;36m0\u001b[0m                            \u001b]8;id=425094;file:///ceph/ssd/students/sabanaya/ntk-robust/exp_ntk_hyperparam.py\u001b\\\u001b[2mexp_ntk_hyperparam.py\u001b[0m\u001b]8;;\u001b\\\u001b[2m:\u001b[0m\u001b]8;id=229006;file:///ceph/ssd/students/sabanaya/ntk-robust/exp_ntk_hyperparam.py#118\u001b\\\u001b[2m118\u001b[0m\u001b]8;;\u001b\\\n"
      ]
     },
     "metadata": {},
     "output_type": "display_data"
    },
    {
     "data": {
      "text/html": [
       "<pre style=\"white-space:pre;overflow-x:auto;line-height:normal;font-family:Menlo,'DejaVu Sans Mono',consolas,'Courier New',monospace\"><span style=\"color: #7fbfbf; text-decoration-color: #7fbfbf\">           </span><span style=\"color: #000080; text-decoration-color: #000080\">INFO    </span> Currently on gpu device cu<span style=\"color: #00ff00; text-decoration-color: #00ff00; font-weight: bold\">da:0</span>     <a href=\"file:///ceph/ssd/students/sabanaya/ntk-robust/exp_ntk_hyperparam.py\" target=\"_blank\"><span style=\"color: #7f7f7f; text-decoration-color: #7f7f7f\">exp_ntk_hyperparam.py</span></a><span style=\"color: #7f7f7f; text-decoration-color: #7f7f7f\">:</span><a href=\"file:///ceph/ssd/students/sabanaya/ntk-robust/exp_ntk_hyperparam.py#149\" target=\"_blank\"><span style=\"color: #7f7f7f; text-decoration-color: #7f7f7f\">149</span></a>\n",
       "</pre>\n"
      ],
      "text/plain": [
       "\u001b[2;36m          \u001b[0m\u001b[2;36m \u001b[0m\u001b[34mINFO    \u001b[0m Currently on gpu device cu\u001b[1;92mda:0\u001b[0m     \u001b]8;id=994034;file:///ceph/ssd/students/sabanaya/ntk-robust/exp_ntk_hyperparam.py\u001b\\\u001b[2mexp_ntk_hyperparam.py\u001b[0m\u001b]8;;\u001b\\\u001b[2m:\u001b[0m\u001b]8;id=306006;file:///ceph/ssd/students/sabanaya/ntk-robust/exp_ntk_hyperparam.py#149\u001b\\\u001b[2m149\u001b[0m\u001b]8;;\u001b\\\n"
      ]
     },
     "metadata": {},
     "output_type": "display_data"
    },
    {
     "data": {
      "text/html": [
       "<pre style=\"white-space:pre;overflow-x:auto;line-height:normal;font-family:Menlo,'DejaVu Sans Mono',consolas,'Courier New',monospace\"><span style=\"color: #7fbfbf; text-decoration-color: #7fbfbf\">[12:21:26] </span><span style=\"color: #000080; text-decoration-color: #000080\">INFO    </span> <span style=\"color: #800080; text-decoration-color: #800080; font-weight: bold\">X.min</span><span style=\"font-weight: bold\">()</span>: <span style=\"color: #008080; text-decoration-color: #008080; font-weight: bold\">0.0</span>                                     <a href=\"file:///ceph/ssd/students/sabanaya/ntk-robust/src/data.py\" target=\"_blank\"><span style=\"color: #7f7f7f; text-decoration-color: #7f7f7f\">data.py</span></a><span style=\"color: #7f7f7f; text-decoration-color: #7f7f7f\">:</span><a href=\"file:///ceph/ssd/students/sabanaya/ntk-robust/src/data.py#174\" target=\"_blank\"><span style=\"color: #7f7f7f; text-decoration-color: #7f7f7f\">174</span></a>\n",
       "</pre>\n"
      ],
      "text/plain": [
       "\u001b[2;36m[12:21:26]\u001b[0m\u001b[2;36m \u001b[0m\u001b[34mINFO    \u001b[0m \u001b[1;35mX.min\u001b[0m\u001b[1m(\u001b[0m\u001b[1m)\u001b[0m: \u001b[1;36m0.0\u001b[0m                                     \u001b]8;id=68426;file:///ceph/ssd/students/sabanaya/ntk-robust/src/data.py\u001b\\\u001b[2mdata.py\u001b[0m\u001b]8;;\u001b\\\u001b[2m:\u001b[0m\u001b]8;id=197969;file:///ceph/ssd/students/sabanaya/ntk-robust/src/data.py#174\u001b\\\u001b[2m174\u001b[0m\u001b]8;;\u001b\\\n"
      ]
     },
     "metadata": {},
     "output_type": "display_data"
    },
    {
     "data": {
      "text/html": [
       "<pre style=\"white-space:pre;overflow-x:auto;line-height:normal;font-family:Menlo,'DejaVu Sans Mono',consolas,'Courier New',monospace\"><span style=\"color: #7fbfbf; text-decoration-color: #7fbfbf\">           </span><span style=\"color: #000080; text-decoration-color: #000080\">INFO    </span> <span style=\"color: #800080; text-decoration-color: #800080; font-weight: bold\">X.max</span><span style=\"font-weight: bold\">()</span>: <span style=\"color: #008080; text-decoration-color: #008080; font-weight: bold\">1.0</span>                                     <a href=\"file:///ceph/ssd/students/sabanaya/ntk-robust/src/data.py\" target=\"_blank\"><span style=\"color: #7f7f7f; text-decoration-color: #7f7f7f\">data.py</span></a><span style=\"color: #7f7f7f; text-decoration-color: #7f7f7f\">:</span><a href=\"file:///ceph/ssd/students/sabanaya/ntk-robust/src/data.py#175\" target=\"_blank\"><span style=\"color: #7f7f7f; text-decoration-color: #7f7f7f\">175</span></a>\n",
       "</pre>\n"
      ],
      "text/plain": [
       "\u001b[2;36m          \u001b[0m\u001b[2;36m \u001b[0m\u001b[34mINFO    \u001b[0m \u001b[1;35mX.max\u001b[0m\u001b[1m(\u001b[0m\u001b[1m)\u001b[0m: \u001b[1;36m1.0\u001b[0m                                     \u001b]8;id=540571;file:///ceph/ssd/students/sabanaya/ntk-robust/src/data.py\u001b\\\u001b[2mdata.py\u001b[0m\u001b]8;;\u001b\\\u001b[2m:\u001b[0m\u001b]8;id=413425;file:///ceph/ssd/students/sabanaya/ntk-robust/src/data.py#175\u001b\\\u001b[2m175\u001b[0m\u001b]8;;\u001b\\\n"
      ]
     },
     "metadata": {},
     "output_type": "display_data"
    },
    {
     "data": {
      "text/html": [
       "<pre style=\"white-space:pre;overflow-x:auto;line-height:normal;font-family:Menlo,'DejaVu Sans Mono',consolas,'Courier New',monospace\"><span style=\"color: #7fbfbf; text-decoration-color: #7fbfbf\">           </span><span style=\"color: #000080; text-decoration-color: #000080\">INFO    </span> <span style=\"color: #800080; text-decoration-color: #800080; font-weight: bold\">X_rowsum.mean</span><span style=\"font-weight: bold\">()</span>: <span style=\"color: #008080; text-decoration-color: #008080; font-weight: bold\">50.63558578491211</span>               <a href=\"file:///ceph/ssd/students/sabanaya/ntk-robust/src/data.py\" target=\"_blank\"><span style=\"color: #7f7f7f; text-decoration-color: #7f7f7f\">data.py</span></a><span style=\"color: #7f7f7f; text-decoration-color: #7f7f7f\">:</span><a href=\"file:///ceph/ssd/students/sabanaya/ntk-robust/src/data.py#176\" target=\"_blank\"><span style=\"color: #7f7f7f; text-decoration-color: #7f7f7f\">176</span></a>\n",
       "</pre>\n"
      ],
      "text/plain": [
       "\u001b[2;36m          \u001b[0m\u001b[2;36m \u001b[0m\u001b[34mINFO    \u001b[0m \u001b[1;35mX_rowsum.mean\u001b[0m\u001b[1m(\u001b[0m\u001b[1m)\u001b[0m: \u001b[1;36m50.63558578491211\u001b[0m               \u001b]8;id=332248;file:///ceph/ssd/students/sabanaya/ntk-robust/src/data.py\u001b\\\u001b[2mdata.py\u001b[0m\u001b]8;;\u001b\\\u001b[2m:\u001b[0m\u001b]8;id=148437;file:///ceph/ssd/students/sabanaya/ntk-robust/src/data.py#176\u001b\\\u001b[2m176\u001b[0m\u001b]8;;\u001b\\\n"
      ]
     },
     "metadata": {},
     "output_type": "display_data"
    },
    {
     "data": {
      "text/html": [
       "<pre style=\"white-space:pre;overflow-x:auto;line-height:normal;font-family:Menlo,'DejaVu Sans Mono',consolas,'Courier New',monospace\"><span style=\"color: #7fbfbf; text-decoration-color: #7fbfbf\">           </span><span style=\"color: #000080; text-decoration-color: #000080\">INFO    </span> <span style=\"color: #800080; text-decoration-color: #800080; font-weight: bold\">X_rowsum.median</span><span style=\"font-weight: bold\">()</span>: <span style=\"color: #008080; text-decoration-color: #008080; font-weight: bold\">49.0</span>                          <a href=\"file:///ceph/ssd/students/sabanaya/ntk-robust/src/data.py\" target=\"_blank\"><span style=\"color: #7f7f7f; text-decoration-color: #7f7f7f\">data.py</span></a><span style=\"color: #7f7f7f; text-decoration-color: #7f7f7f\">:</span><a href=\"file:///ceph/ssd/students/sabanaya/ntk-robust/src/data.py#177\" target=\"_blank\"><span style=\"color: #7f7f7f; text-decoration-color: #7f7f7f\">177</span></a>\n",
       "</pre>\n"
      ],
      "text/plain": [
       "\u001b[2;36m          \u001b[0m\u001b[2;36m \u001b[0m\u001b[34mINFO    \u001b[0m \u001b[1;35mX_rowsum.median\u001b[0m\u001b[1m(\u001b[0m\u001b[1m)\u001b[0m: \u001b[1;36m49.0\u001b[0m                          \u001b]8;id=406276;file:///ceph/ssd/students/sabanaya/ntk-robust/src/data.py\u001b\\\u001b[2mdata.py\u001b[0m\u001b]8;;\u001b\\\u001b[2m:\u001b[0m\u001b]8;id=361046;file:///ceph/ssd/students/sabanaya/ntk-robust/src/data.py#177\u001b\\\u001b[2m177\u001b[0m\u001b]8;;\u001b\\\n"
      ]
     },
     "metadata": {},
     "output_type": "display_data"
    },
    {
     "data": {
      "text/html": [
       "<pre style=\"white-space:pre;overflow-x:auto;line-height:normal;font-family:Menlo,'DejaVu Sans Mono',consolas,'Courier New',monospace\"><span style=\"color: #7fbfbf; text-decoration-color: #7fbfbf\">           </span><span style=\"color: #000080; text-decoration-color: #000080\">INFO    </span> <span style=\"color: #800080; text-decoration-color: #800080; font-weight: bold\">X_rowsum.min</span><span style=\"font-weight: bold\">()</span>: <span style=\"color: #008080; text-decoration-color: #008080; font-weight: bold\">2.0</span>                              <a href=\"file:///ceph/ssd/students/sabanaya/ntk-robust/src/data.py\" target=\"_blank\"><span style=\"color: #7f7f7f; text-decoration-color: #7f7f7f\">data.py</span></a><span style=\"color: #7f7f7f; text-decoration-color: #7f7f7f\">:</span><a href=\"file:///ceph/ssd/students/sabanaya/ntk-robust/src/data.py#178\" target=\"_blank\"><span style=\"color: #7f7f7f; text-decoration-color: #7f7f7f\">178</span></a>\n",
       "</pre>\n"
      ],
      "text/plain": [
       "\u001b[2;36m          \u001b[0m\u001b[2;36m \u001b[0m\u001b[34mINFO    \u001b[0m \u001b[1;35mX_rowsum.min\u001b[0m\u001b[1m(\u001b[0m\u001b[1m)\u001b[0m: \u001b[1;36m2.0\u001b[0m                              \u001b]8;id=467852;file:///ceph/ssd/students/sabanaya/ntk-robust/src/data.py\u001b\\\u001b[2mdata.py\u001b[0m\u001b]8;;\u001b\\\u001b[2m:\u001b[0m\u001b]8;id=693464;file:///ceph/ssd/students/sabanaya/ntk-robust/src/data.py#178\u001b\\\u001b[2m178\u001b[0m\u001b]8;;\u001b\\\n"
      ]
     },
     "metadata": {},
     "output_type": "display_data"
    },
    {
     "data": {
      "text/html": [
       "<pre style=\"white-space:pre;overflow-x:auto;line-height:normal;font-family:Menlo,'DejaVu Sans Mono',consolas,'Courier New',monospace\"><span style=\"color: #7fbfbf; text-decoration-color: #7fbfbf\">           </span><span style=\"color: #000080; text-decoration-color: #000080\">INFO    </span> <span style=\"color: #800080; text-decoration-color: #800080; font-weight: bold\">X_rowsum.max</span><span style=\"font-weight: bold\">()</span>: <span style=\"color: #008080; text-decoration-color: #008080; font-weight: bold\">176.0</span>                            <a href=\"file:///ceph/ssd/students/sabanaya/ntk-robust/src/data.py\" target=\"_blank\"><span style=\"color: #7f7f7f; text-decoration-color: #7f7f7f\">data.py</span></a><span style=\"color: #7f7f7f; text-decoration-color: #7f7f7f\">:</span><a href=\"file:///ceph/ssd/students/sabanaya/ntk-robust/src/data.py#179\" target=\"_blank\"><span style=\"color: #7f7f7f; text-decoration-color: #7f7f7f\">179</span></a>\n",
       "</pre>\n"
      ],
      "text/plain": [
       "\u001b[2;36m          \u001b[0m\u001b[2;36m \u001b[0m\u001b[34mINFO    \u001b[0m \u001b[1;35mX_rowsum.max\u001b[0m\u001b[1m(\u001b[0m\u001b[1m)\u001b[0m: \u001b[1;36m176.0\u001b[0m                            \u001b]8;id=738163;file:///ceph/ssd/students/sabanaya/ntk-robust/src/data.py\u001b\\\u001b[2mdata.py\u001b[0m\u001b]8;;\u001b\\\u001b[2m:\u001b[0m\u001b]8;id=911223;file:///ceph/ssd/students/sabanaya/ntk-robust/src/data.py#179\u001b\\\u001b[2m179\u001b[0m\u001b]8;;\u001b\\\n"
      ]
     },
     "metadata": {},
     "output_type": "display_data"
    },
    {
     "data": {
      "text/html": [
       "<pre style=\"white-space:pre;overflow-x:auto;line-height:normal;font-family:Menlo,'DejaVu Sans Mono',consolas,'Courier New',monospace\"><span style=\"color: #7fbfbf; text-decoration-color: #7fbfbf\">           </span><span style=\"color: #000080; text-decoration-color: #000080\">INFO    </span> number of samples                                <a href=\"file:///ceph/ssd/students/sabanaya/ntk-robust/src/data.py\" target=\"_blank\"><span style=\"color: #7f7f7f; text-decoration-color: #7f7f7f\">data.py</span></a><span style=\"color: #7f7f7f; text-decoration-color: #7f7f7f\">:</span><a href=\"file:///ceph/ssd/students/sabanaya/ntk-robust/src/data.py#284\" target=\"_blank\"><span style=\"color: #7f7f7f; text-decoration-color: #7f7f7f\">284</span></a>\n",
       "<span style=\"color: #7fbfbf; text-decoration-color: #7fbfbf\">           </span>          - labeled: <span style=\"color: #008080; text-decoration-color: #008080; font-weight: bold\">140</span>                                  <span style=\"color: #7f7f7f; text-decoration-color: #7f7f7f\">           </span>\n",
       "<span style=\"color: #7fbfbf; text-decoration-color: #7fbfbf\">           </span>          - val: <span style=\"color: #008080; text-decoration-color: #008080; font-weight: bold\">140</span>                                      <span style=\"color: #7f7f7f; text-decoration-color: #7f7f7f\">           </span>\n",
       "<span style=\"color: #7fbfbf; text-decoration-color: #7fbfbf\">           </span>          - test: <span style=\"color: #008080; text-decoration-color: #008080; font-weight: bold\">284</span>                                     <span style=\"color: #7f7f7f; text-decoration-color: #7f7f7f\">           </span>\n",
       "<span style=\"color: #7fbfbf; text-decoration-color: #7fbfbf\">           </span>          - unlabeled: <span style=\"color: #008080; text-decoration-color: #008080; font-weight: bold\">2246</span>                               <span style=\"color: #7f7f7f; text-decoration-color: #7f7f7f\">           </span>\n",
       "</pre>\n"
      ],
      "text/plain": [
       "\u001b[2;36m          \u001b[0m\u001b[2;36m \u001b[0m\u001b[34mINFO    \u001b[0m number of samples                                \u001b]8;id=187902;file:///ceph/ssd/students/sabanaya/ntk-robust/src/data.py\u001b\\\u001b[2mdata.py\u001b[0m\u001b]8;;\u001b\\\u001b[2m:\u001b[0m\u001b]8;id=769238;file:///ceph/ssd/students/sabanaya/ntk-robust/src/data.py#284\u001b\\\u001b[2m284\u001b[0m\u001b]8;;\u001b\\\n",
       "\u001b[2;36m           \u001b[0m          - labeled: \u001b[1;36m140\u001b[0m                                  \u001b[2m           \u001b[0m\n",
       "\u001b[2;36m           \u001b[0m          - val: \u001b[1;36m140\u001b[0m                                      \u001b[2m           \u001b[0m\n",
       "\u001b[2;36m           \u001b[0m          - test: \u001b[1;36m284\u001b[0m                                     \u001b[2m           \u001b[0m\n",
       "\u001b[2;36m           \u001b[0m          - unlabeled: \u001b[1;36m2246\u001b[0m                               \u001b[2m           \u001b[0m\n"
      ]
     },
     "metadata": {},
     "output_type": "display_data"
    },
    {
     "name": "stdout",
     "output_type": "stream",
     "text": [
      "train val split  (140,) (140,)\n",
      "Sig.mean(): 3.5262855649525986\n",
      "Sig.min(): 0.0\n",
      "Sig.max(): 91.25\n",
      "Depth 0\n",
      "E_der.min(): 0.5\n",
      "E_der.max(): 1.0\n",
      "Sig.mean(): 6.375333901322247\n",
      "Sig.min(): 1.9083869567264893\n",
      "Sig.max(): 72.02354586040484\n",
      "#Number of Support Vectors\n",
      "140\n",
      "alpha_mean: -4.556266832291005e-21\n",
      "train val split  (140,) (140,)\n",
      "Sig.mean(): 3.5262855649525986\n",
      "Sig.min(): 0.0\n",
      "Sig.max(): 91.25\n",
      "Depth 0\n",
      "E_der.min(): 0.5\n",
      "E_der.max(): 1.0\n",
      "Sig.mean(): 6.375333901322247\n",
      "Sig.min(): 1.9083869567264893\n",
      "Sig.max(): 72.02354586040484\n",
      "#Number of Support Vectors\n",
      "140\n",
      "alpha_mean: -1.0880648025345015e-22\n",
      "Sig.mean(): 3.5262855649525986\n",
      "Sig.min(): 0.0\n",
      "Sig.max(): 91.25\n",
      "Depth 0\n",
      "E_der.min(): 0.5\n",
      "E_der.max(): 1.0\n",
      "Sig.mean(): 6.375333901322247\n",
      "Sig.min(): 1.9083869567264893\n",
      "Sig.max(): 72.02354586040484\n",
      "#Number of Support Vectors\n",
      "280\n",
      "alpha_mean: 1.8926057842856034e-21\n",
      "#Number of Support Vectors\n",
      "280\n",
      "alpha_mean: 1.8926057842856034e-21\n"
     ]
    },
    {
     "data": {
      "text/plain": [
       "{'trn_acc': 0.9178571701049805,\n",
       " 'val_acc_l': [0.8071428537368774, 0.8214285969734192],\n",
       " 'test_acc': 0.8363636136054993,\n",
       " 'trn_min_ypred': -1.019201397895813,\n",
       " 'trn_max_ypred': -0.864044725894928,\n",
       " 'trn_min_ntkunlabeled': 3.330968925422657,\n",
       " 'trn_max_ntkunlabeled': 56.09592479824309,\n",
       " 'val_cond': [5406.631886584285, 1236088.2488305317],\n",
       " 'val_min_ypred': [-1.0094969272613525, -1.008741021156311],\n",
       " 'val_max_ypred': [-0.9213541746139526, -0.9454612135887146],\n",
       " 'val_min_ntklabeled': [3.3586876084920045, 3.370112010343827],\n",
       " 'val_max_ntklabeled': [56.09692479824309, 51.98985292744192],\n",
       " 'val_min_ntkunlabeled': [2.3938209237627683, 2.3938209237627683],\n",
       " 'val_max_ntkunlabeled': [59.638279436721575, 59.638279436721575],\n",
       " 'test_min_ypred': -1.0250886678695679,\n",
       " 'test_max_ypred': -0.8796449899673462,\n",
       " 'test_min_ntklabeled': 3.330968925422657,\n",
       " 'test_max_ntklabeled': 56.09692479824309,\n",
       " 'test_min_ntkunlabeled': 2.3938209237627683,\n",
       " 'test_max_ntkunlabeled': 59.638279436721575,\n",
       " 'test_cond': 2505399.9170512552}"
      ]
     },
     "execution_count": 29,
     "metadata": {},
     "output_type": "execute_result"
    }
   ],
   "source": [
    "data_params[\"dataset\"] = \"cora_ml\" #loads cora_ml_v2\n",
    "run(data_params, model_params, verbosity_params, other_params, seed)\n"
   ]
  },
  {
   "cell_type": "code",
   "execution_count": 33,
   "metadata": {},
   "outputs": [
    {
     "data": {
      "text/html": [
       "<pre style=\"white-space:pre;overflow-x:auto;line-height:normal;font-family:Menlo,'DejaVu Sans Mono',consolas,'Courier New',monospace\"><span style=\"color: #7fbfbf; text-decoration-color: #7fbfbf\">[12:26:02] </span><span style=\"color: #000080; text-decoration-color: #000080\">INFO    </span> Starting experiment                <a href=\"file:///ceph/ssd/students/sabanaya/ntk-robust/exp_ntk_hyperparam.py\" target=\"_blank\"><span style=\"color: #7f7f7f; text-decoration-color: #7f7f7f\">exp_ntk_hyperparam.py</span></a><span style=\"color: #7f7f7f; text-decoration-color: #7f7f7f\">:</span><a href=\"file:///ceph/ssd/students/sabanaya/ntk-robust/exp_ntk_hyperparam.py#113\" target=\"_blank\"><span style=\"color: #7f7f7f; text-decoration-color: #7f7f7f\">113</span></a>\n",
       "<span style=\"color: #7fbfbf; text-decoration-color: #7fbfbf\">           </span>         exp_ntk_hyperparam with            <span style=\"color: #7f7f7f; text-decoration-color: #7f7f7f\">                         </span>\n",
       "<span style=\"color: #7fbfbf; text-decoration-color: #7fbfbf\">           </span>         configuration:                     <span style=\"color: #7f7f7f; text-decoration-color: #7f7f7f\">                         </span>\n",
       "</pre>\n"
      ],
      "text/plain": [
       "\u001b[2;36m[12:26:02]\u001b[0m\u001b[2;36m \u001b[0m\u001b[34mINFO    \u001b[0m Starting experiment                \u001b]8;id=138145;file:///ceph/ssd/students/sabanaya/ntk-robust/exp_ntk_hyperparam.py\u001b\\\u001b[2mexp_ntk_hyperparam.py\u001b[0m\u001b]8;;\u001b\\\u001b[2m:\u001b[0m\u001b]8;id=911747;file:///ceph/ssd/students/sabanaya/ntk-robust/exp_ntk_hyperparam.py#113\u001b\\\u001b[2m113\u001b[0m\u001b]8;;\u001b\\\n",
       "\u001b[2;36m           \u001b[0m         exp_ntk_hyperparam with            \u001b[2m                         \u001b[0m\n",
       "\u001b[2;36m           \u001b[0m         configuration:                     \u001b[2m                         \u001b[0m\n"
      ]
     },
     "metadata": {},
     "output_type": "display_data"
    },
    {
     "data": {
      "text/html": [
       "<pre style=\"white-space:pre;overflow-x:auto;line-height:normal;font-family:Menlo,'DejaVu Sans Mono',consolas,'Courier New',monospace\"><span style=\"color: #7fbfbf; text-decoration-color: #7fbfbf\">           </span><span style=\"color: #000080; text-decoration-color: #000080\">INFO    </span> data_params: <span style=\"font-weight: bold\">{</span><span style=\"color: #008000; text-decoration-color: #008000\">'dataset'</span>:           <a href=\"file:///ceph/ssd/students/sabanaya/ntk-robust/exp_ntk_hyperparam.py\" target=\"_blank\"><span style=\"color: #7f7f7f; text-decoration-color: #7f7f7f\">exp_ntk_hyperparam.py</span></a><span style=\"color: #7f7f7f; text-decoration-color: #7f7f7f\">:</span><a href=\"file:///ceph/ssd/students/sabanaya/ntk-robust/exp_ntk_hyperparam.py#114\" target=\"_blank\"><span style=\"color: #7f7f7f; text-decoration-color: #7f7f7f\">114</span></a>\n",
       "<span style=\"color: #7fbfbf; text-decoration-color: #7fbfbf\">           </span>         <span style=\"color: #008000; text-decoration-color: #008000\">'cora_ml'</span>, <span style=\"color: #008000; text-decoration-color: #008000\">'learning_setting'</span>:     <span style=\"color: #7f7f7f; text-decoration-color: #7f7f7f\">                         </span>\n",
       "<span style=\"color: #7fbfbf; text-decoration-color: #7fbfbf\">           </span>         <span style=\"color: #008000; text-decoration-color: #008000\">'transductive'</span>, <span style=\"color: #008000; text-decoration-color: #008000\">'cv_folds'</span>: <span style=\"color: #008080; text-decoration-color: #008080; font-weight: bold\">2</span>,     <span style=\"color: #7f7f7f; text-decoration-color: #7f7f7f\">                         </span>\n",
       "<span style=\"color: #7fbfbf; text-decoration-color: #7fbfbf\">           </span>         <span style=\"color: #008000; text-decoration-color: #008000\">'specification'</span>: <span style=\"font-weight: bold\">{</span><span style=\"color: #008000; text-decoration-color: #008000\">'n_per_class'</span>:   <span style=\"color: #7f7f7f; text-decoration-color: #7f7f7f\">                         </span>\n",
       "<span style=\"color: #7fbfbf; text-decoration-color: #7fbfbf\">           </span>         <span style=\"color: #008080; text-decoration-color: #008080; font-weight: bold\">20</span>, <span style=\"color: #008000; text-decoration-color: #008000\">'fraction_test'</span>: <span style=\"color: #008080; text-decoration-color: #008080; font-weight: bold\">0.1</span>,          <span style=\"color: #7f7f7f; text-decoration-color: #7f7f7f\">                         </span>\n",
       "<span style=\"color: #7fbfbf; text-decoration-color: #7fbfbf\">           </span>         <span style=\"color: #008000; text-decoration-color: #008000\">'data_dir'</span>: <span style=\"color: #008000; text-decoration-color: #008000\">'./data'</span>,              <span style=\"color: #7f7f7f; text-decoration-color: #7f7f7f\">                         </span>\n",
       "<span style=\"color: #7fbfbf; text-decoration-color: #7fbfbf\">           </span>         <span style=\"color: #008000; text-decoration-color: #008000\">'make_undirected'</span>: <span style=\"color: #00ff00; text-decoration-color: #00ff00; font-style: italic\">True</span>,           <span style=\"color: #7f7f7f; text-decoration-color: #7f7f7f\">                         </span>\n",
       "<span style=\"color: #7fbfbf; text-decoration-color: #7fbfbf\">           </span>         <span style=\"color: #008000; text-decoration-color: #008000\">'binary_attr'</span>: <span style=\"color: #ff0000; text-decoration-color: #ff0000; font-style: italic\">False</span>,              <span style=\"color: #7f7f7f; text-decoration-color: #7f7f7f\">                         </span>\n",
       "<span style=\"color: #7fbfbf; text-decoration-color: #7fbfbf\">           </span>         <span style=\"color: #008000; text-decoration-color: #008000\">'balance_test'</span>: <span style=\"color: #00ff00; text-decoration-color: #00ff00; font-style: italic\">True</span><span style=\"font-weight: bold\">}}</span>             <span style=\"color: #7f7f7f; text-decoration-color: #7f7f7f\">                         </span>\n",
       "</pre>\n"
      ],
      "text/plain": [
       "\u001b[2;36m          \u001b[0m\u001b[2;36m \u001b[0m\u001b[34mINFO    \u001b[0m data_params: \u001b[1m{\u001b[0m\u001b[32m'dataset'\u001b[0m:           \u001b]8;id=799627;file:///ceph/ssd/students/sabanaya/ntk-robust/exp_ntk_hyperparam.py\u001b\\\u001b[2mexp_ntk_hyperparam.py\u001b[0m\u001b]8;;\u001b\\\u001b[2m:\u001b[0m\u001b]8;id=363511;file:///ceph/ssd/students/sabanaya/ntk-robust/exp_ntk_hyperparam.py#114\u001b\\\u001b[2m114\u001b[0m\u001b]8;;\u001b\\\n",
       "\u001b[2;36m           \u001b[0m         \u001b[32m'cora_ml'\u001b[0m, \u001b[32m'learning_setting'\u001b[0m:     \u001b[2m                         \u001b[0m\n",
       "\u001b[2;36m           \u001b[0m         \u001b[32m'transductive'\u001b[0m, \u001b[32m'cv_folds'\u001b[0m: \u001b[1;36m2\u001b[0m,     \u001b[2m                         \u001b[0m\n",
       "\u001b[2;36m           \u001b[0m         \u001b[32m'specification'\u001b[0m: \u001b[1m{\u001b[0m\u001b[32m'n_per_class'\u001b[0m:   \u001b[2m                         \u001b[0m\n",
       "\u001b[2;36m           \u001b[0m         \u001b[1;36m20\u001b[0m, \u001b[32m'fraction_test'\u001b[0m: \u001b[1;36m0.1\u001b[0m,          \u001b[2m                         \u001b[0m\n",
       "\u001b[2;36m           \u001b[0m         \u001b[32m'data_dir'\u001b[0m: \u001b[32m'./data'\u001b[0m,              \u001b[2m                         \u001b[0m\n",
       "\u001b[2;36m           \u001b[0m         \u001b[32m'make_undirected'\u001b[0m: \u001b[3;92mTrue\u001b[0m,           \u001b[2m                         \u001b[0m\n",
       "\u001b[2;36m           \u001b[0m         \u001b[32m'binary_attr'\u001b[0m: \u001b[3;91mFalse\u001b[0m,              \u001b[2m                         \u001b[0m\n",
       "\u001b[2;36m           \u001b[0m         \u001b[32m'balance_test'\u001b[0m: \u001b[3;92mTrue\u001b[0m\u001b[1m}\u001b[0m\u001b[1m}\u001b[0m             \u001b[2m                         \u001b[0m\n"
      ]
     },
     "metadata": {},
     "output_type": "display_data"
    },
    {
     "data": {
      "text/html": [
       "<pre style=\"white-space:pre;overflow-x:auto;line-height:normal;font-family:Menlo,'DejaVu Sans Mono',consolas,'Courier New',monospace\"><span style=\"color: #7fbfbf; text-decoration-color: #7fbfbf\">           </span><span style=\"color: #000080; text-decoration-color: #000080\">INFO    </span> model_params: <span style=\"font-weight: bold\">{</span><span style=\"color: #008000; text-decoration-color: #008000\">'label'</span>: <span style=\"color: #008000; text-decoration-color: #008000\">'GCN'</span>,     <a href=\"file:///ceph/ssd/students/sabanaya/ntk-robust/exp_ntk_hyperparam.py\" target=\"_blank\"><span style=\"color: #7f7f7f; text-decoration-color: #7f7f7f\">exp_ntk_hyperparam.py</span></a><span style=\"color: #7f7f7f; text-decoration-color: #7f7f7f\">:</span><a href=\"file:///ceph/ssd/students/sabanaya/ntk-robust/exp_ntk_hyperparam.py#115\" target=\"_blank\"><span style=\"color: #7f7f7f; text-decoration-color: #7f7f7f\">115</span></a>\n",
       "<span style=\"color: #7fbfbf; text-decoration-color: #7fbfbf\">           </span>         <span style=\"color: #008000; text-decoration-color: #008000\">'model'</span>: <span style=\"color: #008000; text-decoration-color: #008000\">'GCN'</span>, <span style=\"color: #008000; text-decoration-color: #008000\">'normalization'</span>:   <span style=\"color: #7f7f7f; text-decoration-color: #7f7f7f\">                         </span>\n",
       "<span style=\"color: #7fbfbf; text-decoration-color: #7fbfbf\">           </span>         <span style=\"color: #008000; text-decoration-color: #008000\">'row_normalization'</span>, <span style=\"color: #008000; text-decoration-color: #008000\">'activation'</span>: <span style=\"color: #7f7f7f; text-decoration-color: #7f7f7f\">                         </span>\n",
       "<span style=\"color: #7fbfbf; text-decoration-color: #7fbfbf\">           </span>         <span style=\"color: #008000; text-decoration-color: #008000\">'relu'</span>, <span style=\"color: #008000; text-decoration-color: #008000\">'depth'</span>: <span style=\"color: #008080; text-decoration-color: #008080; font-weight: bold\">1</span>, <span style=\"color: #008000; text-decoration-color: #008000\">'regularizer'</span>: <span style=\"color: #7f7f7f; text-decoration-color: #7f7f7f\">                         </span>\n",
       "<span style=\"color: #7fbfbf; text-decoration-color: #7fbfbf\">           </span>         <span style=\"color: #008080; text-decoration-color: #008080; font-weight: bold\">0.001</span>, <span style=\"color: #008000; text-decoration-color: #008000\">'pred_method'</span>: <span style=\"color: #008000; text-decoration-color: #008000\">'svm'</span>,       <span style=\"color: #7f7f7f; text-decoration-color: #7f7f7f\">                         </span>\n",
       "<span style=\"color: #7fbfbf; text-decoration-color: #7fbfbf\">           </span>         <span style=\"color: #008000; text-decoration-color: #008000\">'bias'</span>: <span style=\"color: #ff0000; text-decoration-color: #ff0000; font-style: italic\">False</span>, <span style=\"color: #008000; text-decoration-color: #008000\">'solver'</span>:           <span style=\"color: #7f7f7f; text-decoration-color: #7f7f7f\">                         </span>\n",
       "<span style=\"color: #7fbfbf; text-decoration-color: #7fbfbf\">           </span>         <span style=\"color: #008000; text-decoration-color: #008000\">'sklearn'</span>, <span style=\"color: #008000; text-decoration-color: #008000\">'alpha_tol'</span>: <span style=\"color: #008080; text-decoration-color: #008080; font-weight: bold\">0.0001</span>,    <span style=\"color: #7f7f7f; text-decoration-color: #7f7f7f\">                         </span>\n",
       "<span style=\"color: #7fbfbf; text-decoration-color: #7fbfbf\">           </span>         <span style=\"color: #008000; text-decoration-color: #008000\">'multiclass_svm_method'</span>:           <span style=\"color: #7f7f7f; text-decoration-color: #7f7f7f\">                         </span>\n",
       "<span style=\"color: #7fbfbf; text-decoration-color: #7fbfbf\">           </span>         <span style=\"color: #008000; text-decoration-color: #008000\">'simMSVM'</span><span style=\"font-weight: bold\">}</span>                         <span style=\"color: #7f7f7f; text-decoration-color: #7f7f7f\">                         </span>\n",
       "</pre>\n"
      ],
      "text/plain": [
       "\u001b[2;36m          \u001b[0m\u001b[2;36m \u001b[0m\u001b[34mINFO    \u001b[0m model_params: \u001b[1m{\u001b[0m\u001b[32m'label'\u001b[0m: \u001b[32m'GCN'\u001b[0m,     \u001b]8;id=485331;file:///ceph/ssd/students/sabanaya/ntk-robust/exp_ntk_hyperparam.py\u001b\\\u001b[2mexp_ntk_hyperparam.py\u001b[0m\u001b]8;;\u001b\\\u001b[2m:\u001b[0m\u001b]8;id=912801;file:///ceph/ssd/students/sabanaya/ntk-robust/exp_ntk_hyperparam.py#115\u001b\\\u001b[2m115\u001b[0m\u001b]8;;\u001b\\\n",
       "\u001b[2;36m           \u001b[0m         \u001b[32m'model'\u001b[0m: \u001b[32m'GCN'\u001b[0m, \u001b[32m'normalization'\u001b[0m:   \u001b[2m                         \u001b[0m\n",
       "\u001b[2;36m           \u001b[0m         \u001b[32m'row_normalization'\u001b[0m, \u001b[32m'activation'\u001b[0m: \u001b[2m                         \u001b[0m\n",
       "\u001b[2;36m           \u001b[0m         \u001b[32m'relu'\u001b[0m, \u001b[32m'depth'\u001b[0m: \u001b[1;36m1\u001b[0m, \u001b[32m'regularizer'\u001b[0m: \u001b[2m                         \u001b[0m\n",
       "\u001b[2;36m           \u001b[0m         \u001b[1;36m0.001\u001b[0m, \u001b[32m'pred_method'\u001b[0m: \u001b[32m'svm'\u001b[0m,       \u001b[2m                         \u001b[0m\n",
       "\u001b[2;36m           \u001b[0m         \u001b[32m'bias'\u001b[0m: \u001b[3;91mFalse\u001b[0m, \u001b[32m'solver'\u001b[0m:           \u001b[2m                         \u001b[0m\n",
       "\u001b[2;36m           \u001b[0m         \u001b[32m'sklearn'\u001b[0m, \u001b[32m'alpha_tol'\u001b[0m: \u001b[1;36m0.0001\u001b[0m,    \u001b[2m                         \u001b[0m\n",
       "\u001b[2;36m           \u001b[0m         \u001b[32m'multiclass_svm_method'\u001b[0m:           \u001b[2m                         \u001b[0m\n",
       "\u001b[2;36m           \u001b[0m         \u001b[32m'simMSVM'\u001b[0m\u001b[1m}\u001b[0m                         \u001b[2m                         \u001b[0m\n"
      ]
     },
     "metadata": {},
     "output_type": "display_data"
    },
    {
     "data": {
      "text/html": [
       "<pre style=\"white-space:pre;overflow-x:auto;line-height:normal;font-family:Menlo,'DejaVu Sans Mono',consolas,'Courier New',monospace\"><span style=\"color: #7fbfbf; text-decoration-color: #7fbfbf\">           </span><span style=\"color: #000080; text-decoration-color: #000080\">INFO    </span> verbosity_params: <span style=\"font-weight: bold\">{</span><span style=\"color: #008000; text-decoration-color: #008000\">'debug_lvl'</span>:    <a href=\"file:///ceph/ssd/students/sabanaya/ntk-robust/exp_ntk_hyperparam.py\" target=\"_blank\"><span style=\"color: #7f7f7f; text-decoration-color: #7f7f7f\">exp_ntk_hyperparam.py</span></a><span style=\"color: #7f7f7f; text-decoration-color: #7f7f7f\">:</span><a href=\"file:///ceph/ssd/students/sabanaya/ntk-robust/exp_ntk_hyperparam.py#116\" target=\"_blank\"><span style=\"color: #7f7f7f; text-decoration-color: #7f7f7f\">116</span></a>\n",
       "<span style=\"color: #7fbfbf; text-decoration-color: #7fbfbf\">           </span>         <span style=\"color: #008000; text-decoration-color: #008000\">'debug'</span><span style=\"font-weight: bold\">}</span>                           <span style=\"color: #7f7f7f; text-decoration-color: #7f7f7f\">                         </span>\n",
       "</pre>\n"
      ],
      "text/plain": [
       "\u001b[2;36m          \u001b[0m\u001b[2;36m \u001b[0m\u001b[34mINFO    \u001b[0m verbosity_params: \u001b[1m{\u001b[0m\u001b[32m'debug_lvl'\u001b[0m:    \u001b]8;id=524366;file:///ceph/ssd/students/sabanaya/ntk-robust/exp_ntk_hyperparam.py\u001b\\\u001b[2mexp_ntk_hyperparam.py\u001b[0m\u001b]8;;\u001b\\\u001b[2m:\u001b[0m\u001b]8;id=412556;file:///ceph/ssd/students/sabanaya/ntk-robust/exp_ntk_hyperparam.py#116\u001b\\\u001b[2m116\u001b[0m\u001b]8;;\u001b\\\n",
       "\u001b[2;36m           \u001b[0m         \u001b[32m'debug'\u001b[0m\u001b[1m}\u001b[0m                           \u001b[2m                         \u001b[0m\n"
      ]
     },
     "metadata": {},
     "output_type": "display_data"
    },
    {
     "data": {
      "text/html": [
       "<pre style=\"white-space:pre;overflow-x:auto;line-height:normal;font-family:Menlo,'DejaVu Sans Mono',consolas,'Courier New',monospace\"><span style=\"color: #7fbfbf; text-decoration-color: #7fbfbf\">           </span><span style=\"color: #000080; text-decoration-color: #000080\">INFO    </span> other_params: <span style=\"font-weight: bold\">{</span><span style=\"color: #008000; text-decoration-color: #008000\">'device'</span>: <span style=\"color: #008000; text-decoration-color: #008000\">'0'</span>,      <a href=\"file:///ceph/ssd/students/sabanaya/ntk-robust/exp_ntk_hyperparam.py\" target=\"_blank\"><span style=\"color: #7f7f7f; text-decoration-color: #7f7f7f\">exp_ntk_hyperparam.py</span></a><span style=\"color: #7f7f7f; text-decoration-color: #7f7f7f\">:</span><a href=\"file:///ceph/ssd/students/sabanaya/ntk-robust/exp_ntk_hyperparam.py#117\" target=\"_blank\"><span style=\"color: #7f7f7f; text-decoration-color: #7f7f7f\">117</span></a>\n",
       "<span style=\"color: #7fbfbf; text-decoration-color: #7fbfbf\">           </span>         <span style=\"color: #008000; text-decoration-color: #008000\">'dtype'</span>: torch.float64,            <span style=\"color: #7f7f7f; text-decoration-color: #7f7f7f\">                         </span>\n",
       "<span style=\"color: #7fbfbf; text-decoration-color: #7fbfbf\">           </span>         <span style=\"color: #008000; text-decoration-color: #008000\">'allow_tf32'</span>: <span style=\"color: #ff0000; text-decoration-color: #ff0000; font-style: italic\">False</span>, <span style=\"color: #008000; text-decoration-color: #008000\">'debug'</span>:      <span style=\"color: #7f7f7f; text-decoration-color: #7f7f7f\">                         </span>\n",
       "<span style=\"color: #7fbfbf; text-decoration-color: #7fbfbf\">           </span>         <span style=\"color: #00ff00; text-decoration-color: #00ff00; font-style: italic\">True</span><span style=\"font-weight: bold\">}</span>                              <span style=\"color: #7f7f7f; text-decoration-color: #7f7f7f\">                         </span>\n",
       "</pre>\n"
      ],
      "text/plain": [
       "\u001b[2;36m          \u001b[0m\u001b[2;36m \u001b[0m\u001b[34mINFO    \u001b[0m other_params: \u001b[1m{\u001b[0m\u001b[32m'device'\u001b[0m: \u001b[32m'0'\u001b[0m,      \u001b]8;id=368569;file:///ceph/ssd/students/sabanaya/ntk-robust/exp_ntk_hyperparam.py\u001b\\\u001b[2mexp_ntk_hyperparam.py\u001b[0m\u001b]8;;\u001b\\\u001b[2m:\u001b[0m\u001b]8;id=290555;file:///ceph/ssd/students/sabanaya/ntk-robust/exp_ntk_hyperparam.py#117\u001b\\\u001b[2m117\u001b[0m\u001b]8;;\u001b\\\n",
       "\u001b[2;36m           \u001b[0m         \u001b[32m'dtype'\u001b[0m: torch.float64,            \u001b[2m                         \u001b[0m\n",
       "\u001b[2;36m           \u001b[0m         \u001b[32m'allow_tf32'\u001b[0m: \u001b[3;91mFalse\u001b[0m, \u001b[32m'debug'\u001b[0m:      \u001b[2m                         \u001b[0m\n",
       "\u001b[2;36m           \u001b[0m         \u001b[3;92mTrue\u001b[0m\u001b[1m}\u001b[0m                              \u001b[2m                         \u001b[0m\n"
      ]
     },
     "metadata": {},
     "output_type": "display_data"
    },
    {
     "data": {
      "text/html": [
       "<pre style=\"white-space:pre;overflow-x:auto;line-height:normal;font-family:Menlo,'DejaVu Sans Mono',consolas,'Courier New',monospace\"><span style=\"color: #7fbfbf; text-decoration-color: #7fbfbf\">           </span><span style=\"color: #000080; text-decoration-color: #000080\">INFO    </span> seed: <span style=\"color: #008080; text-decoration-color: #008080; font-weight: bold\">0</span>                            <a href=\"file:///ceph/ssd/students/sabanaya/ntk-robust/exp_ntk_hyperparam.py\" target=\"_blank\"><span style=\"color: #7f7f7f; text-decoration-color: #7f7f7f\">exp_ntk_hyperparam.py</span></a><span style=\"color: #7f7f7f; text-decoration-color: #7f7f7f\">:</span><a href=\"file:///ceph/ssd/students/sabanaya/ntk-robust/exp_ntk_hyperparam.py#118\" target=\"_blank\"><span style=\"color: #7f7f7f; text-decoration-color: #7f7f7f\">118</span></a>\n",
       "</pre>\n"
      ],
      "text/plain": [
       "\u001b[2;36m          \u001b[0m\u001b[2;36m \u001b[0m\u001b[34mINFO    \u001b[0m seed: \u001b[1;36m0\u001b[0m                            \u001b]8;id=903260;file:///ceph/ssd/students/sabanaya/ntk-robust/exp_ntk_hyperparam.py\u001b\\\u001b[2mexp_ntk_hyperparam.py\u001b[0m\u001b]8;;\u001b\\\u001b[2m:\u001b[0m\u001b]8;id=896516;file:///ceph/ssd/students/sabanaya/ntk-robust/exp_ntk_hyperparam.py#118\u001b\\\u001b[2m118\u001b[0m\u001b]8;;\u001b\\\n"
      ]
     },
     "metadata": {},
     "output_type": "display_data"
    },
    {
     "data": {
      "text/html": [
       "<pre style=\"white-space:pre;overflow-x:auto;line-height:normal;font-family:Menlo,'DejaVu Sans Mono',consolas,'Courier New',monospace\"><span style=\"color: #7fbfbf; text-decoration-color: #7fbfbf\">           </span><span style=\"color: #000080; text-decoration-color: #000080\">INFO    </span> Currently on gpu device cu<span style=\"color: #00ff00; text-decoration-color: #00ff00; font-weight: bold\">da:0</span>     <a href=\"file:///ceph/ssd/students/sabanaya/ntk-robust/exp_ntk_hyperparam.py\" target=\"_blank\"><span style=\"color: #7f7f7f; text-decoration-color: #7f7f7f\">exp_ntk_hyperparam.py</span></a><span style=\"color: #7f7f7f; text-decoration-color: #7f7f7f\">:</span><a href=\"file:///ceph/ssd/students/sabanaya/ntk-robust/exp_ntk_hyperparam.py#149\" target=\"_blank\"><span style=\"color: #7f7f7f; text-decoration-color: #7f7f7f\">149</span></a>\n",
       "</pre>\n"
      ],
      "text/plain": [
       "\u001b[2;36m          \u001b[0m\u001b[2;36m \u001b[0m\u001b[34mINFO    \u001b[0m Currently on gpu device cu\u001b[1;92mda:0\u001b[0m     \u001b]8;id=419874;file:///ceph/ssd/students/sabanaya/ntk-robust/exp_ntk_hyperparam.py\u001b\\\u001b[2mexp_ntk_hyperparam.py\u001b[0m\u001b]8;;\u001b\\\u001b[2m:\u001b[0m\u001b]8;id=159463;file:///ceph/ssd/students/sabanaya/ntk-robust/exp_ntk_hyperparam.py#149\u001b\\\u001b[2m149\u001b[0m\u001b]8;;\u001b\\\n"
      ]
     },
     "metadata": {},
     "output_type": "display_data"
    },
    {
     "data": {
      "text/html": [
       "<pre style=\"white-space:pre;overflow-x:auto;line-height:normal;font-family:Menlo,'DejaVu Sans Mono',consolas,'Courier New',monospace\"><span style=\"color: #7fbfbf; text-decoration-color: #7fbfbf\">           </span><span style=\"color: #000080; text-decoration-color: #000080\">INFO    </span> <span style=\"color: #800080; text-decoration-color: #800080; font-weight: bold\">X.min</span><span style=\"font-weight: bold\">()</span>: <span style=\"color: #008080; text-decoration-color: #008080; font-weight: bold\">0.0</span>                                     <a href=\"file:///ceph/ssd/students/sabanaya/ntk-robust/src/data.py\" target=\"_blank\"><span style=\"color: #7f7f7f; text-decoration-color: #7f7f7f\">data.py</span></a><span style=\"color: #7f7f7f; text-decoration-color: #7f7f7f\">:</span><a href=\"file:///ceph/ssd/students/sabanaya/ntk-robust/src/data.py#174\" target=\"_blank\"><span style=\"color: #7f7f7f; text-decoration-color: #7f7f7f\">174</span></a>\n",
       "</pre>\n"
      ],
      "text/plain": [
       "\u001b[2;36m          \u001b[0m\u001b[2;36m \u001b[0m\u001b[34mINFO    \u001b[0m \u001b[1;35mX.min\u001b[0m\u001b[1m(\u001b[0m\u001b[1m)\u001b[0m: \u001b[1;36m0.0\u001b[0m                                     \u001b]8;id=394266;file:///ceph/ssd/students/sabanaya/ntk-robust/src/data.py\u001b\\\u001b[2mdata.py\u001b[0m\u001b]8;;\u001b\\\u001b[2m:\u001b[0m\u001b]8;id=999871;file:///ceph/ssd/students/sabanaya/ntk-robust/src/data.py#174\u001b\\\u001b[2m174\u001b[0m\u001b]8;;\u001b\\\n"
      ]
     },
     "metadata": {},
     "output_type": "display_data"
    },
    {
     "data": {
      "text/html": [
       "<pre style=\"white-space:pre;overflow-x:auto;line-height:normal;font-family:Menlo,'DejaVu Sans Mono',consolas,'Courier New',monospace\"><span style=\"color: #7fbfbf; text-decoration-color: #7fbfbf\">           </span><span style=\"color: #000080; text-decoration-color: #000080\">INFO    </span> <span style=\"color: #800080; text-decoration-color: #800080; font-weight: bold\">X.max</span><span style=\"font-weight: bold\">()</span>: <span style=\"color: #008080; text-decoration-color: #008080; font-weight: bold\">1.0</span>                                     <a href=\"file:///ceph/ssd/students/sabanaya/ntk-robust/src/data.py\" target=\"_blank\"><span style=\"color: #7f7f7f; text-decoration-color: #7f7f7f\">data.py</span></a><span style=\"color: #7f7f7f; text-decoration-color: #7f7f7f\">:</span><a href=\"file:///ceph/ssd/students/sabanaya/ntk-robust/src/data.py#175\" target=\"_blank\"><span style=\"color: #7f7f7f; text-decoration-color: #7f7f7f\">175</span></a>\n",
       "</pre>\n"
      ],
      "text/plain": [
       "\u001b[2;36m          \u001b[0m\u001b[2;36m \u001b[0m\u001b[34mINFO    \u001b[0m \u001b[1;35mX.max\u001b[0m\u001b[1m(\u001b[0m\u001b[1m)\u001b[0m: \u001b[1;36m1.0\u001b[0m                                     \u001b]8;id=718294;file:///ceph/ssd/students/sabanaya/ntk-robust/src/data.py\u001b\\\u001b[2mdata.py\u001b[0m\u001b]8;;\u001b\\\u001b[2m:\u001b[0m\u001b]8;id=154871;file:///ceph/ssd/students/sabanaya/ntk-robust/src/data.py#175\u001b\\\u001b[2m175\u001b[0m\u001b]8;;\u001b\\\n"
      ]
     },
     "metadata": {},
     "output_type": "display_data"
    },
    {
     "data": {
      "text/html": [
       "<pre style=\"white-space:pre;overflow-x:auto;line-height:normal;font-family:Menlo,'DejaVu Sans Mono',consolas,'Courier New',monospace\"><span style=\"color: #7fbfbf; text-decoration-color: #7fbfbf\">           </span><span style=\"color: #000080; text-decoration-color: #000080\">INFO    </span> <span style=\"color: #800080; text-decoration-color: #800080; font-weight: bold\">X_rowsum.mean</span><span style=\"font-weight: bold\">()</span>: <span style=\"color: #008080; text-decoration-color: #008080; font-weight: bold\">50.63558578491211</span>               <a href=\"file:///ceph/ssd/students/sabanaya/ntk-robust/src/data.py\" target=\"_blank\"><span style=\"color: #7f7f7f; text-decoration-color: #7f7f7f\">data.py</span></a><span style=\"color: #7f7f7f; text-decoration-color: #7f7f7f\">:</span><a href=\"file:///ceph/ssd/students/sabanaya/ntk-robust/src/data.py#176\" target=\"_blank\"><span style=\"color: #7f7f7f; text-decoration-color: #7f7f7f\">176</span></a>\n",
       "</pre>\n"
      ],
      "text/plain": [
       "\u001b[2;36m          \u001b[0m\u001b[2;36m \u001b[0m\u001b[34mINFO    \u001b[0m \u001b[1;35mX_rowsum.mean\u001b[0m\u001b[1m(\u001b[0m\u001b[1m)\u001b[0m: \u001b[1;36m50.63558578491211\u001b[0m               \u001b]8;id=638765;file:///ceph/ssd/students/sabanaya/ntk-robust/src/data.py\u001b\\\u001b[2mdata.py\u001b[0m\u001b]8;;\u001b\\\u001b[2m:\u001b[0m\u001b]8;id=517825;file:///ceph/ssd/students/sabanaya/ntk-robust/src/data.py#176\u001b\\\u001b[2m176\u001b[0m\u001b]8;;\u001b\\\n"
      ]
     },
     "metadata": {},
     "output_type": "display_data"
    },
    {
     "data": {
      "text/html": [
       "<pre style=\"white-space:pre;overflow-x:auto;line-height:normal;font-family:Menlo,'DejaVu Sans Mono',consolas,'Courier New',monospace\"><span style=\"color: #7fbfbf; text-decoration-color: #7fbfbf\">           </span><span style=\"color: #000080; text-decoration-color: #000080\">INFO    </span> <span style=\"color: #800080; text-decoration-color: #800080; font-weight: bold\">X_rowsum.median</span><span style=\"font-weight: bold\">()</span>: <span style=\"color: #008080; text-decoration-color: #008080; font-weight: bold\">49.0</span>                          <a href=\"file:///ceph/ssd/students/sabanaya/ntk-robust/src/data.py\" target=\"_blank\"><span style=\"color: #7f7f7f; text-decoration-color: #7f7f7f\">data.py</span></a><span style=\"color: #7f7f7f; text-decoration-color: #7f7f7f\">:</span><a href=\"file:///ceph/ssd/students/sabanaya/ntk-robust/src/data.py#177\" target=\"_blank\"><span style=\"color: #7f7f7f; text-decoration-color: #7f7f7f\">177</span></a>\n",
       "</pre>\n"
      ],
      "text/plain": [
       "\u001b[2;36m          \u001b[0m\u001b[2;36m \u001b[0m\u001b[34mINFO    \u001b[0m \u001b[1;35mX_rowsum.median\u001b[0m\u001b[1m(\u001b[0m\u001b[1m)\u001b[0m: \u001b[1;36m49.0\u001b[0m                          \u001b]8;id=934134;file:///ceph/ssd/students/sabanaya/ntk-robust/src/data.py\u001b\\\u001b[2mdata.py\u001b[0m\u001b]8;;\u001b\\\u001b[2m:\u001b[0m\u001b]8;id=259637;file:///ceph/ssd/students/sabanaya/ntk-robust/src/data.py#177\u001b\\\u001b[2m177\u001b[0m\u001b]8;;\u001b\\\n"
      ]
     },
     "metadata": {},
     "output_type": "display_data"
    },
    {
     "data": {
      "text/html": [
       "<pre style=\"white-space:pre;overflow-x:auto;line-height:normal;font-family:Menlo,'DejaVu Sans Mono',consolas,'Courier New',monospace\"><span style=\"color: #7fbfbf; text-decoration-color: #7fbfbf\">           </span><span style=\"color: #000080; text-decoration-color: #000080\">INFO    </span> <span style=\"color: #800080; text-decoration-color: #800080; font-weight: bold\">X_rowsum.min</span><span style=\"font-weight: bold\">()</span>: <span style=\"color: #008080; text-decoration-color: #008080; font-weight: bold\">2.0</span>                              <a href=\"file:///ceph/ssd/students/sabanaya/ntk-robust/src/data.py\" target=\"_blank\"><span style=\"color: #7f7f7f; text-decoration-color: #7f7f7f\">data.py</span></a><span style=\"color: #7f7f7f; text-decoration-color: #7f7f7f\">:</span><a href=\"file:///ceph/ssd/students/sabanaya/ntk-robust/src/data.py#178\" target=\"_blank\"><span style=\"color: #7f7f7f; text-decoration-color: #7f7f7f\">178</span></a>\n",
       "</pre>\n"
      ],
      "text/plain": [
       "\u001b[2;36m          \u001b[0m\u001b[2;36m \u001b[0m\u001b[34mINFO    \u001b[0m \u001b[1;35mX_rowsum.min\u001b[0m\u001b[1m(\u001b[0m\u001b[1m)\u001b[0m: \u001b[1;36m2.0\u001b[0m                              \u001b]8;id=854608;file:///ceph/ssd/students/sabanaya/ntk-robust/src/data.py\u001b\\\u001b[2mdata.py\u001b[0m\u001b]8;;\u001b\\\u001b[2m:\u001b[0m\u001b]8;id=902660;file:///ceph/ssd/students/sabanaya/ntk-robust/src/data.py#178\u001b\\\u001b[2m178\u001b[0m\u001b]8;;\u001b\\\n"
      ]
     },
     "metadata": {},
     "output_type": "display_data"
    },
    {
     "data": {
      "text/html": [
       "<pre style=\"white-space:pre;overflow-x:auto;line-height:normal;font-family:Menlo,'DejaVu Sans Mono',consolas,'Courier New',monospace\"><span style=\"color: #7fbfbf; text-decoration-color: #7fbfbf\">           </span><span style=\"color: #000080; text-decoration-color: #000080\">INFO    </span> <span style=\"color: #800080; text-decoration-color: #800080; font-weight: bold\">X_rowsum.max</span><span style=\"font-weight: bold\">()</span>: <span style=\"color: #008080; text-decoration-color: #008080; font-weight: bold\">176.0</span>                            <a href=\"file:///ceph/ssd/students/sabanaya/ntk-robust/src/data.py\" target=\"_blank\"><span style=\"color: #7f7f7f; text-decoration-color: #7f7f7f\">data.py</span></a><span style=\"color: #7f7f7f; text-decoration-color: #7f7f7f\">:</span><a href=\"file:///ceph/ssd/students/sabanaya/ntk-robust/src/data.py#179\" target=\"_blank\"><span style=\"color: #7f7f7f; text-decoration-color: #7f7f7f\">179</span></a>\n",
       "</pre>\n"
      ],
      "text/plain": [
       "\u001b[2;36m          \u001b[0m\u001b[2;36m \u001b[0m\u001b[34mINFO    \u001b[0m \u001b[1;35mX_rowsum.max\u001b[0m\u001b[1m(\u001b[0m\u001b[1m)\u001b[0m: \u001b[1;36m176.0\u001b[0m                            \u001b]8;id=988838;file:///ceph/ssd/students/sabanaya/ntk-robust/src/data.py\u001b\\\u001b[2mdata.py\u001b[0m\u001b]8;;\u001b\\\u001b[2m:\u001b[0m\u001b]8;id=818974;file:///ceph/ssd/students/sabanaya/ntk-robust/src/data.py#179\u001b\\\u001b[2m179\u001b[0m\u001b]8;;\u001b\\\n"
      ]
     },
     "metadata": {},
     "output_type": "display_data"
    },
    {
     "data": {
      "text/html": [
       "<pre style=\"white-space:pre;overflow-x:auto;line-height:normal;font-family:Menlo,'DejaVu Sans Mono',consolas,'Courier New',monospace\"><span style=\"color: #7fbfbf; text-decoration-color: #7fbfbf\">           </span><span style=\"color: #000080; text-decoration-color: #000080\">INFO    </span> number of samples                                <a href=\"file:///ceph/ssd/students/sabanaya/ntk-robust/src/data.py\" target=\"_blank\"><span style=\"color: #7f7f7f; text-decoration-color: #7f7f7f\">data.py</span></a><span style=\"color: #7f7f7f; text-decoration-color: #7f7f7f\">:</span><a href=\"file:///ceph/ssd/students/sabanaya/ntk-robust/src/data.py#284\" target=\"_blank\"><span style=\"color: #7f7f7f; text-decoration-color: #7f7f7f\">284</span></a>\n",
       "<span style=\"color: #7fbfbf; text-decoration-color: #7fbfbf\">           </span>          - labeled: <span style=\"color: #008080; text-decoration-color: #008080; font-weight: bold\">140</span>                                  <span style=\"color: #7f7f7f; text-decoration-color: #7f7f7f\">           </span>\n",
       "<span style=\"color: #7fbfbf; text-decoration-color: #7fbfbf\">           </span>          - val: <span style=\"color: #008080; text-decoration-color: #008080; font-weight: bold\">140</span>                                      <span style=\"color: #7f7f7f; text-decoration-color: #7f7f7f\">           </span>\n",
       "<span style=\"color: #7fbfbf; text-decoration-color: #7fbfbf\">           </span>          - test: <span style=\"color: #008080; text-decoration-color: #008080; font-weight: bold\">284</span>                                     <span style=\"color: #7f7f7f; text-decoration-color: #7f7f7f\">           </span>\n",
       "<span style=\"color: #7fbfbf; text-decoration-color: #7fbfbf\">           </span>          - unlabeled: <span style=\"color: #008080; text-decoration-color: #008080; font-weight: bold\">2246</span>                               <span style=\"color: #7f7f7f; text-decoration-color: #7f7f7f\">           </span>\n",
       "</pre>\n"
      ],
      "text/plain": [
       "\u001b[2;36m          \u001b[0m\u001b[2;36m \u001b[0m\u001b[34mINFO    \u001b[0m number of samples                                \u001b]8;id=61001;file:///ceph/ssd/students/sabanaya/ntk-robust/src/data.py\u001b\\\u001b[2mdata.py\u001b[0m\u001b]8;;\u001b\\\u001b[2m:\u001b[0m\u001b]8;id=435600;file:///ceph/ssd/students/sabanaya/ntk-robust/src/data.py#284\u001b\\\u001b[2m284\u001b[0m\u001b]8;;\u001b\\\n",
       "\u001b[2;36m           \u001b[0m          - labeled: \u001b[1;36m140\u001b[0m                                  \u001b[2m           \u001b[0m\n",
       "\u001b[2;36m           \u001b[0m          - val: \u001b[1;36m140\u001b[0m                                      \u001b[2m           \u001b[0m\n",
       "\u001b[2;36m           \u001b[0m          - test: \u001b[1;36m284\u001b[0m                                     \u001b[2m           \u001b[0m\n",
       "\u001b[2;36m           \u001b[0m          - unlabeled: \u001b[1;36m2246\u001b[0m                               \u001b[2m           \u001b[0m\n"
      ]
     },
     "metadata": {},
     "output_type": "display_data"
    },
    {
     "name": "stdout",
     "output_type": "stream",
     "text": [
      "train val split  (140,) (140,)\n",
      "Sig.mean(): 3.5262855649525986\n",
      "Sig.min(): 0.0\n",
      "Sig.max(): 91.25\n",
      "Depth 0\n",
      "E_der.min(): 0.5\n",
      "E_der.max(): 1.0\n",
      "Sig.mean(): 6.375333901322247\n",
      "Sig.min(): 1.9083869567264893\n",
      "Sig.max(): 72.02354586040484\n",
      "#Number of Support Vectors\n",
      "140\n",
      "alpha_mean: -4.556266832291005e-21\n",
      "train val split  (140,) (140,)\n",
      "Sig.mean(): 3.5262855649525986\n",
      "Sig.min(): 0.0\n",
      "Sig.max(): 91.25\n",
      "Depth 0\n",
      "E_der.min(): 0.5\n",
      "E_der.max(): 1.0\n",
      "Sig.mean(): 6.375333901322247\n",
      "Sig.min(): 1.9083869567264893\n",
      "Sig.max(): 72.02354586040484\n",
      "#Number of Support Vectors\n",
      "140\n",
      "alpha_mean: -1.0880648025345015e-22\n",
      "Sig.mean(): 3.5262855649525986\n",
      "Sig.min(): 0.0\n",
      "Sig.max(): 91.25\n",
      "Depth 0\n",
      "E_der.min(): 0.5\n",
      "E_der.max(): 1.0\n",
      "Sig.mean(): 6.375333901322247\n",
      "Sig.min(): 1.9083869567264893\n",
      "Sig.max(): 72.02354586040484\n",
      "#Number of Support Vectors\n",
      "280\n",
      "alpha_mean: 1.8926057842856034e-21\n",
      "#Number of Support Vectors\n",
      "280\n",
      "alpha_mean: 1.8926057842856034e-21\n"
     ]
    },
    {
     "data": {
      "text/plain": [
       "{'trn_acc': 0.9178571701049805,\n",
       " 'val_acc_l': [0.8071428537368774, 0.8214285969734192],\n",
       " 'test_acc': 0.8363636136054993,\n",
       " 'trn_min_ypred': -1.019201397895813,\n",
       " 'trn_max_ypred': -0.864044725894928,\n",
       " 'trn_min_ntkunlabeled': 3.330968925422657,\n",
       " 'trn_max_ntkunlabeled': 56.09592479824309,\n",
       " 'val_cond': [5406.631886584285, 1236088.2488305317],\n",
       " 'val_min_ypred': [-1.0094969272613525, -1.008741021156311],\n",
       " 'val_max_ypred': [-0.9213541746139526, -0.9454612135887146],\n",
       " 'val_min_ntklabeled': [3.3586876084920045, 3.370112010343827],\n",
       " 'val_max_ntklabeled': [56.09692479824309, 51.98985292744192],\n",
       " 'val_min_ntkunlabeled': [2.3938209237627683, 2.3938209237627683],\n",
       " 'val_max_ntkunlabeled': [59.638279436721575, 59.638279436721575],\n",
       " 'test_min_ypred': -1.0250886678695679,\n",
       " 'test_max_ypred': -0.8796449899673462,\n",
       " 'test_min_ntklabeled': 3.330968925422657,\n",
       " 'test_max_ntklabeled': 56.09692479824309,\n",
       " 'test_min_ntkunlabeled': 2.3938209237627683,\n",
       " 'test_max_ntkunlabeled': 59.638279436721575,\n",
       " 'test_cond': 2505399.9170512552}"
      ]
     },
     "execution_count": 33,
     "metadata": {},
     "output_type": "execute_result"
    }
   ],
   "source": [
    "data_params[\"dataset\"] = \"cora_ml\" #loads cora_ml_old\n",
    "run(data_params, model_params, verbosity_params, other_params, seed)\n"
   ]
  },
  {
   "cell_type": "code",
   "execution_count": 23,
   "metadata": {},
   "outputs": [
    {
     "data": {
      "text/html": [
       "<pre style=\"white-space:pre;overflow-x:auto;line-height:normal;font-family:Menlo,'DejaVu Sans Mono',consolas,'Courier New',monospace\"><span style=\"color: #7fbfbf; text-decoration-color: #7fbfbf\">[12:15:15] </span><span style=\"color: #000080; text-decoration-color: #000080\">INFO    </span> Starting experiment                <a href=\"file:///ceph/ssd/students/sabanaya/ntk-robust/exp_ntk_hyperparam.py\" target=\"_blank\"><span style=\"color: #7f7f7f; text-decoration-color: #7f7f7f\">exp_ntk_hyperparam.py</span></a><span style=\"color: #7f7f7f; text-decoration-color: #7f7f7f\">:</span><a href=\"file:///ceph/ssd/students/sabanaya/ntk-robust/exp_ntk_hyperparam.py#113\" target=\"_blank\"><span style=\"color: #7f7f7f; text-decoration-color: #7f7f7f\">113</span></a>\n",
       "<span style=\"color: #7fbfbf; text-decoration-color: #7fbfbf\">           </span>         exp_ntk_hyperparam with            <span style=\"color: #7f7f7f; text-decoration-color: #7f7f7f\">                         </span>\n",
       "<span style=\"color: #7fbfbf; text-decoration-color: #7fbfbf\">           </span>         configuration:                     <span style=\"color: #7f7f7f; text-decoration-color: #7f7f7f\">                         </span>\n",
       "</pre>\n"
      ],
      "text/plain": [
       "\u001b[2;36m[12:15:15]\u001b[0m\u001b[2;36m \u001b[0m\u001b[34mINFO    \u001b[0m Starting experiment                \u001b]8;id=928579;file:///ceph/ssd/students/sabanaya/ntk-robust/exp_ntk_hyperparam.py\u001b\\\u001b[2mexp_ntk_hyperparam.py\u001b[0m\u001b]8;;\u001b\\\u001b[2m:\u001b[0m\u001b]8;id=384333;file:///ceph/ssd/students/sabanaya/ntk-robust/exp_ntk_hyperparam.py#113\u001b\\\u001b[2m113\u001b[0m\u001b]8;;\u001b\\\n",
       "\u001b[2;36m           \u001b[0m         exp_ntk_hyperparam with            \u001b[2m                         \u001b[0m\n",
       "\u001b[2;36m           \u001b[0m         configuration:                     \u001b[2m                         \u001b[0m\n"
      ]
     },
     "metadata": {},
     "output_type": "display_data"
    },
    {
     "data": {
      "text/html": [
       "<pre style=\"white-space:pre;overflow-x:auto;line-height:normal;font-family:Menlo,'DejaVu Sans Mono',consolas,'Courier New',monospace\"><span style=\"color: #7fbfbf; text-decoration-color: #7fbfbf\">           </span><span style=\"color: #000080; text-decoration-color: #000080\">INFO    </span> data_params: <span style=\"font-weight: bold\">{</span><span style=\"color: #008000; text-decoration-color: #008000\">'dataset'</span>: <span style=\"color: #008000; text-decoration-color: #008000\">'cora'</span>,   <a href=\"file:///ceph/ssd/students/sabanaya/ntk-robust/exp_ntk_hyperparam.py\" target=\"_blank\"><span style=\"color: #7f7f7f; text-decoration-color: #7f7f7f\">exp_ntk_hyperparam.py</span></a><span style=\"color: #7f7f7f; text-decoration-color: #7f7f7f\">:</span><a href=\"file:///ceph/ssd/students/sabanaya/ntk-robust/exp_ntk_hyperparam.py#114\" target=\"_blank\"><span style=\"color: #7f7f7f; text-decoration-color: #7f7f7f\">114</span></a>\n",
       "<span style=\"color: #7fbfbf; text-decoration-color: #7fbfbf\">           </span>         <span style=\"color: #008000; text-decoration-color: #008000\">'learning_setting'</span>:                <span style=\"color: #7f7f7f; text-decoration-color: #7f7f7f\">                         </span>\n",
       "<span style=\"color: #7fbfbf; text-decoration-color: #7fbfbf\">           </span>         <span style=\"color: #008000; text-decoration-color: #008000\">'transductive'</span>, <span style=\"color: #008000; text-decoration-color: #008000\">'cv_folds'</span>: <span style=\"color: #008080; text-decoration-color: #008080; font-weight: bold\">2</span>,     <span style=\"color: #7f7f7f; text-decoration-color: #7f7f7f\">                         </span>\n",
       "<span style=\"color: #7fbfbf; text-decoration-color: #7fbfbf\">           </span>         <span style=\"color: #008000; text-decoration-color: #008000\">'specification'</span>: <span style=\"font-weight: bold\">{</span><span style=\"color: #008000; text-decoration-color: #008000\">'n_per_class'</span>:   <span style=\"color: #7f7f7f; text-decoration-color: #7f7f7f\">                         </span>\n",
       "<span style=\"color: #7fbfbf; text-decoration-color: #7fbfbf\">           </span>         <span style=\"color: #008080; text-decoration-color: #008080; font-weight: bold\">20</span>, <span style=\"color: #008000; text-decoration-color: #008000\">'fraction_test'</span>: <span style=\"color: #008080; text-decoration-color: #008080; font-weight: bold\">0.1</span>,          <span style=\"color: #7f7f7f; text-decoration-color: #7f7f7f\">                         </span>\n",
       "<span style=\"color: #7fbfbf; text-decoration-color: #7fbfbf\">           </span>         <span style=\"color: #008000; text-decoration-color: #008000\">'data_dir'</span>: <span style=\"color: #008000; text-decoration-color: #008000\">'./data'</span>,              <span style=\"color: #7f7f7f; text-decoration-color: #7f7f7f\">                         </span>\n",
       "<span style=\"color: #7fbfbf; text-decoration-color: #7fbfbf\">           </span>         <span style=\"color: #008000; text-decoration-color: #008000\">'make_undirected'</span>: <span style=\"color: #00ff00; text-decoration-color: #00ff00; font-style: italic\">True</span>,           <span style=\"color: #7f7f7f; text-decoration-color: #7f7f7f\">                         </span>\n",
       "<span style=\"color: #7fbfbf; text-decoration-color: #7fbfbf\">           </span>         <span style=\"color: #008000; text-decoration-color: #008000\">'binary_attr'</span>: <span style=\"color: #ff0000; text-decoration-color: #ff0000; font-style: italic\">False</span>,              <span style=\"color: #7f7f7f; text-decoration-color: #7f7f7f\">                         </span>\n",
       "<span style=\"color: #7fbfbf; text-decoration-color: #7fbfbf\">           </span>         <span style=\"color: #008000; text-decoration-color: #008000\">'balance_test'</span>: <span style=\"color: #00ff00; text-decoration-color: #00ff00; font-style: italic\">True</span><span style=\"font-weight: bold\">}}</span>             <span style=\"color: #7f7f7f; text-decoration-color: #7f7f7f\">                         </span>\n",
       "</pre>\n"
      ],
      "text/plain": [
       "\u001b[2;36m          \u001b[0m\u001b[2;36m \u001b[0m\u001b[34mINFO    \u001b[0m data_params: \u001b[1m{\u001b[0m\u001b[32m'dataset'\u001b[0m: \u001b[32m'cora'\u001b[0m,   \u001b]8;id=879204;file:///ceph/ssd/students/sabanaya/ntk-robust/exp_ntk_hyperparam.py\u001b\\\u001b[2mexp_ntk_hyperparam.py\u001b[0m\u001b]8;;\u001b\\\u001b[2m:\u001b[0m\u001b]8;id=244323;file:///ceph/ssd/students/sabanaya/ntk-robust/exp_ntk_hyperparam.py#114\u001b\\\u001b[2m114\u001b[0m\u001b]8;;\u001b\\\n",
       "\u001b[2;36m           \u001b[0m         \u001b[32m'learning_setting'\u001b[0m:                \u001b[2m                         \u001b[0m\n",
       "\u001b[2;36m           \u001b[0m         \u001b[32m'transductive'\u001b[0m, \u001b[32m'cv_folds'\u001b[0m: \u001b[1;36m2\u001b[0m,     \u001b[2m                         \u001b[0m\n",
       "\u001b[2;36m           \u001b[0m         \u001b[32m'specification'\u001b[0m: \u001b[1m{\u001b[0m\u001b[32m'n_per_class'\u001b[0m:   \u001b[2m                         \u001b[0m\n",
       "\u001b[2;36m           \u001b[0m         \u001b[1;36m20\u001b[0m, \u001b[32m'fraction_test'\u001b[0m: \u001b[1;36m0.1\u001b[0m,          \u001b[2m                         \u001b[0m\n",
       "\u001b[2;36m           \u001b[0m         \u001b[32m'data_dir'\u001b[0m: \u001b[32m'./data'\u001b[0m,              \u001b[2m                         \u001b[0m\n",
       "\u001b[2;36m           \u001b[0m         \u001b[32m'make_undirected'\u001b[0m: \u001b[3;92mTrue\u001b[0m,           \u001b[2m                         \u001b[0m\n",
       "\u001b[2;36m           \u001b[0m         \u001b[32m'binary_attr'\u001b[0m: \u001b[3;91mFalse\u001b[0m,              \u001b[2m                         \u001b[0m\n",
       "\u001b[2;36m           \u001b[0m         \u001b[32m'balance_test'\u001b[0m: \u001b[3;92mTrue\u001b[0m\u001b[1m}\u001b[0m\u001b[1m}\u001b[0m             \u001b[2m                         \u001b[0m\n"
      ]
     },
     "metadata": {},
     "output_type": "display_data"
    },
    {
     "data": {
      "text/html": [
       "<pre style=\"white-space:pre;overflow-x:auto;line-height:normal;font-family:Menlo,'DejaVu Sans Mono',consolas,'Courier New',monospace\"><span style=\"color: #7fbfbf; text-decoration-color: #7fbfbf\">           </span><span style=\"color: #000080; text-decoration-color: #000080\">INFO    </span> model_params: <span style=\"font-weight: bold\">{</span><span style=\"color: #008000; text-decoration-color: #008000\">'label'</span>: <span style=\"color: #008000; text-decoration-color: #008000\">'GCN'</span>,     <a href=\"file:///ceph/ssd/students/sabanaya/ntk-robust/exp_ntk_hyperparam.py\" target=\"_blank\"><span style=\"color: #7f7f7f; text-decoration-color: #7f7f7f\">exp_ntk_hyperparam.py</span></a><span style=\"color: #7f7f7f; text-decoration-color: #7f7f7f\">:</span><a href=\"file:///ceph/ssd/students/sabanaya/ntk-robust/exp_ntk_hyperparam.py#115\" target=\"_blank\"><span style=\"color: #7f7f7f; text-decoration-color: #7f7f7f\">115</span></a>\n",
       "<span style=\"color: #7fbfbf; text-decoration-color: #7fbfbf\">           </span>         <span style=\"color: #008000; text-decoration-color: #008000\">'model'</span>: <span style=\"color: #008000; text-decoration-color: #008000\">'GCN'</span>, <span style=\"color: #008000; text-decoration-color: #008000\">'normalization'</span>:   <span style=\"color: #7f7f7f; text-decoration-color: #7f7f7f\">                         </span>\n",
       "<span style=\"color: #7fbfbf; text-decoration-color: #7fbfbf\">           </span>         <span style=\"color: #008000; text-decoration-color: #008000\">'row_normalization'</span>, <span style=\"color: #008000; text-decoration-color: #008000\">'activation'</span>: <span style=\"color: #7f7f7f; text-decoration-color: #7f7f7f\">                         </span>\n",
       "<span style=\"color: #7fbfbf; text-decoration-color: #7fbfbf\">           </span>         <span style=\"color: #008000; text-decoration-color: #008000\">'relu'</span>, <span style=\"color: #008000; text-decoration-color: #008000\">'depth'</span>: <span style=\"color: #008080; text-decoration-color: #008080; font-weight: bold\">1</span>, <span style=\"color: #008000; text-decoration-color: #008000\">'regularizer'</span>: <span style=\"color: #7f7f7f; text-decoration-color: #7f7f7f\">                         </span>\n",
       "<span style=\"color: #7fbfbf; text-decoration-color: #7fbfbf\">           </span>         <span style=\"color: #008080; text-decoration-color: #008080; font-weight: bold\">0.001</span>, <span style=\"color: #008000; text-decoration-color: #008000\">'pred_method'</span>: <span style=\"color: #008000; text-decoration-color: #008000\">'svm'</span>,       <span style=\"color: #7f7f7f; text-decoration-color: #7f7f7f\">                         </span>\n",
       "<span style=\"color: #7fbfbf; text-decoration-color: #7fbfbf\">           </span>         <span style=\"color: #008000; text-decoration-color: #008000\">'bias'</span>: <span style=\"color: #ff0000; text-decoration-color: #ff0000; font-style: italic\">False</span>, <span style=\"color: #008000; text-decoration-color: #008000\">'solver'</span>:           <span style=\"color: #7f7f7f; text-decoration-color: #7f7f7f\">                         </span>\n",
       "<span style=\"color: #7fbfbf; text-decoration-color: #7fbfbf\">           </span>         <span style=\"color: #008000; text-decoration-color: #008000\">'sklearn'</span>, <span style=\"color: #008000; text-decoration-color: #008000\">'alpha_tol'</span>: <span style=\"color: #008080; text-decoration-color: #008080; font-weight: bold\">0.0001</span>,    <span style=\"color: #7f7f7f; text-decoration-color: #7f7f7f\">                         </span>\n",
       "<span style=\"color: #7fbfbf; text-decoration-color: #7fbfbf\">           </span>         <span style=\"color: #008000; text-decoration-color: #008000\">'multiclass_svm_method'</span>:           <span style=\"color: #7f7f7f; text-decoration-color: #7f7f7f\">                         </span>\n",
       "<span style=\"color: #7fbfbf; text-decoration-color: #7fbfbf\">           </span>         <span style=\"color: #008000; text-decoration-color: #008000\">'simMSVM'</span><span style=\"font-weight: bold\">}</span>                         <span style=\"color: #7f7f7f; text-decoration-color: #7f7f7f\">                         </span>\n",
       "</pre>\n"
      ],
      "text/plain": [
       "\u001b[2;36m          \u001b[0m\u001b[2;36m \u001b[0m\u001b[34mINFO    \u001b[0m model_params: \u001b[1m{\u001b[0m\u001b[32m'label'\u001b[0m: \u001b[32m'GCN'\u001b[0m,     \u001b]8;id=765138;file:///ceph/ssd/students/sabanaya/ntk-robust/exp_ntk_hyperparam.py\u001b\\\u001b[2mexp_ntk_hyperparam.py\u001b[0m\u001b]8;;\u001b\\\u001b[2m:\u001b[0m\u001b]8;id=411421;file:///ceph/ssd/students/sabanaya/ntk-robust/exp_ntk_hyperparam.py#115\u001b\\\u001b[2m115\u001b[0m\u001b]8;;\u001b\\\n",
       "\u001b[2;36m           \u001b[0m         \u001b[32m'model'\u001b[0m: \u001b[32m'GCN'\u001b[0m, \u001b[32m'normalization'\u001b[0m:   \u001b[2m                         \u001b[0m\n",
       "\u001b[2;36m           \u001b[0m         \u001b[32m'row_normalization'\u001b[0m, \u001b[32m'activation'\u001b[0m: \u001b[2m                         \u001b[0m\n",
       "\u001b[2;36m           \u001b[0m         \u001b[32m'relu'\u001b[0m, \u001b[32m'depth'\u001b[0m: \u001b[1;36m1\u001b[0m, \u001b[32m'regularizer'\u001b[0m: \u001b[2m                         \u001b[0m\n",
       "\u001b[2;36m           \u001b[0m         \u001b[1;36m0.001\u001b[0m, \u001b[32m'pred_method'\u001b[0m: \u001b[32m'svm'\u001b[0m,       \u001b[2m                         \u001b[0m\n",
       "\u001b[2;36m           \u001b[0m         \u001b[32m'bias'\u001b[0m: \u001b[3;91mFalse\u001b[0m, \u001b[32m'solver'\u001b[0m:           \u001b[2m                         \u001b[0m\n",
       "\u001b[2;36m           \u001b[0m         \u001b[32m'sklearn'\u001b[0m, \u001b[32m'alpha_tol'\u001b[0m: \u001b[1;36m0.0001\u001b[0m,    \u001b[2m                         \u001b[0m\n",
       "\u001b[2;36m           \u001b[0m         \u001b[32m'multiclass_svm_method'\u001b[0m:           \u001b[2m                         \u001b[0m\n",
       "\u001b[2;36m           \u001b[0m         \u001b[32m'simMSVM'\u001b[0m\u001b[1m}\u001b[0m                         \u001b[2m                         \u001b[0m\n"
      ]
     },
     "metadata": {},
     "output_type": "display_data"
    },
    {
     "data": {
      "text/html": [
       "<pre style=\"white-space:pre;overflow-x:auto;line-height:normal;font-family:Menlo,'DejaVu Sans Mono',consolas,'Courier New',monospace\"><span style=\"color: #7fbfbf; text-decoration-color: #7fbfbf\">           </span><span style=\"color: #000080; text-decoration-color: #000080\">INFO    </span> verbosity_params: <span style=\"font-weight: bold\">{</span><span style=\"color: #008000; text-decoration-color: #008000\">'debug_lvl'</span>:    <a href=\"file:///ceph/ssd/students/sabanaya/ntk-robust/exp_ntk_hyperparam.py\" target=\"_blank\"><span style=\"color: #7f7f7f; text-decoration-color: #7f7f7f\">exp_ntk_hyperparam.py</span></a><span style=\"color: #7f7f7f; text-decoration-color: #7f7f7f\">:</span><a href=\"file:///ceph/ssd/students/sabanaya/ntk-robust/exp_ntk_hyperparam.py#116\" target=\"_blank\"><span style=\"color: #7f7f7f; text-decoration-color: #7f7f7f\">116</span></a>\n",
       "<span style=\"color: #7fbfbf; text-decoration-color: #7fbfbf\">           </span>         <span style=\"color: #008000; text-decoration-color: #008000\">'debug'</span><span style=\"font-weight: bold\">}</span>                           <span style=\"color: #7f7f7f; text-decoration-color: #7f7f7f\">                         </span>\n",
       "</pre>\n"
      ],
      "text/plain": [
       "\u001b[2;36m          \u001b[0m\u001b[2;36m \u001b[0m\u001b[34mINFO    \u001b[0m verbosity_params: \u001b[1m{\u001b[0m\u001b[32m'debug_lvl'\u001b[0m:    \u001b]8;id=755917;file:///ceph/ssd/students/sabanaya/ntk-robust/exp_ntk_hyperparam.py\u001b\\\u001b[2mexp_ntk_hyperparam.py\u001b[0m\u001b]8;;\u001b\\\u001b[2m:\u001b[0m\u001b]8;id=70810;file:///ceph/ssd/students/sabanaya/ntk-robust/exp_ntk_hyperparam.py#116\u001b\\\u001b[2m116\u001b[0m\u001b]8;;\u001b\\\n",
       "\u001b[2;36m           \u001b[0m         \u001b[32m'debug'\u001b[0m\u001b[1m}\u001b[0m                           \u001b[2m                         \u001b[0m\n"
      ]
     },
     "metadata": {},
     "output_type": "display_data"
    },
    {
     "data": {
      "text/html": [
       "<pre style=\"white-space:pre;overflow-x:auto;line-height:normal;font-family:Menlo,'DejaVu Sans Mono',consolas,'Courier New',monospace\"><span style=\"color: #7fbfbf; text-decoration-color: #7fbfbf\">           </span><span style=\"color: #000080; text-decoration-color: #000080\">INFO    </span> other_params: <span style=\"font-weight: bold\">{</span><span style=\"color: #008000; text-decoration-color: #008000\">'device'</span>: <span style=\"color: #008000; text-decoration-color: #008000\">'0'</span>,      <a href=\"file:///ceph/ssd/students/sabanaya/ntk-robust/exp_ntk_hyperparam.py\" target=\"_blank\"><span style=\"color: #7f7f7f; text-decoration-color: #7f7f7f\">exp_ntk_hyperparam.py</span></a><span style=\"color: #7f7f7f; text-decoration-color: #7f7f7f\">:</span><a href=\"file:///ceph/ssd/students/sabanaya/ntk-robust/exp_ntk_hyperparam.py#117\" target=\"_blank\"><span style=\"color: #7f7f7f; text-decoration-color: #7f7f7f\">117</span></a>\n",
       "<span style=\"color: #7fbfbf; text-decoration-color: #7fbfbf\">           </span>         <span style=\"color: #008000; text-decoration-color: #008000\">'dtype'</span>: torch.float64,            <span style=\"color: #7f7f7f; text-decoration-color: #7f7f7f\">                         </span>\n",
       "<span style=\"color: #7fbfbf; text-decoration-color: #7fbfbf\">           </span>         <span style=\"color: #008000; text-decoration-color: #008000\">'allow_tf32'</span>: <span style=\"color: #ff0000; text-decoration-color: #ff0000; font-style: italic\">False</span>, <span style=\"color: #008000; text-decoration-color: #008000\">'debug'</span>:      <span style=\"color: #7f7f7f; text-decoration-color: #7f7f7f\">                         </span>\n",
       "<span style=\"color: #7fbfbf; text-decoration-color: #7fbfbf\">           </span>         <span style=\"color: #00ff00; text-decoration-color: #00ff00; font-style: italic\">True</span><span style=\"font-weight: bold\">}</span>                              <span style=\"color: #7f7f7f; text-decoration-color: #7f7f7f\">                         </span>\n",
       "</pre>\n"
      ],
      "text/plain": [
       "\u001b[2;36m          \u001b[0m\u001b[2;36m \u001b[0m\u001b[34mINFO    \u001b[0m other_params: \u001b[1m{\u001b[0m\u001b[32m'device'\u001b[0m: \u001b[32m'0'\u001b[0m,      \u001b]8;id=614711;file:///ceph/ssd/students/sabanaya/ntk-robust/exp_ntk_hyperparam.py\u001b\\\u001b[2mexp_ntk_hyperparam.py\u001b[0m\u001b]8;;\u001b\\\u001b[2m:\u001b[0m\u001b]8;id=537959;file:///ceph/ssd/students/sabanaya/ntk-robust/exp_ntk_hyperparam.py#117\u001b\\\u001b[2m117\u001b[0m\u001b]8;;\u001b\\\n",
       "\u001b[2;36m           \u001b[0m         \u001b[32m'dtype'\u001b[0m: torch.float64,            \u001b[2m                         \u001b[0m\n",
       "\u001b[2;36m           \u001b[0m         \u001b[32m'allow_tf32'\u001b[0m: \u001b[3;91mFalse\u001b[0m, \u001b[32m'debug'\u001b[0m:      \u001b[2m                         \u001b[0m\n",
       "\u001b[2;36m           \u001b[0m         \u001b[3;92mTrue\u001b[0m\u001b[1m}\u001b[0m                              \u001b[2m                         \u001b[0m\n"
      ]
     },
     "metadata": {},
     "output_type": "display_data"
    },
    {
     "data": {
      "text/html": [
       "<pre style=\"white-space:pre;overflow-x:auto;line-height:normal;font-family:Menlo,'DejaVu Sans Mono',consolas,'Courier New',monospace\"><span style=\"color: #7fbfbf; text-decoration-color: #7fbfbf\">           </span><span style=\"color: #000080; text-decoration-color: #000080\">INFO    </span> seed: <span style=\"color: #008080; text-decoration-color: #008080; font-weight: bold\">0</span>                            <a href=\"file:///ceph/ssd/students/sabanaya/ntk-robust/exp_ntk_hyperparam.py\" target=\"_blank\"><span style=\"color: #7f7f7f; text-decoration-color: #7f7f7f\">exp_ntk_hyperparam.py</span></a><span style=\"color: #7f7f7f; text-decoration-color: #7f7f7f\">:</span><a href=\"file:///ceph/ssd/students/sabanaya/ntk-robust/exp_ntk_hyperparam.py#118\" target=\"_blank\"><span style=\"color: #7f7f7f; text-decoration-color: #7f7f7f\">118</span></a>\n",
       "</pre>\n"
      ],
      "text/plain": [
       "\u001b[2;36m          \u001b[0m\u001b[2;36m \u001b[0m\u001b[34mINFO    \u001b[0m seed: \u001b[1;36m0\u001b[0m                            \u001b]8;id=220681;file:///ceph/ssd/students/sabanaya/ntk-robust/exp_ntk_hyperparam.py\u001b\\\u001b[2mexp_ntk_hyperparam.py\u001b[0m\u001b]8;;\u001b\\\u001b[2m:\u001b[0m\u001b]8;id=822592;file:///ceph/ssd/students/sabanaya/ntk-robust/exp_ntk_hyperparam.py#118\u001b\\\u001b[2m118\u001b[0m\u001b]8;;\u001b\\\n"
      ]
     },
     "metadata": {},
     "output_type": "display_data"
    },
    {
     "data": {
      "text/html": [
       "<pre style=\"white-space:pre;overflow-x:auto;line-height:normal;font-family:Menlo,'DejaVu Sans Mono',consolas,'Courier New',monospace\"><span style=\"color: #7fbfbf; text-decoration-color: #7fbfbf\">           </span><span style=\"color: #000080; text-decoration-color: #000080\">INFO    </span> Currently on gpu device cu<span style=\"color: #00ff00; text-decoration-color: #00ff00; font-weight: bold\">da:0</span>     <a href=\"file:///ceph/ssd/students/sabanaya/ntk-robust/exp_ntk_hyperparam.py\" target=\"_blank\"><span style=\"color: #7f7f7f; text-decoration-color: #7f7f7f\">exp_ntk_hyperparam.py</span></a><span style=\"color: #7f7f7f; text-decoration-color: #7f7f7f\">:</span><a href=\"file:///ceph/ssd/students/sabanaya/ntk-robust/exp_ntk_hyperparam.py#149\" target=\"_blank\"><span style=\"color: #7f7f7f; text-decoration-color: #7f7f7f\">149</span></a>\n",
       "</pre>\n"
      ],
      "text/plain": [
       "\u001b[2;36m          \u001b[0m\u001b[2;36m \u001b[0m\u001b[34mINFO    \u001b[0m Currently on gpu device cu\u001b[1;92mda:0\u001b[0m     \u001b]8;id=726133;file:///ceph/ssd/students/sabanaya/ntk-robust/exp_ntk_hyperparam.py\u001b\\\u001b[2mexp_ntk_hyperparam.py\u001b[0m\u001b]8;;\u001b\\\u001b[2m:\u001b[0m\u001b]8;id=622950;file:///ceph/ssd/students/sabanaya/ntk-robust/exp_ntk_hyperparam.py#149\u001b\\\u001b[2m149\u001b[0m\u001b]8;;\u001b\\\n"
      ]
     },
     "metadata": {},
     "output_type": "display_data"
    },
    {
     "data": {
      "text/html": [
       "<pre style=\"white-space:pre;overflow-x:auto;line-height:normal;font-family:Menlo,'DejaVu Sans Mono',consolas,'Courier New',monospace\"><span style=\"color: #7fbfbf; text-decoration-color: #7fbfbf\">           </span><span style=\"color: #000080; text-decoration-color: #000080\">INFO    </span> <span style=\"color: #800080; text-decoration-color: #800080; font-weight: bold\">X.min</span><span style=\"font-weight: bold\">()</span>: <span style=\"color: #008080; text-decoration-color: #008080; font-weight: bold\">0.0</span>                                     <a href=\"file:///ceph/ssd/students/sabanaya/ntk-robust/src/data.py\" target=\"_blank\"><span style=\"color: #7f7f7f; text-decoration-color: #7f7f7f\">data.py</span></a><span style=\"color: #7f7f7f; text-decoration-color: #7f7f7f\">:</span><a href=\"file:///ceph/ssd/students/sabanaya/ntk-robust/src/data.py#166\" target=\"_blank\"><span style=\"color: #7f7f7f; text-decoration-color: #7f7f7f\">166</span></a>\n",
       "</pre>\n"
      ],
      "text/plain": [
       "\u001b[2;36m          \u001b[0m\u001b[2;36m \u001b[0m\u001b[34mINFO    \u001b[0m \u001b[1;35mX.min\u001b[0m\u001b[1m(\u001b[0m\u001b[1m)\u001b[0m: \u001b[1;36m0.0\u001b[0m                                     \u001b]8;id=886219;file:///ceph/ssd/students/sabanaya/ntk-robust/src/data.py\u001b\\\u001b[2mdata.py\u001b[0m\u001b]8;;\u001b\\\u001b[2m:\u001b[0m\u001b]8;id=488844;file:///ceph/ssd/students/sabanaya/ntk-robust/src/data.py#166\u001b\\\u001b[2m166\u001b[0m\u001b]8;;\u001b\\\n"
      ]
     },
     "metadata": {},
     "output_type": "display_data"
    },
    {
     "data": {
      "text/html": [
       "<pre style=\"white-space:pre;overflow-x:auto;line-height:normal;font-family:Menlo,'DejaVu Sans Mono',consolas,'Courier New',monospace\"><span style=\"color: #7fbfbf; text-decoration-color: #7fbfbf\">           </span><span style=\"color: #000080; text-decoration-color: #000080\">INFO    </span> <span style=\"color: #800080; text-decoration-color: #800080; font-weight: bold\">X.max</span><span style=\"font-weight: bold\">()</span>: <span style=\"color: #008080; text-decoration-color: #008080; font-weight: bold\">1.0</span>                                     <a href=\"file:///ceph/ssd/students/sabanaya/ntk-robust/src/data.py\" target=\"_blank\"><span style=\"color: #7f7f7f; text-decoration-color: #7f7f7f\">data.py</span></a><span style=\"color: #7f7f7f; text-decoration-color: #7f7f7f\">:</span><a href=\"file:///ceph/ssd/students/sabanaya/ntk-robust/src/data.py#167\" target=\"_blank\"><span style=\"color: #7f7f7f; text-decoration-color: #7f7f7f\">167</span></a>\n",
       "</pre>\n"
      ],
      "text/plain": [
       "\u001b[2;36m          \u001b[0m\u001b[2;36m \u001b[0m\u001b[34mINFO    \u001b[0m \u001b[1;35mX.max\u001b[0m\u001b[1m(\u001b[0m\u001b[1m)\u001b[0m: \u001b[1;36m1.0\u001b[0m                                     \u001b]8;id=470751;file:///ceph/ssd/students/sabanaya/ntk-robust/src/data.py\u001b\\\u001b[2mdata.py\u001b[0m\u001b]8;;\u001b\\\u001b[2m:\u001b[0m\u001b]8;id=887829;file:///ceph/ssd/students/sabanaya/ntk-robust/src/data.py#167\u001b\\\u001b[2m167\u001b[0m\u001b]8;;\u001b\\\n"
      ]
     },
     "metadata": {},
     "output_type": "display_data"
    },
    {
     "data": {
      "text/html": [
       "<pre style=\"white-space:pre;overflow-x:auto;line-height:normal;font-family:Menlo,'DejaVu Sans Mono',consolas,'Courier New',monospace\"><span style=\"color: #7fbfbf; text-decoration-color: #7fbfbf\">           </span><span style=\"color: #000080; text-decoration-color: #000080\">INFO    </span> <span style=\"color: #800080; text-decoration-color: #800080; font-weight: bold\">X_rowsum.mean</span><span style=\"font-weight: bold\">()</span>: <span style=\"color: #008080; text-decoration-color: #008080; font-weight: bold\">18.174299240112305</span>              <a href=\"file:///ceph/ssd/students/sabanaya/ntk-robust/src/data.py\" target=\"_blank\"><span style=\"color: #7f7f7f; text-decoration-color: #7f7f7f\">data.py</span></a><span style=\"color: #7f7f7f; text-decoration-color: #7f7f7f\">:</span><a href=\"file:///ceph/ssd/students/sabanaya/ntk-robust/src/data.py#168\" target=\"_blank\"><span style=\"color: #7f7f7f; text-decoration-color: #7f7f7f\">168</span></a>\n",
       "</pre>\n"
      ],
      "text/plain": [
       "\u001b[2;36m          \u001b[0m\u001b[2;36m \u001b[0m\u001b[34mINFO    \u001b[0m \u001b[1;35mX_rowsum.mean\u001b[0m\u001b[1m(\u001b[0m\u001b[1m)\u001b[0m: \u001b[1;36m18.174299240112305\u001b[0m              \u001b]8;id=54904;file:///ceph/ssd/students/sabanaya/ntk-robust/src/data.py\u001b\\\u001b[2mdata.py\u001b[0m\u001b]8;;\u001b\\\u001b[2m:\u001b[0m\u001b]8;id=445926;file:///ceph/ssd/students/sabanaya/ntk-robust/src/data.py#168\u001b\\\u001b[2m168\u001b[0m\u001b]8;;\u001b\\\n"
      ]
     },
     "metadata": {},
     "output_type": "display_data"
    },
    {
     "data": {
      "text/html": [
       "<pre style=\"white-space:pre;overflow-x:auto;line-height:normal;font-family:Menlo,'DejaVu Sans Mono',consolas,'Courier New',monospace\"><span style=\"color: #7fbfbf; text-decoration-color: #7fbfbf\">           </span><span style=\"color: #000080; text-decoration-color: #000080\">INFO    </span> <span style=\"color: #800080; text-decoration-color: #800080; font-weight: bold\">X_rowsum.median</span><span style=\"font-weight: bold\">()</span>: <span style=\"color: #008080; text-decoration-color: #008080; font-weight: bold\">20.0</span>                          <a href=\"file:///ceph/ssd/students/sabanaya/ntk-robust/src/data.py\" target=\"_blank\"><span style=\"color: #7f7f7f; text-decoration-color: #7f7f7f\">data.py</span></a><span style=\"color: #7f7f7f; text-decoration-color: #7f7f7f\">:</span><a href=\"file:///ceph/ssd/students/sabanaya/ntk-robust/src/data.py#169\" target=\"_blank\"><span style=\"color: #7f7f7f; text-decoration-color: #7f7f7f\">169</span></a>\n",
       "</pre>\n"
      ],
      "text/plain": [
       "\u001b[2;36m          \u001b[0m\u001b[2;36m \u001b[0m\u001b[34mINFO    \u001b[0m \u001b[1;35mX_rowsum.median\u001b[0m\u001b[1m(\u001b[0m\u001b[1m)\u001b[0m: \u001b[1;36m20.0\u001b[0m                          \u001b]8;id=558725;file:///ceph/ssd/students/sabanaya/ntk-robust/src/data.py\u001b\\\u001b[2mdata.py\u001b[0m\u001b]8;;\u001b\\\u001b[2m:\u001b[0m\u001b]8;id=511194;file:///ceph/ssd/students/sabanaya/ntk-robust/src/data.py#169\u001b\\\u001b[2m169\u001b[0m\u001b]8;;\u001b\\\n"
      ]
     },
     "metadata": {},
     "output_type": "display_data"
    },
    {
     "data": {
      "text/html": [
       "<pre style=\"white-space:pre;overflow-x:auto;line-height:normal;font-family:Menlo,'DejaVu Sans Mono',consolas,'Courier New',monospace\"><span style=\"color: #7fbfbf; text-decoration-color: #7fbfbf\">           </span><span style=\"color: #000080; text-decoration-color: #000080\">INFO    </span> <span style=\"color: #800080; text-decoration-color: #800080; font-weight: bold\">X_rowsum.min</span><span style=\"font-weight: bold\">()</span>: <span style=\"color: #008080; text-decoration-color: #008080; font-weight: bold\">1.0</span>                              <a href=\"file:///ceph/ssd/students/sabanaya/ntk-robust/src/data.py\" target=\"_blank\"><span style=\"color: #7f7f7f; text-decoration-color: #7f7f7f\">data.py</span></a><span style=\"color: #7f7f7f; text-decoration-color: #7f7f7f\">:</span><a href=\"file:///ceph/ssd/students/sabanaya/ntk-robust/src/data.py#170\" target=\"_blank\"><span style=\"color: #7f7f7f; text-decoration-color: #7f7f7f\">170</span></a>\n",
       "</pre>\n"
      ],
      "text/plain": [
       "\u001b[2;36m          \u001b[0m\u001b[2;36m \u001b[0m\u001b[34mINFO    \u001b[0m \u001b[1;35mX_rowsum.min\u001b[0m\u001b[1m(\u001b[0m\u001b[1m)\u001b[0m: \u001b[1;36m1.0\u001b[0m                              \u001b]8;id=434618;file:///ceph/ssd/students/sabanaya/ntk-robust/src/data.py\u001b\\\u001b[2mdata.py\u001b[0m\u001b]8;;\u001b\\\u001b[2m:\u001b[0m\u001b]8;id=681682;file:///ceph/ssd/students/sabanaya/ntk-robust/src/data.py#170\u001b\\\u001b[2m170\u001b[0m\u001b]8;;\u001b\\\n"
      ]
     },
     "metadata": {},
     "output_type": "display_data"
    },
    {
     "data": {
      "text/html": [
       "<pre style=\"white-space:pre;overflow-x:auto;line-height:normal;font-family:Menlo,'DejaVu Sans Mono',consolas,'Courier New',monospace\"><span style=\"color: #7fbfbf; text-decoration-color: #7fbfbf\">           </span><span style=\"color: #000080; text-decoration-color: #000080\">INFO    </span> <span style=\"color: #800080; text-decoration-color: #800080; font-weight: bold\">X_rowsum.max</span><span style=\"font-weight: bold\">()</span>: <span style=\"color: #008080; text-decoration-color: #008080; font-weight: bold\">30.0</span>                             <a href=\"file:///ceph/ssd/students/sabanaya/ntk-robust/src/data.py\" target=\"_blank\"><span style=\"color: #7f7f7f; text-decoration-color: #7f7f7f\">data.py</span></a><span style=\"color: #7f7f7f; text-decoration-color: #7f7f7f\">:</span><a href=\"file:///ceph/ssd/students/sabanaya/ntk-robust/src/data.py#171\" target=\"_blank\"><span style=\"color: #7f7f7f; text-decoration-color: #7f7f7f\">171</span></a>\n",
       "</pre>\n"
      ],
      "text/plain": [
       "\u001b[2;36m          \u001b[0m\u001b[2;36m \u001b[0m\u001b[34mINFO    \u001b[0m \u001b[1;35mX_rowsum.max\u001b[0m\u001b[1m(\u001b[0m\u001b[1m)\u001b[0m: \u001b[1;36m30.0\u001b[0m                             \u001b]8;id=449051;file:///ceph/ssd/students/sabanaya/ntk-robust/src/data.py\u001b\\\u001b[2mdata.py\u001b[0m\u001b]8;;\u001b\\\u001b[2m:\u001b[0m\u001b]8;id=130009;file:///ceph/ssd/students/sabanaya/ntk-robust/src/data.py#171\u001b\\\u001b[2m171\u001b[0m\u001b]8;;\u001b\\\n"
      ]
     },
     "metadata": {},
     "output_type": "display_data"
    },
    {
     "data": {
      "text/html": [
       "<pre style=\"white-space:pre;overflow-x:auto;line-height:normal;font-family:Menlo,'DejaVu Sans Mono',consolas,'Courier New',monospace\"><span style=\"color: #7fbfbf; text-decoration-color: #7fbfbf\">           </span><span style=\"color: #000080; text-decoration-color: #000080\">INFO    </span> number of samples                                <a href=\"file:///ceph/ssd/students/sabanaya/ntk-robust/src/data.py\" target=\"_blank\"><span style=\"color: #7f7f7f; text-decoration-color: #7f7f7f\">data.py</span></a><span style=\"color: #7f7f7f; text-decoration-color: #7f7f7f\">:</span><a href=\"file:///ceph/ssd/students/sabanaya/ntk-robust/src/data.py#276\" target=\"_blank\"><span style=\"color: #7f7f7f; text-decoration-color: #7f7f7f\">276</span></a>\n",
       "<span style=\"color: #7fbfbf; text-decoration-color: #7fbfbf\">           </span>          - labeled: <span style=\"color: #008080; text-decoration-color: #008080; font-weight: bold\">140</span>                                  <span style=\"color: #7f7f7f; text-decoration-color: #7f7f7f\">           </span>\n",
       "<span style=\"color: #7fbfbf; text-decoration-color: #7fbfbf\">           </span>          - val: <span style=\"color: #008080; text-decoration-color: #008080; font-weight: bold\">140</span>                                      <span style=\"color: #7f7f7f; text-decoration-color: #7f7f7f\">           </span>\n",
       "<span style=\"color: #7fbfbf; text-decoration-color: #7fbfbf\">           </span>          - test: <span style=\"color: #008080; text-decoration-color: #008080; font-weight: bold\">273</span>                                     <span style=\"color: #7f7f7f; text-decoration-color: #7f7f7f\">           </span>\n",
       "<span style=\"color: #7fbfbf; text-decoration-color: #7fbfbf\">           </span>          - unlabeled: <span style=\"color: #008080; text-decoration-color: #008080; font-weight: bold\">2155</span>                               <span style=\"color: #7f7f7f; text-decoration-color: #7f7f7f\">           </span>\n",
       "</pre>\n"
      ],
      "text/plain": [
       "\u001b[2;36m          \u001b[0m\u001b[2;36m \u001b[0m\u001b[34mINFO    \u001b[0m number of samples                                \u001b]8;id=216624;file:///ceph/ssd/students/sabanaya/ntk-robust/src/data.py\u001b\\\u001b[2mdata.py\u001b[0m\u001b]8;;\u001b\\\u001b[2m:\u001b[0m\u001b]8;id=939408;file:///ceph/ssd/students/sabanaya/ntk-robust/src/data.py#276\u001b\\\u001b[2m276\u001b[0m\u001b]8;;\u001b\\\n",
       "\u001b[2;36m           \u001b[0m          - labeled: \u001b[1;36m140\u001b[0m                                  \u001b[2m           \u001b[0m\n",
       "\u001b[2;36m           \u001b[0m          - val: \u001b[1;36m140\u001b[0m                                      \u001b[2m           \u001b[0m\n",
       "\u001b[2;36m           \u001b[0m          - test: \u001b[1;36m273\u001b[0m                                     \u001b[2m           \u001b[0m\n",
       "\u001b[2;36m           \u001b[0m          - unlabeled: \u001b[1;36m2155\u001b[0m                               \u001b[2m           \u001b[0m\n"
      ]
     },
     "metadata": {},
     "output_type": "display_data"
    },
    {
     "name": "stdout",
     "output_type": "stream",
     "text": [
      "train val split  (140,) (140,)\n",
      "Sig.mean(): 1.0539928175329174\n",
      "Sig.min(): 0.0\n",
      "Sig.max(): 21.25\n",
      "Depth 0\n",
      "E_der.min(): 0.5\n",
      "E_der.max(): 1.0\n",
      "Sig.mean(): 2.460870555807253\n",
      "Sig.min(): 0.5152510174503102\n",
      "Sig.max(): 16.5\n",
      "#Number of Support Vectors\n",
      "140\n",
      "alpha_mean: 3.5915599916704076e-21\n",
      "train val split  (140,) (140,)\n",
      "Sig.mean(): 1.0539928175329174\n",
      "Sig.min(): 0.0\n",
      "Sig.max(): 21.25\n",
      "Depth 0\n",
      "E_der.min(): 0.5\n",
      "E_der.max(): 1.0\n",
      "Sig.mean(): 2.460870555807253\n",
      "Sig.min(): 0.5152510174503102\n",
      "Sig.max(): 16.5\n",
      "#Number of Support Vectors\n",
      "140\n",
      "alpha_mean: -5.395487752534715e-21\n",
      "Sig.mean(): 1.0539928175329174\n",
      "Sig.min(): 0.0\n",
      "Sig.max(): 21.25\n",
      "Depth 0\n",
      "E_der.min(): 0.5\n",
      "E_der.max(): 1.0\n",
      "Sig.mean(): 2.460870555807253\n",
      "Sig.min(): 0.5152510174503102\n",
      "Sig.max(): 16.5\n",
      "#Number of Support Vectors\n",
      "280\n",
      "alpha_mean: -5.635488848065992e-22\n",
      "#Number of Support Vectors\n",
      "280\n",
      "alpha_mean: -5.635488848065992e-22\n"
     ]
    },
    {
     "data": {
      "text/plain": [
       "{'trn_acc': 0.9392856955528259,\n",
       " 'val_acc_l': [0.8071428537368774, 0.7928571701049805],\n",
       " 'test_acc': 0.8084843158721924,\n",
       " 'trn_min_ypred': -1.0114598274230957,\n",
       " 'trn_max_ypred': -0.929431676864624,\n",
       " 'trn_min_ntkunlabeled': 1.0832510811918359,\n",
       " 'trn_max_ntkunlabeled': 30.0,\n",
       " 'val_cond': [472564.20472635695, 6238.153787344595],\n",
       " 'val_min_ypred': [-1.0049817562103271, -1.0053281784057617],\n",
       " 'val_max_ypred': [-0.9631263613700867, -0.9627688527107239],\n",
       " 'val_min_ntklabeled': [1.5065769311941974, 1.118531949676784],\n",
       " 'val_max_ntklabeled': [30.001, 29.501],\n",
       " 'val_min_ntkunlabeled': [0.7483791204196184, 0.7483791204196184],\n",
       " 'val_max_ntkunlabeled': [30.0, 30.0],\n",
       " 'test_min_ypred': -1.0156325101852417,\n",
       " 'test_max_ypred': -0.9354419708251953,\n",
       " 'test_min_ntklabeled': 1.0832510811918359,\n",
       " 'test_max_ntklabeled': 30.001,\n",
       " 'test_min_ntkunlabeled': 0.7483791204196184,\n",
       " 'test_max_ntkunlabeled': 30.0,\n",
       " 'test_cond': 918602.5298106946}"
      ]
     },
     "execution_count": 23,
     "metadata": {},
     "output_type": "execute_result"
    }
   ],
   "source": [
    "data_params[\"dataset\"] = \"cora\"\n",
    "run(data_params, model_params, verbosity_params, other_params, seed)\n"
   ]
  },
  {
   "cell_type": "code",
   "execution_count": null,
   "metadata": {},
   "outputs": [],
   "source": []
  }
 ],
 "metadata": {
  "interpreter": {
   "hash": "c4e45668083cbb37b7048c0587d1e2fbbeab0bbf8f83b3643c89a090a0af4084"
  },
  "kernelspec": {
   "display_name": "Python 3.9.7 ('py397': conda)",
   "language": "python",
   "name": "python3"
  },
  "language_info": {
   "codemirror_mode": {
    "name": "ipython",
    "version": 3
   },
   "file_extension": ".py",
   "mimetype": "text/x-python",
   "name": "python",
   "nbconvert_exporter": "python",
   "pygments_lexer": "ipython3",
   "version": "3.11.8"
  },
  "orig_nbformat": 4
 },
 "nbformat": 4,
 "nbformat_minor": 2
}
