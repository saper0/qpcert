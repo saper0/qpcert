{
 "cells": [
  {
   "cell_type": "code",
   "execution_count": 3,
   "metadata": {},
   "outputs": [
    {
     "name": "stdout",
     "output_type": "stream",
     "text": [
      "The autoreload extension is already loaded. To reload it, use:\n",
      "  %reload_ext autoreload\n"
     ]
    }
   ],
   "source": [
    "%load_ext autoreload\n",
    "%autoreload 2"
   ]
  },
  {
   "cell_type": "code",
   "execution_count": 4,
   "metadata": {},
   "outputs": [],
   "source": [
    "import torch\n",
    "import numpy as np\n",
    "from exp_ntk_certify_label import run"
   ]
  },
  {
   "cell_type": "code",
   "execution_count": 5,
   "metadata": {},
   "outputs": [],
   "source": [
    "seed = 4\n",
    "\n",
    "data_params = dict(\n",
    "    dataset = \"csbm\",\n",
    "    learning_setting = \"transductive\", # or \"transdructive\"\n",
    "    specification = dict(\n",
    "        classes = 2,\n",
    "        n_trn_labeled = 40, \n",
    "        n_trn_unlabeled = 0,\n",
    "        n_val = 40,\n",
    "        n_test = 120,\n",
    "        sigma = 1,\n",
    "        avg_within_class_degree = 1.58 * 2,\n",
    "        avg_between_class_degree = 0.37 * 2,\n",
    "        K = 1.5,\n",
    "        seed = 4 # used to generate the dataset & data split\n",
    "    )\n",
    ")\n",
    "\n",
    "model_params = dict(\n",
    "    label = \"APPNP\",\n",
    "    model = \"APPNP\",\n",
    "    normalization = \"sym_normalization\",\n",
    "    alpha = 0.25,\n",
    "    iteration = 10,\n",
    "    depth = 1,\n",
    "    #regularizer = 1e-8\n",
    "    regularizer = 1,\n",
    "    pred_method = \"svm\",\n",
    "    activation = \"relu\"\n",
    ")\n",
    "\n",
    "certificate_params = dict(\n",
    "    n_adversarial = 1, # number adversarial nodes\n",
    "    perturbation_model = \"linf\",\n",
    "    delta = 0.01 # l0: local budget = delta * feature_dim\n",
    ")\n",
    "\n",
    "verbosity_params = dict(\n",
    "    debug_lvl = \"warning\"\n",
    ")  \n",
    "\n",
    "other_params = dict(\n",
    "    device = \"cpu\",\n",
    "    dtype = torch.float64,\n",
    "    allow_tf32 = False\n",
    ")"
   ]
  },
  {
   "cell_type": "code",
   "execution_count": 6,
   "metadata": {},
   "outputs": [],
   "source": [
    "data_params = dict(\n",
    "    dataset = \"us_county\",    \n",
    "    learning_setting = \"transductive\", # or \"transdructive\"\n",
    "    cv_folds = 4,\n",
    "    specification = dict(\n",
    "        year=2012,    \n",
    "        n_per_class = 50,\n",
    "        fraction_test = 0.1,\n",
    "        data_dir = \"./data\",\n",
    "        make_undirected = True,\n",
    "        binary_attr = False,\n",
    "        balance_test = True,\n",
    "    )\n",
    ")\n",
    "model_params = dict(\n",
    "    label = \"GCN\",\n",
    "    model = \"GCN\",\n",
    "    normalization = \"row_normalization\",\n",
    "    depth = 1,\n",
    "    #regularizer = 1e-8\n",
    "    regularizer = 1,\n",
    "    pred_method = \"svm\",\n",
    "    activation = \"relu\",\n",
    "    solver = \"qplayer\",\n",
    "    alpha_tol = 1e-4,\n",
    "    bias = False,\n",
    ")"
   ]
  },
  {
   "cell_type": "code",
   "execution_count": 21,
   "metadata": {},
   "outputs": [
    {
     "name": "stdout",
     "output_type": "stream",
     "text": [
      "[[-2.  2.]\n",
      " [-2.  2.]]\n",
      "[[-2. -2.]\n",
      " [ 2.  2.]]\n",
      "[[0.]\n",
      " [0.]]\n"
     ]
    }
   ],
   "source": [
    "A = np.ones((2,2))\n",
    "z = np.array([[-2, 2]])\n",
    "z_ = np.array([-2, 2]).reshape((2,1))\n",
    "print(A*z)\n",
    "print(A*z_)\n",
    "print(A@z_)"
   ]
  },
  {
   "cell_type": "code",
   "execution_count": 25,
   "metadata": {},
   "outputs": [
    {
     "name": "stderr",
     "output_type": "stream",
     "text": [
      "2024-05-11 11:45:36 (INFO): Starting experiment exp_ntk_certify_label with configuration:\n",
      "2024-05-11 11:45:36 (INFO): data_params: {'dataset': 'csbm', 'learning_setting': 'transductive', 'specification': {'classes': 2, 'n_trn_labeled': 40, 'n_trn_unlabeled': 0, 'n_val': 40, 'n_test': 120, 'sigma': 1, 'avg_within_class_degree': 3.16, 'avg_between_class_degree': 0.74, 'K': 1.5, 'seed': 4}}\n",
      "2024-05-11 11:45:36 (INFO): model_params: {'label': 'APPNP', 'model': 'APPNP', 'normalization': 'sym_normalization', 'alpha': 0.25, 'iteration': 10, 'depth': 1, 'regularizer': 0.1, 'pred_method': 'svm', 'activation': 'relu', 'solver': 'qplayer', 'alpha_tol': 0.0001, 'bias': False}\n",
      "2024-05-11 11:45:36 (INFO): certification_params: {'n_adversarial': 10, 'perturbation_model': 'linf', 'delta': 0.1, 'delta_absolute': True, 'method': 'XXT', 'attack_nodes': 'test'}\n",
      "2024-05-11 11:45:36 (INFO): verbosity_params: {'debug_lvl': 'info'}\n",
      "2024-05-11 11:45:36 (INFO): other_params: {'device': 'cpu', 'dtype': torch.float64, 'allow_tf32': False, 'debug': False, 'path_gurobi_license': '/ceph/ssd/staff/gosl/app/gurobi.lic'}\n",
      "2024-05-11 11:45:36 (INFO): seed: 4\n",
      "2024-05-11 11:45:36 (INFO): CSBM(p=0.03176, q=0.00744)\n",
      "2024-05-11 11:45:36 (INFO): Delta: 0.1\n",
      "2024-05-11 11:45:36 (INFO): Test accuracy: 0.7833333611488342\n",
      "2024-05-11 11:45:36 (INFO): Train accuracy: 0.9125000238418579\n",
      "2024-05-11 11:45:36 (INFO): Accuracy_lb_test: 0.7166666388511658\n",
      "2024-05-11 11:45:36 (INFO): Accuracy_ub_test: 0.824999988079071\n",
      "2024-05-11 11:45:36 (INFO): Accuracy_lb_trn: 0.887499988079071\n",
      "2024-05-11 11:45:36 (INFO): Accuracy_ub_trn: 0.862500011920929\n",
      "2024-05-11 11:45:36 (INFO): Certified accuracy (evasion): 0.7416666746139526\n",
      "2024-05-11 11:45:36 (INFO): Certified accuracy (evasion, trivial): 0.45\n",
      "2024-05-11 11:45:36 (INFO): Certified unrobustness (evasion): 0.0\n"
     ]
    },
    {
     "name": "stdout",
     "output_type": "stream",
     "text": [
      "CSBM mu:\n",
      "[0.28347334 0.28347334 0.28347334 0.28347334 0.28347334 0.28347334\n",
      " 0.28347334]\n",
      "57 alphas found: ['0.0000', '0.0000', '0.1000', '0.1000', '0.1000', '0.1000', '-0.0000', '0.0691', '0.1000', '0.1000', '0.0000', '0.1000', '0.1000', '0.0035', '0.1000', '0.1000', '0.0000', '0.0000', '0.1000', '0.0000', '0.1000', '0.1000', '-0.0000', '0.1000', '0.1000', '0.0161', '0.0671', '-0.0000', '0.1000', '0.1000', '0.1000', '0.1000', '0.1000', '0.1000', '-0.0000', '0.1000', '0.1000', '0.1000', '0.0020', '-0.0000', '0.1000', '0.0111', '0.0000', '0.1000', '0.1000', '0.0005', '0.0000', '0.1000', '0.1000', '0.1000', '0.1000', '0.0000', '0.1000', '0.1000', '0.1000', '0.0133', '0.1000', '-0.0000', '0.0497', '0.1000', '0.1000', '-0.0000', '0.1000', '-0.0000', '-0.0000', '0.1000', '0.0977', '0.1000', '0.1000', '0.0004', '0.1000', '0.0364', '0.0135', '0.1000', '-0.0000', '-0.0000', '-0.0000', '-0.0000', '-0.0000', '0.1000']\n",
      "Set parameter BestObjStop to value 0\n"
     ]
    },
    {
     "name": "stderr",
     "output_type": "stream",
     "text": [
      "/ceph/ssd/staff/gosl/src/ntk-robust/src/utils.py:983: RuntimeWarning: Chained matrix multiplications of MVars is inefficient, collect numeric terms first when building expressions\n",
      "  m.addConstr(u <= M*s, \"u_mil1\")\n",
      "2024-05-11 11:45:38 (INFO): Set parameter BestObjStop to value 0\n"
     ]
    },
    {
     "name": "stdout",
     "output_type": "stream",
     "text": [
      "Set parameter IntegralityFocus to value 1\n"
     ]
    },
    {
     "name": "stderr",
     "output_type": "stream",
     "text": [
      "2024-05-11 11:45:38 (INFO): Set parameter IntegralityFocus to value 1\n"
     ]
    },
    {
     "name": "stdout",
     "output_type": "stream",
     "text": [
      "Set parameter IntFeasTol to value 0.0001\n"
     ]
    },
    {
     "name": "stderr",
     "output_type": "stream",
     "text": [
      "2024-05-11 11:45:38 (INFO): Set parameter IntFeasTol to value 0.0001\n"
     ]
    },
    {
     "name": "stdout",
     "output_type": "stream",
     "text": [
      "Set parameter DualReductions to value 0\n"
     ]
    },
    {
     "name": "stderr",
     "output_type": "stream",
     "text": [
      "2024-05-11 11:45:38 (INFO): Set parameter DualReductions to value 0\n"
     ]
    },
    {
     "name": "stdout",
     "output_type": "stream",
     "text": [
      "Set parameter FeasibilityTol to value 0.0001\n"
     ]
    },
    {
     "name": "stderr",
     "output_type": "stream",
     "text": [
      "2024-05-11 11:45:38 (INFO): Set parameter FeasibilityTol to value 0.0001\n"
     ]
    },
    {
     "name": "stdout",
     "output_type": "stream",
     "text": [
      "Set parameter OptimalityTol to value 0.0001\n"
     ]
    },
    {
     "name": "stderr",
     "output_type": "stream",
     "text": [
      "2024-05-11 11:45:38 (INFO): Set parameter OptimalityTol to value 0.0001\n"
     ]
    },
    {
     "name": "stdout",
     "output_type": "stream",
     "text": [
      "Set parameter NumericFocus to value 3\n"
     ]
    },
    {
     "name": "stderr",
     "output_type": "stream",
     "text": [
      "2024-05-11 11:45:38 (INFO): Set parameter NumericFocus to value 3\n"
     ]
    },
    {
     "name": "stdout",
     "output_type": "stream",
     "text": [
      "Gurobi Optimizer version 11.0.1 build v11.0.1rc0 (linux64 - \"Ubuntu 22.04.4 LTS\")\n"
     ]
    },
    {
     "name": "stderr",
     "output_type": "stream",
     "text": [
      "2024-05-11 11:45:38 (INFO): Gurobi Optimizer version 11.0.1 build v11.0.1rc0 (linux64 - \"Ubuntu 22.04.4 LTS\")\n"
     ]
    },
    {
     "name": "stdout",
     "output_type": "stream",
     "text": [
      "\n"
     ]
    },
    {
     "name": "stderr",
     "output_type": "stream",
     "text": [
      "2024-05-11 11:45:38 (INFO): \n"
     ]
    },
    {
     "name": "stdout",
     "output_type": "stream",
     "text": [
      "CPU model: Intel(R) Xeon(R) CPU E5-2630 v4 @ 2.20GHz, instruction set [SSE2|AVX|AVX2]\n"
     ]
    },
    {
     "name": "stderr",
     "output_type": "stream",
     "text": [
      "2024-05-11 11:45:38 (INFO): CPU model: Intel(R) Xeon(R) CPU E5-2630 v4 @ 2.20GHz, instruction set [SSE2|AVX|AVX2]\n"
     ]
    },
    {
     "name": "stdout",
     "output_type": "stream",
     "text": [
      "Thread count: 20 physical cores, 20 logical processors, using up to 20 threads\n"
     ]
    },
    {
     "name": "stderr",
     "output_type": "stream",
     "text": [
      "2024-05-11 11:45:38 (INFO): Thread count: 20 physical cores, 20 logical processors, using up to 20 threads\n"
     ]
    },
    {
     "name": "stdout",
     "output_type": "stream",
     "text": [
      "\n"
     ]
    },
    {
     "name": "stderr",
     "output_type": "stream",
     "text": [
      "2024-05-11 11:45:38 (INFO): \n"
     ]
    },
    {
     "name": "stdout",
     "output_type": "stream",
     "text": [
      "Optimize a model with 58560 rows, 19920 columns and 155680 nonzeros\n"
     ]
    },
    {
     "name": "stderr",
     "output_type": "stream",
     "text": [
      "2024-05-11 11:45:38 (INFO): Optimize a model with 58560 rows, 19920 columns and 155680 nonzeros\n"
     ]
    },
    {
     "name": "stdout",
     "output_type": "stream",
     "text": [
      "Model fingerprint: 0x65c9bb98\n"
     ]
    },
    {
     "name": "stderr",
     "output_type": "stream",
     "text": [
      "2024-05-11 11:45:38 (INFO): Model fingerprint: 0x65c9bb98\n"
     ]
    },
    {
     "name": "stdout",
     "output_type": "stream",
     "text": [
      "Variable types: 6720 continuous, 13200 integer (13120 binary)\n"
     ]
    },
    {
     "name": "stderr",
     "output_type": "stream",
     "text": [
      "2024-05-11 11:45:38 (INFO): Variable types: 6720 continuous, 13200 integer (13120 binary)\n"
     ]
    },
    {
     "name": "stdout",
     "output_type": "stream",
     "text": [
      "Coefficient statistics:\n"
     ]
    },
    {
     "name": "stderr",
     "output_type": "stream",
     "text": [
      "2024-05-11 11:45:38 (INFO): Coefficient statistics:\n"
     ]
    },
    {
     "name": "stdout",
     "output_type": "stream",
     "text": [
      "  Matrix range     [1e-01, 1e+03]\n"
     ]
    },
    {
     "name": "stderr",
     "output_type": "stream",
     "text": [
      "2024-05-11 11:45:38 (INFO):   Matrix range     [1e-01, 1e+03]\n"
     ]
    },
    {
     "name": "stdout",
     "output_type": "stream",
     "text": [
      "  Objective range  [4e+00, 1e+01]\n"
     ]
    },
    {
     "name": "stderr",
     "output_type": "stream",
     "text": [
      "2024-05-11 11:45:38 (INFO):   Objective range  [4e+00, 1e+01]\n"
     ]
    },
    {
     "name": "stdout",
     "output_type": "stream",
     "text": [
      "  Bounds range     [1e-01, 1e+00]\n"
     ]
    },
    {
     "name": "stderr",
     "output_type": "stream",
     "text": [
      "2024-05-11 11:45:38 (INFO):   Bounds range     [1e-01, 1e+00]\n"
     ]
    },
    {
     "name": "stdout",
     "output_type": "stream",
     "text": [
      "  RHS range        [1e-01, 1e+00]\n"
     ]
    },
    {
     "name": "stderr",
     "output_type": "stream",
     "text": [
      "2024-05-11 11:45:38 (INFO):   RHS range        [1e-01, 1e+00]\n"
     ]
    },
    {
     "name": "stdout",
     "output_type": "stream",
     "text": [
      "\n"
     ]
    },
    {
     "name": "stderr",
     "output_type": "stream",
     "text": [
      "2024-05-11 11:45:38 (INFO): \n"
     ]
    },
    {
     "name": "stdout",
     "output_type": "stream",
     "text": [
      "Warning: Completing partial solution with 12880 unfixed non-continuous variables out of 13200\n"
     ]
    },
    {
     "name": "stderr",
     "output_type": "stream",
     "text": [
      "2024-05-11 11:45:38 (INFO): Warning: Completing partial solution with 12880 unfixed non-continuous variables out of 13200\n"
     ]
    },
    {
     "name": "stdout",
     "output_type": "stream",
     "text": [
      "User MIP start did not produce a new incumbent solution\n",
      "\n",
      "User MIP start did not produce a new incumbent solution\n"
     ]
    },
    {
     "name": "stderr",
     "output_type": "stream",
     "text": [
      "2024-05-11 11:45:38 (INFO): User MIP start did not produce a new incumbent solution\n"
     ]
    },
    {
     "name": "stdout",
     "output_type": "stream",
     "text": [
      "User MIP start violates constraint R13200 by 0.200000000\n",
      "\n",
      "User MIP start violates constraint R13200 by 0.200000000\n"
     ]
    },
    {
     "name": "stderr",
     "output_type": "stream",
     "text": [
      "2024-05-11 11:45:38 (INFO): User MIP start violates constraint R13200 by 0.200000000\n"
     ]
    },
    {
     "name": "stdout",
     "output_type": "stream",
     "text": [
      "\n"
     ]
    },
    {
     "name": "stderr",
     "output_type": "stream",
     "text": [
      "2024-05-11 11:45:38 (INFO): \n"
     ]
    },
    {
     "name": "stdout",
     "output_type": "stream",
     "text": [
      "Presolve removed 58560 rows and 19920 columns\n"
     ]
    },
    {
     "name": "stderr",
     "output_type": "stream",
     "text": [
      "2024-05-11 11:45:38 (INFO): Presolve removed 58560 rows and 19920 columns\n"
     ]
    },
    {
     "name": "stdout",
     "output_type": "stream",
     "text": [
      "Presolve time: 0.43s\n"
     ]
    },
    {
     "name": "stderr",
     "output_type": "stream",
     "text": [
      "2024-05-11 11:45:38 (INFO): Presolve time: 0.43s\n"
     ]
    },
    {
     "name": "stdout",
     "output_type": "stream",
     "text": [
      "Presolve: All rows and columns removed\n"
     ]
    },
    {
     "name": "stderr",
     "output_type": "stream",
     "text": [
      "2024-05-11 11:45:38 (INFO): Presolve: All rows and columns removed\n"
     ]
    },
    {
     "name": "stdout",
     "output_type": "stream",
     "text": [
      "\n"
     ]
    },
    {
     "name": "stderr",
     "output_type": "stream",
     "text": [
      "2024-05-11 11:45:38 (INFO): \n"
     ]
    },
    {
     "name": "stdout",
     "output_type": "stream",
     "text": [
      "Explored 0 nodes (0 simplex iterations) in 0.52 seconds (0.56 work units)\n"
     ]
    },
    {
     "name": "stderr",
     "output_type": "stream",
     "text": [
      "2024-05-11 11:45:38 (INFO): Explored 0 nodes (0 simplex iterations) in 0.52 seconds (0.56 work units)\n"
     ]
    },
    {
     "name": "stdout",
     "output_type": "stream",
     "text": [
      "Thread count was 1 (of 20 available processors)\n"
     ]
    },
    {
     "name": "stderr",
     "output_type": "stream",
     "text": [
      "2024-05-11 11:45:38 (INFO): Thread count was 1 (of 20 available processors)\n"
     ]
    },
    {
     "name": "stdout",
     "output_type": "stream",
     "text": [
      "\n"
     ]
    },
    {
     "name": "stderr",
     "output_type": "stream",
     "text": [
      "2024-05-11 11:45:38 (INFO): \n"
     ]
    },
    {
     "name": "stdout",
     "output_type": "stream",
     "text": [
      "Solution count 1: 43.7211 \n"
     ]
    },
    {
     "name": "stderr",
     "output_type": "stream",
     "text": [
      "2024-05-11 11:45:38 (INFO): Solution count 1: 43.7211 \n"
     ]
    },
    {
     "name": "stdout",
     "output_type": "stream",
     "text": [
      "\n"
     ]
    },
    {
     "name": "stderr",
     "output_type": "stream",
     "text": [
      "2024-05-11 11:45:38 (INFO): \n"
     ]
    },
    {
     "name": "stdout",
     "output_type": "stream",
     "text": [
      "Optimal solution found (tolerance 1.00e-04)\n"
     ]
    },
    {
     "name": "stderr",
     "output_type": "stream",
     "text": [
      "2024-05-11 11:45:38 (INFO): Optimal solution found (tolerance 1.00e-04)\n"
     ]
    },
    {
     "name": "stdout",
     "output_type": "stream",
     "text": [
      "Best objective 4.372114194121e+01, best bound 4.372114194121e+01, gap 0.0000%\n"
     ]
    },
    {
     "name": "stderr",
     "output_type": "stream",
     "text": [
      "2024-05-11 11:45:38 (INFO): Best objective 4.372114194121e+01, best bound 4.372114194121e+01, gap 0.0000%\n"
     ]
    },
    {
     "name": "stdout",
     "output_type": "stream",
     "text": [
      "\n"
     ]
    },
    {
     "name": "stderr",
     "output_type": "stream",
     "text": [
      "2024-05-11 11:45:38 (INFO): \n"
     ]
    },
    {
     "name": "stdout",
     "output_type": "stream",
     "text": [
      "User-callback calls 277, time in user-callback 0.00 sec\n"
     ]
    },
    {
     "name": "stderr",
     "output_type": "stream",
     "text": [
      "2024-05-11 11:45:38 (INFO): User-callback calls 277, time in user-callback 0.00 sec\n",
      "2024-05-11 11:45:38 (INFO): Optimization status: 2\n",
      "2024-05-11 11:45:38 (INFO): Original -0.79318, Opt objective 43.72114\n",
      "2024-05-11 11:45:38 (INFO): Robust count 0 out of 1\n"
     ]
    },
    {
     "name": "stdout",
     "output_type": "stream",
     "text": [
      "Set parameter BestObjStop to value 0\n"
     ]
    },
    {
     "name": "stderr",
     "output_type": "stream",
     "text": [
      "2024-05-11 11:45:40 (INFO): Set parameter BestObjStop to value 0\n"
     ]
    },
    {
     "name": "stdout",
     "output_type": "stream",
     "text": [
      "Set parameter IntegralityFocus to value 1\n"
     ]
    },
    {
     "name": "stderr",
     "output_type": "stream",
     "text": [
      "2024-05-11 11:45:40 (INFO): Set parameter IntegralityFocus to value 1\n"
     ]
    },
    {
     "name": "stdout",
     "output_type": "stream",
     "text": [
      "Set parameter IntFeasTol to value 0.0001\n"
     ]
    },
    {
     "name": "stderr",
     "output_type": "stream",
     "text": [
      "2024-05-11 11:45:40 (INFO): Set parameter IntFeasTol to value 0.0001\n"
     ]
    },
    {
     "name": "stdout",
     "output_type": "stream",
     "text": [
      "Set parameter DualReductions to value 0\n"
     ]
    },
    {
     "name": "stderr",
     "output_type": "stream",
     "text": [
      "2024-05-11 11:45:40 (INFO): Set parameter DualReductions to value 0\n"
     ]
    },
    {
     "name": "stdout",
     "output_type": "stream",
     "text": [
      "Set parameter FeasibilityTol to value 0.0001\n"
     ]
    },
    {
     "name": "stderr",
     "output_type": "stream",
     "text": [
      "2024-05-11 11:45:40 (INFO): Set parameter FeasibilityTol to value 0.0001\n"
     ]
    },
    {
     "name": "stdout",
     "output_type": "stream",
     "text": [
      "Set parameter OptimalityTol to value 0.0001\n"
     ]
    },
    {
     "name": "stderr",
     "output_type": "stream",
     "text": [
      "2024-05-11 11:45:40 (INFO): Set parameter OptimalityTol to value 0.0001\n"
     ]
    },
    {
     "name": "stdout",
     "output_type": "stream",
     "text": [
      "Set parameter NumericFocus to value 3\n"
     ]
    },
    {
     "name": "stderr",
     "output_type": "stream",
     "text": [
      "2024-05-11 11:45:40 (INFO): Set parameter NumericFocus to value 3\n"
     ]
    },
    {
     "name": "stdout",
     "output_type": "stream",
     "text": [
      "Gurobi Optimizer version 11.0.1 build v11.0.1rc0 (linux64 - \"Ubuntu 22.04.4 LTS\")\n"
     ]
    },
    {
     "name": "stderr",
     "output_type": "stream",
     "text": [
      "2024-05-11 11:45:40 (INFO): Gurobi Optimizer version 11.0.1 build v11.0.1rc0 (linux64 - \"Ubuntu 22.04.4 LTS\")\n"
     ]
    },
    {
     "name": "stdout",
     "output_type": "stream",
     "text": [
      "\n"
     ]
    },
    {
     "name": "stderr",
     "output_type": "stream",
     "text": [
      "2024-05-11 11:45:40 (INFO): \n"
     ]
    },
    {
     "name": "stdout",
     "output_type": "stream",
     "text": [
      "CPU model: Intel(R) Xeon(R) CPU E5-2630 v4 @ 2.20GHz, instruction set [SSE2|AVX|AVX2]\n"
     ]
    },
    {
     "name": "stderr",
     "output_type": "stream",
     "text": [
      "2024-05-11 11:45:40 (INFO): CPU model: Intel(R) Xeon(R) CPU E5-2630 v4 @ 2.20GHz, instruction set [SSE2|AVX|AVX2]\n"
     ]
    },
    {
     "name": "stdout",
     "output_type": "stream",
     "text": [
      "Thread count: 20 physical cores, 20 logical processors, using up to 20 threads\n"
     ]
    },
    {
     "name": "stderr",
     "output_type": "stream",
     "text": [
      "2024-05-11 11:45:40 (INFO): Thread count: 20 physical cores, 20 logical processors, using up to 20 threads\n"
     ]
    },
    {
     "name": "stdout",
     "output_type": "stream",
     "text": [
      "\n"
     ]
    },
    {
     "name": "stderr",
     "output_type": "stream",
     "text": [
      "2024-05-11 11:45:40 (INFO): \n"
     ]
    },
    {
     "name": "stdout",
     "output_type": "stream",
     "text": [
      "Optimize a model with 58560 rows, 19920 columns and 155680 nonzeros\n"
     ]
    },
    {
     "name": "stderr",
     "output_type": "stream",
     "text": [
      "2024-05-11 11:45:40 (INFO): Optimize a model with 58560 rows, 19920 columns and 155680 nonzeros\n"
     ]
    },
    {
     "name": "stdout",
     "output_type": "stream",
     "text": [
      "Model fingerprint: 0x04d8e9cc\n"
     ]
    },
    {
     "name": "stderr",
     "output_type": "stream",
     "text": [
      "2024-05-11 11:45:40 (INFO): Model fingerprint: 0x04d8e9cc\n"
     ]
    },
    {
     "name": "stdout",
     "output_type": "stream",
     "text": [
      "Variable types: 6720 continuous, 13200 integer (13120 binary)\n"
     ]
    },
    {
     "name": "stderr",
     "output_type": "stream",
     "text": [
      "2024-05-11 11:45:40 (INFO): Variable types: 6720 continuous, 13200 integer (13120 binary)\n"
     ]
    },
    {
     "name": "stdout",
     "output_type": "stream",
     "text": [
      "Coefficient statistics:\n"
     ]
    },
    {
     "name": "stderr",
     "output_type": "stream",
     "text": [
      "2024-05-11 11:45:40 (INFO): Coefficient statistics:\n"
     ]
    },
    {
     "name": "stdout",
     "output_type": "stream",
     "text": [
      "  Matrix range     [1e-01, 1e+03]\n"
     ]
    },
    {
     "name": "stderr",
     "output_type": "stream",
     "text": [
      "2024-05-11 11:45:40 (INFO):   Matrix range     [1e-01, 1e+03]\n"
     ]
    },
    {
     "name": "stdout",
     "output_type": "stream",
     "text": [
      "  Objective range  [3e+00, 8e+00]\n"
     ]
    },
    {
     "name": "stderr",
     "output_type": "stream",
     "text": [
      "2024-05-11 11:45:40 (INFO):   Objective range  [3e+00, 8e+00]\n"
     ]
    },
    {
     "name": "stdout",
     "output_type": "stream",
     "text": [
      "  Bounds range     [1e-01, 1e+00]\n"
     ]
    },
    {
     "name": "stderr",
     "output_type": "stream",
     "text": [
      "2024-05-11 11:45:40 (INFO):   Bounds range     [1e-01, 1e+00]\n"
     ]
    },
    {
     "name": "stdout",
     "output_type": "stream",
     "text": [
      "  RHS range        [1e-01, 1e+00]\n"
     ]
    },
    {
     "name": "stderr",
     "output_type": "stream",
     "text": [
      "2024-05-11 11:45:40 (INFO):   RHS range        [1e-01, 1e+00]\n"
     ]
    },
    {
     "name": "stdout",
     "output_type": "stream",
     "text": [
      "\n"
     ]
    },
    {
     "name": "stderr",
     "output_type": "stream",
     "text": [
      "2024-05-11 11:45:40 (INFO): \n"
     ]
    },
    {
     "name": "stdout",
     "output_type": "stream",
     "text": [
      "Warning: Completing partial solution with 12880 unfixed non-continuous variables out of 13200\n"
     ]
    },
    {
     "name": "stderr",
     "output_type": "stream",
     "text": [
      "2024-05-11 11:45:40 (INFO): Warning: Completing partial solution with 12880 unfixed non-continuous variables out of 13200\n"
     ]
    },
    {
     "name": "stdout",
     "output_type": "stream",
     "text": [
      "User MIP start did not produce a new incumbent solution\n",
      "\n",
      "User MIP start did not produce a new incumbent solution\n"
     ]
    },
    {
     "name": "stderr",
     "output_type": "stream",
     "text": [
      "2024-05-11 11:45:40 (INFO): User MIP start did not produce a new incumbent solution\n"
     ]
    },
    {
     "name": "stdout",
     "output_type": "stream",
     "text": [
      "User MIP start violates constraint R13200 by 0.200000000\n",
      "\n",
      "User MIP start violates constraint R13200 by 0.200000000\n"
     ]
    },
    {
     "name": "stderr",
     "output_type": "stream",
     "text": [
      "2024-05-11 11:45:40 (INFO): User MIP start violates constraint R13200 by 0.200000000\n"
     ]
    },
    {
     "name": "stdout",
     "output_type": "stream",
     "text": [
      "\n"
     ]
    },
    {
     "name": "stderr",
     "output_type": "stream",
     "text": [
      "2024-05-11 11:45:40 (INFO): \n"
     ]
    },
    {
     "name": "stdout",
     "output_type": "stream",
     "text": [
      "Presolve removed 58560 rows and 19920 columns\n"
     ]
    },
    {
     "name": "stderr",
     "output_type": "stream",
     "text": [
      "2024-05-11 11:45:41 (INFO): Presolve removed 58560 rows and 19920 columns\n"
     ]
    },
    {
     "name": "stdout",
     "output_type": "stream",
     "text": [
      "Presolve time: 0.39s\n"
     ]
    },
    {
     "name": "stderr",
     "output_type": "stream",
     "text": [
      "2024-05-11 11:45:41 (INFO): Presolve time: 0.39s\n"
     ]
    },
    {
     "name": "stdout",
     "output_type": "stream",
     "text": [
      "Presolve: All rows and columns removed\n"
     ]
    },
    {
     "name": "stderr",
     "output_type": "stream",
     "text": [
      "2024-05-11 11:45:41 (INFO): Presolve: All rows and columns removed\n"
     ]
    },
    {
     "name": "stdout",
     "output_type": "stream",
     "text": [
      "\n"
     ]
    },
    {
     "name": "stderr",
     "output_type": "stream",
     "text": [
      "2024-05-11 11:45:41 (INFO): \n"
     ]
    },
    {
     "name": "stdout",
     "output_type": "stream",
     "text": [
      "Explored 0 nodes (0 simplex iterations) in 0.47 seconds (0.56 work units)\n"
     ]
    },
    {
     "name": "stderr",
     "output_type": "stream",
     "text": [
      "2024-05-11 11:45:41 (INFO): Explored 0 nodes (0 simplex iterations) in 0.47 seconds (0.56 work units)\n"
     ]
    },
    {
     "name": "stdout",
     "output_type": "stream",
     "text": [
      "Thread count was 1 (of 20 available processors)\n"
     ]
    },
    {
     "name": "stderr",
     "output_type": "stream",
     "text": [
      "2024-05-11 11:45:41 (INFO): Thread count was 1 (of 20 available processors)\n"
     ]
    },
    {
     "name": "stdout",
     "output_type": "stream",
     "text": [
      "\n"
     ]
    },
    {
     "name": "stderr",
     "output_type": "stream",
     "text": [
      "2024-05-11 11:45:41 (INFO): \n"
     ]
    },
    {
     "name": "stdout",
     "output_type": "stream",
     "text": [
      "Solution count 1: 43.515 \n"
     ]
    },
    {
     "name": "stderr",
     "output_type": "stream",
     "text": [
      "2024-05-11 11:45:41 (INFO): Solution count 1: 43.515 \n"
     ]
    },
    {
     "name": "stdout",
     "output_type": "stream",
     "text": [
      "\n"
     ]
    },
    {
     "name": "stderr",
     "output_type": "stream",
     "text": [
      "2024-05-11 11:45:41 (INFO): \n"
     ]
    },
    {
     "name": "stdout",
     "output_type": "stream",
     "text": [
      "Optimal solution found (tolerance 1.00e-04)\n"
     ]
    },
    {
     "name": "stderr",
     "output_type": "stream",
     "text": [
      "2024-05-11 11:45:41 (INFO): Optimal solution found (tolerance 1.00e-04)\n"
     ]
    },
    {
     "name": "stdout",
     "output_type": "stream",
     "text": [
      "Best objective 4.351504740749e+01, best bound 4.351504740749e+01, gap 0.0000%\n"
     ]
    },
    {
     "name": "stderr",
     "output_type": "stream",
     "text": [
      "2024-05-11 11:45:41 (INFO): Best objective 4.351504740749e+01, best bound 4.351504740749e+01, gap 0.0000%\n"
     ]
    },
    {
     "name": "stdout",
     "output_type": "stream",
     "text": [
      "\n"
     ]
    },
    {
     "name": "stderr",
     "output_type": "stream",
     "text": [
      "2024-05-11 11:45:41 (INFO): \n"
     ]
    },
    {
     "name": "stdout",
     "output_type": "stream",
     "text": [
      "User-callback calls 271, time in user-callback 0.00 sec\n"
     ]
    },
    {
     "name": "stderr",
     "output_type": "stream",
     "text": [
      "2024-05-11 11:45:41 (INFO): User-callback calls 271, time in user-callback 0.00 sec\n",
      "2024-05-11 11:45:41 (INFO): Optimization status: 2\n",
      "2024-05-11 11:45:41 (INFO): Original -1.36291, Opt objective 43.51505\n",
      "2024-05-11 11:45:41 (INFO): Robust count 0 out of 2\n"
     ]
    },
    {
     "name": "stdout",
     "output_type": "stream",
     "text": [
      "Set parameter BestObjStop to value 0\n"
     ]
    },
    {
     "name": "stderr",
     "output_type": "stream",
     "text": [
      "2024-05-11 11:45:43 (INFO): Set parameter BestObjStop to value 0\n"
     ]
    },
    {
     "name": "stdout",
     "output_type": "stream",
     "text": [
      "Set parameter IntegralityFocus to value 1\n"
     ]
    },
    {
     "name": "stderr",
     "output_type": "stream",
     "text": [
      "2024-05-11 11:45:43 (INFO): Set parameter IntegralityFocus to value 1\n"
     ]
    },
    {
     "name": "stdout",
     "output_type": "stream",
     "text": [
      "Set parameter IntFeasTol to value 0.0001\n"
     ]
    },
    {
     "name": "stderr",
     "output_type": "stream",
     "text": [
      "2024-05-11 11:45:43 (INFO): Set parameter IntFeasTol to value 0.0001\n"
     ]
    },
    {
     "name": "stdout",
     "output_type": "stream",
     "text": [
      "Set parameter DualReductions to value 0\n"
     ]
    },
    {
     "name": "stderr",
     "output_type": "stream",
     "text": [
      "2024-05-11 11:45:43 (INFO): Set parameter DualReductions to value 0\n"
     ]
    },
    {
     "name": "stdout",
     "output_type": "stream",
     "text": [
      "Set parameter FeasibilityTol to value 0.0001\n"
     ]
    },
    {
     "name": "stderr",
     "output_type": "stream",
     "text": [
      "2024-05-11 11:45:43 (INFO): Set parameter FeasibilityTol to value 0.0001\n"
     ]
    },
    {
     "name": "stdout",
     "output_type": "stream",
     "text": [
      "Set parameter OptimalityTol to value 0.0001\n"
     ]
    },
    {
     "name": "stderr",
     "output_type": "stream",
     "text": [
      "2024-05-11 11:45:43 (INFO): Set parameter OptimalityTol to value 0.0001\n"
     ]
    },
    {
     "name": "stdout",
     "output_type": "stream",
     "text": [
      "Set parameter NumericFocus to value 3\n"
     ]
    },
    {
     "name": "stderr",
     "output_type": "stream",
     "text": [
      "2024-05-11 11:45:43 (INFO): Set parameter NumericFocus to value 3\n"
     ]
    },
    {
     "name": "stdout",
     "output_type": "stream",
     "text": [
      "Gurobi Optimizer version 11.0.1 build v11.0.1rc0 (linux64 - \"Ubuntu 22.04.4 LTS\")\n"
     ]
    },
    {
     "name": "stderr",
     "output_type": "stream",
     "text": [
      "2024-05-11 11:45:43 (INFO): Gurobi Optimizer version 11.0.1 build v11.0.1rc0 (linux64 - \"Ubuntu 22.04.4 LTS\")\n"
     ]
    },
    {
     "name": "stdout",
     "output_type": "stream",
     "text": [
      "\n"
     ]
    },
    {
     "name": "stderr",
     "output_type": "stream",
     "text": [
      "2024-05-11 11:45:43 (INFO): \n"
     ]
    },
    {
     "name": "stdout",
     "output_type": "stream",
     "text": [
      "CPU model: Intel(R) Xeon(R) CPU E5-2630 v4 @ 2.20GHz, instruction set [SSE2|AVX|AVX2]\n"
     ]
    },
    {
     "name": "stderr",
     "output_type": "stream",
     "text": [
      "2024-05-11 11:45:43 (INFO): CPU model: Intel(R) Xeon(R) CPU E5-2630 v4 @ 2.20GHz, instruction set [SSE2|AVX|AVX2]\n"
     ]
    },
    {
     "name": "stdout",
     "output_type": "stream",
     "text": [
      "Thread count: 20 physical cores, 20 logical processors, using up to 20 threads\n"
     ]
    },
    {
     "name": "stderr",
     "output_type": "stream",
     "text": [
      "2024-05-11 11:45:43 (INFO): Thread count: 20 physical cores, 20 logical processors, using up to 20 threads\n"
     ]
    },
    {
     "name": "stdout",
     "output_type": "stream",
     "text": [
      "\n"
     ]
    },
    {
     "name": "stderr",
     "output_type": "stream",
     "text": [
      "2024-05-11 11:45:43 (INFO): \n"
     ]
    },
    {
     "name": "stdout",
     "output_type": "stream",
     "text": [
      "Optimize a model with 58560 rows, 19920 columns and 155680 nonzeros\n"
     ]
    },
    {
     "name": "stderr",
     "output_type": "stream",
     "text": [
      "2024-05-11 11:45:43 (INFO): Optimize a model with 58560 rows, 19920 columns and 155680 nonzeros\n"
     ]
    },
    {
     "name": "stdout",
     "output_type": "stream",
     "text": [
      "Model fingerprint: 0xf93aaa35\n"
     ]
    },
    {
     "name": "stderr",
     "output_type": "stream",
     "text": [
      "2024-05-11 11:45:43 (INFO): Model fingerprint: 0xf93aaa35\n"
     ]
    },
    {
     "name": "stdout",
     "output_type": "stream",
     "text": [
      "Variable types: 6720 continuous, 13200 integer (13120 binary)\n"
     ]
    },
    {
     "name": "stderr",
     "output_type": "stream",
     "text": [
      "2024-05-11 11:45:43 (INFO): Variable types: 6720 continuous, 13200 integer (13120 binary)\n"
     ]
    },
    {
     "name": "stdout",
     "output_type": "stream",
     "text": [
      "Coefficient statistics:\n"
     ]
    },
    {
     "name": "stderr",
     "output_type": "stream",
     "text": [
      "2024-05-11 11:45:43 (INFO): Coefficient statistics:\n"
     ]
    },
    {
     "name": "stdout",
     "output_type": "stream",
     "text": [
      "  Matrix range     [1e-01, 1e+03]\n"
     ]
    },
    {
     "name": "stderr",
     "output_type": "stream",
     "text": [
      "2024-05-11 11:45:43 (INFO):   Matrix range     [1e-01, 1e+03]\n"
     ]
    },
    {
     "name": "stdout",
     "output_type": "stream",
     "text": [
      "  Objective range  [3e+00, 8e+00]\n"
     ]
    },
    {
     "name": "stderr",
     "output_type": "stream",
     "text": [
      "2024-05-11 11:45:43 (INFO):   Objective range  [3e+00, 8e+00]\n"
     ]
    },
    {
     "name": "stdout",
     "output_type": "stream",
     "text": [
      "  Bounds range     [1e-01, 1e+00]\n"
     ]
    },
    {
     "name": "stderr",
     "output_type": "stream",
     "text": [
      "2024-05-11 11:45:43 (INFO):   Bounds range     [1e-01, 1e+00]\n"
     ]
    },
    {
     "name": "stdout",
     "output_type": "stream",
     "text": [
      "  RHS range        [1e-01, 1e+00]\n"
     ]
    },
    {
     "name": "stderr",
     "output_type": "stream",
     "text": [
      "2024-05-11 11:45:43 (INFO):   RHS range        [1e-01, 1e+00]\n"
     ]
    },
    {
     "name": "stdout",
     "output_type": "stream",
     "text": [
      "\n"
     ]
    },
    {
     "name": "stderr",
     "output_type": "stream",
     "text": [
      "2024-05-11 11:45:43 (INFO): \n"
     ]
    },
    {
     "name": "stdout",
     "output_type": "stream",
     "text": [
      "Warning: Completing partial solution with 12880 unfixed non-continuous variables out of 13200\n"
     ]
    },
    {
     "name": "stderr",
     "output_type": "stream",
     "text": [
      "2024-05-11 11:45:43 (INFO): Warning: Completing partial solution with 12880 unfixed non-continuous variables out of 13200\n"
     ]
    },
    {
     "name": "stdout",
     "output_type": "stream",
     "text": [
      "User MIP start did not produce a new incumbent solution\n",
      "\n",
      "User MIP start did not produce a new incumbent solution\n"
     ]
    },
    {
     "name": "stderr",
     "output_type": "stream",
     "text": [
      "2024-05-11 11:45:43 (INFO): User MIP start did not produce a new incumbent solution\n"
     ]
    },
    {
     "name": "stdout",
     "output_type": "stream",
     "text": [
      "User MIP start violates constraint R13200 by 0.200000000\n",
      "\n",
      "User MIP start violates constraint R13200 by 0.200000000\n"
     ]
    },
    {
     "name": "stderr",
     "output_type": "stream",
     "text": [
      "2024-05-11 11:45:43 (INFO): User MIP start violates constraint R13200 by 0.200000000\n"
     ]
    },
    {
     "name": "stdout",
     "output_type": "stream",
     "text": [
      "\n"
     ]
    },
    {
     "name": "stderr",
     "output_type": "stream",
     "text": [
      "2024-05-11 11:45:43 (INFO): \n"
     ]
    },
    {
     "name": "stdout",
     "output_type": "stream",
     "text": [
      "Presolve removed 58560 rows and 19920 columns\n"
     ]
    },
    {
     "name": "stderr",
     "output_type": "stream",
     "text": [
      "2024-05-11 11:45:43 (INFO): Presolve removed 58560 rows and 19920 columns\n"
     ]
    },
    {
     "name": "stdout",
     "output_type": "stream",
     "text": [
      "Presolve time: 0.39s\n"
     ]
    },
    {
     "name": "stderr",
     "output_type": "stream",
     "text": [
      "2024-05-11 11:45:43 (INFO): Presolve time: 0.39s\n"
     ]
    },
    {
     "name": "stdout",
     "output_type": "stream",
     "text": [
      "Presolve: All rows and columns removed\n"
     ]
    },
    {
     "name": "stderr",
     "output_type": "stream",
     "text": [
      "2024-05-11 11:45:43 (INFO): Presolve: All rows and columns removed\n"
     ]
    },
    {
     "name": "stdout",
     "output_type": "stream",
     "text": [
      "\n"
     ]
    },
    {
     "name": "stderr",
     "output_type": "stream",
     "text": [
      "2024-05-11 11:45:43 (INFO): \n"
     ]
    },
    {
     "name": "stdout",
     "output_type": "stream",
     "text": [
      "Explored 0 nodes (0 simplex iterations) in 0.46 seconds (0.56 work units)\n"
     ]
    },
    {
     "name": "stderr",
     "output_type": "stream",
     "text": [
      "2024-05-11 11:45:43 (INFO): Explored 0 nodes (0 simplex iterations) in 0.46 seconds (0.56 work units)\n"
     ]
    },
    {
     "name": "stdout",
     "output_type": "stream",
     "text": [
      "Thread count was 1 (of 20 available processors)\n"
     ]
    },
    {
     "name": "stderr",
     "output_type": "stream",
     "text": [
      "2024-05-11 11:45:43 (INFO): Thread count was 1 (of 20 available processors)\n"
     ]
    },
    {
     "name": "stdout",
     "output_type": "stream",
     "text": [
      "\n"
     ]
    },
    {
     "name": "stderr",
     "output_type": "stream",
     "text": [
      "2024-05-11 11:45:43 (INFO): \n"
     ]
    },
    {
     "name": "stdout",
     "output_type": "stream",
     "text": [
      "Solution count 1: 43.4601 \n"
     ]
    },
    {
     "name": "stderr",
     "output_type": "stream",
     "text": [
      "2024-05-11 11:45:43 (INFO): Solution count 1: 43.4601 \n"
     ]
    },
    {
     "name": "stdout",
     "output_type": "stream",
     "text": [
      "\n"
     ]
    },
    {
     "name": "stderr",
     "output_type": "stream",
     "text": [
      "2024-05-11 11:45:43 (INFO): \n"
     ]
    },
    {
     "name": "stdout",
     "output_type": "stream",
     "text": [
      "Optimal solution found (tolerance 1.00e-04)\n"
     ]
    },
    {
     "name": "stderr",
     "output_type": "stream",
     "text": [
      "2024-05-11 11:45:43 (INFO): Optimal solution found (tolerance 1.00e-04)\n"
     ]
    },
    {
     "name": "stdout",
     "output_type": "stream",
     "text": [
      "Best objective 4.346010878925e+01, best bound 4.346010878925e+01, gap 0.0000%\n"
     ]
    },
    {
     "name": "stderr",
     "output_type": "stream",
     "text": [
      "2024-05-11 11:45:43 (INFO): Best objective 4.346010878925e+01, best bound 4.346010878925e+01, gap 0.0000%\n"
     ]
    },
    {
     "name": "stdout",
     "output_type": "stream",
     "text": [
      "\n"
     ]
    },
    {
     "name": "stderr",
     "output_type": "stream",
     "text": [
      "2024-05-11 11:45:43 (INFO): \n"
     ]
    },
    {
     "name": "stdout",
     "output_type": "stream",
     "text": [
      "User-callback calls 269, time in user-callback 0.00 sec\n"
     ]
    },
    {
     "name": "stderr",
     "output_type": "stream",
     "text": [
      "2024-05-11 11:45:43 (INFO): User-callback calls 269, time in user-callback 0.00 sec\n",
      "2024-05-11 11:45:43 (INFO): Optimization status: 2\n",
      "2024-05-11 11:45:43 (INFO): Original 0.86861, Opt objective 43.46011\n",
      "2024-05-11 11:45:43 (INFO): Robust count 1 out of 3\n"
     ]
    },
    {
     "name": "stdout",
     "output_type": "stream",
     "text": [
      "Set parameter BestObjStop to value 0\n"
     ]
    },
    {
     "name": "stderr",
     "output_type": "stream",
     "text": [
      "2024-05-11 11:45:45 (INFO): Set parameter BestObjStop to value 0\n"
     ]
    },
    {
     "name": "stdout",
     "output_type": "stream",
     "text": [
      "Set parameter IntegralityFocus to value 1\n"
     ]
    },
    {
     "name": "stderr",
     "output_type": "stream",
     "text": [
      "2024-05-11 11:45:45 (INFO): Set parameter IntegralityFocus to value 1\n"
     ]
    },
    {
     "name": "stdout",
     "output_type": "stream",
     "text": [
      "Set parameter IntFeasTol to value 0.0001\n"
     ]
    },
    {
     "name": "stderr",
     "output_type": "stream",
     "text": [
      "2024-05-11 11:45:45 (INFO): Set parameter IntFeasTol to value 0.0001\n"
     ]
    },
    {
     "name": "stdout",
     "output_type": "stream",
     "text": [
      "Set parameter DualReductions to value 0\n"
     ]
    },
    {
     "name": "stderr",
     "output_type": "stream",
     "text": [
      "2024-05-11 11:45:45 (INFO): Set parameter DualReductions to value 0\n"
     ]
    },
    {
     "name": "stdout",
     "output_type": "stream",
     "text": [
      "Set parameter FeasibilityTol to value 0.0001\n"
     ]
    },
    {
     "name": "stderr",
     "output_type": "stream",
     "text": [
      "2024-05-11 11:45:45 (INFO): Set parameter FeasibilityTol to value 0.0001\n"
     ]
    },
    {
     "name": "stdout",
     "output_type": "stream",
     "text": [
      "Set parameter OptimalityTol to value 0.0001\n"
     ]
    },
    {
     "name": "stderr",
     "output_type": "stream",
     "text": [
      "2024-05-11 11:45:45 (INFO): Set parameter OptimalityTol to value 0.0001\n"
     ]
    },
    {
     "name": "stdout",
     "output_type": "stream",
     "text": [
      "Set parameter NumericFocus to value 3\n"
     ]
    },
    {
     "name": "stderr",
     "output_type": "stream",
     "text": [
      "2024-05-11 11:45:45 (INFO): Set parameter NumericFocus to value 3\n"
     ]
    },
    {
     "name": "stdout",
     "output_type": "stream",
     "text": [
      "Gurobi Optimizer version 11.0.1 build v11.0.1rc0 (linux64 - \"Ubuntu 22.04.4 LTS\")\n"
     ]
    },
    {
     "name": "stderr",
     "output_type": "stream",
     "text": [
      "2024-05-11 11:45:45 (INFO): Gurobi Optimizer version 11.0.1 build v11.0.1rc0 (linux64 - \"Ubuntu 22.04.4 LTS\")\n"
     ]
    },
    {
     "name": "stdout",
     "output_type": "stream",
     "text": [
      "\n"
     ]
    },
    {
     "name": "stderr",
     "output_type": "stream",
     "text": [
      "2024-05-11 11:45:45 (INFO): \n"
     ]
    },
    {
     "name": "stdout",
     "output_type": "stream",
     "text": [
      "CPU model: Intel(R) Xeon(R) CPU E5-2630 v4 @ 2.20GHz, instruction set [SSE2|AVX|AVX2]\n"
     ]
    },
    {
     "name": "stderr",
     "output_type": "stream",
     "text": [
      "2024-05-11 11:45:45 (INFO): CPU model: Intel(R) Xeon(R) CPU E5-2630 v4 @ 2.20GHz, instruction set [SSE2|AVX|AVX2]\n"
     ]
    },
    {
     "name": "stdout",
     "output_type": "stream",
     "text": [
      "Thread count: 20 physical cores, 20 logical processors, using up to 20 threads\n"
     ]
    },
    {
     "name": "stderr",
     "output_type": "stream",
     "text": [
      "2024-05-11 11:45:45 (INFO): Thread count: 20 physical cores, 20 logical processors, using up to 20 threads\n"
     ]
    },
    {
     "name": "stdout",
     "output_type": "stream",
     "text": [
      "\n"
     ]
    },
    {
     "name": "stderr",
     "output_type": "stream",
     "text": [
      "2024-05-11 11:45:45 (INFO): \n"
     ]
    },
    {
     "name": "stdout",
     "output_type": "stream",
     "text": [
      "Optimize a model with 58560 rows, 19920 columns and 155680 nonzeros\n"
     ]
    },
    {
     "name": "stderr",
     "output_type": "stream",
     "text": [
      "2024-05-11 11:45:45 (INFO): Optimize a model with 58560 rows, 19920 columns and 155680 nonzeros\n"
     ]
    },
    {
     "name": "stdout",
     "output_type": "stream",
     "text": [
      "Model fingerprint: 0x34618c12\n"
     ]
    },
    {
     "name": "stderr",
     "output_type": "stream",
     "text": [
      "2024-05-11 11:45:45 (INFO): Model fingerprint: 0x34618c12\n"
     ]
    },
    {
     "name": "stdout",
     "output_type": "stream",
     "text": [
      "Variable types: 6720 continuous, 13200 integer (13120 binary)\n"
     ]
    },
    {
     "name": "stderr",
     "output_type": "stream",
     "text": [
      "2024-05-11 11:45:45 (INFO): Variable types: 6720 continuous, 13200 integer (13120 binary)\n"
     ]
    },
    {
     "name": "stdout",
     "output_type": "stream",
     "text": [
      "Coefficient statistics:\n"
     ]
    },
    {
     "name": "stderr",
     "output_type": "stream",
     "text": [
      "2024-05-11 11:45:45 (INFO): Coefficient statistics:\n"
     ]
    },
    {
     "name": "stdout",
     "output_type": "stream",
     "text": [
      "  Matrix range     [1e-01, 1e+03]\n"
     ]
    },
    {
     "name": "stderr",
     "output_type": "stream",
     "text": [
      "2024-05-11 11:45:45 (INFO):   Matrix range     [1e-01, 1e+03]\n"
     ]
    },
    {
     "name": "stdout",
     "output_type": "stream",
     "text": [
      "  Objective range  [3e+00, 7e+00]\n"
     ]
    },
    {
     "name": "stderr",
     "output_type": "stream",
     "text": [
      "2024-05-11 11:45:45 (INFO):   Objective range  [3e+00, 7e+00]\n"
     ]
    },
    {
     "name": "stdout",
     "output_type": "stream",
     "text": [
      "  Bounds range     [1e-01, 1e+00]\n"
     ]
    },
    {
     "name": "stderr",
     "output_type": "stream",
     "text": [
      "2024-05-11 11:45:45 (INFO):   Bounds range     [1e-01, 1e+00]\n"
     ]
    },
    {
     "name": "stdout",
     "output_type": "stream",
     "text": [
      "  RHS range        [1e-01, 1e+00]\n"
     ]
    },
    {
     "name": "stderr",
     "output_type": "stream",
     "text": [
      "2024-05-11 11:45:45 (INFO):   RHS range        [1e-01, 1e+00]\n"
     ]
    },
    {
     "name": "stdout",
     "output_type": "stream",
     "text": [
      "\n"
     ]
    },
    {
     "name": "stderr",
     "output_type": "stream",
     "text": [
      "2024-05-11 11:45:45 (INFO): \n"
     ]
    },
    {
     "name": "stdout",
     "output_type": "stream",
     "text": [
      "Warning: Completing partial solution with 12880 unfixed non-continuous variables out of 13200\n"
     ]
    },
    {
     "name": "stderr",
     "output_type": "stream",
     "text": [
      "2024-05-11 11:45:45 (INFO): Warning: Completing partial solution with 12880 unfixed non-continuous variables out of 13200\n"
     ]
    },
    {
     "name": "stdout",
     "output_type": "stream",
     "text": [
      "User MIP start did not produce a new incumbent solution\n",
      "\n",
      "User MIP start did not produce a new incumbent solution\n"
     ]
    },
    {
     "name": "stderr",
     "output_type": "stream",
     "text": [
      "2024-05-11 11:45:45 (INFO): User MIP start did not produce a new incumbent solution\n"
     ]
    },
    {
     "name": "stdout",
     "output_type": "stream",
     "text": [
      "User MIP start violates constraint R13200 by 0.200000000\n",
      "\n",
      "User MIP start violates constraint R13200 by 0.200000000\n"
     ]
    },
    {
     "name": "stderr",
     "output_type": "stream",
     "text": [
      "2024-05-11 11:45:45 (INFO): User MIP start violates constraint R13200 by 0.200000000\n"
     ]
    },
    {
     "name": "stdout",
     "output_type": "stream",
     "text": [
      "\n"
     ]
    },
    {
     "name": "stderr",
     "output_type": "stream",
     "text": [
      "2024-05-11 11:45:45 (INFO): \n"
     ]
    },
    {
     "name": "stdout",
     "output_type": "stream",
     "text": [
      "Presolve removed 58560 rows and 19920 columns\n"
     ]
    },
    {
     "name": "stderr",
     "output_type": "stream",
     "text": [
      "2024-05-11 11:45:46 (INFO): Presolve removed 58560 rows and 19920 columns\n"
     ]
    },
    {
     "name": "stdout",
     "output_type": "stream",
     "text": [
      "Presolve time: 0.39s\n"
     ]
    },
    {
     "name": "stderr",
     "output_type": "stream",
     "text": [
      "2024-05-11 11:45:46 (INFO): Presolve time: 0.39s\n"
     ]
    },
    {
     "name": "stdout",
     "output_type": "stream",
     "text": [
      "Presolve: All rows and columns removed\n"
     ]
    },
    {
     "name": "stderr",
     "output_type": "stream",
     "text": [
      "2024-05-11 11:45:46 (INFO): Presolve: All rows and columns removed\n"
     ]
    },
    {
     "name": "stdout",
     "output_type": "stream",
     "text": [
      "\n"
     ]
    },
    {
     "name": "stderr",
     "output_type": "stream",
     "text": [
      "2024-05-11 11:45:46 (INFO): \n"
     ]
    },
    {
     "name": "stdout",
     "output_type": "stream",
     "text": [
      "Explored 0 nodes (0 simplex iterations) in 0.47 seconds (0.56 work units)\n"
     ]
    },
    {
     "name": "stderr",
     "output_type": "stream",
     "text": [
      "2024-05-11 11:45:46 (INFO): Explored 0 nodes (0 simplex iterations) in 0.47 seconds (0.56 work units)\n"
     ]
    },
    {
     "name": "stdout",
     "output_type": "stream",
     "text": [
      "Thread count was 1 (of 20 available processors)\n"
     ]
    },
    {
     "name": "stderr",
     "output_type": "stream",
     "text": [
      "2024-05-11 11:45:46 (INFO): Thread count was 1 (of 20 available processors)\n"
     ]
    },
    {
     "name": "stdout",
     "output_type": "stream",
     "text": [
      "\n"
     ]
    },
    {
     "name": "stderr",
     "output_type": "stream",
     "text": [
      "2024-05-11 11:45:46 (INFO): \n"
     ]
    },
    {
     "name": "stdout",
     "output_type": "stream",
     "text": [
      "Solution count 1: 37.3761 \n"
     ]
    },
    {
     "name": "stderr",
     "output_type": "stream",
     "text": [
      "2024-05-11 11:45:46 (INFO): Solution count 1: 37.3761 \n"
     ]
    },
    {
     "name": "stdout",
     "output_type": "stream",
     "text": [
      "\n"
     ]
    },
    {
     "name": "stderr",
     "output_type": "stream",
     "text": [
      "2024-05-11 11:45:46 (INFO): \n"
     ]
    },
    {
     "name": "stdout",
     "output_type": "stream",
     "text": [
      "Optimal solution found (tolerance 1.00e-04)\n"
     ]
    },
    {
     "name": "stderr",
     "output_type": "stream",
     "text": [
      "2024-05-11 11:45:46 (INFO): Optimal solution found (tolerance 1.00e-04)\n"
     ]
    },
    {
     "name": "stdout",
     "output_type": "stream",
     "text": [
      "Best objective 3.737613889189e+01, best bound 3.737613889189e+01, gap 0.0000%\n"
     ]
    },
    {
     "name": "stderr",
     "output_type": "stream",
     "text": [
      "2024-05-11 11:45:46 (INFO): Best objective 3.737613889189e+01, best bound 3.737613889189e+01, gap 0.0000%\n"
     ]
    },
    {
     "name": "stdout",
     "output_type": "stream",
     "text": [
      "\n"
     ]
    },
    {
     "name": "stderr",
     "output_type": "stream",
     "text": [
      "2024-05-11 11:45:46 (INFO): \n"
     ]
    },
    {
     "name": "stdout",
     "output_type": "stream",
     "text": [
      "User-callback calls 271, time in user-callback 0.00 sec\n"
     ]
    },
    {
     "name": "stderr",
     "output_type": "stream",
     "text": [
      "2024-05-11 11:45:46 (INFO): User-callback calls 271, time in user-callback 0.00 sec\n",
      "2024-05-11 11:45:46 (INFO): Optimization status: 2\n",
      "2024-05-11 11:45:46 (INFO): Original -0.83895, Opt objective 37.37614\n",
      "2024-05-11 11:45:46 (INFO): Robust count 1 out of 4\n",
      "2024-05-11 11:45:46 (INFO): Certified accuracy (poisoning): 0.008333333333333333\n"
     ]
    },
    {
     "data": {
      "text/plain": [
       "{'accuracy_test': 0.7833333611488342,\n",
       " 'accuracy_trn': 0.9125000238418579,\n",
       " 'accuracy_ub_test': 0.824999988079071,\n",
       " 'accuracy_lb_test': 0.7166666388511658,\n",
       " 'accuracy_ub_trn': 0.862500011920929,\n",
       " 'accuracy_lb_trn': 0.887499988079071,\n",
       " 'accuracy_cert_evasion_trivial': 0.45,\n",
       " 'accuracy_cert_evasion_robust': 0.7416666746139526,\n",
       " 'accuracy_cert_evasion_unrobust': 0.0,\n",
       " 'accuracy_cert_pois_robust': 0.008333333333333333,\n",
       " 'accuracy_cert_pois_unrobust': 0,\n",
       " 'delta_absolute': 0.1,\n",
       " 'y_true_cls': [-1,\n",
       "  -1,\n",
       "  -1,\n",
       "  -1,\n",
       "  -1,\n",
       "  -1,\n",
       "  -1,\n",
       "  -1,\n",
       "  -1,\n",
       "  -1,\n",
       "  -1,\n",
       "  -1,\n",
       "  -1,\n",
       "  -1,\n",
       "  -1,\n",
       "  -1,\n",
       "  -1,\n",
       "  -1,\n",
       "  -1,\n",
       "  -1,\n",
       "  -1,\n",
       "  -1,\n",
       "  -1,\n",
       "  -1,\n",
       "  -1,\n",
       "  -1,\n",
       "  -1,\n",
       "  -1,\n",
       "  -1,\n",
       "  -1,\n",
       "  -1,\n",
       "  -1,\n",
       "  -1,\n",
       "  -1,\n",
       "  -1,\n",
       "  -1,\n",
       "  -1,\n",
       "  -1,\n",
       "  -1,\n",
       "  -1,\n",
       "  -1,\n",
       "  -1,\n",
       "  -1,\n",
       "  -1,\n",
       "  -1,\n",
       "  -1,\n",
       "  -1,\n",
       "  -1,\n",
       "  -1,\n",
       "  -1,\n",
       "  -1,\n",
       "  -1,\n",
       "  -1,\n",
       "  -1,\n",
       "  -1,\n",
       "  -1,\n",
       "  1,\n",
       "  1,\n",
       "  1,\n",
       "  1,\n",
       "  1,\n",
       "  1,\n",
       "  1,\n",
       "  1,\n",
       "  1,\n",
       "  1,\n",
       "  1,\n",
       "  1,\n",
       "  1,\n",
       "  1,\n",
       "  1,\n",
       "  1,\n",
       "  1,\n",
       "  1,\n",
       "  1,\n",
       "  1,\n",
       "  1,\n",
       "  1,\n",
       "  1,\n",
       "  1,\n",
       "  1,\n",
       "  1,\n",
       "  1,\n",
       "  1,\n",
       "  1,\n",
       "  1,\n",
       "  1,\n",
       "  1,\n",
       "  1,\n",
       "  1,\n",
       "  1,\n",
       "  1,\n",
       "  1,\n",
       "  1,\n",
       "  1,\n",
       "  1,\n",
       "  1,\n",
       "  1,\n",
       "  1,\n",
       "  1,\n",
       "  1,\n",
       "  1,\n",
       "  1,\n",
       "  1,\n",
       "  1,\n",
       "  1,\n",
       "  1,\n",
       "  1,\n",
       "  1,\n",
       "  1,\n",
       "  1,\n",
       "  1,\n",
       "  1,\n",
       "  1,\n",
       "  1,\n",
       "  1,\n",
       "  1,\n",
       "  1,\n",
       "  1,\n",
       "  1],\n",
       " 'y_pred_logit': [-0.7931787793634286,\n",
       "  -1.3629053757231462,\n",
       "  0.8686063611410112,\n",
       "  -0.8389538220872389,\n",
       "  0.5549710113369362,\n",
       "  -2.7343166536056533,\n",
       "  -1.0572509815167657,\n",
       "  -1.0027008984213954,\n",
       "  0.23211722561908976,\n",
       "  0.16478555629328995,\n",
       "  -0.5776369326470835,\n",
       "  -0.6464329101735518,\n",
       "  -0.6714952258281666,\n",
       "  -0.4945516387004637,\n",
       "  -1.1597846856572172,\n",
       "  -0.15457221299493024,\n",
       "  -0.6045805313776502,\n",
       "  -0.8408728267583562,\n",
       "  0.05956517263248495,\n",
       "  -1.1707053471143753,\n",
       "  -0.5815160575067443,\n",
       "  -0.867035349040276,\n",
       "  0.025405894106750315,\n",
       "  -0.33677448884735667,\n",
       "  -0.14436845906391288,\n",
       "  -1.0259234328900315,\n",
       "  -1.0252283358530858,\n",
       "  -0.21695727272915272,\n",
       "  -0.5617712751545458,\n",
       "  -1.6138188225094223,\n",
       "  1.0571060700482033,\n",
       "  -1.2168177952830734,\n",
       "  -0.9481534938081149,\n",
       "  -0.5463243578623459,\n",
       "  -0.15881120000731064,\n",
       "  -0.6180645166553577,\n",
       "  -0.48539784120020707,\n",
       "  -1.3148402493335212,\n",
       "  -1.7606962297703852,\n",
       "  -1.4184733481615837,\n",
       "  -1.5054020754510344,\n",
       "  -1.5257924392508229,\n",
       "  0.18157821840345134,\n",
       "  -0.5345097916755036,\n",
       "  -0.5914299668455978,\n",
       "  -1.1090542725514734,\n",
       "  0.2681107024269791,\n",
       "  1.613513815268127,\n",
       "  -0.9725073944757949,\n",
       "  -1.671624693180713,\n",
       "  0.7069542832899006,\n",
       "  -0.6999461434050591,\n",
       "  -0.6526458271876595,\n",
       "  -0.9909471395258626,\n",
       "  -0.9044732858593708,\n",
       "  -0.6764659134587276,\n",
       "  0.7550055328716611,\n",
       "  0.0917290204561012,\n",
       "  0.9839055012177189,\n",
       "  0.1664447579590302,\n",
       "  1.2046365575640365,\n",
       "  0.866625255900267,\n",
       "  0.7137952549502994,\n",
       "  -0.06809797022930264,\n",
       "  0.2672011108328213,\n",
       "  1.3201830645045156,\n",
       "  0.550661924815198,\n",
       "  1.015454225506795,\n",
       "  1.3803900278276164,\n",
       "  0.5132104727002351,\n",
       "  1.2784451175318277,\n",
       "  -0.5581731899602097,\n",
       "  1.612905963839974,\n",
       "  0.9091989854480304,\n",
       "  -0.8745196605430358,\n",
       "  -0.12425069239728537,\n",
       "  0.6914520352590962,\n",
       "  0.06754462778376885,\n",
       "  0.8904614468844696,\n",
       "  0.5341528755347092,\n",
       "  -0.31542706365612316,\n",
       "  -0.24461023005946209,\n",
       "  -0.4772468657818406,\n",
       "  1.26518516579178,\n",
       "  0.6313936984326467,\n",
       "  0.26474917850532675,\n",
       "  1.926487042683858,\n",
       "  0.6974674048075099,\n",
       "  0.44196490281266837,\n",
       "  -0.015200174949183298,\n",
       "  -0.5792323225464809,\n",
       "  -0.1372618656126392,\n",
       "  0.9449260386884912,\n",
       "  0.5710708150389412,\n",
       "  0.9758027880587058,\n",
       "  0.5951161482405745,\n",
       "  1.1470607520144345,\n",
       "  -0.37592376773249103,\n",
       "  0.29306519412242243,\n",
       "  0.5037826444200885,\n",
       "  0.3566827164354789,\n",
       "  0.6085329416352517,\n",
       "  0.6098566301942596,\n",
       "  0.592662160714652,\n",
       "  0.9490078909785479,\n",
       "  0.9310871211130782,\n",
       "  -0.13506783776828024,\n",
       "  0.696177650660996,\n",
       "  0.3921239455050828,\n",
       "  -0.18947789504359502,\n",
       "  1.1865232878917649,\n",
       "  0.6037151209695666,\n",
       "  -0.7018651062337085,\n",
       "  1.1152442677604988,\n",
       "  -0.23293277856919786,\n",
       "  1.196655863365423,\n",
       "  0.614344989586522,\n",
       "  0.494135269272509,\n",
       "  0.504991047309189,\n",
       "  1.4091699767411798],\n",
       " 'y_worst_obj': [43.72114194121289,\n",
       "  43.515047407489305,\n",
       "  43.46010878925063,\n",
       "  37.37613889188826],\n",
       " 'y_is_robust': [False, False, True, False],\n",
       " 'y_opt_status': [2, 2, 2, 2],\n",
       " 'idx_train': [50,\n",
       "  7,\n",
       "  12,\n",
       "  35,\n",
       "  90,\n",
       "  3,\n",
       "  26,\n",
       "  85,\n",
       "  0,\n",
       "  92,\n",
       "  39,\n",
       "  82,\n",
       "  31,\n",
       "  57,\n",
       "  10,\n",
       "  45,\n",
       "  44,\n",
       "  2,\n",
       "  88,\n",
       "  30,\n",
       "  160,\n",
       "  117,\n",
       "  169,\n",
       "  119,\n",
       "  150,\n",
       "  190,\n",
       "  141,\n",
       "  155,\n",
       "  120,\n",
       "  109,\n",
       "  142,\n",
       "  193,\n",
       "  132,\n",
       "  99,\n",
       "  192,\n",
       "  147,\n",
       "  123,\n",
       "  138,\n",
       "  96,\n",
       "  103],\n",
       " 'idx_val': [95,\n",
       "  8,\n",
       "  58,\n",
       "  38,\n",
       "  43,\n",
       "  11,\n",
       "  46,\n",
       "  61,\n",
       "  72,\n",
       "  41,\n",
       "  27,\n",
       "  87,\n",
       "  14,\n",
       "  37,\n",
       "  56,\n",
       "  73,\n",
       "  49,\n",
       "  18,\n",
       "  86,\n",
       "  42,\n",
       "  114,\n",
       "  102,\n",
       "  130,\n",
       "  144,\n",
       "  178,\n",
       "  131,\n",
       "  196,\n",
       "  111,\n",
       "  153,\n",
       "  158,\n",
       "  191,\n",
       "  151,\n",
       "  152,\n",
       "  195,\n",
       "  166,\n",
       "  98,\n",
       "  168,\n",
       "  133,\n",
       "  173,\n",
       "  186],\n",
       " 'idx_labeled': [50,\n",
       "  7,\n",
       "  12,\n",
       "  35,\n",
       "  90,\n",
       "  3,\n",
       "  26,\n",
       "  85,\n",
       "  0,\n",
       "  92,\n",
       "  39,\n",
       "  82,\n",
       "  31,\n",
       "  57,\n",
       "  10,\n",
       "  45,\n",
       "  44,\n",
       "  2,\n",
       "  88,\n",
       "  30,\n",
       "  160,\n",
       "  117,\n",
       "  169,\n",
       "  119,\n",
       "  150,\n",
       "  190,\n",
       "  141,\n",
       "  155,\n",
       "  120,\n",
       "  109,\n",
       "  142,\n",
       "  193,\n",
       "  132,\n",
       "  99,\n",
       "  192,\n",
       "  147,\n",
       "  123,\n",
       "  138,\n",
       "  96,\n",
       "  103,\n",
       "  95,\n",
       "  8,\n",
       "  58,\n",
       "  38,\n",
       "  43,\n",
       "  11,\n",
       "  46,\n",
       "  61,\n",
       "  72,\n",
       "  41,\n",
       "  27,\n",
       "  87,\n",
       "  14,\n",
       "  37,\n",
       "  56,\n",
       "  73,\n",
       "  49,\n",
       "  18,\n",
       "  86,\n",
       "  42,\n",
       "  114,\n",
       "  102,\n",
       "  130,\n",
       "  144,\n",
       "  178,\n",
       "  131,\n",
       "  196,\n",
       "  111,\n",
       "  153,\n",
       "  158,\n",
       "  191,\n",
       "  151,\n",
       "  152,\n",
       "  195,\n",
       "  166,\n",
       "  98,\n",
       "  168,\n",
       "  133,\n",
       "  173,\n",
       "  186],\n",
       " 'idx_test': [5,\n",
       "  1,\n",
       "  32,\n",
       "  52,\n",
       "  89,\n",
       "  16,\n",
       "  59,\n",
       "  74,\n",
       "  36,\n",
       "  83,\n",
       "  65,\n",
       "  33,\n",
       "  21,\n",
       "  13,\n",
       "  40,\n",
       "  80,\n",
       "  29,\n",
       "  47,\n",
       "  23,\n",
       "  48,\n",
       "  84,\n",
       "  34,\n",
       "  64,\n",
       "  24,\n",
       "  19,\n",
       "  71,\n",
       "  81,\n",
       "  75,\n",
       "  70,\n",
       "  55,\n",
       "  77,\n",
       "  79,\n",
       "  28,\n",
       "  93,\n",
       "  25,\n",
       "  15,\n",
       "  9,\n",
       "  22,\n",
       "  60,\n",
       "  94,\n",
       "  69,\n",
       "  62,\n",
       "  20,\n",
       "  68,\n",
       "  17,\n",
       "  91,\n",
       "  66,\n",
       "  63,\n",
       "  6,\n",
       "  51,\n",
       "  54,\n",
       "  4,\n",
       "  67,\n",
       "  76,\n",
       "  53,\n",
       "  78,\n",
       "  180,\n",
       "  105,\n",
       "  116,\n",
       "  176,\n",
       "  174,\n",
       "  129,\n",
       "  172,\n",
       "  177,\n",
       "  146,\n",
       "  108,\n",
       "  156,\n",
       "  162,\n",
       "  182,\n",
       "  189,\n",
       "  107,\n",
       "  110,\n",
       "  104,\n",
       "  140,\n",
       "  187,\n",
       "  135,\n",
       "  179,\n",
       "  100,\n",
       "  124,\n",
       "  143,\n",
       "  163,\n",
       "  175,\n",
       "  185,\n",
       "  136,\n",
       "  134,\n",
       "  113,\n",
       "  106,\n",
       "  112,\n",
       "  197,\n",
       "  154,\n",
       "  165,\n",
       "  118,\n",
       "  161,\n",
       "  198,\n",
       "  181,\n",
       "  157,\n",
       "  137,\n",
       "  148,\n",
       "  122,\n",
       "  127,\n",
       "  101,\n",
       "  125,\n",
       "  171,\n",
       "  199,\n",
       "  159,\n",
       "  194,\n",
       "  145,\n",
       "  164,\n",
       "  128,\n",
       "  184,\n",
       "  188,\n",
       "  149,\n",
       "  170,\n",
       "  167,\n",
       "  97,\n",
       "  139,\n",
       "  121,\n",
       "  126,\n",
       "  183,\n",
       "  115],\n",
       " 'idx_adv': [194, 128, 121, 104, 163, 76, 83, 167, 116, 127],\n",
       " 'csbm_mu': 0.28347334265708923,\n",
       " 'csbm_p': 0.03175879396984925,\n",
       " 'csbm_q': 0.007437185929648241,\n",
       " 'data_dim': 7,\n",
       " 'min_ypred': -2.7343166536056533,\n",
       " 'max_ypred': 1.926487042683858,\n",
       " 'min_ylb': -3.110014816089004,\n",
       " 'max_ylb': 1.5259816890987885,\n",
       " 'min_yub': -2.5887849612174616,\n",
       " 'max_yub': 3.5295784404669366,\n",
       " 'avg_ntklb': 4.8991837389661095,\n",
       " 'min_ntklb': 0.509366187541562,\n",
       " 'max_ntklb': 33.75000405341905,\n",
       " 'avg_ntkub': 5.083485183597216,\n",
       " 'min_ntkub': 0.509366187541562,\n",
       " 'max_ntkub': 33.75000405341905,\n",
       " 'min_ntklabeled': 1.9276743769937785,\n",
       " 'max_ntklabeled': 33.85000405341905,\n",
       " 'avg_ntkunlabeled': 4.954495483454636,\n",
       " 'min_ntkunlabeled': 0.7879833717383722,\n",
       " 'max_ntkunlabeled': 12.843384317428804,\n",
       " 'cond': 67933.79155957172,\n",
       " 'cond_regularized': 305173.79682705546}"
      ]
     },
     "execution_count": 25,
     "metadata": {},
     "output_type": "execute_result"
    }
   ],
   "source": [
    "#model_params[\"cache_size\"] = 10000\n",
    "other_params[\"device\"] = \"cpu\"\n",
    "other_params[\"debug\"] = False\n",
    "certificate_params[\"n_adversarial\"] = 10\n",
    "certificate_params[\"delta\"] = 0.1\n",
    "certificate_params[\"delta_absolute\"] = True\n",
    "certificate_params[\"method\"] = \"XXT\"\n",
    "certificate_params[\"perturbation_model\"] = \"linf\"\n",
    "certificate_params[\"attack_nodes\"] = \"test\"\n",
    "other_params[\"path_gurobi_license\"] = \"/ceph/ssd/staff/gosl/app/gurobi.lic\"\n",
    "verbosity_params[\"debug_lvl\"] = \"info\"\n",
    "model_params[\"regularizer\"] = 0.1\n",
    "model_params[\"solver\"] = \"qplayer\"\n",
    "model_params[\"alpha_tol\"] = 1e-4\n",
    "model_params[\"bias\"] = False\n",
    "data_params[\"learning_setting\"] = \"transductive\"\n",
    "run(data_params, model_params, certificate_params, verbosity_params, other_params, seed)"
   ]
  },
  {
   "cell_type": "code",
   "execution_count": 32,
   "metadata": {},
   "outputs": [
    {
     "name": "stderr",
     "output_type": "stream",
     "text": [
      "2024-04-12 14:55:17 (INFO): Starting experiment exp_ntk_cert_pois with configuration:\n",
      "2024-04-12 14:55:17 (INFO): data_params: {'dataset': 'csbm', 'learning_setting': 'transductive', 'specification': {'classes': 2, 'n_trn_labeled': 40, 'n_trn_unlabeled': 0, 'n_val': 40, 'n_test': 5, 'sigma': 1, 'avg_within_class_degree': 3.16, 'avg_between_class_degree': 0.74, 'K': 1.5, 'seed': 10}}\n",
      "2024-04-12 14:55:17 (INFO): model_params: {'label': 'GCN', 'model': 'GCN', 'normalization': 'row_normalization', 'depth': 1, 'regularizer': 0.01, 'pred_method': 'svm', 'activation': 'relu', 'cache_size': 10000, 'solver': 'qplayer', 'alpha_tol': 1e-08, 'bias': False}\n",
      "2024-04-12 14:55:17 (INFO): certification_params: {'n_adversarial': 50, 'perturbation_model': 'linf', 'delta': 0.01, 'method': 'XXT', 'attack_nodes': 'all', 'cert_method': 'ntk_bound'}\n",
      "2024-04-12 14:55:17 (INFO): verbosity_params: {'debug_lvl': 'info'}\n",
      "2024-04-12 14:55:17 (INFO): other_params: {'device': 'cpu', 'dtype': torch.float64, 'allow_tf32': False, 'debug': False}\n",
      "2024-04-12 14:55:17 (INFO): seed: 0\n",
      "2024-04-12 14:55:17 (INFO): CSBM(p=0.07524, q=0.01762)\n",
      "2024-04-12 14:55:17 (INFO): Test accuracy: 1.0\n",
      "2024-04-12 14:55:17 (INFO): Train accuracy: 0.8125\n",
      "2024-04-12 14:55:17 (INFO): Accuracy_lb_test: 0.6000000238418579\n",
      "2024-04-12 14:55:17 (INFO): Accuracy_ub_test: 0.800000011920929\n",
      "2024-04-12 14:55:17 (INFO): Accuracy_lb_trn: 0.7250000238418579\n",
      "2024-04-12 14:55:17 (INFO): Accuracy_ub_trn: 0.862500011920929\n",
      "2024-04-12 14:55:17 (INFO): Certified accuracy (evasion): 0.4000000059604645\n",
      "2024-04-12 14:55:17 (INFO): Certified accuracy (evasion, trivial): 0.0\n",
      "2024-04-12 14:55:17 (INFO): Certified unrobustness (evasion): 0.0\n"
     ]
    },
    {
     "name": "stdout",
     "output_type": "stream",
     "text": [
      "CSBM mu:\n",
      "[0.375 0.375 0.375 0.375]\n",
      "80 alphas found: ['0.0100', '0.0100', '0.0100', '0.0100', '0.0100', '0.0100', '0.0100', '0.0100', '0.0100', '0.0100', '0.0100', '0.0100', '0.0100', '0.0100', '0.0100', '0.0100', '0.0100', '0.0100', '0.0100', '0.0100', '0.0100', '0.0100', '0.0100', '0.0100', '0.0100', '0.0100', '0.0100', '0.0100', '0.0100', '0.0100', '0.0100', '0.0100', '0.0100', '0.0100', '0.0100', '0.0100', '0.0100', '0.0100', '0.0100', '0.0100', '0.0100', '0.0100', '0.0100', '0.0100', '0.0100', '0.0100', '0.0100', '0.0100', '0.0100', '0.0100', '0.0100', '0.0100', '0.0100', '0.0100', '0.0100', '0.0100', '0.0100', '0.0100', '0.0100', '0.0100', '0.0100', '0.0100', '0.0100', '0.0100', '0.0100', '0.0100', '0.0100', '0.0100', '0.0100', '0.0100', '0.0100', '0.0100', '0.0100', '0.0100', '0.0100', '0.0100', '0.0100', '0.0100', '0.0100', '0.0100']\n",
      "Set parameter BestObjStop to value 0\n"
     ]
    },
    {
     "name": "stderr",
     "output_type": "stream",
     "text": [
      "2024-04-12 14:55:17 (INFO): Set parameter BestObjStop to value 0\n"
     ]
    },
    {
     "name": "stdout",
     "output_type": "stream",
     "text": [
      "Set parameter IntegralityFocus to value 1\n"
     ]
    },
    {
     "name": "stderr",
     "output_type": "stream",
     "text": [
      "2024-04-12 14:55:17 (INFO): Set parameter IntegralityFocus to value 1\n"
     ]
    },
    {
     "name": "stdout",
     "output_type": "stream",
     "text": [
      "Set parameter IntFeasTol to value 0.0001\n"
     ]
    },
    {
     "name": "stderr",
     "output_type": "stream",
     "text": [
      "2024-04-12 14:55:17 (INFO): Set parameter IntFeasTol to value 0.0001\n",
      "2024-04-12 14:55:18 (INFO): Original -0.00811, Opt objective 0.08317\n",
      "2024-04-12 14:55:18 (INFO): Robust count 0 out of 1\n"
     ]
    },
    {
     "name": "stdout",
     "output_type": "stream",
     "text": [
      "Loaded user MIP start with objective -0.00811455\n",
      "\n",
      "Set parameter BestObjStop to value 0\n"
     ]
    },
    {
     "name": "stderr",
     "output_type": "stream",
     "text": [
      "2024-04-12 14:55:18 (INFO): Set parameter BestObjStop to value 0\n"
     ]
    },
    {
     "name": "stdout",
     "output_type": "stream",
     "text": [
      "Set parameter IntegralityFocus to value 1\n"
     ]
    },
    {
     "name": "stderr",
     "output_type": "stream",
     "text": [
      "2024-04-12 14:55:18 (INFO): Set parameter IntegralityFocus to value 1\n"
     ]
    },
    {
     "name": "stdout",
     "output_type": "stream",
     "text": [
      "Set parameter IntFeasTol to value 0.0001\n"
     ]
    },
    {
     "name": "stderr",
     "output_type": "stream",
     "text": [
      "2024-04-12 14:55:18 (INFO): Set parameter IntFeasTol to value 0.0001\n",
      "2024-04-12 14:55:18 (INFO): Original -0.13369, Opt objective -0.04406\n",
      "2024-04-12 14:55:18 (INFO): Robust count 1 out of 2\n"
     ]
    },
    {
     "name": "stdout",
     "output_type": "stream",
     "text": [
      "Loaded user MIP start with objective -0.13369\n",
      "\n",
      "Set parameter BestObjStop to value 0\n"
     ]
    },
    {
     "name": "stderr",
     "output_type": "stream",
     "text": [
      "2024-04-12 14:55:18 (INFO): Set parameter BestObjStop to value 0\n"
     ]
    },
    {
     "name": "stdout",
     "output_type": "stream",
     "text": [
      "Set parameter IntegralityFocus to value 1\n"
     ]
    },
    {
     "name": "stderr",
     "output_type": "stream",
     "text": [
      "2024-04-12 14:55:18 (INFO): Set parameter IntegralityFocus to value 1\n"
     ]
    },
    {
     "name": "stdout",
     "output_type": "stream",
     "text": [
      "Set parameter IntFeasTol to value 0.0001\n"
     ]
    },
    {
     "name": "stderr",
     "output_type": "stream",
     "text": [
      "2024-04-12 14:55:18 (INFO): Set parameter IntFeasTol to value 0.0001\n",
      "2024-04-12 14:55:19 (INFO): Original 0.17732, Opt objective 0.10940\n",
      "2024-04-12 14:55:19 (INFO): Robust count 2 out of 3\n"
     ]
    },
    {
     "name": "stdout",
     "output_type": "stream",
     "text": [
      "Loaded user MIP start with objective 0.177325\n",
      "\n",
      "Set parameter BestObjStop to value 0\n"
     ]
    },
    {
     "name": "stderr",
     "output_type": "stream",
     "text": [
      "2024-04-12 14:55:19 (INFO): Set parameter BestObjStop to value 0\n"
     ]
    },
    {
     "name": "stdout",
     "output_type": "stream",
     "text": [
      "Set parameter IntegralityFocus to value 1\n"
     ]
    },
    {
     "name": "stderr",
     "output_type": "stream",
     "text": [
      "2024-04-12 14:55:19 (INFO): Set parameter IntegralityFocus to value 1\n"
     ]
    },
    {
     "name": "stdout",
     "output_type": "stream",
     "text": [
      "Set parameter IntFeasTol to value 0.0001\n"
     ]
    },
    {
     "name": "stderr",
     "output_type": "stream",
     "text": [
      "2024-04-12 14:55:19 (INFO): Set parameter IntFeasTol to value 0.0001\n",
      "2024-04-12 14:55:19 (INFO): Original 0.06991, Opt objective -0.03322\n",
      "2024-04-12 14:55:19 (INFO): Robust count 2 out of 4\n"
     ]
    },
    {
     "name": "stdout",
     "output_type": "stream",
     "text": [
      "Loaded user MIP start with objective 0.0699078\n",
      "\n",
      "Set parameter BestObjStop to value 0\n"
     ]
    },
    {
     "name": "stderr",
     "output_type": "stream",
     "text": [
      "2024-04-12 14:55:19 (INFO): Set parameter BestObjStop to value 0\n"
     ]
    },
    {
     "name": "stdout",
     "output_type": "stream",
     "text": [
      "Set parameter IntegralityFocus to value 1\n"
     ]
    },
    {
     "name": "stderr",
     "output_type": "stream",
     "text": [
      "2024-04-12 14:55:19 (INFO): Set parameter IntegralityFocus to value 1\n"
     ]
    },
    {
     "name": "stdout",
     "output_type": "stream",
     "text": [
      "Set parameter IntFeasTol to value 0.0001\n"
     ]
    },
    {
     "name": "stderr",
     "output_type": "stream",
     "text": [
      "2024-04-12 14:55:19 (INFO): Set parameter IntFeasTol to value 0.0001\n",
      "2024-04-12 14:55:20 (INFO): Original 0.03263, Opt objective -0.05662\n",
      "2024-04-12 14:55:20 (INFO): Robust count 2 out of 5\n",
      "2024-04-12 14:55:20 (INFO): Certified accuracy (poisoning): 0.4\n"
     ]
    },
    {
     "name": "stdout",
     "output_type": "stream",
     "text": [
      "Loaded user MIP start with objective 0.0326337\n",
      "\n"
     ]
    },
    {
     "data": {
      "text/plain": [
       "{'accuracy_test': 1.0,\n",
       " 'accuracy_trn': 0.8125,\n",
       " 'accuracy_ub_test': 0.800000011920929,\n",
       " 'accuracy_lb_test': 0.6000000238418579,\n",
       " 'accuracy_ub_trn': 0.862500011920929,\n",
       " 'accuracy_lb_trn': 0.7250000238418579,\n",
       " 'accuracy_cert_evasion_trivial': 0.0,\n",
       " 'accuracy_cert_evasion_robust': 0.4000000059604645,\n",
       " 'accuracy_cert_evasion_unrobust': 0.0,\n",
       " 'accuracy_cert_pois_robust': 0.4,\n",
       " 'accuracy_cert_pois_unrobust': 0,\n",
       " 'y_true_cls': array([-1, -1,  1,  1,  1]),\n",
       " 'y_pred_logit': array([-0.00811455, -0.13369031,  0.17732461,  0.06990783,  0.03263369]),\n",
       " 'y_worst_obj': [0.08317413480441517,\n",
       "  -0.044058926281888414,\n",
       "  0.10940279116209606,\n",
       "  -0.03322156070834449,\n",
       "  -0.05661630497763761],\n",
       " 'y_is_robust': [False, True, True, False, False],\n",
       " 'y_opt_status': [2, 2, 2, 2, 2],\n",
       " 'idx_train': array([ 9, 31, 38, 13, 29, 18, 30, 23, 36,  5,  4, 25, 41, 40, 27, 15, 32,\n",
       "        33,  2,  7, 48, 44, 62, 83, 70, 82, 54, 47, 55, 77, 51, 66, 75, 60,\n",
       "        49, 52, 58, 42, 63, 53]),\n",
       " 'idx_val': array([ 6, 19, 12, 37, 17, 39,  1, 20, 28, 11,  3, 10, 26, 35, 14, 16, 34,\n",
       "         8, 21, 22, 61, 46, 71, 72, 81, 64, 78, 69, 79, 50, 59, 43, 68, 67,\n",
       "        65, 74, 45, 57, 76, 80]),\n",
       " 'idx_labeled': array([ 9, 31, 38, 13, 29, 18, 30, 23, 36,  5,  4, 25, 41, 40, 27, 15, 32,\n",
       "        33,  2,  7, 48, 44, 62, 83, 70, 82, 54, 47, 55, 77, 51, 66, 75, 60,\n",
       "        49, 52, 58, 42, 63, 53,  6, 19, 12, 37, 17, 39,  1, 20, 28, 11,  3,\n",
       "        10, 26, 35, 14, 16, 34,  8, 21, 22, 61, 46, 71, 72, 81, 64, 78, 69,\n",
       "        79, 50, 59, 43, 68, 67, 65, 74, 45, 57, 76, 80]),\n",
       " 'idx_test': array([ 0, 24, 84, 73, 56]),\n",
       " 'idx_adv': array([13, 45, 16, 51, 42, 26, 30,  7, 18,  4, 70, 58, 55, 15, 72, 22, 31,\n",
       "        50, 77, 14,  9, 59,  1, 83, 84, 73, 28, 57, 23, 12,  5, 38, 21, 10,\n",
       "        41, 25, 11, 56, 74, 79, 49, 66, 20, 75, 80, 44, 37, 63, 35, 52]),\n",
       " 'min_ypred': -0.13369031162946526,\n",
       " 'max_ypred': 0.17732461207370243,\n",
       " 'min_ylb': -0.2250280503399685,\n",
       " 'max_ylb': 0.10940279407085235,\n",
       " 'min_yub': -0.04405892255079419,\n",
       " 'max_yub': 0.24656275263006683,\n",
       " 'avg_ntklb': 0.5386728167133151,\n",
       " 'min_ntklb': -0.28856834314573626,\n",
       " 'max_ntklb': 8.05491578873122,\n",
       " 'avg_ntkub': 0.7649739654468773,\n",
       " 'min_ntkub': -0.1967617597541932,\n",
       " 'max_ntkub': 8.47751345847201,\n",
       " 'min_ntklabeled': -0.24142460975392485,\n",
       " 'max_ntklabeled': 8.300928909713798,\n",
       " 'avg_ntkunlabeled': 0.4413974527397404,\n",
       " 'min_ntkunlabeled': -0.017221658848134258,\n",
       " 'max_ntkunlabeled': 1.8419994813733813,\n",
       " 'cond': 3155534.0468870555,\n",
       " 'cond_regularized': 7145.173271757001}"
      ]
     },
     "execution_count": 32,
     "metadata": {},
     "output_type": "execute_result"
    }
   ],
   "source": [
    "model_params[\"cache_size\"] = 10000\n",
    "data_params[\"specification\"][\"avg_within_class_degree\"] = 1.58 * 2\n",
    "data_params[\"specification\"][\"avg_between_class_degree\"] = 0.37 * 2\n",
    "other_params[\"device\"] = \"cpu\"\n",
    "other_params[\"debug\"] = False\n",
    "certificate_params[\"n_adversarial\"] = 50\n",
    "certificate_params[\"delta\"] = 0.01\n",
    "certificate_params[\"method\"] = \"XXT\"\n",
    "certificate_params[\"perturbation_model\"] = \"linf\"\n",
    "certificate_params[\"cert_method\"] = \"ntk_bound\"\n",
    "verbosity_params[\"debug_lvl\"] = \"info\"\n",
    "model_params[\"regularizer\"] = 0.01\n",
    "model_params[\"solver\"] = \"qplayer\"\n",
    "model_params[\"alpha_tol\"] = 1e-8\n",
    "model_params[\"bias\"] = False\n",
    "data_params[\"learning_setting\"] = \"transductive\"\n",
    "run(data_params, model_params, certificate_params, verbosity_params, other_params, seed)"
   ]
  },
  {
   "cell_type": "code",
   "execution_count": 31,
   "metadata": {},
   "outputs": [
    {
     "name": "stderr",
     "output_type": "stream",
     "text": [
      "2024-04-11 16:19:07 (INFO): Starting experiment exp_ntk_certify with configuration:\n",
      "2024-04-11 16:19:07 (INFO): data_params: {'dataset': 'csbm', 'learning_setting': 'transductive', 'specification': {'classes': 2, 'n_trn_labeled': 40, 'n_trn_unlabeled': 0, 'n_val': 40, 'n_test': 120, 'sigma': 1, 'avg_within_class_degree': 3.16, 'avg_between_class_degree': 0.74, 'K': 1.5, 'seed': 10}}\n",
      "2024-04-11 16:19:07 (INFO): model_params: {'label': 'GCN', 'model': 'GCN', 'normalization': 'row_normalization', 'depth': 1, 'regularizer': 0.01, 'pred_method': 'svm', 'activation': 'relu', 'cache_size': 10000, 'solver': 'qplayer', 'alpha_tol': 1e-08, 'bias': False}\n",
      "2024-04-11 16:19:07 (INFO): certification_params: {'n_adversarial': 50, 'perturbation_model': 'linf', 'delta': 0.01, 'method': 'XXT', 'cert_method': 'ntk_bound'}\n",
      "2024-04-11 16:19:07 (INFO): verbosity_params: {'debug_lvl': 'info'}\n",
      "2024-04-11 16:19:07 (INFO): other_params: {'device': 'cpu', 'dtype': torch.float64, 'allow_tf32': False, 'debug': False}\n",
      "2024-04-11 16:19:07 (INFO): seed: 0\n",
      "2024-04-11 16:19:07 (INFO): CSBM(p=0.03176, q=0.00744)\n",
      "2024-04-11 16:19:07 (INFO): Accuracy 0.9583333134651184\n"
     ]
    },
    {
     "name": "stdout",
     "output_type": "stream",
     "text": [
      "CSBM mu:\n",
      "[0.28347334 0.28347334 0.28347334 0.28347334 0.28347334 0.28347334\n",
      " 0.28347334]\n",
      "79 alphas found: ['0.0100', '0.0100', '0.0100', '0.0100', '0.0100', '0.0100', '0.0100', '0.0100', '0.0100', '0.0100', '0.0100', '0.0100', '0.0100', '0.0100', '0.0100', '0.0100', '0.0100', '0.0100', '0.0100', '0.0100', '0.0100', '0.0100', '0.0100', '0.0100', '0.0100', '0.0100', '0.0100', '0.0100', '0.0100', '0.0100', '0.0100', '0.0100', '0.0100', '0.0100', '0.0100', '0.0100', '0.0100', '0.0100', '0.0100', '0.0100', '0.0100', '0.0100', '0.0100', '0.0100', '0.0100', '0.0100', '0.0100', '-0.0000', '0.0100', '0.0100', '0.0100', '0.0100', '0.0100', '0.0100', '0.0100', '0.0100', '0.0100', '0.0100', '0.0100', '0.0100', '0.0100', '0.0100', '0.0100', '0.0100', '0.0100', '0.0100', '0.0100', '0.0100', '0.0100', '0.0100', '0.0100', '0.0100', '0.0100', '0.0100', '0.0100', '0.0100', '0.0100', '0.0100', '0.0100', '0.0100']\n"
     ]
    },
    {
     "data": {
      "text/plain": [
       "{'accuracy': 0.9583333134651184,\n",
       " 'accuracy_ub': 0.949999988079071,\n",
       " 'accuracy_lb': 0.875,\n",
       " 'accuracy_cert_trivial': 0.03333333333333333,\n",
       " 'accuracy_cert': 0.8916666507720947,\n",
       " 'accuracy_cert_unrobust': 0.0,\n",
       " 'min_ypred': -0.8740060084083646,\n",
       " 'max_ypred': 0.5618288466640802,\n",
       " 'min_ylb': -0.9161557551719686,\n",
       " 'max_ylb': 0.5366682086876243,\n",
       " 'min_yub': -0.8320294475047423,\n",
       " 'max_yub': 0.5874174960891775,\n",
       " 'avg_ntklb': 0.7147890995803884,\n",
       " 'min_ntklb': -0.8603377072824947,\n",
       " 'max_ntklb': 18.429884713611802,\n",
       " 'avg_ntkub': 0.8326720075041864,\n",
       " 'min_ntkub': -0.8603377072824947,\n",
       " 'max_ntkub': 18.429884713611802,\n",
       " 'min_ntklabeled': -0.8603377072824947,\n",
       " 'max_ntklabeled': 18.439884713611804,\n",
       " 'avg_ntkunlabeled': 0.7765858675127242,\n",
       " 'min_ntkunlabeled': -0.6694073080411328,\n",
       " 'max_ntkunlabeled': 14.477873189149578,\n",
       " 'cond': 5678.371688934855}"
      ]
     },
     "execution_count": 31,
     "metadata": {},
     "output_type": "execute_result"
    }
   ],
   "source": [
    "model_params[\"cache_size\"] = 10000\n",
    "data_params[\"specification\"][\"avg_within_class_degree\"] = 1.58 * 2\n",
    "data_params[\"specification\"][\"avg_between_class_degree\"] = 0.37 * 2\n",
    "other_params[\"device\"] = \"cpu\"\n",
    "other_params[\"debug\"] = False\n",
    "certificate_params[\"n_adversarial\"] = 50\n",
    "certificate_params[\"delta\"] = 0.01\n",
    "certificate_params[\"method\"] = \"XXT\"\n",
    "certificate_params[\"perturbation_model\"] = \"linf\"\n",
    "certificate_params[\"cert_method\"] = \"ntk_bound\"\n",
    "verbosity_params[\"debug_lvl\"] = \"info\"\n",
    "model_params[\"regularizer\"] = 0.01\n",
    "model_params[\"solver\"] = \"qplayer\"\n",
    "model_params[\"alpha_tol\"] = 1e-8\n",
    "model_params[\"bias\"] = False\n",
    "data_params[\"learning_setting\"] = \"transductive\"\n",
    "run(data_params, model_params, certificate_params, verbosity_params, other_params, seed)"
   ]
  },
  {
   "cell_type": "code",
   "execution_count": null,
   "metadata": {},
   "outputs": [],
   "source": []
  },
  {
   "cell_type": "code",
   "execution_count": null,
   "metadata": {},
   "outputs": [],
   "source": []
  }
 ],
 "metadata": {
  "kernelspec": {
   "display_name": "py311_ntk",
   "language": "python",
   "name": "python3"
  },
  "language_info": {
   "codemirror_mode": {
    "name": "ipython",
    "version": 3
   },
   "file_extension": ".py",
   "mimetype": "text/x-python",
   "name": "python",
   "nbconvert_exporter": "python",
   "pygments_lexer": "ipython3",
   "version": "3.11.5"
  }
 },
 "nbformat": 4,
 "nbformat_minor": 2
}
