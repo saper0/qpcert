{
 "cells": [
  {
   "cell_type": "code",
   "execution_count": 1,
   "metadata": {},
   "outputs": [],
   "source": [
    "%load_ext autoreload\n",
    "%autoreload 2"
   ]
  },
  {
   "cell_type": "code",
   "execution_count": 2,
   "metadata": {},
   "outputs": [],
   "source": [
    "from typing import Any, Dict\n",
    "\n",
    "import numpy as np\n",
    "import scipy.sparse as sp\n",
    "import torch\n",
    "import torch.nn.functional as F\n",
    "from torch_sparse import SparseTensor\n",
    "from jaxtyping import Float, Integer\n",
    "import matplotlib\n",
    "import matplotlib as mpl\n",
    "import matplotlib.pyplot as plt\n",
    "from cycler import cycler\n",
    "import os\n",
    "\n",
    "from src.graph_models.csbm import CSBM\n",
    "from src.models.common import get_diffusion\n",
    "from src.models.ntk import NTK\n",
    "from src.attacks import create_attack\n",
    "from common import configure_hardware, get_graph, \\\n",
    "    count_edges_for_idx, calc_kernel_means, plot_ntk_model_diff\n",
    "from src import utils"
   ]
  },
  {
   "cell_type": "code",
   "execution_count": 29,
   "metadata": {},
   "outputs": [],
   "source": [
    "# Data\n",
    "data_dict = dict(\n",
    "    classes = 2,\n",
    "    n = 1000,\n",
    "    n_per_class_trn = 300,\n",
    "    n_per_class_labeled = 300,\n",
    "    sigma = 1,\n",
    "    avg_within_class_degree = 1.58 * 2,\n",
    "    avg_between_class_degree = 0.37 * 2,\n",
    ")\n",
    "#assert data_dict[\"n_per_class_trn\"] == data_dict[\"n_per_class_labeled\"] # PRBCD can't handle otherwise\n",
    "K = 1\n",
    "seed = 1\n",
    "# Model\n",
    "model_dict_gcn = {\n",
    "    \"label\": \"GCN\",\n",
    "    \"model\": \"GCN\",\n",
    "    \"normalization\": \"row_normalization\",\n",
    "    \"depth\": 1,\n",
    "}\n",
    "model_dict_softmedoid = {\n",
    "    \"label\": \"SoftM_T1\",\n",
    "    \"model\": \"SoftMedoid\",\n",
    "    \"normalization\": \"row_normalization\",\n",
    "    \"depth\": 1,\n",
    "    \"T\": 1\n",
    "}\n",
    "model_dict = model_dict_softmedoid\n",
    "model_dict_l = [model_dict_gcn, model_dict_softmedoid]\n",
    "attack_params = {\n",
    "    \"attack\": \"prbcd\",\n",
    "    \"search_space_size\": 50_000,\n",
    "    \"epochs\": 10,\n",
    "    \"fine_tune_epochs\": 0\n",
    "}\n",
    "# Attack\n",
    "eps_l = [0, 0.01, 0.025, 0.05, 0.10, 0.25, 0.50, 1, 2.5, 5, 10]\n",
    "# other\n",
    "device = \"cpu\"\n",
    "dtype = torch.float64\n",
    "os.environ['CUDA_LAUNCH_BLOCKING'] = \"1\""
   ]
  },
  {
   "cell_type": "code",
   "execution_count": 30,
   "metadata": {},
   "outputs": [
    {
     "name": "stdout",
     "output_type": "stream",
     "text": [
      "tensor(0.7875)\n",
      "tensor(0.5269, dtype=torch.float64,\n",
      "       grad_fn=<BinaryCrossEntropyWithLogitsBackward0>)\n",
      "tensor([[nan, nan, nan,  ..., nan, nan, nan],\n",
      "        [nan, nan, nan,  ..., nan, nan, nan],\n",
      "        [nan, nan, nan,  ..., nan, nan, nan],\n",
      "        ...,\n",
      "        [nan, nan, nan,  ..., nan, nan, nan],\n",
      "        [nan, nan, nan,  ..., nan, nan, nan],\n",
      "        [nan, nan, nan,  ..., nan, nan, nan]], dtype=torch.float64)\n"
     ]
    }
   ],
   "source": [
    "rng = np.random.Generator(np.random.PCG64(seed))\n",
    "device_ = configure_hardware(device, seed)\n",
    "data_dict[\"K\"] = K\n",
    "# Sample\n",
    "X, A, y = get_graph(data_dict, seed=seed)\n",
    "X = torch.tensor(X, dtype=dtype, device=device_)\n",
    "A = torch.tensor(A, dtype=dtype, device=device_)\n",
    "y = torch.tensor(y, device=device_)\n",
    "# Trn / Test Split\n",
    "n_cls0 = sum(y == 0)\n",
    "n = len(y)\n",
    "idx_cls0 = rng.permutation(np.arange(n_cls0))\n",
    "idx_cls1 = rng.permutation(np.arange(n_cls0, n))\n",
    "n_trn = data_dict[\"n_per_class_trn\"]\n",
    "n_labeled = data_dict[\"n_per_class_labeled\"]\n",
    "idx_labeled = np.concatenate((idx_cls0[:n_labeled], idx_cls1[:n_labeled]))\n",
    "idx_unlabeled = np.concatenate((idx_cls0[n_labeled:], idx_cls1[n_labeled:]))\n",
    "idx_target = np.concatenate((idx_cls0[n_trn:], idx_cls1[n_trn:]))\n",
    "idx_labeled.sort()\n",
    "idx_unlabeled.sort()\n",
    "idx_target.sort()\n",
    "#\n",
    "#ntk = NTK(X, A, model_dict)\n",
    "#adj = SparseTensor.from_dense(A)\n",
    "#edge_index_rows, edge_index_cols, edge_weight = adj.coo()\n",
    "#edge_index = torch.stack([edge_index_rows, edge_index_cols], dim=0).to(device)\n",
    "#edge_weight = edge_weight.to(device)\n",
    "#edge_weight.requires_grad = True\n",
    "#A = torch.sparse_coo_tensor(edge_index, edge_weight, 2 * [n]).to_dense()\n",
    "A.requires_grad = True\n",
    "t = NTK(X, A, model_dict).ntk\n",
    "ntk_labeled = t[idx_labeled,:][:,idx_labeled]\n",
    "ntk_unlabeled = t[idx_unlabeled,:][:,idx_labeled]\n",
    "M = torch.linalg.solve(ntk_labeled, ntk_unlabeled, left=False)\n",
    "y_pred = torch.matmul(M, (y[idx_labeled] * 2 - 1).to(dtype=torch.float64)) \n",
    "print(utils.accuracy(y_pred, y, idx_unlabeled))\n",
    "loss = F.binary_cross_entropy_with_logits(y_pred, y[idx_unlabeled].to(dtype=torch.float64))\n",
    "print(loss)\n",
    "loss.backward()\n",
    "print(A.grad)\n",
    "#print(edge_weight.grad)\n",
    "#print(edge_weight.grad.shape)"
   ]
  },
  {
   "cell_type": "code",
   "execution_count": 12,
   "metadata": {},
   "outputs": [
    {
     "name": "stderr",
     "output_type": "stream",
     "text": [
      "  0%|          | 0/10 [00:00<?, ?it/s]"
     ]
    },
    {
     "name": "stdout",
     "output_type": "stream",
     "text": [
      "tensor(0.4765, dtype=torch.float64,\n",
      "       grad_fn=<BinaryCrossEntropyWithLogitsBackward0>)\n",
      "tensor([1.0000e-07, 1.0000e-07, 1.0000e-07,  ..., 1.0000e-07, 1.0000e-07,\n",
      "        1.0000e-07], requires_grad=True)\n",
      "tensor([nan, nan, nan,  ..., nan, nan, nan])\n"
     ]
    },
    {
     "name": "stderr",
     "output_type": "stream",
     "text": [
      "\n"
     ]
    },
    {
     "ename": "TypeError",
     "evalue": "cannot unpack non-iterable NoneType object",
     "output_type": "error",
     "traceback": [
      "\u001b[0;31m---------------------------------------------------------------------------\u001b[0m",
      "\u001b[0;31mTypeError\u001b[0m                                 Traceback (most recent call last)",
      "\u001b[1;32m/nfs/homedirs/gosl/src/ntk-robust/ntk_gradient_attack.ipynb Cell 5\u001b[0m line \u001b[0;36m2\n\u001b[1;32m     <a href='vscode-notebook-cell://ssh-remote%2Bgpu3/nfs/homedirs/gosl/src/ntk-robust/ntk_gradient_attack.ipynb#X31sdnNjb2RlLXJlbW90ZQ%3D%3D?line=24'>25</a>\u001b[0m eps\u001b[39m=\u001b[39m\u001b[39m0.1\u001b[39m\n\u001b[1;32m     <a href='vscode-notebook-cell://ssh-remote%2Bgpu3/nfs/homedirs/gosl/src/ntk-robust/ntk_gradient_attack.ipynb#X31sdnNjb2RlLXJlbW90ZQ%3D%3D?line=25'>26</a>\u001b[0m n_pert \u001b[39m=\u001b[39m \u001b[39mint\u001b[39m(\u001b[39mround\u001b[39m(eps \u001b[39m*\u001b[39m count_edges_for_idx(A\u001b[39m.\u001b[39mcpu(), idx_target)))\n\u001b[0;32m---> <a href='vscode-notebook-cell://ssh-remote%2Bgpu3/nfs/homedirs/gosl/src/ntk-robust/ntk_gradient_attack.ipynb#X31sdnNjb2RlLXJlbW90ZQ%3D%3D?line=26'>27</a>\u001b[0m edge_index, edge_weight \u001b[39m=\u001b[39m attack\u001b[39m.\u001b[39mattack(n_pert)\n\u001b[1;32m     <a href='vscode-notebook-cell://ssh-remote%2Bgpu3/nfs/homedirs/gosl/src/ntk-robust/ntk_gradient_attack.ipynb#X31sdnNjb2RlLXJlbW90ZQ%3D%3D?line=27'>28</a>\u001b[0m A_pert \u001b[39m=\u001b[39m torch\u001b[39m.\u001b[39msparse_coo_tensor((edge_index, edge_weight), \u001b[39m2\u001b[39m \u001b[39m*\u001b[39m [n])\u001b[39m.\u001b[39mto_dense()\n\u001b[1;32m     <a href='vscode-notebook-cell://ssh-remote%2Bgpu3/nfs/homedirs/gosl/src/ntk-robust/ntk_gradient_attack.ipynb#X31sdnNjb2RlLXJlbW90ZQ%3D%3D?line=28'>29</a>\u001b[0m \u001b[39m# Computing NTK\u001b[39;00m\n\u001b[1;32m     <a href='vscode-notebook-cell://ssh-remote%2Bgpu3/nfs/homedirs/gosl/src/ntk-robust/ntk_gradient_attack.ipynb#X31sdnNjb2RlLXJlbW90ZQ%3D%3D?line=29'>30</a>\u001b[0m \u001b[39m#ntk_l = list()\u001b[39;00m\n\u001b[1;32m     <a href='vscode-notebook-cell://ssh-remote%2Bgpu3/nfs/homedirs/gosl/src/ntk-robust/ntk_gradient_attack.ipynb#X31sdnNjb2RlLXJlbW90ZQ%3D%3D?line=30'>31</a>\u001b[0m \u001b[39m#for eps in eps_l:\u001b[39;00m\n\u001b[1;32m     <a href='vscode-notebook-cell://ssh-remote%2Bgpu3/nfs/homedirs/gosl/src/ntk-robust/ntk_gradient_attack.ipynb#X31sdnNjb2RlLXJlbW90ZQ%3D%3D?line=31'>32</a>\u001b[0m \u001b[39m#    n_pert = int(round(eps * count_edges_for_idx(A, idx_target)))\u001b[39;00m\n\u001b[1;32m     <a href='vscode-notebook-cell://ssh-remote%2Bgpu3/nfs/homedirs/gosl/src/ntk-robust/ntk_gradient_attack.ipynb#X31sdnNjb2RlLXJlbW90ZQ%3D%3D?line=32'>33</a>\u001b[0m \u001b[39m#    A_pert = attack.attack(n_pert)\u001b[39;00m\n\u001b[1;32m     <a href='vscode-notebook-cell://ssh-remote%2Bgpu3/nfs/homedirs/gosl/src/ntk-robust/ntk_gradient_attack.ipynb#X31sdnNjb2RlLXJlbW90ZQ%3D%3D?line=33'>34</a>\u001b[0m \u001b[39m#    ntk_l.append(NTK(X, A_pert, model_dict))\u001b[39;00m\n",
      "\u001b[0;31mTypeError\u001b[0m: cannot unpack non-iterable NoneType object"
     ]
    }
   ],
   "source": [
    "rng = np.random.Generator(np.random.PCG64(seed))\n",
    "device_ = configure_hardware(device, seed)\n",
    "data_dict[\"K\"] = K\n",
    "# Sample\n",
    "X, A, y = get_graph(data_dict, seed=seed)\n",
    "X = torch.tensor(X, dtype=dtype, device=device_)\n",
    "A = torch.tensor(A, dtype=dtype, device=device_)\n",
    "y = torch.tensor(y, device=device_)\n",
    "# Trn / Test Split\n",
    "n_cls0 = sum(y == 0).cpu().item()\n",
    "n = len(y)\n",
    "idx_cls0 = rng.permutation(np.arange(n_cls0))\n",
    "idx_cls1 = rng.permutation(np.arange(n_cls0, n))\n",
    "n_trn = data_dict[\"n_per_class_trn\"]\n",
    "n_labeled = data_dict[\"n_per_class_labeled\"]\n",
    "idx_labeled = np.concatenate((idx_cls0[:n_labeled], idx_cls1[:n_labeled]))\n",
    "idx_unlabeled = np.concatenate((idx_cls0[n_labeled:], idx_cls1[n_labeled:]))\n",
    "idx_target = np.concatenate((idx_cls0[n_trn:], idx_cls1[n_trn:]))\n",
    "idx_unlabeled.sort()\n",
    "idx_target.sort()\n",
    "# Init Attack\n",
    "ntk = NTK(X, A, model_dict)\n",
    "attack = create_attack(idx_target, X, A, y, idx_labeled, idx_unlabeled, \n",
    "                       attack_params, seed, ntk, device=device_)\n",
    "eps=0.1\n",
    "n_pert = int(round(eps * count_edges_for_idx(A.cpu(), idx_target)))\n",
    "edge_index, edge_weight = attack.attack(n_pert)\n",
    "A_pert = torch.sparse_coo_tensor((edge_index, edge_weight), 2 * [n]).to_dense()\n",
    "# Computing NTK\n",
    "#ntk_l = list()\n",
    "#for eps in eps_l:\n",
    "#    n_pert = int(round(eps * count_edges_for_idx(A, idx_target)))\n",
    "#    A_pert = attack.attack(n_pert)\n",
    "#    ntk_l.append(NTK(X, A_pert, model_dict))"
   ]
  },
  {
   "cell_type": "code",
   "execution_count": null,
   "metadata": {},
   "outputs": [],
   "source": [
    "y_pred = ntk(X, A, y, idx_labeled, idx_unlabeled)\n",
    "utils.accuracy(y_pred, y, idx_unlabeled)\n",
    "y_pred = ntk(X, A_pert, y, idx_labeled, idx_unlabeled)\n",
    "utils.accuracy(y_pred, y, idx_unlabeled)"
   ]
  },
  {
   "cell_type": "code",
   "execution_count": 10,
   "metadata": {},
   "outputs": [
    {
     "data": {
      "text/plain": [
       "tensor(3.6705e+20, dtype=torch.float64)"
      ]
     },
     "execution_count": 10,
     "metadata": {},
     "output_type": "execute_result"
    }
   ],
   "source": [
    "# NTK inverse is unstable!\n",
    "M2 = ntk_unlabeled.matmul(torch.linalg.inv(ntk_labeled))\n",
    "torch.dist(ntk_labeled @ torch.linalg.inv(ntk_labeled), torch.eye(n_labeled*2))"
   ]
  },
  {
   "cell_type": "code",
   "execution_count": 9,
   "metadata": {},
   "outputs": [
    {
     "data": {
      "text/plain": [
       "torch.Size([400, 600])"
      ]
     },
     "execution_count": 9,
     "metadata": {},
     "output_type": "execute_result"
    }
   ],
   "source": [
    "M2.size()"
   ]
  },
  {
   "cell_type": "code",
   "execution_count": 35,
   "metadata": {},
   "outputs": [
    {
     "data": {
      "text/plain": [
       "torch.Size([400, 600])"
      ]
     },
     "execution_count": 35,
     "metadata": {},
     "output_type": "execute_result"
    }
   ],
   "source": [
    "t[idx_unlabeled,:][:,idx_labeled].shape"
   ]
  },
  {
   "cell_type": "code",
   "execution_count": 22,
   "metadata": {},
   "outputs": [],
   "source": [
    "ntk_dict = dict()\n",
    "device_ = configure_hardware(device, seed)\n",
    "data_dict[\"K\"] = K\n",
    "for model_dict in model_dict_l:\n",
    "    # Sample\n",
    "    X, A, y = get_graph(data_dict, seed=seed, sort=True)\n",
    "    X = torch.tensor(X, dtype=dtype, device=device_)\n",
    "    A = torch.tensor(A, dtype=dtype, device=device_)\n",
    "    y = torch.tensor(y, device=device_)\n",
    "    # Trn / Test Split\n",
    "    n_cls0 = sum(y == 0)\n",
    "    n = len(y)\n",
    "    idx_cls0 = rng.permutation(np.arange(n_cls0))\n",
    "    idx_cls1 = rng.permutation(np.arange(n_cls0, n))\n",
    "    n_trn = data_dict[\"n_per_class_trn\"]\n",
    "    n_labeled = data_dict[\"n_per_class_labeled\"]\n",
    "    idx_labeled = np.concatenate((idx_cls0[:n_labeled], idx_cls1[:n_labeled]))\n",
    "    idx_unlabeled = np.concatenate((idx_cls0[n_labeled:], idx_cls1[n_labeled:]))\n",
    "    idx_target = np.concatenate((idx_cls0[n_trn:], idx_cls1[n_trn:]))\n",
    "    # Init Attack\n",
    "    attack = create_attack(idx_target, X, A, y, attack_params, seed)\n",
    "    # Computing NTK\n",
    "    ntk_l = list()\n",
    "    for eps in eps_l:\n",
    "        n_pert = int(round(eps * count_edges_for_idx(A, idx_target)))\n",
    "        A_pert = attack.attack(n_pert)\n",
    "        ntk_l.append(NTK(X, A_pert, model_dict))\n",
    "    ntk_dict[model_dict[\"label\"]] = ntk_l"
   ]
  },
  {
   "cell_type": "code",
   "execution_count": 23,
   "metadata": {},
   "outputs": [
    {
     "data": {
      "image/png": "[encoded data removed]",
      "text/plain": [
       "<Figure size 432x288 with 1 Axes>"
      ]
     },
     "metadata": {
      "needs_background": "light"
     },
     "output_type": "display_data"
    }
   ],
   "source": [
    "plot_ntk_model_diff(ntk_dict, y, eps_l, attack_params[\"attack\"])"
   ]
  },
  {
   "cell_type": "code",
   "execution_count": 13,
   "metadata": {},
   "outputs": [
    {
     "data": {
      "image/png": "[encoded data removed]",
      "text/plain": [
       "<Figure size 432x288 with 1 Axes>"
      ]
     },
     "metadata": {
      "needs_background": "light"
     },
     "output_type": "display_data"
    }
   ],
   "source": [
    "plot_ntk_model_diff(ntk_dict, y, eps_l, attack_params[\"attack\"])"
   ]
  },
  {
   "cell_type": "code",
   "execution_count": 35,
   "metadata": {},
   "outputs": [
    {
     "name": "stdout",
     "output_type": "stream",
     "text": [
      "tensor([[0., 0.],\n",
      "        [1., 2.]])\n",
      "tensor([[0., 0.],\n",
      "        [1., 2.]], grad_fn=<ToDenseBackward0>)\n"
     ]
    }
   ],
   "source": [
    "t = torch.tensor([[0., 0], [1., 2.]])\n",
    "print(t)\n",
    "t_grad = t.to_sparse(sparse_dim=2)\n",
    "t_grad.requires_grad = True\n",
    "t_dense = t_grad.to_dense()\n",
    "print(t_dense)"
   ]
  },
  {
   "cell_type": "code",
   "execution_count": 36,
   "metadata": {},
   "outputs": [
    {
     "data": {
      "text/plain": [
       "tensor(indices=tensor([[1, 1],\n",
       "                       [0, 1]]),\n",
       "       values=tensor([1., 2.]),\n",
       "       size=(2, 2), nnz=2, layout=torch.sparse_coo, requires_grad=True)"
      ]
     },
     "execution_count": 36,
     "metadata": {},
     "output_type": "execute_result"
    }
   ],
   "source": [
    "t_grad"
   ]
  },
  {
   "cell_type": "code",
   "execution_count": 37,
   "metadata": {},
   "outputs": [],
   "source": [
    "ind = t.to_sparse(sparse_dim=2).indices()\n",
    "weight = t.to_sparse(sparse_dim=2).values()\n",
    "weight.requires_grad = True"
   ]
  },
  {
   "cell_type": "code",
   "execution_count": 39,
   "metadata": {},
   "outputs": [],
   "source": [
    "t = torch.sparse_coo_tensor(*(ind, weight), 2*[2])"
   ]
  },
  {
   "cell_type": "code",
   "execution_count": 41,
   "metadata": {},
   "outputs": [
    {
     "data": {
      "text/plain": [
       "tensor([[0., 0.],\n",
       "        [1., 2.]], grad_fn=<ToDenseBackward0>)"
      ]
     },
     "execution_count": 41,
     "metadata": {},
     "output_type": "execute_result"
    }
   ],
   "source": [
    "t.to_dense()"
   ]
  },
  {
   "cell_type": "code",
   "execution_count": null,
   "metadata": {},
   "outputs": [],
   "source": []
  }
 ],
 "metadata": {
  "kernelspec": {
   "display_name": "py397",
   "language": "python",
   "name": "python3"
  },
  "language_info": {
   "codemirror_mode": {
    "name": "ipython",
    "version": 3
   },
   "file_extension": ".py",
   "mimetype": "text/x-python",
   "name": "python",
   "nbconvert_exporter": "python",
   "pygments_lexer": "ipython3",
   "version": "3.11.5"
  },
  "orig_nbformat": 4
 },
 "nbformat": 4,
 "nbformat_minor": 2
}
