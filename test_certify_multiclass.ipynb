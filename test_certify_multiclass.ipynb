{
 "cells": [
  {
   "cell_type": "markdown",
   "metadata": {},
   "source": [
    "### Certify Poisoning (Multiclass)\n",
    "\n",
    "For Cora-ML (continous) dataset.\n",
    "\n",
    "Given parametrization corresponds to poison labeled setting on Cora-ML (continous)."
   ]
  },
  {
   "cell_type": "code",
   "execution_count": null,
   "metadata": {},
   "outputs": [],
   "source": [
    "import torch\n",
    "import numpy as np\n",
    "from exp_certify_multiclass import run"
   ]
  },
  {
   "cell_type": "code",
   "execution_count": null,
   "metadata": {},
   "outputs": [],
   "source": [
    "seed = 0\n",
    "\n",
    "data_params = dict(\n",
    "    dataset = \"cora_ml_cont_auto\",\n",
    "    learning_setting = \"transductive\", # or \"transdructive\"\n",
    "    specification = dict(\n",
    "        n_per_class = 10, # Results in 20 training nodes per class (10 trn + 10 val)\n",
    "        fraction_test = 0.01,\n",
    "        data_dir = \"./data\",\n",
    "        make_undirected = True,\n",
    "        binary_attr = False,\n",
    "        balance_test = True,\n",
    "        seed = 0\n",
    "    )\n",
    ")\n",
    "\n",
    "model_params = dict(\n",
    "    label = \"GCN\",\n",
    "    model = \"GCN\",\n",
    "    normalization = \"row_normalization\",\n",
    "    depth = 1,\n",
    "    regularizer = 0.05,\n",
    "    pred_method = \"svm\",\n",
    "    activation = \"relu\",\n",
    "    solver = \"qplayer_one_vs_all\",\n",
    "    alpha_tol = 1e-4,\n",
    "    bias = False,\n",
    ")\n",
    "\n",
    "certificate_params = dict(\n",
    "    n_adversarial = 140,\n",
    "    perturbation_model = \"l2\", \n",
    "    attack_nodes = \"train_val\", # Change to \"test\" for poison unlabeled setting \n",
    "    cert_method = \"bilevel_svm\",\n",
    "    delta = 0.01,\n",
    "    delta_absolute = True, \n",
    "    method = \"XXT\",\n",
    "    MIPFocus = 0,\n",
    "    LogToConsole = 1, # Set to 1 for detailed Gurobi Output/Log\n",
    "    OutputFlag = 1, # Set to 1 for detailed Gurobi Output/Log\n",
    "    TimeLimit = 64800,\n",
    "    target_idx = 1,\n",
    "    n_targets_per_class = 5,\n",
    ")\n",
    "\n",
    "verbosity_params = dict(\n",
    "    debug_lvl = \"warning\"\n",
    ")  \n",
    "\n",
    "other_params = dict(\n",
    "    device = \"cpu\",\n",
    "    debug = False,\n",
    "    dtype = torch.float64,\n",
    "    allow_tf32 = False,\n",
    "    path_gurobi_license=\"path/to/your/gurobi/license\"\n",
    ")"
   ]
  },
  {
   "cell_type": "code",
   "execution_count": null,
   "metadata": {},
   "outputs": [],
   "source": [
    "run(data_params, model_params, certificate_params, verbosity_params, other_params, seed)"
   ]
  },
  {
   "cell_type": "code",
   "execution_count": null,
   "metadata": {},
   "outputs": [],
   "source": []
  }
 ],
 "metadata": {
  "kernelspec": {
   "display_name": "py311_ntk",
   "language": "python",
   "name": "python3"
  },
  "language_info": {
   "codemirror_mode": {
    "name": "ipython",
    "version": 3
   },
   "file_extension": ".py",
   "mimetype": "text/x-python",
   "name": "python",
   "nbconvert_exporter": "python",
   "pygments_lexer": "ipython3",
   "version": "3.11.5"
  }
 },
 "nbformat": 4,
 "nbformat_minor": 2
}
