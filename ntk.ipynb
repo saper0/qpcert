{
 "cells": [
  {
   "cell_type": "code",
   "execution_count": 1,
   "metadata": {},
   "outputs": [],
   "source": [
    "%load_ext autoreload\n",
    "%autoreload 2"
   ]
  },
  {
   "cell_type": "code",
   "execution_count": 2,
   "metadata": {},
   "outputs": [
    {
     "name": "stderr",
     "output_type": "stream",
     "text": [
      "/Users/lukas/opt/miniconda3/envs/py310/lib/python3.10/site-packages/tqdm/auto.py:22: TqdmWarning: IProgress not found. Please update jupyter and ipywidgets. See https://ipywidgets.readthedocs.io/en/stable/user_install.html\n",
      "  from .autonotebook import tqdm as notebook_tqdm\n"
     ]
    }
   ],
   "source": [
    "from typing import Any, Dict\n",
    "\n",
    "import numpy as np\n",
    "import scipy.sparse as sp\n",
    "import torch\n",
    "from jaxtyping import Float, Integer\n",
    "\n",
    "from src.graph_models.csbm import CSBM\n",
    "from src.models.ntk import NTK"
   ]
  },
  {
   "cell_type": "code",
   "execution_count": 3,
   "metadata": {},
   "outputs": [],
   "source": [
    "def configure_hardware(device, seed: int):\n",
    "    torch.manual_seed(seed)\n",
    "    np.random.seed(seed)\n",
    "\n",
    "    # Hardware\n",
    "    #torch.backends.cuda.matmul.allow_tf32 = other_params[\"allow_tf32\"]\n",
    "    #torch.backends.cudnn.allow_tf32 = other_params[\"allow_tf32\"]\n",
    "    if not torch.cuda.is_available():\n",
    "        assert device == \"cpu\", \"CUDA is not availble, set device to 'cpu'\"\n",
    "    elif device == \"cpu\":\n",
    "        device = torch.device(\"cpu\")\n",
    "    else:\n",
    "        device = torch.device(f\"cuda:{device}\")\n",
    "\n",
    "    return device"
   ]
  },
  {
   "cell_type": "code",
   "execution_count": 4,
   "metadata": {},
   "outputs": [],
   "source": [
    "# Data\n",
    "classes = 2\n",
    "n = 1000\n",
    "#n_per_class_trn = 400\n",
    "K = 1.5\n",
    "sigma = 1\n",
    "avg_within_class_degree = 1.58 * 2\n",
    "avg_between_class_degree = 0.37 * 2\n",
    "seed = 42\n",
    "# Model\n",
    "model_dict = {\n",
    "    \"label\": \"GCN\",\n",
    "    \"model\": \"GCN\",\n",
    "    \"normalization\": \"row_normalization\",\n",
    "    \"depth\": 1,\n",
    "}\n",
    "# other\n",
    "device = \"cpu\"\n",
    "dtype = torch.float64\n"
   ]
  },
  {
   "cell_type": "code",
   "execution_count": 5,
   "metadata": {},
   "outputs": [],
   "source": [
    "def get_graph(sort: bool=True):\n",
    "    \"\"\"Return graph sampled from a CSBM.\n",
    "\n",
    "    If sort is true, X, A and y are sorted for class.\n",
    "    \n",
    "    Returns X, A, y.\"\"\"\n",
    "    csbm = CSBM(n, avg_within_class_degree, avg_between_class_degree, K, sigma, classes=classes)\n",
    "    X, A, y = csbm.sample(n, seed)\n",
    "    device_ = configure_hardware(device, seed)\n",
    "    X = torch.tensor(X, dtype=dtype, device=device_)\n",
    "    A = torch.tensor(A, dtype=dtype, device=device_)\n",
    "    y = torch.tensor(y, device=device_)\n",
    "    if sort:\n",
    "        _, idx = y.sort()\n",
    "        y = y[idx]\n",
    "        X = X[idx, :]\n",
    "        A = A[idx, :]\n",
    "        A = A[:, idx]\n",
    "    return X, A, y\n",
    "\n",
    "\n",
    "def row_normalize(A):\n",
    "    # Row normalize\n",
    "    S = torch.triu(A, diagonal=1) + torch.triu(A, diagonal=1).T\n",
    "    S.data[torch.arange(S.shape[0]), torch.arange(S.shape[0])] = 1\n",
    "    Deg_inv = torch.diag(torch.pow(S.sum(axis=1), - 1))\n",
    "    return Deg_inv @ S\n",
    "\n",
    "\n",
    "def get_diffusion(X, A, model_dict):\n",
    "    if model_dict[\"model\"] == \"GCN\":\n",
    "        if model_dict[\"normalization\"] == \"row_normalization\":\n",
    "            return row_normalize(A)\n",
    "        else:\n",
    "            raise NotImplementedError(\"Only row normalization for GCN implemented\")\n",
    "    else:\n",
    "        raise NotImplementedError(\"Only GCN architecture implemented\")"
   ]
  },
  {
   "cell_type": "code",
   "execution_count": 12,
   "metadata": {},
   "outputs": [
    {
     "name": "stdout",
     "output_type": "stream",
     "text": [
      "tensor([[ 2.7267,  1.9644,  1.0438,  ...,  1.3358,  3.7985,  1.2604],\n",
      "        [ 1.9644,  4.2664,  1.6084,  ...,  1.2780,  3.2808,  1.4220],\n",
      "        [ 1.0438,  1.6084,  2.5592,  ...,  1.3128,  3.0359,  1.2975],\n",
      "        ...,\n",
      "        [ 1.3358,  1.2780,  1.3128,  ...,  3.0045,  4.3059,  1.4304],\n",
      "        [ 3.7985,  3.2808,  3.0359,  ...,  4.3059, 55.5725,  4.0014],\n",
      "        [ 1.2604,  1.4220,  1.2975,  ...,  1.4304,  4.0014,  2.8405]],\n",
      "       dtype=torch.float64)\n"
     ]
    }
   ],
   "source": [
    "X, A, y = get_graph()\n",
    "S = get_diffusion(X, A, model_dict)\n",
    "# Computing NTK\n",
    "ntk = NTK(X, S, model_dict)\n",
    "print(ntk.get_ntk())"
   ]
  },
  {
   "cell_type": "code",
   "execution_count": 40,
   "metadata": {},
   "outputs": [
    {
     "ename": "NameError",
     "evalue": "name 'K_l' is not defined",
     "output_type": "error",
     "traceback": [
      "\u001b[0;31m---------------------------------------------------------------------------\u001b[0m",
      "\u001b[0;31mNameError\u001b[0m                                 Traceback (most recent call last)",
      "\u001b[1;32m/Users/lukas/src/ntk-robust/ntk.ipynb Cell 5\u001b[0m in \u001b[0;36m<cell line: 2>\u001b[0;34m()\u001b[0m\n\u001b[1;32m      <a href='vscode-notebook-cell:/Users/lukas/src/ntk-robust/ntk.ipynb#W4sZmlsZQ%3D%3D?line=0'>1</a>\u001b[0m ntk_dict \u001b[39m=\u001b[39m \u001b[39mdict\u001b[39m()\n\u001b[0;32m----> <a href='vscode-notebook-cell:/Users/lukas/src/ntk-robust/ntk.ipynb#W4sZmlsZQ%3D%3D?line=1'>2</a>\u001b[0m \u001b[39mfor\u001b[39;00m K \u001b[39min\u001b[39;00m K_l:\n\u001b[1;32m      <a href='vscode-notebook-cell:/Users/lukas/src/ntk-robust/ntk.ipynb#W4sZmlsZQ%3D%3D?line=2'>3</a>\u001b[0m     \u001b[39m# Sample\u001b[39;00m\n\u001b[1;32m      <a href='vscode-notebook-cell:/Users/lukas/src/ntk-robust/ntk.ipynb#W4sZmlsZQ%3D%3D?line=3'>4</a>\u001b[0m     X, A, y \u001b[39m=\u001b[39m get_graph()\n\u001b[1;32m      <a href='vscode-notebook-cell:/Users/lukas/src/ntk-robust/ntk.ipynb#W4sZmlsZQ%3D%3D?line=4'>5</a>\u001b[0m     S \u001b[39m=\u001b[39m get_diffusion(X, A, model_dict)\n",
      "\u001b[0;31mNameError\u001b[0m: name 'K_l' is not defined"
     ]
    }
   ],
   "source": [
    "ntk_dict = dict()\n",
    "for K in K_l:\n",
    "    # Sample\n",
    "    X, A, y = get_graph()\n",
    "    S = get_diffusion(X, A, model_dict)\n",
    "    # Computing NTK\n",
    "    ntk_l = list()\n",
    "    ntk_l.append(NTK(X, S, y))\n",
    "    for budget in budget_l:\n",
    "        A_pert = attack(ntk_l[0], budget, A)\n",
    "        S = get_diffusion(X, A_pert, model_dict)\n",
    "        ntk_l.append(get_ntk(X, S, y))\n",
    "    ntk_dict[K] = ntk_l"
   ]
  },
  {
   "cell_type": "code",
   "execution_count": 31,
   "metadata": {},
   "outputs": [
    {
     "name": "stdout",
     "output_type": "stream",
     "text": [
      "tensor([[ 2.7267,  1.9644,  1.0438,  ...,  1.3358,  3.7985,  1.2604],\n",
      "        [ 1.9644,  4.2664,  1.6084,  ...,  1.2780,  3.2808,  1.4220],\n",
      "        [ 1.0438,  1.6084,  2.5592,  ...,  1.3128,  3.0359,  1.2975],\n",
      "        ...,\n",
      "        [ 1.3358,  1.2780,  1.3128,  ...,  3.0045,  4.3059,  1.4304],\n",
      "        [ 3.7985,  3.2808,  3.0359,  ...,  4.3059, 55.5725,  4.0014],\n",
      "        [ 1.2604,  1.4220,  1.2975,  ...,  1.4304,  4.0014,  2.8405]],\n",
      "       dtype=torch.float64, requires_grad=True)\n",
      "tensor([[ 1.1366e+00,  8.8244e-16, -1.1094e-01,  ..., -5.1569e-02,\n",
      "          5.6345e+01, -1.3413e-01],\n",
      "        [ 4.4654e-02,  1.0000e+00, -3.3360e-03,  ..., -7.9349e-03,\n",
      "         -2.0054e+01, -5.6974e-02],\n",
      "        [-7.3329e-02,  1.6405e-17,  9.3669e-01,  ..., -3.9913e-02,\n",
      "          1.5123e+01,  6.6175e-02],\n",
      "        ...,\n",
      "        [ 4.6833e-03,  2.6712e-17, -7.0250e-03,  ...,  9.8531e-01,\n",
      "         -4.9789e+00, -4.4864e-03],\n",
      "        [-1.7053e-03, -9.5403e-18,  2.5580e-03,  ...,  4.4890e-03,\n",
      "          2.3734e+00,  1.6336e-03],\n",
      "        [ 1.8899e-02,  4.8033e-17, -2.8348e-02,  ..., -4.3571e-02,\n",
      "         -1.2058e+01,  9.8190e-01]], dtype=torch.float64,\n",
      "       grad_fn=<LinalgSolveBackward0>)\n"
     ]
    },
    {
     "name": "stderr",
     "output_type": "stream",
     "text": [
      "/var/folders/nq/7p94sd4n7nscrrmf4gr02g1h0000gn/T/ipykernel_9862/3127392114.py:5: UserWarning: To copy construct from a tensor, it is recommended to use sourceTensor.clone().detach() or sourceTensor.clone().detach().requires_grad_(True), rather than torch.tensor(sourceTensor).\n",
      "  ntk = torch.tensor(ntk, requires_grad=True)\n"
     ]
    }
   ],
   "source": [
    "X, A, y = get_graph()\n",
    "S = get_diffusion(X, A, model_dict)\n",
    "# Computing NTK\n",
    "ntk = get_ntk(X, S, y)\n",
    "ntk = torch.tensor(ntk, requires_grad=True)\n",
    "print(ntk)\n",
    "print(torch.linalg.solve(ntk, ntk))"
   ]
  },
  {
   "cell_type": "code",
   "execution_count": 25,
   "metadata": {},
   "outputs": [
    {
     "data": {
      "text/plain": [
       "tensor([[2.3422, 2.1270, 1.8070, 1.9502, 1.8146, 1.8291, 2.1270, 0.3346, 0.6418,\n",
       "         0.6739],\n",
       "        [2.1270, 2.2557, 1.7998, 2.1892, 1.8434, 1.8700, 2.2557, 0.3498, 0.6555,\n",
       "         0.6869],\n",
       "        [1.8070, 1.7998, 1.7244, 1.8478, 1.6246, 1.6060, 1.7998, 0.3339, 0.5820,\n",
       "         0.6269],\n",
       "        [1.9502, 2.1892, 1.8478, 2.7280, 1.9128, 1.8874, 2.1892, 0.3487, 0.6521,\n",
       "         0.6832],\n",
       "        [1.8146, 1.8434, 1.6246, 1.9128, 1.7926, 1.6244, 1.8434, 0.3150, 0.5751,\n",
       "         0.6105],\n",
       "        [1.8291, 1.8700, 1.6060, 1.8874, 1.6244, 1.6727, 1.8700, 0.3490, 0.6209,\n",
       "         0.6514],\n",
       "        [2.1270, 2.2557, 1.7998, 2.1892, 1.8434, 1.8700, 2.2557, 0.3498, 0.6555,\n",
       "         0.6869],\n",
       "        [0.3346, 0.3498, 0.3339, 0.3487, 0.3150, 0.3490, 0.3498, 0.3943, 0.4102,\n",
       "         0.3224],\n",
       "        [0.6418, 0.6555, 0.5820, 0.6521, 0.5751, 0.6209, 0.6555, 0.4102, 0.6231,\n",
       "         0.4319],\n",
       "        [0.6739, 0.6869, 0.6269, 0.6832, 0.6105, 0.6514, 0.6869, 0.3224, 0.4319,\n",
       "         0.4693]], dtype=torch.float64)"
      ]
     },
     "execution_count": 25,
     "metadata": {},
     "output_type": "execute_result"
    }
   ],
   "source": [
    "ntk"
   ]
  },
  {
   "cell_type": "code",
   "execution_count": 40,
   "metadata": {},
   "outputs": [
    {
     "data": {
      "text/plain": [
       "tensor([[2.3422, 0.6418, 1.8070, 1.9502, 1.8146, 0.3346, 2.1270, 1.8291, 2.1270,\n",
       "         0.6739],\n",
       "        [0.6418, 0.6231, 0.5820, 0.6521, 0.5751, 0.4102, 0.6555, 0.6209, 0.6555,\n",
       "         0.4319],\n",
       "        [1.8070, 0.5820, 1.7244, 1.8478, 1.6246, 0.3339, 1.7998, 1.6060, 1.7998,\n",
       "         0.6269],\n",
       "        [1.9502, 0.6521, 1.8478, 2.7280, 1.9128, 0.3487, 2.1892, 1.8874, 2.1892,\n",
       "         0.6832],\n",
       "        [1.8146, 0.5751, 1.6246, 1.9128, 1.7926, 0.3150, 1.8434, 1.6244, 1.8434,\n",
       "         0.6105],\n",
       "        [0.3346, 0.4102, 0.3339, 0.3487, 0.3150, 0.3943, 0.3498, 0.3490, 0.3498,\n",
       "         0.3224],\n",
       "        [2.1270, 0.6555, 1.7998, 2.1892, 1.8434, 0.3498, 2.2557, 1.8700, 2.2557,\n",
       "         0.6869],\n",
       "        [1.8291, 0.6209, 1.6060, 1.8874, 1.6244, 0.3490, 1.8700, 1.6727, 1.8700,\n",
       "         0.6514],\n",
       "        [2.1270, 0.6555, 1.7998, 2.1892, 1.8434, 0.3498, 2.2557, 1.8700, 2.2557,\n",
       "         0.6869],\n",
       "        [0.6739, 0.4319, 0.6269, 0.6832, 0.6105, 0.3224, 0.6869, 0.6514, 0.6869,\n",
       "         0.4693]], dtype=torch.float64)"
      ]
     },
     "execution_count": 40,
     "metadata": {},
     "output_type": "execute_result"
    }
   ],
   "source": [
    "kernel"
   ]
  },
  {
   "cell_type": "code",
   "execution_count": 19,
   "metadata": {},
   "outputs": [
    {
     "ename": "NameError",
     "evalue": "name 'kernel' is not defined",
     "output_type": "error",
     "traceback": [
      "\u001b[0;31m---------------------------------------------------------------------------\u001b[0m",
      "\u001b[0;31mNameError\u001b[0m                                 Traceback (most recent call last)",
      "\u001b[1;32m/Users/lukas/src/ntk-robust/ntk.ipynb Cell 9\u001b[0m in \u001b[0;36m<cell line: 1>\u001b[0;34m()\u001b[0m\n\u001b[0;32m----> <a href='vscode-notebook-cell:/Users/lukas/src/ntk-robust/ntk.ipynb#X12sZmlsZQ%3D%3D?line=0'>1</a>\u001b[0m kernel\n",
      "\u001b[0;31mNameError\u001b[0m: name 'kernel' is not defined"
     ]
    }
   ],
   "source": [
    "kernel"
   ]
  },
  {
   "cell_type": "code",
   "execution_count": null,
   "metadata": {},
   "outputs": [],
   "source": []
  }
 ],
 "metadata": {
  "kernelspec": {
   "display_name": "py397",
   "language": "python",
   "name": "python3"
  },
  "language_info": {
   "codemirror_mode": {
    "name": "ipython",
    "version": 3
   },
   "file_extension": ".py",
   "mimetype": "text/x-python",
   "name": "python",
   "nbconvert_exporter": "python",
   "pygments_lexer": "ipython3",
   "version": "3.10.4"
  },
  "orig_nbformat": 4
 },
 "nbformat": 4,
 "nbformat_minor": 2
}
