{
 "cells": [
  {
   "cell_type": "code",
   "execution_count": 23,
   "metadata": {},
   "outputs": [],
   "source": [
    "from typing import Any, Dict\n",
    "\n",
    "import numpy as np\n",
    "import scipy.sparse as sp\n",
    "import torch\n",
    "\n",
    "from src.graph_models.csbm import CSBM"
   ]
  },
  {
   "cell_type": "code",
   "execution_count": 24,
   "metadata": {},
   "outputs": [],
   "source": [
    "def configure_hardware(device, seed: int):\n",
    "    torch.manual_seed(seed)\n",
    "    np.random.seed(seed)\n",
    "\n",
    "    # Hardware\n",
    "    #torch.backends.cuda.matmul.allow_tf32 = other_params[\"allow_tf32\"]\n",
    "    #torch.backends.cudnn.allow_tf32 = other_params[\"allow_tf32\"]\n",
    "    if not torch.cuda.is_available():\n",
    "        assert device == \"cpu\", \"CUDA is not availble, set device to 'cpu'\"\n",
    "    elif device == \"cpu\":\n",
    "        device = torch.device(\"cpu\")\n",
    "    else:\n",
    "        device = torch.device(f\"cuda:{device}\")\n",
    "\n",
    "    return device\n",
    "\n"
   ]
  },
  {
   "cell_type": "code",
   "execution_count": 27,
   "metadata": {},
   "outputs": [],
   "source": [
    "# Data\n",
    "classes = 2\n",
    "n = 10\n",
    "#n_per_class_trn = 400\n",
    "K = 1.5\n",
    "sigma = 1\n",
    "avg_within_class_degree = 1.58 * 2\n",
    "avg_between_class_degree = 0.37 * 2\n",
    "seed = 42\n",
    "# Model\n",
    "depth = 1\n",
    "dtype = torch.float32"
   ]
  },
  {
   "cell_type": "code",
   "execution_count": 28,
   "metadata": {},
   "outputs": [],
   "source": [
    "csbm = CSBM(n, avg_within_class_degree, avg_between_class_degree, K, sigma, classes=classes)\n",
    "X, A, y = csbm.sample(n, seed)\n",
    "# Row normalize\n",
    "degree_l = np.sum(A, axis=1, dtype=np.float32)\n",
    "degree_inv_l = np.power(degree_l, -1)\n",
    "S = degree_inv_l[:,None] * A\n",
    "device = configure_hardware(0, seed)\n",
    "X = torch.tensor(X, dtype=dtype, device=device)\n",
    "S = torch.tensor(S, dtype=dtype, device=device)\n",
    "y = torch.tensor(y, device=device)"
   ]
  },
  {
   "cell_type": "code",
   "execution_count": 38,
   "metadata": {},
   "outputs": [],
   "source": [
    "# Computing NTK\n",
    "csigma = 1 # ReLU\n",
    "S_norm = torch.norm(S)\n",
    "XXT = X.matmul(X.T)\n",
    "Sig = S.matmul(XXT.matmul(S.T))\n",
    "kernel = torch.zeros((S.shape), dtype=dtype).to(device)\n",
    "p = torch.zeros((S.shape), dtype=dtype).to(device)"
   ]
  },
  {
   "cell_type": "code",
   "execution_count": 32,
   "metadata": {},
   "outputs": [],
   "source": [
    "Diag_Sig = torch.diagonal(Sig)"
   ]
  },
  {
   "cell_type": "code",
   "execution_count": 37,
   "metadata": {},
   "outputs": [
    {
     "data": {
      "text/plain": [
       "torch.Size([1, 10])"
      ]
     },
     "execution_count": 37,
     "metadata": {},
     "output_type": "execute_result"
    }
   ],
   "source": [
    "Diag_Sig.reshape(1, -1).shape"
   ]
  },
  {
   "cell_type": "code",
   "execution_count": null,
   "metadata": {},
   "outputs": [],
   "source": [
    "sig_i = p + "
   ]
  },
  {
   "cell_type": "code",
   "execution_count": 36,
   "metadata": {},
   "outputs": [
    {
     "data": {
      "text/plain": [
       "tensor([[4.3995],\n",
       "        [0.9830],\n",
       "        [1.9854],\n",
       "        [3.4234],\n",
       "        [2.4339],\n",
       "        [0.0201],\n",
       "        [2.4660],\n",
       "        [0.8422],\n",
       "        [1.5574],\n",
       "        [0.4527]], device='cuda:0')"
      ]
     },
     "execution_count": 36,
     "metadata": {},
     "output_type": "execute_result"
    }
   ],
   "source": [
    "Diag_Sig.reshape(-1, 1)"
   ]
  },
  {
   "cell_type": "code",
   "execution_count": 33,
   "metadata": {},
   "outputs": [
    {
     "data": {
      "text/plain": [
       "tensor([4.3995, 0.9830, 1.9854, 3.4234, 2.4339, 0.0201, 2.4660, 0.8422, 1.5574,\n",
       "        0.4527], device='cuda:0')"
      ]
     },
     "execution_count": 33,
     "metadata": {},
     "output_type": "execute_result"
    }
   ],
   "source": [
    "Diag_Sig"
   ]
  },
  {
   "cell_type": "code",
   "execution_count": null,
   "metadata": {},
   "outputs": [],
   "source": []
  }
 ],
 "metadata": {
  "kernelspec": {
   "display_name": "py397",
   "language": "python",
   "name": "python3"
  },
  "language_info": {
   "codemirror_mode": {
    "name": "ipython",
    "version": 3
   },
   "file_extension": ".py",
   "mimetype": "text/x-python",
   "name": "python",
   "nbconvert_exporter": "python",
   "pygments_lexer": "ipython3",
   "version": "3.9.7"
  },
  "orig_nbformat": 4
 },
 "nbformat": 4,
 "nbformat_minor": 2
}
