{
 "cells": [
  {
   "cell_type": "code",
   "execution_count": 2,
   "metadata": {},
   "outputs": [],
   "source": [
    "from typing import Any, Dict\n",
    "\n",
    "import numpy as np\n",
    "import scipy.sparse as sp\n",
    "import torch\n",
    "\n",
    "from src.graph_models.csbm import CSBM"
   ]
  },
  {
   "cell_type": "code",
   "execution_count": 8,
   "metadata": {},
   "outputs": [],
   "source": [
    "def configure_hardware(device, seed: int):\n",
    "    torch.manual_seed(seed)\n",
    "    np.random.seed(seed)\n",
    "\n",
    "    # Hardware\n",
    "    #torch.backends.cuda.matmul.allow_tf32 = other_params[\"allow_tf32\"]\n",
    "    #torch.backends.cudnn.allow_tf32 = other_params[\"allow_tf32\"]\n",
    "    if not torch.cuda.is_available():\n",
    "        assert device == \"cpu\", \"CUDA is not availble, set device to 'cpu'\"\n",
    "    elif device == \"cpu\":\n",
    "        device = torch.device(\"cpu\")\n",
    "    else:\n",
    "        device = torch.device(f\"cuda:{device}\")\n",
    "\n",
    "    return device\n",
    "\n",
    "def kappa_0(u, dtype, device):\n",
    "    z = torch.zeros((u.shape), dtype=dtype).to(device)\n",
    "    pi = torch.acos(z)*2\n",
    "    r = (pi - torch.acos(u)) / pi\n",
    "    r[r!=r] = 1.0\n",
    "    return r\n",
    "\n",
    "def kappa_1(u, dtype, device):\n",
    "    z = torch.zeros((u.shape), dtype=dtype).to(device)\n",
    "    pi = torch.acos(z) * 2\n",
    "    r = (u*(pi - torch.acos(u)) + torch.sqrt(1-u*u))/pi\n",
    "    r[r!=r] = 1.0\n",
    "    return r"
   ]
  },
  {
   "cell_type": "code",
   "execution_count": 66,
   "metadata": {},
   "outputs": [],
   "source": [
    "# Data\n",
    "classes = 2\n",
    "n = 10\n",
    "#n_per_class_trn = 400\n",
    "K = 1.5\n",
    "sigma = 1\n",
    "avg_within_class_degree = 1.58 * 2\n",
    "avg_between_class_degree = 0.37 * 2\n",
    "seed = 42\n",
    "# Model\n",
    "depth = 1\n",
    "# other\n",
    "device = \"cpu\"\n",
    "dtype = torch.float64\n"
   ]
  },
  {
   "cell_type": "code",
   "execution_count": 67,
   "metadata": {},
   "outputs": [],
   "source": [
    "# Sample\n",
    "csbm = CSBM(n, avg_within_class_degree, avg_between_class_degree, K, sigma, classes=classes)\n",
    "X, A, y = csbm.sample(n, seed)\n",
    "device = configure_hardware(device, seed)\n",
    "X = torch.tensor(X, dtype=dtype, device=device)\n",
    "A = torch.tensor(A, dtype=dtype, device=device)\n",
    "y = torch.tensor(y, device=device)\n",
    "# Row normalize\n",
    "S = torch.triu(A, diagonal=1) + torch.triu(A, diagonal=1).T\n",
    "S.data[torch.arange(S.shape[0]), torch.arange(S.shape[0])] = 1\n",
    "Deg_inv = torch.diag(torch.pow(S.sum(axis=1), - 1))\n",
    "S = Deg_inv @ S\n",
    "\n",
    "# Computing NTK\n",
    "csigma = 1 # ReLU\n",
    "S_norm = torch.norm(S)\n",
    "XXT = X.matmul(X.T)\n",
    "Sig = S.matmul(XXT.matmul(S.T))\n",
    "kernel = torch.zeros((S.shape), dtype=dtype).to(device)\n",
    "# ReLu GCN\n",
    "kernel_sub = torch.zeros((depth, S.shape[0], S.shape[1]), dtype=dtype).to(device)\n",
    "for i in range(depth):\n",
    "    p = torch.zeros((S.shape), dtype=dtype).to(device)\n",
    "    Diag_Sig = torch.diagonal(Sig) \n",
    "    Sig_i = p + Diag_Sig.reshape(1, -1)\n",
    "    Sig_j = p + Diag_Sig.reshape(-1, 1)\n",
    "    q = torch.sqrt(Sig_i * Sig_j)\n",
    "    u = Sig/q # why normalization?\n",
    "    E = (q * kappa_1(u, dtype, device)) * csigma\n",
    "    E_der = (kappa_0(u, dtype, device)) * csigma\n",
    "    kernel_der = (S.matmul(S.T)) * E_der\n",
    "    kernel_sub[i] += Sig * kernel_der\n",
    "    E = E.double()\n",
    "    Sig = S.matmul(E.matmul(S.T))\n",
    "    for j in range(i):\n",
    "        kernel_sub[j] *= kernel_der\n",
    "kernel += torch.sum(kernel_sub, dim=0)\n",
    "kernel += Sig\n",
    "\n",
    "# Sort kernel\n",
    "_, idx = y.sort()\n",
    "K = kernel[idx, :]\n",
    "K = K[:, idx]"
   ]
  },
  {
   "cell_type": "code",
   "execution_count": 68,
   "metadata": {},
   "outputs": [
    {
     "name": "stdout",
     "output_type": "stream",
     "text": [
      "tensor([[2.3422, 1.8070, 1.9502, 1.8146, 2.1270, 1.8291, 2.1270, 0.6418, 0.3346,\n",
      "         0.6739],\n",
      "        [1.8070, 1.7244, 1.8478, 1.6246, 1.7998, 1.6060, 1.7998, 0.5820, 0.3339,\n",
      "         0.6269],\n",
      "        [1.9502, 1.8478, 2.7280, 1.9128, 2.1892, 1.8874, 2.1892, 0.6521, 0.3487,\n",
      "         0.6832],\n",
      "        [1.8146, 1.6246, 1.9128, 1.7926, 1.8434, 1.6244, 1.8434, 0.5751, 0.3150,\n",
      "         0.6105],\n",
      "        [2.1270, 1.7998, 2.1892, 1.8434, 2.2557, 1.8700, 2.2557, 0.6555, 0.3498,\n",
      "         0.6869],\n",
      "        [1.8291, 1.6060, 1.8874, 1.6244, 1.8700, 1.6727, 1.8700, 0.6209, 0.3490,\n",
      "         0.6514],\n",
      "        [2.1270, 1.7998, 2.1892, 1.8434, 2.2557, 1.8700, 2.2557, 0.6555, 0.3498,\n",
      "         0.6869],\n",
      "        [0.6418, 0.5820, 0.6521, 0.5751, 0.6555, 0.6209, 0.6555, 0.6231, 0.4102,\n",
      "         0.4319],\n",
      "        [0.3346, 0.3339, 0.3487, 0.3150, 0.3498, 0.3490, 0.3498, 0.4102, 0.3943,\n",
      "         0.3224],\n",
      "        [0.6739, 0.6269, 0.6832, 0.6105, 0.6869, 0.6514, 0.6869, 0.4319, 0.3224,\n",
      "         0.4693]], dtype=torch.float64)\n"
     ]
    }
   ],
   "source": [
    "print(K)"
   ]
  },
  {
   "cell_type": "code",
   "execution_count": 57,
   "metadata": {},
   "outputs": [
    {
     "name": "stdout",
     "output_type": "stream",
     "text": [
      "tensor([0, 2, 1, 3])\n",
      "tensor([0, 1, 0, 1])\n",
      "tensor([[ 1.0311, -0.7048,  1.0131, -0.3308],\n",
      "        [ 0.5177,  0.3878, -0.5797, -0.1691],\n",
      "        [-0.5733,  0.5069, -0.4752, -0.4920],\n",
      "        [ 0.2704, -0.5628,  0.6793,  0.4405]])\n",
      "tensor([[ 1.0311,  1.0131, -0.7048, -0.3308],\n",
      "        [-0.5733, -0.4752,  0.5069, -0.4920],\n",
      "        [ 0.5177, -0.5797,  0.3878, -0.1691],\n",
      "        [ 0.2704,  0.6793, -0.5628,  0.4405]])\n"
     ]
    }
   ],
   "source": [
    "x = torch.tensor([0, 1] * 2)\n",
    "x, idx = x.sort()\n",
    "A = torch.randn(4, 4)\n",
    "print(idx)\n",
    "print(x[idx])\n",
    "print(A)\n",
    "B = A[idx, :]\n",
    "B = B[:, idx]\n",
    "print(B)"
   ]
  },
  {
   "cell_type": "code",
   "execution_count": 34,
   "metadata": {},
   "outputs": [
    {
     "data": {
      "text/plain": [
       "tensor([[2.3422, 0.6418, 1.8070, 1.9502, 1.8146, 0.3346, 2.1270, 1.8291, 2.1270,\n",
       "         0.6739],\n",
       "        [0.6418, 0.6231, 0.5820, 0.6521, 0.5751, 0.4102, 0.6555, 0.6209, 0.6555,\n",
       "         0.4319],\n",
       "        [1.8070, 0.5820, 1.7244, 1.8478, 1.6246, 0.3339, 1.7998, 1.6060, 1.7998,\n",
       "         0.6269],\n",
       "        [1.9502, 0.6521, 1.8478, 2.7280, 1.9128, 0.3487, 2.1892, 1.8874, 2.1892,\n",
       "         0.6832],\n",
       "        [1.8146, 0.5751, 1.6246, 1.9128, 1.7926, 0.3150, 1.8434, 1.6244, 1.8434,\n",
       "         0.6105],\n",
       "        [0.3346, 0.4102, 0.3339, 0.3487, 0.3150, 0.3943, 0.3498, 0.3490, 0.3498,\n",
       "         0.3224],\n",
       "        [2.1270, 0.6555, 1.7998, 2.1892, 1.8434, 0.3498, 2.2557, 1.8700, 2.2557,\n",
       "         0.6869],\n",
       "        [1.8291, 0.6209, 1.6060, 1.8874, 1.6244, 0.3490, 1.8700, 1.6727, 1.8700,\n",
       "         0.6514],\n",
       "        [2.1270, 0.6555, 1.7998, 2.1892, 1.8434, 0.3498, 2.2557, 1.8700, 2.2557,\n",
       "         0.6869],\n",
       "        [0.6739, 0.4319, 0.6269, 0.6832, 0.6105, 0.3224, 0.6869, 0.6514, 0.6869,\n",
       "         0.4693]], dtype=torch.float64)"
      ]
     },
     "execution_count": 34,
     "metadata": {},
     "output_type": "execute_result"
    }
   ],
   "source": [
    "kernel"
   ]
  },
  {
   "cell_type": "code",
   "execution_count": 40,
   "metadata": {},
   "outputs": [
    {
     "data": {
      "text/plain": [
       "tensor([[2.3422, 0.6418, 1.8070, 1.9502, 1.8146, 0.3346, 2.1270, 1.8291, 2.1270,\n",
       "         0.6739],\n",
       "        [0.6418, 0.6231, 0.5820, 0.6521, 0.5751, 0.4102, 0.6555, 0.6209, 0.6555,\n",
       "         0.4319],\n",
       "        [1.8070, 0.5820, 1.7244, 1.8478, 1.6246, 0.3339, 1.7998, 1.6060, 1.7998,\n",
       "         0.6269],\n",
       "        [1.9502, 0.6521, 1.8478, 2.7280, 1.9128, 0.3487, 2.1892, 1.8874, 2.1892,\n",
       "         0.6832],\n",
       "        [1.8146, 0.5751, 1.6246, 1.9128, 1.7926, 0.3150, 1.8434, 1.6244, 1.8434,\n",
       "         0.6105],\n",
       "        [0.3346, 0.4102, 0.3339, 0.3487, 0.3150, 0.3943, 0.3498, 0.3490, 0.3498,\n",
       "         0.3224],\n",
       "        [2.1270, 0.6555, 1.7998, 2.1892, 1.8434, 0.3498, 2.2557, 1.8700, 2.2557,\n",
       "         0.6869],\n",
       "        [1.8291, 0.6209, 1.6060, 1.8874, 1.6244, 0.3490, 1.8700, 1.6727, 1.8700,\n",
       "         0.6514],\n",
       "        [2.1270, 0.6555, 1.7998, 2.1892, 1.8434, 0.3498, 2.2557, 1.8700, 2.2557,\n",
       "         0.6869],\n",
       "        [0.6739, 0.4319, 0.6269, 0.6832, 0.6105, 0.3224, 0.6869, 0.6514, 0.6869,\n",
       "         0.4693]], dtype=torch.float64)"
      ]
     },
     "execution_count": 40,
     "metadata": {},
     "output_type": "execute_result"
    }
   ],
   "source": [
    "kernel"
   ]
  },
  {
   "cell_type": "code",
   "execution_count": null,
   "metadata": {},
   "outputs": [],
   "source": []
  }
 ],
 "metadata": {
  "kernelspec": {
   "display_name": "py397",
   "language": "python",
   "name": "python3"
  },
  "language_info": {
   "codemirror_mode": {
    "name": "ipython",
    "version": 3
   },
   "file_extension": ".py",
   "mimetype": "text/x-python",
   "name": "python",
   "nbconvert_exporter": "python",
   "pygments_lexer": "ipython3",
   "version": "3.9.7"
  },
  "orig_nbformat": 4
 },
 "nbformat": 4,
 "nbformat_minor": 2
}
