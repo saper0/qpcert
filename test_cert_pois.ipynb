{
 "cells": [
  {
   "cell_type": "code",
   "execution_count": 1,
   "metadata": {},
   "outputs": [],
   "source": [
    "%load_ext autoreload\n",
    "%autoreload 2"
   ]
  },
  {
   "cell_type": "code",
   "execution_count": 2,
   "metadata": {},
   "outputs": [],
   "source": [
    "import torch\n",
    "import numpy as np\n",
    "from exp_ntk_cert_pois import run"
   ]
  },
  {
   "cell_type": "code",
   "execution_count": 3,
   "metadata": {},
   "outputs": [],
   "source": [
    "seed = 4\n",
    "\n",
    "data_params = dict(\n",
    "    dataset = \"csbm\",\n",
    "    learning_setting = \"transductive\", # or \"transdructive\"\n",
    "    specification = dict(\n",
    "        classes = 2,\n",
    "        n_trn_labeled = 40, \n",
    "        n_trn_unlabeled = 0,\n",
    "        n_val = 40,\n",
    "        n_test = 120,\n",
    "        sigma = 1,\n",
    "        avg_within_class_degree = 1.58 * 2,\n",
    "        avg_between_class_degree = 0.37 * 2,\n",
    "        K = 1.5,\n",
    "        seed = 4 # used to generate the dataset & data split\n",
    "    )\n",
    ")\n",
    "\n",
    "model_params = dict(\n",
    "    label = \"GCN\",\n",
    "    model = \"GCN\",\n",
    "    normalization = \"row_normalization\",\n",
    "    depth = 1,\n",
    "    #regularizer = 1e-8\n",
    "    regularizer = 1,\n",
    "    pred_method = \"svm\",\n",
    "    activation = \"relu\"\n",
    ")\n",
    "\n",
    "certificate_params = dict(\n",
    "    n_adversarial = 1, # number adversarial nodes\n",
    "    perturbation_model = \"linf\",\n",
    "    delta = 0.01 # l0: local budget = delta * feature_dim\n",
    ")\n",
    "\n",
    "verbosity_params = dict(\n",
    "    debug_lvl = \"warning\"\n",
    ")  \n",
    "\n",
    "other_params = dict(\n",
    "    device = \"cpu\",\n",
    "    dtype = torch.float64,\n",
    "    allow_tf32 = False\n",
    ")"
   ]
  },
  {
   "cell_type": "code",
   "execution_count": 4,
   "metadata": {},
   "outputs": [
    {
     "name": "stderr",
     "output_type": "stream",
     "text": [
      "2024-04-14 19:32:49 (INFO): Starting experiment exp_ntk_cert_pois with configuration:\n",
      "2024-04-14 19:32:49 (INFO): data_params: {'dataset': 'csbm', 'learning_setting': 'transductive', 'specification': {'classes': 2, 'n_trn_labeled': 40, 'n_trn_unlabeled': 0, 'n_val': 40, 'n_test': 120, 'sigma': 1, 'avg_within_class_degree': 3.16, 'avg_between_class_degree': 0.74, 'K': 1.5, 'seed': 4}}\n",
      "2024-04-14 19:32:49 (INFO): model_params: {'label': 'GCN', 'model': 'GCN', 'normalization': 'row_normalization', 'depth': 1, 'regularizer': 0.001, 'pred_method': 'svm', 'activation': 'relu', 'solver': 'qplayer', 'alpha_tol': 0.0001, 'bias': False}\n",
      "2024-04-14 19:32:49 (INFO): certification_params: {'n_adversarial': 10, 'perturbation_model': 'linf', 'delta': 0.1, 'delta_absolute': False, 'method': 'XXT', 'attack_nodes': 'test'}\n",
      "2024-04-14 19:32:49 (INFO): verbosity_params: {'debug_lvl': 'info'}\n",
      "2024-04-14 19:32:49 (INFO): other_params: {'device': 'cpu', 'dtype': torch.float64, 'allow_tf32': False, 'debug': False, 'path_gurobi_license': '/ceph/ssd/staff/gosl/app/gurobi.lic'}\n",
      "2024-04-14 19:32:49 (INFO): seed: 4\n",
      "2024-04-14 19:32:49 (INFO): CSBM(p=0.03176, q=0.00744)\n",
      "2024-04-14 19:32:50 (INFO): Delta: 0.0567\n",
      "2024-04-14 19:32:50 (INFO): Test accuracy: 0.824999988079071\n",
      "2024-04-14 19:32:50 (INFO): Train accuracy: 0.887499988079071\n",
      "2024-04-14 19:32:50 (INFO): Accuracy_lb_test: 0.7916666865348816\n",
      "2024-04-14 19:32:50 (INFO): Accuracy_ub_test: 0.7833333611488342\n",
      "2024-04-14 19:32:50 (INFO): Accuracy_lb_trn: 0.8999999761581421\n",
      "2024-04-14 19:32:50 (INFO): Accuracy_ub_trn: 0.862500011920929\n",
      "2024-04-14 19:32:50 (INFO): Certified accuracy (evasion): 0.8583333492279053\n",
      "2024-04-14 19:32:50 (INFO): Certified accuracy (evasion, trivial): 0.45\n",
      "2024-04-14 19:32:50 (INFO): Certified unrobustness (evasion): 0.0\n"
     ]
    },
    {
     "name": "stdout",
     "output_type": "stream",
     "text": [
      "CSBM mu:\n",
      "[0.28347334 0.28347334 0.28347334 0.28347334 0.28347334 0.28347334\n",
      " 0.28347334]\n",
      "80 alphas found: ['0.0010', '0.0010', '0.0010', '0.0010', '0.0010', '0.0010', '0.0010', '0.0010', '0.0010', '0.0010', '0.0010', '0.0010', '0.0010', '0.0010', '0.0010', '0.0010', '0.0010', '0.0010', '0.0010', '0.0010', '0.0010', '0.0010', '0.0010', '0.0010', '0.0010', '0.0010', '0.0010', '0.0010', '0.0010', '0.0010', '0.0010', '0.0010', '0.0010', '0.0010', '0.0010', '0.0010', '0.0010', '0.0010', '0.0010', '0.0010', '0.0010', '0.0010', '0.0010', '0.0010', '0.0010', '0.0010', '0.0010', '0.0010', '0.0010', '0.0010', '0.0010', '0.0010', '0.0010', '0.0010', '0.0010', '0.0010', '0.0010', '0.0010', '0.0010', '0.0010', '0.0010', '0.0010', '0.0010', '0.0010', '0.0010', '0.0010', '0.0010', '0.0010', '0.0010', '0.0010', '0.0010', '0.0010', '0.0010', '0.0010', '0.0010', '0.0010', '0.0010', '0.0010', '0.0010', '0.0010']\n",
      "Set parameter Username\n"
     ]
    },
    {
     "name": "stderr",
     "output_type": "stream",
     "text": [
      "2024-04-14 19:32:50 (INFO): Set parameter Username\n"
     ]
    },
    {
     "name": "stdout",
     "output_type": "stream",
     "text": [
      "Academic license - for non-commercial use only - expires 2025-03-26\n"
     ]
    },
    {
     "name": "stderr",
     "output_type": "stream",
     "text": [
      "2024-04-14 19:32:50 (INFO): Academic license - for non-commercial use only - expires 2025-03-26\n"
     ]
    },
    {
     "name": "stdout",
     "output_type": "stream",
     "text": [
      "Set parameter BestObjStop to value 0\n"
     ]
    },
    {
     "name": "stderr",
     "output_type": "stream",
     "text": [
      "2024-04-14 19:32:50 (INFO): Set parameter BestObjStop to value 0\n"
     ]
    },
    {
     "name": "stdout",
     "output_type": "stream",
     "text": [
      "Set parameter IntegralityFocus to value 1\n"
     ]
    },
    {
     "name": "stderr",
     "output_type": "stream",
     "text": [
      "2024-04-14 19:32:50 (INFO): Set parameter IntegralityFocus to value 1\n"
     ]
    },
    {
     "name": "stdout",
     "output_type": "stream",
     "text": [
      "Set parameter IntFeasTol to value 0.0001\n"
     ]
    },
    {
     "name": "stderr",
     "output_type": "stream",
     "text": [
      "2024-04-14 19:32:50 (INFO): Set parameter IntFeasTol to value 0.0001\n",
      "2024-04-14 19:32:50 (INFO): Optimization status: 2\n",
      "2024-04-14 19:32:50 (INFO): Original -0.01907, Opt objective -0.01233\n",
      "2024-04-14 19:32:50 (INFO): Robust count 1 out of 1\n"
     ]
    },
    {
     "name": "stdout",
     "output_type": "stream",
     "text": [
      "Loaded user MIP start with objective -0.0190701\n",
      "\n",
      "Set parameter BestObjStop to value 0\n"
     ]
    },
    {
     "name": "stderr",
     "output_type": "stream",
     "text": [
      "2024-04-14 19:32:51 (INFO): Set parameter BestObjStop to value 0\n"
     ]
    },
    {
     "name": "stdout",
     "output_type": "stream",
     "text": [
      "Set parameter IntegralityFocus to value 1\n"
     ]
    },
    {
     "name": "stderr",
     "output_type": "stream",
     "text": [
      "2024-04-14 19:32:51 (INFO): Set parameter IntegralityFocus to value 1\n"
     ]
    },
    {
     "name": "stdout",
     "output_type": "stream",
     "text": [
      "Set parameter IntFeasTol to value 0.0001\n"
     ]
    },
    {
     "name": "stderr",
     "output_type": "stream",
     "text": [
      "2024-04-14 19:32:51 (INFO): Set parameter IntFeasTol to value 0.0001\n",
      "2024-04-14 19:32:51 (INFO): Optimization status: 2\n",
      "2024-04-14 19:32:51 (INFO): Original -0.02216, Opt objective -0.02053\n",
      "2024-04-14 19:32:51 (INFO): Robust count 2 out of 2\n"
     ]
    },
    {
     "name": "stdout",
     "output_type": "stream",
     "text": [
      "Loaded user MIP start with objective -0.0221559\n",
      "\n",
      "Set parameter BestObjStop to value 0\n"
     ]
    },
    {
     "name": "stderr",
     "output_type": "stream",
     "text": [
      "2024-04-14 19:32:51 (INFO): Set parameter BestObjStop to value 0\n"
     ]
    },
    {
     "name": "stdout",
     "output_type": "stream",
     "text": [
      "Set parameter IntegralityFocus to value 1\n"
     ]
    },
    {
     "name": "stderr",
     "output_type": "stream",
     "text": [
      "2024-04-14 19:32:51 (INFO): Set parameter IntegralityFocus to value 1\n"
     ]
    },
    {
     "name": "stdout",
     "output_type": "stream",
     "text": [
      "Set parameter IntFeasTol to value 0.0001\n"
     ]
    },
    {
     "name": "stderr",
     "output_type": "stream",
     "text": [
      "2024-04-14 19:32:51 (INFO): Set parameter IntFeasTol to value 0.0001\n",
      "2024-04-14 19:32:51 (INFO): Optimization status: 2\n",
      "2024-04-14 19:32:51 (INFO): Original 0.01562, Opt objective 0.01177\n",
      "2024-04-14 19:32:51 (INFO): Robust count 3 out of 3\n"
     ]
    },
    {
     "name": "stdout",
     "output_type": "stream",
     "text": [
      "Loaded user MIP start with objective 0.0156189\n",
      "\n",
      "Set parameter BestObjStop to value 0\n"
     ]
    },
    {
     "name": "stderr",
     "output_type": "stream",
     "text": [
      "2024-04-14 19:32:52 (INFO): Set parameter BestObjStop to value 0\n"
     ]
    },
    {
     "name": "stdout",
     "output_type": "stream",
     "text": [
      "Set parameter IntegralityFocus to value 1\n"
     ]
    },
    {
     "name": "stderr",
     "output_type": "stream",
     "text": [
      "2024-04-14 19:32:52 (INFO): Set parameter IntegralityFocus to value 1\n"
     ]
    },
    {
     "name": "stdout",
     "output_type": "stream",
     "text": [
      "Set parameter IntFeasTol to value 0.0001\n"
     ]
    },
    {
     "name": "stderr",
     "output_type": "stream",
     "text": [
      "2024-04-14 19:32:52 (INFO): Set parameter IntFeasTol to value 0.0001\n",
      "2024-04-14 19:32:52 (INFO): Optimization status: 2\n",
      "2024-04-14 19:32:52 (INFO): Original -0.01690, Opt objective -0.01542\n",
      "2024-04-14 19:32:52 (INFO): Robust count 4 out of 4\n"
     ]
    },
    {
     "name": "stdout",
     "output_type": "stream",
     "text": [
      "Loaded user MIP start with objective -0.0169019\n",
      "\n",
      "Set parameter BestObjStop to value 0\n"
     ]
    },
    {
     "name": "stderr",
     "output_type": "stream",
     "text": [
      "2024-04-14 19:32:52 (INFO): Set parameter BestObjStop to value 0\n"
     ]
    },
    {
     "name": "stdout",
     "output_type": "stream",
     "text": [
      "Set parameter IntegralityFocus to value 1\n"
     ]
    },
    {
     "name": "stderr",
     "output_type": "stream",
     "text": [
      "2024-04-14 19:32:52 (INFO): Set parameter IntegralityFocus to value 1\n"
     ]
    },
    {
     "name": "stdout",
     "output_type": "stream",
     "text": [
      "Set parameter IntFeasTol to value 0.0001\n"
     ]
    },
    {
     "name": "stderr",
     "output_type": "stream",
     "text": [
      "2024-04-14 19:32:52 (INFO): Set parameter IntFeasTol to value 0.0001\n",
      "2024-04-14 19:32:53 (INFO): Optimization status: 2\n",
      "2024-04-14 19:32:53 (INFO): Original 0.00235, Opt objective 0.00046\n",
      "2024-04-14 19:32:53 (INFO): Robust count 5 out of 5\n"
     ]
    },
    {
     "name": "stdout",
     "output_type": "stream",
     "text": [
      "Loaded user MIP start with objective 0.00235101\n",
      "\n",
      "Set parameter BestObjStop to value 0\n"
     ]
    },
    {
     "name": "stderr",
     "output_type": "stream",
     "text": [
      "2024-04-14 19:32:53 (INFO): Set parameter BestObjStop to value 0\n"
     ]
    },
    {
     "name": "stdout",
     "output_type": "stream",
     "text": [
      "Set parameter IntegralityFocus to value 1\n"
     ]
    },
    {
     "name": "stderr",
     "output_type": "stream",
     "text": [
      "2024-04-14 19:32:53 (INFO): Set parameter IntegralityFocus to value 1\n"
     ]
    },
    {
     "name": "stdout",
     "output_type": "stream",
     "text": [
      "Set parameter IntFeasTol to value 0.0001\n"
     ]
    },
    {
     "name": "stderr",
     "output_type": "stream",
     "text": [
      "2024-04-14 19:32:53 (INFO): Set parameter IntFeasTol to value 0.0001\n",
      "2024-04-14 19:32:53 (INFO): Optimization status: 2\n",
      "2024-04-14 19:32:53 (INFO): Original -0.05762, Opt objective -0.05566\n",
      "2024-04-14 19:32:53 (INFO): Robust count 6 out of 6\n"
     ]
    },
    {
     "name": "stdout",
     "output_type": "stream",
     "text": [
      "Loaded user MIP start with objective -0.0576238\n",
      "\n",
      "Set parameter BestObjStop to value 0\n"
     ]
    },
    {
     "name": "stderr",
     "output_type": "stream",
     "text": [
      "2024-04-14 19:32:54 (INFO): Set parameter BestObjStop to value 0\n"
     ]
    },
    {
     "name": "stdout",
     "output_type": "stream",
     "text": [
      "Set parameter IntegralityFocus to value 1\n"
     ]
    },
    {
     "name": "stderr",
     "output_type": "stream",
     "text": [
      "2024-04-14 19:32:54 (INFO): Set parameter IntegralityFocus to value 1\n"
     ]
    },
    {
     "name": "stdout",
     "output_type": "stream",
     "text": [
      "Set parameter IntFeasTol to value 0.0001\n"
     ]
    },
    {
     "name": "stderr",
     "output_type": "stream",
     "text": [
      "2024-04-14 19:32:54 (INFO): Set parameter IntFeasTol to value 0.0001\n",
      "2024-04-14 19:32:54 (INFO): Optimization status: 2\n",
      "2024-04-14 19:32:54 (INFO): Original -0.02406, Opt objective -0.01996\n",
      "2024-04-14 19:32:54 (INFO): Robust count 7 out of 7\n"
     ]
    },
    {
     "name": "stdout",
     "output_type": "stream",
     "text": [
      "Loaded user MIP start with objective -0.0240616\n",
      "\n",
      "Set parameter BestObjStop to value 0\n"
     ]
    },
    {
     "name": "stderr",
     "output_type": "stream",
     "text": [
      "2024-04-14 19:32:54 (INFO): Set parameter BestObjStop to value 0\n"
     ]
    },
    {
     "name": "stdout",
     "output_type": "stream",
     "text": [
      "Set parameter IntegralityFocus to value 1\n"
     ]
    },
    {
     "name": "stderr",
     "output_type": "stream",
     "text": [
      "2024-04-14 19:32:54 (INFO): Set parameter IntegralityFocus to value 1\n"
     ]
    },
    {
     "name": "stdout",
     "output_type": "stream",
     "text": [
      "Set parameter IntFeasTol to value 0.0001\n"
     ]
    },
    {
     "name": "stderr",
     "output_type": "stream",
     "text": [
      "2024-04-14 19:32:54 (INFO): Set parameter IntFeasTol to value 0.0001\n",
      "2024-04-14 19:32:54 (INFO): Optimization status: 2\n",
      "2024-04-14 19:32:54 (INFO): Original -0.02945, Opt objective -0.02804\n",
      "2024-04-14 19:32:54 (INFO): Robust count 8 out of 8\n"
     ]
    },
    {
     "name": "stdout",
     "output_type": "stream",
     "text": [
      "Loaded user MIP start with objective -0.0294504\n",
      "\n",
      "Set parameter BestObjStop to value 0\n"
     ]
    },
    {
     "name": "stderr",
     "output_type": "stream",
     "text": [
      "2024-04-14 19:32:55 (INFO): Set parameter BestObjStop to value 0\n"
     ]
    },
    {
     "name": "stdout",
     "output_type": "stream",
     "text": [
      "Set parameter IntegralityFocus to value 1\n"
     ]
    },
    {
     "name": "stderr",
     "output_type": "stream",
     "text": [
      "2024-04-14 19:32:55 (INFO): Set parameter IntegralityFocus to value 1\n"
     ]
    },
    {
     "name": "stdout",
     "output_type": "stream",
     "text": [
      "Set parameter IntFeasTol to value 0.0001\n"
     ]
    },
    {
     "name": "stderr",
     "output_type": "stream",
     "text": [
      "2024-04-14 19:32:55 (INFO): Set parameter IntFeasTol to value 0.0001\n",
      "2024-04-14 19:32:55 (INFO): Optimization status: 2\n",
      "2024-04-14 19:32:55 (INFO): Original 0.00995, Opt objective 0.00003\n",
      "2024-04-14 19:32:55 (INFO): Robust count 9 out of 9\n"
     ]
    },
    {
     "name": "stdout",
     "output_type": "stream",
     "text": [
      "Loaded user MIP start with objective 0.00994792\n",
      "\n",
      "Set parameter BestObjStop to value 0\n"
     ]
    },
    {
     "name": "stderr",
     "output_type": "stream",
     "text": [
      "2024-04-14 19:32:55 (INFO): Set parameter BestObjStop to value 0\n"
     ]
    },
    {
     "name": "stdout",
     "output_type": "stream",
     "text": [
      "Set parameter IntegralityFocus to value 1\n"
     ]
    },
    {
     "name": "stderr",
     "output_type": "stream",
     "text": [
      "2024-04-14 19:32:55 (INFO): Set parameter IntegralityFocus to value 1\n"
     ]
    },
    {
     "name": "stdout",
     "output_type": "stream",
     "text": [
      "Set parameter IntFeasTol to value 0.0001\n"
     ]
    },
    {
     "name": "stderr",
     "output_type": "stream",
     "text": [
      "2024-04-14 19:32:55 (INFO): Set parameter IntFeasTol to value 0.0001\n",
      "2024-04-14 19:32:55 (INFO): Optimization status: 2\n",
      "2024-04-14 19:32:55 (INFO): Original 0.01655, Opt objective 0.00046\n",
      "2024-04-14 19:32:55 (INFO): Robust count 10 out of 10\n"
     ]
    },
    {
     "name": "stdout",
     "output_type": "stream",
     "text": [
      "Loaded user MIP start with objective 0.0165471\n",
      "\n",
      "Set parameter BestObjStop to value 0\n"
     ]
    },
    {
     "name": "stderr",
     "output_type": "stream",
     "text": [
      "2024-04-14 19:32:56 (INFO): Set parameter BestObjStop to value 0\n"
     ]
    },
    {
     "name": "stdout",
     "output_type": "stream",
     "text": [
      "Set parameter IntegralityFocus to value 1\n"
     ]
    },
    {
     "name": "stderr",
     "output_type": "stream",
     "text": [
      "2024-04-14 19:32:56 (INFO): Set parameter IntegralityFocus to value 1\n"
     ]
    },
    {
     "name": "stdout",
     "output_type": "stream",
     "text": [
      "Set parameter IntFeasTol to value 0.0001\n"
     ]
    },
    {
     "name": "stderr",
     "output_type": "stream",
     "text": [
      "2024-04-14 19:32:56 (INFO): Set parameter IntFeasTol to value 0.0001\n",
      "2024-04-14 19:32:56 (INFO): Optimization status: 2\n",
      "2024-04-14 19:32:56 (INFO): Original -0.01135, Opt objective -0.00693\n",
      "2024-04-14 19:32:56 (INFO): Robust count 11 out of 11\n"
     ]
    },
    {
     "name": "stdout",
     "output_type": "stream",
     "text": [
      "Loaded user MIP start with objective -0.0113535\n",
      "\n",
      "Set parameter BestObjStop to value 0\n"
     ]
    },
    {
     "name": "stderr",
     "output_type": "stream",
     "text": [
      "2024-04-14 19:32:56 (INFO): Set parameter BestObjStop to value 0\n"
     ]
    },
    {
     "name": "stdout",
     "output_type": "stream",
     "text": [
      "Set parameter IntegralityFocus to value 1\n"
     ]
    },
    {
     "name": "stderr",
     "output_type": "stream",
     "text": [
      "2024-04-14 19:32:56 (INFO): Set parameter IntegralityFocus to value 1\n"
     ]
    },
    {
     "name": "stdout",
     "output_type": "stream",
     "text": [
      "Set parameter IntFeasTol to value 0.0001\n"
     ]
    },
    {
     "name": "stderr",
     "output_type": "stream",
     "text": [
      "2024-04-14 19:32:56 (INFO): Set parameter IntFeasTol to value 0.0001\n",
      "2024-04-14 19:32:57 (INFO): Optimization status: 2\n",
      "2024-04-14 19:32:57 (INFO): Original -0.01223, Opt objective -0.01072\n",
      "2024-04-14 19:32:57 (INFO): Robust count 12 out of 12\n"
     ]
    },
    {
     "name": "stdout",
     "output_type": "stream",
     "text": [
      "Loaded user MIP start with objective -0.012232\n",
      "\n",
      "Set parameter BestObjStop to value 0\n"
     ]
    },
    {
     "name": "stderr",
     "output_type": "stream",
     "text": [
      "2024-04-14 19:32:57 (INFO): Set parameter BestObjStop to value 0\n"
     ]
    },
    {
     "name": "stdout",
     "output_type": "stream",
     "text": [
      "Set parameter IntegralityFocus to value 1\n"
     ]
    },
    {
     "name": "stderr",
     "output_type": "stream",
     "text": [
      "2024-04-14 19:32:57 (INFO): Set parameter IntegralityFocus to value 1\n"
     ]
    },
    {
     "name": "stdout",
     "output_type": "stream",
     "text": [
      "Set parameter IntFeasTol to value 0.0001\n"
     ]
    },
    {
     "name": "stderr",
     "output_type": "stream",
     "text": [
      "2024-04-14 19:32:57 (INFO): Set parameter IntFeasTol to value 0.0001\n",
      "2024-04-14 19:32:57 (INFO): Optimization status: 2\n",
      "2024-04-14 19:32:57 (INFO): Original -0.00225, Opt objective 0.00378\n",
      "2024-04-14 19:32:57 (INFO): Robust count 12 out of 13\n"
     ]
    },
    {
     "name": "stdout",
     "output_type": "stream",
     "text": [
      "Loaded user MIP start with objective -0.0022515\n",
      "\n",
      "Set parameter BestObjStop to value 0\n"
     ]
    },
    {
     "name": "stderr",
     "output_type": "stream",
     "text": [
      "2024-04-14 19:32:58 (INFO): Set parameter BestObjStop to value 0\n"
     ]
    },
    {
     "name": "stdout",
     "output_type": "stream",
     "text": [
      "Set parameter IntegralityFocus to value 1\n"
     ]
    },
    {
     "name": "stderr",
     "output_type": "stream",
     "text": [
      "2024-04-14 19:32:58 (INFO): Set parameter IntegralityFocus to value 1\n"
     ]
    },
    {
     "name": "stdout",
     "output_type": "stream",
     "text": [
      "Set parameter IntFeasTol to value 0.0001\n"
     ]
    },
    {
     "name": "stderr",
     "output_type": "stream",
     "text": [
      "2024-04-14 19:32:58 (INFO): Set parameter IntFeasTol to value 0.0001\n",
      "2024-04-14 19:32:58 (INFO): Optimization status: 2\n",
      "2024-04-14 19:32:58 (INFO): Original -0.00050, Opt objective 0.00167\n",
      "2024-04-14 19:32:58 (INFO): Robust count 12 out of 14\n"
     ]
    },
    {
     "name": "stdout",
     "output_type": "stream",
     "text": [
      "Loaded user MIP start with objective -0.000502342\n",
      "\n",
      "Set parameter BestObjStop to value 0\n"
     ]
    },
    {
     "name": "stderr",
     "output_type": "stream",
     "text": [
      "2024-04-14 19:32:58 (INFO): Set parameter BestObjStop to value 0\n"
     ]
    },
    {
     "name": "stdout",
     "output_type": "stream",
     "text": [
      "Set parameter IntegralityFocus to value 1\n"
     ]
    },
    {
     "name": "stderr",
     "output_type": "stream",
     "text": [
      "2024-04-14 19:32:58 (INFO): Set parameter IntegralityFocus to value 1\n"
     ]
    },
    {
     "name": "stdout",
     "output_type": "stream",
     "text": [
      "Set parameter IntFeasTol to value 0.0001\n"
     ]
    },
    {
     "name": "stderr",
     "output_type": "stream",
     "text": [
      "2024-04-14 19:32:58 (INFO): Set parameter IntFeasTol to value 0.0001\n",
      "2024-04-14 19:32:58 (INFO): Optimization status: 2\n",
      "2024-04-14 19:32:58 (INFO): Original -0.02728, Opt objective -0.02433\n",
      "2024-04-14 19:32:58 (INFO): Robust count 13 out of 15\n"
     ]
    },
    {
     "name": "stdout",
     "output_type": "stream",
     "text": [
      "Loaded user MIP start with objective -0.027281\n",
      "\n",
      "Set parameter BestObjStop to value 0\n"
     ]
    },
    {
     "name": "stderr",
     "output_type": "stream",
     "text": [
      "2024-04-14 19:32:59 (INFO): Set parameter BestObjStop to value 0\n"
     ]
    },
    {
     "name": "stdout",
     "output_type": "stream",
     "text": [
      "Set parameter IntegralityFocus to value 1\n"
     ]
    },
    {
     "name": "stderr",
     "output_type": "stream",
     "text": [
      "2024-04-14 19:32:59 (INFO): Set parameter IntegralityFocus to value 1\n"
     ]
    },
    {
     "name": "stdout",
     "output_type": "stream",
     "text": [
      "Set parameter IntFeasTol to value 0.0001\n"
     ]
    },
    {
     "name": "stderr",
     "output_type": "stream",
     "text": [
      "2024-04-14 19:32:59 (INFO): Set parameter IntFeasTol to value 0.0001\n",
      "2024-04-14 19:32:59 (INFO): Optimization status: 2\n",
      "2024-04-14 19:32:59 (INFO): Original 0.00174, Opt objective 0.00009\n",
      "2024-04-14 19:32:59 (INFO): Robust count 14 out of 16\n"
     ]
    },
    {
     "name": "stdout",
     "output_type": "stream",
     "text": [
      "Loaded user MIP start with objective 0.00173927\n",
      "\n",
      "Set parameter BestObjStop to value 0\n"
     ]
    },
    {
     "name": "stderr",
     "output_type": "stream",
     "text": [
      "2024-04-14 19:32:59 (INFO): Set parameter BestObjStop to value 0\n"
     ]
    },
    {
     "name": "stdout",
     "output_type": "stream",
     "text": [
      "Set parameter IntegralityFocus to value 1\n"
     ]
    },
    {
     "name": "stderr",
     "output_type": "stream",
     "text": [
      "2024-04-14 19:32:59 (INFO): Set parameter IntegralityFocus to value 1\n"
     ]
    },
    {
     "name": "stdout",
     "output_type": "stream",
     "text": [
      "Set parameter IntFeasTol to value 0.0001\n"
     ]
    },
    {
     "name": "stderr",
     "output_type": "stream",
     "text": [
      "2024-04-14 19:32:59 (INFO): Set parameter IntFeasTol to value 0.0001\n",
      "2024-04-14 19:32:59 (INFO): Optimization status: 2\n",
      "2024-04-14 19:32:59 (INFO): Original -0.00937, Opt objective -0.00768\n",
      "2024-04-14 19:32:59 (INFO): Robust count 15 out of 17\n"
     ]
    },
    {
     "name": "stdout",
     "output_type": "stream",
     "text": [
      "Loaded user MIP start with objective -0.00936562\n",
      "\n",
      "Set parameter BestObjStop to value 0\n"
     ]
    },
    {
     "name": "stderr",
     "output_type": "stream",
     "text": [
      "2024-04-14 19:33:00 (INFO): Set parameter BestObjStop to value 0\n"
     ]
    },
    {
     "name": "stdout",
     "output_type": "stream",
     "text": [
      "Set parameter IntegralityFocus to value 1\n"
     ]
    },
    {
     "name": "stderr",
     "output_type": "stream",
     "text": [
      "2024-04-14 19:33:00 (INFO): Set parameter IntegralityFocus to value 1\n"
     ]
    },
    {
     "name": "stdout",
     "output_type": "stream",
     "text": [
      "Set parameter IntFeasTol to value 0.0001\n"
     ]
    },
    {
     "name": "stderr",
     "output_type": "stream",
     "text": [
      "2024-04-14 19:33:00 (INFO): Set parameter IntFeasTol to value 0.0001\n",
      "2024-04-14 19:33:00 (INFO): Optimization status: 2\n",
      "2024-04-14 19:33:00 (INFO): Original -0.02452, Opt objective -0.01973\n",
      "2024-04-14 19:33:00 (INFO): Robust count 16 out of 18\n"
     ]
    },
    {
     "name": "stdout",
     "output_type": "stream",
     "text": [
      "Loaded user MIP start with objective -0.0245183\n",
      "\n",
      "Set parameter BestObjStop to value 0\n"
     ]
    },
    {
     "name": "stderr",
     "output_type": "stream",
     "text": [
      "2024-04-14 19:33:00 (INFO): Set parameter BestObjStop to value 0\n"
     ]
    },
    {
     "name": "stdout",
     "output_type": "stream",
     "text": [
      "Set parameter IntegralityFocus to value 1\n"
     ]
    },
    {
     "name": "stderr",
     "output_type": "stream",
     "text": [
      "2024-04-14 19:33:00 (INFO): Set parameter IntegralityFocus to value 1\n"
     ]
    },
    {
     "name": "stdout",
     "output_type": "stream",
     "text": [
      "Set parameter IntFeasTol to value 0.0001\n"
     ]
    },
    {
     "name": "stderr",
     "output_type": "stream",
     "text": [
      "2024-04-14 19:33:00 (INFO): Set parameter IntFeasTol to value 0.0001\n",
      "2024-04-14 19:33:00 (INFO): Optimization status: 2\n",
      "2024-04-14 19:33:00 (INFO): Original -0.00563, Opt objective -0.00417\n",
      "2024-04-14 19:33:00 (INFO): Robust count 17 out of 19\n"
     ]
    },
    {
     "name": "stdout",
     "output_type": "stream",
     "text": [
      "Loaded user MIP start with objective -0.00562638\n",
      "\n",
      "Set parameter BestObjStop to value 0\n"
     ]
    },
    {
     "name": "stderr",
     "output_type": "stream",
     "text": [
      "2024-04-14 19:33:01 (INFO): Set parameter BestObjStop to value 0\n"
     ]
    },
    {
     "name": "stdout",
     "output_type": "stream",
     "text": [
      "Set parameter IntegralityFocus to value 1\n"
     ]
    },
    {
     "name": "stderr",
     "output_type": "stream",
     "text": [
      "2024-04-14 19:33:01 (INFO): Set parameter IntegralityFocus to value 1\n"
     ]
    },
    {
     "name": "stdout",
     "output_type": "stream",
     "text": [
      "Set parameter IntFeasTol to value 0.0001\n"
     ]
    },
    {
     "name": "stderr",
     "output_type": "stream",
     "text": [
      "2024-04-14 19:33:01 (INFO): Set parameter IntFeasTol to value 0.0001\n",
      "2024-04-14 19:33:01 (INFO): Optimization status: 2\n",
      "2024-04-14 19:33:01 (INFO): Original -0.02336, Opt objective -0.02176\n",
      "2024-04-14 19:33:01 (INFO): Robust count 18 out of 20\n"
     ]
    },
    {
     "name": "stdout",
     "output_type": "stream",
     "text": [
      "Loaded user MIP start with objective -0.0233634\n",
      "\n",
      "Set parameter BestObjStop to value 0\n"
     ]
    },
    {
     "name": "stderr",
     "output_type": "stream",
     "text": [
      "2024-04-14 19:33:01 (INFO): Set parameter BestObjStop to value 0\n"
     ]
    },
    {
     "name": "stdout",
     "output_type": "stream",
     "text": [
      "Set parameter IntegralityFocus to value 1\n"
     ]
    },
    {
     "name": "stderr",
     "output_type": "stream",
     "text": [
      "2024-04-14 19:33:01 (INFO): Set parameter IntegralityFocus to value 1\n"
     ]
    },
    {
     "name": "stdout",
     "output_type": "stream",
     "text": [
      "Set parameter IntFeasTol to value 0.0001\n"
     ]
    },
    {
     "name": "stderr",
     "output_type": "stream",
     "text": [
      "2024-04-14 19:33:01 (INFO): Set parameter IntFeasTol to value 0.0001\n",
      "2024-04-14 19:33:01 (INFO): Optimization status: 2\n",
      "2024-04-14 19:33:01 (INFO): Original -0.00141, Opt objective 0.00270\n",
      "2024-04-14 19:33:01 (INFO): Robust count 18 out of 21\n"
     ]
    },
    {
     "name": "stdout",
     "output_type": "stream",
     "text": [
      "Loaded user MIP start with objective -0.0014077\n",
      "\n",
      "Set parameter BestObjStop to value 0\n"
     ]
    },
    {
     "name": "stderr",
     "output_type": "stream",
     "text": [
      "2024-04-14 19:33:02 (INFO): Set parameter BestObjStop to value 0\n"
     ]
    },
    {
     "name": "stdout",
     "output_type": "stream",
     "text": [
      "Set parameter IntegralityFocus to value 1\n"
     ]
    },
    {
     "name": "stderr",
     "output_type": "stream",
     "text": [
      "2024-04-14 19:33:02 (INFO): Set parameter IntegralityFocus to value 1\n"
     ]
    },
    {
     "name": "stdout",
     "output_type": "stream",
     "text": [
      "Set parameter IntFeasTol to value 0.0001\n"
     ]
    },
    {
     "name": "stderr",
     "output_type": "stream",
     "text": [
      "2024-04-14 19:33:02 (INFO): Set parameter IntFeasTol to value 0.0001\n",
      "2024-04-14 19:33:02 (INFO): Optimization status: 2\n",
      "2024-04-14 19:33:02 (INFO): Original -0.01278, Opt objective -0.01103\n",
      "2024-04-14 19:33:02 (INFO): Robust count 19 out of 22\n"
     ]
    },
    {
     "name": "stdout",
     "output_type": "stream",
     "text": [
      "Loaded user MIP start with objective -0.0127834\n",
      "\n",
      "Set parameter BestObjStop to value 0\n"
     ]
    },
    {
     "name": "stderr",
     "output_type": "stream",
     "text": [
      "2024-04-14 19:33:02 (INFO): Set parameter BestObjStop to value 0\n"
     ]
    },
    {
     "name": "stdout",
     "output_type": "stream",
     "text": [
      "Set parameter IntegralityFocus to value 1\n"
     ]
    },
    {
     "name": "stderr",
     "output_type": "stream",
     "text": [
      "2024-04-14 19:33:02 (INFO): Set parameter IntegralityFocus to value 1\n"
     ]
    },
    {
     "name": "stdout",
     "output_type": "stream",
     "text": [
      "Set parameter IntFeasTol to value 0.0001\n"
     ]
    },
    {
     "name": "stderr",
     "output_type": "stream",
     "text": [
      "2024-04-14 19:33:02 (INFO): Set parameter IntFeasTol to value 0.0001\n",
      "2024-04-14 19:33:02 (INFO): Optimization status: 2\n",
      "2024-04-14 19:33:02 (INFO): Original -0.00147, Opt objective 0.00010\n",
      "2024-04-14 19:33:02 (INFO): Robust count 19 out of 23\n"
     ]
    },
    {
     "name": "stdout",
     "output_type": "stream",
     "text": [
      "Loaded user MIP start with objective -0.00147239\n",
      "\n",
      "Set parameter BestObjStop to value 0\n"
     ]
    },
    {
     "name": "stderr",
     "output_type": "stream",
     "text": [
      "2024-04-14 19:33:03 (INFO): Set parameter BestObjStop to value 0\n"
     ]
    },
    {
     "name": "stdout",
     "output_type": "stream",
     "text": [
      "Set parameter IntegralityFocus to value 1\n"
     ]
    },
    {
     "name": "stderr",
     "output_type": "stream",
     "text": [
      "2024-04-14 19:33:03 (INFO): Set parameter IntegralityFocus to value 1\n"
     ]
    },
    {
     "name": "stdout",
     "output_type": "stream",
     "text": [
      "Set parameter IntFeasTol to value 0.0001\n"
     ]
    },
    {
     "name": "stderr",
     "output_type": "stream",
     "text": [
      "2024-04-14 19:33:03 (INFO): Set parameter IntFeasTol to value 0.0001\n",
      "2024-04-14 19:33:03 (INFO): Optimization status: 2\n",
      "2024-04-14 19:33:03 (INFO): Original -0.00179, Opt objective 0.00015\n",
      "2024-04-14 19:33:03 (INFO): Robust count 19 out of 24\n"
     ]
    },
    {
     "name": "stdout",
     "output_type": "stream",
     "text": [
      "Loaded user MIP start with objective -0.00179085\n",
      "\n",
      "Set parameter BestObjStop to value 0\n"
     ]
    },
    {
     "name": "stderr",
     "output_type": "stream",
     "text": [
      "2024-04-14 19:33:04 (INFO): Set parameter BestObjStop to value 0\n"
     ]
    },
    {
     "name": "stdout",
     "output_type": "stream",
     "text": [
      "Set parameter IntegralityFocus to value 1\n"
     ]
    },
    {
     "name": "stderr",
     "output_type": "stream",
     "text": [
      "2024-04-14 19:33:04 (INFO): Set parameter IntegralityFocus to value 1\n"
     ]
    },
    {
     "name": "stdout",
     "output_type": "stream",
     "text": [
      "Set parameter IntFeasTol to value 0.0001\n"
     ]
    },
    {
     "name": "stderr",
     "output_type": "stream",
     "text": [
      "2024-04-14 19:33:04 (INFO): Set parameter IntFeasTol to value 0.0001\n",
      "2024-04-14 19:33:04 (INFO): Optimization status: 2\n",
      "2024-04-14 19:33:04 (INFO): Original 0.00028, Opt objective -0.00634\n",
      "2024-04-14 19:33:04 (INFO): Robust count 19 out of 25\n"
     ]
    },
    {
     "name": "stdout",
     "output_type": "stream",
     "text": [
      "Loaded user MIP start with objective 0.000276517\n",
      "\n",
      "Set parameter BestObjStop to value 0\n"
     ]
    },
    {
     "name": "stderr",
     "output_type": "stream",
     "text": [
      "2024-04-14 19:33:04 (INFO): Set parameter BestObjStop to value 0\n"
     ]
    },
    {
     "name": "stdout",
     "output_type": "stream",
     "text": [
      "Set parameter IntegralityFocus to value 1\n"
     ]
    },
    {
     "name": "stderr",
     "output_type": "stream",
     "text": [
      "2024-04-14 19:33:04 (INFO): Set parameter IntegralityFocus to value 1\n"
     ]
    },
    {
     "name": "stdout",
     "output_type": "stream",
     "text": [
      "Set parameter IntFeasTol to value 0.0001\n"
     ]
    },
    {
     "name": "stderr",
     "output_type": "stream",
     "text": [
      "2024-04-14 19:33:04 (INFO): Set parameter IntFeasTol to value 0.0001\n",
      "2024-04-14 19:33:04 (INFO): Optimization status: 2\n",
      "2024-04-14 19:33:04 (INFO): Original -0.03779, Opt objective -0.03599\n",
      "2024-04-14 19:33:04 (INFO): Robust count 20 out of 26\n"
     ]
    },
    {
     "name": "stdout",
     "output_type": "stream",
     "text": [
      "Loaded user MIP start with objective -0.0377877\n",
      "\n",
      "Set parameter BestObjStop to value 0\n"
     ]
    },
    {
     "name": "stderr",
     "output_type": "stream",
     "text": [
      "2024-04-14 19:33:05 (INFO): Set parameter BestObjStop to value 0\n"
     ]
    },
    {
     "name": "stdout",
     "output_type": "stream",
     "text": [
      "Set parameter IntegralityFocus to value 1\n"
     ]
    },
    {
     "name": "stderr",
     "output_type": "stream",
     "text": [
      "2024-04-14 19:33:05 (INFO): Set parameter IntegralityFocus to value 1\n"
     ]
    },
    {
     "name": "stdout",
     "output_type": "stream",
     "text": [
      "Set parameter IntFeasTol to value 0.0001\n"
     ]
    },
    {
     "name": "stderr",
     "output_type": "stream",
     "text": [
      "2024-04-14 19:33:05 (INFO): Set parameter IntFeasTol to value 0.0001\n",
      "2024-04-14 19:33:05 (INFO): Optimization status: 2\n",
      "2024-04-14 19:33:05 (INFO): Original -0.01678, Opt objective -0.01243\n",
      "2024-04-14 19:33:05 (INFO): Robust count 21 out of 27\n"
     ]
    },
    {
     "name": "stdout",
     "output_type": "stream",
     "text": [
      "Loaded user MIP start with objective -0.0167819\n",
      "\n",
      "Set parameter BestObjStop to value 0\n"
     ]
    },
    {
     "name": "stderr",
     "output_type": "stream",
     "text": [
      "2024-04-14 19:33:05 (INFO): Set parameter BestObjStop to value 0\n"
     ]
    },
    {
     "name": "stdout",
     "output_type": "stream",
     "text": [
      "Set parameter IntegralityFocus to value 1\n"
     ]
    },
    {
     "name": "stderr",
     "output_type": "stream",
     "text": [
      "2024-04-14 19:33:05 (INFO): Set parameter IntegralityFocus to value 1\n"
     ]
    },
    {
     "name": "stdout",
     "output_type": "stream",
     "text": [
      "Set parameter IntFeasTol to value 0.0001\n"
     ]
    },
    {
     "name": "stderr",
     "output_type": "stream",
     "text": [
      "2024-04-14 19:33:05 (INFO): Set parameter IntFeasTol to value 0.0001\n",
      "2024-04-14 19:33:05 (INFO): Optimization status: 2\n",
      "2024-04-14 19:33:05 (INFO): Original 0.00191, Opt objective 0.00038\n",
      "2024-04-14 19:33:05 (INFO): Robust count 22 out of 28\n"
     ]
    },
    {
     "name": "stdout",
     "output_type": "stream",
     "text": [
      "Loaded user MIP start with objective 0.00191444\n",
      "\n",
      "Set parameter BestObjStop to value 0\n"
     ]
    },
    {
     "name": "stderr",
     "output_type": "stream",
     "text": [
      "2024-04-14 19:33:06 (INFO): Set parameter BestObjStop to value 0\n"
     ]
    },
    {
     "name": "stdout",
     "output_type": "stream",
     "text": [
      "Set parameter IntegralityFocus to value 1\n"
     ]
    },
    {
     "name": "stderr",
     "output_type": "stream",
     "text": [
      "2024-04-14 19:33:06 (INFO): Set parameter IntegralityFocus to value 1\n"
     ]
    },
    {
     "name": "stdout",
     "output_type": "stream",
     "text": [
      "Set parameter IntFeasTol to value 0.0001\n"
     ]
    },
    {
     "name": "stderr",
     "output_type": "stream",
     "text": [
      "2024-04-14 19:33:06 (INFO): Set parameter IntFeasTol to value 0.0001\n",
      "2024-04-14 19:33:06 (INFO): Optimization status: 2\n",
      "2024-04-14 19:33:06 (INFO): Original 0.00867, Opt objective 0.00692\n",
      "2024-04-14 19:33:06 (INFO): Robust count 23 out of 29\n"
     ]
    },
    {
     "name": "stdout",
     "output_type": "stream",
     "text": [
      "Loaded user MIP start with objective 0.00867262\n",
      "\n",
      "Set parameter BestObjStop to value 0\n"
     ]
    },
    {
     "name": "stderr",
     "output_type": "stream",
     "text": [
      "2024-04-14 19:33:06 (INFO): Set parameter BestObjStop to value 0\n"
     ]
    },
    {
     "name": "stdout",
     "output_type": "stream",
     "text": [
      "Set parameter IntegralityFocus to value 1\n"
     ]
    },
    {
     "name": "stderr",
     "output_type": "stream",
     "text": [
      "2024-04-14 19:33:06 (INFO): Set parameter IntegralityFocus to value 1\n"
     ]
    },
    {
     "name": "stdout",
     "output_type": "stream",
     "text": [
      "Set parameter IntFeasTol to value 0.0001\n"
     ]
    },
    {
     "name": "stderr",
     "output_type": "stream",
     "text": [
      "2024-04-14 19:33:06 (INFO): Set parameter IntFeasTol to value 0.0001\n",
      "2024-04-14 19:33:06 (INFO): Optimization status: 2\n",
      "2024-04-14 19:33:06 (INFO): Original -0.04427, Opt objective -0.04247\n",
      "2024-04-14 19:33:06 (INFO): Robust count 24 out of 30\n"
     ]
    },
    {
     "name": "stdout",
     "output_type": "stream",
     "text": [
      "Loaded user MIP start with objective -0.0442714\n",
      "\n",
      "Set parameter BestObjStop to value 0\n"
     ]
    },
    {
     "name": "stderr",
     "output_type": "stream",
     "text": [
      "2024-04-14 19:33:07 (INFO): Set parameter BestObjStop to value 0\n"
     ]
    },
    {
     "name": "stdout",
     "output_type": "stream",
     "text": [
      "Set parameter IntegralityFocus to value 1\n"
     ]
    },
    {
     "name": "stderr",
     "output_type": "stream",
     "text": [
      "2024-04-14 19:33:07 (INFO): Set parameter IntegralityFocus to value 1\n"
     ]
    },
    {
     "name": "stdout",
     "output_type": "stream",
     "text": [
      "Set parameter IntFeasTol to value 0.0001\n"
     ]
    },
    {
     "name": "stderr",
     "output_type": "stream",
     "text": [
      "2024-04-14 19:33:07 (INFO): Set parameter IntFeasTol to value 0.0001\n",
      "2024-04-14 19:33:07 (INFO): Optimization status: 2\n",
      "2024-04-14 19:33:07 (INFO): Original 0.03010, Opt objective 0.02580\n",
      "2024-04-14 19:33:07 (INFO): Robust count 25 out of 31\n"
     ]
    },
    {
     "name": "stdout",
     "output_type": "stream",
     "text": [
      "Loaded user MIP start with objective 0.0301008\n",
      "\n",
      "Set parameter BestObjStop to value 0\n"
     ]
    },
    {
     "name": "stderr",
     "output_type": "stream",
     "text": [
      "2024-04-14 19:33:07 (INFO): Set parameter BestObjStop to value 0\n"
     ]
    },
    {
     "name": "stdout",
     "output_type": "stream",
     "text": [
      "Set parameter IntegralityFocus to value 1\n"
     ]
    },
    {
     "name": "stderr",
     "output_type": "stream",
     "text": [
      "2024-04-14 19:33:07 (INFO): Set parameter IntegralityFocus to value 1\n"
     ]
    },
    {
     "name": "stdout",
     "output_type": "stream",
     "text": [
      "Set parameter IntFeasTol to value 0.0001\n"
     ]
    },
    {
     "name": "stderr",
     "output_type": "stream",
     "text": [
      "2024-04-14 19:33:07 (INFO): Set parameter IntFeasTol to value 0.0001\n",
      "2024-04-14 19:33:07 (INFO): Optimization status: 2\n",
      "2024-04-14 19:33:07 (INFO): Original -0.03429, Opt objective -0.03257\n",
      "2024-04-14 19:33:07 (INFO): Robust count 26 out of 32\n"
     ]
    },
    {
     "name": "stdout",
     "output_type": "stream",
     "text": [
      "Loaded user MIP start with objective -0.0342928\n",
      "\n",
      "Set parameter BestObjStop to value 0\n"
     ]
    },
    {
     "name": "stderr",
     "output_type": "stream",
     "text": [
      "2024-04-14 19:33:08 (INFO): Set parameter BestObjStop to value 0\n"
     ]
    },
    {
     "name": "stdout",
     "output_type": "stream",
     "text": [
      "Set parameter IntegralityFocus to value 1\n"
     ]
    },
    {
     "name": "stderr",
     "output_type": "stream",
     "text": [
      "2024-04-14 19:33:08 (INFO): Set parameter IntegralityFocus to value 1\n"
     ]
    },
    {
     "name": "stdout",
     "output_type": "stream",
     "text": [
      "Set parameter IntFeasTol to value 0.0001\n"
     ]
    },
    {
     "name": "stderr",
     "output_type": "stream",
     "text": [
      "2024-04-14 19:33:08 (INFO): Set parameter IntFeasTol to value 0.0001\n",
      "2024-04-14 19:33:08 (INFO): Optimization status: 2\n",
      "2024-04-14 19:33:08 (INFO): Original -0.03236, Opt objective -0.03092\n",
      "2024-04-14 19:33:08 (INFO): Robust count 27 out of 33\n"
     ]
    },
    {
     "name": "stdout",
     "output_type": "stream",
     "text": [
      "Loaded user MIP start with objective -0.0323606\n",
      "\n",
      "Set parameter BestObjStop to value 0\n"
     ]
    },
    {
     "name": "stderr",
     "output_type": "stream",
     "text": [
      "2024-04-14 19:33:08 (INFO): Set parameter BestObjStop to value 0\n"
     ]
    },
    {
     "name": "stdout",
     "output_type": "stream",
     "text": [
      "Set parameter IntegralityFocus to value 1\n"
     ]
    },
    {
     "name": "stderr",
     "output_type": "stream",
     "text": [
      "2024-04-14 19:33:08 (INFO): Set parameter IntegralityFocus to value 1\n"
     ]
    },
    {
     "name": "stdout",
     "output_type": "stream",
     "text": [
      "Set parameter IntFeasTol to value 0.0001\n"
     ]
    },
    {
     "name": "stderr",
     "output_type": "stream",
     "text": [
      "2024-04-14 19:33:08 (INFO): Set parameter IntFeasTol to value 0.0001\n",
      "2024-04-14 19:33:08 (INFO): Optimization status: 2\n",
      "2024-04-14 19:33:08 (INFO): Original 0.00029, Opt objective -0.00381\n",
      "2024-04-14 19:33:08 (INFO): Robust count 27 out of 34\n"
     ]
    },
    {
     "name": "stdout",
     "output_type": "stream",
     "text": [
      "Loaded user MIP start with objective 0.000287594\n",
      "\n",
      "Set parameter BestObjStop to value 0\n"
     ]
    },
    {
     "name": "stderr",
     "output_type": "stream",
     "text": [
      "2024-04-14 19:33:09 (INFO): Set parameter BestObjStop to value 0\n"
     ]
    },
    {
     "name": "stdout",
     "output_type": "stream",
     "text": [
      "Set parameter IntegralityFocus to value 1\n"
     ]
    },
    {
     "name": "stderr",
     "output_type": "stream",
     "text": [
      "2024-04-14 19:33:09 (INFO): Set parameter IntegralityFocus to value 1\n"
     ]
    },
    {
     "name": "stdout",
     "output_type": "stream",
     "text": [
      "Set parameter IntFeasTol to value 0.0001\n"
     ]
    },
    {
     "name": "stderr",
     "output_type": "stream",
     "text": [
      "2024-04-14 19:33:09 (INFO): Set parameter IntFeasTol to value 0.0001\n",
      "2024-04-14 19:33:09 (INFO): Optimization status: 2\n",
      "2024-04-14 19:33:09 (INFO): Original -0.01349, Opt objective -0.01191\n",
      "2024-04-14 19:33:09 (INFO): Robust count 28 out of 35\n"
     ]
    },
    {
     "name": "stdout",
     "output_type": "stream",
     "text": [
      "Loaded user MIP start with objective -0.0134869\n",
      "\n",
      "Set parameter BestObjStop to value 0\n"
     ]
    },
    {
     "name": "stderr",
     "output_type": "stream",
     "text": [
      "2024-04-14 19:33:09 (INFO): Set parameter BestObjStop to value 0\n"
     ]
    },
    {
     "name": "stdout",
     "output_type": "stream",
     "text": [
      "Set parameter IntegralityFocus to value 1\n"
     ]
    },
    {
     "name": "stderr",
     "output_type": "stream",
     "text": [
      "2024-04-14 19:33:09 (INFO): Set parameter IntegralityFocus to value 1\n"
     ]
    },
    {
     "name": "stdout",
     "output_type": "stream",
     "text": [
      "Set parameter IntFeasTol to value 0.0001\n"
     ]
    },
    {
     "name": "stderr",
     "output_type": "stream",
     "text": [
      "2024-04-14 19:33:09 (INFO): Set parameter IntFeasTol to value 0.0001\n",
      "2024-04-14 19:33:09 (INFO): Optimization status: 2\n",
      "2024-04-14 19:33:09 (INFO): Original -0.02319, Opt objective -0.01936\n",
      "2024-04-14 19:33:09 (INFO): Robust count 29 out of 36\n"
     ]
    },
    {
     "name": "stdout",
     "output_type": "stream",
     "text": [
      "Loaded user MIP start with objective -0.0231902\n",
      "\n",
      "Set parameter BestObjStop to value 0\n"
     ]
    },
    {
     "name": "stderr",
     "output_type": "stream",
     "text": [
      "2024-04-14 19:33:10 (INFO): Set parameter BestObjStop to value 0\n"
     ]
    },
    {
     "name": "stdout",
     "output_type": "stream",
     "text": [
      "Set parameter IntegralityFocus to value 1\n"
     ]
    },
    {
     "name": "stderr",
     "output_type": "stream",
     "text": [
      "2024-04-14 19:33:10 (INFO): Set parameter IntegralityFocus to value 1\n"
     ]
    },
    {
     "name": "stdout",
     "output_type": "stream",
     "text": [
      "Set parameter IntFeasTol to value 0.0001\n"
     ]
    },
    {
     "name": "stderr",
     "output_type": "stream",
     "text": [
      "2024-04-14 19:33:10 (INFO): Set parameter IntFeasTol to value 0.0001\n",
      "2024-04-14 19:33:10 (INFO): Optimization status: 2\n",
      "2024-04-14 19:33:10 (INFO): Original -0.01205, Opt objective -0.01000\n",
      "2024-04-14 19:33:10 (INFO): Robust count 30 out of 37\n"
     ]
    },
    {
     "name": "stdout",
     "output_type": "stream",
     "text": [
      "Loaded user MIP start with objective -0.0120507\n",
      "\n",
      "Set parameter BestObjStop to value 0\n"
     ]
    },
    {
     "name": "stderr",
     "output_type": "stream",
     "text": [
      "2024-04-14 19:33:10 (INFO): Set parameter BestObjStop to value 0\n"
     ]
    },
    {
     "name": "stdout",
     "output_type": "stream",
     "text": [
      "Set parameter IntegralityFocus to value 1\n"
     ]
    },
    {
     "name": "stderr",
     "output_type": "stream",
     "text": [
      "2024-04-14 19:33:10 (INFO): Set parameter IntegralityFocus to value 1\n"
     ]
    },
    {
     "name": "stdout",
     "output_type": "stream",
     "text": [
      "Set parameter IntFeasTol to value 0.0001\n"
     ]
    },
    {
     "name": "stderr",
     "output_type": "stream",
     "text": [
      "2024-04-14 19:33:10 (INFO): Set parameter IntFeasTol to value 0.0001\n",
      "2024-04-14 19:33:11 (INFO): Optimization status: 2\n",
      "2024-04-14 19:33:11 (INFO): Original -0.02776, Opt objective -0.02611\n",
      "2024-04-14 19:33:11 (INFO): Robust count 31 out of 38\n"
     ]
    },
    {
     "name": "stdout",
     "output_type": "stream",
     "text": [
      "Loaded user MIP start with objective -0.0277631\n",
      "\n",
      "Set parameter BestObjStop to value 0\n"
     ]
    },
    {
     "name": "stderr",
     "output_type": "stream",
     "text": [
      "2024-04-14 19:33:11 (INFO): Set parameter BestObjStop to value 0\n"
     ]
    },
    {
     "name": "stdout",
     "output_type": "stream",
     "text": [
      "Set parameter IntegralityFocus to value 1\n"
     ]
    },
    {
     "name": "stderr",
     "output_type": "stream",
     "text": [
      "2024-04-14 19:33:11 (INFO): Set parameter IntegralityFocus to value 1\n"
     ]
    },
    {
     "name": "stdout",
     "output_type": "stream",
     "text": [
      "Set parameter IntFeasTol to value 0.0001\n"
     ]
    },
    {
     "name": "stderr",
     "output_type": "stream",
     "text": [
      "2024-04-14 19:33:11 (INFO): Set parameter IntFeasTol to value 0.0001\n",
      "2024-04-14 19:33:11 (INFO): Optimization status: 2\n",
      "2024-04-14 19:33:11 (INFO): Original -0.03702, Opt objective -0.03487\n",
      "2024-04-14 19:33:11 (INFO): Robust count 32 out of 39\n"
     ]
    },
    {
     "name": "stdout",
     "output_type": "stream",
     "text": [
      "Loaded user MIP start with objective -0.037021\n",
      "\n",
      "Set parameter BestObjStop to value 0\n"
     ]
    },
    {
     "name": "stderr",
     "output_type": "stream",
     "text": [
      "2024-04-14 19:33:12 (INFO): Set parameter BestObjStop to value 0\n"
     ]
    },
    {
     "name": "stdout",
     "output_type": "stream",
     "text": [
      "Set parameter IntegralityFocus to value 1\n"
     ]
    },
    {
     "name": "stderr",
     "output_type": "stream",
     "text": [
      "2024-04-14 19:33:12 (INFO): Set parameter IntegralityFocus to value 1\n"
     ]
    },
    {
     "name": "stdout",
     "output_type": "stream",
     "text": [
      "Set parameter IntFeasTol to value 0.0001\n"
     ]
    },
    {
     "name": "stderr",
     "output_type": "stream",
     "text": [
      "2024-04-14 19:33:12 (INFO): Set parameter IntFeasTol to value 0.0001\n",
      "2024-04-14 19:33:12 (INFO): Optimization status: 2\n",
      "2024-04-14 19:33:12 (INFO): Original -0.02487, Opt objective -0.02329\n",
      "2024-04-14 19:33:12 (INFO): Robust count 33 out of 40\n"
     ]
    },
    {
     "name": "stdout",
     "output_type": "stream",
     "text": [
      "Loaded user MIP start with objective -0.0248693\n",
      "\n",
      "Set parameter BestObjStop to value 0\n"
     ]
    },
    {
     "name": "stderr",
     "output_type": "stream",
     "text": [
      "2024-04-14 19:33:12 (INFO): Set parameter BestObjStop to value 0\n"
     ]
    },
    {
     "name": "stdout",
     "output_type": "stream",
     "text": [
      "Set parameter IntegralityFocus to value 1\n"
     ]
    },
    {
     "name": "stderr",
     "output_type": "stream",
     "text": [
      "2024-04-14 19:33:12 (INFO): Set parameter IntegralityFocus to value 1\n"
     ]
    },
    {
     "name": "stdout",
     "output_type": "stream",
     "text": [
      "Set parameter IntFeasTol to value 0.0001\n"
     ]
    },
    {
     "name": "stderr",
     "output_type": "stream",
     "text": [
      "2024-04-14 19:33:12 (INFO): Set parameter IntFeasTol to value 0.0001\n",
      "2024-04-14 19:33:12 (INFO): Optimization status: 2\n",
      "2024-04-14 19:33:12 (INFO): Original -0.03397, Opt objective -0.03235\n",
      "2024-04-14 19:33:12 (INFO): Robust count 34 out of 41\n"
     ]
    },
    {
     "name": "stdout",
     "output_type": "stream",
     "text": [
      "Loaded user MIP start with objective -0.0339694\n",
      "\n",
      "Set parameter BestObjStop to value 0\n"
     ]
    },
    {
     "name": "stderr",
     "output_type": "stream",
     "text": [
      "2024-04-14 19:33:13 (INFO): Set parameter BestObjStop to value 0\n"
     ]
    },
    {
     "name": "stdout",
     "output_type": "stream",
     "text": [
      "Set parameter IntegralityFocus to value 1\n"
     ]
    },
    {
     "name": "stderr",
     "output_type": "stream",
     "text": [
      "2024-04-14 19:33:13 (INFO): Set parameter IntegralityFocus to value 1\n"
     ]
    },
    {
     "name": "stdout",
     "output_type": "stream",
     "text": [
      "Set parameter IntFeasTol to value 0.0001\n"
     ]
    },
    {
     "name": "stderr",
     "output_type": "stream",
     "text": [
      "2024-04-14 19:33:13 (INFO): Set parameter IntFeasTol to value 0.0001\n",
      "2024-04-14 19:33:13 (INFO): Optimization status: 2\n",
      "2024-04-14 19:33:13 (INFO): Original -0.03096, Opt objective -0.02922\n",
      "2024-04-14 19:33:13 (INFO): Robust count 35 out of 42\n"
     ]
    },
    {
     "name": "stdout",
     "output_type": "stream",
     "text": [
      "Loaded user MIP start with objective -0.0309572\n",
      "\n",
      "Set parameter BestObjStop to value 0\n"
     ]
    },
    {
     "name": "stderr",
     "output_type": "stream",
     "text": [
      "2024-04-14 19:33:13 (INFO): Set parameter BestObjStop to value 0\n"
     ]
    },
    {
     "name": "stdout",
     "output_type": "stream",
     "text": [
      "Set parameter IntegralityFocus to value 1\n"
     ]
    },
    {
     "name": "stderr",
     "output_type": "stream",
     "text": [
      "2024-04-14 19:33:13 (INFO): Set parameter IntegralityFocus to value 1\n"
     ]
    },
    {
     "name": "stdout",
     "output_type": "stream",
     "text": [
      "Set parameter IntFeasTol to value 0.0001\n"
     ]
    },
    {
     "name": "stderr",
     "output_type": "stream",
     "text": [
      "2024-04-14 19:33:13 (INFO): Set parameter IntFeasTol to value 0.0001\n",
      "2024-04-14 19:33:13 (INFO): Optimization status: 2\n",
      "2024-04-14 19:33:13 (INFO): Original -0.03142, Opt objective -0.02962\n",
      "2024-04-14 19:33:13 (INFO): Robust count 36 out of 43\n"
     ]
    },
    {
     "name": "stdout",
     "output_type": "stream",
     "text": [
      "Loaded user MIP start with objective -0.03142\n",
      "\n",
      "Set parameter BestObjStop to value 0\n"
     ]
    },
    {
     "name": "stderr",
     "output_type": "stream",
     "text": [
      "2024-04-14 19:33:14 (INFO): Set parameter BestObjStop to value 0\n"
     ]
    },
    {
     "name": "stdout",
     "output_type": "stream",
     "text": [
      "Set parameter IntegralityFocus to value 1\n"
     ]
    },
    {
     "name": "stderr",
     "output_type": "stream",
     "text": [
      "2024-04-14 19:33:14 (INFO): Set parameter IntegralityFocus to value 1\n"
     ]
    },
    {
     "name": "stdout",
     "output_type": "stream",
     "text": [
      "Set parameter IntFeasTol to value 0.0001\n"
     ]
    },
    {
     "name": "stderr",
     "output_type": "stream",
     "text": [
      "2024-04-14 19:33:14 (INFO): Set parameter IntFeasTol to value 0.0001\n",
      "2024-04-14 19:33:14 (INFO): Optimization status: 2\n",
      "2024-04-14 19:33:14 (INFO): Original -0.00726, Opt objective -0.00365\n",
      "2024-04-14 19:33:14 (INFO): Robust count 37 out of 44\n"
     ]
    },
    {
     "name": "stdout",
     "output_type": "stream",
     "text": [
      "Loaded user MIP start with objective -0.00725594\n",
      "\n"
     ]
    },
    {
     "ename": "KeyboardInterrupt",
     "evalue": "",
     "output_type": "error",
     "traceback": [
      "\u001b[0;31m---------------------------------------------------------------------------\u001b[0m",
      "\u001b[0;31mKeyboardInterrupt\u001b[0m                         Traceback (most recent call last)",
      "Cell \u001b[0;32mIn[4], line 17\u001b[0m\n\u001b[1;32m     15\u001b[0m model_params[\u001b[38;5;124m\"\u001b[39m\u001b[38;5;124mbias\u001b[39m\u001b[38;5;124m\"\u001b[39m] \u001b[38;5;241m=\u001b[39m \u001b[38;5;28;01mFalse\u001b[39;00m\n\u001b[1;32m     16\u001b[0m data_params[\u001b[38;5;124m\"\u001b[39m\u001b[38;5;124mlearning_setting\u001b[39m\u001b[38;5;124m\"\u001b[39m] \u001b[38;5;241m=\u001b[39m \u001b[38;5;124m\"\u001b[39m\u001b[38;5;124mtransductive\u001b[39m\u001b[38;5;124m\"\u001b[39m\n\u001b[0;32m---> 17\u001b[0m \u001b[43mrun\u001b[49m\u001b[43m(\u001b[49m\u001b[43mdata_params\u001b[49m\u001b[43m,\u001b[49m\u001b[43m \u001b[49m\u001b[43mmodel_params\u001b[49m\u001b[43m,\u001b[49m\u001b[43m \u001b[49m\u001b[43mcertificate_params\u001b[49m\u001b[43m,\u001b[49m\u001b[43m \u001b[49m\u001b[43mverbosity_params\u001b[49m\u001b[43m,\u001b[49m\u001b[43m \u001b[49m\u001b[43mother_params\u001b[49m\u001b[43m,\u001b[49m\u001b[43m \u001b[49m\u001b[43mseed\u001b[49m\u001b[43m)\u001b[49m\n",
      "File \u001b[0;32m/ceph/ssd/staff/gosl/.conda/envs/py311_ntk/lib/python3.11/site-packages/sacred/config/captured_function.py:42\u001b[0m, in \u001b[0;36mcaptured_function\u001b[0;34m(wrapped, instance, args, kwargs)\u001b[0m\n\u001b[1;32m     40\u001b[0m \u001b[38;5;66;03m# =================== run actual function =================================\u001b[39;00m\n\u001b[1;32m     41\u001b[0m \u001b[38;5;28;01mwith\u001b[39;00m ConfigError\u001b[38;5;241m.\u001b[39mtrack(wrapped\u001b[38;5;241m.\u001b[39mconfig, wrapped\u001b[38;5;241m.\u001b[39mprefix):\n\u001b[0;32m---> 42\u001b[0m     result \u001b[38;5;241m=\u001b[39m \u001b[43mwrapped\u001b[49m\u001b[43m(\u001b[49m\u001b[38;5;241;43m*\u001b[39;49m\u001b[43margs\u001b[49m\u001b[43m,\u001b[49m\u001b[43m \u001b[49m\u001b[38;5;241;43m*\u001b[39;49m\u001b[38;5;241;43m*\u001b[39;49m\u001b[43mkwargs\u001b[49m\u001b[43m)\u001b[49m\n\u001b[1;32m     43\u001b[0m \u001b[38;5;66;03m# =========================================================================\u001b[39;00m\n\u001b[1;32m     44\u001b[0m \u001b[38;5;28;01mif\u001b[39;00m wrapped\u001b[38;5;241m.\u001b[39mlogger \u001b[38;5;129;01mis\u001b[39;00m \u001b[38;5;129;01mnot\u001b[39;00m \u001b[38;5;28;01mNone\u001b[39;00m:\n",
      "File \u001b[0;32m/ceph/ssd/staff/gosl/src/ntk-robust/exp_ntk_cert_pois.py:312\u001b[0m, in \u001b[0;36mrun\u001b[0;34m(data_params, model_params, certificate_params, verbosity_params, other_params, seed, _run)\u001b[0m\n\u001b[1;32m    310\u001b[0m \u001b[38;5;66;03m# Poisoning Certificate\u001b[39;00m\n\u001b[1;32m    311\u001b[0m svm_alpha \u001b[38;5;241m=\u001b[39m ntk\u001b[38;5;241m.\u001b[39msvm\n\u001b[0;32m--> 312\u001b[0m is_robust_l, obj_l, opt_status_l \u001b[38;5;241m=\u001b[39m \u001b[43mutils\u001b[49m\u001b[38;5;241;43m.\u001b[39;49m\u001b[43mcertify_robust_bilevel_svm\u001b[49m\u001b[43m(\u001b[49m\n\u001b[1;32m    313\u001b[0m \u001b[43m        \u001b[49m\u001b[43midx_labeled\u001b[49m\u001b[43m,\u001b[49m\u001b[43m \u001b[49m\u001b[43midx_test\u001b[49m\u001b[43m,\u001b[49m\u001b[43m \u001b[49m\u001b[43mntk_test\u001b[49m\u001b[43m,\u001b[49m\u001b[43m \u001b[49m\u001b[43mntk_lb\u001b[49m\u001b[43m,\u001b[49m\u001b[43m \u001b[49m\u001b[43mntk_ub\u001b[49m\u001b[43m,\u001b[49m\u001b[43m \u001b[49m\u001b[43my\u001b[49m\u001b[43m,\u001b[49m\u001b[43m \u001b[49m\u001b[43my_pred\u001b[49m\u001b[43m,\u001b[49m\n\u001b[1;32m    314\u001b[0m \u001b[43m        \u001b[49m\u001b[43msvm_alpha\u001b[49m\u001b[43m,\u001b[49m\u001b[43m \u001b[49m\u001b[43mC\u001b[49m\u001b[38;5;241;43m=\u001b[39;49m\u001b[43mmodel_params\u001b[49m\u001b[43m[\u001b[49m\u001b[38;5;124;43m\"\u001b[39;49m\u001b[38;5;124;43mregularizer\u001b[39;49m\u001b[38;5;124;43m\"\u001b[39;49m\u001b[43m]\u001b[49m\u001b[43m,\u001b[49m\u001b[43m \u001b[49m\u001b[43mM\u001b[49m\u001b[38;5;241;43m=\u001b[39;49m\u001b[38;5;241;43m1e3\u001b[39;49m\u001b[43m,\u001b[49m\u001b[43m \u001b[49m\u001b[43mMprime\u001b[49m\u001b[38;5;241;43m=\u001b[39;49m\u001b[38;5;241;43m1e3\u001b[39;49m\n\u001b[1;32m    315\u001b[0m \u001b[43m\u001b[49m\u001b[43m)\u001b[49m\n\u001b[1;32m    316\u001b[0m acc_cert \u001b[38;5;241m=\u001b[39m \u001b[38;5;28msum\u001b[39m(is_robust_l) \u001b[38;5;241m/\u001b[39m y_pred\u001b[38;5;241m.\u001b[39mshape[\u001b[38;5;241m0\u001b[39m]\n\u001b[1;32m    317\u001b[0m acc_cert_u \u001b[38;5;241m=\u001b[39m \u001b[38;5;241m0\u001b[39m \u001b[38;5;66;03m#not implemented\u001b[39;00m\n",
      "File \u001b[0;32m/ceph/ssd/staff/gosl/src/ntk-robust/src/utils.py:215\u001b[0m, in \u001b[0;36mcertify_robust_bilevel_svm\u001b[0;34m(idx_labeled, idx_test, ntk, ntk_lb, ntk_ub, y, y_pred, svm_alpha, C, M, Mprime, milp)\u001b[0m\n\u001b[1;32m    212\u001b[0m     t \u001b[38;5;241m=\u001b[39m m\u001b[38;5;241m.\u001b[39maddMVar(shape\u001b[38;5;241m=\u001b[39mn_labeled, vtype\u001b[38;5;241m=\u001b[39mGRB\u001b[38;5;241m.\u001b[39mBINARY, name\u001b[38;5;241m=\u001b[39m\u001b[38;5;124m\"\u001b[39m\u001b[38;5;124mt\u001b[39m\u001b[38;5;124m\"\u001b[39m)\n\u001b[1;32m    214\u001b[0m \u001b[38;5;66;03m# Add constraints\u001b[39;00m\n\u001b[0;32m--> 215\u001b[0m \u001b[43mm\u001b[49m\u001b[38;5;241;43m.\u001b[39;49m\u001b[43maddConstr\u001b[49m\u001b[43m(\u001b[49m\u001b[43mz\u001b[49m\u001b[43m \u001b[49m\u001b[38;5;241;43m<\u001b[39;49m\u001b[38;5;241;43m=\u001b[39;49m\u001b[43m \u001b[49m\u001b[43mntk_labeled_ub\u001b[49m\u001b[43m \u001b[49m\u001b[38;5;241;43m*\u001b[39;49m\u001b[43m \u001b[49m\u001b[43malpha\u001b[49m\u001b[43m,\u001b[49m\u001b[43m \u001b[49m\u001b[38;5;124;43m\"\u001b[39;49m\u001b[38;5;124;43mz_ub\u001b[39;49m\u001b[38;5;124;43m\"\u001b[39;49m\u001b[43m)\u001b[49m\n\u001b[1;32m    216\u001b[0m m\u001b[38;5;241m.\u001b[39maddConstr(z \u001b[38;5;241m>\u001b[39m\u001b[38;5;241m=\u001b[39m ntk_labeled_lb \u001b[38;5;241m*\u001b[39m alpha, \u001b[38;5;124m\"\u001b[39m\u001b[38;5;124mz_lb\u001b[39m\u001b[38;5;124m\"\u001b[39m)\n\u001b[1;32m    217\u001b[0m m\u001b[38;5;241m.\u001b[39maddConstr(z_test \u001b[38;5;241m<\u001b[39m\u001b[38;5;241m=\u001b[39m ntk_unlabeled_ub[idx,:]\u001b[38;5;241m.\u001b[39mreshape(\u001b[38;5;241m1\u001b[39m,\u001b[38;5;241m-\u001b[39m\u001b[38;5;241m1\u001b[39m) \u001b[38;5;241m*\u001b[39m alpha, \u001b[38;5;124m\"\u001b[39m\u001b[38;5;124mz_test_ub\u001b[39m\u001b[38;5;124m\"\u001b[39m)\n",
      "\u001b[0;31mKeyboardInterrupt\u001b[0m: "
     ]
    }
   ],
   "source": [
    "#model_params[\"cache_size\"] = 10000\n",
    "other_params[\"device\"] = \"cpu\"\n",
    "other_params[\"debug\"] = False\n",
    "certificate_params[\"n_adversarial\"] = 10\n",
    "certificate_params[\"delta\"] = 0.1\n",
    "certificate_params[\"delta_absolute\"] = False\n",
    "certificate_params[\"method\"] = \"XXT\"\n",
    "certificate_params[\"perturbation_model\"] = \"linf\"\n",
    "certificate_params[\"attack_nodes\"] = \"test\"\n",
    "other_params[\"path_gurobi_license\"] = \"/ceph/ssd/staff/gosl/app/gurobi.lic\"\n",
    "verbosity_params[\"debug_lvl\"] = \"info\"\n",
    "model_params[\"regularizer\"] = 0.001\n",
    "model_params[\"solver\"] = \"qplayer\"\n",
    "model_params[\"alpha_tol\"] = 1e-4\n",
    "model_params[\"bias\"] = False\n",
    "data_params[\"learning_setting\"] = \"transductive\"\n",
    "run(data_params, model_params, certificate_params, verbosity_params, other_params, seed)"
   ]
  },
  {
   "cell_type": "code",
   "execution_count": 32,
   "metadata": {},
   "outputs": [
    {
     "name": "stderr",
     "output_type": "stream",
     "text": [
      "2024-04-12 14:55:17 (INFO): Starting experiment exp_ntk_cert_pois with configuration:\n",
      "2024-04-12 14:55:17 (INFO): data_params: {'dataset': 'csbm', 'learning_setting': 'transductive', 'specification': {'classes': 2, 'n_trn_labeled': 40, 'n_trn_unlabeled': 0, 'n_val': 40, 'n_test': 5, 'sigma': 1, 'avg_within_class_degree': 3.16, 'avg_between_class_degree': 0.74, 'K': 1.5, 'seed': 10}}\n",
      "2024-04-12 14:55:17 (INFO): model_params: {'label': 'GCN', 'model': 'GCN', 'normalization': 'row_normalization', 'depth': 1, 'regularizer': 0.01, 'pred_method': 'svm', 'activation': 'relu', 'cache_size': 10000, 'solver': 'qplayer', 'alpha_tol': 1e-08, 'bias': False}\n",
      "2024-04-12 14:55:17 (INFO): certification_params: {'n_adversarial': 50, 'perturbation_model': 'linf', 'delta': 0.01, 'method': 'XXT', 'attack_nodes': 'all', 'cert_method': 'ntk_bound'}\n",
      "2024-04-12 14:55:17 (INFO): verbosity_params: {'debug_lvl': 'info'}\n",
      "2024-04-12 14:55:17 (INFO): other_params: {'device': 'cpu', 'dtype': torch.float64, 'allow_tf32': False, 'debug': False}\n",
      "2024-04-12 14:55:17 (INFO): seed: 0\n",
      "2024-04-12 14:55:17 (INFO): CSBM(p=0.07524, q=0.01762)\n",
      "2024-04-12 14:55:17 (INFO): Test accuracy: 1.0\n",
      "2024-04-12 14:55:17 (INFO): Train accuracy: 0.8125\n",
      "2024-04-12 14:55:17 (INFO): Accuracy_lb_test: 0.6000000238418579\n",
      "2024-04-12 14:55:17 (INFO): Accuracy_ub_test: 0.800000011920929\n",
      "2024-04-12 14:55:17 (INFO): Accuracy_lb_trn: 0.7250000238418579\n",
      "2024-04-12 14:55:17 (INFO): Accuracy_ub_trn: 0.862500011920929\n",
      "2024-04-12 14:55:17 (INFO): Certified accuracy (evasion): 0.4000000059604645\n",
      "2024-04-12 14:55:17 (INFO): Certified accuracy (evasion, trivial): 0.0\n",
      "2024-04-12 14:55:17 (INFO): Certified unrobustness (evasion): 0.0\n"
     ]
    },
    {
     "name": "stdout",
     "output_type": "stream",
     "text": [
      "CSBM mu:\n",
      "[0.375 0.375 0.375 0.375]\n",
      "80 alphas found: ['0.0100', '0.0100', '0.0100', '0.0100', '0.0100', '0.0100', '0.0100', '0.0100', '0.0100', '0.0100', '0.0100', '0.0100', '0.0100', '0.0100', '0.0100', '0.0100', '0.0100', '0.0100', '0.0100', '0.0100', '0.0100', '0.0100', '0.0100', '0.0100', '0.0100', '0.0100', '0.0100', '0.0100', '0.0100', '0.0100', '0.0100', '0.0100', '0.0100', '0.0100', '0.0100', '0.0100', '0.0100', '0.0100', '0.0100', '0.0100', '0.0100', '0.0100', '0.0100', '0.0100', '0.0100', '0.0100', '0.0100', '0.0100', '0.0100', '0.0100', '0.0100', '0.0100', '0.0100', '0.0100', '0.0100', '0.0100', '0.0100', '0.0100', '0.0100', '0.0100', '0.0100', '0.0100', '0.0100', '0.0100', '0.0100', '0.0100', '0.0100', '0.0100', '0.0100', '0.0100', '0.0100', '0.0100', '0.0100', '0.0100', '0.0100', '0.0100', '0.0100', '0.0100', '0.0100', '0.0100']\n",
      "Set parameter BestObjStop to value 0\n"
     ]
    },
    {
     "name": "stderr",
     "output_type": "stream",
     "text": [
      "2024-04-12 14:55:17 (INFO): Set parameter BestObjStop to value 0\n"
     ]
    },
    {
     "name": "stdout",
     "output_type": "stream",
     "text": [
      "Set parameter IntegralityFocus to value 1\n"
     ]
    },
    {
     "name": "stderr",
     "output_type": "stream",
     "text": [
      "2024-04-12 14:55:17 (INFO): Set parameter IntegralityFocus to value 1\n"
     ]
    },
    {
     "name": "stdout",
     "output_type": "stream",
     "text": [
      "Set parameter IntFeasTol to value 0.0001\n"
     ]
    },
    {
     "name": "stderr",
     "output_type": "stream",
     "text": [
      "2024-04-12 14:55:17 (INFO): Set parameter IntFeasTol to value 0.0001\n",
      "2024-04-12 14:55:18 (INFO): Original -0.00811, Opt objective 0.08317\n",
      "2024-04-12 14:55:18 (INFO): Robust count 0 out of 1\n"
     ]
    },
    {
     "name": "stdout",
     "output_type": "stream",
     "text": [
      "Loaded user MIP start with objective -0.00811455\n",
      "\n",
      "Set parameter BestObjStop to value 0\n"
     ]
    },
    {
     "name": "stderr",
     "output_type": "stream",
     "text": [
      "2024-04-12 14:55:18 (INFO): Set parameter BestObjStop to value 0\n"
     ]
    },
    {
     "name": "stdout",
     "output_type": "stream",
     "text": [
      "Set parameter IntegralityFocus to value 1\n"
     ]
    },
    {
     "name": "stderr",
     "output_type": "stream",
     "text": [
      "2024-04-12 14:55:18 (INFO): Set parameter IntegralityFocus to value 1\n"
     ]
    },
    {
     "name": "stdout",
     "output_type": "stream",
     "text": [
      "Set parameter IntFeasTol to value 0.0001\n"
     ]
    },
    {
     "name": "stderr",
     "output_type": "stream",
     "text": [
      "2024-04-12 14:55:18 (INFO): Set parameter IntFeasTol to value 0.0001\n",
      "2024-04-12 14:55:18 (INFO): Original -0.13369, Opt objective -0.04406\n",
      "2024-04-12 14:55:18 (INFO): Robust count 1 out of 2\n"
     ]
    },
    {
     "name": "stdout",
     "output_type": "stream",
     "text": [
      "Loaded user MIP start with objective -0.13369\n",
      "\n",
      "Set parameter BestObjStop to value 0\n"
     ]
    },
    {
     "name": "stderr",
     "output_type": "stream",
     "text": [
      "2024-04-12 14:55:18 (INFO): Set parameter BestObjStop to value 0\n"
     ]
    },
    {
     "name": "stdout",
     "output_type": "stream",
     "text": [
      "Set parameter IntegralityFocus to value 1\n"
     ]
    },
    {
     "name": "stderr",
     "output_type": "stream",
     "text": [
      "2024-04-12 14:55:18 (INFO): Set parameter IntegralityFocus to value 1\n"
     ]
    },
    {
     "name": "stdout",
     "output_type": "stream",
     "text": [
      "Set parameter IntFeasTol to value 0.0001\n"
     ]
    },
    {
     "name": "stderr",
     "output_type": "stream",
     "text": [
      "2024-04-12 14:55:18 (INFO): Set parameter IntFeasTol to value 0.0001\n",
      "2024-04-12 14:55:19 (INFO): Original 0.17732, Opt objective 0.10940\n",
      "2024-04-12 14:55:19 (INFO): Robust count 2 out of 3\n"
     ]
    },
    {
     "name": "stdout",
     "output_type": "stream",
     "text": [
      "Loaded user MIP start with objective 0.177325\n",
      "\n",
      "Set parameter BestObjStop to value 0\n"
     ]
    },
    {
     "name": "stderr",
     "output_type": "stream",
     "text": [
      "2024-04-12 14:55:19 (INFO): Set parameter BestObjStop to value 0\n"
     ]
    },
    {
     "name": "stdout",
     "output_type": "stream",
     "text": [
      "Set parameter IntegralityFocus to value 1\n"
     ]
    },
    {
     "name": "stderr",
     "output_type": "stream",
     "text": [
      "2024-04-12 14:55:19 (INFO): Set parameter IntegralityFocus to value 1\n"
     ]
    },
    {
     "name": "stdout",
     "output_type": "stream",
     "text": [
      "Set parameter IntFeasTol to value 0.0001\n"
     ]
    },
    {
     "name": "stderr",
     "output_type": "stream",
     "text": [
      "2024-04-12 14:55:19 (INFO): Set parameter IntFeasTol to value 0.0001\n",
      "2024-04-12 14:55:19 (INFO): Original 0.06991, Opt objective -0.03322\n",
      "2024-04-12 14:55:19 (INFO): Robust count 2 out of 4\n"
     ]
    },
    {
     "name": "stdout",
     "output_type": "stream",
     "text": [
      "Loaded user MIP start with objective 0.0699078\n",
      "\n",
      "Set parameter BestObjStop to value 0\n"
     ]
    },
    {
     "name": "stderr",
     "output_type": "stream",
     "text": [
      "2024-04-12 14:55:19 (INFO): Set parameter BestObjStop to value 0\n"
     ]
    },
    {
     "name": "stdout",
     "output_type": "stream",
     "text": [
      "Set parameter IntegralityFocus to value 1\n"
     ]
    },
    {
     "name": "stderr",
     "output_type": "stream",
     "text": [
      "2024-04-12 14:55:19 (INFO): Set parameter IntegralityFocus to value 1\n"
     ]
    },
    {
     "name": "stdout",
     "output_type": "stream",
     "text": [
      "Set parameter IntFeasTol to value 0.0001\n"
     ]
    },
    {
     "name": "stderr",
     "output_type": "stream",
     "text": [
      "2024-04-12 14:55:19 (INFO): Set parameter IntFeasTol to value 0.0001\n",
      "2024-04-12 14:55:20 (INFO): Original 0.03263, Opt objective -0.05662\n",
      "2024-04-12 14:55:20 (INFO): Robust count 2 out of 5\n",
      "2024-04-12 14:55:20 (INFO): Certified accuracy (poisoning): 0.4\n"
     ]
    },
    {
     "name": "stdout",
     "output_type": "stream",
     "text": [
      "Loaded user MIP start with objective 0.0326337\n",
      "\n"
     ]
    },
    {
     "data": {
      "text/plain": [
       "{'accuracy_test': 1.0,\n",
       " 'accuracy_trn': 0.8125,\n",
       " 'accuracy_ub_test': 0.800000011920929,\n",
       " 'accuracy_lb_test': 0.6000000238418579,\n",
       " 'accuracy_ub_trn': 0.862500011920929,\n",
       " 'accuracy_lb_trn': 0.7250000238418579,\n",
       " 'accuracy_cert_evasion_trivial': 0.0,\n",
       " 'accuracy_cert_evasion_robust': 0.4000000059604645,\n",
       " 'accuracy_cert_evasion_unrobust': 0.0,\n",
       " 'accuracy_cert_pois_robust': 0.4,\n",
       " 'accuracy_cert_pois_unrobust': 0,\n",
       " 'y_true_cls': array([-1, -1,  1,  1,  1]),\n",
       " 'y_pred_logit': array([-0.00811455, -0.13369031,  0.17732461,  0.06990783,  0.03263369]),\n",
       " 'y_worst_obj': [0.08317413480441517,\n",
       "  -0.044058926281888414,\n",
       "  0.10940279116209606,\n",
       "  -0.03322156070834449,\n",
       "  -0.05661630497763761],\n",
       " 'y_is_robust': [False, True, True, False, False],\n",
       " 'y_opt_status': [2, 2, 2, 2, 2],\n",
       " 'idx_train': array([ 9, 31, 38, 13, 29, 18, 30, 23, 36,  5,  4, 25, 41, 40, 27, 15, 32,\n",
       "        33,  2,  7, 48, 44, 62, 83, 70, 82, 54, 47, 55, 77, 51, 66, 75, 60,\n",
       "        49, 52, 58, 42, 63, 53]),\n",
       " 'idx_val': array([ 6, 19, 12, 37, 17, 39,  1, 20, 28, 11,  3, 10, 26, 35, 14, 16, 34,\n",
       "         8, 21, 22, 61, 46, 71, 72, 81, 64, 78, 69, 79, 50, 59, 43, 68, 67,\n",
       "        65, 74, 45, 57, 76, 80]),\n",
       " 'idx_labeled': array([ 9, 31, 38, 13, 29, 18, 30, 23, 36,  5,  4, 25, 41, 40, 27, 15, 32,\n",
       "        33,  2,  7, 48, 44, 62, 83, 70, 82, 54, 47, 55, 77, 51, 66, 75, 60,\n",
       "        49, 52, 58, 42, 63, 53,  6, 19, 12, 37, 17, 39,  1, 20, 28, 11,  3,\n",
       "        10, 26, 35, 14, 16, 34,  8, 21, 22, 61, 46, 71, 72, 81, 64, 78, 69,\n",
       "        79, 50, 59, 43, 68, 67, 65, 74, 45, 57, 76, 80]),\n",
       " 'idx_test': array([ 0, 24, 84, 73, 56]),\n",
       " 'idx_adv': array([13, 45, 16, 51, 42, 26, 30,  7, 18,  4, 70, 58, 55, 15, 72, 22, 31,\n",
       "        50, 77, 14,  9, 59,  1, 83, 84, 73, 28, 57, 23, 12,  5, 38, 21, 10,\n",
       "        41, 25, 11, 56, 74, 79, 49, 66, 20, 75, 80, 44, 37, 63, 35, 52]),\n",
       " 'min_ypred': -0.13369031162946526,\n",
       " 'max_ypred': 0.17732461207370243,\n",
       " 'min_ylb': -0.2250280503399685,\n",
       " 'max_ylb': 0.10940279407085235,\n",
       " 'min_yub': -0.04405892255079419,\n",
       " 'max_yub': 0.24656275263006683,\n",
       " 'avg_ntklb': 0.5386728167133151,\n",
       " 'min_ntklb': -0.28856834314573626,\n",
       " 'max_ntklb': 8.05491578873122,\n",
       " 'avg_ntkub': 0.7649739654468773,\n",
       " 'min_ntkub': -0.1967617597541932,\n",
       " 'max_ntkub': 8.47751345847201,\n",
       " 'min_ntklabeled': -0.24142460975392485,\n",
       " 'max_ntklabeled': 8.300928909713798,\n",
       " 'avg_ntkunlabeled': 0.4413974527397404,\n",
       " 'min_ntkunlabeled': -0.017221658848134258,\n",
       " 'max_ntkunlabeled': 1.8419994813733813,\n",
       " 'cond': 3155534.0468870555,\n",
       " 'cond_regularized': 7145.173271757001}"
      ]
     },
     "execution_count": 32,
     "metadata": {},
     "output_type": "execute_result"
    }
   ],
   "source": [
    "model_params[\"cache_size\"] = 10000\n",
    "data_params[\"specification\"][\"avg_within_class_degree\"] = 1.58 * 2\n",
    "data_params[\"specification\"][\"avg_between_class_degree\"] = 0.37 * 2\n",
    "other_params[\"device\"] = \"cpu\"\n",
    "other_params[\"debug\"] = False\n",
    "certificate_params[\"n_adversarial\"] = 50\n",
    "certificate_params[\"delta\"] = 0.01\n",
    "certificate_params[\"method\"] = \"XXT\"\n",
    "certificate_params[\"perturbation_model\"] = \"linf\"\n",
    "certificate_params[\"cert_method\"] = \"ntk_bound\"\n",
    "verbosity_params[\"debug_lvl\"] = \"info\"\n",
    "model_params[\"regularizer\"] = 0.01\n",
    "model_params[\"solver\"] = \"qplayer\"\n",
    "model_params[\"alpha_tol\"] = 1e-8\n",
    "model_params[\"bias\"] = False\n",
    "data_params[\"learning_setting\"] = \"transductive\"\n",
    "run(data_params, model_params, certificate_params, verbosity_params, other_params, seed)"
   ]
  },
  {
   "cell_type": "code",
   "execution_count": 31,
   "metadata": {},
   "outputs": [
    {
     "name": "stderr",
     "output_type": "stream",
     "text": [
      "2024-04-11 16:19:07 (INFO): Starting experiment exp_ntk_certify with configuration:\n",
      "2024-04-11 16:19:07 (INFO): data_params: {'dataset': 'csbm', 'learning_setting': 'transductive', 'specification': {'classes': 2, 'n_trn_labeled': 40, 'n_trn_unlabeled': 0, 'n_val': 40, 'n_test': 120, 'sigma': 1, 'avg_within_class_degree': 3.16, 'avg_between_class_degree': 0.74, 'K': 1.5, 'seed': 10}}\n",
      "2024-04-11 16:19:07 (INFO): model_params: {'label': 'GCN', 'model': 'GCN', 'normalization': 'row_normalization', 'depth': 1, 'regularizer': 0.01, 'pred_method': 'svm', 'activation': 'relu', 'cache_size': 10000, 'solver': 'qplayer', 'alpha_tol': 1e-08, 'bias': False}\n",
      "2024-04-11 16:19:07 (INFO): certification_params: {'n_adversarial': 50, 'perturbation_model': 'linf', 'delta': 0.01, 'method': 'XXT', 'cert_method': 'ntk_bound'}\n",
      "2024-04-11 16:19:07 (INFO): verbosity_params: {'debug_lvl': 'info'}\n",
      "2024-04-11 16:19:07 (INFO): other_params: {'device': 'cpu', 'dtype': torch.float64, 'allow_tf32': False, 'debug': False}\n",
      "2024-04-11 16:19:07 (INFO): seed: 0\n",
      "2024-04-11 16:19:07 (INFO): CSBM(p=0.03176, q=0.00744)\n",
      "2024-04-11 16:19:07 (INFO): Accuracy 0.9583333134651184\n"
     ]
    },
    {
     "name": "stdout",
     "output_type": "stream",
     "text": [
      "CSBM mu:\n",
      "[0.28347334 0.28347334 0.28347334 0.28347334 0.28347334 0.28347334\n",
      " 0.28347334]\n",
      "79 alphas found: ['0.0100', '0.0100', '0.0100', '0.0100', '0.0100', '0.0100', '0.0100', '0.0100', '0.0100', '0.0100', '0.0100', '0.0100', '0.0100', '0.0100', '0.0100', '0.0100', '0.0100', '0.0100', '0.0100', '0.0100', '0.0100', '0.0100', '0.0100', '0.0100', '0.0100', '0.0100', '0.0100', '0.0100', '0.0100', '0.0100', '0.0100', '0.0100', '0.0100', '0.0100', '0.0100', '0.0100', '0.0100', '0.0100', '0.0100', '0.0100', '0.0100', '0.0100', '0.0100', '0.0100', '0.0100', '0.0100', '0.0100', '-0.0000', '0.0100', '0.0100', '0.0100', '0.0100', '0.0100', '0.0100', '0.0100', '0.0100', '0.0100', '0.0100', '0.0100', '0.0100', '0.0100', '0.0100', '0.0100', '0.0100', '0.0100', '0.0100', '0.0100', '0.0100', '0.0100', '0.0100', '0.0100', '0.0100', '0.0100', '0.0100', '0.0100', '0.0100', '0.0100', '0.0100', '0.0100', '0.0100']\n"
     ]
    },
    {
     "data": {
      "text/plain": [
       "{'accuracy': 0.9583333134651184,\n",
       " 'accuracy_ub': 0.949999988079071,\n",
       " 'accuracy_lb': 0.875,\n",
       " 'accuracy_cert_trivial': 0.03333333333333333,\n",
       " 'accuracy_cert': 0.8916666507720947,\n",
       " 'accuracy_cert_unrobust': 0.0,\n",
       " 'min_ypred': -0.8740060084083646,\n",
       " 'max_ypred': 0.5618288466640802,\n",
       " 'min_ylb': -0.9161557551719686,\n",
       " 'max_ylb': 0.5366682086876243,\n",
       " 'min_yub': -0.8320294475047423,\n",
       " 'max_yub': 0.5874174960891775,\n",
       " 'avg_ntklb': 0.7147890995803884,\n",
       " 'min_ntklb': -0.8603377072824947,\n",
       " 'max_ntklb': 18.429884713611802,\n",
       " 'avg_ntkub': 0.8326720075041864,\n",
       " 'min_ntkub': -0.8603377072824947,\n",
       " 'max_ntkub': 18.429884713611802,\n",
       " 'min_ntklabeled': -0.8603377072824947,\n",
       " 'max_ntklabeled': 18.439884713611804,\n",
       " 'avg_ntkunlabeled': 0.7765858675127242,\n",
       " 'min_ntkunlabeled': -0.6694073080411328,\n",
       " 'max_ntkunlabeled': 14.477873189149578,\n",
       " 'cond': 5678.371688934855}"
      ]
     },
     "execution_count": 31,
     "metadata": {},
     "output_type": "execute_result"
    }
   ],
   "source": [
    "model_params[\"cache_size\"] = 10000\n",
    "data_params[\"specification\"][\"avg_within_class_degree\"] = 1.58 * 2\n",
    "data_params[\"specification\"][\"avg_between_class_degree\"] = 0.37 * 2\n",
    "other_params[\"device\"] = \"cpu\"\n",
    "other_params[\"debug\"] = False\n",
    "certificate_params[\"n_adversarial\"] = 50\n",
    "certificate_params[\"delta\"] = 0.01\n",
    "certificate_params[\"method\"] = \"XXT\"\n",
    "certificate_params[\"perturbation_model\"] = \"linf\"\n",
    "certificate_params[\"cert_method\"] = \"ntk_bound\"\n",
    "verbosity_params[\"debug_lvl\"] = \"info\"\n",
    "model_params[\"regularizer\"] = 0.01\n",
    "model_params[\"solver\"] = \"qplayer\"\n",
    "model_params[\"alpha_tol\"] = 1e-8\n",
    "model_params[\"bias\"] = False\n",
    "data_params[\"learning_setting\"] = \"transductive\"\n",
    "run(data_params, model_params, certificate_params, verbosity_params, other_params, seed)"
   ]
  },
  {
   "cell_type": "code",
   "execution_count": null,
   "metadata": {},
   "outputs": [],
   "source": []
  },
  {
   "cell_type": "code",
   "execution_count": null,
   "metadata": {},
   "outputs": [],
   "source": []
  }
 ],
 "metadata": {
  "kernelspec": {
   "display_name": "py311_ntk",
   "language": "python",
   "name": "python3"
  },
  "language_info": {
   "codemirror_mode": {
    "name": "ipython",
    "version": 3
   },
   "file_extension": ".py",
   "mimetype": "text/x-python",
   "name": "python",
   "nbconvert_exporter": "python",
   "pygments_lexer": "ipython3",
   "version": "3.11.5"
  }
 },
 "nbformat": 4,
 "nbformat_minor": 2
}
