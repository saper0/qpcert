{
 "cells": [
  {
   "cell_type": "code",
   "execution_count": 1,
   "metadata": {},
   "outputs": [],
   "source": [
    "%load_ext autoreload\n",
    "%autoreload 2"
   ]
  },
  {
   "cell_type": "code",
   "execution_count": 2,
   "metadata": {},
   "outputs": [],
   "source": [
    "import torch\n",
    "import numpy as np\n",
    "from exp_ntk_certify_label_multiclass_onenode import run\n",
    "from exp_ntk_certify_label_multiclass_onenode_inexact import run as run_inexact"
   ]
  },
  {
   "cell_type": "code",
   "execution_count": 3,
   "metadata": {},
   "outputs": [],
   "source": [
    "seed = 0\n",
    "\n",
    "data_params = dict(\n",
    "    dataset = \"citeseer\",\n",
    "    learning_setting = \"transductive\", # or \"transdructive\"\n",
    "    specification = dict(\n",
    "        n_per_class = 5,\n",
    "        fraction_test = 0.1,\n",
    "        data_dir = \"./data\",\n",
    "        make_undirected = True,\n",
    "        binary_attr = False,\n",
    "        balance_test = True,\n",
    "        seed = 0\n",
    "    )\n",
    ")\n",
    "\n",
    "model_params = dict(\n",
    "    label = \"GCN\",\n",
    "    model = \"GCN\",\n",
    "    normalization = \"row_normalization\",\n",
    "    depth = 1,\n",
    "    #regularizer = 1e-8\n",
    "    regularizer = 0.0001,\n",
    "    pred_method = \"svm\",\n",
    "    activation = \"relu\",\n",
    "    solver = \"qplayer_one_vs_all\",\n",
    "    alpha_tol = 1e-4,\n",
    "    bias = False,\n",
    ")\n",
    "\n",
    "certificate_params = dict(\n",
    "    target_idx = 5,\n",
    "    delta = 0.1, # l0: local budget = delta * feature_dim\n",
    "    delta_absolute = True,\n",
    "    LogToConsole = 1,\n",
    "    OutputFlag = 1,\n",
    "    use_tight_big_M = 1,\n",
    "    Presolve = 2,\n",
    "    alpha_tol = 1e-4,\n",
    ")\n",
    "\n",
    "verbosity_params = dict(\n",
    "    debug_lvl = \"info\"\n",
    ")  \n",
    "\n",
    "other_params = dict(\n",
    "    device = \"cpu\",\n",
    "    debug = False,\n",
    "    dtype = torch.float64,\n",
    "    allow_tf32 = False,\n",
    "    enable_gradient = False,\n",
    "    path_gurobi_license = \"/ceph/ssd/staff/gosl/app/gurobi.lic\"\n",
    ")"
   ]
  },
  {
   "cell_type": "code",
   "execution_count": 9,
   "metadata": {},
   "outputs": [],
   "source": [
    "data_params = dict(\n",
    "    dataset = \"cora_ml\",\n",
    "    learning_setting = \"transductive\", # or \"transdructive\"\n",
    "    specification = dict(\n",
    "        n_per_class = 5,\n",
    "        fraction_test = 0.1,\n",
    "        data_dir = \"./data\",\n",
    "        make_undirected = True,\n",
    "        binary_attr = False,\n",
    "        balance_test = True,\n",
    "        seed = 0\n",
    "    )\n",
    ")\n",
    "model_params = dict(\n",
    "    label = \"APPNP\",\n",
    "    model = \"APPNP\",\n",
    "    normalization = \"sym_normalization\",\n",
    "    alpha = 0.2,\n",
    "    iteration = 10,\n",
    "    depth = 1,\n",
    "    #regularizer = 1e-8\n",
    "    regularizer = 0.5,\n",
    "    pred_method = \"svm\",\n",
    "    activation = \"relu\",\n",
    "    solver = \"qplayer_one_vs_all\",\n",
    "    alpha_tol = 1e-4,\n",
    "    bias = False,\n",
    ")\n"
   ]
  },
  {
   "cell_type": "code",
   "execution_count": 13,
   "metadata": {},
   "outputs": [],
   "source": [
    "model_params = dict(\n",
    "    label = \"SGC\",\n",
    "    model = \"GCN\",\n",
    "    normalization = \"row_normalization\",\n",
    "    depth = 1,\n",
    "    #regularizer = 1e-8\n",
    "    regularizer = 0.1,\n",
    "    pred_method = \"svm\",\n",
    "    activation = \"linear\",\n",
    "    solver = \"qplayer_one_vs_all\",\n",
    "    alpha_tol = 1e-4,\n",
    "    bias = False,\n",
    ")\n"
   ]
  },
  {
   "cell_type": "code",
   "execution_count": 17,
   "metadata": {},
   "outputs": [
    {
     "name": "stderr",
     "output_type": "stream",
     "text": [
      "2025-02-22 21:10:57 (INFO): Starting experiment exp_ntk_certify_label_multiclass_onenode with configuration:\n",
      "2025-02-22 21:10:57 (INFO): data_params: {'dataset': 'citeseer', 'learning_setting': 'transductive', 'specification': {'n_per_class': 5, 'fraction_test': 0.1, 'data_dir': './data', 'make_undirected': True, 'binary_attr': False, 'balance_test': True, 'seed': 0}}\n",
      "2025-02-22 21:10:57 (INFO): model_params: {'label': 'SGC', 'model': 'GCN', 'normalization': 'row_normalization', 'depth': 1, 'regularizer': 0.01, 'pred_method': 'svm', 'activation': 'linear', 'solver': 'qplayer_one_vs_all', 'alpha_tol': 0.0001, 'bias': False}\n",
      "2025-02-22 21:10:57 (INFO): certification_params: {'target_idx': 1, 'delta': 0.02, 'delta_absolute': True, 'LogToConsole': 1, 'OutputFlag': 1, 'use_tight_big_M': 1, 'Presolve': 2, 'alpha_tol': 0.0001}\n",
      "2025-02-22 21:10:57 (INFO): verbosity_params: {'debug_lvl': 'info'}\n",
      "2025-02-22 21:10:57 (INFO): other_params: {'device': 'cpu', 'debug': False, 'dtype': torch.float64, 'allow_tf32': False, 'enable_gradient': False, 'path_gurobi_license': '/ceph/ssd/staff/gosl/app/gurobi.lic'}\n",
      "2025-02-22 21:10:57 (INFO): seed: 0\n",
      "2025-02-22 21:10:57 (INFO): number of samples\n",
      " - labeled: 30 \n",
      " - val: 30 \n",
      " - test: 214 \n",
      " - unlabeled: 1836\n",
      "2025-02-22 21:10:58 (INFO): Delta: 0.02\n",
      "2025-02-22 21:10:58 (INFO): Test accuracy: 1.0\n",
      "2025-02-22 21:10:58 (INFO): Train accuracy: 0.9833333492279053\n"
     ]
    },
    {
     "name": "stdout",
     "output_type": "stream",
     "text": [
      "Class 0: 57 alphas found: ['0.0100', '0.0019', '0.0100', '0.0100', '0.0100', '0.0058', '0.0055', '0.0100', '0.0100', '0.0100', '0.0100', '0.0100', '0.0100', '0.0100', '0.0041', '0.0078', '0.0100', '0.0100', '0.0100', '0.0092', '0.0100', '0.0017', '0.0100', '0.0026', '0.0014', '0.0100', '0.0100', '0.0100', '0.0100', '0.0100', '0.0100', '0.0080', '0.0100', '0.0100', '0.0031', '0.0100', '0.0079', '0.0100', '0.0100', '0.0100', '0.0100', '0.0000', '0.0100', '0.0100', '0.0022', '0.0100', '0.0100', '0.0100', '0.0100', '0.0064', '0.0100', '0.0100', '-0.0000', '0.0100', '-0.0000', '0.0019', '0.0045', '0.0100', '0.0100', '0.0100']\n",
      "Class 1: 57 alphas found: ['-0.0000', '0.0056', '0.0100', '0.0087', '0.0100', '0.0100', '0.0100', '0.0100', '0.0010', '0.0100', '0.0093', '0.0100', '0.0100', '0.0100', '-0.0000', '0.0100', '0.0100', '0.0100', '0.0100', '0.0100', '0.0100', '0.0100', '0.0008', '0.0075', '0.0000', '0.0100', '0.0040', '0.0100', '0.0100', '-0.0000', '0.0100', '0.0100', '0.0100', '0.0100', '0.0100', '0.0100', '0.0100', '0.0100', '0.0100', '0.0100', '0.0100', '0.0037', '0.0100', '0.0100', '0.0061', '0.0100', '0.0093', '0.0100', '0.0100', '0.0040', '0.0100', '0.0100', '-0.0000', '-0.0000', '0.0100', '-0.0000', '0.0100', '0.0100', '0.0100', '0.0100']\n",
      "Class 2: 57 alphas found: ['-0.0000', '0.0036', '0.0100', '0.0047', '0.0100', '0.0100', '0.0100', '0.0100', '0.0041', '0.0100', '0.0100', '0.0100', '0.0100', '0.0100', '-0.0000', '0.0100', '0.0100', '0.0100', '0.0100', '0.0100', '0.0100', '0.0043', '0.0092', '0.0082', '0.0008', '-0.0000', '-0.0000', '0.0100', '0.0100', '0.0004', '0.0100', '0.0100', '0.0100', '0.0100', '0.0100', '0.0100', '0.0100', '0.0100', '0.0100', '0.0100', '0.0100', '0.0100', '0.0100', '0.0100', '0.0100', '0.0093', '0.0100', '0.0100', '0.0100', '0.0100', '0.0100', '0.0100', '0.0100', '0.0072', '0.0010', '0.0016', '0.0096', '0.0100', '0.0100', '0.0100']\n",
      "Class 3: 57 alphas found: ['-0.0000', '0.0100', '0.0100', '0.0100', '0.0100', '0.0100', '0.0100', '0.0100', '0.0027', '0.0100', '0.0100', '0.0100', '0.0100', '0.0082', '-0.0000', '0.0100', '0.0100', '0.0100', '0.0100', '0.0100', '0.0100', '0.0000', '0.0052', '0.0100', '0.0000', '0.0038', '-0.0000', '0.0100', '0.0100', '0.0050', '0.0100', '0.0100', '0.0100', '0.0100', '0.0045', '0.0100', '0.0100', '0.0100', '0.0100', '0.0100', '0.0100', '0.0100', '0.0100', '0.0100', '0.0078', '0.0100', '0.0097', '0.0100', '0.0100', '0.0088', '0.0100', '0.0100', '-0.0000', '0.0010', '0.0087', '0.0005', '0.0100', '0.0100', '0.0091', '0.0100']\n",
      "Class 4: 57 alphas found: ['0.0067', '0.0053', '0.0100', '0.0026', '0.0100', '0.0089', '0.0055', '0.0100', '0.0100', '0.0100', '0.0094', '0.0100', '0.0100', '0.0100', '0.0100', '0.0093', '0.0100', '0.0100', '0.0046', '0.0075', '0.0100', '0.0019', '0.0100', '0.0035', '0.0089', '0.0100', '0.0100', '0.0100', '0.0100', '0.0100', '0.0100', '0.0100', '0.0100', '0.0100', '0.0072', '0.0062', '0.0100', '0.0094', '0.0100', '0.0100', '0.0100', '0.0032', '0.0100', '0.0100', '0.0012', '0.0100', '0.0100', '0.0100', '0.0100', '-0.0000', '0.0100', '0.0100', '-0.0000', '0.0100', '-0.0000', '0.0100', '0.0046', '0.0100', '0.0036', '0.0100']\n",
      "Class 5: 57 alphas found: ['0.0007', '0.0034', '0.0100', '0.0032', '0.0100', '0.0100', '0.0100', '0.0100', '0.0068', '0.0100', '0.0089', '0.0100', '0.0100', '0.0100', '0.0051', '0.0100', '0.0100', '0.0100', '0.0100', '0.0058', '0.0100', '0.0054', '0.0100', '0.0040', '0.0100', '0.0100', '0.0100', '0.0100', '0.0100', '0.0007', '0.0100', '0.0097', '0.0100', '0.0100', '0.0015', '0.0100', '0.0100', '0.0073', '0.0100', '0.0100', '0.0100', '0.0100', '0.0100', '0.0100', '0.0088', '0.0100', '0.0100', '0.0100', '0.0100', '0.0008', '0.0100', '0.0100', '-0.0000', '0.0080', '0.0026', '0.0015', '0.0012', '0.0100', '0.0033', '0.0066']\n",
      "-0.81824466129866\n",
      "-0.5600189235945037\n",
      "0.25822573770415636\n",
      "Set parameter BestObjStop to value 0\n"
     ]
    },
    {
     "name": "stderr",
     "output_type": "stream",
     "text": [
      "2025-02-22 21:11:03 (INFO): Set parameter BestObjStop to value 0\n"
     ]
    },
    {
     "name": "stdout",
     "output_type": "stream",
     "text": [
      "Set parameter BestBdStop to value 0\n"
     ]
    },
    {
     "name": "stderr",
     "output_type": "stream",
     "text": [
      "2025-02-22 21:11:03 (INFO): Set parameter BestBdStop to value 0\n"
     ]
    },
    {
     "name": "stdout",
     "output_type": "stream",
     "text": [
      "Set parameter IntegralityFocus to value 1\n"
     ]
    },
    {
     "name": "stderr",
     "output_type": "stream",
     "text": [
      "2025-02-22 21:11:03 (INFO): Set parameter IntegralityFocus to value 1\n"
     ]
    },
    {
     "name": "stdout",
     "output_type": "stream",
     "text": [
      "Set parameter IntFeasTol to value 0.0001\n"
     ]
    },
    {
     "name": "stderr",
     "output_type": "stream",
     "text": [
      "2025-02-22 21:11:03 (INFO): Set parameter IntFeasTol to value 0.0001\n"
     ]
    },
    {
     "name": "stdout",
     "output_type": "stream",
     "text": [
      "Set parameter DualReductions to value 0\n"
     ]
    },
    {
     "name": "stderr",
     "output_type": "stream",
     "text": [
      "2025-02-22 21:11:03 (INFO): Set parameter DualReductions to value 0\n"
     ]
    },
    {
     "name": "stdout",
     "output_type": "stream",
     "text": [
      "Set parameter Presolve to value 2\n"
     ]
    },
    {
     "name": "stderr",
     "output_type": "stream",
     "text": [
      "2025-02-22 21:11:03 (INFO): Set parameter Presolve to value 2\n"
     ]
    },
    {
     "name": "stdout",
     "output_type": "stream",
     "text": [
      "Set parameter FeasibilityTol to value 0.0001\n"
     ]
    },
    {
     "name": "stderr",
     "output_type": "stream",
     "text": [
      "2025-02-22 21:11:03 (INFO): Set parameter FeasibilityTol to value 0.0001\n"
     ]
    },
    {
     "name": "stdout",
     "output_type": "stream",
     "text": [
      "Set parameter OptimalityTol to value 0.0001\n"
     ]
    },
    {
     "name": "stderr",
     "output_type": "stream",
     "text": [
      "2025-02-22 21:11:03 (INFO): Set parameter OptimalityTol to value 0.0001\n"
     ]
    },
    {
     "name": "stdout",
     "output_type": "stream",
     "text": [
      "Gurobi Optimizer version 11.0.1 build v11.0.1rc0 (linux64 - \"Ubuntu 24.04.1 LTS\")\n"
     ]
    },
    {
     "name": "stderr",
     "output_type": "stream",
     "text": [
      "2025-02-22 21:11:03 (INFO): Gurobi Optimizer version 11.0.1 build v11.0.1rc0 (linux64 - \"Ubuntu 24.04.1 LTS\")\n"
     ]
    },
    {
     "name": "stdout",
     "output_type": "stream",
     "text": [
      "\n"
     ]
    },
    {
     "name": "stderr",
     "output_type": "stream",
     "text": [
      "2025-02-22 21:11:03 (INFO): \n"
     ]
    },
    {
     "name": "stdout",
     "output_type": "stream",
     "text": [
      "CPU model: Intel(R) Xeon(R) CPU E5-2630 v4 @ 2.20GHz, instruction set [SSE2|AVX|AVX2]\n"
     ]
    },
    {
     "name": "stderr",
     "output_type": "stream",
     "text": [
      "2025-02-22 21:11:03 (INFO): CPU model: Intel(R) Xeon(R) CPU E5-2630 v4 @ 2.20GHz, instruction set [SSE2|AVX|AVX2]\n"
     ]
    },
    {
     "name": "stdout",
     "output_type": "stream",
     "text": [
      "Thread count: 20 physical cores, 20 logical processors, using up to 20 threads\n"
     ]
    },
    {
     "name": "stderr",
     "output_type": "stream",
     "text": [
      "2025-02-22 21:11:03 (INFO): Thread count: 20 physical cores, 20 logical processors, using up to 20 threads\n"
     ]
    },
    {
     "name": "stdout",
     "output_type": "stream",
     "text": [
      "\n"
     ]
    },
    {
     "name": "stderr",
     "output_type": "stream",
     "text": [
      "2025-02-22 21:11:03 (INFO): \n"
     ]
    },
    {
     "name": "stdout",
     "output_type": "stream",
     "text": [
      "Optimize a model with 90078 rows, 24492 columns and 289536 nonzeros\n"
     ]
    },
    {
     "name": "stderr",
     "output_type": "stream",
     "text": [
      "2025-02-22 21:11:03 (INFO): Optimize a model with 90078 rows, 24492 columns and 289536 nonzeros\n"
     ]
    },
    {
     "name": "stdout",
     "output_type": "stream",
     "text": [
      "Model fingerprint: 0xd132a2d0\n"
     ]
    },
    {
     "name": "stderr",
     "output_type": "stream",
     "text": [
      "2025-02-22 21:11:03 (INFO): Model fingerprint: 0xd132a2d0\n"
     ]
    },
    {
     "name": "stdout",
     "output_type": "stream",
     "text": [
      "Variable types: 23407 continuous, 1085 integer (1085 binary)\n"
     ]
    },
    {
     "name": "stderr",
     "output_type": "stream",
     "text": [
      "2025-02-22 21:11:03 (INFO): Variable types: 23407 continuous, 1085 integer (1085 binary)\n"
     ]
    },
    {
     "name": "stdout",
     "output_type": "stream",
     "text": [
      "Coefficient statistics:\n"
     ]
    },
    {
     "name": "stderr",
     "output_type": "stream",
     "text": [
      "2025-02-22 21:11:03 (INFO): Coefficient statistics:\n"
     ]
    },
    {
     "name": "stdout",
     "output_type": "stream",
     "text": [
      "  Matrix range     [1e-02, 4e+01]\n"
     ]
    },
    {
     "name": "stderr",
     "output_type": "stream",
     "text": [
      "2025-02-22 21:11:03 (INFO):   Matrix range     [1e-02, 4e+01]\n"
     ]
    },
    {
     "name": "stdout",
     "output_type": "stream",
     "text": [
      "  Objective range  [1e+00, 1e+00]\n"
     ]
    },
    {
     "name": "stderr",
     "output_type": "stream",
     "text": [
      "2025-02-22 21:11:03 (INFO):   Objective range  [1e+00, 1e+00]\n"
     ]
    },
    {
     "name": "stdout",
     "output_type": "stream",
     "text": [
      "  Bounds range     [1e-02, 2e+00]\n"
     ]
    },
    {
     "name": "stderr",
     "output_type": "stream",
     "text": [
      "2025-02-22 21:11:03 (INFO):   Bounds range     [1e-02, 2e+00]\n"
     ]
    },
    {
     "name": "stdout",
     "output_type": "stream",
     "text": [
      "  RHS range        [1e-02, 6e+01]\n"
     ]
    },
    {
     "name": "stderr",
     "output_type": "stream",
     "text": [
      "2025-02-22 21:11:03 (INFO):   RHS range        [1e-02, 6e+01]\n"
     ]
    },
    {
     "name": "stdout",
     "output_type": "stream",
     "text": [
      "\n"
     ]
    },
    {
     "name": "stderr",
     "output_type": "stream",
     "text": [
      "2025-02-22 21:11:03 (INFO): \n"
     ]
    },
    {
     "name": "stdout",
     "output_type": "stream",
     "text": [
      "Loaded user MIP start with objective 0.258226\n",
      "\n",
      "Loaded user MIP start with objective 0.258226\n"
     ]
    },
    {
     "name": "stderr",
     "output_type": "stream",
     "text": [
      "2025-02-22 21:11:03 (INFO): Loaded user MIP start with objective 0.258226\n"
     ]
    },
    {
     "name": "stdout",
     "output_type": "stream",
     "text": [
      "\n"
     ]
    },
    {
     "name": "stderr",
     "output_type": "stream",
     "text": [
      "2025-02-22 21:11:03 (INFO): \n"
     ]
    },
    {
     "name": "stdout",
     "output_type": "stream",
     "text": [
      "Presolve removed 361 rows and 361 columns (presolve time = 5s) ...\n"
     ]
    },
    {
     "name": "stderr",
     "output_type": "stream",
     "text": [
      "2025-02-22 21:11:08 (INFO): Presolve removed 361 rows and 361 columns (presolve time = 5s) ...\n"
     ]
    },
    {
     "name": "stdout",
     "output_type": "stream",
     "text": [
      "Presolve removed 631 rows and 451 columns (presolve time = 10s) ...\n"
     ]
    },
    {
     "name": "stderr",
     "output_type": "stream",
     "text": [
      "2025-02-22 21:11:13 (INFO): Presolve removed 631 rows and 451 columns (presolve time = 10s) ...\n"
     ]
    },
    {
     "name": "stdout",
     "output_type": "stream",
     "text": [
      "Presolve removed 2653 rows and 751 columns (presolve time = 15s) ...\n"
     ]
    },
    {
     "name": "stderr",
     "output_type": "stream",
     "text": [
      "2025-02-22 21:11:18 (INFO): Presolve removed 2653 rows and 751 columns (presolve time = 15s) ...\n"
     ]
    },
    {
     "name": "stdout",
     "output_type": "stream",
     "text": [
      "Presolve removed 2653 rows and 751 columns (presolve time = 20s) ...\n"
     ]
    },
    {
     "name": "stderr",
     "output_type": "stream",
     "text": [
      "2025-02-22 21:11:23 (INFO): Presolve removed 2653 rows and 751 columns (presolve time = 20s) ...\n"
     ]
    },
    {
     "name": "stdout",
     "output_type": "stream",
     "text": [
      "Presolve removed 2655 rows and 750 columns\n"
     ]
    },
    {
     "name": "stderr",
     "output_type": "stream",
     "text": [
      "2025-02-22 21:11:27 (INFO): Presolve removed 2655 rows and 750 columns\n"
     ]
    },
    {
     "name": "stdout",
     "output_type": "stream",
     "text": [
      "Presolve time: 24.10s\n"
     ]
    },
    {
     "name": "stderr",
     "output_type": "stream",
     "text": [
      "2025-02-22 21:11:27 (INFO): Presolve time: 24.10s\n"
     ]
    },
    {
     "name": "stdout",
     "output_type": "stream",
     "text": [
      "Presolved: 87423 rows, 23742 columns, 307466 nonzeros\n"
     ]
    },
    {
     "name": "stderr",
     "output_type": "stream",
     "text": [
      "2025-02-22 21:11:27 (INFO): Presolved: 87423 rows, 23742 columns, 307466 nonzeros\n"
     ]
    },
    {
     "name": "stdout",
     "output_type": "stream",
     "text": [
      "Found heuristic solution: objective 0.2582257\n"
     ]
    },
    {
     "name": "stderr",
     "output_type": "stream",
     "text": [
      "2025-02-22 21:11:27 (INFO): Found heuristic solution: objective 0.2582257\n"
     ]
    },
    {
     "name": "stdout",
     "output_type": "stream",
     "text": [
      "Variable types: 22657 continuous, 1085 integer (1081 binary)\n"
     ]
    },
    {
     "name": "stderr",
     "output_type": "stream",
     "text": [
      "2025-02-22 21:11:27 (INFO): Variable types: 22657 continuous, 1085 integer (1081 binary)\n"
     ]
    },
    {
     "name": "stdout",
     "output_type": "stream",
     "text": [
      "\n"
     ]
    },
    {
     "name": "stderr",
     "output_type": "stream",
     "text": [
      "2025-02-22 21:11:27 (INFO): \n"
     ]
    },
    {
     "name": "stdout",
     "output_type": "stream",
     "text": [
      "Deterministic concurrent LP optimizer: primal and dual simplex (primal and dual model)\n"
     ]
    },
    {
     "name": "stderr",
     "output_type": "stream",
     "text": [
      "2025-02-22 21:11:27 (INFO): Deterministic concurrent LP optimizer: primal and dual simplex (primal and dual model)\n"
     ]
    },
    {
     "name": "stdout",
     "output_type": "stream",
     "text": [
      "Showing primal log only...\n"
     ]
    },
    {
     "name": "stderr",
     "output_type": "stream",
     "text": [
      "2025-02-22 21:11:27 (INFO): Showing primal log only...\n"
     ]
    },
    {
     "name": "stdout",
     "output_type": "stream",
     "text": [
      "\n"
     ]
    },
    {
     "name": "stderr",
     "output_type": "stream",
     "text": [
      "2025-02-22 21:11:27 (INFO): \n"
     ]
    },
    {
     "name": "stdout",
     "output_type": "stream",
     "text": [
      "Root relaxation presolved: 87421 rows, 23742 columns, 307462 nonzeros\n"
     ]
    },
    {
     "name": "stderr",
     "output_type": "stream",
     "text": [
      "2025-02-22 21:11:28 (INFO): Root relaxation presolved: 87421 rows, 23742 columns, 307462 nonzeros\n"
     ]
    },
    {
     "name": "stdout",
     "output_type": "stream",
     "text": [
      "\n"
     ]
    },
    {
     "name": "stderr",
     "output_type": "stream",
     "text": [
      "2025-02-22 21:11:28 (INFO): \n"
     ]
    },
    {
     "name": "stdout",
     "output_type": "stream",
     "text": [
      "\n"
     ]
    },
    {
     "name": "stderr",
     "output_type": "stream",
     "text": [
      "2025-02-22 21:11:28 (INFO): \n"
     ]
    },
    {
     "name": "stdout",
     "output_type": "stream",
     "text": [
      "Root simplex log...\n"
     ]
    },
    {
     "name": "stderr",
     "output_type": "stream",
     "text": [
      "2025-02-22 21:11:28 (INFO): Root simplex log...\n"
     ]
    },
    {
     "name": "stdout",
     "output_type": "stream",
     "text": [
      "\n"
     ]
    },
    {
     "name": "stderr",
     "output_type": "stream",
     "text": [
      "2025-02-22 21:11:28 (INFO): \n"
     ]
    },
    {
     "name": "stdout",
     "output_type": "stream",
     "text": [
      "Iteration    Objective       Primal Inf.    Dual Inf.      Time\n"
     ]
    },
    {
     "name": "stderr",
     "output_type": "stream",
     "text": [
      "2025-02-22 21:11:28 (INFO): Iteration    Objective       Primal Inf.    Dual Inf.      Time\n"
     ]
    },
    {
     "name": "stdout",
     "output_type": "stream",
     "text": [
      "       0    2.2184751e-02   4.678165e+02   1.635289e+10     25s\n"
     ]
    },
    {
     "name": "stderr",
     "output_type": "stream",
     "text": [
      "2025-02-22 21:11:28 (INFO):        0    2.2184751e-02   4.678165e+02   1.635289e+10     25s\n"
     ]
    },
    {
     "name": "stdout",
     "output_type": "stream",
     "text": [
      "Concurrent spin time: 0.04s\n"
     ]
    },
    {
     "name": "stderr",
     "output_type": "stream",
     "text": [
      "2025-02-22 21:11:30 (INFO): Concurrent spin time: 0.04s\n"
     ]
    },
    {
     "name": "stdout",
     "output_type": "stream",
     "text": [
      "\n"
     ]
    },
    {
     "name": "stderr",
     "output_type": "stream",
     "text": [
      "2025-02-22 21:11:30 (INFO): \n"
     ]
    },
    {
     "name": "stdout",
     "output_type": "stream",
     "text": [
      "Solved with dual simplex\n"
     ]
    },
    {
     "name": "stderr",
     "output_type": "stream",
     "text": [
      "2025-02-22 21:11:30 (INFO): Solved with dual simplex\n"
     ]
    },
    {
     "name": "stdout",
     "output_type": "stream",
     "text": [
      "\n"
     ]
    },
    {
     "name": "stderr",
     "output_type": "stream",
     "text": [
      "2025-02-22 21:11:30 (INFO): \n"
     ]
    },
    {
     "name": "stdout",
     "output_type": "stream",
     "text": [
      "Root relaxation: objective -2.845220e+00, 23881 iterations, 2.63 seconds (1.97 work units)\n"
     ]
    },
    {
     "name": "stderr",
     "output_type": "stream",
     "text": [
      "2025-02-22 21:11:30 (INFO): Root relaxation: objective -2.845220e+00, 23881 iterations, 2.63 seconds (1.97 work units)\n"
     ]
    },
    {
     "name": "stdout",
     "output_type": "stream",
     "text": [
      "Total elapsed time = 35.27s (DegenMoves)\n"
     ]
    },
    {
     "name": "stderr",
     "output_type": "stream",
     "text": [
      "2025-02-22 21:11:38 (INFO): Total elapsed time = 35.27s (DegenMoves)\n"
     ]
    },
    {
     "name": "stdout",
     "output_type": "stream",
     "text": [
      "\n"
     ]
    },
    {
     "name": "stderr",
     "output_type": "stream",
     "text": [
      "2025-02-22 21:11:39 (INFO): \n"
     ]
    },
    {
     "name": "stdout",
     "output_type": "stream",
     "text": [
      "    Nodes    |    Current Node    |     Objective Bounds      |     Work\n"
     ]
    },
    {
     "name": "stderr",
     "output_type": "stream",
     "text": [
      "2025-02-22 21:11:39 (INFO):     Nodes    |    Current Node    |     Objective Bounds      |     Work\n"
     ]
    },
    {
     "name": "stdout",
     "output_type": "stream",
     "text": [
      " Expl Unexpl |  Obj  Depth IntInf | Incumbent    BestBd   Gap | It/Node Time\n"
     ]
    },
    {
     "name": "stderr",
     "output_type": "stream",
     "text": [
      "2025-02-22 21:11:39 (INFO):  Expl Unexpl |  Obj  Depth IntInf | Incumbent    BestBd   Gap | It/Node Time\n"
     ]
    },
    {
     "name": "stdout",
     "output_type": "stream",
     "text": [
      "\n"
     ]
    },
    {
     "name": "stderr",
     "output_type": "stream",
     "text": [
      "2025-02-22 21:11:39 (INFO): \n"
     ]
    },
    {
     "name": "stdout",
     "output_type": "stream",
     "text": [
      "     0     0   -2.84522    0  140    0.25823   -2.84522  1202%     -   36s\n"
     ]
    },
    {
     "name": "stderr",
     "output_type": "stream",
     "text": [
      "2025-02-22 21:11:39 (INFO):      0     0   -2.84522    0  140    0.25823   -2.84522  1202%     -   36s\n"
     ]
    },
    {
     "name": "stdout",
     "output_type": "stream",
     "text": [
      "     0     0   -2.66659    0  215    0.25823   -2.66659  1133%     -   69s\n"
     ]
    },
    {
     "name": "stderr",
     "output_type": "stream",
     "text": [
      "2025-02-22 21:12:12 (INFO):      0     0   -2.66659    0  215    0.25823   -2.66659  1133%     -   69s\n"
     ]
    },
    {
     "name": "stdout",
     "output_type": "stream",
     "text": [
      "     0     0   -2.65919    0  214    0.25823   -2.65919  1130%     -   72s\n"
     ]
    },
    {
     "name": "stderr",
     "output_type": "stream",
     "text": [
      "2025-02-22 21:12:15 (INFO):      0     0   -2.65919    0  214    0.25823   -2.65919  1130%     -   72s\n"
     ]
    },
    {
     "name": "stdout",
     "output_type": "stream",
     "text": [
      "     0     0   -2.64254    0  188    0.25823   -2.64254  1123%     -   74s\n"
     ]
    },
    {
     "name": "stderr",
     "output_type": "stream",
     "text": [
      "2025-02-22 21:12:18 (INFO):      0     0   -2.64254    0  188    0.25823   -2.64254  1123%     -   74s\n"
     ]
    },
    {
     "name": "stdout",
     "output_type": "stream",
     "text": [
      "     0     0   -2.62861    0  183    0.25823   -2.62861  1118%     -   79s\n"
     ]
    },
    {
     "name": "stderr",
     "output_type": "stream",
     "text": [
      "2025-02-22 21:12:22 (INFO):      0     0   -2.62861    0  183    0.25823   -2.62861  1118%     -   79s\n"
     ]
    },
    {
     "name": "stdout",
     "output_type": "stream",
     "text": [
      "     0     0   -2.62861    0  182    0.25823   -2.62861  1118%     -   82s\n"
     ]
    },
    {
     "name": "stderr",
     "output_type": "stream",
     "text": [
      "2025-02-22 21:12:25 (INFO):      0     0   -2.62861    0  182    0.25823   -2.62861  1118%     -   82s\n"
     ]
    },
    {
     "name": "stdout",
     "output_type": "stream",
     "text": [
      "     0     0   -2.62861    0  180    0.25823   -2.62861  1118%     -   86s\n"
     ]
    },
    {
     "name": "stderr",
     "output_type": "stream",
     "text": [
      "2025-02-22 21:12:30 (INFO):      0     0   -2.62861    0  180    0.25823   -2.62861  1118%     -   86s\n"
     ]
    },
    {
     "name": "stdout",
     "output_type": "stream",
     "text": [
      "     0     0   -2.62861    0  177    0.25823   -2.62861  1118%     -   89s\n"
     ]
    },
    {
     "name": "stderr",
     "output_type": "stream",
     "text": [
      "2025-02-22 21:12:32 (INFO):      0     0   -2.62861    0  177    0.25823   -2.62861  1118%     -   89s\n"
     ]
    },
    {
     "name": "stdout",
     "output_type": "stream",
     "text": [
      "     0     0   -2.62701    0  153    0.25823   -2.62701  1117%     -   92s\n"
     ]
    },
    {
     "name": "stderr",
     "output_type": "stream",
     "text": [
      "2025-02-22 21:12:36 (INFO):      0     0   -2.62701    0  153    0.25823   -2.62701  1117%     -   92s\n"
     ]
    },
    {
     "name": "stdout",
     "output_type": "stream",
     "text": [
      "     0     0   -2.62701    0  184    0.25823   -2.62701  1117%     -   94s\n"
     ]
    },
    {
     "name": "stderr",
     "output_type": "stream",
     "text": [
      "2025-02-22 21:12:37 (INFO):      0     0   -2.62701    0  184    0.25823   -2.62701  1117%     -   94s\n"
     ]
    },
    {
     "name": "stdout",
     "output_type": "stream",
     "text": [
      "     0     0   -2.62701    0  184    0.25823   -2.62701  1117%     -   97s\n"
     ]
    },
    {
     "name": "stderr",
     "output_type": "stream",
     "text": [
      "2025-02-22 21:12:40 (INFO):      0     0   -2.62701    0  184    0.25823   -2.62701  1117%     -   97s\n"
     ]
    },
    {
     "name": "stdout",
     "output_type": "stream",
     "text": [
      "     0     0   -2.62701    0  148    0.25823   -2.62701  1117%     -   98s\n"
     ]
    },
    {
     "name": "stderr",
     "output_type": "stream",
     "text": [
      "2025-02-22 21:12:41 (INFO):      0     0   -2.62701    0  148    0.25823   -2.62701  1117%     -   98s\n"
     ]
    },
    {
     "name": "stdout",
     "output_type": "stream",
     "text": [
      "     0     0   -2.62093    0  150    0.25823   -2.62093  1115%     -  101s\n"
     ]
    },
    {
     "name": "stderr",
     "output_type": "stream",
     "text": [
      "2025-02-22 21:12:44 (INFO):      0     0   -2.62093    0  150    0.25823   -2.62093  1115%     -  101s\n"
     ]
    },
    {
     "name": "stdout",
     "output_type": "stream",
     "text": [
      "     0     0   -2.62093    0  150    0.25823   -2.62093  1115%     -  101s\n"
     ]
    },
    {
     "name": "stderr",
     "output_type": "stream",
     "text": [
      "2025-02-22 21:12:45 (INFO):      0     0   -2.62093    0  150    0.25823   -2.62093  1115%     -  101s\n"
     ]
    },
    {
     "name": "stdout",
     "output_type": "stream",
     "text": [
      "     0     0   -2.62077    0  150    0.25823   -2.62077  1115%     -  104s\n"
     ]
    },
    {
     "name": "stderr",
     "output_type": "stream",
     "text": [
      "2025-02-22 21:12:48 (INFO):      0     0   -2.62077    0  150    0.25823   -2.62077  1115%     -  104s\n"
     ]
    },
    {
     "name": "stdout",
     "output_type": "stream",
     "text": [
      "     0     0   -2.62077    0  149    0.25823   -2.62077  1115%     -  105s\n"
     ]
    },
    {
     "name": "stderr",
     "output_type": "stream",
     "text": [
      "2025-02-22 21:12:48 (INFO):      0     0   -2.62077    0  149    0.25823   -2.62077  1115%     -  105s\n"
     ]
    },
    {
     "name": "stdout",
     "output_type": "stream",
     "text": [
      "     0     0   -2.62077    0  149    0.25823   -2.62077  1115%     -  112s\n"
     ]
    },
    {
     "name": "stderr",
     "output_type": "stream",
     "text": [
      "2025-02-22 21:12:56 (INFO):      0     0   -2.62077    0  149    0.25823   -2.62077  1115%     -  112s\n"
     ]
    },
    {
     "name": "stdout",
     "output_type": "stream",
     "text": [
      "     0     2   -2.62077    0  149    0.25823   -2.62077  1115%     -  127s\n"
     ]
    },
    {
     "name": "stderr",
     "output_type": "stream",
     "text": [
      "2025-02-22 21:13:11 (INFO):      0     2   -2.62077    0  149    0.25823   -2.62077  1115%     -  127s\n"
     ]
    },
    {
     "name": "stdout",
     "output_type": "stream",
     "text": [
      "     3     8   -2.50443    2  131    0.25823   -2.61721  1114%  4289  130s\n"
     ]
    },
    {
     "name": "stderr",
     "output_type": "stream",
     "text": [
      "2025-02-22 21:13:13 (INFO):      3     8   -2.50443    2  131    0.25823   -2.61721  1114%  4289  130s\n"
     ]
    },
    {
     "name": "stdout",
     "output_type": "stream",
     "text": [
      "    27    23   -2.49467    5  144    0.25823   -2.59034  1103%  1161  138s\n"
     ]
    },
    {
     "name": "stderr",
     "output_type": "stream",
     "text": [
      "2025-02-22 21:13:21 (INFO):     27    23   -2.49467    5  144    0.25823   -2.59034  1103%  1161  138s\n"
     ]
    },
    {
     "name": "stdout",
     "output_type": "stream",
     "text": [
      "    45    39   -2.49289    6  127    0.25823   -2.58688  1102%   878  140s\n"
     ]
    },
    {
     "name": "stderr",
     "output_type": "stream",
     "text": [
      "2025-02-22 21:13:23 (INFO):     45    39   -2.49289    6  127    0.25823   -2.58688  1102%   878  140s\n"
     ]
    },
    {
     "name": "stdout",
     "output_type": "stream",
     "text": [
      "    85    67   -2.38391    7  133    0.25823   -2.57783  1098%   754  147s\n"
     ]
    },
    {
     "name": "stderr",
     "output_type": "stream",
     "text": [
      "2025-02-22 21:13:30 (INFO):     85    67   -2.38391    7  133    0.25823   -2.57783  1098%   754  147s\n"
     ]
    },
    {
     "name": "stdout",
     "output_type": "stream",
     "text": [
      "   105    82   -2.47962    8  126    0.25823   -2.57783  1098%   717  150s\n"
     ]
    },
    {
     "name": "stderr",
     "output_type": "stream",
     "text": [
      "2025-02-22 21:13:33 (INFO):    105    82   -2.47962    8  126    0.25823   -2.57783  1098%   717  150s\n"
     ]
    },
    {
     "name": "stdout",
     "output_type": "stream",
     "text": [
      "   168   129   -2.47243    9  124    0.25823   -2.57783  1098%   622  155s\n"
     ]
    },
    {
     "name": "stderr",
     "output_type": "stream",
     "text": [
      "2025-02-22 21:13:39 (INFO):    168   129   -2.47243    9  124    0.25823   -2.57783  1098%   622  155s\n"
     ]
    },
    {
     "name": "stdout",
     "output_type": "stream",
     "text": [
      "\n",
      "Interrupt request received\n",
      "   192   140   -2.47230   10  124    0.25823   -2.57783  1098%   572  164s\n"
     ]
    },
    {
     "name": "stderr",
     "output_type": "stream",
     "text": [
      "2025-02-22 21:13:47 (INFO):    192   140   -2.47230   10  124    0.25823   -2.57783  1098%   572  164s\n"
     ]
    },
    {
     "name": "stdout",
     "output_type": "stream",
     "text": [
      "\n"
     ]
    },
    {
     "name": "stderr",
     "output_type": "stream",
     "text": [
      "2025-02-22 21:13:47 (INFO): \n"
     ]
    },
    {
     "name": "stdout",
     "output_type": "stream",
     "text": [
      "Cutting planes:\n"
     ]
    },
    {
     "name": "stderr",
     "output_type": "stream",
     "text": [
      "2025-02-22 21:13:47 (INFO): Cutting planes:\n"
     ]
    },
    {
     "name": "stdout",
     "output_type": "stream",
     "text": [
      "  Gomory: 1\n"
     ]
    },
    {
     "name": "stderr",
     "output_type": "stream",
     "text": [
      "2025-02-22 21:13:47 (INFO):   Gomory: 1\n"
     ]
    },
    {
     "name": "stdout",
     "output_type": "stream",
     "text": [
      "  Cover: 20\n"
     ]
    },
    {
     "name": "stderr",
     "output_type": "stream",
     "text": [
      "2025-02-22 21:13:47 (INFO):   Cover: 20\n"
     ]
    },
    {
     "name": "stdout",
     "output_type": "stream",
     "text": [
      "  Implied bound: 234\n"
     ]
    },
    {
     "name": "stderr",
     "output_type": "stream",
     "text": [
      "2025-02-22 21:13:47 (INFO):   Implied bound: 234\n"
     ]
    },
    {
     "name": "stdout",
     "output_type": "stream",
     "text": [
      "  Clique: 3\n"
     ]
    },
    {
     "name": "stderr",
     "output_type": "stream",
     "text": [
      "2025-02-22 21:13:47 (INFO):   Clique: 3\n"
     ]
    },
    {
     "name": "stdout",
     "output_type": "stream",
     "text": [
      "  MIR: 80\n"
     ]
    },
    {
     "name": "stderr",
     "output_type": "stream",
     "text": [
      "2025-02-22 21:13:47 (INFO):   MIR: 80\n"
     ]
    },
    {
     "name": "stdout",
     "output_type": "stream",
     "text": [
      "  Flow cover: 34\n"
     ]
    },
    {
     "name": "stderr",
     "output_type": "stream",
     "text": [
      "2025-02-22 21:13:47 (INFO):   Flow cover: 34\n"
     ]
    },
    {
     "name": "stdout",
     "output_type": "stream",
     "text": [
      "  RLT: 98\n"
     ]
    },
    {
     "name": "stderr",
     "output_type": "stream",
     "text": [
      "2025-02-22 21:13:47 (INFO):   RLT: 98\n"
     ]
    },
    {
     "name": "stdout",
     "output_type": "stream",
     "text": [
      "  Relax-and-lift: 101\n"
     ]
    },
    {
     "name": "stderr",
     "output_type": "stream",
     "text": [
      "2025-02-22 21:13:47 (INFO):   Relax-and-lift: 101\n"
     ]
    },
    {
     "name": "stdout",
     "output_type": "stream",
     "text": [
      "  BQP: 44\n"
     ]
    },
    {
     "name": "stderr",
     "output_type": "stream",
     "text": [
      "2025-02-22 21:13:47 (INFO):   BQP: 44\n"
     ]
    },
    {
     "name": "stdout",
     "output_type": "stream",
     "text": [
      "\n"
     ]
    },
    {
     "name": "stderr",
     "output_type": "stream",
     "text": [
      "2025-02-22 21:13:47 (INFO): \n"
     ]
    },
    {
     "name": "stdout",
     "output_type": "stream",
     "text": [
      "Explored 216 nodes (252559 simplex iterations) in 164.74 seconds (193.10 work units)\n"
     ]
    },
    {
     "name": "stderr",
     "output_type": "stream",
     "text": [
      "2025-02-22 21:13:48 (INFO): Explored 216 nodes (252559 simplex iterations) in 164.74 seconds (193.10 work units)\n"
     ]
    },
    {
     "name": "stdout",
     "output_type": "stream",
     "text": [
      "Thread count was 20 (of 20 available processors)\n"
     ]
    },
    {
     "name": "stderr",
     "output_type": "stream",
     "text": [
      "2025-02-22 21:13:48 (INFO): Thread count was 20 (of 20 available processors)\n"
     ]
    },
    {
     "name": "stdout",
     "output_type": "stream",
     "text": [
      "\n"
     ]
    },
    {
     "name": "stderr",
     "output_type": "stream",
     "text": [
      "2025-02-22 21:13:48 (INFO): \n"
     ]
    },
    {
     "name": "stdout",
     "output_type": "stream",
     "text": [
      "Solution count 1: 0.258226 \n"
     ]
    },
    {
     "name": "stderr",
     "output_type": "stream",
     "text": [
      "2025-02-22 21:13:48 (INFO): Solution count 1: 0.258226 \n"
     ]
    },
    {
     "name": "stdout",
     "output_type": "stream",
     "text": [
      "\n"
     ]
    },
    {
     "name": "stderr",
     "output_type": "stream",
     "text": [
      "2025-02-22 21:13:48 (INFO): \n"
     ]
    },
    {
     "name": "stdout",
     "output_type": "stream",
     "text": [
      "Solve interrupted\n"
     ]
    },
    {
     "name": "stderr",
     "output_type": "stream",
     "text": [
      "2025-02-22 21:13:48 (INFO): Solve interrupted\n"
     ]
    },
    {
     "name": "stdout",
     "output_type": "stream",
     "text": [
      "Best objective 2.582257373667e-01, best bound -2.577827662618e+00, gap 1098.2846%\n"
     ]
    },
    {
     "name": "stderr",
     "output_type": "stream",
     "text": [
      "2025-02-22 21:13:48 (INFO): Best objective 2.582257373667e-01, best bound -2.577827662618e+00, gap 1098.2846%\n"
     ]
    },
    {
     "name": "stdout",
     "output_type": "stream",
     "text": [
      "\n"
     ]
    },
    {
     "name": "stderr",
     "output_type": "stream",
     "text": [
      "2025-02-22 21:13:48 (INFO): \n"
     ]
    },
    {
     "name": "stdout",
     "output_type": "stream",
     "text": [
      "User-callback calls 33214, time in user-callback 0.21 sec\n"
     ]
    },
    {
     "name": "stderr",
     "output_type": "stream",
     "text": [
      "2025-02-22 21:13:48 (INFO): User-callback calls 33214, time in user-callback 0.21 sec\n",
      "2025-02-22 21:13:48 (INFO): Optimization status: 11\n",
      "2025-02-22 21:13:48 (INFO): Original -0.96511, Opt objective 0.25823, Opt bound: -2.57783\n"
     ]
    },
    {
     "name": "stdout",
     "output_type": "stream",
     "text": [
      "[0, 3, 2, 3, 5, 2, 2, 5, 4, 4, 0, 0, 1, 1, 4, 1, 1, 5, 3, 3, 2, 1, 0, 3, 5, 4, 5, 2, 0, 4, 1, 2, 0, 3, 2, 3, 3, 1, 0, 4, 5, 3, 5, 0, 2, 0, 4, 4, 5, 2, 5, 5, 2, 0, 1, 4, 1, 4, 1, 3]\n"
     ]
    },
    {
     "name": "stderr",
     "output_type": "stream",
     "text": [
      "2025-02-22 21:13:48 (INFO): Certified accuracy (poisoning): 0.0\n"
     ]
    },
    {
     "name": "stdout",
     "output_type": "stream",
     "text": [
      "tensor([-0.9180, -0.5600, -0.8182, -0.9651, -0.9398, -0.9616])\n"
     ]
    },
    {
     "data": {
      "text/plain": [
       "{'accuracy_test': 1.0,\n",
       " 'accuracy_trn': 0.9833333492279053,\n",
       " 'accuracy_cert_pois_robust': 0.0,\n",
       " 'accuracy_cert_pois_unrobust': 0,\n",
       " 'delta': 0.02,\n",
       " 'delta_absolute': 0.02,\n",
       " 'y_true_cls': [1],\n",
       " 'y_pred_logit': [-0.9179834723472595,\n",
       "  -0.5600188970565796,\n",
       "  -0.8182446360588074,\n",
       "  -0.9651127457618713,\n",
       "  -0.9398414492607117,\n",
       "  -0.9615523219108582],\n",
       " 'y_is_robust': False,\n",
       " 'y_flip': 0,\n",
       " 'obj': 0.2582257373667405,\n",
       " 'obj_bound': -2.577827662618215,\n",
       " 'opt_status': 11,\n",
       " 'idx_train': [1683,\n",
       "  271,\n",
       "  442,\n",
       "  1073,\n",
       "  1310,\n",
       "  1513,\n",
       "  935,\n",
       "  210,\n",
       "  511,\n",
       "  536,\n",
       "  164,\n",
       "  302,\n",
       "  1211,\n",
       "  2013,\n",
       "  1057,\n",
       "  1841,\n",
       "  1974,\n",
       "  1625,\n",
       "  2011,\n",
       "  86,\n",
       "  531,\n",
       "  916,\n",
       "  1230,\n",
       "  892,\n",
       "  734,\n",
       "  274,\n",
       "  505,\n",
       "  100,\n",
       "  1623,\n",
       "  679],\n",
       " 'idx_val': [864,\n",
       "  1597,\n",
       "  1735,\n",
       "  1027,\n",
       "  1245,\n",
       "  178,\n",
       "  200,\n",
       "  5,\n",
       "  1985,\n",
       "  1555,\n",
       "  694,\n",
       "  1741,\n",
       "  788,\n",
       "  1739,\n",
       "  1246,\n",
       "  363,\n",
       "  1878,\n",
       "  1912,\n",
       "  1095,\n",
       "  950,\n",
       "  901,\n",
       "  2038,\n",
       "  561,\n",
       "  74,\n",
       "  1510,\n",
       "  2001,\n",
       "  963,\n",
       "  1317,\n",
       "  735,\n",
       "  1135],\n",
       " 'idx_labeled': [1683,\n",
       "  271,\n",
       "  442,\n",
       "  1073,\n",
       "  1310,\n",
       "  1513,\n",
       "  935,\n",
       "  210,\n",
       "  511,\n",
       "  536,\n",
       "  164,\n",
       "  302,\n",
       "  1211,\n",
       "  2013,\n",
       "  1057,\n",
       "  1841,\n",
       "  1974,\n",
       "  1625,\n",
       "  2011,\n",
       "  86,\n",
       "  531,\n",
       "  916,\n",
       "  1230,\n",
       "  892,\n",
       "  734,\n",
       "  274,\n",
       "  505,\n",
       "  100,\n",
       "  1623,\n",
       "  679,\n",
       "  864,\n",
       "  1597,\n",
       "  1735,\n",
       "  1027,\n",
       "  1245,\n",
       "  178,\n",
       "  200,\n",
       "  5,\n",
       "  1985,\n",
       "  1555,\n",
       "  694,\n",
       "  1741,\n",
       "  788,\n",
       "  1739,\n",
       "  1246,\n",
       "  363,\n",
       "  1878,\n",
       "  1912,\n",
       "  1095,\n",
       "  950,\n",
       "  901,\n",
       "  2038,\n",
       "  561,\n",
       "  74,\n",
       "  1510,\n",
       "  2001,\n",
       "  963,\n",
       "  1317,\n",
       "  735,\n",
       "  1135],\n",
       " 'idx_test': [658],\n",
       " 'csbm_mu': 0,\n",
       " 'csbm_p': 0,\n",
       " 'csbm_q': 0,\n",
       " 'data_dim': 3703,\n",
       " 'min_ypred': -0.9651127457618713,\n",
       " 'max_ypred': -0.5600188970565796,\n",
       " 'min_ntklabeled': 0.25,\n",
       " 'max_ntklabeled': 42.20506172839506,\n",
       " 'avg_ntkunlabeled': 3.173607639256407,\n",
       " 'min_ntkunlabeled': 1.538998710595349,\n",
       " 'max_ntkunlabeled': 10.314597219359122,\n",
       " 'cond': 425.91827948489646,\n",
       " 'cond_regularized': 416.996376880548}"
      ]
     },
     "execution_count": 17,
     "metadata": {},
     "output_type": "execute_result"
    }
   ],
   "source": [
    "certificate_params[\"target_idx\"] = 1\n",
    "certificate_params[\"delta\"] = 0.02\n",
    "certificate_params[\"LogToConsole\"] = 1\n",
    "certificate_params[\"OutputFlag\"] = 1\n",
    "model_params[\"regularizer\"] = 0.01\n",
    "run(data_params, model_params, certificate_params, verbosity_params, other_params, seed)\n"
   ]
  },
  {
   "cell_type": "code",
   "execution_count": null,
   "metadata": {},
   "outputs": [],
   "source": []
  }
 ],
 "metadata": {
  "kernelspec": {
   "display_name": "Python 3",
   "language": "python",
   "name": "python3"
  },
  "language_info": {
   "codemirror_mode": {
    "name": "ipython",
    "version": 3
   },
   "file_extension": ".py",
   "mimetype": "text/x-python",
   "name": "python",
   "nbconvert_exporter": "python",
   "pygments_lexer": "ipython3",
   "version": "3.11.5"
  }
 },
 "nbformat": 4,
 "nbformat_minor": 2
}
