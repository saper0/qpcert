{
 "cells": [
  {
   "cell_type": "code",
   "execution_count": 1,
   "metadata": {},
   "outputs": [],
   "source": [
    "%load_ext autoreload\n",
    "%autoreload 2"
   ]
  },
  {
   "cell_type": "code",
   "execution_count": 2,
   "metadata": {},
   "outputs": [],
   "source": [
    "import torch\n",
    "import numpy as np\n",
    "from exp_certify_binaryclass_onenode import run"
   ]
  },
  {
   "cell_type": "code",
   "execution_count": 3,
   "metadata": {},
   "outputs": [],
   "source": [
    "seed = 2\n",
    "\n",
    "data_params = dict(\n",
    "    dataset = \"us_county\",\n",
    "    learning_setting = \"transductive\", # or \"transdructive\"\n",
    "    specification = dict(\n",
    "        year = 2016,\n",
    "        n_per_class = 50,\n",
    "        fraction_test = 0.01,\n",
    "        data_dir = \"./data\",\n",
    "        make_undirected = True,\n",
    "        binary_attr = False,\n",
    "        balance_test = True,\n",
    "        seed = 2\n",
    "    )\n",
    ")\n",
    "\n",
    "model_params = dict(\n",
    "    label = \"GCN\",\n",
    "    model = \"GCN\",\n",
    "    normalization = \"row_normalization\",\n",
    "    depth = 1,\n",
    "    #regularizer = 1e-8\n",
    "    regularizer = 0.1,\n",
    "    pred_method = \"svm\",\n",
    "    activation = \"relu\"\n",
    ")\n",
    "\n",
    "certificate_params = dict(\n",
    "    n_adversarial = 140, # number adversarial nodes\n",
    "    perturbation_model = \"l2\",\n",
    "    delta = 0.01 # l0: local budget = delta * feature_dim\n",
    ")\n",
    "\n",
    "verbosity_params = dict(\n",
    "    debug_lvl = \"warning\"\n",
    ")  \n",
    "\n",
    "other_params = dict(\n",
    "    device = \"cpu\",\n",
    "    dtype = torch.float64,\n",
    "    allow_tf32 = False\n",
    ")"
   ]
  },
  {
   "cell_type": "code",
   "execution_count": 5,
   "metadata": {},
   "outputs": [
    {
     "name": "stderr",
     "output_type": "stream",
     "text": [
      "2024-07-29 18:30:36 (INFO): Starting experiment exp_certify_binaryclass_onenode with configuration:\n",
      "2024-07-29 18:30:36 (INFO): data_params: {'dataset': 'us_county', 'learning_setting': 'transductive', 'specification': {'year': 2016, 'n_per_class': 40, 'fraction_test': 0.01, 'data_dir': './data', 'make_undirected': True, 'binary_attr': False, 'balance_test': True, 'seed': 2}}\n",
      "2024-07-29 18:30:36 (INFO): model_params: {'label': 'GCN', 'model': 'GCN', 'normalization': 'row_normalization', 'depth': 1, 'regularizer': 0.05, 'pred_method': 'svm', 'activation': 'relu', 'solver': 'qplayer', 'alpha_tol': 0.0001, 'bias': False}\n",
      "2024-07-29 18:30:36 (INFO): certification_params: {'n_adversarial': 140, 'perturbation_model': 'linf', 'delta': 0.02, 'target_idx': 1, 'n_targets_per_class': 5, 'delta_absolute': False, 'method': 'XXT', 'attack_nodes': 'train_val', 'TimeLimit': 360, 'LogToConsole': 1, 'OutputFlag': 1, 'NumericFocus': 0}\n",
      "2024-07-29 18:30:36 (INFO): verbosity_params: {'debug_lvl': 'info'}\n",
      "2024-07-29 18:30:36 (INFO): other_params: {'device': 'cpu', 'dtype': torch.float64, 'allow_tf32': False, 'debug': False, 'zero_tol': 1e-06, 'path_gurobi_license': '/ceph/ssd/staff/gosl/app/gurobi.lic'}\n",
      "2024-07-29 18:30:36 (INFO): seed: 2\n"
     ]
    },
    {
     "name": "stderr",
     "output_type": "stream",
     "text": [
      "2024-07-29 18:30:37 (INFO): number of samples\n",
      " - labeled: 80 \n",
      " - val: 80 \n",
      " - test: 311 \n",
      " - unlabeled: 2635\n",
      "2024-07-29 18:30:39 (INFO): Delta: 0.02\n"
     ]
    },
    {
     "name": "stdout",
     "output_type": "stream",
     "text": [
      "136 alphas found: ['0.0000', '0.0500', '0.0500', '0.0500', '0.0057', '0.0500', '0.0500', '0.0500', '0.0500', '0.0000', '0.0000', '0.0500', '0.0000', '0.0500', '0.0500', '0.0500', '0.0500', '0.0500', '0.0500', '0.0500', '0.0500', '0.0500', '0.0500', '0.0500', '0.0500', '0.0500', '0.0500', '0.0500', '0.0500', '0.0500', '0.0500', '0.0500', '0.0500', '0.0500', '0.0500', '0.0500', '0.0500', '0.0500', '0.0500', '0.0500', '0.0500', '0.0500', '0.0500', '0.0273', '0.0500', '0.0500', '0.0500', '0.0500', '0.0500', '0.0500', '0.0500', '0.0500', '0.0440', '0.0500', '0.0500', '0.0500', '0.0500', '0.0500', '0.0500', '0.0000', '-0.0000', '0.0500', '0.0500', '0.0500', '-0.0000', '0.0500', '0.0500', '0.0500', '0.0000', '0.0500', '0.0500', '0.0500', '0.0500', '0.0500', '0.0500', '0.0500', '0.0500', '0.0500', '0.0500', '0.0500', '-0.0000', '0.0500', '0.0500', '0.0500', '0.0500', '0.0500', '0.0500', '0.0500', '0.0500', '0.0500', '0.0500', '0.0500', '0.0500', '0.0500', '0.0500', '0.0500', '0.0500', '0.0500', '0.0306', '0.0000', '0.0000', '0.0500', '0.0500', '0.0000', '0.0500', '0.0000', '0.0500', '0.0500', '0.0500', '0.0000', '0.0500', '0.0500', '0.0500', '0.0500', '-0.0000', '0.0500', '0.0500', '0.0500', '0.0500', '0.0500', '-0.0000', '0.0500', '0.0500', '0.0500', '0.0500', '0.0500', '0.0000', '0.0500', '0.0500', '0.0500', '0.0500', '0.0500', '0.0500', '0.0500', '0.0500', '0.0500', '0.0000', '0.0500', '0.0500', '0.0500', '0.0500', '0.0500', '0.0500', '-0.0000', '0.0000', '0.0500', '0.0500', '0.0500', '0.0500', '0.0500', '0.0000', '0.0000', '0.0000', '0.0500', '0.0500', '0.0000', '0.0500', '0.0500', '0.0500', '0.0500']\n"
     ]
    },
    {
     "name": "stderr",
     "output_type": "stream",
     "text": [
      "2024-07-29 18:30:46 (INFO): Test accuracy: 0.0\n",
      "2024-07-29 18:30:46 (INFO): Test accuracy ALL UNLABELED: 0.7474541664123535\n",
      "2024-07-29 18:30:46 (INFO): Train accuracy: 0.7250000238418579\n",
      "2024-07-29 18:30:46 (INFO): Accuracy_lb_test: 1.0\n",
      "2024-07-29 18:30:46 (INFO): Accuracy_ub_test: 0.0\n",
      "2024-07-29 18:30:46 (INFO): Accuracy_lb_trn: 0.7749999761581421\n",
      "2024-07-29 18:30:46 (INFO): Accuracy_ub_trn: 0.6812499761581421\n",
      "2024-07-29 18:30:46 (INFO): Certified accuracy (evasion): 0.0\n",
      "2024-07-29 18:30:46 (INFO): Certified accuracy (evasion, trivial): 0.0\n",
      "2024-07-29 18:30:46 (INFO): Certified unrobustness (evasion): 0.0\n"
     ]
    },
    {
     "name": "stdout",
     "output_type": "stream",
     "text": [
      "Set parameter TimeLimit to value 360\n"
     ]
    },
    {
     "name": "stderr",
     "output_type": "stream",
     "text": [
      "2024-07-29 18:30:48 (INFO): Set parameter TimeLimit to value 360\n"
     ]
    },
    {
     "name": "stdout",
     "output_type": "stream",
     "text": [
      "Set parameter BestBdStop to value 1.0000000000010001e-04\n"
     ]
    },
    {
     "name": "stderr",
     "output_type": "stream",
     "text": [
      "2024-07-29 18:30:48 (INFO): Set parameter BestBdStop to value 1.0000000000010001e-04\n"
     ]
    },
    {
     "name": "stdout",
     "output_type": "stream",
     "text": [
      "Set parameter BestObjStop to value -0.0001\n"
     ]
    },
    {
     "name": "stderr",
     "output_type": "stream",
     "text": [
      "2024-07-29 18:30:48 (INFO): Set parameter BestObjStop to value -0.0001\n"
     ]
    },
    {
     "name": "stdout",
     "output_type": "stream",
     "text": [
      "Set parameter IntegralityFocus to value 1\n"
     ]
    },
    {
     "name": "stderr",
     "output_type": "stream",
     "text": [
      "2024-07-29 18:30:48 (INFO): Set parameter IntegralityFocus to value 1\n"
     ]
    },
    {
     "name": "stdout",
     "output_type": "stream",
     "text": [
      "Set parameter IntFeasTol to value 0.0001\n"
     ]
    },
    {
     "name": "stderr",
     "output_type": "stream",
     "text": [
      "2024-07-29 18:30:48 (INFO): Set parameter IntFeasTol to value 0.0001\n"
     ]
    },
    {
     "name": "stdout",
     "output_type": "stream",
     "text": [
      "Set parameter DualReductions to value 0\n"
     ]
    },
    {
     "name": "stderr",
     "output_type": "stream",
     "text": [
      "2024-07-29 18:30:48 (INFO): Set parameter DualReductions to value 0\n"
     ]
    },
    {
     "name": "stdout",
     "output_type": "stream",
     "text": [
      "Set parameter FeasibilityTol to value 0.0001\n"
     ]
    },
    {
     "name": "stderr",
     "output_type": "stream",
     "text": [
      "2024-07-29 18:30:48 (INFO): Set parameter FeasibilityTol to value 0.0001\n"
     ]
    },
    {
     "name": "stdout",
     "output_type": "stream",
     "text": [
      "Set parameter OptimalityTol to value 0.0001\n"
     ]
    },
    {
     "name": "stderr",
     "output_type": "stream",
     "text": [
      "2024-07-29 18:30:48 (INFO): Set parameter OptimalityTol to value 0.0001\n"
     ]
    },
    {
     "name": "stdout",
     "output_type": "stream",
     "text": [
      "Gurobi Optimizer version 11.0.1 build v11.0.1rc0 (linux64 - \"Ubuntu 22.04.4 LTS\")\n"
     ]
    },
    {
     "name": "stderr",
     "output_type": "stream",
     "text": [
      "2024-07-29 18:30:48 (INFO): Gurobi Optimizer version 11.0.1 build v11.0.1rc0 (linux64 - \"Ubuntu 22.04.4 LTS\")\n"
     ]
    },
    {
     "name": "stdout",
     "output_type": "stream",
     "text": [
      "\n"
     ]
    },
    {
     "name": "stderr",
     "output_type": "stream",
     "text": [
      "2024-07-29 18:30:48 (INFO): \n"
     ]
    },
    {
     "name": "stdout",
     "output_type": "stream",
     "text": [
      "CPU model: Intel(R) Xeon(R) CPU E5-2630 v4 @ 2.20GHz, instruction set [SSE2|AVX|AVX2]\n"
     ]
    },
    {
     "name": "stderr",
     "output_type": "stream",
     "text": [
      "2024-07-29 18:30:48 (INFO): CPU model: Intel(R) Xeon(R) CPU E5-2630 v4 @ 2.20GHz, instruction set [SSE2|AVX|AVX2]\n"
     ]
    },
    {
     "name": "stdout",
     "output_type": "stream",
     "text": [
      "Thread count: 20 physical cores, 20 logical processors, using up to 20 threads\n"
     ]
    },
    {
     "name": "stderr",
     "output_type": "stream",
     "text": [
      "2024-07-29 18:30:48 (INFO): Thread count: 20 physical cores, 20 logical processors, using up to 20 threads\n"
     ]
    },
    {
     "name": "stdout",
     "output_type": "stream",
     "text": [
      "\n"
     ]
    },
    {
     "name": "stderr",
     "output_type": "stream",
     "text": [
      "2024-07-29 18:30:48 (INFO): \n"
     ]
    },
    {
     "name": "stdout",
     "output_type": "stream",
     "text": [
      "Optimize a model with 52320 rows, 26560 columns and 130240 nonzeros\n"
     ]
    },
    {
     "name": "stderr",
     "output_type": "stream",
     "text": [
      "2024-07-29 18:30:48 (INFO): Optimize a model with 52320 rows, 26560 columns and 130240 nonzeros\n"
     ]
    },
    {
     "name": "stdout",
     "output_type": "stream",
     "text": [
      "Model fingerprint: 0x66cc07f0\n"
     ]
    },
    {
     "name": "stderr",
     "output_type": "stream",
     "text": [
      "2024-07-29 18:30:48 (INFO): Model fingerprint: 0x66cc07f0\n"
     ]
    },
    {
     "name": "stdout",
     "output_type": "stream",
     "text": [
      "Variable types: 26240 continuous, 320 integer (320 binary)\n"
     ]
    },
    {
     "name": "stderr",
     "output_type": "stream",
     "text": [
      "2024-07-29 18:30:48 (INFO): Variable types: 26240 continuous, 320 integer (320 binary)\n"
     ]
    },
    {
     "name": "stdout",
     "output_type": "stream",
     "text": [
      "Coefficient statistics:\n"
     ]
    },
    {
     "name": "stderr",
     "output_type": "stream",
     "text": [
      "2024-07-29 18:30:48 (INFO): Coefficient statistics:\n"
     ]
    },
    {
     "name": "stdout",
     "output_type": "stream",
     "text": [
      "  Matrix range     [1e-05, 5e+01]\n"
     ]
    },
    {
     "name": "stderr",
     "output_type": "stream",
     "text": [
      "2024-07-29 18:30:48 (INFO):   Matrix range     [1e-05, 5e+01]\n"
     ]
    },
    {
     "name": "stdout",
     "output_type": "stream",
     "text": [
      "  Objective range  [1e+00, 1e+00]\n"
     ]
    },
    {
     "name": "stderr",
     "output_type": "stream",
     "text": [
      "2024-07-29 18:30:48 (INFO):   Objective range  [1e+00, 1e+00]\n"
     ]
    },
    {
     "name": "stdout",
     "output_type": "stream",
     "text": [
      "  Bounds range     [5e-02, 1e+00]\n"
     ]
    },
    {
     "name": "stderr",
     "output_type": "stream",
     "text": [
      "2024-07-29 18:30:48 (INFO):   Bounds range     [5e-02, 1e+00]\n"
     ]
    },
    {
     "name": "stdout",
     "output_type": "stream",
     "text": [
      "  RHS range        [5e-02, 1e+00]\n"
     ]
    },
    {
     "name": "stderr",
     "output_type": "stream",
     "text": [
      "2024-07-29 18:30:48 (INFO):   RHS range        [5e-02, 1e+00]\n"
     ]
    },
    {
     "name": "stdout",
     "output_type": "stream",
     "text": [
      "\n"
     ]
    },
    {
     "name": "stderr",
     "output_type": "stream",
     "text": [
      "2024-07-29 18:30:48 (INFO): \n"
     ]
    },
    {
     "name": "stdout",
     "output_type": "stream",
     "text": [
      "Loaded user MIP start with objective 0.164059\n",
      "\n",
      "Loaded user MIP start with objective 0.164059\n"
     ]
    },
    {
     "name": "stderr",
     "output_type": "stream",
     "text": [
      "2024-07-29 18:30:48 (INFO): Loaded user MIP start with objective 0.164059\n"
     ]
    },
    {
     "name": "stdout",
     "output_type": "stream",
     "text": [
      "\n"
     ]
    },
    {
     "name": "stderr",
     "output_type": "stream",
     "text": [
      "2024-07-29 18:30:48 (INFO): \n"
     ]
    },
    {
     "name": "stdout",
     "output_type": "stream",
     "text": [
      "Presolve removed 118 rows and 0 columns\n"
     ]
    },
    {
     "name": "stderr",
     "output_type": "stream",
     "text": [
      "2024-07-29 18:30:48 (INFO): Presolve removed 118 rows and 0 columns\n"
     ]
    },
    {
     "name": "stdout",
     "output_type": "stream",
     "text": [
      "Presolve time: 0.34s\n"
     ]
    },
    {
     "name": "stderr",
     "output_type": "stream",
     "text": [
      "2024-07-29 18:30:48 (INFO): Presolve time: 0.34s\n"
     ]
    },
    {
     "name": "stdout",
     "output_type": "stream",
     "text": [
      "Presolved: 52202 rows, 26560 columns, 130004 nonzeros\n"
     ]
    },
    {
     "name": "stderr",
     "output_type": "stream",
     "text": [
      "2024-07-29 18:30:48 (INFO): Presolved: 52202 rows, 26560 columns, 130004 nonzeros\n"
     ]
    },
    {
     "name": "stdout",
     "output_type": "stream",
     "text": [
      "Variable types: 26240 continuous, 320 integer (320 binary)\n"
     ]
    },
    {
     "name": "stderr",
     "output_type": "stream",
     "text": [
      "2024-07-29 18:30:49 (INFO): Variable types: 26240 continuous, 320 integer (320 binary)\n"
     ]
    },
    {
     "name": "stdout",
     "output_type": "stream",
     "text": [
      "\n"
     ]
    },
    {
     "name": "stderr",
     "output_type": "stream",
     "text": [
      "2024-07-29 18:30:49 (INFO): \n"
     ]
    },
    {
     "name": "stdout",
     "output_type": "stream",
     "text": [
      "Deterministic concurrent LP optimizer: primal and dual simplex (primal and dual model)\n"
     ]
    },
    {
     "name": "stderr",
     "output_type": "stream",
     "text": [
      "2024-07-29 18:30:49 (INFO): Deterministic concurrent LP optimizer: primal and dual simplex (primal and dual model)\n"
     ]
    },
    {
     "name": "stdout",
     "output_type": "stream",
     "text": [
      "Showing primal log only...\n"
     ]
    },
    {
     "name": "stderr",
     "output_type": "stream",
     "text": [
      "2024-07-29 18:30:49 (INFO): Showing primal log only...\n"
     ]
    },
    {
     "name": "stdout",
     "output_type": "stream",
     "text": [
      "\n"
     ]
    },
    {
     "name": "stderr",
     "output_type": "stream",
     "text": [
      "2024-07-29 18:30:49 (INFO): \n"
     ]
    },
    {
     "name": "stdout",
     "output_type": "stream",
     "text": [
      "Root relaxation presolved: 52202 rows, 26560 columns, 130004 nonzeros\n"
     ]
    },
    {
     "name": "stderr",
     "output_type": "stream",
     "text": [
      "2024-07-29 18:30:49 (INFO): Root relaxation presolved: 52202 rows, 26560 columns, 130004 nonzeros\n"
     ]
    },
    {
     "name": "stdout",
     "output_type": "stream",
     "text": [
      "\n"
     ]
    },
    {
     "name": "stderr",
     "output_type": "stream",
     "text": [
      "2024-07-29 18:30:49 (INFO): \n"
     ]
    },
    {
     "name": "stdout",
     "output_type": "stream",
     "text": [
      "\n"
     ]
    },
    {
     "name": "stderr",
     "output_type": "stream",
     "text": [
      "2024-07-29 18:30:53 (INFO): \n"
     ]
    },
    {
     "name": "stdout",
     "output_type": "stream",
     "text": [
      "Root simplex log...\n"
     ]
    },
    {
     "name": "stderr",
     "output_type": "stream",
     "text": [
      "2024-07-29 18:30:53 (INFO): Root simplex log...\n"
     ]
    },
    {
     "name": "stdout",
     "output_type": "stream",
     "text": [
      "\n"
     ]
    },
    {
     "name": "stderr",
     "output_type": "stream",
     "text": [
      "2024-07-29 18:30:53 (INFO): \n"
     ]
    },
    {
     "name": "stdout",
     "output_type": "stream",
     "text": [
      "Iteration    Objective       Primal Inf.    Dual Inf.      Time\n"
     ]
    },
    {
     "name": "stderr",
     "output_type": "stream",
     "text": [
      "2024-07-29 18:30:53 (INFO): Iteration    Objective       Primal Inf.    Dual Inf.      Time\n"
     ]
    },
    {
     "name": "stdout",
     "output_type": "stream",
     "text": [
      "   31058    1.0540514e-01   8.049463e-01   9.886966e+09      5s\n"
     ]
    },
    {
     "name": "stderr",
     "output_type": "stream",
     "text": [
      "2024-07-29 18:30:53 (INFO):    31058    1.0540514e-01   8.049463e-01   9.886966e+09      5s\n"
     ]
    },
    {
     "name": "stdout",
     "output_type": "stream",
     "text": [
      "   35589    3.6083150e-02   1.541721e+00   4.146558e+11     10s\n"
     ]
    },
    {
     "name": "stderr",
     "output_type": "stream",
     "text": [
      "2024-07-29 18:30:58 (INFO):    35589    3.6083150e-02   1.541721e+00   4.146558e+11     10s\n"
     ]
    },
    {
     "name": "stdout",
     "output_type": "stream",
     "text": [
      "   39170    6.1470338e-03   2.616536e-02   1.116606e+10     15s\n"
     ]
    },
    {
     "name": "stderr",
     "output_type": "stream",
     "text": [
      "2024-07-29 18:31:03 (INFO):    39170    6.1470338e-03   2.616536e-02   1.116606e+10     15s\n"
     ]
    },
    {
     "name": "stdout",
     "output_type": "stream",
     "text": [
      "Concurrent spin time: 0.45s\n"
     ]
    },
    {
     "name": "stderr",
     "output_type": "stream",
     "text": [
      "2024-07-29 18:31:06 (INFO): Concurrent spin time: 0.45s\n"
     ]
    },
    {
     "name": "stdout",
     "output_type": "stream",
     "text": [
      "\n"
     ]
    },
    {
     "name": "stderr",
     "output_type": "stream",
     "text": [
      "2024-07-29 18:31:06 (INFO): \n"
     ]
    },
    {
     "name": "stdout",
     "output_type": "stream",
     "text": [
      "Solved with dual simplex\n"
     ]
    },
    {
     "name": "stderr",
     "output_type": "stream",
     "text": [
      "2024-07-29 18:31:06 (INFO): Solved with dual simplex\n"
     ]
    },
    {
     "name": "stdout",
     "output_type": "stream",
     "text": [
      "\n"
     ]
    },
    {
     "name": "stderr",
     "output_type": "stream",
     "text": [
      "2024-07-29 18:31:06 (INFO): \n"
     ]
    },
    {
     "name": "stdout",
     "output_type": "stream",
     "text": [
      "Root relaxation: objective -1.187656e+00, 42399 iterations, 17.40 seconds (22.86 work units)\n"
     ]
    },
    {
     "name": "stderr",
     "output_type": "stream",
     "text": [
      "2024-07-29 18:31:06 (INFO): Root relaxation: objective -1.187656e+00, 42399 iterations, 17.40 seconds (22.86 work units)\n"
     ]
    },
    {
     "name": "stdout",
     "output_type": "stream",
     "text": [
      "\n"
     ]
    },
    {
     "name": "stderr",
     "output_type": "stream",
     "text": [
      "2024-07-29 18:31:07 (INFO): \n"
     ]
    },
    {
     "name": "stdout",
     "output_type": "stream",
     "text": [
      "    Nodes    |    Current Node    |     Objective Bounds      |     Work\n"
     ]
    },
    {
     "name": "stderr",
     "output_type": "stream",
     "text": [
      "2024-07-29 18:31:07 (INFO):     Nodes    |    Current Node    |     Objective Bounds      |     Work\n"
     ]
    },
    {
     "name": "stdout",
     "output_type": "stream",
     "text": [
      " Expl Unexpl |  Obj  Depth IntInf | Incumbent    BestBd   Gap | It/Node Time\n"
     ]
    },
    {
     "name": "stderr",
     "output_type": "stream",
     "text": [
      "2024-07-29 18:31:07 (INFO):  Expl Unexpl |  Obj  Depth IntInf | Incumbent    BestBd   Gap | It/Node Time\n"
     ]
    },
    {
     "name": "stdout",
     "output_type": "stream",
     "text": [
      "\n"
     ]
    },
    {
     "name": "stderr",
     "output_type": "stream",
     "text": [
      "2024-07-29 18:31:07 (INFO): \n"
     ]
    },
    {
     "name": "stdout",
     "output_type": "stream",
     "text": [
      "     0     0   -1.18766    0  113    0.16406   -1.18766   824%     -   18s\n"
     ]
    },
    {
     "name": "stderr",
     "output_type": "stream",
     "text": [
      "2024-07-29 18:31:07 (INFO):      0     0   -1.18766    0  113    0.16406   -1.18766   824%     -   18s\n"
     ]
    },
    {
     "name": "stdout",
     "output_type": "stream",
     "text": [
      "H    0     0                       0.1172842   -1.18766  1113%     -   20s\n"
     ]
    },
    {
     "name": "stderr",
     "output_type": "stream",
     "text": [
      "2024-07-29 18:31:08 (INFO): H    0     0                       0.1172842   -1.18766  1113%     -   20s\n"
     ]
    },
    {
     "name": "stdout",
     "output_type": "stream",
     "text": [
      "     0     0   -1.17787    0  126    0.11728   -1.17787  1104%     -   22s\n"
     ]
    },
    {
     "name": "stderr",
     "output_type": "stream",
     "text": [
      "2024-07-29 18:31:11 (INFO):      0     0   -1.17787    0  126    0.11728   -1.17787  1104%     -   22s\n"
     ]
    },
    {
     "name": "stdout",
     "output_type": "stream",
     "text": [
      "     0     0   -1.15542    0  119    0.11728   -1.15542  1085%     -   30s\n"
     ]
    },
    {
     "name": "stderr",
     "output_type": "stream",
     "text": [
      "2024-07-29 18:31:19 (INFO):      0     0   -1.15542    0  119    0.11728   -1.15542  1085%     -   30s\n"
     ]
    },
    {
     "name": "stdout",
     "output_type": "stream",
     "text": [
      "     0     0   -1.15542    0  127    0.11728   -1.15542  1085%     -   32s\n"
     ]
    },
    {
     "name": "stderr",
     "output_type": "stream",
     "text": [
      "2024-07-29 18:31:21 (INFO):      0     0   -1.15542    0  127    0.11728   -1.15542  1085%     -   32s\n"
     ]
    },
    {
     "name": "stdout",
     "output_type": "stream",
     "text": [
      "     0     0   -1.15542    0  123    0.11728   -1.15542  1085%     -   34s\n"
     ]
    },
    {
     "name": "stderr",
     "output_type": "stream",
     "text": [
      "2024-07-29 18:31:23 (INFO):      0     0   -1.15542    0  123    0.11728   -1.15542  1085%     -   34s\n"
     ]
    },
    {
     "name": "stdout",
     "output_type": "stream",
     "text": [
      "     0     0   -1.15542    0  124    0.11728   -1.15542  1085%     -   38s\n"
     ]
    },
    {
     "name": "stderr",
     "output_type": "stream",
     "text": [
      "2024-07-29 18:31:27 (INFO):      0     0   -1.15542    0  124    0.11728   -1.15542  1085%     -   38s\n"
     ]
    },
    {
     "name": "stdout",
     "output_type": "stream",
     "text": [
      "     0     0   -1.13479    0  126    0.11728   -1.13479  1068%     -   42s\n"
     ]
    },
    {
     "name": "stderr",
     "output_type": "stream",
     "text": [
      "2024-07-29 18:31:30 (INFO):      0     0   -1.13479    0  126    0.11728   -1.13479  1068%     -   42s\n"
     ]
    },
    {
     "name": "stdout",
     "output_type": "stream",
     "text": [
      "     0     0   -1.13479    0  126    0.11728   -1.13479  1068%     -   45s\n"
     ]
    },
    {
     "name": "stderr",
     "output_type": "stream",
     "text": [
      "2024-07-29 18:31:34 (INFO):      0     0   -1.13479    0  126    0.11728   -1.13479  1068%     -   45s\n"
     ]
    },
    {
     "name": "stdout",
     "output_type": "stream",
     "text": [
      "H    0     0                       0.0760044   -1.13479  1593%     -   46s\n"
     ]
    },
    {
     "name": "stderr",
     "output_type": "stream",
     "text": [
      "2024-07-29 18:31:35 (INFO): H    0     0                       0.0760044   -1.13479  1593%     -   46s\n"
     ]
    },
    {
     "name": "stdout",
     "output_type": "stream",
     "text": [
      "     0     0   -1.13479    0  127    0.07600   -1.13479  1593%     -   47s\n"
     ]
    },
    {
     "name": "stderr",
     "output_type": "stream",
     "text": [
      "2024-07-29 18:31:35 (INFO):      0     0   -1.13479    0  127    0.07600   -1.13479  1593%     -   47s\n"
     ]
    },
    {
     "name": "stdout",
     "output_type": "stream",
     "text": [
      "     0     0   -1.13479    0  125    0.07600   -1.13479  1593%     -   48s\n"
     ]
    },
    {
     "name": "stderr",
     "output_type": "stream",
     "text": [
      "2024-07-29 18:31:36 (INFO):      0     0   -1.13479    0  125    0.07600   -1.13479  1593%     -   48s\n"
     ]
    },
    {
     "name": "stdout",
     "output_type": "stream",
     "text": [
      "     0     0   -1.11310    0  125    0.07600   -1.11310  1565%     -   53s\n"
     ]
    },
    {
     "name": "stderr",
     "output_type": "stream",
     "text": [
      "2024-07-29 18:31:41 (INFO):      0     0   -1.11310    0  125    0.07600   -1.11310  1565%     -   53s\n"
     ]
    },
    {
     "name": "stdout",
     "output_type": "stream",
     "text": [
      "     0     2   -1.11310    0  125    0.07600   -1.11310  1565%     -   62s\n"
     ]
    },
    {
     "name": "stderr",
     "output_type": "stream",
     "text": [
      "2024-07-29 18:31:51 (INFO):      0     2   -1.11310    0  125    0.07600   -1.11310  1565%     -   62s\n"
     ]
    },
    {
     "name": "stdout",
     "output_type": "stream",
     "text": [
      "     1     4   -0.65908    1   99    0.07600   -1.11310  1565%  8106   68s\n"
     ]
    },
    {
     "name": "stderr",
     "output_type": "stream",
     "text": [
      "2024-07-29 18:31:56 (INFO):      1     4   -0.65908    1   99    0.07600   -1.11310  1565%  8106   68s\n"
     ]
    },
    {
     "name": "stdout",
     "output_type": "stream",
     "text": [
      "     3     8   -0.54559    2   66    0.07600   -1.11310  1565%  5484   73s\n"
     ]
    },
    {
     "name": "stderr",
     "output_type": "stream",
     "text": [
      "2024-07-29 18:32:01 (INFO):      3     8   -0.54559    2   66    0.07600   -1.11310  1565%  5484   73s\n"
     ]
    },
    {
     "name": "stdout",
     "output_type": "stream",
     "text": [
      "     7    16   -0.47684    3   63    0.07600   -1.11310  1565%  4041   81s\n"
     ]
    },
    {
     "name": "stderr",
     "output_type": "stream",
     "text": [
      "2024-07-29 18:32:10 (INFO):      7    16   -0.47684    3   63    0.07600   -1.11310  1565%  4041   81s\n"
     ]
    },
    {
     "name": "stdout",
     "output_type": "stream",
     "text": [
      "    15    32   -0.37127    4   64    0.07600   -1.11248  1564%  5474  106s\n"
     ]
    },
    {
     "name": "stderr",
     "output_type": "stream",
     "text": [
      "2024-07-29 18:32:34 (INFO):     15    32   -0.37127    4   64    0.07600   -1.11248  1564%  5474  106s\n"
     ]
    },
    {
     "name": "stdout",
     "output_type": "stream",
     "text": [
      "H   31    52                       0.0402489   -1.10367  2842%  8842  113s\n"
     ]
    },
    {
     "name": "stderr",
     "output_type": "stream",
     "text": [
      "2024-07-29 18:32:41 (INFO): H   31    52                       0.0402489   -1.10367  2842%  8842  113s\n"
     ]
    },
    {
     "name": "stdout",
     "output_type": "stream",
     "text": [
      "H   33    52                       0.0395880   -1.10367  2888%  9060  113s\n"
     ]
    },
    {
     "name": "stderr",
     "output_type": "stream",
     "text": [
      "2024-07-29 18:32:41 (INFO): H   33    52                       0.0395880   -1.10367  2888%  9060  113s\n"
     ]
    },
    {
     "name": "stdout",
     "output_type": "stream",
     "text": [
      "H   40    52                       0.0359363   -1.10367  3171%  7807  113s\n"
     ]
    },
    {
     "name": "stderr",
     "output_type": "stream",
     "text": [
      "2024-07-29 18:32:41 (INFO): H   40    52                       0.0359363   -1.10367  3171%  7807  113s\n"
     ]
    },
    {
     "name": "stdout",
     "output_type": "stream",
     "text": [
      "    51    72   -0.26015    6   59    0.03594   -1.10367  3171%  6179  122s\n"
     ]
    },
    {
     "name": "stderr",
     "output_type": "stream",
     "text": [
      "2024-07-29 18:32:50 (INFO):     51    72   -0.26015    6   59    0.03594   -1.10367  3171%  6179  122s\n"
     ]
    },
    {
     "name": "stdout",
     "output_type": "stream",
     "text": [
      "    71    92   -0.25303    7   58    0.03594   -1.10367  3171%  4569  127s\n"
     ]
    },
    {
     "name": "stderr",
     "output_type": "stream",
     "text": [
      "2024-07-29 18:32:55 (INFO):     71    92   -0.25303    7   58    0.03594   -1.10367  3171%  4569  127s\n"
     ]
    },
    {
     "name": "stdout",
     "output_type": "stream",
     "text": [
      "    91   112   -0.24678    8   58    0.03594   -1.10367  3171%  3691  131s\n"
     ]
    },
    {
     "name": "stderr",
     "output_type": "stream",
     "text": [
      "2024-07-29 18:33:00 (INFO):     91   112   -0.24678    8   58    0.03594   -1.10367  3171%  3691  131s\n"
     ]
    },
    {
     "name": "stdout",
     "output_type": "stream",
     "text": [
      "   111   138   -0.24283    9   53    0.03594   -1.10367  3171%  3254  143s\n"
     ]
    },
    {
     "name": "stderr",
     "output_type": "stream",
     "text": [
      "2024-07-29 18:33:11 (INFO):    111   138   -0.24283    9   53    0.03594   -1.10367  3171%  3254  143s\n"
     ]
    },
    {
     "name": "stdout",
     "output_type": "stream",
     "text": [
      "H  143   171                      -0.0008370   -1.10367      -  3197  151s\n"
     ]
    },
    {
     "name": "stderr",
     "output_type": "stream",
     "text": [
      "2024-07-29 18:33:20 (INFO): H  143   171                      -0.0008370   -1.10367      -  3197  151s\n"
     ]
    },
    {
     "name": "stdout",
     "output_type": "stream",
     "text": [
      "H  144   171                      -0.0112872   -1.10367  9678%  3198  151s\n"
     ]
    },
    {
     "name": "stderr",
     "output_type": "stream",
     "text": [
      "2024-07-29 18:33:20 (INFO): H  144   171                      -0.0112872   -1.10367  9678%  3198  151s\n"
     ]
    },
    {
     "name": "stdout",
     "output_type": "stream",
     "text": [
      "H  148   171                      -0.0162012   -1.10367  6712%  3231  151s\n"
     ]
    },
    {
     "name": "stderr",
     "output_type": "stream",
     "text": [
      "2024-07-29 18:33:20 (INFO): H  148   171                      -0.0162012   -1.10367  6712%  3231  151s\n"
     ]
    },
    {
     "name": "stdout",
     "output_type": "stream",
     "text": [
      "H  152   171                      -0.0195283   -1.10367  5552%  3167  151s\n"
     ]
    },
    {
     "name": "stderr",
     "output_type": "stream",
     "text": [
      "2024-07-29 18:33:20 (INFO): H  152   171                      -0.0195283   -1.10367  5552%  3167  151s\n"
     ]
    },
    {
     "name": "stdout",
     "output_type": "stream",
     "text": [
      "H  157   171                      -0.0199919   -1.10367  5421%  3157  151s\n"
     ]
    },
    {
     "name": "stderr",
     "output_type": "stream",
     "text": [
      "2024-07-29 18:33:20 (INFO): H  157   171                      -0.0199919   -1.10367  5421%  3157  151s\n"
     ]
    },
    {
     "name": "stdout",
     "output_type": "stream",
     "text": [
      "H  175   171                      -0.0245946   -1.10367  4387%  3102  151s\n"
     ]
    },
    {
     "name": "stderr",
     "output_type": "stream",
     "text": [
      "2024-07-29 18:33:20 (INFO): H  175   171                      -0.0245946   -1.10367  4387%  3102  151s\n"
     ]
    },
    {
     "name": "stdout",
     "output_type": "stream",
     "text": [
      "\n"
     ]
    },
    {
     "name": "stderr",
     "output_type": "stream",
     "text": [
      "2024-07-29 18:33:20 (INFO): \n"
     ]
    },
    {
     "name": "stdout",
     "output_type": "stream",
     "text": [
      "Cutting planes:\n"
     ]
    },
    {
     "name": "stderr",
     "output_type": "stream",
     "text": [
      "2024-07-29 18:33:20 (INFO): Cutting planes:\n"
     ]
    },
    {
     "name": "stdout",
     "output_type": "stream",
     "text": [
      "  Implied bound: 124\n"
     ]
    },
    {
     "name": "stderr",
     "output_type": "stream",
     "text": [
      "2024-07-29 18:33:20 (INFO):   Implied bound: 124\n"
     ]
    },
    {
     "name": "stdout",
     "output_type": "stream",
     "text": [
      "  MIR: 51\n"
     ]
    },
    {
     "name": "stderr",
     "output_type": "stream",
     "text": [
      "2024-07-29 18:33:20 (INFO):   MIR: 51\n"
     ]
    },
    {
     "name": "stdout",
     "output_type": "stream",
     "text": [
      "  Flow cover: 104\n"
     ]
    },
    {
     "name": "stderr",
     "output_type": "stream",
     "text": [
      "2024-07-29 18:33:20 (INFO):   Flow cover: 104\n"
     ]
    },
    {
     "name": "stdout",
     "output_type": "stream",
     "text": [
      "  RLT: 1\n"
     ]
    },
    {
     "name": "stderr",
     "output_type": "stream",
     "text": [
      "2024-07-29 18:33:20 (INFO):   RLT: 1\n"
     ]
    },
    {
     "name": "stdout",
     "output_type": "stream",
     "text": [
      "  Relax-and-lift: 1\n"
     ]
    },
    {
     "name": "stderr",
     "output_type": "stream",
     "text": [
      "2024-07-29 18:33:20 (INFO):   Relax-and-lift: 1\n"
     ]
    },
    {
     "name": "stdout",
     "output_type": "stream",
     "text": [
      "\n"
     ]
    },
    {
     "name": "stderr",
     "output_type": "stream",
     "text": [
      "2024-07-29 18:33:20 (INFO): \n"
     ]
    },
    {
     "name": "stdout",
     "output_type": "stream",
     "text": [
      "Explored 178 nodes (593490 simplex iterations) in 152.02 seconds (250.40 work units)\n"
     ]
    },
    {
     "name": "stderr",
     "output_type": "stream",
     "text": [
      "2024-07-29 18:33:20 (INFO): Explored 178 nodes (593490 simplex iterations) in 152.02 seconds (250.40 work units)\n"
     ]
    },
    {
     "name": "stdout",
     "output_type": "stream",
     "text": [
      "Thread count was 20 (of 20 available processors)\n"
     ]
    },
    {
     "name": "stderr",
     "output_type": "stream",
     "text": [
      "2024-07-29 18:33:20 (INFO): Thread count was 20 (of 20 available processors)\n"
     ]
    },
    {
     "name": "stdout",
     "output_type": "stream",
     "text": [
      "\n"
     ]
    },
    {
     "name": "stderr",
     "output_type": "stream",
     "text": [
      "2024-07-29 18:33:20 (INFO): \n"
     ]
    },
    {
     "name": "stdout",
     "output_type": "stream",
     "text": [
      "Solution count 1: -0.0245946 \n"
     ]
    },
    {
     "name": "stderr",
     "output_type": "stream",
     "text": [
      "2024-07-29 18:33:20 (INFO): Solution count 1: -0.0245946 \n"
     ]
    },
    {
     "name": "stdout",
     "output_type": "stream",
     "text": [
      "\n"
     ]
    },
    {
     "name": "stderr",
     "output_type": "stream",
     "text": [
      "2024-07-29 18:33:20 (INFO): \n"
     ]
    },
    {
     "name": "stdout",
     "output_type": "stream",
     "text": [
      "Optimization achieved user objective limit\n"
     ]
    },
    {
     "name": "stderr",
     "output_type": "stream",
     "text": [
      "2024-07-29 18:33:20 (INFO): Optimization achieved user objective limit\n"
     ]
    },
    {
     "name": "stdout",
     "output_type": "stream",
     "text": [
      "Best objective -2.459456328386e-02, best bound -1.103671916101e+00, gap 4387.4630%\n"
     ]
    },
    {
     "name": "stderr",
     "output_type": "stream",
     "text": [
      "2024-07-29 18:33:20 (INFO): Best objective -2.459456328386e-02, best bound -1.103671916101e+00, gap 4387.4630%\n"
     ]
    },
    {
     "name": "stdout",
     "output_type": "stream",
     "text": [
      "\n"
     ]
    },
    {
     "name": "stderr",
     "output_type": "stream",
     "text": [
      "2024-07-29 18:33:20 (INFO): \n"
     ]
    },
    {
     "name": "stdout",
     "output_type": "stream",
     "text": [
      "User-callback calls 55997, time in user-callback 0.46 sec\n"
     ]
    },
    {
     "name": "stderr",
     "output_type": "stream",
     "text": [
      "2024-07-29 18:33:20 (INFO): User-callback calls 55997, time in user-callback 0.46 sec\n",
      "2024-07-29 18:33:20 (INFO): Optimization status: 15\n",
      "2024-07-29 18:33:20 (INFO): Original 0.16406, Opt objective -0.02459\n",
      "2024-07-29 18:33:20 (INFO): Robust count 0 out of 1\n",
      "2024-07-29 18:33:20 (INFO): Certified accuracy (poisoning): 0.0\n"
     ]
    },
    {
     "data": {
      "text/plain": [
       "{'accuracy_test': 0.0,\n",
       " 'accuracy_test_all': 0.7474541664123535,\n",
       " 'accuracy_trn': 0.7250000238418579,\n",
       " 'accuracy_ub_test': 0.0,\n",
       " 'accuracy_lb_test': 1.0,\n",
       " 'accuracy_ub_trn': 0.6812499761581421,\n",
       " 'accuracy_lb_trn': 0.7749999761581421,\n",
       " 'accuracy_cert_evasion_trivial': 0.0,\n",
       " 'accuracy_cert_evasion_robust': 0.0,\n",
       " 'accuracy_cert_evasion_unrobust': 0.0,\n",
       " 'accuracy_cert_pois_robust': 0.0,\n",
       " 'accuracy_cert_pois_unrobust': 0,\n",
       " 'delta_absolute': 0.02,\n",
       " 'process_time': 757.475468721,\n",
       " 'y_true_cls': -1,\n",
       " 'y_pred_logit': 0.16405893262214305,\n",
       " 'y_worst_obj': -0.024594563283861642,\n",
       " 'y_worst_obj_bound': -1.103671916101114,\n",
       " 'y_is_robust': False,\n",
       " 'y_opt_status': 15,\n",
       " 'idx_train': [2501,\n",
       "  601,\n",
       "  1765,\n",
       "  445,\n",
       "  2962,\n",
       "  104,\n",
       "  1574,\n",
       "  481,\n",
       "  316,\n",
       "  1377,\n",
       "  975,\n",
       "  1498,\n",
       "  2882,\n",
       "  2897,\n",
       "  185,\n",
       "  1550,\n",
       "  3095,\n",
       "  1410,\n",
       "  2754,\n",
       "  1928,\n",
       "  1634,\n",
       "  2187,\n",
       "  2219,\n",
       "  1303,\n",
       "  1500,\n",
       "  803,\n",
       "  1250,\n",
       "  761,\n",
       "  3024,\n",
       "  1924,\n",
       "  433,\n",
       "  2018,\n",
       "  2129,\n",
       "  1001,\n",
       "  3102,\n",
       "  2196,\n",
       "  621,\n",
       "  933,\n",
       "  1517,\n",
       "  2706,\n",
       "  1088,\n",
       "  436,\n",
       "  2675,\n",
       "  2791,\n",
       "  1433,\n",
       "  707,\n",
       "  465,\n",
       "  535,\n",
       "  3058,\n",
       "  1654,\n",
       "  1582,\n",
       "  1251,\n",
       "  198,\n",
       "  1183,\n",
       "  2949,\n",
       "  2299,\n",
       "  1150,\n",
       "  2997,\n",
       "  2313,\n",
       "  2283,\n",
       "  274,\n",
       "  2381,\n",
       "  2662,\n",
       "  2969,\n",
       "  215,\n",
       "  702,\n",
       "  1327,\n",
       "  1783,\n",
       "  100,\n",
       "  18,\n",
       "  167,\n",
       "  3037,\n",
       "  125,\n",
       "  2533,\n",
       "  924,\n",
       "  2729,\n",
       "  1125,\n",
       "  691,\n",
       "  1834,\n",
       "  763],\n",
       " 'idx_val': [517,\n",
       "  2942,\n",
       "  2617,\n",
       "  1299,\n",
       "  718,\n",
       "  1232,\n",
       "  73,\n",
       "  432,\n",
       "  447,\n",
       "  894,\n",
       "  1426,\n",
       "  1633,\n",
       "  1678,\n",
       "  625,\n",
       "  596,\n",
       "  53,\n",
       "  1255,\n",
       "  2224,\n",
       "  2964,\n",
       "  2459,\n",
       "  119,\n",
       "  1934,\n",
       "  2030,\n",
       "  2433,\n",
       "  599,\n",
       "  2786,\n",
       "  649,\n",
       "  201,\n",
       "  101,\n",
       "  2461,\n",
       "  2773,\n",
       "  3076,\n",
       "  226,\n",
       "  2502,\n",
       "  240,\n",
       "  823,\n",
       "  1554,\n",
       "  1571,\n",
       "  116,\n",
       "  1405,\n",
       "  2855,\n",
       "  3,\n",
       "  360,\n",
       "  1321,\n",
       "  919,\n",
       "  3103,\n",
       "  2886,\n",
       "  777,\n",
       "  479,\n",
       "  2021,\n",
       "  2883,\n",
       "  2505,\n",
       "  2096,\n",
       "  3009,\n",
       "  1258,\n",
       "  570,\n",
       "  1972,\n",
       "  2961,\n",
       "  2984,\n",
       "  515,\n",
       "  1336,\n",
       "  1157,\n",
       "  2704,\n",
       "  3075,\n",
       "  113,\n",
       "  2702,\n",
       "  1091,\n",
       "  1694,\n",
       "  1923,\n",
       "  996,\n",
       "  1844,\n",
       "  1644,\n",
       "  2874,\n",
       "  480,\n",
       "  1341,\n",
       "  1838,\n",
       "  2048,\n",
       "  1918,\n",
       "  2919,\n",
       "  1284],\n",
       " 'idx_labeled': [2501,\n",
       "  601,\n",
       "  1765,\n",
       "  445,\n",
       "  2962,\n",
       "  104,\n",
       "  1574,\n",
       "  481,\n",
       "  316,\n",
       "  1377,\n",
       "  975,\n",
       "  1498,\n",
       "  2882,\n",
       "  2897,\n",
       "  185,\n",
       "  1550,\n",
       "  3095,\n",
       "  1410,\n",
       "  2754,\n",
       "  1928,\n",
       "  1634,\n",
       "  2187,\n",
       "  2219,\n",
       "  1303,\n",
       "  1500,\n",
       "  803,\n",
       "  1250,\n",
       "  761,\n",
       "  3024,\n",
       "  1924,\n",
       "  433,\n",
       "  2018,\n",
       "  2129,\n",
       "  1001,\n",
       "  3102,\n",
       "  2196,\n",
       "  621,\n",
       "  933,\n",
       "  1517,\n",
       "  2706,\n",
       "  1088,\n",
       "  436,\n",
       "  2675,\n",
       "  2791,\n",
       "  1433,\n",
       "  707,\n",
       "  465,\n",
       "  535,\n",
       "  3058,\n",
       "  1654,\n",
       "  1582,\n",
       "  1251,\n",
       "  198,\n",
       "  1183,\n",
       "  2949,\n",
       "  2299,\n",
       "  1150,\n",
       "  2997,\n",
       "  2313,\n",
       "  2283,\n",
       "  274,\n",
       "  2381,\n",
       "  2662,\n",
       "  2969,\n",
       "  215,\n",
       "  702,\n",
       "  1327,\n",
       "  1783,\n",
       "  100,\n",
       "  18,\n",
       "  167,\n",
       "  3037,\n",
       "  125,\n",
       "  2533,\n",
       "  924,\n",
       "  2729,\n",
       "  1125,\n",
       "  691,\n",
       "  1834,\n",
       "  763,\n",
       "  517,\n",
       "  2942,\n",
       "  2617,\n",
       "  1299,\n",
       "  718,\n",
       "  1232,\n",
       "  73,\n",
       "  432,\n",
       "  447,\n",
       "  894,\n",
       "  1426,\n",
       "  1633,\n",
       "  1678,\n",
       "  625,\n",
       "  596,\n",
       "  53,\n",
       "  1255,\n",
       "  2224,\n",
       "  2964,\n",
       "  2459,\n",
       "  119,\n",
       "  1934,\n",
       "  2030,\n",
       "  2433,\n",
       "  599,\n",
       "  2786,\n",
       "  649,\n",
       "  201,\n",
       "  101,\n",
       "  2461,\n",
       "  2773,\n",
       "  3076,\n",
       "  226,\n",
       "  2502,\n",
       "  240,\n",
       "  823,\n",
       "  1554,\n",
       "  1571,\n",
       "  116,\n",
       "  1405,\n",
       "  2855,\n",
       "  3,\n",
       "  360,\n",
       "  1321,\n",
       "  919,\n",
       "  3103,\n",
       "  2886,\n",
       "  777,\n",
       "  479,\n",
       "  2021,\n",
       "  2883,\n",
       "  2505,\n",
       "  2096,\n",
       "  3009,\n",
       "  1258,\n",
       "  570,\n",
       "  1972,\n",
       "  2961,\n",
       "  2984,\n",
       "  515,\n",
       "  1336,\n",
       "  1157,\n",
       "  2704,\n",
       "  3075,\n",
       "  113,\n",
       "  2702,\n",
       "  1091,\n",
       "  1694,\n",
       "  1923,\n",
       "  996,\n",
       "  1844,\n",
       "  1644,\n",
       "  2874,\n",
       "  480,\n",
       "  1341,\n",
       "  1838,\n",
       "  2048,\n",
       "  1918,\n",
       "  2919,\n",
       "  1284],\n",
       " 'idx_test': [2873],\n",
       " 'idx_adv': [1517,\n",
       "  2984,\n",
       "  3076,\n",
       "  480,\n",
       "  515,\n",
       "  1838,\n",
       "  823,\n",
       "  3024,\n",
       "  1255,\n",
       "  2962,\n",
       "  1327,\n",
       "  2786,\n",
       "  2882,\n",
       "  1426,\n",
       "  1258,\n",
       "  2874,\n",
       "  1091,\n",
       "  1088,\n",
       "  2969,\n",
       "  2883,\n",
       "  707,\n",
       "  761,\n",
       "  2196,\n",
       "  226,\n",
       "  702,\n",
       "  1284,\n",
       "  1336,\n",
       "  1125,\n",
       "  100,\n",
       "  2299,\n",
       "  517,\n",
       "  2505,\n",
       "  1405,\n",
       "  1844,\n",
       "  933,\n",
       "  975,\n",
       "  1550,\n",
       "  2942,\n",
       "  2773,\n",
       "  1001,\n",
       "  2461,\n",
       "  1633,\n",
       "  1321,\n",
       "  2129,\n",
       "  2855,\n",
       "  445,\n",
       "  596,\n",
       "  2706,\n",
       "  1303,\n",
       "  3009,\n",
       "  2018,\n",
       "  2459,\n",
       "  274,\n",
       "  1918,\n",
       "  53,\n",
       "  2754,\n",
       "  599,\n",
       "  2224,\n",
       "  1250,\n",
       "  101,\n",
       "  73,\n",
       "  479,\n",
       "  2704,\n",
       "  1232,\n",
       "  1783,\n",
       "  1500,\n",
       "  2048,\n",
       "  1571,\n",
       "  113,\n",
       "  601,\n",
       "  3095,\n",
       "  1923,\n",
       "  1341,\n",
       "  1972,\n",
       "  649,\n",
       "  465,\n",
       "  432,\n",
       "  240,\n",
       "  2283,\n",
       "  2617,\n",
       "  718,\n",
       "  119,\n",
       "  2919,\n",
       "  763,\n",
       "  1582,\n",
       "  919,\n",
       "  2997,\n",
       "  2729,\n",
       "  2096,\n",
       "  2961,\n",
       "  201,\n",
       "  1251,\n",
       "  481,\n",
       "  3102,\n",
       "  2187,\n",
       "  167,\n",
       "  894,\n",
       "  215,\n",
       "  621,\n",
       "  1498,\n",
       "  2501,\n",
       "  2433,\n",
       "  1834,\n",
       "  1934,\n",
       "  1924,\n",
       "  2381,\n",
       "  2675,\n",
       "  1554,\n",
       "  1183,\n",
       "  2702,\n",
       "  447,\n",
       "  116,\n",
       "  2021,\n",
       "  3058,\n",
       "  3103,\n",
       "  2791,\n",
       "  1928,\n",
       "  3,\n",
       "  1157,\n",
       "  570,\n",
       "  185,\n",
       "  104,\n",
       "  2219,\n",
       "  316,\n",
       "  2949,\n",
       "  1678,\n",
       "  2886,\n",
       "  1433,\n",
       "  2313,\n",
       "  1150,\n",
       "  996,\n",
       "  1377,\n",
       "  535,\n",
       "  2533,\n",
       "  2897,\n",
       "  433,\n",
       "  18,\n",
       "  1574,\n",
       "  3075,\n",
       "  625],\n",
       " 'data_dim': 9,\n",
       " 'min_ypred': 0.16405893262214305,\n",
       " 'max_ypred': 0.16405893262214305,\n",
       " 'min_ylb': -0.031897876196805175,\n",
       " 'max_ylb': -0.031897876196805175,\n",
       " 'min_yub': 0.3600375057227754,\n",
       " 'max_yub': 0.3600375057227754,\n",
       " 'avg_ntklb': 1.4779654223959175,\n",
       " 'min_ntklb': -2.990973879275194,\n",
       " 'max_ntklb': 59.020074198568096,\n",
       " 'avg_ntkub': 1.528802735372586,\n",
       " 'min_ntkub': -2.8548160114093255,\n",
       " 'max_ntkub': 60.88433534323631,\n",
       " 'min_ntklabeled': -2.551381439208878,\n",
       " 'max_ntklabeled': 51.66014813415395,\n",
       " 'avg_ntkunlabeled': 0.7520474422994183,\n",
       " 'min_ntkunlabeled': -0.035361416790197,\n",
       " 'max_ntkunlabeled': 2.247683628860732,\n",
       " 'cond': 831328.3837321086,\n",
       " 'cond_regularized': 182234.68135545286}"
      ]
     },
     "execution_count": 5,
     "metadata": {},
     "output_type": "execute_result"
    }
   ],
   "source": [
    "other_params[\"device\"] = \"cpu\"\n",
    "other_params[\"debug\"] = False\n",
    "other_params[\"zero_tol\"] = 1e-6\n",
    "data_params[\"specification\"][\"n_per_class\"] = 40\n",
    "certificate_params[\"target_idx\"] = 1\n",
    "certificate_params[\"n_targets_per_class\"] = 5\n",
    "certificate_params[\"n_adversarial\"] = 140\n",
    "certificate_params[\"delta\"] = 0.02\n",
    "certificate_params[\"delta_absolute\"] = False\n",
    "certificate_params[\"method\"] = \"XXT\"\n",
    "certificate_params[\"perturbation_model\"] = \"linf\"\n",
    "certificate_params[\"attack_nodes\"] = \"train_val\"\n",
    "certificate_params[\"TimeLimit\"] = 360\n",
    "#certificate_params[\"MIPFocus\"] = 2\n",
    "#certificate_params[\"Cuts\"] = -1\n",
    "#certificate_params[\"Heuristics\"] = 0.05\n",
    "certificate_params[\"LogToConsole\"] = 1\n",
    "certificate_params[\"OutputFlag\"] = 1\n",
    "certificate_params[\"NumericFocus\"] = 0\n",
    "other_params[\"path_gurobi_license\"] = \"/ceph/ssd/staff/gosl/app/gurobi.lic\"\n",
    "verbosity_params[\"debug_lvl\"] = \"info\"\n",
    "model_params[\"regularizer\"] = 0.05\n",
    "model_params[\"solver\"] = \"qplayer\"\n",
    "model_params[\"alpha_tol\"] = 1e-4\n",
    "model_params[\"bias\"] = False\n",
    "data_params[\"learning_setting\"] = \"transductive\"\n",
    "run(data_params, model_params, certificate_params, verbosity_params, other_params, seed)"
   ]
  },
  {
   "cell_type": "code",
   "execution_count": 25,
   "metadata": {},
   "outputs": [
    {
     "name": "stderr",
     "output_type": "stream",
     "text": [
      "2024-05-12 18:25:32 (INFO): Starting experiment exp_certify_binaryclass_onenode with configuration:\n",
      "2024-05-12 18:25:32 (INFO): data_params: {'dataset': 'cora_ml_cont_binary', 'learning_setting': 'transductive', 'specification': {'year': 2016, 'n_per_class': 5, 'fraction_test': 0.01, 'data_dir': './data', 'make_undirected': True, 'binary_attr': False, 'balance_test': True, 'seed': 2}}\n",
      "2024-05-12 18:25:32 (INFO): model_params: {'label': 'APPNP', 'model': 'APPNP', 'normalization': 'sym_normalization', 'iteration': 10, 'alpha': 0.2, 'depth': 1, 'pred_method': 'svm', 'activation': 'relu', 'regularizer': 1, 'solver': 'qplayer', 'alpha_tol': 0.0001, 'bias': False}\n",
      "2024-05-12 18:25:32 (INFO): certification_params: {'n_adversarial': 50, 'perturbation_model': 'linf', 'delta': 0.02, 'target_idx': 1, 'n_targets_per_class': 5, 'delta_absolute': False, 'method': 'XXT', 'attack_nodes': 'test', 'TimeLimit': 360, 'LogToConsole': 1, 'OutputFlag': 1, 'NumericFocus': 0}\n",
      "2024-05-12 18:25:32 (INFO): verbosity_params: {'debug_lvl': 'info'}\n",
      "2024-05-12 18:25:32 (INFO): other_params: {'device': 'cpu', 'dtype': torch.float64, 'allow_tf32': False, 'debug': False, 'zero_tol': 1e-06, 'path_gurobi_license': '/ceph/ssd/staff/gosl/app/gurobi.lic'}\n",
      "2024-05-12 18:25:32 (INFO): seed: 2\n",
      "2024-05-12 18:25:33 (INFO): number of samples\n",
      " - labeled: 10 \n",
      " - val: 10 \n",
      " - test: 124 \n",
      " - unlabeled: 1091\n",
      "2024-05-12 18:25:33 (INFO): Delta: 0.02\n"
     ]
    },
    {
     "name": "stdout",
     "output_type": "stream",
     "text": [
      "17 alphas found: ['0.5317', '1.0000', '0.8958', '0.4374', '0.2126', '0.5749', '0.0011', '1.0000', '1.0000', '0.4777', '0.6132', '1.0000', '-0.0000', '-0.0000', '1.0000', '0.6845', '1.0000', '0.0000', '0.7431', '1.0000']\n"
     ]
    },
    {
     "name": "stderr",
     "output_type": "stream",
     "text": [
      "2024-05-12 18:25:34 (INFO): Test accuracy: 1.0\n",
      "2024-05-12 18:25:34 (INFO): Test accuracy ALL UNLABELED: 0.960493803024292\n",
      "2024-05-12 18:25:34 (INFO): Train accuracy: 1.0\n",
      "2024-05-12 18:25:34 (INFO): Accuracy_lb_test: 1.0\n",
      "2024-05-12 18:25:34 (INFO): Accuracy_ub_test: 1.0\n",
      "2024-05-12 18:25:34 (INFO): Accuracy_lb_trn: 1.0\n",
      "2024-05-12 18:25:34 (INFO): Accuracy_ub_trn: 1.0\n",
      "2024-05-12 18:25:34 (INFO): Certified accuracy (evasion): 1.0\n",
      "2024-05-12 18:25:34 (INFO): Certified accuracy (evasion, trivial): 0.0\n",
      "2024-05-12 18:25:34 (INFO): Certified unrobustness (evasion): 0.0\n"
     ]
    },
    {
     "name": "stdout",
     "output_type": "stream",
     "text": [
      "Set parameter TimeLimit to value 360\n"
     ]
    },
    {
     "name": "stderr",
     "output_type": "stream",
     "text": [
      "2024-05-12 18:25:34 (INFO): Set parameter TimeLimit to value 360\n"
     ]
    },
    {
     "name": "stdout",
     "output_type": "stream",
     "text": [
      "Set parameter BestBdStop to value -1.0000000000010001e-04\n"
     ]
    },
    {
     "name": "stderr",
     "output_type": "stream",
     "text": [
      "2024-05-12 18:25:34 (INFO): Set parameter BestBdStop to value -1.0000000000010001e-04\n"
     ]
    },
    {
     "name": "stdout",
     "output_type": "stream",
     "text": [
      "Set parameter BestObjStop to value 0.0001\n"
     ]
    },
    {
     "name": "stderr",
     "output_type": "stream",
     "text": [
      "2024-05-12 18:25:34 (INFO): Set parameter BestObjStop to value 0.0001\n"
     ]
    },
    {
     "name": "stdout",
     "output_type": "stream",
     "text": [
      "Set parameter IntegralityFocus to value 1\n"
     ]
    },
    {
     "name": "stderr",
     "output_type": "stream",
     "text": [
      "2024-05-12 18:25:34 (INFO): Set parameter IntegralityFocus to value 1\n"
     ]
    },
    {
     "name": "stdout",
     "output_type": "stream",
     "text": [
      "Set parameter IntFeasTol to value 0.0001\n"
     ]
    },
    {
     "name": "stderr",
     "output_type": "stream",
     "text": [
      "2024-05-12 18:25:34 (INFO): Set parameter IntFeasTol to value 0.0001\n"
     ]
    },
    {
     "name": "stdout",
     "output_type": "stream",
     "text": [
      "Set parameter DualReductions to value 0\n"
     ]
    },
    {
     "name": "stderr",
     "output_type": "stream",
     "text": [
      "2024-05-12 18:25:34 (INFO): Set parameter DualReductions to value 0\n"
     ]
    },
    {
     "name": "stdout",
     "output_type": "stream",
     "text": [
      "Set parameter FeasibilityTol to value 0.0001\n"
     ]
    },
    {
     "name": "stderr",
     "output_type": "stream",
     "text": [
      "2024-05-12 18:25:34 (INFO): Set parameter FeasibilityTol to value 0.0001\n"
     ]
    },
    {
     "name": "stdout",
     "output_type": "stream",
     "text": [
      "Set parameter OptimalityTol to value 0.0001\n"
     ]
    },
    {
     "name": "stderr",
     "output_type": "stream",
     "text": [
      "2024-05-12 18:25:34 (INFO): Set parameter OptimalityTol to value 0.0001\n"
     ]
    },
    {
     "name": "stdout",
     "output_type": "stream",
     "text": [
      "Gurobi Optimizer version 11.0.1 build v11.0.1rc0 (linux64 - \"Ubuntu 22.04.4 LTS\")\n"
     ]
    },
    {
     "name": "stderr",
     "output_type": "stream",
     "text": [
      "2024-05-12 18:25:34 (INFO): Gurobi Optimizer version 11.0.1 build v11.0.1rc0 (linux64 - \"Ubuntu 22.04.4 LTS\")\n"
     ]
    },
    {
     "name": "stdout",
     "output_type": "stream",
     "text": [
      "\n"
     ]
    },
    {
     "name": "stderr",
     "output_type": "stream",
     "text": [
      "2024-05-12 18:25:34 (INFO): \n"
     ]
    },
    {
     "name": "stdout",
     "output_type": "stream",
     "text": [
      "CPU model: Intel(R) Xeon(R) CPU E5-2630 v4 @ 2.20GHz, instruction set [SSE2|AVX|AVX2]\n"
     ]
    },
    {
     "name": "stderr",
     "output_type": "stream",
     "text": [
      "2024-05-12 18:25:34 (INFO): CPU model: Intel(R) Xeon(R) CPU E5-2630 v4 @ 2.20GHz, instruction set [SSE2|AVX|AVX2]\n"
     ]
    },
    {
     "name": "stdout",
     "output_type": "stream",
     "text": [
      "Thread count: 20 physical cores, 20 logical processors, using up to 20 threads\n"
     ]
    },
    {
     "name": "stderr",
     "output_type": "stream",
     "text": [
      "2024-05-12 18:25:34 (INFO): Thread count: 20 physical cores, 20 logical processors, using up to 20 threads\n"
     ]
    },
    {
     "name": "stdout",
     "output_type": "stream",
     "text": [
      "\n"
     ]
    },
    {
     "name": "stderr",
     "output_type": "stream",
     "text": [
      "2024-05-12 18:25:34 (INFO): \n"
     ]
    },
    {
     "name": "stdout",
     "output_type": "stream",
     "text": [
      "Optimize a model with 940 rows, 520 columns and 2280 nonzeros\n"
     ]
    },
    {
     "name": "stderr",
     "output_type": "stream",
     "text": [
      "2024-05-12 18:25:34 (INFO): Optimize a model with 940 rows, 520 columns and 2280 nonzeros\n"
     ]
    },
    {
     "name": "stdout",
     "output_type": "stream",
     "text": [
      "Model fingerprint: 0x40f96885\n"
     ]
    },
    {
     "name": "stderr",
     "output_type": "stream",
     "text": [
      "2024-05-12 18:25:34 (INFO): Model fingerprint: 0x40f96885\n"
     ]
    },
    {
     "name": "stdout",
     "output_type": "stream",
     "text": [
      "Variable types: 480 continuous, 40 integer (40 binary)\n"
     ]
    },
    {
     "name": "stderr",
     "output_type": "stream",
     "text": [
      "2024-05-12 18:25:34 (INFO): Variable types: 480 continuous, 40 integer (40 binary)\n"
     ]
    },
    {
     "name": "stdout",
     "output_type": "stream",
     "text": [
      "Coefficient statistics:\n"
     ]
    },
    {
     "name": "stderr",
     "output_type": "stream",
     "text": [
      "2024-05-12 18:25:34 (INFO): Coefficient statistics:\n"
     ]
    },
    {
     "name": "stdout",
     "output_type": "stream",
     "text": [
      "  Matrix range     [1e+00, 3e+01]\n"
     ]
    },
    {
     "name": "stderr",
     "output_type": "stream",
     "text": [
      "2024-05-12 18:25:34 (INFO):   Matrix range     [1e+00, 3e+01]\n"
     ]
    },
    {
     "name": "stdout",
     "output_type": "stream",
     "text": [
      "  Objective range  [1e+00, 1e+00]\n"
     ]
    },
    {
     "name": "stderr",
     "output_type": "stream",
     "text": [
      "2024-05-12 18:25:34 (INFO):   Objective range  [1e+00, 1e+00]\n"
     ]
    },
    {
     "name": "stdout",
     "output_type": "stream",
     "text": [
      "  Bounds range     [1e+00, 1e+00]\n"
     ]
    },
    {
     "name": "stderr",
     "output_type": "stream",
     "text": [
      "2024-05-12 18:25:34 (INFO):   Bounds range     [1e+00, 1e+00]\n"
     ]
    },
    {
     "name": "stdout",
     "output_type": "stream",
     "text": [
      "  RHS range        [1e+00, 1e+00]\n"
     ]
    },
    {
     "name": "stderr",
     "output_type": "stream",
     "text": [
      "2024-05-12 18:25:34 (INFO):   RHS range        [1e+00, 1e+00]\n"
     ]
    },
    {
     "name": "stdout",
     "output_type": "stream",
     "text": [
      "\n"
     ]
    },
    {
     "name": "stderr",
     "output_type": "stream",
     "text": [
      "2024-05-12 18:25:34 (INFO): \n"
     ]
    },
    {
     "name": "stdout",
     "output_type": "stream",
     "text": [
      "Loaded user MIP start with objective -1.84447\n",
      "\n",
      "Loaded user MIP start with objective -1.84447\n"
     ]
    },
    {
     "name": "stderr",
     "output_type": "stream",
     "text": [
      "2024-05-12 18:25:34 (INFO): Loaded user MIP start with objective -1.84447\n"
     ]
    },
    {
     "name": "stdout",
     "output_type": "stream",
     "text": [
      "\n"
     ]
    },
    {
     "name": "stderr",
     "output_type": "stream",
     "text": [
      "2024-05-12 18:25:34 (INFO): \n"
     ]
    },
    {
     "name": "stdout",
     "output_type": "stream",
     "text": [
      "Presolve time: 0.00s\n"
     ]
    },
    {
     "name": "stderr",
     "output_type": "stream",
     "text": [
      "2024-05-12 18:25:34 (INFO): Presolve time: 0.00s\n"
     ]
    },
    {
     "name": "stdout",
     "output_type": "stream",
     "text": [
      "Presolved: 940 rows, 520 columns, 2280 nonzeros\n"
     ]
    },
    {
     "name": "stderr",
     "output_type": "stream",
     "text": [
      "2024-05-12 18:25:34 (INFO): Presolved: 940 rows, 520 columns, 2280 nonzeros\n"
     ]
    },
    {
     "name": "stdout",
     "output_type": "stream",
     "text": [
      "Variable types: 480 continuous, 40 integer (40 binary)\n"
     ]
    },
    {
     "name": "stderr",
     "output_type": "stream",
     "text": [
      "2024-05-12 18:25:34 (INFO): Variable types: 480 continuous, 40 integer (40 binary)\n"
     ]
    },
    {
     "name": "stdout",
     "output_type": "stream",
     "text": [
      "\n"
     ]
    },
    {
     "name": "stderr",
     "output_type": "stream",
     "text": [
      "2024-05-12 18:25:34 (INFO): \n"
     ]
    },
    {
     "name": "stdout",
     "output_type": "stream",
     "text": [
      "Root relaxation: objective 1.234235e+01, 613 iterations, 0.01 seconds (0.01 work units)\n"
     ]
    },
    {
     "name": "stderr",
     "output_type": "stream",
     "text": [
      "2024-05-12 18:25:34 (INFO): Root relaxation: objective 1.234235e+01, 613 iterations, 0.01 seconds (0.01 work units)\n"
     ]
    },
    {
     "name": "stdout",
     "output_type": "stream",
     "text": [
      "\n"
     ]
    },
    {
     "name": "stderr",
     "output_type": "stream",
     "text": [
      "2024-05-12 18:25:34 (INFO): \n"
     ]
    },
    {
     "name": "stdout",
     "output_type": "stream",
     "text": [
      "    Nodes    |    Current Node    |     Objective Bounds      |     Work\n"
     ]
    },
    {
     "name": "stderr",
     "output_type": "stream",
     "text": [
      "2024-05-12 18:25:34 (INFO):     Nodes    |    Current Node    |     Objective Bounds      |     Work\n"
     ]
    },
    {
     "name": "stdout",
     "output_type": "stream",
     "text": [
      " Expl Unexpl |  Obj  Depth IntInf | Incumbent    BestBd   Gap | It/Node Time\n"
     ]
    },
    {
     "name": "stderr",
     "output_type": "stream",
     "text": [
      "2024-05-12 18:25:34 (INFO):  Expl Unexpl |  Obj  Depth IntInf | Incumbent    BestBd   Gap | It/Node Time\n"
     ]
    },
    {
     "name": "stdout",
     "output_type": "stream",
     "text": [
      "\n"
     ]
    },
    {
     "name": "stderr",
     "output_type": "stream",
     "text": [
      "2024-05-12 18:25:34 (INFO): \n"
     ]
    },
    {
     "name": "stdout",
     "output_type": "stream",
     "text": [
      "     0     0   12.34235    0   20   -1.84447   12.34235   769%     -    0s\n"
     ]
    },
    {
     "name": "stderr",
     "output_type": "stream",
     "text": [
      "2024-05-12 18:25:34 (INFO):      0     0   12.34235    0   20   -1.84447   12.34235   769%     -    0s\n"
     ]
    },
    {
     "name": "stdout",
     "output_type": "stream",
     "text": [
      "H    0     0                      -1.0743733   12.34235  1249%     -    0s\n"
     ]
    },
    {
     "name": "stderr",
     "output_type": "stream",
     "text": [
      "2024-05-12 18:25:34 (INFO): H    0     0                      -1.0743733   12.34235  1249%     -    0s\n"
     ]
    },
    {
     "name": "stdout",
     "output_type": "stream",
     "text": [
      "     0     0    4.58507    0   33   -1.07437    4.58507   527%     -    0s\n"
     ]
    },
    {
     "name": "stderr",
     "output_type": "stream",
     "text": [
      "2024-05-12 18:25:34 (INFO):      0     0    4.58507    0   33   -1.07437    4.58507   527%     -    0s\n"
     ]
    },
    {
     "name": "stdout",
     "output_type": "stream",
     "text": [
      "     0     0    3.19279    0   26   -1.07437    3.19279   397%     -    0s\n"
     ]
    },
    {
     "name": "stderr",
     "output_type": "stream",
     "text": [
      "2024-05-12 18:25:34 (INFO):      0     0    3.19279    0   26   -1.07437    3.19279   397%     -    0s\n"
     ]
    },
    {
     "name": "stdout",
     "output_type": "stream",
     "text": [
      "     0     0    3.19279    0   30   -1.07437    3.19279   397%     -    0s\n"
     ]
    },
    {
     "name": "stderr",
     "output_type": "stream",
     "text": [
      "2024-05-12 18:25:34 (INFO):      0     0    3.19279    0   30   -1.07437    3.19279   397%     -    0s\n"
     ]
    },
    {
     "name": "stdout",
     "output_type": "stream",
     "text": [
      "     0     0    2.29537    0   30   -1.07437    2.29537   314%     -    0s\n"
     ]
    },
    {
     "name": "stderr",
     "output_type": "stream",
     "text": [
      "2024-05-12 18:25:34 (INFO):      0     0    2.29537    0   30   -1.07437    2.29537   314%     -    0s\n"
     ]
    },
    {
     "name": "stdout",
     "output_type": "stream",
     "text": [
      "H    0     0                      -0.9742781    2.29537   336%     -    0s\n"
     ]
    },
    {
     "name": "stderr",
     "output_type": "stream",
     "text": [
      "2024-05-12 18:25:34 (INFO): H    0     0                      -0.9742781    2.29537   336%     -    0s\n"
     ]
    },
    {
     "name": "stdout",
     "output_type": "stream",
     "text": [
      "     0     0    1.28304    0   27   -0.97428    1.28304   232%     -    0s\n"
     ]
    },
    {
     "name": "stderr",
     "output_type": "stream",
     "text": [
      "2024-05-12 18:25:34 (INFO):      0     0    1.28304    0   27   -0.97428    1.28304   232%     -    0s\n"
     ]
    },
    {
     "name": "stdout",
     "output_type": "stream",
     "text": [
      "     0     2    1.28304    0   26   -0.97428    1.28304   232%     -    0s\n"
     ]
    },
    {
     "name": "stderr",
     "output_type": "stream",
     "text": [
      "2024-05-12 18:25:34 (INFO):      0     2    1.28304    0   26   -0.97428    1.28304   232%     -    0s\n"
     ]
    },
    {
     "name": "stdout",
     "output_type": "stream",
     "text": [
      "\n"
     ]
    },
    {
     "name": "stderr",
     "output_type": "stream",
     "text": [
      "2024-05-12 18:25:34 (INFO): \n"
     ]
    },
    {
     "name": "stdout",
     "output_type": "stream",
     "text": [
      "Cutting planes:\n"
     ]
    },
    {
     "name": "stderr",
     "output_type": "stream",
     "text": [
      "2024-05-12 18:25:34 (INFO): Cutting planes:\n"
     ]
    },
    {
     "name": "stdout",
     "output_type": "stream",
     "text": [
      "  Gomory: 36\n"
     ]
    },
    {
     "name": "stderr",
     "output_type": "stream",
     "text": [
      "2024-05-12 18:25:34 (INFO):   Gomory: 36\n"
     ]
    },
    {
     "name": "stdout",
     "output_type": "stream",
     "text": [
      "  Implied bound: 19\n"
     ]
    },
    {
     "name": "stderr",
     "output_type": "stream",
     "text": [
      "2024-05-12 18:25:34 (INFO):   Implied bound: 19\n"
     ]
    },
    {
     "name": "stdout",
     "output_type": "stream",
     "text": [
      "  Flow cover: 2\n"
     ]
    },
    {
     "name": "stderr",
     "output_type": "stream",
     "text": [
      "2024-05-12 18:25:34 (INFO):   Flow cover: 2\n"
     ]
    },
    {
     "name": "stdout",
     "output_type": "stream",
     "text": [
      "  RLT: 10\n"
     ]
    },
    {
     "name": "stderr",
     "output_type": "stream",
     "text": [
      "2024-05-12 18:25:34 (INFO):   RLT: 10\n"
     ]
    },
    {
     "name": "stdout",
     "output_type": "stream",
     "text": [
      "\n"
     ]
    },
    {
     "name": "stderr",
     "output_type": "stream",
     "text": [
      "2024-05-12 18:25:34 (INFO): \n"
     ]
    },
    {
     "name": "stdout",
     "output_type": "stream",
     "text": [
      "Explored 1112 nodes (29357 simplex iterations) in 0.49 seconds (0.37 work units)\n"
     ]
    },
    {
     "name": "stderr",
     "output_type": "stream",
     "text": [
      "2024-05-12 18:25:34 (INFO): Explored 1112 nodes (29357 simplex iterations) in 0.49 seconds (0.37 work units)\n"
     ]
    },
    {
     "name": "stdout",
     "output_type": "stream",
     "text": [
      "Thread count was 20 (of 20 available processors)\n"
     ]
    },
    {
     "name": "stderr",
     "output_type": "stream",
     "text": [
      "2024-05-12 18:25:34 (INFO): Thread count was 20 (of 20 available processors)\n"
     ]
    },
    {
     "name": "stdout",
     "output_type": "stream",
     "text": [
      "\n"
     ]
    },
    {
     "name": "stderr",
     "output_type": "stream",
     "text": [
      "2024-05-12 18:25:34 (INFO): \n"
     ]
    },
    {
     "name": "stdout",
     "output_type": "stream",
     "text": [
      "Solution count 3: -0.974278 -1.07437 -1.84447 \n"
     ]
    },
    {
     "name": "stderr",
     "output_type": "stream",
     "text": [
      "2024-05-12 18:25:34 (INFO): Solution count 3: -0.974278 -1.07437 -1.84447 \n"
     ]
    },
    {
     "name": "stdout",
     "output_type": "stream",
     "text": [
      "\n"
     ]
    },
    {
     "name": "stderr",
     "output_type": "stream",
     "text": [
      "2024-05-12 18:25:34 (INFO): \n"
     ]
    },
    {
     "name": "stdout",
     "output_type": "stream",
     "text": [
      "Optimization achieved user objective limit\n"
     ]
    },
    {
     "name": "stderr",
     "output_type": "stream",
     "text": [
      "2024-05-12 18:25:34 (INFO): Optimization achieved user objective limit\n"
     ]
    },
    {
     "name": "stdout",
     "output_type": "stream",
     "text": [
      "Best objective -9.742780922035e-01, best bound -3.608328070268e-02, gap 96.2964%\n"
     ]
    },
    {
     "name": "stderr",
     "output_type": "stream",
     "text": [
      "2024-05-12 18:25:34 (INFO): Best objective -9.742780922035e-01, best bound -3.608328070268e-02, gap 96.2964%\n"
     ]
    },
    {
     "name": "stdout",
     "output_type": "stream",
     "text": [
      "\n"
     ]
    },
    {
     "name": "stderr",
     "output_type": "stream",
     "text": [
      "2024-05-12 18:25:34 (INFO): \n"
     ]
    },
    {
     "name": "stdout",
     "output_type": "stream",
     "text": [
      "User-callback calls 2562, time in user-callback 0.00 sec\n"
     ]
    },
    {
     "name": "stderr",
     "output_type": "stream",
     "text": [
      "2024-05-12 18:25:34 (INFO): User-callback calls 2562, time in user-callback 0.00 sec\n",
      "2024-05-12 18:25:34 (INFO): Optimization status: 15\n",
      "2024-05-12 18:25:34 (INFO): Original -1.84447, Opt objective -0.97428\n",
      "2024-05-12 18:25:34 (INFO): Robust count 1 out of 1\n",
      "2024-05-12 18:25:34 (INFO): Certified accuracy (poisoning): 1.0\n"
     ]
    },
    {
     "data": {
      "text/plain": [
       "{'accuracy_test': 1.0,\n",
       " 'accuracy_test_all': 0.960493803024292,\n",
       " 'accuracy_trn': 1.0,\n",
       " 'accuracy_ub_test': 1.0,\n",
       " 'accuracy_lb_test': 1.0,\n",
       " 'accuracy_ub_trn': 1.0,\n",
       " 'accuracy_lb_trn': 1.0,\n",
       " 'accuracy_cert_evasion_trivial': 0.0,\n",
       " 'accuracy_cert_evasion_robust': 1.0,\n",
       " 'accuracy_cert_evasion_unrobust': 0.0,\n",
       " 'accuracy_cert_pois_robust': 1.0,\n",
       " 'accuracy_cert_pois_unrobust': 0,\n",
       " 'delta_absolute': 0.02,\n",
       " 'process_time': 8.662833294999928,\n",
       " 'y_true_cls': -1,\n",
       " 'y_pred_logit': -1.8444709252858402,\n",
       " 'y_worst_obj': -0.9742780922035239,\n",
       " 'y_worst_obj_bound': -0.03608328070267746,\n",
       " 'y_is_robust': True,\n",
       " 'y_opt_status': 15,\n",
       " 'idx_train': [1132, 1230, 665, 475, 352, 462, 253, 217, 1191, 85],\n",
       " 'idx_val': [347, 1071, 221, 182, 954, 497, 60, 857, 539, 1192],\n",
       " 'idx_labeled': [1132,\n",
       "  1230,\n",
       "  665,\n",
       "  475,\n",
       "  352,\n",
       "  462,\n",
       "  253,\n",
       "  217,\n",
       "  1191,\n",
       "  85,\n",
       "  347,\n",
       "  1071,\n",
       "  221,\n",
       "  182,\n",
       "  954,\n",
       "  497,\n",
       "  60,\n",
       "  857,\n",
       "  539,\n",
       "  1192],\n",
       " 'idx_test': [150],\n",
       " 'idx_adv': [252,\n",
       "  145,\n",
       "  563,\n",
       "  1058,\n",
       "  455,\n",
       "  2,\n",
       "  445,\n",
       "  564,\n",
       "  164,\n",
       "  546,\n",
       "  249,\n",
       "  1001,\n",
       "  1068,\n",
       "  881,\n",
       "  1173,\n",
       "  124,\n",
       "  70,\n",
       "  168,\n",
       "  1020,\n",
       "  1197,\n",
       "  1043,\n",
       "  1183,\n",
       "  264,\n",
       "  764,\n",
       "  664,\n",
       "  919,\n",
       "  924,\n",
       "  1025,\n",
       "  880,\n",
       "  214,\n",
       "  1127,\n",
       "  746,\n",
       "  1125,\n",
       "  496,\n",
       "  985,\n",
       "  68,\n",
       "  630,\n",
       "  488,\n",
       "  734,\n",
       "  1072,\n",
       "  536,\n",
       "  691,\n",
       "  24,\n",
       "  454,\n",
       "  1124,\n",
       "  981,\n",
       "  300,\n",
       "  989,\n",
       "  1091,\n",
       "  327],\n",
       " 'data_dim': 384,\n",
       " 'min_ypred': -1.8444709252858402,\n",
       " 'max_ypred': -1.8444709252858402,\n",
       " 'min_ylb': -2.4941950182254367,\n",
       " 'max_ylb': -2.4941950182254367,\n",
       " 'min_yub': -1.2302574153461663,\n",
       " 'max_yub': -1.2302574153461663,\n",
       " 'avg_ntklb': 2.648594652858364,\n",
       " 'min_ntklb': 0.9769523392919393,\n",
       " 'max_ntklb': 78.66505350237594,\n",
       " 'avg_ntkub': 2.7710587327594736,\n",
       " 'min_ntkub': 1.2452858596938774,\n",
       " 'max_ntkub': 81.91433036124256,\n",
       " 'min_ntklabeled': 1.3863054469904383,\n",
       " 'max_ntklabeled': 5.307533380329174,\n",
       " 'avg_ntkunlabeled': 4.105754452159901,\n",
       " 'min_ntkunlabeled': 3.358476977930181,\n",
       " 'max_ntkunlabeled': 5.643965089546876,\n",
       " 'cond': 529.8151482279006,\n",
       " 'cond_regularized': 42.14727515156064}"
      ]
     },
     "execution_count": 25,
     "metadata": {},
     "output_type": "execute_result"
    }
   ],
   "source": [
    "\"\"\"\n",
    "model_params = dict(\n",
    "    label = \"APPNP\",\n",
    "    model = \"APPNP\",\n",
    "    #model = \"GCN\",\n",
    "    normalization = \"sym_normalization\",\n",
    "    iteration=10,\n",
    "    alpha=0.2,\n",
    "    depth = 1,\n",
    "    #regularizer = 1e-8\n",
    "    pred_method = \"svm\",\n",
    "    activation = \"relu\"\n",
    ")\n",
    "\"\"\"\n",
    "model_params = dict(\n",
    "    label = \"GCN\",\n",
    "    model = \"GCN\",\n",
    "    normalization = \"row_normalization\",\n",
    "    depth = 0.1,\n",
    "    #regularizer = 1e-8\n",
    "    regularizer = 1,\n",
    "    pred_method = \"svm\",\n",
    "    activation = \"relu\"\n",
    ")\n",
    "#model_params[\"cache_size\"] = 10000\n",
    "data_params[\"dataset\"] = \"cora_ml_cont_binary\"\n",
    "data_params[\"specification\"][\"n_per_class\"] = 5\n",
    "other_params[\"device\"] = \"cpu\"\n",
    "other_params[\"debug\"] = False\n",
    "other_params[\"zero_tol\"] = 1e-6\n",
    "certificate_params[\"target_idx\"] = 1\n",
    "certificate_params[\"n_targets_per_class\"] = 5\n",
    "certificate_params[\"n_adversarial\"] = 50\n",
    "certificate_params[\"delta\"] = 0.02\n",
    "certificate_params[\"delta_absolute\"] = False\n",
    "certificate_params[\"method\"] = \"XXT\"\n",
    "certificate_params[\"perturbation_model\"] = \"linf\"\n",
    "certificate_params[\"attack_nodes\"] = \"test\"\n",
    "certificate_params[\"TimeLimit\"] = 360\n",
    "#certificate_params[\"MIPFocus\"] = 2\n",
    "#certificate_params[\"Cuts\"] = -1\n",
    "#certificate_params[\"Heuristics\"] = 0.05\n",
    "certificate_params[\"LogToConsole\"] = 1\n",
    "certificate_params[\"OutputFlag\"] = 1\n",
    "certificate_params[\"NumericFocus\"] = 0\n",
    "other_params[\"path_gurobi_license\"] = \"/ceph/ssd/staff/gosl/app/gurobi.lic\"\n",
    "verbosity_params[\"debug_lvl\"] = \"info\"\n",
    "model_params[\"regularizer\"] = 1\n",
    "model_params[\"solver\"] = \"qplayer\"\n",
    "model_params[\"alpha_tol\"] = 1e-4\n",
    "model_params[\"bias\"] = False\n",
    "data_params[\"learning_setting\"] = \"transductive\"\n",
    "run(data_params, model_params, certificate_params, verbosity_params, other_params, seed)"
   ]
  },
  {
   "cell_type": "code",
   "execution_count": null,
   "metadata": {},
   "outputs": [],
   "source": []
  }
 ],
 "metadata": {
  "kernelspec": {
   "display_name": "py311_ntk",
   "language": "python",
   "name": "python3"
  },
  "language_info": {
   "codemirror_mode": {
    "name": "ipython",
    "version": 3
   },
   "file_extension": ".py",
   "mimetype": "text/x-python",
   "name": "python",
   "nbconvert_exporter": "python",
   "pygments_lexer": "ipython3",
   "version": "3.11.5"
  }
 },
 "nbformat": 4,
 "nbformat_minor": 2
}
