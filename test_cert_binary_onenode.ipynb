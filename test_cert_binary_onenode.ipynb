{
 "cells": [
  {
   "cell_type": "code",
   "execution_count": 1,
   "metadata": {},
   "outputs": [],
   "source": [
    "%load_ext autoreload\n",
    "%autoreload 2"
   ]
  },
  {
   "cell_type": "code",
   "execution_count": 2,
   "metadata": {},
   "outputs": [],
   "source": [
    "import torch\n",
    "import numpy as np\n",
    "from exp_certify_binaryclass_onenode import run"
   ]
  },
  {
   "cell_type": "code",
   "execution_count": 3,
   "metadata": {},
   "outputs": [],
   "source": [
    "seed = 2\n",
    "\n",
    "data_params = dict(\n",
    "    dataset = \"us_county\",\n",
    "    learning_setting = \"transductive\", # or \"transdructive\"\n",
    "    specification = dict(\n",
    "        year = 2016,\n",
    "        n_per_class = 50,\n",
    "        fraction_test = 0.01,\n",
    "        data_dir = \"./data\",\n",
    "        make_undirected = True,\n",
    "        binary_attr = False,\n",
    "        balance_test = True,\n",
    "        seed = 2\n",
    "    )\n",
    ")\n",
    "\n",
    "model_params = dict(\n",
    "    label = \"GCN\",\n",
    "    model = \"GCN\",\n",
    "    normalization = \"row_normalization\",\n",
    "    depth = 1,\n",
    "    #regularizer = 1e-8\n",
    "    regularizer = 1,\n",
    "    pred_method = \"svm\",\n",
    "    activation = \"relu\"\n",
    ")\n",
    "\n",
    "certificate_params = dict(\n",
    "    n_adversarial = 1, # number adversarial nodes\n",
    "    perturbation_model = \"linf\",\n",
    "    delta = 0.01 # l0: local budget = delta * feature_dim\n",
    ")\n",
    "\n",
    "verbosity_params = dict(\n",
    "    debug_lvl = \"warning\"\n",
    ")  \n",
    "\n",
    "other_params = dict(\n",
    "    device = \"cpu\",\n",
    "    dtype = torch.float64,\n",
    "    allow_tf32 = False\n",
    ")"
   ]
  },
  {
   "cell_type": "code",
   "execution_count": 25,
   "metadata": {},
   "outputs": [
    {
     "name": "stderr",
     "output_type": "stream",
     "text": [
      "2024-05-12 18:25:32 (INFO): Starting experiment exp_certify_binaryclass_onenode with configuration:\n",
      "2024-05-12 18:25:32 (INFO): data_params: {'dataset': 'cora_ml_cont_binary', 'learning_setting': 'transductive', 'specification': {'year': 2016, 'n_per_class': 5, 'fraction_test': 0.01, 'data_dir': './data', 'make_undirected': True, 'binary_attr': False, 'balance_test': True, 'seed': 2}}\n",
      "2024-05-12 18:25:32 (INFO): model_params: {'label': 'APPNP', 'model': 'APPNP', 'normalization': 'sym_normalization', 'iteration': 10, 'alpha': 0.2, 'depth': 1, 'pred_method': 'svm', 'activation': 'relu', 'regularizer': 1, 'solver': 'qplayer', 'alpha_tol': 0.0001, 'bias': False}\n",
      "2024-05-12 18:25:32 (INFO): certification_params: {'n_adversarial': 50, 'perturbation_model': 'linf', 'delta': 0.02, 'target_idx': 1, 'n_targets_per_class': 5, 'delta_absolute': False, 'method': 'XXT', 'attack_nodes': 'test', 'TimeLimit': 360, 'LogToConsole': 1, 'OutputFlag': 1, 'NumericFocus': 0}\n",
      "2024-05-12 18:25:32 (INFO): verbosity_params: {'debug_lvl': 'info'}\n",
      "2024-05-12 18:25:32 (INFO): other_params: {'device': 'cpu', 'dtype': torch.float64, 'allow_tf32': False, 'debug': False, 'zero_tol': 1e-06, 'path_gurobi_license': '/ceph/ssd/staff/gosl/app/gurobi.lic'}\n",
      "2024-05-12 18:25:32 (INFO): seed: 2\n",
      "2024-05-12 18:25:33 (INFO): number of samples\n",
      " - labeled: 10 \n",
      " - val: 10 \n",
      " - test: 124 \n",
      " - unlabeled: 1091\n",
      "2024-05-12 18:25:33 (INFO): Delta: 0.02\n"
     ]
    },
    {
     "name": "stdout",
     "output_type": "stream",
     "text": [
      "17 alphas found: ['0.5317', '1.0000', '0.8958', '0.4374', '0.2126', '0.5749', '0.0011', '1.0000', '1.0000', '0.4777', '0.6132', '1.0000', '-0.0000', '-0.0000', '1.0000', '0.6845', '1.0000', '0.0000', '0.7431', '1.0000']\n"
     ]
    },
    {
     "name": "stderr",
     "output_type": "stream",
     "text": [
      "2024-05-12 18:25:34 (INFO): Test accuracy: 1.0\n",
      "2024-05-12 18:25:34 (INFO): Test accuracy ALL UNLABELED: 0.960493803024292\n",
      "2024-05-12 18:25:34 (INFO): Train accuracy: 1.0\n",
      "2024-05-12 18:25:34 (INFO): Accuracy_lb_test: 1.0\n",
      "2024-05-12 18:25:34 (INFO): Accuracy_ub_test: 1.0\n",
      "2024-05-12 18:25:34 (INFO): Accuracy_lb_trn: 1.0\n",
      "2024-05-12 18:25:34 (INFO): Accuracy_ub_trn: 1.0\n",
      "2024-05-12 18:25:34 (INFO): Certified accuracy (evasion): 1.0\n",
      "2024-05-12 18:25:34 (INFO): Certified accuracy (evasion, trivial): 0.0\n",
      "2024-05-12 18:25:34 (INFO): Certified unrobustness (evasion): 0.0\n"
     ]
    },
    {
     "name": "stdout",
     "output_type": "stream",
     "text": [
      "Set parameter TimeLimit to value 360\n"
     ]
    },
    {
     "name": "stderr",
     "output_type": "stream",
     "text": [
      "2024-05-12 18:25:34 (INFO): Set parameter TimeLimit to value 360\n"
     ]
    },
    {
     "name": "stdout",
     "output_type": "stream",
     "text": [
      "Set parameter BestBdStop to value -1.0000000000010001e-04\n"
     ]
    },
    {
     "name": "stderr",
     "output_type": "stream",
     "text": [
      "2024-05-12 18:25:34 (INFO): Set parameter BestBdStop to value -1.0000000000010001e-04\n"
     ]
    },
    {
     "name": "stdout",
     "output_type": "stream",
     "text": [
      "Set parameter BestObjStop to value 0.0001\n"
     ]
    },
    {
     "name": "stderr",
     "output_type": "stream",
     "text": [
      "2024-05-12 18:25:34 (INFO): Set parameter BestObjStop to value 0.0001\n"
     ]
    },
    {
     "name": "stdout",
     "output_type": "stream",
     "text": [
      "Set parameter IntegralityFocus to value 1\n"
     ]
    },
    {
     "name": "stderr",
     "output_type": "stream",
     "text": [
      "2024-05-12 18:25:34 (INFO): Set parameter IntegralityFocus to value 1\n"
     ]
    },
    {
     "name": "stdout",
     "output_type": "stream",
     "text": [
      "Set parameter IntFeasTol to value 0.0001\n"
     ]
    },
    {
     "name": "stderr",
     "output_type": "stream",
     "text": [
      "2024-05-12 18:25:34 (INFO): Set parameter IntFeasTol to value 0.0001\n"
     ]
    },
    {
     "name": "stdout",
     "output_type": "stream",
     "text": [
      "Set parameter DualReductions to value 0\n"
     ]
    },
    {
     "name": "stderr",
     "output_type": "stream",
     "text": [
      "2024-05-12 18:25:34 (INFO): Set parameter DualReductions to value 0\n"
     ]
    },
    {
     "name": "stdout",
     "output_type": "stream",
     "text": [
      "Set parameter FeasibilityTol to value 0.0001\n"
     ]
    },
    {
     "name": "stderr",
     "output_type": "stream",
     "text": [
      "2024-05-12 18:25:34 (INFO): Set parameter FeasibilityTol to value 0.0001\n"
     ]
    },
    {
     "name": "stdout",
     "output_type": "stream",
     "text": [
      "Set parameter OptimalityTol to value 0.0001\n"
     ]
    },
    {
     "name": "stderr",
     "output_type": "stream",
     "text": [
      "2024-05-12 18:25:34 (INFO): Set parameter OptimalityTol to value 0.0001\n"
     ]
    },
    {
     "name": "stdout",
     "output_type": "stream",
     "text": [
      "Gurobi Optimizer version 11.0.1 build v11.0.1rc0 (linux64 - \"Ubuntu 22.04.4 LTS\")\n"
     ]
    },
    {
     "name": "stderr",
     "output_type": "stream",
     "text": [
      "2024-05-12 18:25:34 (INFO): Gurobi Optimizer version 11.0.1 build v11.0.1rc0 (linux64 - \"Ubuntu 22.04.4 LTS\")\n"
     ]
    },
    {
     "name": "stdout",
     "output_type": "stream",
     "text": [
      "\n"
     ]
    },
    {
     "name": "stderr",
     "output_type": "stream",
     "text": [
      "2024-05-12 18:25:34 (INFO): \n"
     ]
    },
    {
     "name": "stdout",
     "output_type": "stream",
     "text": [
      "CPU model: Intel(R) Xeon(R) CPU E5-2630 v4 @ 2.20GHz, instruction set [SSE2|AVX|AVX2]\n"
     ]
    },
    {
     "name": "stderr",
     "output_type": "stream",
     "text": [
      "2024-05-12 18:25:34 (INFO): CPU model: Intel(R) Xeon(R) CPU E5-2630 v4 @ 2.20GHz, instruction set [SSE2|AVX|AVX2]\n"
     ]
    },
    {
     "name": "stdout",
     "output_type": "stream",
     "text": [
      "Thread count: 20 physical cores, 20 logical processors, using up to 20 threads\n"
     ]
    },
    {
     "name": "stderr",
     "output_type": "stream",
     "text": [
      "2024-05-12 18:25:34 (INFO): Thread count: 20 physical cores, 20 logical processors, using up to 20 threads\n"
     ]
    },
    {
     "name": "stdout",
     "output_type": "stream",
     "text": [
      "\n"
     ]
    },
    {
     "name": "stderr",
     "output_type": "stream",
     "text": [
      "2024-05-12 18:25:34 (INFO): \n"
     ]
    },
    {
     "name": "stdout",
     "output_type": "stream",
     "text": [
      "Optimize a model with 940 rows, 520 columns and 2280 nonzeros\n"
     ]
    },
    {
     "name": "stderr",
     "output_type": "stream",
     "text": [
      "2024-05-12 18:25:34 (INFO): Optimize a model with 940 rows, 520 columns and 2280 nonzeros\n"
     ]
    },
    {
     "name": "stdout",
     "output_type": "stream",
     "text": [
      "Model fingerprint: 0x40f96885\n"
     ]
    },
    {
     "name": "stderr",
     "output_type": "stream",
     "text": [
      "2024-05-12 18:25:34 (INFO): Model fingerprint: 0x40f96885\n"
     ]
    },
    {
     "name": "stdout",
     "output_type": "stream",
     "text": [
      "Variable types: 480 continuous, 40 integer (40 binary)\n"
     ]
    },
    {
     "name": "stderr",
     "output_type": "stream",
     "text": [
      "2024-05-12 18:25:34 (INFO): Variable types: 480 continuous, 40 integer (40 binary)\n"
     ]
    },
    {
     "name": "stdout",
     "output_type": "stream",
     "text": [
      "Coefficient statistics:\n"
     ]
    },
    {
     "name": "stderr",
     "output_type": "stream",
     "text": [
      "2024-05-12 18:25:34 (INFO): Coefficient statistics:\n"
     ]
    },
    {
     "name": "stdout",
     "output_type": "stream",
     "text": [
      "  Matrix range     [1e+00, 3e+01]\n"
     ]
    },
    {
     "name": "stderr",
     "output_type": "stream",
     "text": [
      "2024-05-12 18:25:34 (INFO):   Matrix range     [1e+00, 3e+01]\n"
     ]
    },
    {
     "name": "stdout",
     "output_type": "stream",
     "text": [
      "  Objective range  [1e+00, 1e+00]\n"
     ]
    },
    {
     "name": "stderr",
     "output_type": "stream",
     "text": [
      "2024-05-12 18:25:34 (INFO):   Objective range  [1e+00, 1e+00]\n"
     ]
    },
    {
     "name": "stdout",
     "output_type": "stream",
     "text": [
      "  Bounds range     [1e+00, 1e+00]\n"
     ]
    },
    {
     "name": "stderr",
     "output_type": "stream",
     "text": [
      "2024-05-12 18:25:34 (INFO):   Bounds range     [1e+00, 1e+00]\n"
     ]
    },
    {
     "name": "stdout",
     "output_type": "stream",
     "text": [
      "  RHS range        [1e+00, 1e+00]\n"
     ]
    },
    {
     "name": "stderr",
     "output_type": "stream",
     "text": [
      "2024-05-12 18:25:34 (INFO):   RHS range        [1e+00, 1e+00]\n"
     ]
    },
    {
     "name": "stdout",
     "output_type": "stream",
     "text": [
      "\n"
     ]
    },
    {
     "name": "stderr",
     "output_type": "stream",
     "text": [
      "2024-05-12 18:25:34 (INFO): \n"
     ]
    },
    {
     "name": "stdout",
     "output_type": "stream",
     "text": [
      "Loaded user MIP start with objective -1.84447\n",
      "\n",
      "Loaded user MIP start with objective -1.84447\n"
     ]
    },
    {
     "name": "stderr",
     "output_type": "stream",
     "text": [
      "2024-05-12 18:25:34 (INFO): Loaded user MIP start with objective -1.84447\n"
     ]
    },
    {
     "name": "stdout",
     "output_type": "stream",
     "text": [
      "\n"
     ]
    },
    {
     "name": "stderr",
     "output_type": "stream",
     "text": [
      "2024-05-12 18:25:34 (INFO): \n"
     ]
    },
    {
     "name": "stdout",
     "output_type": "stream",
     "text": [
      "Presolve time: 0.00s\n"
     ]
    },
    {
     "name": "stderr",
     "output_type": "stream",
     "text": [
      "2024-05-12 18:25:34 (INFO): Presolve time: 0.00s\n"
     ]
    },
    {
     "name": "stdout",
     "output_type": "stream",
     "text": [
      "Presolved: 940 rows, 520 columns, 2280 nonzeros\n"
     ]
    },
    {
     "name": "stderr",
     "output_type": "stream",
     "text": [
      "2024-05-12 18:25:34 (INFO): Presolved: 940 rows, 520 columns, 2280 nonzeros\n"
     ]
    },
    {
     "name": "stdout",
     "output_type": "stream",
     "text": [
      "Variable types: 480 continuous, 40 integer (40 binary)\n"
     ]
    },
    {
     "name": "stderr",
     "output_type": "stream",
     "text": [
      "2024-05-12 18:25:34 (INFO): Variable types: 480 continuous, 40 integer (40 binary)\n"
     ]
    },
    {
     "name": "stdout",
     "output_type": "stream",
     "text": [
      "\n"
     ]
    },
    {
     "name": "stderr",
     "output_type": "stream",
     "text": [
      "2024-05-12 18:25:34 (INFO): \n"
     ]
    },
    {
     "name": "stdout",
     "output_type": "stream",
     "text": [
      "Root relaxation: objective 1.234235e+01, 613 iterations, 0.01 seconds (0.01 work units)\n"
     ]
    },
    {
     "name": "stderr",
     "output_type": "stream",
     "text": [
      "2024-05-12 18:25:34 (INFO): Root relaxation: objective 1.234235e+01, 613 iterations, 0.01 seconds (0.01 work units)\n"
     ]
    },
    {
     "name": "stdout",
     "output_type": "stream",
     "text": [
      "\n"
     ]
    },
    {
     "name": "stderr",
     "output_type": "stream",
     "text": [
      "2024-05-12 18:25:34 (INFO): \n"
     ]
    },
    {
     "name": "stdout",
     "output_type": "stream",
     "text": [
      "    Nodes    |    Current Node    |     Objective Bounds      |     Work\n"
     ]
    },
    {
     "name": "stderr",
     "output_type": "stream",
     "text": [
      "2024-05-12 18:25:34 (INFO):     Nodes    |    Current Node    |     Objective Bounds      |     Work\n"
     ]
    },
    {
     "name": "stdout",
     "output_type": "stream",
     "text": [
      " Expl Unexpl |  Obj  Depth IntInf | Incumbent    BestBd   Gap | It/Node Time\n"
     ]
    },
    {
     "name": "stderr",
     "output_type": "stream",
     "text": [
      "2024-05-12 18:25:34 (INFO):  Expl Unexpl |  Obj  Depth IntInf | Incumbent    BestBd   Gap | It/Node Time\n"
     ]
    },
    {
     "name": "stdout",
     "output_type": "stream",
     "text": [
      "\n"
     ]
    },
    {
     "name": "stderr",
     "output_type": "stream",
     "text": [
      "2024-05-12 18:25:34 (INFO): \n"
     ]
    },
    {
     "name": "stdout",
     "output_type": "stream",
     "text": [
      "     0     0   12.34235    0   20   -1.84447   12.34235   769%     -    0s\n"
     ]
    },
    {
     "name": "stderr",
     "output_type": "stream",
     "text": [
      "2024-05-12 18:25:34 (INFO):      0     0   12.34235    0   20   -1.84447   12.34235   769%     -    0s\n"
     ]
    },
    {
     "name": "stdout",
     "output_type": "stream",
     "text": [
      "H    0     0                      -1.0743733   12.34235  1249%     -    0s\n"
     ]
    },
    {
     "name": "stderr",
     "output_type": "stream",
     "text": [
      "2024-05-12 18:25:34 (INFO): H    0     0                      -1.0743733   12.34235  1249%     -    0s\n"
     ]
    },
    {
     "name": "stdout",
     "output_type": "stream",
     "text": [
      "     0     0    4.58507    0   33   -1.07437    4.58507   527%     -    0s\n"
     ]
    },
    {
     "name": "stderr",
     "output_type": "stream",
     "text": [
      "2024-05-12 18:25:34 (INFO):      0     0    4.58507    0   33   -1.07437    4.58507   527%     -    0s\n"
     ]
    },
    {
     "name": "stdout",
     "output_type": "stream",
     "text": [
      "     0     0    3.19279    0   26   -1.07437    3.19279   397%     -    0s\n"
     ]
    },
    {
     "name": "stderr",
     "output_type": "stream",
     "text": [
      "2024-05-12 18:25:34 (INFO):      0     0    3.19279    0   26   -1.07437    3.19279   397%     -    0s\n"
     ]
    },
    {
     "name": "stdout",
     "output_type": "stream",
     "text": [
      "     0     0    3.19279    0   30   -1.07437    3.19279   397%     -    0s\n"
     ]
    },
    {
     "name": "stderr",
     "output_type": "stream",
     "text": [
      "2024-05-12 18:25:34 (INFO):      0     0    3.19279    0   30   -1.07437    3.19279   397%     -    0s\n"
     ]
    },
    {
     "name": "stdout",
     "output_type": "stream",
     "text": [
      "     0     0    2.29537    0   30   -1.07437    2.29537   314%     -    0s\n"
     ]
    },
    {
     "name": "stderr",
     "output_type": "stream",
     "text": [
      "2024-05-12 18:25:34 (INFO):      0     0    2.29537    0   30   -1.07437    2.29537   314%     -    0s\n"
     ]
    },
    {
     "name": "stdout",
     "output_type": "stream",
     "text": [
      "H    0     0                      -0.9742781    2.29537   336%     -    0s\n"
     ]
    },
    {
     "name": "stderr",
     "output_type": "stream",
     "text": [
      "2024-05-12 18:25:34 (INFO): H    0     0                      -0.9742781    2.29537   336%     -    0s\n"
     ]
    },
    {
     "name": "stdout",
     "output_type": "stream",
     "text": [
      "     0     0    1.28304    0   27   -0.97428    1.28304   232%     -    0s\n"
     ]
    },
    {
     "name": "stderr",
     "output_type": "stream",
     "text": [
      "2024-05-12 18:25:34 (INFO):      0     0    1.28304    0   27   -0.97428    1.28304   232%     -    0s\n"
     ]
    },
    {
     "name": "stdout",
     "output_type": "stream",
     "text": [
      "     0     2    1.28304    0   26   -0.97428    1.28304   232%     -    0s\n"
     ]
    },
    {
     "name": "stderr",
     "output_type": "stream",
     "text": [
      "2024-05-12 18:25:34 (INFO):      0     2    1.28304    0   26   -0.97428    1.28304   232%     -    0s\n"
     ]
    },
    {
     "name": "stdout",
     "output_type": "stream",
     "text": [
      "\n"
     ]
    },
    {
     "name": "stderr",
     "output_type": "stream",
     "text": [
      "2024-05-12 18:25:34 (INFO): \n"
     ]
    },
    {
     "name": "stdout",
     "output_type": "stream",
     "text": [
      "Cutting planes:\n"
     ]
    },
    {
     "name": "stderr",
     "output_type": "stream",
     "text": [
      "2024-05-12 18:25:34 (INFO): Cutting planes:\n"
     ]
    },
    {
     "name": "stdout",
     "output_type": "stream",
     "text": [
      "  Gomory: 36\n"
     ]
    },
    {
     "name": "stderr",
     "output_type": "stream",
     "text": [
      "2024-05-12 18:25:34 (INFO):   Gomory: 36\n"
     ]
    },
    {
     "name": "stdout",
     "output_type": "stream",
     "text": [
      "  Implied bound: 19\n"
     ]
    },
    {
     "name": "stderr",
     "output_type": "stream",
     "text": [
      "2024-05-12 18:25:34 (INFO):   Implied bound: 19\n"
     ]
    },
    {
     "name": "stdout",
     "output_type": "stream",
     "text": [
      "  Flow cover: 2\n"
     ]
    },
    {
     "name": "stderr",
     "output_type": "stream",
     "text": [
      "2024-05-12 18:25:34 (INFO):   Flow cover: 2\n"
     ]
    },
    {
     "name": "stdout",
     "output_type": "stream",
     "text": [
      "  RLT: 10\n"
     ]
    },
    {
     "name": "stderr",
     "output_type": "stream",
     "text": [
      "2024-05-12 18:25:34 (INFO):   RLT: 10\n"
     ]
    },
    {
     "name": "stdout",
     "output_type": "stream",
     "text": [
      "\n"
     ]
    },
    {
     "name": "stderr",
     "output_type": "stream",
     "text": [
      "2024-05-12 18:25:34 (INFO): \n"
     ]
    },
    {
     "name": "stdout",
     "output_type": "stream",
     "text": [
      "Explored 1112 nodes (29357 simplex iterations) in 0.49 seconds (0.37 work units)\n"
     ]
    },
    {
     "name": "stderr",
     "output_type": "stream",
     "text": [
      "2024-05-12 18:25:34 (INFO): Explored 1112 nodes (29357 simplex iterations) in 0.49 seconds (0.37 work units)\n"
     ]
    },
    {
     "name": "stdout",
     "output_type": "stream",
     "text": [
      "Thread count was 20 (of 20 available processors)\n"
     ]
    },
    {
     "name": "stderr",
     "output_type": "stream",
     "text": [
      "2024-05-12 18:25:34 (INFO): Thread count was 20 (of 20 available processors)\n"
     ]
    },
    {
     "name": "stdout",
     "output_type": "stream",
     "text": [
      "\n"
     ]
    },
    {
     "name": "stderr",
     "output_type": "stream",
     "text": [
      "2024-05-12 18:25:34 (INFO): \n"
     ]
    },
    {
     "name": "stdout",
     "output_type": "stream",
     "text": [
      "Solution count 3: -0.974278 -1.07437 -1.84447 \n"
     ]
    },
    {
     "name": "stderr",
     "output_type": "stream",
     "text": [
      "2024-05-12 18:25:34 (INFO): Solution count 3: -0.974278 -1.07437 -1.84447 \n"
     ]
    },
    {
     "name": "stdout",
     "output_type": "stream",
     "text": [
      "\n"
     ]
    },
    {
     "name": "stderr",
     "output_type": "stream",
     "text": [
      "2024-05-12 18:25:34 (INFO): \n"
     ]
    },
    {
     "name": "stdout",
     "output_type": "stream",
     "text": [
      "Optimization achieved user objective limit\n"
     ]
    },
    {
     "name": "stderr",
     "output_type": "stream",
     "text": [
      "2024-05-12 18:25:34 (INFO): Optimization achieved user objective limit\n"
     ]
    },
    {
     "name": "stdout",
     "output_type": "stream",
     "text": [
      "Best objective -9.742780922035e-01, best bound -3.608328070268e-02, gap 96.2964%\n"
     ]
    },
    {
     "name": "stderr",
     "output_type": "stream",
     "text": [
      "2024-05-12 18:25:34 (INFO): Best objective -9.742780922035e-01, best bound -3.608328070268e-02, gap 96.2964%\n"
     ]
    },
    {
     "name": "stdout",
     "output_type": "stream",
     "text": [
      "\n"
     ]
    },
    {
     "name": "stderr",
     "output_type": "stream",
     "text": [
      "2024-05-12 18:25:34 (INFO): \n"
     ]
    },
    {
     "name": "stdout",
     "output_type": "stream",
     "text": [
      "User-callback calls 2562, time in user-callback 0.00 sec\n"
     ]
    },
    {
     "name": "stderr",
     "output_type": "stream",
     "text": [
      "2024-05-12 18:25:34 (INFO): User-callback calls 2562, time in user-callback 0.00 sec\n",
      "2024-05-12 18:25:34 (INFO): Optimization status: 15\n",
      "2024-05-12 18:25:34 (INFO): Original -1.84447, Opt objective -0.97428\n",
      "2024-05-12 18:25:34 (INFO): Robust count 1 out of 1\n",
      "2024-05-12 18:25:34 (INFO): Certified accuracy (poisoning): 1.0\n"
     ]
    },
    {
     "data": {
      "text/plain": [
       "{'accuracy_test': 1.0,\n",
       " 'accuracy_test_all': 0.960493803024292,\n",
       " 'accuracy_trn': 1.0,\n",
       " 'accuracy_ub_test': 1.0,\n",
       " 'accuracy_lb_test': 1.0,\n",
       " 'accuracy_ub_trn': 1.0,\n",
       " 'accuracy_lb_trn': 1.0,\n",
       " 'accuracy_cert_evasion_trivial': 0.0,\n",
       " 'accuracy_cert_evasion_robust': 1.0,\n",
       " 'accuracy_cert_evasion_unrobust': 0.0,\n",
       " 'accuracy_cert_pois_robust': 1.0,\n",
       " 'accuracy_cert_pois_unrobust': 0,\n",
       " 'delta_absolute': 0.02,\n",
       " 'process_time': 8.662833294999928,\n",
       " 'y_true_cls': -1,\n",
       " 'y_pred_logit': -1.8444709252858402,\n",
       " 'y_worst_obj': -0.9742780922035239,\n",
       " 'y_worst_obj_bound': -0.03608328070267746,\n",
       " 'y_is_robust': True,\n",
       " 'y_opt_status': 15,\n",
       " 'idx_train': [1132, 1230, 665, 475, 352, 462, 253, 217, 1191, 85],\n",
       " 'idx_val': [347, 1071, 221, 182, 954, 497, 60, 857, 539, 1192],\n",
       " 'idx_labeled': [1132,\n",
       "  1230,\n",
       "  665,\n",
       "  475,\n",
       "  352,\n",
       "  462,\n",
       "  253,\n",
       "  217,\n",
       "  1191,\n",
       "  85,\n",
       "  347,\n",
       "  1071,\n",
       "  221,\n",
       "  182,\n",
       "  954,\n",
       "  497,\n",
       "  60,\n",
       "  857,\n",
       "  539,\n",
       "  1192],\n",
       " 'idx_test': [150],\n",
       " 'idx_adv': [252,\n",
       "  145,\n",
       "  563,\n",
       "  1058,\n",
       "  455,\n",
       "  2,\n",
       "  445,\n",
       "  564,\n",
       "  164,\n",
       "  546,\n",
       "  249,\n",
       "  1001,\n",
       "  1068,\n",
       "  881,\n",
       "  1173,\n",
       "  124,\n",
       "  70,\n",
       "  168,\n",
       "  1020,\n",
       "  1197,\n",
       "  1043,\n",
       "  1183,\n",
       "  264,\n",
       "  764,\n",
       "  664,\n",
       "  919,\n",
       "  924,\n",
       "  1025,\n",
       "  880,\n",
       "  214,\n",
       "  1127,\n",
       "  746,\n",
       "  1125,\n",
       "  496,\n",
       "  985,\n",
       "  68,\n",
       "  630,\n",
       "  488,\n",
       "  734,\n",
       "  1072,\n",
       "  536,\n",
       "  691,\n",
       "  24,\n",
       "  454,\n",
       "  1124,\n",
       "  981,\n",
       "  300,\n",
       "  989,\n",
       "  1091,\n",
       "  327],\n",
       " 'data_dim': 384,\n",
       " 'min_ypred': -1.8444709252858402,\n",
       " 'max_ypred': -1.8444709252858402,\n",
       " 'min_ylb': -2.4941950182254367,\n",
       " 'max_ylb': -2.4941950182254367,\n",
       " 'min_yub': -1.2302574153461663,\n",
       " 'max_yub': -1.2302574153461663,\n",
       " 'avg_ntklb': 2.648594652858364,\n",
       " 'min_ntklb': 0.9769523392919393,\n",
       " 'max_ntklb': 78.66505350237594,\n",
       " 'avg_ntkub': 2.7710587327594736,\n",
       " 'min_ntkub': 1.2452858596938774,\n",
       " 'max_ntkub': 81.91433036124256,\n",
       " 'min_ntklabeled': 1.3863054469904383,\n",
       " 'max_ntklabeled': 5.307533380329174,\n",
       " 'avg_ntkunlabeled': 4.105754452159901,\n",
       " 'min_ntkunlabeled': 3.358476977930181,\n",
       " 'max_ntkunlabeled': 5.643965089546876,\n",
       " 'cond': 529.8151482279006,\n",
       " 'cond_regularized': 42.14727515156064}"
      ]
     },
     "execution_count": 25,
     "metadata": {},
     "output_type": "execute_result"
    }
   ],
   "source": [
    "\n",
    "model_params = dict(\n",
    "    label = \"APPNP\",\n",
    "    model = \"APPNP\",\n",
    "    #model = \"GCN\",\n",
    "    normalization = \"sym_normalization\",\n",
    "    iteration=10,\n",
    "    alpha=0.2,\n",
    "    depth = 1,\n",
    "    #regularizer = 1e-8\n",
    "    pred_method = \"svm\",\n",
    "    activation = \"relu\"\n",
    ")\n",
    "\"\"\"\n",
    "model_params = dict(\n",
    "    label = \"GCN\",\n",
    "    model = \"GCN\",\n",
    "    normalization = \"row_normalization\",\n",
    "    depth = 1,\n",
    "    #regularizer = 1e-8\n",
    "    regularizer = 1,\n",
    "    pred_method = \"svm\",\n",
    "    activation = \"relu\"\n",
    ")\"\"\"\n",
    "#model_params[\"cache_size\"] = 10000\n",
    "data_params[\"dataset\"] = \"cora_ml_cont_binary\"\n",
    "data_params[\"specification\"][\"n_per_class\"] = 5\n",
    "other_params[\"device\"] = \"cpu\"\n",
    "other_params[\"debug\"] = False\n",
    "other_params[\"zero_tol\"] = 1e-6\n",
    "certificate_params[\"target_idx\"] = 1\n",
    "certificate_params[\"n_targets_per_class\"] = 5\n",
    "certificate_params[\"n_adversarial\"] = 50\n",
    "certificate_params[\"delta\"] = 0.02\n",
    "certificate_params[\"delta_absolute\"] = False\n",
    "certificate_params[\"method\"] = \"XXT\"\n",
    "certificate_params[\"perturbation_model\"] = \"linf\"\n",
    "certificate_params[\"attack_nodes\"] = \"test\"\n",
    "certificate_params[\"TimeLimit\"] = 360\n",
    "#certificate_params[\"MIPFocus\"] = 2\n",
    "#certificate_params[\"Cuts\"] = -1\n",
    "#certificate_params[\"Heuristics\"] = 0.05\n",
    "certificate_params[\"LogToConsole\"] = 1\n",
    "certificate_params[\"OutputFlag\"] = 1\n",
    "certificate_params[\"NumericFocus\"] = 0\n",
    "other_params[\"path_gurobi_license\"] = \"/ceph/ssd/staff/gosl/app/gurobi.lic\"\n",
    "verbosity_params[\"debug_lvl\"] = \"info\"\n",
    "model_params[\"regularizer\"] = 1\n",
    "model_params[\"solver\"] = \"qplayer\"\n",
    "model_params[\"alpha_tol\"] = 1e-4\n",
    "model_params[\"bias\"] = False\n",
    "data_params[\"learning_setting\"] = \"transductive\"\n",
    "run(data_params, model_params, certificate_params, verbosity_params, other_params, seed)"
   ]
  },
  {
   "cell_type": "code",
   "execution_count": null,
   "metadata": {},
   "outputs": [],
   "source": []
  }
 ],
 "metadata": {
  "kernelspec": {
   "display_name": "py311_ntk",
   "language": "python",
   "name": "python3"
  },
  "language_info": {
   "codemirror_mode": {
    "name": "ipython",
    "version": 3
   },
   "file_extension": ".py",
   "mimetype": "text/x-python",
   "name": "python",
   "nbconvert_exporter": "python",
   "pygments_lexer": "ipython3",
   "version": "3.11.5"
  }
 },
 "nbformat": 4,
 "nbformat_minor": 2
}
