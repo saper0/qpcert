{
 "cells": [
  {
   "cell_type": "code",
   "execution_count": 1,
   "metadata": {},
   "outputs": [],
   "source": [
    "%load_ext autoreload\n",
    "%autoreload 2"
   ]
  },
  {
   "cell_type": "code",
   "execution_count": 2,
   "metadata": {},
   "outputs": [],
   "source": [
    "import torch\n",
    "import numpy as np\n",
    "from exp_certify_binaryclass_onenode import run"
   ]
  },
  {
   "cell_type": "code",
   "execution_count": 3,
   "metadata": {},
   "outputs": [],
   "source": [
    "seed = 2\n",
    "\n",
    "data_params = dict(\n",
    "    dataset = \"us_county\",\n",
    "    learning_setting = \"transductive\", # or \"transdructive\"\n",
    "    specification = dict(\n",
    "        year = 2016,\n",
    "        n_per_class = 50,\n",
    "        fraction_test = 0.01,\n",
    "        data_dir = \"./data\",\n",
    "        make_undirected = True,\n",
    "        binary_attr = False,\n",
    "        balance_test = True,\n",
    "        seed = 2\n",
    "    )\n",
    ")\n",
    "\n",
    "model_params = dict(\n",
    "    label = \"GCN\",\n",
    "    model = \"GCN\",\n",
    "    normalization = \"row_normalization\",\n",
    "    depth = 1,\n",
    "    #regularizer = 1e-8\n",
    "    regularizer = 1,\n",
    "    pred_method = \"svm\",\n",
    "    activation = \"relu\"\n",
    ")\n",
    "\n",
    "certificate_params = dict(\n",
    "    n_adversarial = 1, # number adversarial nodes\n",
    "    perturbation_model = \"linf\",\n",
    "    delta = 0.01 # l0: local budget = delta * feature_dim\n",
    ")\n",
    "\n",
    "verbosity_params = dict(\n",
    "    debug_lvl = \"warning\"\n",
    ")  \n",
    "\n",
    "other_params = dict(\n",
    "    device = \"cpu\",\n",
    "    dtype = torch.float64,\n",
    "    allow_tf32 = False\n",
    ")"
   ]
  },
  {
   "cell_type": "code",
   "execution_count": 7,
   "metadata": {},
   "outputs": [
    {
     "name": "stderr",
     "output_type": "stream",
     "text": [
      "2024-05-11 23:10:22 (INFO): Starting experiment exp_certify_binaryclass_onenode with configuration:\n",
      "2024-05-11 23:10:22 (INFO): data_params: {'dataset': 'us_county', 'learning_setting': 'transductive', 'specification': {'year': 2016, 'n_per_class': 50, 'fraction_test': 0.01, 'data_dir': './data', 'make_undirected': True, 'binary_attr': False, 'balance_test': True, 'seed': 2}}\n",
      "2024-05-11 23:10:22 (INFO): model_params: {'label': 'GCN', 'model': 'GCN', 'normalization': 'row_normalization', 'depth': 1, 'regularizer': 0.1, 'pred_method': 'svm', 'activation': 'relu', 'solver': 'qplayer', 'alpha_tol': 0.0001, 'bias': False}\n",
      "2024-05-11 23:10:22 (INFO): certification_params: {'n_adversarial': 145, 'perturbation_model': 'linf', 'delta': 0.01, 'target_idx': 3, 'n_targets_per_class': 5, 'delta_absolute': False, 'method': 'XXT', 'attack_nodes': 'test', 'TimeLimit': 360, 'LogToConsole': 1, 'OutputFlag': 1, 'NumericFocus': 0}\n",
      "2024-05-11 23:10:22 (INFO): verbosity_params: {'debug_lvl': 'info'}\n",
      "2024-05-11 23:10:22 (INFO): other_params: {'device': 'cpu', 'dtype': torch.float64, 'allow_tf32': False, 'debug': False, 'zero_tol': 1e-06, 'path_gurobi_license': '/ceph/ssd/staff/gosl/app/gurobi.lic'}\n",
      "2024-05-11 23:10:22 (INFO): seed: 2\n",
      "2024-05-11 23:10:22 (INFO): number of samples\n",
      " - labeled: 100 \n",
      " - val: 100 \n",
      " - test: 311 \n",
      " - unlabeled: 2595\n",
      "2024-05-11 23:10:24 (INFO): Delta: 0.01\n"
     ]
    },
    {
     "name": "stdout",
     "output_type": "stream",
     "text": [
      "146 alphas found: ['0.1000', '0.1000', '-0.0000', '0.1000', '0.1000', '0.1000', '0.1000', '0.0000', '0.1000', '0.1000', '0.1000', '0.1000', '0.1000', '0.1000', '-0.0000', '-0.0000', '-0.0000', '0.1000', '0.1000', '0.1000', '0.1000', '-0.0000', '0.1000', '0.1000', '0.0000', '0.1000', '0.1000', '0.0000', '0.1000', '-0.0000', '-0.0000', '0.0000', '-0.0000', '0.1000', '0.1000', '0.1000', '0.1000', '0.1000', '0.0000', '-0.0000', '0.1000', '0.1000', '0.1000', '0.1000', '0.0791', '0.1000', '0.1000', '0.1000', '0.0523', '0.1000', '0.1000', '0.1000', '0.1000', '0.1000', '-0.0000', '0.1000', '0.1000', '0.1000', '0.0000', '0.1000', '0.1000', '0.1000', '0.1000', '0.1000', '0.1000', '0.1000', '0.1000', '0.0769', '0.0000', '0.1000', '-0.0000', '0.1000', '0.1000', '0.1000', '0.1000', '-0.0000', '0.1000', '-0.0000', '0.1000', '0.1000', '0.1000', '0.1000', '0.1000', '0.0000', '0.1000', '0.1000', '0.1000', '0.1000', '0.1000', '0.1000', '0.1000', '0.1000', '0.0821', '0.0777', '0.1000', '0.1000', '0.1000', '0.1000', '0.1000', '0.1000', '0.1000', '0.1000', '0.0000', '0.0000', '0.1000', '0.1000', '0.1000', '0.1000', '0.1000', '0.1000', '0.1000', '0.1000', '0.1000', '-0.0000', '0.1000', '-0.0000', '0.1000', '0.1000', '-0.0000', '-0.0000', '0.1000', '0.1000', '0.1000', '0.1000', '0.1000', '0.1000', '0.1000', '0.1000', '-0.0000', '0.0837', '-0.0000', '0.0348', '0.0173', '0.0000', '0.1000', '0.0000', '0.0000', '0.1000', '-0.0000', '0.1000', '-0.0000', '0.0699', '-0.0000', '0.1000', '-0.0000', '0.0177', '0.1000', '0.0882', '0.1000', '-0.0000', '0.1000', '-0.0000', '0.1000', '0.1000', '0.1000', '0.1000', '0.1000', '0.1000', '0.1000', '0.1000', '0.1000', '0.1000', '-0.0000', '-0.0000', '0.1000', '-0.0000', '0.1000', '0.1000', '0.0000', '0.1000', '0.0317', '0.1000', '0.1000', '0.1000', '-0.0000', '0.1000', '0.1000', '-0.0000', '0.1000', '0.1000', '0.0000', '0.1000', '0.1000', '0.0000', '0.1000', '0.0000', '-0.0000', '-0.0000', '0.0000', '-0.0000', '-0.0000', '0.1000', '-0.0000', '0.1000', '0.1000', '0.1000', '0.1000', '0.1000', '0.0000', '0.0913']\n"
     ]
    },
    {
     "name": "stderr",
     "output_type": "stream",
     "text": [
      "2024-05-11 23:10:29 (INFO): Test accuracy: 0.0\n",
      "2024-05-11 23:10:29 (INFO): Test accuracy ALL UNLABELED: 0.7642807960510254\n",
      "2024-05-11 23:10:29 (INFO): Train accuracy: 0.7799999713897705\n",
      "2024-05-11 23:10:29 (INFO): Accuracy_lb_test: 0.0\n",
      "2024-05-11 23:10:29 (INFO): Accuracy_ub_test: 0.0\n",
      "2024-05-11 23:10:29 (INFO): Accuracy_lb_trn: 0.800000011920929\n",
      "2024-05-11 23:10:29 (INFO): Accuracy_ub_trn: 0.7699999809265137\n",
      "2024-05-11 23:10:29 (INFO): Certified accuracy (evasion): 1.0\n",
      "2024-05-11 23:10:29 (INFO): Certified accuracy (evasion, trivial): 0.0\n",
      "2024-05-11 23:10:29 (INFO): Certified unrobustness (evasion): 0.0\n"
     ]
    },
    {
     "name": "stdout",
     "output_type": "stream",
     "text": [
      "Set parameter TimeLimit to value 360\n"
     ]
    },
    {
     "name": "stderr",
     "output_type": "stream",
     "text": [
      "2024-05-11 23:10:31 (INFO): Set parameter TimeLimit to value 360\n"
     ]
    },
    {
     "name": "stdout",
     "output_type": "stream",
     "text": [
      "Set parameter BestBdStop to value 1.0000000000010001e-04\n"
     ]
    },
    {
     "name": "stderr",
     "output_type": "stream",
     "text": [
      "2024-05-11 23:10:31 (INFO): Set parameter BestBdStop to value 1.0000000000010001e-04\n"
     ]
    },
    {
     "name": "stdout",
     "output_type": "stream",
     "text": [
      "Set parameter BestObjStop to value -0.0001\n"
     ]
    },
    {
     "name": "stderr",
     "output_type": "stream",
     "text": [
      "2024-05-11 23:10:31 (INFO): Set parameter BestObjStop to value -0.0001\n"
     ]
    },
    {
     "name": "stdout",
     "output_type": "stream",
     "text": [
      "Set parameter IntegralityFocus to value 1\n"
     ]
    },
    {
     "name": "stderr",
     "output_type": "stream",
     "text": [
      "2024-05-11 23:10:31 (INFO): Set parameter IntegralityFocus to value 1\n"
     ]
    },
    {
     "name": "stdout",
     "output_type": "stream",
     "text": [
      "Set parameter IntFeasTol to value 0.0001\n"
     ]
    },
    {
     "name": "stderr",
     "output_type": "stream",
     "text": [
      "2024-05-11 23:10:31 (INFO): Set parameter IntFeasTol to value 0.0001\n"
     ]
    },
    {
     "name": "stdout",
     "output_type": "stream",
     "text": [
      "Set parameter DualReductions to value 0\n"
     ]
    },
    {
     "name": "stderr",
     "output_type": "stream",
     "text": [
      "2024-05-11 23:10:31 (INFO): Set parameter DualReductions to value 0\n"
     ]
    },
    {
     "name": "stdout",
     "output_type": "stream",
     "text": [
      "Set parameter FeasibilityTol to value 0.0001\n"
     ]
    },
    {
     "name": "stderr",
     "output_type": "stream",
     "text": [
      "2024-05-11 23:10:31 (INFO): Set parameter FeasibilityTol to value 0.0001\n"
     ]
    },
    {
     "name": "stdout",
     "output_type": "stream",
     "text": [
      "Set parameter OptimalityTol to value 0.0001\n"
     ]
    },
    {
     "name": "stderr",
     "output_type": "stream",
     "text": [
      "2024-05-11 23:10:31 (INFO): Set parameter OptimalityTol to value 0.0001\n"
     ]
    },
    {
     "name": "stdout",
     "output_type": "stream",
     "text": [
      "Gurobi Optimizer version 11.0.1 build v11.0.1rc0 (linux64 - \"Ubuntu 22.04.4 LTS\")\n"
     ]
    },
    {
     "name": "stderr",
     "output_type": "stream",
     "text": [
      "2024-05-11 23:10:31 (INFO): Gurobi Optimizer version 11.0.1 build v11.0.1rc0 (linux64 - \"Ubuntu 22.04.4 LTS\")\n"
     ]
    },
    {
     "name": "stdout",
     "output_type": "stream",
     "text": [
      "\n"
     ]
    },
    {
     "name": "stderr",
     "output_type": "stream",
     "text": [
      "2024-05-11 23:10:31 (INFO): \n"
     ]
    },
    {
     "name": "stdout",
     "output_type": "stream",
     "text": [
      "CPU model: Intel(R) Xeon(R) CPU E5-2630 v4 @ 2.20GHz, instruction set [SSE2|AVX|AVX2]\n"
     ]
    },
    {
     "name": "stderr",
     "output_type": "stream",
     "text": [
      "2024-05-11 23:10:31 (INFO): CPU model: Intel(R) Xeon(R) CPU E5-2630 v4 @ 2.20GHz, instruction set [SSE2|AVX|AVX2]\n"
     ]
    },
    {
     "name": "stdout",
     "output_type": "stream",
     "text": [
      "Thread count: 20 physical cores, 20 logical processors, using up to 20 threads\n"
     ]
    },
    {
     "name": "stderr",
     "output_type": "stream",
     "text": [
      "2024-05-11 23:10:31 (INFO): Thread count: 20 physical cores, 20 logical processors, using up to 20 threads\n"
     ]
    },
    {
     "name": "stdout",
     "output_type": "stream",
     "text": [
      "\n"
     ]
    },
    {
     "name": "stderr",
     "output_type": "stream",
     "text": [
      "2024-05-11 23:10:31 (INFO): \n"
     ]
    },
    {
     "name": "stdout",
     "output_type": "stream",
     "text": [
      "Optimize a model with 81400 rows, 41200 columns and 202800 nonzeros\n"
     ]
    },
    {
     "name": "stderr",
     "output_type": "stream",
     "text": [
      "2024-05-11 23:10:31 (INFO): Optimize a model with 81400 rows, 41200 columns and 202800 nonzeros\n"
     ]
    },
    {
     "name": "stdout",
     "output_type": "stream",
     "text": [
      "Model fingerprint: 0x3df2407f\n"
     ]
    },
    {
     "name": "stderr",
     "output_type": "stream",
     "text": [
      "2024-05-11 23:10:31 (INFO): Model fingerprint: 0x3df2407f\n"
     ]
    },
    {
     "name": "stdout",
     "output_type": "stream",
     "text": [
      "Variable types: 40800 continuous, 400 integer (400 binary)\n"
     ]
    },
    {
     "name": "stderr",
     "output_type": "stream",
     "text": [
      "2024-05-11 23:10:31 (INFO): Variable types: 40800 continuous, 400 integer (400 binary)\n"
     ]
    },
    {
     "name": "stdout",
     "output_type": "stream",
     "text": [
      "Coefficient statistics:\n"
     ]
    },
    {
     "name": "stderr",
     "output_type": "stream",
     "text": [
      "2024-05-11 23:10:31 (INFO): Coefficient statistics:\n"
     ]
    },
    {
     "name": "stdout",
     "output_type": "stream",
     "text": [
      "  Matrix range     [1e-05, 7e+01]\n"
     ]
    },
    {
     "name": "stderr",
     "output_type": "stream",
     "text": [
      "2024-05-11 23:10:31 (INFO):   Matrix range     [1e-05, 7e+01]\n"
     ]
    },
    {
     "name": "stdout",
     "output_type": "stream",
     "text": [
      "  Objective range  [1e+00, 1e+00]\n"
     ]
    },
    {
     "name": "stderr",
     "output_type": "stream",
     "text": [
      "2024-05-11 23:10:31 (INFO):   Objective range  [1e+00, 1e+00]\n"
     ]
    },
    {
     "name": "stdout",
     "output_type": "stream",
     "text": [
      "  Bounds range     [1e-01, 1e+00]\n"
     ]
    },
    {
     "name": "stderr",
     "output_type": "stream",
     "text": [
      "2024-05-11 23:10:31 (INFO):   Bounds range     [1e-01, 1e+00]\n"
     ]
    },
    {
     "name": "stdout",
     "output_type": "stream",
     "text": [
      "  RHS range        [1e-01, 1e+00]\n"
     ]
    },
    {
     "name": "stderr",
     "output_type": "stream",
     "text": [
      "2024-05-11 23:10:31 (INFO):   RHS range        [1e-01, 1e+00]\n"
     ]
    },
    {
     "name": "stdout",
     "output_type": "stream",
     "text": [
      "\n"
     ]
    },
    {
     "name": "stderr",
     "output_type": "stream",
     "text": [
      "2024-05-11 23:10:31 (INFO): \n"
     ]
    },
    {
     "name": "stdout",
     "output_type": "stream",
     "text": [
      "Loaded user MIP start with objective 0.284814\n",
      "\n",
      "Loaded user MIP start with objective 0.284814\n"
     ]
    },
    {
     "name": "stderr",
     "output_type": "stream",
     "text": [
      "2024-05-11 23:10:31 (INFO): Loaded user MIP start with objective 0.284814\n"
     ]
    },
    {
     "name": "stdout",
     "output_type": "stream",
     "text": [
      "\n"
     ]
    },
    {
     "name": "stderr",
     "output_type": "stream",
     "text": [
      "2024-05-11 23:10:31 (INFO): \n"
     ]
    },
    {
     "name": "stdout",
     "output_type": "stream",
     "text": [
      "Presolve removed 344 rows and 144 columns\n"
     ]
    },
    {
     "name": "stderr",
     "output_type": "stream",
     "text": [
      "2024-05-11 23:10:31 (INFO): Presolve removed 344 rows and 144 columns\n"
     ]
    },
    {
     "name": "stdout",
     "output_type": "stream",
     "text": [
      "Presolve time: 0.47s\n"
     ]
    },
    {
     "name": "stderr",
     "output_type": "stream",
     "text": [
      "2024-05-11 23:10:31 (INFO): Presolve time: 0.47s\n"
     ]
    },
    {
     "name": "stdout",
     "output_type": "stream",
     "text": [
      "Presolved: 81056 rows, 41056 columns, 202112 nonzeros\n"
     ]
    },
    {
     "name": "stderr",
     "output_type": "stream",
     "text": [
      "2024-05-11 23:10:31 (INFO): Presolved: 81056 rows, 41056 columns, 202112 nonzeros\n"
     ]
    },
    {
     "name": "stdout",
     "output_type": "stream",
     "text": [
      "Variable types: 40656 continuous, 400 integer (400 binary)\n"
     ]
    },
    {
     "name": "stderr",
     "output_type": "stream",
     "text": [
      "2024-05-11 23:10:31 (INFO): Variable types: 40656 continuous, 400 integer (400 binary)\n"
     ]
    },
    {
     "name": "stdout",
     "output_type": "stream",
     "text": [
      "\n"
     ]
    },
    {
     "name": "stderr",
     "output_type": "stream",
     "text": [
      "2024-05-11 23:10:31 (INFO): \n"
     ]
    },
    {
     "name": "stdout",
     "output_type": "stream",
     "text": [
      "Deterministic concurrent LP optimizer: primal and dual simplex (primal and dual model)\n"
     ]
    },
    {
     "name": "stderr",
     "output_type": "stream",
     "text": [
      "2024-05-11 23:10:31 (INFO): Deterministic concurrent LP optimizer: primal and dual simplex (primal and dual model)\n"
     ]
    },
    {
     "name": "stdout",
     "output_type": "stream",
     "text": [
      "Showing primal log only...\n"
     ]
    },
    {
     "name": "stderr",
     "output_type": "stream",
     "text": [
      "2024-05-11 23:10:31 (INFO): Showing primal log only...\n"
     ]
    },
    {
     "name": "stdout",
     "output_type": "stream",
     "text": [
      "\n"
     ]
    },
    {
     "name": "stderr",
     "output_type": "stream",
     "text": [
      "2024-05-11 23:10:31 (INFO): \n"
     ]
    },
    {
     "name": "stdout",
     "output_type": "stream",
     "text": [
      "Root relaxation presolved: 81053 rows, 41056 columns, 202106 nonzeros\n"
     ]
    },
    {
     "name": "stderr",
     "output_type": "stream",
     "text": [
      "2024-05-11 23:10:32 (INFO): Root relaxation presolved: 81053 rows, 41056 columns, 202106 nonzeros\n"
     ]
    },
    {
     "name": "stdout",
     "output_type": "stream",
     "text": [
      "\n"
     ]
    },
    {
     "name": "stderr",
     "output_type": "stream",
     "text": [
      "2024-05-11 23:10:32 (INFO): \n"
     ]
    },
    {
     "name": "stdout",
     "output_type": "stream",
     "text": [
      "\n"
     ]
    },
    {
     "name": "stderr",
     "output_type": "stream",
     "text": [
      "2024-05-11 23:10:36 (INFO): \n"
     ]
    },
    {
     "name": "stdout",
     "output_type": "stream",
     "text": [
      "Root simplex log...\n"
     ]
    },
    {
     "name": "stderr",
     "output_type": "stream",
     "text": [
      "2024-05-11 23:10:36 (INFO): Root simplex log...\n"
     ]
    },
    {
     "name": "stdout",
     "output_type": "stream",
     "text": [
      "\n"
     ]
    },
    {
     "name": "stderr",
     "output_type": "stream",
     "text": [
      "2024-05-11 23:10:36 (INFO): \n"
     ]
    },
    {
     "name": "stdout",
     "output_type": "stream",
     "text": [
      "Iteration    Objective       Primal Inf.    Dual Inf.      Time\n"
     ]
    },
    {
     "name": "stderr",
     "output_type": "stream",
     "text": [
      "2024-05-11 23:10:36 (INFO): Iteration    Objective       Primal Inf.    Dual Inf.      Time\n"
     ]
    },
    {
     "name": "stdout",
     "output_type": "stream",
     "text": [
      "   31763   -2.5144821e+00   7.915474e+02   6.088723e+13      5s\n"
     ]
    },
    {
     "name": "stderr",
     "output_type": "stream",
     "text": [
      "2024-05-11 23:10:36 (INFO):    31763   -2.5144821e+00   7.915474e+02   6.088723e+13      5s\n"
     ]
    },
    {
     "name": "stdout",
     "output_type": "stream",
     "text": [
      "   38438   -4.2151205e+00   9.001631e+04   2.200061e+14     10s\n"
     ]
    },
    {
     "name": "stderr",
     "output_type": "stream",
     "text": [
      "2024-05-11 23:10:41 (INFO):    38438   -4.2151205e+00   9.001631e+04   2.200061e+14     10s\n"
     ]
    },
    {
     "name": "stdout",
     "output_type": "stream",
     "text": [
      "   44196    4.0107557e+00   1.393795e+05   2.082338e+14     15s\n"
     ]
    },
    {
     "name": "stderr",
     "output_type": "stream",
     "text": [
      "2024-05-11 23:10:46 (INFO):    44196    4.0107557e+00   1.393795e+05   2.082338e+14     15s\n"
     ]
    },
    {
     "name": "stdout",
     "output_type": "stream",
     "text": [
      "   51267   -2.8933287e+00   7.892573e+04   3.583104e+14     20s\n"
     ]
    },
    {
     "name": "stderr",
     "output_type": "stream",
     "text": [
      "2024-05-11 23:10:51 (INFO):    51267   -2.8933287e+00   7.892573e+04   3.583104e+14     20s\n"
     ]
    },
    {
     "name": "stdout",
     "output_type": "stream",
     "text": [
      "   58253   -4.9178098e+01   3.274994e+05   2.717507e+15     25s\n"
     ]
    },
    {
     "name": "stderr",
     "output_type": "stream",
     "text": [
      "2024-05-11 23:10:56 (INFO):    58253   -4.9178098e+01   3.274994e+05   2.717507e+15     25s\n"
     ]
    },
    {
     "name": "stdout",
     "output_type": "stream",
     "text": [
      "   75244   -1.3925659e+01   3.629051e+04   0.000000e+00     30s\n"
     ]
    },
    {
     "name": "stderr",
     "output_type": "stream",
     "text": [
      "2024-05-11 23:11:01 (INFO):    75244   -1.3925659e+01   3.629051e+04   0.000000e+00     30s\n"
     ]
    },
    {
     "name": "stdout",
     "output_type": "stream",
     "text": [
      "   85366   -7.4240121e+00   2.897365e+04   0.000000e+00     35s\n"
     ]
    },
    {
     "name": "stderr",
     "output_type": "stream",
     "text": [
      "2024-05-11 23:11:06 (INFO):    85366   -7.4240121e+00   2.897365e+04   0.000000e+00     35s\n"
     ]
    },
    {
     "name": "stdout",
     "output_type": "stream",
     "text": [
      "   91394   -5.2255600e+00   5.626476e+03   0.000000e+00     40s\n"
     ]
    },
    {
     "name": "stderr",
     "output_type": "stream",
     "text": [
      "2024-05-11 23:11:11 (INFO):    91394   -5.2255600e+00   5.626476e+03   0.000000e+00     40s\n"
     ]
    },
    {
     "name": "stdout",
     "output_type": "stream",
     "text": [
      "Concurrent spin time: 0.57s\n"
     ]
    },
    {
     "name": "stderr",
     "output_type": "stream",
     "text": [
      "2024-05-11 23:11:13 (INFO): Concurrent spin time: 0.57s\n"
     ]
    },
    {
     "name": "stdout",
     "output_type": "stream",
     "text": [
      "\n"
     ]
    },
    {
     "name": "stderr",
     "output_type": "stream",
     "text": [
      "2024-05-11 23:11:13 (INFO): \n"
     ]
    },
    {
     "name": "stdout",
     "output_type": "stream",
     "text": [
      "Solved with dual simplex\n"
     ]
    },
    {
     "name": "stderr",
     "output_type": "stream",
     "text": [
      "2024-05-11 23:11:13 (INFO): Solved with dual simplex\n"
     ]
    },
    {
     "name": "stdout",
     "output_type": "stream",
     "text": [
      "\n"
     ]
    },
    {
     "name": "stderr",
     "output_type": "stream",
     "text": [
      "2024-05-11 23:11:13 (INFO): \n"
     ]
    },
    {
     "name": "stdout",
     "output_type": "stream",
     "text": [
      "Root relaxation: objective -4.824076e+00, 61636 iterations, 41.34 seconds (50.78 work units)\n"
     ]
    },
    {
     "name": "stderr",
     "output_type": "stream",
     "text": [
      "2024-05-11 23:11:13 (INFO): Root relaxation: objective -4.824076e+00, 61636 iterations, 41.34 seconds (50.78 work units)\n"
     ]
    },
    {
     "name": "stdout",
     "output_type": "stream",
     "text": [
      "\n"
     ]
    },
    {
     "name": "stderr",
     "output_type": "stream",
     "text": [
      "2024-05-11 23:11:13 (INFO): \n"
     ]
    },
    {
     "name": "stdout",
     "output_type": "stream",
     "text": [
      "    Nodes    |    Current Node    |     Objective Bounds      |     Work\n"
     ]
    },
    {
     "name": "stderr",
     "output_type": "stream",
     "text": [
      "2024-05-11 23:11:13 (INFO):     Nodes    |    Current Node    |     Objective Bounds      |     Work\n"
     ]
    },
    {
     "name": "stdout",
     "output_type": "stream",
     "text": [
      " Expl Unexpl |  Obj  Depth IntInf | Incumbent    BestBd   Gap | It/Node Time\n"
     ]
    },
    {
     "name": "stderr",
     "output_type": "stream",
     "text": [
      "2024-05-11 23:11:13 (INFO):  Expl Unexpl |  Obj  Depth IntInf | Incumbent    BestBd   Gap | It/Node Time\n"
     ]
    },
    {
     "name": "stdout",
     "output_type": "stream",
     "text": [
      "\n"
     ]
    },
    {
     "name": "stderr",
     "output_type": "stream",
     "text": [
      "2024-05-11 23:11:13 (INFO): \n"
     ]
    },
    {
     "name": "stdout",
     "output_type": "stream",
     "text": [
      "     0     0   -4.82408    0  136    0.28481   -4.82408  1794%     -   42s\n"
     ]
    },
    {
     "name": "stderr",
     "output_type": "stream",
     "text": [
      "2024-05-11 23:11:13 (INFO):      0     0   -4.82408    0  136    0.28481   -4.82408  1794%     -   42s\n"
     ]
    },
    {
     "name": "stdout",
     "output_type": "stream",
     "text": [
      "     0     0   -4.73168    0  150    0.28481   -4.73168  1761%     -   69s\n"
     ]
    },
    {
     "name": "stderr",
     "output_type": "stream",
     "text": [
      "2024-05-11 23:11:40 (INFO):      0     0   -4.73168    0  150    0.28481   -4.73168  1761%     -   69s\n"
     ]
    },
    {
     "name": "stdout",
     "output_type": "stream",
     "text": [
      "     0     0   -4.66062    0  149    0.28481   -4.66062  1736%     -   73s\n"
     ]
    },
    {
     "name": "stderr",
     "output_type": "stream",
     "text": [
      "2024-05-11 23:11:44 (INFO):      0     0   -4.66062    0  149    0.28481   -4.66062  1736%     -   73s\n"
     ]
    },
    {
     "name": "stdout",
     "output_type": "stream",
     "text": [
      "     0     0   -4.66062    0  156    0.28481   -4.66062  1736%     -   78s\n"
     ]
    },
    {
     "name": "stderr",
     "output_type": "stream",
     "text": [
      "2024-05-11 23:11:49 (INFO):      0     0   -4.66062    0  156    0.28481   -4.66062  1736%     -   78s\n"
     ]
    },
    {
     "name": "stdout",
     "output_type": "stream",
     "text": [
      "     0     0   -4.66062    0  156    0.28481   -4.66062  1736%     -   82s\n"
     ]
    },
    {
     "name": "stderr",
     "output_type": "stream",
     "text": [
      "2024-05-11 23:11:53 (INFO):      0     0   -4.66062    0  156    0.28481   -4.66062  1736%     -   82s\n"
     ]
    },
    {
     "name": "stdout",
     "output_type": "stream",
     "text": [
      "     0     0   -4.66062    0  160    0.28481   -4.66062  1736%     -   93s\n"
     ]
    },
    {
     "name": "stderr",
     "output_type": "stream",
     "text": [
      "2024-05-11 23:12:04 (INFO):      0     0   -4.66062    0  160    0.28481   -4.66062  1736%     -   93s\n"
     ]
    },
    {
     "name": "stdout",
     "output_type": "stream",
     "text": [
      "     0     0   -4.65627    0  156    0.28481   -4.65627  1735%     -  102s\n"
     ]
    },
    {
     "name": "stderr",
     "output_type": "stream",
     "text": [
      "2024-05-11 23:12:13 (INFO):      0     0   -4.65627    0  156    0.28481   -4.65627  1735%     -  102s\n"
     ]
    },
    {
     "name": "stdout",
     "output_type": "stream",
     "text": [
      "     0     0   -4.65627    0  161    0.28481   -4.65627  1735%     -  112s\n"
     ]
    },
    {
     "name": "stderr",
     "output_type": "stream",
     "text": [
      "2024-05-11 23:12:23 (INFO):      0     0   -4.65627    0  161    0.28481   -4.65627  1735%     -  112s\n"
     ]
    },
    {
     "name": "stdout",
     "output_type": "stream",
     "text": [
      "     0     0   -4.65627    0  154    0.28481   -4.65627  1735%     -  116s\n"
     ]
    },
    {
     "name": "stderr",
     "output_type": "stream",
     "text": [
      "2024-05-11 23:12:27 (INFO):      0     0   -4.65627    0  154    0.28481   -4.65627  1735%     -  116s\n"
     ]
    },
    {
     "name": "stdout",
     "output_type": "stream",
     "text": [
      "     0     0   -4.65627    0  158    0.28481   -4.65627  1735%     -  119s\n"
     ]
    },
    {
     "name": "stderr",
     "output_type": "stream",
     "text": [
      "2024-05-11 23:12:30 (INFO):      0     0   -4.65627    0  158    0.28481   -4.65627  1735%     -  119s\n"
     ]
    },
    {
     "name": "stdout",
     "output_type": "stream",
     "text": [
      "     0     0   -4.65627    0  158    0.28481   -4.65627  1735%     -  135s\n"
     ]
    },
    {
     "name": "stderr",
     "output_type": "stream",
     "text": [
      "2024-05-11 23:12:46 (INFO):      0     0   -4.65627    0  158    0.28481   -4.65627  1735%     -  135s\n"
     ]
    },
    {
     "name": "stdout",
     "output_type": "stream",
     "text": [
      "     0     0   -4.65627    0  160    0.28481   -4.65627  1735%     -  137s\n"
     ]
    },
    {
     "name": "stderr",
     "output_type": "stream",
     "text": [
      "2024-05-11 23:12:48 (INFO):      0     0   -4.65627    0  160    0.28481   -4.65627  1735%     -  137s\n"
     ]
    },
    {
     "name": "stdout",
     "output_type": "stream",
     "text": [
      "     0     0   -4.65627    0  163    0.28481   -4.65627  1735%     -  141s\n"
     ]
    },
    {
     "name": "stderr",
     "output_type": "stream",
     "text": [
      "2024-05-11 23:12:52 (INFO):      0     0   -4.65627    0  163    0.28481   -4.65627  1735%     -  141s\n"
     ]
    },
    {
     "name": "stdout",
     "output_type": "stream",
     "text": [
      "     0     0   -4.65627    0  165    0.28481   -4.65627  1735%     -  143s\n"
     ]
    },
    {
     "name": "stderr",
     "output_type": "stream",
     "text": [
      "2024-05-11 23:12:54 (INFO):      0     0   -4.65627    0  165    0.28481   -4.65627  1735%     -  143s\n"
     ]
    },
    {
     "name": "stdout",
     "output_type": "stream",
     "text": [
      "     0     0   -4.65627    0  164    0.28481   -4.65627  1735%     -  146s\n"
     ]
    },
    {
     "name": "stderr",
     "output_type": "stream",
     "text": [
      "2024-05-11 23:12:57 (INFO):      0     0   -4.65627    0  164    0.28481   -4.65627  1735%     -  146s\n"
     ]
    },
    {
     "name": "stdout",
     "output_type": "stream",
     "text": [
      "     0     0   -4.65627    0  161    0.28481   -4.65627  1735%     -  149s\n"
     ]
    },
    {
     "name": "stderr",
     "output_type": "stream",
     "text": [
      "2024-05-11 23:13:00 (INFO):      0     0   -4.65627    0  161    0.28481   -4.65627  1735%     -  149s\n"
     ]
    },
    {
     "name": "stdout",
     "output_type": "stream",
     "text": [
      "     0     0   -4.65627    0  166    0.28481   -4.65627  1735%     -  151s\n"
     ]
    },
    {
     "name": "stderr",
     "output_type": "stream",
     "text": [
      "2024-05-11 23:13:02 (INFO):      0     0   -4.65627    0  166    0.28481   -4.65627  1735%     -  151s\n"
     ]
    },
    {
     "name": "stdout",
     "output_type": "stream",
     "text": [
      "     0     0   -4.65627    0  161    0.28481   -4.65627  1735%     -  153s\n"
     ]
    },
    {
     "name": "stderr",
     "output_type": "stream",
     "text": [
      "2024-05-11 23:13:05 (INFO):      0     0   -4.65627    0  161    0.28481   -4.65627  1735%     -  153s\n"
     ]
    },
    {
     "name": "stdout",
     "output_type": "stream",
     "text": [
      "     0     0   -4.65627    0  162    0.28481   -4.65627  1735%     -  155s\n"
     ]
    },
    {
     "name": "stderr",
     "output_type": "stream",
     "text": [
      "2024-05-11 23:13:06 (INFO):      0     0   -4.65627    0  162    0.28481   -4.65627  1735%     -  155s\n"
     ]
    },
    {
     "name": "stdout",
     "output_type": "stream",
     "text": [
      "     0     0   -4.65573    0  168    0.28481   -4.65573  1735%     -  158s\n"
     ]
    },
    {
     "name": "stderr",
     "output_type": "stream",
     "text": [
      "2024-05-11 23:13:09 (INFO):      0     0   -4.65573    0  168    0.28481   -4.65573  1735%     -  158s\n"
     ]
    },
    {
     "name": "stdout",
     "output_type": "stream",
     "text": [
      "     0     0   -4.65477    0  165    0.28481   -4.65477  1734%     -  160s\n"
     ]
    },
    {
     "name": "stderr",
     "output_type": "stream",
     "text": [
      "2024-05-11 23:13:11 (INFO):      0     0   -4.65477    0  165    0.28481   -4.65477  1734%     -  160s\n"
     ]
    },
    {
     "name": "stdout",
     "output_type": "stream",
     "text": [
      "     0     0   -4.65436    0  164    0.28481   -4.65436  1734%     -  162s\n"
     ]
    },
    {
     "name": "stderr",
     "output_type": "stream",
     "text": [
      "2024-05-11 23:13:13 (INFO):      0     0   -4.65436    0  164    0.28481   -4.65436  1734%     -  162s\n"
     ]
    },
    {
     "name": "stdout",
     "output_type": "stream",
     "text": [
      "     0     0   -4.65397    0  164    0.28481   -4.65397  1734%     -  164s\n"
     ]
    },
    {
     "name": "stderr",
     "output_type": "stream",
     "text": [
      "2024-05-11 23:13:15 (INFO):      0     0   -4.65397    0  164    0.28481   -4.65397  1734%     -  164s\n"
     ]
    },
    {
     "name": "stdout",
     "output_type": "stream",
     "text": [
      "     0     0   -4.65371    0  159    0.28481   -4.65371  1734%     -  167s\n"
     ]
    },
    {
     "name": "stderr",
     "output_type": "stream",
     "text": [
      "2024-05-11 23:13:18 (INFO):      0     0   -4.65371    0  159    0.28481   -4.65371  1734%     -  167s\n"
     ]
    },
    {
     "name": "stdout",
     "output_type": "stream",
     "text": [
      "     0     0   -4.65339    0  163    0.28481   -4.65339  1734%     -  170s\n"
     ]
    },
    {
     "name": "stderr",
     "output_type": "stream",
     "text": [
      "2024-05-11 23:13:21 (INFO):      0     0   -4.65339    0  163    0.28481   -4.65339  1734%     -  170s\n"
     ]
    },
    {
     "name": "stdout",
     "output_type": "stream",
     "text": [
      "     0     0   -4.65308    0  162    0.28481   -4.65308  1734%     -  172s\n"
     ]
    },
    {
     "name": "stderr",
     "output_type": "stream",
     "text": [
      "2024-05-11 23:13:23 (INFO):      0     0   -4.65308    0  162    0.28481   -4.65308  1734%     -  172s\n"
     ]
    },
    {
     "name": "stdout",
     "output_type": "stream",
     "text": [
      "     0     0   -4.65288    0  170    0.28481   -4.65288  1734%     -  174s\n"
     ]
    },
    {
     "name": "stderr",
     "output_type": "stream",
     "text": [
      "2024-05-11 23:13:25 (INFO):      0     0   -4.65288    0  170    0.28481   -4.65288  1734%     -  174s\n"
     ]
    },
    {
     "name": "stdout",
     "output_type": "stream",
     "text": [
      "     0     0   -4.65269    0  169    0.28481   -4.65269  1734%     -  176s\n"
     ]
    },
    {
     "name": "stderr",
     "output_type": "stream",
     "text": [
      "2024-05-11 23:13:27 (INFO):      0     0   -4.65269    0  169    0.28481   -4.65269  1734%     -  176s\n"
     ]
    },
    {
     "name": "stdout",
     "output_type": "stream",
     "text": [
      "     0     0   -4.64978    0  169    0.28481   -4.64978  1733%     -  178s\n"
     ]
    },
    {
     "name": "stderr",
     "output_type": "stream",
     "text": [
      "2024-05-11 23:13:29 (INFO):      0     0   -4.64978    0  169    0.28481   -4.64978  1733%     -  178s\n"
     ]
    },
    {
     "name": "stdout",
     "output_type": "stream",
     "text": [
      "     0     0   -4.64978    0  171    0.28481   -4.64978  1733%     -  181s\n"
     ]
    },
    {
     "name": "stderr",
     "output_type": "stream",
     "text": [
      "2024-05-11 23:13:32 (INFO):      0     0   -4.64978    0  171    0.28481   -4.64978  1733%     -  181s\n"
     ]
    },
    {
     "name": "stdout",
     "output_type": "stream",
     "text": [
      "\n",
      "Interrupt request received\n",
      "\n"
     ]
    },
    {
     "name": "stderr",
     "output_type": "stream",
     "text": [
      "2024-05-11 23:13:37 (INFO): \n"
     ]
    },
    {
     "name": "stdout",
     "output_type": "stream",
     "text": [
      "Cutting planes:\n"
     ]
    },
    {
     "name": "stderr",
     "output_type": "stream",
     "text": [
      "2024-05-11 23:13:37 (INFO): Cutting planes:\n"
     ]
    },
    {
     "name": "stdout",
     "output_type": "stream",
     "text": [
      "  Implied bound: 12\n"
     ]
    },
    {
     "name": "stderr",
     "output_type": "stream",
     "text": [
      "2024-05-11 23:13:37 (INFO):   Implied bound: 12\n"
     ]
    },
    {
     "name": "stdout",
     "output_type": "stream",
     "text": [
      "  MIR: 17\n"
     ]
    },
    {
     "name": "stderr",
     "output_type": "stream",
     "text": [
      "2024-05-11 23:13:37 (INFO):   MIR: 17\n"
     ]
    },
    {
     "name": "stdout",
     "output_type": "stream",
     "text": [
      "  Flow cover: 84\n"
     ]
    },
    {
     "name": "stderr",
     "output_type": "stream",
     "text": [
      "2024-05-11 23:13:37 (INFO):   Flow cover: 84\n"
     ]
    },
    {
     "name": "stdout",
     "output_type": "stream",
     "text": [
      "\n"
     ]
    },
    {
     "name": "stderr",
     "output_type": "stream",
     "text": [
      "2024-05-11 23:13:37 (INFO): \n"
     ]
    },
    {
     "name": "stdout",
     "output_type": "stream",
     "text": [
      "Explored 1 nodes (91859 simplex iterations) in 186.76 seconds (266.20 work units)\n"
     ]
    },
    {
     "name": "stderr",
     "output_type": "stream",
     "text": [
      "2024-05-11 23:13:37 (INFO): Explored 1 nodes (91859 simplex iterations) in 186.76 seconds (266.20 work units)\n"
     ]
    },
    {
     "name": "stdout",
     "output_type": "stream",
     "text": [
      "Thread count was 20 (of 20 available processors)\n"
     ]
    },
    {
     "name": "stderr",
     "output_type": "stream",
     "text": [
      "2024-05-11 23:13:37 (INFO): Thread count was 20 (of 20 available processors)\n"
     ]
    },
    {
     "name": "stdout",
     "output_type": "stream",
     "text": [
      "\n"
     ]
    },
    {
     "name": "stderr",
     "output_type": "stream",
     "text": [
      "2024-05-11 23:13:37 (INFO): \n"
     ]
    },
    {
     "name": "stdout",
     "output_type": "stream",
     "text": [
      "Solution count 1: 0.284814 \n"
     ]
    },
    {
     "name": "stderr",
     "output_type": "stream",
     "text": [
      "2024-05-11 23:13:37 (INFO): Solution count 1: 0.284814 \n"
     ]
    },
    {
     "name": "stdout",
     "output_type": "stream",
     "text": [
      "\n"
     ]
    },
    {
     "name": "stderr",
     "output_type": "stream",
     "text": [
      "2024-05-11 23:13:37 (INFO): \n"
     ]
    },
    {
     "name": "stdout",
     "output_type": "stream",
     "text": [
      "Solve interrupted\n"
     ]
    },
    {
     "name": "stderr",
     "output_type": "stream",
     "text": [
      "2024-05-11 23:13:37 (INFO): Solve interrupted\n"
     ]
    },
    {
     "name": "stdout",
     "output_type": "stream",
     "text": [
      "Best objective 2.848142189839e-01, best bound -4.645436225913e+00, gap 1731.0408%\n"
     ]
    },
    {
     "name": "stderr",
     "output_type": "stream",
     "text": [
      "2024-05-11 23:13:37 (INFO): Best objective 2.848142189839e-01, best bound -4.645436225913e+00, gap 1731.0408%\n"
     ]
    },
    {
     "name": "stdout",
     "output_type": "stream",
     "text": [
      "\n"
     ]
    },
    {
     "name": "stderr",
     "output_type": "stream",
     "text": [
      "2024-05-11 23:13:37 (INFO): \n"
     ]
    },
    {
     "name": "stdout",
     "output_type": "stream",
     "text": [
      "User-callback calls 55684, time in user-callback 0.21 sec\n"
     ]
    },
    {
     "name": "stderr",
     "output_type": "stream",
     "text": [
      "2024-05-11 23:13:37 (INFO): User-callback calls 55684, time in user-callback 0.21 sec\n",
      "2024-05-11 23:13:37 (INFO): Optimization status: 11\n",
      "2024-05-11 23:13:37 (INFO): Original 0.28481, Opt objective 0.28481\n",
      "2024-05-11 23:13:37 (INFO): Robust count 1 out of 1\n",
      "2024-05-11 23:13:37 (INFO): Certified accuracy (poisoning): 1.0\n"
     ]
    },
    {
     "data": {
      "text/plain": [
       "{'accuracy_test': 0.0,\n",
       " 'accuracy_test_all': 0.7642807960510254,\n",
       " 'accuracy_trn': 0.7799999713897705,\n",
       " 'accuracy_ub_test': 0.0,\n",
       " 'accuracy_lb_test': 0.0,\n",
       " 'accuracy_ub_trn': 0.7699999809265137,\n",
       " 'accuracy_lb_trn': 0.800000011920929,\n",
       " 'accuracy_cert_evasion_trivial': 0.0,\n",
       " 'accuracy_cert_evasion_robust': 1.0,\n",
       " 'accuracy_cert_evasion_unrobust': 0.0,\n",
       " 'accuracy_cert_pois_robust': 1.0,\n",
       " 'accuracy_cert_pois_unrobust': 0,\n",
       " 'delta_absolute': 0.01,\n",
       " 'process_time': 322.924570314,\n",
       " 'y_true_cls': -1,\n",
       " 'y_pred_logit': 0.2848142189839363,\n",
       " 'y_worst_obj': 0.2848142189839358,\n",
       " 'y_worst_obj_bound': -4.64543622591282,\n",
       " 'y_is_robust': True,\n",
       " 'y_opt_status': 11,\n",
       " 'idx_train': [104,\n",
       "  2219,\n",
       "  2874,\n",
       "  433,\n",
       "  1183,\n",
       "  125,\n",
       "  2502,\n",
       "  2433,\n",
       "  2962,\n",
       "  1574,\n",
       "  2196,\n",
       "  707,\n",
       "  1765,\n",
       "  1410,\n",
       "  1582,\n",
       "  2283,\n",
       "  702,\n",
       "  601,\n",
       "  1232,\n",
       "  445,\n",
       "  2949,\n",
       "  2897,\n",
       "  2129,\n",
       "  2662,\n",
       "  2882,\n",
       "  1250,\n",
       "  2505,\n",
       "  119,\n",
       "  996,\n",
       "  1001,\n",
       "  3075,\n",
       "  274,\n",
       "  185,\n",
       "  2187,\n",
       "  2675,\n",
       "  1918,\n",
       "  481,\n",
       "  316,\n",
       "  100,\n",
       "  2501,\n",
       "  1928,\n",
       "  1377,\n",
       "  803,\n",
       "  1500,\n",
       "  1517,\n",
       "  570,\n",
       "  3103,\n",
       "  1834,\n",
       "  2018,\n",
       "  761,\n",
       "  3024,\n",
       "  1924,\n",
       "  1498,\n",
       "  2919,\n",
       "  535,\n",
       "  2969,\n",
       "  2533,\n",
       "  3102,\n",
       "  1654,\n",
       "  777,\n",
       "  1251,\n",
       "  621,\n",
       "  2381,\n",
       "  924,\n",
       "  360,\n",
       "  2706,\n",
       "  1303,\n",
       "  3095,\n",
       "  2791,\n",
       "  1433,\n",
       "  975,\n",
       "  919,\n",
       "  3058,\n",
       "  3,\n",
       "  465,\n",
       "  198,\n",
       "  2299,\n",
       "  1150,\n",
       "  2313,\n",
       "  933,\n",
       "  2997,\n",
       "  1125,\n",
       "  201,\n",
       "  215,\n",
       "  2754,\n",
       "  1327,\n",
       "  1783,\n",
       "  436,\n",
       "  18,\n",
       "  167,\n",
       "  1634,\n",
       "  3037,\n",
       "  1550,\n",
       "  1633,\n",
       "  691,\n",
       "  2729,\n",
       "  3076,\n",
       "  1088,\n",
       "  432,\n",
       "  763],\n",
       " 'idx_val': [479,\n",
       "  796,\n",
       "  2886,\n",
       "  240,\n",
       "  2617,\n",
       "  1321,\n",
       "  836,\n",
       "  1265,\n",
       "  226,\n",
       "  73,\n",
       "  1694,\n",
       "  625,\n",
       "  53,\n",
       "  1838,\n",
       "  101,\n",
       "  2892,\n",
       "  823,\n",
       "  1091,\n",
       "  1594,\n",
       "  2855,\n",
       "  1336,\n",
       "  515,\n",
       "  1284,\n",
       "  2964,\n",
       "  1299,\n",
       "  1923,\n",
       "  894,\n",
       "  2224,\n",
       "  1149,\n",
       "  1851,\n",
       "  2461,\n",
       "  1059,\n",
       "  178,\n",
       "  599,\n",
       "  415,\n",
       "  1813,\n",
       "  113,\n",
       "  3074,\n",
       "  2386,\n",
       "  1123,\n",
       "  2842,\n",
       "  3009,\n",
       "  1808,\n",
       "  3043,\n",
       "  1857,\n",
       "  1157,\n",
       "  1119,\n",
       "  2773,\n",
       "  1678,\n",
       "  547,\n",
       "  116,\n",
       "  1310,\n",
       "  1258,\n",
       "  1341,\n",
       "  1571,\n",
       "  2961,\n",
       "  1934,\n",
       "  58,\n",
       "  2030,\n",
       "  718,\n",
       "  2021,\n",
       "  2984,\n",
       "  1972,\n",
       "  976,\n",
       "  121,\n",
       "  1755,\n",
       "  2080,\n",
       "  2702,\n",
       "  1524,\n",
       "  2053,\n",
       "  2760,\n",
       "  447,\n",
       "  1146,\n",
       "  1405,\n",
       "  2048,\n",
       "  2096,\n",
       "  2942,\n",
       "  717,\n",
       "  1373,\n",
       "  2704,\n",
       "  1844,\n",
       "  1554,\n",
       "  2303,\n",
       "  2786,\n",
       "  649,\n",
       "  37,\n",
       "  1644,\n",
       "  596,\n",
       "  2104,\n",
       "  2459,\n",
       "  517,\n",
       "  1255,\n",
       "  2368,\n",
       "  480,\n",
       "  2643,\n",
       "  455,\n",
       "  2047,\n",
       "  1426,\n",
       "  2883,\n",
       "  212],\n",
       " 'idx_labeled': [104,\n",
       "  2219,\n",
       "  2874,\n",
       "  433,\n",
       "  1183,\n",
       "  125,\n",
       "  2502,\n",
       "  2433,\n",
       "  2962,\n",
       "  1574,\n",
       "  2196,\n",
       "  707,\n",
       "  1765,\n",
       "  1410,\n",
       "  1582,\n",
       "  2283,\n",
       "  702,\n",
       "  601,\n",
       "  1232,\n",
       "  445,\n",
       "  2949,\n",
       "  2897,\n",
       "  2129,\n",
       "  2662,\n",
       "  2882,\n",
       "  1250,\n",
       "  2505,\n",
       "  119,\n",
       "  996,\n",
       "  1001,\n",
       "  3075,\n",
       "  274,\n",
       "  185,\n",
       "  2187,\n",
       "  2675,\n",
       "  1918,\n",
       "  481,\n",
       "  316,\n",
       "  100,\n",
       "  2501,\n",
       "  1928,\n",
       "  1377,\n",
       "  803,\n",
       "  1500,\n",
       "  1517,\n",
       "  570,\n",
       "  3103,\n",
       "  1834,\n",
       "  2018,\n",
       "  761,\n",
       "  3024,\n",
       "  1924,\n",
       "  1498,\n",
       "  2919,\n",
       "  535,\n",
       "  2969,\n",
       "  2533,\n",
       "  3102,\n",
       "  1654,\n",
       "  777,\n",
       "  1251,\n",
       "  621,\n",
       "  2381,\n",
       "  924,\n",
       "  360,\n",
       "  2706,\n",
       "  1303,\n",
       "  3095,\n",
       "  2791,\n",
       "  1433,\n",
       "  975,\n",
       "  919,\n",
       "  3058,\n",
       "  3,\n",
       "  465,\n",
       "  198,\n",
       "  2299,\n",
       "  1150,\n",
       "  2313,\n",
       "  933,\n",
       "  2997,\n",
       "  1125,\n",
       "  201,\n",
       "  215,\n",
       "  2754,\n",
       "  1327,\n",
       "  1783,\n",
       "  436,\n",
       "  18,\n",
       "  167,\n",
       "  1634,\n",
       "  3037,\n",
       "  1550,\n",
       "  1633,\n",
       "  691,\n",
       "  2729,\n",
       "  3076,\n",
       "  1088,\n",
       "  432,\n",
       "  763,\n",
       "  479,\n",
       "  796,\n",
       "  2886,\n",
       "  240,\n",
       "  2617,\n",
       "  1321,\n",
       "  836,\n",
       "  1265,\n",
       "  226,\n",
       "  73,\n",
       "  1694,\n",
       "  625,\n",
       "  53,\n",
       "  1838,\n",
       "  101,\n",
       "  2892,\n",
       "  823,\n",
       "  1091,\n",
       "  1594,\n",
       "  2855,\n",
       "  1336,\n",
       "  515,\n",
       "  1284,\n",
       "  2964,\n",
       "  1299,\n",
       "  1923,\n",
       "  894,\n",
       "  2224,\n",
       "  1149,\n",
       "  1851,\n",
       "  2461,\n",
       "  1059,\n",
       "  178,\n",
       "  599,\n",
       "  415,\n",
       "  1813,\n",
       "  113,\n",
       "  3074,\n",
       "  2386,\n",
       "  1123,\n",
       "  2842,\n",
       "  3009,\n",
       "  1808,\n",
       "  3043,\n",
       "  1857,\n",
       "  1157,\n",
       "  1119,\n",
       "  2773,\n",
       "  1678,\n",
       "  547,\n",
       "  116,\n",
       "  1310,\n",
       "  1258,\n",
       "  1341,\n",
       "  1571,\n",
       "  2961,\n",
       "  1934,\n",
       "  58,\n",
       "  2030,\n",
       "  718,\n",
       "  2021,\n",
       "  2984,\n",
       "  1972,\n",
       "  976,\n",
       "  121,\n",
       "  1755,\n",
       "  2080,\n",
       "  2702,\n",
       "  1524,\n",
       "  2053,\n",
       "  2760,\n",
       "  447,\n",
       "  1146,\n",
       "  1405,\n",
       "  2048,\n",
       "  2096,\n",
       "  2942,\n",
       "  717,\n",
       "  1373,\n",
       "  2704,\n",
       "  1844,\n",
       "  1554,\n",
       "  2303,\n",
       "  2786,\n",
       "  649,\n",
       "  37,\n",
       "  1644,\n",
       "  596,\n",
       "  2104,\n",
       "  2459,\n",
       "  517,\n",
       "  1255,\n",
       "  2368,\n",
       "  480,\n",
       "  2643,\n",
       "  455,\n",
       "  2047,\n",
       "  1426,\n",
       "  2883,\n",
       "  212],\n",
       " 'idx_test': [2499],\n",
       " 'idx_adv': [2835,\n",
       "  1916,\n",
       "  995,\n",
       "  2693,\n",
       "  1166,\n",
       "  2900,\n",
       "  2635,\n",
       "  740,\n",
       "  969,\n",
       "  2849,\n",
       "  1402,\n",
       "  2354,\n",
       "  430,\n",
       "  2844,\n",
       "  2146,\n",
       "  2329,\n",
       "  1339,\n",
       "  1708,\n",
       "  3093,\n",
       "  1802,\n",
       "  2681,\n",
       "  2480,\n",
       "  1947,\n",
       "  960,\n",
       "  2051,\n",
       "  1606,\n",
       "  737,\n",
       "  2960,\n",
       "  1352,\n",
       "  729,\n",
       "  744,\n",
       "  1618,\n",
       "  250,\n",
       "  1557,\n",
       "  632,\n",
       "  1343,\n",
       "  2553,\n",
       "  456,\n",
       "  569,\n",
       "  2343,\n",
       "  2921,\n",
       "  1976,\n",
       "  921,\n",
       "  603,\n",
       "  1304,\n",
       "  225,\n",
       "  1431,\n",
       "  297,\n",
       "  2943,\n",
       "  688,\n",
       "  1455,\n",
       "  173,\n",
       "  1482,\n",
       "  2713,\n",
       "  2560,\n",
       "  1969,\n",
       "  261,\n",
       "  2581,\n",
       "  2452,\n",
       "  1344,\n",
       "  305,\n",
       "  640,\n",
       "  2987,\n",
       "  516,\n",
       "  809,\n",
       "  1322,\n",
       "  1190,\n",
       "  3073,\n",
       "  2734,\n",
       "  1002,\n",
       "  938,\n",
       "  2931,\n",
       "  578,\n",
       "  2114,\n",
       "  994,\n",
       "  270,\n",
       "  1483,\n",
       "  1279,\n",
       "  2244,\n",
       "  1532,\n",
       "  1240,\n",
       "  981,\n",
       "  1296,\n",
       "  1645,\n",
       "  1908,\n",
       "  910,\n",
       "  579,\n",
       "  1948,\n",
       "  368,\n",
       "  3105,\n",
       "  3028,\n",
       "  1885,\n",
       "  426,\n",
       "  2003,\n",
       "  2890,\n",
       "  9,\n",
       "  1526,\n",
       "  738,\n",
       "  1380,\n",
       "  2351,\n",
       "  821,\n",
       "  2391,\n",
       "  1684,\n",
       "  1853,\n",
       "  1547,\n",
       "  1290,\n",
       "  1246,\n",
       "  50,\n",
       "  1068,\n",
       "  2549,\n",
       "  1192,\n",
       "  1212,\n",
       "  1222,\n",
       "  1896,\n",
       "  1538,\n",
       "  1836,\n",
       "  1991,\n",
       "  884,\n",
       "  1391,\n",
       "  1628,\n",
       "  2011,\n",
       "  526,\n",
       "  1593,\n",
       "  59,\n",
       "  3094,\n",
       "  1165,\n",
       "  1710,\n",
       "  615,\n",
       "  2906,\n",
       "  774,\n",
       "  2092,\n",
       "  2288,\n",
       "  2022,\n",
       "  3032,\n",
       "  2074,\n",
       "  1588,\n",
       "  2674,\n",
       "  2221,\n",
       "  138,\n",
       "  473,\n",
       "  790,\n",
       "  1572,\n",
       "  2989,\n",
       "  667,\n",
       "  654],\n",
       " 'data_dim': 9,\n",
       " 'min_ypred': 0.2848142189839363,\n",
       " 'max_ypred': 0.2848142189839363,\n",
       " 'min_ylb': 0.13345111512197683,\n",
       " 'max_ylb': 0.13345111512197683,\n",
       " 'min_yub': 0.43594728451084386,\n",
       " 'max_yub': 0.43594728451084386,\n",
       " 'avg_ntklb': 1.489835857073383,\n",
       " 'min_ntklb': -2.939951143115871,\n",
       " 'max_ntklb': 59.70632356414768,\n",
       " 'avg_ntkub': 1.5165684968529045,\n",
       " 'min_ntkub': -2.906043299866851,\n",
       " 'max_ntkub': 60.20730108080539,\n",
       " 'min_ntklabeled': -2.706640738403537,\n",
       " 'max_ntklabeled': 51.710148134153954,\n",
       " 'avg_ntkunlabeled': 1.3280823284836925,\n",
       " 'min_ntkunlabeled': -0.1143723644749669,\n",
       " 'max_ntkunlabeled': 4.683628291001289,\n",
       " 'cond': 871586.6850402348,\n",
       " 'cond_regularized': 1462795.4585154122}"
      ]
     },
     "execution_count": 7,
     "metadata": {},
     "output_type": "execute_result"
    }
   ],
   "source": [
    "#model_params[\"cache_size\"] = 10000\n",
    "data_params[\"specification\"][\"n_per_class\"] = 50\n",
    "other_params[\"device\"] = \"cpu\"\n",
    "other_params[\"debug\"] = False\n",
    "other_params[\"zero_tol\"] = 1e-6\n",
    "certificate_params[\"target_idx\"] = 3\n",
    "certificate_params[\"n_targets_per_class\"] = 5\n",
    "certificate_params[\"n_adversarial\"] = 145\n",
    "certificate_params[\"delta\"] = 0.01\n",
    "certificate_params[\"delta_absolute\"] = False\n",
    "certificate_params[\"method\"] = \"XXT\"\n",
    "certificate_params[\"perturbation_model\"] = \"linf\"\n",
    "certificate_params[\"attack_nodes\"] = \"test\"\n",
    "certificate_params[\"TimeLimit\"] = 360\n",
    "#certificate_params[\"MIPFocus\"] = 2\n",
    "#certificate_params[\"Cuts\"] = -1\n",
    "#certificate_params[\"Heuristics\"] = 0.05\n",
    "certificate_params[\"LogToConsole\"] = 1\n",
    "certificate_params[\"OutputFlag\"] = 1\n",
    "certificate_params[\"NumericFocus\"] = 0\n",
    "other_params[\"path_gurobi_license\"] = \"/ceph/ssd/staff/gosl/app/gurobi.lic\"\n",
    "verbosity_params[\"debug_lvl\"] = \"info\"\n",
    "model_params[\"regularizer\"] = 0.1\n",
    "model_params[\"solver\"] = \"qplayer\"\n",
    "model_params[\"alpha_tol\"] = 1e-4\n",
    "model_params[\"bias\"] = False\n",
    "data_params[\"learning_setting\"] = \"transductive\"\n",
    "run(data_params, model_params, certificate_params, verbosity_params, other_params, seed)"
   ]
  },
  {
   "cell_type": "code",
   "execution_count": null,
   "metadata": {},
   "outputs": [],
   "source": []
  }
 ],
 "metadata": {
  "kernelspec": {
   "display_name": "py311_ntk",
   "language": "python",
   "name": "python3"
  },
  "language_info": {
   "codemirror_mode": {
    "name": "ipython",
    "version": 3
   },
   "file_extension": ".py",
   "mimetype": "text/x-python",
   "name": "python",
   "nbconvert_exporter": "python",
   "pygments_lexer": "ipython3",
   "version": "3.11.5"
  }
 },
 "nbformat": 4,
 "nbformat_minor": 2
}
