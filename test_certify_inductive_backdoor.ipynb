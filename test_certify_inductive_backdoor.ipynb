{
 "cells": [
  {
   "cell_type": "code",
   "execution_count": 1,
   "metadata": {},
   "outputs": [],
   "source": [
    "%load_ext autoreload\n",
    "%autoreload 2"
   ]
  },
  {
   "cell_type": "code",
   "execution_count": 2,
   "metadata": {},
   "outputs": [],
   "source": [
    "import torch\n",
    "import numpy as np\n",
    "from exp_ntk_certify_inductive_backdoor import run"
   ]
  },
  {
   "cell_type": "code",
   "execution_count": 3,
   "metadata": {},
   "outputs": [],
   "source": [
    "seed = 4\n",
    "\n",
    "data_params = dict(\n",
    "    dataset = \"csbm\",\n",
    "    learning_setting = \"transductive\", # or \"transdructive\"\n",
    "    specification = dict(\n",
    "        classes = 2,\n",
    "        n_trn_labeled = 40, \n",
    "        n_trn_unlabeled = 0,\n",
    "        n_val = 40,\n",
    "        n_test = 120,\n",
    "        sigma = 1,\n",
    "        avg_within_class_degree = 1.58 * 2,\n",
    "        avg_between_class_degree = 0.37 * 2,\n",
    "        K = 1.5,\n",
    "        seed = 4 # used to generate the dataset & data split\n",
    "    )\n",
    ")\n",
    "\n",
    "model_params = dict(\n",
    "    label = \"GCN\",\n",
    "    model = \"GCN\",\n",
    "    normalization = \"row_normalization\",\n",
    "    depth = 1,\n",
    "    #regularizer = 1e-8\n",
    "    regularizer = 1,\n",
    "    pred_method = \"svm\",\n",
    "    activation = \"relu\",\n",
    "    solver = \"qplayer\",\n",
    "    alpha_tol = 1e-4,\n",
    "    bias = False,\n",
    ")\n",
    "\n",
    "certificate_params = dict(\n",
    "    n_adversarial = 10, # number adversarial nodes\n",
    "    perturbation_model = \"linf\",\n",
    "    attack_nodes = \"test_backdoor\",\n",
    "    delta = 0.01 # l0: local budget = delta * feature_dim\n",
    ")\n",
    "\n",
    "verbosity_params = dict(\n",
    "    debug_lvl = \"warning\"\n",
    ")  \n",
    "\n",
    "other_params = dict(\n",
    "    device = \"cpu\",\n",
    "    dtype = torch.float64,\n",
    "    allow_tf32 = False\n",
    ")"
   ]
  },
  {
   "cell_type": "code",
   "execution_count": 7,
   "metadata": {},
   "outputs": [
    {
     "name": "stderr",
     "output_type": "stream",
     "text": [
      "2024-05-16 22:50:09 (INFO): Starting experiment exp_ntk_certify_inductive_backdoor with configuration:\n",
      "2024-05-16 22:50:09 (INFO): data_params: {'dataset': 'csbm', 'learning_setting': 'transductive', 'specification': {'classes': 2, 'n_trn_labeled': 40, 'n_trn_unlabeled': 0, 'n_val': 40, 'n_test': 120, 'sigma': 1, 'avg_within_class_degree': 3.16, 'avg_between_class_degree': 0.74, 'K': 1.5, 'seed': 4}}\n",
      "2024-05-16 22:50:09 (INFO): model_params: {'label': 'GCN', 'model': 'GCN', 'normalization': 'row_normalization', 'depth': 1, 'regularizer': 0.05, 'pred_method': 'svm', 'activation': 'relu', 'solver': 'qplayer', 'alpha_tol': 0.0001, 'bias': False, 'cache_size': 10000}\n",
      "2024-05-16 22:50:09 (INFO): certification_params: {'n_adversarial': 24, 'perturbation_model': 'l2', 'attack_nodes': 'test_backdoor', 'delta': 0.05, 'delta_absolute': True, 'method': 'XXT', 'cert_method': 'bilevel_svm', 'MIPFocus': 0, 'LogToConsole': 0, 'OutputFlag': 0}\n",
      "2024-05-16 22:50:09 (INFO): verbosity_params: {'debug_lvl': 'info'}\n",
      "2024-05-16 22:50:09 (INFO): other_params: {'device': 'cpu', 'dtype': torch.float64, 'allow_tf32': False, 'debug': False, 'path_gurobi_license': '/ceph/ssd/staff/gosl/app/gurobi.lic'}\n",
      "2024-05-16 22:50:09 (INFO): seed: 4\n",
      "2024-05-16 22:50:09 (INFO): CSBM(p=0.03176, q=0.00744)\n",
      "2024-05-16 22:50:09 (INFO): Delta: 0.05\n",
      "2024-05-16 22:50:09 (INFO): Train accuracy: 0.8999999761581421\n",
      "2024-05-16 22:50:09 (INFO): Accuracy_lb_trn: 0.9125000238418579\n",
      "2024-05-16 22:50:09 (INFO): Accuracy_ub_trn: 0.887499988079071\n",
      "2024-05-16 22:50:09 (INFO): Certified accuracy (evasion, trivial): 0.16666666666666666\n"
     ]
    },
    {
     "name": "stdout",
     "output_type": "stream",
     "text": [
      "CSBM mu:\n",
      "[0.28347334 0.28347334 0.28347334 0.28347334 0.28347334 0.28347334\n",
      " 0.28347334]\n",
      "63 alphas found: ['0.0375', '0.0500', '0.0500', '0.0500', '0.0500', '0.0500', '0.0000', '0.0369', '0.0500', '0.0500', '-0.0000', '0.0500', '0.0500', '0.0008', '0.0500', '0.0500', '-0.0000', '0.0500', '0.0500', '0.0500', '0.0500', '0.0500', '0.0500', '0.0500', '0.0500', '0.0500', '-0.0000', '0.0500', '0.0500', '0.0500', '0.0500', '0.0500', '0.0500', '0.0500', '-0.0000', '0.0500', '0.0500', '0.0500', '0.0500', '-0.0000', '0.0500', '0.0500', '0.0000', '0.0500', '0.0500', '0.0500', '0.0500', '-0.0000', '0.0500', '0.0500', '0.0500', '0.0500', '0.0500', '0.0500', '0.0500', '0.0500', '0.0500', '0.0000', '0.0500', '0.0500', '0.0500', '-0.0000', '0.0500', '-0.0000', '-0.0000', '0.0500', '0.0500', '0.0500', '-0.0000', '-0.0000', '0.0500', '-0.0000', '0.0500', '0.0500', '-0.0000', '0.0384', '0.0500', '0.0500', '-0.0000', '0.0500']\n",
      "63 alphas found: ['0.0308', '0.0500', '0.0500', '0.0500', '0.0500', '0.0500', '0.0000', '0.0366', '0.0500', '0.0500', '-0.0000', '0.0500', '0.0500', '0.0001', '0.0500', '0.0500', '-0.0000', '0.0500', '0.0500', '0.0500', '0.0500', '0.0500', '0.0500', '0.0500', '0.0500', '0.0500', '-0.0000', '0.0500', '0.0500', '0.0500', '0.0500', '0.0500', '0.0500', '0.0500', '-0.0000', '0.0500', '0.0500', '0.0500', '0.0500', '-0.0000', '0.0500', '0.0500', '0.0000', '0.0500', '0.0500', '0.0500', '0.0500', '-0.0000', '0.0500', '0.0500', '0.0500', '0.0500', '0.0500', '0.0500', '0.0500', '0.0500', '0.0500', '0.0000', '0.0500', '0.0500', '0.0500', '-0.0000', '0.0500', '-0.0000', '-0.0000', '0.0500', '0.0500', '0.0500', '-0.0000', '-0.0000', '0.0500', '-0.0000', '0.0500', '0.0500', '-0.0000', '0.0367', '0.0500', '0.0500', '-0.0000', '0.0500']\n",
      "Set parameter Username\n"
     ]
    },
    {
     "name": "stderr",
     "output_type": "stream",
     "text": [
      "2024-05-16 22:50:09 (INFO): Set parameter Username\n"
     ]
    },
    {
     "name": "stdout",
     "output_type": "stream",
     "text": [
      "Academic license - for non-commercial use only - expires 2025-03-26\n"
     ]
    },
    {
     "name": "stderr",
     "output_type": "stream",
     "text": [
      "2024-05-16 22:50:09 (INFO): Academic license - for non-commercial use only - expires 2025-03-26\n"
     ]
    },
    {
     "name": "stdout",
     "output_type": "stream",
     "text": [
      "Warning for adding constraints: zero or small (< 1e-13) coefficients, ignored\n"
     ]
    },
    {
     "name": "stderr",
     "output_type": "stream",
     "text": [
      "2024-05-16 22:50:10 (INFO): Warning for adding constraints: zero or small (< 1e-13) coefficients, ignored\n"
     ]
    },
    {
     "name": "stdout",
     "output_type": "stream",
     "text": [
      "Set parameter BestBdStop to value -1.0000000000010001e-04\n"
     ]
    },
    {
     "name": "stderr",
     "output_type": "stream",
     "text": [
      "2024-05-16 22:50:10 (INFO): Set parameter BestBdStop to value -1.0000000000010001e-04\n"
     ]
    },
    {
     "name": "stdout",
     "output_type": "stream",
     "text": [
      "Set parameter BestObjStop to value 0.0001\n"
     ]
    },
    {
     "name": "stderr",
     "output_type": "stream",
     "text": [
      "2024-05-16 22:50:10 (INFO): Set parameter BestObjStop to value 0.0001\n"
     ]
    },
    {
     "name": "stdout",
     "output_type": "stream",
     "text": [
      "Set parameter IntegralityFocus to value 1\n"
     ]
    },
    {
     "name": "stderr",
     "output_type": "stream",
     "text": [
      "2024-05-16 22:50:10 (INFO): Set parameter IntegralityFocus to value 1\n"
     ]
    },
    {
     "name": "stdout",
     "output_type": "stream",
     "text": [
      "Set parameter IntFeasTol to value 0.0001\n"
     ]
    },
    {
     "name": "stderr",
     "output_type": "stream",
     "text": [
      "2024-05-16 22:50:10 (INFO): Set parameter IntFeasTol to value 0.0001\n"
     ]
    },
    {
     "name": "stdout",
     "output_type": "stream",
     "text": [
      "Loaded user MIP start with objective -1.00417\n",
      "\n"
     ]
    },
    {
     "name": "stderr",
     "output_type": "stream",
     "text": [
      "2024-05-16 22:50:11 (INFO): Optimization status: 15\n",
      "2024-05-16 22:50:11 (INFO): Original -1.00417, Opt objective -1.00417\n",
      "2024-05-16 22:50:11 (INFO): Robust count 1 out of 1\n"
     ]
    },
    {
     "name": "stdout",
     "output_type": "stream",
     "text": [
      "63 alphas found: ['0.0350', '0.0500', '0.0500', '0.0500', '0.0500', '0.0500', '-0.0000', '0.0500', '0.0500', '0.0500', '0.0047', '0.0500', '0.0500', '-0.0000', '0.0500', '0.0500', '0.0000', '0.0500', '0.0500', '0.0500', '0.0500', '0.0500', '0.0500', '0.0500', '0.0500', '0.0500', '0.0000', '0.0500', '0.0500', '0.0500', '0.0500', '0.0500', '0.0500', '0.0500', '0.0000', '0.0500', '0.0500', '0.0500', '0.0500', '0.0000', '0.0500', '0.0500', '-0.0000', '0.0500', '0.0500', '0.0500', '0.0500', '0.0000', '0.0500', '0.0500', '0.0500', '0.0500', '0.0500', '0.0500', '0.0500', '0.0500', '0.0500', '-0.0000', '0.0500', '0.0500', '0.0500', '0.0000', '0.0500', '0.0000', '0.0000', '0.0500', '0.0500', '0.0500', '0.0000', '0.0000', '0.0500', '0.0000', '0.0500', '0.0500', '0.0000', '0.0434', '0.0500', '0.0500', '0.0000', '0.0500']\n",
      "Warning for adding constraints: zero or small (< 1e-13) coefficients, ignored\n"
     ]
    },
    {
     "name": "stderr",
     "output_type": "stream",
     "text": [
      "2024-05-16 22:50:11 (INFO): Warning for adding constraints: zero or small (< 1e-13) coefficients, ignored\n"
     ]
    },
    {
     "name": "stdout",
     "output_type": "stream",
     "text": [
      "Set parameter BestBdStop to value -1.0000000000010001e-04\n"
     ]
    },
    {
     "name": "stderr",
     "output_type": "stream",
     "text": [
      "2024-05-16 22:50:11 (INFO): Set parameter BestBdStop to value -1.0000000000010001e-04\n"
     ]
    },
    {
     "name": "stdout",
     "output_type": "stream",
     "text": [
      "Set parameter BestObjStop to value 0.0001\n"
     ]
    },
    {
     "name": "stderr",
     "output_type": "stream",
     "text": [
      "2024-05-16 22:50:11 (INFO): Set parameter BestObjStop to value 0.0001\n"
     ]
    },
    {
     "name": "stdout",
     "output_type": "stream",
     "text": [
      "Set parameter IntegralityFocus to value 1\n"
     ]
    },
    {
     "name": "stderr",
     "output_type": "stream",
     "text": [
      "2024-05-16 22:50:11 (INFO): Set parameter IntegralityFocus to value 1\n"
     ]
    },
    {
     "name": "stdout",
     "output_type": "stream",
     "text": [
      "Set parameter IntFeasTol to value 0.0001\n"
     ]
    },
    {
     "name": "stderr",
     "output_type": "stream",
     "text": [
      "2024-05-16 22:50:11 (INFO): Set parameter IntFeasTol to value 0.0001\n"
     ]
    },
    {
     "name": "stdout",
     "output_type": "stream",
     "text": [
      "Loaded user MIP start with objective -0.350643\n",
      "\n"
     ]
    },
    {
     "name": "stderr",
     "output_type": "stream",
     "text": [
      "2024-05-16 22:50:18 (INFO): Optimization status: 11\n",
      "2024-05-16 22:50:18 (INFO): Original -0.35064, Opt objective -0.35064\n",
      "2024-05-16 22:50:18 (INFO): Robust count 1 out of 1\n"
     ]
    },
    {
     "name": "stdout",
     "output_type": "stream",
     "text": [
      "\n",
      "Interrupt request received\n",
      "63 alphas found: ['0.0370', '0.0500', '0.0500', '0.0500', '0.0500', '0.0500', '-0.0000', '0.0306', '0.0500', '0.0500', '0.0000', '0.0500', '0.0500', '0.0500', '0.0500', '0.0500', '0.0000', '0.0500', '0.0500', '0.0500', '0.0500', '0.0500', '0.0500', '0.0500', '0.0500', '0.0500', '0.0000', '0.0500', '0.0500', '0.0500', '0.0500', '0.0500', '0.0500', '0.0500', '0.0000', '0.0500', '0.0500', '0.0500', '0.0500', '0.0000', '0.0500', '0.0500', '-0.0000', '0.0500', '0.0500', '0.0500', '0.0500', '0.0000', '0.0500', '0.0500', '0.0500', '0.0500', '0.0500', '0.0500', '0.0500', '0.0500', '0.0500', '-0.0000', '0.0500', '0.0500', '0.0500', '0.0000', '0.0500', '0.0000', '0.0000', '0.0500', '0.0500', '0.0500', '0.0000', '0.0000', '0.0500', '0.0000', '0.0500', '0.0500', '0.0000', '0.0394', '0.0500', '0.0500', '0.0000', '0.0500']\n",
      "Warning for adding constraints: zero or small (< 1e-13) coefficients, ignored\n"
     ]
    },
    {
     "name": "stderr",
     "output_type": "stream",
     "text": [
      "2024-05-16 22:50:19 (INFO): Warning for adding constraints: zero or small (< 1e-13) coefficients, ignored\n"
     ]
    },
    {
     "name": "stdout",
     "output_type": "stream",
     "text": [
      "Set parameter BestBdStop to value -1.0000000000010001e-04\n"
     ]
    },
    {
     "name": "stderr",
     "output_type": "stream",
     "text": [
      "2024-05-16 22:50:19 (INFO): Set parameter BestBdStop to value -1.0000000000010001e-04\n"
     ]
    },
    {
     "name": "stdout",
     "output_type": "stream",
     "text": [
      "Set parameter BestObjStop to value 0.0001\n"
     ]
    },
    {
     "name": "stderr",
     "output_type": "stream",
     "text": [
      "2024-05-16 22:50:19 (INFO): Set parameter BestObjStop to value 0.0001\n"
     ]
    },
    {
     "name": "stdout",
     "output_type": "stream",
     "text": [
      "Set parameter IntegralityFocus to value 1\n"
     ]
    },
    {
     "name": "stderr",
     "output_type": "stream",
     "text": [
      "2024-05-16 22:50:19 (INFO): Set parameter IntegralityFocus to value 1\n"
     ]
    },
    {
     "name": "stdout",
     "output_type": "stream",
     "text": [
      "Set parameter IntFeasTol to value 0.0001\n"
     ]
    },
    {
     "name": "stderr",
     "output_type": "stream",
     "text": [
      "2024-05-16 22:50:19 (INFO): Set parameter IntFeasTol to value 0.0001\n"
     ]
    },
    {
     "name": "stdout",
     "output_type": "stream",
     "text": [
      "Loaded user MIP start with objective -0.302976\n",
      "\n"
     ]
    }
   ],
   "source": [
    "model_params[\"cache_size\"] = 10000\n",
    "other_params[\"device\"] = \"cpu\"\n",
    "other_params[\"debug\"] = False\n",
    "certificate_params[\"n_adversarial\"] = 24\n",
    "certificate_params[\"delta\"] = 0.05\n",
    "certificate_params[\"delta_absolute\"] = True\n",
    "certificate_params[\"method\"] = \"XXT\"\n",
    "certificate_params[\"perturbation_model\"] = \"l2\"\n",
    "certificate_params[\"cert_method\"] = \"bilevel_svm\"\n",
    "certificate_params[\"attack_nodes\"] = \"test_backdoor\"\n",
    "certificate_params[\"MIPFocus\"] = 0\n",
    "certificate_params[\"LogToConsole\"] = 0\n",
    "certificate_params[\"OutputFlag\"] = 0\n",
    "other_params[\"path_gurobi_license\"] = \"/ceph/ssd/staff/gosl/app/gurobi.lic\"\n",
    "verbosity_params[\"debug_lvl\"] = \"info\"\n",
    "model_params[\"regularizer\"] = 0.05\n",
    "model_params[\"solver\"] = \"qplayer\"\n",
    "model_params[\"alpha_tol\"] = 1e-4\n",
    "model_params[\"bias\"] = False\n",
    "data_params[\"learning_setting\"] = \"transductive\"\n",
    "run(data_params, model_params, certificate_params, verbosity_params, other_params, seed)"
   ]
  },
  {
   "cell_type": "code",
   "execution_count": null,
   "metadata": {},
   "outputs": [],
   "source": []
  }
 ],
 "metadata": {
  "kernelspec": {
   "display_name": "py311_ntk",
   "language": "python",
   "name": "python3"
  },
  "language_info": {
   "codemirror_mode": {
    "name": "ipython",
    "version": 3
   },
   "file_extension": ".py",
   "mimetype": "text/x-python",
   "name": "python",
   "nbconvert_exporter": "python",
   "pygments_lexer": "ipython3",
   "version": "3.11.5"
  }
 },
 "nbformat": 4,
 "nbformat_minor": 2
}
