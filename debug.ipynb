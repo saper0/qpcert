{
 "cells": [
  {
   "cell_type": "code",
   "execution_count": 1,
   "metadata": {},
   "outputs": [],
   "source": [
    "%load_ext autoreload\n",
    "%autoreload 2"
   ]
  },
  {
   "cell_type": "code",
   "execution_count": 2,
   "metadata": {},
   "outputs": [],
   "source": [
    "import numpy as np\n",
    "import torch\n",
    "\n",
    "from src.attacks import create_attack\n",
    "from src.graph_models.csbm import CSBM\n",
    "from src.models.common import get_diffusion\n",
    "from src.models.ntk import NTK\n",
    "from common import get_graph\n",
    "from src import utils"
   ]
  },
  {
   "cell_type": "code",
   "execution_count": 3,
   "metadata": {},
   "outputs": [],
   "source": [
    "# Data\n",
    "data_dict = dict(\n",
    "    classes = 2,\n",
    "    n = 1000,\n",
    "    n_per_class_trn = 300,\n",
    "    n_per_class_labeled = 300,\n",
    "    sigma = 1,\n",
    "    avg_within_class_degree = 1.58 * 2,\n",
    "    avg_between_class_degree = 0.37 * 2,\n",
    ")\n",
    "K = 1\n",
    "seed = 0\n",
    "# Model\n",
    "model_dict = {\n",
    "    \"label\": \"GCN\",\n",
    "    \"model\": \"GCN\",\n",
    "    \"normalization\": \"row_normalization\",\n",
    "    \"depth\": 1,\n",
    "}\n",
    "attack_params = {\n",
    "    \"attack\": \"random\"\n",
    "}\n",
    "# Attack\n",
    "eps_l = [0, 0.01, 0.025, 0.05, 0.10, 0.25, 0.50, 1, 2.5, 5, 10]\n",
    "# other\n",
    "device = \"0\"\n",
    "dtype = torch.float64"
   ]
  },
  {
   "cell_type": "code",
   "execution_count": 5,
   "metadata": {},
   "outputs": [],
   "source": [
    "data_dict[\"K\"] = K\n",
    "X, A, y = get_graph(data_dict, seed=seed, sort=True)"
   ]
  },
  {
   "cell_type": "code",
   "execution_count": 8,
   "metadata": {},
   "outputs": [
    {
     "data": {
      "text/plain": [
       "array([[ 0.99598831, -1.15782773,  0.19027323, ...,  0.45553085,\n",
       "        -0.56686521, -0.88342708],\n",
       "       [ 0.06456569, -1.27180827,  1.43475187, ..., -0.08360106,\n",
       "         0.94913799, -0.82104301],\n",
       "       [-0.39911875,  1.15486872,  0.79823089, ..., -1.34563637,\n",
       "         1.40735793, -0.15816568],\n",
       "       ...,\n",
       "       [ 0.20783108,  0.69879353,  0.74385655, ...,  1.3015219 ,\n",
       "         1.33653069, -1.98341584],\n",
       "       [-3.17073846,  0.66761136, -1.53758502, ...,  0.9402824 ,\n",
       "         0.3452377 ,  2.63514113],\n",
       "       [ 0.86973256, -0.13959238, -1.02761626, ..., -0.42092168,\n",
       "         1.89871967,  2.08923745]])"
      ]
     },
     "execution_count": 8,
     "metadata": {},
     "output_type": "execute_result"
    }
   ],
   "source": [
    "X"
   ]
  },
  {
   "cell_type": "code",
   "execution_count": 5,
   "metadata": {},
   "outputs": [],
   "source": [
    "rng = np.random.Generator(np.random.PCG64(seed))\n",
    "ntk_dict = dict()\n",
    "device_ = configure_hardware(device, seed)\n",
    "data_dict[\"K\"] = K\n",
    "# Sample\n",
    "X, A, y = get_graph(data_dict, seed=seed, sort=True)\n",
    "X = torch.tensor(X, dtype=dtype, device=device_)\n",
    "A = torch.tensor(A, dtype=dtype, device=device_)\n",
    "y = torch.tensor(y, device=device_)\n",
    "# Trn / Test Split\n",
    "n_cls0 = sum(y == 0).cpu().item()\n",
    "n = len(y)\n",
    "idx_cls0 = rng.permutation(np.arange(n_cls0))\n",
    "idx_cls1 = rng.permutation(np.arange(n_cls0, n))\n",
    "n_trn = data_dict[\"n_per_class_trn\"]\n",
    "n_labeled = data_dict[\"n_per_class_labeled\"]\n",
    "idx_labeled = np.concatenate((idx_cls0[:n_labeled], idx_cls1[:n_labeled]))\n",
    "idx_unlabeled = np.concatenate((idx_cls0[n_labeled:], idx_cls1[n_labeled:]))\n",
    "idx_target = np.concatenate((idx_cls0[n_trn:], idx_cls1[n_trn:]))\n",
    "\n",
    "# Computing NTK\n",
    "ntk = NTK(model_dict, X, A)\n",
    "attack = create_attack(idx_target, X, A, y, idx_labeled, idx_unlabeled, \n",
    "                       attack_params, seed)\n",
    "# Computing NTK\n",
    "ntk_l = list()\n",
    "acc_l = list()\n",
    "for eps in eps_l:\n",
    "    n_pert = int(round(eps * count_edges_for_idx(A.cpu(), idx_target)))\n",
    "    A_pert = attack.attack(n_pert).detach().clone()\n",
    "    ntk_pert = NTK(model_dict, X, A_pert, device=device_)\n",
    "    y_pred = ntk_pert(idx_labeled, idx_unlabeled, y)\n",
    "    acc_l.append(utils.accuracy(y_pred, y[idx_target]).cpu().item())\n",
    "    ntk_l.append(ntk_pert)"
   ]
  },
  {
   "cell_type": "code",
   "execution_count": 6,
   "metadata": {},
   "outputs": [
    {
     "name": "stdout",
     "output_type": "stream",
     "text": [
      "[0.7724999785423279, 0.7649999856948853, 0.7674999833106995, 0.7524999976158142, 0.7049999833106995, 0.6225000023841858, 0.5099999904632568, 0.4675000011920929, 0.4599999785423279, 0.7400000095367432, 0.8974999785423279]\n"
     ]
    }
   ],
   "source": [
    "print(acc_l)"
   ]
  },
  {
   "cell_type": "code",
   "execution_count": 23,
   "metadata": {},
   "outputs": [
    {
     "name": "stdout",
     "output_type": "stream",
     "text": [
      "tensor(0., device='cuda:0', dtype=torch.float64)\n",
      "tensor(1., device='cuda:0', dtype=torch.float64)\n",
      "tensor([245, 131,  96, 158, 240, 268, 383, 156, 458, 390, 179, 175, 357,  34,\n",
      "         22, 152, 161,  58, 477, 196,  79, 134, 172, 117, 460, 352, 156, 296,\n",
      "        347, 317, 361, 122, 247, 263, 424, 411, 384, 206, 163, 317, 356, 377,\n",
      "        340, 381, 107, 303, 315, 384, 105, 422, 226, 207, 490,  64, 216, 309,\n",
      "         99, 106, 258, 426, 477], device='cuda:0')\n",
      "tensor([740, 526, 661, 721, 786, 918, 710, 951, 657, 947, 643, 862, 526, 920,\n",
      "        982, 509, 628, 546, 590, 713, 974, 963, 665, 516, 966, 693, 940, 772,\n",
      "        751, 547, 815, 937, 623, 825, 930, 817, 873, 851, 775, 602, 731, 833,\n",
      "        586, 728, 986, 878, 692, 585, 546, 517, 862, 747, 963, 725, 984, 527,\n",
      "        759, 829, 974, 985, 813], device='cuda:0')\n",
      "tensor(1., device='cuda:0', dtype=torch.float64)\n",
      "tensor(0, device='cuda:0')\n",
      "tensor(0, device='cuda:0')\n"
     ]
    }
   ],
   "source": [
    "eps = 0.05\n",
    "n_pert = int(round(eps * count_edges_for_idx(A.cpu(), idx_target)))\n",
    "A_pert = attack.attack(n_pert).detach().clone()\n",
    "print((A_pert > 1).sum())"
   ]
  },
  {
   "cell_type": "code",
   "execution_count": 13,
   "metadata": {},
   "outputs": [
    {
     "ename": "RuntimeError",
     "evalue": "indices should be either on cpu or on the same device as the indexed tensor (cpu)",
     "output_type": "error",
     "traceback": [
      "\u001b[0;31m---------------------------------------------------------------------------\u001b[0m",
      "\u001b[0;31mRuntimeError\u001b[0m                              Traceback (most recent call last)",
      "\u001b[1;32m/ceph/ssd/staff/gosl/src/ntk-robust/debug.ipynb Cell 4\u001b[0m line \u001b[0;36m1\n\u001b[0;32m----> <a href='vscode-notebook-cell://ssh-remote%2Bgpu3/ceph/ssd/staff/gosl/src/ntk-robust/debug.ipynb#W3sdnNjb2RlLXJlbW90ZQ%3D%3D?line=0'>1</a>\u001b[0m count_edges_for_idx(A, idx_target)\n",
      "File \u001b[0;32m/ceph/ssd/staff/gosl/src/ntk-robust/common.py:58\u001b[0m, in \u001b[0;36mcount_edges_for_idx\u001b[0;34m(A, idx)\u001b[0m\n\u001b[1;32m     55\u001b[0m mapping \u001b[39m=\u001b[39m torch\u001b[39m.\u001b[39mzeros(A\u001b[39m.\u001b[39msize(dim\u001b[39m=\u001b[39m\u001b[39m0\u001b[39m))\u001b[39m.\u001b[39mbool()\n\u001b[1;32m     56\u001b[0m mapping[idx]\u001b[39m=\u001b[39m\u001b[39mTrue\u001b[39;00m \u001b[39m# True if node in idx\u001b[39;00m\n\u001b[0;32m---> 58\u001b[0m mask_col \u001b[39m=\u001b[39m mapping[col] \u001b[39m# True if col in idx\u001b[39;00m\n\u001b[1;32m     59\u001b[0m mask_row \u001b[39m=\u001b[39m mapping[row] \u001b[39m# True if row in idx\u001b[39;00m\n\u001b[1;32m     60\u001b[0m mask_row_col \u001b[39m=\u001b[39m torch\u001b[39m.\u001b[39mlogical_or(mask_col, mask_row) \u001b[39m# True if either row or col in idx -> edges connected to idx\u001b[39;00m\n",
      "\u001b[0;31mRuntimeError\u001b[0m: indices should be either on cpu or on the same device as the indexed tensor (cpu)"
     ]
    }
   ],
   "source": [
    "count_edges_for_idx(A, idx_target)"
   ]
  },
  {
   "cell_type": "code",
   "execution_count": null,
   "metadata": {},
   "outputs": [],
   "source": []
  }
 ],
 "metadata": {
  "kernelspec": {
   "display_name": "py311_ntk",
   "language": "python",
   "name": "python3"
  },
  "language_info": {
   "codemirror_mode": {
    "name": "ipython",
    "version": 3
   },
   "file_extension": ".py",
   "mimetype": "text/x-python",
   "name": "python",
   "nbconvert_exporter": "python",
   "pygments_lexer": "ipython3",
   "version": "3.11.5"
  }
 },
 "nbformat": 4,
 "nbformat_minor": 2
}
